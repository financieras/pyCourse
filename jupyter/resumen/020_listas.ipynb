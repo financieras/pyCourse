{
  "nbformat": 4,
  "nbformat_minor": 0,
  "metadata": {
    "colab": {
      "name": "resumen20.ipynb",
      "provenance": [],
      "authorship_tag": "ABX9TyPR2GeFIljeQ1ArJ99EhOCk",
      "include_colab_link": true
    },
    "kernelspec": {
      "name": "python3",
      "display_name": "Python 3"
    },
    "language_info": {
      "name": "python"
    }
  },
  "cells": [
    {
      "cell_type": "markdown",
      "metadata": {
        "id": "view-in-github",
        "colab_type": "text"
      },
      "source": [
        "<a href=\"https://colab.research.google.com/github/financieras/pyCourse/blob/main/jupyter/resumen/020_listas.ipynb\" target=\"_parent\"><img src=\"https://colab.research.google.com/assets/colab-badge.svg\" alt=\"Open In Colab\"/></a>"
      ]
    },
    {
      "cell_type": "markdown",
      "source": [
        "# Listas\n",
        "* Las listas son arrays o vectores.\n",
        "* El primer elemento de una lista tiene INDEX = 0\n",
        "* Son:\n",
        " - ordenadas\n",
        " - mutables → puede cambiar su valor"
      ],
      "metadata": {
        "id": "gWBLv0EGMG_L"
      }
    },
    {
      "cell_type": "code",
      "source": [
        "lista = [1, 2, 3]\n",
        "print(lista)\n",
        "print(type(lista))"
      ],
      "metadata": {
        "id": "qQXt-7WRZwUO",
        "outputId": "1c05e47d-fba5-486b-ab4c-c452561a141d",
        "colab": {
          "base_uri": "https://localhost:8080/"
        }
      },
      "execution_count": 1,
      "outputs": [
        {
          "output_type": "stream",
          "name": "stdout",
          "text": [
            "[1, 2, 3]\n",
            "<class 'list'>\n"
          ]
        }
      ]
    },
    {
      "cell_type": "code",
      "source": [
        "ciudades =[\"Roma\", \"Londres\", \"París\", \"Madrid\", \"Berlín\"]\n",
        "ciudades"
      ],
      "metadata": {
        "id": "RcYLZzt8MfVP",
        "outputId": "5234d4be-8408-4a17-a474-f77c70c0c650",
        "colab": {
          "base_uri": "https://localhost:8080/"
        }
      },
      "execution_count": 2,
      "outputs": [
        {
          "output_type": "execute_result",
          "data": {
            "text/plain": [
              "['Roma', 'Londres', 'París', 'Madrid', 'Berlín']"
            ]
          },
          "metadata": {},
          "execution_count": 2
        }
      ]
    },
    {
      "cell_type": "code",
      "source": [
        "ciudades[0]"
      ],
      "metadata": {
        "id": "rmTiq2q4MzoR",
        "outputId": "3b79c013-339c-46e1-d169-43d60b53104a",
        "colab": {
          "base_uri": "https://localhost:8080/",
          "height": 35
        }
      },
      "execution_count": 3,
      "outputs": [
        {
          "output_type": "execute_result",
          "data": {
            "text/plain": [
              "'Roma'"
            ],
            "application/vnd.google.colaboratory.intrinsic+json": {
              "type": "string"
            }
          },
          "metadata": {},
          "execution_count": 3
        }
      ]
    },
    {
      "cell_type": "code",
      "source": [
        "ciudades[1]"
      ],
      "metadata": {
        "id": "8mzZeKalM42z",
        "outputId": "07f561ce-8189-4ee5-e29e-05ee2049c82e",
        "colab": {
          "base_uri": "https://localhost:8080/",
          "height": 35
        }
      },
      "execution_count": 4,
      "outputs": [
        {
          "output_type": "execute_result",
          "data": {
            "text/plain": [
              "'Londres'"
            ],
            "application/vnd.google.colaboratory.intrinsic+json": {
              "type": "string"
            }
          },
          "metadata": {},
          "execution_count": 4
        }
      ]
    },
    {
      "cell_type": "code",
      "source": [
        "ciudades[4]"
      ],
      "metadata": {
        "id": "8UlCFDw3M7Pw",
        "outputId": "ba3a0984-c6f6-49ea-e2da-660576dcc055",
        "colab": {
          "base_uri": "https://localhost:8080/",
          "height": 35
        }
      },
      "execution_count": 5,
      "outputs": [
        {
          "output_type": "execute_result",
          "data": {
            "text/plain": [
              "'Berlín'"
            ],
            "application/vnd.google.colaboratory.intrinsic+json": {
              "type": "string"
            }
          },
          "metadata": {},
          "execution_count": 5
        }
      ]
    },
    {
      "cell_type": "code",
      "source": [
        "ciudades[-1]"
      ],
      "metadata": {
        "id": "jCz34uufM_IK",
        "outputId": "9fd42a32-abdd-4f4d-8ef0-b39b9f6693db",
        "colab": {
          "base_uri": "https://localhost:8080/",
          "height": 35
        }
      },
      "execution_count": 6,
      "outputs": [
        {
          "output_type": "execute_result",
          "data": {
            "text/plain": [
              "'Berlín'"
            ],
            "application/vnd.google.colaboratory.intrinsic+json": {
              "type": "string"
            }
          },
          "metadata": {},
          "execution_count": 6
        }
      ]
    },
    {
      "cell_type": "markdown",
      "source": [
        "## Slicing\n",
        "* Rebanadas\n",
        "* lista[inicio:final]"
      ],
      "metadata": {
        "id": "4fc3-uSgNmNi"
      }
    },
    {
      "cell_type": "code",
      "source": [
        "ciudades[0:3]   # el index = 3 no se incluye en el resultado"
      ],
      "metadata": {
        "id": "1UMAW4czNzUu",
        "outputId": "9a685cac-1960-4aa5-cd87-9a237282e67d",
        "colab": {
          "base_uri": "https://localhost:8080/"
        }
      },
      "execution_count": 7,
      "outputs": [
        {
          "output_type": "execute_result",
          "data": {
            "text/plain": [
              "['Roma', 'Londres', 'París']"
            ]
          },
          "metadata": {},
          "execution_count": 7
        }
      ]
    },
    {
      "cell_type": "code",
      "source": [
        "ciudades[:3]   # si no se indica el inicio se supone que es cero"
      ],
      "metadata": {
        "id": "iiq0d-uvONOe",
        "outputId": "49044e69-94ae-41dd-b999-d2e8fdf9ef72",
        "colab": {
          "base_uri": "https://localhost:8080/"
        }
      },
      "execution_count": 8,
      "outputs": [
        {
          "output_type": "execute_result",
          "data": {
            "text/plain": [
              "['Roma', 'Londres', 'París']"
            ]
          },
          "metadata": {},
          "execution_count": 8
        }
      ]
    },
    {
      "cell_type": "code",
      "source": [
        "ciudades[2:]   # si no se indica el final se supone que es hasta el final de la lista"
      ],
      "metadata": {
        "id": "1O49HlriOWln",
        "outputId": "defc1915-f40b-4d41-dcae-3bc2750d423c",
        "colab": {
          "base_uri": "https://localhost:8080/"
        }
      },
      "execution_count": 9,
      "outputs": [
        {
          "output_type": "execute_result",
          "data": {
            "text/plain": [
              "['París', 'Madrid', 'Berlín']"
            ]
          },
          "metadata": {},
          "execution_count": 9
        }
      ]
    },
    {
      "cell_type": "code",
      "source": [
        "ciudades[:]   # toda las lista"
      ],
      "metadata": {
        "id": "u6X_Gfb5Ofdf",
        "outputId": "c167d178-5e30-4437-95b0-1e12c7c331f0",
        "colab": {
          "base_uri": "https://localhost:8080/"
        }
      },
      "execution_count": 10,
      "outputs": [
        {
          "output_type": "execute_result",
          "data": {
            "text/plain": [
              "['Roma', 'Londres', 'París', 'Madrid', 'Berlín']"
            ]
          },
          "metadata": {},
          "execution_count": 10
        }
      ]
    },
    {
      "cell_type": "markdown",
      "source": [
        "## Operaciones y métodos con listas"
      ],
      "metadata": {
        "id": "8G0A1qr3PAtd"
      }
    },
    {
      "cell_type": "code",
      "source": [
        "ciudades.append(\"Amsterdam\")   # añade un elemento al final\n",
        "ciudades"
      ],
      "metadata": {
        "id": "d_XZ27fZPEPA",
        "outputId": "2d40d8fd-b845-4e2c-d966-2a1126f5e335",
        "colab": {
          "base_uri": "https://localhost:8080/"
        }
      },
      "execution_count": 11,
      "outputs": [
        {
          "output_type": "execute_result",
          "data": {
            "text/plain": [
              "['Roma', 'Londres', 'París', 'Madrid', 'Berlín', 'Amsterdam']"
            ]
          },
          "metadata": {},
          "execution_count": 11
        }
      ]
    },
    {
      "cell_type": "code",
      "source": [
        "ciudades.insert(1, \"Lisboa\")   # añadimos el nuevo elemento en la posición indicada\n",
        "ciudades"
      ],
      "metadata": {
        "id": "WKG4OhH8PkcY",
        "outputId": "eb4cb19a-bf65-498b-e46c-8d7e6152b6f7",
        "colab": {
          "base_uri": "https://localhost:8080/"
        }
      },
      "execution_count": 12,
      "outputs": [
        {
          "output_type": "execute_result",
          "data": {
            "text/plain": [
              "['Roma', 'Lisboa', 'Londres', 'París', 'Madrid', 'Berlín', 'Amsterdam']"
            ]
          },
          "metadata": {},
          "execution_count": 12
        }
      ]
    },
    {
      "cell_type": "code",
      "source": [
        "urbes = [\"NY\", \"Tokyo\", ]\n",
        "ciudades + urbes   # concatenar listas"
      ],
      "metadata": {
        "id": "6eWioBpoQUpE",
        "outputId": "4b15fed0-1db8-411b-9e7e-00fb1aaca58c",
        "colab": {
          "base_uri": "https://localhost:8080/"
        }
      },
      "execution_count": 13,
      "outputs": [
        {
          "output_type": "execute_result",
          "data": {
            "text/plain": [
              "['Roma',\n",
              " 'Lisboa',\n",
              " 'Londres',\n",
              " 'París',\n",
              " 'Madrid',\n",
              " 'Berlín',\n",
              " 'Amsterdam',\n",
              " 'NY',\n",
              " 'Tokyo']"
            ]
          },
          "metadata": {},
          "execution_count": 13
        }
      ]
    },
    {
      "cell_type": "code",
      "source": [
        "anida = [ciudades, urbes]   # las listas anidadas son listas de listas\n",
        "anida"
      ],
      "metadata": {
        "id": "fRleKp66RBib",
        "outputId": "bcebfa5c-043a-47de-eb40-302bbbe8f1f8",
        "colab": {
          "base_uri": "https://localhost:8080/"
        }
      },
      "execution_count": 14,
      "outputs": [
        {
          "output_type": "execute_result",
          "data": {
            "text/plain": [
              "[['Roma', 'Lisboa', 'Londres', 'París', 'Madrid', 'Berlín', 'Amsterdam'],\n",
              " ['NY', 'Tokyo']]"
            ]
          },
          "metadata": {},
          "execution_count": 14
        }
      ]
    },
    {
      "cell_type": "markdown",
      "source": [
        "### Eliminar elementos"
      ],
      "metadata": {
        "id": "L2eb1FBeR3gY"
      }
    },
    {
      "cell_type": "code",
      "source": [
        "ciudades = ['Roma', 'Lisboa', 'Londres', 'París', 'Madrid', 'Berlín', 'Amsterdam']\n",
        "print(ciudades)\n",
        "ciudades.pop()   # pop elimina el último elemento de la lista\n",
        "ciudades"
      ],
      "metadata": {
        "id": "UH47r7WBRZp1",
        "outputId": "784ba07c-e2e1-4efe-ec8f-e08a414e3ede",
        "colab": {
          "base_uri": "https://localhost:8080/"
        }
      },
      "execution_count": 15,
      "outputs": [
        {
          "output_type": "stream",
          "name": "stdout",
          "text": [
            "['Roma', 'Lisboa', 'Londres', 'París', 'Madrid', 'Berlín', 'Amsterdam']\n"
          ]
        },
        {
          "output_type": "execute_result",
          "data": {
            "text/plain": [
              "['Roma', 'Lisboa', 'Londres', 'París', 'Madrid', 'Berlín']"
            ]
          },
          "metadata": {},
          "execution_count": 15
        }
      ]
    },
    {
      "cell_type": "code",
      "source": [
        "ciudades.pop(0)   # elimina el elemento indicado por su index"
      ],
      "metadata": {
        "id": "Y20osipLSwad",
        "outputId": "293181f9-8fa9-49df-8c22-ede613845d46",
        "colab": {
          "base_uri": "https://localhost:8080/",
          "height": 35
        }
      },
      "execution_count": 16,
      "outputs": [
        {
          "output_type": "execute_result",
          "data": {
            "text/plain": [
              "'Roma'"
            ],
            "application/vnd.google.colaboratory.intrinsic+json": {
              "type": "string"
            }
          },
          "metadata": {},
          "execution_count": 16
        }
      ]
    },
    {
      "cell_type": "code",
      "source": [
        "ciudades"
      ],
      "metadata": {
        "id": "z-MSzZfKS_-D",
        "outputId": "835de3bd-e5c4-4870-b8aa-f69679e8ea23",
        "colab": {
          "base_uri": "https://localhost:8080/"
        }
      },
      "execution_count": 17,
      "outputs": [
        {
          "output_type": "execute_result",
          "data": {
            "text/plain": [
              "['Lisboa', 'Londres', 'París', 'Madrid', 'Berlín']"
            ]
          },
          "metadata": {},
          "execution_count": 17
        }
      ]
    },
    {
      "cell_type": "code",
      "source": [
        "ciudades.remove(\"Lisboa\")   # elimina el elemento indicado\n",
        "ciudades"
      ],
      "metadata": {
        "id": "pUyLF-xMR_8F",
        "outputId": "51c9c9cf-ce21-48e3-b603-64dcef32d380",
        "colab": {
          "base_uri": "https://localhost:8080/"
        }
      },
      "execution_count": 18,
      "outputs": [
        {
          "output_type": "execute_result",
          "data": {
            "text/plain": [
              "['Londres', 'París', 'Madrid', 'Berlín']"
            ]
          },
          "metadata": {},
          "execution_count": 18
        }
      ]
    },
    {
      "cell_type": "markdown",
      "source": [
        "# Ordenar una lista"
      ],
      "metadata": {
        "id": "Aw_e_PNNTq55"
      }
    },
    {
      "cell_type": "code",
      "source": [
        "ciudades.sort()   # ordena alfabéticamente\n",
        "ciudades"
      ],
      "metadata": {
        "id": "nkrSPlXBTeNh",
        "outputId": "b94581ca-b4be-4858-a9b5-d00a40a5cb93",
        "colab": {
          "base_uri": "https://localhost:8080/"
        }
      },
      "execution_count": 19,
      "outputs": [
        {
          "output_type": "execute_result",
          "data": {
            "text/plain": [
              "['Berlín', 'Londres', 'Madrid', 'París']"
            ]
          },
          "metadata": {},
          "execution_count": 19
        }
      ]
    },
    {
      "cell_type": "code",
      "source": [
        "numeros = [10, 4, 7, 2, 1, 6, 9]\n",
        "numeros"
      ],
      "metadata": {
        "id": "naYs036ATzY8",
        "outputId": "032b06b0-0091-4454-853c-f96cd7d7d465",
        "colab": {
          "base_uri": "https://localhost:8080/"
        }
      },
      "execution_count": 20,
      "outputs": [
        {
          "output_type": "execute_result",
          "data": {
            "text/plain": [
              "[10, 4, 7, 2, 1, 6, 9]"
            ]
          },
          "metadata": {},
          "execution_count": 20
        }
      ]
    },
    {
      "cell_type": "code",
      "source": [
        "numeros.sort()\n",
        "numeros"
      ],
      "metadata": {
        "id": "UanK8oO5T-gY",
        "outputId": "74165fae-54dc-4fe0-fd52-1f2909a8c242",
        "colab": {
          "base_uri": "https://localhost:8080/"
        }
      },
      "execution_count": 21,
      "outputs": [
        {
          "output_type": "execute_result",
          "data": {
            "text/plain": [
              "[1, 2, 4, 6, 7, 9, 10]"
            ]
          },
          "metadata": {},
          "execution_count": 21
        }
      ]
    },
    {
      "cell_type": "code",
      "source": [
        "numeros.sort(reverse = True)\n",
        "numeros"
      ],
      "metadata": {
        "id": "79MshMtTUEBS",
        "outputId": "20fae864-bc10-4d0f-992d-6b54079cd5b5",
        "colab": {
          "base_uri": "https://localhost:8080/"
        }
      },
      "execution_count": 22,
      "outputs": [
        {
          "output_type": "execute_result",
          "data": {
            "text/plain": [
              "[10, 9, 7, 6, 4, 2, 1]"
            ]
          },
          "metadata": {},
          "execution_count": 22
        }
      ]
    },
    {
      "cell_type": "markdown",
      "source": [
        "### Cambiar valores de una lista"
      ],
      "metadata": {
        "id": "gmDUbvl7UVQs"
      }
    },
    {
      "cell_type": "code",
      "source": [
        "print(numeros)\n",
        "numeros[0] = 100\n",
        "numeros"
      ],
      "metadata": {
        "id": "j_wxbKFKUaZr",
        "outputId": "0fe876a6-4caf-4a61-9d2a-6207ad721a29",
        "colab": {
          "base_uri": "https://localhost:8080/"
        }
      },
      "execution_count": 23,
      "outputs": [
        {
          "output_type": "stream",
          "name": "stdout",
          "text": [
            "[10, 9, 7, 6, 4, 2, 1]\n"
          ]
        },
        {
          "output_type": "execute_result",
          "data": {
            "text/plain": [
              "[100, 9, 7, 6, 4, 2, 1]"
            ]
          },
          "metadata": {},
          "execution_count": 23
        }
      ]
    },
    {
      "cell_type": "markdown",
      "source": [
        "### Copiar una lista"
      ],
      "metadata": {
        "id": "dgMVq-XHUn9d"
      }
    },
    {
      "cell_type": "code",
      "source": [
        "candidatos = ciudades.copy()   # usando copy\n",
        "candidatos"
      ],
      "metadata": {
        "id": "l1MIb1sKUrpa",
        "outputId": "fc817b0b-cd44-410d-87f5-b946e10364cd",
        "colab": {
          "base_uri": "https://localhost:8080/"
        }
      },
      "execution_count": 24,
      "outputs": [
        {
          "output_type": "execute_result",
          "data": {
            "text/plain": [
              "['Berlín', 'Londres', 'Madrid', 'París']"
            ]
          },
          "metadata": {},
          "execution_count": 24
        }
      ]
    },
    {
      "cell_type": "code",
      "source": [
        "sedes = ciudades[:]   # usando slicing\n",
        "sedes"
      ],
      "metadata": {
        "id": "Mhk5j5fMU--1",
        "outputId": "bbc77462-70d6-4830-816f-b0c18c95ad12",
        "colab": {
          "base_uri": "https://localhost:8080/"
        }
      },
      "execution_count": 25,
      "outputs": [
        {
          "output_type": "execute_result",
          "data": {
            "text/plain": [
              "['Berlín', 'Londres', 'Madrid', 'París']"
            ]
          },
          "metadata": {},
          "execution_count": 25
        }
      ]
    },
    {
      "cell_type": "markdown",
      "source": [
        "#### Copia incorrecta de una lista\n",
        "* Este método no se debe usar ya que en realidad no se está haciendo una copia de una lista sino que estamos asignando dos nombres a una misma lista ya que ambos ocupan la misma dirección de memoria.\n",
        "* El gran inconveniente de este método es que si luego cambiamos un elemento en una lista también se cambiará en la otra ya que en realidad se trata de la misma lista.\n"
      ],
      "metadata": {
        "id": "GrOUcEvaVZQS"
      }
    },
    {
      "cell_type": "code",
      "source": [
        "Julia = [\"Rojo\", \"Verde\", \"Azul\"]   # colores favoritos de Julia\n",
        "print(\"Colores favoritos de Julia:\", Julia)\n",
        "\n",
        "Pablo = Julia   # método incorrecto de hacer una copia de listas\n",
        "\n",
        "print(\"Colores favoritos de Pablo:\", Pablo)"
      ],
      "metadata": {
        "id": "WyXlTjohV4bV",
        "outputId": "4aa63811-b7bd-4cba-80d1-127bcd98e4d1",
        "colab": {
          "base_uri": "https://localhost:8080/"
        }
      },
      "execution_count": 26,
      "outputs": [
        {
          "output_type": "stream",
          "name": "stdout",
          "text": [
            "Colores favoritos de Julia: ['Rojo', 'Verde', 'Azul']\n",
            "Colores favoritos de Pablo: ['Rojo', 'Verde', 'Azul']\n"
          ]
        }
      ]
    },
    {
      "cell_type": "code",
      "source": [
        "Julia[0] = \"Rosa\"   # Julia cambia de opinión, ahora no le gusta el Rojo sino el Rosa\n",
        "print(\"Colores favoritos de Julia:\", Julia)\n",
        "print(\"Colores favoritos de Pablo:\", Pablo)   # También ha cambiado el color favorito para Pablo"
      ],
      "metadata": {
        "id": "3Klii3SkWfLC",
        "outputId": "899aeb19-9c79-4c9b-c50e-8c7e3be2a082",
        "colab": {
          "base_uri": "https://localhost:8080/"
        }
      },
      "execution_count": 27,
      "outputs": [
        {
          "output_type": "stream",
          "name": "stdout",
          "text": [
            "Colores favoritos de Julia: ['Rosa', 'Verde', 'Azul']\n",
            "Colores favoritos de Pablo: ['Rosa', 'Verde', 'Azul']\n"
          ]
        }
      ]
    },
    {
      "cell_type": "code",
      "source": [
        "# vemos que ambas listas no son independientes, al hacer la copia se trata de la misma lista\n",
        "print(id(Julia))   # vemos que el id de ambas listas apunta a la misma dirección de memoria\n",
        "print(id(Pablo))   # en realidad se trata de la misma lista"
      ],
      "metadata": {
        "id": "qkLTpb_IYR_K",
        "outputId": "348da92d-cf9f-49a6-a80a-8fb8070d48fc",
        "colab": {
          "base_uri": "https://localhost:8080/"
        }
      },
      "execution_count": 28,
      "outputs": [
        {
          "output_type": "stream",
          "name": "stdout",
          "text": [
            "132403372224320\n",
            "132403372224320\n"
          ]
        }
      ]
    }
  ]
}