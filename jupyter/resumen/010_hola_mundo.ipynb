{
  "nbformat": 4,
  "nbformat_minor": 0,
  "metadata": {
    "colab": {
      "name": "resumen10.ipynb",
      "provenance": [],
      "include_colab_link": true
    },
    "kernelspec": {
      "name": "python3",
      "display_name": "Python 3"
    },
    "language_info": {
      "name": "python"
    }
  },
  "cells": [
    {
      "cell_type": "markdown",
      "metadata": {
        "id": "view-in-github",
        "colab_type": "text"
      },
      "source": [
        "<a href=\"https://colab.research.google.com/github/financieras/pyCourse/blob/main/jupyter/resumen/010_hola_mundo.ipynb\" target=\"_parent\"><img src=\"https://colab.research.google.com/assets/colab-badge.svg\" alt=\"Open In Colab\"/></a>"
      ]
    },
    {
      "cell_type": "markdown",
      "source": [
        "# Hola mundo"
      ],
      "metadata": {
        "id": "54oFeaZ6Tne7"
      }
    },
    {
      "cell_type": "code",
      "source": [
        "print(\"Hello world!\")"
      ],
      "metadata": {
        "id": "qXbltVZwTsEV"
      },
      "execution_count": null,
      "outputs": []
    },
    {
      "cell_type": "code",
      "source": [
        "\"Hola mundo\""
      ],
      "metadata": {
        "id": "MsUmggWdT4cs"
      },
      "execution_count": null,
      "outputs": []
    },
    {
      "cell_type": "code",
      "source": [
        "# esto es un comentario\n",
        "print('New York')   # también podemos usar comillas simples"
      ],
      "metadata": {
        "id": "w7IRj3ueU02m"
      },
      "execution_count": null,
      "outputs": []
    },
    {
      "cell_type": "markdown",
      "source": [
        "# Tipos de datos"
      ],
      "metadata": {
        "id": "CFNWq8bnUvfH"
      }
    },
    {
      "cell_type": "code",
      "source": [
        "print(25)    # este es un número entero de tipo int (integer)"
      ],
      "metadata": {
        "id": "Dl-_ffXUUJux"
      },
      "execution_count": null,
      "outputs": []
    },
    {
      "cell_type": "code",
      "source": [
        "type(25)     # función que nos dice el tipo de dato"
      ],
      "metadata": {
        "id": "Y_Tdi8TvbSv9"
      },
      "execution_count": null,
      "outputs": []
    },
    {
      "cell_type": "code",
      "source": [
        "print(3.8)   # este es un número decimal de tipo float\n",
        "type (3.8)   # en español se llaman \"números de coma flotante\""
      ],
      "metadata": {
        "id": "EVCSy5-_bYr5"
      },
      "execution_count": null,
      "outputs": []
    },
    {
      "cell_type": "code",
      "source": [
        "print(\"Madrid\")        # esto es un string, una cadena alfanumérica\n",
        "print(\"Madrid 2036\")   # esto es otro string\n",
        "type('Madrid 2036')"
      ],
      "metadata": {
        "id": "40qlTyQQV-47"
      },
      "execution_count": null,
      "outputs": []
    },
    {
      "cell_type": "code",
      "source": [
        "print(\"5\")\n",
        "type(\"5\")"
      ],
      "metadata": {
        "id": "4-YI3-vQK4qh"
      },
      "execution_count": null,
      "outputs": []
    },
    {
      "cell_type": "code",
      "source": [
        "5 >= 2   # Operador lógico >, analiza la condición y da True o False"
      ],
      "metadata": {
        "id": "NCBCXrPOZMSa"
      },
      "execution_count": null,
      "outputs": []
    },
    {
      "cell_type": "code",
      "source": [
        "type(True)   # Boolean"
      ],
      "metadata": {
        "id": "SmKMhC0IZCO2"
      },
      "execution_count": null,
      "outputs": []
    },
    {
      "cell_type": "code",
      "source": [
        "type(3<2)"
      ],
      "metadata": {
        "id": "qnzCKqiKLRdE"
      },
      "execution_count": null,
      "outputs": []
    },
    {
      "cell_type": "code",
      "source": [
        "2 == 3    # Operador lógico de igualdad"
      ],
      "metadata": {
        "id": "bRXemNM2ZaMA"
      },
      "execution_count": null,
      "outputs": []
    },
    {
      "cell_type": "code",
      "source": [
        "type(2==3)   # primero se evalúa la condición lógica que da False"
      ],
      "metadata": {
        "id": "vy-8X1yoZGn8"
      },
      "execution_count": null,
      "outputs": []
    },
    {
      "cell_type": "markdown",
      "source": [
        "## Diferencia entre integer y string"
      ],
      "metadata": {
        "id": "XqnOWlU0YYpx"
      }
    },
    {
      "cell_type": "code",
      "source": [
        "print(5 == '5')"
      ],
      "metadata": {
        "id": "uJqKsK6RYeFf"
      },
      "execution_count": null,
      "outputs": []
    },
    {
      "cell_type": "markdown",
      "source": [
        "# Operaciones algebráicas"
      ],
      "metadata": {
        "id": "EVZFkx-HXAUt"
      }
    },
    {
      "cell_type": "code",
      "source": [
        "print(2 + 3)   # suma\n",
        "print(10 + 5)"
      ],
      "metadata": {
        "id": "ZvuVj_ZiXFar"
      },
      "execution_count": null,
      "outputs": []
    },
    {
      "cell_type": "code",
      "source": [
        "4 - 6   # resta"
      ],
      "metadata": {
        "id": "8TNTAvrfXI-L"
      },
      "execution_count": null,
      "outputs": []
    },
    {
      "cell_type": "code",
      "source": [
        "9 * 3    # no se muestra ya que no lleva print\n",
        "12 / 4   # solo se muestra el último. Al dividir siempre da un float"
      ],
      "metadata": {
        "id": "tldi8tFeXcXS"
      },
      "execution_count": null,
      "outputs": []
    },
    {
      "cell_type": "code",
      "source": [
        "print(9 * 3)     # producto\n",
        "print(11 / 3)    # división\n",
        "print(11 // 3)   # división entera (no es redondeo)\n",
        "print(11 % 3)    # resto (módulo)\n",
        "print(2 ** 3)    # potencias\n",
        "print(pow(2,3))  # potencias"
      ],
      "metadata": {
        "id": "xjD52fBqX3Oe"
      },
      "execution_count": null,
      "outputs": []
    },
    {
      "cell_type": "markdown",
      "source": [
        "# El operador punto\n",
        "Se aplican métodos a objetos.\n",
        "\n",
        "\n",
        "objeto.método()"
      ],
      "metadata": {
        "id": "JGfAekCZdO-M"
      }
    },
    {
      "cell_type": "code",
      "source": [
        "\"Hola mundo\".upper()   # todo a mayúsculas"
      ],
      "metadata": {
        "id": "dgE2UpR5daRQ"
      },
      "execution_count": null,
      "outputs": []
    },
    {
      "cell_type": "code",
      "source": [
        "\"Vacaciones en Roma\".lower()   # todo a minusculas"
      ],
      "metadata": {
        "id": "DnWpMxHQdqSR"
      },
      "execution_count": null,
      "outputs": []
    },
    {
      "cell_type": "code",
      "source": [
        "usuario = 'ana ruiz'   # creamos una variable\n",
        "usuario.title()        # las primeras letras a mayúsculas y las demás a minúculas"
      ],
      "metadata": {
        "id": "NL7HGC16d-90"
      },
      "execution_count": null,
      "outputs": []
    },
    {
      "cell_type": "code",
      "source": [
        "profesion = 'abogado laboralista'\n",
        "profesion.count('a')    # contar caracteres"
      ],
      "metadata": {
        "id": "wQ1WKv3UgvEh"
      },
      "execution_count": null,
      "outputs": []
    },
    {
      "cell_type": "code",
      "source": [
        "cargo = 'encargado'\n",
        "cargo.replace('o', 'a')   # reemplazar caracteres"
      ],
      "metadata": {
        "id": "2cLTg-_rhmmL"
      },
      "execution_count": null,
      "outputs": []
    },
    {
      "cell_type": "markdown",
      "source": [
        "# Variables"
      ],
      "metadata": {
        "id": "wcdJYliPTWOy"
      }
    },
    {
      "cell_type": "code",
      "execution_count": null,
      "metadata": {
        "id": "HOHtK_MjS_1e"
      },
      "outputs": [],
      "source": [
        "x = 5\n",
        "print(x)\n",
        "print(2*x+7)\n",
        "2*(+x7)        # los paréntesis tienen prioridad"
      ]
    },
    {
      "cell_type": "code",
      "source": [
        "nombre = \"Ana\"\n",
        "apellido = \"Ruiz\"\n",
        "nombre + apellido   # concatenando dos strings\n"
      ],
      "metadata": {
        "id": "N-g_xSTAj8aK"
      },
      "execution_count": null,
      "outputs": []
    },
    {
      "cell_type": "code",
      "source": [
        "nombre + \" \" + apellido   # añadimos un espacio en medio"
      ],
      "metadata": {
        "id": "SLLuhIEwkVth"
      },
      "execution_count": null,
      "outputs": []
    },
    {
      "cell_type": "code",
      "source": [
        "# el sistema f para dar formato\n",
        "edad = 25\n",
        "print(f\"Me llamo {nombre} {apellido} y mañana cumpliré {edad+1} años.\")"
      ],
      "metadata": {
        "id": "VuHjYl7TkcyK"
      },
      "execution_count": null,
      "outputs": []
    },
    {
      "cell_type": "markdown",
      "metadata": {
        "id": "u-fQYalFOZAI"
      },
      "source": [
        "## Contadores\n",
        "Un contador es una variable que se va incrementando, habitualmente de uno en uno."
      ]
    },
    {
      "cell_type": "code",
      "metadata": {
        "id": "-tO8OuDDOaJ6"
      },
      "source": [
        "vidas = 3                  # comenzamos un juego con 3 vidas\n",
        "print(vidas)\n",
        "\n",
        "vidas = vidas + 1          # si en el juego ganamos una vida podemos incrementar su valor en uno\n",
        "print(vidas)\n",
        "\n",
        "vidas += 1                 # esta es una forma abreviada de escribir lo mismo que antes. Incrementa las vidas en una más.\n",
        "print(vidas)\n",
        "\n",
        "vidas -= 1                 # perdemos una vida. Es una forma abreviada de escribir   vidas = vidas - 1\n",
        "print(vidas)"
      ],
      "execution_count": null,
      "outputs": []
    },
    {
      "cell_type": "markdown",
      "metadata": {
        "id": "EbzmAFhQPftj"
      },
      "source": [
        "# Concatenar"
      ]
    },
    {
      "cell_type": "code",
      "metadata": {
        "id": "eI5GkcAKPinX"
      },
      "source": [
        "a = \"Buenos \"\n",
        "b = \"Aires\"\n",
        "print(a + b + \" es la capital de Argentina.\")"
      ],
      "execution_count": null,
      "outputs": []
    },
    {
      "cell_type": "code",
      "metadata": {
        "id": "ZNi__D4vQBD3"
      },
      "source": [
        "print(\"1\" + \"2\")"
      ],
      "execution_count": null,
      "outputs": []
    },
    {
      "cell_type": "code",
      "metadata": {
        "id": "5HoGNWvGRQX1"
      },
      "source": [
        "#print( \"Tengo\" + 15)        # ERROR\n",
        "print(\"Tengo \" + str(15+1))\n",
        "print(f\"Tengo {15+1}\")"
      ],
      "execution_count": null,
      "outputs": []
    },
    {
      "cell_type": "markdown",
      "metadata": {
        "id": "-ZCIZpBpQTa1"
      },
      "source": [
        "# Imprimir"
      ]
    },
    {
      "cell_type": "code",
      "metadata": {
        "id": "QMB-OKgxQWpP"
      },
      "source": [
        "nombre = \"Ana\"\n",
        "edad = 14\n",
        "print(\"Hola, me llamo \" + nombre + \" y tengo \" + str(edad) +\" años.\")\n",
        "print(\"Hola, me llamo\", nombre, \"y tengo\", edad, \"años.\")\n",
        "print(f\"Hola, me llamo {nombre} y tengo {edad} años.\")"
      ],
      "execution_count": null,
      "outputs": []
    },
    {
      "cell_type": "markdown",
      "metadata": {
        "id": "YCSSHvODS4pL"
      },
      "source": [
        "# Introduciendo datos con ```input()```\n",
        "Con la función `input` conseguimos capturar lo que el usuario escriba por teclado.  \n",
        "Input siempre captura un **string**. Si introducimos un número 5 lo que captura es '5'."
      ]
    },
    {
      "cell_type": "code",
      "metadata": {
        "id": "Zs8ZO7V1S5pD"
      },
      "source": [
        "nombre = input(\"¿Cómo te llamas? \")          # recogemos el nombre en una variable, esto hace que se recuerde y se pueda usar luego\n",
        "nota = float(input(\"Nota del examen: \"))     # float convierte el str a un número con decimales. Si fuera int convierte a un entero.\n",
        "print(f\"Buenos días {nombre}, en el examen tienes una nota de {nota}.\")"
      ],
      "execution_count": null,
      "outputs": []
    }
  ]
}