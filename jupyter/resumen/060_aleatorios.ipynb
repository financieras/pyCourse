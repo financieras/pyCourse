{
  "nbformat": 4,
  "nbformat_minor": 0,
  "metadata": {
    "colab": {
      "name": "resumen60.ipynb",
      "provenance": [],
      "authorship_tag": "ABX9TyPI3I3WbJiIN6BYnHmQYChP",
      "include_colab_link": true
    },
    "kernelspec": {
      "name": "python3",
      "display_name": "Python 3"
    },
    "language_info": {
      "name": "python"
    }
  },
  "cells": [
    {
      "cell_type": "markdown",
      "metadata": {
        "id": "view-in-github",
        "colab_type": "text"
      },
      "source": [
        "<a href=\"https://colab.research.google.com/github/financieras/pyCourse/blob/main/jupyter/resumen/060_aleatorios.ipynb\" target=\"_parent\"><img src=\"https://colab.research.google.com/assets/colab-badge.svg\" alt=\"Open In Colab\"/></a>"
      ]
    },
    {
      "cell_type": "markdown",
      "source": [
        "# Generación de números aleatorios"
      ],
      "metadata": {
        "id": "jTThBDZ9d1Di"
      }
    },
    {
      "cell_type": "code",
      "source": [
        "import random   # por costumbre, los import van al inicio del programa\n",
        "random.random()"
      ],
      "metadata": {
        "colab": {
          "base_uri": "https://localhost:8080/"
        },
        "id": "eNd6_xKpd7sw",
        "outputId": "0bed9c7d-fd9c-4a10-bc57-56d1cdca3de6"
      },
      "execution_count": 1,
      "outputs": [
        {
          "output_type": "execute_result",
          "data": {
            "text/plain": [
              "0.6089743760473804"
            ]
          },
          "metadata": {},
          "execution_count": 1
        }
      ]
    },
    {
      "cell_type": "code",
      "source": [
        "random.randint(1,5)   # incluidos ambos extremos"
      ],
      "metadata": {
        "colab": {
          "base_uri": "https://localhost:8080/"
        },
        "id": "mZwSKC9WeCjo",
        "outputId": "b050dc27-3d14-4a6e-b022-e17e3a688e90"
      },
      "execution_count": 2,
      "outputs": [
        {
          "output_type": "execute_result",
          "data": {
            "text/plain": [
              "5"
            ]
          },
          "metadata": {},
          "execution_count": 2
        }
      ]
    },
    {
      "cell_type": "markdown",
      "source": [
        "## Lista de números aleatorios sin repetición"
      ],
      "metadata": {
        "id": "GUh7lIxTgDEC"
      }
    },
    {
      "cell_type": "code",
      "source": [
        "random.sample([1,2,3,4,5,6], 3)   # elige 3 elementos de la lista, sin repetición"
      ],
      "metadata": {
        "colab": {
          "base_uri": "https://localhost:8080/"
        },
        "id": "l9NouIwHeUXo",
        "outputId": "9895cefa-8770-4019-a57b-595dd10d13f4"
      },
      "execution_count": 3,
      "outputs": [
        {
          "output_type": "execute_result",
          "data": {
            "text/plain": [
              "[3, 1, 5]"
            ]
          },
          "metadata": {},
          "execution_count": 3
        }
      ]
    },
    {
      "cell_type": "code",
      "source": [
        "random.sample(range(1,7), 3)   # hace lo mismo que la expresión anterior"
      ],
      "metadata": {
        "colab": {
          "base_uri": "https://localhost:8080/"
        },
        "id": "ikl30AiVfC40",
        "outputId": "721101ee-1343-496a-fe8c-3db8a88545d4"
      },
      "execution_count": 4,
      "outputs": [
        {
          "output_type": "execute_result",
          "data": {
            "text/plain": [
              "[5, 1, 2]"
            ]
          },
          "metadata": {},
          "execution_count": 4
        }
      ]
    },
    {
      "cell_type": "markdown",
      "source": [
        "## Lista de números aleatorios con posible repetición"
      ],
      "metadata": {
        "id": "YLtuzWrcf793"
      }
    },
    {
      "cell_type": "code",
      "source": [
        "lista = []\n",
        "\n",
        "for i in range(3):\n",
        "    n = random.randint(1,6)\n",
        "    lista.append(n)\n",
        "\n",
        "lista"
      ],
      "metadata": {
        "colab": {
          "base_uri": "https://localhost:8080/"
        },
        "id": "M8Y_ZFw5fgRj",
        "outputId": "9ab8e013-5b14-49ba-dbcc-5fd190e49e55"
      },
      "execution_count": 5,
      "outputs": [
        {
          "output_type": "execute_result",
          "data": {
            "text/plain": [
              "[2, 6, 2]"
            ]
          },
          "metadata": {},
          "execution_count": 5
        }
      ]
    },
    {
      "cell_type": "markdown",
      "metadata": {
        "id": "MgYizeHXBw4q"
      },
      "source": [
        "## Elegir aleatoriamente de una lista\n",
        "Dada una lista podemos elegir uno de sus elementos de forma aleatoria usando la función ```choice```."
      ]
    },
    {
      "cell_type": "code",
      "metadata": {
        "colab": {
          "base_uri": "https://localhost:8080/"
        },
        "id": "Q0AfMQ21B8f-",
        "outputId": "8974ec8e-99a5-4034-dd26-55feb4abb070"
      },
      "source": [
        "from random import choice   # de la librería random importamos únicamente la función choice\n",
        "\n",
        "lista = [\"América\", \"Europa\", \"África\", \"Oceanía\", \"Asia\"]\n",
        "print(\"Vamos a elegir de forma aleatoria un continente donde vivir.\")\n",
        "elegido = choice(lista)\n",
        "print(\"Me gustaría vivir en\", elegido)"
      ],
      "execution_count": 8,
      "outputs": [
        {
          "output_type": "stream",
          "name": "stdout",
          "text": [
            "Vamos a elegir de forma aleatoria un continente donde vivir.\n",
            "Me gustaría vivir en Asia\n"
          ]
        }
      ]
    }
  ]
}