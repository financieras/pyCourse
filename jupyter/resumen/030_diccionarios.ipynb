{
  "nbformat": 4,
  "nbformat_minor": 0,
  "metadata": {
    "colab": {
      "name": "resumen30.ipynb",
      "provenance": [],
      "authorship_tag": "ABX9TyM7qHWIO2a3eXU3J3Sg6NZg",
      "include_colab_link": true
    },
    "kernelspec": {
      "name": "python3",
      "display_name": "Python 3"
    },
    "language_info": {
      "name": "python"
    }
  },
  "cells": [
    {
      "cell_type": "markdown",
      "metadata": {
        "id": "view-in-github",
        "colab_type": "text"
      },
      "source": [
        "<a href=\"https://colab.research.google.com/github/financieras/pyCourse/blob/main/jupyter/resumen/030_diccionarios.ipynb\" target=\"_parent\"><img src=\"https://colab.research.google.com/assets/colab-badge.svg\" alt=\"Open In Colab\"/></a>"
      ]
    },
    {
      "cell_type": "markdown",
      "source": [
        "# Diccionarios\n",
        "* Agrupan parejas de  Clave : Valor\n",
        "* `diccionario = {'key1':'value1', 'key2':'value2', 'key3':'value3'}`\n",
        "* Las claves denben ser únicas\n",
        "* Puede no conservarse el orden, se dice que no hay orden"
      ],
      "metadata": {
        "id": "iRSRO0puZtm4"
      }
    },
    {
      "cell_type": "code",
      "source": [
        "capital = {\"Italia\":\"Roma\", \"Francia\":\"París\", \"España\":\"Madrid\"}\n",
        "capital"
      ],
      "metadata": {
        "colab": {
          "base_uri": "https://localhost:8080/"
        },
        "id": "snSmzMSaZyRl",
        "outputId": "b04e7c65-7efe-488d-d3c9-71430f05eac3"
      },
      "execution_count": null,
      "outputs": [
        {
          "output_type": "execute_result",
          "data": {
            "text/plain": [
              "{'España': 'Madrid', 'Francia': 'París', 'Italia': 'Roma'}"
            ]
          },
          "metadata": {},
          "execution_count": 52
        }
      ]
    },
    {
      "cell_type": "code",
      "source": [
        "capital['Italia']   # accedemos a un valor poniendo su clave"
      ],
      "metadata": {
        "colab": {
          "base_uri": "https://localhost:8080/",
          "height": 36
        },
        "id": "nowB7zOddPUB",
        "outputId": "b3b4ceff-4585-4f18-b71e-0d0b634da7f8"
      },
      "execution_count": null,
      "outputs": [
        {
          "output_type": "execute_result",
          "data": {
            "text/plain": [
              "'Roma'"
            ],
            "application/vnd.google.colaboratory.intrinsic+json": {
              "type": "string"
            }
          },
          "metadata": {},
          "execution_count": 53
        }
      ]
    },
    {
      "cell_type": "code",
      "source": [
        "capital['Grecia'] = 'Atenas'   # añadimos un nuevo item\n",
        "capital"
      ],
      "metadata": {
        "colab": {
          "base_uri": "https://localhost:8080/"
        },
        "id": "DFImw_R4fSOS",
        "outputId": "3926da0f-208f-47da-b5f5-9ebb3c8c0fd0"
      },
      "execution_count": null,
      "outputs": [
        {
          "output_type": "execute_result",
          "data": {
            "text/plain": [
              "{'España': 'Madrid', 'Francia': 'París', 'Grecia': 'Atenas', 'Italia': 'Roma'}"
            ]
          },
          "metadata": {},
          "execution_count": 54
        }
      ]
    },
    {
      "cell_type": "code",
      "source": [
        "num = {\"one\":1, \"two\":2, \"three\":3}   # en este caso la clave es un string y el valor es un integer\n",
        "num"
      ],
      "metadata": {
        "colab": {
          "base_uri": "https://localhost:8080/"
        },
        "id": "forhRcBYbTqv",
        "outputId": "e0c23457-3328-4485-d8fd-10f76c57b53f"
      },
      "execution_count": null,
      "outputs": [
        {
          "output_type": "execute_result",
          "data": {
            "text/plain": [
              "{'one': 1, 'three': 3, 'two': 2}"
            ]
          },
          "metadata": {},
          "execution_count": 55
        }
      ]
    },
    {
      "cell_type": "code",
      "source": [
        "num.keys()   # este método devuelve todas las claves"
      ],
      "metadata": {
        "colab": {
          "base_uri": "https://localhost:8080/"
        },
        "id": "Z5eQ8YTieEu5",
        "outputId": "8af7200e-1d5b-4b88-f631-56077395aaeb"
      },
      "execution_count": null,
      "outputs": [
        {
          "output_type": "execute_result",
          "data": {
            "text/plain": [
              "dict_keys(['one', 'two', 'three'])"
            ]
          },
          "metadata": {},
          "execution_count": 56
        }
      ]
    },
    {
      "cell_type": "code",
      "source": [
        "num.values()   # este método devuelve todos los valores"
      ],
      "metadata": {
        "colab": {
          "base_uri": "https://localhost:8080/"
        },
        "id": "dyByZwkVeRVA",
        "outputId": "b1914a81-81f1-4dce-ae62-5a200897434f"
      },
      "execution_count": null,
      "outputs": [
        {
          "output_type": "execute_result",
          "data": {
            "text/plain": [
              "dict_values([1, 2, 3])"
            ]
          },
          "metadata": {},
          "execution_count": 57
        }
      ]
    },
    {
      "cell_type": "code",
      "source": [
        "num.items()   # devuelve todos items que son los pares clave:valor"
      ],
      "metadata": {
        "colab": {
          "base_uri": "https://localhost:8080/"
        },
        "id": "6vD0NaAAeca0",
        "outputId": "97a6b457-a6f3-427e-8733-e70d989955ea"
      },
      "execution_count": null,
      "outputs": [
        {
          "output_type": "execute_result",
          "data": {
            "text/plain": [
              "dict_items([('one', 1), ('two', 2), ('three', 3)])"
            ]
          },
          "metadata": {},
          "execution_count": 58
        }
      ]
    },
    {
      "cell_type": "code",
      "source": [
        "num2words = {1: 'One', 2: 'Two', 3: 'Three', 4: 'Four', 5: 'Five', \\\n",
        "             6: 'Six', 7: 'Seven', 8: 'Eight', 9: 'Nine', 10: 'Ten'}\n",
        "\n",
        "num2words   # aquí la clave el el string y el valor es el integer"
      ],
      "metadata": {
        "colab": {
          "base_uri": "https://localhost:8080/"
        },
        "id": "spjof4W0cPlT",
        "outputId": "178ff4d5-0c8e-4c97-beaa-f59abb7aac4b"
      },
      "execution_count": null,
      "outputs": [
        {
          "output_type": "execute_result",
          "data": {
            "text/plain": [
              "{1: 'One',\n",
              " 2: 'Two',\n",
              " 3: 'Three',\n",
              " 4: 'Four',\n",
              " 5: 'Five',\n",
              " 6: 'Six',\n",
              " 7: 'Seven',\n",
              " 8: 'Eight',\n",
              " 9: 'Nine',\n",
              " 10: 'Ten'}"
            ]
          },
          "metadata": {},
          "execution_count": 1
        }
      ]
    },
    {
      "cell_type": "markdown",
      "source": [
        "## Actualizar un diccionario"
      ],
      "metadata": {
        "id": "hfif6lKUl0GG"
      }
    },
    {
      "cell_type": "code",
      "source": [
        "paco = {'nombre':'Francisco', 'edad':25, 'asegurado':True}\n",
        "paco"
      ],
      "metadata": {
        "colab": {
          "base_uri": "https://localhost:8080/"
        },
        "id": "HRM4L9G_gR_C",
        "outputId": "20cf3a59-e3af-48a7-828b-47ef7979a208"
      },
      "execution_count": null,
      "outputs": [
        {
          "output_type": "execute_result",
          "data": {
            "text/plain": [
              "{'asegurado': True, 'edad': 25, 'nombre': 'Francisco'}"
            ]
          },
          "metadata": {},
          "execution_count": 60
        }
      ]
    },
    {
      "cell_type": "code",
      "source": [
        "paco.update({'edad':26, 'idiomas':['inglés','español']})\n",
        "paco   # actualiza la edad y añade los idiomas en forma de lista"
      ],
      "metadata": {
        "colab": {
          "base_uri": "https://localhost:8080/"
        },
        "id": "vNV9kNYUg8VN",
        "outputId": "23cac6c9-6d58-49d4-e3bb-570a1564301c"
      },
      "execution_count": null,
      "outputs": [
        {
          "output_type": "execute_result",
          "data": {
            "text/plain": [
              "{'asegurado': True,\n",
              " 'edad': 26,\n",
              " 'idiomas': ['inglés', 'español'],\n",
              " 'nombre': 'Francisco'}"
            ]
          },
          "metadata": {},
          "execution_count": 61
        }
      ]
    },
    {
      "cell_type": "markdown",
      "source": [
        "## Copia de un diccionario"
      ],
      "metadata": {
        "id": "liyyX1jPh1As"
      }
    },
    {
      "cell_type": "code",
      "source": [
        "#pepe = paco   # forma incorrecta de copiar un diccionario ya que no serían independientes\n",
        "pepe = paco.copy()   # forma correcta de copiar un diccionario para que amboas sean independientes\n",
        "pepe.update({'nombre':'José'})\n",
        "pepe"
      ],
      "metadata": {
        "colab": {
          "base_uri": "https://localhost:8080/"
        },
        "id": "5guvVJdsh7o3",
        "outputId": "69045336-994b-4894-bf5c-b2f6329c4163"
      },
      "execution_count": null,
      "outputs": [
        {
          "output_type": "execute_result",
          "data": {
            "text/plain": [
              "{'asegurado': True,\n",
              " 'edad': 26,\n",
              " 'idiomas': ['inglés', 'español'],\n",
              " 'nombre': 'José'}"
            ]
          },
          "metadata": {},
          "execution_count": 62
        }
      ]
    },
    {
      "cell_type": "code",
      "source": [
        "paco  # paco conserva su nombre, no se ha actualizado, son diccionarios independientes"
      ],
      "metadata": {
        "colab": {
          "base_uri": "https://localhost:8080/"
        },
        "id": "uVjVeyImifSb",
        "outputId": "7749449f-21c4-4142-cd75-d023055bc659"
      },
      "execution_count": null,
      "outputs": [
        {
          "output_type": "execute_result",
          "data": {
            "text/plain": [
              "{'asegurado': True,\n",
              " 'edad': 26,\n",
              " 'idiomas': ['inglés', 'español'],\n",
              " 'nombre': 'Francisco'}"
            ]
          },
          "metadata": {},
          "execution_count": 63
        }
      ]
    },
    {
      "cell_type": "markdown",
      "source": [
        "## Eliminar los items de un diccionario"
      ],
      "metadata": {
        "id": "6jr5Zh9GlgdD"
      }
    },
    {
      "cell_type": "code",
      "source": [
        "paco.pop('asegurado')   # eliminamos una item de un diccionario, esto es una pareja clave:valores\n",
        "paco"
      ],
      "metadata": {
        "colab": {
          "base_uri": "https://localhost:8080/"
        },
        "id": "7gJlIjHFjtf1",
        "outputId": "5a1b3c02-d18a-4502-c146-454d53005965"
      },
      "execution_count": null,
      "outputs": [
        {
          "output_type": "execute_result",
          "data": {
            "text/plain": [
              "{'edad': 26, 'idiomas': ['inglés', 'español'], 'nombre': 'Francisco'}"
            ]
          },
          "metadata": {},
          "execution_count": 64
        }
      ]
    },
    {
      "cell_type": "code",
      "source": [
        "del paco['idiomas']   # con esta función eliminamos un item, es otra forma de hacerlo\n",
        "paco"
      ],
      "metadata": {
        "colab": {
          "base_uri": "https://localhost:8080/"
        },
        "id": "F0280R8KkOgH",
        "outputId": "df75b92b-cda3-4552-a6d6-89dd7f3d5903"
      },
      "execution_count": null,
      "outputs": [
        {
          "output_type": "execute_result",
          "data": {
            "text/plain": [
              "{'edad': 26, 'nombre': 'Francisco'}"
            ]
          },
          "metadata": {},
          "execution_count": 65
        }
      ]
    },
    {
      "cell_type": "code",
      "source": [
        "paco.clear()   # elimina todos los items de un diccionario, el diccionario queda vacío\n",
        "paco"
      ],
      "metadata": {
        "colab": {
          "base_uri": "https://localhost:8080/"
        },
        "id": "Q0CTxR_sk03T",
        "outputId": "6f712e9b-8c98-4c01-8b1f-9208b1de49d4"
      },
      "execution_count": null,
      "outputs": [
        {
          "output_type": "execute_result",
          "data": {
            "text/plain": [
              "{}"
            ]
          },
          "metadata": {},
          "execution_count": 66
        }
      ]
    }
  ]
}