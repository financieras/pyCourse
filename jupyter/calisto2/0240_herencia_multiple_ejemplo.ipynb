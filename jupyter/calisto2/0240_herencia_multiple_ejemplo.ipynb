{
  "cells": [
    {
      "cell_type": "markdown",
      "metadata": {
        "id": "view-in-github",
        "colab_type": "text"
      },
      "source": [
        "<a href=\"https://colab.research.google.com/github/financieras/pyCourse/blob/main/jupyter/calisto2/calisto2_0240.ipynb\" target=\"_parent\"><img src=\"https://colab.research.google.com/assets/colab-badge.svg\" alt=\"Open In Colab\"/></a>"
      ]
    },
    {
      "cell_type": "markdown",
      "id": "05208e79",
      "metadata": {
        "id": "05208e79"
      },
      "source": [
        "# Herencia múltiple. Ejemplo"
      ]
    },
    {
      "cell_type": "markdown",
      "id": "4db7f831",
      "metadata": {
        "id": "4db7f831"
      },
      "source": [
        "## Heredando métodos"
      ]
    },
    {
      "cell_type": "code",
      "execution_count": null,
      "id": "b737c915",
      "metadata": {
        "id": "b737c915"
      },
      "outputs": [],
      "source": [
        "class Clase1:\n",
        "    def saluda1(self):\n",
        "        print(\"Hola, soy un método de la clase 1\")\n",
        "\n",
        "class Clase2:\n",
        "    def saluda2(self):\n",
        "        print(\"Soy un método de la clase 2\")\n",
        "        \n",
        "class Clase3(Clase1, Clase2):\n",
        "    def saluda3(self):\n",
        "        print(\"Soy un método de la clase 3\")"
      ]
    },
    {
      "cell_type": "code",
      "execution_count": null,
      "id": "4a465074",
      "metadata": {
        "id": "4a465074"
      },
      "outputs": [],
      "source": [
        "c = Clase3()                     # creamos una instancia de la clase 3\n",
        "c.saluda1()                      # comprobamos que ha heredado el método de la clase 1\n",
        "c.saluda2()                      # comprobamos que ha heredado el método de la clase 2\n",
        "c.saluda3()                      # comprobamos que ha heredado el método de la clase 3"
      ]
    },
    {
      "cell_type": "markdown",
      "id": "b888473e",
      "metadata": {
        "id": "b888473e"
      },
      "source": [
        "## Heredando atributos"
      ]
    },
    {
      "cell_type": "code",
      "execution_count": null,
      "id": "0ed4aa21",
      "metadata": {
        "id": "0ed4aa21"
      },
      "outputs": [],
      "source": [
        "class Clase1:\n",
        "    nombre = \"Marcos\"            # añadimos un atributo de clase para la clase 1\n",
        "    \n",
        "    def saluda1(self):\n",
        "        print(\"Hola, soy un método de la clase 1\")\n",
        "\n",
        "class Clase2:\n",
        "    def saluda2(self):\n",
        "        print(\"Soy un método de la clase 2\")\n",
        "        \n",
        "class Clase3(Clase1, Clase2):\n",
        "    def saluda3(self):\n",
        "        print(\"Soy un método de la clase 3\")"
      ]
    },
    {
      "cell_type": "code",
      "execution_count": null,
      "id": "11f803bf",
      "metadata": {
        "id": "11f803bf"
      },
      "outputs": [],
      "source": [
        "c = Clase3()\n",
        "print(f\"Me llamo {c.nombre}.\")"
      ]
    },
    {
      "cell_type": "markdown",
      "id": "12402b90",
      "metadata": {
        "id": "12402b90"
      },
      "source": [
        "### Si el nombre del atributo es el mismo tiene prioridad el de la Clase1\n",
        "Tiene prioridad la clase 1 porque al heredar la clase 3 hemos puesto que el orden es ```class Clase3(Clase1, Clase2):```"
      ]
    },
    {
      "cell_type": "code",
      "execution_count": null,
      "id": "f0fbd21f",
      "metadata": {
        "id": "f0fbd21f"
      },
      "outputs": [],
      "source": [
        "class Clase1:\n",
        "    nombre = \"Marcos\"                    # añadimos un atributo de clase para la clase 1\n",
        "    mascota = \"Perro\"                    # añadimos otro, pero éste con el mismo nombre en la clase2\n",
        "    \n",
        "    def saluda1(self):\n",
        "        print(\"Hola, soy un método de la clase 1\")\n",
        "\n",
        "class Clase2:\n",
        "    deporte = \"Baloncesto\"               # añadimos un atributo de clase para la clase 2\n",
        "    mascota = \"Gato\"                     # añadimos otro, pero éste con el mismo nombre en la clase1\n",
        "    \n",
        "    def saluda2(self):\n",
        "        print(\"Soy un método de la clase 2\")\n",
        "        \n",
        "class Clase3(Clase1, Clase2):            # La clase1 tiene prioridad\n",
        "    def saluda3(self):\n",
        "        print(\"Soy un método de la clase 3\")"
      ]
    },
    {
      "cell_type": "code",
      "execution_count": null,
      "id": "9af7f109",
      "metadata": {
        "id": "9af7f109"
      },
      "outputs": [],
      "source": [
        "c = Clase3()\n",
        "print(f\"Me llamo {c.nombre}, me gusta el {c.deporte} y mi mascota es un {c.mascota}.\")  # la mascota es el Perro"
      ]
    },
    {
      "cell_type": "markdown",
      "id": "5027dde3",
      "metadata": {
        "id": "5027dde3"
      },
      "source": [
        "### Si el nombre del atributo es el mismo tiene prioridad el de la Clase2\n",
        "Tiene prioridad la clase 2 porque ahora al heredar la clase 3 hemos puesto que el orden es ```class Clase3(Clase2, Clase1):```"
      ]
    },
    {
      "cell_type": "code",
      "execution_count": null,
      "id": "24286620",
      "metadata": {
        "id": "24286620"
      },
      "outputs": [],
      "source": [
        "class Clase1:\n",
        "    nombre = \"Marcos\"                    # añadimos un atributo de clase para la clase 1\n",
        "    mascota = \"Perro\"\n",
        "    \n",
        "    def saluda1(self):\n",
        "        print(\"Hola, soy un método de la clase 1\")\n",
        "\n",
        "class Clase2:\n",
        "    deporte = \"Baloncesto\"\n",
        "    mascota = \"Gato\"\n",
        "    \n",
        "    def saluda2(self):\n",
        "        print(\"Soy un método de la clase 2\")\n",
        "        \n",
        "class Clase3(Clase2, Clase1):            # La clase2 tiene prioridad\n",
        "    def saluda3(self):\n",
        "        print(\"Soy un método de la clase 3\")"
      ]
    },
    {
      "cell_type": "code",
      "execution_count": null,
      "id": "dadbea04",
      "metadata": {
        "id": "dadbea04"
      },
      "outputs": [],
      "source": [
        "c = Clase3()\n",
        "print(f\"Me llamo {c.nombre}, me gusta el {c.deporte} y mi mascota es un {c.mascota}.\")  # la mascota es el Gato"
      ]
    }
  ],
  "metadata": {
    "kernelspec": {
      "display_name": "Python 3",
      "language": "python",
      "name": "python3"
    },
    "language_info": {
      "codemirror_mode": {
        "name": "ipython",
        "version": 3
      },
      "file_extension": ".py",
      "mimetype": "text/x-python",
      "name": "python",
      "nbconvert_exporter": "python",
      "pygments_lexer": "ipython3",
      "version": "3.8.8"
    },
    "colab": {
      "name": "calisto2_0240.ipynb",
      "provenance": [],
      "include_colab_link": true
    }
  },
  "nbformat": 4,
  "nbformat_minor": 5
}
