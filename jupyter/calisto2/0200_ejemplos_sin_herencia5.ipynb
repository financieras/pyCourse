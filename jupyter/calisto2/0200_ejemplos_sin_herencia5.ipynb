{
  "cells": [
    {
      "cell_type": "markdown",
      "metadata": {
        "id": "view-in-github",
        "colab_type": "text"
      },
      "source": [
        "<a href=\"https://colab.research.google.com/github/financieras/pyCourse/blob/main/jupyter/calisto2/calisto2_0200.ipynb\" target=\"_parent\"><img src=\"https://colab.research.google.com/assets/colab-badge.svg\" alt=\"Open In Colab\"/></a>"
      ]
    },
    {
      "cell_type": "markdown",
      "metadata": {
        "id": "zTR24qd8n7St"
      },
      "source": [
        "# Ejemplos sin herencia [5]"
      ]
    },
    {
      "cell_type": "code",
      "execution_count": null,
      "metadata": {
        "id": "iwMBeJH4n7Sw"
      },
      "outputs": [],
      "source": [
        "class MyFirstClass:\n",
        "    pass"
      ]
    },
    {
      "cell_type": "code",
      "execution_count": null,
      "metadata": {
        "id": "lQKi1Ffyn7Sx",
        "outputId": "bcb3261f-db8f-468d-dc93-ce3a2863864f"
      },
      "outputs": [
        {
          "name": "stdout",
          "output_type": "stream",
          "text": [
            "<__main__.MyFirstClass object at 0x0000013104EE5310>\n",
            "<__main__.MyFirstClass object at 0x0000013104EE5370>\n"
          ]
        }
      ],
      "source": [
        "class MyFirstClass:\n",
        "    pass\n",
        "\n",
        "a = MyFirstClass()\n",
        "b = MyFirstClass()\n",
        "print(a)\n",
        "print(b)"
      ]
    },
    {
      "cell_type": "code",
      "execution_count": null,
      "metadata": {
        "id": "AddEU-aGn7Sz",
        "outputId": "a5f5cd09-91f3-4d83-e739-8450f1ca2ad3"
      },
      "outputs": [
        {
          "name": "stdout",
          "output_type": "stream",
          "text": [
            "5 4\n",
            "3 6\n"
          ]
        }
      ],
      "source": [
        "class Point:\n",
        "    pass\n",
        "\n",
        "p1 = Point()\n",
        "p2 = Point()\n",
        "\n",
        "p1.x = 5\n",
        "p1.y = 4\n",
        "\n",
        "p2.x = 3\n",
        "p2.y = 6\n",
        "\n",
        "print(p1.x, p1.y)\n",
        "print(p2.x, p2.y)"
      ]
    },
    {
      "cell_type": "code",
      "execution_count": null,
      "metadata": {
        "id": "NOi-RgU2n7S0",
        "outputId": "6458f733-abdc-437e-e3ce-275e67e7178d"
      },
      "outputs": [
        {
          "name": "stdout",
          "output_type": "stream",
          "text": [
            "0 0\n"
          ]
        }
      ],
      "source": [
        "class Point:\n",
        "    def reset(self):\n",
        "        self.x = 0\n",
        "        self.y = 0\n",
        "\n",
        "p = Point()\n",
        "p.reset()\n",
        "print(p.x, p.y)"
      ]
    },
    {
      "cell_type": "code",
      "execution_count": null,
      "metadata": {
        "id": "Isq3Tzoyn7S2",
        "outputId": "026553fe-917f-45fa-df19-663aa5a38e50"
      },
      "outputs": [
        {
          "name": "stdout",
          "output_type": "stream",
          "text": [
            "5.0\n",
            "4.47213595499958\n",
            "0.0\n"
          ]
        }
      ],
      "source": [
        "import math\n",
        "\n",
        "class Point:\n",
        "    def move(self, x, y):\n",
        "        self.x = x\n",
        "        self.y = y\n",
        "    def reset(self):\n",
        "        self.move(0, 0)\n",
        "    def calculate_distance(self, other_point):\n",
        "        return math.sqrt(\n",
        "                (self.x - other_point.x)**2 +\n",
        "                (self.y - other_point.y)**2)\n",
        "\n",
        "\n",
        "# how to use it:\n",
        "point1 = Point()\n",
        "point2 = Point()\n",
        "\n",
        "point1.reset()\n",
        "point2.move(5, 0)\n",
        "print(point2.calculate_distance(point1))           # Debugging and Testing the code\n",
        "assert (point2.calculate_distance(point1) ==\n",
        "        point1.calculate_distance(point2))         # assert permite realizar comprobaciones  \n",
        "point1.move(3, 4)\n",
        "print(point1.calculate_distance(point2))\n",
        "print(point1.calculate_distance(point1))"
      ]
    },
    {
      "cell_type": "code",
      "execution_count": null,
      "metadata": {
        "id": "rQtXUcE_n7S4",
        "outputId": "2dc29848-5d77-4963-f046-258b07509744"
      },
      "outputs": [
        {
          "name": "stdout",
          "output_type": "stream",
          "text": [
            "3 5\n"
          ]
        }
      ],
      "source": [
        "class Point:\n",
        "    def __init__(self, x, y):\n",
        "        self.move(x, y)\n",
        "\n",
        "    def move(self, x, y):\n",
        "        self.x = x\n",
        "        self.y = y\n",
        "\n",
        "    def reset(self):\n",
        "        self.move(0, 0)\n",
        "\n",
        "# Constructing a Point\n",
        "point = Point(3, 5)\n",
        "print(point.x, point.y)"
      ]
    },
    {
      "cell_type": "code",
      "execution_count": null,
      "metadata": {
        "id": "-1ZZgYhvn7S6"
      },
      "outputs": [],
      "source": [
        "class Point:\n",
        "    def __init__(self, x=0, y=0):\n",
        "        self.move(x, y)"
      ]
    },
    {
      "cell_type": "code",
      "execution_count": null,
      "metadata": {
        "id": "uvbXMwlun7S7"
      },
      "outputs": [],
      "source": [
        "import math\n",
        "\n",
        "class Point:\n",
        "    'Represents a point in two-dimensional geometric coordinates'\n",
        "\n",
        "    def __init__(self, x=0, y=0):\n",
        "        '''Initialize the position of a new point. The x and y coordinates can\n",
        "        be specified. If they are not, the point defaults to the origin.'''\n",
        "        self.move(x, y)\n",
        "\n",
        "    def move(self, x, y):\n",
        "        \"Move the point to a new location in two-dimensional space.\"\n",
        "        self.x = x\n",
        "        self.y = y\n",
        "\n",
        "    def reset(self):\n",
        "        'Reset the point back to the geometric origin: 0, 0'\n",
        "        self.move(0, 0)\n",
        "\n",
        "    def calculate_distance(self, other_point):\n",
        "        \"\"\"Calculate the distance from this point to a second point passed\n",
        "        as a parameter.\n",
        "        This function uses the Pythagorean Theorem to calculate the distance\n",
        "        between the two points.  The distance is returned as a float.\"\"\"\n",
        "\n",
        "        return math.sqrt(\n",
        "                (self.x - other_point.x)**2 +\n",
        "                (self.y - other_point.y)**2)"
      ]
    },
    {
      "cell_type": "code",
      "execution_count": null,
      "metadata": {
        "id": "cV6hAEaWn7S8"
      },
      "outputs": [],
      "source": [
        "class Database:\n",
        "    # the database implementation\n",
        "    pass\n",
        "\n",
        "database = Database()"
      ]
    },
    {
      "cell_type": "code",
      "execution_count": null,
      "metadata": {
        "id": "7rN-J8Urn7S9"
      },
      "outputs": [],
      "source": [
        "class Database:\n",
        "    # the database implementation\n",
        "    pass\n",
        "\n",
        "database = None\n",
        "\n",
        "def initialize_database():\n",
        "    global database\n",
        "    database = Database()"
      ]
    },
    {
      "cell_type": "code",
      "execution_count": null,
      "metadata": {
        "id": "QBetPx0an7S-",
        "outputId": "629a6cc1-df1e-47a8-a440-087b035c26a5"
      },
      "outputs": [
        {
          "name": "stdout",
          "output_type": "stream",
          "text": [
            "<__main__.UsefulClass object at 0x0000013104EE57F0>\n"
          ]
        }
      ],
      "source": [
        "class UsefulClass:\n",
        "    '''This class might be useful to other modules.'''\n",
        "    pass\n",
        "\n",
        "def main():\n",
        "    '''creates a useful class and does something with it for our module.'''\n",
        "    useful = UsefulClass()\n",
        "    print(useful)\n",
        "\n",
        "if __name__ == \"__main__\":\n",
        "    main()"
      ]
    },
    {
      "cell_type": "code",
      "execution_count": null,
      "metadata": {
        "id": "rbwu3HQbn7S_",
        "outputId": "781bc081-620c-4237-dc7e-f12aefeaa666"
      },
      "outputs": [
        {
          "name": "stdout",
          "output_type": "stream",
          "text": [
            " input: hello world, how are you today?\n",
            "output: Hello World, How Are You Today?\n"
          ]
        }
      ],
      "source": [
        "def format_string(string, formatter=None):\n",
        "    '''Format a string using the formatter object, which\n",
        "    is expected to have a format() method that accepts\n",
        "    a string.'''\n",
        "    class DefaultFormatter:\n",
        "        '''Format a string in title case.'''\n",
        "        def format(self, string):\n",
        "            return str(string).title()\n",
        "\n",
        "    if not formatter:\n",
        "        formatter = DefaultFormatter()\n",
        "\n",
        "    return formatter.format(string)\n",
        "\n",
        "hello_string = \"hello world, how are you today?\"\n",
        "print(\" input: \" + hello_string)\n",
        "print(\"output: \" + format_string(hello_string))"
      ]
    },
    {
      "cell_type": "code",
      "execution_count": null,
      "metadata": {
        "id": "OamtSUdhn7TA",
        "outputId": "021c3b34-dbf8-4084-dab1-f560c357a492"
      },
      "outputs": [
        {
          "data": {
            "text/plain": [
              "'Los pilares de la tierra'"
            ]
          },
          "execution_count": 23,
          "metadata": {},
          "output_type": "execute_result"
        }
      ],
      "source": [
        "class SecretString:\n",
        "    '''A not-at-all secure way to store a secret string.'''\n",
        "\n",
        "    def __init__(self, plain_string, pass_phrase):\n",
        "        self.__plain_string = plain_string\n",
        "        self.__pass_phrase = pass_phrase\n",
        "\n",
        "    def decrypt(self, pass_phrase):\n",
        "        '''Only show the string if the pass_phrase is correct.'''\n",
        "        if pass_phrase == self.__pass_phrase:\n",
        "            return self.__plain_string\n",
        "        else:\n",
        "            return ''\n",
        "\n",
        "s = SecretString(\"Los pilares de la tierra\", \"abcde\")\n",
        "s.decrypt(\"abcde\")"
      ]
    },
    {
      "cell_type": "code",
      "execution_count": null,
      "metadata": {
        "id": "hBvge6zKn7TB",
        "outputId": "9e2bc8f2-f45f-4f1b-cce8-80fb3687b8d7"
      },
      "outputs": [
        {
          "data": {
            "text/plain": [
              "True"
            ]
          },
          "execution_count": 18,
          "metadata": {},
          "output_type": "execute_result"
        }
      ],
      "source": [
        "import datetime\n",
        "\n",
        "last_id = 0\n",
        "\n",
        "class Note:\n",
        "    '''Represent a note in the notebook. Match against a\n",
        "    string in searches and store tags for each note.'''\n",
        "\n",
        "\n",
        "    def __init__(self, memo, tags=''):\n",
        "        '''initialize a note with memo and optional\n",
        "        space-separated tags. Automatically set the note's\n",
        "        creation date and a unique id'''\n",
        "        self.memo = memo\n",
        "        self.tags = tags\n",
        "        self.creation_date = datetime.date.today()\n",
        "        global last_id\n",
        "        last_id += 1\n",
        "        self.id = last_id\n",
        "\n",
        "    def match(self, filter):\n",
        "        '''Determine if this note matches the filter\n",
        "        text. Return True if it matches, False otherwise.\n",
        "        \n",
        "        Search is case sensitive and matches both text and\n",
        "        tags.'''\n",
        "        return filter in self.memo or filter in self.tags\n",
        "    \n",
        "n1 = Note(\"Programación orientada a objetos en Python\", \"POO,Python,programación\")\n",
        "n1.match(\"Python\")"
      ]
    }
  ],
  "metadata": {
    "kernelspec": {
      "display_name": "Python 3",
      "language": "python",
      "name": "python3"
    },
    "language_info": {
      "codemirror_mode": {
        "name": "ipython",
        "version": 3
      },
      "file_extension": ".py",
      "mimetype": "text/x-python",
      "name": "python",
      "nbconvert_exporter": "python",
      "pygments_lexer": "ipython3",
      "version": "3.8.8"
    },
    "colab": {
      "name": "calisto2_0200.ipynb",
      "provenance": [],
      "include_colab_link": true
    }
  },
  "nbformat": 4,
  "nbformat_minor": 0
}
