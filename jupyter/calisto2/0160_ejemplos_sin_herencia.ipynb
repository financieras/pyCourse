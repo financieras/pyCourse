{
  "cells": [
    {
      "cell_type": "markdown",
      "metadata": {
        "id": "view-in-github",
        "colab_type": "text"
      },
      "source": [
        "<a href=\"https://colab.research.google.com/github/financieras/pyCourse/blob/main/jupyter/calisto2/calisto2_0160.ipynb\" target=\"_parent\"><img src=\"https://colab.research.google.com/assets/colab-badge.svg\" alt=\"Open In Colab\"/></a>"
      ]
    },
    {
      "cell_type": "markdown",
      "id": "711e4d5d",
      "metadata": {
        "id": "711e4d5d"
      },
      "source": [
        "# Ejemplos sin herencia [1]"
      ]
    },
    {
      "cell_type": "markdown",
      "id": "795a5313",
      "metadata": {
        "id": "795a5313"
      },
      "source": [
        "## La clase Gato"
      ]
    },
    {
      "cell_type": "code",
      "execution_count": null,
      "id": "29d95ce7",
      "metadata": {
        "id": "29d95ce7"
      },
      "outputs": [],
      "source": [
        "class Gato:\n",
        "    especie = \"Mamífero\"           # atributo de clase, se usa para atributos constantes para todos los objetos\n",
        "\n",
        "    def __init__(self, nombre, edad):\n",
        "        self.nombre = nombre       # los atributos que están dentro del constructor son atributos de instancia  \n",
        "        self.edad = edad           # eso supone que cada objeto instanciado tiene sus propios atributos\n",
        "        self.alimentos = []        # un gato puede tener una edad, otro otra, o diferentes alimentos favoritos\n",
        "    def verEtapa(self):\n",
        "        if self.edad > 1:\n",
        "            print(self.nombre, \"es adulto\")\n",
        "        else:\n",
        "            print(self.nombre, \"es cachorro\")\n",
        "    def esAlimento(self, alimento):\n",
        "        return alimento in self.alimentos"
      ]
    },
    {
      "cell_type": "markdown",
      "id": "21674d09",
      "metadata": {
        "id": "21674d09"
      },
      "source": [
        "### Instanciando objetos y comprobando métodos"
      ]
    },
    {
      "cell_type": "code",
      "execution_count": null,
      "id": "969dacda",
      "metadata": {
        "id": "969dacda"
      },
      "outputs": [],
      "source": [
        "g = Gato('Gufi', 0.5)\n",
        "g.verEtapa()"
      ]
    },
    {
      "cell_type": "code",
      "execution_count": null,
      "id": "9ce5e38b",
      "metadata": {
        "id": "9ce5e38b"
      },
      "outputs": [],
      "source": [
        "m = Gato('Mafi', 3)\n",
        "m.verEtapa()"
      ]
    },
    {
      "cell_type": "markdown",
      "id": "9221d70c",
      "metadata": {
        "id": "9221d70c"
      },
      "source": [
        "### Lista de cada objeto\n",
        "La lista de alimentos favoritos es propia de cada objeto gato."
      ]
    },
    {
      "cell_type": "code",
      "execution_count": null,
      "id": "3635fb13",
      "metadata": {
        "id": "3635fb13"
      },
      "outputs": [],
      "source": [
        "g.alimentos.append(\"Sardinas\")    # como es una lista puedo usar append"
      ]
    },
    {
      "cell_type": "code",
      "execution_count": null,
      "id": "23ead2b8",
      "metadata": {
        "id": "23ead2b8"
      },
      "outputs": [],
      "source": [
        "g.alimentos"
      ]
    },
    {
      "cell_type": "code",
      "execution_count": null,
      "id": "9d03e717",
      "metadata": {
        "id": "9d03e717"
      },
      "outputs": [],
      "source": [
        "g.esAlimento(\"Sardinas\")"
      ]
    },
    {
      "cell_type": "code",
      "execution_count": null,
      "id": "c73bc9f9",
      "metadata": {
        "id": "c73bc9f9"
      },
      "outputs": [],
      "source": [
        "m.alimentos.append(\"Natillas\")    # al otro gato le gustan las natillas\n",
        "g.alimentos.append(\"Leche\")       # al cachorro le gusta la leche"
      ]
    },
    {
      "cell_type": "code",
      "execution_count": null,
      "id": "5c772882",
      "metadata": {
        "id": "5c772882"
      },
      "outputs": [],
      "source": [
        "print(g.alimentos)\n",
        "print(m.alimentos)"
      ]
    },
    {
      "cell_type": "code",
      "execution_count": null,
      "id": "8ad7ce37",
      "metadata": {
        "id": "8ad7ce37"
      },
      "outputs": [],
      "source": [
        "g.esAlimento(\"Horchata\")"
      ]
    },
    {
      "cell_type": "code",
      "execution_count": null,
      "id": "7c9ba0fb",
      "metadata": {
        "id": "7c9ba0fb"
      },
      "outputs": [],
      "source": [
        "g.edad += 1                      # podemos acceder y modificar los atributos de instancia\n",
        "g.verEtapa()"
      ]
    },
    {
      "cell_type": "markdown",
      "id": "767d908a",
      "metadata": {
        "id": "767d908a"
      },
      "source": [
        "### Los atributos de clase se denominan \"estáticos\"\n",
        "No es necesario un objeto para obtenerlos. Podemos poner Gato.especie y funciona."
      ]
    },
    {
      "cell_type": "code",
      "execution_count": null,
      "id": "b6c2bb6f",
      "metadata": {
        "id": "b6c2bb6f"
      },
      "outputs": [],
      "source": [
        "m.especie"
      ]
    },
    {
      "cell_type": "code",
      "execution_count": null,
      "id": "644b892f",
      "metadata": {
        "id": "644b892f"
      },
      "outputs": [],
      "source": [
        "g.especie"
      ]
    },
    {
      "cell_type": "code",
      "execution_count": null,
      "id": "7a4c18de",
      "metadata": {
        "id": "7a4c18de"
      },
      "outputs": [],
      "source": [
        "Gato.especie                     # con los atributos de clase podemos poner la clase y el atributo y funciona"
      ]
    },
    {
      "cell_type": "markdown",
      "id": "6a354a7e",
      "metadata": {
        "id": "6a354a7e"
      },
      "source": [
        "### Atributos creados de forma dinámica\n",
        "Podemos crear atributos fuera de la clase, de forma dinámica, pero no se guardarán en la clase y cuando se reinicie el *kernel* no se recordarán."
      ]
    },
    {
      "cell_type": "code",
      "execution_count": null,
      "id": "8a3371de",
      "metadata": {
        "id": "8a3371de"
      },
      "outputs": [],
      "source": [
        "g.raza = \"Siamés\"                # en Python los atributos se pueden crear de forma dinámica  \n",
        "g.raza                           # podemos consultar el atributo, pero no se guarda "
      ]
    },
    {
      "cell_type": "code",
      "execution_count": null,
      "id": "973bb814",
      "metadata": {
        "id": "973bb814"
      },
      "outputs": [],
      "source": [
        "Gato.pelaje = \"suave\"            # también funciona con los atributos de clase, nos inventamos una nuevo\n",
        "Gato.pelaje                      # podemos consultar el atributo inventado, pero no se guardará"
      ]
    }
  ],
  "metadata": {
    "kernelspec": {
      "display_name": "Python 3",
      "language": "python",
      "name": "python3"
    },
    "language_info": {
      "codemirror_mode": {
        "name": "ipython",
        "version": 3
      },
      "file_extension": ".py",
      "mimetype": "text/x-python",
      "name": "python",
      "nbconvert_exporter": "python",
      "pygments_lexer": "ipython3",
      "version": "3.8.8"
    },
    "colab": {
      "name": "calisto2_0160.ipynb",
      "provenance": [],
      "include_colab_link": true
    }
  },
  "nbformat": 4,
  "nbformat_minor": 5
}
