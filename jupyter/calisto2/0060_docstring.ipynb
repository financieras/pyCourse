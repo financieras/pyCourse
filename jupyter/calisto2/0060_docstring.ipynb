{
  "cells": [
    {
      "cell_type": "markdown",
      "metadata": {
        "id": "view-in-github",
        "colab_type": "text"
      },
      "source": [
        "<a href=\"https://colab.research.google.com/github/financieras/pyCourse/blob/main/jupyter/calisto2/0060_docstring.ipynb\" target=\"_parent\"><img src=\"https://colab.research.google.com/assets/colab-badge.svg\" alt=\"Open In Colab\"/></a>"
      ]
    },
    {
      "cell_type": "markdown",
      "id": "c793930d",
      "metadata": {
        "id": "c793930d"
      },
      "source": [
        "# Docstring\n",
        "[Docstring Conventions](https://www.python.org/dev/peps/pep-0257/)\n",
        "\n",
        "* Por convenio se aconseja documentar las clases añadiendo una cadena de texto después de la línea inicial class donde se informa del contenido y utilidad de esa clase.\n",
        "\n",
        "* Una cadena Docstring es una cadena literal que aparece como la primera declaración en una definición de módulo, función, clase o método."
      ]
    },
    {
      "cell_type": "markdown",
      "id": "5b653d33",
      "metadata": {
        "id": "5b653d33"
      },
      "source": [
        "## Ejemplos con docstring"
      ]
    },
    {
      "cell_type": "markdown",
      "id": "5ae9a4eb",
      "metadata": {
        "id": "5ae9a4eb"
      },
      "source": [
        "### Ejemplo 1\n",
        "* La dos primeras línes son comentarios que no pertenecen al Docstring.  \n",
        "    1. La primera línea permite informar al editor que el código siguiente contiene lenguaje Python\n",
        "    2. La segunda línea informa que se empleará código utf-8 que permite alfabeto occidental, admite acentos y ñ\n",
        "\n",
        "* Estas dos líneas, si se incluyen, deben ir las primeras."
      ]
    },
    {
      "cell_type": "code",
      "execution_count": 1,
      "id": "860f0018",
      "metadata": {
        "id": "860f0018",
        "outputId": "8f49cf82-e535-476f-cbb3-22f1efba9a91",
        "colab": {
          "base_uri": "https://localhost:8080/"
        }
      },
      "outputs": [
        {
          "output_type": "stream",
          "name": "stdout",
          "text": [
            "La radio sintoniza Radio FM a un volumen de 5.\n"
          ]
        }
      ],
      "source": [
        "#!/usr/bin/env python\n",
        "# -*- coding: utf-8 -*-\n",
        "\n",
        "class Radio:\n",
        "    \"\"\"Modelado de una radio de FM\"\"\"\n",
        "    def __init__(self,encendida,emisora,volumen):            # self siempre va el primero y hace referencia al propio objeto\n",
        "        self.encendida = encendida                           # self.encendida es un \"atributo de instancia\"\n",
        "        self.emisora = emisora                               # self.emisora es un \"atributo de instancia\"\n",
        "        self.volumen = volumen                               # self.volumen es un \"atributo de instancia\"\n",
        "    def estado(self):\n",
        "        if self.encendida:\n",
        "            print(f\"La radio sintoniza {self.emisora} a un volumen de {self.volumen}.\")\n",
        "        else:\n",
        "            print(\"La radio está apagada.\")\n",
        "\n",
        "autoRadio=Radio(encendida=True, emisora=\"Radio FM\", volumen=5)  # instanciamos un objeto de tipo Radio\n",
        "autoRadio.estado()                                              # accedemos al método usando la notación de punto"
      ]
    },
    {
      "cell_type": "markdown",
      "id": "2cc7d5e8",
      "metadata": {
        "id": "2cc7d5e8"
      },
      "source": [
        "### Ejemplo 2\n",
        "En este ejemplo añadiremos *Docstring* a la clase y en cada método."
      ]
    },
    {
      "cell_type": "code",
      "execution_count": 2,
      "id": "49cbf9b8",
      "metadata": {
        "id": "49cbf9b8",
        "outputId": "78cb85cd-b354-4da6-e650-735161f69ec9",
        "colab": {
          "base_uri": "https://localhost:8080/"
        }
      },
      "outputs": [
        {
          "output_type": "stream",
          "name": "stdout",
          "text": [
            "La velocidad actual de la bici es: 2\n",
            "La bici es de tipo: montaña\n",
            "La velocidad actual de la bici es: 5\n"
          ]
        }
      ],
      "source": [
        "#!/usr/bin/env python\n",
        "# -*- coding: utf-8 -*-\n",
        "\n",
        "class Bicicleta:                         # por costumbre, comienzan en mayúsculas y singular, o CamelCase\n",
        "    '''Modelado de una bicicleta mecánica'''\n",
        "    def __init__(self, tipo, tam):\n",
        "        '''Inicializa los atributos tipo y tamaño'''\n",
        "        self.tipo=tipo\n",
        "        self.tam=tam\n",
        "    def velocidad(self, vel):\n",
        "        '''Simula la velocidad de una bicicleta'''\n",
        "        if vel != 0:\n",
        "            print(\"La velocidad actual de la bici es:\", vel)\n",
        "        else:\n",
        "            print(\"La bici está parada.\")\n",
        "\n",
        "miBici=Bicicleta(\"montaña\",\"cadete\")\n",
        "miBici.velocidad(2)\n",
        "print(\"La bici es de tipo:\", miBici.tipo)  # accedemos a uno de los atributos usando la notación de punto\n",
        "\n",
        "Bicicleta(\"montaña\", \"grande\").tam         # creamos otra bici sin asignar a una variable, pero funciona llamar al atributo\n",
        "                                           # lo aconsejable es asignar la instancia creada a una variable\n",
        "\n",
        "miBici.velocidad(5)                        # accedemos a un método usando la notación punto\n"
      ]
    },
    {
      "cell_type": "code",
      "execution_count": 3,
      "id": "4764deef",
      "metadata": {
        "id": "4764deef",
        "outputId": "ddf6399f-9a9b-4511-aaf6-f5aa74b53f77",
        "colab": {
          "base_uri": "https://localhost:8080/"
        }
      },
      "outputs": [
        {
          "output_type": "stream",
          "name": "stdout",
          "text": [
            "La bici está parada.\n"
          ]
        }
      ],
      "source": [
        "otraBici = Bicicleta(\"carreras\", \"mediana\")  # creamos otra instancia de la clase Bicicleta\n",
        "otraBici.velocidad(0)                        # accedemos al método velocidad"
      ]
    },
    {
      "cell_type": "code",
      "execution_count": 4,
      "id": "b509099a",
      "metadata": {
        "id": "b509099a",
        "outputId": "749d2a56-53d5-46c1-d4c6-0d81b369e27f",
        "colab": {
          "base_uri": "https://localhost:8080/"
        }
      },
      "outputs": [
        {
          "output_type": "execute_result",
          "data": {
            "text/plain": [
              "<__main__.Bicicleta at 0x7f92604b3ee0>"
            ]
          },
          "metadata": {},
          "execution_count": 4
        }
      ],
      "source": [
        "miBici                                    # nos dice que es un objeto de tipo Bicicleta y da la dirección de memoria"
      ]
    }
  ],
  "metadata": {
    "kernelspec": {
      "display_name": "Python 3",
      "language": "python",
      "name": "python3"
    },
    "language_info": {
      "codemirror_mode": {
        "name": "ipython",
        "version": 3
      },
      "file_extension": ".py",
      "mimetype": "text/x-python",
      "name": "python",
      "nbconvert_exporter": "python",
      "pygments_lexer": "ipython3",
      "version": "3.8.8"
    },
    "colab": {
      "name": "calisto2_0060.ipynb",
      "provenance": [],
      "include_colab_link": true
    }
  },
  "nbformat": 4,
  "nbformat_minor": 5
}