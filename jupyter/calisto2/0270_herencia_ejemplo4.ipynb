{
  "cells": [
    {
      "cell_type": "markdown",
      "metadata": {
        "id": "view-in-github",
        "colab_type": "text"
      },
      "source": [
        "<a href=\"https://colab.research.google.com/github/financieras/pyCourse/blob/main/jupyter/calisto2/calisto2_0270.ipynb\" target=\"_parent\"><img src=\"https://colab.research.google.com/assets/colab-badge.svg\" alt=\"Open In Colab\"/></a>"
      ]
    },
    {
      "cell_type": "markdown",
      "id": "328756f2",
      "metadata": {
        "id": "328756f2"
      },
      "source": [
        "# Herencia [5] Ejemplos"
      ]
    },
    {
      "cell_type": "markdown",
      "id": "03eb10de",
      "metadata": {
        "id": "03eb10de"
      },
      "source": [
        "## Superclase Mascota"
      ]
    },
    {
      "cell_type": "code",
      "execution_count": null,
      "id": "7dd22bdd",
      "metadata": {
        "id": "7dd22bdd"
      },
      "outputs": [],
      "source": [
        "class Mascota:                                      # clase principal, superclase, clase padre\n",
        "    '''Clase que representa a una mascota'''\n",
        "    def __init__(self, nombre, raza, edad):\n",
        "        self.nombre = nombre\n",
        "        self.raza = raza\n",
        "        self.edad = edad\n",
        "        self.vacunas = 0\n",
        "    def read_vacunas(self):\n",
        "        '''Imprime la cantidad de vacunas que tiene puestas la mascota'''\n",
        "        print(f\"{self.nombre} cuenta actualmente con {self.vacunas} vacunas.\")\n",
        "    def set_vacunas(self, num_vacunas):\n",
        "        '''Actualiza el número de vacunas e impide reducirlas'''\n",
        "        if num_vacunas >= self.vacunas:\n",
        "            self.vacunas = num_vacunas\n",
        "        else:\n",
        "            print(\"No es posible reducir el número de vacunas que ya tiene administradas.\")\n",
        "\n",
        "class Perro(Mascota):                               # clase secundaria, subclase, clase hija\n",
        "    '''Representa un perro. Esta clase hereda de Mascota'''\n",
        "    def __init__(self, nombre, raza, edad):\n",
        "        '''Inicializa los atributos de la clase padre'''\n",
        "        super().__init__(nombre, raza, edad)\n",
        "\n",
        "miPerro = Perro(\"Thor\", \"Mastín\", 7)\n",
        "miPerro.set_vacunas(5)\n",
        "miPerro.read_vacunas()\n",
        "    "
      ]
    },
    {
      "cell_type": "markdown",
      "id": "a3e62348",
      "metadata": {
        "id": "a3e62348"
      },
      "source": [
        "La función ```super()``` es una función especial que permite establecer la conexión entre los atributos de la superclase y de la subclase, que permite que los atributos de la clase padre pasen a ser los atributos de la clase hija.\n",
        "\n",
        "Ahora añadiremos un método get a la clase hija que será propio de la clase Perro."
      ]
    },
    {
      "cell_type": "code",
      "execution_count": null,
      "id": "ac1daf23",
      "metadata": {
        "id": "ac1daf23"
      },
      "outputs": [],
      "source": [
        "class Mascota:\n",
        "    '''Clase que representa a una mascota'''\n",
        "    def __init__(self, nombre, raza, edad):\n",
        "        self.nombre = nombre\n",
        "        self.raza = raza\n",
        "        self.edad = edad\n",
        "        self.vacunas = 0\n",
        "    def read_vacunas(self):\n",
        "        '''Imprime la cantidad de vacunas que tiene puestas la mascota'''\n",
        "        print(f\"{self.nombre} cuenta actualmente con {self.vacunas} vacunas.\")\n",
        "    def set_vacunas(self, num_vacunas):\n",
        "        '''Actualiza el número de vacunas e impide reducirlas'''\n",
        "        if num_vacunas >= self.vacunas:\n",
        "            self.vacunas = num_vacunas\n",
        "        else:\n",
        "            print(\"No es posible reducir el número de vacunas que ya tiene administradas.\")\n",
        "\n",
        "class Perro(Mascota):\n",
        "    '''Representa un perro. Esta clase hereda de Mascota'''\n",
        "    def __init__(self, nombre, raza, edad):\n",
        "        '''Inicializa los atributos de la clase padre'''\n",
        "        super().__init__(nombre, raza, edad)\n",
        "    def get_descripcion(self):                       # añadimos este método get que es propio de esta clase\n",
        "        print(f\"Se llama {self.nombre}, tiene {self.edad} años y es de raza {self.raza}.\")\n",
        "\n",
        "miPerro = Perro(\"Thor\", \"Mastín\", 7)\n",
        "miPerro.get_descripcion()                            # utilizamos el método get propio de la clase hija\n",
        "miPerro.set_vacunas(5)\n",
        "miPerro.read_vacunas()"
      ]
    },
    {
      "cell_type": "markdown",
      "id": "d56aaca9",
      "metadata": {
        "id": "d56aaca9"
      },
      "source": [
        "* La primera frase proviene de la subclase (método get_descripcion)\n",
        "* La segunda frase proviene de la superclase (método read_vacunas)\n",
        "\n",
        "De esta forma comprobamos que la clase hija puede utilizar tanto sus métodos como los heredados de la clase padre."
      ]
    },
    {
      "cell_type": "markdown",
      "id": "8ce2d286",
      "metadata": {
        "id": "8ce2d286"
      },
      "source": [
        "## Sobrescribir métodos\n",
        "Anular métodos de la superclase:  \n",
        "Podemos anular métodos de la clase padre escribiendo un método con el mismo nombre en la clase hija. Al encontrarse el intérprete de Python con dos métodos con el mismo nombre dará prioridad al método de la clase hija."
      ]
    },
    {
      "cell_type": "code",
      "execution_count": null,
      "id": "307cf299",
      "metadata": {
        "id": "307cf299"
      },
      "outputs": [],
      "source": [
        "class Mascota:\n",
        "    '''Clase que representa a una mascota'''\n",
        "    def __init__(self, nombre, raza, edad):\n",
        "        self.nombre = nombre\n",
        "        self.raza = raza\n",
        "        self.edad = edad\n",
        "        self.vacunas = 0\n",
        "        self.voz = ''                     # nuevo atributo. Onomatopeya (sonido) emitido por la mascota\n",
        "    def read_vacunas(self):\n",
        "        '''Imprime la cantidad de vacunas que tiene puestas la mascota'''\n",
        "        print(f\"{self.nombre} cuenta actualmente con {self.vacunas} vacunas.\")\n",
        "    def set_vacunas(self,num_vacunas):\n",
        "        '''Actualiza el número de vacunas e impide reducirlas'''\n",
        "        if num_vacunas >= self.vacunas:\n",
        "            self.vacunas = num_vacunas\n",
        "        else:\n",
        "            print(\"No es posible reducir el número de vacunas que ya tiene administradas.\")\n",
        "    def set_voz(self, voz):\n",
        "        self.voz = voz\n",
        "\n",
        "class Pez(Mascota):                     # nueva subclase donde el método set_voz no interesa\n",
        "    '''Representa un pez. Esta clase hereda de Mascota'''\n",
        "    def __init__(self, nombre, raza, edad):\n",
        "        super().__init__(nombre, raza, edad)\n",
        "    def get_descripcion(self):\n",
        "        print(f\"Se llama {self.nombre}, tiene {self.edad} años y es un {self.raza}.\")\n",
        "        \n",
        "class Perro(Mascota):\n",
        "    '''Representa un perro. Esta clase hereda de Mascota'''\n",
        "    def __init__(self, nombre, raza, edad):\n",
        "        '''Inicializa los atributos de la clase padre'''\n",
        "        super().__init__(nombre, raza, edad)\n",
        "    def get_descripcion(self):\n",
        "        print(f\"Se llama {self.nombre}, tiene {self.edad} años y es de raza {self.raza}.\")\n",
        "        \n",
        "miPez = Pez(\"Nemo\", \"Payaso\", 2)\n",
        "miPez.get_descripcion()\n",
        "miPez.set_voz(\"Maullido\")  # Esto no tendría sentido para la clase Pez, sería una equivocación\n",
        "miPez.voz                  # Los peces no emiten tienen una onomatopeya"
      ]
    },
    {
      "cell_type": "markdown",
      "id": "fae624ca",
      "metadata": {
        "id": "fae624ca"
      },
      "source": [
        "Para evitar que la subclase Pez herede el método set_voz de la superclase vamos a Sobrescribir este método usando el mismo nombre en la clase hija."
      ]
    },
    {
      "cell_type": "code",
      "execution_count": null,
      "id": "710c6a29",
      "metadata": {
        "id": "710c6a29"
      },
      "outputs": [],
      "source": [
        "class Mascota:\n",
        "    '''Clase que representa a una mascota'''\n",
        "    def __init__(self, nombre, raza, edad):\n",
        "        self.nombre = nombre\n",
        "        self.raza = raza\n",
        "        self.edad = edad\n",
        "        self.vacunas = 0\n",
        "        self.voz = ''\n",
        "    def read_vacunas(self):\n",
        "        '''Imprime la cantidad de vacunas que tiene puestas la mascota'''\n",
        "        print(f\"{self.nombre} cuenta actualmente con {self.vacunas} vacunas.\")\n",
        "    def set_vacunas(self, num_vacunas):\n",
        "        '''Actualiza el número de vacunas e impide reducirlas'''\n",
        "        if num_vacunas >= self.vacunas:\n",
        "            self.vacunas = num_vacunas\n",
        "        else:\n",
        "            print(\"No es posible reducir el número de vacunas que ya tiene administradas.\")\n",
        "    def set_voz(self, voz):\n",
        "        self.voz = voz\n",
        "\n",
        "class Pez(Mascota):\n",
        "    '''Representa un pez. Esta clase hereda de Mascota'''\n",
        "    def __init__(self, nombre, raza, edad):\n",
        "        super().__init__(nombre, raza, edad)\n",
        "    def get_descripcion(self):\n",
        "        print(f\"Se llama {self.nombre}, tiene {self.edad} años y es un {self.raza}.\")\n",
        "    def set_voz(self, voz):                      # nuevo método que sobrescribe al de la superclase\n",
        "        #self.voz = voz                           # no es necesario usar self. voz\n",
        "        print(\"El pez no puede emitir un\", voz) # no es necesario usar self.voz \n",
        "class Perro(Mascota):\n",
        "    '''Representa un perro. Esta clase hereda de Mascota'''\n",
        "    def __init__(self,nombre,raza, edad):\n",
        "        '''Inicializa los atributos de la clase padre'''\n",
        "        super().__init__(nombre, raza, edad)\n",
        "    def get_descripcion(self):\n",
        "        print(f\"Se llama {self.nombre}, tiene {self.edad} años y es de raza {self.raza}.\")\n",
        " \n",
        "miPez = Pez(\"Nemo\", \"Payaso\", 2)\n",
        "miPez.get_descripcion()\n",
        "miPez.set_voz(\"Maullido\")  # Esto no tendría sentido para la clase Pez, sería una equivocación"
      ]
    },
    {
      "cell_type": "markdown",
      "id": "60a04924",
      "metadata": {
        "id": "60a04924"
      },
      "source": [
        "## Instancias como atributos\n",
        "En el método \\__init\\__ de una clase podemos crear instancias como atributos.\n",
        "\n",
        "Cuando una clase ha ido creciendo en líneas de código llega un momento en que puede interesarnos separar la clase en dos más pequeñas para organizar mejor nuestro código.\n",
        "\n",
        "Supongamos a la clase Mascota aún tuviéramos que añadir más métodos para tratar las características de las mascotas (tipo de pelo, cola, ojos, orejas, ...). Para evitar que la clase Mascotas se hiciera una clase muy grande dificl de manejar puede interesarnos crear una nueva clase para ir dividiendo el código en partes más pequeñas y manejables. La nueva clase será *Caracteristica*."
      ]
    },
    {
      "cell_type": "code",
      "execution_count": null,
      "id": "363cff4e",
      "metadata": {
        "id": "363cff4e"
      },
      "outputs": [],
      "source": [
        "class Mascota:\n",
        "    '''Clase que representa a una mascota'''\n",
        "    def __init__(self, nombre, raza, edad):\n",
        "        self.nombre = nombre\n",
        "        self.raza = raza\n",
        "        self.edad = edad\n",
        "        self.vacunas = 0\n",
        "        self.voz = ''\n",
        "    def read_vacunas(self):\n",
        "        '''Imprime la cantidad de vacunas que tiene puestas la mascota'''\n",
        "        print(f\"{self.nombre} cuenta actualmente con {self.vacunas} vacunas.\")\n",
        "    def set_vacunas(self, num_vacunas):\n",
        "        '''Actualiza el número de vacunas e impide reducirlas'''\n",
        "        if num_vacunas >= self.vacunas:\n",
        "            self.vacunas = num_vacunas\n",
        "        else:\n",
        "            print(\"No es posible reducir el número de vacunas que ya tiene administradas.\")\n",
        "    def set_voz(self, voz):\n",
        "        self.voz = voz\n",
        "\n",
        "class Caracteristica():                       # nueva clase que no depende de otra\n",
        "    '''Representa las características de una mascota.'''\n",
        "    def __init__(self):\n",
        "        self.orejas = ''\n",
        "        self.cola = ''\n",
        "        self.pelo = ''\n",
        "        self.cuerpo = ''\n",
        "    def set_caracteristica(self, orejas, cola, pelo, cuerpo):\n",
        "        self.orejas = orejas\n",
        "        self.cola = cola\n",
        "        self.pelo = pelo\n",
        "        self.cuerpo = cuerpo\n",
        "    def read_caracteristica(self):\n",
        "        print(\"Orejas:\" + self.orejas,\n",
        "             \"Cola:\" + self.cola,\n",
        "             \"Pelaje:\" + self.pelo,\n",
        "             \"Cuerpo:\" + self.cuerpo,\n",
        "             sep=\"\\n\")                  # cada coma es un separador que será un retorno de carro\n",
        "        \n",
        "class Pez(Mascota):\n",
        "    '''Representa un pez. Esta clase hereda de Mascota'''\n",
        "    def __init__(self, nombre, raza, edad):\n",
        "        super().__init__(nombre, raza, edad)\n",
        "    def get_descripcion(self):\n",
        "        print(f\"Se llama {self.nombre}, tiene {self.edad} años y es un {self.raza}.\")\n",
        "    def set_voz(self, voz):\n",
        "        print(\"El pez no puede emitir un\", voz) \n",
        "class Perro(Mascota):\n",
        "    '''Representa un perro. Esta clase hereda de Mascota'''\n",
        "    def __init__(self, nombre, raza, edad):\n",
        "        '''Inicializa los atributos de la clase padre'''\n",
        "        super().__init__(nombre, raza, edad)\n",
        "        # Crea una instancia y se la asigna a un atributo específico\n",
        "        # Cualquier instancia de Perro, ahora tendrá una instancia de Caracteristica\n",
        "        self.propiedades = Caracteristica()        # en el constructor añadimos un atributo más que es la nueva clase\n",
        "    def get_descripcion(self):\n",
        "        print(f\"Se llama {self.nombre}, tiene {self.edad} años y es de raza {self.raza}.\")\n",
        "\n",
        "miPerro = Perro(\"Thor\", \"Mastín\", 7)\n",
        "miPerro.propiedades.set_caracteristica(\"caidas\", \"larga\", \"denso\", \"fornido\")\n",
        "miPerro.get_descripcion()\n",
        "miPerro.propiedades.read_caracteristica()\n"
      ]
    },
    {
      "cell_type": "markdown",
      "id": "8630d193",
      "metadata": {
        "id": "8630d193"
      },
      "source": [
        "## Herencia con ```super()```\n",
        "Uno de los principales beneficios de la programación orientada a objetos es la reutilización del código y una de las formas en que esto se logra es a través del mecanismo de herencia.\n",
        "\n",
        "* Creamos la clase Equipo que incluye tanto al entrenador como al deportista\n",
        "* La clase Entrenador hereda de Equipo. En el constructor usamos super() que permite usar el constructor de la clase padre y además añadir un atributo a su propio método constructor\n",
        "* La clase Deportista también hereda de Equipo y también usa super().\n",
        "* En la clase Entrenador se añade como atributo en el constructor el salario\n",
        "* En la clase Deportista se añade como atributo en el constructor la marca personal alcanzada"
      ]
    },
    {
      "cell_type": "code",
      "execution_count": null,
      "id": "d72ae5c7",
      "metadata": {
        "id": "d72ae5c7"
      },
      "outputs": [],
      "source": [
        "class MiembroEquipo:\n",
        "        '''Representa a los miembros de un Equipo deportivo\n",
        "        que son tanto el entrenador como el deportista'''\n",
        "        def __init__(self, nombre, edad):\n",
        "                self.nombre = nombre\n",
        "                self.edad = edad\n",
        "                print(f'Inicializado miembro del Equipo: {self.nombre}')\n",
        "        def info(self):\n",
        "                '''Proporciona los detalles'''\n",
        "                print(f'Nombre: {self.nombre}. Edad: {self.edad}.',end=\" \")\n",
        "class Entrenador(MiembroEquipo):\n",
        "        '''Representa al entrenador'''\n",
        "        def __init__(self, nombre, edad, salario):\n",
        "                super().__init__(nombre, edad)          #MiembroEquipo.__init__(self,nombre,edad)\n",
        "                self.salario = salario\n",
        "                print (f'Inicializado el entrenador: {self.nombre}')\n",
        "        def info(self):\n",
        "                super().info()                          #MiembroEquipo.info(self)\n",
        "                print (f'Salario: {self.salario}')\n",
        "class Deportista(MiembroEquipo):\n",
        "        '''Representa a un deportista'''\n",
        "        def __init__(self, nombre, edad, marca):\n",
        "                super().__init__(nombre, edad)          #MiembroEquipo.__init__(self,nombre,edad)     \n",
        "                self.marca = marca\n",
        "                print (f'Initializado el deportista: {self.nombre}')\n",
        "        def info(self):\n",
        "                super().info()                          #MiembroEquipo.info(self)\n",
        "                print (f'Marca: {self.marca}')\n",
        "e = Entrenador('Sr. Perez', 40, 30000)\n",
        "e.info()\n",
        "print(\"=\"*50)\n",
        "d = Deportista('Alejandro', 25, 75)\n",
        "d.info()"
      ]
    },
    {
      "cell_type": "markdown",
      "id": "bec985dc",
      "metadata": {
        "id": "bec985dc"
      },
      "source": [
        "Agregar ```end=\" \"``` en el print del método info de la clase Equipo permite que se imprima en la misma línea de texto el nombre, la edad y el salario para el entrenador y el nombre, la edad y la marca para el deportista. Si no se pusiera se utilizarían dos líneas de texto."
      ]
    },
    {
      "cell_type": "markdown",
      "id": "3722fabb",
      "metadata": {
        "id": "3722fabb"
      },
      "source": [
        "## Importando las clases\n",
        "Existen varios métodos que permiten la importación de clases en un script.\n",
        "\n",
        "1. Importando una o varias clases de un módulo\n",
        "2. Importando un módulo entero\n",
        "3. Importando todas las clases desde un módulo\n",
        "4. Importar un módulo dentro de otro módulo"
      ]
    },
    {
      "cell_type": "markdown",
      "id": "a9c2a26b",
      "metadata": {
        "id": "a9c2a26b"
      },
      "source": [
        "### Método 1\n",
        "Importando una o varias clases de un módulo\n",
        "\n",
        "Hemos creado el archivo mypy.miembro.py\n",
        "\n",
        "Vamos a importar las clases hijas Entrenador y Deportista. No es necesario importar la clase padre MiembroEquipo ya que las subclases heredan lo necesario de la superclase."
      ]
    },
    {
      "cell_type": "code",
      "execution_count": null,
      "id": "4b440093",
      "metadata": {
        "id": "4b440093"
      },
      "outputs": [],
      "source": [
        "from mypy.miembro import Entrenador, Deportista         # no necesitamos importar la superclase MiembroEquipo\n",
        "e = Entrenador('Sr. Perez', 40, 30000)\n",
        "e.info()\n",
        "print(\"=\"*40)\n",
        "d = Deportista('Alejandro', 25, 75)\n",
        "d.info()"
      ]
    },
    {
      "cell_type": "markdown",
      "id": "0a68a70b",
      "metadata": {
        "id": "0a68a70b"
      },
      "source": [
        "### Método 2\n",
        "Importando un módulo entero  "
      ]
    },
    {
      "cell_type": "code",
      "execution_count": null,
      "id": "8b3eec30",
      "metadata": {
        "id": "8b3eec30"
      },
      "outputs": [],
      "source": [
        "import mypy.miembro\n",
        "e = mypy.miembro.Entrenador('Sr. Perez', 40, 30000)\n",
        "e.info()\n",
        "print(\"=\"*40)\n",
        "d = mypy.miembro.Deportista('Alejandro', 25, 75)\n",
        "d.info()"
      ]
    },
    {
      "cell_type": "markdown",
      "id": "9a58f4d9",
      "metadata": {
        "id": "9a58f4d9"
      },
      "source": [
        "### Método 3\n",
        "Importando todas las clases desde un módulo  \n",
        "El inconveniente de este método radica en que tenemos que conocer todas las clases del módulo. Si el módulo que hemos importado no lo hemos programado nosotros importar todas las clases con * no es aconsejable."
      ]
    },
    {
      "cell_type": "code",
      "execution_count": null,
      "id": "3899dd20",
      "metadata": {
        "id": "3899dd20"
      },
      "outputs": [],
      "source": [
        "from mypy.miembro import *\n",
        "e = Entrenador('Sr. Perez', 40, 30000)\n",
        "e.info()\n",
        "print(\"=\"*40)\n",
        "d = Deportista('Alejandro', 25, 75)\n",
        "d.info()"
      ]
    },
    {
      "cell_type": "markdown",
      "id": "8895efe7",
      "metadata": {
        "id": "8895efe7"
      },
      "source": [
        "### Método 4\n",
        "Importar un módulo dentro de otro módulo.\n",
        "\n",
        "Vamos a separar las tres clases en tres archivos.\n",
        "* clase MiembroEquipo está en el archivo mypy.miembroequipo.py\n",
        "* clase Entrenador está en el archivo mypy.entrenador.py → Al inicio del archivo se importa MiembroEquipo de miembroequipo.py\n",
        "* clase Deportista está en el archivo mypy.deportista.py → Al inicio del archivo se importa MiembroEquipo de miembroequipo.py"
      ]
    },
    {
      "cell_type": "code",
      "execution_count": null,
      "id": "4003704a",
      "metadata": {
        "id": "4003704a"
      },
      "outputs": [],
      "source": [
        "from mypy.entrenador import Entrenador\n",
        "e = Entrenador('Sr. Perez', 40, 30000)\n",
        "e.info()"
      ]
    },
    {
      "cell_type": "code",
      "execution_count": null,
      "id": "9d00c6bc",
      "metadata": {
        "id": "9d00c6bc"
      },
      "outputs": [],
      "source": [
        "from mypy.deportista import Deportista\n",
        "d = Deportista('Alejandro', 25, 75)\n",
        "d.info()"
      ]
    }
  ],
  "metadata": {
    "kernelspec": {
      "display_name": "Python 3",
      "language": "python",
      "name": "python3"
    },
    "language_info": {
      "codemirror_mode": {
        "name": "ipython",
        "version": 3
      },
      "file_extension": ".py",
      "mimetype": "text/x-python",
      "name": "python",
      "nbconvert_exporter": "python",
      "pygments_lexer": "ipython3",
      "version": "3.8.8"
    },
    "colab": {
      "name": "0270_herencia_ejemplo4.ipynb",
      "provenance": [],
      "include_colab_link": true
    }
  },
  "nbformat": 4,
  "nbformat_minor": 5
}
