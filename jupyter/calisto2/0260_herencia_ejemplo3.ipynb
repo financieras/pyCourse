{
  "cells": [
    {
      "cell_type": "markdown",
      "metadata": {
        "id": "view-in-github",
        "colab_type": "text"
      },
      "source": [
        "<a href=\"https://colab.research.google.com/github/financieras/pyCourse/blob/main/jupyter/calisto2/calisto2_0260.ipynb\" target=\"_parent\"><img src=\"https://colab.research.google.com/assets/colab-badge.svg\" alt=\"Open In Colab\"/></a>"
      ]
    },
    {
      "cell_type": "markdown",
      "id": "00cbecb3",
      "metadata": {
        "id": "00cbecb3"
      },
      "source": [
        "# Herencia [4] Ejemplos\n",
        "## Herencia simple"
      ]
    },
    {
      "cell_type": "markdown",
      "id": "5b83f124",
      "metadata": {
        "id": "5b83f124"
      },
      "source": [
        "### Empleado hereda de Persona"
      ]
    },
    {
      "cell_type": "code",
      "execution_count": null,
      "id": "82f44f18",
      "metadata": {
        "id": "82f44f18",
        "outputId": "1589d881-8a33-40d8-b96f-a9683164a285"
      },
      "outputs": [
        {
          "name": "stdout",
          "output_type": "stream",
          "text": [
            "Soy Ana y tengo 27 años.\n",
            "Mi categoría es de administrativo y tengo un salario de 28500 €.\n"
          ]
        }
      ],
      "source": [
        "class Persona():                                                # superclase\n",
        "    def __init__(self, nombre, edad):\n",
        "        self.nombre = nombre\n",
        "        self.edad = edad\n",
        "    def identificar(self):\n",
        "        print(f\"Soy {self.nombre} y tengo {self.edad} años.\")\n",
        "class Empleado(Persona):                                        # subclase\n",
        "    def __init__(self, nombre, edad, categoria, salario):\n",
        "        Persona.__init__(self, nombre, edad)                    # equivale a:    super().__init__(nombre, edad)\n",
        "        self.categoria = categoria\n",
        "        self.salario = salario\n",
        "    def datos_nomina(self):\n",
        "        msg=f\"Mi categoría es de {self.categoria} y tengo un salario de {self.salario} €.\"\n",
        "        return msg\n",
        "\n",
        "p1 = Persona(\"Pedro\", 25)\n",
        "p2 = Empleado(\"Ana\", 27, \"administrativo\", 28500)\n",
        "p2.identificar()\n",
        "print(p2.datos_nomina())"
      ]
    },
    {
      "cell_type": "markdown",
      "id": "9e5f8e3f",
      "metadata": {
        "id": "9e5f8e3f"
      },
      "source": [
        "Podemos definir la superclase Persona de tres formas diferentes que son análogas:\n",
        "* class Persona:\n",
        "* class Persona():\n",
        "* class Persona(object):"
      ]
    },
    {
      "cell_type": "markdown",
      "id": "391e4f51",
      "metadata": {
        "id": "391e4f51"
      },
      "source": [
        "### Actuario hereda de Estudiante\n",
        "Supongamos un Estudiante genérico que es la clase padre y un estudiante de actuariales (Actuario) que es la clase hija.\n",
        "\n",
        "En este ejemplo la clase hija Actuario no lleva constructor y utiliza el constructor de la clase padre.  \n",
        "Cuando creamos una clase hija no es necesario volver a incluir el constructor \\_\\_init\\_\\_ si nos basta con el que contiene la clase padre."
      ]
    },
    {
      "cell_type": "code",
      "execution_count": null,
      "id": "2cbb848e",
      "metadata": {
        "id": "2cbb848e",
        "outputId": "e3276285-6d44-4c2c-b2da-3e3883c00fca"
      },
      "outputs": [
        {
          "name": "stdout",
          "output_type": "stream",
          "text": [
            "Soy José Manuel tengo 23 años y estudio actuariales\n"
          ]
        }
      ],
      "source": [
        "#!/usr/bin/env python\n",
        "# -*- coding: utf-8 -*-\n",
        "class Estudiante(object):             # Creamos la clase padre. Observe que poner object es optativo.\n",
        "    def __init__(self, edad, nombre): # Definimos los parámetros edad y nombre\n",
        "        self.edad = edad              # Declaramos que el atributo edad es igual al argumento edad\n",
        "        self.nombre = nombre          # Declaramos que el atributo nombre es igual al argumento nombre\n",
        "class Actuario(Estudiante):           # La clase padre es ESTUDIANTE, esto convierte a ACTUARIO en clase hija\n",
        "    def saluda(self):                 # Creamos el método saludar\n",
        "       print (f\"Soy {self.nombre} tengo {self.edad} años y estudio actuariales.\") # Se presenta llamando a los atributos\n",
        "\n",
        "Manu = Actuario(23, 'José Manuel')    # Indicamos argumentos edad y nombre\n",
        "Manu.saluda()                         # Llamamos al método y Manu se presenta"
      ]
    },
    {
      "cell_type": "markdown",
      "id": "f7ced2ad",
      "metadata": {
        "id": "f7ced2ad"
      },
      "source": [
        "## Herencia múltiple"
      ]
    },
    {
      "cell_type": "markdown",
      "id": "a47d8cd6",
      "metadata": {
        "id": "a47d8cd6"
      },
      "source": [
        "### Actuario hereda de Estudiante y de Universidad\n",
        "Sabemos que Estudiante y Universidad son superclases porque no heredan de nadie."
      ]
    },
    {
      "cell_type": "code",
      "execution_count": null,
      "id": "afe5ec72",
      "metadata": {
        "id": "afe5ec72",
        "outputId": "448aa39f-d040-4534-fcdc-99b7e4216f6e"
      },
      "outputs": [
        {
          "name": "stdout",
          "output_type": "stream",
          "text": [
            "Soy José Manuel tengo 23 años y estudio actuariales.\n",
            "Estudio en la UCM.\n"
          ]
        }
      ],
      "source": [
        "#!/usr/bin/env python\n",
        "# -*- coding: utf-8 -*-\n",
        "class Estudiante(object):               # una superclase\n",
        "    def __init__(self, edad, nombre):\n",
        "        self.edad = edad\n",
        "        self.nombre = nombre\n",
        "class Universidad(object):              # creamos otra superclase. Observe que poner object es optativo.\n",
        "    def presentaUni(self):              # creamos el método que permite presentar la universidad en la que estudia\n",
        "        print(\"Estudio en la UCM.\")        \n",
        "class Actuario(Estudiante,Universidad): # hereda de dos superclases\n",
        "    def saluda(self):                   # creamos el método saludar\n",
        "       print (f\"Soy {self.nombre} tengo {self.edad} años y estudio actuariales.\")\n",
        "\n",
        "Manu = Actuario(23, 'José Manuel')      # instanciamos el objeto Manu\n",
        "Manu.saluda()                           # llamamos al método y Manu se presenta\n",
        "Manu.presentaUni()                      # llamamos al método presentaUni y Manu nos dice en que universidad estudia"
      ]
    },
    {
      "cell_type": "markdown",
      "id": "d8f985c8",
      "metadata": {
        "id": "d8f985c8"
      },
      "source": [
        "### Empleado hereda de Persona y de Actuario"
      ]
    },
    {
      "cell_type": "markdown",
      "id": "5585adb4",
      "metadata": {
        "id": "5585adb4"
      },
      "source": [
        "Tenemos dos superclases Persona, Actuario y una subclase que hereda de ambas llamada Empleado.  "
      ]
    },
    {
      "cell_type": "code",
      "execution_count": null,
      "id": "87f8457d",
      "metadata": {
        "id": "87f8457d",
        "outputId": "67068f27-7280-47ba-81de-dcd901289f19"
      },
      "outputs": [
        {
          "name": "stdout",
          "output_type": "stream",
          "text": [
            "Nombre: Eva\n",
            "Edad: 26\n",
            "Universidad: UCM\n",
            "Promoción: 2016\n",
            "Categoría: senior\n",
            "Salario: 44600\n"
          ]
        }
      ],
      "source": [
        "class Persona:                                   # superclase\n",
        "    def __init__(self, nombre, edad):\n",
        "        self.nombre = nombre\n",
        "        self.edad = edad\n",
        "class Actuario:                                  # superclase\n",
        "    def __init__(self, universidad, promocion):  # ejemplo: universidad=UCM promocion=2020\n",
        "        self.uni=universidad                     # el atributo de instancia es self.uni\n",
        "        self.promocion=promocion\n",
        "class Empleado(Persona, Actuario):               # el orden importa, si hay 2 atributos con igual nombre se toma el de la 1ª clase\n",
        "    def __init__(self,nombre,edad,uni,promocion,categoria,salario):\n",
        "        Persona.__init__(self, nombre, edad)\n",
        "        Actuario.__init__(self,uni,promocion)\n",
        "        self.categoria=categoria\n",
        "        self.salario=salario\n",
        "\n",
        "e1 = Empleado(\"Eva\", 26, \"UCM\", 2016, \"senior\", 44600)\n",
        "print(\"Nombre:\", e1.nombre)\n",
        "print(\"Edad:\", e1.edad)\n",
        "print(\"Universidad:\", e1.uni)\n",
        "print(\"Promoción:\", e1.promocion)\n",
        "print(\"Categoría:\", e1.categoria)\n",
        "print(\"Salario:\", e1.salario)"
      ]
    }
  ],
  "metadata": {
    "kernelspec": {
      "display_name": "Python 3",
      "language": "python",
      "name": "python3"
    },
    "language_info": {
      "codemirror_mode": {
        "name": "ipython",
        "version": 3
      },
      "file_extension": ".py",
      "mimetype": "text/x-python",
      "name": "python",
      "nbconvert_exporter": "python",
      "pygments_lexer": "ipython3",
      "version": "3.8.8"
    },
    "colab": {
      "name": "0260_herencia_ejemplo3.ipynb",
      "provenance": [],
      "include_colab_link": true
    }
  },
  "nbformat": 4,
  "nbformat_minor": 5
}
