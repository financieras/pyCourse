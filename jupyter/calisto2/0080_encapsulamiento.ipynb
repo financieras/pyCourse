{
  "cells": [
    {
      "cell_type": "markdown",
      "metadata": {
        "id": "view-in-github",
        "colab_type": "text"
      },
      "source": [
        "<a href=\"https://colab.research.google.com/github/financieras/pyCourse/blob/main/jupyter/calisto2/calisto2_0080.ipynb\" target=\"_parent\"><img src=\"https://colab.research.google.com/assets/colab-badge.svg\" alt=\"Open In Colab\"/></a>"
      ]
    },
    {
      "cell_type": "markdown",
      "id": "8ca433f0",
      "metadata": {
        "id": "8ca433f0"
      },
      "source": [
        "# Encapsulamiento en la POO\n",
        "[Wikipedia](https://es.wikipedia.org/wiki/Encapsulamiento_(inform%C3%A1tica))  \n",
        "En programación orientada a objetos, se denomina encapsulamiento al ocultamiento del estado interno de una clase al exterior. Encapsular consiste en hacer que los atributos y/o métodos internos a una clase no se puedan acceder ni modificar desde fuera de la propia clase.\n",
        "\n",
        "Cada objeto está aislado del exterior. El aislamiento protege a los datos asociados de un objeto contra su modificación por quien no tenga derecho a acceder a ellos, eliminando efectos secundarios e interacciones. Se evita que el usuario pueda cambiar su estado de maneras imprevistas e incontroladas.\n",
        "\n",
        "En JAVA las variables se indican si son públicas (Public) o privadas (Private). En Python por defecto todas los atributos y métodos de la clase son públicos, esto es, son accesibles desde fuera de la clase simplemente invocándolos.  \n",
        "\n",
        "**Ejemplo 1**  \n",
        "Con un atributo de clase."
      ]
    },
    {
      "cell_type": "code",
      "execution_count": null,
      "id": "f37de43c",
      "metadata": {
        "id": "f37de43c"
      },
      "outputs": [],
      "source": [
        "class Numero:\n",
        "    pi = 3.1415                                # Atributo de clase\n",
        "\n",
        "Numero.pi                                      # podemos acceder sin problemas al atributo de clase desde fuera de la clase"
      ]
    },
    {
      "cell_type": "markdown",
      "id": "5d145451",
      "metadata": {
        "id": "5d145451"
      },
      "source": [
        "**Ejemplo 2**  \n",
        "Con atributos de instancia."
      ]
    },
    {
      "cell_type": "code",
      "execution_count": null,
      "id": "6f871669",
      "metadata": {
        "id": "6f871669"
      },
      "outputs": [],
      "source": [
        "class Socio:\n",
        "    def __init__(self, nombre):\n",
        "        self.nombre = nombre\n",
        "\n",
        "alberto = Socio('Alberto')                     # creamos una instancia de la clase Socio\n",
        "print(alberto.nombre)                          # imprimimos el atributo de instancia\n",
        "\n",
        "alberto.nombre = 'Alberto José'                # podemos cambiar el atributo desde fuera de la clase sin problemas\n",
        "print(alberto.nombre)                          # podemos acceder el atributo desde fuera de la clase sin problemas"
      ]
    },
    {
      "cell_type": "markdown",
      "id": "7ed2e0a7",
      "metadata": {
        "id": "7ed2e0a7"
      },
      "source": [
        "**Ejemplo 3**  \n",
        "Podemos acceder a los métodos de una clase desde fuera de ésta."
      ]
    },
    {
      "cell_type": "code",
      "execution_count": null,
      "id": "b8f575a1",
      "metadata": {
        "id": "b8f575a1"
      },
      "outputs": [],
      "source": [
        "class Socio:\n",
        "    def __init__(self, nombre):\n",
        "        self.nombre = nombre\n",
        "\n",
        "    def set_nombre(self, nombre):\n",
        "        self.nombre = nombre\n",
        "\n",
        "    def get_nombre(self):\n",
        "        return self.nombre\n",
        "\n",
        "alberto = Socio('Alberto')\n",
        "print(alberto.get_nombre())                    # accedemos, sin problemas, a un método desde fuera de la clase\n",
        "\n",
        "alberto.set_nombre('Alberto José')             # accedemos, sin problemas, a un método desde fuera de la clase\n",
        "print(alberto.get_nombre())"
      ]
    },
    {
      "cell_type": "code",
      "execution_count": null,
      "id": "006835be",
      "metadata": {
        "id": "006835be"
      },
      "outputs": [],
      "source": [
        "# También podemos acceder a un atributo desde fuera de la clase, no está protegido, no es privado\n",
        "alberto.nombre                                 # accedemos también al atributo nombre desde fuera de la clase"
      ]
    },
    {
      "cell_type": "markdown",
      "id": "ef589cec",
      "metadata": {
        "id": "ef589cec"
      },
      "source": [
        "El código anterior se asemeja al estilo JAVA con los setter y los getter.  \n",
        "\n",
        "Son **públicos** tanto los métodos *set_nombre* y *get_nombre*, como el atributo *nombre*."
      ]
    },
    {
      "cell_type": "markdown",
      "id": "bba770a9",
      "metadata": {
        "id": "bba770a9"
      },
      "source": [
        "# Modificadores de acceso ```_``` ```__```"
      ]
    },
    {
      "cell_type": "markdown",
      "id": "12e91550",
      "metadata": {
        "id": "12e91550"
      },
      "source": [
        "## _privado\n",
        "\n",
        "Elementos privados usando como prefijo una barra baja _\n",
        "\n",
        "Por convenio, si el programador pone una barra baja precediendo el nombre de los atributos o métodos está indicando a otros desarrolladores, o a sí mismo, que esos elementos no deben ser accesibles desde fuera de la clase, no deben ser expuestos ni modificados externamente. Pero esto es solo una sugerencia que el intérprete de Python no considera como obligación y no impide el acceso desde fuera de la clase.  \n",
        "\n",
        "Veamos un ejemplo donde pese a la barra baja como prefijo se puede acceder perfectamente desde fuera de la clase a los atributos y a los métodos."
      ]
    },
    {
      "cell_type": "code",
      "execution_count": null,
      "id": "e74c80a5",
      "metadata": {
        "id": "e74c80a5"
      },
      "outputs": [],
      "source": [
        "class Socio:\n",
        "    def __init__(self, nombre, password):\n",
        "        self.nombre = nombre\n",
        "        self._password = password\n",
        "\n",
        "    def _set_nombre(self, nombre):\n",
        "        self.nombre = nombre\n",
        "\n",
        "    def get_nombre(self):\n",
        "        return self.nombre\n",
        "\n",
        "alberto = Socio('Alberto', '1234')                   \n",
        "print(alberto._password)             # nada nos impide acceder desde fuera de la clase a un atributo con prefijo _\n",
        "                                     # incluso podemos acceder desde fuera a un atributo tan sensible como password\n",
        "alberto._set_nombre('Alberto José')  # nada nos impide acceder desde fuera de la clase a un método con prefijo _\n",
        "print(alberto.get_nombre())"
      ]
    },
    {
      "cell_type": "markdown",
      "id": "b85113f1",
      "metadata": {
        "id": "b85113f1"
      },
      "source": [
        "## __protegido\n",
        "\n",
        "Elementos protegidos usando como prefijo dos barras bajas __\n",
        "\n",
        "Protegeremos los métodos y atributos cuando deseemos evitar que un usuario modifique el estado interno de la instancia. Protegiéndolos nos asegurarnos que el atributo no pueda ser modificado ni accedido desde fuera de la clase.\n",
        "\n",
        "**Nota**  \n",
        "Como en Python no existen atributos y métodos privados propiamente dichos, muchos desarrolladores de Python denominan como Privados a los elementos que llevan las dos barras bajas como prefijo. Muchos programadores llaman privados a los elementos que van con dos barras bajas como prefijo, porque esto evita que estos métodos y atributos sean accedidos o modificados externamente."
      ]
    },
    {
      "cell_type": "code",
      "execution_count": null,
      "id": "5c0d1d7b",
      "metadata": {
        "id": "5c0d1d7b"
      },
      "outputs": [],
      "source": [
        "class Saludo:\n",
        "    dias = \"Buenos días\"                # accesible desde el exterior\n",
        "    __tardes = \"Buenas tardes\"          # no accesible\n",
        "\n",
        "    def __cafe(self):                   # no accesible desde el exterior\n",
        "        print(\"Estoy tomando un café\")\n",
        "\n",
        "    def desayuno(self):                 # accesible desde el exterior\n",
        "        self.__cafe()                   # el método si es accesible desde el interior\n",
        "\n",
        "hola = Saludo()\n",
        "\n",
        "hola.dias                               # Buenos días\n",
        "#hola.__tardes                          # ERROR El atributo no es accesible"
      ]
    },
    {
      "cell_type": "code",
      "execution_count": null,
      "id": "07b73a42",
      "metadata": {
        "id": "07b73a42"
      },
      "outputs": [],
      "source": [
        "#hola.__cafe()                          # ERROR El método no es accesible\n",
        "hola.desayuno()                         # Estoy tomando un café"
      ]
    },
    {
      "cell_type": "markdown",
      "id": "14eea6cf",
      "metadata": {
        "id": "14eea6cf"
      },
      "source": [
        "Podemos ver los métodos y atributos accesibles de la instancia *hola* perteneciente a la clase *Saludo*, usando ```dir```."
      ]
    },
    {
      "cell_type": "code",
      "execution_count": null,
      "id": "74e87b47",
      "metadata": {
        "id": "74e87b47"
      },
      "outputs": [],
      "source": [
        "dir(hola)"
      ]
    },
    {
      "cell_type": "markdown",
      "id": "2b4dd08a",
      "metadata": {
        "id": "2b4dd08a"
      },
      "source": [
        "Vemos muchos métodos especiales y además:\n",
        "* vemos el método *desayuno*\n",
        "* vemos el atributo de clase *dias*\n",
        "* no podemos encontrar el método *\\__cafe* → → → pero aparece otro método llamado _Saludo__cafe\n",
        "* no podemos encontrar el atributo *\\__tardes* → → → pero aparece otro atributo llamado _Saludo__tardes\n",
        "\n",
        "Si podemos acceder a estos métodos y atributos que inicialmente parecen ocultos, lo que sucede es que el intérprete de Python los ha cambiado de nombre para ocultarlos  y evitar su uso. Podemos llamarlos de la siguiene manera aunque **no se recomienda su uso**."
      ]
    },
    {
      "cell_type": "code",
      "execution_count": null,
      "id": "4d227cc4",
      "metadata": {
        "id": "4d227cc4"
      },
      "outputs": [],
      "source": [
        "hola._Saludo__tardes"
      ]
    },
    {
      "cell_type": "code",
      "execution_count": null,
      "id": "fac977a2",
      "metadata": {
        "id": "fac977a2"
      },
      "outputs": [],
      "source": [
        "hola._Saludo__cafe()"
      ]
    },
    {
      "cell_type": "markdown",
      "id": "fda6f98a",
      "metadata": {
        "id": "fda6f98a"
      },
      "source": [
        "## Proteger el acceso\n",
        "Proteger el acceso usando la doble barra baja como prefijo tanto para métodos como para atributos.\n",
        "\n",
        "Originariamente la doble barra baja se estableció para que el intérprete de Python renombra el elemento (fuera método o atributo) para evitar colisiones con las subclases. Aunque la idea original era evitar colisiones, pronto los desarrolladores comprendieron que el uso de la doble barra baja servía para prevenir accesos no autorizados."
      ]
    },
    {
      "cell_type": "code",
      "execution_count": null,
      "id": "b5e86d9b",
      "metadata": {
        "id": "b5e86d9b"
      },
      "outputs": [],
      "source": [
        "class Caperucita:\n",
        "    def __colorSecreto(self):\n",
        "        print('Mi color favorito es el ROJO')\n",
        "    def public(self):\n",
        "        self.__colorSecreto()\n",
        "class Pitufo(Caperucita):\n",
        "    def __colorSecreto(self):                       # la subclase tiene el mismo nombre de método que la clase\n",
        "        print('Mi color favorito es el AZUL')\n",
        "    def public(self):                               # la subclase tiene el mismo nombre de método que la clase\n",
        "        self.__colorSecreto()\n",
        "        \n",
        "marianela=Caperucita()                              # pocos saben que el verdadero nombre de Caperucita Roja era Marianela\n",
        "#marianela.__colorSecreto()                         # ERROR no se puede acceder a un método protegido con dos barras bajas\n",
        "                                                    # AttributeError: 'Caperucita' object has no attribute '__colorSecreto'"
      ]
    },
    {
      "cell_type": "code",
      "execution_count": null,
      "id": "20d8de61",
      "metadata": {
        "id": "20d8de61"
      },
      "outputs": [],
      "source": [
        "marianela.public()                                  # podemos acceder perfectamente al método public de la superclase"
      ]
    },
    {
      "cell_type": "code",
      "execution_count": null,
      "id": "fe5fb9be",
      "metadata": {
        "id": "fe5fb9be"
      },
      "outputs": [],
      "source": [
        "pitufina = Pitufo()                                 # creamos una instancia de la subclase\n",
        "pitufina.public()                                   # la instancia de la subclase llama a su método public, no hay colisión"
      ]
    },
    {
      "cell_type": "code",
      "execution_count": null,
      "id": "f17fa5c0",
      "metadata": {
        "id": "f17fa5c0"
      },
      "outputs": [],
      "source": [
        "dir(marianela)                                      # se renombra, ahora el método se llama _Caperucita__colorSecreto"
      ]
    },
    {
      "cell_type": "markdown",
      "id": "0d044213",
      "metadata": {
        "id": "0d044213"
      },
      "source": [
        "Al poner la doble barra baja en el método \\__colorSecreto la instancia Marianela no puede acceder a él, obteniendo el error *AtributeError*, dando a entender que este elemento no existe. Lo que ha sucedido es que tiene otro nombre. Al listar los atributos y métodos de la clase Caperucita vemos que fue renombrado, ahora se llama _Caperucita__colorSecreto."
      ]
    },
    {
      "cell_type": "markdown",
      "id": "5d3a14b0",
      "metadata": {
        "id": "5d3a14b0"
      },
      "source": [
        "Vamos a listar los métodos y atributos de pitufina que es una instancia de la clase hija.  \n",
        "Podemos observar dos métodos colorSecreto uno de la clase padre y otro de la clase hija.  \n",
        "* _Caperucita__colorSecreto\n",
        "* _Pitufo__colorSecreto"
      ]
    },
    {
      "cell_type": "code",
      "execution_count": null,
      "id": "323baa5e",
      "metadata": {
        "id": "323baa5e"
      },
      "outputs": [],
      "source": [
        "dir(pitufina) "
      ]
    },
    {
      "cell_type": "markdown",
      "id": "daa200f3",
      "metadata": {
        "id": "daa200f3"
      },
      "source": [
        "Traslademos estas ideas a la clase Socio."
      ]
    },
    {
      "cell_type": "code",
      "execution_count": null,
      "id": "84ec8734",
      "metadata": {
        "id": "84ec8734"
      },
      "outputs": [],
      "source": [
        "import hashlib\n",
        "\n",
        "class Socio:\n",
        "    def __init__(self, nombre, password):\n",
        "        '''Construcctor. La password se\n",
        "        encriptará antes de ser almacenada.'''\n",
        "        self.nombre = nombre\n",
        "        self.password = self.__encripta_pw(password)\n",
        "\n",
        "    def __encripta_pw(self, password):                      # método privado (protegido)\n",
        "        '''Encripta la password con el\n",
        "        nombre de usuario y retorna el sha.'''\n",
        "        hash_string = (self.nombre + password)\n",
        "        hash_string = hash_string.encode(\"utf8\")\n",
        "        return hashlib.sha256(hash_string).hexdigest()\n",
        "\n",
        "    def check_password(self, password):\n",
        "        '''Retorna True si la password es válida para\n",
        "        el usuario, en caso contrario retorna False.'''\n",
        "        encriptada = self.__encripta_pw(password)\n",
        "        return encriptada == self.password\n",
        "\n",
        "    def change_password(self, password):\n",
        "        '''Permite cambiar la password\n",
        "        de un usuario, alterando el hash.'''\n",
        "        self.password = self.__encripta_pw(password)"
      ]
    },
    {
      "cell_type": "code",
      "execution_count": null,
      "id": "35ce2301",
      "metadata": {
        "id": "35ce2301"
      },
      "outputs": [],
      "source": [
        "pedro = Socio(\"Pedro\", \"1234\")\n",
        "pedro.password                                          # muestra el hash almacenado, pero no la password original"
      ]
    },
    {
      "cell_type": "code",
      "execution_count": null,
      "id": "712c3909",
      "metadata": {
        "id": "712c3909"
      },
      "outputs": [],
      "source": [
        "pedro.check_password(\"1234\")                            # comprueba que la clave es correcta"
      ]
    },
    {
      "cell_type": "code",
      "execution_count": null,
      "id": "8a3fd6ac",
      "metadata": {
        "id": "8a3fd6ac"
      },
      "outputs": [],
      "source": [
        "pedro.change_password('abcde')                          # cambiamos la password \n",
        "pedro.password                                          # con la password nueva cambia el hash"
      ]
    },
    {
      "cell_type": "code",
      "execution_count": null,
      "id": "b14a23b6",
      "metadata": {
        "id": "b14a23b6"
      },
      "outputs": [],
      "source": [
        "pedro.change_password('1234')                           # volvemos a la password antigua\n",
        "pedro.password                                          # comprobamos que el hash es el antiguo"
      ]
    }
  ],
  "metadata": {
    "kernelspec": {
      "display_name": "Python 3",
      "language": "python",
      "name": "python3"
    },
    "language_info": {
      "codemirror_mode": {
        "name": "ipython",
        "version": 3
      },
      "file_extension": ".py",
      "mimetype": "text/x-python",
      "name": "python",
      "nbconvert_exporter": "python",
      "pygments_lexer": "ipython3",
      "version": "3.8.8"
    },
    "colab": {
      "name": "calisto2_0080.ipynb",
      "provenance": [],
      "include_colab_link": true
    }
  },
  "nbformat": 4,
  "nbformat_minor": 5
}
