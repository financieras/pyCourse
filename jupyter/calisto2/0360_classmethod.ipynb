{
  "cells": [
    {
      "cell_type": "markdown",
      "metadata": {
        "id": "view-in-github",
        "colab_type": "text"
      },
      "source": [
        "<a href=\"https://colab.research.google.com/github/financieras/pyCourse/blob/main/jupyter/calisto2/calisto2_0360.ipynb\" target=\"_parent\"><img src=\"https://colab.research.google.com/assets/colab-badge.svg\" alt=\"Open In Colab\"/></a>"
      ]
    },
    {
      "cell_type": "markdown",
      "metadata": {
        "id": "z21CbSjsgQs8"
      },
      "source": [
        "# Métodos de clase `@classmethod`\n",
        "Hay tres tipos de métodos:\n",
        "1. Métodos de instancia\n",
        "2. Métodos de clase `@classmethod`\n",
        "3. Métodos estáticos `@staticmethod`\n",
        "\n",
        "\n",
        "Los **métodos de clase** se identifican por dos cosas:\n",
        "1. Necesariamente han de llevar el decorador **`@classmethod`** ya que en caso contrario el método por defecto se considera un método de instancia\n",
        "2. Por convenio se usa **`cls`** para referirnos a la clase, de la misma forma que los métodos de instancia usan `self`.\n",
        "\n",
        "*Nota*: Tanto `cls` como `self` son palabras que se usan por convenio, pero cualquier otra también sería válida en Python."
      ]
    },
    {
      "cell_type": "code",
      "source": [
        "class Circulo:\n",
        "    pi = 3.141592   # atributo de clase\n",
        "\n",
        "    @classmethod    # decorador imprescindible para indicar que se trata de un método de clase\n",
        "    def area(cls, radio):   # por convenio se usa cls, al igual que para los métodos de instancia se usa self\n",
        "        return cls.pi * radio ** 2\n",
        "\n",
        "superficie = Circulo.area(10)\n",
        "print(superficie)"
      ],
      "metadata": {
        "id": "lEJR6G5NZh0H"
      },
      "execution_count": null,
      "outputs": []
    },
    {
      "cell_type": "markdown",
      "source": [
        "## Métodos de clase\n",
        "1. Se antepone la palabra reservada **@classmethod**.  \n",
        "2. Este método puede ser llamado sin crear una instancia de clase (al método estático le pasa lo mismo).  \n",
        "3. Estos métodos no tienen acceso a los atributos de instancia ya que ninguna instancia fue creada para poder utilizarlo.\n",
        "4. @classmethod recibe la clase como primer argumento, se suele llamar ```cls``` por convención\n",
        "5. Cuando se llama a este método, se pasa la clase como primer argumento en lugar de la instancia de esa clase (como hacemos normalmente con métodos).\n",
        "6. Esto supone que puede utilizar la clase y sus propiedades dentro de ese método sin tener que crear una instancia "
      ],
      "metadata": {
        "id": "8_uXb9LqZV6L"
      }
    },
    {
      "cell_type": "code",
      "execution_count": null,
      "metadata": {
        "id": "bFt4K5PIgQtE",
        "outputId": "32f1954a-068b-4e6e-c4f0-fd3e4c9ff131",
        "colab": {
          "base_uri": "https://localhost:8080/"
        }
      },
      "outputs": [
        {
          "output_type": "stream",
          "name": "stdout",
          "text": [
            "Ingredientes del pastel (['harina', 'leche', 'chocolate'])\n"
          ]
        }
      ],
      "source": [
        "class Pastel:\n",
        "    def __init__(self, ingredientes):\n",
        "        self.ingredientes = ingredientes\n",
        "    def __repr__(self):\n",
        "        return f'Ingredientes del pastel ({self.ingredientes !r})'\n",
        "    @classmethod\n",
        "    def Pastel_chocolate(cls):\n",
        "        return cls(['harina', 'leche', 'chocolate'])\n",
        "    @classmethod\n",
        "    def Pastel_vainilla(cls):\n",
        "        return cls(['harina', 'leche', 'vainilla'])\n",
        "    \n",
        "print(Pastel.Pastel_chocolate())"
      ]
    },
    {
      "cell_type": "markdown",
      "metadata": {
        "id": "C72c0teUgQtI"
      },
      "source": [
        "### Pizza"
      ]
    },
    {
      "cell_type": "code",
      "execution_count": null,
      "metadata": {
        "id": "q_6o1lEQgQtJ",
        "outputId": "2c91a601-624c-4c64-dd36-54fa80d75e32",
        "colab": {
          "base_uri": "https://localhost:8080/"
        }
      },
      "outputs": [
        {
          "output_type": "stream",
          "name": "stdout",
          "text": [
            "3.10.11\n"
          ]
        }
      ],
      "source": [
        "from platform import python_version\n",
        "print(python_version())"
      ]
    },
    {
      "cell_type": "code",
      "execution_count": null,
      "metadata": {
        "id": "dHUBolLmgQtL",
        "outputId": "14cd4d11-2c60-492d-c854-d098a9f737fe",
        "colab": {
          "base_uri": "https://localhost:8080/"
        }
      },
      "outputs": [
        {
          "output_type": "stream",
          "name": "stdout",
          "text": [
            "Reading package lists... Done\n",
            "Building dependency tree       \n",
            "Reading state information... Done\n",
            "The following NEW packages will be installed:\n",
            "  enum\n",
            "0 upgraded, 1 newly installed, 0 to remove and 24 not upgraded.\n",
            "Need to get 25.1 kB of archives.\n",
            "After this operation, 81.9 kB of additional disk space will be used.\n",
            "Get:1 http://archive.ubuntu.com/ubuntu focal/universe amd64 enum amd64 1.1-1 [25.1 kB]\n",
            "Fetched 25.1 kB in 0s (134 kB/s)\n",
            "debconf: unable to initialize frontend: Dialog\n",
            "debconf: (No usable dialog-like program is installed, so the dialog based frontend cannot be used. at /usr/share/perl5/Debconf/FrontEnd/Dialog.pm line 76, <> line 1.)\n",
            "debconf: falling back to frontend: Readline\n",
            "debconf: unable to initialize frontend: Readline\n",
            "debconf: (This frontend requires a controlling tty.)\n",
            "debconf: falling back to frontend: Teletype\n",
            "dpkg-preconfigure: unable to re-open stdin: \n",
            "Selecting previously unselected package enum.\n",
            "(Reading database ... 122531 files and directories currently installed.)\n",
            "Preparing to unpack .../archives/enum_1.1-1_amd64.deb ...\n",
            "Unpacking enum (1.1-1) ...\n",
            "Setting up enum (1.1-1) ...\n",
            "Processing triggers for man-db (2.9.1-1) ...\n"
          ]
        }
      ],
      "source": [
        "# posiblemente se necesite instalar la librearía enum\n",
        "#!pip install enum\n",
        "!sudo apt install enum"
      ]
    },
    {
      "cell_type": "code",
      "execution_count": null,
      "metadata": {
        "id": "j5acJI3ZgQtL"
      },
      "outputs": [],
      "source": [
        "from enum import Enum\n",
        "\n",
        "class Weekdays(Enum):\n",
        "    MON = 1\n",
        "    TUE = 2\n",
        "    WED = 3\n",
        "    THU = 4\n",
        "    FRI = 5\n",
        "    SAT = 6\n",
        "    SUN = 7\n",
        "\n"
      ]
    },
    {
      "cell_type": "code",
      "execution_count": null,
      "metadata": {
        "id": "36QAd50pgQtM",
        "outputId": "9879eb61-c21d-433e-82e4-5fcb35a3c5ed",
        "colab": {
          "base_uri": "https://localhost:8080/"
        }
      },
      "outputs": [
        {
          "output_type": "stream",
          "name": "stdout",
          "text": [
            "Pizza:               \n",
            "9990               \n",
            "Tamano.normal               \n",
            "['Tomate', 'Jamón', 'Piña']\n"
          ]
        }
      ],
      "source": [
        "from enum import Enum\n",
        "\n",
        "class Tamano(Enum):  # Una enumeración es simplemente ponerle nombre a números\n",
        "    normal = 1\n",
        "    familiar = 2\n",
        "    xl = 3\n",
        "\n",
        "class Pizza:\n",
        "    def __init__(self, precio, tamano, ingredientes):\n",
        "        self.precio = precio\n",
        "        self.tamano = tamano\n",
        "        self.ingredientes = ingredientes\n",
        "        \n",
        "    def __str__(self):\n",
        "        return(f\"Pizza: \\\n",
        "              \\n{self.precio} \\\n",
        "              \\n{self.tamano} \\\n",
        "              \\n{self.ingredientes}\")\n",
        "\n",
        "    @classmethod\n",
        "    def napolitana(cls, tamano):\n",
        "        precio_napolitana = 8990 #* tamano\n",
        "        ingredientes = ['Queso', 'Orégano', 'Tomate']\n",
        "        # Instanciamos 'cls' que es la clase Pizza\n",
        "        return cls(precio_napolitana, tamano, ingredientes)\n",
        "\n",
        "\n",
        "# Puedo crear pizzas 'a mano':\n",
        "hawaiana = Pizza(9990, Tamano.normal, ['Tomate', 'Jamón', 'Piña'])\n",
        "\n",
        "print(hawaiana)                      # vemos sus características con __str__"
      ]
    },
    {
      "cell_type": "code",
      "execution_count": null,
      "metadata": {
        "id": "58BIPk_BgQtO",
        "outputId": "39a2cf73-05fb-48ce-95e0-6217a148942e",
        "colab": {
          "base_uri": "https://localhost:8080/"
        }
      },
      "outputs": [
        {
          "output_type": "stream",
          "name": "stdout",
          "text": [
            "Pizza:               \n",
            "8990               \n",
            "Tamano.familiar               \n",
            "['Queso', 'Orégano', 'Tomate']\n"
          ]
        }
      ],
      "source": [
        "# Creamos una pizza con nuestro método de clase\n",
        "napolitana = Pizza.napolitana(Tamano.familiar)\n",
        "print(napolitana)                      # vemos sus características con __str__"
      ]
    },
    {
      "cell_type": "markdown",
      "metadata": {
        "id": "kFLlcRahgQtO"
      },
      "source": [
        "### Bound method\n",
        "Método enlazado."
      ]
    },
    {
      "cell_type": "code",
      "execution_count": null,
      "metadata": {
        "id": "baS3iBuLgQtQ",
        "outputId": "7a03877e-56cd-40ab-a824-d9690528c3bf",
        "colab": {
          "base_uri": "https://localhost:8080/"
        }
      },
      "outputs": [
        {
          "output_type": "stream",
          "name": "stdout",
          "text": [
            "Pasajeros de micoche antes de llamar al Setter =  4\n",
            "Pasajeros de micoche después de llamar al Setter =  5\n",
            "<bound method Car.set_pasajeros of <class '__main__.Car'>>\n"
          ]
        },
        {
          "output_type": "execute_result",
          "data": {
            "text/plain": [
              "5"
            ]
          },
          "metadata": {},
          "execution_count": 7
        }
      ],
      "source": [
        "class Car:\n",
        "    pasajeros = 4\n",
        "   \n",
        "    @classmethod                                # un método de clase para cambiar el número de pasajeros\n",
        "    def set_pasajeros(cls, pasajeros):\n",
        "        cls.pasajeros = pasajeros\n",
        "\n",
        "micoche = Car()                                 # creamos una instancia de Car\n",
        "  \n",
        "print(\"Pasajeros de micoche antes de llamar al Setter = \", micoche.pasajeros)\n",
        "micoche.set_pasajeros(5) \n",
        "print(\"Pasajeros de micoche después de llamar al Setter = \", micoche.pasajeros)\n",
        "\n",
        "print(micoche.set_pasajeros)                    # bound method\n",
        "Car.pasajeros"
      ]
    }
  ],
  "metadata": {
    "kernelspec": {
      "display_name": "Python 3",
      "language": "python",
      "name": "python3"
    },
    "language_info": {
      "codemirror_mode": {
        "name": "ipython",
        "version": 3
      },
      "file_extension": ".py",
      "mimetype": "text/x-python",
      "name": "python",
      "nbconvert_exporter": "python",
      "pygments_lexer": "ipython3",
      "version": "3.8.8"
    },
    "colab": {
      "name": "0360_classmethod.ipynb",
      "provenance": [],
      "include_colab_link": true
    }
  },
  "nbformat": 4,
  "nbformat_minor": 0
}
