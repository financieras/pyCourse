{
  "cells": [
    {
      "cell_type": "markdown",
      "metadata": {
        "id": "view-in-github",
        "colab_type": "text"
      },
      "source": [
        "<a href=\"https://colab.research.google.com/github/financieras/pyCourse/blob/main/jupyter/calisto2/calisto2_0330.ipynb\" target=\"_parent\"><img src=\"https://colab.research.google.com/assets/colab-badge.svg\" alt=\"Open In Colab\"/></a>"
      ]
    },
    {
      "cell_type": "markdown",
      "id": "37af5b39",
      "metadata": {
        "id": "37af5b39"
      },
      "source": [
        "# Polimorfismo\n",
        "Polimorfismo = múltiples formas  \n",
        "\n",
        "Sobrecarga de métodos:  \n",
        "Cuando una subclase cuenta con métodos con el mismo nombre que en la superclase, donde ambos métodos definen comportamientos diferentes.\n",
        "\n",
        "El polimorfismo es la capacidad que tienen los objetos de diferentes clases para usar usar:  \n",
        "* atributos con el mismo nombre, pero con diferente valor\n",
        "* métodos con el mismo nombre, pero diferente comportamiento\n",
        "\n",
        "Los objetos pueden cambiar de forma y por tanto de métodos y atributos.  \n",
        "Ejemplo: un coche puede transformarse en moto. Su comportamiento cambiaría = cambiarían sus métodos."
      ]
    },
    {
      "cell_type": "code",
      "execution_count": null,
      "id": "74ce1d1c",
      "metadata": {
        "id": "74ce1d1c",
        "outputId": "b7a202a2-f3fb-4d65-efc9-b81986cc3633"
      },
      "outputs": [
        {
          "name": "stdout",
          "output_type": "stream",
          "text": [
            "Me desplazo utilizando 2 ruedas\n",
            "Me desplazo utilizando 4 ruedas\n",
            "Me desplazo utilizando 6 ruedas\n"
          ]
        }
      ],
      "source": [
        "class Coche():\n",
        "    def desplazamiento(self):\n",
        "        print(\"Me desplazo utilizando 4 ruedas\")\n",
        "\n",
        "class Moto():\n",
        "    def desplazamiento(self):\n",
        "        print(\"Me desplazo utilizando 2 ruedas\")\n",
        "        \n",
        "class Camion():\n",
        "    def desplazamiento(self):\n",
        "        print(\"Me desplazo utilizando 6 ruedas\")\n",
        "        \n",
        "miVehiculo1=Moto()\n",
        "miVehiculo1.desplazamiento()\n",
        "\n",
        "miVehiculo2=Coche()\n",
        "miVehiculo2.desplazamiento()\n",
        "\n",
        "miVehiculo3=Camion()\n",
        "miVehiculo3.desplazamiento()"
      ]
    },
    {
      "cell_type": "markdown",
      "id": "aee2b9c6",
      "metadata": {
        "id": "aee2b9c6"
      },
      "source": [
        "## Tipos de polimorfismo\n",
        "1. Polimorfismo con función\n",
        "2. Polimorfismo con herencia\n",
        "3. Polimorfismos con método"
      ]
    },
    {
      "cell_type": "markdown",
      "id": "1ac50d71",
      "metadata": {
        "id": "1ac50d71"
      },
      "source": [
        "## El polimorfismo con función\n",
        "En lugar de ir creando cada instancia por separado y luego llamar al método desplazamiento uno a uno, podemos usar el polimorfismo.\n",
        "\n",
        "Vamos a crear una función externa a las clases que llame al método que corresponda."
      ]
    },
    {
      "cell_type": "code",
      "execution_count": null,
      "id": "b7503e48",
      "metadata": {
        "id": "b7503e48",
        "outputId": "12c0af53-689d-4817-9eb2-0e937a593343"
      },
      "outputs": [
        {
          "name": "stdout",
          "output_type": "stream",
          "text": [
            "Me desplazo utilizando 6 ruedas\n"
          ]
        }
      ],
      "source": [
        "class Coche():\n",
        "    def desplazamiento(self):\n",
        "        print(\"Me desplazo utilizando 4 ruedas\")\n",
        "class Moto():\n",
        "    def desplazamiento(self):\n",
        "        print(\"Me desplazo utilizando 2 ruedas\")\n",
        "class Camion():\n",
        "    def desplazamiento(self):\n",
        "        print(\"Me desplazo utilizando 6 ruedas\")\n",
        "\n",
        "def desplazamientoVehiculo(vehiculo):          # creamos una función que no pertenece a ningunaclase\n",
        "    vehiculo.desplazamiento()                  # al objeto vehiculo le aplicará el método desplazamiento que toque\n",
        "\n",
        "miVehiculo=Camion()                #creamos un objeto de tipo Camion\n",
        "desplazamientoVehiculo(miVehiculo) #gracias al polimorfismo sabe que el desplazamiento del camión es con 6 ruedas"
      ]
    },
    {
      "cell_type": "code",
      "execution_count": null,
      "id": "6d6f24f6",
      "metadata": {
        "id": "6d6f24f6"
      },
      "outputs": [],
      "source": [
        "miVehiculo=Coche()                 #ahora cambiamos el tipo de objeto \n",
        "desplazamientoVehiculo(miVehiculo) #ahora sabe que el objeto es un Coche y aplica el desplazamiento con 4 ruedas"
      ]
    },
    {
      "cell_type": "code",
      "execution_count": null,
      "id": "46c0b256",
      "metadata": {
        "id": "46c0b256",
        "outputId": "4f0ca499-24d3-47f1-9bb8-a6adc4008d0f"
      },
      "outputs": [
        {
          "name": "stdout",
          "output_type": "stream",
          "text": [
            "Me desplazo utilizando 2 ruedas\n"
          ]
        }
      ],
      "source": [
        "miVehiculo=Moto()                  #ahora cambiamos nuevamente el tipo de objeto \n",
        "desplazamientoVehiculo(miVehiculo) #gracias al polimorfismo sabe que una moto se desplaza con 2 ruedas"
      ]
    },
    {
      "cell_type": "markdown",
      "id": "0ff3fad5",
      "metadata": {
        "id": "0ff3fad5"
      },
      "source": [
        "### Otro ejemplo de polimorfismo con función"
      ]
    },
    {
      "cell_type": "code",
      "execution_count": null,
      "id": "3eaf763d",
      "metadata": {
        "id": "3eaf763d",
        "outputId": "869fa816-c825-49bc-a5c2-f5edd75e5d94"
      },
      "outputs": [
        {
          "name": "stdout",
          "output_type": "stream",
          "text": [
            "VISA oro\n",
            "6000\n",
            "MasterCard black\n",
            "3000\n"
          ]
        }
      ],
      "source": [
        "class Visa:\n",
        "    def tipo(self):\n",
        "        print(\"VISA oro\")\n",
        "    def limite(self):\n",
        "        print(6000)\n",
        "class MasterCard:\n",
        "    def tipo(self):\n",
        "        print(\"MasterCard black\")\n",
        "    def limite(self):\n",
        "        print(3000)\n",
        "\n",
        "def funcion(tarjeta):    # función externa a las clases\n",
        "    tarjeta.tipo()       # no se pone self\n",
        "    tarjeta.limite()     # se pone tarjeta como en la función\n",
        "    \n",
        "v = Visa()\n",
        "m = MasterCard()\n",
        "funcion(v)\n",
        "funcion(m)                # ejecuta los dos métodos: tipo y límite"
      ]
    },
    {
      "cell_type": "markdown",
      "id": "bd25006f",
      "metadata": {
        "id": "bd25006f"
      },
      "source": [
        "## Polimorfismo con herencia\n",
        "Sin función externa."
      ]
    },
    {
      "cell_type": "code",
      "execution_count": null,
      "id": "b3dbb067",
      "metadata": {
        "id": "b3dbb067",
        "outputId": "056b4949-04ee-45dd-f84b-96a10b4339ee"
      },
      "outputs": [
        {
          "name": "stdout",
          "output_type": "stream",
          "text": [
            "Animal genérico que vive, siente y se mueve.\n",
            "Animal salvaje.\n",
            "Animal doméstico.\n"
          ]
        }
      ],
      "source": [
        "class Animal:\n",
        "    def __init__(self, nombre):\n",
        "        self.nombre = nombre\n",
        "    def tipo(self):\n",
        "        print(\"Animal genérico que vive, siente y se mueve.\")\n",
        "\n",
        "class Leon(Animal):\n",
        "    def tipo(self):\n",
        "        print(\"Animal salvaje.\")\n",
        "\n",
        "class Perro(Animal):\n",
        "    def tipo(self):\n",
        "        print(\"Animal doméstico.\")\n",
        "\n",
        "a = Animal(\"Amuss\")\n",
        "l = Leon(\"Lionelo\")\n",
        "p = Perro(\"Pecox\")\n",
        "a.tipo()\n",
        "l.tipo()\n",
        "p.tipo()"
      ]
    },
    {
      "cell_type": "markdown",
      "id": "bf013241",
      "metadata": {
        "id": "bf013241"
      },
      "source": [
        "## Polimorfismo con método"
      ]
    },
    {
      "cell_type": "code",
      "execution_count": null,
      "id": "e09700da",
      "metadata": {
        "id": "e09700da",
        "outputId": "53d207f9-de2b-4588-c569-aaf77376d004"
      },
      "outputs": [
        {
          "name": "stdout",
          "output_type": "stream",
          "text": [
            "IBEX35\n",
            "Euro\n",
            "===============\n",
            "DOW JONES\n",
            "Dolar\n",
            "===============\n",
            "FTSE 100\n",
            "Libra\n",
            "===============\n"
          ]
        }
      ],
      "source": [
        "class Madrid:\n",
        "    def indice(self):\n",
        "        print(\"IBEX35\")\n",
        "    def moneda(self):\n",
        "        print(\"Euro\")\n",
        "class NewYork:\n",
        "    def indice(self):\n",
        "        print(\"DOW JONES\")\n",
        "    def moneda(self):\n",
        "        print(\"Dolar\")\n",
        "class Londres:\n",
        "    def indice(self):\n",
        "        print(\"FTSE 100\")\n",
        "    def moneda(self):\n",
        "        print(\"Libra\")\n",
        "\n",
        "mad = Madrid()\n",
        "ny = NewYork()\n",
        "lon = Londres()\n",
        "\n",
        "for bolsa in (mad,ny,lon):  # hacemos un bucle que recorra los elementos\n",
        "    bolsa.indice()\n",
        "    bolsa.moneda()\n",
        "    print(\"=\"*15)"
      ]
    }
  ],
  "metadata": {
    "kernelspec": {
      "display_name": "Python 3",
      "language": "python",
      "name": "python3"
    },
    "language_info": {
      "codemirror_mode": {
        "name": "ipython",
        "version": 3
      },
      "file_extension": ".py",
      "mimetype": "text/x-python",
      "name": "python",
      "nbconvert_exporter": "python",
      "pygments_lexer": "ipython3",
      "version": "3.8.8"
    },
    "colab": {
      "name": "0330_polimorfismo.ipynb",
      "provenance": [],
      "include_colab_link": true
    }
  },
  "nbformat": 4,
  "nbformat_minor": 5
}
