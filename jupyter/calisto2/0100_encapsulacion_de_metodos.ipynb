{
  "cells": [
    {
      "cell_type": "markdown",
      "metadata": {
        "id": "view-in-github",
        "colab_type": "text"
      },
      "source": [
        "<a href=\"https://colab.research.google.com/github/financieras/pyCourse/blob/main/jupyter/calisto2/calisto2_0100.ipynb\" target=\"_parent\"><img src=\"https://colab.research.google.com/assets/colab-badge.svg\" alt=\"Open In Colab\"/></a>"
      ]
    },
    {
      "cell_type": "markdown",
      "metadata": {
        "id": "earpMegkqwHR"
      },
      "source": [
        "# Encapsulación de métodos\n",
        "Al igual que hemos podido encapsular propiedades (variables) también podemos encapsular métodos (funciones).\n",
        "\n",
        "\n",
        "*Nota1*  \n",
        "En Jupyter para entrar en el panel de comandos se ha de teclear Control+Shift+P\n",
        "\n",
        "*Nota2*    \n",
        "Si queremos ver los números de línea en Jupyter tecleamos Shift+L\n",
        "\n"
      ]
    },
    {
      "cell_type": "markdown",
      "metadata": {
        "id": "TjYMfJQRqwHV"
      },
      "source": [
        "## Repasemos"
      ]
    },
    {
      "cell_type": "code",
      "execution_count": null,
      "metadata": {
        "id": "VhikXYZsqwHX"
      },
      "outputs": [],
      "source": [
        "class Coche():\n",
        "    def __init__(self):              # aquí se crea el constructor\n",
        "        self.__largo = 426           # las propiedades llevan un self. que las antecede\n",
        "        self.__ancho = 181\n",
        "        self.__ruedas = 4\n",
        "        self.__enmarcha = False\n",
        "\n",
        "    def arrancar(self, arrancamos):\n",
        "        self.__enmarcha=arrancamos   # La variable enmarcha será True o False según lo que nos pasen por el parámetro arrancamos\n",
        "        if self.__enmarcha:\n",
        "            return \"El coche está en marcha\"\n",
        "        else:\n",
        "            return \"El coche está parado\"\n",
        "        \n",
        "    def estado(self):\n",
        "        print(f\"El coche tiene {self.__ruedas} ruedas, un ancho de {self.__ancho} y un largo de {self.__largo}.\")\n",
        "        \n",
        "miCoche=Coche()\n",
        "print(miCoche.arrancar(True))       # aquí modificamos la propiedad 'enmarcha' que está encapsulada gracias al método 'arrancar'\n",
        "miCoche.estado()"
      ]
    },
    {
      "cell_type": "markdown",
      "metadata": {
        "id": "1ddg85NUqwHZ"
      },
      "source": [
        "## Encapsular un método\n",
        "Supone que el método únicamente será accesible desde la propia clase y no desde fuera de ella.  \n",
        "\n",
        "Un coche (objeto) puede tener muchos comportamientos (métodos).\n",
        "\n",
        "Vamos a añadir un método que produzca un autochequeo del automóvil antes de arrancar verificando niveles de aceite, agua, gasolina, batería, ... El método se denominará chequeo_interno.\n",
        "\n",
        "El chequeo interno se hará un instante antes de arrancar.\n",
        "El chequeo interno solo se hará cuando vayamos a arrancar. Si no arrancamos no se hará el chequeo interno."
      ]
    },
    {
      "cell_type": "code",
      "execution_count": null,
      "metadata": {
        "id": "oTXGs1uKqwHa"
      },
      "outputs": [],
      "source": [
        "class Coche():\n",
        "    def __init__(self):\n",
        "        self.__largo = 426\n",
        "        self.__ancho = 181\n",
        "        self.__ruedas = 4\n",
        "        self.__enmarcha = False\n",
        "\n",
        "    def arrancar(self, arrancamos):\n",
        "        self.__enmarcha = arrancamos\n",
        "        \n",
        "        if(self.__enmarcha):                   # Si estamos arrancando entonces se hará el chequeo interno\n",
        "            chequeo=self.chequeo_interno()     # la variable chequeo guardará True o False según se pase o no el chequeo interno\n",
        "        \n",
        "        if self.__enmarcha and chequeo:        # añadimos otra condición con un and para comprobar que el chequeo interno es ok\n",
        "            return \"El coche está en marcha\"\n",
        "        elif self.__enmarcha and chequeo==False:  # añadimos un elif para el caso en el que el chequeo sea False\n",
        "            return \"Algo ha ido mal en el chequeo, no se puede arrancar\"\n",
        "        else:\n",
        "            return \"El coche está parado\"\n",
        "        \n",
        "    def estado(self):\n",
        "        print(f\"El coche tiene {self.__ruedas} ruedas, un ancho de {self.__ancho} y un largo de {self.__largo}.\")\n",
        "        \n",
        "    def chequeo_interno(self):\n",
        "        print(\"Realizando chequeo interno\")\n",
        "        self.gasolina = 'ok'                 # para no complicarlo mucho de momento diremos que todo está ok\n",
        "        self.aceite = \"ok\"\n",
        "        self.puertas = \"cerradas\"            # para no complicarlo mucho de momento diremos que las puertas siempre están cerradas\n",
        "        if(self.gasolina==\"ok\" and self.aceite==\"ok\" and self.puertas==\"cerradas\"):  # si todo está correcto podremos arrancar\n",
        "            return True\n",
        "        else:\n",
        "            return False\n",
        "        \n",
        "print(\"=\"*30, \"miCoche\", \"=\"*30)\n",
        "miCoche = Coche()\n",
        "print(miCoche.arrancar(True))\n",
        "miCoche.estado()\n",
        "\n",
        "print(\"=\"*30, \"tuCoche\", \"=\"*30)\n",
        "tuCoche = Coche()\n",
        "print(tuCoche.arrancar(False))      # esta línea no sería necesario ya que por defecto un objeto coche comienza estando parado\n",
        "tuCoche.estado()"
      ]
    },
    {
      "cell_type": "markdown",
      "metadata": {
        "id": "bW4xrw1AqwHd"
      },
      "source": [
        "Vamos a poner ahora que el aceite no está ok sino mal. De esta forma el choche no podrá arrancar."
      ]
    },
    {
      "cell_type": "code",
      "execution_count": null,
      "metadata": {
        "id": "PA9DxA0gqwHe"
      },
      "outputs": [],
      "source": [
        "class Coche():\n",
        "    def __init__(self):\n",
        "        self.__largo = 426\n",
        "        self.__ancho = 181\n",
        "        self.__ruedas = 4\n",
        "        self.__enmarcha = False\n",
        "\n",
        "    def arrancar(self, arrancamos):\n",
        "        self.__enmarcha = arrancamos\n",
        "        \n",
        "        if(self.__enmarcha):\n",
        "            chequeo=self.chequeo_interno()\n",
        "        \n",
        "        if self.__enmarcha and chequeo:\n",
        "            return \"El coche está en marcha\"\n",
        "        elif self.__enmarcha and chequeo==False:\n",
        "            return \"Algo ha ido mal en el chequeo, no se puede arrancar\"\n",
        "        else:\n",
        "            return \"El coche está parado\"\n",
        "        \n",
        "    def estado(self):\n",
        "        print(f\"El coche tiene {self.__ruedas} ruedas, un ancho de {self.__ancho} y un largo de {self.__largo}.\")\n",
        "        \n",
        "    def chequeo_interno(self):\n",
        "        print(\"Realizando chequeo interno\")\n",
        "        self.gasolina = 'ok'\n",
        "        self.aceite = \"mal\"                   # ahora pondremos que el aceite está mal\n",
        "        self.puertas = \"cerradas\"\n",
        "        if(self.gasolina==\"ok\" and self.aceite==\"ok\" and self.puertas==\"cerradas\"):  # si todo está correcto podremos arrancar\n",
        "            return True\n",
        "        else:\n",
        "            return False\n",
        "        \n",
        "print(\"=\"*30, \"miCoche\", \"=\"*30)\n",
        "miCoche = Coche()\n",
        "print(miCoche.arrancar(True))\n",
        "miCoche.estado()\n",
        "\n",
        "print(\"=\"*30, \"tuCoche\", \"=\"*30)\n",
        "tuCoche = Coche()\n",
        "tuCoche.estado()"
      ]
    },
    {
      "cell_type": "markdown",
      "metadata": {
        "id": "jUo8RFHxqwHf"
      },
      "source": [
        "### No interesa que algunos métodos sean accesibles desde fuera de la clase\n",
        "Hasta ahora el método chequeo interno es un método normal (no está encapsulado) y por lo tanto es accesible desde fuera de la clase. Esto no debería ser posible en algunos métodos, ya que no tiene sentido que podamos acceder al método chequeo interno cuando ya hemos arrancado el coche y ya está en marcha (caso de miCoche) y aún tiene menos sentido hacer el chequeo interno cuando el coche está parado (caso de tuCoche).  "
      ]
    },
    {
      "cell_type": "code",
      "execution_count": null,
      "metadata": {
        "id": "SmTFJCp5qwHg"
      },
      "outputs": [],
      "source": [
        "print(miCoche.chequeo_interno())             # da False porque el aceite está mal"
      ]
    },
    {
      "cell_type": "code",
      "execution_count": null,
      "metadata": {
        "id": "RukPqGlZqwHi"
      },
      "outputs": [],
      "source": [
        "print(tuCoche.chequeo_interno())             # no tiene sentido acceder a este método desde fuera de la propia clase"
      ]
    },
    {
      "cell_type": "markdown",
      "metadata": {
        "id": "qQAO05aCqwHj"
      },
      "source": [
        "### Sintaxis para encapsular un método\n",
        "Se consigue encapsular el método poniendo dos barras bajas."
      ]
    },
    {
      "cell_type": "code",
      "execution_count": null,
      "metadata": {
        "id": "QmODa08QqwHk"
      },
      "outputs": [],
      "source": [
        "class Coche():\n",
        "    def __init__(self):\n",
        "        self.__largo = 426\n",
        "        self.__ancho = 181\n",
        "        self.__ruedas = 4\n",
        "        self.__enmarcha = False\n",
        "\n",
        "    def arrancar(self, arrancamos):\n",
        "        self.__enmarcha = arrancamos\n",
        "        \n",
        "        if(self.__enmarcha):\n",
        "            chequeo=self.__chequeo_interno()  # cuando usamos el método encapsulado debemos llamarle tb con las dos barras bajas\n",
        "        \n",
        "        if self.__enmarcha and chequeo:\n",
        "            return \"El coche está en marcha\"\n",
        "        elif self.__enmarcha and chequeo==False:\n",
        "            return \"Algo ha ido mal en el chequeo, no se puede arrancar\"\n",
        "        else:\n",
        "            return \"El coche está parado\"\n",
        "        \n",
        "    def estado(self):\n",
        "        print(f\"El coche tiene {self.__ruedas} ruedas, un ancho de {self.__ancho} y un largo de {self.__largo}.\")\n",
        "        \n",
        "    def __chequeo_interno(self):             # encapsulamos el método\n",
        "        print(\"Realizando chequeo interno\")\n",
        "        self.gasolina = 'ok'\n",
        "        self.aceite = \"ok\"                     # ponemos el aceite ok\n",
        "        self.puertas = \"cerradas\"\n",
        "        if(self.gasolina==\"ok\" and self.aceite==\"ok\" and self.puertas==\"cerradas\"):  # si todo está correcto podremos arrancar\n",
        "            return True\n",
        "        else:\n",
        "            return False\n",
        "        \n",
        "print(\"=\"*30, \"miCoche\", \"=\"*30)\n",
        "miCoche = Coche()\n",
        "print(miCoche.arrancar(True))\n",
        "miCoche.estado()\n",
        "\n",
        "print(\"=\"*30, \"tuCoche\", \"=\"*30)\n",
        "tuCoche = Coche()\n",
        "tuCoche.estado()"
      ]
    },
    {
      "cell_type": "markdown",
      "metadata": {
        "id": "U-P0haz2qwHl"
      },
      "source": [
        "Veamos si ahora podemos acceder al método encapsulado desde fuera de su clase."
      ]
    },
    {
      "cell_type": "code",
      "execution_count": null,
      "metadata": {
        "id": "J_wPAzOaqwHl"
      },
      "outputs": [],
      "source": [
        "print(miCoche.chequeo_interno())   # ahora da error porque no es posible acceder a un método encapsulado"
      ]
    },
    {
      "cell_type": "code",
      "execution_count": null,
      "metadata": {
        "id": "ApEUJKPMqwHm"
      },
      "outputs": [],
      "source": [
        "print(tuCoche.__chequeo_interno()) # da error, aunque pongamos las dos barras bajas"
      ]
    },
    {
      "cell_type": "markdown",
      "metadata": {
        "id": "NhLFdwvYqwHn"
      },
      "source": [
        "El error nos dice: AttributeError: 'Coche' object has no attribute '__chequeo_interno'"
      ]
    }
  ],
  "metadata": {
    "kernelspec": {
      "display_name": "Python 3",
      "language": "python",
      "name": "python3"
    },
    "language_info": {
      "codemirror_mode": {
        "name": "ipython",
        "version": 3
      },
      "file_extension": ".py",
      "mimetype": "text/x-python",
      "name": "python",
      "nbconvert_exporter": "python",
      "pygments_lexer": "ipython3",
      "version": "3.8.8"
    },
    "colab": {
      "name": "calisto2_0100.ipynb",
      "provenance": [],
      "include_colab_link": true
    }
  },
  "nbformat": 4,
  "nbformat_minor": 0
}
