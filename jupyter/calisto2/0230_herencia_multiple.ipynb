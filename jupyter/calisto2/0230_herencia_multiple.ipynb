{
  "cells": [
    {
      "cell_type": "markdown",
      "metadata": {
        "id": "view-in-github",
        "colab_type": "text"
      },
      "source": [
        "<a href=\"https://colab.research.google.com/github/financieras/pyCourse/blob/main/jupyter/calisto2/0230_herencia_multiple.ipynb\" target=\"_parent\"><img src=\"https://colab.research.google.com/assets/colab-badge.svg\" alt=\"Open In Colab\"/></a>"
      ]
    },
    {
      "cell_type": "markdown",
      "id": "db7b9da4",
      "metadata": {
        "id": "db7b9da4"
      },
      "source": [
        "# Herencia [2]  Herencia múltiple\n",
        "## Python tiene Herencia múltiple\n",
        "Algunos lenguajes con POO, por ejemplo, JAVA y C#, no tienen herencia múltiple debido a lo complejo que puede llegar a ser cuando se manejan programas grandes.\n",
        "\n",
        "**Ejemplo** de herencia múltiple: coche anfibio.\n",
        "\n",
        "El anfibio se comporta como coche terrestre y como embarcación, es decir que sus clases padre  serán tanto Lancha como Auto. Pero, además, también es posible que la clase hija tenga un cierto  comportamiento diferente de la clase padre. Tanto la Lancha como el Auto comparten la funcionalidad de Desplazamiento, pero su forma de desplazarse es diferente. Ese comportamiento  se diferencia desde el método, siendo posible redefinir ese método desde la clase hija.\n"
      ]
    },
    {
      "cell_type": "code",
      "execution_count": 1,
      "id": "b9a25999",
      "metadata": {
        "id": "b9a25999",
        "outputId": "43294eca-09b7-40db-b598-f9b111689813",
        "colab": {
          "base_uri": "https://localhost:8080/"
        }
      },
      "outputs": [
        {
          "output_type": "stream",
          "name": "stdout",
          "text": [
            "a\n",
            "b\n",
            "c\n"
          ]
        }
      ],
      "source": [
        "class A:                  # clase padre A\n",
        "    def print_a(self):\n",
        "        print('a')\n",
        "\n",
        "class B:                  # clase padre B\n",
        "    def print_b(self):\n",
        "        print('b')\n",
        "\n",
        "class C(A, B):            # la clase C hereda de las clases A y B\n",
        "    def print_c(self):\n",
        "        print('c')\n",
        "\n",
        "c = C()                   # c es una instancia de la clase C que hereda de las otras dos clases\n",
        "c.print_a()               # c es capaz de usar métodos de la clase padre A\n",
        "c.print_b()               # c es capaz de usar métodos de la clase padre B\n",
        "c.print_c()               # c usa métodos de su propia clase"
      ]
    },
    {
      "cell_type": "markdown",
      "id": "7890e107",
      "metadata": {
        "id": "7890e107"
      },
      "source": [
        "Vamos a crear una clase para vehículos eléctricos llamada VElectrico.  \n",
        "Vamos a crear una clase para bicicletas eléctricas llamada BicicletaElectrica que hereda de dos clases: Vehiculo y VElectrico.  \n",
        "De esta forma la clase hija hereda todos los métodos y todas las propiedades de las clases superiores."
      ]
    },
    {
      "cell_type": "code",
      "execution_count": 2,
      "id": "55d647c5",
      "metadata": {
        "id": "55d647c5",
        "outputId": "cf06b56c-6c3c-4ec8-d1f0-ea3202588987",
        "colab": {
          "base_uri": "https://localhost:8080/"
        }
      },
      "outputs": [
        {
          "output_type": "stream",
          "name": "stdout",
          "text": [
            "Marca: Xiaomi \n",
            "Modelo: Qicycle               \n",
            "En marcha: True \n",
            "Acelerando: False \n",
            "Frenando: False\n"
          ]
        }
      ],
      "source": [
        "class Vehiculo():\n",
        "    def __init__(self, marca, modelo):   # clase principal, esta clase no hereda de nadie\n",
        "        self.marca = marca\n",
        "        self.modelo = modelo\n",
        "        self.enmarcha = False\n",
        "        self.acelera = False\n",
        "        self.frena = False\n",
        "    def arrancar(self):\n",
        "        self.enmarcha = True\n",
        "    def acelerar(self):\n",
        "        self.acelera = True\n",
        "    def frenar(self):\n",
        "        self.frena = True\n",
        "    def estado(self):\n",
        "        print(f\"Marca: {self.marca} \\nModelo: {self.modelo} \\\n",
        "              \\nEn marcha: {self.enmarcha} \\nAcelerando: {self.acelera} \\nFrenando: {self.frena}\")\n",
        "class VElectrico():                                 # clase principal, esta clase no hereda de nadie\n",
        "    def __init__(self):\n",
        "        self.autonomia = 300\n",
        "    def cargarEnergia(self):\n",
        "        self.cargando = True\n",
        "\n",
        "class BicicletaElectrica(Vehiculo, VElectrico):     # hereda de la clase Vehiculo y de la clase VElectrico\n",
        "    pass\n",
        "\n",
        "miBici = BicicletaElectrica(\"Xiaomi\", \"Qicycle\")    # creamos una instancia\n",
        "\n",
        "miBici.arrancar()\n",
        "miBici.estado()"
      ]
    },
    {
      "cell_type": "markdown",
      "id": "658b3fac",
      "metadata": {
        "id": "658b3fac"
      },
      "source": [
        "Cuando hay herencia múltiple se da preferencia a la primera clase que se indica. Esto supone que cuando hay un método con el mismo nombre en amabas clases, se utilizará el método de la que se indicó primero, en el caso anterior la clase Vehiculo.  \n",
        "El orden en el que se ponen las clases de las que se hereda (las clases padre) a la hora de instanciar un objeto es importante.  \n",
        "Se usará el método constructor de la clase que se pone en primer lugar. En nuestro ejemplo, las dos clases únicamente tiene un método con el mismo nombre que es \\_\\_init\\_\\_ (el método constructor).  \n",
        "En el caso anteriro al instanciar la clase miBici se heredó el constructor de la clase Vehículo, por eso tuvimos que pasar dos argumentos (marca y modelo), ya que el constructor de la clase Vehiculo así lo exigía."
      ]
    },
    {
      "cell_type": "code",
      "execution_count": 3,
      "id": "9d762fe8",
      "metadata": {
        "id": "9d762fe8"
      },
      "outputs": [],
      "source": [
        "class BicicletaElectrica(VElectrico, Vehiculo):     # hereda de la clase VElectrico primero y luego de la clase Vehiculo\n",
        "    pass\n",
        "\n",
        "tuBici = BicicletaElectrica()    # otra instancia, pero ahora sin argumentos ya que hereda el construcctor de VElectrico\n",
        "                                 # que no tiene constructor y por eso no se pone ni marca, ni modelo.\n",
        "tuBici.arrancar()                # vemos que se puede arrancar (no da error)"
      ]
    },
    {
      "cell_type": "markdown",
      "id": "bc7145ec",
      "metadata": {
        "id": "bc7145ec"
      },
      "source": [
        "Ahora hemos redefinido la clase BicicletaElectrica heredando primero de la clase VElectrico y luego de la clase Vehiculo. Esto supone que, en esta ocasión hemos heredado el constructor de la clase VElectrico, pero esta clase se definió sin constructor. Por ese motivo, al instanciar un objeto como tuBici no hemos pasado ningún parámetro ya que no existía un constructor que lo requiriera."
      ]
    },
    {
      "cell_type": "markdown",
      "id": "b736fa70",
      "metadata": {
        "id": "b736fa70"
      },
      "source": [
        "## El problema del diamante\n",
        "[Wikipedia](https://es.wikipedia.org/wiki/Problema_del_diamante)\n",
        "\n",
        "![inheritance](https://upload.wikimedia.org/wikipedia/commons/8/8e/Diamond_inheritance.svg)\n",
        "\n",
        "En Python el orden de resolución del método es: D, B, C, A.  \n",
        "El compilador busca un método invocado por su nombre primero en D, luego en B, luego en C y finalmente en A."
      ]
    },
    {
      "cell_type": "markdown",
      "id": "99cb9ba5",
      "metadata": {
        "id": "99cb9ba5"
      },
      "source": [
        "### Ejemplo 1\n",
        "* A → Persona\n",
        "* B → Estudiante\n",
        "* C → Trabajador\n",
        "* D → Becario (estudiante en prácticas con contrato laboral)\n",
        "\n",
        "Supongamos que el compilador está buscando el atributo edad en el constructor.\n",
        "* Primero busca en Becario, si no existe busca en\n",
        "* Estudiante, si no existe busca en\n",
        "* Trabajador, si no existe busca en\n",
        "* Persona y si no existe la edad en ninguno dará error"
      ]
    },
    {
      "cell_type": "code",
      "execution_count": 4,
      "id": "802fe4c1",
      "metadata": {
        "id": "802fe4c1",
        "outputId": "7ce034ba-7308-44ae-8c8c-b8af45017c0a",
        "colab": {
          "base_uri": "https://localhost:8080/"
        }
      },
      "outputs": [
        {
          "output_type": "execute_result",
          "data": {
            "text/plain": [
              "22"
            ]
          },
          "metadata": {},
          "execution_count": 4
        }
      ],
      "source": [
        "class Persona():\n",
        "    def __init__(self, edad):\n",
        "        self.edad = edad\n",
        "        self.edad = 21\n",
        "class Estudiante(Persona):\n",
        "    def __init__(self, edad):\n",
        "        self.edad = edad\n",
        "        self.edad = 22\n",
        "class Trabajador(Persona):\n",
        "    def __init__(self, edad):\n",
        "        self.edad = edad\n",
        "        self.edad = 23\n",
        "class Becario(Estudiante, Trabajador):\n",
        "    pass\n",
        "\n",
        "jose = Becario(20)\n",
        "jose.edad"
      ]
    },
    {
      "cell_type": "markdown",
      "id": "09cb606e",
      "metadata": {
        "id": "09cb606e"
      },
      "source": [
        "### Ejemplo 2\n",
        "* A → Persona\n",
        "* B → Musico\n",
        "* C → Estudiante\n",
        "* D → Becario (estudiante de conservatorio con contrato laboral)\n",
        "\n",
        "Supongamos que el compilador está buscando el atributo nombre en el constructor, y que como Musico figura el nombre artístico y como estudiante figura el nombre real. Supongamos que como becario no figura ningún nombre.\n",
        "* Como Musico es B se tomará el nombre artístico\n",
        "* Si B hubiera sido Estudiante y C Músico, entonces se tomaría el nombre real"
      ]
    },
    {
      "cell_type": "code",
      "execution_count": 5,
      "id": "37ee8391",
      "metadata": {
        "id": "37ee8391",
        "outputId": "31a17edb-ccf4-43bf-9b27-5ce614b202a8",
        "colab": {
          "base_uri": "https://localhost:8080/",
          "height": 35
        }
      },
      "outputs": [
        {
          "output_type": "execute_result",
          "data": {
            "text/plain": [
              "'Jose'"
            ],
            "application/vnd.google.colaboratory.intrinsic+json": {
              "type": "string"
            }
          },
          "metadata": {},
          "execution_count": 5
        }
      ],
      "source": [
        "class Persona():\n",
        "    def __init__(self, nombre):\n",
        "        self.nombre = nombre\n",
        "        self.nombre = \"Jose Marcelo\"    # nombre oficial\n",
        "class Musico(Persona):\n",
        "    def __init__(self, nombre):\n",
        "        self.nombre = nombre\n",
        "        self.nombre = \"Tomatito\"        # nombre artístico\n",
        "class Estudiante(Persona):\n",
        "    def __init__(self, nombre):\n",
        "        self.nombre = nombre\n",
        "        self.nombre = \"Jose\"            # nombre para los amigos\n",
        "class Becario(Estudiante, Musico):\n",
        "    pass\n",
        "\n",
        "jose = Becario(\"Joselito\")              # nombre familiar\n",
        "jose.nombre"
      ]
    },
    {
      "cell_type": "markdown",
      "id": "e255d6cf",
      "metadata": {
        "id": "e255d6cf"
      },
      "source": [
        "Si hubiéramos definido el becario así:  class Becario(Musico,Estudiante):  \n",
        "entonces el nombre sería \"Tomatito\" ya que Musico es la clase que va primero."
      ]
    }
  ],
  "metadata": {
    "kernelspec": {
      "display_name": "Python 3",
      "language": "python",
      "name": "python3"
    },
    "language_info": {
      "codemirror_mode": {
        "name": "ipython",
        "version": 3
      },
      "file_extension": ".py",
      "mimetype": "text/x-python",
      "name": "python",
      "nbconvert_exporter": "python",
      "pygments_lexer": "ipython3",
      "version": "3.8.8"
    },
    "colab": {
      "name": "calisto2_0230.ipynb",
      "provenance": [],
      "include_colab_link": true
    }
  },
  "nbformat": 4,
  "nbformat_minor": 5
}