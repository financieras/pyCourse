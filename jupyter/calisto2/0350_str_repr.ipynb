{
  "cells": [
    {
      "cell_type": "markdown",
      "metadata": {
        "id": "view-in-github",
        "colab_type": "text"
      },
      "source": [
        "<a href=\"https://colab.research.google.com/github/financieras/pyCourse/blob/main/jupyter/calisto2/calisto2_0350.ipynb\" target=\"_parent\"><img src=\"https://colab.research.google.com/assets/colab-badge.svg\" alt=\"Open In Colab\"/></a>"
      ]
    },
    {
      "cell_type": "markdown",
      "metadata": {
        "id": "P0dk14UDe_yn"
      },
      "source": [
        "# Métodos especiales ```__str__``` , ```__repr__```\n"
      ]
    },
    {
      "cell_type": "code",
      "execution_count": null,
      "metadata": {
        "id": "gSi1JDr8e_yq"
      },
      "outputs": [],
      "source": [
        "class TarjetaCredito:\n",
        "    def __init__(self, nombre, apellidos, numero):\n",
        "        self.nombre = nombre\n",
        "        self.apellidos = apellidos\n",
        "        self.numero = numero\n",
        "\n",
        "visa1 = TarjetaCredito(\"Jorge\", \"Ruiz\", \"1256 5425 2000 4565\")\n",
        "visa2 = TarjetaCredito(\"Susana\", \"Paz\", \"0469 1258 3000 4757\")"
      ]
    },
    {
      "cell_type": "markdown",
      "metadata": {
        "id": "BYVB9azXe_y6"
      },
      "source": [
        "Si queremos imprimir la instancia creada (visa1) no veremos sus atributos sino un objeto con su dirección de memoria."
      ]
    },
    {
      "cell_type": "code",
      "execution_count": null,
      "metadata": {
        "id": "xOeKrD--e_y8",
        "outputId": "0ffcde63-7bc8-4ad0-e205-eec7b30a3aa5"
      },
      "outputs": [
        {
          "data": {
            "text/plain": [
              "<__main__.TarjetaCredito at 0x227ee956970>"
            ]
          },
          "execution_count": 5,
          "metadata": {},
          "output_type": "execute_result"
        }
      ],
      "source": [
        "visa1                                       # vemos el objeto con su dirección de memoria, pero no sus atributos"
      ]
    },
    {
      "cell_type": "code",
      "execution_count": null,
      "metadata": {
        "id": "YQvYf2voe_y-",
        "outputId": "2a8df29e-365e-46d3-c52b-5e04c78565b4"
      },
      "outputs": [
        {
          "name": "stdout",
          "output_type": "stream",
          "text": [
            "<__main__.TarjetaCredito object at 0x00000227EE956A00>\n"
          ]
        }
      ],
      "source": [
        "print(visa2)                                # vemos el objeto con su dirección de memoria, pero no sus atributos"
      ]
    },
    {
      "cell_type": "markdown",
      "metadata": {
        "id": "e_O6u2zfe_y_"
      },
      "source": [
        "## ```__str__```"
      ]
    },
    {
      "cell_type": "code",
      "execution_count": null,
      "metadata": {
        "id": "DS9BfG7me_zA"
      },
      "outputs": [],
      "source": [
        "class TarjetaCredito:\n",
        "    def __init__(self, nombre, apellidos, numero):\n",
        "        self.nombre = nombre\n",
        "        self.apellidos = apellidos\n",
        "        self.numero = numero\n",
        "    def __str__(self):\n",
        "        return f\"Soy {self.nombre} {self.apellidos} y mi número de VISA es {self.numero}.\"\n",
        "\n",
        "visa1 = TarjetaCredito(\"Jorge\", \"Ruiz\", \"1256 5425 2000 4565\")\n",
        "visa2 = TarjetaCredito(\"Susana\", \"Paz\", \"0469 1258 3000 4757\")"
      ]
    },
    {
      "cell_type": "code",
      "execution_count": null,
      "metadata": {
        "id": "efknu8f7e_zA",
        "outputId": "adf4488d-d494-42da-f2e3-bd8ee69ee201"
      },
      "outputs": [
        {
          "name": "stdout",
          "output_type": "stream",
          "text": [
            "Soy Jorge Ruiz y mi número de VISA es 1256 5425 2000 4565.\n",
            "Soy Susana Paz y mi número de VISA es 0469 1258 3000 4757.\n"
          ]
        }
      ],
      "source": [
        "print(visa1)                                # ahora si vemos un contenido más amigable del objeto viendo sus atributos\n",
        "print(visa2)                                # necesitamos poner un print pq __str__ va con return"
      ]
    },
    {
      "cell_type": "markdown",
      "metadata": {
        "id": "TNilG1Xze_zB"
      },
      "source": [
        "## ```__repr__```\n",
        "Para una representación formal del objeto."
      ]
    },
    {
      "cell_type": "code",
      "execution_count": null,
      "metadata": {
        "id": "L78b7gJ8e_zC",
        "outputId": "015cff7e-561b-4e80-a71e-9f1dd2b8baaf"
      },
      "outputs": [
        {
          "name": "stdout",
          "output_type": "stream",
          "text": [
            "Jorge                 \n",
            "Ruiz                 \n",
            "1256 5425 2000 4565\n",
            "= = = = = = = = = = = = \n",
            "Susana                 \n",
            "Paz                 \n",
            "0469 1258 3000 4757\n"
          ]
        }
      ],
      "source": [
        "class TarjetaCredito:\n",
        "    def __init__(self, nombre, apellidos, numero):\n",
        "        self.nombre = nombre\n",
        "        self.apellidos = apellidos\n",
        "        self.numero = numero\n",
        "    def __repr__(self):                      # ahora no usamos str sino repr    \n",
        "        return f\"{self.nombre} \\\n",
        "                \\n{self.apellidos} \\\n",
        "                \\n{self.numero}\"\n",
        "\n",
        "visa1 = TarjetaCredito(\"Jorge\", \"Ruiz\", \"1256 5425 2000 4565\")\n",
        "visa2 = TarjetaCredito(\"Susana\", \"Paz\", \"0469 1258 3000 4757\")\n",
        "print(visa1)\n",
        "print(\"= \"*12)\n",
        "print(visa2)"
      ]
    },
    {
      "cell_type": "code",
      "execution_count": null,
      "metadata": {
        "id": "nEG23xlfe_zE",
        "outputId": "5778e822-fb39-4fe5-d0f7-a61b4d221d25"
      },
      "outputs": [
        {
          "name": "stdout",
          "output_type": "stream",
          "text": [
            "Soy Jorge Ruiz y mi número de VISA es 1256 5425 2000 4565.\n",
            "= = = = = = = = = = = = = = = = = = = = = = = = = = = = = = \n",
            "Soy Susana Paz y mi número de VISA es 0469 1258 3000 4757.\n"
          ]
        }
      ],
      "source": [
        "class TarjetaCredito:\n",
        "    def __init__(self, nombre, apellidos, numero):\n",
        "        self.nombre = nombre\n",
        "        self.apellidos = apellidos\n",
        "        self.numero = numero\n",
        "    def __str__(self):                       # tenemos tanto str como repr\n",
        "        return f\"Soy {self.nombre} {self.apellidos} y mi número de VISA es {self.numero}.\"\n",
        "    def __repr__(self):                      # tenemos tanto str como repr\n",
        "        return f\"{self.nombre} \\\n",
        "                \\n{self.apellidos} \\\n",
        "                \\n{self.numero}\"\n",
        "\n",
        "visa1 = TarjetaCredito(\"Jorge\", \"Ruiz\", \"1256 5425 2000 4565\")\n",
        "visa2 = TarjetaCredito(\"Susana\", \"Paz\", \"0469 1258 3000 4757\")\n",
        "print(visa1)                                 # cuando están los dos (str y repr) domina str\n",
        "print(\"= \"*30)\n",
        "print(visa2)                                 # obtenemos una frase informal informando sobre el objeto"
      ]
    },
    {
      "cell_type": "code",
      "execution_count": null,
      "metadata": {
        "id": "87XCpJmAe_zG"
      },
      "outputs": [],
      "source": [
        "class TarjetaCredito:\n",
        "    def __init__(self, nombre, apellidos, numero):\n",
        "        self.nombre = nombre\n",
        "        self.apellidos = apellidos\n",
        "        self.numero = numero\n",
        "    def __str__(self):\n",
        "        return f\"Soy {self.nombre} {self.apellidos} y mi número de VISA es {self.numero}.\"\n",
        "    def __repr__(self):\n",
        "        return f\"{self.nombre} \\\n",
        "                \\n{self.apellidos} \\\n",
        "                \\n{self.numero}\"\n",
        "\n",
        "visa1 = TarjetaCredito(\"Jorge\", \"Ruiz\", \"1256 5425 2000 4565\")\n",
        "visa2 = TarjetaCredito(\"Susana\", \"Paz\", \"0469 1258 3000 4757\")"
      ]
    },
    {
      "cell_type": "code",
      "execution_count": null,
      "metadata": {
        "id": "3OwYVFjYe_zI",
        "outputId": "6d5638fc-96f1-43de-bee5-dbe2b5e2e2be"
      },
      "outputs": [
        {
          "name": "stdout",
          "output_type": "stream",
          "text": [
            "Soy Jorge Ruiz y mi número de VISA es 1256 5425 2000 4565.\n"
          ]
        }
      ],
      "source": [
        "print(visa1)                                  # impresión informal con str"
      ]
    },
    {
      "cell_type": "code",
      "execution_count": null,
      "metadata": {
        "id": "Owodavg4e_zJ",
        "outputId": "3210806a-b85c-45e0-f291-0e8b2e6fa001"
      },
      "outputs": [
        {
          "name": "stdout",
          "output_type": "stream",
          "text": [
            "{Susana                 \n",
            "Paz                 \n",
            "0469 1258 3000 4757}\n"
          ]
        }
      ],
      "source": [
        "print({visa2})                                # representación formal con repr, pero salen los corchetes"
      ]
    },
    {
      "cell_type": "code",
      "execution_count": null,
      "metadata": {
        "id": "3Qekl1mKe_zK",
        "outputId": "13b2855a-5e4d-4842-ce35-2dd65d2155a6"
      },
      "outputs": [
        {
          "name": "stdout",
          "output_type": "stream",
          "text": [
            "Susana                 \n",
            "Paz                 \n",
            "0469 1258 3000 4757\n"
          ]
        }
      ],
      "source": [
        "print(f\"{visa2 !r}\")                          # así obtenemos la representación formal limpia, es necesario poner !r"
      ]
    },
    {
      "cell_type": "markdown",
      "source": [
        "## Diferencia entre los métodos especiales ```__str__``` y ```__repr__```\n",
        "En Python, los métodos ```__str__``` y ```__repr__``` son métodos especiales que se utilizan para representar una clase de objetos como una cadena de caracteres. La diferencia entre ellos es que ```__str__``` se utiliza para representar la clase de objetos como una cadena de caracteres legible para humanos, mientras que ```__repr__``` se utiliza para representar la clase de objetos como una cadena de caracteres legible para Python.\n",
        "\n",
        "Aquí hay un ejemplo que ilustra la diferencia entre los dos métodos:"
      ],
      "metadata": {
        "id": "BATneCmY11ir"
      }
    },
    {
      "cell_type": "code",
      "source": [
        "class Persona:\n",
        "    def __init__(self, nombre, edad):\n",
        "        self.nombre = nombre\n",
        "        self.edad = edad\n",
        "\n",
        "    def __str__(self):\n",
        "       return f\"{self.nombre} tiene {self.edad} años.\"\n",
        "\n",
        "    def __repr__(self):\n",
        "        return f\"Persona('{self.nombre}', {self.edad})\"\n",
        "\n",
        "p = Persona(\"Juan\", 30)\n",
        "print(str(p))\n",
        "print(repr(p))\n",
        "p"
      ],
      "metadata": {
        "id": "5FsNAtbH2DM3",
        "outputId": "2841102c-c45c-431c-df15-3e9c81337cea",
        "colab": {
          "base_uri": "https://localhost:8080/"
        }
      },
      "execution_count": 2,
      "outputs": [
        {
          "output_type": "stream",
          "name": "stdout",
          "text": [
            "Juan tiene 30 años.\n",
            "Persona('Juan', 30)\n"
          ]
        },
        {
          "output_type": "execute_result",
          "data": {
            "text/plain": [
              "Persona('Juan', 30)"
            ]
          },
          "metadata": {},
          "execution_count": 2
        }
      ]
    }
  ],
  "metadata": {
    "kernelspec": {
      "display_name": "Python 3",
      "language": "python",
      "name": "python3"
    },
    "language_info": {
      "codemirror_mode": {
        "name": "ipython",
        "version": 3
      },
      "file_extension": ".py",
      "mimetype": "text/x-python",
      "name": "python",
      "nbconvert_exporter": "python",
      "pygments_lexer": "ipython3",
      "version": "3.8.8"
    },
    "colab": {
      "name": "0350_str_repr.ipynb",
      "provenance": [],
      "include_colab_link": true
    }
  },
  "nbformat": 4,
  "nbformat_minor": 0
}
