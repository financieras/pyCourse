{
  "cells": [
    {
      "cell_type": "markdown",
      "metadata": {
        "id": "view-in-github",
        "colab_type": "text"
      },
      "source": [
        "<a href=\"https://colab.research.google.com/github/financieras/pyCourse/blob/main/jupyter/calisto2/calisto2_0190.ipynb\" target=\"_parent\"><img src=\"https://colab.research.google.com/assets/colab-badge.svg\" alt=\"Open In Colab\"/></a>"
      ]
    },
    {
      "cell_type": "markdown",
      "id": "90d072c4",
      "metadata": {
        "id": "90d072c4"
      },
      "source": [
        "# Ejemplos sin herencia [4]"
      ]
    },
    {
      "cell_type": "code",
      "execution_count": null,
      "id": "4e561163",
      "metadata": {
        "id": "4e561163"
      },
      "outputs": [],
      "source": [
        "class Cliente:                                       # una clase para los clientes\n",
        "    \n",
        "    def __init__(self, dni, nombre, apellidos):\n",
        "        self.dni = dni\n",
        "        self.nombre = nombre\n",
        "        self.apellidos = apellidos\n",
        "        \n",
        "    def __str__(self):\n",
        "        return f'{self.nombre} {self.apellidos} con DNI {self.dni}.'\n",
        "\n",
        "class Empresa:                                        # otra clase para las empresas\n",
        "    \n",
        "    def __init__(self, clientes=[]):\n",
        "        self.clientes = clientes\n",
        "        \n",
        "    def get_cliente(self, dni = None):\n",
        "        for c in self.clientes:\n",
        "            if c.dni == dni:\n",
        "                print(\"El cliente es:\", c) # si no existiera __str__ no funcionaría poner c, sería: c.nombre, c.apellidos\n",
        "                return\n",
        "        print('Cliente no encontrado.')\n",
        "        \n",
        "    def del_cliente(self, dni = None):\n",
        "        for i,c in enumerate(self.clientes):\n",
        "            if c.dni == dni:\n",
        "                del(self.clientes[i])\n",
        "                print(f'{c} → BORRADO')    # sin __str__ se tendría que poner: {c.nombre} {c.apellidos}\n",
        "                return\n",
        "        print('Cliente no encontrado.')"
      ]
    },
    {
      "cell_type": "code",
      "execution_count": null,
      "id": "0f6db5ad",
      "metadata": {
        "id": "0f6db5ad"
      },
      "outputs": [],
      "source": [
        "jose = Cliente(nombre=\"Jose Luis\", apellidos=\"Ruiz\", dni=\"123A\") # creamos un cliente\n",
        "rober = Cliente(\"444B\", \"Roberto\", \"López\")                      # creamos otro cliente\n",
        "empresa =Empresa(clientes=[jose, rober])                         # creamos una empresa con los clientes"
      ]
    },
    {
      "cell_type": "code",
      "execution_count": null,
      "id": "eaf3d7c8",
      "metadata": {
        "id": "eaf3d7c8"
      },
      "outputs": [],
      "source": [
        "empresa.clientes                          # listado de clientes, vemos solo los objetos con la dirección de memoria"
      ]
    },
    {
      "cell_type": "code",
      "execution_count": null,
      "id": "b8f113b9",
      "metadata": {
        "id": "b8f113b9"
      },
      "outputs": [],
      "source": [
        "empresa.get_cliente(\"123A\")                                      # consultamos un cliente por dni"
      ]
    },
    {
      "cell_type": "code",
      "execution_count": null,
      "id": "447e26f1",
      "metadata": {
        "id": "447e26f1"
      },
      "outputs": [],
      "source": [
        "empresa.del_cliente(\"123A\")                                      # borro un cliente por dni\n",
        "empresa.clientes                                                 # muestro de nuevo todos los clientes"
      ]
    },
    {
      "cell_type": "code",
      "execution_count": null,
      "id": "cba63133",
      "metadata": {
        "id": "cba63133"
      },
      "outputs": [],
      "source": [
        "empresa.del_cliente(\"123Z\")                                      # borro un cliente con dni inexistente"
      ]
    }
  ],
  "metadata": {
    "kernelspec": {
      "display_name": "Python 3",
      "language": "python",
      "name": "python3"
    },
    "language_info": {
      "codemirror_mode": {
        "name": "ipython",
        "version": 3
      },
      "file_extension": ".py",
      "mimetype": "text/x-python",
      "name": "python",
      "nbconvert_exporter": "python",
      "pygments_lexer": "ipython3",
      "version": "3.8.8"
    },
    "colab": {
      "name": "calisto2_0190.ipynb",
      "provenance": [],
      "include_colab_link": true
    }
  },
  "nbformat": 4,
  "nbformat_minor": 5
}
