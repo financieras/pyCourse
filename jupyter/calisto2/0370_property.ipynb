{
  "cells": [
    {
      "cell_type": "markdown",
      "metadata": {
        "id": "view-in-github",
        "colab_type": "text"
      },
      "source": [
        "<a href=\"https://colab.research.google.com/github/financieras/pyCourse/blob/main/jupyter/calisto2/0370_property.ipynb\" target=\"_parent\"><img src=\"https://colab.research.google.com/assets/colab-badge.svg\" alt=\"Open In Colab\"/></a>"
      ]
    },
    {
      "cell_type": "markdown",
      "id": "0219669e",
      "metadata": {
        "id": "0219669e"
      },
      "source": [
        "# Función property()\n",
        "[Property function](https://www.tutorialsteacher.com/python/property-function)"
      ]
    },
    {
      "cell_type": "markdown",
      "id": "3e22119f",
      "metadata": {
        "id": "3e22119f"
      },
      "source": [
        "## Estilo JAVA: getter, setter, deleter\n",
        "Preparando el terreno para explicar las PROPIEDADES (properties)."
      ]
    },
    {
      "cell_type": "code",
      "execution_count": 1,
      "id": "dfedd945",
      "metadata": {
        "id": "dfedd945",
        "outputId": "2e744a1e-db51-4245-9ad8-0ab185005e75",
        "colab": {
          "base_uri": "https://localhost:8080/"
        }
      },
      "outputs": [
        {
          "output_type": "stream",
          "name": "stdout",
          "text": [
            "Rober 30000\n",
            "Susana 40500\n"
          ]
        }
      ],
      "source": [
        "class Empleado():\n",
        "    def __init__(self, nombre, salario):  # método constructor con dos atributos\n",
        "        self.__nombre = nombre\n",
        "        self.__salario = salario\n",
        "    def getnombre(self):                  # getter\n",
        "        return self.__nombre\n",
        "    def getsalario(self):\n",
        "        return self.__salario\n",
        "    def setnombre(self, nombre):          # setter\n",
        "        self.__nombre = nombre\n",
        "    def setsalario(self, salario):\n",
        "        self.__salario = salario\n",
        "    def delnombre(self, nombre):          # deleter\n",
        "        del self.__nombre\n",
        "    def delsalario(self, salario):\n",
        "        del self.__salario\n",
        "\n",
        "e1 = Empleado(\"Rober\", 30_000)\n",
        "e2 = Empleado(\"Susana\", 40_500)\n",
        "\n",
        "print(e1.getnombre(), e1.getsalario())\n",
        "print(e2.getnombre(), e2.getsalario())"
      ]
    },
    {
      "cell_type": "code",
      "execution_count": 2,
      "id": "07643301",
      "metadata": {
        "id": "07643301",
        "outputId": "bafbb8a3-9dd9-4801-ac3e-072722fa22be",
        "colab": {
          "base_uri": "https://localhost:8080/"
        }
      },
      "outputs": [
        {
          "output_type": "stream",
          "name": "stdout",
          "text": [
            "Roberto 30000\n"
          ]
        }
      ],
      "source": [
        "e1.setnombre(\"Roberto\")                  # modificamos el nombre\n",
        "print(e1.getnombre(), e1.getsalario())"
      ]
    },
    {
      "cell_type": "code",
      "execution_count": 3,
      "id": "6658c11e",
      "metadata": {
        "id": "6658c11e"
      },
      "outputs": [],
      "source": [
        "e2.delnombre(\"Susana\")    # Susana deja la empresa"
      ]
    },
    {
      "cell_type": "code",
      "execution_count": 4,
      "id": "2a04685a",
      "metadata": {
        "id": "2a04685a"
      },
      "outputs": [],
      "source": [
        "#print(e2.getnombre())    # da error porque el nombre de e2 no existe"
      ]
    },
    {
      "cell_type": "code",
      "execution_count": 5,
      "id": "1ed38655",
      "metadata": {
        "id": "1ed38655",
        "outputId": "393415de-d553-4d1b-8855-e39a348a27d2",
        "colab": {
          "base_uri": "https://localhost:8080/"
        }
      },
      "outputs": [
        {
          "output_type": "stream",
          "name": "stdout",
          "text": [
            "40500\n"
          ]
        }
      ],
      "source": [
        "print(e2.getsalario())    # el salario sigue existiendo"
      ]
    },
    {
      "cell_type": "code",
      "execution_count": 6,
      "id": "4e4f3733",
      "metadata": {
        "id": "4e4f3733"
      },
      "outputs": [],
      "source": [
        "e2.setnombre(\"Marta\")     # contratamos a Marta en el puesto de Susana"
      ]
    },
    {
      "cell_type": "code",
      "execution_count": 7,
      "id": "d46275c5",
      "metadata": {
        "id": "d46275c5",
        "outputId": "3f9108a9-ad24-4721-fc07-1a012425c0b3",
        "colab": {
          "base_uri": "https://localhost:8080/"
        }
      },
      "outputs": [
        {
          "output_type": "stream",
          "name": "stdout",
          "text": [
            "Marta 40500\n"
          ]
        }
      ],
      "source": [
        "print(e2.getnombre(), e2.getsalario())"
      ]
    },
    {
      "cell_type": "markdown",
      "id": "de15c2d4",
      "metadata": {
        "id": "de15c2d4"
      },
      "source": [
        "## Propiedades\n",
        "Para los atributos que requieran validación.\n",
        "\n",
        "Palabra reservada **property**\n",
        "\n",
        "Encapsulamos los métodos añadiendo un prefijo de doble barra baja, así:  \n",
        "* __getnombre()\n",
        "* __setnombre()\n",
        "* __delnombre()"
      ]
    },
    {
      "cell_type": "code",
      "execution_count": 8,
      "id": "ef283bb7",
      "metadata": {
        "id": "ef283bb7"
      },
      "outputs": [],
      "source": [
        "class Empleado():\n",
        "    def __init__(self, nombre, salario):  # método constructor con dos atributos\n",
        "        self.__nombre = nombre\n",
        "        self.__salario = salario\n",
        "    def __getnombre(self):                  # getter encapsulado\n",
        "        return self.__nombre\n",
        "    def __getsalario(self):\n",
        "        return self.__salario\n",
        "    def __setnombre(self, nombre):          # setter encapsulado\n",
        "        self.__nombre = nombre\n",
        "    def __setsalario(self, salario):\n",
        "        self.__salario = salario\n",
        "    def __delnombre(self, nombre):          # deleter encapsulado\n",
        "        del self.__nombre\n",
        "    def __delsalario(self, salario):\n",
        "        del self.__salario\n",
        "\n",
        "    nombre = property(fget = __getnombre,\n",
        "                      fset = __setnombre,\n",
        "                      fdel = __delnombre,\n",
        "                      doc = \"documentación de la propiedad del nombre\")\n",
        "\n",
        "    salario = property(fget = __getsalario,\n",
        "                      fset = __setsalario,\n",
        "                      fdel = __delsalario,\n",
        "                      doc = \"documentación de la propiedad del salario\")"
      ]
    },
    {
      "cell_type": "markdown",
      "id": "bceaef5d",
      "metadata": {
        "id": "bceaef5d"
      },
      "source": [
        "* property(fget, fset, fdel, doc)\n",
        "\n",
        "Ven en ese orden y todos ellos son parámetros opcionales."
      ]
    },
    {
      "cell_type": "code",
      "execution_count": 9,
      "id": "fe449875",
      "metadata": {
        "id": "fe449875",
        "outputId": "851c75e2-fe20-40bd-8488-00acdde50590",
        "colab": {
          "base_uri": "https://localhost:8080/"
        }
      },
      "outputs": [
        {
          "output_type": "stream",
          "name": "stdout",
          "text": [
            "Julia 30000\n"
          ]
        }
      ],
      "source": [
        "e1 = Empleado(\"Roberto\", 30_000)\n",
        "e1.nombre = \"Julia\"\n",
        "print(e1.nombre, e1.salario)  #e1.__getnombre() no funciona, ahora se hace así."
      ]
    },
    {
      "cell_type": "code",
      "execution_count": 10,
      "id": "7a16b672",
      "metadata": {
        "id": "7a16b672",
        "outputId": "7b52815f-d90d-4bf8-a05e-5fb1b5f56a90",
        "colab": {
          "base_uri": "https://localhost:8080/"
        }
      },
      "outputs": [
        {
          "output_type": "stream",
          "name": "stdout",
          "text": [
            "Help on Empleado in module __main__ object:\n",
            "\n",
            "class Empleado(builtins.object)\n",
            " |  Empleado(nombre, salario)\n",
            " |  \n",
            " |  Methods defined here:\n",
            " |  \n",
            " |  __init__(self, nombre, salario)\n",
            " |      Initialize self.  See help(type(self)) for accurate signature.\n",
            " |  \n",
            " |  ----------------------------------------------------------------------\n",
            " |  Data descriptors defined here:\n",
            " |  \n",
            " |  __dict__\n",
            " |      dictionary for instance variables (if defined)\n",
            " |  \n",
            " |  __weakref__\n",
            " |      list of weak references to the object (if defined)\n",
            " |  \n",
            " |  nombre\n",
            " |      documentación de la propiedad del nombre\n",
            " |  \n",
            " |  salario\n",
            " |      documentación de la propiedad del salario\n",
            "\n"
          ]
        }
      ],
      "source": [
        "help(e1)   # aplicado a un objeto"
      ]
    },
    {
      "cell_type": "code",
      "execution_count": 11,
      "id": "1796f0c6",
      "metadata": {
        "id": "1796f0c6",
        "outputId": "023fddf6-f8e4-44ea-f19b-916ed2132248",
        "colab": {
          "base_uri": "https://localhost:8080/"
        }
      },
      "outputs": [
        {
          "output_type": "stream",
          "name": "stdout",
          "text": [
            "Help on class Empleado in module __main__:\n",
            "\n",
            "class Empleado(builtins.object)\n",
            " |  Empleado(nombre, salario)\n",
            " |  \n",
            " |  Methods defined here:\n",
            " |  \n",
            " |  __init__(self, nombre, salario)\n",
            " |      Initialize self.  See help(type(self)) for accurate signature.\n",
            " |  \n",
            " |  ----------------------------------------------------------------------\n",
            " |  Data descriptors defined here:\n",
            " |  \n",
            " |  __dict__\n",
            " |      dictionary for instance variables (if defined)\n",
            " |  \n",
            " |  __weakref__\n",
            " |      list of weak references to the object (if defined)\n",
            " |  \n",
            " |  nombre\n",
            " |      documentación de la propiedad del nombre\n",
            " |  \n",
            " |  salario\n",
            " |      documentación de la propiedad del salario\n",
            "\n"
          ]
        }
      ],
      "source": [
        "help(Empleado)   # aplicado a la clase"
      ]
    }
  ],
  "metadata": {
    "kernelspec": {
      "display_name": "Python 3",
      "language": "python",
      "name": "python3"
    },
    "language_info": {
      "codemirror_mode": {
        "name": "ipython",
        "version": 3
      },
      "file_extension": ".py",
      "mimetype": "text/x-python",
      "name": "python",
      "nbconvert_exporter": "python",
      "pygments_lexer": "ipython3",
      "version": "3.8.8"
    },
    "colab": {
      "name": "0370_property.ipynb",
      "provenance": [],
      "include_colab_link": true
    }
  },
  "nbformat": 4,
  "nbformat_minor": 5
}