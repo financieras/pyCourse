{
  "nbformat": 4,
  "nbformat_minor": 0,
  "metadata": {
    "colab": {
      "provenance": [],
      "authorship_tag": "ABX9TyPjvb4IcHU/nicmzwEgXQ0O",
      "include_colab_link": true
    },
    "kernelspec": {
      "name": "python3",
      "display_name": "Python 3"
    },
    "language_info": {
      "name": "python"
    }
  },
  "cells": [
    {
      "cell_type": "markdown",
      "metadata": {
        "id": "view-in-github",
        "colab_type": "text"
      },
      "source": [
        "<a href=\"https://colab.research.google.com/github/financieras/pyCourse/blob/main/jupyter/calisto2/calisto2_0045.ipynb\" target=\"_parent\"><img src=\"https://colab.research.google.com/assets/colab-badge.svg\" alt=\"Open In Colab\"/></a>"
      ]
    },
    {
      "cell_type": "markdown",
      "source": [
        "# Ejemplo: atributos de clase y de instancia"
      ],
      "metadata": {
        "id": "r_FyFgu7gOtQ"
      }
    },
    {
      "cell_type": "markdown",
      "source": [
        "## Clase Préstamo\n",
        " * El atributo de clase `tasa_interes` es común para todas las instancias de la clase `Prestamo`.\n",
        " * Los atributos `monto` y `plazo` son atributos de instancia, son específicos para cada instancia de la clase `Prestamo`.\n",
        " * La función `calcular_interes` es un método que calcula el interés del préstamo utilizando tanto el atributo de clase como los atributos de instancia."
      ],
      "metadata": {
        "id": "ZC-tWHcfgoMI"
      }
    },
    {
      "cell_type": "code",
      "execution_count": 3,
      "metadata": {
        "colab": {
          "base_uri": "https://localhost:8080/"
        },
        "id": "mWUn0_iZgOB4",
        "outputId": "68da53dd-a86d-44df-834d-eba79c544681"
      },
      "outputs": [
        {
          "output_type": "stream",
          "name": "stdout",
          "text": [
            "1000\n",
            "12\n",
            "0.005\n",
            "60.0\n"
          ]
        }
      ],
      "source": [
        "class Prestamo:\n",
        "    # Atributo de clase\n",
        "    tasa_interes = 0.005    # es un 0,5% mensual, lo que equivale a un TIN del 6% anual \n",
        "\n",
        "    def __init__(self, monto, plazo):\n",
        "        # Atributos de instancia\n",
        "        self.monto = monto\n",
        "        self.plazo = plazo\n",
        "\n",
        "    def calcular_interes(self):\n",
        "        interes = self.monto * self.plazo * Prestamo.tasa_interes\n",
        "        return interes\n",
        "\n",
        "# Crear una instancia de la clase Prestamo\n",
        "p = Prestamo(1000, 12)\n",
        "\n",
        "# Acceder a los atributos de instancia\n",
        "print(p.monto)  # Output: 1000\n",
        "print(p.plazo)  # Output: 12\n",
        "\n",
        "# Acceder al atributo de clase\n",
        "print(Prestamo.tasa_interes)  # Output: 0.005\n",
        "\n",
        "# Calcular el interés del préstamo\n",
        "interes = p.calcular_interes()\n",
        "print(interes)  # Output: 60.0"
      ]
    }
  ]
}