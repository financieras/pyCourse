{
  "nbformat": 4,
  "nbformat_minor": 0,
  "metadata": {
    "colab": {
      "provenance": [],
      "authorship_tag": "ABX9TyPo8z8XODNo35HzAgtC6eps",
      "include_colab_link": true
    },
    "kernelspec": {
      "name": "python3",
      "display_name": "Python 3"
    },
    "language_info": {
      "name": "python"
    }
  },
  "cells": [
    {
      "cell_type": "markdown",
      "metadata": {
        "id": "view-in-github",
        "colab_type": "text"
      },
      "source": [
        "<a href=\"https://colab.research.google.com/github/financieras/pyCourse/blob/main/jupyter/calisto2/0285_herencia_super.ipynb\" target=\"_parent\"><img src=\"https://colab.research.google.com/assets/colab-badge.svg\" alt=\"Open In Colab\"/></a>"
      ]
    },
    {
      "cell_type": "markdown",
      "source": [
        "# Herencia: super\n",
        "Existen dos formas de heredar el constructor de la clase padre: usando ```super``` o no.   \n",
        "Lo aconsejable es usar ```super()```"
      ],
      "metadata": {
        "id": "nIJw9G0MSStU"
      }
    },
    {
      "cell_type": "markdown",
      "source": [
        "## Ejemplo 1: Figura, Rectangulo"
      ],
      "metadata": {
        "id": "MhlAp_8KoOwo"
      }
    },
    {
      "cell_type": "markdown",
      "source": [
        "### Usando ```super()```"
      ],
      "metadata": {
        "id": "SiiX_sPESimh"
      }
    },
    {
      "cell_type": "code",
      "execution_count": 1,
      "metadata": {
        "id": "L5Y-r0Q7RBTO"
      },
      "outputs": [],
      "source": [
        "class Figura:\n",
        "    def __init__(self, nombre):\n",
        "        self.nombre = nombre\n",
        "\n",
        "class Rectangulo(Figura):\n",
        "    def __init__(self, base, altura, nombre):\n",
        "        super().__init__(nombre)\n",
        "        self.base = base\n",
        "        self.altura = altura\n",
        "\n",
        "    def area(self):\n",
        "        return self.base * self.altura"
      ]
    },
    {
      "cell_type": "code",
      "source": [
        "rectangulo1 = Rectangulo(100, 300, \"rectangulito\")\n",
        "rectangulo1.area()"
      ],
      "metadata": {
        "id": "XTiIo_0pSqdH",
        "colab": {
          "base_uri": "https://localhost:8080/"
        },
        "outputId": "e8556c0a-1391-461b-a16b-66d663967e8c"
      },
      "execution_count": 2,
      "outputs": [
        {
          "output_type": "execute_result",
          "data": {
            "text/plain": [
              "30000"
            ]
          },
          "metadata": {},
          "execution_count": 2
        }
      ]
    },
    {
      "cell_type": "markdown",
      "source": [
        "### Sin usar ```super()```"
      ],
      "metadata": {
        "id": "LXuC_GswSrc3"
      }
    },
    {
      "cell_type": "code",
      "source": [
        "class Figura:\n",
        "    def __init__(self, nombre):\n",
        "        self.nombre = nombre\n",
        "\n",
        "class Rectangulo(Figura):\n",
        "    def __init__(self, base, altura, nombre):\n",
        "        Figura.__init__(self, nombre)\n",
        "        self.base = base\n",
        "        self.altura = altura\n",
        "\n",
        "    def area(self):\n",
        "        return self.base * self.altura"
      ],
      "metadata": {
        "id": "4LGBEWIKRxYy"
      },
      "execution_count": 3,
      "outputs": []
    },
    {
      "cell_type": "code",
      "source": [
        "rectangulo1 = Rectangulo(100, 300, \"rectangulito\")\n",
        "rectangulo1.area()"
      ],
      "metadata": {
        "colab": {
          "base_uri": "https://localhost:8080/"
        },
        "id": "mF3YUXCCRHXE",
        "outputId": "97ae1ea4-8702-4303-8da0-7ba6dfbc3659"
      },
      "execution_count": 4,
      "outputs": [
        {
          "output_type": "execute_result",
          "data": {
            "text/plain": [
              "30000"
            ]
          },
          "metadata": {},
          "execution_count": 4
        }
      ]
    },
    {
      "cell_type": "markdown",
      "source": [
        "## Ejemplo 2: Rectangulo, Cuadrado"
      ],
      "metadata": {
        "id": "169TO_-hoZVa"
      }
    },
    {
      "cell_type": "markdown",
      "source": [
        "### Sin usar ```super()```\n",
        "Al usar @property evitamos tener que escribir los paréntesis en r.area()"
      ],
      "metadata": {
        "id": "EW82rFFvoi3W"
      }
    },
    {
      "cell_type": "code",
      "source": [
        "class Rectangulo:\n",
        "    def __init__(self, base, altura):\n",
        "        self.base = base\n",
        "        self.altura = altura\n",
        "        self.nombre = 'rectángulo'\n",
        "    @property\n",
        "    def area(self):\n",
        "        return self.base * self.altura\n",
        "\n",
        "r = Rectangulo(4,5)\n",
        "print(r.nombre, r.area)"
      ],
      "metadata": {
        "colab": {
          "base_uri": "https://localhost:8080/"
        },
        "id": "UNo5vi9HonSS",
        "outputId": "e89ecee6-b22f-497b-e860-873f3f50a09c"
      },
      "execution_count": 5,
      "outputs": [
        {
          "output_type": "stream",
          "name": "stdout",
          "text": [
            "rectángulo 20\n"
          ]
        }
      ]
    },
    {
      "cell_type": "code",
      "source": [
        "class Cuadrado(Rectangulo):\n",
        "    def __init__(self, lado):\n",
        "        Rectangulo.__init__(self, lado, lado)\n",
        "        self.nombre = 'cuadrado'"
      ],
      "metadata": {
        "id": "5sTkF7KHqnij"
      },
      "execution_count": 6,
      "outputs": []
    },
    {
      "cell_type": "code",
      "source": [
        "c = Cuadrado(4)\n",
        "print(c.nombre, c.area)"
      ],
      "metadata": {
        "colab": {
          "base_uri": "https://localhost:8080/"
        },
        "id": "cBx4sRflq7yI",
        "outputId": "ec968ea4-3427-492f-afe5-d68ab9bde91a"
      },
      "execution_count": 7,
      "outputs": [
        {
          "output_type": "stream",
          "name": "stdout",
          "text": [
            "cuadrado 16\n"
          ]
        }
      ]
    },
    {
      "cell_type": "markdown",
      "source": [
        "### Usando ```super()```"
      ],
      "metadata": {
        "id": "MrZtf4ptojfF"
      }
    },
    {
      "cell_type": "code",
      "source": [
        "class SuperCuadrado(Rectangulo):\n",
        "   def __init__(self, lado):\n",
        "      super().__init__(lado, lado)\n",
        "      self.nombre = 'cuadrado'\n",
        "\n",
        "c2 = SuperCuadrado(5)\n",
        "print(c2.nombre, c2.area)"
      ],
      "metadata": {
        "colab": {
          "base_uri": "https://localhost:8080/"
        },
        "id": "jnp02fAWrQ2i",
        "outputId": "48946f42-d48d-4174-97f3-43718a8a86bf"
      },
      "execution_count": 8,
      "outputs": [
        {
          "output_type": "stream",
          "name": "stdout",
          "text": [
            "cuadrado 25\n"
          ]
        }
      ]
    },
    {
      "cell_type": "markdown",
      "source": [
        "## Ejemplo 3: Person, Student"
      ],
      "metadata": {
        "id": "NzVaSsfBsqRz"
      }
    },
    {
      "cell_type": "markdown",
      "source": [
        "### Sin usar ```super()```"
      ],
      "metadata": {
        "id": "ChQbNXtHsycX"
      }
    },
    {
      "cell_type": "code",
      "source": [
        "class Person(object):\n",
        "    def __init__(self,fname='', lname=''):\n",
        "        self.fname = fname\n",
        "        self.lname = lname\n",
        "    def __repr__(self):    # permite representar un objeto para mostrarlo como mejor nos parezca\n",
        "        return f\"Se trata de {self.fname} de la familia {self.lname}.\"\n",
        "    def __str__(self):\n",
        "        return f\"Persona: {self.fname} {self.lname}.\"\n",
        "\n",
        "\n",
        "class Student(Person):\n",
        "    def __init__(self, fname='', lname='', id=''):\n",
        "        Person.__init__(self, fname, lname)\n",
        "        self.id = id\n",
        "    def __repr__(self):    # permite representar un objeto para mostrarlo como mejor nos parezca\n",
        "        return f\"El id {self.id} corresponde al estudiente: {self.fname} {self.lname}.\"\n",
        "    def __str__(self):\n",
        "        return f\"Estudiante: {self.fname} {self.lname} con id: {self.id}.\"\n",
        "\n",
        "if __name__ == '__main__':\n",
        "    p = Person('Miguel', 'Ruiz')\n",
        "    print(p)   # equivale a:   print(str(p))\n",
        "    print(repr(p),\"\\n\")\n",
        "\n",
        "    s= Student('Ana', 'Perez', 'A001')\n",
        "    print(s)   # equivale a:   print(str(s))\n",
        "    print(repr(s))"
      ],
      "metadata": {
        "colab": {
          "base_uri": "https://localhost:8080/"
        },
        "id": "SRj6ofVsszHn",
        "outputId": "a7ea1c13-8d44-478e-cabc-1b730d64d484"
      },
      "execution_count": 9,
      "outputs": [
        {
          "output_type": "stream",
          "name": "stdout",
          "text": [
            "Persona: Miguel Ruiz.\n",
            "Se trata de Miguel de la familia Ruiz. \n",
            "\n",
            "Estudiante: Ana Perez con id: A001.\n",
            "El id A001 corresponde al estudiente: Ana Perez.\n"
          ]
        }
      ]
    },
    {
      "cell_type": "markdown",
      "source": [
        "### Usando ```super()```"
      ],
      "metadata": {
        "id": "K-rOv3SRKVGl"
      }
    },
    {
      "cell_type": "code",
      "source": [
        "class Person(object):\n",
        "    def __init__(self,fname='', lname=''):\n",
        "        self.fname = fname\n",
        "        self.lname = lname\n",
        "    def __repr__(self):    # permite representar un objeto para mostrarlo como mejor nos parezca\n",
        "        return f\"Se trata de {self.fname} de la familia {self.lname}.\"\n",
        "    def __str__(self):\n",
        "        return f\"Persona: {self.fname} {self.lname}.\"\n",
        "\n",
        "\n",
        "class Student(Person):\n",
        "    def __init__(self, fname='', lname='', id=''):\n",
        "        super().__init__(fname, lname)      # IMPORTANTE: no lleva self pero si lleva los demás argumentos\n",
        "        self.id = id\n",
        "    def __repr__(self):    # permite representar un objeto para mostrarlo como mejor nos parezca\n",
        "        return f\"El id {self.id} corresponde al estudiente: {self.fname} {self.lname}.\"\n",
        "    def __str__(self):\n",
        "        return f\"Estudiante: {self.fname} {self.lname} con id: {self.id}.\"\n",
        "\n",
        "if __name__ == '__main__':\n",
        "    p = Person('Miguel', 'Ruiz')\n",
        "    print(p)   # equivale a:   print(str(p))\n",
        "    print(repr(p),\"\\n\")\n",
        "\n",
        "    s= Student('Ana', 'Perez', 'A001')\n",
        "    print(s)   # equivale a:   print(str(s))\n",
        "    print(repr(s))"
      ],
      "metadata": {
        "id": "87QmXwFWKYc9",
        "outputId": "386a889c-cce6-47d6-8b27-7b2916796135",
        "colab": {
          "base_uri": "https://localhost:8080/"
        }
      },
      "execution_count": 10,
      "outputs": [
        {
          "output_type": "stream",
          "name": "stdout",
          "text": [
            "Persona: Miguel Ruiz.\n",
            "Se trata de Miguel de la familia Ruiz. \n",
            "\n",
            "Estudiante: Ana Perez con id: A001.\n",
            "El id A001 corresponde al estudiente: Ana Perez.\n"
          ]
        }
      ]
    },
    {
      "cell_type": "markdown",
      "source": [
        "## Ejemplo 4 ¿Por qué se usa super()?\n",
        "\n",
        "¿Hay alguna diferencia entre usar ```Base.__init__``` y ```super().__init__```?"
      ],
      "metadata": {
        "id": "3jlQSI5vGavk"
      }
    },
    {
      "cell_type": "code",
      "source": [
        "class Base():\n",
        "    def __init__(self):\n",
        "        print(\"Base created\")\n",
        "\n",
        "class ChildA(Base):\n",
        "    def __init__(self):\n",
        "        Base.__init__(self)\n",
        "\n",
        "class ChildB(Base):\n",
        "    def __init__(self):\n",
        "        super().__init__()\n",
        "\n",
        "ChildA()\n",
        "ChildB()\n",
        "print()"
      ],
      "metadata": {
        "id": "fv_pfIheGfHz",
        "outputId": "51e3b455-1a4c-46dc-9293-fc967a6734f0",
        "colab": {
          "base_uri": "https://localhost:8080/"
        }
      },
      "execution_count": 11,
      "outputs": [
        {
          "output_type": "stream",
          "name": "stdout",
          "text": [
            "Base created\n",
            "Base created\n",
            "\n"
          ]
        }
      ]
    },
    {
      "cell_type": "markdown",
      "source": [
        "Sin ```super()```, estaríamos limitados al usar toda la capacidad de la herencia múltiple porque estaríamos conectando rigidamente con la clase padre."
      ],
      "metadata": {
        "id": "J1F-81apIRIm"
      }
    },
    {
      "cell_type": "markdown",
      "source": [
        "### Consejo\n",
        "Use siempre ```super``` para hacer referencia a la clase principal en lugar de codificarla.  \n",
        "Lo que pretende es hacer referencia a la clase principal que es la siguiente en la línea, no específicamente de la que ve que hereda el hijo."
      ],
      "metadata": {
        "id": "bwRxAQCDJxLa"
      }
    }
  ]
}