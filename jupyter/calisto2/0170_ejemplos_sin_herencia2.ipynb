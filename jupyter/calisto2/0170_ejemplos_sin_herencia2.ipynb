{
  "cells": [
    {
      "cell_type": "markdown",
      "metadata": {
        "id": "view-in-github",
        "colab_type": "text"
      },
      "source": [
        "<a href=\"https://colab.research.google.com/github/financieras/pyCourse/blob/main/jupyter/calisto2/0170_ejemplos_sin_herencia2.ipynb\" target=\"_parent\"><img src=\"https://colab.research.google.com/assets/colab-badge.svg\" alt=\"Open In Colab\"/></a>"
      ]
    },
    {
      "cell_type": "markdown",
      "id": "5f811869",
      "metadata": {
        "id": "5f811869"
      },
      "source": [
        "# Ejemplos sin herencia [2]"
      ]
    },
    {
      "cell_type": "markdown",
      "id": "334f5e5f",
      "metadata": {
        "id": "334f5e5f"
      },
      "source": [
        "## El constructor"
      ]
    },
    {
      "cell_type": "code",
      "execution_count": 1,
      "id": "586abbcc",
      "metadata": {
        "id": "586abbcc",
        "outputId": "171be5ef-daaf-443a-854a-b3d3ba2f9d26",
        "colab": {
          "base_uri": "https://localhost:8080/"
        }
      },
      "outputs": [
        {
          "output_type": "stream",
          "name": "stdout",
          "text": [
            "Hola, mi nombre es Jose.\n"
          ]
        }
      ],
      "source": [
        "class Humano(object):\n",
        "    def __init__(self, nombre):\n",
        "        self.nombre = nombre\n",
        "    def diHola(self):\n",
        "        '''Saludo de una persona'''\n",
        "        print(f'Hola, mi nombre es {self.nombre}.')\n",
        "humano_j = Humano(\"Jose\")\n",
        "humano_j.diHola()"
      ]
    },
    {
      "cell_type": "code",
      "execution_count": 2,
      "id": "585437b9",
      "metadata": {
        "id": "585437b9",
        "outputId": "6c0edd90-f1c3-411e-e1c3-84dcc339cead",
        "colab": {
          "base_uri": "https://localhost:8080/"
        }
      },
      "outputs": [
        {
          "output_type": "stream",
          "name": "stdout",
          "text": [
            "Hola, mi nombre es Javi.\n"
          ]
        }
      ],
      "source": [
        "humano_j.nombre = 'Javi'                     # Podemos renombrar los objetos de forma dinámica, fuera de la clase\n",
        "humano_j.diHola()"
      ]
    },
    {
      "cell_type": "markdown",
      "id": "8c762f0b",
      "metadata": {
        "id": "8c762f0b"
      },
      "source": [
        "## Protegiendo el acceso"
      ]
    },
    {
      "cell_type": "code",
      "execution_count": 3,
      "id": "cd685ce5",
      "metadata": {
        "id": "cd685ce5",
        "outputId": "1c057bee-8698-4762-e24a-8339c01155c3",
        "colab": {
          "base_uri": "https://localhost:8080/"
        }
      },
      "outputs": [
        {
          "output_type": "stream",
          "name": "stdout",
          "text": [
            "Antonio\n"
          ]
        }
      ],
      "source": [
        "class Humano(object):\n",
        "    def __init__(self, nombre):\n",
        "        self.__nombre = nombre\n",
        "    def camina(self):\n",
        "        print(self.nombre + \" está caminando\")\n",
        "    def get_nombre(self):\n",
        "        return self.__nombre\n",
        "    def set_nombre(self, nombre):\n",
        "        self.__nombre = nombre\n",
        "\n",
        "humano_a = Humano(\"Antonio\")\n",
        "print(humano_a.get_nombre())"
      ]
    },
    {
      "cell_type": "code",
      "execution_count": 4,
      "id": "7a263f64",
      "metadata": {
        "id": "7a263f64",
        "outputId": "e52a2846-407c-43b9-e723-681f911cfb4e",
        "colab": {
          "base_uri": "https://localhost:8080/"
        }
      },
      "outputs": [
        {
          "output_type": "stream",
          "name": "stdout",
          "text": [
            "Alex\n"
          ]
        }
      ],
      "source": [
        "humano_a.set_nombre(\"Alex\")\n",
        "print(humano_a.get_nombre())"
      ]
    },
    {
      "cell_type": "code",
      "execution_count": 5,
      "id": "20904236",
      "metadata": {
        "id": "20904236",
        "outputId": "0a2806d2-107d-4912-a31b-76c74af34674",
        "colab": {
          "base_uri": "https://localhost:8080/"
        }
      },
      "outputs": [
        {
          "output_type": "stream",
          "name": "stdout",
          "text": [
            "Alex\n"
          ]
        }
      ],
      "source": [
        "humano_a.nombre = \"Ana\"                # no da error, pero no hace caso\n",
        "print(humano_a.get_nombre())"
      ]
    },
    {
      "cell_type": "markdown",
      "id": "8c20b6f6",
      "metadata": {
        "id": "8c20b6f6"
      },
      "source": [
        "## El método especial ```__del__```"
      ]
    },
    {
      "cell_type": "code",
      "execution_count": 6,
      "id": "937d1036",
      "metadata": {
        "id": "937d1036",
        "outputId": "d72f6e2e-44b9-4860-de56-3e9f41c603ab",
        "colab": {
          "base_uri": "https://localhost:8080/"
        }
      },
      "outputs": [
        {
          "output_type": "stream",
          "name": "stdout",
          "text": [
            "\tInicializado R2-D2\n"
          ]
        }
      ],
      "source": [
        "class Robot:\n",
        "    '''Representa un Robot con un nombre'''\n",
        "    poblacion = 0                                             # una variable de clase cuenta el número de robots\n",
        "    def __init__(self,nombre):\n",
        "        '''Método constructor. Inicializa los datos.'''\n",
        "        self.nombre = nombre\n",
        "        print(f'\\tInicializado {self.nombre}')\n",
        "        Robot.poblacion += 1                                  # cuando se inicializa un objeto la población aumenta\n",
        "    def __del__(self):\n",
        "        '''Eliminado el objeto'''\n",
        "        print(f'{self.nombre} se ha destruido.')\n",
        "        Robot.poblacion -= 1                                  # la población disminuye\n",
        "        if Robot.poblacion == 0:\n",
        "            print(f'{self.nombre} era el último.')\n",
        "        else:\n",
        "            print(f'Aún quedan {Robot.poblacion} robots trabajando.')\n",
        "    def diHola(self):\n",
        "        '''El robot saluda'''\n",
        "        print(f'Saludos, mi amo me llama {self.nombre}.')\n",
        "    def cuantos():\n",
        "        '''Muestra la población actual'''\n",
        "        print(f'Somos {Robot.poblacion} robots.')\n",
        "\n",
        "droid1 = Robot('R2-D2')             # Inicializando a R2-D2"
      ]
    },
    {
      "cell_type": "code",
      "execution_count": 7,
      "id": "dafbc720",
      "metadata": {
        "id": "dafbc720",
        "outputId": "f171e424-988d-4267-adc4-b31628e70284",
        "colab": {
          "base_uri": "https://localhost:8080/"
        }
      },
      "outputs": [
        {
          "output_type": "stream",
          "name": "stdout",
          "text": [
            "Saludos, mi amo me llama R2-D2.\n"
          ]
        }
      ],
      "source": [
        "droid1.diHola()                     # Saludos, mi amo me llama R2-D2"
      ]
    },
    {
      "cell_type": "code",
      "execution_count": 8,
      "id": "47233dd1",
      "metadata": {
        "id": "47233dd1",
        "outputId": "75cbc1a9-0dc5-4532-ea80-ce722896ef5d",
        "colab": {
          "base_uri": "https://localhost:8080/"
        }
      },
      "outputs": [
        {
          "output_type": "stream",
          "name": "stdout",
          "text": [
            "Somos 1 robots.\n"
          ]
        }
      ],
      "source": [
        "Robot.cuantos()                     # Somos 1 robot"
      ]
    },
    {
      "cell_type": "code",
      "execution_count": 9,
      "id": "60a0618a",
      "metadata": {
        "id": "60a0618a",
        "outputId": "0d664876-1b87-4796-d12c-486cda66759b",
        "colab": {
          "base_uri": "https://localhost:8080/"
        }
      },
      "outputs": [
        {
          "output_type": "stream",
          "name": "stdout",
          "text": [
            "\tInicializado C-3P0\n",
            "Saludos, mi amo me llama C-3P0.\n",
            "Somos 2 robots.\n"
          ]
        }
      ],
      "source": [
        "droid2 = Robot('C-3P0')             # Inicializado C-3P0\n",
        "droid2.diHola()                     # Saludos, mi amo me llama C-3P0\n",
        "Robot.cuantos()                     # Somos 2 robot"
      ]
    },
    {
      "cell_type": "code",
      "execution_count": 10,
      "id": "56b27726",
      "metadata": {
        "id": "56b27726",
        "outputId": "ab72d066-9922-4bda-a504-7e4dee280819",
        "colab": {
          "base_uri": "https://localhost:8080/"
        }
      },
      "outputs": [
        {
          "output_type": "stream",
          "name": "stdout",
          "text": [
            "Los robots han terminado su trabajo, por lo que serán destruidos.\n",
            "R2-D2 se ha destruido.\n",
            "Aún quedan 1 robots trabajando.\n",
            "C-3P0 se ha destruido.\n",
            "C-3P0 era el último.\n",
            "Somos 0 robots.\n"
          ]
        }
      ],
      "source": [
        "print(\"Los robots han terminado su trabajo, por lo que serán destruidos.\")\n",
        "del droid1\n",
        "del droid2\n",
        "Robot.cuantos()"
      ]
    }
  ],
  "metadata": {
    "kernelspec": {
      "display_name": "Python 3",
      "language": "python",
      "name": "python3"
    },
    "language_info": {
      "codemirror_mode": {
        "name": "ipython",
        "version": 3
      },
      "file_extension": ".py",
      "mimetype": "text/x-python",
      "name": "python",
      "nbconvert_exporter": "python",
      "pygments_lexer": "ipython3",
      "version": "3.8.8"
    },
    "colab": {
      "name": "calisto2_0170.ipynb",
      "provenance": [],
      "include_colab_link": true
    }
  },
  "nbformat": 4,
  "nbformat_minor": 5
}