{
  "cells": [
    {
      "cell_type": "markdown",
      "metadata": {
        "id": "view-in-github",
        "colab_type": "text"
      },
      "source": [
        "<a href=\"https://colab.research.google.com/github/financieras/pyCourse/blob/main/jupyter/calisto2/calisto2_0170.ipynb\" target=\"_parent\"><img src=\"https://colab.research.google.com/assets/colab-badge.svg\" alt=\"Open In Colab\"/></a>"
      ]
    },
    {
      "cell_type": "markdown",
      "id": "5f811869",
      "metadata": {
        "id": "5f811869"
      },
      "source": [
        "# Ejemplos sin herencia [2]"
      ]
    },
    {
      "cell_type": "markdown",
      "id": "334f5e5f",
      "metadata": {
        "id": "334f5e5f"
      },
      "source": [
        "## El constructor"
      ]
    },
    {
      "cell_type": "code",
      "execution_count": null,
      "id": "586abbcc",
      "metadata": {
        "id": "586abbcc"
      },
      "outputs": [],
      "source": [
        "class Humano(object):\n",
        "    def __init__(self, nombre):\n",
        "        self.nombre = nombre\n",
        "    def diHola(self):\n",
        "        '''Saludo de una persona'''\n",
        "        print(f'Hola, mi nombre es {self.nombre}.')\n",
        "humano_j = Humano(\"Jose\")\n",
        "humano_j.diHola()"
      ]
    },
    {
      "cell_type": "code",
      "execution_count": null,
      "id": "585437b9",
      "metadata": {
        "id": "585437b9"
      },
      "outputs": [],
      "source": [
        "humano_j.nombre = 'Javi'                     # Podemos renombrar los objetos de forma dinámica, fuera de la clase\n",
        "humano_j.diHola()"
      ]
    },
    {
      "cell_type": "markdown",
      "id": "8c762f0b",
      "metadata": {
        "id": "8c762f0b"
      },
      "source": [
        "## Protegiendo el acceso"
      ]
    },
    {
      "cell_type": "code",
      "execution_count": null,
      "id": "cd685ce5",
      "metadata": {
        "id": "cd685ce5"
      },
      "outputs": [],
      "source": [
        "class Humano(object):\n",
        "    def __init__(self, nombre):\n",
        "        self.__nombre = nombre\n",
        "    def camina(self):\n",
        "        print(self.nombre + \" está caminando\")\n",
        "    def get_nombre(self):\n",
        "        return self.__nombre\n",
        "    def set_nombre(self, nombre):\n",
        "        self.__nombre = nombre\n",
        "\n",
        "humano_a = Humano(\"Antonio\")\n",
        "print(humano_a.get_nombre())"
      ]
    },
    {
      "cell_type": "code",
      "execution_count": null,
      "id": "7a263f64",
      "metadata": {
        "id": "7a263f64"
      },
      "outputs": [],
      "source": [
        "humano_a.set_nombre(\"Alex\")\n",
        "print(humano_a.get_nombre())"
      ]
    },
    {
      "cell_type": "code",
      "execution_count": null,
      "id": "20904236",
      "metadata": {
        "id": "20904236"
      },
      "outputs": [],
      "source": [
        "humano_a.nombre = \"Ana\"                # no da error, pero no hace caso\n",
        "print(humano_a.get_nombre())"
      ]
    },
    {
      "cell_type": "markdown",
      "id": "8c20b6f6",
      "metadata": {
        "id": "8c20b6f6"
      },
      "source": [
        "## El método especial ```__del__```"
      ]
    },
    {
      "cell_type": "code",
      "execution_count": null,
      "id": "937d1036",
      "metadata": {
        "id": "937d1036"
      },
      "outputs": [],
      "source": [
        "class Robot:\n",
        "    '''Representa un Robot con un nombre'''\n",
        "    poblacion = 0                                             # una variable de clase cuenta el número de robots\n",
        "    def __init__(self,nombre):\n",
        "        '''Método constructor. Inicializa los datos.'''\n",
        "        self.nombre = nombre\n",
        "        print(f'\\tInicializado {self.nombre}')\n",
        "        Robot.poblacion += 1                                  # cuando se inicializa un objeto la población aumenta\n",
        "    def __del__(self):\n",
        "        '''Eliminado el objeto'''\n",
        "        print(f'{self.nombre} se ha destruido.')\n",
        "        Robot.poblacion -= 1                                  # la población disminuye\n",
        "        if Robot.poblacion == 0:\n",
        "            print(f'{self.nombre} era el último.')\n",
        "        else:\n",
        "            print(f'Aún quedan {Robot.poblacion} robots trabajando.')\n",
        "    def diHola(self):\n",
        "        '''El robot saluda'''\n",
        "        print(f'Saludos, mi amo me llama {self.nombre}.')\n",
        "    def cuantos():\n",
        "        '''Muestra la población actual'''\n",
        "        print(f'Somos {Robot.poblacion} robots.') \n",
        "    \n",
        "droid1 = Robot('R2-D2')             # Inicializando a R2-D2"
      ]
    },
    {
      "cell_type": "code",
      "execution_count": null,
      "id": "dafbc720",
      "metadata": {
        "id": "dafbc720"
      },
      "outputs": [],
      "source": [
        "droid1.diHola()                     # Saludos, mi amo me llama R2-D2"
      ]
    },
    {
      "cell_type": "code",
      "execution_count": null,
      "id": "47233dd1",
      "metadata": {
        "id": "47233dd1"
      },
      "outputs": [],
      "source": [
        "Robot.cuantos()                     # Somos 1 robot"
      ]
    },
    {
      "cell_type": "code",
      "execution_count": null,
      "id": "60a0618a",
      "metadata": {
        "id": "60a0618a"
      },
      "outputs": [],
      "source": [
        "droid2 = Robot('C-3P0')             # Inicializado C-3P0\n",
        "droid2.diHola()                     # Saludos, mi amo me llama C-3P0\n",
        "Robot.cuantos()                     # Somos 2 robot"
      ]
    },
    {
      "cell_type": "code",
      "execution_count": null,
      "id": "56b27726",
      "metadata": {
        "id": "56b27726"
      },
      "outputs": [],
      "source": [
        "print(\"Los robots han terminado su trabajo, por lo que serán destruidos.\")\n",
        "del droid1\n",
        "del droid2\n",
        "Robot.cuantos()"
      ]
    }
  ],
  "metadata": {
    "kernelspec": {
      "display_name": "Python 3",
      "language": "python",
      "name": "python3"
    },
    "language_info": {
      "codemirror_mode": {
        "name": "ipython",
        "version": 3
      },
      "file_extension": ".py",
      "mimetype": "text/x-python",
      "name": "python",
      "nbconvert_exporter": "python",
      "pygments_lexer": "ipython3",
      "version": "3.8.8"
    },
    "colab": {
      "name": "calisto2_0170.ipynb",
      "provenance": [],
      "include_colab_link": true
    }
  },
  "nbformat": 4,
  "nbformat_minor": 5
}
