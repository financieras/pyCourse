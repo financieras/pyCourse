{
  "nbformat": 4,
  "nbformat_minor": 0,
  "metadata": {
    "colab": {
      "provenance": [],
      "authorship_tag": "ABX9TyOHy0jhDnuzCcuVxP6KFf01",
      "include_colab_link": true
    },
    "kernelspec": {
      "name": "python3",
      "display_name": "Python 3"
    },
    "language_info": {
      "name": "python"
    }
  },
  "cells": [
    {
      "cell_type": "markdown",
      "metadata": {
        "id": "view-in-github",
        "colab_type": "text"
      },
      "source": [
        "<a href=\"https://colab.research.google.com/github/financieras/pyCourse/blob/main/jupyter/calisto2/calisto2_0245.ipynb\" target=\"_parent\"><img src=\"https://colab.research.google.com/assets/colab-badge.svg\" alt=\"Open In Colab\"/></a>"
      ]
    },
    {
      "cell_type": "markdown",
      "source": [
        "# Herencia. Ejemplo\n",
        "https://youtu.be/M47qMYAW1I4"
      ],
      "metadata": {
        "id": "wzdgqZ45ZRdJ"
      }
    },
    {
      "cell_type": "code",
      "execution_count": 12,
      "metadata": {
        "id": "bpiC8mu3ZAiz",
        "outputId": "16c6aff3-66e7-41f8-c244-c6e525787e30",
        "colab": {
          "base_uri": "https://localhost:8080/"
        }
      },
      "outputs": [
        {
          "output_type": "stream",
          "name": "stdout",
          "text": [
            "Para las Operaciones Básicas se requieren 2 datos.\n",
            "Ingresar dato 1: 12\n",
            "Ingresar dato 2: 8\n",
            "La suma es: 20\n",
            "La resta es: 4\n",
            "\n",
            "Para la Raiz Cuadrada se requiere 1 dato.\n",
            "Ingresar dato 1: 25\n",
            "La raiz cuadrada es: 5.0\n"
          ]
        }
      ],
      "source": [
        "class Calculadora:\n",
        "    def __init__(self, numero):\n",
        "        self.n = numero\n",
        "    def ingresardato(self):\n",
        "        self.datos = [int(input(f\"Ingresar dato {i+1}: \")) for i in range(self.n)]\n",
        "\n",
        "class Op_basicas(Calculadora):\n",
        "    def __init__(self):\n",
        "        Calculadora.__init__(self, 2)\n",
        "    def sumar(self):\n",
        "        a,b = self.datos\n",
        "        return f\"La suma es: {a+b}\"\n",
        "    def restar(self):\n",
        "        a,b = self.datos\n",
        "        return f\"La resta es: {a-b}\"\n",
        "\n",
        "class Raiz(Calculadora):\n",
        "    def __init__(self):\n",
        "        Calculadora.__init__(self, 1)\n",
        "    def cuadrada(self):\n",
        "        a, = self.datos\n",
        "        return f\"La raiz cuadrada es: {a**.5}\"\n",
        "if __name__ == \"__main__\":\n",
        "    print(\"Para las Operaciones Básicas se requieren 2 datos.\")\n",
        "    ejemplo1 = Op_basicas()\n",
        "    ejemplo1.ingresardato()\n",
        "    print(ejemplo1.sumar())\n",
        "    print(ejemplo1.restar())\n",
        "    print()\n",
        "    print(\"Para la Raiz Cuadrada se requiere 1 dato.\")\n",
        "    ejemplo2 = Raiz()\n",
        "    ejemplo2.ingresardato()\n",
        "    print(ejemplo2.cuadrada())"
      ]
    },
    {
      "cell_type": "code",
      "source": [
        "ejemplo1 = Op_basicas()\n",
        "print(ejemplo1.ingresardato())\n",
        "print(ejemplo1.suma())\n",
        "print(ejemplo1.resta())\n",
        "\n",
        "ejemplo2 = Raiz()\n",
        "print(ejemplo2.ingresardato())\n",
        "print(ejemplo2.cuadrada())"
      ],
      "metadata": {
        "colab": {
          "base_uri": "https://localhost:8080/"
        },
        "id": "CfEALpaYa7hn",
        "outputId": "32854952-f67a-46b4-c361-690e01503f6a"
      },
      "execution_count": 4,
      "outputs": [
        {
          "output_type": "stream",
          "name": "stdout",
          "text": [
            "Ingresar dato 1: 111\n",
            "Ingresar dato 2: 22\n",
            "None\n",
            "La suma es: 133\n",
            "La resta es: 89\n",
            "Ingresar dato 1: 100\n",
            "None\n",
            "La raiz cuadrada es: 10.0\n"
          ]
        }
      ]
    },
    {
      "cell_type": "code",
      "source": [
        "class Figura_geometrica:\n",
        "    def __init__(self, lados):\n",
        "        self.lados = lados\n",
        "    def ingresar_medidas(self):\n",
        "        self.medidas = [float(input(f\"Ingresar medida {i+1}: \")) for i in range(self.lados)]\n",
        "\n",
        "class Area(Figura_geometrica):\n",
        "    def __init__(self, lados):\n",
        "        Figura_geometrica.__init__(self, lados)\n",
        "    def calcular_area(self):\n",
        "        if self.lados == 3:\n",
        "            a, b, c = self.medidas\n",
        "            s = (a + b + c) / 2\n",
        "            area = (s*(s-a)*(s-b)*(s-c)) ** 0.5\n",
        "            print(f\"El área del triángulo es {area}\")\n",
        "        elif self.lados == 4:\n",
        "            a, b = self.medidas\n",
        "            area = a * b\n",
        "            print(f\"El área del rectángulo es {area}\")\n",
        "        else:\n",
        "            print(\"No se puede calcular el área de esta figura\")\n",
        "\n",
        "class Perimetro(Figura_geometrica):\n",
        "    def __init__(self, lados):\n",
        "        Figura_geometrica.__init__(self, lados)\n",
        "    def calcular_perimetro(self):\n",
        "        if self.lados == 3:\n",
        "            a, b, c = self.medidas\n",
        "            perimetro = a + b + c\n",
        "            print(f\"El perímetro del triángulo es {perimetro}\")\n",
        "        elif self.lados == 4:\n",
        "            a, b, c, d = self.medidas\n",
        "            perimetro = a + b + c + d\n",
        "            print(f\"El perímetro del cuadrilátero es {perimetro}\")\n",
        "        else:\n",
        "            print(\"No se puede calcular el perímetro de esta figura\")\n"
      ],
      "metadata": {
        "id": "TCTww2x__cT0"
      },
      "execution_count": 5,
      "outputs": []
    },
    {
      "cell_type": "code",
      "source": [
        "# Crear un objeto de la clase Area para calcular el área de un triángulo\n",
        "triangulo = Area(3)\n",
        "triangulo.ingresar_medidas()\n",
        "triangulo.calcular_area()\n",
        "\n",
        "# Crear un objeto de la clase Perimetro para calcular el perímetro de un cuadrilátero\n",
        "cuadrilatero = Perimetro(4)\n",
        "cuadrilatero.ingresar_medidas()\n",
        "cuadrilatero.calcular_perimetro()"
      ],
      "metadata": {
        "id": "9xadAKTu_r3F",
        "outputId": "42b9a0e3-9820-40a7-d8d7-4c6643aa4365",
        "colab": {
          "base_uri": "https://localhost:8080/"
        }
      },
      "execution_count": 6,
      "outputs": [
        {
          "output_type": "stream",
          "name": "stdout",
          "text": [
            "Ingresar medida 1: 2\n",
            "Ingresar medida 2: 3\n",
            "Ingresar medida 3: 5\n",
            "El área del triángulo es 0.0\n",
            "Ingresar medida 1: 33\n",
            "Ingresar medida 2: 55\n",
            "Ingresar medida 3: 66\n",
            "Ingresar medida 4: 67\n",
            "El perímetro del cuadrilátero es 221.0\n"
          ]
        }
      ]
    },
    {
      "cell_type": "code",
      "source": [
        "my_array = [81]\n",
        "a = my_array\n",
        "print(a**.5)"
      ],
      "metadata": {
        "id": "vP-CxjvFDUjH",
        "outputId": "954cbb9d-b9db-48be-800b-60f2d7d1e355",
        "colab": {
          "base_uri": "https://localhost:8080/",
          "height": 201
        }
      },
      "execution_count": 2,
      "outputs": [
        {
          "output_type": "error",
          "ename": "TypeError",
          "evalue": "ignored",
          "traceback": [
            "\u001b[0;31m---------------------------------------------------------------------------\u001b[0m",
            "\u001b[0;31mTypeError\u001b[0m                                 Traceback (most recent call last)",
            "\u001b[0;32m<ipython-input-2-6f11da7e2ff6>\u001b[0m in \u001b[0;36m<cell line: 3>\u001b[0;34m()\u001b[0m\n\u001b[1;32m      1\u001b[0m \u001b[0mmy_array\u001b[0m \u001b[0;34m=\u001b[0m \u001b[0;34m[\u001b[0m\u001b[0;36m81\u001b[0m\u001b[0;34m]\u001b[0m\u001b[0;34m\u001b[0m\u001b[0;34m\u001b[0m\u001b[0m\n\u001b[1;32m      2\u001b[0m \u001b[0ma\u001b[0m \u001b[0;34m=\u001b[0m \u001b[0mmy_array\u001b[0m\u001b[0;34m\u001b[0m\u001b[0;34m\u001b[0m\u001b[0m\n\u001b[0;32m----> 3\u001b[0;31m \u001b[0mprint\u001b[0m\u001b[0;34m(\u001b[0m\u001b[0ma\u001b[0m\u001b[0;34m**\u001b[0m\u001b[0;36m.5\u001b[0m\u001b[0;34m)\u001b[0m\u001b[0;34m\u001b[0m\u001b[0;34m\u001b[0m\u001b[0m\n\u001b[0m",
            "\u001b[0;31mTypeError\u001b[0m: unsupported operand type(s) for ** or pow(): 'list' and 'float'"
          ]
        }
      ]
    },
    {
      "cell_type": "code",
      "source": [
        "datos = [0,0,0]\n",
        "datos = [int(input(f\"Ingresar dato {i+1}: \")) for i in range(3)]\n",
        "a,b, = datos\n",
        "print(a,b)"
      ],
      "metadata": {
        "id": "6jYyA5fZD8Ag",
        "outputId": "de05bf7c-3cf3-4932-9267-bd4839e17b55",
        "colab": {
          "base_uri": "https://localhost:8080/",
          "height": 270
        }
      },
      "execution_count": 2,
      "outputs": [
        {
          "name": "stdout",
          "output_type": "stream",
          "text": [
            "Ingresar dato 1: 11\n",
            "Ingresar dato 2: 22\n",
            "Ingresar dato 3: 33\n"
          ]
        },
        {
          "output_type": "error",
          "ename": "ValueError",
          "evalue": "ignored",
          "traceback": [
            "\u001b[0;31m---------------------------------------------------------------------------\u001b[0m",
            "\u001b[0;31mValueError\u001b[0m                                Traceback (most recent call last)",
            "\u001b[0;32m<ipython-input-2-d956035b6583>\u001b[0m in \u001b[0;36m<cell line: 3>\u001b[0;34m()\u001b[0m\n\u001b[1;32m      1\u001b[0m \u001b[0mdatos\u001b[0m \u001b[0;34m=\u001b[0m \u001b[0;34m[\u001b[0m\u001b[0;36m0\u001b[0m\u001b[0;34m,\u001b[0m\u001b[0;36m0\u001b[0m\u001b[0;34m,\u001b[0m\u001b[0;36m0\u001b[0m\u001b[0;34m]\u001b[0m\u001b[0;34m\u001b[0m\u001b[0;34m\u001b[0m\u001b[0m\n\u001b[1;32m      2\u001b[0m \u001b[0mdatos\u001b[0m \u001b[0;34m=\u001b[0m \u001b[0;34m[\u001b[0m\u001b[0mint\u001b[0m\u001b[0;34m(\u001b[0m\u001b[0minput\u001b[0m\u001b[0;34m(\u001b[0m\u001b[0;34mf\"Ingresar dato {i+1}: \"\u001b[0m\u001b[0;34m)\u001b[0m\u001b[0;34m)\u001b[0m \u001b[0;32mfor\u001b[0m \u001b[0mi\u001b[0m \u001b[0;32min\u001b[0m \u001b[0mrange\u001b[0m\u001b[0;34m(\u001b[0m\u001b[0;36m3\u001b[0m\u001b[0;34m)\u001b[0m\u001b[0;34m]\u001b[0m\u001b[0;34m\u001b[0m\u001b[0;34m\u001b[0m\u001b[0m\n\u001b[0;32m----> 3\u001b[0;31m \u001b[0ma\u001b[0m\u001b[0;34m,\u001b[0m\u001b[0mb\u001b[0m\u001b[0;34m,\u001b[0m \u001b[0;34m=\u001b[0m \u001b[0mdatos\u001b[0m\u001b[0;34m\u001b[0m\u001b[0;34m\u001b[0m\u001b[0m\n\u001b[0m\u001b[1;32m      4\u001b[0m \u001b[0mprint\u001b[0m\u001b[0;34m(\u001b[0m\u001b[0ma\u001b[0m\u001b[0;34m,\u001b[0m\u001b[0mb\u001b[0m\u001b[0;34m)\u001b[0m\u001b[0;34m\u001b[0m\u001b[0;34m\u001b[0m\u001b[0m\n",
            "\u001b[0;31mValueError\u001b[0m: too many values to unpack (expected 2)"
          ]
        }
      ]
    },
    {
      "cell_type": "code",
      "source": [
        "class Conversor:\n",
        "    def __init__(self, numero):\n",
        "        self.n = numero\n",
        "\n",
        "    def ingresar_dato(self):\n",
        "        self.datos = [float(input(f\"Ingresar dato {i + 1}: \")) for i in range(self.n)]\n",
        "\n",
        "\n",
        "class Temperatura(Conversor):\n",
        "    def __init__(self):\n",
        "        Conversor.__init__(self, 1)\n",
        "\n",
        "    def celsius_a_fahrenheit(self):\n",
        "        celsius, = self.datos\n",
        "        return f\"La temperatura en Fahrenheit es: {celsius * 9/5 + 32}\"\n",
        "\n",
        "    def fahrenheit_a_celsius(self):\n",
        "        fahrenheit, = self.datos\n",
        "        return f\"La temperatura en Celsius es: {(fahrenheit - 32) * 5/9}\"\n",
        "\n",
        "\n",
        "class Distancia(Conversor):\n",
        "    def __init__(self):\n",
        "        Conversor.__init__(self, 1)\n",
        "\n",
        "    def km_a_millas(self):\n",
        "        km, = self.datos\n",
        "        return f\"La distancia en millas es: {km * 0.621371}\"\n",
        "\n",
        "    def millas_a_km(self):\n",
        "        millas, = self.datos\n",
        "        return f\"La distancia en kilómetros es: {millas / 0.621371}\"\n",
        "\n",
        "\n",
        "if __name__ == \"__main__\":\n",
        "    ejemplo1 = Temperatura()\n",
        "    ejemplo1.ingresar_dato()\n",
        "    print(ejemplo1.celsius_a_fahrenheit())\n",
        "    print(ejemplo1.fahrenheit_a_celsius())\n",
        "\n",
        "    ejemplo2 = Distancia()\n",
        "    ejemplo2.ingresar_dato()\n",
        "    print(ejemplo2.km_a_millas())\n",
        "    print(ejemplo2.millas_a_km())\n"
      ],
      "metadata": {
        "id": "6gPQXr6SEdz_",
        "outputId": "9d1170e4-a0f7-4f43-c406-6dd8a1c0c89b",
        "colab": {
          "base_uri": "https://localhost:8080/"
        }
      },
      "execution_count": 7,
      "outputs": [
        {
          "output_type": "stream",
          "name": "stdout",
          "text": [
            "Ingresar dato 1: 32\n",
            "La temperatura en Fahrenheit es: 89.6\n",
            "La temperatura en Celsius es: 0.0\n",
            "Ingresar dato 1: 40\n",
            "La distancia en millas es: 24.85484\n",
            "La distancia en kilómetros es: 64.37377991570253\n"
          ]
        }
      ]
    },
    {
      "cell_type": "code",
      "source": [
        "import math\n",
        "\n",
        "class Figura:\n",
        "    def __init__(self, numero):\n",
        "        self.n = numero\n",
        "\n",
        "    def ingresar_datos(self):\n",
        "        self.datos = [float(input(f\"Ingresar dato {i + 1}: \")) for i in range(self.n)]\n",
        "\n",
        "\n",
        "class Rectangulo(Figura):\n",
        "    def __init__(self):\n",
        "        Figura.__init__(self, 2)\n",
        "\n",
        "    def area(self):\n",
        "        base, altura = self.datos\n",
        "        return f\"El área del rectángulo es: {base * altura}\"\n",
        "\n",
        "    def perimetro(self):\n",
        "        base, altura = self.datos\n",
        "        return f\"El perímetro del rectángulo es: {2 * (base + altura)}\"\n",
        "\n",
        "\n",
        "class Circulo(Figura):\n",
        "    def __init__(self):\n",
        "        Figura.__init__(self, 1)\n",
        "\n",
        "    def area(self):\n",
        "        radio, = self.datos   # la coma es importante para desempaquetar el array\n",
        "        return f\"El área del círculo es: {math.pi * radio**2}\"\n",
        "\n",
        "    def perimetro(self):\n",
        "        radio, = self.datos\n",
        "        return f\"El perímetro del círculo es: {2 * math.pi * radio}\"\n",
        "\n",
        "\n",
        "if __name__ == \"__main__\":\n",
        "    print(\"Para el Rectángulo se dipen 2 datos: base y altura.\")\n",
        "    ejemplo1 = Rectangulo()\n",
        "    ejemplo1.ingresar_datos()\n",
        "    print(ejemplo1.area())\n",
        "    print(ejemplo1.perimetro())\n",
        "    print()\n",
        "\n",
        "    print(\"Para el Círculo se pide 1 dato: el radio.\")\n",
        "    ejemplo2 = Circulo()\n",
        "    ejemplo2.ingresar_datos()\n",
        "    print(ejemplo2.area())\n",
        "    print(ejemplo2.perimetro())"
      ],
      "metadata": {
        "id": "OOV0Gh9UZY0P",
        "outputId": "f62599d6-9da0-4aee-ee8c-6f79d4bed192",
        "colab": {
          "base_uri": "https://localhost:8080/"
        }
      },
      "execution_count": 10,
      "outputs": [
        {
          "output_type": "stream",
          "name": "stdout",
          "text": [
            "Para el Rectángulo se dipen 2 datos: base y altura.\n",
            "Ingresar dato 1: 2\n",
            "Ingresar dato 2: 3\n",
            "El área del rectángulo es: 6.0\n",
            "El perímetro del rectángulo es: 10.0\n",
            "\n",
            "Para el Círculo se pide 1 dato: el radio.\n",
            "Ingresar dato 1: 5\n",
            "El área del círculo es: 78.53981633974483\n",
            "El perímetro del círculo es: 31.41592653589793\n"
          ]
        }
      ]
    },
    {
      "cell_type": "code",
      "source": [
        "class Vehiculo:\n",
        "    def __init__(self, numero):\n",
        "        self.n = numero\n",
        "\n",
        "    def ingresar_datos(self):\n",
        "        self.datos = [input(f\"Ingresar dato {i + 1}: \") for i in range(self.n)]\n",
        "\n",
        "\n",
        "class Automovil(Vehiculo):\n",
        "    def __init__(self):\n",
        "        super().__init__(4)\n",
        "\n",
        "    def mostrar_informacion(self):\n",
        "        marca, modelo, color, num_puertas = self.datos\n",
        "        return f\"Automóvil: Marca: {marca}, Modelo: {modelo}, Color: {color}, Número de puertas: {num_puertas}\"\n",
        "\n",
        "\n",
        "class Motocicleta(Vehiculo):\n",
        "    def __init__(self):\n",
        "        super().__init__(3)\n",
        "\n",
        "    def mostrar_informacion(self):\n",
        "        marca, modelo, tipo = self.datos\n",
        "        return f\"Motocicleta: Marca: {marca}, Modelo: {modelo}, Tipo: {tipo}\"\n",
        "\n",
        "if __name__ == \"__main__\":\n",
        "    print(\"Ingrese la información del automóvil (marca, modelo, color y número de puertas):\")\n",
        "    ejemplo1 = Automovil()\n",
        "    ejemplo1.ingresar_datos()\n",
        "    print(ejemplo1.mostrar_informacion())\n",
        "\n",
        "    print(\"Ingrese la información de la motocicleta (marca, modelo y tipo):\")\n",
        "    ejemplo2 = Motocicleta()\n",
        "    ejemplo2.ingresar_datos()\n",
        "    print(ejemplo2.mostrar_informacion())\n"
      ],
      "metadata": {
        "id": "XtgXkKlLYrZ6",
        "outputId": "2375f953-387a-4b08-af0e-e55137953c92",
        "colab": {
          "base_uri": "https://localhost:8080/"
        }
      },
      "execution_count": 1,
      "outputs": [
        {
          "output_type": "stream",
          "name": "stdout",
          "text": [
            "Ingrese la información del automóvil (marca, modelo, color y número de puertas):\n",
            "Ingresar dato 1: Ford\n",
            "Ingresar dato 2: K\n",
            "Ingresar dato 3: rojo\n",
            "Ingresar dato 4: 3\n",
            "Automóvil: Marca: Ford, Modelo: K, Color: rojo, Número de puertas: 3\n",
            "Ingrese la información de la motocicleta (marca, modelo y tipo):\n",
            "Ingresar dato 1: Yamaha\n",
            "Ingresar dato 2: RS\n",
            "Ingresar dato 3: 600cc\n",
            "Motocicleta: Marca: Yamaha, Modelo: RS, Tipo: 600cc\n"
          ]
        }
      ]
    }
  ]
}