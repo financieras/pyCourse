{
  "nbformat": 4,
  "nbformat_minor": 0,
  "metadata": {
    "colab": {
      "provenance": [],
      "authorship_tag": "ABX9TyNTWAFxoIGvb+npDeuyNEf7",
      "include_colab_link": true
    },
    "kernelspec": {
      "name": "python3",
      "display_name": "Python 3"
    },
    "language_info": {
      "name": "python"
    }
  },
  "cells": [
    {
      "cell_type": "markdown",
      "metadata": {
        "id": "view-in-github",
        "colab_type": "text"
      },
      "source": [
        "<a href=\"https://colab.research.google.com/github/financieras/pyCourse/blob/main/jupyter/calisto2/calisto2_0245.ipynb\" target=\"_parent\"><img src=\"https://colab.research.google.com/assets/colab-badge.svg\" alt=\"Open In Colab\"/></a>"
      ]
    },
    {
      "cell_type": "markdown",
      "source": [
        "# Herencia. Ejemplo\n",
        "https://youtu.be/M47qMYAW1I4"
      ],
      "metadata": {
        "id": "wzdgqZ45ZRdJ"
      }
    },
    {
      "cell_type": "code",
      "execution_count": 3,
      "metadata": {
        "id": "bpiC8mu3ZAiz"
      },
      "outputs": [],
      "source": [
        "class Calculadora:\n",
        "    def __init__(self, numero):\n",
        "        self.n = numero\n",
        "        self.datos = [0 for i in range(numero)]\n",
        "    def ingresardato(self):\n",
        "        self.datos = [int(input(f\"Ingresar dato {i+1}: \")) for i in range(self.n)]\n",
        "\n",
        "class Op_basicas(Calculadora):\n",
        "    def __init__(self):\n",
        "        Calculadora.__init__(self, 2)\n",
        "    def suma(self):\n",
        "        a,b, = self.datos\n",
        "        print(f\"El resultado es {a+b}\")\n",
        "    def resta(self):\n",
        "        a,b, = self.datos\n",
        "        print(f\"El resultado es {a-b}\")\n",
        "\n",
        "class Raiz(Calculadora):\n",
        "    def __init__(self):\n",
        "        Calculadora.__init__(self, 1)\n",
        "    def cuadrada(self):\n",
        "        a, = self.datos\n",
        "        print(f\"El resultado es {a**.5}\")"
      ]
    },
    {
      "cell_type": "code",
      "source": [
        "ejemplo = Raiz()\n",
        "print(ejemplo.ingresardato())\n",
        "print(ejemplo.cuadrada())"
      ],
      "metadata": {
        "colab": {
          "base_uri": "https://localhost:8080/"
        },
        "id": "CfEALpaYa7hn",
        "outputId": "a982bd44-9810-4de9-c763-81822ed82692"
      },
      "execution_count": 4,
      "outputs": [
        {
          "output_type": "stream",
          "name": "stdout",
          "text": [
            "Ingresar dato 1: 9\n",
            "None\n",
            "El resultado es 3.0\n",
            "None\n"
          ]
        }
      ]
    }
  ]
}