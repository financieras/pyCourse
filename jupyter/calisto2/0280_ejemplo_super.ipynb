{
  "cells": [
    {
      "cell_type": "markdown",
      "metadata": {
        "id": "view-in-github",
        "colab_type": "text"
      },
      "source": [
        "<a href=\"https://colab.research.google.com/github/financieras/pyCourse/blob/main/jupyter/calisto2/0280_ejemplo_super.ipynb\" target=\"_parent\"><img src=\"https://colab.research.google.com/assets/colab-badge.svg\" alt=\"Open In Colab\"/></a>"
      ]
    },
    {
      "cell_type": "markdown",
      "id": "b0abc39d",
      "metadata": {
        "id": "b0abc39d"
      },
      "source": [
        "# Herencia [6] Ejemplo de la función ```super()```"
      ]
    },
    {
      "cell_type": "markdown",
      "id": "4bb25a79",
      "metadata": {
        "id": "4bb25a79"
      },
      "source": [
        "## Compañía aérea\n",
        "Tenemos la superclase Empleado y las subclases AgenteVentas y Tripulante.  \n",
        "### Clase hija sin atributos propios\n",
        "* La clase hija Tripulante no tiene método constructor propio ya que le basta con los atributos de la superclase."
      ]
    },
    {
      "cell_type": "code",
      "execution_count": 1,
      "id": "4a2d63d1",
      "metadata": {
        "id": "4a2d63d1"
      },
      "outputs": [],
      "source": [
        "class Empleado:                              # clase Padre\n",
        "    def __init__(self, nombre, edad, sueldo):\n",
        "        self.nombre = nombre\n",
        "        self.edad = edad\n",
        "        self.sueldo = sueldo\n",
        "\n",
        "class Tripulante(Empleado):                  # Tripulante no tiene método constructor propio, hereda el de Empleado\n",
        "    def getRenovacionLicencia(self):\n",
        "        if self.edad < 50:\n",
        "            print(\"Renueva su licencia cada año\")\n",
        "        else:\n",
        "            print(\"Renueva su licencia cada seis meses\")"
      ]
    },
    {
      "cell_type": "code",
      "execution_count": 2,
      "id": "c6ad4e61",
      "metadata": {
        "id": "c6ad4e61",
        "outputId": "3a4e3f52-e9d7-490d-a62e-df897320ee6f",
        "colab": {
          "base_uri": "https://localhost:8080/"
        }
      },
      "outputs": [
        {
          "output_type": "execute_result",
          "data": {
            "text/plain": [
              "49"
            ]
          },
          "metadata": {},
          "execution_count": 2
        }
      ],
      "source": [
        "r = Tripulante(\"Raquel\", 49, 60000)\n",
        "r.edad"
      ]
    },
    {
      "cell_type": "code",
      "execution_count": 3,
      "id": "2417554f",
      "metadata": {
        "id": "2417554f",
        "outputId": "0adc8b84-2d72-42a8-95d6-54d550968c8c",
        "colab": {
          "base_uri": "https://localhost:8080/"
        }
      },
      "outputs": [
        {
          "output_type": "stream",
          "name": "stdout",
          "text": [
            "Renueva su licencia cada año\n",
            "Renueva su licencia cada seis meses\n"
          ]
        }
      ],
      "source": [
        "r.getRenovacionLicencia()\n",
        "r.edad += 1\n",
        "r.getRenovacionLicencia()"
      ]
    },
    {
      "cell_type": "markdown",
      "id": "55ad91f8",
      "metadata": {
        "id": "55ad91f8"
      },
      "source": [
        "### Clase hija con atributos propios\n",
        "Tenemos la superclase Empleado y la subclase AgenteVentas.  \n",
        "\n",
        "* La clase hija AgenteVentas si tiene método constructor propio ya que además de los atributos de la superclase tiene un atributo adicional propio (mostrador).\n",
        "\n",
        "Para la clase hija AgenteVentas tenemos varias formas de conseguir establecer los atributos:\n",
        "1. Método no recomendado. Sobrescribir los atributos de la clase padre, repitiendolos. Método no recomendado.\n",
        "2. Haciendo referencia a la superclase. Evita repetir líneas, pero aún veremos un método más que es el recomendado.\n",
        "3. Usando la función super() que hace referencia a la superclase y evita que tengamos que repetir líneas de código. Además, la palabra super es un convenio entre los programadores de Python y no usarlo podría confundir."
      ]
    },
    {
      "cell_type": "markdown",
      "id": "5e884ef9",
      "metadata": {
        "id": "5e884ef9"
      },
      "source": [
        "#### Método 1: sobrescribiendo. MÉTODO NO RECOMENDADO"
      ]
    },
    {
      "cell_type": "code",
      "execution_count": 4,
      "id": "1e148ce0",
      "metadata": {
        "id": "1e148ce0"
      },
      "outputs": [],
      "source": [
        "class Empleado:                                        # clase Padre\n",
        "    def __init__(self, nombre, edad, sueldo):          # definimos los Atributos\n",
        "        self.nombre = nombre\n",
        "        self.edad = edad\n",
        "        self.sueldo = sueldo\n",
        "    def calcularSueldo(self, descuentos, bonos):       # añadimos un método para calcular el sueldo neto\n",
        "        return self.sueldo - descuentos + bonos\n",
        "\n",
        "class AgenteVentas(Empleado):                          # tiene método constructor propio, tiene un argumento propio\n",
        "    def __init_(self, nombre, edad, sueldo, mostrador):# creamos el constructor de la clase especificando atributos\n",
        "        self.nombre = nombre                           # sobrescribe este atributo de la superclase\n",
        "        self.edad = edad                               # sobrescribe este atributo de la superclase\n",
        "        self.sueldo = sueldo                           # sobrescribe este atributo de la superclase\n",
        "        self.mostrador = mostrador                     # este atributo es nuevo"
      ]
    },
    {
      "cell_type": "markdown",
      "id": "6d77239c",
      "metadata": {
        "id": "6d77239c"
      },
      "source": [
        "Las líneas 11, 12 y 13 del código anterior llevan un comentario que indica que esa línea \"sobrescribe este atributo de la superclase\". Imaginemos que en lugar de ser tres atributos los que se sobrecriben fueran decenas o cientos, estaríamos repitiendo código y esto siempre procuramos evitarlo.\n",
        "\n",
        "El método 2 permite evitar estas tres líneas poniendo una sola."
      ]
    },
    {
      "cell_type": "markdown",
      "id": "41d10bc3",
      "metadata": {
        "id": "41d10bc3"
      },
      "source": [
        "#### Método 2: haciendo referencia a la superclase. MÉTODO NO RECOMENDADO\n",
        "La superclase en este caso se llama Empleado y este será el nombre que utilizaremos, aunque podríamos poner cualquier otra palabra."
      ]
    },
    {
      "cell_type": "code",
      "execution_count": 5,
      "id": "61ce7d9e",
      "metadata": {
        "id": "61ce7d9e"
      },
      "outputs": [],
      "source": [
        "class Empleado:\n",
        "    def __init__(self, nombre, edad, sueldo):\n",
        "        self.nombre = nombre\n",
        "        self.edad = edad\n",
        "        self.sueldo = sueldo\n",
        "    def calcularSueldo(self, descuentos, bonos):\n",
        "        return self.sueldo - descuentos + bonos\n",
        "\n",
        "class AgenteVentas(Empleado):\n",
        "    def __init__(self, nombre, edad, sueldo, mostrador):\n",
        "        Empleado.__init__(self, nombre, edad, sueldo)  # con esta línea evitamos la sobrescritura de atributos\n",
        "        self.mostrador = mostrador\n",
        "\n",
        "v = AgenteVentas(\"Victor\", 42, 32000, 2)"
      ]
    },
    {
      "cell_type": "markdown",
      "id": "ca8085ec",
      "metadata": {
        "id": "ca8085ec"
      },
      "source": [
        "#### Método 3: usando la función super(). MÉTODO RECOMENDADO"
      ]
    },
    {
      "cell_type": "code",
      "execution_count": 6,
      "id": "6e933ff3",
      "metadata": {
        "id": "6e933ff3"
      },
      "outputs": [],
      "source": [
        "class Empleado:\n",
        "    def __init__(self, nombre, edad, sueldo):\n",
        "        self.nombre = nombre\n",
        "        self.edad = edad\n",
        "        self.sueldo = sueldo\n",
        "\n",
        "class AgenteVentas(Empleado):\n",
        "    def __init__(self, nombre, edad, sueldo, mostrador):\n",
        "        super().__init__(nombre, edad, sueldo)         # línea recomendada que evita sobrescribir atributos\n",
        "        self.mostrador = mostrador\n",
        "\n",
        "t = AgenteVentas(\"Teodoro\", 21, 30000, 5)"
      ]
    },
    {
      "cell_type": "markdown",
      "id": "07a19414",
      "metadata": {
        "id": "07a19414"
      },
      "source": [
        "Observe la diferencia entre las dos líneas de código:\n",
        "* ```Empleado.__init__(self, nombre, edad, sueldo)```\n",
        "* ```super().__init__(nombre, edad, sueldo)```"
      ]
    },
    {
      "cell_type": "markdown",
      "id": "77131217",
      "metadata": {
        "id": "77131217"
      },
      "source": [
        "### Código completo\n",
        "* Veamos el código completo incluyendo la clase padre Empleado y las dos clases hijas Tripulante y AgenteVentas.\n",
        "* Además, hemos añadido un método a Empleado para calcular el salario neto."
      ]
    },
    {
      "cell_type": "code",
      "execution_count": 7,
      "id": "ebaf1e03",
      "metadata": {
        "id": "ebaf1e03",
        "outputId": "a0c9ec81-1bf6-459e-9d30-7d7573aa2256",
        "colab": {
          "base_uri": "https://localhost:8080/"
        }
      },
      "outputs": [
        {
          "output_type": "execute_result",
          "data": {
            "text/plain": [
              "32500"
            ]
          },
          "metadata": {},
          "execution_count": 7
        }
      ],
      "source": [
        "class Empleado:\n",
        "    def __init__(self, nombre, edad, sueldo):\n",
        "        self.nombre = nombre\n",
        "        self.edad = edad\n",
        "        self.sueldo = sueldo\n",
        "    def calcularSueldo(self, descuentos, bonos):       # añadimos un método para calcular el salario neto\n",
        "        return self.sueldo - descuentos + bonos\n",
        "\n",
        "class Tripulante(Empleado):\n",
        "    def getRenovacionLicencia(self):\n",
        "        if self.edad < 50:\n",
        "            print(\"Renueva su licencia cada año\")\n",
        "        else:\n",
        "            print(\"Renueva su licencia cada seis meses\")\n",
        "\n",
        "class AgenteVentas(Empleado):\n",
        "    def __init__(self, nombre, edad, sueldo, mostrador):\n",
        "        super().__init__(nombre, edad, sueldo)\n",
        "        self.mostrador = mostrador\n",
        "\n",
        "teo = AgenteVentas(\"Teodoro\", 21, 30000, 5)\n",
        "teo.calcularSueldo(500, 3000)                          # el AgenteVentas tb heredó el método calcularSueldo"
      ]
    },
    {
      "cell_type": "code",
      "execution_count": 8,
      "id": "0d105e84",
      "metadata": {
        "id": "0d105e84",
        "outputId": "e095adf2-47c9-4eb9-8206-75b108e58f34",
        "colab": {
          "base_uri": "https://localhost:8080/"
        }
      },
      "outputs": [
        {
          "output_type": "execute_result",
          "data": {
            "text/plain": [
              "64200"
            ]
          },
          "metadata": {},
          "execution_count": 8
        }
      ],
      "source": [
        "r = Tripulante(\"Raquel\", 52, 60000)\n",
        "r.calcularSueldo(800, 5000)"
      ]
    }
  ],
  "metadata": {
    "kernelspec": {
      "display_name": "Python 3",
      "language": "python",
      "name": "python3"
    },
    "language_info": {
      "codemirror_mode": {
        "name": "ipython",
        "version": 3
      },
      "file_extension": ".py",
      "mimetype": "text/x-python",
      "name": "python",
      "nbconvert_exporter": "python",
      "pygments_lexer": "ipython3",
      "version": "3.8.8"
    },
    "colab": {
      "name": "calisto2_0280.ipynb",
      "provenance": [],
      "include_colab_link": true
    }
  },
  "nbformat": 4,
  "nbformat_minor": 5
}