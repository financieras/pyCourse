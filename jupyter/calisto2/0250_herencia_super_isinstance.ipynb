{
  "cells": [
    {
      "cell_type": "markdown",
      "metadata": {
        "id": "e63C6ajS04Qf"
      },
      "source": [
        "# Herencia [3] ```super()``` ```isinstance()```\n",
        "Veamos las funciones:\n",
        "- super()\n",
        "- isinstance()"
      ]
    },
    {
      "cell_type": "code",
      "execution_count": null,
      "metadata": {
        "id": "iqdzzHrL04Qk",
        "outputId": "e8a0b19d-245b-48c0-b0d2-0df735c85895"
      },
      "outputs": [
        {
          "name": "stdout",
          "output_type": "stream",
          "text": [
            "Me llamo Juan, tengo 24 años y vivo en Ávila.\n"
          ]
        }
      ],
      "source": [
        "class Persona():\n",
        "    def __init__(self, nombre, edad, lugar):\n",
        "        self.nombre = nombre\n",
        "        self.edad = edad\n",
        "        self.lugar = lugar\n",
        "    def descripcion(self):\n",
        "        print(f\"Me llamo {self.nombre}, tengo {self.edad} años y vivo en {self.lugar}.\")\n",
        "        \n",
        "juan = Persona(\"Juan\", 24, \"Ávila\")\n",
        "juan.descripcion()"
      ]
    },
    {
      "cell_type": "markdown",
      "metadata": {
        "id": "94WVrldz04Qo"
      },
      "source": [
        "### ```super()```"
      ]
    },
    {
      "cell_type": "code",
      "execution_count": null,
      "metadata": {
        "id": "Oq7ZjN8T04Qp"
      },
      "outputs": [],
      "source": [
        "class Empleado(Persona):                         # la clase Empleado hereda de la clase Persona\n",
        "    def __init__(self, empresa, salario):\n",
        "        super().__init__(\"Jose\", 27, \"Málaga\")   # super hace referencia, en este caso, a la clase Persona\n",
        "        self.enpresa = empresa\n",
        "        self.salario = salario\n",
        "        \n",
        "ana=Persona(\"Ana María\", 35, \"Plasencia\")\n",
        "jose=Empleado(\"IBM\", 35000)  \n",
        "jose.descripcion()                               # en la descripción aún no aparece información de emp. y salario"
      ]
    },
    {
      "cell_type": "markdown",
      "metadata": {
        "id": "Uq6NFbRd04Qs"
      },
      "source": [
        "Hemos pasado valores fijos al constructor y esto no puede ser ya que  \n",
        "ahora todos los empleados se llamarán Jose, tendrán 27 años y serán de Málaga.  \n",
        "Para solucionar este inconveniente añadimos la instrucción \\_\\_init\\_\\_ dentro del constructor  y añadimos unas variables.  \n",
        "- La instrucción super() va dentro del constructor \n",
        "- La instrucción super() llama al método init de la clase padre"
      ]
    },
    {
      "cell_type": "code",
      "execution_count": null,
      "metadata": {
        "id": "XIrD06ci04Qy"
      },
      "outputs": [],
      "source": [
        "class Persona():\n",
        "    def __init__(self, nombre, edad, lugar):\n",
        "        self.nombre = nombre\n",
        "        self.edad = edad\n",
        "        self.lugar = lugar\n",
        "    def descripcion(self):\n",
        "        print(f\"Me llamo {self.nombre}, tengo {self.edad} años y vivo en {self.lugar}.\")\n",
        "        \n",
        "class Empleado(Persona):\n",
        "    def __init__(self, empresa, salario, nombre_empleado, edad_empleado, lugar_empleado): # añadimos variables\n",
        "        super().__init__(nombre_empleado, edad_empleado, lugar_empleado)                  # usamos las variables\n",
        "        self.enpresa = empresa\n",
        "        self.salario = salario\n",
        "\n",
        "paco=Empleado(\"AXA\",28500,\"Francisco\",25,\"Elche\")     # ahora pasamos 5 parámetros\n",
        "paco.descripcion()\n",
        "\n",
        "isa=Empleado(\"IBM\",45300,\"Isabel\",55,\"Madrid\")        # ahora ya no son valores fijos y puedo tener varios objetos\n",
        "isa.descripcion()"
      ]
    },
    {
      "cell_type": "markdown",
      "metadata": {
        "id": "sI7m5ed_04Q2"
      },
      "source": [
        "Ahora ya hemos conseguido crear varias instancias y que no todos se llamen igual. Esto ha sido posible gracias a la introducción de nuevas variables y a la instrucción super().\n",
        "\n",
        "Aún tenemos otro problema que consiste en que al pedir a los empleados que nos den su descripción, nos informan de su nombre, edad y lugar de residencia, pero no nos dicen nada sobre su empresa y su salario.\n",
        "\n",
        "La solución pasa nuevamente por la instrucción super(). Hemos de añadir el método descripción dentro de la clase empleado."
      ]
    },
    {
      "cell_type": "code",
      "execution_count": null,
      "metadata": {
        "id": "045xlk8s04Q3"
      },
      "outputs": [],
      "source": [
        "class Persona():\n",
        "    def __init__(self, nombre, edad, lugar):\n",
        "        self.nombre = nombre\n",
        "        self.edad = edad\n",
        "        self.lugar = lugar\n",
        "    def descripcion(self):\n",
        "        print(f\"Me llamo {self.nombre}, tengo {self.edad} años y vivo en {self.lugar}.\")\n",
        "        \n",
        "class Empleado(Persona):\n",
        "    def __init__(self, empresa, salario, nombre_empleado, edad_empleado, lugar_empleado): # añadimos variables\n",
        "        super().__init__(nombre_empleado, edad_empleado, lugar_empleado)                  # usamos las variables\n",
        "        self.empresa = empresa\n",
        "        self.salario = salario\n",
        "    def descripcion(self):\n",
        "        super().descripcion()\n",
        "        print(f\"Trabajo en {self.empresa} y mi salario bruto es {self.salario} €.\")\n",
        "\n",
        "paco=Empleado(\"AXA\", 28500, \"Francisco\", 25, \"Elche\")   # ahora pasamos 5 parámetros\n",
        "isa=Empleado(\"IBM\", 45300, \"Isabel\", 55, \"Madrid\")      # ahora ya no son valores fijos, puedo tener varias instancias\n",
        "\n",
        "isa.descripcion()                                   # imprime dos líneas, una es la descripción de Persona y\n",
        "print(\"=\"*50)                                       # la otra es la descripción de Empleado\n",
        "paco.descripcion()"
      ]
    },
    {
      "cell_type": "markdown",
      "metadata": {
        "id": "VRAcvfGv04Q6"
      },
      "source": [
        "### Otro ejemplo"
      ]
    },
    {
      "cell_type": "code",
      "execution_count": null,
      "metadata": {
        "id": "lhRBXRHr04Q7",
        "outputId": "c4966fd3-a9e0-4d67-d072-f840f2dd2553"
      },
      "outputs": [
        {
          "name": "stdout",
          "output_type": "stream",
          "text": [
            "Pertenece a un grupo constuctor\n",
            "Tecpresa es una empresa del grupo Ferrovial\n"
          ]
        }
      ],
      "source": [
        "class Matriz:\n",
        "    def __init__(self, nombre):\n",
        "        print(nombre, 'es una empresa del grupo Ferrovial')\n",
        "        \n",
        "class Filial(Matriz):\n",
        "    def __init__(self):\n",
        "        print('Pertenece a un grupo constuctor')\n",
        "        super().__init__('Tecpresa')                   # el método init de la superclase requiere nombre\n",
        "        #Matriz.__init__(self.'Tecpresa')              # equivale a la línea anterior\n",
        "\n",
        "tec = Filial()"
      ]
    },
    {
      "cell_type": "markdown",
      "metadata": {
        "id": "Z2HzYzXV04Q_"
      },
      "source": [
        "## Principio de sustitución\n",
        "Un objeto (intancia) de la subclase siempre será un objeto de la superclase.  \n",
        "Un empleado **siempre es** una persona.  "
      ]
    },
    {
      "cell_type": "markdown",
      "metadata": {
        "id": "t7jXh8Pn04RE"
      },
      "source": [
        "### ```isinstance()```\n",
        "La instrucción ```isinstance()``` nos informará si un objeto concreto es una instancia que pertenece a cierta clase. Esto nos vendrá bien cuando el código se complique y ya no recordemos si un objeto pertenece a una clase.\n",
        "\n",
        "La instancia paco es un objeo de tipo Empleado y vamos a preguntar si es también de tipo Persona. Vamos a confirmarlo."
      ]
    },
    {
      "cell_type": "code",
      "execution_count": null,
      "metadata": {
        "id": "lbJYlUyt04RG"
      },
      "outputs": [],
      "source": [
        "isinstance(paco, Empleado)            # vamos a preguntar si paco es una instancia de tipo Empleado"
      ]
    },
    {
      "cell_type": "code",
      "execution_count": null,
      "metadata": {
        "id": "1pVPNeaE04RH"
      },
      "outputs": [],
      "source": [
        "isinstance(paco, Persona)             # vamos a preguntar si paco es una instancia de tipo Persona"
      ]
    },
    {
      "cell_type": "markdown",
      "metadata": {
        "id": "ezNlUIEJ04RI"
      },
      "source": [
        "#### Creamos una Persona que no es Empleado"
      ]
    },
    {
      "cell_type": "code",
      "execution_count": null,
      "metadata": {
        "id": "24pwHrc004RK"
      },
      "outputs": [],
      "source": [
        "luis=Persona(\"Luis\", 32, \"Cuenca\")    # creamos un nuevo objeto de tipo Persona, solo con tres argumentos\n",
        "isinstance(luis, Persona)             # luis es una Persona"
      ]
    },
    {
      "cell_type": "code",
      "execution_count": null,
      "metadata": {
        "id": "LGEjX1bW04RK"
      },
      "outputs": [],
      "source": [
        "isinstance(luis, Empleado)            # vemos que luis no es Empleado ya que una Persona no siempre es Empleado"
      ]
    },
    {
      "cell_type": "markdown",
      "metadata": {
        "id": "fDYeuqzj04RM"
      },
      "source": [
        "## Consiguiendo que una bici eléctrica tenga marca y modelo\n",
        "En el caso anterior miBici era una instancia de la clase BicicletaElectrica."
      ]
    },
    {
      "cell_type": "code",
      "execution_count": null,
      "metadata": {
        "id": "LLgOB9Qk04RV"
      },
      "outputs": [],
      "source": [
        "class Vehiculo():\n",
        "    def __init__(self, marca, modelo):\n",
        "        self.marca = marca\n",
        "        self.modelo = modelo\n",
        "        self.enmarcha = False\n",
        "        self.acelera = False\n",
        "        self.frena = False\n",
        "    def arrancar(self):\n",
        "        self.enmarcha = True\n",
        "    def acelerar(self):\n",
        "        self.acelera = True\n",
        "    def frenar(self):\n",
        "        self.frena = True\n",
        "    def estado(self):\n",
        "        print(f\"Marca: {self.marca} \\nModelo: {self.modelo} \\\n",
        "              \\nEn marcha: {self.enmarcha} \\nAcelerando: {self.acelera} \\nFrenando: {self.frena}\")\n",
        "class VElectrico(Vehiculo):                        # ahora esta clase hereda de Vehiculo \n",
        "    def __init__(self,marca,modelo):               # ahora añadimos marca y modelo\n",
        "        super().__init__(marca,modelo)             # super() va antes que autonomía\n",
        "        self.autonomia = 300\n",
        "    def cargarEnergia(self):\n",
        "        self.cargando = True\n",
        "        \n",
        "class BicicletaElectrica(VElectrico):              # hereda de la clase VElectrico que a su vez hereda de Vehiculo\n",
        "    pass\n",
        "\n",
        "suBici=BicicletaElectrica(\"Xiaomi\", \"Qicycle\")      # ahora si podemos dar marca y modelo a la nueva instancia\n",
        "\n",
        "suBici.arrancar()\n",
        "suBici.estado()"
      ]
    }
  ],
  "metadata": {
    "kernelspec": {
      "display_name": "Python 3",
      "language": "python",
      "name": "python3"
    },
    "language_info": {
      "codemirror_mode": {
        "name": "ipython",
        "version": 3
      },
      "file_extension": ".py",
      "mimetype": "text/x-python",
      "name": "python",
      "nbconvert_exporter": "python",
      "pygments_lexer": "ipython3",
      "version": "3.8.8"
    },
    "colab": {
      "name": "0250_herencia_super_isinstance.ipynb",
      "provenance": []
    }
  },
  "nbformat": 4,
  "nbformat_minor": 0
}
