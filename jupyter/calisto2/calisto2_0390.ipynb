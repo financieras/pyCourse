{
  "nbformat": 4,
  "nbformat_minor": 0,
  "metadata": {
    "colab": {
      "provenance": [],
      "authorship_tag": "ABX9TyPPNUePJz7UQ9m/FDDtMS9r",
      "include_colab_link": true
    },
    "kernelspec": {
      "name": "python3",
      "display_name": "Python 3"
    },
    "language_info": {
      "name": "python"
    }
  },
  "cells": [
    {
      "cell_type": "markdown",
      "metadata": {
        "id": "view-in-github",
        "colab_type": "text"
      },
      "source": [
        "<a href=\"https://colab.research.google.com/github/financieras/pyCourse/blob/main/jupyter/calisto2/calisto2_0390.ipynb\" target=\"_parent\"><img src=\"https://colab.research.google.com/assets/colab-badge.svg\" alt=\"Open In Colab\"/></a>"
      ]
    },
    {
      "cell_type": "markdown",
      "source": [
        "# match-case"
      ],
      "metadata": {
        "id": "1N3FExUKK1oK"
      }
    },
    {
      "cell_type": "markdown",
      "source": [
        "## Caso general"
      ],
      "metadata": {
        "id": "OJaAq8q4MD-9"
      }
    },
    {
      "cell_type": "code",
      "execution_count": 1,
      "metadata": {
        "colab": {
          "base_uri": "https://localhost:8080/"
        },
        "id": "eImpxiQ5KnuM",
        "outputId": "73cb3ea9-742e-453f-ac0f-ccbb0f160172"
      },
      "outputs": [
        {
          "output_type": "stream",
          "name": "stdout",
          "text": [
            "character is A\n"
          ]
        }
      ],
      "source": [
        "character = 'A'\n",
        "\n",
        "match character:\n",
        "    case 'A':\n",
        "        print(\"character is A\")\n",
        "    case 'B':\n",
        "        print(\"character is B\")\n",
        "    case 'C':\n",
        "        print(\"character is C\")"
      ]
    },
    {
      "cell_type": "markdown",
      "source": [
        "## Pipe"
      ],
      "metadata": {
        "id": "V8DmnuoYMAv-"
      }
    },
    {
      "cell_type": "code",
      "source": [
        "character = 'M'\n",
        "\n",
        "match character:\n",
        "    case 'A' | 'Z':\n",
        "        print(\"character is A or Z\")\n",
        "    case 'B' | 'D':\n",
        "        print(\"character is B or D\")\n",
        "    case 'C' | 'M':\n",
        "        print(\"character is C or M\")"
      ],
      "metadata": {
        "colab": {
          "base_uri": "https://localhost:8080/"
        },
        "id": "MgWzL_mhK-x9",
        "outputId": "8d5b384a-42d7-494c-e2c3-49cc05ae73af"
      },
      "execution_count": 2,
      "outputs": [
        {
          "output_type": "stream",
          "name": "stdout",
          "text": [
            "character is C or M\n"
          ]
        }
      ]
    },
    {
      "cell_type": "markdown",
      "source": [
        "## Caso predeterminado\n",
        "Usando un guión bajo"
      ],
      "metadata": {
        "id": "slWoG6DUL5So"
      }
    },
    {
      "cell_type": "code",
      "source": [
        "character = 'V'\n",
        "\n",
        "match character:\n",
        "    case 'A' | 'Z':\n",
        "        print(\"character is A or Z\")\n",
        "    case 'B' | 'D':\n",
        "        print(\"character is B or D\")\n",
        "    case 'C' | 'M':\n",
        "        print(\"character is C or M\")\n",
        "    case _:\n",
        "        print(\"Unknown character given\")"
      ],
      "metadata": {
        "id": "RJFVEYL7Lkq-"
      },
      "execution_count": null,
      "outputs": []
    }
  ]
}