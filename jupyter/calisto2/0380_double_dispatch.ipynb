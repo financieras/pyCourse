{
  "nbformat": 4,
  "nbformat_minor": 0,
  "metadata": {
    "colab": {
      "provenance": [],
      "authorship_tag": "ABX9TyOe9Y8Z5OSNxiRYfalL73KW",
      "include_colab_link": true
    },
    "kernelspec": {
      "name": "python3",
      "display_name": "Python 3"
    },
    "language_info": {
      "name": "python"
    }
  },
  "cells": [
    {
      "cell_type": "markdown",
      "metadata": {
        "id": "view-in-github",
        "colab_type": "text"
      },
      "source": [
        "<a href=\"https://colab.research.google.com/github/financieras/pyCourse/blob/main/jupyter/calisto2/0380_double_dispatch.ipynb\" target=\"_parent\"><img src=\"https://colab.research.google.com/assets/colab-badge.svg\" alt=\"Open In Colab\"/></a>"
      ]
    },
    {
      "cell_type": "markdown",
      "source": [
        "# Double dispatch\n",
        "El concepto de ***double dispatch*** en programación orientada a objetos se refiere a una técnica que permite elegir el método adecuado para ejecutar según el tipo de dos objetos involucrados en una operación. Es decir, es una forma de hacer que el método llamado dependa no solo del objeto que lo invoca, sino también del objeto que se le pasa como argumento."
      ],
      "metadata": {
        "id": "0tuQqhELLOM-"
      }
    },
    {
      "cell_type": "code",
      "execution_count": 1,
      "metadata": {
        "colab": {
          "base_uri": "https://localhost:8080/"
        },
        "id": "R2YjOjueLJe1",
        "outputId": "e993385d-5dae-42e9-98eb-4c4845d46f17"
      },
      "outputs": [
        {
          "output_type": "stream",
          "name": "stdout",
          "text": [
            "Guau\n",
            "Miau\n",
            "El perro ladra y persigue al gato\n",
            "El perro ladra y persigue al gato\n"
          ]
        }
      ],
      "source": [
        "# Definimos una clase abstracta Animal que representa un animal\n",
        "class Animal:\n",
        "    # Definimos un método abstracto que hace que el animal emita un sonido\n",
        "    def sonar(self):\n",
        "        pass\n",
        "\n",
        "    # Definimos un método abstracto que hace que el animal interactúe con otro animal\n",
        "    def interactuar(self, otro):\n",
        "        pass\n",
        "\n",
        "# Definimos una subclase Perro que hereda de Animal\n",
        "class Perro(Animal):\n",
        "    # Definimos el método sonar para la clase Perro\n",
        "    def sonar(self):\n",
        "        print(\"Guau\")\n",
        "\n",
        "    # Definimos el método interactuar para la clase Perro\n",
        "    def interactuar(self, otro):\n",
        "        # Usamos el operador isinstance para verificar el tipo del otro animal\n",
        "        if isinstance(otro, Perro):\n",
        "            return self.interactuar_perro(otro) # Llamamos al método específico para perros\n",
        "        elif isinstance(otro, Gato):\n",
        "            return self.interactuar_gato(otro) # Llamamos al método específico para gatos\n",
        "        else:\n",
        "            return None # No sabemos cómo interactuar con otro tipo de animal\n",
        "\n",
        "    # Definimos un método auxiliar que hace que el perro interactúe con otro perro\n",
        "    def interactuar_perro(self, otro):\n",
        "        print(\"Los perros se olfatean y se hacen amigos\")\n",
        "\n",
        "    # Definimos un método auxiliar que hace que el perro interactúe con un gato\n",
        "    def interactuar_gato(self, otro):\n",
        "        print(\"El perro ladra y persigue al gato\")\n",
        "\n",
        "# Definimos una subclase Gato que hereda de Animal\n",
        "class Gato(Animal):\n",
        "    # Definimos el método sonar para la clase Gato\n",
        "    def sonar(self):\n",
        "        print(\"Miau\")\n",
        "\n",
        "    # Definimos el método interactuar para la clase Gato\n",
        "    def interactuar(self, otro):\n",
        "        # Usamos el operador isinstance para verificar el tipo del otro animal\n",
        "        if isinstance(otro, Perro):\n",
        "            return otro.interactuar(self) # Llamamos al método interactuar del perro pasando este gato como argumento\n",
        "        elif isinstance(otro, Gato):\n",
        "            return self.interactuar_gato(otro) # Llamamos al método específico para gatos\n",
        "        else:\n",
        "            return None # No sabemos cómo interactuar con otro tipo de animal\n",
        "\n",
        "    # Definimos un método auxiliar que hace que el gato interactúe con otro gato\n",
        "    def interactuar_gato(self, otro):\n",
        "        print(\"Los gatos se ignoran y siguen a lo suyo\")\n",
        "\n",
        "# Creamos dos instancias de animales: un perro y un gato\n",
        "perro = Perro()\n",
        "gato = Gato()\n",
        "\n",
        "# Hacemos que los animales emitan sus sonidos usando el método sonar de cada uno\n",
        "perro.sonar() # Imprime \"Guau\"\n",
        "gato.sonar() # Imprime \"Miau\"\n",
        "\n",
        "# Hacemos que los animales interactúen entre ellos usando el método interactuar de cada uno\n",
        "perro.interactuar(gato) # Imprime \"El perro ladra y persigue al gato\"\n",
        "gato.interactuar(perro) # Imprime \"El perro ladra y persigue al gato\""
      ]
    },
    {
      "cell_type": "markdown",
      "source": [
        "## Ejemplo con Trnasferencias bancaria entre cuentas"
      ],
      "metadata": {
        "id": "xoMVg5vnR9o7"
      }
    },
    {
      "cell_type": "code",
      "source": [
        "# Definimos una clase abstracta Cuenta que representa una cuenta bancaria\n",
        "class Cuenta:\n",
        "    # Definimos un método abstracto que devuelve el saldo de la cuenta\n",
        "    def saldo(self):\n",
        "        pass\n",
        "\n",
        "    # Definimos un método abstracto que hace una transferencia a otra cuenta\n",
        "    def transferir(self, otra, monto):\n",
        "        pass\n",
        "\n",
        "# Definimos una subclase CuentaCorriente que hereda de Cuenta\n",
        "class CuentaCorriente(Cuenta):\n",
        "    # Definimos el método constructor que recibe el saldo inicial de la cuenta\n",
        "    def __init__(self, saldo):\n",
        "        self.saldo = saldo # Asignamos el saldo de la cuenta\n",
        "\n",
        "    # Definimos el método especial __str__ que devuelve el nombre de la cuenta\n",
        "    def __str__(self):\n",
        "        return f\"Cuenta corriente con saldo {self.saldo}\"\n",
        "\n",
        "    # Definimos el método saldo para la clase CuentaCorriente\n",
        "    def saldo(self):\n",
        "        return self.saldo # Devolvemos el saldo de la cuenta\n",
        "\n",
        "    # Definimos el método transferir para la clase CuentaCorriente\n",
        "    def transferir(self, otra, monto):\n",
        "        # Usamos el operador isinstance para verificar el tipo de la otra cuenta\n",
        "        if isinstance(otra, CuentaCorriente):\n",
        "            return self.transferir_cuenta_corriente(otra, monto) # Llamamos al método específico para cuentas corrientes\n",
        "        elif isinstance(otra, CajaAhorro):\n",
        "            return self.transferir_caja_ahorro(otra, monto) # Llamamos al método específico para cajas de ahorro\n",
        "        else:\n",
        "            return None # No sabemos cómo transferir a otro tipo de cuenta\n",
        "\n",
        "    # Definimos un método auxiliar que hace una transferencia entre dos cuentas corrientes\n",
        "    def transferir_cuenta_corriente(self, otra, monto):\n",
        "        # Verificamos que el monto sea positivo y que haya suficiente saldo en la cuenta origen\n",
        "        if monto > 0 and self.saldo >= monto:\n",
        "            self.saldo -= monto # Restamos el monto al saldo de la cuenta origen\n",
        "            otra.saldo += monto # Sumamos el monto al saldo de la cuenta destino\n",
        "            print(f\"Se ha transferido {monto} desde la cuenta corriente {self} a la cuenta corriente {otra}\")\n",
        "        else:\n",
        "            print(\"No se ha podido realizar la transferencia\")\n",
        "\n",
        "    # Definimos un método auxiliar que hace una transferencia entre una cuenta corriente y una caja de ahorro\n",
        "    def transferir_caja_ahorro(self, otra, monto):\n",
        "        # Verificamos que el monto sea positivo y que haya suficiente saldo en la cuenta origen\n",
        "        if monto > 0 and self.saldo >= monto:\n",
        "            self.saldo -= monto # Restamos el monto al saldo de la cuenta origen\n",
        "            otra.saldo += monto * 0.95 # Sumamos el 95% del monto al saldo de la cuenta destino (se aplica una comisión del 5%)\n",
        "            print(f\"Se ha transferido {monto} desde la cuenta corriente {self} a la caja de ahorro {otra} con una comisión del 5%\")\n",
        "        else:\n",
        "            print(\"No se ha podido realizar la transferencia\")\n",
        "\n",
        "# Definimos una subclase CajaAhorro que hereda de Cuenta\n",
        "class CajaAhorro(Cuenta):\n",
        "    # Definimos el método constructor que recibe el saldo inicial de la cuenta\n",
        "    def __init__(self, saldo):\n",
        "        self.saldo = saldo # Asignamos el saldo de la cuenta\n",
        "\n",
        "    # Definimos el método saldo para la clase CajaAhorro\n",
        "    def saldo(self):\n",
        "        return self.saldo # Devolvemos el saldo de la cuenta\n",
        "\n",
        "    def __str__(self):\n",
        "        return f\"Caja de ahorro con saldo {self.saldo}\"\n",
        "\n",
        "    # Definimos el método transferir para la clase CajaAhorro\n",
        "    def transferir(self, otra, monto):\n",
        "        # Usamos el operador isinstance para verificar el tipo de la otra cuenta\n",
        "        if isinstance(otra, CuentaCorriente):\n",
        "            return otra.transferir(self, monto) # Llamamos al método transferir de la cuenta corriente pasando esta caja de ahorro como argumento\n",
        "        elif isinstance(otra, CajaAhorro):\n",
        "            return self.transferir_caja_ahorro(otra, monto) # Llamamos al método específico para cajas de ahorro\n",
        "        else:\n",
        "            return None # No sabemos cómo transferir a otro tipo de cuenta\n",
        "\n",
        "    # Definimos un método auxiliar que hace una transferencia entre dos cajas de ahorro\n",
        "    def transferir_caja_ahorro(self, otra, monto):\n",
        "        # Verificamos que el monto sea positivo y que haya suficiente saldo en la cuenta origen\n",
        "        if monto > 0 and self.saldo >= monto:\n",
        "            self.saldo -= monto * 1.05 # Restamos el 105% del monto al saldo de la cuenta origen (se aplica una comisión del 5%)\n",
        "            otra.saldo += monto # Sumamos el monto al saldo de la cuenta destino\n",
        "            print(f\"Se ha transferido {monto} desde la caja de ahorro {self} a la caja de ahorro {otra} con una comisión del 5%\")\n",
        "        else:\n",
        "            print(\"No se ha podido realizar la transferencia\")\n",
        "\n",
        "# Creamos dos instancias de cuentas: una cuenta corriente y una caja de ahorro\n",
        "cuenta_corriente = CuentaCorriente(1000)\n",
        "caja_ahorro = CajaAhorro(500)\n",
        "\n",
        "# Hacemos que las cuentas transfieran dinero entre ellas usando el método transferir de cada una\n",
        "cuenta_corriente.transferir(caja_ahorro, 100) # Imprime \"Se ha transferido 100 desde la cuenta corriente ... a la caja de ahorro ... con una comisión del 5%\"\n",
        "caja_ahorro.transferir(cuenta_corriente, 200) # Imprime \"Se ha transferido 200 desde la caja de ahorro ... a la cuenta corriente ... con una comisión del 5%\""
      ],
      "metadata": {
        "colab": {
          "base_uri": "https://localhost:8080/"
        },
        "id": "7lm-mgYNSDCu",
        "outputId": "b971c95b-21a6-45d8-f29e-4ba04ad897a5"
      },
      "execution_count": 2,
      "outputs": [
        {
          "output_type": "stream",
          "name": "stdout",
          "text": [
            "Se ha transferido 100 desde la cuenta corriente Cuenta corriente con saldo 900 a la caja de ahorro Caja de ahorro con saldo 595.0 con una comisión del 5%\n",
            "Se ha transferido 200 desde la cuenta corriente Cuenta corriente con saldo 700 a la caja de ahorro Caja de ahorro con saldo 785.0 con una comisión del 5%\n"
          ]
        }
      ]
    },
    {
      "cell_type": "markdown",
      "source": [
        "## Ejemplo con Figuras geométricas"
      ],
      "metadata": {
        "id": "LsMa4uj2M7vd"
      }
    },
    {
      "cell_type": "code",
      "source": [
        "# Definimos una clase abstracta Figura que representa una figura geométrica\n",
        "class Figura:\n",
        "    # Definimos un método abstracto que calcula el área de la figura\n",
        "    def area(self):\n",
        "        pass\n",
        "\n",
        "    # Definimos un método abstracto que calcula la intersección con otra figura\n",
        "    def interseccion(self, otra):\n",
        "        pass\n",
        "\n",
        "# Definimos una subclase Circulo que hereda de Figura\n",
        "class Circulo(Figura):\n",
        "    # Definimos el método constructor que recibe el radio y las coordenadas del círculo\n",
        "    def __init__(self, radio, x, y):\n",
        "        self.radio = radio # Asignamos el radio del círculo\n",
        "        self.x = x # Asignamos la coordenada x del centro del círculo\n",
        "        self.y = y # Asignamos la coordenada y del centro del círculo\n",
        "\n",
        "    # Definimos el método area para la clase Circulo\n",
        "    def area(self):\n",
        "        return 3.14 * self.radio ** 2 # Usamos una aproximación de pi\n",
        "\n",
        "    # Definimos el método interseccion para la clase Circulo\n",
        "    def interseccion(self, otra):\n",
        "        # Usamos el operador isinstance para verificar el tipo de la otra figura\n",
        "        if isinstance(otra, Circulo):\n",
        "            return self.interseccion_circulo(otra) # Llamamos al método específico para círculos\n",
        "        elif isinstance(otra, Cuadrado):\n",
        "            return self.interseccion_cuadrado(otra) # Llamamos al método específico para cuadrados\n",
        "        else:\n",
        "            return None # No sabemos cómo calcular la intersección con otro tipo de figura\n",
        "\n",
        "    # Definimos un método auxiliar que calcula la intersección entre dos círculos\n",
        "    def interseccion_circulo(self, otro):\n",
        "        # Usamos la fórmula de la distancia entre los centros y los radios para determinar si hay intersección\n",
        "        distancia = ((self.x - otro.x) ** 2 + (self.y - otro.y) ** 2) ** 0.5\n",
        "        if distancia <= self.radio + otro.radio:\n",
        "            return True # Hay intersección\n",
        "        else:\n",
        "            return False # No hay intersección\n",
        "\n",
        "    # Definimos un método auxiliar que calcula la intersección entre un círculo y un cuadrado\n",
        "    def interseccion_cuadrado(self, otro):\n",
        "        # Usamos la fórmula de la distancia entre el centro del círculo y el centro del cuadrado y los radios y lados para determinar si hay intersección\n",
        "        distancia = ((self.x - otro.x) ** 2 + (self.y - otro.y) ** 2) ** 0.5\n",
        "        if distancia <= self.radio + otro.lado / 2:\n",
        "            return True # Hay intersección\n",
        "        else:\n",
        "            return False # No hay intersección\n",
        "\n",
        "# Definimos una subclase Cuadrado que hereda de Figura\n",
        "class Cuadrado(Figura):\n",
        "    # Definimos el método constructor que recibe el lado y las coordenadas del cuadrado\n",
        "    def __init__(self, lado, x, y):\n",
        "        self.lado = lado # Asignamos el lado del cuadrado\n",
        "        self.x = x # Asignamos la coordenada x del centro del cuadrado\n",
        "        self.y = y # Asignamos la coordenada y del centro del cuadrado\n",
        "\n",
        "    # Definimos el método area para la clase Cuadrado\n",
        "    def area(self):\n",
        "        return self.lado ** 2 # Elevamos al cuadrado el lado\n",
        "\n",
        "    # Definimos el método interseccion para la clase Cuadrado\n",
        "    def interseccion(self, otra):\n",
        "        # Usamos el operador isinstance para verificar el tipo de la otra figura\n",
        "        if isinstance(otra, Circulo):\n",
        "            return otra.interseccion(self) # Llamamos al método interseccion del círculo pasando este cuadrado como argumento\n",
        "        elif isinstance(otra, Cuadrado):\n",
        "            return self.interseccion_cuadrado(otra) # Llamamos al método específico para cuadrados\n",
        "        else:\n",
        "            return None # No sabemos cómo calcular la intersección con otro tipo de figura\n",
        "\n",
        "    # Definimos un método auxiliar que calcula la intersección entre dos cuadrados\n",
        "    def interseccion_cuadrado(self, otro):\n",
        "        # Usamos la fórmula de la distancia entre los centros y los lados para determinar si hay intersección\n",
        "        distancia_x = abs(self.x - otro.x)\n",
        "        distancia_y = abs(self.y - otro.y)\n",
        "        if distancia_x <= (self.lado + otro.lado) / 2 and distancia_y <= (self.lado + otro.lado) / 2:\n",
        "            return True # Hay intersección\n",
        "        else:\n",
        "            return False # No hay intersección\n",
        "\n",
        "# Creamos dos instancias de figuras: un círculo y un cuadrado\n",
        "circulo = Circulo(5, 7, 7.1)\n",
        "cuadrado = Cuadrado(10, 0, 0)\n",
        "\n",
        "# Calculamos la intersección entre las dos figuras usando el método interseccion de cada una\n",
        "print(circulo.interseccion(cuadrado)) # Imprime True o False según haya o no intersección entre el círculo y el cuadrado\n",
        "print(cuadrado.interseccion(circulo)) # Imprime True o False según haya o no intersección entre el cuadrado y el círculo"
      ],
      "metadata": {
        "colab": {
          "base_uri": "https://localhost:8080/"
        },
        "id": "bxbQi19EM4zA",
        "outputId": "2c07370a-64c5-435a-8887-ebf60445d3b8"
      },
      "execution_count": 3,
      "outputs": [
        {
          "output_type": "stream",
          "name": "stdout",
          "text": [
            "True\n",
            "True\n"
          ]
        }
      ]
    }
  ]
}