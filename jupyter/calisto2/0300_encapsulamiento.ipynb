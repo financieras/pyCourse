{
  "nbformat": 4,
  "nbformat_minor": 0,
  "metadata": {
    "colab": {
      "name": "0300_encapsulamiento.ipynb",
      "provenance": [],
      "authorship_tag": "ABX9TyNaTu6GcUXh5Jgwj0n3WXGf",
      "include_colab_link": true
    },
    "kernelspec": {
      "name": "python3",
      "display_name": "Python 3"
    },
    "language_info": {
      "name": "python"
    }
  },
  "cells": [
    {
      "cell_type": "markdown",
      "metadata": {
        "id": "view-in-github",
        "colab_type": "text"
      },
      "source": [
        "<a href=\"https://colab.research.google.com/github/financieras/pyCourse/blob/main/jupyter/calisto2/0300_encapsulamiento.ipynb\" target=\"_parent\"><img src=\"https://colab.research.google.com/assets/colab-badge.svg\" alt=\"Open In Colab\"/></a>"
      ]
    },
    {
      "cell_type": "markdown",
      "source": [
        "# Herencia [7] Encapsulamiento\n",
        "* El encapsulamiento es un mecanismo que permite ocultar los detalles de implementación de un objeto y proteger sus atributos y métodos de accesos no autorizados. En Python, el encapsulamiento se logra mediante el uso de convenciones de nomenclatura y modificadores de acceso.\n",
        "\n",
        "* En Python, el encapsulamiento se puede aplicar en la herencia mediante el uso de modificadores de acceso como `_` (un guión bajo) o `__` (dos guiones bajos) para indicar que un atributo o método es privado. Los atributos o métodos privados solo pueden ser accedidos desde dentro de la clase que los define.\n",
        "\n",
        "* Por ejemplo, si tenemos una clase Persona con un atributo privado `_nombre`, podemos acceder a este atributo desde dentro de la clase `Persona`, pero no desde fuera."
      ],
      "metadata": {
        "id": "VYqsR0sufg6q"
      }
    },
    {
      "cell_type": "code",
      "source": [
        "class Persona:\n",
        "    def __init__(self, nombre):\n",
        "        self._nombre = nombre\n",
        "\n",
        "p = Persona(\"Juan\")\n",
        "print(p._nombre) # Esto funciona, pero no es recomendable\n",
        "#print(p.__nombre) # Esto dará un error"
      ],
      "metadata": {
        "id": "BskswNHFeto4",
        "outputId": "a226fdaf-0c8c-49aa-d73a-5e135cd79f7b",
        "colab": {
          "base_uri": "https://localhost:8080/"
        }
      },
      "execution_count": 1,
      "outputs": [
        {
          "output_type": "stream",
          "name": "stdout",
          "text": [
            "Juan\n"
          ]
        }
      ]
    },
    {
      "cell_type": "markdown",
      "source": [
        "Si tenemos una clase `Empleado` que hereda de la clase `Persona`, podemos acceder a los atributos y métodos privados de la clase `Persona` desde dentro de la clase `Empleado`, pero no desde fuera."
      ],
      "metadata": {
        "id": "wUwN1-h1extM"
      }
    },
    {
      "cell_type": "code",
      "source": [
        "class Empleado(Persona):\n",
        "    def __init__(self, nombre, salario):\n",
        "        super().__init__(nombre)\n",
        "        self.salario = salario\n",
        "\n",
        "e = Empleado(\"Pedro\", 2000)\n",
        "print(e._nombre) # Esto funciona, pero no es recomendable\n",
        "#print(e.__nombre) # Esto dará un error"
      ],
      "metadata": {
        "id": "As1ioiGSfC-v",
        "outputId": "a22546e1-e77e-4a7f-ca37-546b9fc2c776",
        "colab": {
          "base_uri": "https://localhost:8080/"
        }
      },
      "execution_count": 2,
      "outputs": [
        {
          "output_type": "stream",
          "name": "stdout",
          "text": [
            "Pedro\n"
          ]
        }
      ]
    },
    {
      "cell_type": "markdown",
      "source": [
        "## Encapsulamiento y decoradores\n",
        "* El encapsulamiento es una técnica de programación que consiste en ocultar los detalles de implementación de un objeto y exponer solo lo que es necesario para su uso.\n",
        "\n",
        "* El decorador `@property` se utiliza para definir un método que se comporta como un atributo. Esto significa que se puede acceder a él como si fuera un atributo, pero en realidad es un método que se ejecuta cada vez que se accede a él.\n",
        "* El decorador `@property` se utiliza comúnmente para definir atributos de solo lectura.\n",
        "* En el ejemplo, la clase `Usuario` tiene dos atributos privados (`__nombre` y `__apellido`) que solo se pueden acceder mediante los métodos `getter` y `setter` decorados con `@property`.\n",
        "* Los métodos `getter` permiten leer los valores de los atributos privados y los métodos `setter` permiten modificarlos."
      ],
      "metadata": {
        "id": "wVfASyTXs2tC"
      }
    },
    {
      "cell_type": "code",
      "source": [
        "class Usuario:\n",
        "    def __init__(self, nombre, apellido):\n",
        "        self.__nombre = nombre\n",
        "        self.__apellido = apellido\n",
        "\n",
        "    @property\n",
        "    def nombre(self):\n",
        "        return self.__nombre\n",
        "\n",
        "    @nombre.setter\n",
        "    def nombre(self, nombre):\n",
        "        self.__nombre = nombre\n",
        "\n",
        "    @property\n",
        "    def apellido(self):\n",
        "        return self.__apellido\n",
        "\n",
        "    @apellido.setter\n",
        "    def apellido(self, apellido):\n",
        "        self.__apellido = apellido\n",
        "\n",
        "user1 = Usuario(\"Juan\", \"Jimenez\")              # instanciamos el objeto user1\n",
        "print(f\"{user1.nombre} {user1.apellido}\")       # Output: Juan Jimenez\n",
        "\n",
        "user1.nombre = \"Ana\"                            # modificamos el nombre de user1\n",
        "user1.apellido = \"Ruiz\"                         # también cambiamos su apellido\n",
        "print(f\"{user1.nombre} {user1.apellido}\")       # Output: Ana Ruiz"
      ],
      "metadata": {
        "id": "QQf2PqMJtTnB",
        "outputId": "e940d595-b375-4c91-857a-55ac7fcbb463",
        "colab": {
          "base_uri": "https://localhost:8080/"
        }
      },
      "execution_count": 3,
      "outputs": [
        {
          "output_type": "stream",
          "name": "stdout",
          "text": [
            "Juan Jimenez\n",
            "Ana Ruiz\n"
          ]
        }
      ]
    },
    {
      "cell_type": "markdown",
      "source": [
        "## Encapsulamiento de métodos\n",
        "* En Python, el encapsulamiento se logra mediante la convención de que los atributos y métodos que comienzan con dos guiones bajos (`__`) son tratados como “privados” y no se pueden acceder desde fuera de la clase.\n",
        "* Sin embargo, esto no significa que los atributos o métodos sean completamente privados ya que aún se pueden acceder a ellos utilizando el nombre de la clase y el nombre del atributo o método.\n",
        "* En este ejemplo, el atributo y el método comienzan con dos guiones bajos, lo que los hace “privados”. Sin embargo, aún se pueden acceder a ellos utilizando el nombre de la clase y el nombre del atributo o método.\n",
        "* En Python, no hay verdadero encapsulamiento ya que los atributos y métodos internos de una clase siempre son accesibles desde fuera de la clase. Sin embargo, se puede simular el encapsulamiento utilizando convenciones de nomenclatura y decoradores especiales."
      ],
      "metadata": {
        "id": "oIGK9Jmhwp0v"
      }
    },
    {
      "cell_type": "code",
      "source": [
        "class MiClase:\n",
        "    def __init__(self):\n",
        "        self.__atributo_privado = 42\n",
        "\n",
        "    def __metodo_privado(self):\n",
        "        print(\"Este es un método privado\")\n",
        "\n",
        "objeto = MiClase()\n",
        "\n",
        "#print(objeto.atributo_privado)     # Error: no existe el atributo_privado\n",
        "#print(objeto.__atributo_privado)   # Error: no existe el __atributo_privado\n",
        "\n",
        "#print(objeto.metodo_privado)       # Error: no existe el metodo_privado\n",
        "#print(objeto.__metodo_privado)     # Error: no existe el __metodo_privado\n",
        "\n",
        "\n",
        "print(objeto._MiClase__atributo_privado) # Salida: 42\n",
        "objeto._MiClase__metodo_privado() # Salida: \"Este es un método privado\""
      ],
      "metadata": {
        "id": "2Xn0t4pyxKbA",
        "outputId": "4e1cfd55-5f1c-425d-d822-c8512ed639ea",
        "colab": {
          "base_uri": "https://localhost:8080/"
        }
      },
      "execution_count": 4,
      "outputs": [
        {
          "output_type": "stream",
          "name": "stdout",
          "text": [
            "42\n",
            "Este es un método privado\n"
          ]
        }
      ]
    },
    {
      "cell_type": "markdown",
      "source": [
        "## Encapsulamiento de métodos con el decorador `@property`\n",
        "* El decorador `@property` permite encapsular métodos y atributos de una clase. * Este decorador se utiliza para definir un método que se comporta como un atributo de la clase y que puede ser accedido desde fuera de la clase sin necesidad de llamar al método explícitamente.\n",
        "\n",
        "* Por ejemplo, si queremos encapsular el atributo `edad` de una clase `Persona`, podemos definir un método `edad` con el decorador `@property`."
      ],
      "metadata": {
        "id": "BV_IWUlFy-90"
      }
    },
    {
      "cell_type": "code",
      "source": [
        "class Persona:\n",
        "    def __init__(self, edad):\n",
        "        self._edad = edad\n",
        "\n",
        "    @property\n",
        "    def edad(self):\n",
        "        return self._edad\n",
        "\n",
        "jose = Persona(23)\n",
        "print(jose.edad)\n",
        "#jose.edad = 24     # daría Error ya que la edad estra protegida por @property"
      ],
      "metadata": {
        "id": "K2sqZSIYzppa",
        "outputId": "02e309ab-4f14-43fe-c41b-41bdd342a8d1",
        "colab": {
          "base_uri": "https://localhost:8080/"
        }
      },
      "execution_count": 5,
      "outputs": [
        {
          "output_type": "stream",
          "name": "stdout",
          "text": [
            "23\n"
          ]
        }
      ]
    },
    {
      "cell_type": "markdown",
      "source": [
        "Vamos a modificar la edad son un setter."
      ],
      "metadata": {
        "id": "Qxr0qN5s1EZT"
      }
    },
    {
      "cell_type": "code",
      "source": [
        "class Persona:\n",
        "    def __init__(self, nombre, edad):\n",
        "        self.nombre = nombre\n",
        "        self.edad = edad\n",
        "\n",
        "    @property\n",
        "    def edad(self):\n",
        "        return self._edad\n",
        "\n",
        "    @edad.setter\n",
        "    def edad(self, value):\n",
        "        if value < 0:\n",
        "            raise ValueError(\"La edad no puede ser negativa\")\n",
        "        self._edad = value\n",
        "\n",
        "    def cambiar_edad(self, nueva_edad):\n",
        "        self.edad = nueva_edad\n",
        "\n",
        "p = Persona(\"Juan\", 25)\n",
        "print(p.edad) # Output: 25\n",
        "p.cambiar_edad(30)\n",
        "print(p.edad) # Output: 30\n",
        "p.edad += 1     # si puedo cambiar la edad, no da error\n",
        "p.edad"
      ],
      "metadata": {
        "id": "ISJjG1aI1IsK",
        "outputId": "5f23c8c5-1d65-4054-a04e-8c397e341386",
        "colab": {
          "base_uri": "https://localhost:8080/"
        }
      },
      "execution_count": 6,
      "outputs": [
        {
          "output_type": "stream",
          "name": "stdout",
          "text": [
            "25\n",
            "30\n"
          ]
        },
        {
          "output_type": "execute_result",
          "data": {
            "text/plain": [
              "31"
            ]
          },
          "metadata": {},
          "execution_count": 6
        }
      ]
    }
  ]
}