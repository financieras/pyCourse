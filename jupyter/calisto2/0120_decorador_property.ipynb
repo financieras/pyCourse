{
  "cells": [
    {
      "cell_type": "markdown",
      "metadata": {
        "id": "view-in-github",
        "colab_type": "text"
      },
      "source": [
        "<a href=\"https://colab.research.google.com/github/financieras/pyCourse/blob/main/jupyter/calisto2/0120_decorador_property.ipynb\" target=\"_parent\"><img src=\"https://colab.research.google.com/assets/colab-badge.svg\" alt=\"Open In Colab\"/></a>"
      ]
    },
    {
      "cell_type": "markdown",
      "metadata": {
        "id": "ubebf0Q3uh3B"
      },
      "source": [
        "# El decorador ```@property```\n",
        "El decorador ```@property```, viene por defecto con Python, y puede ser usado para modificar un método para que sea un atributo o propiedad.\n",
        "\n",
        "El decorador ```@property``` puede ser usado sobre un método, que hará que actúe como si fuera un atributo."
      ]
    },
    {
      "cell_type": "code",
      "execution_count": 1,
      "metadata": {
        "id": "n7ENJXqDuh3F"
      },
      "outputs": [],
      "source": [
        "class Clase:\n",
        "    def __init__(self, mi_atributo):\n",
        "        self.__mi_atributo = mi_atributo\n",
        "\n",
        "    @property\n",
        "    def mi_atributo(self):\n",
        "        return self.__mi_atributo"
      ]
    },
    {
      "cell_type": "markdown",
      "metadata": {
        "id": "taXR-rRhuh3J"
      },
      "source": [
        "Del mismo modo que un atributo normal, usando el decorador sobre un método, podemos acceder a él con:  ```objeto.nombre```."
      ]
    },
    {
      "cell_type": "code",
      "execution_count": 2,
      "metadata": {
        "id": "rjwbhxmHuh3L",
        "outputId": "b27cf295-151f-411e-91e0-b0e3f3720f48",
        "colab": {
          "base_uri": "https://localhost:8080/",
          "height": 35
        }
      },
      "outputs": [
        {
          "output_type": "execute_result",
          "data": {
            "text/plain": [
              "'valor_atributo'"
            ],
            "application/vnd.google.colaboratory.intrinsic+json": {
              "type": "string"
            }
          },
          "metadata": {},
          "execution_count": 2
        }
      ],
      "source": [
        "mi_clase = Clase(\"valor_atributo\")\n",
        "mi_clase.mi_atributo                 # 'valor_atributo'"
      ]
    },
    {
      "cell_type": "markdown",
      "metadata": {
        "id": "c4Id8Gbpuh3M"
      },
      "source": [
        "Aunque mi_atributo pueda parecer un método, en realidad no lo es, por lo que no puede ser llamado con ()."
      ]
    },
    {
      "cell_type": "code",
      "execution_count": 3,
      "metadata": {
        "id": "TeLSmVGouh3N"
      },
      "outputs": [],
      "source": [
        "#mi_clase.mi_atributo() # Error! Es un atributo, no un método"
      ]
    },
    {
      "cell_type": "markdown",
      "metadata": {
        "id": "5HjpOlbauh3N"
      },
      "source": [
        "## ¿Para qué sirve el decorador @property?\n",
        "Podríamos pensar que haríamos lo mismo si necesidad de usar el decorador con el siguiente código."
      ]
    },
    {
      "cell_type": "code",
      "execution_count": 4,
      "metadata": {
        "id": "5dYhe_DDuh3O",
        "outputId": "fc8206c0-98e4-4c6e-b9e3-1f767e698fe8",
        "colab": {
          "base_uri": "https://localhost:8080/",
          "height": 35
        }
      },
      "outputs": [
        {
          "output_type": "execute_result",
          "data": {
            "text/plain": [
              "'valor_atributo'"
            ],
            "application/vnd.google.colaboratory.intrinsic+json": {
              "type": "string"
            }
          },
          "metadata": {},
          "execution_count": 4
        }
      ],
      "source": [
        "class Clase:\n",
        "    def __init__(self, mi_atributo):\n",
        "        self.mi_atributo = mi_atributo\n",
        "\n",
        "mi_clase = Clase(\"valor_atributo\")\n",
        "mi_clase.mi_atributo                 # 'valor_atributo'"
      ]
    },
    {
      "cell_type": "markdown",
      "metadata": {
        "id": "cCmaxn_Euh3P"
      },
      "source": [
        "El motivo por el que usamos el decorador @property está relacionado con el concepto de **Encapsulación** en la POO. En algunos casos es importante ocultar el estado de los objetos para que no sean accesibles desde el exterior, para que no puedan ser consultados, ni modificados, ni borrados. Pensemos en una password, en el número de vidas de un personaje en un juego, entre otras muchas variables, o métodos que nos gustaría proteger.\n",
        "\n",
        "La protección en JAVA de los atributos se hace distinguiendo entre los privados y los públicos. Sus métodos clásicos son los Getter, Setter y Deleter.\n",
        "\n",
        "En Python poniendo el prefijo de doble barra baja indicamos que nos gustaría ocultar el atributo: \\_\\_mi_atributo\n",
        "\n",
        "Con el decorador ```@property```, podría ser un acceso controlado, ya que el acceso se realiza a través del método creado al que siempre podríamos añadir código extra y no un simple retorno."
      ]
    },
    {
      "cell_type": "markdown",
      "metadata": {
        "id": "Ig3dP7qMuh3R"
      },
      "source": [
        "## Simular el encapsulamiento\n",
        "Puesto que Python no dispone de encapsulamiento real, podemos simular el encapsulamiento de otros lenguajes utilizando Getter, Setter, Deleter mediante el uso del decorador ```@Property```.\n",
        "\n",
        "La función integrada property nos permitirá interceptar la escritura, lectura, borrado de los atributos y ademas nos permiten incorporar una documentación sobre los mismos.\n",
        "\n",
        "* Es un decorador. Se escribe con una @ como prefijo.\n",
        "* Si no se pasan los parámetros requeridos su valor por defecto es None.\n",
        "* Getter: Se encargará de interceptar la lectura del atributo. (get = obtener)\n",
        "* Setter: Se encarga de interceptar cuando se escriba. (set = definir o escribir)\n",
        "* Deleter: Se encarga de interceptar cuando es borrado. (delete = borrar)\n",
        "* doc:  Recibirá una cadena para documentar el atributo. (doc = documentación)"
      ]
    },
    {
      "cell_type": "code",
      "execution_count": 5,
      "metadata": {
        "id": "_4_xez2wuh3T"
      },
      "outputs": [],
      "source": [
        "class Perro():                             # declaramos la clase padre\n",
        "    def __init__(self, nombre, peso):      # parámetros\n",
        "        self.__nombre = nombre             # declaramos los atributos (privados ocultos)\n",
        "        self.__peso = peso\n",
        "\n",
        "#Definimos los métodos para obtener los atributos ocultos o privados getter\n",
        "    @property\n",
        "    def nombre(self):                      # método para obtener el nombre\n",
        "        return self.__nombre               # retornamos el atributo privado oculto\n",
        "\n",
        "#Ahora vamos a utilizar setter y deleter para modificarlos\n",
        "    @nombre.setter #Propiedad SETTER\n",
        "    def nombre(self, nuevo):\n",
        "        print (\"Modificando nombre...\")\n",
        "        self.__nombre = nuevo\n",
        "        print (\"El nombre se ha modificado por\")\n",
        "        print (self.__nombre) #Aquí vuelvo a pedir que retorne el atributo para confirmar\n",
        "\n",
        "    @nombre.deleter #Propiedad DELETER\n",
        "    def nombre(self):\n",
        "        print(\"Borrando nombre...\")\n",
        "        del self.__nombre\n",
        "\n",
        "#Hasta aquí property#\n",
        "\n",
        "    def peso(self):                        # Definimos el método para obtener el peso\n",
        "        return self.__peso                 # Aquí simplemente estamos retornando el atributo privado"
      ]
    },
    {
      "cell_type": "code",
      "execution_count": 6,
      "metadata": {
        "id": "CYj0O2dZuh3U",
        "outputId": "f957ef21-1057-4cf6-a9d6-dcff6c3befb9",
        "colab": {
          "base_uri": "https://localhost:8080/"
        }
      },
      "outputs": [
        {
          "output_type": "stream",
          "name": "stdout",
          "text": [
            "Tom\n"
          ]
        }
      ],
      "source": [
        "Tomas = Perro('Tom', 27)                   # Instanciamos\n",
        "print (Tomas.nombre)                       # Imprimimos el nombre de Tomas. Se hace a través de getter"
      ]
    },
    {
      "cell_type": "code",
      "execution_count": 7,
      "metadata": {
        "id": "MNVHsMgduh3V",
        "outputId": "322bfc2f-ed12-4ef1-efd6-07288d0c0d45",
        "colab": {
          "base_uri": "https://localhost:8080/"
        }
      },
      "outputs": [
        {
          "output_type": "stream",
          "name": "stdout",
          "text": [
            "Modificando nombre...\n",
            "El nombre se ha modificado por\n",
            "Tomasito\n"
          ]
        }
      ],
      "source": [
        "Tomas.nombre = 'Tomasito'                  # Cambiamos el atributo nombre que se hace a través de setter"
      ]
    },
    {
      "cell_type": "code",
      "execution_count": 8,
      "metadata": {
        "id": "wxQjRhsnuh3V",
        "outputId": "7161eae8-7577-4cd8-c938-d6c499cfce55",
        "colab": {
          "base_uri": "https://localhost:8080/"
        }
      },
      "outputs": [
        {
          "output_type": "stream",
          "name": "stdout",
          "text": [
            "Borrando nombre...\n"
          ]
        }
      ],
      "source": [
        "del Tomas.nombre                           # Borramos el nombre utilizando deleter"
      ]
    }
  ],
  "metadata": {
    "kernelspec": {
      "display_name": "Python 3",
      "language": "python",
      "name": "python3"
    },
    "language_info": {
      "codemirror_mode": {
        "name": "ipython",
        "version": 3
      },
      "file_extension": ".py",
      "mimetype": "text/x-python",
      "name": "python",
      "nbconvert_exporter": "python",
      "pygments_lexer": "ipython3",
      "version": "3.8.8"
    },
    "colab": {
      "name": "calisto2_0120.ipynb",
      "provenance": [],
      "include_colab_link": true
    }
  },
  "nbformat": 4,
  "nbformat_minor": 0
}