{
  "cells": [
    {
      "cell_type": "markdown",
      "metadata": {
        "id": "view-in-github",
        "colab_type": "text"
      },
      "source": [
        "<a href=\"https://colab.research.google.com/github/financieras/pyCourse/blob/main/jupyter/calisto2/calisto2_0290.ipynb\" target=\"_parent\"><img src=\"https://colab.research.google.com/assets/colab-badge.svg\" alt=\"Open In Colab\"/></a>"
      ]
    },
    {
      "cell_type": "markdown",
      "metadata": {
        "id": "uQ3RXDjQUlwp"
      },
      "source": [
        "# Ejemplo ```super()```  ```isinstance()```  ```issubclass()``` "
      ]
    },
    {
      "cell_type": "markdown",
      "metadata": {
        "id": "jmjmEczlUlws"
      },
      "source": [
        "## Calculadora"
      ]
    },
    {
      "cell_type": "code",
      "execution_count": null,
      "metadata": {
        "id": "F4uL2h4XUlwu"
      },
      "outputs": [],
      "source": [
        "class Calculadora:                     # clase padre\n",
        "    def __init__(self, numero):\n",
        "        self.n = numero                # número de datos que intervienen en la operación\n",
        "        self.datos = [0 for i in range(numero)]\n",
        "    def ingresardato(self):\n",
        "        self.datos = [int(input('Ingresar dato ' + str(i+1) + ' = ')) for i in range(self.n)]\n",
        "        \n",
        "class OperacionesBasicas(Calculadora): # clase hija \n",
        "    def __init__(self):                # sobrescribimos el método constructor\n",
        "        Calculadora.__init__(self, 2)  # podríamos poner la función super() y quitar el self\n",
        "    def suma(self):\n",
        "        a,b, = self.datos\n",
        "        return a + b\n",
        "    def resta(self):\n",
        "        a,b, = self.datos\n",
        "        return a - b\n",
        "    \n",
        "class Raiz(Calculadora):               # otra clase hija\n",
        "    def __init__(self):                # sobrescribimos el método constructor\n",
        "        super().__init__(1)            # aquí si trabajamos con la función super() y hemos quitado el self       \n",
        "    def cuadrada(self):\n",
        "        a, = self.datos\n",
        "        return a**.5\n",
        "    \n",
        "caso1 = OperacionesBasicas()           # instanciamos un objeto de la clase OperacionesBasicas que necesita 2 argumentos\n",
        "caso2 = Raiz()                         # instanciamos un objeto de la clase Raiz que solo usa un argumento"
      ]
    },
    {
      "cell_type": "code",
      "execution_count": null,
      "metadata": {
        "id": "vjSH2AHTUlwx",
        "outputId": "0b6dab81-58fa-4058-d9a5-34040b77348e",
        "colab": {
          "base_uri": "https://localhost:8080/"
        }
      },
      "outputs": [
        {
          "name": "stdout",
          "output_type": "stream",
          "text": [
            "Ingresar dato 1 = 12\n",
            "Ingresar dato 2 = 4\n"
          ]
        }
      ],
      "source": [
        "caso1.ingresardato()                   # invocamos este método que nos pedirá dos datos por ser de la clase OpBasicas"
      ]
    },
    {
      "cell_type": "code",
      "execution_count": null,
      "metadata": {
        "id": "O5jcEAxWUlwy",
        "outputId": "66699d8f-56a0-4ef5-a843-feb26e7eab99",
        "colab": {
          "base_uri": "https://localhost:8080/"
        }
      },
      "outputs": [
        {
          "output_type": "execute_result",
          "data": {
            "text/plain": [
              "16"
            ]
          },
          "metadata": {},
          "execution_count": 4
        }
      ],
      "source": [
        "caso1.suma()                           # invocamos el método suma y sumamos los dos datos"
      ]
    },
    {
      "cell_type": "code",
      "execution_count": null,
      "metadata": {
        "id": "abzIhZuWUlwz",
        "outputId": "8946c276-d07d-46ed-8ed1-f92da791e06c",
        "colab": {
          "base_uri": "https://localhost:8080/"
        }
      },
      "outputs": [
        {
          "output_type": "execute_result",
          "data": {
            "text/plain": [
              "8"
            ]
          },
          "metadata": {},
          "execution_count": 5
        }
      ],
      "source": [
        "caso1.resta()                          # invocamos el método resta"
      ]
    },
    {
      "cell_type": "code",
      "execution_count": null,
      "metadata": {
        "id": "bCwo4SJpUlw0",
        "outputId": "f351518b-17a2-4415-935a-a58e2880384b",
        "colab": {
          "base_uri": "https://localhost:8080/"
        }
      },
      "outputs": [
        {
          "name": "stdout",
          "output_type": "stream",
          "text": [
            "Ingresar dato 1 = 16\n"
          ]
        }
      ],
      "source": [
        "caso2.ingresardato()                   # invocamos este método que nos pedirá 1 dato por ser de la clase Raiz"
      ]
    },
    {
      "cell_type": "code",
      "execution_count": null,
      "metadata": {
        "id": "xhUFBwJfUlw1",
        "outputId": "2bd2d4b3-b15f-4619-be21-5921fb9480fa",
        "colab": {
          "base_uri": "https://localhost:8080/"
        }
      },
      "outputs": [
        {
          "output_type": "execute_result",
          "data": {
            "text/plain": [
              "4.0"
            ]
          },
          "metadata": {},
          "execution_count": 7
        }
      ],
      "source": [
        "caso2.cuadrada()                       # invocamos el método cuadrada que usa 1 dato y hace la raíz cuadrada"
      ]
    },
    {
      "cell_type": "markdown",
      "metadata": {
        "id": "DfzGFDqzUlw2"
      },
      "source": [
        "### ```isinstance(objeto, clase)```\n",
        "Retorna True o False según que el objeto pertenezca o no a cierta clase."
      ]
    },
    {
      "cell_type": "code",
      "execution_count": null,
      "metadata": {
        "id": "CM7NxbJlUlw3",
        "outputId": "da3bc463-d8c5-48c6-f93c-4a6cab293eaa"
      },
      "outputs": [
        {
          "data": {
            "text/plain": [
              "True"
            ]
          },
          "execution_count": 10,
          "metadata": {},
          "output_type": "execute_result"
        }
      ],
      "source": [
        "isinstance(caso1, OperacionesBasicas)"
      ]
    },
    {
      "cell_type": "code",
      "execution_count": null,
      "metadata": {
        "id": "6xjPWCRgUlw4",
        "outputId": "4148f97c-b574-42d7-d361-9c12238a0112"
      },
      "outputs": [
        {
          "data": {
            "text/plain": [
              "True"
            ]
          },
          "execution_count": 11,
          "metadata": {},
          "output_type": "execute_result"
        }
      ],
      "source": [
        "isinstance(caso1, Calculadora)"
      ]
    },
    {
      "cell_type": "code",
      "execution_count": null,
      "metadata": {
        "id": "olsvMNaCUlw5",
        "outputId": "69dd49c1-de3a-46dc-ab4a-76c3be1ece49"
      },
      "outputs": [
        {
          "data": {
            "text/plain": [
              "False"
            ]
          },
          "execution_count": 12,
          "metadata": {},
          "output_type": "execute_result"
        }
      ],
      "source": [
        "isinstance(caso1, Raiz)"
      ]
    },
    {
      "cell_type": "markdown",
      "metadata": {
        "id": "ehGWlJjQUlw5"
      },
      "source": [
        "### ```issubclass(Subclase, Clase)```\n",
        "Retorna True si la subclase hereda de la clase indicadas, en ese orden."
      ]
    },
    {
      "cell_type": "code",
      "execution_count": null,
      "metadata": {
        "id": "EyObj2pdUlw6",
        "outputId": "b2d38d14-511d-421d-ae1a-1e1173f4cb3c"
      },
      "outputs": [
        {
          "data": {
            "text/plain": [
              "True"
            ]
          },
          "execution_count": 13,
          "metadata": {},
          "output_type": "execute_result"
        }
      ],
      "source": [
        "issubclass(Raiz, Calculadora)              # True. Raiz si es subclase de Calculadora"
      ]
    },
    {
      "cell_type": "code",
      "execution_count": null,
      "metadata": {
        "id": "AVq9o0KyUlw6",
        "outputId": "2815ed33-0dbe-4b93-8b0e-a408f0c80048"
      },
      "outputs": [
        {
          "data": {
            "text/plain": [
              "False"
            ]
          },
          "execution_count": 14,
          "metadata": {},
          "output_type": "execute_result"
        }
      ],
      "source": [
        "issubclass(Raiz, OperacionesBasicas)       # False. Raiz no es subclase de OperacionesBasicas"
      ]
    }
  ],
  "metadata": {
    "kernelspec": {
      "display_name": "Python 3",
      "language": "python",
      "name": "python3"
    },
    "language_info": {
      "codemirror_mode": {
        "name": "ipython",
        "version": 3
      },
      "file_extension": ".py",
      "mimetype": "text/x-python",
      "name": "python",
      "nbconvert_exporter": "python",
      "pygments_lexer": "ipython3",
      "version": "3.8.5"
    },
    "colab": {
      "name": "0290_super_isinstance_issubclass.ipynb",
      "provenance": [],
      "include_colab_link": true
    }
  },
  "nbformat": 4,
  "nbformat_minor": 0
}
