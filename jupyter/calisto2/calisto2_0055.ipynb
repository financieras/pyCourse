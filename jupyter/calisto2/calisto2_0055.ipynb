{
  "nbformat": 4,
  "nbformat_minor": 0,
  "metadata": {
    "colab": {
      "provenance": [],
      "authorship_tag": "ABX9TyN21+aUUaUiTe5VNtd/AbGR",
      "include_colab_link": true
    },
    "kernelspec": {
      "name": "python3",
      "display_name": "Python 3"
    },
    "language_info": {
      "name": "python"
    }
  },
  "cells": [
    {
      "cell_type": "markdown",
      "metadata": {
        "id": "view-in-github",
        "colab_type": "text"
      },
      "source": [
        "<a href=\"https://colab.research.google.com/github/financieras/pyCourse/blob/main/jupyter/calisto2/calisto2_0055.ipynb\" target=\"_parent\"><img src=\"https://colab.research.google.com/assets/colab-badge.svg\" alt=\"Open In Colab\"/></a>"
      ]
    },
    {
      "cell_type": "markdown",
      "source": [
        "# Ejemplo: Coffee Shop\n",
        "Nos piden que digamos qué presupuesto tenemos para la adquisición de un café y en función de él nos ofrecen varios tipos de varios precios y nos dicen cuánto sobra en cada caso."
      ],
      "metadata": {
        "id": "mF_A5wbYFG7z"
      }
    },
    {
      "cell_type": "code",
      "execution_count": 2,
      "metadata": {
        "colab": {
          "base_uri": "https://localhost:8080/"
        },
        "id": "8RHFiRvj-o5L",
        "outputId": "52f582a6-5f74-438a-ce5b-2dd2e07db90b"
      },
      "outputs": [
        {
          "name": "stdout",
          "output_type": "stream",
          "text": [
            "What is your budget? 1.2\n"
          ]
        }
      ],
      "source": [
        "# https://kinsta.com/es/blog/programacion-orientada-objetos-python/\n",
        "\n",
        "class Coffee:\n",
        "    # Constructor\n",
        "    def __init__(self, name, price):\n",
        "        self.name = name\n",
        "        self.price = float(price)\n",
        "    def check_budget(self, budget):\n",
        "        # Check if the budget is valid\n",
        "        if not isinstance(budget, (int, float)):\n",
        "            print('Enter float or int')\n",
        "            exit()\n",
        "        if budget < 0: \n",
        "            print('Sorry you don\\'t have money') \n",
        "            exit() \n",
        "    def get_change(self, budget):\n",
        "        return budget - self.price\n",
        "    \n",
        "    def sell(self, budget):\n",
        "        self.check_budget(budget)\n",
        "        if budget >= self.price:\n",
        "            print(f'You can buy the {self.name} coffee')\n",
        "            if budget == self.price:\n",
        "                print('It\\'s complete')\n",
        "            else:\n",
        "                print(f'Here is your change {self.get_change(budget)}$')\n",
        "\n",
        "            exit('Thanks for your transaction')\n",
        "\n",
        "if __name__ == \"__main__\":\n",
        "    small = Coffee('Small', 2)\n",
        "    regular = Coffee('Regular', 5)\n",
        "    big = Coffee('Big', 6)\n",
        "    \n",
        "    try:\n",
        "        user_budget = float(input('What is your budget? '))\n",
        "    except ValueError:\n",
        "        exit('Please enter a number')\n",
        "    \n",
        "    for coffee in [big, regular, small]:\n",
        "        coffee.sell(user_budget)\n",
        "    \n",
        "    #e = Coffee(\"espresso\", 5.40)\n",
        "    #e.sell(100)"
      ]
    }
  ]
}