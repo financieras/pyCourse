{
  "nbformat": 4,
  "nbformat_minor": 0,
  "metadata": {
    "colab": {
      "name": "0340_setattr_getattr_hasattr_delattr.ipynb",
      "provenance": [],
      "authorship_tag": "ABX9TyNtg5NLjRBOnezSaFPBaT+X",
      "include_colab_link": true
    },
    "kernelspec": {
      "name": "python3",
      "display_name": "Python 3"
    },
    "language_info": {
      "name": "python"
    }
  },
  "cells": [
    {
      "cell_type": "markdown",
      "metadata": {
        "id": "view-in-github",
        "colab_type": "text"
      },
      "source": [
        "<a href=\"https://colab.research.google.com/github/financieras/pyCourse/blob/main/jupyter/calisto2/0340_setattr_getattr_hasattr_delattr.ipynb\" target=\"_parent\"><img src=\"https://colab.research.google.com/assets/colab-badge.svg\" alt=\"Open In Colab\"/></a>"
      ]
    },
    {
      "cell_type": "markdown",
      "metadata": {
        "id": "1a198045"
      },
      "source": [
        "# Funciones internas setattr, getattr, hasattr, delattr\n",
        "\n",
        "[Documentación sobre funciones integradas (Built-in Functions)](https://docs.python.org/3/library/functions.html)"
      ]
    },
    {
      "cell_type": "markdown",
      "metadata": {
        "id": "91a83508"
      },
      "source": [
        "## getattr\n",
        "Permite obtener el valor de un atributo, o si no existe se obtiene un valor por defecto.\n",
        "\n",
        "Sintaxis:  \n",
        "* getattr(objeto, 'nombre_atributo'[, valor por defecto])  \n",
        "el valor por defecto es optativo."
      ]
    },
    {
      "cell_type": "code",
      "execution_count": 1,
      "metadata": {
        "id": "dad7c6d4",
        "outputId": "fc11fcba-6583-4380-82b4-daae153dcc7d",
        "colab": {
          "base_uri": "https://localhost:8080/"
        }
      },
      "outputs": [
        {
          "output_type": "execute_result",
          "data": {
            "text/plain": [
              "6"
            ]
          },
          "metadata": {},
          "execution_count": 1
        }
      ],
      "source": [
        "class PuntoVenta:       # Un pequeño punto de venta\n",
        "    empleados = 1       # Todas las instancias inicialmente nacen con 1 empleado\n",
        "    cafetera = True     # Todos los objetos nacen con cafetera\n",
        "    mesas = 6           # La dotación inicial es de 6 mesas\n",
        "    terraza = False     # Estos pequeños puntos de venta inicialmente no tienen terraza\n",
        "\n",
        "pv1 = PuntoVenta()      # creamos el punto de venta pv1 poniendo paréntesis\n",
        "pv2 = PuntoVenta        # creamos el punto de venta pv2 sin poner paréntesis\n",
        "pv1.mesas               # poniendo objeto.atributo accedemos al atributo"
      ]
    },
    {
      "cell_type": "code",
      "execution_count": 2,
      "metadata": {
        "id": "64a244ad",
        "outputId": "325e31be-2853-4155-bdb4-4b55ca08c021",
        "colab": {
          "base_uri": "https://localhost:8080/"
        }
      },
      "outputs": [
        {
          "output_type": "execute_result",
          "data": {
            "text/plain": [
              "6"
            ]
          },
          "metadata": {},
          "execution_count": 2
        }
      ],
      "source": [
        "getattr(pv1,'mesas',4)   # con getattr tb accedemos al atributo, el valor por defecto 4 no actúa, pq existe mesas"
      ]
    },
    {
      "cell_type": "code",
      "execution_count": 3,
      "metadata": {
        "id": "16cae771",
        "outputId": "8afe1ab1-7c16-4a1d-fe33-c7a2fe904deb",
        "colab": {
          "base_uri": "https://localhost:8080/"
        }
      },
      "outputs": [
        {
          "output_type": "execute_result",
          "data": {
            "text/plain": [
              "24"
            ]
          },
          "metadata": {},
          "execution_count": 3
        }
      ],
      "source": [
        "# si no hay atributo sillas, queremos que aparezca en la dotación del Puno de venta que hay 4 sillas por mesa\n",
        "getattr(pv1,'sillas', 4*pv1.mesas) # aquí si actúa el valor por defecto porque no existe el atributo sillas"
      ]
    },
    {
      "cell_type": "markdown",
      "metadata": {
        "id": "5fb484f2"
      },
      "source": [
        "## setattr\n",
        "Permite establecer el valor de un atributo.\n",
        "\n",
        "Sintaxis:  \n",
        "* setattr(objeto, 'nombre del atributo', valor)"
      ]
    },
    {
      "cell_type": "code",
      "execution_count": 4,
      "metadata": {
        "id": "95df8289",
        "outputId": "383a4c0e-d35b-42a1-952a-7ae638b62330",
        "colab": {
          "base_uri": "https://localhost:8080/"
        }
      },
      "outputs": [
        {
          "output_type": "execute_result",
          "data": {
            "text/plain": [
              "8"
            ]
          },
          "metadata": {},
          "execution_count": 4
        }
      ],
      "source": [
        "setattr(pv1, \"mesas\", 8) # establecemos el valor de un atributo\n",
        "pv1.mesas                # antes había 6 mesas y ahora hay 8 mesas"
      ]
    },
    {
      "cell_type": "markdown",
      "metadata": {
        "id": "7bba7e48"
      },
      "source": [
        "## hasattr\n",
        "Permite comprobar si el objeto tiene el atributo presente o no. Devuelve verdadero si el objeto tiene el atributo indicado y falso si no lo tiene.\n",
        "\n",
        "Sintaxis:\n",
        "* hasattr(objeto, 'nombre del atributo')"
      ]
    },
    {
      "cell_type": "code",
      "execution_count": 5,
      "metadata": {
        "id": "4a1d6bde",
        "outputId": "ad473fd0-431e-4ce7-abd4-e4df939590c1",
        "colab": {
          "base_uri": "https://localhost:8080/"
        }
      },
      "outputs": [
        {
          "output_type": "stream",
          "name": "stdout",
          "text": [
            "¿El punto de venta tiene mesas? True\n"
          ]
        }
      ],
      "source": [
        "print('¿El punto de venta tiene mesas?', hasattr(pv1, \"mesas\"))"
      ]
    },
    {
      "cell_type": "code",
      "execution_count": 6,
      "metadata": {
        "id": "d77c502b",
        "outputId": "4bc5297c-606b-446b-9985-91c3e2e88090",
        "colab": {
          "base_uri": "https://localhost:8080/"
        }
      },
      "outputs": [
        {
          "output_type": "stream",
          "name": "stdout",
          "text": [
            "¿El punto de venta tiene cafetera? True\n"
          ]
        }
      ],
      "source": [
        "print('¿El punto de venta tiene cafetera?', hasattr(pv1, \"cafetera\"))"
      ]
    },
    {
      "cell_type": "code",
      "execution_count": 7,
      "metadata": {
        "id": "1a68cdf1",
        "outputId": "880a9ebc-06f1-4ea1-e678-9cb423691f88",
        "colab": {
          "base_uri": "https://localhost:8080/"
        }
      },
      "outputs": [
        {
          "output_type": "stream",
          "name": "stdout",
          "text": [
            "¿El punto de venta tiene terraza? True\n"
          ]
        }
      ],
      "source": [
        "print('¿El punto de venta tiene terraza?', hasattr(pv1, \"terraza\"))  # OJO. El punto de venta no tiene terraza."
      ]
    },
    {
      "cell_type": "code",
      "execution_count": 8,
      "metadata": {
        "id": "451c2ee1",
        "outputId": "acd58ed5-dffc-4bf5-f678-15f60d969dfc",
        "colab": {
          "base_uri": "https://localhost:8080/"
        }
      },
      "outputs": [
        {
          "output_type": "stream",
          "name": "stdout",
          "text": [
            "¿El punto de venta tiene aseo? False\n"
          ]
        }
      ],
      "source": [
        "print('¿El punto de venta tiene aseo?', hasattr(pv1, \"aseo\"))"
      ]
    },
    {
      "cell_type": "markdown",
      "metadata": {
        "id": "0ec642fb"
      },
      "source": [
        "## delattr\n",
        "Elimina un atributo del objeto.\n",
        "\n",
        "Sintaxis:\n",
        "* delattr(clase, 'nombre de atributo')\n",
        "\n",
        "OJO: se ha de poner la clase, no el objeto"
      ]
    },
    {
      "cell_type": "code",
      "execution_count": 9,
      "metadata": {
        "id": "59555ca0",
        "outputId": "d7357af3-8527-4f25-97fd-c99468cfcf76",
        "colab": {
          "base_uri": "https://localhost:8080/"
        }
      },
      "outputs": [
        {
          "output_type": "execute_result",
          "data": {
            "text/plain": [
              "True"
            ]
          },
          "metadata": {},
          "execution_count": 9
        }
      ],
      "source": [
        "pv1.cafetera"
      ]
    },
    {
      "cell_type": "code",
      "execution_count": 10,
      "metadata": {
        "id": "16ffc8bd"
      },
      "outputs": [],
      "source": [
        "delattr(PuntoVenta, 'cafetera')  # elimina el atributo"
      ]
    },
    {
      "cell_type": "code",
      "execution_count": 11,
      "metadata": {
        "id": "1236b04c",
        "outputId": "c72f8944-515e-40b5-a0cc-42e89d8f0a59",
        "colab": {
          "base_uri": "https://localhost:8080/"
        }
      },
      "outputs": [
        {
          "output_type": "execute_result",
          "data": {
            "text/plain": [
              "['__class__',\n",
              " '__delattr__',\n",
              " '__dict__',\n",
              " '__dir__',\n",
              " '__doc__',\n",
              " '__eq__',\n",
              " '__format__',\n",
              " '__ge__',\n",
              " '__getattribute__',\n",
              " '__gt__',\n",
              " '__hash__',\n",
              " '__init__',\n",
              " '__init_subclass__',\n",
              " '__le__',\n",
              " '__lt__',\n",
              " '__module__',\n",
              " '__ne__',\n",
              " '__new__',\n",
              " '__reduce__',\n",
              " '__reduce_ex__',\n",
              " '__repr__',\n",
              " '__setattr__',\n",
              " '__sizeof__',\n",
              " '__str__',\n",
              " '__subclasshook__',\n",
              " '__weakref__',\n",
              " 'empleados',\n",
              " 'mesas',\n",
              " 'terraza']"
            ]
          },
          "metadata": {},
          "execution_count": 11
        }
      ],
      "source": [
        "dir(pv1)            # podemos comprobar que nuestro objeto no tiene el atributo cafetera"
      ]
    },
    {
      "cell_type": "code",
      "execution_count": 12,
      "metadata": {
        "id": "caea231a",
        "outputId": "3b5120e1-9024-4524-86e4-d8605a339fbe",
        "colab": {
          "base_uri": "https://localhost:8080/"
        }
      },
      "outputs": [
        {
          "output_type": "execute_result",
          "data": {
            "text/plain": [
              "['__class__',\n",
              " '__delattr__',\n",
              " '__dict__',\n",
              " '__dir__',\n",
              " '__doc__',\n",
              " '__eq__',\n",
              " '__format__',\n",
              " '__ge__',\n",
              " '__getattribute__',\n",
              " '__gt__',\n",
              " '__hash__',\n",
              " '__init__',\n",
              " '__init_subclass__',\n",
              " '__le__',\n",
              " '__lt__',\n",
              " '__module__',\n",
              " '__ne__',\n",
              " '__new__',\n",
              " '__reduce__',\n",
              " '__reduce_ex__',\n",
              " '__repr__',\n",
              " '__setattr__',\n",
              " '__sizeof__',\n",
              " '__str__',\n",
              " '__subclasshook__',\n",
              " '__weakref__',\n",
              " 'empleados',\n",
              " 'mesas',\n",
              " 'terraza']"
            ]
          },
          "metadata": {},
          "execution_count": 12
        }
      ],
      "source": [
        "dir(pv2)            # podemos comprobar que pv2 tampoco tiene el atributo cafetera"
      ]
    },
    {
      "cell_type": "code",
      "execution_count": 13,
      "metadata": {
        "id": "df889f7a",
        "outputId": "66f18bd4-7fa6-488c-d935-b212f32b8c3c",
        "colab": {
          "base_uri": "https://localhost:8080/"
        }
      },
      "outputs": [
        {
          "output_type": "execute_result",
          "data": {
            "text/plain": [
              "mappingproxy({'__module__': '__main__',\n",
              "              'empleados': 1,\n",
              "              'mesas': 6,\n",
              "              'terraza': False,\n",
              "              '__dict__': <attribute '__dict__' of 'PuntoVenta' objects>,\n",
              "              '__weakref__': <attribute '__weakref__' of 'PuntoVenta' objects>,\n",
              "              '__doc__': None})"
            ]
          },
          "metadata": {},
          "execution_count": 13
        }
      ],
      "source": [
        "PuntoVenta.__dict__     # nos proporciona información de la clase, vemos que no hay cafetera"
      ]
    }
  ]
}