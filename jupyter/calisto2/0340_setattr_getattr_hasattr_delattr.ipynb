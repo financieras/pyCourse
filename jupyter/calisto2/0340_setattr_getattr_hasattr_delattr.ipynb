{
  "nbformat": 4,
  "nbformat_minor": 0,
  "metadata": {
    "colab": {
      "name": "0340_setattr_getattr_hasattr_delattr.ipynb",
      "provenance": [],
      "authorship_tag": "ABX9TyOyPI0BXs8wFbP3DoGVE9ox",
      "include_colab_link": true
    },
    "kernelspec": {
      "name": "python3",
      "display_name": "Python 3"
    },
    "language_info": {
      "name": "python"
    }
  },
  "cells": [
    {
      "cell_type": "markdown",
      "metadata": {
        "id": "view-in-github",
        "colab_type": "text"
      },
      "source": [
        "<a href=\"https://colab.research.google.com/github/financieras/pyCourse/blob/main/jupyter/calisto2/calisto2_0340.ipynb\" target=\"_parent\"><img src=\"https://colab.research.google.com/assets/colab-badge.svg\" alt=\"Open In Colab\"/></a>"
      ]
    },
    {
      "cell_type": "markdown",
      "metadata": {
        "id": "1a198045"
      },
      "source": [
        "# Funciones internas setattr, getattr, hasattr, delattr\n",
        "\n",
        "[Documentación sobre funciones integradas (Built-in Functions)](https://docs.python.org/3/library/functions.html)"
      ]
    },
    {
      "cell_type": "markdown",
      "metadata": {
        "id": "91a83508"
      },
      "source": [
        "## getattr\n",
        "Permite obtener el valor de un atributo, o si no existe se obtiene un valor por defecto.\n",
        "\n",
        "Sintaxis:  \n",
        "* getattr(objeto, 'nombre_atributo'[, valor por defecto])  \n",
        "el valor por defecto es optativo."
      ]
    },
    {
      "cell_type": "code",
      "execution_count": null,
      "metadata": {
        "id": "dad7c6d4",
        "outputId": "d2f347a3-9648-4de4-e14b-05678ecf192c"
      },
      "outputs": [
        {
          "data": {
            "text/plain": [
              "6"
            ]
          },
          "execution_count": 1,
          "metadata": {},
          "output_type": "execute_result"
        }
      ],
      "source": [
        "class PuntoVenta:       # Un pequeño punto de venta\n",
        "    empleados = 1       # Todas las instancias inicialmente nacen con 1 empleado\n",
        "    cafetera = True     # Todos los objetos nacen con cafetera\n",
        "    mesas = 6           # La dotación inicial es de 6 mesas\n",
        "    terraza = False     # Estos pequeños puntos de venta inicialmente no tienen terraza\n",
        "\n",
        "pv1 = PuntoVenta()      # creamos el punto de venta pv1 poniendo paréntesis\n",
        "pv2 = PuntoVenta        # creamos el punto de venta pv2 sin poner paréntesis\n",
        "pv1.mesas               # poniendo objeto.atributo accedemos al atributo"
      ]
    },
    {
      "cell_type": "code",
      "execution_count": null,
      "metadata": {
        "id": "64a244ad",
        "outputId": "48ab796a-1365-46bd-daff-46f1bea0ab25"
      },
      "outputs": [
        {
          "data": {
            "text/plain": [
              "6"
            ]
          },
          "execution_count": 2,
          "metadata": {},
          "output_type": "execute_result"
        }
      ],
      "source": [
        "getattr(pv1,'mesas',4)   # con getattr tb accedemos al atributo, el valor por defecto 4 no actúa, pq existe mesas"
      ]
    },
    {
      "cell_type": "code",
      "execution_count": null,
      "metadata": {
        "id": "16cae771",
        "outputId": "c5683423-492c-424d-d8b6-0b36174f4774"
      },
      "outputs": [
        {
          "data": {
            "text/plain": [
              "24"
            ]
          },
          "execution_count": 3,
          "metadata": {},
          "output_type": "execute_result"
        }
      ],
      "source": [
        "# si no hay atributo sillas, queremos que aparezca en la dotación del Puno de venta que hay 4 sillas por mesa\n",
        "getattr(pv1,'sillas', 4*pv1.mesas) # aquí si actúa el valor por defecto porque no existe el atributo sillas"
      ]
    },
    {
      "cell_type": "markdown",
      "metadata": {
        "id": "5fb484f2"
      },
      "source": [
        "## setattr\n",
        "Permite establecer el valor de un atributo.\n",
        "\n",
        "Sintaxis:  \n",
        "* setattr(objeto, 'nombre del atributo', valor)"
      ]
    },
    {
      "cell_type": "code",
      "execution_count": null,
      "metadata": {
        "id": "95df8289",
        "outputId": "2c326c64-6fc6-4b34-e86c-6c4e35b40bc6"
      },
      "outputs": [
        {
          "data": {
            "text/plain": [
              "8"
            ]
          },
          "execution_count": 4,
          "metadata": {},
          "output_type": "execute_result"
        }
      ],
      "source": [
        "setattr(pv1, \"mesas\", 8) # establecemos el valor de un atributo\n",
        "pv1.mesas                # antes había 6 mesas y ahora hay 8 mesas"
      ]
    },
    {
      "cell_type": "markdown",
      "metadata": {
        "id": "7bba7e48"
      },
      "source": [
        "## hasattr\n",
        "Permite comprobar si el objeto tiene el atributo presente o no. Devuelve verdadero si el objeto tiene el atributo indicado y falso si no lo tiene.\n",
        "\n",
        "Sintaxis:\n",
        "* hasattr(objeto, 'nombre del atributo') "
      ]
    },
    {
      "cell_type": "code",
      "execution_count": null,
      "metadata": {
        "id": "4a1d6bde",
        "outputId": "cef6005b-c7be-4e87-e0c0-ecb703572f21"
      },
      "outputs": [
        {
          "name": "stdout",
          "output_type": "stream",
          "text": [
            "¿El punto de venta tiene mesas? True\n"
          ]
        }
      ],
      "source": [
        "print('¿El punto de venta tiene mesas?', hasattr(pv1, \"mesas\"))"
      ]
    },
    {
      "cell_type": "code",
      "execution_count": null,
      "metadata": {
        "id": "d77c502b",
        "outputId": "00f2b4ca-3949-4578-f238-314eac8239be"
      },
      "outputs": [
        {
          "name": "stdout",
          "output_type": "stream",
          "text": [
            "¿El punto de venta tiene cafetera? True\n"
          ]
        }
      ],
      "source": [
        "print('¿El punto de venta tiene cafetera?', hasattr(pv1, \"cafetera\"))"
      ]
    },
    {
      "cell_type": "code",
      "execution_count": null,
      "metadata": {
        "id": "1a68cdf1",
        "outputId": "f4464bac-e16e-48d3-ee52-461a045bbef6"
      },
      "outputs": [
        {
          "name": "stdout",
          "output_type": "stream",
          "text": [
            "¿El punto de venta tiene terraza? True\n"
          ]
        }
      ],
      "source": [
        "print('¿El punto de venta tiene terraza?', hasattr(pv1, \"terraza\"))  # OJO. El punto de venta no tiene terraza."
      ]
    },
    {
      "cell_type": "code",
      "execution_count": null,
      "metadata": {
        "id": "451c2ee1",
        "outputId": "0b75a8bf-d508-4df3-c522-46842fd879ed"
      },
      "outputs": [
        {
          "name": "stdout",
          "output_type": "stream",
          "text": [
            "¿El punto de venta tiene aseo? False\n"
          ]
        }
      ],
      "source": [
        "print('¿El punto de venta tiene aseo?', hasattr(pv1, \"aseo\"))"
      ]
    },
    {
      "cell_type": "markdown",
      "metadata": {
        "id": "0ec642fb"
      },
      "source": [
        "## delattr\n",
        "Elimina un atributo del objeto.\n",
        "\n",
        "Sintaxis:\n",
        "* delattr(clase, 'nombre de atributo')\n",
        "\n",
        "OJO: se ha de poner la clase, no el objeto"
      ]
    },
    {
      "cell_type": "code",
      "execution_count": null,
      "metadata": {
        "id": "59555ca0",
        "outputId": "88cdff5e-73d0-4dfd-8137-e4a2549a3f58"
      },
      "outputs": [
        {
          "data": {
            "text/plain": [
              "True"
            ]
          },
          "execution_count": 9,
          "metadata": {},
          "output_type": "execute_result"
        }
      ],
      "source": [
        "pv1.cafetera"
      ]
    },
    {
      "cell_type": "code",
      "execution_count": null,
      "metadata": {
        "id": "16ffc8bd"
      },
      "outputs": [],
      "source": [
        "delattr(PuntoVenta, 'cafetera')  # elimina el atributo"
      ]
    },
    {
      "cell_type": "code",
      "execution_count": null,
      "metadata": {
        "id": "1236b04c",
        "outputId": "1599dc56-f85a-423d-e6a7-87e937d62dfc"
      },
      "outputs": [
        {
          "data": {
            "text/plain": [
              "['__class__',\n",
              " '__delattr__',\n",
              " '__dict__',\n",
              " '__dir__',\n",
              " '__doc__',\n",
              " '__eq__',\n",
              " '__format__',\n",
              " '__ge__',\n",
              " '__getattribute__',\n",
              " '__gt__',\n",
              " '__hash__',\n",
              " '__init__',\n",
              " '__init_subclass__',\n",
              " '__le__',\n",
              " '__lt__',\n",
              " '__module__',\n",
              " '__ne__',\n",
              " '__new__',\n",
              " '__reduce__',\n",
              " '__reduce_ex__',\n",
              " '__repr__',\n",
              " '__setattr__',\n",
              " '__sizeof__',\n",
              " '__str__',\n",
              " '__subclasshook__',\n",
              " '__weakref__',\n",
              " 'empleados',\n",
              " 'mesas',\n",
              " 'terraza']"
            ]
          },
          "execution_count": 11,
          "metadata": {},
          "output_type": "execute_result"
        }
      ],
      "source": [
        "dir(pv1)            # podemos comprobar que nuestro objeto no tiene el atributo cafetera"
      ]
    },
    {
      "cell_type": "code",
      "execution_count": null,
      "metadata": {
        "id": "caea231a",
        "outputId": "09a06364-a8ac-4362-f69d-78bab3470697"
      },
      "outputs": [
        {
          "data": {
            "text/plain": [
              "['__class__',\n",
              " '__delattr__',\n",
              " '__dict__',\n",
              " '__dir__',\n",
              " '__doc__',\n",
              " '__eq__',\n",
              " '__format__',\n",
              " '__ge__',\n",
              " '__getattribute__',\n",
              " '__gt__',\n",
              " '__hash__',\n",
              " '__init__',\n",
              " '__init_subclass__',\n",
              " '__le__',\n",
              " '__lt__',\n",
              " '__module__',\n",
              " '__ne__',\n",
              " '__new__',\n",
              " '__reduce__',\n",
              " '__reduce_ex__',\n",
              " '__repr__',\n",
              " '__setattr__',\n",
              " '__sizeof__',\n",
              " '__str__',\n",
              " '__subclasshook__',\n",
              " '__weakref__',\n",
              " 'empleados',\n",
              " 'mesas',\n",
              " 'terraza']"
            ]
          },
          "execution_count": 12,
          "metadata": {},
          "output_type": "execute_result"
        }
      ],
      "source": [
        "dir(pv2)            # podemos comprobar que pv2 tampoco tiene el atributo cafetera"
      ]
    },
    {
      "cell_type": "code",
      "execution_count": null,
      "metadata": {
        "id": "df889f7a",
        "outputId": "2dc96c48-5ee8-4b32-ced5-f2ffa97fc561"
      },
      "outputs": [
        {
          "data": {
            "text/plain": [
              "mappingproxy({'__module__': '__main__',\n",
              "              'empleados': 1,\n",
              "              'mesas': 6,\n",
              "              'terraza': False,\n",
              "              '__dict__': <attribute '__dict__' of 'PuntoVenta' objects>,\n",
              "              '__weakref__': <attribute '__weakref__' of 'PuntoVenta' objects>,\n",
              "              '__doc__': None})"
            ]
          },
          "execution_count": 13,
          "metadata": {},
          "output_type": "execute_result"
        }
      ],
      "source": [
        "PuntoVenta.__dict__     # nos proporciona información de la clase, vemos que no hay cafetera"
      ]
    }
  ]
}
