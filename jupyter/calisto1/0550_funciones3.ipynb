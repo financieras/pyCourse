{
  "cells": [
    {
      "cell_type": "markdown",
      "metadata": {
        "id": "view-in-github",
        "colab_type": "text"
      },
      "source": [
        "<a href=\"https://colab.research.google.com/github/financieras/pyCourse/blob/main/jupyter/calisto1/0550_funciones3.ipynb\" target=\"_parent\"><img src=\"https://colab.research.google.com/assets/colab-badge.svg\" alt=\"Open In Colab\"/></a>"
      ]
    },
    {
      "cell_type": "markdown",
      "metadata": {
        "id": "AE4hWXhmEHt_"
      },
      "source": [
        "# Introducción a las funciones [3]"
      ]
    },
    {
      "cell_type": "markdown",
      "metadata": {
        "id": "trMyqIZ8EHuB"
      },
      "source": [
        "## Pass\n",
        "Una función no puede estar vacía."
      ]
    },
    {
      "cell_type": "code",
      "execution_count": 1,
      "metadata": {
        "id": "uddnbxFgEHuC"
      },
      "outputs": [],
      "source": [
        "def mi_funcion():\n",
        "    pass"
      ]
    },
    {
      "cell_type": "markdown",
      "metadata": {
        "id": "91ySidWHEHuD"
      },
      "source": [
        "## Ámbito de las funciones\n",
        "* Las variables creadas dentro de una función tienen ámbito local y no se reconocen fuera de la función.\n",
        "* Las variables locales mueren al terminar la función."
      ]
    },
    {
      "cell_type": "markdown",
      "metadata": {
        "id": "uHjmTSvQEHuD"
      },
      "source": [
        "### Variable de ámbito local"
      ]
    },
    {
      "cell_type": "code",
      "execution_count": 2,
      "metadata": {
        "id": "6q08MMDKEHuE",
        "outputId": "40367b21-6bb9-40c7-f440-0d6148032244",
        "colab": {
          "base_uri": "https://localhost:8080/"
        }
      },
      "outputs": [
        {
          "output_type": "execute_result",
          "data": {
            "text/plain": [
              "2.0"
            ]
          },
          "metadata": {},
          "execution_count": 2
        }
      ],
      "source": [
        "def mitad_de_cuatro():        # función de prueba que crea la variable local numero\n",
        "    numero = 4\n",
        "    return numero/2\n",
        "\n",
        "mitad_de_cuatro()"
      ]
    },
    {
      "cell_type": "code",
      "execution_count": 3,
      "metadata": {
        "id": "T1v1SbtjEHuE"
      },
      "outputs": [],
      "source": [
        "#print(numero)                 # nos dará un error:  NameError: name 'numero' is not defined"
      ]
    },
    {
      "cell_type": "markdown",
      "metadata": {
        "id": "MB9aZL0rEHuF"
      },
      "source": [
        "### Variable de ámbito global\n",
        "Si declaramos una variable fuera de la función si será reconocida dentro de la función. Diremos que esta variable tiene ámbito global.  \n",
        "El requisito es que la variable se declare **antes** de invocar la función."
      ]
    },
    {
      "cell_type": "code",
      "execution_count": 4,
      "metadata": {
        "id": "lsmzA8U9EHuF",
        "outputId": "24d9ed28-c762-4356-8a67-e7b40971809b",
        "colab": {
          "base_uri": "https://localhost:8080/"
        }
      },
      "outputs": [
        {
          "output_type": "stream",
          "name": "stdout",
          "text": [
            "3.0\n"
          ]
        }
      ],
      "source": [
        "n = 9                         # declaramos y asignamos una variable global\n",
        "def raiz():                   # creamos una función sin argumentos\n",
        "    print(n**.5)              # trabajamos con la variable global n sin problemas, se reconoce dentro de la función\n",
        "\n",
        "raiz()                        # invocamos la función sin argumentos"
      ]
    },
    {
      "cell_type": "markdown",
      "metadata": {
        "id": "XhwLZ-J1EHuG"
      },
      "source": [
        "#### Error al declarar la variable global después de invocar la función"
      ]
    },
    {
      "cell_type": "code",
      "execution_count": 5,
      "metadata": {
        "id": "bSEuejtfEHuG",
        "outputId": "f287cbc9-6cbe-442c-e823-fed1c69a06a5",
        "colab": {
          "base_uri": "https://localhost:8080/"
        }
      },
      "outputs": [
        {
          "output_type": "stream",
          "name": "stdout",
          "text": [
            "6\n"
          ]
        }
      ],
      "source": [
        "def triple():\n",
        "    print(3*p)\n",
        "\n",
        "p = 2                          # aquí no da error\n",
        "triple()                       # dará ERROR si invocamos la función sin haber declarado y asignado la variable\n",
        "#p = 2                         # para que no de error esta línea debe ir antes de la invocación de la función"
      ]
    },
    {
      "cell_type": "markdown",
      "metadata": {
        "id": "Bck8qo4MEHuH"
      },
      "source": [
        "### Variable globales y locales con el mismo nombre\n",
        "Hemos de tener precaución con las variables globales y locales con el mismo nombre, cada una de ellas actúa dentro de su ámbito.  \n",
        "Lo aconsejable es dar nombres distintos para evitar confusiones como esta:"
      ]
    },
    {
      "cell_type": "code",
      "execution_count": 6,
      "metadata": {
        "id": "LWYDJUjaEHuH",
        "outputId": "0c710bdd-8bd7-4e95-ce79-351ae89af78d",
        "colab": {
          "base_uri": "https://localhost:8080/"
        }
      },
      "outputs": [
        {
          "output_type": "stream",
          "name": "stdout",
          "text": [
            "Juan\n",
            "Juan\n",
            "Ana\n"
          ]
        }
      ],
      "source": [
        "def invitado():\n",
        "    nombre = 'Juan'\n",
        "    print(nombre)\n",
        "\n",
        "invitado()                # Juan → se ejecuta la función\n",
        "\n",
        "nombre = 'Ana'            # Variable Global distinta de la variable Local\n",
        "\n",
        "invitado()                # Juan → se ejecuta la función\n",
        "\n",
        "print(nombre)             # Ana  →  se imprime la variable Global"
      ]
    },
    {
      "cell_type": "markdown",
      "metadata": {
        "id": "F7GtKrMFEHuH"
      },
      "source": [
        "## Una función es un objeto"
      ]
    },
    {
      "cell_type": "code",
      "execution_count": 7,
      "metadata": {
        "id": "jx_RNyLdEHuH",
        "outputId": "0d44907b-c78d-4aa3-e237-674bf5a6b538",
        "colab": {
          "base_uri": "https://localhost:8080/"
        }
      },
      "outputs": [
        {
          "output_type": "execute_result",
          "data": {
            "text/plain": [
              "3"
            ]
          },
          "metadata": {},
          "execution_count": 7
        }
      ],
      "source": [
        "def suma(a, b):\n",
        "    return a + b\n",
        "\n",
        "s = suma\n",
        "s(1, 2)"
      ]
    }
  ],
  "metadata": {
    "kernelspec": {
      "display_name": "Python 3",
      "language": "python",
      "name": "python3"
    },
    "language_info": {
      "codemirror_mode": {
        "name": "ipython",
        "version": 3
      },
      "file_extension": ".py",
      "mimetype": "text/x-python",
      "name": "python",
      "nbconvert_exporter": "python",
      "pygments_lexer": "ipython3",
      "version": "3.8.5"
    },
    "colab": {
      "name": "calisto1_0550.ipynb",
      "provenance": [],
      "include_colab_link": true
    }
  },
  "nbformat": 4,
  "nbformat_minor": 0
}