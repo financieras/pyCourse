{
  "cells": [
    {
      "cell_type": "markdown",
      "metadata": {
        "id": "view-in-github",
        "colab_type": "text"
      },
      "source": [
        "<a href=\"https://colab.research.google.com/github/financieras/pyCourse/blob/main/jupyter/calisto1/calisto1_0530.ipynb\" target=\"_parent\"><img src=\"https://colab.research.google.com/assets/colab-badge.svg\" alt=\"Open In Colab\"/></a>"
      ]
    },
    {
      "cell_type": "markdown",
      "metadata": {
        "id": "7smkO3RaBqx6"
      },
      "source": [
        "# Introducción a las funciones [1]"
      ],
      "id": "7smkO3RaBqx6"
    },
    {
      "cell_type": "markdown",
      "metadata": {
        "id": "l597cZrMBqx9"
      },
      "source": [
        "Las funciones permiten evitar repetición de código.\n",
        "\n",
        "\n",
        "```python\n",
        "def funcion(<parámetros>):\n",
        "    <código>\n",
        "    return <dato>\n",
        "```"
      ],
      "id": "l597cZrMBqx9"
    },
    {
      "cell_type": "markdown",
      "metadata": {
        "id": "KKgXQbe7Bqx9"
      },
      "source": [
        "## Función sin return"
      ],
      "id": "KKgXQbe7Bqx9"
    },
    {
      "cell_type": "code",
      "execution_count": null,
      "metadata": {
        "id": "Lr7qHH2rBqx9"
      },
      "outputs": [],
      "source": [
        "def saluda():                                # Declaración de la función\n",
        "    print(\"Hola\")                            # Cuerpo\n",
        "\n",
        "saluda()                                     # Ejecución de la función"
      ],
      "id": "Lr7qHH2rBqx9"
    },
    {
      "cell_type": "markdown",
      "source": [
        "#### Otro ejemplo de función sin return"
      ],
      "metadata": {
        "id": "6b1VtX0pVfhw"
      },
      "id": "6b1VtX0pVfhw"
    },
    {
      "cell_type": "code",
      "source": [
        "print(\"Destino turístico elegido:\\n\")\n",
        "\n",
        "def destino_elegido():\n",
        "    print(\"Ha elegido un destino cultural de ciudad.\")\n",
        "    print(\"Se ha reservado su billete y hotel a Roma.\")\n",
        "    print()\n",
        "\n",
        "destino_elegido()                             # invocamos la función\n",
        "\n",
        "print(\"Puede anular su viaje hasta 15 días antes de la salida del vuelo.\")"
      ],
      "metadata": {
        "id": "b_NsQmo2ViFP",
        "outputId": "314af099-bfcb-43c0-bf62-b859b9c49b13",
        "colab": {
          "base_uri": "https://localhost:8080/"
        }
      },
      "id": "b_NsQmo2ViFP",
      "execution_count": null,
      "outputs": [
        {
          "output_type": "stream",
          "name": "stdout",
          "text": [
            "Destino turístico elegido:\n",
            "\n",
            "Ha elegido un destino cultural de ciudad.\n",
            "Se ha reservado su billete y hotel a Roma.\n",
            "\n",
            "Puede anular su viaje hasta 15 días antes de la salida del vuelo.\n"
          ]
        }
      ]
    },
    {
      "cell_type": "markdown",
      "metadata": {
        "id": "DUshZ3HvBqx-"
      },
      "source": [
        "## Función con return"
      ],
      "id": "DUshZ3HvBqx-"
    },
    {
      "cell_type": "code",
      "execution_count": null,
      "metadata": {
        "id": "RDHR3d2rBqx_"
      },
      "outputs": [],
      "source": [
        "def gente():\n",
        "    return \"Isabel\"                      # el return es optativo\n",
        "\n",
        "print(\"Buenos días\", gente())            # imprimimos el resultado devuelto por la función"
      ],
      "id": "RDHR3d2rBqx_"
    },
    {
      "cell_type": "markdown",
      "metadata": {
        "id": "QkveYFkfBqx_"
      },
      "source": [
        "### Después de ejecutar un return se sale de la función\n",
        "* Veamos la misma función que antes pero ahora añadimos una línea de código después del `return` y dentro de la función.  \n",
        "* Después de ejecutarse un `return` se sale de la función y se devuelve el control al flujo principal *main*."
      ],
      "id": "QkveYFkfBqx_"
    },
    {
      "cell_type": "code",
      "execution_count": null,
      "metadata": {
        "id": "2-bdNJiuBqyA"
      },
      "outputs": [],
      "source": [
        "def gente():\n",
        "    return \"Isabel\"\n",
        "    print(\"Buenas tardes\")                   # esto no se ejecutará nunca\n",
        "\n",
        "print(\"Buenos días\", gente())"
      ],
      "id": "2-bdNJiuBqyA"
    },
    {
      "cell_type": "markdown",
      "metadata": {
        "id": "4Ar-mx0QBqyA"
      },
      "source": [
        "## Asignación a una variable\n",
        "Podemos asignar lo retornado por la función a una variable"
      ],
      "id": "4Ar-mx0QBqyA"
    },
    {
      "cell_type": "code",
      "execution_count": null,
      "metadata": {
        "id": "LmTVJV6dBqyB"
      },
      "outputs": [],
      "source": [
        "def estacion():\n",
        "    return 'verano'\n",
        "\n",
        "e = estacion()\n",
        "print(e)"
      ],
      "id": "LmTVJV6dBqyB"
    },
    {
      "cell_type": "markdown",
      "metadata": {
        "id": "_qFSuFNnBqyB"
      },
      "source": [
        "### Retornando una lista\n",
        "Podemos retornar una lista, asignarla a una variable y trabajar con índices o hacer slicing."
      ],
      "id": "_qFSuFNnBqyB"
    },
    {
      "cell_type": "code",
      "execution_count": null,
      "metadata": {
        "id": "dTpbBSy-BqyC"
      },
      "outputs": [],
      "source": [
        "def serie():\n",
        "    return [1,2,3,4,5]\n",
        "\n",
        "serie()[-1]                 # usando índices"
      ],
      "id": "dTpbBSy-BqyC"
    },
    {
      "cell_type": "code",
      "execution_count": null,
      "metadata": {
        "id": "JzqjaNMmBqyC"
      },
      "outputs": [],
      "source": [
        "serie()[2:5]                # haciendo slicing"
      ],
      "id": "JzqjaNMmBqyC"
    },
    {
      "cell_type": "code",
      "execution_count": null,
      "metadata": {
        "id": "7xdxhko5BqyC"
      },
      "outputs": [],
      "source": [
        "s=serie()                   # es preferible asignar la función a una variable para luego trabajar con ella\n",
        "s[-1]\n",
        "s[2:5]                      # así se optimiza ya que si usamos la función se ejecutaría cada vez"
      ],
      "id": "7xdxhko5BqyC"
    },
    {
      "cell_type": "markdown",
      "metadata": {
        "id": "d7tCUt2pBqyD"
      },
      "source": [
        "## Función con un parámetro\n",
        "Función que dobla el valor pasado como parámetro"
      ],
      "id": "d7tCUt2pBqyD"
    },
    {
      "cell_type": "code",
      "execution_count": null,
      "metadata": {
        "id": "EjfMAK9DBqyD"
      },
      "outputs": [],
      "source": [
        "def doble(x):       # Definición de la función. x es el parámetro\n",
        "    return 2*x\n",
        "\n",
        "doble(5)            # Invocación. Pasamos un argumento. 5 es el argumento"
      ],
      "id": "EjfMAK9DBqyD"
    },
    {
      "cell_type": "markdown",
      "metadata": {
        "id": "VnMPJ4gABqyD"
      },
      "source": [
        "Función a la que pasamos el nombre de una persona.  \n",
        "La función pone el nombre en mayúsculas y nos dice cómo se llama esa persona."
      ],
      "id": "VnMPJ4gABqyD"
    },
    {
      "cell_type": "code",
      "execution_count": null,
      "metadata": {
        "id": "AAuJncVPBqyD"
      },
      "outputs": [],
      "source": [
        "def di_nombre(persona):                      # Función con un parámetro\n",
        "    persona=persona.upper()\n",
        "    return \"Se llama \" + persona             # el return es optativo\n",
        "\n",
        "print(di_nombre(\"Luis\"))                     # pasamos un parámetro a la función\n",
        "print(\"¿Quién es? \" + di_nombre(\"Ana\"))      # Llamamos nuevamente a la función\n",
        "print(\"¿Quién es?\", di_nombre(\"María\"))      # Otra llamada a la función"
      ],
      "id": "AAuJncVPBqyD"
    },
    {
      "cell_type": "markdown",
      "metadata": {
        "id": "CC3i3n8yBqyE"
      },
      "source": [
        "## Función con dos parámetros\n",
        "- Al definir la función hablamos de **parámetros**.\n",
        "- Al invocar la función hablamos de **argumentos**."
      ],
      "id": "CC3i3n8yBqyE"
    },
    {
      "cell_type": "code",
      "execution_count": null,
      "metadata": {
        "id": "18-i8_UGBqyE"
      },
      "outputs": [],
      "source": [
        "def elevar(x, y):                            # el orden de los parámetros importa\n",
        "    return x**y\n",
        "\n",
        "print(elevar(2, 3))                          # si la función espera dos argumentos se han de enviar dos"
      ],
      "id": "18-i8_UGBqyE"
    },
    {
      "cell_type": "markdown",
      "metadata": {
        "id": "7M7F_-PVBqyE"
      },
      "source": [
        "Los argumentos se asocian unívocamente a los parámetros por el orden.  \n",
        "El orden importa."
      ],
      "id": "7M7F_-PVBqyE"
    },
    {
      "cell_type": "code",
      "execution_count": null,
      "metadata": {
        "id": "VDwtLAj-BqyE"
      },
      "outputs": [],
      "source": [
        "def resta(a, b):\n",
        "    return a-b\n",
        "\n",
        "resta(5, 3)                                  # 2\n",
        "#resta(3, 5)                                 # -2"
      ],
      "id": "VDwtLAj-BqyE"
    },
    {
      "cell_type": "markdown",
      "metadata": {
        "id": "cN_ztQa8BqyE"
      },
      "source": [
        "### Asignación de argumentos con variable"
      ],
      "id": "cN_ztQa8BqyE"
    },
    {
      "cell_type": "code",
      "execution_count": null,
      "metadata": {
        "id": "pue2a-msBqyF"
      },
      "outputs": [],
      "source": [
        "def resta(a, b):\n",
        "    return a-b\n",
        "\n",
        "resta(b=5, a=3)                              # -2"
      ],
      "id": "pue2a-msBqyF"
    },
    {
      "cell_type": "markdown",
      "metadata": {
        "id": "9DGWl-g8BqyF"
      },
      "source": [
        "### Operar con lo retornado por la función\n",
        "Como cabía esperar, si asignamos lo retornado por una función a una variable, luego podemos operar con esa variable tranquilamente."
      ],
      "id": "9DGWl-g8BqyF"
    },
    {
      "cell_type": "code",
      "execution_count": null,
      "metadata": {
        "id": "kmjw7krqBqyF"
      },
      "outputs": [],
      "source": [
        "def suma(x, y):\n",
        "    return x + y\n",
        "\n",
        "a = 4\n",
        "b = 6\n",
        "c = suma(a, b)\n",
        "\n",
        "print(f\"El resultado de sumar {a} más {b} es {c}.\")\n",
        "print(f\"El valor {a} supone el {a/c*100}% del total.\")  # podemos operar con c, que es el return de la función"
      ],
      "id": "kmjw7krqBqyF"
    }
  ],
  "metadata": {
    "kernelspec": {
      "display_name": "Python 3",
      "language": "python",
      "name": "python3"
    },
    "language_info": {
      "codemirror_mode": {
        "name": "ipython",
        "version": 3
      },
      "file_extension": ".py",
      "mimetype": "text/x-python",
      "name": "python",
      "nbconvert_exporter": "python",
      "pygments_lexer": "ipython3",
      "version": "3.8.5"
    },
    "colab": {
      "name": "0530_funciones1.ipynb",
      "provenance": [],
      "include_colab_link": true
    }
  },
  "nbformat": 4,
  "nbformat_minor": 5
}
