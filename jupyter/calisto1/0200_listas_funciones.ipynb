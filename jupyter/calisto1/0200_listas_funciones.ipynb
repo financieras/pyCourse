{
  "cells": [
    {
      "cell_type": "markdown",
      "metadata": {
        "id": "view-in-github",
        "colab_type": "text"
      },
      "source": [
        "<a href=\"https://colab.research.google.com/github/financieras/pyCourse/blob/main/jupyter/calisto1/0200_listas_funciones.ipynb\" target=\"_parent\"><img src=\"https://colab.research.google.com/assets/colab-badge.svg\" alt=\"Open In Colab\"/></a>"
      ]
    },
    {
      "cell_type": "markdown",
      "id": "cf60e6fc",
      "metadata": {
        "id": "cf60e6fc"
      },
      "source": [
        "# Listas [4] Operaciones y funciones"
      ]
    },
    {
      "cell_type": "markdown",
      "id": "dd15b7e4",
      "metadata": {
        "id": "dd15b7e4"
      },
      "source": [
        "## Operaciones con listas  \n",
        "Tamaño       →  len(lista)  \n",
        "Concatenar   →  [1,2]+[3,4]  \n",
        "Repetir      →  [\"hola\"]*3  \n",
        "Iterar       →  for i in lista  \n",
        "Es parte de  →  4 in lista          # operador de pertenencia: in  \n",
        "No es parte de →  5 not in lista    # operador de pertenencia: not in"
      ]
    },
    {
      "cell_type": "markdown",
      "id": "755a1a1e",
      "metadata": {
        "id": "755a1a1e"
      },
      "source": [
        "### Concatenar listas"
      ]
    },
    {
      "cell_type": "code",
      "execution_count": 1,
      "id": "45201dd0",
      "metadata": {
        "id": "45201dd0",
        "outputId": "7fce2f9a-a8ce-4c36-b1cf-5657f04dd956",
        "colab": {
          "base_uri": "https://localhost:8080/"
        }
      },
      "outputs": [
        {
          "output_type": "stream",
          "name": "stdout",
          "text": [
            "[1, 2, 3, 4]\n"
          ]
        }
      ],
      "source": [
        "lista = [1, 2] + [3, 4]         # uniendo dos listas\n",
        "print(lista)                  # [1, 2, 3, 4]"
      ]
    },
    {
      "cell_type": "markdown",
      "id": "8ca260ec",
      "metadata": {
        "id": "8ca260ec"
      },
      "source": [
        "### len()"
      ]
    },
    {
      "cell_type": "code",
      "execution_count": 2,
      "id": "c36c5655",
      "metadata": {
        "id": "c36c5655",
        "outputId": "985f8201-25cc-42cf-d1eb-cec279aeb061",
        "colab": {
          "base_uri": "https://localhost:8080/"
        }
      },
      "outputs": [
        {
          "output_type": "stream",
          "name": "stdout",
          "text": [
            "4\n"
          ]
        }
      ],
      "source": [
        "print(len(lista))             # 4"
      ]
    },
    {
      "cell_type": "markdown",
      "id": "c8302f82",
      "metadata": {
        "id": "c8302f82"
      },
      "source": [
        "### Repetir"
      ]
    },
    {
      "cell_type": "code",
      "execution_count": 3,
      "id": "2f67923c",
      "metadata": {
        "id": "2f67923c",
        "outputId": "59c58035-2e34-42d8-d771-8671eb240a3d",
        "colab": {
          "base_uri": "https://localhost:8080/"
        }
      },
      "outputs": [
        {
          "output_type": "stream",
          "name": "stdout",
          "text": [
            "['hola', 'hola', 'hola']\n"
          ]
        }
      ],
      "source": [
        "saluda = [\"hola\"]*3\n",
        "print(saluda)                 # ['hola', 'hola', 'hola']"
      ]
    },
    {
      "cell_type": "markdown",
      "id": "e594de99",
      "metadata": {
        "id": "e594de99"
      },
      "source": [
        "### Iterar"
      ]
    },
    {
      "cell_type": "code",
      "execution_count": 4,
      "id": "a462a75e",
      "metadata": {
        "id": "a462a75e",
        "outputId": "8b2166ab-fb38-435a-ede5-5a186f983de7",
        "colab": {
          "base_uri": "https://localhost:8080/"
        }
      },
      "outputs": [
        {
          "output_type": "stream",
          "name": "stdout",
          "text": [
            "1\n",
            "2\n",
            "3\n",
            "4\n"
          ]
        }
      ],
      "source": [
        "for i in lista:\n",
        "    print(i)                  # 1 2 3 4 en columna"
      ]
    },
    {
      "cell_type": "markdown",
      "id": "51a87b78",
      "metadata": {
        "id": "51a87b78"
      },
      "source": [
        "### in"
      ]
    },
    {
      "cell_type": "code",
      "execution_count": 5,
      "id": "93fe0e28",
      "metadata": {
        "id": "93fe0e28",
        "outputId": "a181f1bb-5599-4e8a-8a94-41fa8e352014",
        "colab": {
          "base_uri": "https://localhost:8080/"
        }
      },
      "outputs": [
        {
          "output_type": "stream",
          "name": "stdout",
          "text": [
            "False\n"
          ]
        }
      ],
      "source": [
        "print(\"bye\" in saluda)        # False"
      ]
    },
    {
      "cell_type": "code",
      "execution_count": 6,
      "id": "16697edc",
      "metadata": {
        "id": "16697edc",
        "outputId": "e738c77e-a6f9-4ca3-e4d2-5d010f45e6f4",
        "colab": {
          "base_uri": "https://localhost:8080/"
        }
      },
      "outputs": [
        {
          "output_type": "stream",
          "name": "stdout",
          "text": [
            "True\n"
          ]
        }
      ],
      "source": [
        "print(\"hola\" in saluda)        # True"
      ]
    },
    {
      "cell_type": "markdown",
      "id": "48bd3236",
      "metadata": {
        "id": "48bd3236"
      },
      "source": [
        "### not in"
      ]
    },
    {
      "cell_type": "code",
      "execution_count": 7,
      "id": "dc0280e4",
      "metadata": {
        "id": "dc0280e4",
        "outputId": "4f064cb9-0cb7-4a35-ed39-fbff2d19220b",
        "colab": {
          "base_uri": "https://localhost:8080/"
        }
      },
      "outputs": [
        {
          "output_type": "stream",
          "name": "stdout",
          "text": [
            "True\n"
          ]
        }
      ],
      "source": [
        "print(\"hi\" not in saluda)      # True"
      ]
    },
    {
      "cell_type": "markdown",
      "id": "d1db79de",
      "metadata": {
        "id": "d1db79de"
      },
      "source": [
        "## Algunas funciones  \n",
        "append(elemento)  \n",
        "pop()  \n",
        "remove(elemento)\t                 # si elemento no está en la lista da  error  \n",
        "index(elemento)                      # devuelve el índice que ocupa el elemento  \n",
        "insert(indice,elemento)  \n",
        "clear()  "
      ]
    },
    {
      "cell_type": "markdown",
      "id": "3cddf00c",
      "metadata": {
        "id": "3cddf00c"
      },
      "source": [
        "### append()"
      ]
    },
    {
      "cell_type": "code",
      "execution_count": 8,
      "id": "6336047a",
      "metadata": {
        "id": "6336047a",
        "outputId": "edf26d72-4585-44b0-c622-812b60536d97",
        "colab": {
          "base_uri": "https://localhost:8080/"
        }
      },
      "outputs": [
        {
          "output_type": "stream",
          "name": "stdout",
          "text": [
            "['hola', 'hola', 'hola', 'hi']\n"
          ]
        }
      ],
      "source": [
        "saluda.append(\"hi\")\n",
        "print(saluda)                 # ['hola', 'hola', 'hola', 'hi']"
      ]
    },
    {
      "cell_type": "markdown",
      "id": "91059c17",
      "metadata": {
        "id": "91059c17"
      },
      "source": [
        "### pop()"
      ]
    },
    {
      "cell_type": "code",
      "execution_count": 9,
      "id": "8f213dbf",
      "metadata": {
        "id": "8f213dbf",
        "outputId": "f7758122-d0df-4be5-a595-d055cffd3ddd",
        "colab": {
          "base_uri": "https://localhost:8080/"
        }
      },
      "outputs": [
        {
          "output_type": "stream",
          "name": "stdout",
          "text": [
            "['hola', 'hola', 'hola']\n",
            "hi\n"
          ]
        }
      ],
      "source": [
        "eliminado = saluda.pop()\n",
        "print(saluda)                 # ['hola', 'hola', 'hola']\n",
        "print(eliminado)              # hi"
      ]
    },
    {
      "cell_type": "markdown",
      "id": "f56e5d28",
      "metadata": {
        "id": "f56e5d28"
      },
      "source": [
        "### clear()"
      ]
    },
    {
      "cell_type": "code",
      "execution_count": 10,
      "id": "8f3a3b5c",
      "metadata": {
        "id": "8f3a3b5c",
        "outputId": "54009b6b-7bed-4a07-b507-ecd65d0b27e5",
        "colab": {
          "base_uri": "https://localhost:8080/"
        }
      },
      "outputs": [
        {
          "output_type": "stream",
          "name": "stdout",
          "text": [
            "[]\n"
          ]
        }
      ],
      "source": [
        "saluda.clear()\n",
        "print(saluda)                 # []"
      ]
    },
    {
      "cell_type": "markdown",
      "id": "d81c87c2",
      "metadata": {
        "id": "d81c87c2"
      },
      "source": [
        "### remove()"
      ]
    },
    {
      "cell_type": "code",
      "execution_count": 11,
      "id": "73b74562",
      "metadata": {
        "id": "73b74562",
        "outputId": "3a7e4edd-042b-443d-87cb-6efe8d30b798",
        "colab": {
          "base_uri": "https://localhost:8080/"
        }
      },
      "outputs": [
        {
          "output_type": "stream",
          "name": "stdout",
          "text": [
            "[10, 20, 30, 40]\n",
            "[10, 30, 40]\n"
          ]
        }
      ],
      "source": [
        "l = [10, 20, 30, 40]          # nueva lista l\n",
        "print(l)                      # [10, 20, 30, 40]\n",
        "l.remove(20)\n",
        "print(l)                      # [10, 30, 40]"
      ]
    },
    {
      "cell_type": "markdown",
      "id": "03116007",
      "metadata": {
        "id": "03116007"
      },
      "source": [
        "### index()"
      ]
    },
    {
      "cell_type": "code",
      "execution_count": 12,
      "id": "b48bfa3a",
      "metadata": {
        "id": "b48bfa3a",
        "outputId": "110dd933-598c-4d3b-d9a3-512539cddf92",
        "colab": {
          "base_uri": "https://localhost:8080/"
        }
      },
      "outputs": [
        {
          "output_type": "stream",
          "name": "stdout",
          "text": [
            "2\n"
          ]
        }
      ],
      "source": [
        "print(l.index(40))            # 2    el valor 40 ocupa ahora el índice 2"
      ]
    },
    {
      "cell_type": "markdown",
      "id": "7fb92459",
      "metadata": {
        "id": "7fb92459"
      },
      "source": [
        "### insert()"
      ]
    },
    {
      "cell_type": "code",
      "execution_count": 13,
      "id": "afd01c86",
      "metadata": {
        "id": "afd01c86",
        "outputId": "2258908f-b8ba-4650-d682-336a1dc21068",
        "colab": {
          "base_uri": "https://localhost:8080/"
        }
      },
      "outputs": [
        {
          "output_type": "stream",
          "name": "stdout",
          "text": [
            "[10, '20', 30, 40]\n"
          ]
        }
      ],
      "source": [
        "l.insert(1, \"20\")             # insertamos un valor tipo string\n",
        "print(l)                      # [10, '20', 30, 40]"
      ]
    },
    {
      "cell_type": "markdown",
      "id": "7035ba7d",
      "metadata": {
        "id": "7035ba7d"
      },
      "source": [
        "### No es lo mismo 30 que [30]"
      ]
    },
    {
      "cell_type": "code",
      "execution_count": 14,
      "id": "7ce07de4",
      "metadata": {
        "id": "7ce07de4",
        "outputId": "03f9cdf6-9c38-492b-8163-f6cce4100538",
        "colab": {
          "base_uri": "https://localhost:8080/"
        }
      },
      "outputs": [
        {
          "output_type": "stream",
          "name": "stdout",
          "text": [
            "30\n",
            "[30]\n",
            "False\n"
          ]
        }
      ],
      "source": [
        "print(l[2])                   # 30        valor 30\n",
        "print(l[2:3])                 # [30]      lista con un único valor\n",
        "print(l[2] == l[2:3])         # False     no es lo mismo un valor que una lista con un único valor"
      ]
    },
    {
      "cell_type": "markdown",
      "id": "f8cf534e",
      "metadata": {
        "id": "f8cf534e"
      },
      "source": [
        "### Iterar"
      ]
    },
    {
      "cell_type": "code",
      "execution_count": 15,
      "id": "da2d4f2c",
      "metadata": {
        "id": "da2d4f2c",
        "outputId": "3efb3467-3a52-4230-8ac1-3948dd2adf89",
        "colab": {
          "base_uri": "https://localhost:8080/"
        }
      },
      "outputs": [
        {
          "output_type": "stream",
          "name": "stdout",
          "text": [
            "amarillo\n",
            "rojo\n",
            "verde\n",
            "azul\n",
            "naranja\n"
          ]
        }
      ],
      "source": [
        "colores = ['amarillo', 'rojo', 'verde', 'azul', 'naranja']\n",
        "for color in colores:\n",
        "    print(color)"
      ]
    },
    {
      "cell_type": "markdown",
      "id": "ebdbcc7a",
      "metadata": {
        "id": "ebdbcc7a"
      },
      "source": [
        "### append()"
      ]
    },
    {
      "cell_type": "code",
      "execution_count": 16,
      "id": "cbd0a26b",
      "metadata": {
        "id": "cbd0a26b",
        "outputId": "63fcb339-0a38-461e-9c30-897636a900b8",
        "colab": {
          "base_uri": "https://localhost:8080/"
        }
      },
      "outputs": [
        {
          "output_type": "execute_result",
          "data": {
            "text/plain": [
              "['amarillo', 'rojo', 'verde', 'azul', 'naranja', 'magenta']"
            ]
          },
          "metadata": {},
          "execution_count": 16
        }
      ],
      "source": [
        "colores.append('magenta')\n",
        "colores"
      ]
    },
    {
      "cell_type": "markdown",
      "id": "c4a0967b",
      "metadata": {
        "id": "c4a0967b"
      },
      "source": [
        "### remove()"
      ]
    },
    {
      "cell_type": "code",
      "execution_count": 17,
      "id": "2ec68e73",
      "metadata": {
        "id": "2ec68e73",
        "outputId": "d3351bdd-2884-4318-c345-f59eebdf088a",
        "colab": {
          "base_uri": "https://localhost:8080/"
        }
      },
      "outputs": [
        {
          "output_type": "execute_result",
          "data": {
            "text/plain": [
              "['amarillo', 'rojo', 'verde', 'azul', 'magenta']"
            ]
          },
          "metadata": {},
          "execution_count": 17
        }
      ],
      "source": [
        "colores.remove('naranja')\n",
        "colores"
      ]
    },
    {
      "cell_type": "markdown",
      "id": "1e224026",
      "metadata": {
        "id": "1e224026"
      },
      "source": [
        "### index()"
      ]
    },
    {
      "cell_type": "code",
      "execution_count": 18,
      "id": "ab12fd6c",
      "metadata": {
        "id": "ab12fd6c",
        "outputId": "65732d38-533c-46f8-a8b8-16f8ea33a1a4",
        "colab": {
          "base_uri": "https://localhost:8080/"
        }
      },
      "outputs": [
        {
          "output_type": "execute_result",
          "data": {
            "text/plain": [
              "2"
            ]
          },
          "metadata": {},
          "execution_count": 18
        }
      ],
      "source": [
        "colores.index('verde')        # 2"
      ]
    },
    {
      "cell_type": "markdown",
      "id": "8d23db47",
      "metadata": {
        "id": "8d23db47"
      },
      "source": [
        "### pop()"
      ]
    },
    {
      "cell_type": "code",
      "execution_count": 19,
      "id": "1a99091c",
      "metadata": {
        "id": "1a99091c",
        "outputId": "b9388426-c7b2-4664-9e3b-4ba425a0dfa7",
        "colab": {
          "base_uri": "https://localhost:8080/"
        }
      },
      "outputs": [
        {
          "output_type": "execute_result",
          "data": {
            "text/plain": [
              "['amarillo', 'rojo', 'verde', 'azul']"
            ]
          },
          "metadata": {},
          "execution_count": 19
        }
      ],
      "source": [
        "colores.pop()                 # elimina el último elemento de la lista\n",
        "colores"
      ]
    },
    {
      "cell_type": "markdown",
      "id": "295bdb13",
      "metadata": {
        "id": "295bdb13"
      },
      "source": [
        "### pop(elemento)"
      ]
    },
    {
      "cell_type": "code",
      "execution_count": 20,
      "id": "151b5eef",
      "metadata": {
        "id": "151b5eef",
        "outputId": "dc3c6df3-862b-43f0-d8a9-7659758f686f",
        "colab": {
          "base_uri": "https://localhost:8080/"
        }
      },
      "outputs": [
        {
          "output_type": "execute_result",
          "data": {
            "text/plain": [
              "['amarillo', 'verde', 'azul']"
            ]
          },
          "metadata": {},
          "execution_count": 20
        }
      ],
      "source": [
        "colores.pop(1)                # elimina el elemento que se indique\n",
        "colores"
      ]
    },
    {
      "cell_type": "markdown",
      "id": "cbbc8127",
      "metadata": {
        "id": "cbbc8127"
      },
      "source": [
        "### clear()"
      ]
    },
    {
      "cell_type": "code",
      "execution_count": 21,
      "id": "910b2a39",
      "metadata": {
        "scrolled": true,
        "id": "910b2a39",
        "outputId": "05eb711d-ad57-4f1d-ef79-f7ce56d60ffc",
        "colab": {
          "base_uri": "https://localhost:8080/"
        }
      },
      "outputs": [
        {
          "output_type": "execute_result",
          "data": {
            "text/plain": [
              "[]"
            ]
          },
          "metadata": {},
          "execution_count": 21
        }
      ],
      "source": [
        "colores.clear()\n",
        "colores"
      ]
    },
    {
      "cell_type": "markdown",
      "id": "eee2ffca",
      "metadata": {
        "id": "eee2ffca"
      },
      "source": [
        "## ```sort``` y ```sorted```"
      ]
    },
    {
      "cell_type": "code",
      "execution_count": 22,
      "id": "7224eb35",
      "metadata": {
        "id": "7224eb35",
        "outputId": "6aff2ee6-0a5b-462e-e518-c88782199553",
        "colab": {
          "base_uri": "https://localhost:8080/"
        }
      },
      "outputs": [
        {
          "output_type": "stream",
          "name": "stdout",
          "text": [
            "lista inicial : [5, 2, 6, 1, 9, 0]\n",
            "lista con sort: [0, 1, 2, 5, 6, 9]\n"
          ]
        }
      ],
      "source": [
        "l = [5, 2, 6, 1, 9, 0]\n",
        "print(\"lista inicial :\", l)\n",
        "l.sort()                             # l.sort() realmente ordena la lista pero se ha de poner antes del print\n",
        "print(\"lista con sort:\", l)"
      ]
    },
    {
      "cell_type": "code",
      "execution_count": 23,
      "id": "32152eb8",
      "metadata": {
        "id": "32152eb8",
        "outputId": "31ec4c16-ea2b-44b0-fac4-7d0edcb20d33",
        "colab": {
          "base_uri": "https://localhost:8080/"
        }
      },
      "outputs": [
        {
          "output_type": "stream",
          "name": "stdout",
          "text": [
            "lista inicial: [5, 2, 6, 1, 9, 0]\n",
            "lista sorted : [0, 1, 2, 5, 6, 9]\n",
            "lista final  : [5, 2, 6, 1, 9, 0]\n"
          ]
        }
      ],
      "source": [
        "l = [5, 2, 6, 1, 9, 0]\n",
        "print(\"lista inicial:\", l)\n",
        "print(\"lista sorted :\", sorted(l))   # sorted(l) realmente no orden la lista pero permite imprimirla ordenada\n",
        "print(\"lista final  :\", l)"
      ]
    }
  ],
  "metadata": {
    "kernelspec": {
      "display_name": "Python 3 (ipykernel)",
      "language": "python",
      "name": "python3"
    },
    "language_info": {
      "codemirror_mode": {
        "name": "ipython",
        "version": 3
      },
      "file_extension": ".py",
      "mimetype": "text/x-python",
      "name": "python",
      "nbconvert_exporter": "python",
      "pygments_lexer": "ipython3",
      "version": "3.8.11"
    },
    "colab": {
      "name": "0200_listas_funciones.ipynb",
      "provenance": [],
      "include_colab_link": true
    }
  },
  "nbformat": 4,
  "nbformat_minor": 5
}