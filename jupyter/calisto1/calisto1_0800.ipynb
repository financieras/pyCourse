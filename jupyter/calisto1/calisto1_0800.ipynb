{
  "nbformat": 4,
  "nbformat_minor": 0,
  "metadata": {
    "colab": {
      "provenance": [],
      "authorship_tag": "ABX9TyNnkt63hM2V6KnoNTMvP6yO",
      "include_colab_link": true
    },
    "kernelspec": {
      "name": "python3",
      "display_name": "Python 3"
    },
    "language_info": {
      "name": "python"
    }
  },
  "cells": [
    {
      "cell_type": "markdown",
      "metadata": {
        "id": "view-in-github",
        "colab_type": "text"
      },
      "source": [
        "<a href=\"https://colab.research.google.com/github/financieras/pyCourse/blob/main/jupyter/calisto1/calisto1_0800.ipynb\" target=\"_parent\"><img src=\"https://colab.research.google.com/assets/colab-badge.svg\" alt=\"Open In Colab\"/></a>"
      ]
    },
    {
      "cell_type": "markdown",
      "source": [
        "# La función `zip`\n",
        "* La función zip() en Python combina elementos de dos o más iterables en una secuencia de tuplas.\n",
        "* Cada tupla contiene los elementos correspondientes de los iterables originales."
      ],
      "metadata": {
        "id": "D3kUfH1LQoBr"
      }
    },
    {
      "cell_type": "markdown",
      "source": [
        "## Ejemplo 1\n",
        "* En este ejemplo, `zip()` combina los elementos de las listas `numeros`, `letras` y `simbolos` en una secuencia de tuplas.\n",
        "* Luego, se itera sobre la secuencia de tuplas y se imprime cada tupla.\n",
        "* Cada tupla contiene los elementos correspondientes de las listas originales en el mismo orden."
      ],
      "metadata": {
        "id": "c76ByM-CRk_X"
      }
    },
    {
      "cell_type": "code",
      "execution_count": 21,
      "metadata": {
        "colab": {
          "base_uri": "https://localhost:8080/"
        },
        "id": "jE-WJfx2QgW9",
        "outputId": "24b44972-db38-4532-cd9c-9f26e5b9e565"
      },
      "outputs": [
        {
          "output_type": "stream",
          "name": "stdout",
          "text": [
            "<zip object at 0x7d81fc807640>\n",
            "<class 'zip'> \n",
            "\n",
            "(1, 'a', '!')\n",
            "(2, 'b', '@')\n",
            "(3, 'c', '#')\n"
          ]
        }
      ],
      "source": [
        "numeros = [1, 2, 3]\n",
        "letras = ['a', 'b', 'c']\n",
        "simbolos = ['!', '@', '#']\n",
        "\n",
        "combinados = zip(numeros, letras, simbolos)\n",
        "\n",
        "print(combinados)   # objeto iterable de tipo zip\n",
        "print(type(combinados), \"\\n\")\n",
        "\n",
        "for tupla in combinados:\n",
        "    print(tupla)"
      ]
    },
    {
      "cell_type": "markdown",
      "source": [
        "## Ejemplo 2\n",
        "En este ejemplo, zip() combina los elementos de las listas nombres, edades y ciudades en una secuencia de tuplas. Luego, se itera sobre la secuencia de tuplas y se desempaquetan los elementos en las variables nombre, edad y ciudad. Finalmente, se imprime la información de cada persona utilizando los valores desempaquetados."
      ],
      "metadata": {
        "id": "5Ex3FUy1SZSk"
      }
    },
    {
      "cell_type": "code",
      "source": [
        "nombres = ['Juan', 'María', 'Pedro']\n",
        "edades = [25, 30, 35]\n",
        "ciudades = ['Madrid', 'Malaga', 'Santander']\n",
        "\n",
        "informacion = zip(nombres, edades, ciudades)\n",
        "\n",
        "for nombre, edad, ciudad in informacion:\n",
        "    print(f\"{nombre} tiene {edad} años y vive en {ciudad}\")\n"
      ],
      "metadata": {
        "colab": {
          "base_uri": "https://localhost:8080/"
        },
        "id": "gnrLFcr6Scd6",
        "outputId": "536b22a9-7cab-46cd-8c12-9560714868cb"
      },
      "execution_count": null,
      "outputs": [
        {
          "output_type": "stream",
          "name": "stdout",
          "text": [
            "Juan tiene 25 años y vive en Madrid\n",
            "María tiene 30 años y vive en Malaga\n",
            "Pedro tiene 35 años y vive en Santander\n"
          ]
        }
      ]
    },
    {
      "cell_type": "markdown",
      "source": [
        "## Ejemplo 3\n",
        "* Con el uso del operador asterisco `*`\n",
        "* En este ejemplo, `zip()` combina los elementos de las listas `numeros` y `letras` en una secuencia de tuplas.\n",
        "* Luego, utilizamos el operador asterisco `*` junto con `zip()` para desempaquetar las tuplas en dos secuencias separadas.\n",
        "* Finalmente, convertimos las secuencias desempaquetadas en una lista y las imprimimos.\n",
        "* En este caso, desempaquetados contendrá dos listas: una con los números `(1, 2, 3)` y otra con las letras `('a', 'b', 'c')`.\n",
        "* El operador asterisco `*` nos permite desempaquetar las tuplas y separar sus elementos en diferentes secuencias."
      ],
      "metadata": {
        "id": "g0FX8QNzS4yq"
      }
    },
    {
      "cell_type": "code",
      "source": [
        "numeros = [1, 2, 3]\n",
        "letras = ['a', 'b', 'c']\n",
        "\n",
        "combinados = zip(numeros, letras)\n",
        "\n",
        "desempaquetados = list(zip(*combinados))\n",
        "\n",
        "print(desempaquetados)"
      ],
      "metadata": {
        "colab": {
          "base_uri": "https://localhost:8080/"
        },
        "id": "c6WoiY89TAJO",
        "outputId": "695e1fd4-4733-46a2-be71-c604474c9aa1"
      },
      "execution_count": null,
      "outputs": [
        {
          "output_type": "stream",
          "name": "stdout",
          "text": [
            "[(1, 2, 3), ('a', 'b', 'c')]\n"
          ]
        }
      ]
    },
    {
      "cell_type": "markdown",
      "source": [
        "## Ejemplo 4\n",
        "En este ejemplo, `zip(*puntos)` desempaqueta las coordenadas de la lista de tuplas `puntos` en dos tuplas separadas, una para las coordenadas `X` y otra para las coordenadas `Y`."
      ],
      "metadata": {
        "id": "EP4_mcsU3j8F"
      }
    },
    {
      "cell_type": "code",
      "source": [
        "puntos = [(1, 2), (3, 4), (5, 6)]\n",
        "\n",
        "x_coords, y_coords = zip(*puntos)\n",
        "\n",
        "print(\"Coordenadas X:\", x_coords)\n",
        "print(\"Coordenadas Y:\", y_coords)"
      ],
      "metadata": {
        "id": "KNMqTUKI3oTX",
        "outputId": "b139ac13-097e-4039-f0bb-ecc7a4e349f1",
        "colab": {
          "base_uri": "https://localhost:8080/"
        }
      },
      "execution_count": 12,
      "outputs": [
        {
          "output_type": "stream",
          "name": "stdout",
          "text": [
            "Coordenadas X: (1, 3, 5)\n",
            "Coordenadas Y: (2, 4, 6)\n"
          ]
        }
      ]
    },
    {
      "cell_type": "markdown",
      "source": [
        "## Ejemplo 5\n",
        "* La función `zip()` nos proporciona un iterable.\n",
        "* Los iterables cuando se recorren se agotan.\n",
        "* Para entender esto veamos tres variantes en este ejemplo."
      ],
      "metadata": {
        "id": "QowEoulQ79Cl"
      }
    },
    {
      "cell_type": "markdown",
      "source": [
        "### Variante 1"
      ],
      "metadata": {
        "id": "irRdfKPo8aEl"
      }
    },
    {
      "cell_type": "code",
      "source": [
        "nombres = [\"Ana\", \"Juan\", \"María\"]\n",
        "edades = [25, 30, 28]\n",
        "\n",
        "combinados = zip(nombres, edades)\n",
        "print(list(combinados))"
      ],
      "metadata": {
        "id": "BRJ2i1eE4Thu",
        "outputId": "dee2d29c-6caa-4f77-90d5-fe399793ee71",
        "colab": {
          "base_uri": "https://localhost:8080/"
        }
      },
      "execution_count": 16,
      "outputs": [
        {
          "output_type": "stream",
          "name": "stdout",
          "text": [
            "[('Ana', 25), ('Juan', 30), ('María', 28)]\n"
          ]
        }
      ]
    },
    {
      "cell_type": "markdown",
      "source": [
        "### Variante 2"
      ],
      "metadata": {
        "id": "mNhH-9Ja8h6L"
      }
    },
    {
      "cell_type": "code",
      "source": [
        "nombres = [\"Ana\", \"Juan\", \"María\"]\n",
        "edades = [25, 30, 28]\n",
        "\n",
        "combinados = zip(nombres, edades)\n",
        "\n",
        "for tupla in combinados:\n",
        "    print(tupla)"
      ],
      "metadata": {
        "id": "2QDbL-dD4ur_",
        "outputId": "28e5f874-b367-4446-d519-2ff553e21531",
        "colab": {
          "base_uri": "https://localhost:8080/"
        }
      },
      "execution_count": 17,
      "outputs": [
        {
          "output_type": "stream",
          "name": "stdout",
          "text": [
            "('Ana', 25)\n",
            "('Juan', 30)\n",
            "('María', 28)\n"
          ]
        }
      ]
    },
    {
      "cell_type": "markdown",
      "source": [
        "### Variante 3\n",
        "* El comportamiento de esta variante nos puede resultar sorprendente ya que únicamente se imprime la lista de tuplas pero parece que el bucle no se ejecuta, no imprime nada el bucle.\n",
        "* Esto se debe a que combinados se vacía de contenido por se un iterable.\n",
        "* La razón detrás de esta anomalía se debe a cómo funciona la función zip() y cómo se comportan los iteradores en Python.\n",
        "\n",
        "En la VARIANTE 3, después de imprimir list(combinados), el iterador combinados se agota, lo que significa que ya no tiene más elementos para recorrer. Cuando intentas iterar nuevamente sobre combinados en el segundo bucle for, este ya no tiene elementos y, por lo tanto, no imprime nada.\n",
        "\n",
        "Aquí está el flujo paso a paso:\n",
        "\n",
        "VARIANTE 3:\n",
        "\n",
        "Creas el iterador combinados con zip(nombres, edades).\n",
        "\n",
        "Imprimes list(combinados), lo que agota el iterador y muestra los elementos en forma de lista.\n",
        "\n",
        "Intentas iterar sobre combinados nuevamente en el segundo bucle for, pero el iterador ya está agotado, por lo que no imprime nada.\n",
        "\n",
        "Para lograr el resultado que esperabas, puedes almacenar los resultados de list(combinados) en una variable y luego usarla en el segundo bucle for, como se muestra a continuación:"
      ],
      "metadata": {
        "id": "wnRoUDx28kpL"
      }
    },
    {
      "cell_type": "code",
      "source": [
        "nombres = [\"Ana\", \"Juan\", \"María\"]\n",
        "edades = [25, 30, 28]\n",
        "\n",
        "combinados = zip(nombres, edades)\n",
        "print(list(combinados))\n",
        "\n",
        "for tupla in combinados:\n",
        "    print(tupla)"
      ],
      "metadata": {
        "id": "hSY-JKSy4wt-",
        "outputId": "60c8f6f7-50e9-4fe7-c4cc-36b42975235c",
        "colab": {
          "base_uri": "https://localhost:8080/"
        }
      },
      "execution_count": 18,
      "outputs": [
        {
          "output_type": "stream",
          "name": "stdout",
          "text": [
            "[('Ana', 25), ('Juan', 30), ('María', 28)]\n"
          ]
        }
      ]
    },
    {
      "cell_type": "markdown",
      "source": [
        "### Solución\n",
        "Recuerda que una vez que agotas un iterador, no puedes volver a iterar sobre él sin recrearlo o almacenar sus elementos en una estructura de datos como una lista, tupla, etc."
      ],
      "metadata": {
        "id": "2nC8BlK79IV9"
      }
    },
    {
      "cell_type": "code",
      "source": [
        "nombres = [\"Ana\", \"Juan\", \"María\"]\n",
        "edades = [25, 30, 28]\n",
        "\n",
        "combinados = zip(nombres, edades)\n",
        "resultados = list(combinados)\n",
        "\n",
        "print(resultados)\n",
        "\n",
        "for tupla in resultados:\n",
        "    print(tupla)\n"
      ],
      "metadata": {
        "id": "dxYY58Ri9PXT",
        "outputId": "2050a528-1e22-41af-9851-3c081122a801",
        "colab": {
          "base_uri": "https://localhost:8080/"
        }
      },
      "execution_count": 22,
      "outputs": [
        {
          "output_type": "stream",
          "name": "stdout",
          "text": [
            "[('Ana', 25), ('Juan', 30), ('María', 28)]\n",
            "('Ana', 25)\n",
            "('Juan', 30)\n",
            "('María', 28)\n"
          ]
        }
      ]
    }
  ]
}