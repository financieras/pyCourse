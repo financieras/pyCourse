{
  "nbformat": 4,
  "nbformat_minor": 0,
  "metadata": {
    "colab": {
      "provenance": [],
      "authorship_tag": "ABX9TyOiBfap6qnRV4Cw5IVRnu/8",
      "include_colab_link": true
    },
    "kernelspec": {
      "name": "python3",
      "display_name": "Python 3"
    },
    "language_info": {
      "name": "python"
    }
  },
  "cells": [
    {
      "cell_type": "markdown",
      "metadata": {
        "id": "view-in-github",
        "colab_type": "text"
      },
      "source": [
        "<a href=\"https://colab.research.google.com/github/financieras/pyCourse/blob/main/jupyter/calisto1/calisto1_0800.ipynb\" target=\"_parent\"><img src=\"https://colab.research.google.com/assets/colab-badge.svg\" alt=\"Open In Colab\"/></a>"
      ]
    },
    {
      "cell_type": "markdown",
      "source": [
        "# La función `zip`\n",
        "La función zip() en Python combina elementos de dos o más iterables en una secuencia de tuplas. Cada tupla contiene los elementos correspondientes de los iterables originales."
      ],
      "metadata": {
        "id": "D3kUfH1LQoBr"
      }
    },
    {
      "cell_type": "markdown",
      "source": [
        "## Ejemplo 1\n",
        "* En este ejemplo, `zip()` combina los elementos de las listas `numeros`, `letras` y `simbolos` en una secuencia de tuplas.\n",
        "* Luego, se itera sobre la secuencia de tuplas y se imprime cada tupla.\n",
        "* Cada tupla contiene los elementos correspondientes de las listas originales en el mismo orden."
      ],
      "metadata": {
        "id": "c76ByM-CRk_X"
      }
    },
    {
      "cell_type": "code",
      "execution_count": 1,
      "metadata": {
        "colab": {
          "base_uri": "https://localhost:8080/"
        },
        "id": "jE-WJfx2QgW9",
        "outputId": "417ca8d3-242e-46cc-cdc2-def1a6d5f914"
      },
      "outputs": [
        {
          "output_type": "stream",
          "name": "stdout",
          "text": [
            "(1, 'a', '!')\n",
            "(2, 'b', '@')\n",
            "(3, 'c', '#')\n"
          ]
        }
      ],
      "source": [
        "numeros = [1, 2, 3]\n",
        "letras = ['a', 'b', 'c']\n",
        "simbolos = ['!', '@', '#']\n",
        "\n",
        "combinados = zip(numeros, letras, simbolos)\n",
        "\n",
        "for tupla in combinados:\n",
        "    print(tupla)"
      ]
    },
    {
      "cell_type": "markdown",
      "source": [
        "## Ejemplo 2\n",
        "En este ejemplo, zip() combina los elementos de las listas nombres, edades y ciudades en una secuencia de tuplas. Luego, se itera sobre la secuencia de tuplas y se desempaquetan los elementos en las variables nombre, edad y ciudad. Finalmente, se imprime la información de cada persona utilizando los valores desempaquetados."
      ],
      "metadata": {
        "id": "5Ex3FUy1SZSk"
      }
    },
    {
      "cell_type": "code",
      "source": [
        "nombres = ['Juan', 'María', 'Pedro']\n",
        "edades = [25, 30, 35]\n",
        "ciudades = ['Madrid', 'Malaga', 'Santander']\n",
        "\n",
        "informacion = zip(nombres, edades, ciudades)\n",
        "\n",
        "for nombre, edad, ciudad in informacion:\n",
        "    print(f\"{nombre} tiene {edad} años y vive en {ciudad}\")\n"
      ],
      "metadata": {
        "colab": {
          "base_uri": "https://localhost:8080/"
        },
        "id": "gnrLFcr6Scd6",
        "outputId": "536b22a9-7cab-46cd-8c12-9560714868cb"
      },
      "execution_count": 2,
      "outputs": [
        {
          "output_type": "stream",
          "name": "stdout",
          "text": [
            "Juan tiene 25 años y vive en Madrid\n",
            "María tiene 30 años y vive en Malaga\n",
            "Pedro tiene 35 años y vive en Santander\n"
          ]
        }
      ]
    },
    {
      "cell_type": "markdown",
      "source": [
        "## Ejemplo 3\n",
        "* Con el uso del operador asterisco `*`\n",
        "* En este ejemplo, `zip()` combina los elementos de las listas `numeros` y `letras` en una secuencia de tuplas.\n",
        "* Luego, utilizamos el operador asterisco `*` junto con `zip()` para desempaquetar las tuplas en dos secuencias separadas.\n",
        "* Finalmente, convertimos las secuencias desempaquetadas en una lista y las imprimimos.\n",
        "* En este caso, desempaquetados contendrá dos listas: una con los números `(1, 2, 3)` y otra con las letras `('a', 'b', 'c')`.\n",
        "* El operador asterisco `*` nos permite desempaquetar las tuplas y separar sus elementos en diferentes secuencias."
      ],
      "metadata": {
        "id": "g0FX8QNzS4yq"
      }
    },
    {
      "cell_type": "code",
      "source": [
        "numeros = [1, 2, 3]\n",
        "letras = ['a', 'b', 'c']\n",
        "\n",
        "combinados = zip(numeros, letras)\n",
        "\n",
        "desempaquetados = list(zip(*combinados))\n",
        "\n",
        "print(desempaquetados)"
      ],
      "metadata": {
        "colab": {
          "base_uri": "https://localhost:8080/"
        },
        "id": "c6WoiY89TAJO",
        "outputId": "695e1fd4-4733-46a2-be71-c604474c9aa1"
      },
      "execution_count": 3,
      "outputs": [
        {
          "output_type": "stream",
          "name": "stdout",
          "text": [
            "[(1, 2, 3), ('a', 'b', 'c')]\n"
          ]
        }
      ]
    }
  ]
}