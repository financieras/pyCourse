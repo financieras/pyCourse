{
  "cells": [
    {
      "cell_type": "markdown",
      "metadata": {
        "id": "view-in-github",
        "colab_type": "text"
      },
      "source": [
        "<a href=\"https://colab.research.google.com/github/financieras/pyCourse/blob/main/jupyter/calisto1_0760.ipynb\" target=\"_parent\"><img src=\"https://colab.research.google.com/assets/colab-badge.svg\" alt=\"Open In Colab\"/></a>"
      ]
    },
    {
      "cell_type": "markdown",
      "metadata": {
        "id": "1fxcUdmWgqn_"
      },
      "source": [
        "# Manejo de excepciones: ejemplos"
      ]
    },
    {
      "cell_type": "markdown",
      "metadata": {
        "id": "ABe0axJegqoE"
      },
      "source": [
        "## División entre cero\n",
        "Dada una división entre cero poner el código de forma más amigable para el usuario."
      ]
    },
    {
      "cell_type": "code",
      "execution_count": null,
      "metadata": {
        "id": "zB2B3NUHgqoH"
      },
      "outputs": [],
      "source": [
        "print(12/0)"
      ]
    },
    {
      "cell_type": "markdown",
      "metadata": {
        "id": "EitDzU7zgqoK"
      },
      "source": [
        "### Solución: añadimos un ```try``` y un ```except``` con el error específico"
      ]
    },
    {
      "cell_type": "code",
      "execution_count": null,
      "metadata": {
        "id": "d0_2Lzc-gqoL"
      },
      "outputs": [],
      "source": [
        "denominador = 0\n",
        "try:\n",
        "    print(12/denominador)\n",
        "except ZeroDivisionError:\n",
        "    print(\"Si el denominador es cero se produce un error al dividir\")\n",
        "    print(\"Para solucionarlo cambie el denominador.\")"
      ]
    },
    {
      "cell_type": "markdown",
      "metadata": {
        "id": "YWRgxYwPgqoO"
      },
      "source": [
        "## Índice de una lista fuera de rango\n",
        "Este error se produce cuando se intenta acceder a un índice de una lista que no existe. Por ejemplo, si la lista es de 4 elementos y pedimos el índice 10.  \n",
        "El error dice:  \n",
        "+ IndexError: list index out of range"
      ]
    },
    {
      "cell_type": "code",
      "execution_count": null,
      "metadata": {
        "id": "6eaJVEtAgqoQ"
      },
      "outputs": [],
      "source": [
        "lista = [1,2,3,4]\n",
        "lista[10]"
      ]
    },
    {
      "cell_type": "markdown",
      "metadata": {
        "id": "MjOsEEs0gqoR"
      },
      "source": [
        "### Solución"
      ]
    },
    {
      "cell_type": "code",
      "execution_count": null,
      "metadata": {
        "id": "JbD13Vl8gqoS"
      },
      "outputs": [],
      "source": [
        "lista = [1,2,3,4]\n",
        "try:\n",
        "    print(lista[3])\n",
        "except IndexError:\n",
        "    print(f\"ERROR. La lista tiene {len(lista)} elementos y estás intentando acceder a uno que está fuera de rango.\")"
      ]
    },
    {
      "cell_type": "markdown",
      "metadata": {
        "id": "okPICKQQgqoV"
      },
      "source": [
        "## Clave no encontrada en un diccionario\n",
        "El error es de tipo KeyError y se produce cuando intentamos acceder a una clave de un diccionario que no existe."
      ]
    },
    {
      "cell_type": "code",
      "execution_count": null,
      "metadata": {
        "id": "O5vhFzPBgqoX"
      },
      "outputs": [],
      "source": [
        "capital = {'Portugal':'Lisboa', 'Italia':'Roma', 'Francia':'París', 'Alemania':'Berlín'}\n",
        "capital['Grecia']   # al preguntar por la capital de Grecia no da Atenas ya que no existe en el diccionario"
      ]
    },
    {
      "cell_type": "markdown",
      "metadata": {
        "id": "3l6oCAnwgqoY"
      },
      "source": [
        "### Solución"
      ]
    },
    {
      "cell_type": "code",
      "execution_count": null,
      "metadata": {
        "id": "ckGeipKZgqoZ"
      },
      "outputs": [],
      "source": [
        "capital = {'Portugal':'Lisboa', 'Italia':'Roma', 'Francia':'París', 'Alemania':'Berlín'}\n",
        "try:\n",
        "    capital['Grecia']\n",
        "except KeyError:\n",
        "    print(\"La capital de ese país no se encuentra aún en nuestro diccionario\")"
      ]
    },
    {
      "cell_type": "markdown",
      "metadata": {
        "id": "DEViJmsQgqob"
      },
      "source": [
        "## Intentando sumar número y cadena\n",
        "Cuando intentamos sumar o concatenar números y cadenas da error:\n",
        "* \"Londres\"+ 2024\n",
        "* 10 + \"20\"\n",
        "* \"10\" + 20 "
      ]
    },
    {
      "cell_type": "code",
      "execution_count": null,
      "metadata": {
        "id": "bx38aRHegqob"
      },
      "outputs": [],
      "source": [
        "10 + \"20\""
      ]
    },
    {
      "cell_type": "code",
      "execution_count": null,
      "metadata": {
        "id": "JX3fS21dgqoc"
      },
      "outputs": [],
      "source": [
        "\"10\" + 20"
      ]
    },
    {
      "cell_type": "markdown",
      "metadata": {
        "id": "NoV6IzFWgqod"
      },
      "source": [
        "### Solución"
      ]
    },
    {
      "cell_type": "code",
      "execution_count": null,
      "metadata": {
        "id": "w4WTpr-jgqoe"
      },
      "outputs": [],
      "source": [
        "try:\n",
        "    print(\"10\" + 20)\n",
        "except TypeError:\n",
        "    print(\"ERROR: es necesario trabajar con el mismo tipo de datos para poder sumarlos o concatenarlos.\")"
      ]
    },
    {
      "cell_type": "markdown",
      "metadata": {
        "id": "ZgsjH7Hlgqof"
      },
      "source": [
        "## ValueError invocado con un ```raise```\n",
        "Disponemos de una lista y deseamos añadir nuevos elementos a la lista, pero si el elemento que deseamos añadir ya se encuentra en la lista debemos crear un error de tipo ValueError y mostrar un mensaje informando que el elemento no se pudo añadir por estar ya y no admitirse duplicados."
      ]
    },
    {
      "cell_type": "markdown",
      "metadata": {
        "id": "RfxB4Ze-gqog"
      },
      "source": [
        "### Solución"
      ]
    },
    {
      "cell_type": "code",
      "execution_count": null,
      "metadata": {
        "id": "wt5ZCAxKgqog"
      },
      "outputs": [],
      "source": [
        "primos = [3, 5, 7, 11, 13, 17]\n",
        "\n",
        "def agregar_sin_repeticion(lista, el):\n",
        "    try:\n",
        "        if el in lista:\n",
        "            raise ValueError\n",
        "        else:\n",
        "            lista.append(el)\n",
        "            print(f\"añadido el {el}\")\n",
        "    except ValueError:\n",
        "        print(f\"ERROR: esta lista no admite elementos duplicados → {el}\")\n",
        "\n",
        "agregar_sin_repeticion(primos, 2)\n",
        "agregar_sin_repeticion(primos, 11)\n",
        "agregar_sin_repeticion(primos, 19)\n",
        "print(\"Primos:\", sorted(primos))   # la lista primos no ha quedado ordenada, simplemente se muestra ordenada"
      ]
    }
  ],
  "metadata": {
    "kernelspec": {
      "display_name": "Python 3",
      "language": "python",
      "name": "python3"
    },
    "language_info": {
      "codemirror_mode": {
        "name": "ipython",
        "version": 3
      },
      "file_extension": ".py",
      "mimetype": "text/x-python",
      "name": "python",
      "nbconvert_exporter": "python",
      "pygments_lexer": "ipython3",
      "version": "3.8.5"
    },
    "colab": {
      "name": "0760_manejo_excepciones.ipynb",
      "provenance": [],
      "include_colab_link": true
    }
  },
  "nbformat": 4,
  "nbformat_minor": 0
}
