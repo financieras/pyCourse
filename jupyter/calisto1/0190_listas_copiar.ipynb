{
  "cells": [
    {
      "cell_type": "markdown",
      "metadata": {
        "id": "view-in-github",
        "colab_type": "text"
      },
      "source": [
        "<a href=\"https://colab.research.google.com/github/financieras/pyCourse/blob/main/jupyter/calisto1/calisto1_0190.ipynb\" target=\"_parent\"><img src=\"https://colab.research.google.com/assets/colab-badge.svg\" alt=\"Open In Colab\"/></a>"
      ]
    },
    {
      "cell_type": "markdown",
      "id": "36e5fd6b",
      "metadata": {
        "id": "36e5fd6b"
      },
      "source": [
        "# Listas [3] Copiar listas y matrices"
      ]
    },
    {
      "cell_type": "markdown",
      "id": "bd2c10e4",
      "metadata": {
        "id": "bd2c10e4"
      },
      "source": [
        "## Copiar lista\n",
        "### Igualando dos listas\n",
        "Igualando dos listas no se hace una copia de valores, se trata de la misma. Ambas ocupan el mismo lugar de memoria y tienen el mismo identificador (id)."
      ]
    },
    {
      "cell_type": "code",
      "execution_count": null,
      "id": "1b2b202b",
      "metadata": {
        "id": "1b2b202b"
      },
      "outputs": [],
      "source": [
        "l1 = ['a', 'b', 'c']\n",
        "l2 = l1              # igualando dos listas se trata del mismo objeto\n",
        "print(\"l1: \", l1)\n",
        "print(\"l2: \", l2)"
      ]
    },
    {
      "cell_type": "markdown",
      "id": "ee0e5081",
      "metadata": {
        "id": "ee0e5081"
      },
      "source": [
        "#### Comprobación\n",
        "Si añadimos con append un elemento a una lista también se añade a la otra puesto que se trata del mismo objeto."
      ]
    },
    {
      "cell_type": "code",
      "execution_count": null,
      "id": "060cf078",
      "metadata": {
        "id": "060cf078"
      },
      "outputs": [],
      "source": [
        "l1.append(\"x\")\n",
        "print(\"l1: \", l1)\n",
        "print(\"l2: \", l2)"
      ]
    },
    {
      "cell_type": "code",
      "execution_count": null,
      "id": "c1ff8225",
      "metadata": {
        "id": "c1ff8225"
      },
      "outputs": [],
      "source": [
        "print(id(l1))\n",
        "print(id(l2))"
      ]
    },
    {
      "cell_type": "markdown",
      "id": "7671aa9a",
      "metadata": {
        "id": "7671aa9a"
      },
      "source": [
        "### Creando un nuevo objeto lista"
      ]
    },
    {
      "cell_type": "code",
      "execution_count": null,
      "id": "62fd2598",
      "metadata": {
        "id": "62fd2598"
      },
      "outputs": [],
      "source": [
        "l1 = ['a', 'b', 'c']\n",
        "l2 = l1[:]           #así se crea un nuevo objeto l2. También vale poner l2=list(l1)\n",
        "print(\"l1: \", l1)\n",
        "print(\"l2: \", l2)"
      ]
    },
    {
      "cell_type": "markdown",
      "id": "6390a857",
      "metadata": {
        "id": "6390a857"
      },
      "source": [
        "#### Comprobación\n",
        "Al añadir un nuevo elemento con append a una lista la otra no queda afectada. Se trata de dos listas que son independientes, son dos objetos diferentes."
      ]
    },
    {
      "cell_type": "code",
      "execution_count": null,
      "id": "2c25502a",
      "metadata": {
        "id": "2c25502a"
      },
      "outputs": [],
      "source": [
        "l1.append(\"x\")\n",
        "print(\"l1: \", l1)\n",
        "print(\"l2: \", l2)"
      ]
    },
    {
      "cell_type": "markdown",
      "id": "29450c15",
      "metadata": {
        "id": "29450c15"
      },
      "source": [
        "## Copiar una matriz  \n",
        "### Igualando dos matrices\n",
        "Igualando dos matrices no se hace una copia de valores, se trata de la misma. Ambas ocupan el mismo lugar de memoria y tienen el mismo identificador (id).  \n",
        "* Lista de listas  \n",
        "* Matrices  \n",
        "* Arrays 2D"
      ]
    },
    {
      "cell_type": "code",
      "execution_count": null,
      "id": "bb18744b",
      "metadata": {
        "id": "bb18744b"
      },
      "outputs": [],
      "source": [
        "x = [[1,2], [3,4]]       # matriz 2x2 o lista bidimensional\n",
        "y = x                    # igualando dos listas no se hace una copia de valores, se trata de la misma\n",
        "print(\"x: \", x)\n",
        "print(\"y: \", y)"
      ]
    },
    {
      "cell_type": "code",
      "execution_count": null,
      "id": "6b532c7f",
      "metadata": {
        "id": "6b532c7f"
      },
      "outputs": [],
      "source": [
        "x[0][0] = 88             # modificamos un valor de una de las dos matrices\n",
        "print(\"x: \", x)\n",
        "print(\"y: \", y)"
      ]
    },
    {
      "cell_type": "code",
      "execution_count": null,
      "id": "152213c9",
      "metadata": {
        "id": "152213c9"
      },
      "outputs": [],
      "source": [
        "print(id(x))\n",
        "print(id(y))"
      ]
    },
    {
      "cell_type": "markdown",
      "id": "4e743412",
      "metadata": {
        "id": "4e743412"
      },
      "source": [
        "### Creando un nuevo objeto matriz\n",
        "Para copiar una lista multidimensional usamos deepcopy."
      ]
    },
    {
      "cell_type": "code",
      "execution_count": null,
      "id": "672f0ad1",
      "metadata": {
        "id": "672f0ad1"
      },
      "outputs": [],
      "source": [
        "from copy import deepcopy\n",
        "x = [[1,2], [3,4]]\n",
        "y = deepcopy(x)       # usando deepcopy\n",
        "print(\"x: \", x)\n",
        "print(\"y: \", y)"
      ]
    },
    {
      "cell_type": "markdown",
      "id": "541e8974",
      "metadata": {
        "id": "541e8974"
      },
      "source": [
        "#### Comprobación\n",
        "Al añadir un nuevo elemento con append a una matriz la otra no queda afectada. Se trata de dos matrices independientes, son dos objetos diferentes."
      ]
    },
    {
      "cell_type": "code",
      "execution_count": null,
      "id": "9e01b131",
      "metadata": {
        "id": "9e01b131"
      },
      "outputs": [],
      "source": [
        "x[0][0] = 88\n",
        "print(\"x: \", x)\n",
        "print(\"y: \", y)"
      ]
    },
    {
      "cell_type": "markdown",
      "id": "082d3266",
      "metadata": {
        "id": "082d3266"
      },
      "source": [
        "Los objetos tienen diferente identificador."
      ]
    },
    {
      "cell_type": "code",
      "execution_count": null,
      "id": "9e0a8dab",
      "metadata": {
        "id": "9e0a8dab"
      },
      "outputs": [],
      "source": [
        "print(id(x))\n",
        "print(id(y))"
      ]
    }
  ],
  "metadata": {
    "kernelspec": {
      "display_name": "Python 3 (ipykernel)",
      "language": "python",
      "name": "python3"
    },
    "language_info": {
      "codemirror_mode": {
        "name": "ipython",
        "version": 3
      },
      "file_extension": ".py",
      "mimetype": "text/x-python",
      "name": "python",
      "nbconvert_exporter": "python",
      "pygments_lexer": "ipython3",
      "version": "3.8.11"
    },
    "colab": {
      "name": "0190_listas_copiar.ipynb",
      "provenance": [],
      "include_colab_link": true
    }
  },
  "nbformat": 4,
  "nbformat_minor": 5
}
