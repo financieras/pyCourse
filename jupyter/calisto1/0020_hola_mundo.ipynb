{
  "cells": [
    {
      "cell_type": "markdown",
      "metadata": {
        "id": "view-in-github",
        "colab_type": "text"
      },
      "source": [
        "<a href=\"https://colab.research.google.com/github/financieras/pyCourse/blob/main/jupyter/calisto1_0020.ipynb\" target=\"_parent\"><img src=\"https://colab.research.google.com/assets/colab-badge.svg\" alt=\"Open In Colab\"/></a>"
      ]
    },
    {
      "cell_type": "markdown",
      "id": "8808b9ed",
      "metadata": {
        "id": "8808b9ed"
      },
      "source": [
        "# Hola Mundo"
      ]
    },
    {
      "cell_type": "code",
      "execution_count": null,
      "id": "f7cab031",
      "metadata": {
        "id": "f7cab031"
      },
      "outputs": [],
      "source": [
        "\"Hola Mundo\""
      ]
    },
    {
      "cell_type": "code",
      "execution_count": null,
      "id": "92c02a71",
      "metadata": {
        "id": "92c02a71"
      },
      "outputs": [],
      "source": [
        "print('Hola mundo')"
      ]
    },
    {
      "cell_type": "markdown",
      "id": "2b69823c",
      "metadata": {
        "id": "2b69823c"
      },
      "source": [
        "## Comentarios del programador"
      ]
    },
    {
      "cell_type": "code",
      "execution_count": null,
      "id": "8b8da79b",
      "metadata": {
        "id": "8b8da79b"
      },
      "outputs": [],
      "source": [
        "# esto es un comentario del programador"
      ]
    },
    {
      "cell_type": "markdown",
      "id": "2119675e",
      "metadata": {
        "id": "2119675e"
      },
      "source": [
        "## Operaciones básicas"
      ]
    },
    {
      "cell_type": "code",
      "execution_count": null,
      "id": "c99b9d46",
      "metadata": {
        "id": "c99b9d46"
      },
      "outputs": [],
      "source": [
        "# suma\n",
        "5 + 7"
      ]
    },
    {
      "cell_type": "code",
      "execution_count": null,
      "id": "3370862b",
      "metadata": {
        "id": "3370862b"
      },
      "outputs": [],
      "source": [
        "5 - 7  # resta"
      ]
    },
    {
      "cell_type": "markdown",
      "id": "88313b50",
      "metadata": {
        "id": "88313b50"
      },
      "source": [
        "## Variables\n",
        "Podemos trabajar con variables:\n",
        "- declararlas\n",
        "- asignar un valor\n",
        "- operar con ellas"
      ]
    },
    {
      "cell_type": "code",
      "execution_count": null,
      "id": "c16fd02d",
      "metadata": {
        "id": "c16fd02d"
      },
      "outputs": [],
      "source": [
        "x = 4"
      ]
    },
    {
      "cell_type": "code",
      "execution_count": null,
      "id": "29d5f50a",
      "metadata": {
        "id": "29d5f50a"
      },
      "outputs": [],
      "source": [
        "x"
      ]
    },
    {
      "cell_type": "code",
      "execution_count": null,
      "id": "d47b585b",
      "metadata": {
        "id": "d47b585b"
      },
      "outputs": [],
      "source": [
        "y = 5\n",
        "y"
      ]
    },
    {
      "cell_type": "code",
      "execution_count": null,
      "id": "e3fa14cc",
      "metadata": {
        "id": "e3fa14cc"
      },
      "outputs": [],
      "source": [
        "z = x + y\n",
        "print(z)"
      ]
    }
  ],
  "metadata": {
    "kernelspec": {
      "display_name": "Python 3",
      "language": "python",
      "name": "python3"
    },
    "language_info": {
      "codemirror_mode": {
        "name": "ipython",
        "version": 3
      },
      "file_extension": ".py",
      "mimetype": "text/x-python",
      "name": "python",
      "nbconvert_exporter": "python",
      "pygments_lexer": "ipython3",
      "version": "3.8.8"
    },
    "colab": {
      "name": "0020_hola_mundo.ipynb",
      "provenance": [],
      "include_colab_link": true
    }
  },
  "nbformat": 4,
  "nbformat_minor": 5
}
