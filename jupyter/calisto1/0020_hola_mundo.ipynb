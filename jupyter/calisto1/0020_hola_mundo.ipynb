{
  "cells": [
    {
      "cell_type": "markdown",
      "metadata": {
        "id": "view-in-github",
        "colab_type": "text"
      },
      "source": [
        "<a href=\"https://colab.research.google.com/github/financieras/pyCourse/blob/main/jupyter/calisto1/0020_hola_mundo.ipynb\" target=\"_parent\"><img src=\"https://colab.research.google.com/assets/colab-badge.svg\" alt=\"Open In Colab\"/></a>"
      ]
    },
    {
      "cell_type": "markdown",
      "id": "8808b9ed",
      "metadata": {
        "id": "8808b9ed"
      },
      "source": [
        "# Hola Mundo"
      ]
    },
    {
      "cell_type": "code",
      "execution_count": 1,
      "id": "f7cab031",
      "metadata": {
        "id": "f7cab031",
        "outputId": "188e6ddd-f7cc-40b0-d1ba-e2b9b4c76195",
        "colab": {
          "base_uri": "https://localhost:8080/",
          "height": 35
        }
      },
      "outputs": [
        {
          "output_type": "execute_result",
          "data": {
            "text/plain": [
              "'Hola Mundo'"
            ],
            "application/vnd.google.colaboratory.intrinsic+json": {
              "type": "string"
            }
          },
          "metadata": {},
          "execution_count": 1
        }
      ],
      "source": [
        "\"Hola Mundo\""
      ]
    },
    {
      "cell_type": "code",
      "execution_count": 2,
      "id": "92c02a71",
      "metadata": {
        "id": "92c02a71",
        "outputId": "5dc612ac-d7b1-4140-fafb-0e700a50cd8e",
        "colab": {
          "base_uri": "https://localhost:8080/"
        }
      },
      "outputs": [
        {
          "output_type": "stream",
          "name": "stdout",
          "text": [
            "Hola mundo\n"
          ]
        }
      ],
      "source": [
        "print('Hola mundo')"
      ]
    },
    {
      "cell_type": "markdown",
      "id": "2b69823c",
      "metadata": {
        "id": "2b69823c"
      },
      "source": [
        "## Comentarios del programador"
      ]
    },
    {
      "cell_type": "code",
      "execution_count": 3,
      "id": "8b8da79b",
      "metadata": {
        "id": "8b8da79b"
      },
      "outputs": [],
      "source": [
        "# esto es un comentario del programador"
      ]
    },
    {
      "cell_type": "markdown",
      "id": "2119675e",
      "metadata": {
        "id": "2119675e"
      },
      "source": [
        "## Operaciones básicas"
      ]
    },
    {
      "cell_type": "code",
      "execution_count": 4,
      "id": "c99b9d46",
      "metadata": {
        "id": "c99b9d46",
        "outputId": "6545bb63-561b-406e-ea61-9d34a3c46a11",
        "colab": {
          "base_uri": "https://localhost:8080/"
        }
      },
      "outputs": [
        {
          "output_type": "execute_result",
          "data": {
            "text/plain": [
              "12"
            ]
          },
          "metadata": {},
          "execution_count": 4
        }
      ],
      "source": [
        "# suma\n",
        "5 + 7"
      ]
    },
    {
      "cell_type": "code",
      "execution_count": 5,
      "id": "3370862b",
      "metadata": {
        "id": "3370862b",
        "outputId": "c3c1e608-a3a2-4d0f-de3b-04dee5a66f6e",
        "colab": {
          "base_uri": "https://localhost:8080/"
        }
      },
      "outputs": [
        {
          "output_type": "execute_result",
          "data": {
            "text/plain": [
              "-2"
            ]
          },
          "metadata": {},
          "execution_count": 5
        }
      ],
      "source": [
        "5 - 7  # resta"
      ]
    },
    {
      "cell_type": "markdown",
      "id": "88313b50",
      "metadata": {
        "id": "88313b50"
      },
      "source": [
        "## Variables\n",
        "Podemos trabajar con variables:\n",
        "- declararlas\n",
        "- asignar un valor\n",
        "- operar con ellas"
      ]
    },
    {
      "cell_type": "code",
      "execution_count": 6,
      "id": "c16fd02d",
      "metadata": {
        "id": "c16fd02d"
      },
      "outputs": [],
      "source": [
        "x = 4"
      ]
    },
    {
      "cell_type": "code",
      "execution_count": 7,
      "id": "29d5f50a",
      "metadata": {
        "id": "29d5f50a",
        "outputId": "b02fb173-b236-474c-95dd-d28ce548eefc",
        "colab": {
          "base_uri": "https://localhost:8080/"
        }
      },
      "outputs": [
        {
          "output_type": "execute_result",
          "data": {
            "text/plain": [
              "4"
            ]
          },
          "metadata": {},
          "execution_count": 7
        }
      ],
      "source": [
        "x"
      ]
    },
    {
      "cell_type": "code",
      "execution_count": 8,
      "id": "d47b585b",
      "metadata": {
        "id": "d47b585b",
        "outputId": "8d6bf2df-3ee0-482a-f13a-68b1a9f028f4",
        "colab": {
          "base_uri": "https://localhost:8080/"
        }
      },
      "outputs": [
        {
          "output_type": "execute_result",
          "data": {
            "text/plain": [
              "5"
            ]
          },
          "metadata": {},
          "execution_count": 8
        }
      ],
      "source": [
        "y = 5\n",
        "y"
      ]
    },
    {
      "cell_type": "code",
      "execution_count": 9,
      "id": "e3fa14cc",
      "metadata": {
        "id": "e3fa14cc",
        "outputId": "4d892790-c528-4d91-cc15-9f30e3437d95",
        "colab": {
          "base_uri": "https://localhost:8080/"
        }
      },
      "outputs": [
        {
          "output_type": "stream",
          "name": "stdout",
          "text": [
            "9\n"
          ]
        }
      ],
      "source": [
        "z = x + y\n",
        "print(z)"
      ]
    }
  ],
  "metadata": {
    "kernelspec": {
      "display_name": "Python 3",
      "language": "python",
      "name": "python3"
    },
    "language_info": {
      "codemirror_mode": {
        "name": "ipython",
        "version": 3
      },
      "file_extension": ".py",
      "mimetype": "text/x-python",
      "name": "python",
      "nbconvert_exporter": "python",
      "pygments_lexer": "ipython3",
      "version": "3.8.8"
    },
    "colab": {
      "name": "0020_hola_mundo.ipynb",
      "provenance": [],
      "include_colab_link": true
    }
  },
  "nbformat": 4,
  "nbformat_minor": 5
}