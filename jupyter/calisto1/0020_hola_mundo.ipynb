{
  "cells": [
    {
      "cell_type": "markdown",
      "metadata": {
        "id": "view-in-github",
        "colab_type": "text"
      },
      "source": [
        "<a href=\"https://colab.research.google.com/github/financieras/pyCourse/blob/main/jupyter/calisto1/0020_hola_mundo.ipynb\" target=\"_parent\"><img src=\"https://colab.research.google.com/assets/colab-badge.svg\" alt=\"Open In Colab\"/></a>"
      ]
    },
    {
      "cell_type": "markdown",
      "id": "8808b9ed",
      "metadata": {
        "id": "8808b9ed"
      },
      "source": [
        "# Hola Mundo"
      ]
    },
    {
      "cell_type": "code",
      "execution_count": 1,
      "id": "f7cab031",
      "metadata": {
        "id": "f7cab031",
        "outputId": "454e32a7-4028-43c1-adc8-3bb43b7d8090",
        "colab": {
          "base_uri": "https://localhost:8080/",
          "height": 35
        }
      },
      "outputs": [
        {
          "output_type": "execute_result",
          "data": {
            "text/plain": [
              "'Hola Mundo'"
            ],
            "application/vnd.google.colaboratory.intrinsic+json": {
              "type": "string"
            }
          },
          "metadata": {},
          "execution_count": 1
        }
      ],
      "source": [
        "\"Hola Mundo\""
      ]
    },
    {
      "cell_type": "code",
      "execution_count": 2,
      "id": "92c02a71",
      "metadata": {
        "id": "92c02a71",
        "outputId": "fff8c765-c63b-4e95-a02e-008b21ec7f52",
        "colab": {
          "base_uri": "https://localhost:8080/"
        }
      },
      "outputs": [
        {
          "output_type": "stream",
          "name": "stdout",
          "text": [
            "Hola mundo\n"
          ]
        }
      ],
      "source": [
        "print('Hola mundo')"
      ]
    },
    {
      "cell_type": "markdown",
      "id": "2b69823c",
      "metadata": {
        "id": "2b69823c"
      },
      "source": [
        "## Comentarios del programador"
      ]
    },
    {
      "cell_type": "code",
      "execution_count": 3,
      "id": "8b8da79b",
      "metadata": {
        "id": "8b8da79b"
      },
      "outputs": [],
      "source": [
        "# esto es un comentario del programador"
      ]
    },
    {
      "cell_type": "markdown",
      "id": "2119675e",
      "metadata": {
        "id": "2119675e"
      },
      "source": [
        "## Operaciones básicas"
      ]
    },
    {
      "cell_type": "code",
      "execution_count": 4,
      "id": "c99b9d46",
      "metadata": {
        "id": "c99b9d46",
        "outputId": "335a1fb9-7dee-40b5-d7a7-f3b06a0e8bbf",
        "colab": {
          "base_uri": "https://localhost:8080/"
        }
      },
      "outputs": [
        {
          "output_type": "execute_result",
          "data": {
            "text/plain": [
              "12"
            ]
          },
          "metadata": {},
          "execution_count": 4
        }
      ],
      "source": [
        "# suma\n",
        "5 + 7"
      ]
    },
    {
      "cell_type": "code",
      "execution_count": 5,
      "id": "3370862b",
      "metadata": {
        "id": "3370862b",
        "outputId": "4f3d0cc3-fe99-4497-fe4b-ff5b6a2430c4",
        "colab": {
          "base_uri": "https://localhost:8080/"
        }
      },
      "outputs": [
        {
          "output_type": "execute_result",
          "data": {
            "text/plain": [
              "-2"
            ]
          },
          "metadata": {},
          "execution_count": 5
        }
      ],
      "source": [
        "5 - 7  # resta"
      ]
    },
    {
      "cell_type": "markdown",
      "id": "88313b50",
      "metadata": {
        "id": "88313b50"
      },
      "source": [
        "## Variables\n",
        "Podemos trabajar con variables:\n",
        "- declararlas\n",
        "- asignar un valor\n",
        "- operar con ellas"
      ]
    },
    {
      "cell_type": "code",
      "execution_count": 6,
      "id": "c16fd02d",
      "metadata": {
        "id": "c16fd02d"
      },
      "outputs": [],
      "source": [
        "x = 4"
      ]
    },
    {
      "cell_type": "code",
      "execution_count": 7,
      "id": "29d5f50a",
      "metadata": {
        "id": "29d5f50a",
        "outputId": "411823ba-0e98-407a-92ff-3def929ad648",
        "colab": {
          "base_uri": "https://localhost:8080/"
        }
      },
      "outputs": [
        {
          "output_type": "execute_result",
          "data": {
            "text/plain": [
              "4"
            ]
          },
          "metadata": {},
          "execution_count": 7
        }
      ],
      "source": [
        "x"
      ]
    },
    {
      "cell_type": "code",
      "execution_count": 8,
      "id": "d47b585b",
      "metadata": {
        "id": "d47b585b",
        "outputId": "4d3aa199-5732-48b1-9b6c-593a5e65f543",
        "colab": {
          "base_uri": "https://localhost:8080/"
        }
      },
      "outputs": [
        {
          "output_type": "execute_result",
          "data": {
            "text/plain": [
              "5"
            ]
          },
          "metadata": {},
          "execution_count": 8
        }
      ],
      "source": [
        "y = 5\n",
        "y"
      ]
    },
    {
      "cell_type": "code",
      "execution_count": 9,
      "id": "e3fa14cc",
      "metadata": {
        "id": "e3fa14cc",
        "outputId": "f3f3da14-f585-47b2-b819-eb74422a666d",
        "colab": {
          "base_uri": "https://localhost:8080/"
        }
      },
      "outputs": [
        {
          "output_type": "stream",
          "name": "stdout",
          "text": [
            "9\n"
          ]
        }
      ],
      "source": [
        "z = x + y\n",
        "print(z)"
      ]
    }
  ],
  "metadata": {
    "kernelspec": {
      "display_name": "Python 3",
      "language": "python",
      "name": "python3"
    },
    "language_info": {
      "codemirror_mode": {
        "name": "ipython",
        "version": 3
      },
      "file_extension": ".py",
      "mimetype": "text/x-python",
      "name": "python",
      "nbconvert_exporter": "python",
      "pygments_lexer": "ipython3",
      "version": "3.8.8"
    },
    "colab": {
      "name": "calisto1_0020.ipynb",
      "provenance": [],
      "include_colab_link": true
    }
  },
  "nbformat": 4,
  "nbformat_minor": 5
}