{
  "cells": [
    {
      "cell_type": "markdown",
      "metadata": {
        "id": "view-in-github",
        "colab_type": "text"
      },
      "source": [
        "<a href=\"https://colab.research.google.com/github/financieras/pyCourse/blob/main/jupyter/calisto1/0390_bucle_while2.ipynb\" target=\"_parent\"><img src=\"https://colab.research.google.com/assets/colab-badge.svg\" alt=\"Open In Colab\"/></a>"
      ]
    },
    {
      "cell_type": "markdown",
      "metadata": {
        "id": "FV_YswTqp3m6"
      },
      "source": [
        "# Bucle ```while```    [2]"
      ],
      "id": "FV_YswTqp3m6"
    },
    {
      "cell_type": "markdown",
      "metadata": {
        "id": "qka3o4m5p3m7"
      },
      "source": [
        "## Introduciendo la instrucción ```break```"
      ],
      "id": "qka3o4m5p3m7"
    },
    {
      "cell_type": "markdown",
      "metadata": {
        "id": "uq_Wdssup3m7"
      },
      "source": [
        "### Primero hacemos un bucle while sencillo"
      ],
      "id": "uq_Wdssup3m7"
    },
    {
      "cell_type": "code",
      "execution_count": 1,
      "metadata": {
        "id": "wUzAygQhp3m8",
        "outputId": "cbaf31b0-fb46-464d-811f-8681f38be6b6",
        "colab": {
          "base_uri": "https://localhost:8080/"
        }
      },
      "outputs": [
        {
          "output_type": "stream",
          "name": "stdout",
          "text": [
            "5\n",
            "4\n",
            "3\n",
            "2\n",
            "1\n"
          ]
        }
      ],
      "source": [
        "contador = 5\n",
        "\n",
        "while contador > 0:\n",
        "    print(contador)\n",
        "    contador -= 1"
      ],
      "id": "wUzAygQhp3m8"
    },
    {
      "cell_type": "markdown",
      "metadata": {
        "id": "vg7RtkLkp3m9"
      },
      "source": [
        "### Segundo, introducimos un ```else```"
      ],
      "id": "vg7RtkLkp3m9"
    },
    {
      "cell_type": "code",
      "execution_count": 2,
      "metadata": {
        "id": "0k0bHHRXp3m9",
        "outputId": "f26a42d8-aeaf-40e6-dc7d-81a991250546",
        "colab": {
          "base_uri": "https://localhost:8080/"
        }
      },
      "outputs": [
        {
          "output_type": "stream",
          "name": "stdout",
          "text": [
            "5\n",
            "4\n",
            "3\n",
            "2\n",
            "1\n",
            "¡Lanzamiento!\n"
          ]
        }
      ],
      "source": [
        "contador = 5\n",
        "\n",
        "while contador > 0:\n",
        "    print(contador)\n",
        "    contador -= 1\n",
        "else:\n",
        "    print(\"¡Lanzamiento!\")"
      ],
      "id": "0k0bHHRXp3m9"
    },
    {
      "cell_type": "markdown",
      "metadata": {
        "id": "-0txISgkp3m-"
      },
      "source": [
        "### Tercero, con un condicional introducimos un ```break```"
      ],
      "id": "-0txISgkp3m-"
    },
    {
      "cell_type": "code",
      "execution_count": 3,
      "metadata": {
        "id": "Ps2VKo8_p3m-",
        "outputId": "363d6c9d-db17-4c8c-dcf6-693e1ca14b02",
        "colab": {
          "base_uri": "https://localhost:8080/"
        }
      },
      "outputs": [
        {
          "output_type": "stream",
          "name": "stdout",
          "text": [
            "5\n",
            "4\n",
            "3\n"
          ]
        }
      ],
      "source": [
        "contador = 5\n",
        "\n",
        "while contador > 0:\n",
        "    print(contador)\n",
        "    contador -= 1\n",
        "    if contador == 2:           # si al llegar la cuenta a tras a 2 introducimos un break se interrumpe todo\n",
        "        break\n",
        "else:                           # incluso queda interrumpido el else, que nunca se ejecutará\n",
        "    print(\"¡Lanzamiento!\")"
      ],
      "id": "Ps2VKo8_p3m-"
    },
    {
      "cell_type": "markdown",
      "metadata": {
        "id": "o9TZ91nap3m_"
      },
      "source": [
        "## Otro ```while``` sencillo"
      ],
      "id": "o9TZ91nap3m_"
    },
    {
      "cell_type": "code",
      "execution_count": 4,
      "metadata": {
        "id": "MDDsGulZp3m_",
        "outputId": "f3dfe355-b380-4169-b53e-cd0f64af007d",
        "colab": {
          "base_uri": "https://localhost:8080/"
        }
      },
      "outputs": [
        {
          "output_type": "stream",
          "name": "stdout",
          "text": [
            "El valor de a es menor de 100, por ahora vale:  0\n",
            "El valor de a es menor de 100, por ahora vale:  10\n",
            "El valor de a es menor de 100, por ahora vale:  20\n",
            "El valor de a es menor de 100, por ahora vale:  30\n",
            "El valor de a es menor de 100, por ahora vale:  40\n",
            "El valor de a es menor de 100, por ahora vale:  50\n",
            "El valor de a es menor de 100, por ahora vale:  60\n",
            "El valor de a es menor de 100, por ahora vale:  70\n",
            "El valor de a es menor de 100, por ahora vale:  80\n",
            "El valor de a es menor de 100, por ahora vale:  90\n"
          ]
        }
      ],
      "source": [
        "a = 0\n",
        "while a < 100:\n",
        "    print(\"El valor de a es menor de 100, por ahora vale: \", a)\n",
        "    a += 10"
      ],
      "id": "MDDsGulZp3m_"
    },
    {
      "cell_type": "markdown",
      "metadata": {
        "id": "A8nsglH3p3nA"
      },
      "source": [
        "## Comprobando contraseña reiteradamente hasta que sea correcta"
      ],
      "id": "A8nsglH3p3nA"
    },
    {
      "cell_type": "code",
      "execution_count": 5,
      "metadata": {
        "id": "H8urdnGop3nA",
        "outputId": "e0337336-18cf-46ce-f954-8d9f1d0784d2",
        "colab": {
          "base_uri": "https://localhost:8080/"
        }
      },
      "outputs": [
        {
          "output_type": "stream",
          "name": "stdout",
          "text": [
            "Introduzca la contraseña: Paris 2024\n",
            "Introduzca la contraseña: Paris2024\n",
            "Introduzca la contraseña: París2024\n",
            "Contraseña correcta. Puede acceder.\n"
          ]
        }
      ],
      "source": [
        "password = \"\"        #inicializamos la variable\n",
        "while password != \"París2024\":\n",
        "    password = str(input(\"Introduzca la contraseña: \"))\n",
        "print(\"Contraseña correcta. Puede acceder.\")"
      ],
      "id": "H8urdnGop3nA"
    },
    {
      "cell_type": "markdown",
      "metadata": {
        "id": "VuGkQFdjp3nA"
      },
      "source": [
        "## Comprobando reiteradamente con un ```while True:```"
      ],
      "id": "VuGkQFdjp3nA"
    },
    {
      "cell_type": "code",
      "execution_count": 6,
      "metadata": {
        "id": "plgiVyzGp3nA",
        "outputId": "3b33e8ce-a3c8-42f7-e78a-a85d8aadd43e",
        "colab": {
          "base_uri": "https://localhost:8080/"
        }
      },
      "outputs": [
        {
          "output_type": "stream",
          "name": "stdout",
          "text": [
            "Introduzca la contraseña: Los Angles 2028\n",
            "Introduzca la contraseña: Los Ángeles 2028\n",
            "Contraseña correcta. \n",
            "Puede acceder.\n"
          ]
        }
      ],
      "source": [
        "while True:\n",
        "    password = str(input(\"Introduzca la contraseña: \"))\n",
        "    if password == \"Los Ángeles 2028\": break\n",
        "print(\"Contraseña correcta. \\nPuede acceder.\")   #Con \\n hacemos un retorno de carro (new line)"
      ],
      "id": "plgiVyzGp3nA"
    },
    {
      "cell_type": "markdown",
      "metadata": {
        "id": "xT_RnBPVp3nB"
      },
      "source": [
        "## Las listas vacías dan ```False```"
      ],
      "id": "xT_RnBPVp3nB"
    },
    {
      "cell_type": "code",
      "execution_count": 7,
      "metadata": {
        "id": "dAgSIoz3p3nB",
        "outputId": "9d8836df-3068-40a3-82a7-db35d9a9e543",
        "colab": {
          "base_uri": "https://localhost:8080/"
        }
      },
      "outputs": [
        {
          "output_type": "stream",
          "name": "stdout",
          "text": [
            "tres\n",
            "dos\n",
            "uno\n",
            "cero\n"
          ]
        }
      ],
      "source": [
        "milista = ['cero', 'uno', 'dos', 'tres']\n",
        "while milista:           #cuando la lista está vacía da False\n",
        "    print(milista.pop(-1))"
      ],
      "id": "dAgSIoz3p3nB"
    },
    {
      "cell_type": "markdown",
      "metadata": {
        "id": "bJ_VO-VGp3nB"
      },
      "source": [
        "## No existe Switch en Python\n",
        "En Python no existe la estructura Select Case o Switch-Case, pero podemos construir su equivalente."
      ],
      "id": "bJ_VO-VGp3nB"
    },
    {
      "cell_type": "code",
      "execution_count": 8,
      "metadata": {
        "id": "bvamscE4p3nB",
        "outputId": "e0871383-0270-42b1-e257-35e6c0cb90c2",
        "colab": {
          "base_uri": "https://localhost:8080/"
        }
      },
      "outputs": [
        {
          "output_type": "stream",
          "name": "stdout",
          "text": [
            "El destino es el aeropuerto de Madrid\n"
          ]
        }
      ],
      "source": [
        "aeropuerto = \"MAD\"               #Equivale a Select Case de otros lenguajes, o Switch-Case\n",
        "while True:\n",
        "    if aeropuerto == \"MAD\": print(\"El destino es el aeropuerto de Madrid\"); break\n",
        "    if aeropuerto == \"BNC\": print(\"El destino es el aeropuerto de Barcelona\"); break\n",
        "    if aeropuerto == \"TFN\": print(\"El destino es el aeropuerto de Tenerife Norte\"); break\n",
        "    break"
      ],
      "id": "bvamscE4p3nB"
    },
    {
      "cell_type": "markdown",
      "metadata": {
        "id": "9hd-4NM6p3nC"
      },
      "source": [
        "## Seguir pidiendo datos hasta que se introduzca uno válido\n",
        "Podemos crear un menú donde el seguirá introduciendo valores con un ```input``` hasta que se introduzca uno admitido dentro de las opciones del menú."
      ],
      "id": "9hd-4NM6p3nC"
    },
    {
      "cell_type": "code",
      "execution_count": 9,
      "metadata": {
        "id": "dXrppbJ2p3nC",
        "outputId": "0d19ae37-821d-47a5-9baa-d35ae9540fab",
        "colab": {
          "base_uri": "https://localhost:8080/"
        }
      },
      "outputs": [
        {
          "output_type": "stream",
          "name": "stdout",
          "text": [
            "Bienvenido al menú que le permite elegir aeropuerto de destino.\n",
            "Indique su destino:\n",
            "        \t1\tDestino Madrid\n",
            "        \t2\tDestino Barcelona\n",
            "        \t3\tDestino Tenerife Norte\n",
            "Indique la opción elegida.3\n",
            "Emitiendo tarjeta de embarque destino TFN.\n",
            "Buen vuelo.\n"
          ]
        }
      ],
      "source": [
        "print(\"Bienvenido al menú que le permite elegir aeropuerto de destino.\")\n",
        "while True:\n",
        "    print('''Indique su destino:\n",
        "        \\t1\\tDestino Madrid\n",
        "        \\t2\\tDestino Barcelona\n",
        "        \\t3\\tDestino Tenerife Norte''')\n",
        "    opcion = input(\"Indique la opción elegida.\")\n",
        "    if opcion == '1':\n",
        "        print(\"Emitiendo tarjeta de embarque destino MAD.\")\n",
        "        break\n",
        "    elif opcion == '2':\n",
        "        print(\"Emitiendo tarjeta de embarque destino BNC.\")\n",
        "        break\n",
        "    elif opcion == '3':\n",
        "        print(\"Emitiendo tarjeta de embarque destino TFN.\")\n",
        "        break\n",
        "    else:\n",
        "        print(\"Debe elegir la opción 1,2 o 3.\")\n",
        "        print(\"Vuelva a intentarlo.\\n\")\n",
        "print(\"Buen vuelo.\")"
      ],
      "id": "dXrppbJ2p3nC"
    },
    {
      "cell_type": "markdown",
      "metadata": {
        "id": "eoAJt_10p3nC"
      },
      "source": [
        "En el código anterior se sale del bucle cuando se elige una de las opciones permitidas.  \n",
        "En el siguiente código se sale del bucle cuando se elige una opción concreta de salida, pero con el resto se repite el bucle."
      ],
      "id": "eoAJt_10p3nC"
    },
    {
      "cell_type": "code",
      "execution_count": 10,
      "metadata": {
        "id": "LELW2fyLp3nC",
        "outputId": "4a894687-2641-4851-da54-7c54a9adf970",
        "colab": {
          "base_uri": "https://localhost:8080/"
        }
      },
      "outputs": [
        {
          "output_type": "stream",
          "name": "stdout",
          "text": [
            "CALCULADORA\n",
            "Indique el primer número:17\n",
            "Indique el segundo número:3\n",
            "\n",
            "Operar con los números 17.0 y 3.0. Elija la operación a realizar:\n",
            "    1 Suma\n",
            "    2 Producto\n",
            "    3 División\n",
            "    4 Salir\n",
            "1\n",
            "La suma de 17.0 e 3.0 es 20.0.\n",
            "\n",
            "Operar con los números 17.0 y 3.0. Elija la operación a realizar:\n",
            "    1 Suma\n",
            "    2 Producto\n",
            "    3 División\n",
            "    4 Salir\n",
            "3\n",
            "Al dividir 17.0 entre 3.0 obtenemos 5.666666666666667.\n",
            "\n",
            "Operar con los números 17.0 y 3.0. Elija la operación a realizar:\n",
            "    1 Suma\n",
            "    2 Producto\n",
            "    3 División\n",
            "    4 Salir\n",
            "4\n",
            "Saliendo de la calculadora... Hasta pronto.\n"
          ]
        }
      ],
      "source": [
        "print(\"CALCULADORA\")\n",
        "x = float(input('Indique el primer número:'))\n",
        "y = float(input('Indique el segundo número:'))\n",
        "while True:\n",
        "    print(f'''\\nOperar con los números {x} y {y}. Elija la operación a realizar:\n",
        "    1 Suma\n",
        "    2 Producto\n",
        "    3 División\n",
        "    4 Salir''')\n",
        "    n = input()\n",
        "    if n=='1':\n",
        "        print(f\"La suma de {x} e {y} es {x+y}.\")\n",
        "    elif n=='2':\n",
        "        print(f\"El producto de {x} e {y} es {x*y}.\")\n",
        "    elif n=='3':\n",
        "        print(f\"Al dividir {x} entre {y} obtenemos {x/y}.\")\n",
        "    elif n=='4':\n",
        "        print(\"Saliendo de la calculadora... Hasta pronto.\")\n",
        "        break\n",
        "    else:\n",
        "        print(\"Opción desconocida, vuelva a intentarlo.\")"
      ],
      "id": "LELW2fyLp3nC"
    },
    {
      "cell_type": "markdown",
      "metadata": {
        "id": "Ctv-g59ip3nD"
      },
      "source": [
        "### Ejercicio  \n",
        "Cree otra versión del código anterior de calculadora donde exista una opción adicional del menú que permita solicitar al usuario nuevos números x e y."
      ],
      "id": "Ctv-g59ip3nD"
    },
    {
      "cell_type": "markdown",
      "metadata": {
        "id": "7X7HEqgJp3nD"
      },
      "source": [
        "#### Solución"
      ],
      "id": "7X7HEqgJp3nD"
    },
    {
      "cell_type": "code",
      "execution_count": 11,
      "metadata": {
        "id": "1gS5LtVOp3nD",
        "outputId": "c63d9679-3e5f-4977-f234-c4139a8a51d4",
        "colab": {
          "base_uri": "https://localhost:8080/"
        }
      },
      "outputs": [
        {
          "output_type": "stream",
          "name": "stdout",
          "text": [
            "Indique el primer número:17\n",
            "Indique el segundo número:3\n",
            "\n",
            "Operar con los números 17.0 y 3.0. Elija la operación a realizar:\n",
            "        1 Suma\n",
            "        2 Producto\n",
            "        3 División\n",
            "        4 Elegir otros números\n",
            "        5 Salir\n",
            "1\n",
            "La suma de 17.0 e 3.0 es 20.0.\n",
            "\n",
            "Operar con los números 17.0 y 3.0. Elija la operación a realizar:\n",
            "        1 Suma\n",
            "        2 Producto\n",
            "        3 División\n",
            "        4 Elegir otros números\n",
            "        5 Salir\n",
            "3\n",
            "Al dividir 17.0 entre 3.0 obtenemos 5.666666666666667.\n",
            "\n",
            "Operar con los números 17.0 y 3.0. Elija la operación a realizar:\n",
            "        1 Suma\n",
            "        2 Producto\n",
            "        3 División\n",
            "        4 Elegir otros números\n",
            "        5 Salir\n",
            "4\n",
            "Indique el primer número:2\n",
            "Indique el segundo número:3\n",
            "\n",
            "Operar con los números 2.0 y 3.0. Elija la operación a realizar:\n",
            "        1 Suma\n",
            "        2 Producto\n",
            "        3 División\n",
            "        4 Elegir otros números\n",
            "        5 Salir\n",
            "2\n",
            "El producto de 2.0 e 3.0 es 6.0.\n",
            "\n",
            "Operar con los números 2.0 y 3.0. Elija la operación a realizar:\n",
            "        1 Suma\n",
            "        2 Producto\n",
            "        3 División\n",
            "        4 Elegir otros números\n",
            "        5 Salir\n",
            "5\n",
            "Saliendo de la calculadora... Hasta pronto.\n"
          ]
        }
      ],
      "source": [
        "calcular = True                                                        # variable de control\n",
        "while calcular:                                                        # la primera vez se entra seguro pq es True\n",
        "    x = float(input('Indique el primer número:'))\n",
        "    y = float(input('Indique el segundo número:'))\n",
        "    while True:                                                        # hemos metido bucle dentro de bucle, están anidados\n",
        "        print(f'''\\nOperar con los números {x} y {y}. Elija la operación a realizar:\n",
        "        1 Suma\n",
        "        2 Producto\n",
        "        3 División\n",
        "        4 Elegir otros números\n",
        "        5 Salir''')\n",
        "        n = input()\n",
        "        if n=='1':\n",
        "            print(f\"La suma de {x} e {y} es {x+y}.\")\n",
        "        elif n=='2':\n",
        "            print(f\"El producto de {x} e {y} es {x*y}.\")\n",
        "        elif n=='3':\n",
        "            print(f\"Al dividir {x} entre {y} obtenemos {x/y}.\")\n",
        "        elif n=='4':\n",
        "            break                                                       # el break nos saca del bucle interno\n",
        "        elif n=='5':\n",
        "            print(\"Saliendo de la calculadora... Hasta pronto.\")\n",
        "            calcular = False                                            # esto permitira salir del bucle externo\n",
        "            break                                                       # el break nos saca del bucle interno\n",
        "        else:\n",
        "            print(\"Opción desconocida, vuelva a intentarlo.\")"
      ],
      "id": "1gS5LtVOp3nD"
    },
    {
      "cell_type": "markdown",
      "metadata": {
        "id": "p0SCfFdqp3nD"
      },
      "source": [
        "### Ejercicio\n",
        "Pedir números por teclado hasta que se introduzca uno impar."
      ],
      "id": "p0SCfFdqp3nD"
    },
    {
      "cell_type": "markdown",
      "metadata": {
        "id": "_M4BPvotp3nE"
      },
      "source": [
        "#### Solución 1"
      ],
      "id": "_M4BPvotp3nE"
    },
    {
      "cell_type": "code",
      "execution_count": 12,
      "metadata": {
        "id": "ajNTsbJpp3nE",
        "outputId": "ecc7211e-2b6a-45b6-bc81-034c43874861",
        "colab": {
          "base_uri": "https://localhost:8080/"
        }
      },
      "outputs": [
        {
          "name": "stdout",
          "output_type": "stream",
          "text": [
            "Indique un numero impar: 2\n",
            "Indique un numero impar: 6\n",
            "Indique un numero impar: 7\n"
          ]
        }
      ],
      "source": [
        "while True:\n",
        "    n = int(input('Indique un numero impar: '))\n",
        "    if n % 2 != 0: break"
      ],
      "id": "ajNTsbJpp3nE"
    },
    {
      "cell_type": "markdown",
      "metadata": {
        "id": "xxCvuBLjp3nE"
      },
      "source": [
        "#### Solución 2"
      ],
      "id": "xxCvuBLjp3nE"
    },
    {
      "cell_type": "code",
      "execution_count": 13,
      "metadata": {
        "id": "1SYZtmIcp3nE",
        "outputId": "58c19a59-d98c-41d2-c909-e368798613d6",
        "colab": {
          "base_uri": "https://localhost:8080/"
        }
      },
      "outputs": [
        {
          "name": "stdout",
          "output_type": "stream",
          "text": [
            "Indique un numero impar: 2\n",
            "Indique un numero impar: 6\n",
            "Indique un numero impar: 7\n"
          ]
        }
      ],
      "source": [
        "n = 2\n",
        "while n % 2 == 0:\n",
        "    n = int(input('Indique un numero impar: '))"
      ],
      "id": "1SYZtmIcp3nE"
    }
  ],
  "metadata": {
    "kernelspec": {
      "display_name": "Python 3",
      "language": "python",
      "name": "python3"
    },
    "language_info": {
      "codemirror_mode": {
        "name": "ipython",
        "version": 3
      },
      "file_extension": ".py",
      "mimetype": "text/x-python",
      "name": "python",
      "nbconvert_exporter": "python",
      "pygments_lexer": "ipython3",
      "version": "3.8.5"
    },
    "colab": {
      "name": "calisto1_0390.ipynb",
      "provenance": [],
      "include_colab_link": true
    }
  },
  "nbformat": 4,
  "nbformat_minor": 5
}