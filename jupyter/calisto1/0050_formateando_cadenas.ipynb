{
  "cells": [
    {
      "cell_type": "markdown",
      "metadata": {
        "id": "view-in-github",
        "colab_type": "text"
      },
      "source": [
        "<a href=\"https://colab.research.google.com/github/financieras/pyCourse/blob/main/jupyter/calisto1/0050_formateando_cadenas.ipynb\" target=\"_parent\"><img src=\"https://colab.research.google.com/assets/colab-badge.svg\" alt=\"Open In Colab\"/></a>"
      ]
    },
    {
      "cell_type": "markdown",
      "id": "789833ee",
      "metadata": {
        "id": "789833ee"
      },
      "source": [
        "# Formateando Cadenas (Strings)\n",
        "\n",
        "\n",
        "## Sistema antiguo con ```%s```"
      ]
    },
    {
      "cell_type": "code",
      "execution_count": 1,
      "id": "c0387e81",
      "metadata": {
        "id": "c0387e81",
        "outputId": "c0996e7b-c192-4045-8123-142c7cacf5cc",
        "colab": {
          "base_uri": "https://localhost:8080/"
        }
      },
      "outputs": [
        {
          "output_type": "stream",
          "name": "stdout",
          "text": [
            "La capital de Lituania es Vilna\n"
          ]
        }
      ],
      "source": [
        "print(\"La capital de %s es %s\"%(\"Lituania\", \"Vilna\"))"
      ]
    },
    {
      "cell_type": "markdown",
      "id": "40007ba8",
      "metadata": {
        "id": "40007ba8"
      },
      "source": [
        "## Usando ```format```"
      ]
    },
    {
      "cell_type": "code",
      "execution_count": 2,
      "id": "c31fb145",
      "metadata": {
        "id": "c31fb145",
        "outputId": "c0fba727-4312-4eb3-8c06-e64b3275e1e1",
        "colab": {
          "base_uri": "https://localhost:8080/"
        }
      },
      "outputs": [
        {
          "output_type": "stream",
          "name": "stdout",
          "text": [
            "Cuando tenía 10 años media 140 cm.\n"
          ]
        }
      ],
      "source": [
        "edad = 10\n",
        "print('Cuando tenía {} años media {} cm.'.format(edad, 140))"
      ]
    },
    {
      "cell_type": "code",
      "execution_count": 3,
      "id": "85018905",
      "metadata": {
        "id": "85018905",
        "outputId": "68ff408c-34df-479f-e07c-599139d1021c",
        "colab": {
          "base_uri": "https://localhost:8080/"
        }
      },
      "outputs": [
        {
          "output_type": "stream",
          "name": "stdout",
          "text": [
            "La suma de 2 más 3 es igual a 5\n"
          ]
        }
      ],
      "source": [
        "print(\"La suma de {} más {} es igual a {}\".format(2, 3, 2+3))"
      ]
    },
    {
      "cell_type": "code",
      "execution_count": 4,
      "id": "35918965",
      "metadata": {
        "id": "35918965",
        "outputId": "b7ddbe70-0756-419c-ccea-e558088509d0",
        "colab": {
          "base_uri": "https://localhost:8080/"
        }
      },
      "outputs": [
        {
          "output_type": "stream",
          "name": "stdout",
          "text": [
            "El producto de 5 y 4 es 20\n"
          ]
        }
      ],
      "source": [
        "texto = \"El producto de {} y {} es {}\"\n",
        "print(texto.format(5, 4, 20))"
      ]
    },
    {
      "cell_type": "code",
      "execution_count": 5,
      "id": "b23ef7f3",
      "metadata": {
        "id": "b23ef7f3",
        "outputId": "d4d8e7e9-a404-49b4-a85e-eeaeb0235846",
        "colab": {
          "base_uri": "https://localhost:8080/"
        }
      },
      "outputs": [
        {
          "output_type": "stream",
          "name": "stdout",
          "text": [
            "Me llamo Luis Olmo\n"
          ]
        }
      ],
      "source": [
        "nombre = \"Luis\"\n",
        "apellido = \"Olmo\"\n",
        "print(\"Me llamo {} {}\".format(nombre, apellido))"
      ]
    },
    {
      "cell_type": "code",
      "execution_count": 6,
      "id": "ef7f6b0a",
      "metadata": {
        "id": "ef7f6b0a",
        "outputId": "ce7b226f-0ac7-453d-8bb2-5c6d8d9abeab",
        "colab": {
          "base_uri": "https://localhost:8080/"
        }
      },
      "outputs": [
        {
          "output_type": "stream",
          "name": "stdout",
          "text": [
            "Me llamo Ana Vega pero llámame simplemente Ana\n"
          ]
        }
      ],
      "source": [
        "nombre = \"Ana\"\n",
        "apellido = \"Vega\"\n",
        "texto = \"Me llamo {0} {1} pero llámame simplemente {0}\"\n",
        "print(texto.format(nombre, apellido))                           # el primero es el de índice 0"
      ]
    },
    {
      "cell_type": "code",
      "execution_count": 7,
      "id": "a11eb886",
      "metadata": {
        "id": "a11eb886",
        "outputId": "6f6c2aaf-0287-4c4f-d823-7af76f348c41",
        "colab": {
          "base_uri": "https://localhost:8080/"
        }
      },
      "outputs": [
        {
          "output_type": "stream",
          "name": "stdout",
          "text": [
            "El Sol y la Luna\n"
          ]
        }
      ],
      "source": [
        "texto = \"El {b} y la {a}\"\n",
        "print(texto.format(a = \"Luna\", b = \"Sol\"))"
      ]
    },
    {
      "cell_type": "code",
      "execution_count": 8,
      "id": "040ebe18",
      "metadata": {
        "id": "040ebe18",
        "outputId": "95e4be36-9f8e-4a40-a2ce-d8f8a0caaa37",
        "colab": {
          "base_uri": "https://localhost:8080/"
        }
      },
      "outputs": [
        {
          "output_type": "stream",
          "name": "stdout",
          "text": [
            "Nuestro amigo Juan cumple 24 años\n"
          ]
        }
      ],
      "source": [
        "nombre = \"Juan\"\n",
        "edad = 24\n",
        "print(\"Nuestro amigo {} cumple {} años\".format(nombre,edad))"
      ]
    },
    {
      "cell_type": "code",
      "execution_count": 9,
      "id": "b9ab5b87",
      "metadata": {
        "id": "b9ab5b87",
        "outputId": "589ce99c-9776-419d-fd01-8a46b322f922",
        "colab": {
          "base_uri": "https://localhost:8080/"
        }
      },
      "outputs": [
        {
          "output_type": "stream",
          "name": "stdout",
          "text": [
            "Para conseguir tu objetivo necesitas tres cosas: motivación, motivación y motivación.\n"
          ]
        }
      ],
      "source": [
        "print(\"Para conseguir tu objetivo necesitas tres cosas: {m}, {m} y {m}.\".format(m='motivación'))"
      ]
    },
    {
      "cell_type": "markdown",
      "id": "395c2c29",
      "metadata": {
        "id": "395c2c29"
      },
      "source": [
        "## El sistema ```f```"
      ]
    },
    {
      "cell_type": "code",
      "execution_count": 10,
      "id": "49c26ddc",
      "metadata": {
        "id": "49c26ddc",
        "outputId": "5c204d6e-3ddb-4f7f-8c4e-2fa854e93ef7",
        "colab": {
          "base_uri": "https://localhost:8080/"
        }
      },
      "outputs": [
        {
          "output_type": "stream",
          "name": "stdout",
          "text": [
            "Nuestro amigo Juan cumple 24 años\n"
          ]
        }
      ],
      "source": [
        "nombre = \"Juan\"\n",
        "edad = 24\n",
        "print(f\"Nuestro amigo {nombre} cumple {edad} años\")"
      ]
    },
    {
      "cell_type": "code",
      "execution_count": 11,
      "id": "8bce4ed7",
      "metadata": {
        "id": "8bce4ed7",
        "outputId": "7279ab69-a28e-4e76-f94d-0ecd924ee40a",
        "colab": {
          "base_uri": "https://localhost:8080/"
        }
      },
      "outputs": [
        {
          "output_type": "stream",
          "name": "stdout",
          "text": [
            "La suma de 4 más 6 es igual a 10\n"
          ]
        }
      ],
      "source": [
        "x = 4\n",
        "y = 6\n",
        "z = x + y\n",
        "print(f\"La suma de {x} más {y} es igual a {z}\")"
      ]
    },
    {
      "cell_type": "markdown",
      "id": "f7755624",
      "metadata": {
        "id": "f7755624"
      },
      "source": [
        "Podemos realizar operaciones en las llaves, dentro de las comillas."
      ]
    },
    {
      "cell_type": "code",
      "execution_count": 12,
      "id": "b27687d8",
      "metadata": {
        "id": "b27687d8",
        "outputId": "35387c29-2149-4d40-bc83-c4897d687303",
        "colab": {
          "base_uri": "https://localhost:8080/"
        }
      },
      "outputs": [
        {
          "output_type": "stream",
          "name": "stdout",
          "text": [
            "El área es 8\n"
          ]
        }
      ],
      "source": [
        "print(f'El área es {2*4}')"
      ]
    },
    {
      "cell_type": "markdown",
      "id": "4c95b292",
      "metadata": {
        "id": "4c95b292"
      },
      "source": [
        "### Invocando funciones\n",
        "Incluso podemos invocar funciones dentro de las comillas."
      ]
    },
    {
      "cell_type": "code",
      "execution_count": 13,
      "id": "7c177f26",
      "metadata": {
        "id": "7c177f26",
        "outputId": "7b3809d0-ed02-4f2c-8ee7-7ab053d98710",
        "colab": {
          "base_uri": "https://localhost:8080/"
        }
      },
      "outputs": [
        {
          "output_type": "stream",
          "name": "stdout",
          "text": [
            "El doble de 9 es 18\n"
          ]
        }
      ],
      "source": [
        "def doblar(n):\n",
        "  return 2*n\n",
        "\n",
        "print(f\"El doble de 9 es {doblar(9)}\")"
      ]
    }
  ],
  "metadata": {
    "kernelspec": {
      "display_name": "Python 3 (ipykernel)",
      "language": "python",
      "name": "python3"
    },
    "language_info": {
      "codemirror_mode": {
        "name": "ipython",
        "version": 3
      },
      "file_extension": ".py",
      "mimetype": "text/x-python",
      "name": "python",
      "nbconvert_exporter": "python",
      "pygments_lexer": "ipython3",
      "version": "3.8.11"
    },
    "colab": {
      "name": "calisto1_0050.ipynb",
      "provenance": [],
      "include_colab_link": true
    }
  },
  "nbformat": 4,
  "nbformat_minor": 5
}