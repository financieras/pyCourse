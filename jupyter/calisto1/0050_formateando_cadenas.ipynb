{
  "cells": [
    {
      "cell_type": "markdown",
      "metadata": {
        "id": "view-in-github",
        "colab_type": "text"
      },
      "source": [
        "<a href=\"https://colab.research.google.com/github/financieras/pyCourse/blob/main/jupyter/calisto1_0050.ipynb\" target=\"_parent\"><img src=\"https://colab.research.google.com/assets/colab-badge.svg\" alt=\"Open In Colab\"/></a>"
      ]
    },
    {
      "cell_type": "markdown",
      "id": "789833ee",
      "metadata": {
        "id": "789833ee"
      },
      "source": [
        "# Formateando Cadenas (Strings)\n",
        "\n",
        "\n",
        "## Sistema antiguo con ```%s```"
      ]
    },
    {
      "cell_type": "code",
      "execution_count": null,
      "id": "c0387e81",
      "metadata": {
        "id": "c0387e81"
      },
      "outputs": [],
      "source": [
        "print(\"La capital de %s es %s\"%(\"Lituania\", \"Vilna\"))"
      ]
    },
    {
      "cell_type": "markdown",
      "id": "40007ba8",
      "metadata": {
        "id": "40007ba8"
      },
      "source": [
        "## Usando ```format```"
      ]
    },
    {
      "cell_type": "code",
      "execution_count": null,
      "id": "c31fb145",
      "metadata": {
        "id": "c31fb145"
      },
      "outputs": [],
      "source": [
        "edad = 10\n",
        "print('Cuando tenía {} años media {} cm.'.format(edad, 140))"
      ]
    },
    {
      "cell_type": "code",
      "execution_count": null,
      "id": "85018905",
      "metadata": {
        "id": "85018905"
      },
      "outputs": [],
      "source": [
        "print(\"La suma de {} más {} es igual a {}\".format(2, 3, 2+3))"
      ]
    },
    {
      "cell_type": "code",
      "execution_count": null,
      "id": "35918965",
      "metadata": {
        "id": "35918965"
      },
      "outputs": [],
      "source": [
        "texto = \"El producto de {} y {} es {}\"\n",
        "print(texto.format(5, 4, 20))"
      ]
    },
    {
      "cell_type": "code",
      "execution_count": null,
      "id": "b23ef7f3",
      "metadata": {
        "id": "b23ef7f3"
      },
      "outputs": [],
      "source": [
        "nombre = \"Luis\"\n",
        "apellido = \"Olmo\"\n",
        "print(\"Me llamo {} {}\".format(nombre, apellido))"
      ]
    },
    {
      "cell_type": "code",
      "execution_count": null,
      "id": "ef7f6b0a",
      "metadata": {
        "id": "ef7f6b0a"
      },
      "outputs": [],
      "source": [
        "nombre = \"Ana\"\n",
        "apellido = \"Vega\"\n",
        "texto = \"Me llamo {0} {1} pero llámame simplemente {0}\"\n",
        "print(texto.format(nombre, apellido))                           # el primero es el de índice 0"
      ]
    },
    {
      "cell_type": "code",
      "execution_count": null,
      "id": "a11eb886",
      "metadata": {
        "id": "a11eb886"
      },
      "outputs": [],
      "source": [
        "texto = \"El {b} y la {a}\"\n",
        "print(texto.format(a = \"Luna\", b = \"Sol\"))"
      ]
    },
    {
      "cell_type": "code",
      "execution_count": null,
      "id": "040ebe18",
      "metadata": {
        "id": "040ebe18"
      },
      "outputs": [],
      "source": [
        "nombre = \"Juan\"\n",
        "edad = 24\n",
        "print(\"Nuestro amigo {} cumple {} años\".format(nombre,edad))"
      ]
    },
    {
      "cell_type": "code",
      "execution_count": null,
      "id": "b9ab5b87",
      "metadata": {
        "id": "b9ab5b87"
      },
      "outputs": [],
      "source": [
        "print(\"Para conseguir tu objetivo necesitas tres cosas: {m}, {m} y {m}.\".format(m='motivación'))"
      ]
    },
    {
      "cell_type": "markdown",
      "id": "395c2c29",
      "metadata": {
        "id": "395c2c29"
      },
      "source": [
        "## El sistema ```f```"
      ]
    },
    {
      "cell_type": "code",
      "execution_count": null,
      "id": "49c26ddc",
      "metadata": {
        "id": "49c26ddc"
      },
      "outputs": [],
      "source": [
        "nombre = \"Juan\"\n",
        "edad = 24\n",
        "print(f\"Nuestro amigo {nombre} cumple {edad} años\")"
      ]
    },
    {
      "cell_type": "code",
      "execution_count": null,
      "id": "8bce4ed7",
      "metadata": {
        "id": "8bce4ed7"
      },
      "outputs": [],
      "source": [
        "x = 4\n",
        "y = 6\n",
        "z = x + y\n",
        "print(f\"La suma de {x} más {y} es igual a {z}\")"
      ]
    },
    {
      "cell_type": "markdown",
      "id": "f7755624",
      "metadata": {
        "id": "f7755624"
      },
      "source": [
        "Podemos realizar operaciones en las llaves, dentro de las comillas."
      ]
    },
    {
      "cell_type": "code",
      "execution_count": null,
      "id": "b27687d8",
      "metadata": {
        "id": "b27687d8"
      },
      "outputs": [],
      "source": [
        "print(f'El área es {2*4}')"
      ]
    },
    {
      "cell_type": "markdown",
      "id": "4c95b292",
      "metadata": {
        "id": "4c95b292"
      },
      "source": [
        "### Invocando funciones\n",
        "Incluso podemos invocar funciones dentro de las comillas."
      ]
    },
    {
      "cell_type": "code",
      "execution_count": null,
      "id": "7c177f26",
      "metadata": {
        "id": "7c177f26"
      },
      "outputs": [],
      "source": [
        "def doblar(n):\n",
        "  return 2*n\n",
        "\n",
        "print(f\"El doble de 9 es {doblar(9)}\")"
      ]
    }
  ],
  "metadata": {
    "kernelspec": {
      "display_name": "Python 3 (ipykernel)",
      "language": "python",
      "name": "python3"
    },
    "language_info": {
      "codemirror_mode": {
        "name": "ipython",
        "version": 3
      },
      "file_extension": ".py",
      "mimetype": "text/x-python",
      "name": "python",
      "nbconvert_exporter": "python",
      "pygments_lexer": "ipython3",
      "version": "3.8.11"
    },
    "colab": {
      "name": "0050_formateando_cadenas.ipynb",
      "provenance": [],
      "include_colab_link": true
    }
  },
  "nbformat": 4,
  "nbformat_minor": 5
}
