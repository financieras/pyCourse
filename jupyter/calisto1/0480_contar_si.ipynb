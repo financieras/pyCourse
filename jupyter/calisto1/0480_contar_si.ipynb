{
  "cells": [
    {
      "cell_type": "markdown",
      "metadata": {
        "id": "view-in-github",
        "colab_type": "text"
      },
      "source": [
        "<a href=\"https://colab.research.google.com/github/financieras/pyCourse/blob/main/jupyter/calisto1/0480_contar_si.ipynb\" target=\"_parent\"><img src=\"https://colab.research.google.com/assets/colab-badge.svg\" alt=\"Open In Colab\"/></a>"
      ]
    },
    {
      "cell_type": "markdown",
      "metadata": {
        "id": "Q9t2yNzealaw"
      },
      "source": [
        "# Contar si"
      ],
      "id": "Q9t2yNzealaw"
    },
    {
      "cell_type": "markdown",
      "metadata": {
        "id": "SzNKkeH9alax"
      },
      "source": [
        "Dada una lista contar los elementos que cumplen un par de condiciones."
      ],
      "id": "SzNKkeH9alax"
    },
    {
      "cell_type": "code",
      "execution_count": 6,
      "metadata": {
        "id": "bgE-CUb3alay",
        "outputId": "47151018-6ffb-4e23-f408-4b8fa2517cee",
        "colab": {
          "base_uri": "https://localhost:8080/"
        }
      },
      "outputs": [
        {
          "output_type": "stream",
          "name": "stdout",
          "text": [
            "[29, 20, 34, 45, 84, 91, 54, 65, 44, 52, 41, 85, 38, 55, 58]\n",
            "¿Cuántos son menores de 50 e impares? 3\n",
            "Son: [29, 45, 41]\n"
          ]
        }
      ],
      "source": [
        "import random\n",
        "\n",
        "randomlist = random.sample(range(10, 100), 15)      # lista de 15 enteros aleatorios entre 10 y 99\n",
        "print(randomlist)\n",
        "\n",
        "n = sum(1 for i in randomlist if i<50 and i%2==1)   # lo que se suma es un generator object\n",
        "print('¿Cuántos son menores de 50 e impares?', n)\n",
        "print(f\"Son: {[i for i in randomlist if i<50 and i%2]}\")"
      ],
      "id": "bgE-CUb3alay"
    }
  ],
  "metadata": {
    "kernelspec": {
      "display_name": "Python 3",
      "language": "python",
      "name": "python3"
    },
    "language_info": {
      "codemirror_mode": {
        "name": "ipython",
        "version": 3
      },
      "file_extension": ".py",
      "mimetype": "text/x-python",
      "name": "python",
      "nbconvert_exporter": "python",
      "pygments_lexer": "ipython3",
      "version": "3.8.5"
    },
    "colab": {
      "name": "calisto1_0480.ipynb",
      "provenance": [],
      "include_colab_link": true
    }
  },
  "nbformat": 4,
  "nbformat_minor": 5
}