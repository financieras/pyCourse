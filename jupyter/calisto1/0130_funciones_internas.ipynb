{
  "cells": [
    {
      "cell_type": "markdown",
      "metadata": {
        "id": "view-in-github",
        "colab_type": "text"
      },
      "source": [
        "<a href=\"https://colab.research.google.com/github/financieras/pyCourse/blob/main/jupyter/calisto1/0130_funciones_internas.ipynb\" target=\"_parent\"><img src=\"https://colab.research.google.com/assets/colab-badge.svg\" alt=\"Open In Colab\"/></a>"
      ]
    },
    {
      "cell_type": "markdown",
      "id": "7c0d850e",
      "metadata": {
        "id": "7c0d850e"
      },
      "source": [
        "# Funciones internas\n",
        "Funciones integradas en Python.  \n",
        "[Funciones Built-in](https://docs.python.org/es/3.9/library/functions.html)"
      ]
    },
    {
      "cell_type": "markdown",
      "id": "3a6fac56",
      "metadata": {
        "id": "3a6fac56"
      },
      "source": [
        "- print()\n",
        "- exit()\n",
        "- abs()\n",
        "- round()\n",
        "- chr()\n",
        "- float()\n",
        "- int()\n",
        "- str()\n",
        "- input()\n",
        "- len()\n",
        "- max()\n",
        "- min()\n",
        "- sum()\n",
        "- pow()\n",
        "- eval()"
      ]
    },
    {
      "cell_type": "markdown",
      "id": "0cc98642",
      "metadata": {
        "id": "0cc98642"
      },
      "source": [
        "## type"
      ]
    },
    {
      "cell_type": "code",
      "execution_count": 1,
      "id": "8349d7c6",
      "metadata": {
        "id": "8349d7c6",
        "outputId": "fa2e5542-c2b0-458b-ef53-06dba9b23621",
        "colab": {
          "base_uri": "https://localhost:8080/"
        }
      },
      "outputs": [
        {
          "output_type": "execute_result",
          "data": {
            "text/plain": [
              "str"
            ]
          },
          "metadata": {},
          "execution_count": 1
        }
      ],
      "source": [
        "type(\"Hola\")"
      ]
    },
    {
      "cell_type": "code",
      "execution_count": 2,
      "id": "8245f5b9",
      "metadata": {
        "id": "8245f5b9",
        "outputId": "d2f885ae-3d99-4024-9f9d-d79916c5c5b4",
        "colab": {
          "base_uri": "https://localhost:8080/"
        }
      },
      "outputs": [
        {
          "output_type": "execute_result",
          "data": {
            "text/plain": [
              "int"
            ]
          },
          "metadata": {},
          "execution_count": 2
        }
      ],
      "source": [
        "type(5)"
      ]
    },
    {
      "cell_type": "code",
      "execution_count": 3,
      "id": "5d7f67c6",
      "metadata": {
        "id": "5d7f67c6",
        "outputId": "f3ec061d-e09d-44cc-e14d-6096f22d5daf",
        "colab": {
          "base_uri": "https://localhost:8080/"
        }
      },
      "outputs": [
        {
          "output_type": "execute_result",
          "data": {
            "text/plain": [
              "float"
            ]
          },
          "metadata": {},
          "execution_count": 3
        }
      ],
      "source": [
        "type(10/2)"
      ]
    },
    {
      "cell_type": "code",
      "execution_count": 4,
      "id": "821f6506",
      "metadata": {
        "id": "821f6506",
        "outputId": "1ec5a8b1-7722-4547-d14f-0e823eaab7d1",
        "colab": {
          "base_uri": "https://localhost:8080/"
        }
      },
      "outputs": [
        {
          "output_type": "execute_result",
          "data": {
            "text/plain": [
              "bool"
            ]
          },
          "metadata": {},
          "execution_count": 4
        }
      ],
      "source": [
        "type(5==5)"
      ]
    },
    {
      "cell_type": "code",
      "execution_count": 5,
      "id": "4484a4ef",
      "metadata": {
        "id": "4484a4ef",
        "outputId": "5a78c6e6-2ed6-458d-8375-f7e4d1cbdf62",
        "colab": {
          "base_uri": "https://localhost:8080/"
        }
      },
      "outputs": [
        {
          "output_type": "execute_result",
          "data": {
            "text/plain": [
              "bool"
            ]
          },
          "metadata": {},
          "execution_count": 5
        }
      ],
      "source": [
        "type(5=='5')"
      ]
    },
    {
      "cell_type": "code",
      "execution_count": 6,
      "id": "9a92e47b",
      "metadata": {
        "id": "9a92e47b",
        "outputId": "db2790b9-3cc6-41b4-d1f9-53d92874e815",
        "colab": {
          "base_uri": "https://localhost:8080/"
        }
      },
      "outputs": [
        {
          "output_type": "stream",
          "name": "stdout",
          "text": [
            "Indique un número:7\n",
            "False\n"
          ]
        },
        {
          "output_type": "execute_result",
          "data": {
            "text/plain": [
              "bool"
            ]
          },
          "metadata": {},
          "execution_count": 6
        }
      ],
      "source": [
        "num = input(\"Indique un número:\")\n",
        "print(7==num)                     # ¿alguna vez dará True?\n",
        "type(7==num)"
      ]
    },
    {
      "cell_type": "markdown",
      "id": "62f9a62b",
      "metadata": {
        "id": "62f9a62b"
      },
      "source": [
        "## len"
      ]
    },
    {
      "cell_type": "code",
      "execution_count": 7,
      "id": "d50a8769",
      "metadata": {
        "id": "d50a8769",
        "outputId": "ab4756ab-607e-483c-deee-57654c647aa8",
        "colab": {
          "base_uri": "https://localhost:8080/"
        }
      },
      "outputs": [
        {
          "output_type": "execute_result",
          "data": {
            "text/plain": [
              "4"
            ]
          },
          "metadata": {},
          "execution_count": 7
        }
      ],
      "source": [
        "len(\"Hola\")                       # longitud 4"
      ]
    },
    {
      "cell_type": "code",
      "execution_count": 8,
      "id": "2c640cb4",
      "metadata": {
        "id": "2c640cb4",
        "outputId": "bfb2f8f7-b5f7-403e-c30d-02adcc023c3e",
        "colab": {
          "base_uri": "https://localhost:8080/"
        }
      },
      "outputs": [
        {
          "output_type": "execute_result",
          "data": {
            "text/plain": [
              "0"
            ]
          },
          "metadata": {},
          "execution_count": 8
        }
      ],
      "source": [
        "len([])"
      ]
    },
    {
      "cell_type": "code",
      "execution_count": 9,
      "id": "4ea9ab08",
      "metadata": {
        "id": "4ea9ab08",
        "outputId": "29b88d85-c09b-4c95-ea76-dadb95ce99d0",
        "colab": {
          "base_uri": "https://localhost:8080/"
        }
      },
      "outputs": [
        {
          "output_type": "execute_result",
          "data": {
            "text/plain": [
              "3"
            ]
          },
          "metadata": {},
          "execution_count": 9
        }
      ],
      "source": [
        "len([1,2,3])"
      ]
    },
    {
      "cell_type": "markdown",
      "id": "1865ff75",
      "metadata": {
        "id": "1865ff75"
      },
      "source": [
        "## eval"
      ]
    },
    {
      "cell_type": "code",
      "execution_count": 10,
      "id": "cf2a0493",
      "metadata": {
        "id": "cf2a0493",
        "outputId": "d22478cb-9ae5-4803-dbcb-a7b6c67c172d",
        "colab": {
          "base_uri": "https://localhost:8080/"
        }
      },
      "outputs": [
        {
          "output_type": "execute_result",
          "data": {
            "text/plain": [
              "7"
            ]
          },
          "metadata": {},
          "execution_count": 10
        }
      ],
      "source": [
        "x = 2\n",
        "eval(\"1+3*x\")                     # 7"
      ]
    },
    {
      "cell_type": "markdown",
      "id": "00935809",
      "metadata": {
        "id": "00935809"
      },
      "source": [
        "## sum"
      ]
    },
    {
      "cell_type": "code",
      "execution_count": 11,
      "id": "1c5c3f42",
      "metadata": {
        "id": "1c5c3f42",
        "outputId": "b1cfb776-fda4-46ab-bd85-543a265c5c00",
        "colab": {
          "base_uri": "https://localhost:8080/"
        }
      },
      "outputs": [
        {
          "output_type": "execute_result",
          "data": {
            "text/plain": [
              "6"
            ]
          },
          "metadata": {},
          "execution_count": 11
        }
      ],
      "source": [
        "sum([1, 2, 3])                    # 6   suma los elementos de una lista"
      ]
    },
    {
      "cell_type": "markdown",
      "id": "16a91082",
      "metadata": {
        "id": "16a91082"
      },
      "source": [
        "## pow"
      ]
    },
    {
      "cell_type": "code",
      "execution_count": 12,
      "id": "36b726da",
      "metadata": {
        "id": "36b726da",
        "outputId": "57734db3-1f3a-4480-ff60-85b90530f8ce",
        "colab": {
          "base_uri": "https://localhost:8080/"
        }
      },
      "outputs": [
        {
          "output_type": "execute_result",
          "data": {
            "text/plain": [
              "8"
            ]
          },
          "metadata": {},
          "execution_count": 12
        }
      ],
      "source": [
        "pow(2,3)                          # función potencias"
      ]
    },
    {
      "cell_type": "markdown",
      "id": "6fac6b36",
      "metadata": {
        "id": "6fac6b36"
      },
      "source": [
        "## abs"
      ]
    },
    {
      "cell_type": "code",
      "execution_count": 13,
      "id": "e3e65f23",
      "metadata": {
        "id": "e3e65f23",
        "outputId": "7181b38d-aa99-4e03-bcd1-48b5a59fe037",
        "colab": {
          "base_uri": "https://localhost:8080/"
        }
      },
      "outputs": [
        {
          "output_type": "execute_result",
          "data": {
            "text/plain": [
              "3"
            ]
          },
          "metadata": {},
          "execution_count": 13
        }
      ],
      "source": [
        "abs(-3)"
      ]
    },
    {
      "cell_type": "markdown",
      "id": "fc8621d8",
      "metadata": {
        "id": "fc8621d8"
      },
      "source": [
        "## round"
      ]
    },
    {
      "cell_type": "code",
      "execution_count": 14,
      "id": "6eb6f90f",
      "metadata": {
        "id": "6eb6f90f",
        "outputId": "30706e7b-c6e8-49ce-f298-cb4ab9e7d9a3",
        "colab": {
          "base_uri": "https://localhost:8080/"
        }
      },
      "outputs": [
        {
          "output_type": "execute_result",
          "data": {
            "text/plain": [
              "7"
            ]
          },
          "metadata": {},
          "execution_count": 14
        }
      ],
      "source": [
        "round(6.9)"
      ]
    },
    {
      "cell_type": "code",
      "execution_count": 15,
      "id": "fa63ebc8",
      "metadata": {
        "id": "fa63ebc8",
        "outputId": "2eb5c56d-e961-4562-8ea0-7bfaf25ad3a9",
        "colab": {
          "base_uri": "https://localhost:8080/"
        }
      },
      "outputs": [
        {
          "output_type": "execute_result",
          "data": {
            "text/plain": [
              "3.142"
            ]
          },
          "metadata": {},
          "execution_count": 15
        }
      ],
      "source": [
        "round(3.14159, 3)"
      ]
    },
    {
      "cell_type": "markdown",
      "id": "c0fe273e",
      "metadata": {
        "id": "c0fe273e"
      },
      "source": [
        "## str"
      ]
    },
    {
      "cell_type": "code",
      "execution_count": 16,
      "id": "dd1e34db",
      "metadata": {
        "id": "dd1e34db"
      },
      "outputs": [],
      "source": [
        "edad = 5\n",
        "#print('Solo tiene ' + edad + ' años')         # TypeError: can only concatenate str (not \"int\") to str"
      ]
    },
    {
      "cell_type": "code",
      "execution_count": 17,
      "id": "4b6fb85c",
      "metadata": {
        "id": "4b6fb85c",
        "outputId": "51806bac-b38f-4338-a98f-4b5815c44ca9",
        "colab": {
          "base_uri": "https://localhost:8080/"
        }
      },
      "outputs": [
        {
          "output_type": "stream",
          "name": "stdout",
          "text": [
            "Solo tiene 5 años\n",
            "Solo tiene 5 años\n",
            "Solo tiene 5 años\n"
          ]
        }
      ],
      "source": [
        "print('Solo tiene ' + str(edad) + ' años')     # Solo tiene 5 años  str() convierte un número en un string\n",
        "print('Solo tiene {} años'.format(edad))       # Solo tiene 5 años\n",
        "print(f'Solo tiene {edad} años')               # Solo tiene 5 años"
      ]
    },
    {
      "cell_type": "markdown",
      "id": "db4a2295",
      "metadata": {
        "id": "db4a2295"
      },
      "source": [
        "## int"
      ]
    },
    {
      "cell_type": "code",
      "execution_count": 18,
      "id": "73507a0c",
      "metadata": {
        "id": "73507a0c",
        "outputId": "7b0259b8-2cbe-4680-d64c-b501fce69580",
        "colab": {
          "base_uri": "https://localhost:8080/"
        }
      },
      "outputs": [
        {
          "output_type": "stream",
          "name": "stdout",
          "text": [
            "5\n"
          ]
        }
      ],
      "source": [
        "print(int(5.7))                                # 5"
      ]
    },
    {
      "cell_type": "markdown",
      "id": "fd0071bd",
      "metadata": {
        "id": "fd0071bd"
      },
      "source": [
        "## float"
      ]
    },
    {
      "cell_type": "code",
      "execution_count": 19,
      "id": "d6612dfa",
      "metadata": {
        "id": "d6612dfa",
        "outputId": "90820f61-a0b0-4275-eb61-e0e1462c049d",
        "colab": {
          "base_uri": "https://localhost:8080/"
        }
      },
      "outputs": [
        {
          "output_type": "execute_result",
          "data": {
            "text/plain": [
              "3.14"
            ]
          },
          "metadata": {},
          "execution_count": 19
        }
      ],
      "source": [
        "float(\"3.14\")"
      ]
    },
    {
      "cell_type": "markdown",
      "id": "608879ef",
      "metadata": {
        "id": "608879ef"
      },
      "source": [
        "## chr"
      ]
    },
    {
      "cell_type": "code",
      "execution_count": 20,
      "id": "12ea3b7b",
      "metadata": {
        "id": "12ea3b7b",
        "outputId": "6ab818ef-8458-490d-c3d2-74f7ca5feb41",
        "colab": {
          "base_uri": "https://localhost:8080/",
          "height": 35
        }
      },
      "outputs": [
        {
          "output_type": "execute_result",
          "data": {
            "text/plain": [
              "'A'"
            ],
            "application/vnd.google.colaboratory.intrinsic+json": {
              "type": "string"
            }
          },
          "metadata": {},
          "execution_count": 20
        }
      ],
      "source": [
        "chr(65)                                    # 'A' carácter código ASCII"
      ]
    },
    {
      "cell_type": "markdown",
      "source": [
        "## `ord`\n",
        "Es la función inversa a `chr`"
      ],
      "metadata": {
        "id": "yJLLFmFybmqN"
      },
      "id": "yJLLFmFybmqN"
    },
    {
      "cell_type": "code",
      "source": [
        "ord(\"A\")"
      ],
      "metadata": {
        "id": "IWAQIvEhbsYf",
        "outputId": "64880322-5cf7-4177-c999-6b4e759576d3",
        "colab": {
          "base_uri": "https://localhost:8080/"
        }
      },
      "id": "IWAQIvEhbsYf",
      "execution_count": 21,
      "outputs": [
        {
          "output_type": "execute_result",
          "data": {
            "text/plain": [
              "65"
            ]
          },
          "metadata": {},
          "execution_count": 21
        }
      ]
    },
    {
      "cell_type": "markdown",
      "id": "43b04620",
      "metadata": {
        "id": "43b04620"
      },
      "source": [
        "## bin\n",
        "Para pasar un número a binario."
      ]
    },
    {
      "cell_type": "code",
      "execution_count": 22,
      "id": "7d799289",
      "metadata": {
        "id": "7d799289",
        "outputId": "161296d3-1a4c-4c61-c74e-f180b28454a7",
        "colab": {
          "base_uri": "https://localhost:8080/",
          "height": 35
        }
      },
      "outputs": [
        {
          "output_type": "execute_result",
          "data": {
            "text/plain": [
              "'0b11'"
            ],
            "application/vnd.google.colaboratory.intrinsic+json": {
              "type": "string"
            }
          },
          "metadata": {},
          "execution_count": 22
        }
      ],
      "source": [
        "bin(3)"
      ]
    },
    {
      "cell_type": "code",
      "execution_count": 23,
      "id": "551121a3",
      "metadata": {
        "id": "551121a3",
        "outputId": "fdad1655-5440-4ee3-ec9d-ecb89d42c301",
        "colab": {
          "base_uri": "https://localhost:8080/"
        }
      },
      "outputs": [
        {
          "output_type": "execute_result",
          "data": {
            "text/plain": [
              "3"
            ]
          },
          "metadata": {},
          "execution_count": 23
        }
      ],
      "source": [
        "int('0b11', 2)                              # proceso inverso, convierte un binario en decimal, se indica base 2"
      ]
    },
    {
      "cell_type": "markdown",
      "id": "ddc1bf6c",
      "metadata": {
        "id": "ddc1bf6c"
      },
      "source": [
        "There are only 10 kinds of people in the world: those who understand binary, and those who don't."
      ]
    },
    {
      "cell_type": "markdown",
      "id": "5204a6ed",
      "metadata": {
        "id": "5204a6ed"
      },
      "source": [
        "## hex\n",
        "Para pasar a un número en hexadecimal (base 16)  \n",
        "* 0123456789abcdef"
      ]
    },
    {
      "cell_type": "code",
      "execution_count": 24,
      "id": "41e78af8",
      "metadata": {
        "id": "41e78af8",
        "outputId": "93b2650c-0bf2-4611-c461-df66fb181089",
        "colab": {
          "base_uri": "https://localhost:8080/",
          "height": 35
        }
      },
      "outputs": [
        {
          "output_type": "execute_result",
          "data": {
            "text/plain": [
              "'0xa'"
            ],
            "application/vnd.google.colaboratory.intrinsic+json": {
              "type": "string"
            }
          },
          "metadata": {},
          "execution_count": 24
        }
      ],
      "source": [
        "hex(10)"
      ]
    },
    {
      "cell_type": "code",
      "execution_count": 25,
      "id": "0faf6874",
      "metadata": {
        "id": "0faf6874",
        "outputId": "454f9476-f9f3-45db-95fa-a0553c102c33",
        "colab": {
          "base_uri": "https://localhost:8080/"
        }
      },
      "outputs": [
        {
          "output_type": "execute_result",
          "data": {
            "text/plain": [
              "10"
            ]
          },
          "metadata": {},
          "execution_count": 25
        }
      ],
      "source": [
        "int('0xa', 16)                              # proceso inverso, convierte un hexadecimal en decimal, se indica base 16"
      ]
    },
    {
      "cell_type": "markdown",
      "id": "dbbdf7f3",
      "metadata": {
        "id": "dbbdf7f3"
      },
      "source": [
        "## hash\n",
        "Devuelve el hash de un valor."
      ]
    },
    {
      "cell_type": "code",
      "execution_count": 26,
      "id": "3776ec86",
      "metadata": {
        "id": "3776ec86",
        "outputId": "e8939142-303d-4400-bb0f-f3d2db2efca9",
        "colab": {
          "base_uri": "https://localhost:8080/"
        }
      },
      "outputs": [
        {
          "output_type": "execute_result",
          "data": {
            "text/plain": [
              "-367871500807587473"
            ]
          },
          "metadata": {},
          "execution_count": 26
        }
      ],
      "source": [
        "hash(\"hola\")"
      ]
    },
    {
      "cell_type": "code",
      "execution_count": 27,
      "id": "1e609ca0",
      "metadata": {
        "id": "1e609ca0",
        "outputId": "21373390-915d-45ba-bb6b-55c5cdc42d28",
        "colab": {
          "base_uri": "https://localhost:8080/"
        }
      },
      "outputs": [
        {
          "output_type": "execute_result",
          "data": {
            "text/plain": [
              "True"
            ]
          },
          "metadata": {},
          "execution_count": 27
        }
      ],
      "source": [
        "hash(2) == hash(2.0)                       # el hash de un número entero coincide con el hash de ese número pero flotante"
      ]
    },
    {
      "cell_type": "markdown",
      "id": "1d15f5b6",
      "metadata": {
        "id": "1d15f5b6"
      },
      "source": [
        "## help\n",
        "Tecleando topics obtenemos palabras sobre las que podemos buscar ayuda.  \n",
        "Para salir de la ayuda presione q"
      ]
    },
    {
      "cell_type": "code",
      "execution_count": 30,
      "id": "53ce96da",
      "metadata": {
        "id": "53ce96da",
        "outputId": "91d2ed73-34b7-4e24-c9c9-7f6140ccfbf7",
        "colab": {
          "base_uri": "https://localhost:8080/"
        }
      },
      "outputs": [
        {
          "output_type": "stream",
          "name": "stdout",
          "text": [
            "\n",
            "Welcome to Python 3.10's help utility!\n",
            "\n",
            "If this is your first time using Python, you should definitely check out\n",
            "the tutorial on the internet at https://docs.python.org/3.10/tutorial/.\n",
            "\n",
            "Enter the name of any module, keyword, or topic to get help on writing\n",
            "Python programs and using Python modules.  To quit this help utility and\n",
            "return to the interpreter, just type \"quit\".\n",
            "\n",
            "To get a list of available modules, keywords, symbols, or topics, type\n",
            "\"modules\", \"keywords\", \"symbols\", or \"topics\".  Each module also comes\n",
            "with a one-line summary of what it does; to list the modules whose name\n",
            "or summary contain a given string such as \"spam\", type \"modules spam\".\n",
            "\n",
            "help> q\n",
            "\n",
            "You are now leaving help and returning to the Python interpreter.\n",
            "If you want to ask for help on a particular object directly from the\n",
            "interpreter, you can type \"help(object)\".  Executing \"help('string')\"\n",
            "has the same effect as typing a particular string at the help> prompt.\n"
          ]
        }
      ],
      "source": [
        "help()"
      ]
    },
    {
      "cell_type": "markdown",
      "id": "99859d50",
      "metadata": {
        "id": "99859d50"
      },
      "source": [
        "## Ejercicio  \n",
        "Solicitar al usuario dos números y calcular el máximo y el mínimo."
      ]
    },
    {
      "cell_type": "code",
      "execution_count": 29,
      "id": "21218577",
      "metadata": {
        "id": "21218577",
        "outputId": "a3e44637-3c74-4feb-ed5b-ca74f58c1f07",
        "colab": {
          "base_uri": "https://localhost:8080/"
        }
      },
      "outputs": [
        {
          "output_type": "stream",
          "name": "stdout",
          "text": [
            "Indique un número: 5\n",
            "Indique otro número: -2\n",
            "El máximo entre 5.0 y -2.0 es 5.0\n",
            "El mínimo entre 5.0 y -2.0 es -2.0\n"
          ]
        }
      ],
      "source": [
        "num1 = float(input(\"Indique un número: \"))\n",
        "num2 = float(input(\"Indique otro número: \"))\n",
        "print(f'El máximo entre {num1} y {num2} es {max(num1,num2)}')\n",
        "print(f'El mínimo entre {num1} y {num2} es {min(num1,num2)}')"
      ]
    }
  ],
  "metadata": {
    "kernelspec": {
      "display_name": "Python 3 (ipykernel)",
      "language": "python",
      "name": "python3"
    },
    "language_info": {
      "codemirror_mode": {
        "name": "ipython",
        "version": 3
      },
      "file_extension": ".py",
      "mimetype": "text/x-python",
      "name": "python",
      "nbconvert_exporter": "python",
      "pygments_lexer": "ipython3",
      "version": "3.8.11"
    },
    "colab": {
      "name": "0130_funciones_internas.ipynb",
      "provenance": [],
      "include_colab_link": true
    }
  },
  "nbformat": 4,
  "nbformat_minor": 5
}