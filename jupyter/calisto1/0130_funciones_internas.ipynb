{
  "cells": [
    {
      "cell_type": "markdown",
      "metadata": {
        "id": "view-in-github",
        "colab_type": "text"
      },
      "source": [
        "<a href=\"https://colab.research.google.com/github/financieras/pyCourse/blob/main/jupyter/calisto1/0130_funciones_internas.ipynb\" target=\"_parent\"><img src=\"https://colab.research.google.com/assets/colab-badge.svg\" alt=\"Open In Colab\"/></a>"
      ]
    },
    {
      "cell_type": "markdown",
      "id": "7c0d850e",
      "metadata": {
        "id": "7c0d850e"
      },
      "source": [
        "# Funciones internas\n",
        "Funciones integradas en Python.  \n",
        "[Funciones Built-in](https://docs.python.org/es/3.9/library/functions.html)"
      ]
    },
    {
      "cell_type": "markdown",
      "id": "3a6fac56",
      "metadata": {
        "id": "3a6fac56"
      },
      "source": [
        "- print()\n",
        "- exit()\n",
        "- abs()\n",
        "- round()\n",
        "- chr()\n",
        "- float()\n",
        "- int()\n",
        "- str()\n",
        "- input()\n",
        "- len()\n",
        "- max()\n",
        "- min()\n",
        "- sum()\n",
        "- pow()\n",
        "- eval()"
      ]
    },
    {
      "cell_type": "markdown",
      "id": "0cc98642",
      "metadata": {
        "id": "0cc98642"
      },
      "source": [
        "## type"
      ]
    },
    {
      "cell_type": "code",
      "execution_count": 1,
      "id": "8349d7c6",
      "metadata": {
        "id": "8349d7c6",
        "outputId": "b8ea5f14-2d7c-472b-bc38-30218107d9da",
        "colab": {
          "base_uri": "https://localhost:8080/"
        }
      },
      "outputs": [
        {
          "output_type": "execute_result",
          "data": {
            "text/plain": [
              "str"
            ]
          },
          "metadata": {},
          "execution_count": 1
        }
      ],
      "source": [
        "type(\"Hola\")"
      ]
    },
    {
      "cell_type": "code",
      "execution_count": 2,
      "id": "8245f5b9",
      "metadata": {
        "id": "8245f5b9",
        "outputId": "c3e996d1-51d8-4229-c0ba-e0dc9f6478ee",
        "colab": {
          "base_uri": "https://localhost:8080/"
        }
      },
      "outputs": [
        {
          "output_type": "execute_result",
          "data": {
            "text/plain": [
              "int"
            ]
          },
          "metadata": {},
          "execution_count": 2
        }
      ],
      "source": [
        "type(5)"
      ]
    },
    {
      "cell_type": "code",
      "execution_count": 3,
      "id": "5d7f67c6",
      "metadata": {
        "id": "5d7f67c6",
        "outputId": "1e07ca4e-b865-4532-d8f9-fcb331ef287d",
        "colab": {
          "base_uri": "https://localhost:8080/"
        }
      },
      "outputs": [
        {
          "output_type": "execute_result",
          "data": {
            "text/plain": [
              "float"
            ]
          },
          "metadata": {},
          "execution_count": 3
        }
      ],
      "source": [
        "type(10/2)"
      ]
    },
    {
      "cell_type": "code",
      "execution_count": 4,
      "id": "821f6506",
      "metadata": {
        "id": "821f6506",
        "outputId": "eda228ee-41a1-40ae-84b2-73e59702eb25",
        "colab": {
          "base_uri": "https://localhost:8080/"
        }
      },
      "outputs": [
        {
          "output_type": "execute_result",
          "data": {
            "text/plain": [
              "bool"
            ]
          },
          "metadata": {},
          "execution_count": 4
        }
      ],
      "source": [
        "type(5==5)"
      ]
    },
    {
      "cell_type": "code",
      "execution_count": 5,
      "id": "4484a4ef",
      "metadata": {
        "id": "4484a4ef",
        "outputId": "e328af4b-fc21-479d-a19e-ed49adf281f4",
        "colab": {
          "base_uri": "https://localhost:8080/"
        }
      },
      "outputs": [
        {
          "output_type": "execute_result",
          "data": {
            "text/plain": [
              "bool"
            ]
          },
          "metadata": {},
          "execution_count": 5
        }
      ],
      "source": [
        "type(5=='5')"
      ]
    },
    {
      "cell_type": "code",
      "execution_count": 6,
      "id": "9a92e47b",
      "metadata": {
        "id": "9a92e47b",
        "outputId": "e2f13382-f2b4-4d16-f663-373bebbd4022",
        "colab": {
          "base_uri": "https://localhost:8080/"
        }
      },
      "outputs": [
        {
          "output_type": "stream",
          "name": "stdout",
          "text": [
            "Indique un número:7\n",
            "False\n"
          ]
        },
        {
          "output_type": "execute_result",
          "data": {
            "text/plain": [
              "bool"
            ]
          },
          "metadata": {},
          "execution_count": 6
        }
      ],
      "source": [
        "num = input(\"Indique un número:\")\n",
        "print(7==num)                     # ¿alguna vez dará True?\n",
        "type(7==num)"
      ]
    },
    {
      "cell_type": "markdown",
      "id": "62f9a62b",
      "metadata": {
        "id": "62f9a62b"
      },
      "source": [
        "## len"
      ]
    },
    {
      "cell_type": "code",
      "execution_count": 7,
      "id": "d50a8769",
      "metadata": {
        "id": "d50a8769",
        "outputId": "082607ee-0bb7-44bb-9eaf-0bd103dae0a6",
        "colab": {
          "base_uri": "https://localhost:8080/"
        }
      },
      "outputs": [
        {
          "output_type": "execute_result",
          "data": {
            "text/plain": [
              "4"
            ]
          },
          "metadata": {},
          "execution_count": 7
        }
      ],
      "source": [
        "len(\"Hola\")                       # longitud 4"
      ]
    },
    {
      "cell_type": "code",
      "execution_count": 8,
      "id": "2c640cb4",
      "metadata": {
        "id": "2c640cb4",
        "outputId": "9fa0bf7f-793c-4194-a7ec-1bc16612364b",
        "colab": {
          "base_uri": "https://localhost:8080/"
        }
      },
      "outputs": [
        {
          "output_type": "execute_result",
          "data": {
            "text/plain": [
              "0"
            ]
          },
          "metadata": {},
          "execution_count": 8
        }
      ],
      "source": [
        "len([])"
      ]
    },
    {
      "cell_type": "code",
      "execution_count": 9,
      "id": "4ea9ab08",
      "metadata": {
        "id": "4ea9ab08",
        "outputId": "a20d9f05-0657-4097-a3de-dfa20047d207",
        "colab": {
          "base_uri": "https://localhost:8080/"
        }
      },
      "outputs": [
        {
          "output_type": "execute_result",
          "data": {
            "text/plain": [
              "3"
            ]
          },
          "metadata": {},
          "execution_count": 9
        }
      ],
      "source": [
        "len([1,2,3])"
      ]
    },
    {
      "cell_type": "markdown",
      "id": "1865ff75",
      "metadata": {
        "id": "1865ff75"
      },
      "source": [
        "## eval"
      ]
    },
    {
      "cell_type": "code",
      "execution_count": 10,
      "id": "cf2a0493",
      "metadata": {
        "id": "cf2a0493",
        "outputId": "3601ed03-1017-4010-cabd-fbc49d3d6b25",
        "colab": {
          "base_uri": "https://localhost:8080/"
        }
      },
      "outputs": [
        {
          "output_type": "execute_result",
          "data": {
            "text/plain": [
              "7"
            ]
          },
          "metadata": {},
          "execution_count": 10
        }
      ],
      "source": [
        "x = 2\n",
        "eval(\"1+3*x\")                     # 7"
      ]
    },
    {
      "cell_type": "markdown",
      "id": "00935809",
      "metadata": {
        "id": "00935809"
      },
      "source": [
        "## sum"
      ]
    },
    {
      "cell_type": "code",
      "execution_count": 11,
      "id": "1c5c3f42",
      "metadata": {
        "id": "1c5c3f42",
        "outputId": "e91fd201-fc4a-4baf-af34-148abbcd8738",
        "colab": {
          "base_uri": "https://localhost:8080/"
        }
      },
      "outputs": [
        {
          "output_type": "execute_result",
          "data": {
            "text/plain": [
              "6"
            ]
          },
          "metadata": {},
          "execution_count": 11
        }
      ],
      "source": [
        "sum([1, 2, 3])                    # 6   suma los elementos de una lista"
      ]
    },
    {
      "cell_type": "markdown",
      "id": "16a91082",
      "metadata": {
        "id": "16a91082"
      },
      "source": [
        "## pow"
      ]
    },
    {
      "cell_type": "code",
      "execution_count": 12,
      "id": "36b726da",
      "metadata": {
        "id": "36b726da",
        "outputId": "72f31dfb-4d7b-4ab8-8b78-a13ddc625e82",
        "colab": {
          "base_uri": "https://localhost:8080/"
        }
      },
      "outputs": [
        {
          "output_type": "execute_result",
          "data": {
            "text/plain": [
              "8"
            ]
          },
          "metadata": {},
          "execution_count": 12
        }
      ],
      "source": [
        "pow(2,3)                          # función potencias"
      ]
    },
    {
      "cell_type": "markdown",
      "id": "6fac6b36",
      "metadata": {
        "id": "6fac6b36"
      },
      "source": [
        "## abs"
      ]
    },
    {
      "cell_type": "code",
      "execution_count": 13,
      "id": "e3e65f23",
      "metadata": {
        "id": "e3e65f23",
        "outputId": "007cf04b-4e8e-4d59-a497-87836d03dfcc",
        "colab": {
          "base_uri": "https://localhost:8080/"
        }
      },
      "outputs": [
        {
          "output_type": "execute_result",
          "data": {
            "text/plain": [
              "3"
            ]
          },
          "metadata": {},
          "execution_count": 13
        }
      ],
      "source": [
        "abs(-3)"
      ]
    },
    {
      "cell_type": "markdown",
      "id": "fc8621d8",
      "metadata": {
        "id": "fc8621d8"
      },
      "source": [
        "## round"
      ]
    },
    {
      "cell_type": "code",
      "execution_count": 14,
      "id": "6eb6f90f",
      "metadata": {
        "id": "6eb6f90f",
        "outputId": "55f4a5c3-cc40-4c4d-cd36-65d7f6b77a78",
        "colab": {
          "base_uri": "https://localhost:8080/"
        }
      },
      "outputs": [
        {
          "output_type": "execute_result",
          "data": {
            "text/plain": [
              "7"
            ]
          },
          "metadata": {},
          "execution_count": 14
        }
      ],
      "source": [
        "round(6.9)"
      ]
    },
    {
      "cell_type": "code",
      "execution_count": 15,
      "id": "fa63ebc8",
      "metadata": {
        "id": "fa63ebc8",
        "outputId": "ea908e7b-e796-4715-c63c-aabcb1a8ab47",
        "colab": {
          "base_uri": "https://localhost:8080/"
        }
      },
      "outputs": [
        {
          "output_type": "execute_result",
          "data": {
            "text/plain": [
              "3.142"
            ]
          },
          "metadata": {},
          "execution_count": 15
        }
      ],
      "source": [
        "round(3.14159, 3)"
      ]
    },
    {
      "cell_type": "markdown",
      "id": "c0fe273e",
      "metadata": {
        "id": "c0fe273e"
      },
      "source": [
        "## str"
      ]
    },
    {
      "cell_type": "code",
      "execution_count": 16,
      "id": "dd1e34db",
      "metadata": {
        "id": "dd1e34db"
      },
      "outputs": [],
      "source": [
        "edad = 5\n",
        "#print('Solo tiene ' + edad + ' años')         # TypeError: can only concatenate str (not \"int\") to str"
      ]
    },
    {
      "cell_type": "code",
      "execution_count": 17,
      "id": "4b6fb85c",
      "metadata": {
        "id": "4b6fb85c",
        "outputId": "bfd3f0ab-56dc-4af5-cd40-f45e69e6bfdb",
        "colab": {
          "base_uri": "https://localhost:8080/"
        }
      },
      "outputs": [
        {
          "output_type": "stream",
          "name": "stdout",
          "text": [
            "Solo tiene 5 años\n",
            "Solo tiene 5 años\n",
            "Solo tiene 5 años\n"
          ]
        }
      ],
      "source": [
        "print('Solo tiene ' + str(edad) + ' años')     # Solo tiene 5 años  str() convierte un número en un string\n",
        "print('Solo tiene {} años'.format(edad))       # Solo tiene 5 años\n",
        "print(f'Solo tiene {edad} años')               # Solo tiene 5 años"
      ]
    },
    {
      "cell_type": "markdown",
      "id": "db4a2295",
      "metadata": {
        "id": "db4a2295"
      },
      "source": [
        "## int"
      ]
    },
    {
      "cell_type": "code",
      "execution_count": 18,
      "id": "73507a0c",
      "metadata": {
        "id": "73507a0c",
        "outputId": "20899dd2-5aa6-46dc-841c-e273588b346e",
        "colab": {
          "base_uri": "https://localhost:8080/"
        }
      },
      "outputs": [
        {
          "output_type": "stream",
          "name": "stdout",
          "text": [
            "5\n"
          ]
        }
      ],
      "source": [
        "print(int(5.7))                                # 5"
      ]
    },
    {
      "cell_type": "markdown",
      "id": "fd0071bd",
      "metadata": {
        "id": "fd0071bd"
      },
      "source": [
        "## float"
      ]
    },
    {
      "cell_type": "code",
      "execution_count": 19,
      "id": "d6612dfa",
      "metadata": {
        "id": "d6612dfa",
        "outputId": "010af47d-4208-44b4-9684-e95e41dcb523",
        "colab": {
          "base_uri": "https://localhost:8080/"
        }
      },
      "outputs": [
        {
          "output_type": "execute_result",
          "data": {
            "text/plain": [
              "3.14"
            ]
          },
          "metadata": {},
          "execution_count": 19
        }
      ],
      "source": [
        "float(\"3.14\")"
      ]
    },
    {
      "cell_type": "markdown",
      "id": "608879ef",
      "metadata": {
        "id": "608879ef"
      },
      "source": [
        "## chr"
      ]
    },
    {
      "cell_type": "code",
      "execution_count": 20,
      "id": "12ea3b7b",
      "metadata": {
        "id": "12ea3b7b",
        "outputId": "e3c45bf8-f73e-4da4-ac5c-d6e7162c9090",
        "colab": {
          "base_uri": "https://localhost:8080/",
          "height": 35
        }
      },
      "outputs": [
        {
          "output_type": "execute_result",
          "data": {
            "text/plain": [
              "'A'"
            ],
            "application/vnd.google.colaboratory.intrinsic+json": {
              "type": "string"
            }
          },
          "metadata": {},
          "execution_count": 20
        }
      ],
      "source": [
        "chr(65)                                    # 'A' carácter código ASCII"
      ]
    },
    {
      "cell_type": "markdown",
      "source": [
        "## `ord`\n",
        "Es la función inversa a `chr`"
      ],
      "metadata": {
        "id": "yJLLFmFybmqN"
      },
      "id": "yJLLFmFybmqN"
    },
    {
      "cell_type": "code",
      "source": [
        "ord(\"A\")"
      ],
      "metadata": {
        "id": "IWAQIvEhbsYf",
        "outputId": "bf312e2d-1eef-426b-9810-75264255f5cc",
        "colab": {
          "base_uri": "https://localhost:8080/"
        }
      },
      "id": "IWAQIvEhbsYf",
      "execution_count": 21,
      "outputs": [
        {
          "output_type": "execute_result",
          "data": {
            "text/plain": [
              "65"
            ]
          },
          "metadata": {},
          "execution_count": 21
        }
      ]
    },
    {
      "cell_type": "markdown",
      "id": "43b04620",
      "metadata": {
        "id": "43b04620"
      },
      "source": [
        "## bin\n",
        "Para pasar un número a binario."
      ]
    },
    {
      "cell_type": "code",
      "execution_count": 22,
      "id": "7d799289",
      "metadata": {
        "id": "7d799289",
        "outputId": "29c1d60b-7048-4061-a21c-c216a2b4d8fe",
        "colab": {
          "base_uri": "https://localhost:8080/",
          "height": 35
        }
      },
      "outputs": [
        {
          "output_type": "execute_result",
          "data": {
            "text/plain": [
              "'0b11'"
            ],
            "application/vnd.google.colaboratory.intrinsic+json": {
              "type": "string"
            }
          },
          "metadata": {},
          "execution_count": 22
        }
      ],
      "source": [
        "bin(3)"
      ]
    },
    {
      "cell_type": "code",
      "execution_count": 23,
      "id": "551121a3",
      "metadata": {
        "id": "551121a3",
        "outputId": "106643bd-486a-4ca3-f462-95b034000f11",
        "colab": {
          "base_uri": "https://localhost:8080/"
        }
      },
      "outputs": [
        {
          "output_type": "execute_result",
          "data": {
            "text/plain": [
              "3"
            ]
          },
          "metadata": {},
          "execution_count": 23
        }
      ],
      "source": [
        "int('0b11', 2)                              # proceso inverso, convierte un binario en decimal, se indica base 2"
      ]
    },
    {
      "cell_type": "markdown",
      "id": "ddc1bf6c",
      "metadata": {
        "id": "ddc1bf6c"
      },
      "source": [
        "There are only 10 kinds of people in the world: those who understand binary, and those who don't."
      ]
    },
    {
      "cell_type": "markdown",
      "id": "5204a6ed",
      "metadata": {
        "id": "5204a6ed"
      },
      "source": [
        "## hex\n",
        "Para pasar a un número en hexadecimal (base 16)  \n",
        "* 0123456789abcdef"
      ]
    },
    {
      "cell_type": "code",
      "execution_count": 24,
      "id": "41e78af8",
      "metadata": {
        "id": "41e78af8",
        "outputId": "f24595f2-4561-4f3e-d5af-c95002997fdd",
        "colab": {
          "base_uri": "https://localhost:8080/",
          "height": 35
        }
      },
      "outputs": [
        {
          "output_type": "execute_result",
          "data": {
            "text/plain": [
              "'0xa'"
            ],
            "application/vnd.google.colaboratory.intrinsic+json": {
              "type": "string"
            }
          },
          "metadata": {},
          "execution_count": 24
        }
      ],
      "source": [
        "hex(10)"
      ]
    },
    {
      "cell_type": "code",
      "execution_count": 25,
      "id": "0faf6874",
      "metadata": {
        "id": "0faf6874",
        "outputId": "945f9f59-a256-4c3e-eba1-fb3b7efb8459",
        "colab": {
          "base_uri": "https://localhost:8080/"
        }
      },
      "outputs": [
        {
          "output_type": "execute_result",
          "data": {
            "text/plain": [
              "10"
            ]
          },
          "metadata": {},
          "execution_count": 25
        }
      ],
      "source": [
        "int('0xa', 16)                              # proceso inverso, convierte un hexadecimal en decimal, se indica base 16"
      ]
    },
    {
      "cell_type": "markdown",
      "id": "dbbdf7f3",
      "metadata": {
        "id": "dbbdf7f3"
      },
      "source": [
        "## hash\n",
        "Devuelve el hash de un valor."
      ]
    },
    {
      "cell_type": "code",
      "execution_count": 26,
      "id": "3776ec86",
      "metadata": {
        "id": "3776ec86",
        "outputId": "3ba0ae0b-e97c-4800-a67d-6a6da5fbad17",
        "colab": {
          "base_uri": "https://localhost:8080/"
        }
      },
      "outputs": [
        {
          "output_type": "execute_result",
          "data": {
            "text/plain": [
              "9064565727232197494"
            ]
          },
          "metadata": {},
          "execution_count": 26
        }
      ],
      "source": [
        "hash(\"hola\")"
      ]
    },
    {
      "cell_type": "code",
      "execution_count": 27,
      "id": "1e609ca0",
      "metadata": {
        "id": "1e609ca0",
        "outputId": "da800eb4-07c0-405f-8095-d49810e31fec",
        "colab": {
          "base_uri": "https://localhost:8080/"
        }
      },
      "outputs": [
        {
          "output_type": "execute_result",
          "data": {
            "text/plain": [
              "True"
            ]
          },
          "metadata": {},
          "execution_count": 27
        }
      ],
      "source": [
        "hash(2) == hash(2.0)                       # el hash de un número entero coincide con el hash de ese número pero flotante"
      ]
    },
    {
      "cell_type": "markdown",
      "id": "1d15f5b6",
      "metadata": {
        "id": "1d15f5b6"
      },
      "source": [
        "## help\n",
        "Tecleando topics obtenemos palabras sobre las que podemos buscar ayuda.  \n",
        "Para salir de la ayuda presione q"
      ]
    },
    {
      "cell_type": "code",
      "execution_count": null,
      "id": "53ce96da",
      "metadata": {
        "id": "53ce96da"
      },
      "outputs": [],
      "source": [
        "help()"
      ]
    },
    {
      "cell_type": "markdown",
      "id": "99859d50",
      "metadata": {
        "id": "99859d50"
      },
      "source": [
        "## Ejercicio  \n",
        "Solicitar al usuario dos números y calcular el máximo y el mínimo."
      ]
    },
    {
      "cell_type": "code",
      "execution_count": 29,
      "id": "21218577",
      "metadata": {
        "id": "21218577",
        "outputId": "29d167e0-b0f1-4328-ad67-9bfc18f6e083",
        "colab": {
          "base_uri": "https://localhost:8080/"
        }
      },
      "outputs": [
        {
          "output_type": "stream",
          "name": "stdout",
          "text": [
            "Indique un número: 5\n",
            "Indique otro número: -2\n",
            "El máximo entre 5.0 y -2.0 es 5.0\n",
            "El mínimo entre 5.0 y -2.0 es -2.0\n"
          ]
        }
      ],
      "source": [
        "num1 = float(input(\"Indique un número: \"))\n",
        "num2 = float(input(\"Indique otro número: \"))\n",
        "print(f'El máximo entre {num1} y {num2} es {max(num1,num2)}')\n",
        "print(f'El mínimo entre {num1} y {num2} es {min(num1,num2)}')"
      ]
    }
  ],
  "metadata": {
    "kernelspec": {
      "display_name": "Python 3 (ipykernel)",
      "language": "python",
      "name": "python3"
    },
    "language_info": {
      "codemirror_mode": {
        "name": "ipython",
        "version": 3
      },
      "file_extension": ".py",
      "mimetype": "text/x-python",
      "name": "python",
      "nbconvert_exporter": "python",
      "pygments_lexer": "ipython3",
      "version": "3.8.11"
    },
    "colab": {
      "name": "calisto1_0130.ipynb",
      "provenance": [],
      "include_colab_link": true
    }
  },
  "nbformat": 4,
  "nbformat_minor": 5
}