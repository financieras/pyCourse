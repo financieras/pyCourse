{
  "nbformat": 4,
  "nbformat_minor": 0,
  "metadata": {
    "colab": {
      "provenance": [],
      "authorship_tag": "ABX9TyNoPhLcj7TtgUQlD02IhJqI",
      "include_colab_link": true
    },
    "kernelspec": {
      "name": "python3",
      "display_name": "Python 3"
    },
    "language_info": {
      "name": "python"
    }
  },
  "cells": [
    {
      "cell_type": "markdown",
      "metadata": {
        "id": "view-in-github",
        "colab_type": "text"
      },
      "source": [
        "<a href=\"https://colab.research.google.com/github/financieras/pyCourse/blob/main/jupyter/calisto1/0631_invertir_numero.ipynb\" target=\"_parent\"><img src=\"https://colab.research.google.com/assets/colab-badge.svg\" alt=\"Open In Colab\"/></a>"
      ]
    },
    {
      "cell_type": "markdown",
      "source": [
        "# Escribir un número al reves"
      ],
      "metadata": {
        "id": "3UFdVQG_8n00"
      }
    },
    {
      "cell_type": "markdown",
      "source": [
        "## Método 1"
      ],
      "metadata": {
        "id": "uLdVdrK9NXlk"
      }
    },
    {
      "cell_type": "code",
      "execution_count": 80,
      "metadata": {
        "colab": {
          "base_uri": "https://localhost:8080/"
        },
        "id": "ta0SIKHvy2mk",
        "outputId": "8da9de22-8716-48d3-cf12-371842d62a49"
      },
      "outputs": [
        {
          "output_type": "stream",
          "name": "stdout",
          "text": [
            "123456789\n"
          ]
        }
      ],
      "source": [
        "n = 987654321\n",
        "print(str(n)[::-1])"
      ]
    },
    {
      "cell_type": "markdown",
      "source": [
        "## Método 2"
      ],
      "metadata": {
        "id": "0iKZqPYxNb1y"
      }
    },
    {
      "cell_type": "code",
      "source": [
        "n = 987654321\n",
        "cadena = str(n)\n",
        "for i in range(len(cadena)-1,-1,-1):\n",
        "    print(cadena[i], end=\"\")"
      ],
      "metadata": {
        "colab": {
          "base_uri": "https://localhost:8080/"
        },
        "id": "ujOQHhnhzSIu",
        "outputId": "96aa4e12-f7cc-433f-b820-4bbfb29740ec"
      },
      "execution_count": 81,
      "outputs": [
        {
          "output_type": "stream",
          "name": "stdout",
          "text": [
            "123456789"
          ]
        }
      ]
    },
    {
      "cell_type": "markdown",
      "source": [
        "## Método 3"
      ],
      "metadata": {
        "id": "W5QOvOd7Nda0"
      }
    },
    {
      "cell_type": "code",
      "source": [
        "n = 987654321\n",
        "cadena = str(n)\n",
        "texto = []\n",
        "for i in cadena:\n",
        "    texto = [i,]+texto\n",
        "print(''.join(texto))"
      ],
      "metadata": {
        "colab": {
          "base_uri": "https://localhost:8080/"
        },
        "id": "TUQpxGWx6DFV",
        "outputId": "3edc2864-02de-4d04-ec78-7aaa9d5d6fa5"
      },
      "execution_count": 82,
      "outputs": [
        {
          "output_type": "stream",
          "name": "stdout",
          "text": [
            "123456789\n"
          ]
        }
      ]
    },
    {
      "cell_type": "markdown",
      "source": [
        "## Método 4\n",
        "Sin ```str```"
      ],
      "metadata": {
        "id": "7vhntL4sNfSy"
      }
    },
    {
      "cell_type": "code",
      "source": [
        "# sin usar str\n",
        "\n",
        "def reverso(n):\n",
        "    lista = []\n",
        "    if n < 10:\n",
        "        return [n,] + lista\n",
        "    lista = reverso(int(n/10)) + lista              # recursividad\n",
        "    lista = reverso(n % 10) + lista                 # recursividad\n",
        "    return lista\n",
        "\n",
        "n = 987654321\n",
        "for i in reverso(n):\n",
        "    print(i, end=\"\")"
      ],
      "metadata": {
        "colab": {
          "base_uri": "https://localhost:8080/"
        },
        "id": "SNYO5dRn8u83",
        "outputId": "01e05194-8d26-478e-861c-14edbb8d15f7"
      },
      "execution_count": 83,
      "outputs": [
        {
          "output_type": "stream",
          "name": "stdout",
          "text": [
            "123456789"
          ]
        }
      ]
    },
    {
      "cell_type": "markdown",
      "source": [
        "## Método 5"
      ],
      "metadata": {
        "id": "Jr5ppmXkNhVY"
      }
    },
    {
      "cell_type": "code",
      "source": [
        "# list comprehension\n",
        "n = 987654321\n",
        "cadena = str(n)\n",
        "print(''.join([cadena[i] for i in range(len(cadena)-1,-1,-1)]))"
      ],
      "metadata": {
        "colab": {
          "base_uri": "https://localhost:8080/"
        },
        "id": "6wWXsNf1DmvC",
        "outputId": "a87b240b-b6b8-40cb-813d-b220391c5d62"
      },
      "execution_count": 84,
      "outputs": [
        {
          "output_type": "stream",
          "name": "stdout",
          "text": [
            "123456789\n"
          ]
        }
      ]
    },
    {
      "cell_type": "markdown",
      "source": [
        "## Método 6"
      ],
      "metadata": {
        "id": "1vXiKXIHNjDe"
      }
    },
    {
      "cell_type": "code",
      "source": [
        "n = 987654321\n",
        "lista = list(str(n))\n",
        "suma = 0\n",
        "for i,d in enumerate(lista):\n",
        "    suma += int(d)*10**i\n",
        "print(suma)"
      ],
      "metadata": {
        "colab": {
          "base_uri": "https://localhost:8080/"
        },
        "id": "w8Isncr4FSpG",
        "outputId": "5b12a660-3752-4c57-97ed-47749105204d"
      },
      "execution_count": 85,
      "outputs": [
        {
          "output_type": "stream",
          "name": "stdout",
          "text": [
            "123456789\n"
          ]
        }
      ]
    },
    {
      "cell_type": "markdown",
      "source": [
        "## Método 7\n",
        "Similar al método anterior pero con list comprehension."
      ],
      "metadata": {
        "id": "AIGuc_MLNknS"
      }
    },
    {
      "cell_type": "code",
      "source": [
        "n = 987654321\n",
        "lista = list(str(n))\n",
        "sum(int(d) * 10**i for i, d in enumerate(lista))"
      ],
      "metadata": {
        "colab": {
          "base_uri": "https://localhost:8080/"
        },
        "id": "7okaXYT1Htth",
        "outputId": "828b5ec7-71c2-4717-d033-aae664c75447"
      },
      "execution_count": 86,
      "outputs": [
        {
          "output_type": "execute_result",
          "data": {
            "text/plain": [
              "123456789"
            ]
          },
          "metadata": {},
          "execution_count": 86
        }
      ]
    },
    {
      "cell_type": "markdown",
      "source": [
        "## Método 8\n",
        "Sin ```str```"
      ],
      "metadata": {
        "id": "85eqdr8yNmGc"
      }
    },
    {
      "cell_type": "code",
      "source": [
        "from math import log10\n",
        "n = 987654321\n",
        "for i in range(int(log10(n))+1):\n",
        "    print(int(n % 10), end=\"\")\n",
        "    n /= 10"
      ],
      "metadata": {
        "colab": {
          "base_uri": "https://localhost:8080/"
        },
        "id": "7rRSzEgRIfXm",
        "outputId": "0e7be221-0db1-4e44-d1e2-d997d3dfb84c"
      },
      "execution_count": 87,
      "outputs": [
        {
          "output_type": "stream",
          "name": "stdout",
          "text": [
            "123456789"
          ]
        }
      ]
    },
    {
      "cell_type": "markdown",
      "source": [
        "## Método 9\n",
        "Sin ```str```"
      ],
      "metadata": {
        "id": "LJlUuM0nNy6L"
      }
    },
    {
      "cell_type": "code",
      "source": [
        "def reversi(n):\n",
        "    if n<10:\n",
        "        print(int(n % 10), end=\"\")\n",
        "    else:\n",
        "        print(int(n % 10), end=\"\")\n",
        "        reversi(n / 10)                 # recursividad\n",
        "\n",
        "n = 987654321\n",
        "reversi(n)"
      ],
      "metadata": {
        "colab": {
          "base_uri": "https://localhost:8080/"
        },
        "id": "ElIV9GneLvuy",
        "outputId": "acc1a8ac-54fe-4f33-b53e-6ad05d2691eb"
      },
      "execution_count": 90,
      "outputs": [
        {
          "output_type": "stream",
          "name": "stdout",
          "text": [
            "123456789"
          ]
        }
      ]
    }
  ]
}
