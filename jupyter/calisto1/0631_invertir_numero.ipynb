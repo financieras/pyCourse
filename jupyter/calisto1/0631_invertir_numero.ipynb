{
  "nbformat": 4,
  "nbformat_minor": 0,
  "metadata": {
    "colab": {
      "provenance": [],
      "authorship_tag": "ABX9TyOnNqlJ2mjDHySicE2jqMSB",
      "include_colab_link": true
    },
    "kernelspec": {
      "name": "python3",
      "display_name": "Python 3"
    },
    "language_info": {
      "name": "python"
    }
  },
  "cells": [
    {
      "cell_type": "markdown",
      "metadata": {
        "id": "view-in-github",
        "colab_type": "text"
      },
      "source": [
        "<a href=\"https://colab.research.google.com/github/financieras/pyCourse/blob/main/jupyter/calisto1/0631_invertir_numero.ipynb\" target=\"_parent\"><img src=\"https://colab.research.google.com/assets/colab-badge.svg\" alt=\"Open In Colab\"/></a>"
      ]
    },
    {
      "cell_type": "markdown",
      "source": [
        "# Invertir número\n",
        "Escribir un número al reves"
      ],
      "metadata": {
        "id": "3UFdVQG_8n00"
      }
    },
    {
      "cell_type": "markdown",
      "source": [
        "## Método 1"
      ],
      "metadata": {
        "id": "uLdVdrK9NXlk"
      }
    },
    {
      "cell_type": "code",
      "execution_count": 1,
      "metadata": {
        "colab": {
          "base_uri": "https://localhost:8080/"
        },
        "id": "ta0SIKHvy2mk",
        "outputId": "d4c9e2c1-6aa3-4597-ed68-108eba6bd2f5"
      },
      "outputs": [
        {
          "output_type": "stream",
          "name": "stdout",
          "text": [
            "123456789\n"
          ]
        }
      ],
      "source": [
        "n = 987654321\n",
        "print(str(n)[::-1])"
      ]
    },
    {
      "cell_type": "markdown",
      "source": [
        "## Método 2"
      ],
      "metadata": {
        "id": "0iKZqPYxNb1y"
      }
    },
    {
      "cell_type": "code",
      "source": [
        "n = 987654321\n",
        "cadena = str(n)\n",
        "for i in range(len(cadena)-1,-1,-1):\n",
        "    print(cadena[i], end=\"\")"
      ],
      "metadata": {
        "colab": {
          "base_uri": "https://localhost:8080/"
        },
        "id": "ujOQHhnhzSIu",
        "outputId": "7fb1d8a9-fd55-4a2e-f413-a6becf157dd7"
      },
      "execution_count": 2,
      "outputs": [
        {
          "output_type": "stream",
          "name": "stdout",
          "text": [
            "123456789"
          ]
        }
      ]
    },
    {
      "cell_type": "markdown",
      "source": [
        "## Método 3"
      ],
      "metadata": {
        "id": "W5QOvOd7Nda0"
      }
    },
    {
      "cell_type": "code",
      "source": [
        "n = 987654321\n",
        "cadena = str(n)\n",
        "texto = []\n",
        "for i in cadena:\n",
        "    texto = [i,]+texto\n",
        "print(''.join(texto))"
      ],
      "metadata": {
        "colab": {
          "base_uri": "https://localhost:8080/"
        },
        "id": "TUQpxGWx6DFV",
        "outputId": "dde4d457-c932-481e-c367-9afb070ed3c6"
      },
      "execution_count": 3,
      "outputs": [
        {
          "output_type": "stream",
          "name": "stdout",
          "text": [
            "123456789\n"
          ]
        }
      ]
    },
    {
      "cell_type": "markdown",
      "source": [
        "## Método 4\n",
        "Sin ```str```"
      ],
      "metadata": {
        "id": "7vhntL4sNfSy"
      }
    },
    {
      "cell_type": "code",
      "source": [
        "# sin usar str\n",
        "\n",
        "def reverso(n):\n",
        "    lista = []\n",
        "    if n < 10:\n",
        "        return [n,] + lista\n",
        "    lista = reverso(int(n/10)) + lista              # recursividad\n",
        "    lista = reverso(n % 10) + lista                 # recursividad\n",
        "    return lista\n",
        "\n",
        "n = 987654321\n",
        "for i in reverso(n):\n",
        "    print(i, end=\"\")"
      ],
      "metadata": {
        "colab": {
          "base_uri": "https://localhost:8080/"
        },
        "id": "SNYO5dRn8u83",
        "outputId": "47b5bef3-133f-436a-c393-8f43dfa524c0"
      },
      "execution_count": 4,
      "outputs": [
        {
          "output_type": "stream",
          "name": "stdout",
          "text": [
            "123456789"
          ]
        }
      ]
    },
    {
      "cell_type": "markdown",
      "source": [
        "## Método 5"
      ],
      "metadata": {
        "id": "Jr5ppmXkNhVY"
      }
    },
    {
      "cell_type": "code",
      "source": [
        "# list comprehension\n",
        "n = 987654321\n",
        "cadena = str(n)\n",
        "print(''.join([cadena[i] for i in range(len(cadena)-1,-1,-1)]))"
      ],
      "metadata": {
        "colab": {
          "base_uri": "https://localhost:8080/"
        },
        "id": "6wWXsNf1DmvC",
        "outputId": "e502c8ec-c3ed-4f7d-f56f-90d7fea7f3c7"
      },
      "execution_count": 5,
      "outputs": [
        {
          "output_type": "stream",
          "name": "stdout",
          "text": [
            "123456789\n"
          ]
        }
      ]
    },
    {
      "cell_type": "markdown",
      "source": [
        "## Método 6"
      ],
      "metadata": {
        "id": "1vXiKXIHNjDe"
      }
    },
    {
      "cell_type": "code",
      "source": [
        "n = 987654321\n",
        "lista = list(str(n))\n",
        "suma = 0\n",
        "for i,d in enumerate(lista):\n",
        "    suma += int(d)*10**i\n",
        "print(suma)"
      ],
      "metadata": {
        "colab": {
          "base_uri": "https://localhost:8080/"
        },
        "id": "w8Isncr4FSpG",
        "outputId": "aba7483a-26c5-414b-d811-dd16bb4449cd"
      },
      "execution_count": 6,
      "outputs": [
        {
          "output_type": "stream",
          "name": "stdout",
          "text": [
            "123456789\n"
          ]
        }
      ]
    },
    {
      "cell_type": "markdown",
      "source": [
        "## Método 7\n",
        "Similar al método anterior pero con list comprehension."
      ],
      "metadata": {
        "id": "AIGuc_MLNknS"
      }
    },
    {
      "cell_type": "code",
      "source": [
        "n = 987654321\n",
        "lista = list(str(n))\n",
        "sum(int(d) * 10**i for i, d in enumerate(lista))"
      ],
      "metadata": {
        "colab": {
          "base_uri": "https://localhost:8080/"
        },
        "id": "7okaXYT1Htth",
        "outputId": "1cbdfc2e-ab55-4482-f15a-db4f75a94b23"
      },
      "execution_count": 7,
      "outputs": [
        {
          "output_type": "execute_result",
          "data": {
            "text/plain": [
              "123456789"
            ]
          },
          "metadata": {},
          "execution_count": 7
        }
      ]
    },
    {
      "cell_type": "markdown",
      "source": [
        "## Método 8\n",
        "Sin ```str```"
      ],
      "metadata": {
        "id": "85eqdr8yNmGc"
      }
    },
    {
      "cell_type": "code",
      "source": [
        "from math import log10\n",
        "n = 987654321\n",
        "for i in range(int(log10(n))+1):\n",
        "    print(int(n % 10), end=\"\")\n",
        "    n /= 10"
      ],
      "metadata": {
        "colab": {
          "base_uri": "https://localhost:8080/"
        },
        "id": "7rRSzEgRIfXm",
        "outputId": "5336a236-c1bb-4951-8627-dd590c877faa"
      },
      "execution_count": 8,
      "outputs": [
        {
          "output_type": "stream",
          "name": "stdout",
          "text": [
            "123456789"
          ]
        }
      ]
    },
    {
      "cell_type": "markdown",
      "source": [
        "## Método 9\n",
        "Sin ```str```"
      ],
      "metadata": {
        "id": "LJlUuM0nNy6L"
      }
    },
    {
      "cell_type": "code",
      "source": [
        "def reversi(n):\n",
        "    if n<10:\n",
        "        print(int(n % 10), end=\"\")\n",
        "    else:\n",
        "        print(int(n % 10), end=\"\")\n",
        "        reversi(n / 10)                 # recursividad\n",
        "\n",
        "n = 987654321\n",
        "reversi(n)"
      ],
      "metadata": {
        "colab": {
          "base_uri": "https://localhost:8080/"
        },
        "id": "ElIV9GneLvuy",
        "outputId": "02d3c34e-5279-4c93-e9a8-82303fb2c8da"
      },
      "execution_count": 9,
      "outputs": [
        {
          "output_type": "stream",
          "name": "stdout",
          "text": [
            "123456789"
          ]
        }
      ]
    }
  ]
}