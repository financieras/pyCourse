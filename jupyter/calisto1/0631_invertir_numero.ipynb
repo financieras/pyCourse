{
  "nbformat": 4,
  "nbformat_minor": 0,
  "metadata": {
    "colab": {
      "provenance": [],
      "authorship_tag": "ABX9TyNoPhLcj7TtgUQlD02IhJqI",
      "include_colab_link": true
    },
    "kernelspec": {
      "name": "python3",
      "display_name": "Python 3"
    },
    "language_info": {
      "name": "python"
    }
  },
  "cells": [
    {
      "cell_type": "markdown",
      "metadata": {
        "id": "view-in-github",
        "colab_type": "text"
      },
      "source": [
        "<a href=\"https://colab.research.google.com/github/financieras/pyCourse/blob/main/jupyter/calisto1/0631_invertir_numero.ipynb\" target=\"_parent\"><img src=\"https://colab.research.google.com/assets/colab-badge.svg\" alt=\"Open In Colab\"/></a>"
      ]
    },
    {
      "cell_type": "markdown",
      "source": [
        "# Escribir un número al reves"
      ],
      "metadata": {
        "id": "3UFdVQG_8n00"
      }
    },
    {
      "cell_type": "markdown",
      "source": [
        "## Método 1"
      ],
      "metadata": {
        "id": "uLdVdrK9NXlk"
      }
    },
    {
      "cell_type": "code",
      "execution_count": 1,
      "metadata": {
        "colab": {
          "base_uri": "https://localhost:8080/"
        },
        "id": "ta0SIKHvy2mk",
        "outputId": "814b53db-28c7-4671-f6d1-c201c9be6487"
      },
      "outputs": [
        {
          "output_type": "stream",
          "name": "stdout",
          "text": [
            "123456789\n"
          ]
        }
      ],
      "source": [
        "n = 987654321\n",
        "print(str(n)[::-1])"
      ]
    },
    {
      "cell_type": "markdown",
      "source": [
        "## Método 2"
      ],
      "metadata": {
        "id": "0iKZqPYxNb1y"
      }
    },
    {
      "cell_type": "code",
      "source": [
        "n = 987654321\n",
        "cadena = str(n)\n",
        "for i in range(len(cadena)-1,-1,-1):\n",
        "    print(cadena[i], end=\"\")"
      ],
      "metadata": {
        "colab": {
          "base_uri": "https://localhost:8080/"
        },
        "id": "ujOQHhnhzSIu",
        "outputId": "2db805a1-3270-42b1-f4bc-124f66961979"
      },
      "execution_count": 2,
      "outputs": [
        {
          "output_type": "stream",
          "name": "stdout",
          "text": [
            "123456789"
          ]
        }
      ]
    },
    {
      "cell_type": "markdown",
      "source": [
        "## Método 3"
      ],
      "metadata": {
        "id": "W5QOvOd7Nda0"
      }
    },
    {
      "cell_type": "code",
      "source": [
        "n = 987654321\n",
        "cadena = str(n)\n",
        "texto = []\n",
        "for i in cadena:\n",
        "    texto = [i,]+texto\n",
        "print(''.join(texto))"
      ],
      "metadata": {
        "colab": {
          "base_uri": "https://localhost:8080/"
        },
        "id": "TUQpxGWx6DFV",
        "outputId": "9ef4cdc5-8e8c-4cd9-9a63-68ac96bda1de"
      },
      "execution_count": 3,
      "outputs": [
        {
          "output_type": "stream",
          "name": "stdout",
          "text": [
            "123456789\n"
          ]
        }
      ]
    },
    {
      "cell_type": "markdown",
      "source": [
        "## Método 4\n",
        "Sin ```str```"
      ],
      "metadata": {
        "id": "7vhntL4sNfSy"
      }
    },
    {
      "cell_type": "code",
      "source": [
        "# sin usar str\n",
        "\n",
        "def reverso(n):\n",
        "    lista = []\n",
        "    if n < 10:\n",
        "        return [n,] + lista\n",
        "    lista = reverso(int(n/10)) + lista              # recursividad\n",
        "    lista = reverso(n % 10) + lista                 # recursividad\n",
        "    return lista\n",
        "\n",
        "n = 987654321\n",
        "for i in reverso(n):\n",
        "    print(i, end=\"\")"
      ],
      "metadata": {
        "colab": {
          "base_uri": "https://localhost:8080/"
        },
        "id": "SNYO5dRn8u83",
        "outputId": "e3b0324e-7450-4a6c-8a80-367f4f64ca4e"
      },
      "execution_count": 4,
      "outputs": [
        {
          "output_type": "stream",
          "name": "stdout",
          "text": [
            "123456789"
          ]
        }
      ]
    },
    {
      "cell_type": "markdown",
      "source": [
        "## Método 5"
      ],
      "metadata": {
        "id": "Jr5ppmXkNhVY"
      }
    },
    {
      "cell_type": "code",
      "source": [
        "# list comprehension\n",
        "n = 987654321\n",
        "cadena = str(n)\n",
        "print(''.join([cadena[i] for i in range(len(cadena)-1,-1,-1)]))"
      ],
      "metadata": {
        "colab": {
          "base_uri": "https://localhost:8080/"
        },
        "id": "6wWXsNf1DmvC",
        "outputId": "d644316f-95b9-43c2-9d9e-f2deb31f0b8a"
      },
      "execution_count": 5,
      "outputs": [
        {
          "output_type": "stream",
          "name": "stdout",
          "text": [
            "123456789\n"
          ]
        }
      ]
    },
    {
      "cell_type": "markdown",
      "source": [
        "## Método 6"
      ],
      "metadata": {
        "id": "1vXiKXIHNjDe"
      }
    },
    {
      "cell_type": "code",
      "source": [
        "n = 987654321\n",
        "lista = list(str(n))\n",
        "suma = 0\n",
        "for i,d in enumerate(lista):\n",
        "    suma += int(d)*10**i\n",
        "print(suma)"
      ],
      "metadata": {
        "colab": {
          "base_uri": "https://localhost:8080/"
        },
        "id": "w8Isncr4FSpG",
        "outputId": "ef37fa99-4287-4e54-c2ac-2c5451aee10b"
      },
      "execution_count": 6,
      "outputs": [
        {
          "output_type": "stream",
          "name": "stdout",
          "text": [
            "123456789\n"
          ]
        }
      ]
    },
    {
      "cell_type": "markdown",
      "source": [
        "## Método 7\n",
        "Similar al método anterior pero con list comprehension."
      ],
      "metadata": {
        "id": "AIGuc_MLNknS"
      }
    },
    {
      "cell_type": "code",
      "source": [
        "n = 987654321\n",
        "lista = list(str(n))\n",
        "sum(int(d) * 10**i for i, d in enumerate(lista))"
      ],
      "metadata": {
        "colab": {
          "base_uri": "https://localhost:8080/"
        },
        "id": "7okaXYT1Htth",
        "outputId": "68fd909b-e430-4d66-ebf1-d26da9b60b5f"
      },
      "execution_count": 7,
      "outputs": [
        {
          "output_type": "execute_result",
          "data": {
            "text/plain": [
              "123456789"
            ]
          },
          "metadata": {},
          "execution_count": 7
        }
      ]
    },
    {
      "cell_type": "markdown",
      "source": [
        "## Método 8\n",
        "Sin ```str```"
      ],
      "metadata": {
        "id": "85eqdr8yNmGc"
      }
    },
    {
      "cell_type": "code",
      "source": [
        "from math import log10\n",
        "n = 987654321\n",
        "for i in range(int(log10(n))+1):\n",
        "    print(int(n % 10), end=\"\")\n",
        "    n /= 10"
      ],
      "metadata": {
        "colab": {
          "base_uri": "https://localhost:8080/"
        },
        "id": "7rRSzEgRIfXm",
        "outputId": "d20dcf52-3961-4524-9aa2-dcd4f09632ab"
      },
      "execution_count": 8,
      "outputs": [
        {
          "output_type": "stream",
          "name": "stdout",
          "text": [
            "123456789"
          ]
        }
      ]
    },
    {
      "cell_type": "markdown",
      "source": [
        "## Método 9\n",
        "Sin ```str```"
      ],
      "metadata": {
        "id": "LJlUuM0nNy6L"
      }
    },
    {
      "cell_type": "code",
      "source": [
        "def reversi(n):\n",
        "    if n<10:\n",
        "        print(int(n % 10), end=\"\")\n",
        "    else:\n",
        "        print(int(n % 10), end=\"\")\n",
        "        reversi(n / 10)                 # recursividad\n",
        "\n",
        "n = 987654321\n",
        "reversi(n)"
      ],
      "metadata": {
        "colab": {
          "base_uri": "https://localhost:8080/"
        },
        "id": "ElIV9GneLvuy",
        "outputId": "65c2c718-722f-45b5-e275-f946dd0bc6b1"
      },
      "execution_count": 9,
      "outputs": [
        {
          "output_type": "stream",
          "name": "stdout",
          "text": [
            "123456789"
          ]
        }
      ]
    }
  ]
}