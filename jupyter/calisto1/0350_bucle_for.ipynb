{
  "cells": [
    {
      "cell_type": "markdown",
      "metadata": {
        "id": "view-in-github",
        "colab_type": "text"
      },
      "source": [
        "<a href=\"https://colab.research.google.com/github/financieras/pyCourse/blob/main/jupyter/calisto1_0350.ipynb\" target=\"_parent\"><img src=\"https://colab.research.google.com/assets/colab-badge.svg\" alt=\"Open In Colab\"/></a>"
      ]
    },
    {
      "cell_type": "markdown",
      "id": "887eb6d8",
      "metadata": {
        "id": "887eb6d8"
      },
      "source": [
        "# Bucle ```for```  \n",
        "\n",
        "Un bucle es una estructura de control que repite un bloque de código un **número conocido de veces**.  \n",
        "\n",
        "El bloque de instrucciones que se repite se denomina **cuerpo del bucle**,  \n",
        "\n",
        "cada repetición se denomina **iteración**."
      ]
    },
    {
      "cell_type": "markdown",
      "id": "5d0df1a8",
      "metadata": {
        "id": "5d0df1a8"
      },
      "source": [
        "## Iterando los elementos de una lista"
      ]
    },
    {
      "cell_type": "code",
      "execution_count": null,
      "id": "ac051410",
      "metadata": {
        "id": "ac051410"
      },
      "outputs": [],
      "source": [
        "frutas = [\"naranja\", \"banana\", \"manzana\"]\n",
        "for x in frutas:\n",
        "  print(x)"
      ]
    },
    {
      "cell_type": "markdown",
      "id": "286f882a",
      "metadata": {
        "id": "286f882a"
      },
      "source": [
        "La variable de control ```x``` es una variable auxiliar que toma el valor sucesivo de los elementos de la lista."
      ]
    },
    {
      "cell_type": "markdown",
      "id": "effecdca",
      "metadata": {
        "id": "effecdca"
      },
      "source": [
        "## Iterando las letras de una palabra"
      ]
    },
    {
      "cell_type": "code",
      "execution_count": null,
      "id": "ff955d7d",
      "metadata": {
        "id": "ff955d7d"
      },
      "outputs": [],
      "source": [
        "palabra = \"banana\"\n",
        "for letra in palabra:\n",
        "  print(letra)"
      ]
    },
    {
      "cell_type": "markdown",
      "id": "1fece682",
      "metadata": {
        "id": "1fece682"
      },
      "source": [
        "Ahora la variable de control es ```letra``` que irá tomando sucesivamente los diferentes caracteres del string."
      ]
    },
    {
      "cell_type": "markdown",
      "id": "9cc1ab5f",
      "metadata": {
        "id": "9cc1ab5f"
      },
      "source": [
        "## Usando la función ```range()```"
      ]
    },
    {
      "cell_type": "markdown",
      "id": "6bd9dd64",
      "metadata": {
        "id": "6bd9dd64"
      },
      "source": [
        "Para efectuar un cierto número de ciclos, podemos usar la función ```range()```.  \n",
        "La función ```range()``` devuelve una secuencia de números, comenzando en 0 de forma predeterminada, se incrementa en 1 (de forma predeterminada) y termina en un número especificado."
      ]
    },
    {
      "cell_type": "code",
      "execution_count": null,
      "id": "29b3bbdd",
      "metadata": {
        "id": "29b3bbdd"
      },
      "outputs": [],
      "source": [
        "for i in range(5):           #La variable i toma los valores de 0 a 4\n",
        "    print(i)"
      ]
    },
    {
      "cell_type": "code",
      "execution_count": null,
      "id": "2c023024",
      "metadata": {
        "id": "2c023024"
      },
      "outputs": [],
      "source": [
        "for i in range(1,5):         #La variable i toma los valores de 1 a 4\n",
        "    print(i)"
      ]
    },
    {
      "cell_type": "code",
      "execution_count": null,
      "id": "a6a92e3e",
      "metadata": {
        "id": "a6a92e3e"
      },
      "outputs": [],
      "source": [
        "for i in range(10,20,2):     #La variable i toma los valores: 10, 12, 14, 16, 18.\n",
        "    print(i)"
      ]
    },
    {
      "cell_type": "code",
      "execution_count": null,
      "id": "a590ab07",
      "metadata": {
        "id": "a590ab07"
      },
      "outputs": [],
      "source": [
        "for i in range(50,0,-10):    #La variable i toma los valores: 50, 40, 30, 20, 10.\n",
        "    print(i)"
      ]
    },
    {
      "cell_type": "markdown",
      "id": "b74cfa38",
      "metadata": {
        "id": "b74cfa38"
      },
      "source": [
        "```range()``` es un objeto de tipo range."
      ]
    },
    {
      "cell_type": "code",
      "execution_count": null,
      "id": "4ede5f19",
      "metadata": {
        "id": "4ede5f19"
      },
      "outputs": [],
      "source": [
        "range(5)"
      ]
    },
    {
      "cell_type": "code",
      "execution_count": null,
      "id": "17cfc14a",
      "metadata": {
        "id": "17cfc14a"
      },
      "outputs": [],
      "source": [
        "type(range(5))"
      ]
    },
    {
      "cell_type": "markdown",
      "id": "3cc63e34",
      "metadata": {
        "id": "3cc63e34"
      },
      "source": [
        "Podemos convertir el objeto range en una lista.  \n",
        "Ocupa menos memoria range(1000) que la lista correspondiente."
      ]
    },
    {
      "cell_type": "code",
      "execution_count": null,
      "id": "6e2bf779",
      "metadata": {
        "id": "6e2bf779"
      },
      "outputs": [],
      "source": [
        "list(range(5))"
      ]
    },
    {
      "cell_type": "markdown",
      "id": "b6702712",
      "metadata": {
        "id": "b6702712"
      },
      "source": [
        "## La instrucción ```pass```"
      ]
    },
    {
      "cell_type": "markdown",
      "id": "e285d1a4",
      "metadata": {
        "id": "e285d1a4"
      },
      "source": [
        "Los bucles ```for``` no pueden estar vacíos, pero si está haciendo prueba y aún tiene el bucle ```for``` sin contenido, ingrese la instrucción ```pass``` para evitar errores."
      ]
    },
    {
      "cell_type": "code",
      "execution_count": null,
      "id": "037aa485",
      "metadata": {
        "id": "037aa485"
      },
      "outputs": [],
      "source": [
        "for i in range(10):\n",
        "    pass"
      ]
    },
    {
      "cell_type": "markdown",
      "id": "f2c687a1",
      "metadata": {
        "id": "f2c687a1"
      },
      "source": [
        "## La instrucción ```break```"
      ]
    },
    {
      "cell_type": "markdown",
      "id": "7475bda0",
      "metadata": {
        "id": "7475bda0"
      },
      "source": [
        "Interrumpir con **```break```**. Con la instrucción ```break``` podemos detener el ciclo antes de que haya pasado por todos los elementos"
      ]
    },
    {
      "cell_type": "code",
      "execution_count": null,
      "id": "910085c9",
      "metadata": {
        "id": "910085c9"
      },
      "outputs": [],
      "source": [
        "for i in range(5,25,2):\n",
        "    if i == 17:\n",
        "        break\n",
        "        \n",
        "    print(i)"
      ]
    },
    {
      "cell_type": "markdown",
      "id": "e14f02a0",
      "metadata": {
        "id": "e14f02a0"
      },
      "source": [
        "En el ejemplo anterior, si convertimos el ```break``` en un comentario, el código nos daría error. Se soluciona poniendo ```pass``` después del comentario."
      ]
    },
    {
      "cell_type": "markdown",
      "id": "3e24b2ce",
      "metadata": {
        "id": "3e24b2ce"
      },
      "source": [
        "**Ejercicio**  \n",
        "¿Qué pasaría si en el ejemplo anterior el ```print``` va antes del ```if```?"
      ]
    },
    {
      "cell_type": "markdown",
      "id": "4689208b",
      "metadata": {
        "id": "4689208b"
      },
      "source": [
        "## La instrucción ```continue```"
      ]
    },
    {
      "cell_type": "markdown",
      "id": "3596d38a",
      "metadata": {
        "id": "3596d38a"
      },
      "source": [
        "Con la instrucción **```continue```** podemos detener la iteración actual del ciclo y continuar con la siguiente."
      ]
    },
    {
      "cell_type": "code",
      "execution_count": null,
      "id": "85db8dc1",
      "metadata": {
        "id": "85db8dc1"
      },
      "outputs": [],
      "source": [
        "for i in ['primavera', 'verano', 'otoño', 'invierno']:\n",
        "    if i == 'verano':\n",
        "        continue\n",
        "    print(i)"
      ]
    },
    {
      "cell_type": "markdown",
      "id": "78eb271d",
      "metadata": {
        "id": "78eb271d"
      },
      "source": [
        "## La instrucción ```else``` en un bucle ```for```"
      ]
    },
    {
      "cell_type": "markdown",
      "id": "b88978f5",
      "metadata": {
        "id": "b88978f5"
      },
      "source": [
        "```Else``` se ejecutará cuando el bucle haya finalizado."
      ]
    },
    {
      "cell_type": "code",
      "execution_count": null,
      "id": "5d0d49e1",
      "metadata": {
        "id": "5d0d49e1"
      },
      "outputs": [],
      "source": [
        "for i in range(6):\n",
        "    print(i)\n",
        "else:\n",
        "    print(\"El bucle ha finalizado.\")"
      ]
    },
    {
      "cell_type": "markdown",
      "id": "7ba92c6d",
      "metadata": {
        "id": "7ba92c6d"
      },
      "source": [
        "La utilidad de ```else``` reside en que si se utiliza en un bucle ```for``` con un ```break```, si se interrumpe la ejecución del bucle, y en ese caso, no se llegará a ejecutar el bloque de código del ```else```."
      ]
    },
    {
      "cell_type": "code",
      "execution_count": null,
      "id": "582b3521",
      "metadata": {
        "id": "582b3521"
      },
      "outputs": [],
      "source": [
        "for i in range(6):\n",
        "    print(i)\n",
        "    if i == 3:\n",
        "        break\n",
        "else:\n",
        "    print(\"El bucle ha finalizado.\")"
      ]
    }
  ],
  "metadata": {
    "kernelspec": {
      "display_name": "Python 3 (ipykernel)",
      "language": "python",
      "name": "python3"
    },
    "language_info": {
      "codemirror_mode": {
        "name": "ipython",
        "version": 3
      },
      "file_extension": ".py",
      "mimetype": "text/x-python",
      "name": "python",
      "nbconvert_exporter": "python",
      "pygments_lexer": "ipython3",
      "version": "3.8.11"
    },
    "colab": {
      "name": "0350_bucle_for.ipynb",
      "provenance": [],
      "include_colab_link": true
    }
  },
  "nbformat": 4,
  "nbformat_minor": 5
}
