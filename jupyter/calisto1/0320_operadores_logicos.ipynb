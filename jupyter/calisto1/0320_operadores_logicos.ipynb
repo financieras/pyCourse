{
  "cells": [
    {
      "cell_type": "markdown",
      "metadata": {
        "id": "view-in-github",
        "colab_type": "text"
      },
      "source": [
        "<a href=\"https://colab.research.google.com/github/financieras/pyCourse/blob/main/jupyter/calisto1/0320_operadores_logicos.ipynb\" target=\"_parent\"><img src=\"https://colab.research.google.com/assets/colab-badge.svg\" alt=\"Open In Colab\"/></a>"
      ]
    },
    {
      "cell_type": "markdown",
      "id": "c5604c40",
      "metadata": {
        "id": "c5604c40"
      },
      "source": [
        "# Operadores lógicos: ```and```, ```or```, ```not```"
      ]
    },
    {
      "cell_type": "markdown",
      "id": "194ec015",
      "metadata": {
        "id": "194ec015"
      },
      "source": [
        "## ```and```"
      ]
    },
    {
      "cell_type": "code",
      "execution_count": 1,
      "id": "b979ba22",
      "metadata": {
        "id": "b979ba22",
        "outputId": "fc92db18-b738-40a8-baf9-ccd627ff30dd",
        "colab": {
          "base_uri": "https://localhost:8080/"
        }
      },
      "outputs": [
        {
          "output_type": "execute_result",
          "data": {
            "text/plain": [
              "True"
            ]
          },
          "metadata": {},
          "execution_count": 1
        }
      ],
      "source": [
        "True and True      # True"
      ]
    },
    {
      "cell_type": "code",
      "execution_count": 2,
      "id": "320831f3",
      "metadata": {
        "id": "320831f3",
        "outputId": "7bb17d62-79b3-4c72-bec0-da6bbbddfc90",
        "colab": {
          "base_uri": "https://localhost:8080/"
        }
      },
      "outputs": [
        {
          "output_type": "execute_result",
          "data": {
            "text/plain": [
              "False"
            ]
          },
          "metadata": {},
          "execution_count": 2
        }
      ],
      "source": [
        "True and False     # False   y con el orden cambiado da lo mismo"
      ]
    },
    {
      "cell_type": "code",
      "execution_count": 3,
      "id": "2a382687",
      "metadata": {
        "id": "2a382687",
        "outputId": "71c8482f-34ad-4f44-ee0e-a296888609e7",
        "colab": {
          "base_uri": "https://localhost:8080/"
        }
      },
      "outputs": [
        {
          "output_type": "execute_result",
          "data": {
            "text/plain": [
              "False"
            ]
          },
          "metadata": {},
          "execution_count": 3
        }
      ],
      "source": [
        "False and False    # False"
      ]
    },
    {
      "cell_type": "code",
      "execution_count": 4,
      "id": "e729fff9",
      "metadata": {
        "id": "e729fff9",
        "outputId": "de8b0f56-4740-46cd-cb61-87df2026604b",
        "colab": {
          "base_uri": "https://localhost:8080/"
        }
      },
      "outputs": [
        {
          "output_type": "execute_result",
          "data": {
            "text/plain": [
              "True"
            ]
          },
          "metadata": {},
          "execution_count": 4
        }
      ],
      "source": [
        "1 < 2 and 2 < 3    # uniendo con and dos expresiones lógicas"
      ]
    },
    {
      "cell_type": "code",
      "execution_count": 5,
      "id": "b301cb88",
      "metadata": {
        "id": "b301cb88",
        "outputId": "a2b16e52-4697-4063-8bd8-bac39e7b3bd7",
        "colab": {
          "base_uri": "https://localhost:8080/"
        }
      },
      "outputs": [
        {
          "output_type": "execute_result",
          "data": {
            "text/plain": [
              "True"
            ]
          },
          "metadata": {},
          "execution_count": 5
        }
      ],
      "source": [
        "1 < 2 < 3          # el resultado también es True"
      ]
    },
    {
      "cell_type": "code",
      "execution_count": 6,
      "id": "d96de2cb",
      "metadata": {
        "id": "d96de2cb",
        "outputId": "245690bc-4eaa-4428-bcfa-383fcf7d076c",
        "colab": {
          "base_uri": "https://localhost:8080/"
        }
      },
      "outputs": [
        {
          "output_type": "stream",
          "name": "stdout",
          "text": [
            "Ambos son positivos\n"
          ]
        }
      ],
      "source": [
        "a = 10\n",
        "b = 10\n",
        "if a > 0 and b > 0:\n",
        "    print(\"Ambos son positivos\")"
      ]
    },
    {
      "cell_type": "code",
      "execution_count": 7,
      "id": "90bf7a31",
      "metadata": {
        "id": "90bf7a31",
        "outputId": "e1a310f8-1484-4c3b-a43f-eca5c65700d4",
        "colab": {
          "base_uri": "https://localhost:8080/"
        }
      },
      "outputs": [
        {
          "output_type": "stream",
          "name": "stdout",
          "text": [
            "Al menos uno de los dos no es mayor que 5\n"
          ]
        }
      ],
      "source": [
        "a = 10\n",
        "b = 0\n",
        "if a > 5 and b > 5:\n",
        "    print(\"Ambos son mayores que 5\")\n",
        "else:\n",
        "    print(\"Al menos uno de los dos no es mayor que 5\")"
      ]
    },
    {
      "cell_type": "code",
      "execution_count": 8,
      "id": "b6de2bc5",
      "metadata": {
        "id": "b6de2bc5",
        "outputId": "58dad209-afb0-46e5-bede-e181ff6574f7",
        "colab": {
          "base_uri": "https://localhost:8080/"
        }
      },
      "outputs": [
        {
          "output_type": "stream",
          "name": "stdout",
          "text": [
            "Todas las condiciones son ciertas.\n"
          ]
        }
      ],
      "source": [
        "x = True\n",
        "y = (2 == 2)\n",
        "z = !False\n",
        "if x and y and z:\n",
        "    print('Todas las condiciones son ciertas.')"
      ]
    },
    {
      "cell_type": "code",
      "execution_count": 9,
      "id": "aea62669",
      "metadata": {
        "id": "aea62669",
        "outputId": "25f6aebb-a7f7-4d97-ecf3-4faacc1d5d38",
        "colab": {
          "base_uri": "https://localhost:8080/"
        }
      },
      "outputs": [
        {
          "output_type": "execute_result",
          "data": {
            "text/plain": [
              "True"
            ]
          },
          "metadata": {},
          "execution_count": 9
        }
      ],
      "source": [
        "edad = 26                  # ¿está esta persona en edad laboral?\n",
        "edad >= 16 and edad <= 70  # supongamos que éste es el rango para la edad laboral"
      ]
    },
    {
      "cell_type": "markdown",
      "id": "b04c8090",
      "metadata": {
        "id": "b04c8090"
      },
      "source": [
        "## ```or```"
      ]
    },
    {
      "cell_type": "code",
      "execution_count": 10,
      "id": "07e33cc6",
      "metadata": {
        "id": "07e33cc6",
        "outputId": "e775a742-09b4-44cd-8447-5303b75f8eba",
        "colab": {
          "base_uri": "https://localhost:8080/"
        }
      },
      "outputs": [
        {
          "output_type": "execute_result",
          "data": {
            "text/plain": [
              "True"
            ]
          },
          "metadata": {},
          "execution_count": 10
        }
      ],
      "source": [
        "True or True       # True"
      ]
    },
    {
      "cell_type": "code",
      "execution_count": 11,
      "id": "036e5ac1",
      "metadata": {
        "id": "036e5ac1",
        "outputId": "8eb33866-362d-4df1-ac58-a87aaa8ba04a",
        "colab": {
          "base_uri": "https://localhost:8080/"
        }
      },
      "outputs": [
        {
          "output_type": "execute_result",
          "data": {
            "text/plain": [
              "True"
            ]
          },
          "metadata": {},
          "execution_count": 11
        }
      ],
      "source": [
        "True or False      # True   y con el orden cambiado da lo mismo"
      ]
    },
    {
      "cell_type": "code",
      "execution_count": 12,
      "id": "1ec6e65d",
      "metadata": {
        "id": "1ec6e65d",
        "outputId": "4671ead1-be2d-41f4-cf4b-f8867534df91",
        "colab": {
          "base_uri": "https://localhost:8080/"
        }
      },
      "outputs": [
        {
          "output_type": "execute_result",
          "data": {
            "text/plain": [
              "False"
            ]
          },
          "metadata": {},
          "execution_count": 12
        }
      ],
      "source": [
        "False or False     # False"
      ]
    },
    {
      "cell_type": "code",
      "execution_count": 13,
      "id": "5d24a913",
      "metadata": {
        "id": "5d24a913",
        "outputId": "cec294a6-4764-49c4-8d89-cf52876dd6a3",
        "colab": {
          "base_uri": "https://localhost:8080/"
        }
      },
      "outputs": [
        {
          "output_type": "stream",
          "name": "stdout",
          "text": [
            "Al menos uno de los dos es positivo\n"
          ]
        }
      ],
      "source": [
        "a = 10\n",
        "b = -3\n",
        "if a > 0 or b > 0:\n",
        "    print(\"Al menos uno de los dos es positivo\")\n",
        "else:\n",
        "    print(\"Ninguno de los dos valores es positivo\")"
      ]
    },
    {
      "cell_type": "code",
      "execution_count": 14,
      "id": "02156989",
      "metadata": {
        "id": "02156989",
        "outputId": "1dc3b40d-915b-4935-96b6-c48cec2b6c0a",
        "colab": {
          "base_uri": "https://localhost:8080/"
        }
      },
      "outputs": [
        {
          "output_type": "stream",
          "name": "stdout",
          "text": [
            "Al menos uno de los booleanos es verdadero.\n"
          ]
        }
      ],
      "source": [
        "x = True\n",
        "y = True\n",
        "z = True\n",
        "if x or y or z:\n",
        "    print(\"Al menos uno de los booleanos es verdadero.\")\n",
        "else:\n",
        "    print(\"Todos los valores son falsos.\")"
      ]
    },
    {
      "cell_type": "code",
      "execution_count": 15,
      "id": "15552934",
      "metadata": {
        "id": "15552934",
        "outputId": "75fcdd5c-9ed8-4665-e106-edebe3172bfe",
        "colab": {
          "base_uri": "https://localhost:8080/"
        }
      },
      "outputs": [
        {
          "output_type": "execute_result",
          "data": {
            "text/plain": [
              "True"
            ]
          },
          "metadata": {},
          "execution_count": 15
        }
      ],
      "source": [
        "respuesta = \"salir\"    # veamos si podemos finalizar un programa cuando la respuesta es \"salir\"\n",
        "respuesta == \"exit\"  or respuesta == \"fin\" or respuesta == \"salir\""
      ]
    },
    {
      "cell_type": "markdown",
      "id": "ee1095ab",
      "metadata": {
        "id": "ee1095ab"
      },
      "source": [
        "# ```not```"
      ]
    },
    {
      "cell_type": "code",
      "execution_count": 16,
      "id": "228b0238",
      "metadata": {
        "id": "228b0238",
        "outputId": "b0e48171-d5cf-4816-f808-2490e35a6919",
        "colab": {
          "base_uri": "https://localhost:8080/"
        }
      },
      "outputs": [
        {
          "output_type": "execute_result",
          "data": {
            "text/plain": [
              "False"
            ]
          },
          "metadata": {},
          "execution_count": 16
        }
      ],
      "source": [
        "not True     # False       la negación de la verdad da falso y la negación de lo falso da verdadero"
      ]
    },
    {
      "cell_type": "code",
      "execution_count": 17,
      "id": "a79bd5bc",
      "metadata": {
        "id": "a79bd5bc",
        "outputId": "cb05e5c9-9200-4a12-9167-2a44d393b0fc",
        "colab": {
          "base_uri": "https://localhost:8080/"
        }
      },
      "outputs": [
        {
          "output_type": "stream",
          "name": "stdout",
          "text": [
            "Mi mundo es Digital\n"
          ]
        }
      ],
      "source": [
        "mimundo = 'Digital'\n",
        "if not(mimundo =='Analógico'):\n",
        "    print(\"Mi mundo es Digital\")"
      ]
    },
    {
      "cell_type": "code",
      "execution_count": 18,
      "id": "abe93796",
      "metadata": {
        "id": "abe93796",
        "outputId": "e71a4b73-a545-48ab-8cb6-d468416f1920",
        "colab": {
          "base_uri": "https://localhost:8080/"
        }
      },
      "outputs": [
        {
          "output_type": "stream",
          "name": "stdout",
          "text": [
            "El valor es divisible entre 10\n"
          ]
        }
      ],
      "source": [
        "a = 70\n",
        "if not(a % 2 == 0 and a % 5 == 0):\n",
        "    print(\"El valor no es divisible entre 10\")\n",
        "else:\n",
        "    print(\"El valor es divisible entre 10\")"
      ]
    },
    {
      "cell_type": "markdown",
      "id": "9db96c09",
      "metadata": {
        "id": "9db96c09"
      },
      "source": [
        "# Operadores encadenados"
      ]
    },
    {
      "cell_type": "code",
      "execution_count": 19,
      "id": "2eb907ec",
      "metadata": {
        "id": "2eb907ec",
        "outputId": "5ba9bee4-8485-401d-e66e-99d6d8126c57",
        "colab": {
          "base_uri": "https://localhost:8080/"
        }
      },
      "outputs": [
        {
          "output_type": "execute_result",
          "data": {
            "text/plain": [
              "True"
            ]
          },
          "metadata": {},
          "execution_count": 19
        }
      ],
      "source": [
        "1 < 2 and 2 < 3"
      ]
    },
    {
      "cell_type": "code",
      "execution_count": 20,
      "id": "77a6c40a",
      "metadata": {
        "id": "77a6c40a",
        "outputId": "72deb0c7-657d-4d35-ba0b-a22ea21779b2",
        "colab": {
          "base_uri": "https://localhost:8080/"
        }
      },
      "outputs": [
        {
          "output_type": "execute_result",
          "data": {
            "text/plain": [
              "True"
            ]
          },
          "metadata": {},
          "execution_count": 20
        }
      ],
      "source": [
        "#el primer paréntesis es equivalente al segundo\n",
        "(1 < 2 < 3) == (3 > 2 > 1)"
      ]
    },
    {
      "cell_type": "code",
      "execution_count": 21,
      "id": "1745ea0d",
      "metadata": {
        "id": "1745ea0d",
        "outputId": "0e8ccaa3-a664-4c6b-f517-276dfa0e23ed",
        "colab": {
          "base_uri": "https://localhost:8080/"
        }
      },
      "outputs": [
        {
          "output_type": "execute_result",
          "data": {
            "text/plain": [
              "True"
            ]
          },
          "metadata": {},
          "execution_count": 21
        }
      ],
      "source": [
        "#el primer paréntesis es equivalente al segundo\n",
        "numero = 20\n",
        "(numero >= 0 and numero <= 100) == (0 <= numero <= 100)"
      ]
    }
  ],
  "metadata": {
    "kernelspec": {
      "display_name": "Python 3",
      "language": "python",
      "name": "python3"
    },
    "language_info": {
      "codemirror_mode": {
        "name": "ipython",
        "version": 3
      },
      "file_extension": ".py",
      "mimetype": "text/x-python",
      "name": "python",
      "nbconvert_exporter": "python",
      "pygments_lexer": "ipython3",
      "version": "3.8.8"
    },
    "colab": {
      "name": "calisto1_0320.ipynb",
      "provenance": [],
      "include_colab_link": true
    }
  },
  "nbformat": 4,
  "nbformat_minor": 5
}