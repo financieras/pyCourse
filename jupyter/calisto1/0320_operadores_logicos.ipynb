{
  "cells": [
    {
      "cell_type": "markdown",
      "metadata": {
        "id": "view-in-github",
        "colab_type": "text"
      },
      "source": [
        "<a href=\"https://colab.research.google.com/github/financieras/pyCourse/blob/main/jupyter/0320_operadores_logicos.ipynb\" target=\"_parent\"><img src=\"https://colab.research.google.com/assets/colab-badge.svg\" alt=\"Open In Colab\"/></a>"
      ]
    },
    {
      "cell_type": "markdown",
      "id": "c5604c40",
      "metadata": {
        "id": "c5604c40"
      },
      "source": [
        "# Operadores lógicos: ```and```, ```or```, ```not```"
      ]
    },
    {
      "cell_type": "markdown",
      "id": "194ec015",
      "metadata": {
        "id": "194ec015"
      },
      "source": [
        "## ```and```"
      ]
    },
    {
      "cell_type": "code",
      "execution_count": null,
      "id": "b979ba22",
      "metadata": {
        "id": "b979ba22"
      },
      "outputs": [],
      "source": [
        "True and True      # True"
      ]
    },
    {
      "cell_type": "code",
      "execution_count": null,
      "id": "320831f3",
      "metadata": {
        "id": "320831f3"
      },
      "outputs": [],
      "source": [
        "True and False     # False   y con el orden cambiado da lo mismo"
      ]
    },
    {
      "cell_type": "code",
      "execution_count": null,
      "id": "2a382687",
      "metadata": {
        "id": "2a382687"
      },
      "outputs": [],
      "source": [
        "False and False    # False"
      ]
    },
    {
      "cell_type": "code",
      "execution_count": null,
      "id": "e729fff9",
      "metadata": {
        "id": "e729fff9"
      },
      "outputs": [],
      "source": [
        "1 < 2 and 2 < 3    # uniendo con and dos expresiones lógicas"
      ]
    },
    {
      "cell_type": "code",
      "execution_count": null,
      "id": "b301cb88",
      "metadata": {
        "id": "b301cb88"
      },
      "outputs": [],
      "source": [
        "1 < 2 < 3          # el resultado también es True"
      ]
    },
    {
      "cell_type": "code",
      "execution_count": null,
      "id": "d96de2cb",
      "metadata": {
        "id": "d96de2cb"
      },
      "outputs": [],
      "source": [
        "a = 10\n",
        "b = 10\n",
        "if a > 0 and b > 0:\n",
        "    print(\"Ambos son positivos\")"
      ]
    },
    {
      "cell_type": "code",
      "execution_count": null,
      "id": "90bf7a31",
      "metadata": {
        "id": "90bf7a31"
      },
      "outputs": [],
      "source": [
        "a = 10\n",
        "b = 0\n",
        "if a > 5 and b > 5:\n",
        "    print(\"Ambos son mayores que 5\")\n",
        "else:\n",
        "    print(\"Al menos uno de los dos no es mayor que 5\")"
      ]
    },
    {
      "cell_type": "code",
      "execution_count": null,
      "id": "b6de2bc5",
      "metadata": {
        "id": "b6de2bc5"
      },
      "outputs": [],
      "source": [
        "x = True\n",
        "y = (2 == 2)\n",
        "z = !False\n",
        "if x and y and z:\n",
        "    print('Todas las condiciones son ciertas.')"
      ]
    },
    {
      "cell_type": "code",
      "execution_count": null,
      "id": "aea62669",
      "metadata": {
        "id": "aea62669"
      },
      "outputs": [],
      "source": [
        "edad = 26                  # ¿está esta persona en edad laboral?\n",
        "edad >= 16 and edad <= 70  # supongamos que éste es el rango para la edad laboral"
      ]
    },
    {
      "cell_type": "markdown",
      "id": "b04c8090",
      "metadata": {
        "id": "b04c8090"
      },
      "source": [
        "## ```or```"
      ]
    },
    {
      "cell_type": "code",
      "execution_count": null,
      "id": "07e33cc6",
      "metadata": {
        "id": "07e33cc6"
      },
      "outputs": [],
      "source": [
        "True or True       # True"
      ]
    },
    {
      "cell_type": "code",
      "execution_count": null,
      "id": "036e5ac1",
      "metadata": {
        "id": "036e5ac1"
      },
      "outputs": [],
      "source": [
        "True or False      # True   y con el orden cambiado da lo mismo"
      ]
    },
    {
      "cell_type": "code",
      "execution_count": null,
      "id": "1ec6e65d",
      "metadata": {
        "id": "1ec6e65d"
      },
      "outputs": [],
      "source": [
        "False or False     # False"
      ]
    },
    {
      "cell_type": "code",
      "execution_count": null,
      "id": "5d24a913",
      "metadata": {
        "id": "5d24a913"
      },
      "outputs": [],
      "source": [
        "a = 10\n",
        "b = -3\n",
        "if a > 0 or b > 0:\n",
        "    print(\"Al menos uno de los dos es positivo\")\n",
        "else:\n",
        "    print(\"Ninguno de los dos valores es positivo\")"
      ]
    },
    {
      "cell_type": "code",
      "execution_count": null,
      "id": "02156989",
      "metadata": {
        "id": "02156989"
      },
      "outputs": [],
      "source": [
        "x = True\n",
        "y = True\n",
        "z = True\n",
        "if x or y or z:\n",
        "    print(\"Al menos uno de los booleanos es verdadero.\")\n",
        "else:\n",
        "    print(\"Todos los valores son falsos.\")"
      ]
    },
    {
      "cell_type": "code",
      "execution_count": null,
      "id": "15552934",
      "metadata": {
        "id": "15552934",
        "outputId": "550fde64-96d9-4e71-b546-603d97ce4008"
      },
      "outputs": [
        {
          "data": {
            "text/plain": [
              "True"
            ]
          },
          "execution_count": 14,
          "metadata": {},
          "output_type": "execute_result"
        }
      ],
      "source": [
        "respuesta = \"salir\"    # veamos si podemos finalizar un programa cuando la respuesta es \"salir\"\n",
        "respuesta == \"exit\"  or respuesta == \"fin\" or respuesta == \"salir\""
      ]
    },
    {
      "cell_type": "markdown",
      "id": "ee1095ab",
      "metadata": {
        "id": "ee1095ab"
      },
      "source": [
        "# ```not```"
      ]
    },
    {
      "cell_type": "code",
      "execution_count": null,
      "id": "228b0238",
      "metadata": {
        "id": "228b0238"
      },
      "outputs": [],
      "source": [
        "not True     # False       la negación de la verdad da falso y la negación de lo falso da verdadero"
      ]
    },
    {
      "cell_type": "code",
      "execution_count": null,
      "id": "a79bd5bc",
      "metadata": {
        "id": "a79bd5bc"
      },
      "outputs": [],
      "source": [
        "mimundo = 'Digital'\n",
        "if not(mimundo =='Analógico'):\n",
        "    print(\"Mi mundo es Digital\")"
      ]
    },
    {
      "cell_type": "code",
      "execution_count": null,
      "id": "abe93796",
      "metadata": {
        "id": "abe93796"
      },
      "outputs": [],
      "source": [
        "a = 70\n",
        "if not(a % 2 == 0 and a % 5 == 0):\n",
        "    print(\"El valor no es divisible entre 10\")\n",
        "else:\n",
        "    print(\"El valor es divisible entre 10\")"
      ]
    },
    {
      "cell_type": "markdown",
      "id": "9db96c09",
      "metadata": {
        "id": "9db96c09"
      },
      "source": [
        "# Operadores encadenados"
      ]
    },
    {
      "cell_type": "code",
      "execution_count": null,
      "id": "2eb907ec",
      "metadata": {
        "id": "2eb907ec"
      },
      "outputs": [],
      "source": [
        "1 < 2 and 2 < 3"
      ]
    },
    {
      "cell_type": "code",
      "execution_count": null,
      "id": "77a6c40a",
      "metadata": {
        "id": "77a6c40a"
      },
      "outputs": [],
      "source": [
        "#el primer paréntesis es equivalente al segundo\n",
        "(1 < 2 < 3) == (3 > 2 > 1)"
      ]
    },
    {
      "cell_type": "code",
      "execution_count": null,
      "id": "1745ea0d",
      "metadata": {
        "id": "1745ea0d"
      },
      "outputs": [],
      "source": [
        "#el primer paréntesis es equivalente al segundo\n",
        "numero = 20\n",
        "(numero >= 0 and numero <= 100) == (0 <= numero <= 100)"
      ]
    }
  ],
  "metadata": {
    "kernelspec": {
      "display_name": "Python 3",
      "language": "python",
      "name": "python3"
    },
    "language_info": {
      "codemirror_mode": {
        "name": "ipython",
        "version": 3
      },
      "file_extension": ".py",
      "mimetype": "text/x-python",
      "name": "python",
      "nbconvert_exporter": "python",
      "pygments_lexer": "ipython3",
      "version": "3.8.8"
    },
    "colab": {
      "name": "0320_operadores_logicos.ipynb",
      "provenance": [],
      "include_colab_link": true
    }
  },
  "nbformat": 4,
  "nbformat_minor": 5
}
