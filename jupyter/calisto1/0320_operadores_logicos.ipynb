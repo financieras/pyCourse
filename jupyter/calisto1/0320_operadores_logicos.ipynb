{
  "cells": [
    {
      "cell_type": "markdown",
      "metadata": {
        "id": "view-in-github",
        "colab_type": "text"
      },
      "source": [
        "<a href=\"https://colab.research.google.com/github/financieras/pyCourse/blob/main/jupyter/calisto1/0320_operadores_logicos.ipynb\" target=\"_parent\"><img src=\"https://colab.research.google.com/assets/colab-badge.svg\" alt=\"Open In Colab\"/></a>"
      ]
    },
    {
      "cell_type": "markdown",
      "id": "c5604c40",
      "metadata": {
        "id": "c5604c40"
      },
      "source": [
        "# Operadores lógicos: ```and```, ```or```, ```not```"
      ]
    },
    {
      "cell_type": "markdown",
      "id": "194ec015",
      "metadata": {
        "id": "194ec015"
      },
      "source": [
        "## ```and```"
      ]
    },
    {
      "cell_type": "code",
      "execution_count": 1,
      "id": "b979ba22",
      "metadata": {
        "id": "b979ba22",
        "outputId": "827db73b-09f6-4af3-f5d7-a55a929a2247",
        "colab": {
          "base_uri": "https://localhost:8080/"
        }
      },
      "outputs": [
        {
          "output_type": "execute_result",
          "data": {
            "text/plain": [
              "True"
            ]
          },
          "metadata": {},
          "execution_count": 1
        }
      ],
      "source": [
        "True and True      # True"
      ]
    },
    {
      "cell_type": "code",
      "execution_count": 2,
      "id": "320831f3",
      "metadata": {
        "id": "320831f3",
        "outputId": "552b9a57-241c-4ec1-a945-7afea20e7ad2",
        "colab": {
          "base_uri": "https://localhost:8080/"
        }
      },
      "outputs": [
        {
          "output_type": "execute_result",
          "data": {
            "text/plain": [
              "False"
            ]
          },
          "metadata": {},
          "execution_count": 2
        }
      ],
      "source": [
        "True and False     # False   y con el orden cambiado da lo mismo"
      ]
    },
    {
      "cell_type": "code",
      "execution_count": 3,
      "id": "2a382687",
      "metadata": {
        "id": "2a382687",
        "outputId": "769c5c19-8606-4c75-9d4a-44ba0791cc67",
        "colab": {
          "base_uri": "https://localhost:8080/"
        }
      },
      "outputs": [
        {
          "output_type": "execute_result",
          "data": {
            "text/plain": [
              "False"
            ]
          },
          "metadata": {},
          "execution_count": 3
        }
      ],
      "source": [
        "False and False    # False"
      ]
    },
    {
      "cell_type": "code",
      "execution_count": 4,
      "id": "e729fff9",
      "metadata": {
        "id": "e729fff9",
        "outputId": "6b408851-2a92-41be-d1a3-72180a054b12",
        "colab": {
          "base_uri": "https://localhost:8080/"
        }
      },
      "outputs": [
        {
          "output_type": "execute_result",
          "data": {
            "text/plain": [
              "True"
            ]
          },
          "metadata": {},
          "execution_count": 4
        }
      ],
      "source": [
        "1 < 2 and 2 < 3    # uniendo con and dos expresiones lógicas"
      ]
    },
    {
      "cell_type": "code",
      "execution_count": 5,
      "id": "b301cb88",
      "metadata": {
        "id": "b301cb88",
        "outputId": "696ebfb2-ae42-4bdd-92e7-277b859ebcef",
        "colab": {
          "base_uri": "https://localhost:8080/"
        }
      },
      "outputs": [
        {
          "output_type": "execute_result",
          "data": {
            "text/plain": [
              "True"
            ]
          },
          "metadata": {},
          "execution_count": 5
        }
      ],
      "source": [
        "1 < 2 < 3          # el resultado también es True"
      ]
    },
    {
      "cell_type": "code",
      "execution_count": 6,
      "id": "d96de2cb",
      "metadata": {
        "id": "d96de2cb",
        "outputId": "29a77254-eeaf-4397-ce8d-2fc3cc252736",
        "colab": {
          "base_uri": "https://localhost:8080/"
        }
      },
      "outputs": [
        {
          "output_type": "stream",
          "name": "stdout",
          "text": [
            "Ambos son positivos\n"
          ]
        }
      ],
      "source": [
        "a = 10\n",
        "b = 10\n",
        "if a > 0 and b > 0:\n",
        "    print(\"Ambos son positivos\")"
      ]
    },
    {
      "cell_type": "code",
      "execution_count": 7,
      "id": "90bf7a31",
      "metadata": {
        "id": "90bf7a31",
        "outputId": "618cc622-5b50-4ef8-c110-94ddaeebe56e",
        "colab": {
          "base_uri": "https://localhost:8080/"
        }
      },
      "outputs": [
        {
          "output_type": "stream",
          "name": "stdout",
          "text": [
            "Al menos uno de los dos no es mayor que 5\n"
          ]
        }
      ],
      "source": [
        "a = 10\n",
        "b = 0\n",
        "if a > 5 and b > 5:\n",
        "    print(\"Ambos son mayores que 5\")\n",
        "else:\n",
        "    print(\"Al menos uno de los dos no es mayor que 5\")"
      ]
    },
    {
      "cell_type": "code",
      "execution_count": 8,
      "id": "b6de2bc5",
      "metadata": {
        "id": "b6de2bc5",
        "outputId": "844881fc-88d2-4ab6-f950-51c278e145c0",
        "colab": {
          "base_uri": "https://localhost:8080/"
        }
      },
      "outputs": [
        {
          "output_type": "stream",
          "name": "stdout",
          "text": [
            "Todas las condiciones son ciertas.\n"
          ]
        }
      ],
      "source": [
        "x = True\n",
        "y = (2 == 2)\n",
        "z = !False\n",
        "if x and y and z:\n",
        "    print('Todas las condiciones son ciertas.')"
      ]
    },
    {
      "cell_type": "code",
      "execution_count": 9,
      "id": "aea62669",
      "metadata": {
        "id": "aea62669",
        "outputId": "ff04d2cc-ae6c-48a4-c6b8-b35e18f0cea9",
        "colab": {
          "base_uri": "https://localhost:8080/"
        }
      },
      "outputs": [
        {
          "output_type": "execute_result",
          "data": {
            "text/plain": [
              "True"
            ]
          },
          "metadata": {},
          "execution_count": 9
        }
      ],
      "source": [
        "edad = 26                  # ¿está esta persona en edad laboral?\n",
        "edad >= 16 and edad <= 70  # supongamos que éste es el rango para la edad laboral"
      ]
    },
    {
      "cell_type": "markdown",
      "id": "b04c8090",
      "metadata": {
        "id": "b04c8090"
      },
      "source": [
        "## ```or```"
      ]
    },
    {
      "cell_type": "code",
      "execution_count": 10,
      "id": "07e33cc6",
      "metadata": {
        "id": "07e33cc6",
        "outputId": "0aa53c7f-7840-4afb-8c6b-dee327d33bee",
        "colab": {
          "base_uri": "https://localhost:8080/"
        }
      },
      "outputs": [
        {
          "output_type": "execute_result",
          "data": {
            "text/plain": [
              "True"
            ]
          },
          "metadata": {},
          "execution_count": 10
        }
      ],
      "source": [
        "True or True       # True"
      ]
    },
    {
      "cell_type": "code",
      "execution_count": 11,
      "id": "036e5ac1",
      "metadata": {
        "id": "036e5ac1",
        "outputId": "cd5c5822-d7d0-4cfc-8e41-72ca006cacfc",
        "colab": {
          "base_uri": "https://localhost:8080/"
        }
      },
      "outputs": [
        {
          "output_type": "execute_result",
          "data": {
            "text/plain": [
              "True"
            ]
          },
          "metadata": {},
          "execution_count": 11
        }
      ],
      "source": [
        "True or False      # True   y con el orden cambiado da lo mismo"
      ]
    },
    {
      "cell_type": "code",
      "execution_count": 12,
      "id": "1ec6e65d",
      "metadata": {
        "id": "1ec6e65d",
        "outputId": "e80e9959-e845-4a7d-da3a-2a83ea039452",
        "colab": {
          "base_uri": "https://localhost:8080/"
        }
      },
      "outputs": [
        {
          "output_type": "execute_result",
          "data": {
            "text/plain": [
              "False"
            ]
          },
          "metadata": {},
          "execution_count": 12
        }
      ],
      "source": [
        "False or False     # False"
      ]
    },
    {
      "cell_type": "code",
      "execution_count": 13,
      "id": "5d24a913",
      "metadata": {
        "id": "5d24a913",
        "outputId": "6697ca69-6a68-45be-9db9-86039df09569",
        "colab": {
          "base_uri": "https://localhost:8080/"
        }
      },
      "outputs": [
        {
          "output_type": "stream",
          "name": "stdout",
          "text": [
            "Al menos uno de los dos es positivo\n"
          ]
        }
      ],
      "source": [
        "a = 10\n",
        "b = -3\n",
        "if a > 0 or b > 0:\n",
        "    print(\"Al menos uno de los dos es positivo\")\n",
        "else:\n",
        "    print(\"Ninguno de los dos valores es positivo\")"
      ]
    },
    {
      "cell_type": "code",
      "execution_count": 14,
      "id": "02156989",
      "metadata": {
        "id": "02156989",
        "outputId": "8cf458a5-2359-426e-a084-85a3866d9b12",
        "colab": {
          "base_uri": "https://localhost:8080/"
        }
      },
      "outputs": [
        {
          "output_type": "stream",
          "name": "stdout",
          "text": [
            "Al menos uno de los booleanos es verdadero.\n"
          ]
        }
      ],
      "source": [
        "x = True\n",
        "y = True\n",
        "z = True\n",
        "if x or y or z:\n",
        "    print(\"Al menos uno de los booleanos es verdadero.\")\n",
        "else:\n",
        "    print(\"Todos los valores son falsos.\")"
      ]
    },
    {
      "cell_type": "code",
      "execution_count": 15,
      "id": "15552934",
      "metadata": {
        "id": "15552934",
        "outputId": "aed4958d-0a72-44af-be1a-237c058f6b6e",
        "colab": {
          "base_uri": "https://localhost:8080/"
        }
      },
      "outputs": [
        {
          "output_type": "execute_result",
          "data": {
            "text/plain": [
              "True"
            ]
          },
          "metadata": {},
          "execution_count": 15
        }
      ],
      "source": [
        "respuesta = \"salir\"    # veamos si podemos finalizar un programa cuando la respuesta es \"salir\"\n",
        "respuesta == \"exit\"  or respuesta == \"fin\" or respuesta == \"salir\""
      ]
    },
    {
      "cell_type": "markdown",
      "id": "ee1095ab",
      "metadata": {
        "id": "ee1095ab"
      },
      "source": [
        "# ```not```"
      ]
    },
    {
      "cell_type": "code",
      "execution_count": 16,
      "id": "228b0238",
      "metadata": {
        "id": "228b0238",
        "outputId": "c793a559-d8f3-486b-f402-f90f09987e13",
        "colab": {
          "base_uri": "https://localhost:8080/"
        }
      },
      "outputs": [
        {
          "output_type": "execute_result",
          "data": {
            "text/plain": [
              "False"
            ]
          },
          "metadata": {},
          "execution_count": 16
        }
      ],
      "source": [
        "not True     # False       la negación de la verdad da falso y la negación de lo falso da verdadero"
      ]
    },
    {
      "cell_type": "code",
      "execution_count": 17,
      "id": "a79bd5bc",
      "metadata": {
        "id": "a79bd5bc",
        "outputId": "7059aee2-7422-492f-b65b-33a867ee885b",
        "colab": {
          "base_uri": "https://localhost:8080/"
        }
      },
      "outputs": [
        {
          "output_type": "stream",
          "name": "stdout",
          "text": [
            "Mi mundo es Digital\n"
          ]
        }
      ],
      "source": [
        "mimundo = 'Digital'\n",
        "if not(mimundo =='Analógico'):\n",
        "    print(\"Mi mundo es Digital\")"
      ]
    },
    {
      "cell_type": "code",
      "execution_count": 18,
      "id": "abe93796",
      "metadata": {
        "id": "abe93796",
        "outputId": "12df26d0-9504-4f25-c70e-ba38961947c7",
        "colab": {
          "base_uri": "https://localhost:8080/"
        }
      },
      "outputs": [
        {
          "output_type": "stream",
          "name": "stdout",
          "text": [
            "El valor es divisible entre 10\n"
          ]
        }
      ],
      "source": [
        "a = 70\n",
        "if not(a % 2 == 0 and a % 5 == 0):\n",
        "    print(\"El valor no es divisible entre 10\")\n",
        "else:\n",
        "    print(\"El valor es divisible entre 10\")"
      ]
    },
    {
      "cell_type": "markdown",
      "id": "9db96c09",
      "metadata": {
        "id": "9db96c09"
      },
      "source": [
        "# Operadores encadenados"
      ]
    },
    {
      "cell_type": "code",
      "execution_count": 19,
      "id": "2eb907ec",
      "metadata": {
        "id": "2eb907ec",
        "outputId": "6488b811-aecc-41f8-f630-649acc18c9ec",
        "colab": {
          "base_uri": "https://localhost:8080/"
        }
      },
      "outputs": [
        {
          "output_type": "execute_result",
          "data": {
            "text/plain": [
              "True"
            ]
          },
          "metadata": {},
          "execution_count": 19
        }
      ],
      "source": [
        "1 < 2 and 2 < 3"
      ]
    },
    {
      "cell_type": "code",
      "execution_count": 20,
      "id": "77a6c40a",
      "metadata": {
        "id": "77a6c40a",
        "outputId": "7ab66f1b-20af-4c03-e44a-2dbed3d8226a",
        "colab": {
          "base_uri": "https://localhost:8080/"
        }
      },
      "outputs": [
        {
          "output_type": "execute_result",
          "data": {
            "text/plain": [
              "True"
            ]
          },
          "metadata": {},
          "execution_count": 20
        }
      ],
      "source": [
        "#el primer paréntesis es equivalente al segundo\n",
        "(1 < 2 < 3) == (3 > 2 > 1)"
      ]
    },
    {
      "cell_type": "code",
      "execution_count": 21,
      "id": "1745ea0d",
      "metadata": {
        "id": "1745ea0d",
        "outputId": "f818e0e7-1e0e-4106-e3f9-74355a2e5b58",
        "colab": {
          "base_uri": "https://localhost:8080/"
        }
      },
      "outputs": [
        {
          "output_type": "execute_result",
          "data": {
            "text/plain": [
              "True"
            ]
          },
          "metadata": {},
          "execution_count": 21
        }
      ],
      "source": [
        "#el primer paréntesis es equivalente al segundo\n",
        "numero = 20\n",
        "(numero >= 0 and numero <= 100) == (0 <= numero <= 100)"
      ]
    }
  ],
  "metadata": {
    "kernelspec": {
      "display_name": "Python 3",
      "language": "python",
      "name": "python3"
    },
    "language_info": {
      "codemirror_mode": {
        "name": "ipython",
        "version": 3
      },
      "file_extension": ".py",
      "mimetype": "text/x-python",
      "name": "python",
      "nbconvert_exporter": "python",
      "pygments_lexer": "ipython3",
      "version": "3.8.8"
    },
    "colab": {
      "name": "0320_operadores_logicos.ipynb",
      "provenance": [],
      "include_colab_link": true
    }
  },
  "nbformat": 4,
  "nbformat_minor": 5
}