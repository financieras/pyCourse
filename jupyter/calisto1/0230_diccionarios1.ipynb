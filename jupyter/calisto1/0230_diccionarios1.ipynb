{
  "cells": [
    {
      "cell_type": "markdown",
      "metadata": {
        "id": "view-in-github",
        "colab_type": "text"
      },
      "source": [
        "<a href=\"https://colab.research.google.com/github/financieras/pyCourse/blob/main/jupyter/calisto1_0230.ipynb\" target=\"_parent\"><img src=\"https://colab.research.google.com/assets/colab-badge.svg\" alt=\"Open In Colab\"/></a>"
      ]
    },
    {
      "cell_type": "markdown",
      "id": "79731434",
      "metadata": {
        "id": "79731434"
      },
      "source": [
        "# Diccionarios [1]\n",
        "* Diccionario: estructura iterable de parejas &nbsp;&nbsp; **Clave : Valor**\n",
        "* No ordenado\n",
        " - Una lista si es ordenada\n",
        " - Una tupla si es ordenada\n",
        " - Un diccionario no es ordenado\n",
        " - Un conjunto (set) no es ordenado\n",
        "* Las claves son únicas. No existen dos claves repetidas."
      ]
    },
    {
      "cell_type": "markdown",
      "id": "ae63663c",
      "metadata": {
        "id": "ae63663c"
      },
      "source": [
        "### Ejemplo\n",
        "**País: Capital**\n",
        " - 'Francia' : 'París'\n",
        " - 'Italia' : 'Roma'\n",
        " - 'Portugal' : 'Lisboa'\n",
        " - 'España' : 'Madrid'\n",
        " - 'Alemania' : 'Berlín'"
      ]
    },
    {
      "cell_type": "code",
      "execution_count": null,
      "id": "d2d3710a",
      "metadata": {
        "id": "d2d3710a"
      },
      "outputs": [],
      "source": [
        "geo = {'Francia':'París',\n",
        "       'Italia':'Roma',\n",
        "       'Portugal':'Lisboa',\n",
        "       'España':'Madrid',\n",
        "       'Alemania':'Berlín'}\n",
        "geo"
      ]
    },
    {
      "cell_type": "code",
      "execution_count": null,
      "id": "cd38ba4f",
      "metadata": {
        "id": "cd38ba4f"
      },
      "outputs": [],
      "source": [
        "vacio = {}                      # creación de un diccionario vacío\n",
        "vacio"
      ]
    },
    {
      "cell_type": "code",
      "execution_count": null,
      "id": "e4af3dc7",
      "metadata": {
        "id": "e4af3dc7"
      },
      "outputs": [],
      "source": [
        "type(vacio)                     # los diccionarios son de tipo dic"
      ]
    },
    {
      "cell_type": "code",
      "execution_count": null,
      "id": "9f46ff98",
      "metadata": {
        "id": "9f46ff98"
      },
      "outputs": [],
      "source": [
        "d = {'uno':'one', 'dos':'two', 'tres':'three', 'cuatro':'four'}\n",
        "d['uno']                        # one"
      ]
    },
    {
      "cell_type": "markdown",
      "id": "9a17abc4",
      "metadata": {
        "id": "9a17abc4"
      },
      "source": [
        "## Los diccionarios son colecciones desordenadas  \n",
        "No se asegura que el orden sea el esperado."
      ]
    },
    {
      "cell_type": "code",
      "execution_count": null,
      "id": "c5fd244d",
      "metadata": {
        "id": "c5fd244d"
      },
      "outputs": [],
      "source": [
        "d['cero'] = 'zero'              # añadiendo un nuevo elemento al diccionario  clave:valor"
      ]
    },
    {
      "cell_type": "code",
      "execution_count": null,
      "id": "895d085d",
      "metadata": {
        "id": "895d085d"
      },
      "outputs": [],
      "source": [
        "d"
      ]
    },
    {
      "cell_type": "code",
      "execution_count": null,
      "id": "6d529f4e",
      "metadata": {
        "id": "6d529f4e"
      },
      "outputs": [],
      "source": [
        "palabra = 'uno'\n",
        "print(f\"{palabra} en inglés es {d[palabra]}.\")"
      ]
    },
    {
      "cell_type": "code",
      "execution_count": null,
      "id": "a53be649",
      "metadata": {
        "id": "a53be649"
      },
      "outputs": [],
      "source": [
        "dic_num = {'uno':1, 'dos':2, 'tres':3, 'cuatro':4}\n",
        "print(f\"Hay {dic_num['dos']} tazas de café.\")"
      ]
    },
    {
      "cell_type": "markdown",
      "id": "049436f7",
      "metadata": {
        "id": "049436f7"
      },
      "source": [
        "## Los valores pueden ser tuplas, listas, ... incluso otros diccionarios"
      ]
    },
    {
      "cell_type": "code",
      "execution_count": null,
      "id": "19025a58",
      "metadata": {
        "id": "19025a58"
      },
      "outputs": [],
      "source": [
        "elementos = {'Litio':('Li',3), 'Sodio':('Na',11), 'Potasio':('K',19)}   # nº atómico = nº de protones\n",
        "print(\"El número atómico del Litio es\", elementos['Litio'][1])"
      ]
    },
    {
      "cell_type": "markdown",
      "id": "0240a8cc",
      "metadata": {
        "id": "0240a8cc"
      },
      "source": [
        "### Ejercicio\n",
        "Completar la siguiente línea de código"
      ]
    },
    {
      "cell_type": "code",
      "execution_count": null,
      "id": "f5be712e",
      "metadata": {
        "id": "f5be712e"
      },
      "outputs": [],
      "source": [
        "print(\"El símbolo del Sodio es ...\")"
      ]
    },
    {
      "cell_type": "markdown",
      "id": "9ff1a1f3",
      "metadata": {
        "id": "9ff1a1f3"
      },
      "source": [
        "#### Solución"
      ]
    },
    {
      "cell_type": "code",
      "execution_count": null,
      "id": "a92f72bf",
      "metadata": {
        "id": "a92f72bf"
      },
      "outputs": [],
      "source": [
        "e ='Sodio'\n",
        "print(f\"El símbolo del {e} es {elementos[e][0]}.\")"
      ]
    },
    {
      "cell_type": "markdown",
      "id": "e3bb7738",
      "metadata": {
        "id": "e3bb7738"
      },
      "source": [
        "## Convertir un diccionario en listas"
      ]
    },
    {
      "cell_type": "code",
      "execution_count": null,
      "id": "d80e8eb9",
      "metadata": {
        "id": "d80e8eb9"
      },
      "outputs": [],
      "source": [
        "d = {'x':1, 'y':2, 'z':3}\n",
        "d"
      ]
    },
    {
      "cell_type": "code",
      "execution_count": null,
      "id": "b0d23b4e",
      "metadata": {
        "id": "b0d23b4e"
      },
      "outputs": [],
      "source": [
        "list(d)                    # ['x', 'y', 'z']"
      ]
    },
    {
      "cell_type": "code",
      "execution_count": null,
      "id": "f4017517",
      "metadata": {
        "id": "f4017517"
      },
      "outputs": [],
      "source": [
        "d.keys()                   # dict_keys(['x', 'y', 'z'])"
      ]
    },
    {
      "cell_type": "code",
      "execution_count": null,
      "id": "ce28bccf",
      "metadata": {
        "id": "ce28bccf"
      },
      "outputs": [],
      "source": [
        "list(d.keys())            # ['x', 'y', 'z']"
      ]
    },
    {
      "cell_type": "code",
      "execution_count": null,
      "id": "4b71b3d8",
      "metadata": {
        "id": "4b71b3d8"
      },
      "outputs": [],
      "source": [
        "d.values()                 # dict_values([1, 2, 3])"
      ]
    },
    {
      "cell_type": "code",
      "execution_count": null,
      "id": "f0e09b4d",
      "metadata": {
        "id": "f0e09b4d"
      },
      "outputs": [],
      "source": [
        "list(d.values())            # [1, 2, 3]"
      ]
    },
    {
      "cell_type": "code",
      "execution_count": null,
      "id": "1833ee85",
      "metadata": {
        "id": "1833ee85"
      },
      "outputs": [],
      "source": [
        "d.items()                  # dict_items([('x', 1), ('y', 2), ('z', 3)])"
      ]
    },
    {
      "cell_type": "code",
      "execution_count": null,
      "id": "ab6d8819",
      "metadata": {
        "id": "ab6d8819"
      },
      "outputs": [],
      "source": [
        "list(d.items())            # [('x', 1), ('y', 2), ('z', 3)]"
      ]
    },
    {
      "cell_type": "code",
      "execution_count": null,
      "id": "0852d16f",
      "metadata": {
        "id": "0852d16f"
      },
      "outputs": [],
      "source": [
        "list(iter(d))              # ['x', 'y', 'z']"
      ]
    }
  ],
  "metadata": {
    "kernelspec": {
      "display_name": "Python 3 (ipykernel)",
      "language": "python",
      "name": "python3"
    },
    "language_info": {
      "codemirror_mode": {
        "name": "ipython",
        "version": 3
      },
      "file_extension": ".py",
      "mimetype": "text/x-python",
      "name": "python",
      "nbconvert_exporter": "python",
      "pygments_lexer": "ipython3",
      "version": "3.8.11"
    },
    "colab": {
      "name": "0230_diccionarios1.ipynb",
      "provenance": [],
      "include_colab_link": true
    }
  },
  "nbformat": 4,
  "nbformat_minor": 5
}
