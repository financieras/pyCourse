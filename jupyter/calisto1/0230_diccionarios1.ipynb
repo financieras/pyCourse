{
  "cells": [
    {
      "cell_type": "markdown",
      "metadata": {
        "id": "view-in-github",
        "colab_type": "text"
      },
      "source": [
        "<a href=\"https://colab.research.google.com/github/financieras/pyCourse/blob/main/jupyter/calisto1/0230_diccionarios1.ipynb\" target=\"_parent\"><img src=\"https://colab.research.google.com/assets/colab-badge.svg\" alt=\"Open In Colab\"/></a>"
      ]
    },
    {
      "cell_type": "markdown",
      "id": "79731434",
      "metadata": {
        "id": "79731434"
      },
      "source": [
        "# Diccionarios [1]\n",
        "* Diccionario: estructura iterable de parejas &nbsp;&nbsp; **Clave : Valor**\n",
        "* No ordenado\n",
        " - Una lista si es ordenada\n",
        " - Una tupla si es ordenada\n",
        " - Un diccionario no es ordenado\n",
        " - Un conjunto (set) no es ordenado\n",
        "* Las claves son únicas. No existen dos claves repetidas."
      ]
    },
    {
      "cell_type": "markdown",
      "id": "ae63663c",
      "metadata": {
        "id": "ae63663c"
      },
      "source": [
        "### Ejemplo\n",
        "**País: Capital**\n",
        " - 'Francia' : 'París'\n",
        " - 'Italia' : 'Roma'\n",
        " - 'Portugal' : 'Lisboa'\n",
        " - 'España' : 'Madrid'\n",
        " - 'Alemania' : 'Berlín'"
      ]
    },
    {
      "cell_type": "code",
      "execution_count": 1,
      "id": "d2d3710a",
      "metadata": {
        "id": "d2d3710a",
        "outputId": "9cf76bf2-cdb4-4d32-c873-1d602b08db2b",
        "colab": {
          "base_uri": "https://localhost:8080/"
        }
      },
      "outputs": [
        {
          "output_type": "execute_result",
          "data": {
            "text/plain": [
              "{'Francia': 'París',\n",
              " 'Italia': 'Roma',\n",
              " 'Portugal': 'Lisboa',\n",
              " 'España': 'Madrid',\n",
              " 'Alemania': 'Berlín'}"
            ]
          },
          "metadata": {},
          "execution_count": 1
        }
      ],
      "source": [
        "geo = {'Francia':'París',\n",
        "       'Italia':'Roma',\n",
        "       'Portugal':'Lisboa',\n",
        "       'España':'Madrid',\n",
        "       'Alemania':'Berlín'}\n",
        "geo"
      ]
    },
    {
      "cell_type": "code",
      "execution_count": 2,
      "id": "cd38ba4f",
      "metadata": {
        "id": "cd38ba4f",
        "outputId": "08c0f4e0-f72b-41b1-ca3c-9cdc0201beb2",
        "colab": {
          "base_uri": "https://localhost:8080/"
        }
      },
      "outputs": [
        {
          "output_type": "execute_result",
          "data": {
            "text/plain": [
              "{}"
            ]
          },
          "metadata": {},
          "execution_count": 2
        }
      ],
      "source": [
        "vacio = {}                      # creación de un diccionario vacío\n",
        "vacio"
      ]
    },
    {
      "cell_type": "code",
      "execution_count": 3,
      "id": "e4af3dc7",
      "metadata": {
        "id": "e4af3dc7",
        "outputId": "54ba60f2-a7a2-4772-c8d9-bd2f1f5ac025",
        "colab": {
          "base_uri": "https://localhost:8080/"
        }
      },
      "outputs": [
        {
          "output_type": "execute_result",
          "data": {
            "text/plain": [
              "dict"
            ]
          },
          "metadata": {},
          "execution_count": 3
        }
      ],
      "source": [
        "type(vacio)                     # los diccionarios son de tipo dic"
      ]
    },
    {
      "cell_type": "code",
      "execution_count": 4,
      "id": "9f46ff98",
      "metadata": {
        "id": "9f46ff98",
        "outputId": "988b2aac-226b-4ba7-d2f0-4fd09a5a500e",
        "colab": {
          "base_uri": "https://localhost:8080/",
          "height": 35
        }
      },
      "outputs": [
        {
          "output_type": "execute_result",
          "data": {
            "text/plain": [
              "'one'"
            ],
            "application/vnd.google.colaboratory.intrinsic+json": {
              "type": "string"
            }
          },
          "metadata": {},
          "execution_count": 4
        }
      ],
      "source": [
        "d = {'uno':'one', 'dos':'two', 'tres':'three', 'cuatro':'four'}\n",
        "d['uno']                        # one"
      ]
    },
    {
      "cell_type": "markdown",
      "id": "9a17abc4",
      "metadata": {
        "id": "9a17abc4"
      },
      "source": [
        "## Los diccionarios son colecciones desordenadas  \n",
        "No se asegura que el orden sea el esperado."
      ]
    },
    {
      "cell_type": "code",
      "execution_count": 5,
      "id": "c5fd244d",
      "metadata": {
        "id": "c5fd244d"
      },
      "outputs": [],
      "source": [
        "d['cero'] = 'zero'              # añadiendo un nuevo elemento al diccionario  clave:valor"
      ]
    },
    {
      "cell_type": "code",
      "execution_count": 6,
      "id": "895d085d",
      "metadata": {
        "id": "895d085d",
        "outputId": "2edf85f2-55a4-44ac-c702-a618a1a9b2aa",
        "colab": {
          "base_uri": "https://localhost:8080/"
        }
      },
      "outputs": [
        {
          "output_type": "execute_result",
          "data": {
            "text/plain": [
              "{'uno': 'one', 'dos': 'two', 'tres': 'three', 'cuatro': 'four', 'cero': 'zero'}"
            ]
          },
          "metadata": {},
          "execution_count": 6
        }
      ],
      "source": [
        "d"
      ]
    },
    {
      "cell_type": "code",
      "execution_count": 7,
      "id": "6d529f4e",
      "metadata": {
        "id": "6d529f4e",
        "outputId": "42128a0f-2710-4bce-882a-2e48b0e94d29",
        "colab": {
          "base_uri": "https://localhost:8080/"
        }
      },
      "outputs": [
        {
          "output_type": "stream",
          "name": "stdout",
          "text": [
            "uno en inglés es one.\n"
          ]
        }
      ],
      "source": [
        "palabra = 'uno'\n",
        "print(f\"{palabra} en inglés es {d[palabra]}.\")"
      ]
    },
    {
      "cell_type": "code",
      "execution_count": 8,
      "id": "a53be649",
      "metadata": {
        "id": "a53be649",
        "outputId": "4c385754-5a1d-4983-b83b-8799daf4808b",
        "colab": {
          "base_uri": "https://localhost:8080/"
        }
      },
      "outputs": [
        {
          "output_type": "stream",
          "name": "stdout",
          "text": [
            "Hay 2 tazas de café.\n"
          ]
        }
      ],
      "source": [
        "dic_num = {'uno':1, 'dos':2, 'tres':3, 'cuatro':4}\n",
        "print(f\"Hay {dic_num['dos']} tazas de café.\")"
      ]
    },
    {
      "cell_type": "markdown",
      "id": "049436f7",
      "metadata": {
        "id": "049436f7"
      },
      "source": [
        "## Los valores pueden ser tuplas, listas, ... incluso otros diccionarios"
      ]
    },
    {
      "cell_type": "code",
      "execution_count": 9,
      "id": "19025a58",
      "metadata": {
        "id": "19025a58",
        "outputId": "b86230ef-18c4-4200-a0f4-ecaa87f277b7",
        "colab": {
          "base_uri": "https://localhost:8080/"
        }
      },
      "outputs": [
        {
          "output_type": "stream",
          "name": "stdout",
          "text": [
            "El número atómico del Litio es 3\n"
          ]
        }
      ],
      "source": [
        "elementos = {'Litio':('Li',3), 'Sodio':('Na',11), 'Potasio':('K',19)}   # nº atómico = nº de protones\n",
        "print(\"El número atómico del Litio es\", elementos['Litio'][1])"
      ]
    },
    {
      "cell_type": "markdown",
      "id": "0240a8cc",
      "metadata": {
        "id": "0240a8cc"
      },
      "source": [
        "### Ejercicio\n",
        "Completar la siguiente línea de código"
      ]
    },
    {
      "cell_type": "code",
      "execution_count": 10,
      "id": "f5be712e",
      "metadata": {
        "id": "f5be712e",
        "outputId": "1cbc6dc4-f79a-4a1a-8b39-899ef7d59fe6",
        "colab": {
          "base_uri": "https://localhost:8080/"
        }
      },
      "outputs": [
        {
          "output_type": "stream",
          "name": "stdout",
          "text": [
            "El símbolo del Sodio es ...\n"
          ]
        }
      ],
      "source": [
        "print(\"El símbolo del Sodio es ...\")"
      ]
    },
    {
      "cell_type": "markdown",
      "id": "9ff1a1f3",
      "metadata": {
        "id": "9ff1a1f3"
      },
      "source": [
        "#### Solución"
      ]
    },
    {
      "cell_type": "code",
      "execution_count": 11,
      "id": "a92f72bf",
      "metadata": {
        "id": "a92f72bf",
        "outputId": "eba57a4c-55ac-4f24-efe2-700af2991acc",
        "colab": {
          "base_uri": "https://localhost:8080/"
        }
      },
      "outputs": [
        {
          "output_type": "stream",
          "name": "stdout",
          "text": [
            "El símbolo del Sodio es Na.\n"
          ]
        }
      ],
      "source": [
        "e ='Sodio'\n",
        "print(f\"El símbolo del {e} es {elementos[e][0]}.\")"
      ]
    },
    {
      "cell_type": "markdown",
      "id": "e3bb7738",
      "metadata": {
        "id": "e3bb7738"
      },
      "source": [
        "## Convertir un diccionario en listas"
      ]
    },
    {
      "cell_type": "code",
      "execution_count": 12,
      "id": "d80e8eb9",
      "metadata": {
        "id": "d80e8eb9",
        "outputId": "3de3fadc-7f41-47d3-d781-c15a860e3147",
        "colab": {
          "base_uri": "https://localhost:8080/"
        }
      },
      "outputs": [
        {
          "output_type": "execute_result",
          "data": {
            "text/plain": [
              "{'x': 1, 'y': 2, 'z': 3}"
            ]
          },
          "metadata": {},
          "execution_count": 12
        }
      ],
      "source": [
        "d = {'x':1, 'y':2, 'z':3}\n",
        "d"
      ]
    },
    {
      "cell_type": "code",
      "execution_count": 13,
      "id": "b0d23b4e",
      "metadata": {
        "id": "b0d23b4e",
        "outputId": "990c12ef-ed69-4cf5-9c95-87387db6b98f",
        "colab": {
          "base_uri": "https://localhost:8080/"
        }
      },
      "outputs": [
        {
          "output_type": "execute_result",
          "data": {
            "text/plain": [
              "['x', 'y', 'z']"
            ]
          },
          "metadata": {},
          "execution_count": 13
        }
      ],
      "source": [
        "list(d)                    # ['x', 'y', 'z']"
      ]
    },
    {
      "cell_type": "code",
      "execution_count": 14,
      "id": "f4017517",
      "metadata": {
        "id": "f4017517",
        "outputId": "f747d3b4-31ec-400f-c587-58e660e90244",
        "colab": {
          "base_uri": "https://localhost:8080/"
        }
      },
      "outputs": [
        {
          "output_type": "execute_result",
          "data": {
            "text/plain": [
              "dict_keys(['x', 'y', 'z'])"
            ]
          },
          "metadata": {},
          "execution_count": 14
        }
      ],
      "source": [
        "d.keys()                   # dict_keys(['x', 'y', 'z'])"
      ]
    },
    {
      "cell_type": "code",
      "execution_count": 15,
      "id": "ce28bccf",
      "metadata": {
        "id": "ce28bccf",
        "outputId": "b39ef478-545c-46dc-ae33-7b4ade332597",
        "colab": {
          "base_uri": "https://localhost:8080/"
        }
      },
      "outputs": [
        {
          "output_type": "execute_result",
          "data": {
            "text/plain": [
              "['x', 'y', 'z']"
            ]
          },
          "metadata": {},
          "execution_count": 15
        }
      ],
      "source": [
        "list(d.keys())            # ['x', 'y', 'z']"
      ]
    },
    {
      "cell_type": "code",
      "execution_count": 16,
      "id": "4b71b3d8",
      "metadata": {
        "id": "4b71b3d8",
        "outputId": "eb8af584-531b-4954-a693-fe84eb4fe14d",
        "colab": {
          "base_uri": "https://localhost:8080/"
        }
      },
      "outputs": [
        {
          "output_type": "execute_result",
          "data": {
            "text/plain": [
              "dict_values([1, 2, 3])"
            ]
          },
          "metadata": {},
          "execution_count": 16
        }
      ],
      "source": [
        "d.values()                 # dict_values([1, 2, 3])"
      ]
    },
    {
      "cell_type": "code",
      "execution_count": 17,
      "id": "f0e09b4d",
      "metadata": {
        "id": "f0e09b4d",
        "outputId": "95c3ddfe-77c1-43e6-8817-d3196117ca3f",
        "colab": {
          "base_uri": "https://localhost:8080/"
        }
      },
      "outputs": [
        {
          "output_type": "execute_result",
          "data": {
            "text/plain": [
              "[1, 2, 3]"
            ]
          },
          "metadata": {},
          "execution_count": 17
        }
      ],
      "source": [
        "list(d.values())            # [1, 2, 3]"
      ]
    },
    {
      "cell_type": "code",
      "execution_count": 18,
      "id": "1833ee85",
      "metadata": {
        "id": "1833ee85",
        "outputId": "eb31abc4-3df5-4b95-f60c-3ca8baf051bd",
        "colab": {
          "base_uri": "https://localhost:8080/"
        }
      },
      "outputs": [
        {
          "output_type": "execute_result",
          "data": {
            "text/plain": [
              "dict_items([('x', 1), ('y', 2), ('z', 3)])"
            ]
          },
          "metadata": {},
          "execution_count": 18
        }
      ],
      "source": [
        "d.items()                  # dict_items([('x', 1), ('y', 2), ('z', 3)])"
      ]
    },
    {
      "cell_type": "code",
      "execution_count": 19,
      "id": "ab6d8819",
      "metadata": {
        "id": "ab6d8819",
        "outputId": "cbd60dbc-66db-46bf-93df-ce3470bedcf0",
        "colab": {
          "base_uri": "https://localhost:8080/"
        }
      },
      "outputs": [
        {
          "output_type": "execute_result",
          "data": {
            "text/plain": [
              "[('x', 1), ('y', 2), ('z', 3)]"
            ]
          },
          "metadata": {},
          "execution_count": 19
        }
      ],
      "source": [
        "list(d.items())            # [('x', 1), ('y', 2), ('z', 3)]"
      ]
    },
    {
      "cell_type": "code",
      "execution_count": 20,
      "id": "0852d16f",
      "metadata": {
        "id": "0852d16f",
        "outputId": "dc7e05b5-061e-4e46-e2ed-747ee4ef7295",
        "colab": {
          "base_uri": "https://localhost:8080/"
        }
      },
      "outputs": [
        {
          "output_type": "execute_result",
          "data": {
            "text/plain": [
              "['x', 'y', 'z']"
            ]
          },
          "metadata": {},
          "execution_count": 20
        }
      ],
      "source": [
        "list(iter(d))              # ['x', 'y', 'z']"
      ]
    }
  ],
  "metadata": {
    "kernelspec": {
      "display_name": "Python 3 (ipykernel)",
      "language": "python",
      "name": "python3"
    },
    "language_info": {
      "codemirror_mode": {
        "name": "ipython",
        "version": 3
      },
      "file_extension": ".py",
      "mimetype": "text/x-python",
      "name": "python",
      "nbconvert_exporter": "python",
      "pygments_lexer": "ipython3",
      "version": "3.8.11"
    },
    "colab": {
      "name": "0230_diccionarios1.ipynb",
      "provenance": [],
      "include_colab_link": true
    }
  },
  "nbformat": 4,
  "nbformat_minor": 5
}