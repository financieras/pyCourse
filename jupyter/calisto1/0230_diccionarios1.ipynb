{
  "cells": [
    {
      "cell_type": "markdown",
      "metadata": {
        "id": "view-in-github",
        "colab_type": "text"
      },
      "source": [
        "<a href=\"https://colab.research.google.com/github/financieras/pyCourse/blob/main/jupyter/calisto1/0230_diccionarios1.ipynb\" target=\"_parent\"><img src=\"https://colab.research.google.com/assets/colab-badge.svg\" alt=\"Open In Colab\"/></a>"
      ]
    },
    {
      "cell_type": "markdown",
      "id": "79731434",
      "metadata": {
        "id": "79731434"
      },
      "source": [
        "# Diccionarios [1]\n",
        "* Diccionario: estructura iterable de parejas &nbsp;&nbsp; **Clave : Valor**\n",
        "* No ordenado\n",
        " - Una lista si es ordenada\n",
        " - Una tupla si es ordenada\n",
        " - Un diccionario no es ordenado\n",
        " - Un conjunto (set) no es ordenado\n",
        "* Las claves son únicas. No existen dos claves repetidas."
      ]
    },
    {
      "cell_type": "markdown",
      "id": "ae63663c",
      "metadata": {
        "id": "ae63663c"
      },
      "source": [
        "### Ejemplo\n",
        "**País: Capital**\n",
        " - 'Francia' : 'París'\n",
        " - 'Italia' : 'Roma'\n",
        " - 'Portugal' : 'Lisboa'\n",
        " - 'España' : 'Madrid'\n",
        " - 'Alemania' : 'Berlín'"
      ]
    },
    {
      "cell_type": "code",
      "execution_count": 1,
      "id": "d2d3710a",
      "metadata": {
        "id": "d2d3710a",
        "outputId": "93bfbce6-c85f-4307-df16-5a43e5aa1ce9",
        "colab": {
          "base_uri": "https://localhost:8080/"
        }
      },
      "outputs": [
        {
          "output_type": "execute_result",
          "data": {
            "text/plain": [
              "{'Francia': 'París',\n",
              " 'Italia': 'Roma',\n",
              " 'Portugal': 'Lisboa',\n",
              " 'España': 'Madrid',\n",
              " 'Alemania': 'Berlín'}"
            ]
          },
          "metadata": {},
          "execution_count": 1
        }
      ],
      "source": [
        "geo = {'Francia':'París',\n",
        "       'Italia':'Roma',\n",
        "       'Portugal':'Lisboa',\n",
        "       'España':'Madrid',\n",
        "       'Alemania':'Berlín'}\n",
        "geo"
      ]
    },
    {
      "cell_type": "code",
      "execution_count": 2,
      "id": "cd38ba4f",
      "metadata": {
        "id": "cd38ba4f",
        "outputId": "2a4107cf-fc32-448f-93c9-b89ee119d9c8",
        "colab": {
          "base_uri": "https://localhost:8080/"
        }
      },
      "outputs": [
        {
          "output_type": "execute_result",
          "data": {
            "text/plain": [
              "{}"
            ]
          },
          "metadata": {},
          "execution_count": 2
        }
      ],
      "source": [
        "vacio = {}                      # creación de un diccionario vacío\n",
        "vacio"
      ]
    },
    {
      "cell_type": "code",
      "execution_count": 3,
      "id": "e4af3dc7",
      "metadata": {
        "id": "e4af3dc7",
        "outputId": "9420ffab-cee0-4acb-fe9b-dae9fc96627f",
        "colab": {
          "base_uri": "https://localhost:8080/"
        }
      },
      "outputs": [
        {
          "output_type": "execute_result",
          "data": {
            "text/plain": [
              "dict"
            ]
          },
          "metadata": {},
          "execution_count": 3
        }
      ],
      "source": [
        "type(vacio)                     # los diccionarios son de tipo dic"
      ]
    },
    {
      "cell_type": "code",
      "execution_count": 4,
      "id": "9f46ff98",
      "metadata": {
        "id": "9f46ff98",
        "outputId": "726f0971-8544-4c74-865d-1fbffa13a52a",
        "colab": {
          "base_uri": "https://localhost:8080/",
          "height": 35
        }
      },
      "outputs": [
        {
          "output_type": "execute_result",
          "data": {
            "text/plain": [
              "'one'"
            ],
            "application/vnd.google.colaboratory.intrinsic+json": {
              "type": "string"
            }
          },
          "metadata": {},
          "execution_count": 4
        }
      ],
      "source": [
        "d = {'uno':'one', 'dos':'two', 'tres':'three', 'cuatro':'four'}\n",
        "d['uno']                        # one"
      ]
    },
    {
      "cell_type": "markdown",
      "id": "9a17abc4",
      "metadata": {
        "id": "9a17abc4"
      },
      "source": [
        "## Los diccionarios son colecciones desordenadas  \n",
        "No se asegura que el orden sea el esperado."
      ]
    },
    {
      "cell_type": "code",
      "execution_count": 5,
      "id": "c5fd244d",
      "metadata": {
        "id": "c5fd244d"
      },
      "outputs": [],
      "source": [
        "d['cero'] = 'zero'              # añadiendo un nuevo elemento al diccionario  clave:valor"
      ]
    },
    {
      "cell_type": "code",
      "execution_count": 6,
      "id": "895d085d",
      "metadata": {
        "id": "895d085d",
        "outputId": "294eb093-1930-4d73-a7c7-3fb2244c7f49",
        "colab": {
          "base_uri": "https://localhost:8080/"
        }
      },
      "outputs": [
        {
          "output_type": "execute_result",
          "data": {
            "text/plain": [
              "{'uno': 'one', 'dos': 'two', 'tres': 'three', 'cuatro': 'four', 'cero': 'zero'}"
            ]
          },
          "metadata": {},
          "execution_count": 6
        }
      ],
      "source": [
        "d"
      ]
    },
    {
      "cell_type": "code",
      "execution_count": 7,
      "id": "6d529f4e",
      "metadata": {
        "id": "6d529f4e",
        "outputId": "6db70841-161d-4063-9204-f94931c1a9b9",
        "colab": {
          "base_uri": "https://localhost:8080/"
        }
      },
      "outputs": [
        {
          "output_type": "stream",
          "name": "stdout",
          "text": [
            "uno en inglés es one.\n"
          ]
        }
      ],
      "source": [
        "palabra = 'uno'\n",
        "print(f\"{palabra} en inglés es {d[palabra]}.\")"
      ]
    },
    {
      "cell_type": "code",
      "execution_count": 8,
      "id": "a53be649",
      "metadata": {
        "id": "a53be649",
        "outputId": "d83fa556-36da-4e43-c9db-973cfecedd54",
        "colab": {
          "base_uri": "https://localhost:8080/"
        }
      },
      "outputs": [
        {
          "output_type": "stream",
          "name": "stdout",
          "text": [
            "Hay 2 tazas de café.\n"
          ]
        }
      ],
      "source": [
        "dic_num = {'uno':1, 'dos':2, 'tres':3, 'cuatro':4}\n",
        "print(f\"Hay {dic_num['dos']} tazas de café.\")"
      ]
    },
    {
      "cell_type": "markdown",
      "id": "049436f7",
      "metadata": {
        "id": "049436f7"
      },
      "source": [
        "## Los valores pueden ser tuplas, listas, ... incluso otros diccionarios"
      ]
    },
    {
      "cell_type": "code",
      "execution_count": 9,
      "id": "19025a58",
      "metadata": {
        "id": "19025a58",
        "outputId": "94901cc2-b276-4fbb-dd62-25c8d204b399",
        "colab": {
          "base_uri": "https://localhost:8080/"
        }
      },
      "outputs": [
        {
          "output_type": "stream",
          "name": "stdout",
          "text": [
            "El número atómico del Litio es 3\n"
          ]
        }
      ],
      "source": [
        "elementos = {'Litio':('Li',3), 'Sodio':('Na',11), 'Potasio':('K',19)}   # nº atómico = nº de protones\n",
        "print(\"El número atómico del Litio es\", elementos['Litio'][1])"
      ]
    },
    {
      "cell_type": "markdown",
      "id": "0240a8cc",
      "metadata": {
        "id": "0240a8cc"
      },
      "source": [
        "### Ejercicio\n",
        "Completar la siguiente línea de código"
      ]
    },
    {
      "cell_type": "code",
      "execution_count": 10,
      "id": "f5be712e",
      "metadata": {
        "id": "f5be712e",
        "outputId": "8c5df95a-2e2f-4fbb-fc5e-7ecda9eb1371",
        "colab": {
          "base_uri": "https://localhost:8080/"
        }
      },
      "outputs": [
        {
          "output_type": "stream",
          "name": "stdout",
          "text": [
            "El símbolo del Sodio es ...\n"
          ]
        }
      ],
      "source": [
        "print(\"El símbolo del Sodio es ...\")"
      ]
    },
    {
      "cell_type": "markdown",
      "id": "9ff1a1f3",
      "metadata": {
        "id": "9ff1a1f3"
      },
      "source": [
        "#### Solución"
      ]
    },
    {
      "cell_type": "code",
      "execution_count": 11,
      "id": "a92f72bf",
      "metadata": {
        "id": "a92f72bf",
        "outputId": "4574ae33-88f3-460d-fe66-61573418c7af",
        "colab": {
          "base_uri": "https://localhost:8080/"
        }
      },
      "outputs": [
        {
          "output_type": "stream",
          "name": "stdout",
          "text": [
            "El símbolo del Sodio es Na.\n"
          ]
        }
      ],
      "source": [
        "e ='Sodio'\n",
        "print(f\"El símbolo del {e} es {elementos[e][0]}.\")"
      ]
    },
    {
      "cell_type": "markdown",
      "id": "e3bb7738",
      "metadata": {
        "id": "e3bb7738"
      },
      "source": [
        "## Convertir un diccionario en listas"
      ]
    },
    {
      "cell_type": "code",
      "execution_count": 12,
      "id": "d80e8eb9",
      "metadata": {
        "id": "d80e8eb9",
        "outputId": "072be885-ccee-46fb-e612-f65382300b4c",
        "colab": {
          "base_uri": "https://localhost:8080/"
        }
      },
      "outputs": [
        {
          "output_type": "execute_result",
          "data": {
            "text/plain": [
              "{'x': 1, 'y': 2, 'z': 3}"
            ]
          },
          "metadata": {},
          "execution_count": 12
        }
      ],
      "source": [
        "d = {'x':1, 'y':2, 'z':3}\n",
        "d"
      ]
    },
    {
      "cell_type": "code",
      "execution_count": 13,
      "id": "b0d23b4e",
      "metadata": {
        "id": "b0d23b4e",
        "outputId": "a1489d2b-2fa5-4ecf-9227-e8229276f0ee",
        "colab": {
          "base_uri": "https://localhost:8080/"
        }
      },
      "outputs": [
        {
          "output_type": "execute_result",
          "data": {
            "text/plain": [
              "['x', 'y', 'z']"
            ]
          },
          "metadata": {},
          "execution_count": 13
        }
      ],
      "source": [
        "list(d)                    # ['x', 'y', 'z']"
      ]
    },
    {
      "cell_type": "code",
      "execution_count": 14,
      "id": "f4017517",
      "metadata": {
        "id": "f4017517",
        "outputId": "4b4f0043-8329-4391-c3f8-6d9a484d4728",
        "colab": {
          "base_uri": "https://localhost:8080/"
        }
      },
      "outputs": [
        {
          "output_type": "execute_result",
          "data": {
            "text/plain": [
              "dict_keys(['x', 'y', 'z'])"
            ]
          },
          "metadata": {},
          "execution_count": 14
        }
      ],
      "source": [
        "d.keys()                   # dict_keys(['x', 'y', 'z'])"
      ]
    },
    {
      "cell_type": "code",
      "execution_count": 15,
      "id": "ce28bccf",
      "metadata": {
        "id": "ce28bccf",
        "outputId": "4cebbdea-64c1-4130-b22e-a0c00829d096",
        "colab": {
          "base_uri": "https://localhost:8080/"
        }
      },
      "outputs": [
        {
          "output_type": "execute_result",
          "data": {
            "text/plain": [
              "['x', 'y', 'z']"
            ]
          },
          "metadata": {},
          "execution_count": 15
        }
      ],
      "source": [
        "list(d.keys())            # ['x', 'y', 'z']"
      ]
    },
    {
      "cell_type": "code",
      "execution_count": 16,
      "id": "4b71b3d8",
      "metadata": {
        "id": "4b71b3d8",
        "outputId": "33b5679a-957d-4460-d21f-1937b53ebdce",
        "colab": {
          "base_uri": "https://localhost:8080/"
        }
      },
      "outputs": [
        {
          "output_type": "execute_result",
          "data": {
            "text/plain": [
              "dict_values([1, 2, 3])"
            ]
          },
          "metadata": {},
          "execution_count": 16
        }
      ],
      "source": [
        "d.values()                 # dict_values([1, 2, 3])"
      ]
    },
    {
      "cell_type": "code",
      "execution_count": 17,
      "id": "f0e09b4d",
      "metadata": {
        "id": "f0e09b4d",
        "outputId": "e32ca932-d6c6-47f2-b03c-1e34d163df65",
        "colab": {
          "base_uri": "https://localhost:8080/"
        }
      },
      "outputs": [
        {
          "output_type": "execute_result",
          "data": {
            "text/plain": [
              "[1, 2, 3]"
            ]
          },
          "metadata": {},
          "execution_count": 17
        }
      ],
      "source": [
        "list(d.values())            # [1, 2, 3]"
      ]
    },
    {
      "cell_type": "code",
      "execution_count": 18,
      "id": "1833ee85",
      "metadata": {
        "id": "1833ee85",
        "outputId": "f4036aa9-9fe8-4176-8e11-0089132d0944",
        "colab": {
          "base_uri": "https://localhost:8080/"
        }
      },
      "outputs": [
        {
          "output_type": "execute_result",
          "data": {
            "text/plain": [
              "dict_items([('x', 1), ('y', 2), ('z', 3)])"
            ]
          },
          "metadata": {},
          "execution_count": 18
        }
      ],
      "source": [
        "d.items()                  # dict_items([('x', 1), ('y', 2), ('z', 3)])"
      ]
    },
    {
      "cell_type": "code",
      "execution_count": 19,
      "id": "ab6d8819",
      "metadata": {
        "id": "ab6d8819",
        "outputId": "9f0e69b3-0e0e-48e8-bda7-12cccb715165",
        "colab": {
          "base_uri": "https://localhost:8080/"
        }
      },
      "outputs": [
        {
          "output_type": "execute_result",
          "data": {
            "text/plain": [
              "[('x', 1), ('y', 2), ('z', 3)]"
            ]
          },
          "metadata": {},
          "execution_count": 19
        }
      ],
      "source": [
        "list(d.items())            # [('x', 1), ('y', 2), ('z', 3)]"
      ]
    },
    {
      "cell_type": "code",
      "execution_count": 20,
      "id": "0852d16f",
      "metadata": {
        "id": "0852d16f",
        "outputId": "039773da-f79e-423c-bb17-d83945b6bdb3",
        "colab": {
          "base_uri": "https://localhost:8080/"
        }
      },
      "outputs": [
        {
          "output_type": "execute_result",
          "data": {
            "text/plain": [
              "['x', 'y', 'z']"
            ]
          },
          "metadata": {},
          "execution_count": 20
        }
      ],
      "source": [
        "list(iter(d))              # ['x', 'y', 'z']"
      ]
    }
  ],
  "metadata": {
    "kernelspec": {
      "display_name": "Python 3 (ipykernel)",
      "language": "python",
      "name": "python3"
    },
    "language_info": {
      "codemirror_mode": {
        "name": "ipython",
        "version": 3
      },
      "file_extension": ".py",
      "mimetype": "text/x-python",
      "name": "python",
      "nbconvert_exporter": "python",
      "pygments_lexer": "ipython3",
      "version": "3.8.11"
    },
    "colab": {
      "name": "calisto1_0230.ipynb",
      "provenance": [],
      "include_colab_link": true
    }
  },
  "nbformat": 4,
  "nbformat_minor": 5
}