{
  "cells": [
    {
      "cell_type": "markdown",
      "metadata": {
        "id": "view-in-github",
        "colab_type": "text"
      },
      "source": [
        "<a href=\"https://colab.research.google.com/github/financieras/pyCourse/blob/main/jupyter/calisto1/0520_dictionary_comprehension.ipynb\" target=\"_parent\"><img src=\"https://colab.research.google.com/assets/colab-badge.svg\" alt=\"Open In Colab\"/></a>"
      ]
    },
    {
      "cell_type": "markdown",
      "metadata": {
        "id": "-KpCyaqIgYDY"
      },
      "source": [
        "# Dictionary Comprehension\n",
        "* Diccionarios por comprensión\n",
        "* Las comprensiones de diccionarios de Python son formas concisas de crear diccionarios, sin el uso de bucles ```for```\n",
        "* Son similares a las [Listas por comprensión](https://es.wikipedia.org/wiki/Lista_de_comprensi%C3%B3n_(Python)) (List comprehensions)\n",
        "* La comprensión de un diccionario permite transformar un diccionario en otro diccionario."
      ],
      "id": "-KpCyaqIgYDY"
    },
    {
      "cell_type": "markdown",
      "metadata": {
        "id": "t-HQeCL0gYDb"
      },
      "source": [
        "## Diccionario con los cuadrados de unos números"
      ],
      "id": "t-HQeCL0gYDb"
    },
    {
      "cell_type": "code",
      "source": [
        "cuadrados = {i:i**2 for i in [1,2,3,4,5]}\n",
        "cuadrados"
      ],
      "metadata": {
        "id": "OhKtCtHWj3GV",
        "outputId": "3b39b159-7023-4463-ee36-2c6901669680",
        "colab": {
          "base_uri": "https://localhost:8080/"
        }
      },
      "id": "OhKtCtHWj3GV",
      "execution_count": null,
      "outputs": [
        {
          "output_type": "execute_result",
          "data": {
            "text/plain": [
              "{1: 1, 2: 4, 3: 9, 4: 16, 5: 25}"
            ]
          },
          "metadata": {},
          "execution_count": 1
        }
      ]
    },
    {
      "cell_type": "markdown",
      "metadata": {
        "id": "3M0xvVp4gYDb"
      },
      "source": [
        "## Reverso de un diccionario\n",
        "Convertimos un diccionario del tipo clave:valor (k:v) en su inverso (v:k)"
      ],
      "id": "3M0xvVp4gYDb"
    },
    {
      "cell_type": "code",
      "execution_count": null,
      "metadata": {
        "id": "OaI39--GgYDc",
        "outputId": "6c6a64f5-a727-4c1a-cd1d-98603183e5d4",
        "colab": {
          "base_uri": "https://localhost:8080/"
        }
      },
      "outputs": [
        {
          "output_type": "execute_result",
          "data": {
            "text/plain": [
              "{1: 'uno', 2: 'dos', 3: 'tres', 4: 'cuatro'}"
            ]
          },
          "metadata": {},
          "execution_count": 2
        }
      ],
      "source": [
        "num = {'uno':1, 'dos':2, 'tres':3, 'cuatro':4}\n",
        "txt = {v:k for k,v in num.items()}\n",
        "txt"
      ],
      "id": "OaI39--GgYDc"
    },
    {
      "cell_type": "code",
      "execution_count": null,
      "metadata": {
        "id": "dwuTg55KgYDd",
        "outputId": "9c11ae24-1cd7-4e56-9001-8045c59d7f61",
        "colab": {
          "base_uri": "https://localhost:8080/",
          "height": 35
        }
      },
      "outputs": [
        {
          "output_type": "execute_result",
          "data": {
            "text/plain": [
              "'uno'"
            ],
            "application/vnd.google.colaboratory.intrinsic+json": {
              "type": "string"
            }
          },
          "metadata": {},
          "execution_count": 3
        }
      ],
      "source": [
        "txt[1]      # podemos consultar un elemento del diccionario por su clave y devuelve el valor"
      ],
      "id": "dwuTg55KgYDd"
    },
    {
      "cell_type": "markdown",
      "metadata": {
        "id": "9Rmw2ow3gYDd"
      },
      "source": [
        "## Transformando diccionarios"
      ],
      "id": "9Rmw2ow3gYDd"
    },
    {
      "cell_type": "markdown",
      "source": [
        "### Convertir la clave en un string"
      ],
      "metadata": {
        "id": "FNmZ4id0kbEP"
      },
      "id": "FNmZ4id0kbEP"
    },
    {
      "cell_type": "code",
      "execution_count": null,
      "metadata": {
        "id": "vbSTzGQ0gYDd",
        "outputId": "ca8995fb-5716-40a4-a8ff-877e73952884",
        "colab": {
          "base_uri": "https://localhost:8080/"
        }
      },
      "outputs": [
        {
          "output_type": "stream",
          "name": "stdout",
          "text": [
            "{'1': 2, '2': 4, '3': 6, '4': 8}\n"
          ]
        }
      ],
      "source": [
        "dic = {1:1,2:2,3:3,4:4}\n",
        "doble = {str(k):2*v for k,v in dic.items()}\n",
        "print(doble)"
      ],
      "id": "vbSTzGQ0gYDd"
    },
    {
      "cell_type": "markdown",
      "source": [
        "### Cuadrado de los impares\n",
        "#### Método largo"
      ],
      "metadata": {
        "id": "1GTNfud3kkUe"
      },
      "id": "1GTNfud3kkUe"
    },
    {
      "cell_type": "code",
      "execution_count": null,
      "metadata": {
        "id": "CaveSkSCgYDe",
        "outputId": "023f31ae-e95b-4848-a161-599787b8991e",
        "colab": {
          "base_uri": "https://localhost:8080/"
        }
      },
      "outputs": [
        {
          "output_type": "stream",
          "name": "stdout",
          "text": [
            "{1: 1, 3: 9, 5: 25, 7: 49, 9: 81}\n"
          ]
        }
      ],
      "source": [
        "cuadrado_impares = {}\n",
        "\n",
        "for i in range(10):\n",
        "    if i%2 != 0:\n",
        "        cuadrado_impares[i] = i**2\n",
        "\n",
        "print(cuadrado_impares)"
      ],
      "id": "CaveSkSCgYDe"
    },
    {
      "cell_type": "markdown",
      "source": [
        "#### Método con comprensión"
      ],
      "metadata": {
        "id": "oCYRgnl7kvbk"
      },
      "id": "oCYRgnl7kvbk"
    },
    {
      "cell_type": "code",
      "execution_count": null,
      "metadata": {
        "id": "4k1eL6v1gYDe",
        "outputId": "92dd20d9-4c6e-47f7-e61e-598a44fb2998",
        "colab": {
          "base_uri": "https://localhost:8080/"
        }
      },
      "outputs": [
        {
          "output_type": "execute_result",
          "data": {
            "text/plain": [
              "{0: 0, 2: 4, 4: 16, 6: 36, 8: 64}"
            ]
          },
          "metadata": {},
          "execution_count": 6
        }
      ],
      "source": [
        "{i:i**2 for i in range(10) if i%2==0}"
      ],
      "id": "4k1eL6v1gYDe"
    },
    {
      "cell_type": "code",
      "execution_count": null,
      "metadata": {
        "id": "XR_SukMkgYDf",
        "outputId": "7357b54e-8d63-4648-d381-3ef0ae7ed4ae",
        "colab": {
          "base_uri": "https://localhost:8080/"
        }
      },
      "outputs": [
        {
          "output_type": "stream",
          "name": "stdout",
          "text": [
            "['Lo', 'importante', 'es', 'no', 'dejar', 'de', 'hacerse', 'preguntas']\n"
          ]
        }
      ],
      "source": [
        "cadena = 'Lo importante es no dejar de hacerse preguntas'\n",
        "frase = cadena.split()\n",
        "print(frase)"
      ],
      "id": "XR_SukMkgYDf"
    },
    {
      "cell_type": "markdown",
      "metadata": {
        "id": "t-O24fDzgYDf"
      },
      "source": [
        "### Crear un diccionario con la longitud de cada palabra."
      ],
      "id": "t-O24fDzgYDf"
    },
    {
      "cell_type": "code",
      "execution_count": null,
      "metadata": {
        "id": "UgrFMZALgYDg",
        "outputId": "5d77b245-f057-4a10-c384-37fe2cc5ae0c",
        "colab": {
          "base_uri": "https://localhost:8080/"
        }
      },
      "outputs": [
        {
          "output_type": "execute_result",
          "data": {
            "text/plain": [
              "{'Lo': 2,\n",
              " 'importante': 10,\n",
              " 'es': 2,\n",
              " 'no': 2,\n",
              " 'dejar': 5,\n",
              " 'de': 2,\n",
              " 'hacerse': 7,\n",
              " 'preguntas': 9}"
            ]
          },
          "metadata": {},
          "execution_count": 8
        }
      ],
      "source": [
        "{palabra:len(palabra) for palabra in frase}"
      ],
      "id": "UgrFMZALgYDg"
    },
    {
      "cell_type": "markdown",
      "metadata": {
        "id": "EOFz9hqGgYDg"
      },
      "source": [
        "### Crear un diccionario con la letra inicial de cada palabra."
      ],
      "id": "EOFz9hqGgYDg"
    },
    {
      "cell_type": "code",
      "execution_count": null,
      "metadata": {
        "id": "9H49zTgUgYDg",
        "outputId": "ad358f00-9fcf-4140-8b6e-d2bb69c38a1c",
        "colab": {
          "base_uri": "https://localhost:8080/"
        }
      },
      "outputs": [
        {
          "output_type": "execute_result",
          "data": {
            "text/plain": [
              "{'Lo': 'L',\n",
              " 'importante': 'I',\n",
              " 'es': 'E',\n",
              " 'no': 'N',\n",
              " 'dejar': 'D',\n",
              " 'de': 'D',\n",
              " 'hacerse': 'H',\n",
              " 'preguntas': 'P'}"
            ]
          },
          "metadata": {},
          "execution_count": 9
        }
      ],
      "source": [
        "{palabra:palabra[0].upper() for palabra in frase}"
      ],
      "id": "9H49zTgUgYDg"
    },
    {
      "cell_type": "markdown",
      "metadata": {
        "id": "UfjKovwwgYDg"
      },
      "source": [
        "### Elevar al cuadrado los números impares\n",
        "Elevaremos al cuadrado los números impares entre 5 y 12 incluidos ambos."
      ],
      "id": "UfjKovwwgYDg"
    },
    {
      "cell_type": "code",
      "execution_count": null,
      "metadata": {
        "id": "3MS2GSeegYDh",
        "outputId": "15a34807-48fe-4451-cea3-eca3bd571a3d",
        "colab": {
          "base_uri": "https://localhost:8080/"
        }
      },
      "outputs": [
        {
          "output_type": "execute_result",
          "data": {
            "text/plain": [
              "{5: 25, 7: 49, 9: 81, 11: 121}"
            ]
          },
          "metadata": {},
          "execution_count": 10
        }
      ],
      "source": [
        "{n:pow(n,2) for n in range(12) if n>=5 if n%2==1}"
      ],
      "id": "3MS2GSeegYDh"
    }
  ],
  "metadata": {
    "kernelspec": {
      "display_name": "Python 3",
      "language": "python",
      "name": "python3"
    },
    "language_info": {
      "codemirror_mode": {
        "name": "ipython",
        "version": 3
      },
      "file_extension": ".py",
      "mimetype": "text/x-python",
      "name": "python",
      "nbconvert_exporter": "python",
      "pygments_lexer": "ipython3",
      "version": "3.8.5"
    },
    "colab": {
      "name": "calisto1_0520.ipynb",
      "provenance": [],
      "include_colab_link": true
    }
  },
  "nbformat": 4,
  "nbformat_minor": 5
}