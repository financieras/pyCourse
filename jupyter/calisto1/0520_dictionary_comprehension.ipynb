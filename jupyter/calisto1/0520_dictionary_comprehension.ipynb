{
  "cells": [
    {
      "cell_type": "markdown",
      "metadata": {
        "id": "view-in-github",
        "colab_type": "text"
      },
      "source": [
        "<a href=\"https://colab.research.google.com/github/financieras/pyCourse/blob/main/jupyter/calisto1/0520_dictionary_comprehension.ipynb\" target=\"_parent\"><img src=\"https://colab.research.google.com/assets/colab-badge.svg\" alt=\"Open In Colab\"/></a>"
      ]
    },
    {
      "cell_type": "markdown",
      "metadata": {
        "id": "-KpCyaqIgYDY"
      },
      "source": [
        "# Diccionarios por comprensión\n",
        "* En inglés: Python Dictionary Comprehensions\n",
        "* Las comprensiones de diccionarios de Python son formas concisas de crear diccionarios, sin el uso de bucles ```for```\n",
        "* Son similares a las [Listas por comprensión](https://es.wikipedia.org/wiki/Lista_de_comprensi%C3%B3n_(Python)) (List comprehensions)\n",
        "* La comprensión de un diccionario permite transformar un diccionario en otro diccionario."
      ],
      "id": "-KpCyaqIgYDY"
    },
    {
      "cell_type": "markdown",
      "metadata": {
        "id": "t-HQeCL0gYDb"
      },
      "source": [
        "## Diccionario con los cuadrados de unos números"
      ],
      "id": "t-HQeCL0gYDb"
    },
    {
      "cell_type": "code",
      "source": [
        "cuadrados = {i:i**2 for i in [1,2,3,4,5]}\n",
        "cuadrados"
      ],
      "metadata": {
        "id": "OhKtCtHWj3GV",
        "outputId": "930b1881-56f9-4e1f-e840-1a4d5a0fb91b",
        "colab": {
          "base_uri": "https://localhost:8080/"
        }
      },
      "id": "OhKtCtHWj3GV",
      "execution_count": null,
      "outputs": [
        {
          "output_type": "execute_result",
          "data": {
            "text/plain": [
              "{1: 1, 2: 4, 3: 9, 4: 16, 5: 25}"
            ]
          },
          "metadata": {},
          "execution_count": 2
        }
      ]
    },
    {
      "cell_type": "markdown",
      "metadata": {
        "id": "3M0xvVp4gYDb"
      },
      "source": [
        "## Reverso de un diccionario\n",
        "Convertimos un diccionario del tipo clave:valor (k:v) en su inverso (v:k)"
      ],
      "id": "3M0xvVp4gYDb"
    },
    {
      "cell_type": "code",
      "execution_count": null,
      "metadata": {
        "id": "OaI39--GgYDc",
        "outputId": "267bf9b1-55e7-4dfa-d2e8-77fbb5023130",
        "colab": {
          "base_uri": "https://localhost:8080/"
        }
      },
      "outputs": [
        {
          "output_type": "execute_result",
          "data": {
            "text/plain": [
              "{1: 'uno', 2: 'dos', 3: 'tres', 4: 'cuatro'}"
            ]
          },
          "metadata": {},
          "execution_count": 1
        }
      ],
      "source": [
        "num = {'uno':1, 'dos':2, 'tres':3, 'cuatro':4}\n",
        "txt = {v:k for k,v in num.items()}\n",
        "txt"
      ],
      "id": "OaI39--GgYDc"
    },
    {
      "cell_type": "code",
      "execution_count": null,
      "metadata": {
        "id": "dwuTg55KgYDd",
        "outputId": "045e3b14-886a-462e-f9ab-7a0a5c840121"
      },
      "outputs": [
        {
          "data": {
            "text/plain": [
              "'uno'"
            ]
          },
          "execution_count": 4,
          "metadata": {},
          "output_type": "execute_result"
        }
      ],
      "source": [
        "txt[1]      # podemos consultar un elemento del diccionario por su clave y devuelve el valor"
      ],
      "id": "dwuTg55KgYDd"
    },
    {
      "cell_type": "markdown",
      "metadata": {
        "id": "9Rmw2ow3gYDd"
      },
      "source": [
        "## Transformando diccionarios"
      ],
      "id": "9Rmw2ow3gYDd"
    },
    {
      "cell_type": "markdown",
      "source": [
        "### Convertir la clave en un string"
      ],
      "metadata": {
        "id": "FNmZ4id0kbEP"
      },
      "id": "FNmZ4id0kbEP"
    },
    {
      "cell_type": "code",
      "execution_count": null,
      "metadata": {
        "id": "vbSTzGQ0gYDd",
        "outputId": "39492c47-b7d4-458d-e873-3a10b593a566"
      },
      "outputs": [
        {
          "name": "stdout",
          "output_type": "stream",
          "text": [
            "{'1': 2, '2': 4, '3': 6, '4': 8}\n"
          ]
        }
      ],
      "source": [
        "dic = {1:1,2:2,3:3,4:4}\n",
        "doble = {str(k):2*v for k,v in dic.items()}\n",
        "print(doble)"
      ],
      "id": "vbSTzGQ0gYDd"
    },
    {
      "cell_type": "markdown",
      "source": [
        "### Cuadrado de los impares\n",
        "#### Método largo"
      ],
      "metadata": {
        "id": "1GTNfud3kkUe"
      },
      "id": "1GTNfud3kkUe"
    },
    {
      "cell_type": "code",
      "execution_count": null,
      "metadata": {
        "id": "CaveSkSCgYDe"
      },
      "outputs": [],
      "source": [
        "cuadrado_impares = {}\n",
        "for i in range(10):\n",
        "    if i%2 != 0:\n",
        "        cuadrado_impares[i] = i**2\n",
        "print(cuadrado_impares)"
      ],
      "id": "CaveSkSCgYDe"
    },
    {
      "cell_type": "markdown",
      "source": [
        "#### Método con comprensión"
      ],
      "metadata": {
        "id": "oCYRgnl7kvbk"
      },
      "id": "oCYRgnl7kvbk"
    },
    {
      "cell_type": "code",
      "execution_count": null,
      "metadata": {
        "id": "4k1eL6v1gYDe",
        "outputId": "7781ec54-234b-4933-f1ff-8df878dedf3b",
        "colab": {
          "base_uri": "https://localhost:8080/"
        }
      },
      "outputs": [
        {
          "output_type": "execute_result",
          "data": {
            "text/plain": [
              "{0: 0, 2: 4, 4: 16, 6: 36, 8: 64}"
            ]
          },
          "metadata": {},
          "execution_count": 3
        }
      ],
      "source": [
        "{i:i**2 for i in range(10) if i%2==0}"
      ],
      "id": "4k1eL6v1gYDe"
    },
    {
      "cell_type": "code",
      "execution_count": null,
      "metadata": {
        "id": "XR_SukMkgYDf"
      },
      "outputs": [],
      "source": [
        "cadena = 'Lo importante es no dejar de hacerse preguntas'\n",
        "frase = cadena.split()\n",
        "print(frase)"
      ],
      "id": "XR_SukMkgYDf"
    },
    {
      "cell_type": "markdown",
      "metadata": {
        "id": "t-O24fDzgYDf"
      },
      "source": [
        "### Crear un diccionario con la longitud de cada palabra."
      ],
      "id": "t-O24fDzgYDf"
    },
    {
      "cell_type": "code",
      "execution_count": null,
      "metadata": {
        "id": "UgrFMZALgYDg"
      },
      "outputs": [],
      "source": [
        "{palabra:len(palabra) for palabra in frase}"
      ],
      "id": "UgrFMZALgYDg"
    },
    {
      "cell_type": "markdown",
      "metadata": {
        "id": "EOFz9hqGgYDg"
      },
      "source": [
        "### Crear un diccionario con la letra inicial de cada palabra."
      ],
      "id": "EOFz9hqGgYDg"
    },
    {
      "cell_type": "code",
      "execution_count": null,
      "metadata": {
        "id": "9H49zTgUgYDg"
      },
      "outputs": [],
      "source": [
        "{palabra:palabra[0].upper() for palabra in frase}"
      ],
      "id": "9H49zTgUgYDg"
    },
    {
      "cell_type": "markdown",
      "metadata": {
        "id": "UfjKovwwgYDg"
      },
      "source": [
        "### Elevar al cuadrado los números impares\n",
        "Elevaremos al cuadrado los números impares entre 5 y 12 incluidos ambos."
      ],
      "id": "UfjKovwwgYDg"
    },
    {
      "cell_type": "code",
      "execution_count": null,
      "metadata": {
        "id": "3MS2GSeegYDh",
        "outputId": "27a02252-3f33-4168-a35a-24578398fecc",
        "colab": {
          "base_uri": "https://localhost:8080/"
        }
      },
      "outputs": [
        {
          "output_type": "execute_result",
          "data": {
            "text/plain": [
              "{5: 25, 7: 49, 9: 81, 11: 121}"
            ]
          },
          "metadata": {},
          "execution_count": 4
        }
      ],
      "source": [
        "{n:pow(n,2) for n in range(12) if n>=5 if n%2==1}"
      ],
      "id": "3MS2GSeegYDh"
    }
  ],
  "metadata": {
    "kernelspec": {
      "display_name": "Python 3",
      "language": "python",
      "name": "python3"
    },
    "language_info": {
      "codemirror_mode": {
        "name": "ipython",
        "version": 3
      },
      "file_extension": ".py",
      "mimetype": "text/x-python",
      "name": "python",
      "nbconvert_exporter": "python",
      "pygments_lexer": "ipython3",
      "version": "3.8.5"
    },
    "colab": {
      "name": "0520_dictionary_comprehension.ipynb",
      "provenance": [],
      "include_colab_link": true
    }
  },
  "nbformat": 4,
  "nbformat_minor": 5
}