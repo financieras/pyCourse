{
  "cells": [
    {
      "cell_type": "markdown",
      "metadata": {
        "id": "view-in-github",
        "colab_type": "text"
      },
      "source": [
        "<a href=\"https://colab.research.google.com/github/financieras/pyCourse/blob/main/jupyter/calisto1/0330_tabla_de_verdad.ipynb\" target=\"_parent\"><img src=\"https://colab.research.google.com/assets/colab-badge.svg\" alt=\"Open In Colab\"/></a>"
      ]
    },
    {
      "cell_type": "markdown",
      "id": "c3baf958",
      "metadata": {
        "id": "c3baf958"
      },
      "source": [
        "# Tabla de verdad"
      ]
    },
    {
      "cell_type": "markdown",
      "id": "202cb483",
      "metadata": {
        "id": "202cb483"
      },
      "source": [
        "![tabla de verdad](https://github.com/financieras/pyCourse/blob/main/jupyter/img/tablaverdad.png?raw=1)"
      ]
    },
    {
      "cell_type": "code",
      "execution_count": null,
      "id": "ef48ccd3",
      "metadata": {
        "id": "ef48ccd3",
        "outputId": "eadab788-65c3-48d0-aa46-81bdb916a360"
      },
      "outputs": [
        {
          "data": {
            "text/plain": [
              "True"
            ]
          },
          "execution_count": 1,
          "metadata": {},
          "output_type": "execute_result"
        }
      ],
      "source": [
        "a = True\n",
        "b = True\n",
        "c = True\n",
        "a and b and c     # con and es necesario que todos sean True para que resulte True"
      ]
    },
    {
      "cell_type": "code",
      "execution_count": null,
      "id": "8308fe8d",
      "metadata": {
        "id": "8308fe8d",
        "outputId": "8c5f30ad-71b5-4ac8-c559-16df950e2fdd"
      },
      "outputs": [
        {
          "data": {
            "text/plain": [
              "False"
            ]
          },
          "execution_count": 2,
          "metadata": {},
          "output_type": "execute_result"
        }
      ],
      "source": [
        "a = True\n",
        "b = True\n",
        "c = False\n",
        "a and b and c     # con and basta que uno sea False para que que resulte False"
      ]
    },
    {
      "cell_type": "code",
      "execution_count": null,
      "id": "844fe2b1",
      "metadata": {
        "id": "844fe2b1",
        "outputId": "bab9dd64-a387-47f4-d1e6-6c368eef9d08"
      },
      "outputs": [
        {
          "data": {
            "text/plain": [
              "True"
            ]
          },
          "execution_count": 3,
          "metadata": {},
          "output_type": "execute_result"
        }
      ],
      "source": [
        "a = True\n",
        "b = False\n",
        "c = False\n",
        "a or b or c     # con or es basta que uno sea True para que resulte True"
      ]
    },
    {
      "cell_type": "code",
      "execution_count": null,
      "id": "6c296488",
      "metadata": {
        "id": "6c296488",
        "outputId": "74a0eaab-bff3-4d56-8040-487f1723992d"
      },
      "outputs": [
        {
          "data": {
            "text/plain": [
              "False"
            ]
          },
          "execution_count": 4,
          "metadata": {},
          "output_type": "execute_result"
        }
      ],
      "source": [
        "a = False\n",
        "b = False\n",
        "c = False\n",
        "a or b or c     # con or es necesario que todos sean False para que resulte True"
      ]
    },
    {
      "cell_type": "code",
      "execution_count": null,
      "id": "000b44b1",
      "metadata": {
        "id": "000b44b1",
        "outputId": "6f679b62-4b08-42df-ac6e-43f4605e5e13"
      },
      "outputs": [
        {
          "data": {
            "text/plain": [
              "False"
            ]
          },
          "execution_count": 5,
          "metadata": {},
          "output_type": "execute_result"
        }
      ],
      "source": [
        "a = True\n",
        "not(a)          # not cambia el booleano, si es True lo convierte en False"
      ]
    },
    {
      "cell_type": "code",
      "execution_count": null,
      "id": "a10d74f0",
      "metadata": {
        "id": "a10d74f0",
        "outputId": "d8aff58d-dc3d-4317-853f-778374ff24ba"
      },
      "outputs": [
        {
          "data": {
            "text/plain": [
              "True"
            ]
          },
          "execution_count": 6,
          "metadata": {},
          "output_type": "execute_result"
        }
      ],
      "source": [
        "a = False\n",
        "not(a)          # not cambia el booleano, si es False lo convierte en True"
      ]
    }
  ],
  "metadata": {
    "kernelspec": {
      "display_name": "Python 3",
      "language": "python",
      "name": "python3"
    },
    "language_info": {
      "codemirror_mode": {
        "name": "ipython",
        "version": 3
      },
      "file_extension": ".py",
      "mimetype": "text/x-python",
      "name": "python",
      "nbconvert_exporter": "python",
      "pygments_lexer": "ipython3",
      "version": "3.8.8"
    },
    "colab": {
      "name": "0330_tabla_de_verdad.ipynb",
      "provenance": [],
      "include_colab_link": true
    }
  },
  "nbformat": 4,
  "nbformat_minor": 5
}
