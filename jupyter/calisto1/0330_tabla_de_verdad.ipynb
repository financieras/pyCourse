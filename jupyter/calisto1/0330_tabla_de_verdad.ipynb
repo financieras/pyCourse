{
  "cells": [
    {
      "cell_type": "markdown",
      "metadata": {
        "id": "view-in-github",
        "colab_type": "text"
      },
      "source": [
        "<a href=\"https://colab.research.google.com/github/financieras/pyCourse/blob/main/jupyter/calisto1/0330_tabla_de_verdad.ipynb\" target=\"_parent\"><img src=\"https://colab.research.google.com/assets/colab-badge.svg\" alt=\"Open In Colab\"/></a>"
      ]
    },
    {
      "cell_type": "markdown",
      "id": "c3baf958",
      "metadata": {
        "id": "c3baf958"
      },
      "source": [
        "# Tabla de verdad"
      ]
    },
    {
      "cell_type": "markdown",
      "id": "202cb483",
      "metadata": {
        "id": "202cb483"
      },
      "source": [
        "![tabla de verdad](https://github.com/financieras/pyCourse/blob/main/jupyter/img/tablaverdad.png?raw=1)"
      ]
    },
    {
      "cell_type": "code",
      "execution_count": 1,
      "id": "ef48ccd3",
      "metadata": {
        "id": "ef48ccd3",
        "outputId": "d445edea-8c5f-45b8-f7c2-2f136cd66eca",
        "colab": {
          "base_uri": "https://localhost:8080/"
        }
      },
      "outputs": [
        {
          "output_type": "execute_result",
          "data": {
            "text/plain": [
              "True"
            ]
          },
          "metadata": {},
          "execution_count": 1
        }
      ],
      "source": [
        "a = True\n",
        "b = True\n",
        "c = True\n",
        "a and b and c     # con and es necesario que todos sean True para que resulte True"
      ]
    },
    {
      "cell_type": "code",
      "execution_count": 2,
      "id": "8308fe8d",
      "metadata": {
        "id": "8308fe8d",
        "outputId": "255c7d4f-6ca9-4a91-83e6-a3322d60f0f1",
        "colab": {
          "base_uri": "https://localhost:8080/"
        }
      },
      "outputs": [
        {
          "output_type": "execute_result",
          "data": {
            "text/plain": [
              "False"
            ]
          },
          "metadata": {},
          "execution_count": 2
        }
      ],
      "source": [
        "a = True\n",
        "b = True\n",
        "c = False\n",
        "a and b and c     # con and basta que uno sea False para que que resulte False"
      ]
    },
    {
      "cell_type": "code",
      "execution_count": 3,
      "id": "844fe2b1",
      "metadata": {
        "id": "844fe2b1",
        "outputId": "44f4b912-33b7-4254-a7a7-35d81321ca67",
        "colab": {
          "base_uri": "https://localhost:8080/"
        }
      },
      "outputs": [
        {
          "output_type": "execute_result",
          "data": {
            "text/plain": [
              "True"
            ]
          },
          "metadata": {},
          "execution_count": 3
        }
      ],
      "source": [
        "a = True\n",
        "b = False\n",
        "c = False\n",
        "a or b or c     # con or es basta que uno sea True para que resulte True"
      ]
    },
    {
      "cell_type": "code",
      "execution_count": 4,
      "id": "6c296488",
      "metadata": {
        "id": "6c296488",
        "outputId": "e4d7b27b-feff-40c6-93ee-4cde15b60ffb",
        "colab": {
          "base_uri": "https://localhost:8080/"
        }
      },
      "outputs": [
        {
          "output_type": "execute_result",
          "data": {
            "text/plain": [
              "False"
            ]
          },
          "metadata": {},
          "execution_count": 4
        }
      ],
      "source": [
        "a = False\n",
        "b = False\n",
        "c = False\n",
        "a or b or c     # con or es necesario que todos sean False para que resulte True"
      ]
    },
    {
      "cell_type": "code",
      "execution_count": 5,
      "id": "000b44b1",
      "metadata": {
        "id": "000b44b1",
        "outputId": "1a81255c-e5b9-4684-ac17-587b8d14818b",
        "colab": {
          "base_uri": "https://localhost:8080/"
        }
      },
      "outputs": [
        {
          "output_type": "execute_result",
          "data": {
            "text/plain": [
              "False"
            ]
          },
          "metadata": {},
          "execution_count": 5
        }
      ],
      "source": [
        "a = True\n",
        "not(a)          # not cambia el booleano, si es True lo convierte en False"
      ]
    },
    {
      "cell_type": "code",
      "execution_count": 6,
      "id": "a10d74f0",
      "metadata": {
        "id": "a10d74f0",
        "outputId": "5a03cca4-a962-41c5-ac11-e0538dc8ee03",
        "colab": {
          "base_uri": "https://localhost:8080/"
        }
      },
      "outputs": [
        {
          "output_type": "execute_result",
          "data": {
            "text/plain": [
              "True"
            ]
          },
          "metadata": {},
          "execution_count": 6
        }
      ],
      "source": [
        "a = False\n",
        "not(a)          # not cambia el booleano, si es False lo convierte en True"
      ]
    }
  ],
  "metadata": {
    "kernelspec": {
      "display_name": "Python 3",
      "language": "python",
      "name": "python3"
    },
    "language_info": {
      "codemirror_mode": {
        "name": "ipython",
        "version": 3
      },
      "file_extension": ".py",
      "mimetype": "text/x-python",
      "name": "python",
      "nbconvert_exporter": "python",
      "pygments_lexer": "ipython3",
      "version": "3.8.8"
    },
    "colab": {
      "name": "calisto1_0330.ipynb",
      "provenance": [],
      "include_colab_link": true
    }
  },
  "nbformat": 4,
  "nbformat_minor": 5
}