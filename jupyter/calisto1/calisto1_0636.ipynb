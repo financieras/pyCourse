{
  "nbformat": 4,
  "nbformat_minor": 0,
  "metadata": {
    "colab": {
      "provenance": [],
      "authorship_tag": "ABX9TyPfzjAWI3DkYx1CHs4FfyeX",
      "include_colab_link": true
    },
    "kernelspec": {
      "name": "python3",
      "display_name": "Python 3"
    },
    "language_info": {
      "name": "python"
    }
  },
  "cells": [
    {
      "cell_type": "markdown",
      "metadata": {
        "id": "view-in-github",
        "colab_type": "text"
      },
      "source": [
        "<a href=\"https://colab.research.google.com/github/financieras/pyCourse/blob/main/jupyter/calisto1/calisto1_0636.ipynb\" target=\"_parent\"><img src=\"https://colab.research.google.com/assets/colab-badge.svg\" alt=\"Open In Colab\"/></a>"
      ]
    },
    {
      "cell_type": "markdown",
      "source": [
        "# Programación dinámica\n",
        "La recursividad nos proporciona código elegante pero tiene dos inconvenientes:\n",
        "\n",
        "\n",
        "1.   La pila (stack) es limitada y llegado cierto punto se produce desbordamiento (stack overflow)\n",
        "2.   Habitualmente el código con recursividad repite llamadas a la función que ya se han realizado previamente, alargando los tiempos de ejecución inecesariametne.\n",
        "\n",
        "En ocasiones los procedimientos resueltos con recursividad son lentos por esa repetición de procesos y tiene un límite de pila. \n",
        "\n"
      ],
      "metadata": {
        "id": "imcStN3R4TYT"
      }
    },
    {
      "cell_type": "markdown",
      "source": [
        "## Factorial\n",
        "Veamos el caso del Factorial resuelto con recursividad y con programación dinámica."
      ],
      "metadata": {
        "id": "e936ZuJz5hvk"
      }
    },
    {
      "cell_type": "markdown",
      "source": [
        "### Factorial con recursividad"
      ],
      "metadata": {
        "id": "TljrW95X5ktP"
      }
    },
    {
      "cell_type": "code",
      "execution_count": null,
      "metadata": {
        "id": "wD8_P0vq4PaP"
      },
      "outputs": [],
      "source": [
        "def fact(n):\n",
        "    if n==0:\n",
        "        return 1\n",
        "    else:\n",
        "        return n * fact(n-1)\n",
        "\n",
        "fact(961)"
      ]
    },
    {
      "cell_type": "markdown",
      "source": [
        "### Factorial con programación dinámica\n",
        "Existen dos métodos:\n",
        "1. Partiendo de la recursividad: tenemos al memoización\n",
        "2. Partiendo de la recurrencia: tenemos la tabulación"
      ],
      "metadata": {
        "id": "IuRuLXGm5nZz"
      }
    },
    {
      "cell_type": "markdown",
      "source": [
        "#### Memoización"
      ],
      "metadata": {
        "id": "JFVZMbr-H3_y"
      }
    },
    {
      "cell_type": "code",
      "source": [
        "def fact(n):\n",
        "    memo = {}\n",
        "    if n in memo:\n",
        "        return memo[n]\n",
        "    elif n == 0 or n == 1:\n",
        "        return 1\n",
        "        arr[n] = 1\n",
        "    else:\n",
        "        factorial = n * fact(n - 1)   # recursividad\n",
        "        memo[n] = factorial\n",
        "    return factorial\n",
        "\n",
        "fact(961)"
      ],
      "metadata": {
        "id": "QpqdteFpFDl0"
      },
      "execution_count": null,
      "outputs": []
    },
    {
      "cell_type": "code",
      "source": [
        "def factorial(n):\n",
        "    if n in factorial.__dict__:\n",
        "        return factorial.__dict__[n]\n",
        "\n",
        "    if n > 1:\n",
        "        fac = n * factorial(n-1)\n",
        "    else:\n",
        "        fac = 1\n",
        "    \n",
        "    factorial.__dict__[n] = fac\n",
        "    return fac\n",
        "\n",
        "factorial(961)"
      ],
      "metadata": {
        "id": "rhME0AExH7JR"
      },
      "execution_count": null,
      "outputs": []
    },
    {
      "cell_type": "code",
      "source": [
        "def factorial(n):\n",
        "    arr = [1] * (n+1)\n",
        "    for i in range(1, n+1):\n",
        "        arr[i] = i * arr[i-1]\n",
        "    return arr[n]\n",
        "\n",
        "factorial(961)"
      ],
      "metadata": {
        "id": "_pNBC8etGuyW"
      },
      "execution_count": null,
      "outputs": []
    },
    {
      "cell_type": "markdown",
      "source": [
        "## Fibonacci\n",
        "Veamos el caso de una sucesión de Fibonacci resuelto con recursividad y con programación dinámica."
      ],
      "metadata": {
        "id": "p0kxMO53E-Bu"
      }
    },
    {
      "cell_type": "markdown",
      "source": [
        "### Fibonacci con recursividad"
      ],
      "metadata": {
        "id": "hJCIrZidFNBt"
      }
    },
    {
      "cell_type": "code",
      "source": [
        "def fibo(n):\n",
        "    if n == 0:\n",
        "        return 0\n",
        "    elif n == 1:\n",
        "        return 1\n",
        "    else:\n",
        "        return fibo(n-1) + fibo(n-2)   # recursividad\n",
        "\n",
        "fibo(40)  # tardó 42 segundos"
      ],
      "metadata": {
        "id": "BmIf-EeVFQL1",
        "outputId": "8175e383-1b8f-4a61-c073-da4b748f651a",
        "colab": {
          "base_uri": "https://localhost:8080/"
        }
      },
      "execution_count": 19,
      "outputs": [
        {
          "output_type": "execute_result",
          "data": {
            "text/plain": [
              "102334155"
            ]
          },
          "metadata": {},
          "execution_count": 19
        }
      ]
    },
    {
      "cell_type": "markdown",
      "source": [
        "#### Memoización y recursividad con un lista"
      ],
      "metadata": {
        "id": "dSOWMLneHU8u"
      }
    },
    {
      "cell_type": "code",
      "source": [
        "def fibo(n, memo = [0,1]):\n",
        "    try:\n",
        "        return memo[n]\n",
        "    except IndexError:\n",
        "        suma = fibo(n-1) + fibo(n-2)   # recursividad\n",
        "        memo.append(suma)\n",
        "        return suma   \n",
        "\n",
        "fibo(963)  # tardó 0 segundos"
      ],
      "metadata": {
        "id": "_eWRpBTN6sZ8",
        "outputId": "a9848c7f-146b-4d56-9923-2faa4d9f1a30",
        "colab": {
          "base_uri": "https://localhost:8080/"
        }
      },
      "execution_count": 11,
      "outputs": [
        {
          "output_type": "execute_result",
          "data": {
            "text/plain": [
              "1301967666079246999739025509736981974513806323327310792803025425887225709131040982032655852614954462201163281866373391986529297423769475808932761815084406478437505702622886684757604851321223369645403523"
            ]
          },
          "metadata": {},
          "execution_count": 11
        }
      ]
    },
    {
      "cell_type": "code",
      "source": [
        "# el array memo contiene todos los números de la serie que podemos imprimir\n",
        "\n",
        "def fibo(n, memo = [0,1]):\n",
        "    if len(memo)==20: print(memo)\n",
        "    try:\n",
        "        return memo[n]\n",
        "    except IndexError:\n",
        "        suma = fibo(n-1) + fibo(n-2)   # recursividad\n",
        "        memo.append(suma)\n",
        "        return suma   \n",
        "\n",
        "n = 20\n",
        "fibo(n+1)  # tardó 0 segundos\n",
        "print(f\"Lista con los {n} primeros números de la serie de Fibonacci\")"
      ],
      "metadata": {
        "id": "tMGXCQb2EBaA",
        "outputId": "41586c05-f8cf-42e8-ea43-2eef63e32a28",
        "colab": {
          "base_uri": "https://localhost:8080/"
        }
      },
      "execution_count": 17,
      "outputs": [
        {
          "output_type": "stream",
          "name": "stdout",
          "text": [
            "[0, 1, 1, 2, 3, 5, 8, 13, 21, 34, 55, 89, 144, 233, 377, 610, 987, 1597, 2584, 4181]\n",
            "Lista con los 20 primeros números de la serie de Fibonacci\n"
          ]
        }
      ]
    },
    {
      "cell_type": "markdown",
      "source": [
        "#### Memoización y recursividad con un diccionario"
      ],
      "metadata": {
        "id": "u7Nq07ocH-yg"
      }
    },
    {
      "cell_type": "code",
      "source": [
        "def fibo(n, memo):\n",
        "    if n==1 or n==2:\n",
        "        memo = {1:1, 2:1}\n",
        "        return 1\n",
        "    if n in memo:\n",
        "        suma = memo[n]\n",
        "    else:\n",
        "        suma = fibo(n-1, memo) + fibo(n-2, memo)   # recursividad\n",
        "    memo = {n:suma}\n",
        "    return suma\n",
        "\n",
        "fibo(38, {})"
      ],
      "metadata": {
        "id": "CpP0w3qgHV-5"
      },
      "execution_count": null,
      "outputs": []
    },
    {
      "cell_type": "markdown",
      "source": [
        "https://thatcsharpguy.github.io/tv/memoizacion"
      ],
      "metadata": {
        "id": "BSwxRXpq7ewx"
      }
    }
  ]
}