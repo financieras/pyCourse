{
  "nbformat": 4,
  "nbformat_minor": 0,
  "metadata": {
    "colab": {
      "provenance": [],
      "authorship_tag": "ABX9TyNHZXfyAt7n0uEgtBW0FdU1",
      "include_colab_link": true
    },
    "kernelspec": {
      "name": "python3",
      "display_name": "Python 3"
    },
    "language_info": {
      "name": "python"
    }
  },
  "cells": [
    {
      "cell_type": "markdown",
      "metadata": {
        "id": "view-in-github",
        "colab_type": "text"
      },
      "source": [
        "<a href=\"https://colab.research.google.com/github/financieras/pyCourse/blob/main/jupyter/calisto1/calisto1_0636.ipynb\" target=\"_parent\"><img src=\"https://colab.research.google.com/assets/colab-badge.svg\" alt=\"Open In Colab\"/></a>"
      ]
    },
    {
      "cell_type": "markdown",
      "source": [
        "# Programación dinámica\n",
        "La recursividad nos proporciona código elegante pero tiene dos inconvenientes:\n",
        "\n",
        "\n",
        "1.   La pila (stack) es limitada y llegado cierto punto se produce desbordamiento (stack overflow)\n",
        "2.   Habitualmente el código con recursividad repite llamadas a la función que ya se han realizado previamente, alargando los tiempos de ejecución inecesariametne.\n",
        "\n",
        "En ocasiones los procedimientos resueltos con recursividad son lentos por esa repetición de procesos y tiene un límite de pila. \n",
        "\n"
      ],
      "metadata": {
        "id": "imcStN3R4TYT"
      }
    },
    {
      "cell_type": "markdown",
      "source": [
        "## Factorial\n",
        "Veamos el caso del Factorial resuelto con recursividad y con programación dinámica."
      ],
      "metadata": {
        "id": "e936ZuJz5hvk"
      }
    },
    {
      "cell_type": "markdown",
      "source": [
        "### Factorial con recursividad"
      ],
      "metadata": {
        "id": "TljrW95X5ktP"
      }
    },
    {
      "cell_type": "code",
      "execution_count": null,
      "metadata": {
        "id": "wD8_P0vq4PaP"
      },
      "outputs": [],
      "source": [
        "def fact(n):\n",
        "    if n==0:\n",
        "        return 1\n",
        "    else:\n",
        "        return n * fact(n-1)\n",
        "\n",
        "fact(961)"
      ]
    },
    {
      "cell_type": "markdown",
      "source": [
        "### Factorial con programación dinámica\n",
        "Existen dos métodos:\n",
        "1. Partiendo de la recursividad: tenemos al memoización\n",
        "2. Partiendo de la recurrencia: tenemos la tabulación"
      ],
      "metadata": {
        "id": "IuRuLXGm5nZz"
      }
    },
    {
      "cell_type": "markdown",
      "source": [
        "#### Memoización"
      ],
      "metadata": {
        "id": "JFVZMbr-H3_y"
      }
    },
    {
      "cell_type": "code",
      "source": [
        "def fact(n):\n",
        "    memo = {}\n",
        "    if n in memo:\n",
        "        return memo[n]\n",
        "    elif n == 0 or n == 1:\n",
        "        return 1\n",
        "        arr[n] = 1\n",
        "    else:\n",
        "        factorial = n * fact(n - 1)   # recursividad\n",
        "        memo[n] = factorial\n",
        "    return factorial\n",
        "\n",
        "fact(961)"
      ],
      "metadata": {
        "id": "QpqdteFpFDl0"
      },
      "execution_count": null,
      "outputs": []
    },
    {
      "cell_type": "code",
      "source": [
        "def factorial(n):\n",
        "    if n in factorial.__dict__:\n",
        "        return factorial.__dict__[n]\n",
        "\n",
        "    if n > 1:\n",
        "        fac = n * factorial(n-1)\n",
        "    else:\n",
        "        fac = 1\n",
        "    \n",
        "    factorial.__dict__[n] = fac\n",
        "    return fac\n",
        "\n",
        "factorial(961)"
      ],
      "metadata": {
        "id": "rhME0AExH7JR"
      },
      "execution_count": null,
      "outputs": []
    },
    {
      "cell_type": "code",
      "source": [
        "def factorial(n):\n",
        "    arr = [1] * (n+1)\n",
        "    for i in range(1, n+1):\n",
        "        arr[i] = i * arr[i-1]\n",
        "    return arr[n]\n",
        "\n",
        "factorial(961)"
      ],
      "metadata": {
        "id": "_pNBC8etGuyW"
      },
      "execution_count": null,
      "outputs": []
    },
    {
      "cell_type": "markdown",
      "source": [
        "## Fibonacci\n",
        "Veamos el caso de una sucesión de Fibonacci resuelto con recursividad y con programación dinámica."
      ],
      "metadata": {
        "id": "p0kxMO53E-Bu"
      }
    },
    {
      "cell_type": "markdown",
      "source": [
        "### Fibonacci con recursividad"
      ],
      "metadata": {
        "id": "hJCIrZidFNBt"
      }
    },
    {
      "cell_type": "code",
      "source": [
        "def fibo(n):\n",
        "    if n==1 or n==2:\n",
        "        return 1\n",
        "    return fibo(n-1) + fibo(n-2)   # recursividad\n",
        "\n",
        "fibo(38)"
      ],
      "metadata": {
        "id": "BmIf-EeVFQL1",
        "outputId": "b8dbda2e-9436-47b4-9499-559d329a96c2",
        "colab": {
          "base_uri": "https://localhost:8080/"
        }
      },
      "execution_count": 25,
      "outputs": [
        {
          "output_type": "execute_result",
          "data": {
            "text/plain": [
              "39088169"
            ]
          },
          "metadata": {},
          "execution_count": 25
        }
      ]
    },
    {
      "cell_type": "markdown",
      "source": [
        "#### Memoización"
      ],
      "metadata": {
        "id": "dSOWMLneHU8u"
      }
    },
    {
      "cell_type": "code",
      "source": [
        "def fibo(n, memo):\n",
        "    if n==1 or n==2:\n",
        "        memo = {1:1, 2:1}\n",
        "        return 1\n",
        "    if n in memo:\n",
        "        suma = memo[n]\n",
        "    else:\n",
        "        suma = fibo(n-1, memo) + fibo(n-2, memo)   # recursividad\n",
        "    memo = {n:suma}\n",
        "    return suma\n",
        "\n",
        "fibo(38, {})"
      ],
      "metadata": {
        "id": "CpP0w3qgHV-5"
      },
      "execution_count": null,
      "outputs": []
    },
    {
      "cell_type": "markdown",
      "source": [
        "https://thatcsharpguy.github.io/tv/memoizacion"
      ],
      "metadata": {
        "id": "BSwxRXpq7ewx"
      }
    }
  ]
}