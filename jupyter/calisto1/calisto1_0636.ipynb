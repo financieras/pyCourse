{
  "nbformat": 4,
  "nbformat_minor": 0,
  "metadata": {
    "colab": {
      "provenance": [],
      "authorship_tag": "ABX9TyOjzSkolKfPtqCxrQdIUxSa",
      "include_colab_link": true
    },
    "kernelspec": {
      "name": "python3",
      "display_name": "Python 3"
    },
    "language_info": {
      "name": "python"
    }
  },
  "cells": [
    {
      "cell_type": "markdown",
      "metadata": {
        "id": "view-in-github",
        "colab_type": "text"
      },
      "source": [
        "<a href=\"https://colab.research.google.com/github/financieras/pyCourse/blob/main/jupyter/calisto1/calisto1_0636.ipynb\" target=\"_parent\"><img src=\"https://colab.research.google.com/assets/colab-badge.svg\" alt=\"Open In Colab\"/></a>"
      ]
    },
    {
      "cell_type": "markdown",
      "source": [
        "# Programación dinámica\n",
        "La recursividad nos proporciona código elegante pero tiene dos inconvenientes:\n",
        "\n",
        "\n",
        "1.   La pila (stack) es limitada y llegado cierto punto se produce desbordamiento (stack overflow)\n",
        "2.   Habitualmente el código con recursividad repite llamadas a la función que ya se han realizado previamente, alargando los tiempos de ejecución inecesariametne.\n",
        "\n",
        "En ocasiones los procedimientos resueltos con recursividad son lentos por esa repetición de procesos y tiene un límite de pila. \n",
        "\n"
      ],
      "metadata": {
        "id": "imcStN3R4TYT"
      }
    },
    {
      "cell_type": "markdown",
      "source": [
        "## Factorial\n",
        "Veamos el caso del Factorial resuelto con recursividad y con programación dinámica."
      ],
      "metadata": {
        "id": "e936ZuJz5hvk"
      }
    },
    {
      "cell_type": "markdown",
      "source": [
        "### Factorial con recursividad"
      ],
      "metadata": {
        "id": "TljrW95X5ktP"
      }
    },
    {
      "cell_type": "code",
      "execution_count": null,
      "metadata": {
        "id": "wD8_P0vq4PaP"
      },
      "outputs": [],
      "source": [
        "def fact(n):\n",
        "    if n==0:\n",
        "        return 1\n",
        "    else:\n",
        "        return n * fact(n-1)\n",
        "\n",
        "fact(961)"
      ]
    },
    {
      "cell_type": "markdown",
      "source": [
        "### Factorial con programación dinámica\n",
        "Existen dos métodos:\n",
        "1. Partiendo de la recursividad: tenemos al memoización\n",
        "2. Partiendo de la recurrencia: tenemos la tabulación"
      ],
      "metadata": {
        "id": "IuRuLXGm5nZz"
      }
    },
    {
      "cell_type": "markdown",
      "source": [
        "#### Memoización"
      ],
      "metadata": {
        "id": "JFVZMbr-H3_y"
      }
    },
    {
      "cell_type": "code",
      "source": [
        "def fact(n):\n",
        "    memo = {}\n",
        "    if n in memo:\n",
        "        return memo[n]\n",
        "    elif n == 0 or n == 1:\n",
        "        return 1\n",
        "        arr[n] = 1\n",
        "    else:\n",
        "        factorial = n * fact(n - 1)   # recursividad\n",
        "        memo[n] = factorial\n",
        "    return factorial\n",
        "\n",
        "fact(961)"
      ],
      "metadata": {
        "id": "QpqdteFpFDl0"
      },
      "execution_count": null,
      "outputs": []
    },
    {
      "cell_type": "code",
      "source": [
        "def factorial(n):\n",
        "    if n in factorial.__dict__:\n",
        "        return factorial.__dict__[n]\n",
        "\n",
        "    if n > 1:\n",
        "        fac = n * factorial(n-1)\n",
        "    else:\n",
        "        fac = 1\n",
        "    \n",
        "    factorial.__dict__[n] = fac\n",
        "    return fac\n",
        "\n",
        "factorial(961)"
      ],
      "metadata": {
        "id": "rhME0AExH7JR"
      },
      "execution_count": null,
      "outputs": []
    },
    {
      "cell_type": "code",
      "source": [
        "def factorial(n):\n",
        "    arr = [1] * (n+1)\n",
        "    for i in range(1, n+1):\n",
        "        arr[i] = i * arr[i-1]\n",
        "    return arr[n]\n",
        "\n",
        "factorial(961)"
      ],
      "metadata": {
        "id": "_pNBC8etGuyW"
      },
      "execution_count": null,
      "outputs": []
    },
    {
      "cell_type": "markdown",
      "source": [
        "## Fibonacci\n",
        "Veamos el caso de una sucesión de Fibonacci resuelto con recursividad y con programación dinámica."
      ],
      "metadata": {
        "id": "p0kxMO53E-Bu"
      }
    },
    {
      "cell_type": "markdown",
      "source": [
        "### Fibonacci con recursividad"
      ],
      "metadata": {
        "id": "hJCIrZidFNBt"
      }
    },
    {
      "cell_type": "markdown",
      "source": [
        "#### Método 1"
      ],
      "metadata": {
        "id": "ip4v7fQfYRRb"
      }
    },
    {
      "cell_type": "code",
      "source": [
        "def fibo(n):\n",
        "    if n == 0:\n",
        "        return 0\n",
        "    elif n == 1:\n",
        "        return 1\n",
        "    else:\n",
        "        return fibo(n-1) + fibo(n-2)   # recursividad\n",
        "\n",
        "fibo(40)  # tardó 42 segundos"
      ],
      "metadata": {
        "id": "BmIf-EeVFQL1",
        "outputId": "8175e383-1b8f-4a61-c073-da4b748f651a",
        "colab": {
          "base_uri": "https://localhost:8080/"
        }
      },
      "execution_count": null,
      "outputs": [
        {
          "output_type": "execute_result",
          "data": {
            "text/plain": [
              "102334155"
            ]
          },
          "metadata": {},
          "execution_count": 19
        }
      ]
    },
    {
      "cell_type": "markdown",
      "source": [
        "#### Método 2"
      ],
      "metadata": {
        "id": "hBsIqWhbYWMa"
      }
    },
    {
      "cell_type": "code",
      "source": [
        "def fibo(n):\n",
        "    if n < 2:   # si n=1 retorna 1, si n=0 retorna 0\n",
        "        return n\n",
        "    return fibo(n-1) + fibo(n-2)\n",
        "\n",
        "fibo(40)"
      ],
      "metadata": {
        "colab": {
          "base_uri": "https://localhost:8080/"
        },
        "id": "0nntV7ErYbLX",
        "outputId": "d19d6fdf-ae8f-45d7-970e-7a21e6bc2ac5"
      },
      "execution_count": 13,
      "outputs": [
        {
          "output_type": "execute_result",
          "data": {
            "text/plain": [
              "102334155"
            ]
          },
          "metadata": {},
          "execution_count": 13
        }
      ]
    },
    {
      "cell_type": "markdown",
      "source": [
        "### Memoización y recursividad con un lista"
      ],
      "metadata": {
        "id": "dSOWMLneHU8u"
      }
    },
    {
      "cell_type": "markdown",
      "source": [
        "#### Método 1"
      ],
      "metadata": {
        "id": "7XjUMtKoZZ62"
      }
    },
    {
      "cell_type": "code",
      "source": [
        "def fibo(n):\n",
        "    f = [0, 1]\n",
        "    for i in range(2, n+1):\n",
        "        f.append(f[i-1] + f[i-2])\n",
        "    return f[n]\n",
        "\n",
        "fibo(963)   # El máximo que aguanta Colab es 963"
      ],
      "metadata": {
        "colab": {
          "base_uri": "https://localhost:8080/"
        },
        "id": "iaqoweH8Zd7G",
        "outputId": "946a5a7b-1c65-4de2-8d1a-3bdd7642a5cf"
      },
      "execution_count": 15,
      "outputs": [
        {
          "output_type": "execute_result",
          "data": {
            "text/plain": [
              "804660269890348192607522023089803718623744663554333827348566450717698691837013275169848087213765208489846913363667231522429508515354857443705716811606284275603514186261573277563557017756457031808637442"
            ]
          },
          "metadata": {},
          "execution_count": 15
        }
      ]
    },
    {
      "cell_type": "markdown",
      "source": [
        "#### Método 2"
      ],
      "metadata": {
        "id": "M5yPspWXaRYu"
      }
    },
    {
      "cell_type": "code",
      "source": [
        "def fibo(n, memo = [0,1]):\n",
        "    try:\n",
        "        return memo[n]\n",
        "    except IndexError:\n",
        "        suma = fibo(n-1) + fibo(n-2)   # recursividad\n",
        "        memo.append(suma)\n",
        "        return suma   \n",
        "\n",
        "fibo(963)  # tardó 0 segundos"
      ],
      "metadata": {
        "id": "_eWRpBTN6sZ8",
        "outputId": "8738a846-79d3-4bd6-f3d2-7ced99fd579e",
        "colab": {
          "base_uri": "https://localhost:8080/"
        }
      },
      "execution_count": 12,
      "outputs": [
        {
          "output_type": "execute_result",
          "data": {
            "text/plain": [
              "804660269890348192607522023089803718623744663554333827348566450717698691837013275169848087213765208489846913363667231522429508515354857443705716811606284275603514186261573277563557017756457031808637442"
            ]
          },
          "metadata": {},
          "execution_count": 12
        }
      ]
    },
    {
      "cell_type": "markdown",
      "source": [
        "Y si queremos la serie de Fibonacci completa podemos aprovechar que el array ya la contiene y lo único que se ha de hacer es imprimir esa lista."
      ],
      "metadata": {
        "id": "SsEy_BIeaVup"
      }
    },
    {
      "cell_type": "code",
      "source": [
        "# el array memo contiene todos los números de la serie, aprovechemos esa lista para imprimirla\n",
        "\n",
        "def fibo(n, memo = [0,1]):\n",
        "    if len(memo)==20: print(memo)\n",
        "    try:\n",
        "        return memo[n]\n",
        "    except IndexError:\n",
        "        suma = fibo(n-1) + fibo(n-2)   # recursividad\n",
        "        memo.append(suma)\n",
        "        return suma   \n",
        "\n",
        "n = 20\n",
        "fibo(n+1)  # tardó 0 segundos\n",
        "print(f\"Lista con los {n} primeros números de la serie de Fibonacci\")"
      ],
      "metadata": {
        "id": "tMGXCQb2EBaA",
        "outputId": "41586c05-f8cf-42e8-ea43-2eef63e32a28",
        "colab": {
          "base_uri": "https://localhost:8080/"
        }
      },
      "execution_count": null,
      "outputs": [
        {
          "output_type": "stream",
          "name": "stdout",
          "text": [
            "[0, 1, 1, 2, 3, 5, 8, 13, 21, 34, 55, 89, 144, 233, 377, 610, 987, 1597, 2584, 4181]\n",
            "Lista con los 20 primeros números de la serie de Fibonacci\n"
          ]
        }
      ]
    },
    {
      "cell_type": "markdown",
      "source": [
        "#### Con un diccionario"
      ],
      "metadata": {
        "id": "u7Nq07ocH-yg"
      }
    },
    {
      "cell_type": "code",
      "source": [
        "def fibo(n):\n",
        "    d = {0:0, 1:1}\n",
        "    for i in range(2, n+1):\n",
        "        d[i] = d[i-1] + d[i-2]\n",
        "    return d[n]\n",
        "\n",
        "fibo(10)"
      ],
      "metadata": {
        "colab": {
          "base_uri": "https://localhost:8080/"
        },
        "id": "931spHvt4udp",
        "outputId": "06e012bf-fbc7-4a9b-85be-b0cc842be4bf"
      },
      "execution_count": 37,
      "outputs": [
        {
          "output_type": "execute_result",
          "data": {
            "text/plain": [
              "55"
            ]
          },
          "metadata": {},
          "execution_count": 37
        }
      ]
    },
    {
      "cell_type": "markdown",
      "source": [
        "### Fibonacci con memoización y un diccionario"
      ],
      "metadata": {
        "id": "BSwxRXpq7ewx"
      }
    },
    {
      "cell_type": "code",
      "source": [
        "def fibo(n):\n",
        "    d = {0:0, 1:1}   # caso base. Esta linea de códgio podría ir fuera de la función, arriba\n",
        "    if n in d:                     # si existe el valor en el diccionario\n",
        "        return d[n]                # lo retornamos\n",
        "    d[n] = fibo(n-1) + fibo(n-2)   # si no existe lo calculamos por recursividad\n",
        "    return d[n]                    # y lo retornamos\n",
        "\n",
        "fibo(10)"
      ],
      "metadata": {
        "colab": {
          "base_uri": "https://localhost:8080/"
        },
        "id": "PV7BGEPm7hGJ",
        "outputId": "88d77b50-f46a-4658-c2df-4e4f408b5aac"
      },
      "execution_count": 5,
      "outputs": [
        {
          "output_type": "execute_result",
          "data": {
            "text/plain": [
              "55"
            ]
          },
          "metadata": {},
          "execution_count": 5
        }
      ]
    },
    {
      "cell_type": "markdown",
      "source": [
        "## Fibonacci por recurrencia"
      ],
      "metadata": {
        "id": "sDj0xlRLcQE7"
      }
    },
    {
      "cell_type": "code",
      "source": [
        "def fibo(n):\n",
        "    a = 0\n",
        "    b = 1\n",
        "    if n < 0: return \"n debe ser un entero no negativo\"\n",
        "    elif n==0: return a\n",
        "    elif n==1: return b\n",
        "    else:\n",
        "        for i in range(2, n+1):\n",
        "            c = a + b\n",
        "            a = b\n",
        "            b = c\n",
        "        return c\n",
        "\n",
        "fibo(963)"
      ],
      "metadata": {
        "colab": {
          "base_uri": "https://localhost:8080/"
        },
        "id": "vQNWI7B4cVVo",
        "outputId": "04f7b048-203c-4fe0-9d06-d37631fa91a6"
      },
      "execution_count": 31,
      "outputs": [
        {
          "output_type": "execute_result",
          "data": {
            "text/plain": [
              "804660269890348192607522023089803718623744663554333827348566450717698691837013275169848087213765208489846913363667231522429508515354857443705716811606284275603514186261573277563557017756457031808637442"
            ]
          },
          "metadata": {},
          "execution_count": 31
        }
      ]
    },
    {
      "cell_type": "markdown",
      "source": [
        "## Fibonacci por recursividad y con optimización\n",
        "Creamos una array que guarda todos los valores de la serie desde Abajo hasta Arriba"
      ],
      "metadata": {
        "id": "uOOPosUEezhF"
      }
    },
    {
      "cell_type": "code",
      "source": [
        "def fibo(n):\n",
        "    f = []\n",
        "    f.append(0)\n",
        "    f.append(1)   \n",
        "    for i in range(2, n+1):\n",
        "        f.append(f[i-1] + f[i-2])\n",
        "    return f[n]   # retornando solo f se obtiene toda la serie\n",
        "\n",
        "fibo(963)"
      ],
      "metadata": {
        "colab": {
          "base_uri": "https://localhost:8080/"
        },
        "id": "HBXQbiPHfDjS",
        "outputId": "9e630750-75f2-4f49-8ff5-f697e86a538f"
      },
      "execution_count": 32,
      "outputs": [
        {
          "output_type": "execute_result",
          "data": {
            "text/plain": [
              "804660269890348192607522023089803718623744663554333827348566450717698691837013275169848087213765208489846913363667231522429508515354857443705716811606284275603514186261573277563557017756457031808637442"
            ]
          },
          "metadata": {},
          "execution_count": 32
        }
      ]
    }
  ]
}