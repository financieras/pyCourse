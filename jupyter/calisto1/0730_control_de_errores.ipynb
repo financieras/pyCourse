{
  "cells": [
    {
      "cell_type": "markdown",
      "metadata": {
        "id": "view-in-github",
        "colab_type": "text"
      },
      "source": [
        "<a href=\"https://colab.research.google.com/github/financieras/pyCourse/blob/main/jupyter/calisto1/0730_control_de_errores.ipynb\" target=\"_parent\"><img src=\"https://colab.research.google.com/assets/colab-badge.svg\" alt=\"Open In Colab\"/></a>"
      ]
    },
    {
      "cell_type": "markdown",
      "metadata": {
        "id": "EsvgyXLFc99i"
      },
      "source": [
        "# Control de errores\n",
        "Conviene prevenir errores con los que se pueda enfrentar el usuario."
      ]
    },
    {
      "cell_type": "markdown",
      "metadata": {
        "id": "pcc7y3czc99k"
      },
      "source": [
        "## Ultimo pop\n",
        "Al hacer pop en una lista se elimina el último elemento.  \n",
        "En una lista vacía dará error."
      ]
    },
    {
      "cell_type": "code",
      "execution_count": 1,
      "metadata": {
        "id": "c7XhXJysc99m",
        "outputId": "485e8ecc-9a9b-4e85-b98b-fd367fac6921",
        "colab": {
          "base_uri": "https://localhost:8080/"
        }
      },
      "outputs": [
        {
          "output_type": "execute_result",
          "data": {
            "text/plain": [
              "1"
            ]
          },
          "metadata": {},
          "execution_count": 1
        }
      ],
      "source": [
        "l=[1,2,3]\n",
        "l.pop()\n",
        "l.pop()\n",
        "l.pop()          # aquí ya estamos en una lista vacía\n",
        "#l.pop()         # aquí dará error"
      ]
    },
    {
      "cell_type": "markdown",
      "metadata": {
        "id": "yMuGKdTZc99o"
      },
      "source": [
        "Podemos prevenir el error con un if."
      ]
    },
    {
      "cell_type": "code",
      "execution_count": 2,
      "metadata": {
        "id": "PJIg1JICc99p"
      },
      "outputs": [],
      "source": [
        "l=[1,2,3]"
      ]
    },
    {
      "cell_type": "code",
      "execution_count": 3,
      "metadata": {
        "id": "tu-jzPx-c99q"
      },
      "outputs": [],
      "source": [
        "if len(l)>1:     # podemos ejecutar este código más de 3 veces y no producirá error\n",
        "    l.pop()"
      ]
    },
    {
      "cell_type": "markdown",
      "metadata": {
        "id": "tZpp1TJAc99r"
      },
      "source": [
        "## División entre cero\n",
        "Al dividir un número entre cero obtenemos un error."
      ]
    },
    {
      "cell_type": "code",
      "execution_count": 4,
      "metadata": {
        "id": "FKoy5OSRc99r"
      },
      "outputs": [],
      "source": [
        "def divide(a,b):\n",
        "    if b == 0:\n",
        "        return None          # su b es cero se retorna None que evita el error\n",
        "    return a/b\n",
        "\n",
        "a = 15\n",
        "b = 0\n",
        "divide(a,b)"
      ]
    },
    {
      "cell_type": "markdown",
      "metadata": {
        "id": "3QZpgCA2c99s"
      },
      "source": [
        "## Introduciendo un texto y no un número\n",
        "Si el usuario introduce un texto en lugar de un número para evitar que se produzca un error debemos realizar un manejo de excepciones con ```try``` y ```except```.\n",
        "El siguiente código es igual que el anterior, pero una de las variables contiene un string, por lo que dará error."
      ]
    },
    {
      "cell_type": "code",
      "execution_count": null,
      "metadata": {
        "id": "rL8dlxKzc99u"
      },
      "outputs": [],
      "source": [
        "def divide(a,b):\n",
        "    if b == 0:\n",
        "        return None          # su b es cero se retorna None que evita el error\n",
        "    return a/b\n",
        "\n",
        "a = 15\n",
        "b = 'asdf'\n",
        "divide(a,b)"
      ]
    },
    {
      "cell_type": "markdown",
      "metadata": {
        "id": "s0EeKQdjc99v"
      },
      "source": [
        "## Control de errores con ```try``` y ```except```"
      ]
    },
    {
      "cell_type": "code",
      "execution_count": 7,
      "metadata": {
        "id": "hQXN076mc99w",
        "outputId": "97b013f1-7c93-40a1-cc23-7e34e0a8178c",
        "colab": {
          "base_uri": "https://localhost:8080/"
        }
      },
      "outputs": [
        {
          "output_type": "stream",
          "name": "stdout",
          "text": [
            "Introduzca un número: \"10\"\n",
            "Se produjo un error. Introduzca un número válido.\n"
          ]
        }
      ],
      "source": [
        "try:\n",
        "    x = float(input(\"Introduzca un número: \"))                  # introduciendo un texto se produce un error\n",
        "    y = 10\n",
        "    print(f'{x} / {y} = {x/y}')\n",
        "except:\n",
        "    print(\"Se produjo un error. Introduzca un número válido.\")  # imprimimos una frase cuando se produce una excepción"
      ]
    },
    {
      "cell_type": "markdown",
      "metadata": {
        "id": "Hn9XDFaTc99x"
      },
      "source": [
        "### Con un ```while```"
      ]
    },
    {
      "cell_type": "code",
      "execution_count": 8,
      "metadata": {
        "id": "ykmnj2iLc99y",
        "outputId": "56374d22-3490-403b-f18a-8b1517c604d5",
        "colab": {
          "base_uri": "https://localhost:8080/"
        }
      },
      "outputs": [
        {
          "output_type": "stream",
          "name": "stdout",
          "text": [
            "Introduzca un número: \"10\"\n",
            "Se produjo un error. Introduzca un número válido.\n",
            "Introduzca un número: 10\n",
            "10.0 / 10 = 1.0\n"
          ]
        }
      ],
      "source": [
        "while True:\n",
        "    try:\n",
        "        x = float(input(\"Introduzca un número: \"))\n",
        "        y = 10\n",
        "        print(f'{x} / {y} = {x/y}')\n",
        "        break                                                  # aquí se rompe el bucle si todo ha ido bien\n",
        "    except:\n",
        "        print(\"Se produjo un error. Introduzca un número válido.\")"
      ]
    },
    {
      "cell_type": "markdown",
      "metadata": {
        "id": "y_cNpl5Bc99z"
      },
      "source": [
        "## Añadiendo ```else```\n",
        "Este será el lugar adecuado para incluir el ```break```."
      ]
    },
    {
      "cell_type": "code",
      "execution_count": 9,
      "metadata": {
        "id": "zlN5H2Y1c99z",
        "outputId": "0a4c9c5d-57b1-482a-9b0c-95bdc1c45c1a",
        "colab": {
          "base_uri": "https://localhost:8080/"
        }
      },
      "outputs": [
        {
          "output_type": "stream",
          "name": "stdout",
          "text": [
            "Introduzca un número: \"10\"\n",
            "Se produjo un error. Introduzca un número válido.\n",
            "Introduzca un número: 10\n",
            "10.0 / 10 = 1.0\n",
            "Cálculo correctamente realizado.\n"
          ]
        }
      ],
      "source": [
        "while True:\n",
        "    try:\n",
        "        x = float(input(\"Introduzca un número: \"))\n",
        "        y = 10\n",
        "        print(f'{x} / {y} = {x/y}')\n",
        "    except:\n",
        "        print(\"Se produjo un error. Introduzca un número válido.\")\n",
        "    else:\n",
        "        print(\"Cálculo correctamente realizado.\")\n",
        "        break                                                  # aquí se rompe el bucle si todo ha ido bien"
      ]
    },
    {
      "cell_type": "markdown",
      "metadata": {
        "id": "NaqqGK14c990"
      },
      "source": [
        "## Añadiendo ```finally```"
      ]
    },
    {
      "cell_type": "markdown",
      "metadata": {
        "id": "cQi8ChOrc991"
      },
      "source": [
        "### Ejemplo 1: sin función"
      ]
    },
    {
      "cell_type": "code",
      "execution_count": 10,
      "metadata": {
        "id": "sQWlmL_wc991",
        "outputId": "79d82dcd-517d-4949-ba63-578f796b9ccc",
        "colab": {
          "base_uri": "https://localhost:8080/"
        }
      },
      "outputs": [
        {
          "output_type": "stream",
          "name": "stdout",
          "text": [
            "Introduzca un número: \"10\"\n",
            "Se produjo un error. Introduzca un número válido.\n",
            "Fin del bucle\n",
            "Introduzca un número: 10\n",
            "10.0 / 10 = 1.0\n",
            "Cálculo correctamente realizado.\n",
            "Fin del bucle\n"
          ]
        }
      ],
      "source": [
        "while True:\n",
        "    try:\n",
        "        x = float(input(\"Introduzca un número: \"))\n",
        "        y = 10\n",
        "        print(f'{x} / {y} = {x/y}')\n",
        "    except:\n",
        "        print(\"Se produjo un error. Introduzca un número válido.\")\n",
        "    else:\n",
        "        print(\"Cálculo correctamente realizado.\")\n",
        "        break                                                  # aquí se rompe el bucle si todo ha ido bien\n",
        "    finally:\n",
        "        print(\"Fin del bucle\")                                 # siempre se ejecutará"
      ]
    },
    {
      "cell_type": "markdown",
      "metadata": {
        "id": "C9i9jISyc992"
      },
      "source": [
        "### Ejemplo 2: con función\n",
        "Siempre que se invoque la función se ejecutará el código que hay en ```finally```, se produzca o no la excepción.  Ese código está asociado a la función."
      ]
    },
    {
      "cell_type": "code",
      "execution_count": 11,
      "metadata": {
        "id": "0I-hCyOfc993",
        "outputId": "690ae2a1-0064-4449-e21e-132604f6a4b8",
        "colab": {
          "base_uri": "https://localhost:8080/"
        }
      },
      "outputs": [
        {
          "output_type": "stream",
          "name": "stdout",
          "text": [
            "Función en marcha.\n",
            "Este código siempre se ejecuta.\n",
            "0.5\n"
          ]
        }
      ],
      "source": [
        "def test(n):\n",
        "    try:\n",
        "        print(\"Función en marcha.\")\n",
        "        return 10/n\n",
        "    except:\n",
        "        return \"Ha ocurrido un error, finalizando el código.\"\n",
        "    finally:\n",
        "        print(\"Este código siempre se ejecuta.\")\n",
        "\n",
        "n = test(20)\n",
        "print(n)"
      ]
    },
    {
      "cell_type": "code",
      "execution_count": 12,
      "metadata": {
        "id": "y93i5vSsc993",
        "outputId": "866dae99-4962-4389-9860-40e35fcfceed",
        "colab": {
          "base_uri": "https://localhost:8080/"
        }
      },
      "outputs": [
        {
          "output_type": "stream",
          "name": "stdout",
          "text": [
            "Función en marcha.\n",
            "Este código siempre se ejecuta.\n",
            "Ha ocurrido un error, finalizando el código.\n"
          ]
        }
      ],
      "source": [
        "n = test(0)                                    # si el argumento es 0 se produce una división por cero y salta la excepción\n",
        "print(n)                                       # el código que hay en finally siempre se ejecuta, salte o no la excepción"
      ]
    }
  ],
  "metadata": {
    "kernelspec": {
      "display_name": "Python 3",
      "language": "python",
      "name": "python3"
    },
    "language_info": {
      "codemirror_mode": {
        "name": "ipython",
        "version": 3
      },
      "file_extension": ".py",
      "mimetype": "text/x-python",
      "name": "python",
      "nbconvert_exporter": "python",
      "pygments_lexer": "ipython3",
      "version": "3.8.5"
    },
    "colab": {
      "name": "calisto1_0730.ipynb",
      "provenance": [],
      "include_colab_link": true
    }
  },
  "nbformat": 4,
  "nbformat_minor": 0
}