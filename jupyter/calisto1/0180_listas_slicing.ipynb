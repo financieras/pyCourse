{
  "cells": [
    {
      "cell_type": "markdown",
      "metadata": {
        "id": "view-in-github",
        "colab_type": "text"
      },
      "source": [
        "<a href=\"https://colab.research.google.com/github/financieras/pyCourse/blob/main/jupyter/calisto1/0180_listas_slicing.ipynb\" target=\"_parent\"><img src=\"https://colab.research.google.com/assets/colab-badge.svg\" alt=\"Open In Colab\"/></a>"
      ]
    },
    {
      "cell_type": "markdown",
      "id": "87ac7381",
      "metadata": {
        "id": "87ac7381"
      },
      "source": [
        "# Listas [2]  Slicing Lists"
      ]
    },
    {
      "cell_type": "markdown",
      "id": "48319d7f",
      "metadata": {
        "id": "48319d7f"
      },
      "source": [
        "## Índices en una lista (**Index**)"
      ]
    },
    {
      "cell_type": "code",
      "execution_count": 1,
      "id": "82846a9f",
      "metadata": {
        "id": "82846a9f",
        "outputId": "f24f8105-218e-4924-f5b6-ac0b5de405b7",
        "colab": {
          "base_uri": "https://localhost:8080/"
        }
      },
      "outputs": [
        {
          "output_type": "stream",
          "name": "stdout",
          "text": [
            "lun\n",
            "mar\n",
            "mie\n",
            "jue\n",
            "vie\n",
            "sab\n",
            "dom\n"
          ]
        }
      ],
      "source": [
        "dias = ['lun', 'mar', 'mie', 'jue', 'vie', 'sab', 'dom']\n",
        "print(dias[0])\n",
        "print(dias[1])\n",
        "print(dias[2])\n",
        "print(dias[3])\n",
        "print(dias[4])\n",
        "print(dias[5])\n",
        "print(dias[6])"
      ]
    },
    {
      "cell_type": "markdown",
      "id": "5e89bef4",
      "metadata": {
        "id": "5e89bef4"
      },
      "source": [
        "### Índices negativos"
      ]
    },
    {
      "cell_type": "code",
      "execution_count": 2,
      "id": "c8f62709",
      "metadata": {
        "id": "c8f62709",
        "outputId": "acaab5fa-dbfd-4eb9-a73e-b8086de1088e",
        "colab": {
          "base_uri": "https://localhost:8080/"
        }
      },
      "outputs": [
        {
          "output_type": "stream",
          "name": "stdout",
          "text": [
            "dom\n",
            "sab\n",
            "vie\n",
            "jue\n",
            "mie\n",
            "mar\n",
            "lun\n"
          ]
        }
      ],
      "source": [
        "print(dias[-1])\n",
        "print(dias[-2])\n",
        "print(dias[-3])\n",
        "print(dias[-4])\n",
        "print(dias[-5])\n",
        "print(dias[-6])\n",
        "print(dias[-7])"
      ]
    },
    {
      "cell_type": "markdown",
      "id": "8a4c1c70",
      "metadata": {
        "id": "8a4c1c70"
      },
      "source": [
        "## Slice notation  \n",
        "- lista[start:stop]  # items desde start hasta stop-1\n",
        "- lista[start:]      # items desde start hasta el final\n",
        "- lista[:stop]       # items desde el inicio hasta stop-1\n",
        "- lista[:]           # crea una copia del array completo"
      ]
    },
    {
      "cell_type": "code",
      "execution_count": 3,
      "id": "5f1ec7f0",
      "metadata": {
        "id": "5f1ec7f0",
        "outputId": "75b6f5b6-e4d6-4fb0-e2fc-9cb57f60c59b",
        "colab": {
          "base_uri": "https://localhost:8080/"
        }
      },
      "outputs": [
        {
          "output_type": "stream",
          "name": "stdout",
          "text": [
            "['mie', 'jue', 'vie']\n",
            "['mie', 'jue', 'vie', 'sab', 'dom']\n",
            "['lun', 'mar', 'mie', 'jue', 'vie']\n",
            "['lun', 'mar', 'mie', 'jue', 'vie', 'sab', 'dom']\n"
          ]
        }
      ],
      "source": [
        "print(dias[2:5])\n",
        "print(dias[2:])\n",
        "print(dias[:5])\n",
        "una_copia = dias[:]\n",
        "print(una_copia)"
      ]
    },
    {
      "cell_type": "markdown",
      "id": "a1dda2d6",
      "metadata": {
        "id": "a1dda2d6"
      },
      "source": [
        "### Valores negativos"
      ]
    },
    {
      "cell_type": "code",
      "execution_count": 4,
      "id": "cd187119",
      "metadata": {
        "id": "cd187119",
        "outputId": "8771b74a-509f-4911-e0ee-cdc254bcce89",
        "colab": {
          "base_uri": "https://localhost:8080/"
        }
      },
      "outputs": [
        {
          "output_type": "stream",
          "name": "stdout",
          "text": [
            "dom\n",
            "['sab', 'dom']\n",
            "['lun', 'mar', 'mie', 'jue', 'vie']\n"
          ]
        }
      ],
      "source": [
        "print(dias[-1])         # el último elemento del array\n",
        "print(dias[-2:])        # los dos últimos elementos del array\n",
        "print(dias[:-2])        # todos los elementos desde el inicio hasta el -2 excluido"
      ]
    },
    {
      "cell_type": "markdown",
      "id": "c6c7d69f",
      "metadata": {
        "id": "c6c7d69f"
      },
      "source": [
        "### lista[Star:Stop:Step]"
      ]
    },
    {
      "cell_type": "code",
      "execution_count": 5,
      "id": "0b9d9f41",
      "metadata": {
        "id": "0b9d9f41",
        "outputId": "77836636-d106-48e7-f71c-491bdf77d985",
        "colab": {
          "base_uri": "https://localhost:8080/"
        }
      },
      "outputs": [
        {
          "output_type": "stream",
          "name": "stdout",
          "text": [
            "['dom', 'sab', 'vie', 'jue', 'mie', 'mar', 'lun']\n",
            "['mar', 'lun']\n",
            "['dom', 'sab']\n",
            "['vie', 'jue', 'mie', 'mar', 'lun']\n"
          ]
        }
      ],
      "source": [
        "print(dias[::-1])       # todos los elementos de la matriz invertidos  (reverse)\n",
        "print(dias[1::-1])      # los dos primeros elementos invertidos\n",
        "print(dias[:-3:-1])     # los dos últimos elementos invertidos\n",
        "print(dias[-3::-1])     # todo excepto los dos últimos elementos e invertidos"
      ]
    },
    {
      "cell_type": "markdown",
      "id": "ba87801a",
      "metadata": {
        "id": "ba87801a"
      },
      "source": [
        "## lista[slice(Star,Stop,Step)]  equivale a  lista[Star:Stop:Step]"
      ]
    },
    {
      "cell_type": "code",
      "execution_count": 6,
      "id": "3bbc6214",
      "metadata": {
        "id": "3bbc6214",
        "outputId": "ecae63c4-0640-4bd7-d21f-430175045cf5",
        "colab": {
          "base_uri": "https://localhost:8080/"
        }
      },
      "outputs": [
        {
          "output_type": "execute_result",
          "data": {
            "text/plain": [
              "['dom', 'sab', 'vie', 'jue', 'mie', 'mar', 'lun']"
            ]
          },
          "metadata": {},
          "execution_count": 6
        }
      ],
      "source": [
        "dias[slice(None, None, -1)]"
      ]
    },
    {
      "cell_type": "code",
      "execution_count": 7,
      "id": "70dd5b1d",
      "metadata": {
        "id": "70dd5b1d",
        "outputId": "bd306c43-b8a4-498e-e568-56ca5f4dfcec",
        "colab": {
          "base_uri": "https://localhost:8080/"
        }
      },
      "outputs": [
        {
          "output_type": "execute_result",
          "data": {
            "text/plain": [
              "['mar', 'jue', 'sab']"
            ]
          },
          "metadata": {},
          "execution_count": 7
        }
      ],
      "source": [
        "dias[slice(1, None, 2)]"
      ]
    },
    {
      "cell_type": "markdown",
      "id": "f8b792a1",
      "metadata": {
        "id": "f8b792a1"
      },
      "source": [
        "## Separar listas"
      ]
    },
    {
      "cell_type": "code",
      "execution_count": 8,
      "id": "712116a4",
      "metadata": {
        "id": "712116a4",
        "outputId": "efcb5a85-cf06-41d9-e25e-f60a0bf52c9f",
        "colab": {
          "base_uri": "https://localhost:8080/"
        }
      },
      "outputs": [
        {
          "output_type": "stream",
          "name": "stdout",
          "text": [
            "['a', 'b', 'c', 'd', 'e']\n",
            "[1, 2, 3, 4]\n"
          ]
        }
      ],
      "source": [
        "lista_completa = ['a', 'b', 'c', 'd', 'e', 1, 2, 3, 4]\n",
        "lista_letras = lista_completa[0:5]             # ['a', 'b', 'c', 'd', 'e'] El índice 5 no se incluye\n",
        "lista_numeros = lista_completa[5:9]            # [1, 2, 3, 4] El índice 9 no se incluye\n",
        "print(lista_letras)\n",
        "print(lista_numeros)"
      ]
    },
    {
      "cell_type": "code",
      "execution_count": 9,
      "id": "a76f832e",
      "metadata": {
        "id": "a76f832e",
        "outputId": "c3514bab-c880-4324-eb2f-8ed42429936b",
        "colab": {
          "base_uri": "https://localhost:8080/"
        }
      },
      "outputs": [
        {
          "output_type": "stream",
          "name": "stdout",
          "text": [
            "['a', 'b', 'c', 'd', 'e']\n",
            "[1, 2, 3, 4]\n"
          ]
        }
      ],
      "source": [
        "print(lista_completa[:5])                      # ['a', 'b', 'c', 'd', 'e']\n",
        "print(lista_completa[5:])                      # [1, 2, 3, 4]"
      ]
    },
    {
      "cell_type": "code",
      "execution_count": 10,
      "id": "f276d882",
      "metadata": {
        "id": "f276d882",
        "outputId": "674a1cb5-bc06-4518-805e-7af3005257f4",
        "colab": {
          "base_uri": "https://localhost:8080/"
        }
      },
      "outputs": [
        {
          "output_type": "stream",
          "name": "stdout",
          "text": [
            "[1, 2, 3, 4]\n",
            "['b', 'd', 1, 3]\n"
          ]
        }
      ],
      "source": [
        "print(lista_completa[-4:])                     # [1, 2, 3, 4]\n",
        "print(lista_completa[1::2])                    # ['b', 'd', 1, 3]"
      ]
    },
    {
      "cell_type": "code",
      "execution_count": 11,
      "id": "ad52146b",
      "metadata": {
        "id": "ad52146b",
        "outputId": "5169dc14-d329-4e26-8552-7c95fcf988a7",
        "colab": {
          "base_uri": "https://localhost:8080/"
        }
      },
      "outputs": [
        {
          "output_type": "stream",
          "name": "stdout",
          "text": [
            "2\n",
            "[2]\n"
          ]
        },
        {
          "output_type": "execute_result",
          "data": {
            "text/plain": [
              "True"
            ]
          },
          "metadata": {},
          "execution_count": 11
        }
      ],
      "source": [
        "print(lista_completa[6])                       # 2\n",
        "print(lista_completa[6:7])                     # [2]\n",
        "lista_completa[6] != lista_completa[6:7]       # 2!=[2] El valor 2 es distinto de la sublista [2]"
      ]
    },
    {
      "cell_type": "markdown",
      "id": "fe1e905e",
      "metadata": {
        "id": "fe1e905e"
      },
      "source": [
        "## ```list(range(10))```"
      ]
    },
    {
      "cell_type": "code",
      "execution_count": 12,
      "id": "46a37c35",
      "metadata": {
        "id": "46a37c35",
        "outputId": "8efa2539-cec8-467e-d93f-cfd217e1ef16",
        "colab": {
          "base_uri": "https://localhost:8080/"
        }
      },
      "outputs": [
        {
          "output_type": "stream",
          "name": "stdout",
          "text": [
            "range(0, 10)\n",
            "<class 'range'>\n"
          ]
        },
        {
          "output_type": "execute_result",
          "data": {
            "text/plain": [
              "[0, 1, 2, 3, 4, 5, 6, 7, 8, 9]"
            ]
          },
          "metadata": {},
          "execution_count": 12
        }
      ],
      "source": [
        "mi_rango=range(10)\n",
        "print(mi_rango)               # range(0, 10)\n",
        "print(type(mi_rango))         # <class 'range'>\n",
        "list(mi_rango)                # se puede convertir en una lista"
      ]
    },
    {
      "cell_type": "code",
      "execution_count": 13,
      "id": "74e14846",
      "metadata": {
        "id": "74e14846",
        "outputId": "dc67e60e-1d1d-421c-d36f-5399b619f13e",
        "colab": {
          "base_uri": "https://localhost:8080/"
        }
      },
      "outputs": [
        {
          "output_type": "stream",
          "name": "stdout",
          "text": [
            "[0, 1, 2, 3, 4, 5, 6, 7, 8, 9]\n"
          ]
        }
      ],
      "source": [
        "numeros=list(range(10))\n",
        "print(numeros)                # [0, 1, 2, 3, 4, 5, 6, 7, 8, 9]"
      ]
    },
    {
      "cell_type": "markdown",
      "id": "4f01a8e9",
      "metadata": {
        "id": "4f01a8e9"
      },
      "source": [
        "## Inicializar una lista con ceros"
      ]
    },
    {
      "cell_type": "code",
      "execution_count": 14,
      "id": "27ca2c43",
      "metadata": {
        "id": "27ca2c43",
        "outputId": "fe629692-ed93-4da0-fe56-68989d183ab1",
        "colab": {
          "base_uri": "https://localhost:8080/"
        }
      },
      "outputs": [
        {
          "output_type": "stream",
          "name": "stdout",
          "text": [
            "[0, 0, 0, 0, 0, 0, 0, 0, 0, 0]\n",
            "10\n"
          ]
        }
      ],
      "source": [
        "ceros = [0]*10\n",
        "print(ceros)                  # [0, 0, 0, 0, 0, 0, 0, 0, 0, 0]\n",
        "print(len(ceros))             # 10"
      ]
    },
    {
      "cell_type": "code",
      "execution_count": 15,
      "id": "95d39fef",
      "metadata": {
        "id": "95d39fef",
        "outputId": "5febff2c-e39a-43f4-b1c5-3ef309279eb3",
        "colab": {
          "base_uri": "https://localhost:8080/"
        }
      },
      "outputs": [
        {
          "output_type": "stream",
          "name": "stdout",
          "text": [
            "[0, 0]\n"
          ]
        }
      ],
      "source": [
        "del ceros[2:]                 # eliminamos desde el elemento de índice 2 incluido hasta el final\n",
        "print(ceros)                  # [0, 0]"
      ]
    },
    {
      "cell_type": "markdown",
      "id": "48afea55",
      "metadata": {
        "id": "48afea55"
      },
      "source": [
        "## Añadir al inicio"
      ]
    },
    {
      "cell_type": "code",
      "execution_count": 16,
      "id": "95095980",
      "metadata": {
        "id": "95095980",
        "outputId": "e3dd250e-2bd6-45ea-f8e5-5725244cb534",
        "colab": {
          "base_uri": "https://localhost:8080/"
        }
      },
      "outputs": [
        {
          "output_type": "execute_result",
          "data": {
            "text/plain": [
              "['Ana', 'Bea', 'Carmen']"
            ]
          },
          "metadata": {},
          "execution_count": 16
        }
      ],
      "source": [
        "ls = [\"Bea\", \"Carmen\"]\n",
        "ls.insert(0, \"Ana\")\n",
        "ls"
      ]
    }
  ],
  "metadata": {
    "kernelspec": {
      "display_name": "Python 3 (ipykernel)",
      "language": "python",
      "name": "python3"
    },
    "language_info": {
      "codemirror_mode": {
        "name": "ipython",
        "version": 3
      },
      "file_extension": ".py",
      "mimetype": "text/x-python",
      "name": "python",
      "nbconvert_exporter": "python",
      "pygments_lexer": "ipython3",
      "version": "3.8.11"
    },
    "colab": {
      "name": "0180_listas_slicing.ipynb",
      "provenance": [],
      "include_colab_link": true
    }
  },
  "nbformat": 4,
  "nbformat_minor": 5
}