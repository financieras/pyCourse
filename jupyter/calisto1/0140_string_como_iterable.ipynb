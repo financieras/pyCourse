{
  "cells": [
    {
      "cell_type": "markdown",
      "metadata": {
        "id": "view-in-github",
        "colab_type": "text"
      },
      "source": [
        "<a href=\"https://colab.research.google.com/github/financieras/pyCourse/blob/main/jupyter/calisto1/0140_string_como_iterable.ipynb\" target=\"_parent\"><img src=\"https://colab.research.google.com/assets/colab-badge.svg\" alt=\"Open In Colab\"/></a>"
      ]
    },
    {
      "cell_type": "markdown",
      "id": "b400c40e",
      "metadata": {
        "id": "b400c40e"
      },
      "source": [
        "# String como iterable\n",
        "Los índices comienzan por **cero**."
      ]
    },
    {
      "cell_type": "markdown",
      "id": "7e2bfb40",
      "metadata": {
        "id": "7e2bfb40"
      },
      "source": [
        "![Buenos Aires](https://github.com/financieras/pyCourse/blob/main/jupyter/img/Buenos_Aires.png?raw=1)"
      ]
    },
    {
      "cell_type": "code",
      "execution_count": 1,
      "id": "3671daf4",
      "metadata": {
        "id": "3671daf4",
        "outputId": "4a9a2541-cd2a-4fd3-bff8-68c723fb6925",
        "colab": {
          "base_uri": "https://localhost:8080/"
        }
      },
      "outputs": [
        {
          "output_type": "stream",
          "name": "stdout",
          "text": [
            "B\n",
            "u\n",
            "e\n",
            "n\n",
            "o\n",
            "s\n",
            " \n",
            "A\n",
            "i\n",
            "r\n",
            "e\n",
            "s\n"
          ]
        }
      ],
      "source": [
        "ciudad = \"Buenos Aires\"\n",
        "print(ciudad[0])                 # B se comienza por el índice 0\n",
        "print(ciudad[1])                 # u\n",
        "print(ciudad[2])                 # e\n",
        "print(ciudad[3])                 # n\n",
        "print(ciudad[4])                 # o\n",
        "print(ciudad[5])                 # s\n",
        "print(ciudad[6])                 #\n",
        "print(ciudad[7])                 # A\n",
        "print(ciudad[8])                 # i\n",
        "print(ciudad[9])                 # r\n",
        "print(ciudad[10])                # e\n",
        "print(ciudad[11])                # s"
      ]
    },
    {
      "cell_type": "markdown",
      "id": "c47ea911",
      "metadata": {
        "id": "c47ea911"
      },
      "source": [
        "## Índices negativos"
      ]
    },
    {
      "cell_type": "code",
      "execution_count": 2,
      "id": "19152c02",
      "metadata": {
        "id": "19152c02",
        "outputId": "e56f1bcb-e8ea-4258-f696-11731d942ccf",
        "colab": {
          "base_uri": "https://localhost:8080/"
        }
      },
      "outputs": [
        {
          "output_type": "execute_result",
          "data": {
            "text/plain": [
              "12"
            ]
          },
          "metadata": {},
          "execution_count": 2
        }
      ],
      "source": [
        "len(ciudad)"
      ]
    },
    {
      "cell_type": "code",
      "execution_count": 3,
      "id": "745534ab",
      "metadata": {
        "id": "745534ab",
        "outputId": "1b711ae3-2e96-46ea-8151-6e841005b8a2",
        "colab": {
          "base_uri": "https://localhost:8080/"
        }
      },
      "outputs": [
        {
          "output_type": "stream",
          "name": "stdout",
          "text": [
            "s\n",
            "e\n",
            "r\n",
            "i\n",
            "A\n",
            " \n",
            "s\n",
            "o\n",
            "n\n",
            "e\n",
            "u\n",
            "B\n"
          ]
        }
      ],
      "source": [
        "print(ciudad[-1])                # s\n",
        "print(ciudad[-2])                # e\n",
        "print(ciudad[-3])                # r\n",
        "print(ciudad[-4])                # i\n",
        "print(ciudad[-5])                # A\n",
        "print(ciudad[-6])                #\n",
        "print(ciudad[-7])                # s\n",
        "print(ciudad[-8])                # o\n",
        "print(ciudad[-9])                # n\n",
        "print(ciudad[-10])               # e\n",
        "print(ciudad[-11])               # u\n",
        "print(ciudad[-12])               # B"
      ]
    },
    {
      "cell_type": "code",
      "execution_count": 4,
      "id": "c64f4f2b",
      "metadata": {
        "id": "c64f4f2b",
        "outputId": "b72435ad-df12-4bf6-ad39-a957ca910a07",
        "colab": {
          "base_uri": "https://localhost:8080/"
        }
      },
      "outputs": [
        {
          "output_type": "stream",
          "name": "stdout",
          "text": [
            "s\n",
            "B\n"
          ]
        }
      ],
      "source": [
        "print(ciudad[len(ciudad)-1])     # s\n",
        "print(ciudad[-len(ciudad)])      # B"
      ]
    },
    {
      "cell_type": "markdown",
      "id": "1f3baff5",
      "metadata": {
        "id": "1f3baff5"
      },
      "source": [
        "## Slicing (métodos de corte)"
      ]
    },
    {
      "cell_type": "code",
      "execution_count": 5,
      "id": "5a4aa67a",
      "metadata": {
        "id": "5a4aa67a",
        "outputId": "57600c76-5730-4600-b2be-35131c1d5699",
        "colab": {
          "base_uri": "https://localhost:8080/"
        }
      },
      "outputs": [
        {
          "output_type": "stream",
          "name": "stdout",
          "text": [
            "Buen\n",
            "Buen\n",
            "Air\n",
            "Buenos Aires\n",
            "eo i\n",
            "Aires\n"
          ]
        }
      ],
      "source": [
        "print(ciudad[0:4])               # Buen\n",
        "print(ciudad[:4])                # Buen\n",
        "print(ciudad[7:10])              # Air\n",
        "print(ciudad[:])                 # Buenos Aires\n",
        "print(ciudad[2:9:2])             # eo i\n",
        "print(ciudad[-5:])               # Aires"
      ]
    },
    {
      "cell_type": "code",
      "execution_count": 6,
      "id": "8b30a834",
      "metadata": {
        "scrolled": true,
        "id": "8b30a834"
      },
      "outputs": [],
      "source": [
        "#ciudad[30]                      # IndexError: string index out of range"
      ]
    },
    {
      "cell_type": "code",
      "execution_count": 7,
      "id": "662735f2",
      "metadata": {
        "id": "662735f2",
        "outputId": "9384b02e-681d-4ab7-a245-bb7f5e0a2536",
        "colab": {
          "base_uri": "https://localhost:8080/",
          "height": 35
        }
      },
      "outputs": [
        {
          "output_type": "execute_result",
          "data": {
            "text/plain": [
              "'Aires'"
            ],
            "application/vnd.google.colaboratory.intrinsic+json": {
              "type": "string"
            }
          },
          "metadata": {},
          "execution_count": 7
        }
      ],
      "source": [
        "ciudad[7:30]                     # Con slicing si funciona aunque nos salgamos del índice"
      ]
    },
    {
      "cell_type": "code",
      "execution_count": 8,
      "id": "98486507",
      "metadata": {
        "id": "98486507",
        "outputId": "c42448dd-10ef-4e52-84bf-a2cfe7b8e0f2",
        "colab": {
          "base_uri": "https://localhost:8080/",
          "height": 35
        }
      },
      "outputs": [
        {
          "output_type": "execute_result",
          "data": {
            "text/plain": [
              "''"
            ],
            "application/vnd.google.colaboratory.intrinsic+json": {
              "type": "string"
            }
          },
          "metadata": {},
          "execution_count": 8
        }
      ],
      "source": [
        "ciudad[30:]                      # aquí no hay nada. No da error, devuelve cadena vacía"
      ]
    },
    {
      "cell_type": "markdown",
      "id": "b53f8296",
      "metadata": {
        "id": "b53f8296"
      },
      "source": [
        "## Reverso de un string"
      ]
    },
    {
      "cell_type": "code",
      "execution_count": 9,
      "id": "02754411",
      "metadata": {
        "id": "02754411",
        "outputId": "b1e5e7de-b956-43d2-8605-9af1c0e62fdc",
        "colab": {
          "base_uri": "https://localhost:8080/"
        }
      },
      "outputs": [
        {
          "output_type": "stream",
          "name": "stdout",
          "text": [
            "amigos\n"
          ]
        }
      ],
      "source": [
        "palabra = 'sogima'\n",
        "print(palabra[::-1])             # reverso de una palabra"
      ]
    },
    {
      "cell_type": "markdown",
      "id": "6ebd9f36",
      "metadata": {
        "id": "6ebd9f36"
      },
      "source": [
        "## Cadena completa"
      ]
    },
    {
      "cell_type": "code",
      "execution_count": 10,
      "id": "f8986d61",
      "metadata": {
        "id": "f8986d61",
        "outputId": "c9a3de5c-7c88-4620-8c4d-6df9aacaa894",
        "colab": {
          "base_uri": "https://localhost:8080/",
          "height": 35
        }
      },
      "outputs": [
        {
          "output_type": "execute_result",
          "data": {
            "text/plain": [
              "'Buenos Aires'"
            ],
            "application/vnd.google.colaboratory.intrinsic+json": {
              "type": "string"
            }
          },
          "metadata": {},
          "execution_count": 10
        }
      ],
      "source": [
        "ciudad[:]"
      ]
    },
    {
      "cell_type": "code",
      "execution_count": 11,
      "id": "e77c08ec",
      "metadata": {
        "id": "e77c08ec",
        "outputId": "30ae3e25-f873-455a-8f3b-7daf98d6f936",
        "colab": {
          "base_uri": "https://localhost:8080/",
          "height": 35
        }
      },
      "outputs": [
        {
          "output_type": "execute_result",
          "data": {
            "text/plain": [
              "'Buenos Aires'"
            ],
            "application/vnd.google.colaboratory.intrinsic+json": {
              "type": "string"
            }
          },
          "metadata": {},
          "execution_count": 11
        }
      ],
      "source": [
        "ciudad[:5] + ciudad[5:]"
      ]
    },
    {
      "cell_type": "markdown",
      "id": "2a42e01c",
      "metadata": {
        "id": "2a42e01c"
      },
      "source": [
        "## Las cadenas son inmutables\n",
        "Si intentamos cambiar un carácter nos dará error."
      ]
    },
    {
      "cell_type": "code",
      "execution_count": 12,
      "id": "63de3245",
      "metadata": {
        "id": "63de3245"
      },
      "outputs": [],
      "source": [
        "#ciudad[0] = 'G'                 # TypeError: 'str' object does not support item assignment"
      ]
    },
    {
      "cell_type": "markdown",
      "id": "30d567f1",
      "metadata": {
        "id": "30d567f1"
      },
      "source": [
        "Esto no es un gran inconveniente ya que podemos conseguirlo con slicing."
      ]
    },
    {
      "cell_type": "code",
      "execution_count": 13,
      "id": "b7ee4486",
      "metadata": {
        "id": "b7ee4486",
        "outputId": "f6563516-fc52-4ee4-c3e6-ab4b1696e256",
        "colab": {
          "base_uri": "https://localhost:8080/",
          "height": 35
        }
      },
      "outputs": [
        {
          "output_type": "execute_result",
          "data": {
            "text/plain": [
              "'Guenos Aires'"
            ],
            "application/vnd.google.colaboratory.intrinsic+json": {
              "type": "string"
            }
          },
          "metadata": {},
          "execution_count": 13
        }
      ],
      "source": [
        "ciudad=\"G\" + ciudad[1:]\n",
        "ciudad"
      ]
    }
  ],
  "metadata": {
    "kernelspec": {
      "display_name": "Python 3 (ipykernel)",
      "language": "python",
      "name": "python3"
    },
    "language_info": {
      "codemirror_mode": {
        "name": "ipython",
        "version": 3
      },
      "file_extension": ".py",
      "mimetype": "text/x-python",
      "name": "python",
      "nbconvert_exporter": "python",
      "pygments_lexer": "ipython3",
      "version": "3.8.11"
    },
    "colab": {
      "name": "calisto1_0140.ipynb",
      "provenance": [],
      "include_colab_link": true
    }
  },
  "nbformat": 4,
  "nbformat_minor": 5
}