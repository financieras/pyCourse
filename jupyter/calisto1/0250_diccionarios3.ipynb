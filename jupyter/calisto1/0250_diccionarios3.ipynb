{
  "cells": [
    {
      "cell_type": "markdown",
      "metadata": {
        "id": "view-in-github",
        "colab_type": "text"
      },
      "source": [
        "<a href=\"https://colab.research.google.com/github/financieras/pyCourse/blob/main/jupyter/calisto1_0250.ipynb\" target=\"_parent\"><img src=\"https://colab.research.google.com/assets/colab-badge.svg\" alt=\"Open In Colab\"/></a>"
      ]
    },
    {
      "cell_type": "markdown",
      "id": "d53062c2",
      "metadata": {
        "id": "d53062c2"
      },
      "source": [
        "# Diccionarios [3]  \n",
        "## Diccionarios anidados"
      ]
    },
    {
      "cell_type": "code",
      "execution_count": null,
      "id": "a31711ca",
      "metadata": {
        "id": "a31711ca"
      },
      "outputs": [],
      "source": [
        "amigos = {\n",
        "  \"colega1\" : {\n",
        "    \"nombre\" : \"Pedro\",\n",
        "    \"año\" : 2001\n",
        "  },\n",
        "  \"colega2\" : {\n",
        "    \"nombre\" : \"Silvia\",\n",
        "    \"año\" : 2004\n",
        "  },\n",
        "  \"colega3\" : {\n",
        "    \"nombre\" : \"Isa\",\n",
        "    \"año\" : 2003\n",
        "  }\n",
        "}\n",
        "amigos"
      ]
    },
    {
      "cell_type": "markdown",
      "id": "801be72c",
      "metadata": {
        "id": "801be72c"
      },
      "source": [
        "## Diccionario de diccionarios  \n",
        "Podemos crear varios diccionarios y otro que los contenga."
      ]
    },
    {
      "cell_type": "code",
      "execution_count": null,
      "id": "f282b8b8",
      "metadata": {
        "id": "f282b8b8"
      },
      "outputs": [],
      "source": [
        "Intel = {\"gama\":\"i3\", \"precio\":120}\n",
        "AMD = {\"gama\":\"Ryzen3\", \"precio\":90}\n",
        "micros = {\"marca1\":Intel, \"marca2\":AMD}\n",
        "micros"
      ]
    },
    {
      "cell_type": "code",
      "execution_count": null,
      "id": "89296251",
      "metadata": {
        "id": "89296251"
      },
      "outputs": [],
      "source": [
        "micros.keys()"
      ]
    },
    {
      "cell_type": "code",
      "execution_count": null,
      "id": "b3bb1e91",
      "metadata": {
        "id": "b3bb1e91"
      },
      "outputs": [],
      "source": [
        "micros.values()"
      ]
    },
    {
      "cell_type": "markdown",
      "id": "1c1b56ef",
      "metadata": {
        "id": "1c1b56ef"
      },
      "source": [
        "## Crear un diccionario usando listas"
      ]
    },
    {
      "cell_type": "code",
      "execution_count": null,
      "id": "023b5e53",
      "metadata": {
        "id": "023b5e53"
      },
      "outputs": [],
      "source": [
        "k = ['a', 'b', 'c']\n",
        "v = list(range(1,4))          # [1, 2, 3]\n",
        "print(dict(zip(k,v)))         # {'a': 1, 'b': 2, 'c': 3}        diccionario\n",
        "print(set(zip(k,v)))          # {('b',2),('c',3),('a',1)}       conjunto"
      ]
    },
    {
      "cell_type": "markdown",
      "id": "7c2b0027",
      "metadata": {
        "id": "7c2b0027"
      },
      "source": [
        "## Ejercicio  \n",
        "Crear un diccionario partiendo de una lista de países y otra lista con sus capitales.  \n",
        "Lugo invertir clave y valor."
      ]
    },
    {
      "cell_type": "markdown",
      "id": "84655f3f",
      "metadata": {
        "id": "84655f3f"
      },
      "source": [
        "### Solución"
      ]
    },
    {
      "cell_type": "code",
      "execution_count": null,
      "id": "30df9aa1",
      "metadata": {
        "id": "30df9aa1"
      },
      "outputs": [],
      "source": [
        "geo = {'Francia':'París',\n",
        "       'Italia':'Roma',\n",
        "       'Portugal':'Lisboa',\n",
        "       'España':'Madrid',\n",
        "       'Alemania':'Berlín'}\n",
        "paises = list(geo)\n",
        "paises"
      ]
    },
    {
      "cell_type": "code",
      "execution_count": null,
      "id": "7695a244",
      "metadata": {
        "id": "7695a244"
      },
      "outputs": [],
      "source": [
        "capitales = list(geo.values())   # con list podemos convertir el objeto en una lista\n",
        "capitales"
      ]
    },
    {
      "cell_type": "code",
      "execution_count": null,
      "id": "5173edb7",
      "metadata": {
        "id": "5173edb7"
      },
      "outputs": [],
      "source": [
        "type(capitales)                  # comprobamos que se trata de una lista"
      ]
    },
    {
      "cell_type": "markdown",
      "id": "e8b4b60d",
      "metadata": {
        "id": "e8b4b60d"
      },
      "source": [
        "Tenemos dos listas, países y capitales, con las que podemos montar el diccionario de una forma o de otra. Esto es, siendo la clave los países o siendo la clave las capitales."
      ]
    },
    {
      "cell_type": "markdown",
      "id": "373d53c3",
      "metadata": {
        "id": "373d53c3"
      },
      "source": [
        "#### Diccionario siendo la clave los países"
      ]
    },
    {
      "cell_type": "code",
      "execution_count": null,
      "id": "ab124ba1",
      "metadata": {
        "id": "ab124ba1"
      },
      "outputs": [],
      "source": [
        "geo = {}              # no es necesario, pero inicializamos el diccionario geo\n",
        "k = paises\n",
        "v = capitales\n",
        "geo = dict(zip(k,v))\n",
        "geo"
      ]
    },
    {
      "cell_type": "markdown",
      "id": "2cbdcd31",
      "metadata": {
        "id": "2cbdcd31"
      },
      "source": [
        "#### Diccionario siendo la clave las capitales"
      ]
    },
    {
      "cell_type": "code",
      "execution_count": null,
      "id": "d868e1a4",
      "metadata": {
        "id": "d868e1a4"
      },
      "outputs": [],
      "source": [
        "geo = {}              # no es necesario, pero inicializamos el diccionario geo\n",
        "k = capitales\n",
        "v = paises\n",
        "geo = dict(zip(k,v))\n",
        "geo"
      ]
    }
  ],
  "metadata": {
    "kernelspec": {
      "display_name": "Python 3",
      "language": "python",
      "name": "python3"
    },
    "language_info": {
      "codemirror_mode": {
        "name": "ipython",
        "version": 3
      },
      "file_extension": ".py",
      "mimetype": "text/x-python",
      "name": "python",
      "nbconvert_exporter": "python",
      "pygments_lexer": "ipython3",
      "version": "3.8.8"
    },
    "colab": {
      "name": "0250_diccionarios3.ipynb",
      "provenance": [],
      "include_colab_link": true
    }
  },
  "nbformat": 4,
  "nbformat_minor": 5
}
