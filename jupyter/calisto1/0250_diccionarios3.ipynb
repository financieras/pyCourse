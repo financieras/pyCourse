{
  "cells": [
    {
      "cell_type": "markdown",
      "metadata": {
        "id": "view-in-github",
        "colab_type": "text"
      },
      "source": [
        "<a href=\"https://colab.research.google.com/github/financieras/pyCourse/blob/main/jupyter/calisto1/0250_diccionarios3.ipynb\" target=\"_parent\"><img src=\"https://colab.research.google.com/assets/colab-badge.svg\" alt=\"Open In Colab\"/></a>"
      ]
    },
    {
      "cell_type": "markdown",
      "id": "d53062c2",
      "metadata": {
        "id": "d53062c2"
      },
      "source": [
        "# Diccionarios [3]  \n",
        "## Diccionarios anidados"
      ]
    },
    {
      "cell_type": "code",
      "execution_count": 1,
      "id": "a31711ca",
      "metadata": {
        "id": "a31711ca",
        "outputId": "9f9a4bc7-e414-4034-da65-231174366bf3",
        "colab": {
          "base_uri": "https://localhost:8080/"
        }
      },
      "outputs": [
        {
          "output_type": "execute_result",
          "data": {
            "text/plain": [
              "{'colega1': {'nombre': 'Pedro', 'año': 2001},\n",
              " 'colega2': {'nombre': 'Silvia', 'año': 2004},\n",
              " 'colega3': {'nombre': 'Isa', 'año': 2003}}"
            ]
          },
          "metadata": {},
          "execution_count": 1
        }
      ],
      "source": [
        "amigos = {\n",
        "  \"colega1\" : {\n",
        "    \"nombre\" : \"Pedro\",\n",
        "    \"año\" : 2001\n",
        "  },\n",
        "  \"colega2\" : {\n",
        "    \"nombre\" : \"Silvia\",\n",
        "    \"año\" : 2004\n",
        "  },\n",
        "  \"colega3\" : {\n",
        "    \"nombre\" : \"Isa\",\n",
        "    \"año\" : 2003\n",
        "  }\n",
        "}\n",
        "\n",
        "amigos"
      ]
    },
    {
      "cell_type": "markdown",
      "id": "801be72c",
      "metadata": {
        "id": "801be72c"
      },
      "source": [
        "## Diccionario de diccionarios  \n",
        "Podemos crear varios diccionarios y otro que los contenga."
      ]
    },
    {
      "cell_type": "code",
      "execution_count": 2,
      "id": "f282b8b8",
      "metadata": {
        "id": "f282b8b8",
        "outputId": "9a7a08be-698a-472f-bca0-3cbb5eb9cad0",
        "colab": {
          "base_uri": "https://localhost:8080/"
        }
      },
      "outputs": [
        {
          "output_type": "execute_result",
          "data": {
            "text/plain": [
              "{'marca1': {'gama': 'i3', 'precio': 120},\n",
              " 'marca2': {'gama': 'Ryzen3', 'precio': 90}}"
            ]
          },
          "metadata": {},
          "execution_count": 2
        }
      ],
      "source": [
        "Intel = {\"gama\":\"i3\", \"precio\":120}\n",
        "AMD = {\"gama\":\"Ryzen3\", \"precio\":90}\n",
        "micros = {\"marca1\":Intel, \"marca2\":AMD}\n",
        "\n",
        "micros"
      ]
    },
    {
      "cell_type": "code",
      "execution_count": 3,
      "id": "89296251",
      "metadata": {
        "id": "89296251",
        "outputId": "c0315418-6a9f-4220-d46a-bb9d3df1de09",
        "colab": {
          "base_uri": "https://localhost:8080/"
        }
      },
      "outputs": [
        {
          "output_type": "execute_result",
          "data": {
            "text/plain": [
              "dict_keys(['marca1', 'marca2'])"
            ]
          },
          "metadata": {},
          "execution_count": 3
        }
      ],
      "source": [
        "micros.keys()"
      ]
    },
    {
      "cell_type": "code",
      "execution_count": 4,
      "id": "b3bb1e91",
      "metadata": {
        "id": "b3bb1e91",
        "outputId": "8dabe692-562d-45c1-debe-a8aa7a65b3de",
        "colab": {
          "base_uri": "https://localhost:8080/"
        }
      },
      "outputs": [
        {
          "output_type": "execute_result",
          "data": {
            "text/plain": [
              "dict_values([{'gama': 'i3', 'precio': 120}, {'gama': 'Ryzen3', 'precio': 90}])"
            ]
          },
          "metadata": {},
          "execution_count": 4
        }
      ],
      "source": [
        "micros.values()"
      ]
    },
    {
      "cell_type": "markdown",
      "id": "1c1b56ef",
      "metadata": {
        "id": "1c1b56ef"
      },
      "source": [
        "## Crear un diccionario usando listas"
      ]
    },
    {
      "cell_type": "code",
      "execution_count": 5,
      "id": "023b5e53",
      "metadata": {
        "id": "023b5e53",
        "outputId": "e7a73c02-e6cb-4e9c-9686-0f71b9c6fc30",
        "colab": {
          "base_uri": "https://localhost:8080/"
        }
      },
      "outputs": [
        {
          "output_type": "stream",
          "name": "stdout",
          "text": [
            "{'a': 1, 'b': 2, 'c': 3}\n",
            "{('a', 1), ('b', 2), ('c', 3)}\n"
          ]
        }
      ],
      "source": [
        "k = ['a', 'b', 'c']\n",
        "v = list(range(1,4))          # [1, 2, 3]\n",
        "\n",
        "print(dict(zip(k,v)))         # {'a': 1, 'b': 2, 'c': 3}        diccionario\n",
        "print(set(zip(k,v)))          # {('b',2),('c',3),('a',1)}       conjunto"
      ]
    },
    {
      "cell_type": "markdown",
      "id": "7c2b0027",
      "metadata": {
        "id": "7c2b0027"
      },
      "source": [
        "## Ejercicio  \n",
        "Crear un diccionario partiendo de una lista de países y otra lista con sus capitales.  \n",
        "Lugo invertir clave y valor."
      ]
    },
    {
      "cell_type": "markdown",
      "id": "84655f3f",
      "metadata": {
        "id": "84655f3f"
      },
      "source": [
        "### Solución"
      ]
    },
    {
      "cell_type": "code",
      "execution_count": 6,
      "id": "30df9aa1",
      "metadata": {
        "id": "30df9aa1",
        "outputId": "4241beea-07e6-4082-c131-b18c12ec9324",
        "colab": {
          "base_uri": "https://localhost:8080/"
        }
      },
      "outputs": [
        {
          "output_type": "execute_result",
          "data": {
            "text/plain": [
              "['Francia', 'Italia', 'Portugal', 'España', 'Alemania']"
            ]
          },
          "metadata": {},
          "execution_count": 6
        }
      ],
      "source": [
        "geo = {'Francia':'París',\n",
        "       'Italia':'Roma',\n",
        "       'Portugal':'Lisboa',\n",
        "       'España':'Madrid',\n",
        "       'Alemania':'Berlín'}\n",
        "\n",
        "paises = list(geo)\n",
        "\n",
        "paises"
      ]
    },
    {
      "cell_type": "code",
      "execution_count": 7,
      "id": "7695a244",
      "metadata": {
        "id": "7695a244",
        "outputId": "79b270ac-aeed-497d-f54f-306dcd025918",
        "colab": {
          "base_uri": "https://localhost:8080/"
        }
      },
      "outputs": [
        {
          "output_type": "execute_result",
          "data": {
            "text/plain": [
              "['París', 'Roma', 'Lisboa', 'Madrid', 'Berlín']"
            ]
          },
          "metadata": {},
          "execution_count": 7
        }
      ],
      "source": [
        "capitales = list(geo.values())   # con list podemos convertir el objeto en una lista\n",
        "\n",
        "capitales"
      ]
    },
    {
      "cell_type": "code",
      "execution_count": 8,
      "id": "5173edb7",
      "metadata": {
        "id": "5173edb7",
        "outputId": "504465c7-df8d-4507-ef43-269475b9a819",
        "colab": {
          "base_uri": "https://localhost:8080/"
        }
      },
      "outputs": [
        {
          "output_type": "execute_result",
          "data": {
            "text/plain": [
              "list"
            ]
          },
          "metadata": {},
          "execution_count": 8
        }
      ],
      "source": [
        "type(capitales)                  # comprobamos que se trata de una lista"
      ]
    },
    {
      "cell_type": "markdown",
      "id": "e8b4b60d",
      "metadata": {
        "id": "e8b4b60d"
      },
      "source": [
        "Tenemos dos listas, países y capitales, con las que podemos montar el diccionario de una forma o de otra. Esto es, siendo la clave los países o siendo la clave las capitales."
      ]
    },
    {
      "cell_type": "markdown",
      "id": "373d53c3",
      "metadata": {
        "id": "373d53c3"
      },
      "source": [
        "#### Diccionario siendo la clave los países"
      ]
    },
    {
      "cell_type": "code",
      "execution_count": 9,
      "id": "ab124ba1",
      "metadata": {
        "id": "ab124ba1",
        "outputId": "a4ea7ec4-7d60-410d-89d1-9d22877b5570",
        "colab": {
          "base_uri": "https://localhost:8080/"
        }
      },
      "outputs": [
        {
          "output_type": "execute_result",
          "data": {
            "text/plain": [
              "{'Francia': 'París',\n",
              " 'Italia': 'Roma',\n",
              " 'Portugal': 'Lisboa',\n",
              " 'España': 'Madrid',\n",
              " 'Alemania': 'Berlín'}"
            ]
          },
          "metadata": {},
          "execution_count": 9
        }
      ],
      "source": [
        "geo = {}              # no es necesario, pero inicializamos el diccionario geo\n",
        "k = paises\n",
        "v = capitales\n",
        "\n",
        "geo = dict(zip(k,v))\n",
        "\n",
        "geo"
      ]
    },
    {
      "cell_type": "markdown",
      "id": "2cbdcd31",
      "metadata": {
        "id": "2cbdcd31"
      },
      "source": [
        "#### Diccionario siendo la clave las capitales"
      ]
    },
    {
      "cell_type": "code",
      "execution_count": 10,
      "id": "d868e1a4",
      "metadata": {
        "id": "d868e1a4",
        "outputId": "945463ec-91d7-40d9-b3e2-a52eeaec70bb",
        "colab": {
          "base_uri": "https://localhost:8080/"
        }
      },
      "outputs": [
        {
          "output_type": "execute_result",
          "data": {
            "text/plain": [
              "{'París': 'Francia',\n",
              " 'Roma': 'Italia',\n",
              " 'Lisboa': 'Portugal',\n",
              " 'Madrid': 'España',\n",
              " 'Berlín': 'Alemania'}"
            ]
          },
          "metadata": {},
          "execution_count": 10
        }
      ],
      "source": [
        "geo = {}              # no es necesario, pero inicializamos el diccionario geo\n",
        "k = capitales\n",
        "v = paises\n",
        "\n",
        "geo = dict(zip(k,v))\n",
        "\n",
        "geo"
      ]
    }
  ],
  "metadata": {
    "kernelspec": {
      "display_name": "Python 3",
      "language": "python",
      "name": "python3"
    },
    "language_info": {
      "codemirror_mode": {
        "name": "ipython",
        "version": 3
      },
      "file_extension": ".py",
      "mimetype": "text/x-python",
      "name": "python",
      "nbconvert_exporter": "python",
      "pygments_lexer": "ipython3",
      "version": "3.8.8"
    },
    "colab": {
      "name": "calisto1_0250.ipynb",
      "provenance": [],
      "include_colab_link": true
    }
  },
  "nbformat": 4,
  "nbformat_minor": 5
}