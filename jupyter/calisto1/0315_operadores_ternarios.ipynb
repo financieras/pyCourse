{
  "nbformat": 4,
  "nbformat_minor": 0,
  "metadata": {
    "colab": {
      "name": "0315_operadores_ternarios.ipynb",
      "provenance": [],
      "authorship_tag": "ABX9TyO9nLr8rKjpVY+5+wD0S5cF",
      "include_colab_link": true
    },
    "kernelspec": {
      "name": "python3",
      "display_name": "Python 3"
    },
    "language_info": {
      "name": "python"
    }
  },
  "cells": [
    {
      "cell_type": "markdown",
      "metadata": {
        "id": "view-in-github",
        "colab_type": "text"
      },
      "source": [
        "<a href=\"https://colab.research.google.com/github/financieras/pyCourse/blob/main/jupyter/0315_operadores_ternarios.ipynb\" target=\"_parent\"><img src=\"https://colab.research.google.com/assets/colab-badge.svg\" alt=\"Open In Colab\"/></a>"
      ]
    },
    {
      "cell_type": "markdown",
      "source": [
        "# Operadores ternarios\n",
        "Son otra forma de codificar los condicionales ```if```...```else```"
      ],
      "metadata": {
        "id": "UDvp1-iBuciD"
      }
    },
    {
      "cell_type": "markdown",
      "source": [
        "## Sintaxis\n",
        "resultado_si_True ```if``` condición ```else``` resultado_si_False\n",
        "\n",
        "Se puede analizar una condición en una sola línea de código."
      ],
      "metadata": {
        "id": "imwHRa2Gvzve"
      }
    },
    {
      "cell_type": "code",
      "execution_count": null,
      "metadata": {
        "id": "T6b-dAtXtsi-"
      },
      "outputs": [],
      "source": [
        "# Un condicional típico sin aplicar el operador ternario\n",
        "\n",
        "x = 5\n",
        "\n",
        "if x % 2 == 0:\n",
        "    print(\"es par\")\n",
        "else:\n",
        "    print(\"es impar\")"
      ]
    },
    {
      "cell_type": "code",
      "source": [
        "# Usando un operador ternario\n",
        "\n",
        "x = 5\n",
        "\n",
        "print('es par') if x % 2 == 0 else print('es impar')"
      ],
      "metadata": {
        "id": "y8SIQGBSvELN"
      },
      "execution_count": null,
      "outputs": []
    },
    {
      "cell_type": "markdown",
      "source": [
        "### Todo en un solo ```print```"
      ],
      "metadata": {
        "id": "AnBxmDcNUmen"
      }
    },
    {
      "cell_type": "code",
      "source": [
        "print('es par' if x % 2 == 0 else 'es impar')"
      ],
      "metadata": {
        "id": "UNB3fwjoUcZ3"
      },
      "execution_count": null,
      "outputs": []
    },
    {
      "cell_type": "markdown",
      "source": [
        "#### Abreviando un poco más"
      ],
      "metadata": {
        "id": "3OdwsdpuXVl1"
      }
    },
    {
      "cell_type": "code",
      "source": [
        "print('es impar' if x % 2 else 'es par')"
      ],
      "metadata": {
        "id": "pB9zZWmWXO6l"
      },
      "execution_count": null,
      "outputs": []
    },
    {
      "cell_type": "markdown",
      "source": [
        "### Ejemplo sin print"
      ],
      "metadata": {
        "id": "45vDPQXZxBU5"
      }
    },
    {
      "cell_type": "code",
      "source": [
        "encendido = True\n",
        "estado = \"el led luce\" if encendido else \"el led está apagado\"\n",
        "estado"
      ],
      "metadata": {
        "id": "iUD1j653xEtA"
      },
      "execution_count": null,
      "outputs": []
    },
    {
      "cell_type": "markdown",
      "source": [
        "## Asignación a una variable"
      ],
      "metadata": {
        "id": "9ZBbah6G1J1V"
      }
    },
    {
      "cell_type": "code",
      "source": [
        "edad = 20\n",
        "\n",
        "mayor = 'Si' if edad >= 18 else 'No'\n",
        "\n",
        "print(f\"{mayor} es mayor de edad\")"
      ],
      "metadata": {
        "id": "bDtoPmxX1OEj"
      },
      "execution_count": null,
      "outputs": []
    },
    {
      "cell_type": "markdown",
      "source": [
        "## Con una función\n",
        "La asignación de valor puede usarse en una función o un método."
      ],
      "metadata": {
        "id": "Fk92ElTR1-1T"
      }
    },
    {
      "cell_type": "code",
      "source": [
        "# este es el código sin aplicar el operador ternario\n",
        "\n",
        "def mayor(edad):\n",
        "    if edad >= 18:\n",
        "        return 'Si'\n",
        "    return 'No'\n",
        "\n",
        "edad = 16\n",
        "\n",
        "print(f\"{mayor(edad)} es mayor de edad\")"
      ],
      "metadata": {
        "id": "Ha-08Hsj2OCk"
      },
      "execution_count": null,
      "outputs": []
    },
    {
      "cell_type": "code",
      "source": [
        "# este es el código con el operador ternario\n",
        "\n",
        "def mayor(edad):\n",
        "    return 'Si' if edad >= 18 else 'No'\n",
        "\n",
        "edad = 16\n",
        "\n",
        "print(f\"{mayor(edad)} es mayor de edad\")"
      ],
      "metadata": {
        "id": "oljlUHiC29W6"
      },
      "execution_count": null,
      "outputs": []
    },
    {
      "cell_type": "markdown",
      "source": [
        "La función ahora tiene un único ```return``` que devuelve el resultado de analizar el operador ternario."
      ],
      "metadata": {
        "id": "IxN07YiA4JQX"
      }
    },
    {
      "cell_type": "markdown",
      "source": [
        "## Tupla de dos elementos\n",
        "* El primer elemento es de índice 0\n",
        "* El segundo elemento es de índice 1\n",
        "* Un True es un 1 y un False es un 0"
      ],
      "metadata": {
        "id": "FjeLRdnSL8GS"
      }
    },
    {
      "cell_type": "code",
      "source": [
        "a = 9\n",
        "b = 4\n",
        "\n",
        "mayor = (b,a)[a>b]\n",
        "\n",
        "print(f\"El mayor es {mayor}\")"
      ],
      "metadata": {
        "id": "qTk_suUvMejN"
      },
      "execution_count": null,
      "outputs": []
    },
    {
      "cell_type": "markdown",
      "source": [
        "También funciona con una lista de dos elementos, el primero para la opción False y el segundo para la opción True."
      ],
      "metadata": {
        "id": "9LYjeT2HM7za"
      }
    },
    {
      "cell_type": "markdown",
      "source": [
        "### Aplicando el operador ternario y el operador morsa\n",
        "Podemos conseguirlo en una sola línea.  \n",
        "No es que sea el código más *pitónico* del mundo, pero funciona desde la versión Python 3.8 en adelante."
      ],
      "metadata": {
        "id": "y0kPfzjeVPH8"
      }
    },
    {
      "cell_type": "code",
      "source": [
        "print(f\"El mayor es {((b:=4),(a:=9))[a>b]}\")"
      ],
      "metadata": {
        "id": "Vr8RKJzBVtU0"
      },
      "execution_count": null,
      "outputs": []
    },
    {
      "cell_type": "markdown",
      "source": [
        "## The Walrus Operator (El operador morsa)\n",
        "* Permite asignar un valor a una variable en la misma línea en la que estamos ya usando esa variable.\n",
        "* Disponible desde la versión Python 3.8"
      ],
      "metadata": {
        "id": "_v1sLdizONXm"
      }
    },
    {
      "cell_type": "code",
      "source": [
        "# veamos la versión de Python que estamos utilizando en Google Colab\n",
        "from platform import python_version\n",
        "print(python_version())"
      ],
      "metadata": {
        "id": "VUfTm642NlPj"
      },
      "execution_count": null,
      "outputs": []
    },
    {
      "cell_type": "markdown",
      "source": [
        "### Ejemplo 1\n",
        "#### Sin el operador morsa"
      ],
      "metadata": {
        "id": "RvdQhKX2Q7dB"
      }
    },
    {
      "cell_type": "code",
      "source": [
        "a = 8\n",
        "if a > 5:\n",
        "    print(\"Es mayor\")"
      ],
      "metadata": {
        "id": "LVml467lOk6b"
      },
      "execution_count": null,
      "outputs": []
    },
    {
      "cell_type": "markdown",
      "source": [
        "#### Con el operador morsa funcionando"
      ],
      "metadata": {
        "id": "Ac_DXO4xRDGo"
      }
    },
    {
      "cell_type": "code",
      "source": [
        "if a:=8>5:\n",
        "  print(\"Es mayor\")"
      ],
      "metadata": {
        "id": "rNM2mTbcRT9W"
      },
      "execution_count": null,
      "outputs": []
    },
    {
      "cell_type": "markdown",
      "source": [
        "### Ejemplo 2\n",
        "#### Sin el operador morsa"
      ],
      "metadata": {
        "id": "R1jT5tk9Rlx_"
      }
    },
    {
      "cell_type": "code",
      "source": [
        "from random import randint\n",
        "n = randint(0, 10)\n",
        "\n",
        "if n >= 5:\n",
        "    print(f\"Con un {n} está Aprobado\")\n",
        "else:\n",
        "    print(f\"Con un {n} está Suspenso\")"
      ],
      "metadata": {
        "id": "qtln2XkvRrcx"
      },
      "execution_count": null,
      "outputs": []
    },
    {
      "cell_type": "markdown",
      "source": [
        "#### Con el operador morsa funcionando"
      ],
      "metadata": {
        "id": "Fpm32zZMTIFm"
      }
    },
    {
      "cell_type": "code",
      "source": [
        "print(f\"Con un {n} está Aprobado\" if (n := randint(0, 10)) >= 5 else (f\"Con un {n} está Suspenso\"))"
      ],
      "metadata": {
        "id": "Iw6XF1tOTM2c"
      },
      "execution_count": null,
      "outputs": []
    }
  ]
}
