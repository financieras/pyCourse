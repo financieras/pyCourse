{
  "nbformat": 4,
  "nbformat_minor": 0,
  "metadata": {
    "colab": {
      "name": "0315_operadores_ternarios.ipynb",
      "provenance": [],
      "authorship_tag": "ABX9TyO9nLr8rKjpVY+5+wD0S5cF",
      "include_colab_link": true
    },
    "kernelspec": {
      "name": "python3",
      "display_name": "Python 3"
    },
    "language_info": {
      "name": "python"
    }
  },
  "cells": [
    {
      "cell_type": "markdown",
      "metadata": {
        "id": "view-in-github",
        "colab_type": "text"
      },
      "source": [
        "<a href=\"https://colab.research.google.com/github/financieras/pyCourse/blob/main/jupyter/calisto1/0315_operadores_ternarios.ipynb\" target=\"_parent\"><img src=\"https://colab.research.google.com/assets/colab-badge.svg\" alt=\"Open In Colab\"/></a>"
      ]
    },
    {
      "cell_type": "markdown",
      "source": [
        "# Operadores ternarios\n",
        "Son otra forma de codificar los condicionales ```if```...```else```"
      ],
      "metadata": {
        "id": "UDvp1-iBuciD"
      }
    },
    {
      "cell_type": "markdown",
      "source": [
        "## Sintaxis\n",
        "resultado_si_True ```if``` condición ```else``` resultado_si_False\n",
        "\n",
        "Se puede analizar una condición en una sola línea de código."
      ],
      "metadata": {
        "id": "imwHRa2Gvzve"
      }
    },
    {
      "cell_type": "code",
      "execution_count": 1,
      "metadata": {
        "id": "T6b-dAtXtsi-",
        "outputId": "79b9f1e0-5f34-4fb3-f23b-4598cd21c8ea",
        "colab": {
          "base_uri": "https://localhost:8080/"
        }
      },
      "outputs": [
        {
          "output_type": "stream",
          "name": "stdout",
          "text": [
            "es impar\n"
          ]
        }
      ],
      "source": [
        "# Un condicional típico sin aplicar el operador ternario\n",
        "\n",
        "x = 5\n",
        "\n",
        "if x % 2 == 0:\n",
        "    print(\"es par\")\n",
        "else:\n",
        "    print(\"es impar\")"
      ]
    },
    {
      "cell_type": "code",
      "source": [
        "# Usando un operador ternario\n",
        "\n",
        "x = 5\n",
        "\n",
        "print('es par') if x % 2 == 0 else print('es impar')"
      ],
      "metadata": {
        "id": "y8SIQGBSvELN",
        "outputId": "651fd4d1-40d7-446c-bc87-056f19fc00d2",
        "colab": {
          "base_uri": "https://localhost:8080/"
        }
      },
      "execution_count": 2,
      "outputs": [
        {
          "output_type": "stream",
          "name": "stdout",
          "text": [
            "es impar\n"
          ]
        }
      ]
    },
    {
      "cell_type": "markdown",
      "source": [
        "### Todo en un solo ```print```"
      ],
      "metadata": {
        "id": "AnBxmDcNUmen"
      }
    },
    {
      "cell_type": "code",
      "source": [
        "print('es par' if x % 2 == 0 else 'es impar')"
      ],
      "metadata": {
        "id": "UNB3fwjoUcZ3",
        "outputId": "2bd63afe-fb39-474f-d545-4cdab671dbf0",
        "colab": {
          "base_uri": "https://localhost:8080/"
        }
      },
      "execution_count": 3,
      "outputs": [
        {
          "output_type": "stream",
          "name": "stdout",
          "text": [
            "es impar\n"
          ]
        }
      ]
    },
    {
      "cell_type": "markdown",
      "source": [
        "#### Abreviando un poco más"
      ],
      "metadata": {
        "id": "3OdwsdpuXVl1"
      }
    },
    {
      "cell_type": "code",
      "source": [
        "print('es impar' if x % 2 else 'es par')"
      ],
      "metadata": {
        "id": "pB9zZWmWXO6l",
        "outputId": "69917bff-2ed4-45cc-d210-ae7508db42a9",
        "colab": {
          "base_uri": "https://localhost:8080/"
        }
      },
      "execution_count": 4,
      "outputs": [
        {
          "output_type": "stream",
          "name": "stdout",
          "text": [
            "es impar\n"
          ]
        }
      ]
    },
    {
      "cell_type": "markdown",
      "source": [
        "### Ejemplo sin print"
      ],
      "metadata": {
        "id": "45vDPQXZxBU5"
      }
    },
    {
      "cell_type": "code",
      "source": [
        "encendido = True\n",
        "estado = \"el led luce\" if encendido else \"el led está apagado\"\n",
        "estado"
      ],
      "metadata": {
        "id": "iUD1j653xEtA",
        "outputId": "243affb4-5a6c-4a11-9fbb-52af6a2d2126",
        "colab": {
          "base_uri": "https://localhost:8080/",
          "height": 35
        }
      },
      "execution_count": 5,
      "outputs": [
        {
          "output_type": "execute_result",
          "data": {
            "text/plain": [
              "'el led luce'"
            ],
            "application/vnd.google.colaboratory.intrinsic+json": {
              "type": "string"
            }
          },
          "metadata": {},
          "execution_count": 5
        }
      ]
    },
    {
      "cell_type": "markdown",
      "source": [
        "## Asignación a una variable"
      ],
      "metadata": {
        "id": "9ZBbah6G1J1V"
      }
    },
    {
      "cell_type": "code",
      "source": [
        "edad = 20\n",
        "\n",
        "mayor = 'Si' if edad >= 18 else 'No'\n",
        "\n",
        "print(f\"{mayor} es mayor de edad\")"
      ],
      "metadata": {
        "id": "bDtoPmxX1OEj",
        "outputId": "5aff79ef-f08e-4f9e-db4c-d1425868b0c4",
        "colab": {
          "base_uri": "https://localhost:8080/"
        }
      },
      "execution_count": 6,
      "outputs": [
        {
          "output_type": "stream",
          "name": "stdout",
          "text": [
            "Si es mayor de edad\n"
          ]
        }
      ]
    },
    {
      "cell_type": "markdown",
      "source": [
        "## Con una función\n",
        "La asignación de valor puede usarse en una función o un método."
      ],
      "metadata": {
        "id": "Fk92ElTR1-1T"
      }
    },
    {
      "cell_type": "code",
      "source": [
        "# este es el código sin aplicar el operador ternario\n",
        "\n",
        "def mayor(edad):\n",
        "    if edad >= 18:\n",
        "        return 'Si'\n",
        "    return 'No'\n",
        "\n",
        "edad = 16\n",
        "\n",
        "print(f\"{mayor(edad)} es mayor de edad\")"
      ],
      "metadata": {
        "id": "Ha-08Hsj2OCk",
        "outputId": "1baae245-16f0-4365-954b-010199102cd6",
        "colab": {
          "base_uri": "https://localhost:8080/"
        }
      },
      "execution_count": 7,
      "outputs": [
        {
          "output_type": "stream",
          "name": "stdout",
          "text": [
            "No es mayor de edad\n"
          ]
        }
      ]
    },
    {
      "cell_type": "code",
      "source": [
        "# este es el código con el operador ternario\n",
        "\n",
        "def mayor(edad):\n",
        "    return 'Si' if edad >= 18 else 'No'\n",
        "\n",
        "edad = 16\n",
        "\n",
        "print(f\"{mayor(edad)} es mayor de edad\")"
      ],
      "metadata": {
        "id": "oljlUHiC29W6",
        "outputId": "69318823-3762-4085-8dd8-35c5484a0ffc",
        "colab": {
          "base_uri": "https://localhost:8080/"
        }
      },
      "execution_count": 8,
      "outputs": [
        {
          "output_type": "stream",
          "name": "stdout",
          "text": [
            "No es mayor de edad\n"
          ]
        }
      ]
    },
    {
      "cell_type": "markdown",
      "source": [
        "La función ahora tiene un único ```return``` que devuelve el resultado de analizar el operador ternario."
      ],
      "metadata": {
        "id": "IxN07YiA4JQX"
      }
    },
    {
      "cell_type": "markdown",
      "source": [
        "## Tupla de dos elementos\n",
        "* El primer elemento es de índice 0\n",
        "* El segundo elemento es de índice 1\n",
        "* Un True es un 1 y un False es un 0"
      ],
      "metadata": {
        "id": "FjeLRdnSL8GS"
      }
    },
    {
      "cell_type": "code",
      "source": [
        "a = 9\n",
        "b = 4\n",
        "\n",
        "mayor = (b,a)[a>b]\n",
        "\n",
        "print(f\"El mayor es {mayor}\")"
      ],
      "metadata": {
        "id": "qTk_suUvMejN",
        "outputId": "331cd28b-cf2b-4a20-8ef5-7dd499c9c226",
        "colab": {
          "base_uri": "https://localhost:8080/"
        }
      },
      "execution_count": 9,
      "outputs": [
        {
          "output_type": "stream",
          "name": "stdout",
          "text": [
            "El mayor es 9\n"
          ]
        }
      ]
    },
    {
      "cell_type": "markdown",
      "source": [
        "También funciona con una lista de dos elementos, el primero para la opción False y el segundo para la opción True."
      ],
      "metadata": {
        "id": "9LYjeT2HM7za"
      }
    },
    {
      "cell_type": "markdown",
      "source": [
        "### Aplicando el operador ternario y el operador morsa\n",
        "Podemos conseguirlo en una sola línea.  \n",
        "No es que sea el código más *pitónico* del mundo, pero funciona desde la versión Python 3.8 en adelante."
      ],
      "metadata": {
        "id": "y0kPfzjeVPH8"
      }
    },
    {
      "cell_type": "code",
      "source": [
        "print(f\"El mayor es {((b:=4),(a:=9))[a>b]}\")"
      ],
      "metadata": {
        "id": "Vr8RKJzBVtU0",
        "outputId": "961918ea-decd-4e84-f3d4-81f732ca98d6",
        "colab": {
          "base_uri": "https://localhost:8080/"
        }
      },
      "execution_count": 10,
      "outputs": [
        {
          "output_type": "stream",
          "name": "stdout",
          "text": [
            "El mayor es 9\n"
          ]
        }
      ]
    },
    {
      "cell_type": "markdown",
      "source": [
        "## The Walrus Operator (El operador morsa)\n",
        "* Permite asignar un valor a una variable en la misma línea en la que estamos ya usando esa variable.\n",
        "* Disponible desde la versión Python 3.8"
      ],
      "metadata": {
        "id": "_v1sLdizONXm"
      }
    },
    {
      "cell_type": "code",
      "source": [
        "# veamos la versión de Python que estamos utilizando en Google Colab\n",
        "from platform import python_version\n",
        "print(python_version())"
      ],
      "metadata": {
        "id": "VUfTm642NlPj",
        "outputId": "e12d5187-da43-470e-cd50-8b8442aad953",
        "colab": {
          "base_uri": "https://localhost:8080/"
        }
      },
      "execution_count": 11,
      "outputs": [
        {
          "output_type": "stream",
          "name": "stdout",
          "text": [
            "3.10.12\n"
          ]
        }
      ]
    },
    {
      "cell_type": "markdown",
      "source": [
        "### Ejemplo 1\n",
        "#### Sin el operador morsa"
      ],
      "metadata": {
        "id": "RvdQhKX2Q7dB"
      }
    },
    {
      "cell_type": "code",
      "source": [
        "a = 8\n",
        "if a > 5:\n",
        "    print(\"Es mayor\")"
      ],
      "metadata": {
        "id": "LVml467lOk6b",
        "outputId": "539ff947-2765-4b31-dbe6-38eb958daeef",
        "colab": {
          "base_uri": "https://localhost:8080/"
        }
      },
      "execution_count": 12,
      "outputs": [
        {
          "output_type": "stream",
          "name": "stdout",
          "text": [
            "Es mayor\n"
          ]
        }
      ]
    },
    {
      "cell_type": "markdown",
      "source": [
        "#### Con el operador morsa funcionando"
      ],
      "metadata": {
        "id": "Ac_DXO4xRDGo"
      }
    },
    {
      "cell_type": "code",
      "source": [
        "if a:=8>5:\n",
        "  print(\"Es mayor\")"
      ],
      "metadata": {
        "id": "rNM2mTbcRT9W",
        "outputId": "73abdead-3c17-49f3-af11-a4b76ab75a5b",
        "colab": {
          "base_uri": "https://localhost:8080/"
        }
      },
      "execution_count": 13,
      "outputs": [
        {
          "output_type": "stream",
          "name": "stdout",
          "text": [
            "Es mayor\n"
          ]
        }
      ]
    },
    {
      "cell_type": "markdown",
      "source": [
        "### Ejemplo 2\n",
        "#### Sin el operador morsa"
      ],
      "metadata": {
        "id": "R1jT5tk9Rlx_"
      }
    },
    {
      "cell_type": "code",
      "source": [
        "from random import randint\n",
        "n = randint(0, 10)\n",
        "\n",
        "if n >= 5:\n",
        "    print(f\"Con un {n} está Aprobado\")\n",
        "else:\n",
        "    print(f\"Con un {n} está Suspenso\")"
      ],
      "metadata": {
        "id": "qtln2XkvRrcx",
        "outputId": "ad717d2b-e999-4b32-cf57-d8c632465346",
        "colab": {
          "base_uri": "https://localhost:8080/"
        }
      },
      "execution_count": 14,
      "outputs": [
        {
          "output_type": "stream",
          "name": "stdout",
          "text": [
            "Con un 5 está Aprobado\n"
          ]
        }
      ]
    },
    {
      "cell_type": "markdown",
      "source": [
        "#### Con el operador morsa funcionando"
      ],
      "metadata": {
        "id": "Fpm32zZMTIFm"
      }
    },
    {
      "cell_type": "code",
      "source": [
        "print(f\"Con un {n} está Aprobado\" if (n := randint(0, 10)) >= 5 else (f\"Con un {n} está Suspenso\"))"
      ],
      "metadata": {
        "id": "Iw6XF1tOTM2c",
        "outputId": "859c7d6a-a136-4b90-9eca-60106ca325c2",
        "colab": {
          "base_uri": "https://localhost:8080/"
        }
      },
      "execution_count": 15,
      "outputs": [
        {
          "output_type": "stream",
          "name": "stdout",
          "text": [
            "Con un 3 está Suspenso\n"
          ]
        }
      ]
    }
  ]
}