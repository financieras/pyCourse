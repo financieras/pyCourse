{
  "cells": [
    {
      "cell_type": "markdown",
      "metadata": {
        "id": "view-in-github",
        "colab_type": "text"
      },
      "source": [
        "<a href=\"https://colab.research.google.com/github/financieras/pyCourse/blob/main/jupyter/calisto1/0700_sin_repeticion.ipynb\" target=\"_parent\"><img src=\"https://colab.research.google.com/assets/colab-badge.svg\" alt=\"Open In Colab\"/></a>"
      ]
    },
    {
      "cell_type": "markdown",
      "metadata": {
        "id": "qvnOwdz1FR10"
      },
      "source": [
        "# Funciones. Elegir elementos de una lista aleatoriamente sin repetición"
      ],
      "id": "qvnOwdz1FR10"
    },
    {
      "cell_type": "markdown",
      "source": [
        "### Método 1\n",
        "* Usando ```random.shuffle()```\n",
        "* Mezclar una lista (reorganizar el orden de los elementos de la lista)"
      ],
      "metadata": {
        "id": "2UPE2jSoGjnh"
      },
      "id": "2UPE2jSoGjnh"
    },
    {
      "cell_type": "code",
      "execution_count": null,
      "metadata": {
        "id": "enIwbsSVFR13",
        "outputId": "34107de9-9a46-473b-bef0-d17233ca8908",
        "colab": {
          "base_uri": "https://localhost:8080/"
        }
      },
      "outputs": [
        {
          "output_type": "stream",
          "name": "stdout",
          "text": [
            "Lista de partida:  ['a', 'b', 'c', 'd', 'e', 'f', 'g', 'h', 'i', 'j']\n",
            "De los 10 elementos elegimos 3 aleatoriamente: ['e', 'd', 'h']\n"
          ]
        }
      ],
      "source": [
        "import random\n",
        "\n",
        "lista = ['a', 'b', 'c', 'd', 'e', 'f', 'g', 'h', 'i', 'j']\n",
        "n = len(lista)                       # número de elementos totales de lista\n",
        "m = random.randint(2,n)              # número de elementos a extraer\n",
        "print(\"Lista de partida: \", lista)\n",
        "random.shuffle(lista)                # baraja aleatoriamente los elementos de la lista\n",
        "print('De los {} elementos elegimos {} aleatoriamente: {}'.format(n, m, lista[:m]))"
      ],
      "id": "enIwbsSVFR13"
    },
    {
      "cell_type": "markdown",
      "source": [
        "### Método 2\n",
        "* ```random.sample()``` devuelve una nueva lista mezclada"
      ],
      "metadata": {
        "id": "-yGfqLwPJHGu"
      },
      "id": "-yGfqLwPJHGu"
    },
    {
      "cell_type": "code",
      "source": [
        "import random\n",
        "\n",
        "lista = ['a', 'b', 'c', 'd', 'e', 'f', 'g', 'h', 'i', 'j']\n",
        "n = len(lista)                       # número de elementos totales de lista\n",
        "m = random.randint(2,n)              # número de elementos a extraer\n",
        "barajada = random.sample(lista, m)   # elegimos m elementos sin repetición\n",
        "\n",
        "print('De los {} elementos elegimos {} aleatoriamente: {}'.format(n, m, barajada))"
      ],
      "metadata": {
        "id": "6kGB_hdfJRt8",
        "outputId": "59927741-94eb-4f82-8dfe-606fa365d366",
        "colab": {
          "base_uri": "https://localhost:8080/"
        }
      },
      "id": "6kGB_hdfJRt8",
      "execution_count": null,
      "outputs": [
        {
          "output_type": "stream",
          "name": "stdout",
          "text": [
            "De los 10 elementos elegimos 9 aleatoriamente: ['g', 'b', 'j', 'e', 'i', 'a', 'f', 'h', 'c']\n"
          ]
        }
      ]
    },
    {
      "cell_type": "markdown",
      "source": [
        "### Método 3\n",
        "Permutamos los elementos de una lista auxiliar con números correlativos."
      ],
      "metadata": {
        "id": "inD6hxiuHJvW"
      },
      "id": "inD6hxiuHJvW"
    },
    {
      "cell_type": "code",
      "execution_count": null,
      "metadata": {
        "id": "H3ewtfIFFR15",
        "outputId": "ad49c604-769f-4d5a-93fa-35ccbc59ec05",
        "colab": {
          "base_uri": "https://localhost:8080/"
        }
      },
      "outputs": [
        {
          "output_type": "stream",
          "name": "stdout",
          "text": [
            "Lista de partida:  ['a', 'b', 'c', 'd', 'e', 'f', 'g', 'h', 'i', 'j']\n",
            "[0, 1, 2, 3, 4, 5, 6, 7, 8, 9]\n",
            "[5, 7, 8, 6, 3, 2, 4, 1, 0, 9]\n",
            "De los 10 elementos elegimos 4 aleatoriamente: ['f', 'h', 'i', 'g']\n"
          ]
        }
      ],
      "source": [
        "from random import randint\n",
        "\n",
        "lista = ['a', 'b', 'c', 'd', 'e', 'f', 'g', 'h', 'i', 'j']\n",
        "n = len(lista)                       # número de elementos totales de lista\n",
        "listb = list(range(n))               # creamos una lista con n números correlativos\n",
        "m = randint(2, n)                    # número de elementos a extraer\n",
        "print(\"Lista de partida: \", lista)\n",
        "print(listb)\n",
        "\n",
        "for i in range(n-1, 1, -1):\n",
        "    r = randint(0, i)\n",
        "    listb[i], listb[r] = listb[r], listb[i]  # permutamos valores\n",
        "\n",
        "print(listb)\n",
        "extraida = []\n",
        "\n",
        "for i in range(m):\n",
        "    extraida.append(lista[listb[i]])\n",
        "\n",
        "print('De los {} elementos elegimos {} aleatoriamente: {}'.format(n, m, extraida))"
      ],
      "id": "H3ewtfIFFR15"
    }
  ],
  "metadata": {
    "kernelspec": {
      "display_name": "Python 3",
      "language": "python",
      "name": "python3"
    },
    "language_info": {
      "codemirror_mode": {
        "name": "ipython",
        "version": 3
      },
      "file_extension": ".py",
      "mimetype": "text/x-python",
      "name": "python",
      "nbconvert_exporter": "python",
      "pygments_lexer": "ipython3",
      "version": "3.8.5"
    },
    "colab": {
      "name": "calisto1_0700.ipynb",
      "provenance": [],
      "include_colab_link": true
    }
  },
  "nbformat": 4,
  "nbformat_minor": 5
}