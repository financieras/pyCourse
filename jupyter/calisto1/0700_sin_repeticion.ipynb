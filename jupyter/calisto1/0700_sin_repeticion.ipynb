{
  "cells": [
    {
      "cell_type": "markdown",
      "metadata": {
        "id": "view-in-github",
        "colab_type": "text"
      },
      "source": [
        "<a href=\"https://colab.research.google.com/github/financieras/pyCourse/blob/main/jupyter/calisto1/0700_sin_repeticion.ipynb\" target=\"_parent\"><img src=\"https://colab.research.google.com/assets/colab-badge.svg\" alt=\"Open In Colab\"/></a>"
      ]
    },
    {
      "cell_type": "markdown",
      "metadata": {
        "id": "qvnOwdz1FR10"
      },
      "source": [
        "# Funciones. Elegir elementos de una lista aleatoriamente sin repetición"
      ],
      "id": "qvnOwdz1FR10"
    },
    {
      "cell_type": "markdown",
      "source": [
        "### Método 1\n",
        "* Usando ```random.shuffle()```\n",
        "* Mezclar una lista (reorganizar el orden de los elementos de la lista)"
      ],
      "metadata": {
        "id": "2UPE2jSoGjnh"
      },
      "id": "2UPE2jSoGjnh"
    },
    {
      "cell_type": "code",
      "execution_count": 4,
      "metadata": {
        "id": "enIwbsSVFR13",
        "outputId": "befe85c5-d3db-4716-d1a0-820258cb8f6e",
        "colab": {
          "base_uri": "https://localhost:8080/"
        }
      },
      "outputs": [
        {
          "output_type": "stream",
          "name": "stdout",
          "text": [
            "Lista de partida:  ['a', 'b', 'c', 'd', 'e', 'f', 'g', 'h', 'i', 'j']\n",
            "De los 10 elementos elegimos 7 aleatoriamente: ['i', 'h', 'c', 'a', 'f', 'j', 'b']\n"
          ]
        }
      ],
      "source": [
        "import random\n",
        "\n",
        "lista = ['a', 'b', 'c', 'd', 'e', 'f', 'g', 'h', 'i', 'j']\n",
        "n = len(lista)                       # número de elementos totales de lista\n",
        "m = random.randint(2,n)              # número de elementos a extraer\n",
        "print(\"Lista de partida: \", lista)\n",
        "\n",
        "random.shuffle(lista)                # baraja aleatoriamente los elementos de la lista\n",
        "print('De los {} elementos elegimos {} aleatoriamente: {}'.format(n, m, lista[:m]))"
      ],
      "id": "enIwbsSVFR13"
    },
    {
      "cell_type": "markdown",
      "source": [
        "### Método 2\n",
        "* ```random.sample()``` devuelve una nueva lista mezclada"
      ],
      "metadata": {
        "id": "-yGfqLwPJHGu"
      },
      "id": "-yGfqLwPJHGu"
    },
    {
      "cell_type": "code",
      "source": [
        "import random\n",
        "\n",
        "lista = ['a', 'b', 'c', 'd', 'e', 'f', 'g', 'h', 'i', 'j']\n",
        "n = len(lista)                       # número de elementos totales de lista\n",
        "m = random.randint(2,n)              # número de elementos a extraer\n",
        "barajada = random.sample(lista, m)   # elegimos m elementos sin repetición\n",
        "\n",
        "print('De los {} elementos elegimos {} aleatoriamente: {}'.format(n, m, barajada))"
      ],
      "metadata": {
        "id": "6kGB_hdfJRt8",
        "outputId": "27f3d810-2603-44c1-d1da-5aff6644aeb0",
        "colab": {
          "base_uri": "https://localhost:8080/"
        }
      },
      "id": "6kGB_hdfJRt8",
      "execution_count": 5,
      "outputs": [
        {
          "output_type": "stream",
          "name": "stdout",
          "text": [
            "De los 10 elementos elegimos 10 aleatoriamente: ['h', 'i', 'a', 'e', 'g', 'd', 'b', 'c', 'j', 'f']\n"
          ]
        }
      ]
    },
    {
      "cell_type": "markdown",
      "source": [
        "### Método 3\n",
        "Permutamos los elementos de una lista auxiliar con números correlativos."
      ],
      "metadata": {
        "id": "inD6hxiuHJvW"
      },
      "id": "inD6hxiuHJvW"
    },
    {
      "cell_type": "code",
      "execution_count": 6,
      "metadata": {
        "id": "H3ewtfIFFR15",
        "outputId": "d6efff97-ac98-401e-9496-c2e0c54a4ab6",
        "colab": {
          "base_uri": "https://localhost:8080/"
        }
      },
      "outputs": [
        {
          "output_type": "stream",
          "name": "stdout",
          "text": [
            "Lista de partida:  ['a', 'b', 'c', 'd', 'e', 'f', 'g', 'h', 'i', 'j']\n",
            "[0, 1, 2, 3, 4, 5, 6, 7, 8, 9]\n",
            "[5, 6, 8, 0, 1, 9, 2, 3, 4, 7]\n",
            "De los 10 elementos elegimos 2 aleatoriamente: ['f', 'g']\n"
          ]
        }
      ],
      "source": [
        "from random import randint\n",
        "\n",
        "lista = ['a', 'b', 'c', 'd', 'e', 'f', 'g', 'h', 'i', 'j']\n",
        "n = len(lista)                       # número de elementos totales de lista\n",
        "listb = list(range(n))               # creamos una lista con n números correlativos\n",
        "m = randint(2, n)                    # número de elementos a extraer\n",
        "print(\"Lista de partida: \", lista)\n",
        "print(listb)\n",
        "\n",
        "for i in range(n-1, 1, -1):\n",
        "    r = randint(0, i)\n",
        "    listb[i], listb[r] = listb[r], listb[i]  # permutamos valores\n",
        "\n",
        "print(listb)\n",
        "extraida = []\n",
        "\n",
        "for i in range(m):\n",
        "    extraida.append(lista[listb[i]])\n",
        "\n",
        "print('De los {} elementos elegimos {} aleatoriamente: {}'.format(n, m, extraida))"
      ],
      "id": "H3ewtfIFFR15"
    }
  ],
  "metadata": {
    "kernelspec": {
      "display_name": "Python 3",
      "language": "python",
      "name": "python3"
    },
    "language_info": {
      "codemirror_mode": {
        "name": "ipython",
        "version": 3
      },
      "file_extension": ".py",
      "mimetype": "text/x-python",
      "name": "python",
      "nbconvert_exporter": "python",
      "pygments_lexer": "ipython3",
      "version": "3.8.5"
    },
    "colab": {
      "name": "0700_sin_repeticion.ipynb",
      "provenance": [],
      "include_colab_link": true
    }
  },
  "nbformat": 4,
  "nbformat_minor": 5
}