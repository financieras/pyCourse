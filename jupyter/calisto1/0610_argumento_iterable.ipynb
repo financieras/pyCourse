{
  "cells": [
    {
      "cell_type": "markdown",
      "metadata": {
        "id": "view-in-github",
        "colab_type": "text"
      },
      "source": [
        "<a href=\"https://colab.research.google.com/github/financieras/pyCourse/blob/main/jupyter/calisto1_0610.ipynb\" target=\"_parent\"><img src=\"https://colab.research.google.com/assets/colab-badge.svg\" alt=\"Open In Colab\"/></a>"
      ]
    },
    {
      "cell_type": "markdown",
      "metadata": {
        "id": "01q4IzhPYhOl"
      },
      "source": [
        "# Funciones. Pasar un iterable como argumento"
      ],
      "id": "01q4IzhPYhOl"
    },
    {
      "cell_type": "code",
      "execution_count": null,
      "metadata": {
        "id": "Fl1Rb5HVYhOq"
      },
      "outputs": [],
      "source": [
        "def listado(metales):                  # La función recibe una lista\n",
        "    for metal in metales:\n",
        "        print(metal)\n",
        "        \n",
        "mi_lista=[\"Titanio\", \"Platino\", \"Oro\"]\n",
        "listado(mi_lista)"
      ],
      "id": "Fl1Rb5HVYhOq"
    },
    {
      "cell_type": "code",
      "execution_count": null,
      "metadata": {
        "id": "-rGAnnAPYhOw"
      },
      "outputs": [],
      "source": [
        "def enumera(iterable):                 # La función recibe un rango\n",
        "    for i in iterable:\n",
        "        print(i)\n",
        "        \n",
        "enumera(range(5))"
      ],
      "id": "-rGAnnAPYhOw"
    },
    {
      "cell_type": "code",
      "execution_count": null,
      "metadata": {
        "id": "jEpwRiFfYhO0"
      },
      "outputs": [],
      "source": [
        "def muestra(conjunto):                 # La función recibe un conjunto\n",
        "    for elemento in conjunto:\n",
        "        print(elemento)\n",
        "        \n",
        "estaciones=set(('primavera', 'verano', 'otoño', 'invierno'))   # Creamos un conjunto con set()\n",
        "muestra(estaciones)                                            # No guarda ningún orden"
      ],
      "id": "jEpwRiFfYhO0"
    },
    {
      "cell_type": "code",
      "execution_count": null,
      "metadata": {
        "id": "b6-nzxXZYhO3"
      },
      "outputs": [],
      "source": [
        "def recorrer(texto):                    # La función recibe un string\n",
        "    for caracter in texto:\n",
        "        print(caracter, end='')\n",
        "        \n",
        "recorrer(\"Hello World\")"
      ],
      "id": "b6-nzxXZYhO3"
    },
    {
      "cell_type": "code",
      "execution_count": null,
      "metadata": {
        "id": "jan3W1i4YhO5"
      },
      "outputs": [],
      "source": [
        "def recorrer2(texto):\n",
        "    for i in range(len(texto)):         # r ecorremos las posiciones del string hasta su longitud\n",
        "        print(texto[i], end='')\n",
        "        \n",
        "recorrer2(\"Hola Mundo\")"
      ],
      "id": "jan3W1i4YhO5"
    },
    {
      "cell_type": "code",
      "execution_count": null,
      "metadata": {
        "id": "P09ehiaiYhO7"
      },
      "outputs": [],
      "source": [
        "def recorrer3(texto):\n",
        "    for i in range(len(texto)):\n",
        "        print(texto[i:i+1], end='')     # slicing. Método de corte\n",
        "        \n",
        "recorrer3(\"Buenos días\")"
      ],
      "id": "P09ehiaiYhO7"
    }
  ],
  "metadata": {
    "kernelspec": {
      "display_name": "Python 3",
      "language": "python",
      "name": "python3"
    },
    "language_info": {
      "codemirror_mode": {
        "name": "ipython",
        "version": 3
      },
      "file_extension": ".py",
      "mimetype": "text/x-python",
      "name": "python",
      "nbconvert_exporter": "python",
      "pygments_lexer": "ipython3",
      "version": "3.8.5"
    },
    "colab": {
      "name": "0610_iterable_como_argumento.ipynb",
      "provenance": [],
      "include_colab_link": true
    }
  },
  "nbformat": 4,
  "nbformat_minor": 5
}
