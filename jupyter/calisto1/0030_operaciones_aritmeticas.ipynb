{
  "cells": [
    {
      "cell_type": "markdown",
      "metadata": {
        "id": "view-in-github",
        "colab_type": "text"
      },
      "source": [
        "<a href=\"https://colab.research.google.com/github/financieras/pyCourse/blob/main/jupyter/calisto1/0030_operaciones_aritmeticas.ipynb\" target=\"_parent\"><img src=\"https://colab.research.google.com/assets/colab-badge.svg\" alt=\"Open In Colab\"/></a>"
      ]
    },
    {
      "cell_type": "markdown",
      "id": "79405b76",
      "metadata": {
        "id": "79405b76"
      },
      "source": [
        "# Operaciones aritméticas"
      ]
    },
    {
      "cell_type": "markdown",
      "id": "a738d7e1",
      "metadata": {
        "id": "a738d7e1"
      },
      "source": [
        "\\+   &nbsp;&nbsp;&nbsp;&nbsp;&nbsp; Suma, también concatena  \n",
        "\\-   &nbsp;&nbsp;&nbsp;&nbsp;&nbsp;&nbsp; Resta  \n",
        "\\*   &nbsp;&nbsp;&nbsp;&nbsp;&nbsp;&nbsp; Producto  \n",
        "**   &nbsp;&nbsp;&nbsp;&nbsp;&nbsp; Potencias, elevar, también con una librería matemática  \n",
        "/    &nbsp;&nbsp;&nbsp;&nbsp;&nbsp;&nbsp; Dividir. Siempre da como resultado un número de coma flotante  \n",
        "//   &nbsp;&nbsp;&nbsp;&nbsp;&nbsp; División entera  \n",
        "%    &nbsp;&nbsp;&nbsp;&nbsp; Resto, Residuo, Módulo"
      ]
    },
    {
      "cell_type": "code",
      "execution_count": 1,
      "id": "6e6b247c",
      "metadata": {
        "id": "6e6b247c",
        "outputId": "40f8275c-ea15-4a66-ec16-26f81943897d",
        "colab": {
          "base_uri": "https://localhost:8080/"
        }
      },
      "outputs": [
        {
          "output_type": "execute_result",
          "data": {
            "text/plain": [
              "5"
            ]
          },
          "metadata": {},
          "execution_count": 1
        }
      ],
      "source": [
        "2+3"
      ]
    },
    {
      "cell_type": "code",
      "execution_count": 2,
      "id": "96600a19",
      "metadata": {
        "id": "96600a19",
        "outputId": "7c289ef1-ed73-4c10-a842-b6fcf78fdb3f",
        "colab": {
          "base_uri": "https://localhost:8080/"
        }
      },
      "outputs": [
        {
          "output_type": "execute_result",
          "data": {
            "text/plain": [
              "8"
            ]
          },
          "metadata": {},
          "execution_count": 2
        }
      ],
      "source": [
        "5--3"
      ]
    },
    {
      "cell_type": "code",
      "execution_count": 3,
      "id": "5e06902f",
      "metadata": {
        "id": "5e06902f",
        "outputId": "5881f46a-4502-4d8c-e8b7-e2e259d49786",
        "colab": {
          "base_uri": "https://localhost:8080/"
        }
      },
      "outputs": [
        {
          "output_type": "execute_result",
          "data": {
            "text/plain": [
              "20"
            ]
          },
          "metadata": {},
          "execution_count": 3
        }
      ],
      "source": [
        "5*4"
      ]
    },
    {
      "cell_type": "code",
      "execution_count": 4,
      "id": "8a8dc05e",
      "metadata": {
        "id": "8a8dc05e",
        "outputId": "359ccf48-ccf6-4616-8ab8-63e3b0f0770e",
        "colab": {
          "base_uri": "https://localhost:8080/"
        }
      },
      "outputs": [
        {
          "output_type": "execute_result",
          "data": {
            "text/plain": [
              "5.9411764705882355"
            ]
          },
          "metadata": {},
          "execution_count": 4
        }
      ],
      "source": [
        "101/17       # float"
      ]
    },
    {
      "cell_type": "markdown",
      "id": "12e7e382",
      "metadata": {
        "id": "12e7e382"
      },
      "source": [
        "Podemos incluir comentarios del programador."
      ]
    },
    {
      "cell_type": "code",
      "execution_count": 5,
      "id": "98c7ec67",
      "metadata": {
        "id": "98c7ec67",
        "outputId": "160d9b1a-c564-4331-db03-ea6237fd16f6",
        "colab": {
          "base_uri": "https://localhost:8080/"
        }
      },
      "outputs": [
        {
          "output_type": "execute_result",
          "data": {
            "text/plain": [
              "4.0"
            ]
          },
          "metadata": {},
          "execution_count": 5
        }
      ],
      "source": [
        "# al dividir siempre se obtiene un número con coma flotante (float)\n",
        "12/3"
      ]
    },
    {
      "cell_type": "code",
      "execution_count": 6,
      "id": "b6ba9f2e",
      "metadata": {
        "id": "b6ba9f2e",
        "outputId": "ce9d37bc-dd7b-48dd-cafa-b281b290f4d7",
        "colab": {
          "base_uri": "https://localhost:8080/"
        }
      },
      "outputs": [
        {
          "output_type": "execute_result",
          "data": {
            "text/plain": [
              "3"
            ]
          },
          "metadata": {},
          "execution_count": 6
        }
      ],
      "source": [
        "17//5   # división entera"
      ]
    },
    {
      "cell_type": "code",
      "execution_count": 7,
      "id": "1f633827",
      "metadata": {
        "id": "1f633827",
        "outputId": "8a369eeb-32a4-4934-f69a-ce79e35163e9",
        "colab": {
          "base_uri": "https://localhost:8080/"
        }
      },
      "outputs": [
        {
          "output_type": "execute_result",
          "data": {
            "text/plain": [
              "2"
            ]
          },
          "metadata": {},
          "execution_count": 7
        }
      ],
      "source": [
        "17%5    # resto, residuo, módulo"
      ]
    },
    {
      "cell_type": "code",
      "execution_count": 8,
      "id": "c5f9f890",
      "metadata": {
        "id": "c5f9f890",
        "outputId": "ef8fddf5-a4cc-4ae5-83d2-4983e210b754",
        "colab": {
          "base_uri": "https://localhost:8080/"
        }
      },
      "outputs": [
        {
          "output_type": "execute_result",
          "data": {
            "text/plain": [
              "8"
            ]
          },
          "metadata": {},
          "execution_count": 8
        }
      ],
      "source": [
        "2**3    # potencias"
      ]
    },
    {
      "cell_type": "code",
      "execution_count": 9,
      "id": "c4afe73b",
      "metadata": {
        "id": "c4afe73b",
        "outputId": "9ea5bca9-fa05-4c89-f0f8-4702da087281",
        "colab": {
          "base_uri": "https://localhost:8080/"
        }
      },
      "outputs": [
        {
          "output_type": "execute_result",
          "data": {
            "text/plain": [
              "3.0"
            ]
          },
          "metadata": {},
          "execution_count": 9
        }
      ],
      "source": [
        "9**.5   # raíz cuadrada"
      ]
    },
    {
      "cell_type": "markdown",
      "id": "101ae317",
      "metadata": {
        "id": "101ae317"
      },
      "source": [
        "## Prelación de operaciones\n",
        "Los paréntesis tienen prioridad."
      ]
    },
    {
      "cell_type": "code",
      "execution_count": 10,
      "id": "aff3117a",
      "metadata": {
        "id": "aff3117a",
        "outputId": "76021f18-1942-473e-fa22-65993c40467a",
        "colab": {
          "base_uri": "https://localhost:8080/"
        }
      },
      "outputs": [
        {
          "output_type": "execute_result",
          "data": {
            "text/plain": [
              "6.0"
            ]
          },
          "metadata": {},
          "execution_count": 10
        }
      ],
      "source": [
        "1+((10+5*3)*2)/10"
      ]
    },
    {
      "cell_type": "code",
      "execution_count": 11,
      "id": "4190e198",
      "metadata": {
        "id": "4190e198",
        "outputId": "a737abe4-e5e1-47a3-e004-271a84f5ce67",
        "colab": {
          "base_uri": "https://localhost:8080/"
        }
      },
      "outputs": [
        {
          "output_type": "execute_result",
          "data": {
            "text/plain": [
              "0.0"
            ]
          },
          "metadata": {},
          "execution_count": 11
        }
      ],
      "source": [
        "# Intenta calcular el resultado antes de ejecutar la expresión siguiente\n",
        "--1+1-1*(1+1-1)/1+1*(-1)"
      ]
    }
  ],
  "metadata": {
    "interpreter": {
      "hash": "916dbcbb3f70747c44a77c7bcd40155683ae19c65e1c03b4aa3499c5328201f1"
    },
    "kernelspec": {
      "display_name": "Python 3 (ipykernel)",
      "language": "python",
      "name": "python3"
    },
    "language_info": {
      "codemirror_mode": {
        "name": "ipython",
        "version": 3
      },
      "file_extension": ".py",
      "mimetype": "text/x-python",
      "name": "python",
      "nbconvert_exporter": "python",
      "pygments_lexer": "ipython3",
      "version": "3.8.11"
    },
    "colab": {
      "name": "0030_operaciones_aritmeticas.ipynb",
      "provenance": [],
      "include_colab_link": true
    }
  },
  "nbformat": 4,
  "nbformat_minor": 5
}