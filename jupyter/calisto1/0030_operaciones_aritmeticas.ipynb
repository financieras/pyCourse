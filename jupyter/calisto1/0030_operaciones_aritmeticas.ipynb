{
  "cells": [
    {
      "cell_type": "markdown",
      "metadata": {
        "id": "view-in-github",
        "colab_type": "text"
      },
      "source": [
        "<a href=\"https://colab.research.google.com/github/financieras/pyCourse/blob/main/jupyter/calisto1/0030_operaciones_aritmeticas.ipynb\" target=\"_parent\"><img src=\"https://colab.research.google.com/assets/colab-badge.svg\" alt=\"Open In Colab\"/></a>"
      ]
    },
    {
      "cell_type": "markdown",
      "id": "79405b76",
      "metadata": {
        "id": "79405b76"
      },
      "source": [
        "# Operaciones aritméticas"
      ]
    },
    {
      "cell_type": "markdown",
      "id": "a738d7e1",
      "metadata": {
        "id": "a738d7e1"
      },
      "source": [
        "\\+   &nbsp;&nbsp;&nbsp;&nbsp;&nbsp; Suma, también concatena  \n",
        "\\-   &nbsp;&nbsp;&nbsp;&nbsp;&nbsp;&nbsp; Resta  \n",
        "\\*   &nbsp;&nbsp;&nbsp;&nbsp;&nbsp;&nbsp; Producto  \n",
        "**   &nbsp;&nbsp;&nbsp;&nbsp;&nbsp; Potencias, elevar, también con una librería matemática  \n",
        "/    &nbsp;&nbsp;&nbsp;&nbsp;&nbsp;&nbsp; Dividir. Siempre da como resultado un número de coma flotante  \n",
        "//   &nbsp;&nbsp;&nbsp;&nbsp;&nbsp; División entera  \n",
        "%    &nbsp;&nbsp;&nbsp;&nbsp; Resto, Residuo, Módulo"
      ]
    },
    {
      "cell_type": "code",
      "execution_count": 1,
      "id": "6e6b247c",
      "metadata": {
        "id": "6e6b247c",
        "outputId": "cfcfcc87-cd47-429c-fa89-6fd5c5d35df8",
        "colab": {
          "base_uri": "https://localhost:8080/"
        }
      },
      "outputs": [
        {
          "output_type": "execute_result",
          "data": {
            "text/plain": [
              "5"
            ]
          },
          "metadata": {},
          "execution_count": 1
        }
      ],
      "source": [
        "2+3"
      ]
    },
    {
      "cell_type": "code",
      "execution_count": 2,
      "id": "96600a19",
      "metadata": {
        "id": "96600a19",
        "outputId": "d521611a-2ddb-4518-ff75-5ca019358618",
        "colab": {
          "base_uri": "https://localhost:8080/"
        }
      },
      "outputs": [
        {
          "output_type": "execute_result",
          "data": {
            "text/plain": [
              "8"
            ]
          },
          "metadata": {},
          "execution_count": 2
        }
      ],
      "source": [
        "5--3"
      ]
    },
    {
      "cell_type": "code",
      "execution_count": 3,
      "id": "5e06902f",
      "metadata": {
        "id": "5e06902f",
        "outputId": "ff19fcc0-2f67-40f5-c6d3-60363e8bf625",
        "colab": {
          "base_uri": "https://localhost:8080/"
        }
      },
      "outputs": [
        {
          "output_type": "execute_result",
          "data": {
            "text/plain": [
              "20"
            ]
          },
          "metadata": {},
          "execution_count": 3
        }
      ],
      "source": [
        "5*4"
      ]
    },
    {
      "cell_type": "code",
      "execution_count": 4,
      "id": "8a8dc05e",
      "metadata": {
        "id": "8a8dc05e",
        "outputId": "d4c39ae0-c163-49cd-f60f-3174b5cf9985",
        "colab": {
          "base_uri": "https://localhost:8080/"
        }
      },
      "outputs": [
        {
          "output_type": "execute_result",
          "data": {
            "text/plain": [
              "5.9411764705882355"
            ]
          },
          "metadata": {},
          "execution_count": 4
        }
      ],
      "source": [
        "101/17       # float"
      ]
    },
    {
      "cell_type": "markdown",
      "id": "12e7e382",
      "metadata": {
        "id": "12e7e382"
      },
      "source": [
        "Podemos incluir comentarios del programador."
      ]
    },
    {
      "cell_type": "code",
      "execution_count": 5,
      "id": "98c7ec67",
      "metadata": {
        "id": "98c7ec67",
        "outputId": "9a917bd0-a7af-4163-9e7b-9f2c13f71acb",
        "colab": {
          "base_uri": "https://localhost:8080/"
        }
      },
      "outputs": [
        {
          "output_type": "execute_result",
          "data": {
            "text/plain": [
              "4.0"
            ]
          },
          "metadata": {},
          "execution_count": 5
        }
      ],
      "source": [
        "# al dividir siempre se obtiene un número con coma flotante (float)\n",
        "12/3"
      ]
    },
    {
      "cell_type": "code",
      "execution_count": 6,
      "id": "b6ba9f2e",
      "metadata": {
        "id": "b6ba9f2e",
        "outputId": "c1610b17-164b-4565-95f0-e775eb91cd3c",
        "colab": {
          "base_uri": "https://localhost:8080/"
        }
      },
      "outputs": [
        {
          "output_type": "execute_result",
          "data": {
            "text/plain": [
              "3"
            ]
          },
          "metadata": {},
          "execution_count": 6
        }
      ],
      "source": [
        "17//5   # división entera"
      ]
    },
    {
      "cell_type": "code",
      "execution_count": 7,
      "id": "1f633827",
      "metadata": {
        "id": "1f633827",
        "outputId": "759b5e31-2af8-407a-bfa7-af97a90edd99",
        "colab": {
          "base_uri": "https://localhost:8080/"
        }
      },
      "outputs": [
        {
          "output_type": "execute_result",
          "data": {
            "text/plain": [
              "2"
            ]
          },
          "metadata": {},
          "execution_count": 7
        }
      ],
      "source": [
        "17%5    # resto, residuo, módulo"
      ]
    },
    {
      "cell_type": "code",
      "execution_count": 8,
      "id": "c5f9f890",
      "metadata": {
        "id": "c5f9f890",
        "outputId": "02e04509-7ee9-4bc0-87f3-02b86cfa0f10",
        "colab": {
          "base_uri": "https://localhost:8080/"
        }
      },
      "outputs": [
        {
          "output_type": "execute_result",
          "data": {
            "text/plain": [
              "8"
            ]
          },
          "metadata": {},
          "execution_count": 8
        }
      ],
      "source": [
        "2**3    # potencias"
      ]
    },
    {
      "cell_type": "code",
      "execution_count": 9,
      "id": "c4afe73b",
      "metadata": {
        "id": "c4afe73b",
        "outputId": "f85d3c82-13da-4a9c-fec4-34632f431c20",
        "colab": {
          "base_uri": "https://localhost:8080/"
        }
      },
      "outputs": [
        {
          "output_type": "execute_result",
          "data": {
            "text/plain": [
              "3.0"
            ]
          },
          "metadata": {},
          "execution_count": 9
        }
      ],
      "source": [
        "9**.5   # raíz cuadrada"
      ]
    },
    {
      "cell_type": "markdown",
      "id": "101ae317",
      "metadata": {
        "id": "101ae317"
      },
      "source": [
        "## Prelación de operaciones\n",
        "Los paréntesis tienen prioridad."
      ]
    },
    {
      "cell_type": "code",
      "execution_count": 10,
      "id": "aff3117a",
      "metadata": {
        "id": "aff3117a",
        "outputId": "cd8a6472-b4a6-48f9-e6f9-471ab218e9f6",
        "colab": {
          "base_uri": "https://localhost:8080/"
        }
      },
      "outputs": [
        {
          "output_type": "execute_result",
          "data": {
            "text/plain": [
              "6.0"
            ]
          },
          "metadata": {},
          "execution_count": 10
        }
      ],
      "source": [
        "1+((10+5*3)*2)/10"
      ]
    },
    {
      "cell_type": "code",
      "execution_count": null,
      "id": "4190e198",
      "metadata": {
        "id": "4190e198"
      },
      "outputs": [],
      "source": [
        "# Intenta calcular el resultado antes de ejecutar la expresión siguiente\n",
        "--1+1-1*(1+1-1)/1+1*(-1)"
      ]
    }
  ],
  "metadata": {
    "interpreter": {
      "hash": "916dbcbb3f70747c44a77c7bcd40155683ae19c65e1c03b4aa3499c5328201f1"
    },
    "kernelspec": {
      "display_name": "Python 3 (ipykernel)",
      "language": "python",
      "name": "python3"
    },
    "language_info": {
      "codemirror_mode": {
        "name": "ipython",
        "version": 3
      },
      "file_extension": ".py",
      "mimetype": "text/x-python",
      "name": "python",
      "nbconvert_exporter": "python",
      "pygments_lexer": "ipython3",
      "version": "3.8.11"
    },
    "colab": {
      "name": "calisto1_0030.ipynb",
      "provenance": [],
      "include_colab_link": true
    }
  },
  "nbformat": 4,
  "nbformat_minor": 5
}