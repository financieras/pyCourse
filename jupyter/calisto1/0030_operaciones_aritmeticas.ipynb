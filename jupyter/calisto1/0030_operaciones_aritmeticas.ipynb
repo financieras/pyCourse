{
  "cells": [
    {
      "cell_type": "markdown",
      "metadata": {
        "id": "view-in-github",
        "colab_type": "text"
      },
      "source": [
        "<a href=\"https://colab.research.google.com/github/financieras/pyCourse/blob/main/jupyter/calisto1/0030_operaciones_aritmeticas.ipynb\" target=\"_parent\"><img src=\"https://colab.research.google.com/assets/colab-badge.svg\" alt=\"Open In Colab\"/></a>"
      ]
    },
    {
      "cell_type": "markdown",
      "id": "79405b76",
      "metadata": {
        "id": "79405b76"
      },
      "source": [
        "# Operaciones aritméticas"
      ]
    },
    {
      "cell_type": "markdown",
      "id": "a738d7e1",
      "metadata": {
        "id": "a738d7e1"
      },
      "source": [
        "\\+   &nbsp;&nbsp;&nbsp;&nbsp;&nbsp; Suma, también concatena  \n",
        "\\-   &nbsp;&nbsp;&nbsp;&nbsp;&nbsp;&nbsp; Resta  \n",
        "\\*   &nbsp;&nbsp;&nbsp;&nbsp;&nbsp;&nbsp; Producto  \n",
        "**   &nbsp;&nbsp;&nbsp;&nbsp;&nbsp; Potencias, elevar, también con una librería matemática  \n",
        "/    &nbsp;&nbsp;&nbsp;&nbsp;&nbsp;&nbsp; Dividir. Siempre da como resultado un número de coma flotante  \n",
        "//   &nbsp;&nbsp;&nbsp;&nbsp;&nbsp; División entera  \n",
        "%    &nbsp;&nbsp;&nbsp;&nbsp; Resto, Residuo, Módulo"
      ]
    },
    {
      "cell_type": "code",
      "execution_count": 2,
      "id": "6e6b247c",
      "metadata": {
        "id": "6e6b247c",
        "outputId": "f39c23b8-ef07-4c7d-de48-e164673ff0e7",
        "colab": {
          "base_uri": "https://localhost:8080/"
        }
      },
      "outputs": [
        {
          "output_type": "execute_result",
          "data": {
            "text/plain": [
              "5"
            ]
          },
          "metadata": {},
          "execution_count": 2
        }
      ],
      "source": [
        "2 + 3"
      ]
    },
    {
      "cell_type": "code",
      "execution_count": 3,
      "id": "96600a19",
      "metadata": {
        "id": "96600a19",
        "outputId": "6151d84e-a8f6-4458-c2cf-f1cb1446ac01",
        "colab": {
          "base_uri": "https://localhost:8080/"
        }
      },
      "outputs": [
        {
          "output_type": "execute_result",
          "data": {
            "text/plain": [
              "8"
            ]
          },
          "metadata": {},
          "execution_count": 3
        }
      ],
      "source": [
        "5 - -3"
      ]
    },
    {
      "cell_type": "code",
      "execution_count": 4,
      "id": "5e06902f",
      "metadata": {
        "id": "5e06902f",
        "outputId": "62226216-4685-45ce-b4e6-8031406b9b8b",
        "colab": {
          "base_uri": "https://localhost:8080/"
        }
      },
      "outputs": [
        {
          "output_type": "execute_result",
          "data": {
            "text/plain": [
              "20"
            ]
          },
          "metadata": {},
          "execution_count": 4
        }
      ],
      "source": [
        "5 * 4"
      ]
    },
    {
      "cell_type": "code",
      "execution_count": 5,
      "id": "8a8dc05e",
      "metadata": {
        "id": "8a8dc05e",
        "outputId": "7b34f1b0-1e42-42ad-f192-a5861ba9b638",
        "colab": {
          "base_uri": "https://localhost:8080/"
        }
      },
      "outputs": [
        {
          "output_type": "execute_result",
          "data": {
            "text/plain": [
              "5.9411764705882355"
            ]
          },
          "metadata": {},
          "execution_count": 5
        }
      ],
      "source": [
        "101 / 17       # float"
      ]
    },
    {
      "cell_type": "markdown",
      "id": "12e7e382",
      "metadata": {
        "id": "12e7e382"
      },
      "source": [
        "Podemos incluir comentarios del programador."
      ]
    },
    {
      "cell_type": "code",
      "execution_count": 6,
      "id": "98c7ec67",
      "metadata": {
        "id": "98c7ec67",
        "outputId": "f36c21a5-ef38-4c5b-8e67-7b624a0bec44",
        "colab": {
          "base_uri": "https://localhost:8080/"
        }
      },
      "outputs": [
        {
          "output_type": "execute_result",
          "data": {
            "text/plain": [
              "4.0"
            ]
          },
          "metadata": {},
          "execution_count": 6
        }
      ],
      "source": [
        "# al dividir siempre se obtiene un número con coma flotante (float)\n",
        "12 / 3"
      ]
    },
    {
      "cell_type": "code",
      "execution_count": 7,
      "id": "b6ba9f2e",
      "metadata": {
        "id": "b6ba9f2e",
        "outputId": "c3c988f2-d11b-4185-ed86-f5ea7d43b818",
        "colab": {
          "base_uri": "https://localhost:8080/"
        }
      },
      "outputs": [
        {
          "output_type": "execute_result",
          "data": {
            "text/plain": [
              "3"
            ]
          },
          "metadata": {},
          "execution_count": 7
        }
      ],
      "source": [
        "17 // 5   # división entera"
      ]
    },
    {
      "cell_type": "code",
      "execution_count": 8,
      "id": "1f633827",
      "metadata": {
        "id": "1f633827",
        "outputId": "30699a76-cc5e-4bb4-e6ed-8fc2ab121f98",
        "colab": {
          "base_uri": "https://localhost:8080/"
        }
      },
      "outputs": [
        {
          "output_type": "execute_result",
          "data": {
            "text/plain": [
              "2"
            ]
          },
          "metadata": {},
          "execution_count": 8
        }
      ],
      "source": [
        "17 % 5    # resto, residuo, módulo"
      ]
    },
    {
      "cell_type": "code",
      "execution_count": 9,
      "id": "c5f9f890",
      "metadata": {
        "id": "c5f9f890",
        "outputId": "810bdd92-5a1a-42f0-8ed7-e40b448b376d",
        "colab": {
          "base_uri": "https://localhost:8080/"
        }
      },
      "outputs": [
        {
          "output_type": "execute_result",
          "data": {
            "text/plain": [
              "8"
            ]
          },
          "metadata": {},
          "execution_count": 9
        }
      ],
      "source": [
        "2 ** 3    # potencias"
      ]
    },
    {
      "cell_type": "code",
      "execution_count": 10,
      "id": "c4afe73b",
      "metadata": {
        "id": "c4afe73b",
        "outputId": "6ecd701e-6c7a-4410-ceb9-f1feb1718e1f",
        "colab": {
          "base_uri": "https://localhost:8080/"
        }
      },
      "outputs": [
        {
          "output_type": "execute_result",
          "data": {
            "text/plain": [
              "3.0"
            ]
          },
          "metadata": {},
          "execution_count": 10
        }
      ],
      "source": [
        "9 ** .5   # raíz cuadrada"
      ]
    },
    {
      "cell_type": "markdown",
      "id": "101ae317",
      "metadata": {
        "id": "101ae317"
      },
      "source": [
        "## Prelación de operaciones\n",
        "Los paréntesis tienen prioridad."
      ]
    },
    {
      "cell_type": "code",
      "execution_count": 11,
      "id": "aff3117a",
      "metadata": {
        "id": "aff3117a",
        "outputId": "f83d5518-c875-44b5-a7ad-1d1703f2a3da",
        "colab": {
          "base_uri": "https://localhost:8080/"
        }
      },
      "outputs": [
        {
          "output_type": "execute_result",
          "data": {
            "text/plain": [
              "6.0"
            ]
          },
          "metadata": {},
          "execution_count": 11
        }
      ],
      "source": [
        "1+(2*(10+5*3))/10"
      ]
    },
    {
      "cell_type": "code",
      "execution_count": 12,
      "id": "4190e198",
      "metadata": {
        "id": "4190e198",
        "outputId": "97babe96-fef2-43ef-fe45-0b7a0bf406c1",
        "colab": {
          "base_uri": "https://localhost:8080/"
        }
      },
      "outputs": [
        {
          "output_type": "execute_result",
          "data": {
            "text/plain": [
              "0.0"
            ]
          },
          "metadata": {},
          "execution_count": 12
        }
      ],
      "source": [
        "# Intenta calcular el resultado antes de ejecutar la expresión siguiente\n",
        "--1+1-1*(1+1-1)/1+1*(-1)"
      ]
    }
  ],
  "metadata": {
    "interpreter": {
      "hash": "916dbcbb3f70747c44a77c7bcd40155683ae19c65e1c03b4aa3499c5328201f1"
    },
    "kernelspec": {
      "display_name": "Python 3 (ipykernel)",
      "language": "python",
      "name": "python3"
    },
    "language_info": {
      "codemirror_mode": {
        "name": "ipython",
        "version": 3
      },
      "file_extension": ".py",
      "mimetype": "text/x-python",
      "name": "python",
      "nbconvert_exporter": "python",
      "pygments_lexer": "ipython3",
      "version": "3.8.11"
    },
    "colab": {
      "name": "0030_operaciones_aritmeticas.ipynb",
      "provenance": [],
      "include_colab_link": true
    }
  },
  "nbformat": 4,
  "nbformat_minor": 5
}