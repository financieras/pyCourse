{
  "cells": [
    {
      "cell_type": "markdown",
      "metadata": {
        "id": "view-in-github",
        "colab_type": "text"
      },
      "source": [
        "<a href=\"https://colab.research.google.com/github/financieras/pyCourse/blob/main/jupyter/calisto1/0240_diccionarios2.ipynb\" target=\"_parent\"><img src=\"https://colab.research.google.com/assets/colab-badge.svg\" alt=\"Open In Colab\"/></a>"
      ]
    },
    {
      "cell_type": "markdown",
      "id": "bf18c881",
      "metadata": {
        "id": "bf18c881"
      },
      "source": [
        "# Diccionarios [2]"
      ]
    },
    {
      "cell_type": "code",
      "execution_count": 1,
      "id": "4d0416b0",
      "metadata": {
        "id": "4d0416b0",
        "outputId": "d831dac0-ac8e-4496-f153-ae5d4b4b799a",
        "colab": {
          "base_uri": "https://localhost:8080/"
        }
      },
      "outputs": [
        {
          "output_type": "execute_result",
          "data": {
            "text/plain": [
              "{'Apolo': 11, 'astronauta': 'Neil Armstrong', 'año': 1969}"
            ]
          },
          "metadata": {},
          "execution_count": 1
        }
      ],
      "source": [
        "historia = {\n",
        "  \"Apolo\": 11,\n",
        "  \"astronauta\": \"Neil Armstrong\",\n",
        "  \"año\": 1969\n",
        "}\n",
        "historia"
      ]
    },
    {
      "cell_type": "code",
      "execution_count": 2,
      "id": "667b1403",
      "metadata": {
        "id": "667b1403",
        "outputId": "d87fcc57-30f1-4f25-daef-bcf1c994120b",
        "colab": {
          "base_uri": "https://localhost:8080/"
        }
      },
      "outputs": [
        {
          "output_type": "execute_result",
          "data": {
            "text/plain": [
              "{'Apolo': 'XI', 'astronauta': 'Neil Armstrong', 'año': 1969}"
            ]
          },
          "metadata": {},
          "execution_count": 2
        }
      ],
      "source": [
        "historia[\"Apolo\"] = 'XI'          # Cambiamos el valor de la clave Apolo\n",
        "historia"
      ]
    },
    {
      "cell_type": "code",
      "execution_count": 3,
      "id": "80fc73ca",
      "metadata": {
        "id": "80fc73ca",
        "outputId": "48448a9c-0aa3-4c6f-adc1-c68c9a871c9a",
        "colab": {
          "base_uri": "https://localhost:8080/"
        }
      },
      "outputs": [
        {
          "output_type": "stream",
          "name": "stdout",
          "text": [
            "True\n"
          ]
        }
      ],
      "source": [
        "print(\"año\" in historia)          # True"
      ]
    },
    {
      "cell_type": "code",
      "execution_count": 4,
      "id": "ea8d6781",
      "metadata": {
        "id": "ea8d6781",
        "outputId": "4143ac27-3dfb-43d9-a65c-3c4f479ab84e",
        "colab": {
          "base_uri": "https://localhost:8080/"
        }
      },
      "outputs": [
        {
          "output_type": "stream",
          "name": "stdout",
          "text": [
            "3\n"
          ]
        }
      ],
      "source": [
        "print(len(historia))"
      ]
    },
    {
      "cell_type": "code",
      "execution_count": 5,
      "id": "98fd9a06",
      "metadata": {
        "id": "98fd9a06",
        "outputId": "6a738028-099c-4920-91e6-d3c58961920b",
        "colab": {
          "base_uri": "https://localhost:8080/"
        }
      },
      "outputs": [
        {
          "output_type": "execute_result",
          "data": {
            "text/plain": [
              "{'Apolo': 'XI', 'astronauta': 'Neil Armstrong', 'año': 1969, 'módulo': 'Eagle'}"
            ]
          },
          "metadata": {},
          "execution_count": 5
        }
      ],
      "source": [
        "historia[\"módulo\"] = \"Eagle\"\n",
        "historia"
      ]
    },
    {
      "cell_type": "code",
      "execution_count": 6,
      "id": "b6841671",
      "metadata": {
        "id": "b6841671",
        "outputId": "80a485ef-4dfe-4c03-cf40-892bf5a202ef",
        "colab": {
          "base_uri": "https://localhost:8080/"
        }
      },
      "outputs": [
        {
          "output_type": "execute_result",
          "data": {
            "text/plain": [
              "{'Apolo': 'XI', 'año': 1969, 'módulo': 'Eagle'}"
            ]
          },
          "metadata": {},
          "execution_count": 6
        }
      ],
      "source": [
        "historia.pop(\"astronauta\")\n",
        "historia"
      ]
    },
    {
      "cell_type": "markdown",
      "id": "6b476e12",
      "metadata": {
        "id": "6b476e12"
      },
      "source": [
        "## Añadir y borrar un elemento"
      ]
    },
    {
      "cell_type": "code",
      "execution_count": 7,
      "id": "167316ac",
      "metadata": {
        "id": "167316ac",
        "outputId": "ffdd23fc-3fd3-4983-c421-2e2a93257917",
        "colab": {
          "base_uri": "https://localhost:8080/"
        }
      },
      "outputs": [
        {
          "output_type": "execute_result",
          "data": {
            "text/plain": [
              "{'verde': ['green', 'vert'],\n",
              " 'rojo': ['red', 'rouge'],\n",
              " 'azul': ['blue', 'bleu']}"
            ]
          },
          "metadata": {},
          "execution_count": 7
        }
      ],
      "source": [
        "color = {'verde': ['green','vert'],\n",
        "        'rojo': ['red','rouge'],\n",
        "        'azul': ['blue','bleu']}\n",
        "color                                       # diccionario de colores con traducción en inglés y en francés"
      ]
    },
    {
      "cell_type": "code",
      "execution_count": 8,
      "id": "084f0077",
      "metadata": {
        "id": "084f0077",
        "outputId": "1f3350f0-10f9-4fda-f745-969323daa17b",
        "colab": {
          "base_uri": "https://localhost:8080/"
        }
      },
      "outputs": [
        {
          "output_type": "execute_result",
          "data": {
            "text/plain": [
              "{'verde': ['green', 'vert'],\n",
              " 'rojo': ['red', 'rouge'],\n",
              " 'azul': ['blue', 'bleu'],\n",
              " 'violeta': ['purple', 'violette']}"
            ]
          },
          "metadata": {},
          "execution_count": 8
        }
      ],
      "source": [
        "color['violeta'] = ['purple','violette']\n",
        "color"
      ]
    },
    {
      "cell_type": "code",
      "execution_count": 9,
      "id": "b53dc70d",
      "metadata": {
        "id": "b53dc70d",
        "outputId": "842a7bdf-f721-42a8-8c9b-3c6ab6e0a171",
        "colab": {
          "base_uri": "https://localhost:8080/"
        }
      },
      "outputs": [
        {
          "output_type": "execute_result",
          "data": {
            "text/plain": [
              "{'verde': ['green', 'vert'],\n",
              " 'azul': ['blue', 'bleu'],\n",
              " 'violeta': ['purple', 'violette']}"
            ]
          },
          "metadata": {},
          "execution_count": 9
        }
      ],
      "source": [
        "del(color['rojo'])\n",
        "color"
      ]
    },
    {
      "cell_type": "markdown",
      "id": "2870f9df",
      "metadata": {
        "id": "2870f9df"
      },
      "source": [
        "## Operar con valores"
      ]
    },
    {
      "cell_type": "markdown",
      "id": "1907ee62",
      "metadata": {
        "id": "1907ee62"
      },
      "source": [
        "### Modificando el valor correspondiente a una clave."
      ]
    },
    {
      "cell_type": "code",
      "execution_count": 10,
      "id": "2f2a7206",
      "metadata": {
        "id": "2f2a7206",
        "outputId": "8ec119af-e3e1-42ec-9ab1-dadd571f60cd",
        "colab": {
          "base_uri": "https://localhost:8080/"
        }
      },
      "outputs": [
        {
          "output_type": "execute_result",
          "data": {
            "text/plain": [
              "{'Ana': 24, 'Luis': 27, 'Eva': 25, 'Raul': 26}"
            ]
          },
          "metadata": {},
          "execution_count": 10
        }
      ],
      "source": [
        "edad = {'Ana':23, 'Luis':27, 'Eva':25, 'Raul':26}\n",
        "edad['Ana'] += 1                                   # es el cumpleaños de Ana\n",
        "edad"
      ]
    },
    {
      "cell_type": "markdown",
      "id": "b51c7526",
      "metadata": {
        "id": "b51c7526"
      },
      "source": [
        "### Comparando valores de varias claves"
      ]
    },
    {
      "cell_type": "code",
      "execution_count": 11,
      "id": "27756e03",
      "metadata": {
        "id": "27756e03",
        "outputId": "50ca6381-f3fc-4f75-fa49-3bc6fc3c361e",
        "colab": {
          "base_uri": "https://localhost:8080/"
        }
      },
      "outputs": [
        {
          "output_type": "execute_result",
          "data": {
            "text/plain": [
              "True"
            ]
          },
          "metadata": {},
          "execution_count": 11
        }
      ],
      "source": [
        "edad['Ana'] < edad['Eva'] < edad['Raul']           # comparando los valores de varias claves"
      ]
    },
    {
      "cell_type": "markdown",
      "id": "cb0c38d1",
      "metadata": {
        "id": "cb0c38d1"
      },
      "source": [
        "## Listar clave, valor\n",
        "Usando bucles podemos listar el contenido de la clave y/o el valor de un diccionario."
      ]
    },
    {
      "cell_type": "code",
      "execution_count": 12,
      "id": "71e062fa",
      "metadata": {
        "id": "71e062fa",
        "outputId": "91a68f55-0935-449f-edff-d838e6750320",
        "colab": {
          "base_uri": "https://localhost:8080/"
        }
      },
      "outputs": [
        {
          "output_type": "stream",
          "name": "stdout",
          "text": [
            "Ana\n",
            "Luis\n",
            "Eva\n",
            "Raul\n"
          ]
        }
      ],
      "source": [
        "for k in edad:               # obtenemos solo un listado de la clave\n",
        "    print(k)"
      ]
    },
    {
      "cell_type": "code",
      "execution_count": 13,
      "id": "5774173e",
      "metadata": {
        "id": "5774173e",
        "outputId": "95d1c528-3133-42b8-ac81-85bbb5fe4aca",
        "colab": {
          "base_uri": "https://localhost:8080/"
        }
      },
      "outputs": [
        {
          "output_type": "stream",
          "name": "stdout",
          "text": [
            "24\n",
            "27\n",
            "25\n",
            "26\n"
          ]
        }
      ],
      "source": [
        "for k in edad:               # conseguimos listar el valor\n",
        "    print(edad[k])"
      ]
    },
    {
      "cell_type": "code",
      "execution_count": 14,
      "id": "58c41835",
      "metadata": {
        "id": "58c41835",
        "outputId": "f6039d69-7efa-4bc8-8a8d-4494c3ffea8c",
        "colab": {
          "base_uri": "https://localhost:8080/"
        }
      },
      "outputs": [
        {
          "output_type": "stream",
          "name": "stdout",
          "text": [
            "Ana 24\n",
            "Luis 27\n",
            "Eva 25\n",
            "Raul 26\n"
          ]
        }
      ],
      "source": [
        "for k in edad:               # listamos ambos\n",
        "    print(k, edad[k])"
      ]
    },
    {
      "cell_type": "markdown",
      "id": "0ea901a4",
      "metadata": {
        "id": "0ea901a4"
      },
      "source": [
        "### Usando items"
      ]
    },
    {
      "cell_type": "code",
      "execution_count": 15,
      "id": "0688d39a",
      "metadata": {
        "id": "0688d39a",
        "outputId": "0d05a62e-b383-4cae-c0e6-7f5f4dc62ca4",
        "colab": {
          "base_uri": "https://localhost:8080/"
        }
      },
      "outputs": [
        {
          "output_type": "stream",
          "name": "stdout",
          "text": [
            "Ana 24\n",
            "Luis 27\n",
            "Eva 25\n",
            "Raul 26\n"
          ]
        }
      ],
      "source": [
        "for k,v in edad.items():\n",
        "    print(k, v)"
      ]
    }
  ],
  "metadata": {
    "kernelspec": {
      "display_name": "Python 3",
      "language": "python",
      "name": "python3"
    },
    "language_info": {
      "codemirror_mode": {
        "name": "ipython",
        "version": 3
      },
      "file_extension": ".py",
      "mimetype": "text/x-python",
      "name": "python",
      "nbconvert_exporter": "python",
      "pygments_lexer": "ipython3",
      "version": "3.8.8"
    },
    "colab": {
      "name": "calisto1_0240.ipynb",
      "provenance": [],
      "include_colab_link": true
    }
  },
  "nbformat": 4,
  "nbformat_minor": 5
}