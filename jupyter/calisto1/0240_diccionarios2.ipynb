{
  "cells": [
    {
      "cell_type": "markdown",
      "metadata": {
        "id": "view-in-github",
        "colab_type": "text"
      },
      "source": [
        "<a href=\"https://colab.research.google.com/github/financieras/pyCourse/blob/main/jupyter/calisto1_0240.ipynb\" target=\"_parent\"><img src=\"https://colab.research.google.com/assets/colab-badge.svg\" alt=\"Open In Colab\"/></a>"
      ]
    },
    {
      "cell_type": "markdown",
      "id": "bf18c881",
      "metadata": {
        "id": "bf18c881"
      },
      "source": [
        "# Diccionarios [2]"
      ]
    },
    {
      "cell_type": "code",
      "execution_count": null,
      "id": "4d0416b0",
      "metadata": {
        "id": "4d0416b0"
      },
      "outputs": [],
      "source": [
        "historia = {\n",
        "  \"Apolo\": 11,\n",
        "  \"astronauta\": \"Neil Armstrong\",\n",
        "  \"año\": 1969\n",
        "}\n",
        "historia"
      ]
    },
    {
      "cell_type": "code",
      "execution_count": null,
      "id": "667b1403",
      "metadata": {
        "id": "667b1403"
      },
      "outputs": [],
      "source": [
        "historia[\"Apolo\"] = 'XI'          # Cambiamos el valor de la clave Apolo\n",
        "historia"
      ]
    },
    {
      "cell_type": "code",
      "execution_count": null,
      "id": "80fc73ca",
      "metadata": {
        "id": "80fc73ca"
      },
      "outputs": [],
      "source": [
        "print(\"año\" in historia)          # True"
      ]
    },
    {
      "cell_type": "code",
      "execution_count": null,
      "id": "ea8d6781",
      "metadata": {
        "id": "ea8d6781"
      },
      "outputs": [],
      "source": [
        "print(len(historia))"
      ]
    },
    {
      "cell_type": "code",
      "execution_count": null,
      "id": "98fd9a06",
      "metadata": {
        "id": "98fd9a06"
      },
      "outputs": [],
      "source": [
        "historia[\"módulo\"] = \"Eagle\"\n",
        "historia"
      ]
    },
    {
      "cell_type": "code",
      "execution_count": null,
      "id": "b6841671",
      "metadata": {
        "id": "b6841671"
      },
      "outputs": [],
      "source": [
        "historia.pop(\"astronauta\")\n",
        "historia"
      ]
    },
    {
      "cell_type": "markdown",
      "id": "6b476e12",
      "metadata": {
        "id": "6b476e12"
      },
      "source": [
        "## Añadir y borrar un elemento"
      ]
    },
    {
      "cell_type": "code",
      "execution_count": null,
      "id": "167316ac",
      "metadata": {
        "id": "167316ac"
      },
      "outputs": [],
      "source": [
        "color = {'verde': ['green','vert'],\n",
        "        'rojo': ['red','rouge'],\n",
        "        'azul': ['blue','bleu']}\n",
        "color                                       # diccionario de colores con traducción en inglés y en francés"
      ]
    },
    {
      "cell_type": "code",
      "execution_count": null,
      "id": "084f0077",
      "metadata": {
        "id": "084f0077"
      },
      "outputs": [],
      "source": [
        "color['violeta'] = ['purple','violette']\n",
        "color"
      ]
    },
    {
      "cell_type": "code",
      "execution_count": null,
      "id": "b53dc70d",
      "metadata": {
        "id": "b53dc70d"
      },
      "outputs": [],
      "source": [
        "del(color['rojo'])\n",
        "color"
      ]
    },
    {
      "cell_type": "markdown",
      "id": "2870f9df",
      "metadata": {
        "id": "2870f9df"
      },
      "source": [
        "## Operar con valores"
      ]
    },
    {
      "cell_type": "markdown",
      "id": "1907ee62",
      "metadata": {
        "id": "1907ee62"
      },
      "source": [
        "### Modificando el valor correspondiente a una clave."
      ]
    },
    {
      "cell_type": "code",
      "execution_count": null,
      "id": "2f2a7206",
      "metadata": {
        "id": "2f2a7206"
      },
      "outputs": [],
      "source": [
        "edad = {'Ana':23, 'Luis':27, 'Eva':25, 'Raul':26}\n",
        "edad['Ana'] += 1                                   # es el cumpleaños de Ana\n",
        "edad"
      ]
    },
    {
      "cell_type": "markdown",
      "id": "b51c7526",
      "metadata": {
        "id": "b51c7526"
      },
      "source": [
        "### Comparando valores de varias claves"
      ]
    },
    {
      "cell_type": "code",
      "execution_count": null,
      "id": "27756e03",
      "metadata": {
        "id": "27756e03"
      },
      "outputs": [],
      "source": [
        "edad['Ana'] < edad['Eva'] < edad['Raul']           # comparando los valores de varias claves"
      ]
    },
    {
      "cell_type": "markdown",
      "id": "cb0c38d1",
      "metadata": {
        "id": "cb0c38d1"
      },
      "source": [
        "## Listar clave, valor\n",
        "Usando bucles podemos listar el contenido de la clave y/o el valor de un diccionario."
      ]
    },
    {
      "cell_type": "code",
      "execution_count": null,
      "id": "71e062fa",
      "metadata": {
        "id": "71e062fa"
      },
      "outputs": [],
      "source": [
        "for k in edad:               # obtenemos solo un listado de la clave\n",
        "    print(k)"
      ]
    },
    {
      "cell_type": "code",
      "execution_count": null,
      "id": "5774173e",
      "metadata": {
        "id": "5774173e"
      },
      "outputs": [],
      "source": [
        "for k in edad:               # conseguimos listar el valor\n",
        "    print(edad[k])"
      ]
    },
    {
      "cell_type": "code",
      "execution_count": null,
      "id": "58c41835",
      "metadata": {
        "id": "58c41835"
      },
      "outputs": [],
      "source": [
        "for k in edad:               # listamos ambos\n",
        "    print(k, edad[k])"
      ]
    },
    {
      "cell_type": "markdown",
      "id": "0ea901a4",
      "metadata": {
        "id": "0ea901a4"
      },
      "source": [
        "### Usando items"
      ]
    },
    {
      "cell_type": "code",
      "execution_count": null,
      "id": "0688d39a",
      "metadata": {
        "id": "0688d39a"
      },
      "outputs": [],
      "source": [
        "for k,v in edad.items():\n",
        "    print(k, v)"
      ]
    }
  ],
  "metadata": {
    "kernelspec": {
      "display_name": "Python 3",
      "language": "python",
      "name": "python3"
    },
    "language_info": {
      "codemirror_mode": {
        "name": "ipython",
        "version": 3
      },
      "file_extension": ".py",
      "mimetype": "text/x-python",
      "name": "python",
      "nbconvert_exporter": "python",
      "pygments_lexer": "ipython3",
      "version": "3.8.8"
    },
    "colab": {
      "name": "0240_diccionarios2.ipynb",
      "provenance": [],
      "include_colab_link": true
    }
  },
  "nbformat": 4,
  "nbformat_minor": 5
}
