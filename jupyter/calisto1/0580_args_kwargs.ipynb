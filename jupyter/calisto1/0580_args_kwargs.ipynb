{
  "cells": [
    {
      "cell_type": "markdown",
      "metadata": {
        "id": "view-in-github",
        "colab_type": "text"
      },
      "source": [
        "<a href=\"https://colab.research.google.com/github/financieras/pyCourse/blob/main/jupyter/calisto1/0580_args_kwargs.ipynb\" target=\"_parent\"><img src=\"https://colab.research.google.com/assets/colab-badge.svg\" alt=\"Open In Colab\"/></a>"
      ]
    },
    {
      "cell_type": "markdown",
      "id": "d8f1b28b",
      "metadata": {
        "id": "d8f1b28b"
      },
      "source": [
        "# Funciones: número indeterminado de argumentos\n",
        "**\\*args** y **\\*\\*kwargs**\n",
        "* \\*args → el operador de desempaquetado (*) para descomprimir iterables\n",
        "* \\*\\*kwargs → el operador de desempaquetado (\\**) para descomprimir diccionarios"
      ]
    },
    {
      "cell_type": "markdown",
      "id": "3528769a",
      "metadata": {
        "id": "3528769a"
      },
      "source": [
        "Partimos de una función que suma dos argumentos ... aunque lo deseable sería poder sumar no solo dos sino un número indeterminado de argumentos."
      ]
    },
    {
      "cell_type": "code",
      "execution_count": 1,
      "id": "d7703342",
      "metadata": {
        "id": "d7703342",
        "outputId": "03775b4d-2022-4d15-e9b2-8525f6ad95ac",
        "colab": {
          "base_uri": "https://localhost:8080/"
        }
      },
      "outputs": [
        {
          "output_type": "execute_result",
          "data": {
            "text/plain": [
              "8"
            ]
          },
          "metadata": {},
          "execution_count": 1
        }
      ],
      "source": [
        "def suma(numero1, numero2):\n",
        "    return numero1 + numero2\n",
        "\n",
        "suma(3,5)                       # es necesario pasar exactamente dos argumentos a la función"
      ]
    },
    {
      "cell_type": "markdown",
      "id": "1940b02a",
      "metadata": {
        "id": "1940b02a"
      },
      "source": [
        "## El operador asterisco\n",
        "Función que suma un número indeterminado de argumentos."
      ]
    },
    {
      "cell_type": "code",
      "execution_count": 2,
      "id": "2bcc4d2d",
      "metadata": {
        "id": "2bcc4d2d",
        "outputId": "6941becb-9134-45d3-954b-96ff017b9e7e",
        "colab": {
          "base_uri": "https://localhost:8080/"
        }
      },
      "outputs": [
        {
          "output_type": "stream",
          "name": "stdout",
          "text": [
            "tupla valores: (1, 2, 3, 4)\n",
            "10\n"
          ]
        }
      ],
      "source": [
        "def sumar(*valores):                        # es habitual verlo como def sumar(*args):\n",
        "    print('tupla valores:', valores)        # valores: (1, 2, 3, 4)    devuelve una tupla\n",
        "    total = 0\n",
        "    for valor in valores:\n",
        "        total += valor\n",
        "    return total\n",
        "\n",
        "print(sumar(1, 2, 3, 4))              # 10"
      ]
    },
    {
      "cell_type": "markdown",
      "id": "977a231c",
      "metadata": {
        "id": "977a231c"
      },
      "source": [
        "### Menor de una serie indeterminada de valores\n",
        "Calcular el menor de una serie de valores.  \n",
        "No sabemos cuántos valores tendremos que analizar.  \n",
        "Con el operador asterisco lo conseguiremos, aunque también podríamos haber pasado una lista y creado una función que calculara el mínimo de esa lista. Pero ya que tenemos el operador asterisco podemos utilizarle sin necesidad de crear listas."
      ]
    },
    {
      "cell_type": "code",
      "execution_count": 3,
      "id": "a9608ca0",
      "metadata": {
        "id": "a9608ca0",
        "outputId": "ea86ffaf-5b8c-48a4-f44e-fd8de41b50ff",
        "colab": {
          "base_uri": "https://localhost:8080/"
        }
      },
      "outputs": [
        {
          "output_type": "stream",
          "name": "stdout",
          "text": [
            "3\n"
          ]
        }
      ],
      "source": [
        "def encontrar_menor(*valores):             # es habitual verlo como def encontrar_menor(*args):\n",
        "    menor = valores[0]\n",
        "    for valor in valores:\n",
        "        if valor < menor:\n",
        "            menor = valor\n",
        "    return menor\n",
        "\n",
        "print(encontrar_menor(6, 9, 3))"
      ]
    },
    {
      "cell_type": "markdown",
      "id": "1fda4a6a",
      "metadata": {
        "id": "1fda4a6a"
      },
      "source": [
        "## Dos asteriscos\n",
        "Permite trabajar con diccionarios, pares clave:valor, cuando no sabemos cuántos elementos tendrá el diccionario."
      ]
    },
    {
      "cell_type": "markdown",
      "id": "e984f136",
      "metadata": {
        "id": "e984f136"
      },
      "source": [
        "Imprimir los pares clave valor de un diccionario."
      ]
    },
    {
      "cell_type": "code",
      "execution_count": 4,
      "id": "d773bbc5",
      "metadata": {
        "id": "d773bbc5",
        "outputId": "b8eb7e98-fc36-4e85-9a68-5dc14079cd61",
        "colab": {
          "base_uri": "https://localhost:8080/"
        }
      },
      "outputs": [
        {
          "output_type": "stream",
          "name": "stdout",
          "text": [
            "a → 6\n",
            "b → Python\n",
            "c → [1, 2, 3, 4]\n"
          ]
        }
      ],
      "source": [
        "def imprimir_parametros(**valores):           # recoge los argumentos en forma de diccionario, habitualmente **kwargs\n",
        "    for k, v in valores.items():              # k, v son los pares “key:value”\n",
        "        print(f'{k} → {v}')\n",
        "\n",
        "imprimir_parametros(a=6, b='Python', c=[1,2,3,4])"
      ]
    },
    {
      "cell_type": "code",
      "execution_count": 5,
      "id": "f59e3d64",
      "metadata": {
        "id": "f59e3d64",
        "outputId": "adc7bbf1-bf61-454b-9618-28c795137ae9",
        "colab": {
          "base_uri": "https://localhost:8080/"
        }
      },
      "outputs": [
        {
          "output_type": "stream",
          "name": "stdout",
          "text": [
            "{'x': 1, 'y': 2, 'z': 3}\n",
            "x → 1\n",
            "y → 2\n",
            "z → 3\n"
          ]
        }
      ],
      "source": [
        "d = {'x':1, 'y':2, 'z':3}                     # creamos un diccionario\n",
        "print(d)\n",
        "imprimir_parametros(**d)"
      ]
    },
    {
      "cell_type": "code",
      "execution_count": 6,
      "id": "b70ffe58",
      "metadata": {
        "id": "b70ffe58",
        "outputId": "598b1f70-971d-471e-d376-57c87952c993",
        "colab": {
          "base_uri": "https://localhost:8080/"
        }
      },
      "outputs": [
        {
          "output_type": "execute_result",
          "data": {
            "text/plain": [
              "{'ciudad': 'Londres', 'habitantes': 13879757, 'temperaturas': [8, 14, 24, 15]}"
            ]
          },
          "metadata": {},
          "execution_count": 6
        }
      ],
      "source": [
        "def reporta_dic(**valores):                    # es habitual verlo como def reporta_dic(**kwargs):\n",
        "    return valores                             # retorna un diccionario\n",
        "\n",
        "reporta_dic(ciudad='Londres', habitantes=13879757, temperaturas=[8,14,24,15])"
      ]
    },
    {
      "cell_type": "markdown",
      "id": "307d9550",
      "metadata": {
        "id": "307d9550"
      },
      "source": [
        "## Uno y dos asteriscos\n",
        "Podemos recibir un número indeterminado de argumentos más un número indeterminado de argumentos con asignación de variable."
      ]
    },
    {
      "cell_type": "code",
      "execution_count": 7,
      "id": "65827e50",
      "metadata": {
        "id": "65827e50",
        "outputId": "1e423d8b-9837-426c-f47f-f0595bfa0b95",
        "colab": {
          "base_uri": "https://localhost:8080/"
        }
      },
      "outputs": [
        {
          "output_type": "stream",
          "name": "stdout",
          "text": [
            "dict_items([('ciudad', 'Roma'), ('poblacion', 12292895), ('region', 'Lacio'), ('nick', 'Ciudad eterna')])\n",
            "0 ciudad Roma\n",
            "1 poblacion 12292895\n",
            "2 region Lacio\n",
            "3 nick Ciudad eterna\n",
            "La temperatura media de Roma es 15.0\n"
          ]
        },
        {
          "output_type": "execute_result",
          "data": {
            "text/plain": [
              "60"
            ]
          },
          "metadata": {},
          "execution_count": 7
        }
      ],
      "source": [
        "# La función recoge unos cuantos números y unas parejas de variable=dato\n",
        "\n",
        "def funcion(*valores, **parejas):              # es habitual verlo como def funcion(*args,**kwargs):\n",
        "    print(parejas.items())\n",
        "    for i,(k,v) in enumerate(parejas.items()):\n",
        "        print(i,k,v)\n",
        "    total = 0\n",
        "    for valor in valores:\n",
        "        total += valor\n",
        "    print(f\"La temperatura media de Roma es {total/4}\")\n",
        "    return total\n",
        "\n",
        "funcion(7, 13, 24, 16, ciudad=\"Roma\", poblacion=12292895, region='Lacio', nick='Ciudad eterna')"
      ]
    }
  ],
  "metadata": {
    "kernelspec": {
      "display_name": "Python 3",
      "language": "python",
      "name": "python3"
    },
    "language_info": {
      "codemirror_mode": {
        "name": "ipython",
        "version": 3
      },
      "file_extension": ".py",
      "mimetype": "text/x-python",
      "name": "python",
      "nbconvert_exporter": "python",
      "pygments_lexer": "ipython3",
      "version": "3.8.8"
    },
    "colab": {
      "name": "calisto1_0580.ipynb",
      "provenance": [],
      "include_colab_link": true
    }
  },
  "nbformat": 4,
  "nbformat_minor": 5
}