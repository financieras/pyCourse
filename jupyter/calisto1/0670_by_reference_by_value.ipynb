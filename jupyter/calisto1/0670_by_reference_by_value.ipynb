{
  "cells": [
    {
      "cell_type": "markdown",
      "metadata": {
        "id": "view-in-github",
        "colab_type": "text"
      },
      "source": [
        "<a href=\"https://colab.research.google.com/github/financieras/pyCourse/blob/main/jupyter/calisto1/0670_by_reference_by_value.ipynb\" target=\"_parent\"><img src=\"https://colab.research.google.com/assets/colab-badge.svg\" alt=\"Open In Colab\"/></a>"
      ]
    },
    {
      "cell_type": "markdown",
      "metadata": {
        "id": "oGKgutZD-tRO"
      },
      "source": [
        "# Funciones. Pasar por referencia o por valor [1]"
      ],
      "id": "oGKgutZD-tRO"
    },
    {
      "cell_type": "markdown",
      "metadata": {
        "id": "LEeYCBeu-tRR"
      },
      "source": [
        "* Pasar variables **por referencia** (by reference) o enviar argumentos por referencia, a las funciones  \n",
        "* Pasar variables o **por valor** (by value) o enviar argumentos por copia, a las funciones  \n",
        "* Los parámetros que recibe una función pueden ser:\n",
        " - referencias o\n",
        " - copias\n",
        "\n",
        "* En Python los argumentos se pasan por **valor**.    \n",
        "  - Esto significa que se crea una copia, dentro de la función, de los valores que enviamos, en sus propias variables.\n",
        "\n",
        "* Excepto las colecciones (listas, tuplas, diccionarios y conjuntos) que se envían por **referencia**.\n",
        "  - Esto significa que dentro de la función estaremos manejando el dato original.\n"
      ],
      "id": "LEeYCBeu-tRR"
    },
    {
      "cell_type": "markdown",
      "metadata": {
        "id": "KyVS-ojX-tRV"
      },
      "source": [
        "## Pasar argumentos por valor\n",
        "Enviar un argumento a una función por **valor**  \n",
        "\n",
        "Válido para cualquier argumento de tipo valor o primitivo:  \n",
        "- número real (integer, long, float), string, boolean, None (nulo o vacío)"
      ],
      "id": "KyVS-ojX-tRV"
    },
    {
      "cell_type": "code",
      "execution_count": null,
      "metadata": {
        "id": "g-uin7BF-tRX",
        "outputId": "9d1ba3cb-fb26-45fb-d64e-94ffcd87ab02"
      },
      "outputs": [
        {
          "name": "stdout",
          "output_type": "stream",
          "text": [
            "5\n"
          ]
        }
      ],
      "source": [
        "x = 5\n",
        "\n",
        "def incrementa(n): # n es una copia de x, ocupan diferente lugar en memoria, ambos valen 10\n",
        "    n += 2         # al sumar 2 a n, el valor de n pasa a ser 7 pero no se altera el valor de x\n",
        "                   # ya que n era una copia de x en diferente lugar de memoria\n",
        "incrementa(x)\n",
        "print(x)           # 5"
      ],
      "id": "g-uin7BF-tRX"
    },
    {
      "cell_type": "markdown",
      "metadata": {
        "id": "683oK5NR-tRZ"
      },
      "source": [
        "## Pasar argumentos por referencia\n",
        "Enviar un argumento a una función por **referencia**\n",
        "\n",
        "Válido para los tipos estructurados o no primitivos"
      ],
      "id": "683oK5NR-tRZ"
    },
    {
      "cell_type": "code",
      "execution_count": null,
      "metadata": {
        "id": "Ajm_Geem-tRa",
        "outputId": "59c3fa69-31df-4739-90ec-c6ce4345cd77"
      },
      "outputs": [
        {
          "name": "stdout",
          "output_type": "stream",
          "text": [
            "[10, 0, 0]\n"
          ]
        }
      ],
      "source": [
        "x = [0, 0, 0]      # la instancia x es una lista, se guarda en memoria de forma dinámica (puede crecer)\n",
        "\n",
        "def suma(y):       # y no es copia de x, simplemente hace referencia a una misma dirección de memoria,\n",
        "    y[0] += 10     # se envía como parámetro la dirección de memoria que ocupa el objeto x\n",
        "\n",
        "suma(x)\n",
        "print(x)           # [10, 0, 0] la lista original si se ha alterado"
      ],
      "id": "Ajm_Geem-tRa"
    },
    {
      "cell_type": "markdown",
      "metadata": {
        "id": "FRsLe9DG-tRc"
      },
      "source": [
        "## Conseguir pasar colecciones por valor\n",
        "Colecciones:\n",
        "- Listas\n",
        "- Tuplas\n",
        "- Diccionarios\n",
        "- Conjuntos\n",
        "\n",
        "Siempre que tengamos referencias a objetos al cambiar la referencia, todas las demás variables,  \n",
        "que apunten a este objeto, verán los cambios de forma inmediata.  \n",
        "Para que esto no suceda, primero tendríamos que crear una copia de la lista para luego ser modificada"
      ],
      "id": "FRsLe9DG-tRc"
    },
    {
      "cell_type": "code",
      "execution_count": null,
      "metadata": {
        "id": "dYK5kZvw-tRd",
        "outputId": "d1f0e2f4-2c48-4296-f5c7-d0bb732857cf"
      },
      "outputs": [
        {
          "name": "stdout",
          "output_type": "stream",
          "text": [
            "[0, 0, 0]\n"
          ]
        }
      ],
      "source": [
        "x = [0, 0, 0]\n",
        "\n",
        "def suma2(y):\n",
        "    y_copia=y[:]       # hacemos una copia de la lista\n",
        "    y_copia[0] += 10   # trabajamos con la copia para que la lista original no se altere\n",
        "\n",
        "suma2(x)\n",
        "print(x)               # [0, 0, 0]  comprobamos que la lista original no se ha alterado"
      ],
      "id": "dYK5kZvw-tRd"
    },
    {
      "cell_type": "markdown",
      "metadata": {
        "id": "UWFbGkbs-tRf"
      },
      "source": [
        "### Pasando directamente la copia\n",
        "Es una variante del caso anterior donde, al invocar la función, pasamos directamente la copia de la lista."
      ],
      "id": "UWFbGkbs-tRf"
    },
    {
      "cell_type": "code",
      "execution_count": null,
      "metadata": {
        "id": "glovwc-f-tRh",
        "outputId": "6f5dc3de-ea2c-4cc3-dd06-de99962c6fc6"
      },
      "outputs": [
        {
          "name": "stdout",
          "output_type": "stream",
          "text": [
            "[0, 0, 0]\n"
          ]
        }
      ],
      "source": [
        "x = [0, 0, 0]\n",
        "\n",
        "def suma2(y):\n",
        "    y[0] += 10         # trabajamos con la copia para que la lista original no se altere\n",
        "\n",
        "suma2(x[:])            # al invocar la función la pasamos como argumento una copia de la lista\n",
        "print(x)               # [0, 0, 0]  comprobamos que la lista original no se ha alterado"
      ],
      "id": "glovwc-f-tRh"
    },
    {
      "cell_type": "markdown",
      "metadata": {
        "id": "I5Zs5MTX-tRj"
      },
      "source": [
        "### Si no deseamos perder el valor de la variable interna\n",
        "En este caso debemos añadir un return a la función y luego añadir un print"
      ],
      "id": "I5Zs5MTX-tRj"
    },
    {
      "cell_type": "code",
      "execution_count": null,
      "metadata": {
        "id": "NibBkwAa-tRk",
        "outputId": "01ed2599-355d-4ab5-de6b-e5b692d5310f"
      },
      "outputs": [
        {
          "name": "stdout",
          "output_type": "stream",
          "text": [
            "[10, 0, 0]\n",
            "[0, 0, 0]\n"
          ]
        }
      ],
      "source": [
        "x = [0, 0, 0]\n",
        "\n",
        "def suma3(y):\n",
        "    y_copia = y[:]\n",
        "    y_copia[0] += 10\n",
        "    return y_copia     # añadimos un return para no perder el valor de la variable interna\n",
        "\n",
        "print(suma3(x))        # [10, 0, 0] al añadir un print imprimimos el valor retornado por la función\n",
        "print(x)               # [0, 0, 0] comprobamos que la lista original no se ha alterado"
      ],
      "id": "NibBkwAa-tRk"
    },
    {
      "cell_type": "markdown",
      "metadata": {
        "id": "ndkW1-4Y-tRl"
      },
      "source": [
        "## Conseguir pasar valores primitivos por referencia\n",
        "En realidad, esto no es posible, pero existe un truco que da el mismo resultado.  \n",
        "Es necesario hacer dos pasos:\n",
        "- devolver el resultado modificado dentro de la función y\n",
        "- luego, fuera de la función, volverlo a asignar a la variable."
      ],
      "id": "ndkW1-4Y-tRl"
    },
    {
      "cell_type": "code",
      "execution_count": null,
      "metadata": {
        "id": "hzpcg2g--tRm",
        "outputId": "f0ac1e42-c816-4e0e-d96b-bbd73da02517"
      },
      "outputs": [
        {
          "name": "stdout",
          "output_type": "stream",
          "text": [
            "7\n"
          ]
        }
      ],
      "source": [
        "x = 5\n",
        "\n",
        "def aumenta(n):\n",
        "    return n+2     # retornamos el valor de la variable ya modificado\n",
        "\n",
        "x = aumenta(x)     # asignamos el resultado de la función a la variable\n",
        "print(x)           # 7"
      ],
      "id": "hzpcg2g--tRm"
    }
  ],
  "metadata": {
    "kernelspec": {
      "display_name": "Python 3",
      "language": "python",
      "name": "python3"
    },
    "language_info": {
      "codemirror_mode": {
        "name": "ipython",
        "version": 3
      },
      "file_extension": ".py",
      "mimetype": "text/x-python",
      "name": "python",
      "nbconvert_exporter": "python",
      "pygments_lexer": "ipython3",
      "version": "3.8.5"
    },
    "colab": {
      "name": "0670_by_reference_by_value.ipynb",
      "provenance": [],
      "include_colab_link": true
    }
  },
  "nbformat": 4,
  "nbformat_minor": 5
}