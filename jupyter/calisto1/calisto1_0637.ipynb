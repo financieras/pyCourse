{
  "nbformat": 4,
  "nbformat_minor": 0,
  "metadata": {
    "colab": {
      "provenance": [],
      "authorship_tag": "ABX9TyPWjYigg4RnrEmJENDmAY9n",
      "include_colab_link": true
    },
    "kernelspec": {
      "name": "python3",
      "display_name": "Python 3"
    },
    "language_info": {
      "name": "python"
    }
  },
  "cells": [
    {
      "cell_type": "markdown",
      "metadata": {
        "id": "view-in-github",
        "colab_type": "text"
      },
      "source": [
        "<a href=\"https://colab.research.google.com/github/financieras/pyCourse/blob/main/jupyter/calisto1/calisto1_0637.ipynb\" target=\"_parent\"><img src=\"https://colab.research.google.com/assets/colab-badge.svg\" alt=\"Open In Colab\"/></a>"
      ]
    },
    {
      "cell_type": "markdown",
      "source": [
        "# Suma de dos números para llegar al target\n"
      ],
      "metadata": {
        "id": "MyCj5W1df3Ht"
      }
    },
    {
      "cell_type": "markdown",
      "source": [
        "## Recorriendo todas las parejas"
      ],
      "metadata": {
        "id": "BvNJCDrniPPT"
      }
    },
    {
      "cell_type": "code",
      "source": [
        "def suma_dos_numeros(lista, target):\n",
        "    for i in range(len(lista)-1):\n",
        "        for j in range(i+1,len(lista)):\n",
        "            if lista[i]+lista[j]==target:\n",
        "                print(f\"{lista[i]} + {lista[j]} = {target}\")\n",
        "\n",
        "suma_dos_numeros([10, 11, 12, 13, 14, 15], 24)\n",
        "print()\n",
        "suma_dos_numeros([3, 5, 2, -4, 8, 11], 7)\n",
        "print()\n",
        "suma_dos_numeros([4, 5, 1, 8], 6)"
      ],
      "metadata": {
        "colab": {
          "base_uri": "https://localhost:8080/"
        },
        "id": "vi3I1gIhgJP4",
        "outputId": "f0d02cb9-a24b-40ad-955d-47a7ca28e3a4"
      },
      "execution_count": 10,
      "outputs": [
        {
          "output_type": "stream",
          "name": "stdout",
          "text": [
            "10 + 14 = 24\n",
            "11 + 13 = 24\n",
            "\n",
            "5 + 2 = 7\n",
            "-4 + 11 = 7\n",
            "\n",
            "5 + 1 = 6\n"
          ]
        }
      ]
    },
    {
      "cell_type": "markdown",
      "source": [
        "## Con programación dinámica"
      ],
      "metadata": {
        "id": "fReMlzYZiTkh"
      }
    },
    {
      "cell_type": "code",
      "source": [
        "def suma_dos_numeros(arr, s):\n",
        "    sums = []\n",
        "    hashTable  = {}\n",
        "\n",
        "    # comprueba cada elemento en el array\n",
        "    for i in arr:\n",
        "        elementoMinus = s- i   # calcula s- el elemento actual\n",
        "        # comprueba si el elementoMinus existe en la memoria\n",
        "        if \n",
        "\n",
        "\n",
        "\n",
        "suma_dos_numeros([3, 5, 2, -4, 8, 11], 7)"
      ],
      "metadata": {
        "id": "EVhQGaUpiXIn"
      },
      "execution_count": null,
      "outputs": []
    }
  ]
}