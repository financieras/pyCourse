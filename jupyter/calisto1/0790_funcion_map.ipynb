{
  "nbformat": 4,
  "nbformat_minor": 0,
  "metadata": {
    "colab": {
      "provenance": [],
      "authorship_tag": "ABX9TyMJzZ09lagopalCOKgOtgxO",
      "include_colab_link": true
    },
    "kernelspec": {
      "name": "python3",
      "display_name": "Python 3"
    },
    "language_info": {
      "name": "python"
    }
  },
  "cells": [
    {
      "cell_type": "markdown",
      "metadata": {
        "id": "view-in-github",
        "colab_type": "text"
      },
      "source": [
        "<a href=\"https://colab.research.google.com/github/financieras/pyCourse/blob/main/jupyter/calisto1/0790_funcion_map.ipynb\" target=\"_parent\"><img src=\"https://colab.research.google.com/assets/colab-badge.svg\" alt=\"Open In Colab\"/></a>"
      ]
    },
    {
      "cell_type": "markdown",
      "source": [
        "# La función `map`\n",
        "La función map () devuelve un objeto de mapa (que es un iterador) de los resultados después de aplicar la función dada a cada elemento de un iterable dado (lista, tupla, etc.)\n",
        "\n",
        "`map(fun, iter)`\n",
        "\n",
        "* `fun`: Es una función a la que map pasa cada elemento de iterable dado.\n",
        "* `iter` : Es un iterable que se va a mapear."
      ],
      "metadata": {
        "id": "jhUFY0JLAYWI"
      }
    },
    {
      "cell_type": "markdown",
      "source": [
        "## Ejemplo 1 Duplicar\n",
        "*La función `duplicar` toma un número como argumento y devuelve el número multiplicado por 2.\n",
        "* Luego, utilizamos la función `map` para aplicar la función `duplicar` a cada elemento de la lista `numeros`.\n",
        "* Finalmente, convertimos el resultado en una lista y lo imprimimos.\n",
        "* El resultado será `[2, 4, 6, 8, 10]`, ya que cada número de la lista original se duplica."
      ],
      "metadata": {
        "id": "LyTT4dMIAfSi"
      }
    },
    {
      "cell_type": "code",
      "execution_count": 2,
      "metadata": {
        "colab": {
          "base_uri": "https://localhost:8080/"
        },
        "id": "WJfo2LQU_-AH",
        "outputId": "6243188f-9b4f-4d07-9933-a066c391447a"
      },
      "outputs": [
        {
          "output_type": "stream",
          "name": "stdout",
          "text": [
            "[2, 4, 6, 8, 10]\n"
          ]
        }
      ],
      "source": [
        "# Definir una función para duplicar un número\n",
        "def duplicar(numero):\n",
        "    return numero * 2\n",
        "\n",
        "# Crear una lista de números\n",
        "numeros = [1, 2, 3, 4, 5]\n",
        "\n",
        "# Aplicar la función duplicar a cada elemento de la lista usando map\n",
        "resultado = list(map(duplicar, numeros))\n",
        "\n",
        "# Imprimir el resultado\n",
        "print(resultado)"
      ]
    },
    {
      "cell_type": "markdown",
      "source": [
        "## Ejemplo 2. Strint to Integer\n",
        "* Convertir una lista de cadenas en una lista de enteros.\n",
        "* Tenemos una lista de cadenas numéricas.\n",
        "* Utilizamos la función `map` junto con la función `int` para convertir cada cadena en un entero.\n",
        "* Luego, convertimos el resultado en una lista y lo imprimimos.\n",
        "* El resultado será `[1, 2, 3, 4, 5]`, ya que cada cadena numérica se convierte en su correspondiente entero."
      ],
      "metadata": {
        "id": "-ZyqDV3pA3mT"
      }
    },
    {
      "cell_type": "code",
      "source": [
        "# Crear una lista de cadenas numéricas\n",
        "cadenas_numericas = [\"1\", \"2\", \"3\", \"4\", \"5\"]\n",
        "\n",
        "# Utilizar map para convertir las cadenas en enteros\n",
        "numeros = list(map(int, cadenas_numericas))\n",
        "\n",
        "# Imprimir la lista de enteros\n",
        "print(numeros)"
      ],
      "metadata": {
        "colab": {
          "base_uri": "https://localhost:8080/"
        },
        "id": "fASCp81tBL-w",
        "outputId": "dc367444-fb93-46d8-9035-1716e9704b37"
      },
      "execution_count": 3,
      "outputs": [
        {
          "output_type": "stream",
          "name": "stdout",
          "text": [
            "[1, 2, 3, 4, 5]\n"
          ]
        }
      ]
    },
    {
      "cell_type": "markdown",
      "source": [
        "## Ejemplo 3. `map` usando una función `lambda`\n",
        "* Utilizamos la función `map` junto con una función `lambda` para elevar al cuadrado cada número de la lista numeros.\n",
        "* La función `lambda` toma un argumento `x` y devuelve `x**2`, es decir, el número elevado al cuadrado.\n",
        "* Luego, convertimos el resultado en una lista y lo imprimimos.\n",
        "* El resultado será `[1, 4, 9, 16, 25]`, ya que cada número de la lista original se eleva al cuadrado."
      ],
      "metadata": {
        "id": "0gpN_dkOB1tY"
      }
    },
    {
      "cell_type": "code",
      "source": [
        "# Crear una lista de números\n",
        "numeros = [1, 2, 3, 4, 5, 6]\n",
        "\n",
        "# Utilizar map con una función lambda para elevar al cuadrado cada número\n",
        "resultado = list(map(lambda x: x**2, numeros))\n",
        "\n",
        "# Imprimir el resultado\n",
        "print(resultado)"
      ],
      "metadata": {
        "colab": {
          "base_uri": "https://localhost:8080/"
        },
        "id": "CEV6pXPSCIEQ",
        "outputId": "c896beb2-9b83-4d16-93f2-ba95de1b377d"
      },
      "execution_count": 4,
      "outputs": [
        {
          "output_type": "stream",
          "name": "stdout",
          "text": [
            "[1, 4, 9, 16, 25, 36]\n"
          ]
        }
      ]
    },
    {
      "cell_type": "markdown",
      "source": [
        "## Ejemplo 4. Combinar dos listas utilizando una función `lambda`\n",
        "* En este caso usamos dos iterables.\n",
        "* Utilizamos la función `map` junto con una función `lambda` para sumar los elementos correspondientes de las listas `numeros1` y `numeros2`.\n",
        "* La función `lambda` toma dos argumentos `x` e `y` y devuelve `x + y`, es decir, la suma de los dos números.\n",
        "* Luego, convertimos el resultado en una lista y lo imprimimos.\n",
        "* El resultado será `[11, 22, 33, 44, 55]`, ya que se suman los elementos correspondientes de ambas listas."
      ],
      "metadata": {
        "id": "x2etEs3hC4Up"
      }
    },
    {
      "cell_type": "code",
      "source": [
        "# Crear dos listas de números\n",
        "numeros1 = [1, 2, 3, 4, 5]\n",
        "numeros2 = [10, 20, 30, 40, 50]\n",
        "\n",
        "# Utilizar map con una función lambda para sumar los elementos correspondientes de ambas listas\n",
        "resultado = list(map(lambda x, y: x + y, numeros1, numeros2))\n",
        "\n",
        "# Imprimir el resultado\n",
        "print(resultado)"
      ],
      "metadata": {
        "colab": {
          "base_uri": "https://localhost:8080/"
        },
        "id": "RI6HJoeyDU41",
        "outputId": "43d1af41-564b-4c8b-8c7b-91ea8a06b91a"
      },
      "execution_count": 5,
      "outputs": [
        {
          "output_type": "stream",
          "name": "stdout",
          "text": [
            "[11, 22, 33, 44, 55]\n"
          ]
        }
      ]
    },
    {
      "cell_type": "markdown",
      "source": [
        "## Ejemplo 5 Convertir una cadena a mayúsculas\n",
        "* Utiliza la función `map` junto con `join` para concatenar una lista de cadenas en una sola cadena.\n",
        "* Utilizamos la función `map` junto con `str.upper` para convertir cada cadena en mayúsculas.\n",
        "* Luego, utilizamos `join` para concatenar las cadenas en una sola cadena, separadas por espacios.\n",
        "* El resultado será \"HOLA MUNDO ! ESTO ES UN EJEMPLO\", ya que todas las cadenas se convierten a mayúsculas y se unen en una sola cadena separada por espacios."
      ],
      "metadata": {
        "id": "wyr97nd7EJeQ"
      }
    },
    {
      "cell_type": "code",
      "source": [
        "# Crear una lista de cadenas\n",
        "cadenas = [\"Hola\", \"mundo\", \"!\", \"Esto\", \"es\", \"un\", \"ejemplo\"]\n",
        "\n",
        "# Utilizar map para convertir cada cadena en mayúsculas\n",
        "cadenas_mayusculas = map(str.upper, cadenas)\n",
        "\n",
        "# Utilizar join para concatenar las cadenas en una sola cadena separada por espacios\n",
        "resultado = \" \".join(cadenas_mayusculas)\n",
        "\n",
        "# Imprimir el resultado\n",
        "print(resultado)"
      ],
      "metadata": {
        "colab": {
          "base_uri": "https://localhost:8080/"
        },
        "id": "xdbOYgqoEM13",
        "outputId": "206c349f-96dd-4f20-82cf-bf972dea9859"
      },
      "execution_count": 6,
      "outputs": [
        {
          "output_type": "stream",
          "name": "stdout",
          "text": [
            "HOLA MUNDO ! ESTO ES UN EJEMPLO\n"
          ]
        }
      ]
    },
    {
      "cell_type": "markdown",
      "source": [
        "## Ejemplo 6 `map` con `chr`\n",
        "* Utiliza la función `map` junto con `chr` para convertir una lista de números en una lista de caracteres Unicode.\n",
        "* Luego, utilizamos `join` para unir los caracteres en una sola cadena.\n",
        "* El resultado será \"Hola mundo!\", ya que los números en la lista corresponden a los caracteres Unicode de esa frase."
      ],
      "metadata": {
        "id": "XuTuObtUFN0v"
      }
    },
    {
      "cell_type": "code",
      "source": [
        "# Crear una lista de números correspondientes a los caracteres Unicode de \"Hola mundo!\"\n",
        "numeros = [72, 111, 108, 97, 32, 109, 117, 110, 100, 111, 33]\n",
        "\n",
        "# Utilizar map con chr para convertir los números en caracteres Unicode\n",
        "caracteres = list(map(chr, numeros))\n",
        "\n",
        "# Unir los caracteres en una sola cadena\n",
        "resultado = ''.join(caracteres)\n",
        "\n",
        "# Imprimir el resultado\n",
        "print(resultado)"
      ],
      "metadata": {
        "colab": {
          "base_uri": "https://localhost:8080/"
        },
        "id": "EoyCsSi5FQ9q",
        "outputId": "38a432d2-f938-4da1-e923-9caaf0691cb1"
      },
      "execution_count": 7,
      "outputs": [
        {
          "output_type": "stream",
          "name": "stdout",
          "text": [
            "Hola mundo!\n"
          ]
        }
      ]
    }
  ]
}