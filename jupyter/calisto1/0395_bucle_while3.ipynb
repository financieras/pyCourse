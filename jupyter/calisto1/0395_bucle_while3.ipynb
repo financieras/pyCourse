{
  "nbformat": 4,
  "nbformat_minor": 0,
  "metadata": {
    "colab": {
      "provenance": [],
      "authorship_tag": "ABX9TyMB3tHXS25NDZkWO7QankF3",
      "include_colab_link": true
    },
    "kernelspec": {
      "name": "python3",
      "display_name": "Python 3"
    },
    "language_info": {
      "name": "python"
    }
  },
  "cells": [
    {
      "cell_type": "markdown",
      "metadata": {
        "id": "view-in-github",
        "colab_type": "text"
      },
      "source": [
        "<a href=\"https://colab.research.google.com/github/financieras/pyCourse/blob/main/jupyter/calisto1/0395_bucle_while3.ipynb\" target=\"_parent\"><img src=\"https://colab.research.google.com/assets/colab-badge.svg\" alt=\"Open In Colab\"/></a>"
      ]
    },
    {
      "cell_type": "markdown",
      "source": [
        "# Bucle while [3]"
      ],
      "metadata": {
        "id": "umuPRO_QseaF"
      }
    },
    {
      "cell_type": "markdown",
      "source": [
        "* La condición puede ser una variable numérica sin igualar a nada\n",
        "* Si el número es cero da `False`\n",
        "* Si el número es cualquier otro valor da `True`"
      ],
      "metadata": {
        "id": "Zpl-J-idszH5"
      }
    },
    {
      "cell_type": "code",
      "source": [
        "num = 5\n",
        "while num:\n",
        "    print(num)\n",
        "    num -= 1"
      ],
      "metadata": {
        "colab": {
          "base_uri": "https://localhost:8080/"
        },
        "id": "2-CY4ZWEitJr",
        "outputId": "3a718699-a396-463e-a070-08e01c933f06"
      },
      "execution_count": 5,
      "outputs": [
        {
          "output_type": "stream",
          "name": "stdout",
          "text": [
            "5\n",
            "4\n",
            "3\n",
            "2\n",
            "1\n"
          ]
        }
      ]
    },
    {
      "cell_type": "markdown",
      "source": [
        "* La condición puede ser una lista\n",
        "* Cuando la lista está vacía da `False`\n",
        "* Cuando la lista contiene algún elemento da `True`\n"
      ],
      "metadata": {
        "id": "6grmQ3t8tLN3"
      }
    },
    {
      "cell_type": "code",
      "source": [
        "lista = ['a', 'b', 'c']\n",
        "while lista:\n",
        "    print(lista.pop())"
      ],
      "metadata": {
        "colab": {
          "base_uri": "https://localhost:8080/"
        },
        "id": "M7pzD1uYi8fX",
        "outputId": "dc548f79-3230-4f79-9b53-3c98ffac8404"
      },
      "execution_count": 1,
      "outputs": [
        {
          "output_type": "stream",
          "name": "stdout",
          "text": [
            "c\n",
            "b\n",
            "a\n"
          ]
        }
      ]
    },
    {
      "cell_type": "markdown",
      "source": [
        "* Podemos hacer la que lista se imprima de forma creciente"
      ],
      "metadata": {
        "id": "xfQUacfZtaYo"
      }
    },
    {
      "cell_type": "code",
      "source": [
        "lista = ['a', 'b', 'c']\n",
        "while lista:\n",
        "    print(lista.pop(0))"
      ],
      "metadata": {
        "colab": {
          "base_uri": "https://localhost:8080/"
        },
        "id": "JQaGLQQjssOu",
        "outputId": "26c0a273-7617-4677-83b8-eed50b79337f"
      },
      "execution_count": 2,
      "outputs": [
        {
          "output_type": "stream",
          "name": "stdout",
          "text": [
            "a\n",
            "b\n",
            "c\n"
          ]
        }
      ]
    }
  ]
}
