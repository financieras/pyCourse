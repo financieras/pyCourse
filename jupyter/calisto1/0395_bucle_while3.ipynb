{
  "nbformat": 4,
  "nbformat_minor": 0,
  "metadata": {
    "colab": {
      "provenance": [],
      "authorship_tag": "ABX9TyMB3tHXS25NDZkWO7QankF3",
      "include_colab_link": true
    },
    "kernelspec": {
      "name": "python3",
      "display_name": "Python 3"
    },
    "language_info": {
      "name": "python"
    }
  },
  "cells": [
    {
      "cell_type": "markdown",
      "metadata": {
        "id": "view-in-github",
        "colab_type": "text"
      },
      "source": [
        "<a href=\"https://colab.research.google.com/github/financieras/pyCourse/blob/main/jupyter/calisto1/0395_bucle_while3.ipynb\" target=\"_parent\"><img src=\"https://colab.research.google.com/assets/colab-badge.svg\" alt=\"Open In Colab\"/></a>"
      ]
    },
    {
      "cell_type": "markdown",
      "source": [
        "# Bucle while [3]"
      ],
      "metadata": {
        "id": "umuPRO_QseaF"
      }
    },
    {
      "cell_type": "markdown",
      "source": [
        "* La condición puede ser una variable numérica sin igualar a nada\n",
        "* Si el número es cero da `False`\n",
        "* Si el número es cualquier otro valor da `True`"
      ],
      "metadata": {
        "id": "Zpl-J-idszH5"
      }
    },
    {
      "cell_type": "code",
      "source": [
        "num = 5\n",
        "while num:\n",
        "    print(num)\n",
        "    num -= 1"
      ],
      "metadata": {
        "colab": {
          "base_uri": "https://localhost:8080/"
        },
        "id": "2-CY4ZWEitJr",
        "outputId": "4eb9c8a9-ffcc-4eed-e538-8dcf4ca32cee"
      },
      "execution_count": 1,
      "outputs": [
        {
          "output_type": "stream",
          "name": "stdout",
          "text": [
            "5\n",
            "4\n",
            "3\n",
            "2\n",
            "1\n"
          ]
        }
      ]
    },
    {
      "cell_type": "markdown",
      "source": [
        "* La condición puede ser una lista\n",
        "* Cuando la lista está vacía da `False`\n",
        "* Cuando la lista contiene algún elemento da `True`\n"
      ],
      "metadata": {
        "id": "6grmQ3t8tLN3"
      }
    },
    {
      "cell_type": "code",
      "source": [
        "lista = ['a', 'b', 'c']\n",
        "while lista:\n",
        "    print(lista.pop())"
      ],
      "metadata": {
        "colab": {
          "base_uri": "https://localhost:8080/"
        },
        "id": "M7pzD1uYi8fX",
        "outputId": "6e3889c8-fe7c-44c5-89d1-a4ad63883d55"
      },
      "execution_count": 2,
      "outputs": [
        {
          "output_type": "stream",
          "name": "stdout",
          "text": [
            "c\n",
            "b\n",
            "a\n"
          ]
        }
      ]
    },
    {
      "cell_type": "markdown",
      "source": [
        "* Podemos hacer la que lista se imprima de forma creciente"
      ],
      "metadata": {
        "id": "xfQUacfZtaYo"
      }
    },
    {
      "cell_type": "code",
      "source": [
        "lista = ['a', 'b', 'c']\n",
        "while lista:\n",
        "    print(lista.pop(0))"
      ],
      "metadata": {
        "colab": {
          "base_uri": "https://localhost:8080/"
        },
        "id": "JQaGLQQjssOu",
        "outputId": "e263fbdf-3db0-4c5b-82bd-7d992e2412a8"
      },
      "execution_count": 3,
      "outputs": [
        {
          "output_type": "stream",
          "name": "stdout",
          "text": [
            "a\n",
            "b\n",
            "c\n"
          ]
        }
      ]
    }
  ]
}