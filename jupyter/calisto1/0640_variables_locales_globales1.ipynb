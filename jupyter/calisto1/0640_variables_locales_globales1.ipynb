{
  "cells": [
    {
      "cell_type": "markdown",
      "metadata": {
        "id": "view-in-github",
        "colab_type": "text"
      },
      "source": [
        "<a href=\"https://colab.research.google.com/github/financieras/pyCourse/blob/main/jupyter/calisto1/0640_variables_locales_globales.ipynb\" target=\"_parent\"><img src=\"https://colab.research.google.com/assets/colab-badge.svg\" alt=\"Open In Colab\"/></a>"
      ]
    },
    {
      "cell_type": "markdown",
      "metadata": {
        "id": "zInxj-ZGnbOP"
      },
      "source": [
        "# Funciones. Variables globales y variables locales [1]"
      ],
      "id": "zInxj-ZGnbOP"
    },
    {
      "cell_type": "markdown",
      "source": [
        "## Variables Globales\n",
        "* Las variables globales son variables declaradas fuera de una función.\n",
        "* Las variables globales tienen un alcance global.\n",
        "* Se puede acceder a ellas desde cualquier parte del programa, incluso desde dentro de las funciones.\n",
        "* Las variables que se crean fuera de una función son globales y se pueden usar dentro y fuera."
      ],
      "metadata": {
        "id": "IslwAxy5rExT"
      },
      "id": "IslwAxy5rExT"
    },
    {
      "cell_type": "code",
      "execution_count": 1,
      "metadata": {
        "id": "HALMx64bnbOX",
        "outputId": "93a0f1a7-c501-4ce0-c75f-e9ca62263656",
        "colab": {
          "base_uri": "https://localhost:8080/"
        }
      },
      "outputs": [
        {
          "output_type": "stream",
          "name": "stdout",
          "text": [
            "Este año elegiré playa\n"
          ]
        }
      ],
      "source": [
        "destino = \"playa\"\n",
        "\n",
        "def vacaciones():\n",
        "    print(\"Este año elegiré \" + destino)\n",
        "\n",
        "vacaciones()"
      ],
      "id": "HALMx64bnbOX"
    },
    {
      "cell_type": "markdown",
      "metadata": {
        "id": "IcTyiZ2lnbOb"
      },
      "source": [
        "## Variables Locales\n",
        "* Las variables locales son variables declaradas dentro de una función.\n",
        "* Tienen alcance local\n",
        "* Solo son accesibles dentro de la función en la que se declaran.\n",
        "* Las variables creadas dentro de una función son locales y restringen su ámbito a la función."
      ],
      "id": "IcTyiZ2lnbOb"
    },
    {
      "cell_type": "code",
      "execution_count": 2,
      "metadata": {
        "id": "NeJQUVjgnbOd",
        "outputId": "5e86c211-32e4-4163-cba4-c70e044bd30a",
        "colab": {
          "base_uri": "https://localhost:8080/"
        }
      },
      "outputs": [
        {
          "output_type": "stream",
          "name": "stdout",
          "text": [
            "Habitualmente comienzo a trabajar a las 8:00\n"
          ]
        }
      ],
      "source": [
        "def trabajo():\n",
        "    inicio = \"8:00\"\n",
        "    print(\"Habitualmente comienzo a trabajar a las\", inicio)\n",
        "\n",
        "trabajo()\n",
        "#print(inicio)   # Esto provocará un error ya que la variable inicio no se conoce fuera"
      ],
      "id": "NeJQUVjgnbOd"
    },
    {
      "cell_type": "markdown",
      "metadata": {
        "id": "dxcqT8pfnbOg"
      },
      "source": [
        "## Dos variables con el mismo nombre\n",
        "* Creamos una variable con el mismo nombre fuera y dentro.\n",
        "* En realidad son dos variables distintas\n",
        "* La interna solo actúa dentro."
      ],
      "id": "dxcqT8pfnbOg"
    },
    {
      "cell_type": "code",
      "execution_count": 3,
      "metadata": {
        "id": "erOROUuOnbOi",
        "outputId": "b5cf637a-6b22-42b3-e93a-ff50b2150f46",
        "colab": {
          "base_uri": "https://localhost:8080/"
        }
      },
      "outputs": [
        {
          "output_type": "stream",
          "name": "stdout",
          "text": [
            "Voy a organizar una fiesta para 20 invitados\n",
            "¿Cuántos invitados has dicho? 5\n"
          ]
        }
      ],
      "source": [
        "num_invitados = 5\n",
        "\n",
        "def fiesta():\n",
        "    num_invitados = 20\n",
        "    print(\"Voy a organizar una fiesta para {} invitados\".format(num_invitados))\n",
        "\n",
        "fiesta()\n",
        "print(\"¿Cuántos invitados has dicho?\", num_invitados)"
      ],
      "id": "erOROUuOnbOi"
    },
    {
      "cell_type": "markdown",
      "metadata": {
        "id": "YdfMJT4TnbOk"
      },
      "source": [
        "## El prefijo ```global```\n",
        "* Dentro de la función se puede definir una variable global poniendo la palabra **global**.\n",
        "* Las variables globales se definen fuera de una función (es decir, globalmente) y las variables locales se definen dentro de una función (es decir, localmente). Sin embargo, si utiliza la palabra clave **global** para definir una variable dentro de una función después de ejecutar esa función, esa variable se convertirá en una variable global."
      ],
      "id": "YdfMJT4TnbOk"
    },
    {
      "cell_type": "code",
      "execution_count": 4,
      "metadata": {
        "id": "HqtkX_tdnbOl",
        "outputId": "8e4a0ce7-266a-4b4a-f6c1-10490b35b475",
        "colab": {
          "base_uri": "https://localhost:8080/"
        }
      },
      "outputs": [
        {
          "output_type": "stream",
          "name": "stdout",
          "text": [
            "El radio de la tierra es de 6371 Km\n",
            "El diámetro de la tierra es de 12742 Km.\n"
          ]
        }
      ],
      "source": [
        "def radio_terrestre():\n",
        "    global radio                      # convertimos la variable en global\n",
        "    radio = 6371\n",
        "    print(\"El radio de la tierra es de {} Km\".format(radio))\n",
        "\n",
        "radio_terrestre()\n",
        "print(\"El diámetro de la tierra es de {} Km.\".format(radio*2))"
      ],
      "id": "HqtkX_tdnbOl"
    },
    {
      "cell_type": "markdown",
      "source": [
        "## Diferencia entre usar ```global``` y no usarlo"
      ],
      "metadata": {
        "id": "1OuQtE-W0pMA"
      },
      "id": "1OuQtE-W0pMA"
    },
    {
      "cell_type": "code",
      "source": [
        "a = 10\n",
        "\n",
        "def funcion():\n",
        "    global a\n",
        "    a = 99          # al ser a declarada como global si se modifica se modifica globalmente\n",
        "    print(a)\n",
        "\n",
        "funcion()\n",
        "print(a)"
      ],
      "metadata": {
        "id": "FbJ25CYXz1zR",
        "outputId": "ca23e99f-de10-48c9-e18a-dd2f3bab14aa",
        "colab": {
          "base_uri": "https://localhost:8080/"
        }
      },
      "id": "FbJ25CYXz1zR",
      "execution_count": 5,
      "outputs": [
        {
          "output_type": "stream",
          "name": "stdout",
          "text": [
            "99\n",
            "99\n"
          ]
        }
      ]
    },
    {
      "cell_type": "code",
      "source": [
        "a = 10\n",
        "\n",
        "def funcion():\n",
        "    a = 99          # es una variable local distinta de la variable a declarada en la primera línea\n",
        "    print(a)\n",
        "\n",
        "funcion()\n",
        "print(a)"
      ],
      "metadata": {
        "id": "ryk1Gbad0caq",
        "outputId": "c216aab0-9e2e-4fd7-b86c-73136e9f8c54",
        "colab": {
          "base_uri": "https://localhost:8080/"
        }
      },
      "id": "ryk1Gbad0caq",
      "execution_count": 6,
      "outputs": [
        {
          "output_type": "stream",
          "name": "stdout",
          "text": [
            "99\n",
            "10\n"
          ]
        }
      ]
    }
  ],
  "metadata": {
    "kernelspec": {
      "display_name": "Python 3",
      "language": "python",
      "name": "python3"
    },
    "language_info": {
      "codemirror_mode": {
        "name": "ipython",
        "version": 3
      },
      "file_extension": ".py",
      "mimetype": "text/x-python",
      "name": "python",
      "nbconvert_exporter": "python",
      "pygments_lexer": "ipython3",
      "version": "3.8.5"
    },
    "colab": {
      "name": "calisto1_0640.ipynb",
      "provenance": [],
      "include_colab_link": true
    }
  },
  "nbformat": 4,
  "nbformat_minor": 5
}
