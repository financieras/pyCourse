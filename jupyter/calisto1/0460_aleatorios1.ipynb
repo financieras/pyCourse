{
  "cells": [
    {
      "cell_type": "markdown",
      "metadata": {
        "id": "view-in-github",
        "colab_type": "text"
      },
      "source": [
        "<a href=\"https://colab.research.google.com/github/financieras/pyCourse/blob/main/jupyter/calisto1/0460_aleatorios1.ipynb\" target=\"_parent\"><img src=\"https://colab.research.google.com/assets/colab-badge.svg\" alt=\"Open In Colab\"/></a>"
      ]
    },
    {
      "cell_type": "markdown",
      "id": "c70878b0",
      "metadata": {
        "id": "c70878b0"
      },
      "source": [
        "# Generación de aleatorios [1]"
      ]
    },
    {
      "cell_type": "markdown",
      "source": [
        "## random.randrange(start, stop)\n",
        "* el valor 'stop' nunca se alcanza"
      ],
      "metadata": {
        "id": "20Ycr375EUyQ"
      },
      "id": "20Ycr375EUyQ"
    },
    {
      "cell_type": "code",
      "execution_count": 1,
      "id": "d8ed61a3",
      "metadata": {
        "id": "d8ed61a3",
        "outputId": "8cda546b-8b03-46d1-db84-68eabd3bbf3f",
        "colab": {
          "base_uri": "https://localhost:8080/"
        }
      },
      "outputs": [
        {
          "output_type": "stream",
          "name": "stdout",
          "text": [
            "46\n"
          ]
        }
      ],
      "source": [
        "from random import randrange\n",
        "un_aleatorio = randrange(-20,50)\n",
        "print(un_aleatorio)"
      ]
    },
    {
      "cell_type": "markdown",
      "id": "e5eefa1a",
      "metadata": {
        "id": "e5eefa1a"
      },
      "source": [
        "## random.randrange(stop)  \n",
        "Genera números aleatorios enteros entre el inicio, que si no se indica es cero y el final dado por 'stop', sin incluir este último."
      ]
    },
    {
      "cell_type": "code",
      "execution_count": 2,
      "id": "f33585af",
      "metadata": {
        "id": "f33585af",
        "outputId": "c8275603-014a-4d49-bbfe-8f0e28e0caf3",
        "colab": {
          "base_uri": "https://localhost:8080/"
        }
      },
      "outputs": [
        {
          "output_type": "execute_result",
          "data": {
            "text/plain": [
              "1"
            ]
          },
          "metadata": {},
          "execution_count": 2
        }
      ],
      "source": [
        "randrange(2)                    # solo genera ceros y unos"
      ]
    },
    {
      "cell_type": "markdown",
      "id": "2f440ac7",
      "metadata": {
        "id": "2f440ac7"
      },
      "source": [
        "## random.randrange(start, stop[, step])"
      ]
    },
    {
      "cell_type": "code",
      "execution_count": 3,
      "id": "d645b2c7",
      "metadata": {
        "id": "d645b2c7",
        "outputId": "e564c9c5-0a63-42c4-ebea-ca1ebc72b041",
        "colab": {
          "base_uri": "https://localhost:8080/"
        }
      },
      "outputs": [
        {
          "output_type": "execute_result",
          "data": {
            "text/plain": [
              "29"
            ]
          },
          "metadata": {},
          "execution_count": 3
        }
      ],
      "source": [
        "randrange(11,50,2)              # solo genera un impar"
      ]
    },
    {
      "cell_type": "code",
      "execution_count": 4,
      "id": "10e223a1",
      "metadata": {
        "id": "10e223a1",
        "outputId": "0b1f2f99-8ce7-4d33-a0a0-2b83dfe3b4de",
        "colab": {
          "base_uri": "https://localhost:8080/"
        }
      },
      "outputs": [
        {
          "output_type": "stream",
          "name": "stdout",
          "text": [
            "[-1, -10, 40, 40, 9]\n"
          ]
        }
      ],
      "source": [
        "lista_aleatoria1 = []\n",
        "for i in range(5):\n",
        "    lista_aleatoria1.append(randrange(-20,50))\n",
        "print(lista_aleatoria1)"
      ]
    },
    {
      "cell_type": "markdown",
      "source": [
        "## random.sample(secuencia, k)\n",
        "* Sintaxis: random.sample(secuencia, k)\n",
        "* Parámetros:\n",
        " - secuencia: Puede ser una lista, una tupla, una cadena o un conjunto\n",
        " - k: Un valor entero, especifica la longitud de una muestra.\n",
        "* Retorna: un nueva lista de elementos elegidos entre los de la secuencia y de longitud k"
      ],
      "metadata": {
        "id": "ZyNrSQdAEi99"
      },
      "id": "ZyNrSQdAEi99"
    },
    {
      "cell_type": "code",
      "execution_count": 5,
      "id": "c9dd9793",
      "metadata": {
        "id": "c9dd9793",
        "outputId": "7c18a68a-09a9-4f90-da2f-ce383da73232",
        "colab": {
          "base_uri": "https://localhost:8080/"
        }
      },
      "outputs": [
        {
          "output_type": "stream",
          "name": "stdout",
          "text": [
            "[-9, -4, 9, 38, 45]\n"
          ]
        }
      ],
      "source": [
        "from random import sample\n",
        "lista_aleatoria2 = []\n",
        "lista_aleatoria2 = sample(range(-20,50),5)\n",
        "print(sorted(lista_aleatoria2))                      # ordenado con sorted(lista)"
      ]
    },
    {
      "cell_type": "code",
      "execution_count": 6,
      "id": "92ba6071",
      "metadata": {
        "id": "92ba6071",
        "outputId": "4c1d32f7-9dd6-4a9d-ce21-45e2b32b5af0",
        "colab": {
          "base_uri": "https://localhost:8080/"
        }
      },
      "outputs": [
        {
          "output_type": "stream",
          "name": "stdout",
          "text": [
            "[-10, -9, -4, -1, 9, 9, 38, 40, 40, 45]\n"
          ]
        }
      ],
      "source": [
        "lista_aleatoria = lista_aleatoria1 + lista_aleatoria2\n",
        "lista_aleatoria.sort()                               # ordenado con lista.sort()\n",
        "print(lista_aleatoria)"
      ]
    },
    {
      "cell_type": "markdown",
      "id": "5fe19354",
      "metadata": {
        "id": "5fe19354"
      },
      "source": [
        "## random.randint(a, b)\n",
        "Genera un aleatorio entero entre a y b ambos incluidos."
      ]
    },
    {
      "cell_type": "code",
      "execution_count": 7,
      "id": "f6b0667d",
      "metadata": {
        "id": "f6b0667d",
        "outputId": "2f905bce-7a82-46b7-d36a-fed3d49b41fa",
        "colab": {
          "base_uri": "https://localhost:8080/"
        }
      },
      "outputs": [
        {
          "output_type": "execute_result",
          "data": {
            "text/plain": [
              "1"
            ]
          },
          "metadata": {},
          "execution_count": 7
        }
      ],
      "source": [
        "from random import randint\n",
        "randint(1, 3)"
      ]
    }
  ],
  "metadata": {
    "kernelspec": {
      "display_name": "Python 3 (ipykernel)",
      "language": "python",
      "name": "python3"
    },
    "language_info": {
      "codemirror_mode": {
        "name": "ipython",
        "version": 3
      },
      "file_extension": ".py",
      "mimetype": "text/x-python",
      "name": "python",
      "nbconvert_exporter": "python",
      "pygments_lexer": "ipython3",
      "version": "3.8.11"
    },
    "colab": {
      "name": "calisto1_0460.ipynb",
      "provenance": [],
      "include_colab_link": true
    }
  },
  "nbformat": 4,
  "nbformat_minor": 5
}