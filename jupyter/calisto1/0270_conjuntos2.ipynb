{
  "cells": [
    {
      "cell_type": "markdown",
      "metadata": {
        "id": "view-in-github",
        "colab_type": "text"
      },
      "source": [
        "<a href=\"https://colab.research.google.com/github/financieras/pyCourse/blob/main/jupyter/calisto1/0270_conjuntos2.ipynb\" target=\"_parent\"><img src=\"https://colab.research.google.com/assets/colab-badge.svg\" alt=\"Open In Colab\"/></a>"
      ]
    },
    {
      "cell_type": "markdown",
      "id": "ed22de8c",
      "metadata": {
        "id": "ed22de8c"
      },
      "source": [
        "# Conjuntos [2]"
      ]
    },
    {
      "cell_type": "code",
      "execution_count": 1,
      "id": "390efa88",
      "metadata": {
        "id": "390efa88",
        "outputId": "7bbe8642-9cba-4a0c-eb50-89ee10742ad1",
        "colab": {
          "base_uri": "https://localhost:8080/"
        }
      },
      "outputs": [
        {
          "output_type": "stream",
          "name": "stdout",
          "text": [
            "{'picas', 'espadas', 'copas', 'rombos', 'bastos', 'corazones', 'oros', 'tréboles'}\n"
          ]
        }
      ],
      "source": [
        "conjunto1 = {\"oros\", \"copas\", \"bastos\", \"espadas\"}\n",
        "conjunto2 = {\"picas\", \"corazones\", \"tréboles\", \"rombos\"}\n",
        "conjunto = conjunto1.union(conjunto2)                    # une conjuntos sin repetidos\n",
        "print(conjunto)"
      ]
    },
    {
      "cell_type": "code",
      "execution_count": 2,
      "id": "bae0248c",
      "metadata": {
        "id": "bae0248c",
        "outputId": "b004d5b8-7343-45b9-d862-8fd9798a5ee5",
        "colab": {
          "base_uri": "https://localhost:8080/"
        }
      },
      "outputs": [
        {
          "output_type": "stream",
          "name": "stdout",
          "text": [
            "{'z', 'a', 'b', 'y', 'c', 'x'}\n"
          ]
        }
      ],
      "source": [
        "set1 = {'a', 'b', 'c'}\n",
        "set2 = set(('x', 'y', 'z'))    # podemos crear un conjunto con set(). El conjunto va entre paréntesis\n",
        "set1.update(set2)              # une conjuntos sin repetidos\n",
        "print(set1)"
      ]
    },
    {
      "cell_type": "markdown",
      "id": "42767ff6",
      "metadata": {
        "id": "42767ff6"
      },
      "source": [
        "## No admite elementos repetidos"
      ]
    },
    {
      "cell_type": "code",
      "execution_count": 3,
      "id": "9b5f2c83",
      "metadata": {
        "id": "9b5f2c83",
        "outputId": "7b1ee793-4535-4057-abef-0f5fabd1c7a2",
        "colab": {
          "base_uri": "https://localhost:8080/"
        }
      },
      "outputs": [
        {
          "output_type": "execute_result",
          "data": {
            "text/plain": [
              "{'ciudad', 'montaña', 'playa'}"
            ]
          },
          "metadata": {},
          "execution_count": 3
        }
      ],
      "source": [
        "vacaciones = {'playa', 'montaña', 'ciudad', 'montaña', 'playa'}\n",
        "vacaciones"
      ]
    },
    {
      "cell_type": "markdown",
      "id": "77d011c0",
      "metadata": {
        "id": "77d011c0"
      },
      "source": [
        "### Ejemplo\n",
        "Crear una lista de 10 elementos con números aleatorios del 1 al 10, con posible repetición.  \n",
        "Convertir la lista en un conjunto, así eliminaremos los repetidos.  \n",
        "Convertir el conjunto en una lista.  \n",
        "De esta forma tendremos una lista sin repetición, con todos sus elementos únicos."
      ]
    },
    {
      "cell_type": "code",
      "execution_count": 4,
      "id": "2dee6000",
      "metadata": {
        "id": "2dee6000",
        "outputId": "4b9a6b8e-47bd-40d7-aea5-1709647b8806",
        "colab": {
          "base_uri": "https://localhost:8080/"
        }
      },
      "outputs": [
        {
          "output_type": "execute_result",
          "data": {
            "text/plain": [
              "[9, 7, 2, 5, 2, 3, 7, 6, 10, 3]"
            ]
          },
          "metadata": {},
          "execution_count": 4
        }
      ],
      "source": [
        "from random import randint\n",
        "l = [randint(1,10) for s in range(10)]  # generamos una lista de diez números con posible repetición\n",
        "l"
      ]
    },
    {
      "cell_type": "code",
      "execution_count": 5,
      "id": "88e23eee",
      "metadata": {
        "id": "88e23eee",
        "outputId": "b48c69bf-64a7-4ee7-f3ba-208cf16ed855",
        "colab": {
          "base_uri": "https://localhost:8080/"
        }
      },
      "outputs": [
        {
          "output_type": "stream",
          "name": "stdout",
          "text": [
            "{2, 3, 5, 6, 7, 9, 10}\n",
            "El conjunto c tiene 7 elementos sin repetición.\n"
          ]
        }
      ],
      "source": [
        "c = set(l)\n",
        "print(c)\n",
        "print(f\"El conjunto c tiene {len(c)} elementos sin repetición.\")"
      ]
    },
    {
      "cell_type": "code",
      "execution_count": 6,
      "id": "ccc1a757",
      "metadata": {
        "id": "ccc1a757",
        "outputId": "e3593f51-9619-4571-f4b9-17a49e15b696",
        "colab": {
          "base_uri": "https://localhost:8080/"
        }
      },
      "outputs": [
        {
          "output_type": "execute_result",
          "data": {
            "text/plain": [
              "[2, 3, 5, 6, 7, 9, 10]"
            ]
          },
          "metadata": {},
          "execution_count": 6
        }
      ],
      "source": [
        "unicos = list(c)       # convertimos el conjunto c en la lista únicos\n",
        "unicos"
      ]
    },
    {
      "cell_type": "code",
      "execution_count": 7,
      "id": "6e56633c",
      "metadata": {
        "id": "6e56633c",
        "outputId": "1ec07ddd-be2e-4e76-e070-b4c58e1d3246",
        "colab": {
          "base_uri": "https://localhost:8080/"
        }
      },
      "outputs": [
        {
          "output_type": "execute_result",
          "data": {
            "text/plain": [
              "[2, 3, 5, 6, 7, 9, 10]"
            ]
          },
          "metadata": {},
          "execution_count": 7
        }
      ],
      "source": [
        "list(set(l))           # resuelto en una sola línea"
      ]
    },
    {
      "cell_type": "markdown",
      "id": "047a8543",
      "metadata": {
        "id": "047a8543"
      },
      "source": [
        "### Elimina caracteres repetidos de un string"
      ]
    },
    {
      "cell_type": "code",
      "execution_count": 8,
      "id": "894cbbd2",
      "metadata": {
        "id": "894cbbd2",
        "outputId": "e124174b-e712-43cd-91a1-f581b12e0da3",
        "colab": {
          "base_uri": "https://localhost:8080/"
        }
      },
      "outputs": [
        {
          "output_type": "execute_result",
          "data": {
            "text/plain": [
              "{' ', 'B', 'a', 'd', 'e', 'n', 'r', 's', 't', 'u'}"
            ]
          },
          "metadata": {},
          "execution_count": 8
        }
      ],
      "source": [
        "set('Buenas tardes')                  # las letras e, a, s están repetidas"
      ]
    }
  ],
  "metadata": {
    "kernelspec": {
      "display_name": "Python 3",
      "language": "python",
      "name": "python3"
    },
    "language_info": {
      "codemirror_mode": {
        "name": "ipython",
        "version": 3
      },
      "file_extension": ".py",
      "mimetype": "text/x-python",
      "name": "python",
      "nbconvert_exporter": "python",
      "pygments_lexer": "ipython3",
      "version": "3.8.8"
    },
    "colab": {
      "name": "calisto1_0270.ipynb",
      "provenance": [],
      "include_colab_link": true
    }
  },
  "nbformat": 4,
  "nbformat_minor": 5
}