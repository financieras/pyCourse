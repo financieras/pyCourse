{
  "cells": [
    {
      "cell_type": "markdown",
      "metadata": {
        "id": "view-in-github",
        "colab_type": "text"
      },
      "source": [
        "<a href=\"https://colab.research.google.com/github/financieras/pyCourse/blob/main/jupyter/calisto1/0270_conjuntos2.ipynb\" target=\"_parent\"><img src=\"https://colab.research.google.com/assets/colab-badge.svg\" alt=\"Open In Colab\"/></a>"
      ]
    },
    {
      "cell_type": "markdown",
      "id": "ed22de8c",
      "metadata": {
        "id": "ed22de8c"
      },
      "source": [
        "# Conjuntos [2]"
      ]
    },
    {
      "cell_type": "code",
      "execution_count": 1,
      "id": "390efa88",
      "metadata": {
        "id": "390efa88",
        "outputId": "4d95cd7b-a8a9-4c96-96dd-d3927fbfb546",
        "colab": {
          "base_uri": "https://localhost:8080/"
        }
      },
      "outputs": [
        {
          "output_type": "stream",
          "name": "stdout",
          "text": [
            "{'espadas', 'copas', 'bastos', 'picas', 'oros', 'rombos', 'tréboles', 'corazones'}\n"
          ]
        }
      ],
      "source": [
        "conjunto1 = {\"oros\", \"copas\", \"bastos\", \"espadas\"}\n",
        "conjunto2 = {\"picas\", \"corazones\", \"tréboles\", \"rombos\"}\n",
        "conjunto = conjunto1.union(conjunto2)                    # une conjuntos sin repetidos\n",
        "print(conjunto)"
      ]
    },
    {
      "cell_type": "code",
      "execution_count": 2,
      "id": "bae0248c",
      "metadata": {
        "id": "bae0248c",
        "outputId": "639218f6-31a2-49a1-80f5-5288aebe7b47",
        "colab": {
          "base_uri": "https://localhost:8080/"
        }
      },
      "outputs": [
        {
          "output_type": "stream",
          "name": "stdout",
          "text": [
            "{'c', 'x', 'y', 'a', 'z', 'b'}\n"
          ]
        }
      ],
      "source": [
        "set1 = {'a', 'b', 'c'}\n",
        "set2 = set(('x', 'y', 'z'))    # podemos crear un conjunto con set(). El conjunto va entre paréntesis\n",
        "set1.update(set2)              # une conjuntos sin repetidos\n",
        "print(set1)"
      ]
    },
    {
      "cell_type": "markdown",
      "id": "42767ff6",
      "metadata": {
        "id": "42767ff6"
      },
      "source": [
        "## No admite elementos repetidos"
      ]
    },
    {
      "cell_type": "code",
      "execution_count": 3,
      "id": "9b5f2c83",
      "metadata": {
        "id": "9b5f2c83",
        "outputId": "10fb6315-cbc3-4a20-9fe6-d4129e20c7c9",
        "colab": {
          "base_uri": "https://localhost:8080/"
        }
      },
      "outputs": [
        {
          "output_type": "execute_result",
          "data": {
            "text/plain": [
              "{'ciudad', 'montaña', 'playa'}"
            ]
          },
          "metadata": {},
          "execution_count": 3
        }
      ],
      "source": [
        "vacaciones = {'playa', 'montaña', 'ciudad', 'montaña', 'playa'}\n",
        "vacaciones"
      ]
    },
    {
      "cell_type": "markdown",
      "id": "77d011c0",
      "metadata": {
        "id": "77d011c0"
      },
      "source": [
        "### Ejemplo\n",
        "Crear una lista de 10 elementos con números aleatorios del 1 al 10, con posible repetición.  \n",
        "Convertir la lista en un conjunto, así eliminaremos los repetidos.  \n",
        "Convertir el conjunto en una lista.  \n",
        "De esta forma tendremos una lista sin repetición, con todos sus elementos únicos."
      ]
    },
    {
      "cell_type": "code",
      "execution_count": 4,
      "id": "2dee6000",
      "metadata": {
        "id": "2dee6000",
        "outputId": "61b2c7ca-196e-4b32-e912-8760a480fe0e",
        "colab": {
          "base_uri": "https://localhost:8080/"
        }
      },
      "outputs": [
        {
          "output_type": "execute_result",
          "data": {
            "text/plain": [
              "[9, 1, 10, 7, 6, 2, 2, 9, 5, 3]"
            ]
          },
          "metadata": {},
          "execution_count": 4
        }
      ],
      "source": [
        "from random import randint\n",
        "l = [randint(1,10) for s in range(10)]  # generamos una lista de diez números con posible repetición\n",
        "l"
      ]
    },
    {
      "cell_type": "code",
      "execution_count": 5,
      "id": "88e23eee",
      "metadata": {
        "id": "88e23eee",
        "outputId": "680f6b33-10e5-445b-a84d-c0d253749d09",
        "colab": {
          "base_uri": "https://localhost:8080/"
        }
      },
      "outputs": [
        {
          "output_type": "stream",
          "name": "stdout",
          "text": [
            "{1, 2, 3, 5, 6, 7, 9, 10}\n",
            "El conjunto c tiene 8 elementos sin repetición.\n"
          ]
        }
      ],
      "source": [
        "c = set(l)\n",
        "print(c)\n",
        "print(f\"El conjunto c tiene {len(c)} elementos sin repetición.\")"
      ]
    },
    {
      "cell_type": "code",
      "execution_count": 6,
      "id": "ccc1a757",
      "metadata": {
        "id": "ccc1a757",
        "outputId": "5ffebb32-4783-4015-cb82-fc3e502a2bcb",
        "colab": {
          "base_uri": "https://localhost:8080/"
        }
      },
      "outputs": [
        {
          "output_type": "execute_result",
          "data": {
            "text/plain": [
              "[1, 2, 3, 5, 6, 7, 9, 10]"
            ]
          },
          "metadata": {},
          "execution_count": 6
        }
      ],
      "source": [
        "unicos = list(c)       # convertimos el conjunto c en la lista únicos\n",
        "unicos"
      ]
    },
    {
      "cell_type": "code",
      "execution_count": 7,
      "id": "6e56633c",
      "metadata": {
        "id": "6e56633c",
        "outputId": "e3541cb2-aa10-40ad-e3eb-0afed6fd175c",
        "colab": {
          "base_uri": "https://localhost:8080/"
        }
      },
      "outputs": [
        {
          "output_type": "execute_result",
          "data": {
            "text/plain": [
              "[1, 2, 3, 5, 6, 7, 9, 10]"
            ]
          },
          "metadata": {},
          "execution_count": 7
        }
      ],
      "source": [
        "list(set(l))           # resuelto en una sola línea"
      ]
    },
    {
      "cell_type": "markdown",
      "id": "047a8543",
      "metadata": {
        "id": "047a8543"
      },
      "source": [
        "### Elimina caracteres repetidos de un string"
      ]
    },
    {
      "cell_type": "code",
      "execution_count": 8,
      "id": "894cbbd2",
      "metadata": {
        "id": "894cbbd2",
        "outputId": "30a70b0e-f4ee-41fd-db5e-26ffcd816e87",
        "colab": {
          "base_uri": "https://localhost:8080/"
        }
      },
      "outputs": [
        {
          "output_type": "execute_result",
          "data": {
            "text/plain": [
              "{' ', 'B', 'a', 'd', 'e', 'n', 'r', 's', 't', 'u'}"
            ]
          },
          "metadata": {},
          "execution_count": 8
        }
      ],
      "source": [
        "set('Buenas tardes')                  # las letras e, a, s están repetidas"
      ]
    }
  ],
  "metadata": {
    "kernelspec": {
      "display_name": "Python 3",
      "language": "python",
      "name": "python3"
    },
    "language_info": {
      "codemirror_mode": {
        "name": "ipython",
        "version": 3
      },
      "file_extension": ".py",
      "mimetype": "text/x-python",
      "name": "python",
      "nbconvert_exporter": "python",
      "pygments_lexer": "ipython3",
      "version": "3.8.8"
    },
    "colab": {
      "name": "0270_conjuntos2.ipynb",
      "provenance": [],
      "include_colab_link": true
    }
  },
  "nbformat": 4,
  "nbformat_minor": 5
}