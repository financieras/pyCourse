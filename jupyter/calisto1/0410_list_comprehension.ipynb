{
  "cells": [
    {
      "cell_type": "markdown",
      "metadata": {
        "id": "view-in-github",
        "colab_type": "text"
      },
      "source": [
        "<a href=\"https://colab.research.google.com/github/financieras/pyCourse/blob/main/jupyter/calisto1/0410_list_comprehension.ipynb\" target=\"_parent\"><img src=\"https://colab.research.google.com/assets/colab-badge.svg\" alt=\"Open In Colab\"/></a>"
      ]
    },
    {
      "cell_type": "markdown",
      "id": "6c457f3f",
      "metadata": {
        "id": "6c457f3f"
      },
      "source": [
        "# List Comprehension\n",
        "* Comprensión de listas  \n",
        "* Permite simplificar el código, habitualmente reducen varias líneas a una sola."
      ]
    },
    {
      "cell_type": "markdown",
      "id": "61572b61",
      "metadata": {
        "id": "61572b61"
      },
      "source": [
        "## Listar las letras de una palabra  \n",
        "Veamos primero un bucle ```for``` que ocupa varias líneas como se reduce luego a una sola."
      ]
    },
    {
      "cell_type": "code",
      "execution_count": 1,
      "id": "6342804a",
      "metadata": {
        "id": "6342804a",
        "outputId": "bc074b65-f3c5-41ad-a353-e4c23e459193",
        "colab": {
          "base_uri": "https://localhost:8080/"
        }
      },
      "outputs": [
        {
          "output_type": "stream",
          "name": "stdout",
          "text": [
            "['P', 'l', 'a', 'y', 'a']\n"
          ]
        }
      ],
      "source": [
        "lista=[]\n",
        "\n",
        "for i in \"Playa\":\n",
        "    lista.append(i)\n",
        "\n",
        "print(lista)"
      ]
    },
    {
      "cell_type": "code",
      "execution_count": 2,
      "id": "0854b1f5",
      "metadata": {
        "id": "0854b1f5",
        "outputId": "f3eda2d7-b263-4ad6-b2be-f6a82d49aca5",
        "colab": {
          "base_uri": "https://localhost:8080/"
        }
      },
      "outputs": [
        {
          "output_type": "execute_result",
          "data": {
            "text/plain": [
              "['P', 'l', 'a', 'y', 'a']"
            ]
          },
          "metadata": {},
          "execution_count": 2
        }
      ],
      "source": [
        "[letra for letra in \"Playa\"]"
      ]
    },
    {
      "cell_type": "markdown",
      "id": "abe03323",
      "metadata": {
        "id": "abe03323"
      },
      "source": [
        "## Crear listas"
      ]
    },
    {
      "cell_type": "code",
      "execution_count": 3,
      "id": "db44a5cd",
      "metadata": {
        "scrolled": true,
        "id": "db44a5cd",
        "outputId": "92f89adb-f428-4a6a-dcf3-a9ad2e772cdb",
        "colab": {
          "base_uri": "https://localhost:8080/"
        }
      },
      "outputs": [
        {
          "output_type": "stream",
          "name": "stdout",
          "text": [
            "['Berlín', 'París', 'Roma', 'Londres']\n"
          ]
        }
      ],
      "source": [
        "lista=['Berlín', 'París', 'Roma', 'Londres']\n",
        "\n",
        "print([i for i in lista])  #List Comprehension: permiten crear listas de forma concisa"
      ]
    },
    {
      "cell_type": "code",
      "execution_count": 4,
      "id": "6440e100",
      "metadata": {
        "id": "6440e100",
        "outputId": "7451d272-6ae4-447c-b459-f4330c8a6733",
        "colab": {
          "base_uri": "https://localhost:8080/"
        }
      },
      "outputs": [
        {
          "output_type": "stream",
          "name": "stdout",
          "text": [
            "Berlín\n",
            "París\n",
            "Roma\n",
            "Londres\n"
          ]
        },
        {
          "output_type": "execute_result",
          "data": {
            "text/plain": [
              "[None, None, None, None]"
            ]
          },
          "metadata": {},
          "execution_count": 4
        }
      ],
      "source": [
        "lista=['Berlín','París','Roma','Londres']\n",
        "\n",
        "[print(i) for i in lista]  #Haciéndolo iterable"
      ]
    },
    {
      "cell_type": "markdown",
      "id": "4b768d79",
      "metadata": {
        "id": "4b768d79"
      },
      "source": [
        "Si ejecutamos las líneas de código previas desde una terminal llamando a un fichero **.py** no se verá el Out:  \n",
        "[None, None, None, None]"
      ]
    },
    {
      "cell_type": "markdown",
      "id": "ae040d37",
      "metadata": {
        "id": "ae040d37"
      },
      "source": [
        "## Condicional en la List Comprehension\n",
        "Veamos primero lo que ocupa un bucle ```for``` con un ```if``` y como se reduce luego a una sola línea."
      ]
    },
    {
      "cell_type": "code",
      "execution_count": 5,
      "id": "d0b17d1f",
      "metadata": {
        "id": "d0b17d1f",
        "outputId": "c30b3595-04ad-4902-ef89-75bb28ae0bb2",
        "colab": {
          "base_uri": "https://localhost:8080/"
        }
      },
      "outputs": [
        {
          "output_type": "stream",
          "name": "stdout",
          "text": [
            "[0, 2, 4, 6, 8, 10, 12, 14, 16, 18]\n"
          ]
        }
      ],
      "source": [
        "lista=[]\n",
        "\n",
        "for i in range(20):\n",
        "    if not(i%2):\n",
        "        lista.append(i)\n",
        "\n",
        "print(lista)"
      ]
    },
    {
      "cell_type": "code",
      "execution_count": 6,
      "id": "414b45ec",
      "metadata": {
        "id": "414b45ec",
        "outputId": "1d4e0b82-310b-42ae-f3dd-39134f0239a9",
        "colab": {
          "base_uri": "https://localhost:8080/"
        }
      },
      "outputs": [
        {
          "output_type": "execute_result",
          "data": {
            "text/plain": [
              "[0, 2, 4, 6, 8, 10, 12, 14, 16, 18]"
            ]
          },
          "metadata": {},
          "execution_count": 6
        }
      ],
      "source": [
        "[x for x in range(20) if x%2==0]"
      ]
    },
    {
      "cell_type": "code",
      "execution_count": 7,
      "id": "bcf0e5b3",
      "metadata": {
        "id": "bcf0e5b3",
        "outputId": "92c46a1a-5fd6-42fe-8801-a27c07a13a59",
        "colab": {
          "base_uri": "https://localhost:8080/"
        }
      },
      "outputs": [
        {
          "output_type": "execute_result",
          "data": {
            "text/plain": [
              "['París', 'Roma']"
            ]
          },
          "metadata": {},
          "execution_count": 7
        }
      ],
      "source": [
        "ciudades = ['Berlín', 'París', 'Roma', 'Londres']\n",
        "\n",
        "[ciudad for ciudad in ciudades if 'a' in ciudad]      # Obtenemos solo las ciudades que contengan una 'a'"
      ]
    },
    {
      "cell_type": "markdown",
      "id": "b42fb01b",
      "metadata": {
        "id": "b42fb01b"
      },
      "source": [
        "## Condicional anidado en List Comprehension\n",
        "Veamos primero lo que ocupa un bucle ```for``` con dos ```if``` y como se reduce luego a una sola línea."
      ]
    },
    {
      "cell_type": "code",
      "execution_count": 8,
      "id": "318409ba",
      "metadata": {
        "id": "318409ba",
        "outputId": "51cbaa7a-3868-4ff5-c843-64fb0586f864",
        "colab": {
          "base_uri": "https://localhost:8080/"
        }
      },
      "outputs": [
        {
          "output_type": "stream",
          "name": "stdout",
          "text": [
            "[0, 10, 20, 30, 40, 50, 60, 70, 80, 90]\n"
          ]
        }
      ],
      "source": [
        "lista=[]\n",
        "\n",
        "for i in range(100):\n",
        "    if not(i % 2):\n",
        "        if not(i % 5):\n",
        "            lista.append(i)\n",
        "\n",
        "print(lista)"
      ]
    },
    {
      "cell_type": "code",
      "execution_count": 9,
      "id": "d5216b24",
      "metadata": {
        "id": "d5216b24",
        "outputId": "7035f7db-456b-4162-ebf4-0c00fc6b2285",
        "colab": {
          "base_uri": "https://localhost:8080/"
        }
      },
      "outputs": [
        {
          "output_type": "execute_result",
          "data": {
            "text/plain": [
              "[0, 10, 20, 30, 40, 50, 60, 70, 80, 90]"
            ]
          },
          "metadata": {},
          "execution_count": 9
        }
      ],
      "source": [
        "[i for i in range(100) if i % 2 == 0 if i % 5 == 0]"
      ]
    },
    {
      "cell_type": "markdown",
      "id": "4f70c895",
      "metadata": {
        "id": "4f70c895"
      },
      "source": [
        "## Utilizando ```else```"
      ]
    },
    {
      "cell_type": "code",
      "execution_count": 10,
      "id": "e03d6798",
      "metadata": {
        "id": "e03d6798",
        "outputId": "26c68949-eaea-4717-8504-6d1337620cb8",
        "colab": {
          "base_uri": "https://localhost:8080/"
        }
      },
      "outputs": [
        {
          "output_type": "stream",
          "name": "stdout",
          "text": [
            "['Impar', 'Par', 'Impar', 'Par', 'Impar', 'Par', 'Impar', 'Par', 'Impar', 'Par']\n"
          ]
        }
      ],
      "source": [
        "print([\"Par\" if i % 2 == 0 else \"Impar\" for i in range(1,11)]) #Condicional con else"
      ]
    },
    {
      "cell_type": "code",
      "execution_count": 11,
      "id": "c9b79bb2",
      "metadata": {
        "id": "c9b79bb2",
        "outputId": "b1d84bfc-782d-4930-ed35-e6a6649de846",
        "colab": {
          "base_uri": "https://localhost:8080/"
        }
      },
      "outputs": [
        {
          "output_type": "stream",
          "name": "stdout",
          "text": [
            "['Impar', (2, 'Par'), 'Impar', (4, 'Par'), 'Impar', (6, 'Par'), 'Impar', (8, 'Par'), 'Impar', (10, 'Par')]\n"
          ]
        }
      ],
      "source": [
        "print([(i,\"Par\") if i % 2 == 0 else \"Impar\" for i in range(1,11)]) #Condicional con else"
      ]
    },
    {
      "cell_type": "markdown",
      "id": "5430ad4a",
      "metadata": {
        "id": "5430ad4a"
      },
      "source": [
        "## Transposición de una matriz\n",
        "### Primero: usando bucles anidados"
      ]
    },
    {
      "cell_type": "code",
      "execution_count": 12,
      "id": "896d7b71",
      "metadata": {
        "id": "896d7b71",
        "outputId": "5409dbc3-2079-4006-a74c-6f0f9710410c",
        "colab": {
          "base_uri": "https://localhost:8080/"
        }
      },
      "outputs": [
        {
          "output_type": "execute_result",
          "data": {
            "text/plain": [
              "[[1, 'a'], [2, 'b'], [3, 'c'], [4, 'd']]"
            ]
          },
          "metadata": {},
          "execution_count": 12
        }
      ],
      "source": [
        "transpuesta = []\n",
        "matriz = [[1, 2, 3, 4], ['a', 'b', 'c', 'd']]\n",
        "\n",
        "for i in range(len(matriz[0])):\n",
        "    transpuesta_fila= []\n",
        "\n",
        "    for row in matriz:\n",
        "        transpuesta_fila.append(row[i])\n",
        "    transpuesta.append(transpuesta_fila)\n",
        "\n",
        "m = transpuesta\n",
        "m"
      ]
    },
    {
      "cell_type": "markdown",
      "id": "ecea8db6",
      "metadata": {
        "id": "ecea8db6"
      },
      "source": [
        "### Segundo: usando una List Comprehension"
      ]
    },
    {
      "cell_type": "code",
      "execution_count": 13,
      "id": "22f56f24",
      "metadata": {
        "id": "22f56f24",
        "outputId": "b952ebe0-d4fe-4c42-9f14-ab0cdec91257",
        "colab": {
          "base_uri": "https://localhost:8080/"
        }
      },
      "outputs": [
        {
          "output_type": "execute_result",
          "data": {
            "text/plain": [
              "[[1, 2, 3, 4], ['a', 'b', 'c', 'd']]"
            ]
          },
          "metadata": {},
          "execution_count": 13
        }
      ],
      "source": [
        "[[row[i] for row in m] for i in range(len(m[0]))]"
      ]
    },
    {
      "cell_type": "markdown",
      "id": "cfcca00f",
      "metadata": {
        "id": "cfcca00f"
      },
      "source": [
        "## Devolver funciones"
      ]
    },
    {
      "cell_type": "markdown",
      "id": "fa73eb6e",
      "metadata": {
        "id": "fa73eb6e"
      },
      "source": [
        "### Capitalizar las palabras de una lista"
      ]
    },
    {
      "cell_type": "code",
      "execution_count": 14,
      "id": "cfacf411",
      "metadata": {
        "id": "cfacf411",
        "outputId": "afdefb1d-2a7b-41ea-9c66-7e4b7d8ed45f",
        "colab": {
          "base_uri": "https://localhost:8080/"
        }
      },
      "outputs": [
        {
          "output_type": "execute_result",
          "data": {
            "text/plain": [
              "['Londres', 'Paris', 'Madrid']"
            ]
          },
          "metadata": {},
          "execution_count": 14
        }
      ],
      "source": [
        "[palabra.title() for palabra in ['londres', 'paris', 'madrid']]"
      ]
    },
    {
      "cell_type": "markdown",
      "id": "90a7ad08",
      "metadata": {
        "id": "90a7ad08"
      },
      "source": [
        "### Calcular los cuadrados del 0 al 10"
      ]
    },
    {
      "cell_type": "code",
      "execution_count": 15,
      "id": "acc72db7",
      "metadata": {
        "id": "acc72db7",
        "outputId": "89311c17-e853-4b4c-94bb-9c84e961ba4f",
        "colab": {
          "base_uri": "https://localhost:8080/"
        }
      },
      "outputs": [
        {
          "output_type": "execute_result",
          "data": {
            "text/plain": [
              "[0, 1, 4, 9, 16, 25, 36, 49, 64, 81, 100]"
            ]
          },
          "metadata": {},
          "execution_count": 15
        }
      ],
      "source": [
        "[num**2 for num in range(11)]"
      ]
    },
    {
      "cell_type": "markdown",
      "id": "9948ea79",
      "metadata": {
        "id": "9948ea79"
      },
      "source": [
        "### Calcular dobles y cuadrados"
      ]
    },
    {
      "cell_type": "code",
      "execution_count": 16,
      "id": "90c9c0ac",
      "metadata": {
        "id": "90c9c0ac",
        "outputId": "9f4d578d-e326-4345-bc08-5c728e17e217",
        "colab": {
          "base_uri": "https://localhost:8080/"
        }
      },
      "outputs": [
        {
          "output_type": "execute_result",
          "data": {
            "text/plain": [
              "[(0, 0, 0),\n",
              " (1, 2, 1),\n",
              " (2, 4, 4),\n",
              " (3, 6, 9),\n",
              " (4, 8, 16),\n",
              " (5, 10, 25),\n",
              " (6, 12, 36),\n",
              " (7, 14, 49),\n",
              " (8, 16, 64),\n",
              " (9, 18, 81),\n",
              " (10, 20, 100)]"
            ]
          },
          "metadata": {},
          "execution_count": 16
        }
      ],
      "source": [
        "[(num, num*2, num**2) for num in range(11)]"
      ]
    },
    {
      "cell_type": "markdown",
      "id": "0990d4a5",
      "metadata": {
        "id": "0990d4a5"
      },
      "source": [
        "**Ejercicio**  \n",
        "Crear un diccionario donde la clave sean los números pares del 0 al 10 y el valor sean sus cuadrados."
      ]
    },
    {
      "cell_type": "markdown",
      "id": "5eb9a712",
      "metadata": {
        "id": "5eb9a712"
      },
      "source": [
        "### Listar archivos  \n",
        "Listar los archivos del directorio img que comienzan por t y finalizan por .png"
      ]
    },
    {
      "cell_type": "markdown",
      "source": [
        "Primero clonamos nuestro repositorio."
      ],
      "metadata": {
        "id": "hrzttnjTnfEZ"
      },
      "id": "hrzttnjTnfEZ"
    },
    {
      "cell_type": "code",
      "source": [
        "!git clone https://github.com/financieras/pyCourse.git"
      ],
      "metadata": {
        "id": "QntOM0kPnim6",
        "outputId": "2d4dc087-977a-4367-dda9-6b2af9d93d7e",
        "colab": {
          "base_uri": "https://localhost:8080/"
        }
      },
      "id": "QntOM0kPnim6",
      "execution_count": 19,
      "outputs": [
        {
          "output_type": "stream",
          "name": "stdout",
          "text": [
            "Cloning into 'pyCourse'...\n",
            "remote: Enumerating objects: 4508, done.\u001b[K\n",
            "remote: Counting objects: 100% (1233/1233), done.\u001b[K\n",
            "remote: Compressing objects: 100% (549/549), done.\u001b[K\n",
            "remote: Total 4508 (delta 897), reused 942 (delta 678), pack-reused 3275\u001b[K\n",
            "Receiving objects: 100% (4508/4508), 4.93 MiB | 22.55 MiB/s, done.\n",
            "Resolving deltas: 100% (3258/3258), done.\n"
          ]
        }
      ]
    },
    {
      "cell_type": "code",
      "execution_count": 21,
      "id": "9390e26e",
      "metadata": {
        "id": "9390e26e",
        "outputId": "5803150f-603e-4d94-f450-17115cdcfa2a",
        "colab": {
          "base_uri": "https://localhost:8080/"
        }
      },
      "outputs": [
        {
          "output_type": "stream",
          "name": "stdout",
          "text": [
            "['tablanotas.png', 'tablaverdad.png', 'taza.png']\n"
          ]
        }
      ],
      "source": [
        "import os\n",
        "\n",
        "ficheros = [f for f in os.listdir('./pyCourse/jupyter/img') if f.endswith('.png') and f.startswith('t')]\n",
        "\n",
        "print(ficheros)"
      ]
    },
    {
      "cell_type": "markdown",
      "id": "037bb506",
      "metadata": {
        "id": "037bb506"
      },
      "source": [
        "## Doble bucle ```for```"
      ]
    },
    {
      "cell_type": "code",
      "execution_count": 22,
      "id": "006cfc52",
      "metadata": {
        "id": "006cfc52",
        "outputId": "d5e723f0-3268-495c-a3c4-3dc5e219e2ab",
        "colab": {
          "base_uri": "https://localhost:8080/"
        }
      },
      "outputs": [
        {
          "output_type": "stream",
          "name": "stdout",
          "text": [
            "['Sota de Oros', 'Sota de Copas', 'Sota de Espadas', 'Sota de Bastos', 'Caballo de Oros', 'Caballo de Copas', 'Caballo de Espadas', 'Caballo de Bastos', 'Rey de Oros', 'Rey de Copas', 'Rey de Espadas', 'Rey de Bastos']\n"
          ]
        }
      ],
      "source": [
        "cartas = ['sota', 'caballo', 'rey']\n",
        "palos = ['oros', 'copas', 'espadas', 'bastos']\n",
        "\n",
        "frases = ['{} de {}'.format(carta.title(), palo.title()) for carta in cartas for palo in palos]\n",
        "\n",
        "print(frases)"
      ]
    }
  ],
  "metadata": {
    "kernelspec": {
      "display_name": "Python 3 (ipykernel)",
      "language": "python",
      "name": "python3"
    },
    "language_info": {
      "codemirror_mode": {
        "name": "ipython",
        "version": 3
      },
      "file_extension": ".py",
      "mimetype": "text/x-python",
      "name": "python",
      "nbconvert_exporter": "python",
      "pygments_lexer": "ipython3",
      "version": "3.8.11"
    },
    "colab": {
      "name": "calisto1_0410.ipynb",
      "provenance": [],
      "include_colab_link": true
    }
  },
  "nbformat": 4,
  "nbformat_minor": 5
}