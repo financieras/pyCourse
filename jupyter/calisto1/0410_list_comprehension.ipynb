{
  "cells": [
    {
      "cell_type": "markdown",
      "metadata": {
        "id": "view-in-github",
        "colab_type": "text"
      },
      "source": [
        "<a href=\"https://colab.research.google.com/github/financieras/pyCourse/blob/main/jupyter/calisto1_0410.ipynb\" target=\"_parent\"><img src=\"https://colab.research.google.com/assets/colab-badge.svg\" alt=\"Open In Colab\"/></a>"
      ]
    },
    {
      "cell_type": "markdown",
      "id": "6c457f3f",
      "metadata": {
        "id": "6c457f3f"
      },
      "source": [
        "# Listas comprimidas (List comprehensions)  \n",
        "Permite simplificar el código, habitualmente reducen varias líneas a una sola."
      ]
    },
    {
      "cell_type": "markdown",
      "id": "61572b61",
      "metadata": {
        "id": "61572b61"
      },
      "source": [
        "## Listar las letras de una palabra  \n",
        "Veamos primero un bucle ```for``` que ocupa varias líneas como se reduce luego a una sola."
      ]
    },
    {
      "cell_type": "code",
      "execution_count": null,
      "id": "6342804a",
      "metadata": {
        "id": "6342804a"
      },
      "outputs": [],
      "source": [
        "lista=[]\n",
        "for i in \"Playa\":\n",
        "    lista.append(i)\n",
        "print(lista)"
      ]
    },
    {
      "cell_type": "code",
      "execution_count": null,
      "id": "0854b1f5",
      "metadata": {
        "id": "0854b1f5"
      },
      "outputs": [],
      "source": [
        "[letra for letra in \"Playa\"]"
      ]
    },
    {
      "cell_type": "markdown",
      "id": "abe03323",
      "metadata": {
        "id": "abe03323"
      },
      "source": [
        "## Crear listas"
      ]
    },
    {
      "cell_type": "code",
      "execution_count": null,
      "id": "db44a5cd",
      "metadata": {
        "scrolled": true,
        "id": "db44a5cd"
      },
      "outputs": [],
      "source": [
        "lista=['Berlín', 'París', 'Roma', 'Londres']\n",
        "print([i for i in lista])  #List Comprehension: permiten crear listas de forma concisa"
      ]
    },
    {
      "cell_type": "code",
      "execution_count": null,
      "id": "6440e100",
      "metadata": {
        "id": "6440e100"
      },
      "outputs": [],
      "source": [
        "lista=['Berlín','París','Roma','Londres']\n",
        "[print(i) for i in lista]  #Haciéndolo iterable"
      ]
    },
    {
      "cell_type": "markdown",
      "id": "4b768d79",
      "metadata": {
        "id": "4b768d79"
      },
      "source": [
        "Si ejecutamos las líneas de código previas desde una terminal llamando a un fichero **.py** no se verá el Out:  \n",
        "[None, None, None, None]"
      ]
    },
    {
      "cell_type": "markdown",
      "id": "ae040d37",
      "metadata": {
        "id": "ae040d37"
      },
      "source": [
        "## Condicional en Lista comprimida  \n",
        "Veamos primero lo que ocupa un bucle ```for``` con un ```if``` y como se reduce luego a una sola línea."
      ]
    },
    {
      "cell_type": "code",
      "execution_count": null,
      "id": "d0b17d1f",
      "metadata": {
        "id": "d0b17d1f"
      },
      "outputs": [],
      "source": [
        "lista=[]\n",
        "for i in range(20):\n",
        "    if not(i%2):\n",
        "        lista.append(i)\n",
        "print(lista)"
      ]
    },
    {
      "cell_type": "code",
      "execution_count": null,
      "id": "414b45ec",
      "metadata": {
        "id": "414b45ec"
      },
      "outputs": [],
      "source": [
        "[x for x in range(20) if x%2==0]"
      ]
    },
    {
      "cell_type": "code",
      "execution_count": null,
      "id": "bcf0e5b3",
      "metadata": {
        "id": "bcf0e5b3",
        "outputId": "3dd1f4f0-9c47-4cca-8547-fd08f7628e56"
      },
      "outputs": [
        {
          "data": {
            "text/plain": [
              "['París', 'Roma']"
            ]
          },
          "execution_count": 1,
          "metadata": {},
          "output_type": "execute_result"
        }
      ],
      "source": [
        "ciudades = ['Berlín', 'París', 'Roma', 'Londres']\n",
        "[ciudad for ciudad in ciudades if 'a' in ciudad]      # Obtenemos solo las ciudades que contengan una 'a'"
      ]
    },
    {
      "cell_type": "markdown",
      "id": "b42fb01b",
      "metadata": {
        "id": "b42fb01b"
      },
      "source": [
        "## Condicional anidado en Lista comprimida  \n",
        "Veamos primero lo que ocupa un bucle ```for``` con dos ```if``` y como se reduce luego a una sola línea."
      ]
    },
    {
      "cell_type": "code",
      "execution_count": null,
      "id": "318409ba",
      "metadata": {
        "id": "318409ba"
      },
      "outputs": [],
      "source": [
        "lista=[]\n",
        "for i in range(100):\n",
        "    if not(i % 2):\n",
        "        if not(i % 5):\n",
        "            lista.append(i)\n",
        "print(lista)"
      ]
    },
    {
      "cell_type": "code",
      "execution_count": null,
      "id": "d5216b24",
      "metadata": {
        "id": "d5216b24"
      },
      "outputs": [],
      "source": [
        "[i for i in range(100) if i % 2 == 0 if i % 5 == 0]"
      ]
    },
    {
      "cell_type": "markdown",
      "id": "4f70c895",
      "metadata": {
        "id": "4f70c895"
      },
      "source": [
        "## Utilizando ```else```"
      ]
    },
    {
      "cell_type": "code",
      "execution_count": null,
      "id": "e03d6798",
      "metadata": {
        "id": "e03d6798"
      },
      "outputs": [],
      "source": [
        "print([\"Par\" if i % 2 == 0 else \"Impar\" for i in range(1,11)]) #Condicional con else"
      ]
    },
    {
      "cell_type": "code",
      "execution_count": null,
      "id": "c9b79bb2",
      "metadata": {
        "id": "c9b79bb2"
      },
      "outputs": [],
      "source": [
        "print([(i,\"Par\") if i % 2 == 0 else \"Impar\" for i in range(1,11)]) #Condicional con else"
      ]
    },
    {
      "cell_type": "markdown",
      "id": "5430ad4a",
      "metadata": {
        "id": "5430ad4a"
      },
      "source": [
        "## Transposición de una matriz\n",
        "### Primero: usando bucles anidados"
      ]
    },
    {
      "cell_type": "code",
      "execution_count": null,
      "id": "896d7b71",
      "metadata": {
        "id": "896d7b71"
      },
      "outputs": [],
      "source": [
        "transpuesta = []\n",
        "matriz = [[1, 2, 3, 4], ['a', 'b', 'c', 'd']]\n",
        "\n",
        "for i in range(len(matriz[0])):\n",
        "    transpuesta_fila= []\n",
        "\n",
        "    for row in matriz:\n",
        "        transpuesta_fila.append(row[i])\n",
        "    transpuesta.append(transpuesta_fila)\n",
        "\n",
        "m = transpuesta\n",
        "m"
      ]
    },
    {
      "cell_type": "markdown",
      "id": "ecea8db6",
      "metadata": {
        "id": "ecea8db6"
      },
      "source": [
        "### Segundo: usando una lista comprimida"
      ]
    },
    {
      "cell_type": "code",
      "execution_count": null,
      "id": "22f56f24",
      "metadata": {
        "id": "22f56f24"
      },
      "outputs": [],
      "source": [
        "[[row[i] for row in m] for i in range(len(m[0]))]"
      ]
    },
    {
      "cell_type": "markdown",
      "id": "cfcca00f",
      "metadata": {
        "id": "cfcca00f"
      },
      "source": [
        "## Devolver funciones"
      ]
    },
    {
      "cell_type": "markdown",
      "id": "fa73eb6e",
      "metadata": {
        "id": "fa73eb6e"
      },
      "source": [
        "### Capitalizar las palabras de una lista"
      ]
    },
    {
      "cell_type": "code",
      "execution_count": null,
      "id": "cfacf411",
      "metadata": {
        "id": "cfacf411"
      },
      "outputs": [],
      "source": [
        "[palabra.title() for palabra in ['londres', 'paris', 'madrid']]"
      ]
    },
    {
      "cell_type": "markdown",
      "id": "90a7ad08",
      "metadata": {
        "id": "90a7ad08"
      },
      "source": [
        "### Calcular los cuadrados del 0 al 10"
      ]
    },
    {
      "cell_type": "code",
      "execution_count": null,
      "id": "acc72db7",
      "metadata": {
        "id": "acc72db7"
      },
      "outputs": [],
      "source": [
        "[num**2 for num in range(11)]"
      ]
    },
    {
      "cell_type": "markdown",
      "id": "9948ea79",
      "metadata": {
        "id": "9948ea79"
      },
      "source": [
        "### Calcular dobles y cuadrados"
      ]
    },
    {
      "cell_type": "code",
      "execution_count": null,
      "id": "90c9c0ac",
      "metadata": {
        "id": "90c9c0ac"
      },
      "outputs": [],
      "source": [
        "[(num, num*2, num**2) for num in range(11)]"
      ]
    },
    {
      "cell_type": "markdown",
      "id": "0990d4a5",
      "metadata": {
        "id": "0990d4a5"
      },
      "source": [
        "**Ejercicio**  \n",
        "Crear un diccionario donde la clave sean los números pares del 0 al 10 y el valor sean sus cuadrados."
      ]
    },
    {
      "cell_type": "markdown",
      "id": "5eb9a712",
      "metadata": {
        "id": "5eb9a712"
      },
      "source": [
        "### Listar archivos  \n",
        "Listar los archivos del directorio img que comienzan por t y finalizan por .png"
      ]
    },
    {
      "cell_type": "code",
      "execution_count": null,
      "id": "9390e26e",
      "metadata": {
        "id": "9390e26e"
      },
      "outputs": [],
      "source": [
        "import os\n",
        "ficheros = [f for f in os.listdir('./img') if f.endswith('.png') and f.startswith('t')]\n",
        "print(ficheros)"
      ]
    },
    {
      "cell_type": "markdown",
      "id": "037bb506",
      "metadata": {
        "id": "037bb506"
      },
      "source": [
        "## Doble bucle ```for```"
      ]
    },
    {
      "cell_type": "code",
      "execution_count": null,
      "id": "006cfc52",
      "metadata": {
        "id": "006cfc52"
      },
      "outputs": [],
      "source": [
        "cartas = ['sota', 'caballo', 'rey']\n",
        "palos = ['oros', 'copas', 'espadas', 'bastos']\n",
        "frases = ['{} de {}'.format(carta.title(), palo.title()) for carta in cartas for palo in palos]\n",
        "print(frases)"
      ]
    }
  ],
  "metadata": {
    "kernelspec": {
      "display_name": "Python 3 (ipykernel)",
      "language": "python",
      "name": "python3"
    },
    "language_info": {
      "codemirror_mode": {
        "name": "ipython",
        "version": 3
      },
      "file_extension": ".py",
      "mimetype": "text/x-python",
      "name": "python",
      "nbconvert_exporter": "python",
      "pygments_lexer": "ipython3",
      "version": "3.8.11"
    },
    "colab": {
      "name": "0410_list_comprehension.ipynb",
      "provenance": [],
      "include_colab_link": true
    }
  },
  "nbformat": 4,
  "nbformat_minor": 5
}
