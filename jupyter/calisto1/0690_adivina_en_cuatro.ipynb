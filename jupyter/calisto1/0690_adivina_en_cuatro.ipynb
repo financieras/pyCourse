{
  "cells": [
    {
      "cell_type": "markdown",
      "metadata": {
        "id": "view-in-github",
        "colab_type": "text"
      },
      "source": [
        "<a href=\"https://colab.research.google.com/github/financieras/pyCourse/blob/main/jupyter/calisto1/0690_adivina_en_cuatro.ipynb\" target=\"_parent\"><img src=\"https://colab.research.google.com/assets/colab-badge.svg\" alt=\"Open In Colab\"/></a>"
      ]
    },
    {
      "cell_type": "markdown",
      "metadata": {
        "id": "201_ycrTEGVG"
      },
      "source": [
        "# Funciones. Adivina en cuatro"
      ],
      "id": "201_ycrTEGVG"
    },
    {
      "cell_type": "code",
      "execution_count": null,
      "metadata": {
        "id": "rV1ZOdhREGVK",
        "outputId": "fd208d22-7357-4922-cd5c-557a1c6c31f0",
        "colab": {
          "base_uri": "https://localhost:8080/"
        }
      },
      "outputs": [
        {
          "output_type": "stream",
          "name": "stdout",
          "text": [
            "Introduzca un número entre 1 y 40: 20\n",
            "El número secreto es menor.\n",
            "Introduzca un número entre 1 y 40: 10\n",
            "El número secreto es menor.\n",
            "Introduzca un número entre 1 y 40: 5\n",
            "El número secreto es mayor.\n",
            "Introduzca un número entre 1 y 40: 7\n",
            "El número secreto es menor.\n",
            "Esta vez no lo adivinó: el número secreto era 6\n"
          ]
        }
      ],
      "source": [
        "import random\n",
        "\n",
        "def juega():\n",
        "    global numero_elegido\n",
        "    for _ in range(4):    # ignora el índice. Si ponemos i tenemos un aviso porque no se usa\n",
        "        numero_elegido = int(input('Introduzca un número entre 1 y 40: '))\n",
        "        if numero_elegido < numero_secreto:\n",
        "            print('El número secreto es mayor.')\n",
        "        elif numero_elegido > numero_secreto:\n",
        "            print('El número secreto es menor.')\n",
        "        else:\n",
        "            break\n",
        "    return numero_elegido\n",
        "\n",
        "def comprueba(numero_elegido,numero_secreto):\n",
        "    if numero_elegido == numero_secreto:\n",
        "        print('Felicidades: ha adivinado el número secreto.')\n",
        "    else:\n",
        "        print('Esta vez no lo adivinó: el número secreto era', str(numero_secreto))\n",
        "\n",
        "numero_secreto = random.randint(1, 40)\n",
        "numero_elegido = juega()\n",
        "comprueba(numero_elegido, numero_secreto)"
      ],
      "id": "rV1ZOdhREGVK"
    }
  ],
  "metadata": {
    "kernelspec": {
      "display_name": "Python 3",
      "language": "python",
      "name": "python3"
    },
    "language_info": {
      "codemirror_mode": {
        "name": "ipython",
        "version": 3
      },
      "file_extension": ".py",
      "mimetype": "text/x-python",
      "name": "python",
      "nbconvert_exporter": "python",
      "pygments_lexer": "ipython3",
      "version": "3.8.5"
    },
    "colab": {
      "name": "0690_adivina_en_cuatro.ipynb",
      "provenance": [],
      "include_colab_link": true
    }
  },
  "nbformat": 4,
  "nbformat_minor": 5
}