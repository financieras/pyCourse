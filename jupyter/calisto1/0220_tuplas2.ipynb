{
  "cells": [
    {
      "cell_type": "markdown",
      "metadata": {
        "id": "view-in-github",
        "colab_type": "text"
      },
      "source": [
        "<a href=\"https://colab.research.google.com/github/financieras/pyCourse/blob/main/jupyter/calisto1/0220_tuplas2.ipynb\" target=\"_parent\"><img src=\"https://colab.research.google.com/assets/colab-badge.svg\" alt=\"Open In Colab\"/></a>"
      ]
    },
    {
      "cell_type": "markdown",
      "id": "97466f88",
      "metadata": {
        "id": "97466f88"
      },
      "source": [
        "# Tuplas [2]"
      ]
    },
    {
      "cell_type": "markdown",
      "id": "475780b8",
      "metadata": {
        "id": "475780b8"
      },
      "source": [
        "## Las tuplas admiten slicing"
      ]
    },
    {
      "cell_type": "code",
      "execution_count": 1,
      "id": "5e4dfc22",
      "metadata": {
        "id": "5e4dfc22",
        "outputId": "f35bcd2d-270b-4a90-f5c9-bb4b88de3943",
        "colab": {
          "base_uri": "https://localhost:8080/"
        }
      },
      "outputs": [
        {
          "output_type": "stream",
          "name": "stdout",
          "text": [
            "(30, 40, 50)\n",
            "(10, 20, 30)\n",
            "(10, 20, 30, 40, 50, 60)\n",
            "True\n",
            "True\n"
          ]
        }
      ],
      "source": [
        "decadas = (10, 20, 30, 40, 50, 60)\n",
        "print(decadas[2:5])      #(30, 40, 50)  Operación de corte en tuplas (Slicing)\n",
        "print(decadas[:3])       #(10, 20, 30)\n",
        "print(decadas[:])        #(10, 20, 30, 40, 50, 60)   La tupla completa\n",
        "print(20 in decadas)     #True\n",
        "print(21 not in decadas) #True\n",
        "#decadas[2] = 35         #Error no se puede cambiar un elemento de una tupla"
      ]
    },
    {
      "cell_type": "markdown",
      "id": "26416fb9",
      "metadata": {
        "id": "26416fb9"
      },
      "source": [
        "## Conversión de tuplas en listas y viceversa"
      ]
    },
    {
      "cell_type": "markdown",
      "id": "da5821fe",
      "metadata": {
        "id": "da5821fe"
      },
      "source": [
        "Las Tuplas son inmutables, pero se pueden convertir en listas y viceversa."
      ]
    },
    {
      "cell_type": "code",
      "execution_count": 2,
      "id": "48c6ba75",
      "metadata": {
        "scrolled": true,
        "id": "48c6ba75",
        "outputId": "e70651c3-8682-4fa1-8c70-6f46a9686515",
        "colab": {
          "base_uri": "https://localhost:8080/"
        }
      },
      "outputs": [
        {
          "output_type": "stream",
          "name": "stdout",
          "text": [
            "(10, 20, 30, 40, 50, 60, 70)\n",
            "(10, 20, 30, 40, 50, 60, 70, 'Primavera', 'Verano', 'Otoño', 'Invierno')\n"
          ]
        }
      ],
      "source": [
        "d = list(decadas)\n",
        "d.append(75)\n",
        "d[-1] = 70\n",
        "decadas = tuple(d)\n",
        "print(decadas)\n",
        "estaciones=('Primavera', 'Verano', 'Otoño', 'Invierno')\n",
        "print(decadas + estaciones)  #se pueden unir dos tuplas"
      ]
    },
    {
      "cell_type": "markdown",
      "id": "70721166",
      "metadata": {
        "id": "70721166"
      },
      "source": [
        "### Ejemplo: tupla a lista a tupla\n",
        "Tomamos una tupla inmutable, la convertimos en lista, cambiamos algunos elementos, y la volvemos a convertir en tupla."
      ]
    },
    {
      "cell_type": "code",
      "execution_count": 3,
      "id": "94abb395",
      "metadata": {
        "id": "94abb395",
        "outputId": "75608811-caff-406d-e83a-1505c30f9a3e",
        "colab": {
          "base_uri": "https://localhost:8080/"
        }
      },
      "outputs": [
        {
          "output_type": "execute_result",
          "data": {
            "text/plain": [
              "('Lun', 'Mar', 'Mié', 'Jue', 'Vie', 'Sáb', 'Dom')"
            ]
          },
          "metadata": {},
          "execution_count": 3
        }
      ],
      "source": [
        "dias = ('Lun', 'Mar', 'Mie', 'Jue', 'Vie', 'Sab', 'Dom')    # tupla de partida\n",
        "# Observamos que hemos olvidado la tilde en Mié y Sáb\n",
        "# convertimos la tupla en lista\n",
        "lista_dias = list(dias)\n",
        "lista_dias[2] = 'Mié'\n",
        "lista_dias[5] = 'Sáb'\n",
        "dias = tuple(lista_dias)   # convertimos la lista a tupla\n",
        "dias"
      ]
    },
    {
      "cell_type": "markdown",
      "source": [
        "## Asignar valores"
      ],
      "metadata": {
        "id": "uGm2dU-PIEJm"
      },
      "id": "uGm2dU-PIEJm"
    },
    {
      "cell_type": "code",
      "source": [
        "(a,b) = (2,3)       # asignamos los valores a y b\n",
        "print(type((a,b)))  # (a,b) es una tupla\n",
        "print((a,b))\n",
        "\n",
        "print('='*30)\n",
        "\n",
        "x,y = 7,9           # asignamos los valores x e y si poner los paréntesis\n",
        "print(type((x,y)))  # (x,y) también son una tupla\n",
        "print((x,y))"
      ],
      "metadata": {
        "id": "OcFFXbLVHMai",
        "outputId": "f07d398f-1681-4206-bdf1-3b787dd8474a",
        "colab": {
          "base_uri": "https://localhost:8080/"
        }
      },
      "id": "OcFFXbLVHMai",
      "execution_count": 4,
      "outputs": [
        {
          "output_type": "stream",
          "name": "stdout",
          "text": [
            "<class 'tuple'>\n",
            "(2, 3)\n",
            "==============================\n",
            "<class 'tuple'>\n",
            "(7, 9)\n"
          ]
        }
      ]
    }
  ],
  "metadata": {
    "kernelspec": {
      "display_name": "Python 3",
      "language": "python",
      "name": "python3"
    },
    "language_info": {
      "codemirror_mode": {
        "name": "ipython",
        "version": 3
      },
      "file_extension": ".py",
      "mimetype": "text/x-python",
      "name": "python",
      "nbconvert_exporter": "python",
      "pygments_lexer": "ipython3",
      "version": "3.8.8"
    },
    "colab": {
      "name": "calisto1_0220.ipynb",
      "provenance": [],
      "include_colab_link": true
    }
  },
  "nbformat": 4,
  "nbformat_minor": 5
}