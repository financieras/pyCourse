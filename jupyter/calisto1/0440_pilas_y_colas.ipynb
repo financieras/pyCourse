{
  "cells": [
    {
      "cell_type": "markdown",
      "metadata": {
        "id": "view-in-github",
        "colab_type": "text"
      },
      "source": [
        "<a href=\"https://colab.research.google.com/github/financieras/pyCourse/blob/main/jupyter/calisto1/calisto1_0440.ipynb\" target=\"_parent\"><img src=\"https://colab.research.google.com/assets/colab-badge.svg\" alt=\"Open In Colab\"/></a>"
      ]
    },
    {
      "cell_type": "markdown",
      "metadata": {
        "id": "5XmLJ89QA5qC"
      },
      "source": [
        "# Estructuras de datos: pilas y colas"
      ],
      "id": "5XmLJ89QA5qC"
    },
    {
      "cell_type": "markdown",
      "metadata": {
        "id": "Qv4ReQBnA5qF"
      },
      "source": [
        "# Pilas\n",
        "Método LIFO (Last in First out)  \n",
        "* PUSH: agrega un elemento a la colección\n",
        "* POP: elimina el elemento agregado más recientemente  \n",
        "\n",
        "Ejemplo:\n",
        "- Una pila de libros puestos en vertical sobre una mesa  \n",
        "\n",
        "LIFO | PILA \n",
        ":-: | :-: \n",
        "![pila](https://github.com/financieras/pyCourse/blob/main/jupyter/img/stack.png?raw=1) | ![libros](https://github.com/financieras/pyCourse/blob/main/jupyter/img/pila.jpg?raw=1)"
      ],
      "id": "Qv4ReQBnA5qF"
    },
    {
      "cell_type": "code",
      "execution_count": null,
      "metadata": {
        "id": "qIzwjLkXA5qG"
      },
      "outputs": [],
      "source": [
        "# Se trabaja con listas.\n",
        "libros = [\"Quijote\", \"Celestina\", \"Principito\"]\n",
        "# si fuera una pila de libros puestos en vertical, abajo estaría el Quijote y arriba el Principito"
      ],
      "id": "qIzwjLkXA5qG"
    },
    {
      "cell_type": "markdown",
      "metadata": {
        "id": "yeV-b_ImA5qH"
      },
      "source": [
        "## Añadiendo elementos\n",
        "Se añaden por la **derecha** con *append*."
      ],
      "id": "yeV-b_ImA5qH"
    },
    {
      "cell_type": "code",
      "execution_count": null,
      "metadata": {
        "id": "rQM4cna9A5qH"
      },
      "outputs": [],
      "source": [
        "libros.append(\"La Odisea\")\n",
        "libros"
      ],
      "id": "rQM4cna9A5qH"
    },
    {
      "cell_type": "markdown",
      "metadata": {
        "id": "HDj4R7yPA5qI"
      },
      "source": [
        "## Eliminando elementos\n",
        "Se eliminan por la **derecha** con *pop*.\n",
        "El último en llegar es el primero en salir."
      ],
      "id": "HDj4R7yPA5qI"
    },
    {
      "cell_type": "code",
      "execution_count": null,
      "metadata": {
        "id": "hAvBhw9IA5qI"
      },
      "outputs": [],
      "source": [
        "libros.pop()                              # devuelve el último elemento de la lista y lo elimina"
      ],
      "id": "hAvBhw9IA5qI"
    },
    {
      "cell_type": "code",
      "execution_count": null,
      "metadata": {
        "id": "sKs-xoSbA5qJ"
      },
      "outputs": [],
      "source": [
        "libros                                    # observamos que 'La Odisea' ha sido eliminada de la lista"
      ],
      "id": "sKs-xoSbA5qJ"
    },
    {
      "cell_type": "code",
      "execution_count": null,
      "metadata": {
        "id": "YpOjZLpTA5qJ"
      },
      "outputs": [],
      "source": [
        "eliminado = libros.pop()                  # podemos guardar en una variable el elemento eliminado\n",
        "print(libros)\n",
        "eliminado"
      ],
      "id": "YpOjZLpTA5qJ"
    },
    {
      "cell_type": "markdown",
      "metadata": {
        "id": "terETtlxA5qK"
      },
      "source": [
        "# Colas\n",
        "Método FIFO (First in First out)  \n",
        "Ejemplo:\n",
        "- La cola de un establecimiento  \n",
        "\n",
        "FIFO | QUEUE \n",
        ":-: | :-: \n",
        "![McAuto](https://github.com/financieras/pyCourse/blob/main/jupyter/img/cola.jpg?raw=1) | ![queue)](https://github.com/financieras/pyCourse/blob/main/jupyter/img/queue.png?raw=1)"
      ],
      "id": "terETtlxA5qK"
    },
    {
      "cell_type": "markdown",
      "metadata": {
        "id": "UaaAj8lZA5qK"
      },
      "source": [
        "## Crear una cola\n",
        "Usamos *deque* de la librería *collections*."
      ],
      "id": "UaaAj8lZA5qK"
    },
    {
      "cell_type": "code",
      "execution_count": null,
      "metadata": {
        "id": "HsxCv8kIA5qK"
      },
      "outputs": [],
      "source": [
        "from collections import deque\n",
        "cola = deque()                    # creando una cola vacía\n",
        "cola"
      ],
      "id": "HsxCv8kIA5qK"
    },
    {
      "cell_type": "markdown",
      "metadata": {
        "id": "Na7YiRukA5qL"
      },
      "source": [
        "## Añadir elementos a la cola\n",
        "Para añadir elementos a una cola podemos pasar una **lista** al objeto deque."
      ],
      "id": "Na7YiRukA5qL"
    },
    {
      "cell_type": "code",
      "execution_count": null,
      "metadata": {
        "id": "-bBK4TAZA5qL"
      },
      "outputs": [],
      "source": [
        "cola = deque(['Ana', 'Jose', 'Eva'])  # Primero llegó Ana a la cola"
      ],
      "id": "-bBK4TAZA5qL"
    },
    {
      "cell_type": "code",
      "execution_count": null,
      "metadata": {
        "id": "_SJtiiYyA5qL"
      },
      "outputs": [],
      "source": [
        "cola.append('Luis')\n",
        "cola.append('Bea')                  # Bea es la última en llegar\n",
        "cola"
      ],
      "id": "_SJtiiYyA5qL"
    },
    {
      "cell_type": "markdown",
      "metadata": {
        "id": "Kl0S-3svA5qL"
      },
      "source": [
        "## Sacar elementos de la cola\n",
        "El primer usuario al que atenderemos es al primero que llegó.  \n",
        "Los elementos se sacan por la **izquierda** con *popleft*.  \n",
        "\n",
        "El método *popleft* no funciona en las listas solo en las queue."
      ],
      "id": "Kl0S-3svA5qL"
    },
    {
      "cell_type": "code",
      "execution_count": null,
      "metadata": {
        "id": "QaOkHgUzA5qM"
      },
      "outputs": [],
      "source": [
        "cola.popleft()                    # Atendemos a Ana"
      ],
      "id": "QaOkHgUzA5qM"
    },
    {
      "cell_type": "code",
      "execution_count": null,
      "metadata": {
        "id": "ObZiXL_0A5qM"
      },
      "outputs": [],
      "source": [
        "cola"
      ],
      "id": "ObZiXL_0A5qM"
    },
    {
      "cell_type": "code",
      "execution_count": null,
      "metadata": {
        "id": "SEGE3ZMZA5qM"
      },
      "outputs": [],
      "source": [
        "atendido = cola.popleft()         # Podemos guardar en una variable los elementos eliminados\n",
        "atendido"
      ],
      "id": "SEGE3ZMZA5qM"
    },
    {
      "cell_type": "code",
      "execution_count": null,
      "metadata": {
        "id": "p2eJcUX2A5qM"
      },
      "outputs": [],
      "source": [
        "cola"
      ],
      "id": "p2eJcUX2A5qM"
    },
    {
      "cell_type": "markdown",
      "metadata": {
        "id": "00Tp2OiJA5qN"
      },
      "source": [
        "### Ejercicio\n",
        "Nos proporcionan una lista con las fases para la creación de un proyecto tecnológico. "
      ],
      "id": "00Tp2OiJA5qN"
    },
    {
      "cell_type": "code",
      "execution_count": null,
      "metadata": {
        "id": "BMIXLj4uA5qN"
      },
      "outputs": [],
      "source": [
        "fases = ['Identificación','Exploración','Diseño','Planificación','Construcción','Evaluación','Divulgación']"
      ],
      "id": "BMIXLj4uA5qN"
    },
    {
      "cell_type": "markdown",
      "metadata": {
        "id": "ErB8JZ_RA5qN"
      },
      "source": [
        "Nos piden que asociemos cada fase con su número y las incorporemos a una lista para formar una matriz 7 x 2."
      ],
      "id": "ErB8JZ_RA5qN"
    },
    {
      "cell_type": "code",
      "execution_count": null,
      "metadata": {
        "id": "QGxqMRonA5qN"
      },
      "outputs": [],
      "source": [
        "l=[[i+1,fases[i]]for i in range(len(fases))]\n",
        "l"
      ],
      "id": "QGxqMRonA5qN"
    },
    {
      "cell_type": "markdown",
      "metadata": {
        "id": "7Zy3ALyNA5qN"
      },
      "source": [
        "Desordenamos las fases."
      ],
      "id": "7Zy3ALyNA5qN"
    },
    {
      "cell_type": "code",
      "execution_count": null,
      "metadata": {
        "id": "DAz6xutiA5qN"
      },
      "outputs": [],
      "source": [
        "from random import shuffle\n",
        "shuffle(l)\n",
        "l"
      ],
      "id": "DAz6xutiA5qN"
    },
    {
      "cell_type": "markdown",
      "metadata": {
        "id": "JPOdokCXA5qO"
      },
      "source": [
        "Se pide:  \n",
        "    usando colas, mostrar el listado de las fases ordenadas y sin número."
      ],
      "id": "JPOdokCXA5qO"
    },
    {
      "cell_type": "code",
      "execution_count": null,
      "metadata": {
        "id": "2jKWEdVMA5qO"
      },
      "outputs": [],
      "source": [
        "# primero ordenamos las fases\n",
        "l.sort()\n",
        "l"
      ],
      "id": "2jKWEdVMA5qO"
    },
    {
      "cell_type": "code",
      "execution_count": null,
      "metadata": {
        "id": "DDG84TA3A5qO"
      },
      "outputs": [],
      "source": [
        "from collections import deque\n",
        "cola = deque()                    # creando una cola vacía\n",
        "for fase in fases:\n",
        "    cola.append(fase)\n",
        "cola"
      ],
      "id": "DDG84TA3A5qO"
    },
    {
      "cell_type": "code",
      "execution_count": null,
      "metadata": {
        "id": "pjzzYkeuA5qO"
      },
      "outputs": [],
      "source": [
        "for fase in cola:\n",
        "    print(fase)"
      ],
      "id": "pjzzYkeuA5qO"
    },
    {
      "cell_type": "markdown",
      "metadata": {
        "id": "S-koShUtA5qO"
      },
      "source": [
        "Ver que fase sería la que toca realizar."
      ],
      "id": "S-koShUtA5qO"
    },
    {
      "cell_type": "code",
      "execution_count": null,
      "metadata": {
        "id": "1e3eEicyA5qO"
      },
      "outputs": [],
      "source": [
        "cola.popleft()"
      ],
      "id": "1e3eEicyA5qO"
    }
  ],
  "metadata": {
    "kernelspec": {
      "display_name": "Python 3",
      "language": "python",
      "name": "python3"
    },
    "language_info": {
      "codemirror_mode": {
        "name": "ipython",
        "version": 3
      },
      "file_extension": ".py",
      "mimetype": "text/x-python",
      "name": "python",
      "nbconvert_exporter": "python",
      "pygments_lexer": "ipython3",
      "version": "3.8.5"
    },
    "colab": {
      "name": "0440_pilas_y_colas.ipynb",
      "provenance": [],
      "include_colab_link": true
    }
  },
  "nbformat": 4,
  "nbformat_minor": 5
}
