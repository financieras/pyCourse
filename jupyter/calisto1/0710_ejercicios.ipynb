{
  "cells": [
    {
      "cell_type": "markdown",
      "metadata": {
        "id": "view-in-github",
        "colab_type": "text"
      },
      "source": [
        "<a href=\"https://colab.research.google.com/github/financieras/pyCourse/blob/main/jupyter/calisto1/0710_ejercicios.ipynb\" target=\"_parent\"><img src=\"https://colab.research.google.com/assets/colab-badge.svg\" alt=\"Open In Colab\"/></a>"
      ]
    },
    {
      "cell_type": "markdown",
      "metadata": {
        "id": "hW_0DJQ4MMZS"
      },
      "source": [
        "# Funciones. Ejercicios propuestos"
      ],
      "id": "hW_0DJQ4MMZS"
    },
    {
      "cell_type": "markdown",
      "metadata": {
        "id": "Nb3n34ORMMZX"
      },
      "source": [
        "## Ejercicio loteria_dos_digitos  \n",
        "Genera un número de la lotería de dos dígitos en el que no se repitan los dígitos"
      ],
      "id": "Nb3n34ORMMZX"
    },
    {
      "cell_type": "code",
      "execution_count": null,
      "metadata": {
        "id": "ec9h9h5rMMZb",
        "outputId": "b378cfef-fd98-4531-fb71-2f33dee22714",
        "colab": {
          "base_uri": "https://localhost:8080/"
        }
      },
      "outputs": [
        {
          "output_type": "stream",
          "name": "stdout",
          "text": [
            "90\n"
          ]
        }
      ],
      "source": [
        "from random import randint\n",
        "\n",
        "def loteria():\n",
        "    a = randint(1,9)        # a son la decenas, empieza en 1 para evitar valores inferiores a 10\n",
        "    while True:\n",
        "        b = randint(0,9)    # b son las unidades\n",
        "        if b != a:\n",
        "            break\n",
        "    return a*10+b\n",
        "\n",
        "print(loteria())"
      ],
      "id": "ec9h9h5rMMZb"
    },
    {
      "cell_type": "markdown",
      "metadata": {
        "id": "ho27ql9kMMZi"
      },
      "source": [
        "## Ejercicio elimina_vocales  \n",
        "Dada una frase se eliminan las vocales salvo la letra 'o' que se cambia por un cero"
      ],
      "id": "ho27ql9kMMZi"
    },
    {
      "cell_type": "code",
      "execution_count": null,
      "metadata": {
        "id": "TSTgOqDhMMZk",
        "outputId": "c6ea8504-0939-4f13-ecaa-492358c1fe8e"
      },
      "outputs": [
        {
          "name": "stdout",
          "output_type": "stream",
          "text": [
            "Vjrm0s  0vd0, lcnt 0  Blb0.\n"
          ]
        }
      ],
      "source": [
        "def procesa(texto):\n",
        "    vocales = ('a','e','i','o','u')\n",
        "    texto = texto.replace('o','0')\n",
        "    texto = texto.replace('O','0')\n",
        "    for vocal in vocales:\n",
        "        texto = texto.replace(vocal,'')\n",
        "        texto = texto.replace(vocal.upper(),'')\n",
        "    return texto\n",
        "\n",
        "texto = \"Viajaremos a Oviedo, Alicante o a Bilbao.\"\n",
        "print(procesa(texto))                                #Vjrm0s  0vd0, lcnt 0  Blb0."
      ],
      "id": "TSTgOqDhMMZk"
    },
    {
      "cell_type": "markdown",
      "metadata": {
        "id": "n8JxCIazMMZn"
      },
      "source": [
        "## Ejercicio el_mayor_de_tres  \n",
        "Pedir al usuario tres números enteros y decir cuál es el mayor o si son todos iguales"
      ],
      "id": "n8JxCIazMMZn"
    },
    {
      "cell_type": "code",
      "execution_count": null,
      "metadata": {
        "id": "SY1EY9gyMMZo",
        "outputId": "7f79717b-5729-4fe8-d290-e4ec85ce2a54",
        "colab": {
          "base_uri": "https://localhost:8080/"
        }
      },
      "outputs": [
        {
          "output_type": "stream",
          "name": "stdout",
          "text": [
            "Diga el número 1º: 5\n",
            "Diga el número 2º: -55\n",
            "Diga el número 3º: 30\n",
            "30\n"
          ]
        }
      ],
      "source": [
        "def comprueba(numeros):\n",
        "    if numeros[0] == numeros[1] == numeros[2]:\n",
        "        return \"Los tres son iguales.\"\n",
        "    else:\n",
        "        return max(numeros)\n",
        "\n",
        "def recaba_datos():\n",
        "    global numeros\n",
        "    numeros = [0]*3     #inicializamos una lista de tres elementos\n",
        "    for i in range(3):\n",
        "        numeros[i] = int(input(\"Diga el número {}º: \".format(i+1)))\n",
        "    return numeros\n",
        "\n",
        "recaba_datos()\n",
        "print(comprueba(numeros))\n",
        "\n",
        "#Versión alternativa\n",
        "#Pedir al usuario una serie de números y decir cuál es el mayor o si son todos iguales"
      ],
      "id": "SY1EY9gyMMZo"
    },
    {
      "cell_type": "markdown",
      "metadata": {
        "id": "2yiM7LCqMMZq"
      },
      "source": [
        "## Ejercicio el_mayor_de_n  \n",
        "* Generar aleatoriamente n números y decir cuál es el mayor o si son todos iguales\n",
        "* n va de 2 a 9"
      ],
      "id": "2yiM7LCqMMZq"
    },
    {
      "cell_type": "code",
      "execution_count": null,
      "metadata": {
        "id": "1FEm1INUMMZt",
        "outputId": "9dab9cb8-b794-4893-af5c-7bc5af92a3fc",
        "colab": {
          "base_uri": "https://localhost:8080/"
        }
      },
      "outputs": [
        {
          "output_type": "stream",
          "name": "stdout",
          "text": [
            "[3, 3, 2, 1] El mayor es:  3\n",
            "[4, 5, 7, 0, 8] El mayor es:  8\n",
            "[6, 1, 8] El mayor es:  8\n",
            "[9, 8] El mayor es:  9\n",
            "[1, 2, 6, 3, 0, 1, 2, 3, 8] El mayor es:  8\n",
            "[6, 6, 8, 8, 4, 5, 4, 2, 3] El mayor es:  8\n",
            "[4, 8, 4, 9, 0, 1, 7, 3, 2] El mayor es:  9\n",
            "[8, 8] Son todos iguales.\n"
          ]
        }
      ],
      "source": [
        "import random\n",
        "\n",
        "def genera(n):\n",
        "    numeros = []\n",
        "    for i in range(n):\n",
        "        numeros.append(random.randint(0,9))\n",
        "    return numeros\n",
        "\n",
        "def lanza_proceso():\n",
        "    distintos = True\n",
        "    while distintos:\n",
        "        n = random.randint(2,9)\n",
        "        numeros = genera(n)\n",
        "        if max(numeros) == min(numeros):\n",
        "            print(numeros, \"Son todos iguales.\")\n",
        "            distintos = False\n",
        "        else:\n",
        "            print(numeros, \"El mayor es: \", max(numeros))\n",
        "\n",
        "lanza_proceso()"
      ],
      "id": "1FEm1INUMMZt"
    }
  ],
  "metadata": {
    "kernelspec": {
      "display_name": "Python 3",
      "language": "python",
      "name": "python3"
    },
    "language_info": {
      "codemirror_mode": {
        "name": "ipython",
        "version": 3
      },
      "file_extension": ".py",
      "mimetype": "text/x-python",
      "name": "python",
      "nbconvert_exporter": "python",
      "pygments_lexer": "ipython3",
      "version": "3.8.5"
    },
    "colab": {
      "name": "calisto1_0710.ipynb",
      "provenance": [],
      "include_colab_link": true
    }
  },
  "nbformat": 4,
  "nbformat_minor": 5
}