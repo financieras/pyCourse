{
  "cells": [
    {
      "cell_type": "markdown",
      "metadata": {
        "id": "view-in-github",
        "colab_type": "text"
      },
      "source": [
        "<a href=\"https://colab.research.google.com/github/financieras/pyCourse/blob/main/jupyter/calisto1_0370.ipynb\" target=\"_parent\"><img src=\"https://colab.research.google.com/assets/colab-badge.svg\" alt=\"Open In Colab\"/></a>"
      ]
    },
    {
      "cell_type": "markdown",
      "id": "314204d8",
      "metadata": {
        "id": "314204d8"
      },
      "source": [
        "# Operadores de asignación  \n",
        "\n",
        "Los operadores de asignación se utilizan para asignar valores a las variables.  \n",
        "\n",
        "![Operadores de asignación](https://github.com/financieras/pyCourse/blob/main/jupyter/img/operadores_asignacion.png?raw=1)"
      ]
    },
    {
      "cell_type": "code",
      "execution_count": null,
      "id": "24bc1a02",
      "metadata": {
        "id": "24bc1a02"
      },
      "outputs": [],
      "source": [
        "x = 5          # es necesario inicializar la variable\n",
        "x"
      ]
    },
    {
      "cell_type": "code",
      "execution_count": null,
      "id": "0dbc3daf",
      "metadata": {
        "id": "0dbc3daf"
      },
      "outputs": [],
      "source": [
        "# suma en asignación\n",
        "x += 5    # equivale a   x = x + 5\n",
        "x         # cada vez que ejecutemos este código el valor de x se incrementará en 5"
      ]
    },
    {
      "cell_type": "code",
      "execution_count": null,
      "id": "d7b7a2e9",
      "metadata": {
        "id": "d7b7a2e9"
      },
      "outputs": [],
      "source": [
        "# resta en asignación\n",
        "x -= 5    # equivale a   x = x - 5\n",
        "x"
      ]
    },
    {
      "cell_type": "code",
      "execution_count": null,
      "id": "3eeda87d",
      "metadata": {
        "id": "3eeda87d"
      },
      "outputs": [],
      "source": [
        "# producto en asignación\n",
        "x *= 5    # equivale a   x = x * 5\n",
        "x"
      ]
    },
    {
      "cell_type": "code",
      "execution_count": null,
      "id": "3b9e1ae0",
      "metadata": {
        "id": "3b9e1ae0"
      },
      "outputs": [],
      "source": [
        "# división en asignación\n",
        "x /= 5    # equivale a   x = x / 5\n",
        "x         # el resultado siempre será un float porque es una división"
      ]
    },
    {
      "cell_type": "code",
      "execution_count": null,
      "id": "5335036f",
      "metadata": {
        "id": "5335036f"
      },
      "outputs": [],
      "source": [
        "# potencias en asignación\n",
        "x **= 3    # equivale a   x = x ** 3\n",
        "x"
      ]
    },
    {
      "cell_type": "code",
      "execution_count": null,
      "id": "abef53a3",
      "metadata": {
        "id": "abef53a3"
      },
      "outputs": [],
      "source": [
        "x += 2\n",
        "x"
      ]
    },
    {
      "cell_type": "code",
      "execution_count": null,
      "id": "02a013ec",
      "metadata": {
        "id": "02a013ec"
      },
      "outputs": [],
      "source": [
        "# módulo en asignación\n",
        "x %= 5    # equivale a   x = x % 5\n",
        "x"
      ]
    },
    {
      "cell_type": "code",
      "execution_count": null,
      "id": "444ddc33",
      "metadata": {
        "id": "444ddc33"
      },
      "outputs": [],
      "source": [
        "x += 30\n",
        "x"
      ]
    },
    {
      "cell_type": "code",
      "execution_count": null,
      "id": "ca6a5a40",
      "metadata": {
        "id": "ca6a5a40"
      },
      "outputs": [],
      "source": [
        "# división entera en asignación\n",
        "x //= 5   # equivale a   x = x // 5\n",
        "x"
      ]
    },
    {
      "cell_type": "markdown",
      "id": "d6615f7a",
      "metadata": {
        "id": "d6615f7a"
      },
      "source": [
        "### Ejercicio\n",
        "Suma los números pares entre 0 y 100."
      ]
    },
    {
      "cell_type": "markdown",
      "id": "e295e28e",
      "metadata": {
        "id": "e295e28e"
      },
      "source": [
        "#### Solución 1 con un bucle ```for```"
      ]
    },
    {
      "cell_type": "code",
      "execution_count": null,
      "id": "64230a28",
      "metadata": {
        "id": "64230a28"
      },
      "outputs": [],
      "source": [
        "total = 0\n",
        "for i in range(0,101,2):\n",
        "    total += i\n",
        "\n",
        "print(total)"
      ]
    },
    {
      "cell_type": "markdown",
      "id": "d2c35fd5",
      "metadata": {
        "id": "d2c35fd5"
      },
      "source": [
        "#### Solución 2"
      ]
    },
    {
      "cell_type": "code",
      "execution_count": null,
      "id": "33f826ce",
      "metadata": {
        "id": "33f826ce"
      },
      "outputs": [],
      "source": [
        "sum(list(range(0,101,2)))"
      ]
    },
    {
      "cell_type": "markdown",
      "id": "861badf4",
      "metadata": {
        "id": "861badf4"
      },
      "source": [
        "### Ejercicio\n",
        "Solicite al usuario cuántos números desea introducir, luego pídale los números y finalmente muestre la media de esos valores."
      ]
    },
    {
      "cell_type": "code",
      "execution_count": null,
      "id": "2cc105e4",
      "metadata": {
        "id": "2cc105e4"
      },
      "outputs": [],
      "source": [
        "n = int(input('¿Cuántos números desea? '))\n",
        "suma = 0\n",
        "for i in range(n):\n",
        "    suma += float(input(f'Indique el número {i+1}: '))\n",
        "print('La media es',suma/n)"
      ]
    }
  ],
  "metadata": {
    "kernelspec": {
      "display_name": "Python 3",
      "language": "python",
      "name": "python3"
    },
    "language_info": {
      "codemirror_mode": {
        "name": "ipython",
        "version": 3
      },
      "file_extension": ".py",
      "mimetype": "text/x-python",
      "name": "python",
      "nbconvert_exporter": "python",
      "pygments_lexer": "ipython3",
      "version": "3.8.8"
    },
    "colab": {
      "name": "0370_operadores_de_asignacion.ipynb",
      "provenance": [],
      "include_colab_link": true
    }
  },
  "nbformat": 4,
  "nbformat_minor": 5
}
