{
  "cells": [
    {
      "cell_type": "markdown",
      "metadata": {
        "id": "view-in-github",
        "colab_type": "text"
      },
      "source": [
        "<a href=\"https://colab.research.google.com/github/financieras/pyCourse/blob/main/jupyter/calisto1/0370_operadores_de_asignacion.ipynb\" target=\"_parent\"><img src=\"https://colab.research.google.com/assets/colab-badge.svg\" alt=\"Open In Colab\"/></a>"
      ]
    },
    {
      "cell_type": "markdown",
      "id": "314204d8",
      "metadata": {
        "id": "314204d8"
      },
      "source": [
        "# Operadores de asignación  \n",
        "\n",
        "Los operadores de asignación se utilizan para asignar valores a las variables.  \n",
        "\n",
        "![Operadores de asignación](https://github.com/financieras/pyCourse/blob/main/jupyter/img/operadores_asignacion.png?raw=1)"
      ]
    },
    {
      "cell_type": "code",
      "execution_count": 1,
      "id": "24bc1a02",
      "metadata": {
        "id": "24bc1a02",
        "outputId": "dcd2420f-ef9b-4b3f-c044-d8997d6e9ef2",
        "colab": {
          "base_uri": "https://localhost:8080/"
        }
      },
      "outputs": [
        {
          "output_type": "execute_result",
          "data": {
            "text/plain": [
              "5"
            ]
          },
          "metadata": {},
          "execution_count": 1
        }
      ],
      "source": [
        "x = 5          # es necesario inicializar la variable\n",
        "x"
      ]
    },
    {
      "cell_type": "code",
      "execution_count": 2,
      "id": "0dbc3daf",
      "metadata": {
        "id": "0dbc3daf",
        "outputId": "a20c07a5-5d91-48dd-e9f6-0426c45ae4ac",
        "colab": {
          "base_uri": "https://localhost:8080/"
        }
      },
      "outputs": [
        {
          "output_type": "execute_result",
          "data": {
            "text/plain": [
              "10"
            ]
          },
          "metadata": {},
          "execution_count": 2
        }
      ],
      "source": [
        "# suma en asignación\n",
        "x += 5    # equivale a   x = x + 5\n",
        "x         # cada vez que ejecutemos este código el valor de x se incrementará en 5"
      ]
    },
    {
      "cell_type": "code",
      "execution_count": 3,
      "id": "d7b7a2e9",
      "metadata": {
        "id": "d7b7a2e9",
        "outputId": "bc5b5846-25aa-4a08-ce25-a8e1593ae846",
        "colab": {
          "base_uri": "https://localhost:8080/"
        }
      },
      "outputs": [
        {
          "output_type": "execute_result",
          "data": {
            "text/plain": [
              "5"
            ]
          },
          "metadata": {},
          "execution_count": 3
        }
      ],
      "source": [
        "# resta en asignación\n",
        "x -= 5    # equivale a   x = x - 5\n",
        "x"
      ]
    },
    {
      "cell_type": "code",
      "execution_count": 4,
      "id": "3eeda87d",
      "metadata": {
        "id": "3eeda87d",
        "outputId": "13a1db6c-74a4-4ef2-fda9-f4a895b298dd",
        "colab": {
          "base_uri": "https://localhost:8080/"
        }
      },
      "outputs": [
        {
          "output_type": "execute_result",
          "data": {
            "text/plain": [
              "25"
            ]
          },
          "metadata": {},
          "execution_count": 4
        }
      ],
      "source": [
        "# producto en asignación\n",
        "x *= 5    # equivale a   x = x * 5\n",
        "x"
      ]
    },
    {
      "cell_type": "code",
      "execution_count": 5,
      "id": "3b9e1ae0",
      "metadata": {
        "id": "3b9e1ae0",
        "outputId": "ebcb586c-de76-47d9-a4b6-40618985add0",
        "colab": {
          "base_uri": "https://localhost:8080/"
        }
      },
      "outputs": [
        {
          "output_type": "execute_result",
          "data": {
            "text/plain": [
              "5.0"
            ]
          },
          "metadata": {},
          "execution_count": 5
        }
      ],
      "source": [
        "# división en asignación\n",
        "x /= 5    # equivale a   x = x / 5\n",
        "x         # el resultado siempre será un float porque es una división"
      ]
    },
    {
      "cell_type": "code",
      "execution_count": 6,
      "id": "5335036f",
      "metadata": {
        "id": "5335036f",
        "outputId": "1f5453c7-3029-4f60-b42f-c3e28d25a747",
        "colab": {
          "base_uri": "https://localhost:8080/"
        }
      },
      "outputs": [
        {
          "output_type": "execute_result",
          "data": {
            "text/plain": [
              "125.0"
            ]
          },
          "metadata": {},
          "execution_count": 6
        }
      ],
      "source": [
        "# potencias en asignación\n",
        "x **= 3    # equivale a   x = x ** 3\n",
        "x"
      ]
    },
    {
      "cell_type": "code",
      "execution_count": 7,
      "id": "abef53a3",
      "metadata": {
        "id": "abef53a3",
        "outputId": "7fcf23dc-f3cb-43c7-a316-8745c50c3807",
        "colab": {
          "base_uri": "https://localhost:8080/"
        }
      },
      "outputs": [
        {
          "output_type": "execute_result",
          "data": {
            "text/plain": [
              "127.0"
            ]
          },
          "metadata": {},
          "execution_count": 7
        }
      ],
      "source": [
        "x += 2\n",
        "x"
      ]
    },
    {
      "cell_type": "code",
      "execution_count": 8,
      "id": "02a013ec",
      "metadata": {
        "id": "02a013ec",
        "outputId": "79393a9a-240e-4f5d-aca6-62471724b261",
        "colab": {
          "base_uri": "https://localhost:8080/"
        }
      },
      "outputs": [
        {
          "output_type": "execute_result",
          "data": {
            "text/plain": [
              "2.0"
            ]
          },
          "metadata": {},
          "execution_count": 8
        }
      ],
      "source": [
        "# módulo en asignación\n",
        "x %= 5    # equivale a   x = x % 5\n",
        "x"
      ]
    },
    {
      "cell_type": "code",
      "execution_count": 9,
      "id": "444ddc33",
      "metadata": {
        "id": "444ddc33",
        "outputId": "0876df34-946b-452f-b656-58bc549c7f7e",
        "colab": {
          "base_uri": "https://localhost:8080/"
        }
      },
      "outputs": [
        {
          "output_type": "execute_result",
          "data": {
            "text/plain": [
              "32.0"
            ]
          },
          "metadata": {},
          "execution_count": 9
        }
      ],
      "source": [
        "x += 30\n",
        "x"
      ]
    },
    {
      "cell_type": "code",
      "execution_count": 10,
      "id": "ca6a5a40",
      "metadata": {
        "id": "ca6a5a40",
        "outputId": "90761b0b-50cd-40d6-f78b-829df7cfe000",
        "colab": {
          "base_uri": "https://localhost:8080/"
        }
      },
      "outputs": [
        {
          "output_type": "execute_result",
          "data": {
            "text/plain": [
              "6.0"
            ]
          },
          "metadata": {},
          "execution_count": 10
        }
      ],
      "source": [
        "# división entera en asignación\n",
        "x //= 5   # equivale a   x = x // 5\n",
        "x"
      ]
    },
    {
      "cell_type": "markdown",
      "id": "d6615f7a",
      "metadata": {
        "id": "d6615f7a"
      },
      "source": [
        "### Ejercicio\n",
        "Suma los números pares entre 0 y 100."
      ]
    },
    {
      "cell_type": "markdown",
      "id": "e295e28e",
      "metadata": {
        "id": "e295e28e"
      },
      "source": [
        "#### Solución 1 con un bucle ```for```"
      ]
    },
    {
      "cell_type": "code",
      "execution_count": 11,
      "id": "64230a28",
      "metadata": {
        "id": "64230a28",
        "outputId": "ed8c069a-5d79-48e4-b04f-eab9f06818ab",
        "colab": {
          "base_uri": "https://localhost:8080/"
        }
      },
      "outputs": [
        {
          "output_type": "stream",
          "name": "stdout",
          "text": [
            "2550\n"
          ]
        }
      ],
      "source": [
        "total = 0\n",
        "for i in range(0,101,2):\n",
        "    total += i\n",
        "\n",
        "print(total)"
      ]
    },
    {
      "cell_type": "markdown",
      "id": "d2c35fd5",
      "metadata": {
        "id": "d2c35fd5"
      },
      "source": [
        "#### Solución 2"
      ]
    },
    {
      "cell_type": "code",
      "execution_count": 12,
      "id": "33f826ce",
      "metadata": {
        "id": "33f826ce",
        "outputId": "af5d735e-6d6c-4ff4-b3e2-2369e524096a",
        "colab": {
          "base_uri": "https://localhost:8080/"
        }
      },
      "outputs": [
        {
          "output_type": "execute_result",
          "data": {
            "text/plain": [
              "2550"
            ]
          },
          "metadata": {},
          "execution_count": 12
        }
      ],
      "source": [
        "sum(list(range(0,101,2)))"
      ]
    },
    {
      "cell_type": "markdown",
      "id": "861badf4",
      "metadata": {
        "id": "861badf4"
      },
      "source": [
        "### Ejercicio\n",
        "Solicite al usuario cuántos números desea introducir, luego pídale los números y finalmente muestre la media de esos valores."
      ]
    },
    {
      "cell_type": "code",
      "execution_count": 14,
      "id": "2cc105e4",
      "metadata": {
        "id": "2cc105e4",
        "outputId": "5919d6a5-263b-41a7-8f6b-9c5775e096e0",
        "colab": {
          "base_uri": "https://localhost:8080/"
        }
      },
      "outputs": [
        {
          "output_type": "stream",
          "name": "stdout",
          "text": [
            "¿Cuántos números desea? 4\n",
            "Indique el número 1: 4\n",
            "Indique el número 2: 6\n",
            "Indique el número 3: 8\n",
            "Indique el número 4: 10\n",
            "La media es 7.0\n"
          ]
        }
      ],
      "source": [
        "n = int(input('¿Cuántos números desea? '))\n",
        "suma = 0\n",
        "for i in range(n):\n",
        "    suma += float(input(f'Indique el número {i+1}: '))\n",
        "print('La media es',suma/n)"
      ]
    }
  ],
  "metadata": {
    "kernelspec": {
      "display_name": "Python 3",
      "language": "python",
      "name": "python3"
    },
    "language_info": {
      "codemirror_mode": {
        "name": "ipython",
        "version": 3
      },
      "file_extension": ".py",
      "mimetype": "text/x-python",
      "name": "python",
      "nbconvert_exporter": "python",
      "pygments_lexer": "ipython3",
      "version": "3.8.8"
    },
    "colab": {
      "name": "calisto1_0370.ipynb",
      "provenance": [],
      "include_colab_link": true
    }
  },
  "nbformat": 4,
  "nbformat_minor": 5
}