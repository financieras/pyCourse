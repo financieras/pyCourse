{
  "cells": [
    {
      "cell_type": "markdown",
      "metadata": {
        "id": "view-in-github",
        "colab_type": "text"
      },
      "source": [
        "<a href=\"https://colab.research.google.com/github/financieras/pyCourse/blob/main/jupyter/calisto1/0490_join.ipynb\" target=\"_parent\"><img src=\"https://colab.research.google.com/assets/colab-badge.svg\" alt=\"Open In Colab\"/></a>"
      ]
    },
    {
      "cell_type": "markdown",
      "metadata": {
        "id": "oEGz69RdbP_l"
      },
      "source": [
        "# String: método ```join```\n",
        "* string.join(iterable) → devuelve un string\n",
        "* Permite unir, juntar los elementos de un iterable\n",
        "* Iterable:\n",
        " - lista\n",
        " - tupla\n",
        " - string\n",
        " - diccionario"
      ],
      "id": "oEGz69RdbP_l"
    },
    {
      "cell_type": "markdown",
      "metadata": {
        "id": "ihI3E6CbbP_m"
      },
      "source": [],
      "id": "ihI3E6CbbP_m"
    },
    {
      "cell_type": "code",
      "execution_count": 1,
      "metadata": {
        "id": "8B04_ggebP_m",
        "outputId": "46092cc7-30f1-43dc-a6cd-f70c662b7dd1",
        "colab": {
          "base_uri": "https://localhost:8080/"
        }
      },
      "outputs": [
        {
          "output_type": "stream",
          "name": "stdout",
          "text": [
            "1-2-3-4\n"
          ]
        }
      ],
      "source": [
        "hastacuatro = ['1', '2', '3', '4']     # lista\n",
        "print('-'.join(hastacuatro))"
      ],
      "id": "8B04_ggebP_m"
    },
    {
      "cell_type": "code",
      "execution_count": 2,
      "metadata": {
        "id": "VnXL83ncbP_n",
        "outputId": "9ad9aa0d-1f52-4280-f4a7-9ad0face5478",
        "colab": {
          "base_uri": "https://localhost:8080/"
        }
      },
      "outputs": [
        {
          "output_type": "stream",
          "name": "stdout",
          "text": [
            "Plata # Oro # Platino\n"
          ]
        }
      ],
      "source": [
        "metales = (\"Plata\",\"Oro\",\"Platino\")    # tupla\n",
        "print(' # '.join(metales))"
      ],
      "id": "VnXL83ncbP_n"
    },
    {
      "cell_type": "code",
      "execution_count": 3,
      "metadata": {
        "id": "pYv0m4QAbP_n",
        "outputId": "fba58e96-89d1-4dfe-eff8-a90f8709e320",
        "colab": {
          "base_uri": "https://localhost:8080/"
        }
      },
      "outputs": [
        {
          "output_type": "stream",
          "name": "stdout",
          "text": [
            "m, u, r, c, i, e, l, a, g, o\n"
          ]
        }
      ],
      "source": [
        "cadena = 'murcielago'                  # string\n",
        "print(', '.join(cadena))"
      ],
      "id": "pYv0m4QAbP_n"
    },
    {
      "cell_type": "code",
      "execution_count": 4,
      "metadata": {
        "id": "wApNkWPxbP_o",
        "outputId": "059ce024-f9a4-42ac-9350-5567c6124c46",
        "colab": {
          "base_uri": "https://localhost:8080/"
        }
      },
      "outputs": [
        {
          "output_type": "stream",
          "name": "stdout",
          "text": [
            "Al & Fe & Pb\n"
          ]
        }
      ],
      "source": [
        "dic = {'Al':13, 'Fe':'26', 'Pb':82}    # diccionario\n",
        "print(' & '.join(dic))"
      ],
      "id": "wApNkWPxbP_o"
    },
    {
      "cell_type": "code",
      "execution_count": 5,
      "metadata": {
        "id": "XLTPduAAbP_o",
        "outputId": "5428656f-2184-4874-9b1c-daa665593dfa",
        "colab": {
          "base_uri": "https://localhost:8080/"
        }
      },
      "outputs": [
        {
          "output_type": "stream",
          "name": "stdout",
          "text": [
            "['La', 'suerte', 'está', 'echada']\n"
          ]
        }
      ],
      "source": [
        "frase = \"La suerte está echada\"\n",
        "lista = frase.split()\n",
        "print(lista)"
      ],
      "id": "XLTPduAAbP_o"
    },
    {
      "cell_type": "code",
      "execution_count": 6,
      "metadata": {
        "id": "grbLo51FbP_p",
        "outputId": "072357ed-cfa3-4eca-f672-9c4353fb30e8",
        "colab": {
          "base_uri": "https://localhost:8080/"
        }
      },
      "outputs": [
        {
          "output_type": "stream",
          "name": "stdout",
          "text": [
            "La suerte está echada\n"
          ]
        }
      ],
      "source": [
        "cita = ' '.join(lista)\n",
        "print(cita)"
      ],
      "id": "grbLo51FbP_p"
    },
    {
      "cell_type": "code",
      "execution_count": 7,
      "metadata": {
        "id": "kiGHYX7nbP_p",
        "outputId": "4fcb3754-d24d-4096-dfac-33267667e1c9",
        "colab": {
          "base_uri": "https://localhost:8080/"
        }
      },
      "outputs": [
        {
          "output_type": "stream",
          "name": "stdout",
          "text": [
            "['H', 'o', 'l', 'a']\n"
          ]
        }
      ],
      "source": [
        "guiones = 'H-o-l-a'\n",
        "lista = guiones.split('-')\n",
        "print(lista)"
      ],
      "id": "kiGHYX7nbP_p"
    },
    {
      "cell_type": "code",
      "execution_count": 8,
      "metadata": {
        "id": "yZwhmkxRbP_q",
        "outputId": "a78b93a9-8396-4430-9232-e8d96581c7a2",
        "colab": {
          "base_uri": "https://localhost:8080/"
        }
      },
      "outputs": [
        {
          "output_type": "stream",
          "name": "stdout",
          "text": [
            "Hola\n"
          ]
        }
      ],
      "source": [
        "palabra = ''.join(lista)\n",
        "print(palabra)"
      ],
      "id": "yZwhmkxRbP_q"
    },
    {
      "cell_type": "markdown",
      "source": [
        "## De range, a list, a lista de strings y un único string con join"
      ],
      "metadata": {
        "id": "t4ueE7_-iaRm"
      },
      "id": "t4ueE7_-iaRm"
    },
    {
      "cell_type": "code",
      "source": [
        "t = range(9,0,-1)         # este puede ser un número de teléfono muy peculiar\n",
        "print(t)                  # un número de teléfono fijo de León\n",
        "\n",
        "t = list(t)               # convertimos el objeto range en una lista\n",
        "print(t)\n",
        "\n",
        "t = [str(x) for x in t]   # convertimos los elementos int de la lista en elementos str\n",
        "print(t)\n",
        "\n",
        "t = ''.join(t)            # juntamos todos los elementos de la lista con join\n",
        "print(t)                  # join requiere que los elementos sean str y devuelve un str con todos ellos unidos"
      ],
      "metadata": {
        "id": "RqSZykT9cJJq",
        "outputId": "8f714f41-30cd-4551-cac7-b7eae59bc756",
        "colab": {
          "base_uri": "https://localhost:8080/"
        }
      },
      "id": "RqSZykT9cJJq",
      "execution_count": 9,
      "outputs": [
        {
          "output_type": "stream",
          "name": "stdout",
          "text": [
            "range(9, 0, -1)\n",
            "[9, 8, 7, 6, 5, 4, 3, 2, 1]\n",
            "['9', '8', '7', '6', '5', '4', '3', '2', '1']\n",
            "987654321\n"
          ]
        }
      ]
    }
  ],
  "metadata": {
    "kernelspec": {
      "display_name": "Python 3",
      "language": "python",
      "name": "python3"
    },
    "language_info": {
      "codemirror_mode": {
        "name": "ipython",
        "version": 3
      },
      "file_extension": ".py",
      "mimetype": "text/x-python",
      "name": "python",
      "nbconvert_exporter": "python",
      "pygments_lexer": "ipython3",
      "version": "3.8.5"
    },
    "colab": {
      "name": "0490_join.ipynb",
      "provenance": [],
      "include_colab_link": true
    }
  },
  "nbformat": 4,
  "nbformat_minor": 5
}