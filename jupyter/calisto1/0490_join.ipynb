{
  "cells": [
    {
      "cell_type": "markdown",
      "metadata": {
        "id": "view-in-github",
        "colab_type": "text"
      },
      "source": [
        "<a href=\"https://colab.research.google.com/github/financieras/pyCourse/blob/main/jupyter/calisto1_0490.ipynb\" target=\"_parent\"><img src=\"https://colab.research.google.com/assets/colab-badge.svg\" alt=\"Open In Colab\"/></a>"
      ]
    },
    {
      "cell_type": "markdown",
      "metadata": {
        "id": "oEGz69RdbP_l"
      },
      "source": [
        "# String: método ```join```\n",
        "* string.join(iterable) → devuelve un string\n",
        "* Permite unir, juntar los elementos de un iterable\n",
        "* Iterable:\n",
        " - lista\n",
        " - tupla\n",
        " - string\n",
        " - diccionario"
      ],
      "id": "oEGz69RdbP_l"
    },
    {
      "cell_type": "markdown",
      "metadata": {
        "id": "ihI3E6CbbP_m"
      },
      "source": [
        ""
      ],
      "id": "ihI3E6CbbP_m"
    },
    {
      "cell_type": "code",
      "execution_count": null,
      "metadata": {
        "id": "8B04_ggebP_m"
      },
      "outputs": [],
      "source": [
        "hastacuatro = ['1', '2', '3', '4']     # lista\n",
        "print('-'.join(hastacuatro))"
      ],
      "id": "8B04_ggebP_m"
    },
    {
      "cell_type": "code",
      "execution_count": null,
      "metadata": {
        "id": "VnXL83ncbP_n"
      },
      "outputs": [],
      "source": [
        "metales = (\"Plata\",\"Oro\",\"Platino\")    # tupla\n",
        "print(' # '.join(metales))"
      ],
      "id": "VnXL83ncbP_n"
    },
    {
      "cell_type": "code",
      "execution_count": null,
      "metadata": {
        "id": "pYv0m4QAbP_n"
      },
      "outputs": [],
      "source": [
        "cadena = 'murcielago'                  # string\n",
        "print(', '.join(cadena))"
      ],
      "id": "pYv0m4QAbP_n"
    },
    {
      "cell_type": "code",
      "execution_count": null,
      "metadata": {
        "id": "wApNkWPxbP_o"
      },
      "outputs": [],
      "source": [
        "dic = {'Al':13, 'Fe':'26', 'Pb':82}    # diccionario\n",
        "print(' & '.join(dic))"
      ],
      "id": "wApNkWPxbP_o"
    },
    {
      "cell_type": "code",
      "execution_count": null,
      "metadata": {
        "id": "XLTPduAAbP_o"
      },
      "outputs": [],
      "source": [
        "frase = \"La suerte está echada\"\n",
        "lista = frase.split()\n",
        "print(lista)"
      ],
      "id": "XLTPduAAbP_o"
    },
    {
      "cell_type": "code",
      "execution_count": null,
      "metadata": {
        "id": "grbLo51FbP_p"
      },
      "outputs": [],
      "source": [
        "cita = ' '.join(lista)\n",
        "print(cita)"
      ],
      "id": "grbLo51FbP_p"
    },
    {
      "cell_type": "code",
      "execution_count": null,
      "metadata": {
        "id": "kiGHYX7nbP_p"
      },
      "outputs": [],
      "source": [
        "guiones = 'H-o-l-a'\n",
        "lista = guiones.split('-')\n",
        "print(lista)"
      ],
      "id": "kiGHYX7nbP_p"
    },
    {
      "cell_type": "code",
      "execution_count": null,
      "metadata": {
        "id": "yZwhmkxRbP_q"
      },
      "outputs": [],
      "source": [
        "palabra = ''.join(lista)\n",
        "print(palabra)"
      ],
      "id": "yZwhmkxRbP_q"
    },
    {
      "cell_type": "markdown",
      "source": [
        "## De range, a list, a lista de strings y un único string con join"
      ],
      "metadata": {
        "id": "t4ueE7_-iaRm"
      },
      "id": "t4ueE7_-iaRm"
    },
    {
      "cell_type": "code",
      "source": [
        "t = range(9,0,-1)         # este puede ser un número de teléfono muy peculiar\n",
        "print(t)                  # un número de teléfono fijo de León\n",
        "\n",
        "t = list(t)               # convertimos el objeto range en una lista\n",
        "print(t)\n",
        "\n",
        "t = [str(x) for x in t]   # convertimos los elementos int de la lista en elementos str \n",
        "print(t)\n",
        "\n",
        "t = ''.join(t)            # juntamos todos los elementos de la lista con join\n",
        "print(t)                  # join requiere que los elementos sean str y devuelve un str con todos ellos unidos"
      ],
      "metadata": {
        "id": "RqSZykT9cJJq",
        "outputId": "740a5dba-f183-427f-f93e-9d98e7f4b78e",
        "colab": {
          "base_uri": "https://localhost:8080/"
        }
      },
      "id": "RqSZykT9cJJq",
      "execution_count": 19,
      "outputs": [
        {
          "output_type": "stream",
          "name": "stdout",
          "text": [
            "range(9, 0, -1)\n",
            "[9, 8, 7, 6, 5, 4, 3, 2, 1]\n",
            "['9', '8', '7', '6', '5', '4', '3', '2', '1']\n",
            "987654321\n"
          ]
        }
      ]
    }
  ],
  "metadata": {
    "kernelspec": {
      "display_name": "Python 3",
      "language": "python",
      "name": "python3"
    },
    "language_info": {
      "codemirror_mode": {
        "name": "ipython",
        "version": 3
      },
      "file_extension": ".py",
      "mimetype": "text/x-python",
      "name": "python",
      "nbconvert_exporter": "python",
      "pygments_lexer": "ipython3",
      "version": "3.8.5"
    },
    "colab": {
      "name": "0490_join.ipynb",
      "provenance": [],
      "include_colab_link": true
    }
  },
  "nbformat": 4,
  "nbformat_minor": 5
}
