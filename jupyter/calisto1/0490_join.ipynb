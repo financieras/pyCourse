{
  "cells": [
    {
      "cell_type": "markdown",
      "metadata": {
        "id": "view-in-github",
        "colab_type": "text"
      },
      "source": [
        "<a href=\"https://colab.research.google.com/github/financieras/pyCourse/blob/main/jupyter/calisto1/0490_join.ipynb\" target=\"_parent\"><img src=\"https://colab.research.google.com/assets/colab-badge.svg\" alt=\"Open In Colab\"/></a>"
      ]
    },
    {
      "cell_type": "markdown",
      "metadata": {
        "id": "oEGz69RdbP_l"
      },
      "source": [
        "# String: método ```join```\n",
        "* string.join(iterable) → devuelve un string\n",
        "* Permite unir, juntar los elementos de un iterable\n",
        "* Iterable:\n",
        " - lista\n",
        " - tupla\n",
        " - string\n",
        " - diccionario"
      ],
      "id": "oEGz69RdbP_l"
    },
    {
      "cell_type": "markdown",
      "metadata": {
        "id": "ihI3E6CbbP_m"
      },
      "source": [],
      "id": "ihI3E6CbbP_m"
    },
    {
      "cell_type": "code",
      "execution_count": 1,
      "metadata": {
        "id": "8B04_ggebP_m",
        "outputId": "13f2269e-6f2f-469d-cf0b-ed7b2ddb536e",
        "colab": {
          "base_uri": "https://localhost:8080/"
        }
      },
      "outputs": [
        {
          "output_type": "stream",
          "name": "stdout",
          "text": [
            "1-2-3-4\n"
          ]
        }
      ],
      "source": [
        "hastacuatro = ['1', '2', '3', '4']     # lista\n",
        "print('-'.join(hastacuatro))"
      ],
      "id": "8B04_ggebP_m"
    },
    {
      "cell_type": "code",
      "execution_count": 2,
      "metadata": {
        "id": "VnXL83ncbP_n",
        "outputId": "e0a05958-9c7e-4a30-8c63-49a345dfc069",
        "colab": {
          "base_uri": "https://localhost:8080/"
        }
      },
      "outputs": [
        {
          "output_type": "stream",
          "name": "stdout",
          "text": [
            "Plata # Oro # Platino\n"
          ]
        }
      ],
      "source": [
        "metales = (\"Plata\",\"Oro\",\"Platino\")    # tupla\n",
        "print(' # '.join(metales))"
      ],
      "id": "VnXL83ncbP_n"
    },
    {
      "cell_type": "code",
      "execution_count": 3,
      "metadata": {
        "id": "pYv0m4QAbP_n",
        "outputId": "a6ae5488-7c51-413f-fa61-649f4efa3d5e",
        "colab": {
          "base_uri": "https://localhost:8080/"
        }
      },
      "outputs": [
        {
          "output_type": "stream",
          "name": "stdout",
          "text": [
            "m, u, r, c, i, e, l, a, g, o\n"
          ]
        }
      ],
      "source": [
        "cadena = 'murcielago'                  # string\n",
        "print(', '.join(cadena))"
      ],
      "id": "pYv0m4QAbP_n"
    },
    {
      "cell_type": "code",
      "execution_count": 4,
      "metadata": {
        "id": "wApNkWPxbP_o",
        "outputId": "c025c809-9266-4278-d9d6-bd712939a434",
        "colab": {
          "base_uri": "https://localhost:8080/"
        }
      },
      "outputs": [
        {
          "output_type": "stream",
          "name": "stdout",
          "text": [
            "Al & Fe & Pb\n"
          ]
        }
      ],
      "source": [
        "dic = {'Al':13, 'Fe':'26', 'Pb':82}    # diccionario\n",
        "print(' & '.join(dic))"
      ],
      "id": "wApNkWPxbP_o"
    },
    {
      "cell_type": "code",
      "execution_count": 5,
      "metadata": {
        "id": "XLTPduAAbP_o",
        "outputId": "f91da554-878a-4f1f-b3d9-a7a7131ff745",
        "colab": {
          "base_uri": "https://localhost:8080/"
        }
      },
      "outputs": [
        {
          "output_type": "stream",
          "name": "stdout",
          "text": [
            "['La', 'suerte', 'está', 'echada']\n"
          ]
        }
      ],
      "source": [
        "frase = \"La suerte está echada\"\n",
        "lista = frase.split()\n",
        "print(lista)"
      ],
      "id": "XLTPduAAbP_o"
    },
    {
      "cell_type": "code",
      "execution_count": 6,
      "metadata": {
        "id": "grbLo51FbP_p",
        "outputId": "b4b78479-cc37-4a38-e1eb-3354b0a9f486",
        "colab": {
          "base_uri": "https://localhost:8080/"
        }
      },
      "outputs": [
        {
          "output_type": "stream",
          "name": "stdout",
          "text": [
            "La suerte está echada\n"
          ]
        }
      ],
      "source": [
        "cita = ' '.join(lista)\n",
        "print(cita)"
      ],
      "id": "grbLo51FbP_p"
    },
    {
      "cell_type": "code",
      "execution_count": 7,
      "metadata": {
        "id": "kiGHYX7nbP_p",
        "outputId": "1d1ce69e-e58a-41e6-b047-0f4b44f8e838",
        "colab": {
          "base_uri": "https://localhost:8080/"
        }
      },
      "outputs": [
        {
          "output_type": "stream",
          "name": "stdout",
          "text": [
            "['H', 'o', 'l', 'a']\n"
          ]
        }
      ],
      "source": [
        "guiones = 'H-o-l-a'\n",
        "lista = guiones.split('-')\n",
        "print(lista)"
      ],
      "id": "kiGHYX7nbP_p"
    },
    {
      "cell_type": "code",
      "execution_count": 8,
      "metadata": {
        "id": "yZwhmkxRbP_q",
        "outputId": "64d035a5-477f-49ab-80b9-d22ffe85b79a",
        "colab": {
          "base_uri": "https://localhost:8080/"
        }
      },
      "outputs": [
        {
          "output_type": "stream",
          "name": "stdout",
          "text": [
            "Hola\n"
          ]
        }
      ],
      "source": [
        "palabra = ''.join(lista)\n",
        "print(palabra)"
      ],
      "id": "yZwhmkxRbP_q"
    },
    {
      "cell_type": "markdown",
      "source": [
        "## De range, a list, a lista de strings y un único string con join"
      ],
      "metadata": {
        "id": "t4ueE7_-iaRm"
      },
      "id": "t4ueE7_-iaRm"
    },
    {
      "cell_type": "code",
      "source": [
        "t = range(9,0,-1)         # este puede ser un número de teléfono muy peculiar\n",
        "print(t)                  # un número de teléfono fijo de León\n",
        "\n",
        "t = list(t)               # convertimos el objeto range en una lista\n",
        "print(t)\n",
        "\n",
        "t = [str(x) for x in t]   # convertimos los elementos int de la lista en elementos str\n",
        "print(t)\n",
        "\n",
        "t = ''.join(t)            # juntamos todos los elementos de la lista con join\n",
        "print(t)                  # join requiere que los elementos sean str y devuelve un str con todos ellos unidos"
      ],
      "metadata": {
        "id": "RqSZykT9cJJq",
        "outputId": "a8cf4b57-5ce8-46f9-b28f-df8de571802f",
        "colab": {
          "base_uri": "https://localhost:8080/"
        }
      },
      "id": "RqSZykT9cJJq",
      "execution_count": 9,
      "outputs": [
        {
          "output_type": "stream",
          "name": "stdout",
          "text": [
            "range(9, 0, -1)\n",
            "[9, 8, 7, 6, 5, 4, 3, 2, 1]\n",
            "['9', '8', '7', '6', '5', '4', '3', '2', '1']\n",
            "987654321\n"
          ]
        }
      ]
    }
  ],
  "metadata": {
    "kernelspec": {
      "display_name": "Python 3",
      "language": "python",
      "name": "python3"
    },
    "language_info": {
      "codemirror_mode": {
        "name": "ipython",
        "version": 3
      },
      "file_extension": ".py",
      "mimetype": "text/x-python",
      "name": "python",
      "nbconvert_exporter": "python",
      "pygments_lexer": "ipython3",
      "version": "3.8.5"
    },
    "colab": {
      "name": "calisto1_0490.ipynb",
      "provenance": [],
      "include_colab_link": true
    }
  },
  "nbformat": 4,
  "nbformat_minor": 5
}