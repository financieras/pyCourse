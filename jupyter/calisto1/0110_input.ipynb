{
  "cells": [
    {
      "cell_type": "markdown",
      "metadata": {
        "id": "view-in-github",
        "colab_type": "text"
      },
      "source": [
        "<a href=\"https://colab.research.google.com/github/financieras/pyCourse/blob/main/jupyter/calisto1/calisto1_0110.ipynb\" target=\"_parent\"><img src=\"https://colab.research.google.com/assets/colab-badge.svg\" alt=\"Open In Colab\"/></a>"
      ]
    },
    {
      "cell_type": "markdown",
      "id": "18593590",
      "metadata": {
        "id": "18593590"
      },
      "source": [
        "# Input  \n",
        "El valor introducido se toma como string."
      ]
    },
    {
      "cell_type": "code",
      "execution_count": 1,
      "id": "995b0da2",
      "metadata": {
        "id": "995b0da2",
        "outputId": "fe4db949-e388-4775-cf60-fb57baf99be2",
        "colab": {
          "base_uri": "https://localhost:8080/",
          "height": 53
        }
      },
      "outputs": [
        {
          "name": "stdout",
          "output_type": "stream",
          "text": [
            "12\n"
          ]
        },
        {
          "output_type": "execute_result",
          "data": {
            "text/plain": [
              "'12'"
            ],
            "application/vnd.google.colaboratory.intrinsic+json": {
              "type": "string"
            }
          },
          "metadata": {},
          "execution_count": 1
        }
      ],
      "source": [
        "input()     # Introduciendo un número lo toma como string. Pulse ENTER después de introducir el valor"
      ]
    },
    {
      "cell_type": "code",
      "execution_count": 2,
      "id": "8a528dbb",
      "metadata": {
        "id": "8a528dbb",
        "outputId": "d6b254c2-ea76-4fbd-c3dc-ae7b693a57d9",
        "colab": {
          "base_uri": "https://localhost:8080/"
        }
      },
      "outputs": [
        {
          "output_type": "stream",
          "name": "stdout",
          "text": [
            "¿Cómo se llama?\n",
            "Antonio\n",
            "Me alegro de conocerle Antonio\n"
          ]
        }
      ],
      "source": [
        "print(\"¿Cómo se llama?\")\n",
        "nombre = input()\n",
        "print(\"Me alegro de conocerle\", nombre)"
      ]
    },
    {
      "cell_type": "code",
      "execution_count": 3,
      "id": "645e10cd",
      "metadata": {
        "id": "645e10cd",
        "outputId": "68761c34-52f1-4ef4-87e7-62cf5d2fe0fb",
        "colab": {
          "base_uri": "https://localhost:8080/",
          "height": 53
        }
      },
      "outputs": [
        {
          "name": "stdout",
          "output_type": "stream",
          "text": [
            "Introduzca un número: 42\n"
          ]
        },
        {
          "output_type": "execute_result",
          "data": {
            "text/plain": [
              "'42'"
            ],
            "application/vnd.google.colaboratory.intrinsic+json": {
              "type": "string"
            }
          },
          "metadata": {},
          "execution_count": 3
        }
      ],
      "source": [
        "input(\"Introduzca un número: \")  # Añadiendo texto dentro del paréntesis"
      ]
    },
    {
      "cell_type": "code",
      "execution_count": 4,
      "id": "11a51f57",
      "metadata": {
        "id": "11a51f57",
        "outputId": "d2f75dfd-20f5-4e2f-efce-3fe29f108e77",
        "colab": {
          "base_uri": "https://localhost:8080/"
        }
      },
      "outputs": [
        {
          "output_type": "stream",
          "name": "stdout",
          "text": [
            "Introduzca un número: 42\n",
            "42\n"
          ]
        }
      ],
      "source": [
        "num = input(\"Introduzca un número: \")\n",
        "print(num)"
      ]
    },
    {
      "cell_type": "markdown",
      "id": "02b8b59d",
      "metadata": {
        "id": "02b8b59d"
      },
      "source": [
        "### Convirtiendo el string en un int"
      ]
    },
    {
      "cell_type": "code",
      "execution_count": 5,
      "id": "1871bb12",
      "metadata": {
        "id": "1871bb12",
        "outputId": "c0627c99-147e-4b33-f09c-fd9216d938d3",
        "colab": {
          "base_uri": "https://localhost:8080/"
        }
      },
      "outputs": [
        {
          "name": "stdout",
          "output_type": "stream",
          "text": [
            "Introduzca un número entero: 42\n"
          ]
        },
        {
          "output_type": "execute_result",
          "data": {
            "text/plain": [
              "42"
            ]
          },
          "metadata": {},
          "execution_count": 5
        }
      ],
      "source": [
        "num = int(input(\"Introduzca un número entero: \"))         # int convierte el string a entero\n",
        "num"
      ]
    },
    {
      "cell_type": "code",
      "execution_count": 6,
      "id": "05d9bd9d",
      "metadata": {
        "id": "05d9bd9d",
        "outputId": "9f7a275a-c163-4633-a0df-3d46f5bc3eee",
        "colab": {
          "base_uri": "https://localhost:8080/"
        }
      },
      "outputs": [
        {
          "output_type": "stream",
          "name": "stdout",
          "text": [
            "Introduzca el primer número: 2\n",
            "Introduzca el segundo número: 3\n",
            "La suma es:  5\n"
          ]
        }
      ],
      "source": [
        "# Sumando dos enteros\n",
        "num1 = int(input(\"Introduzca el primer número: \"))\n",
        "num2 = int(input(\"Introduzca el segundo número: \"))\n",
        "print(\"La suma es: \", num1 + num2)"
      ]
    },
    {
      "cell_type": "code",
      "execution_count": 7,
      "id": "078d704f",
      "metadata": {
        "id": "078d704f",
        "outputId": "9d136774-2c3a-4858-eeb0-568790a2a7a9",
        "colab": {
          "base_uri": "https://localhost:8080/"
        }
      },
      "outputs": [
        {
          "output_type": "stream",
          "name": "stdout",
          "text": [
            "Introduzca el primer número: 2\n",
            "Introduzca el segundo número: 3\n",
            "La suma es:  23\n"
          ]
        }
      ],
      "source": [
        "# Sumando dos enteros\n",
        "num1 = input(\"Introduzca el primer número: \")\n",
        "num2 = input(\"Introduzca el segundo número: \")\n",
        "print(\"La suma es: \", num1 + num2)                # observe que ahora no suma, concatena"
      ]
    },
    {
      "cell_type": "code",
      "execution_count": 8,
      "id": "85c1626a",
      "metadata": {
        "id": "85c1626a",
        "outputId": "4ab50fcf-090a-4764-d205-7d733475060d",
        "colab": {
          "base_uri": "https://localhost:8080/"
        }
      },
      "outputs": [
        {
          "output_type": "stream",
          "name": "stdout",
          "text": [
            "Introduzca el primer número: 5\n",
            "Introduzca el segundo número: 4\n",
            "El producto de 5 por 4 es igual a 20\n",
            "El producto de 5 por 4 es igual a 20\n",
            "El producto de 5 por 4 es igual a 20\n"
          ]
        }
      ],
      "source": [
        "# Multiplicando dos enteros\n",
        "num1 = int(input(\"Introduzca el primer número: \"))\n",
        "num2 = int(input(\"Introduzca el segundo número: \"))\n",
        "print(\"El producto de\", num1 , \"por\", num2, \"es igual a\", num1*num2)\n",
        "print(\"El producto de {} por {} es igual a {}\".format(num1, num2, num1*num2))\n",
        "print(f\"El producto de {num1} por {num2} es igual a {num1*num2}\")"
      ]
    },
    {
      "cell_type": "markdown",
      "id": "522f8c89",
      "metadata": {
        "id": "522f8c89"
      },
      "source": [
        "### Convirtiendo el string en un float\n",
        "El separador de decimales es el punto."
      ]
    },
    {
      "cell_type": "code",
      "execution_count": 9,
      "id": "67636000",
      "metadata": {
        "id": "67636000",
        "outputId": "af64df9a-abaf-4383-e746-aa7bd3824cea",
        "colab": {
          "base_uri": "https://localhost:8080/"
        }
      },
      "outputs": [
        {
          "name": "stdout",
          "output_type": "stream",
          "text": [
            "Introduzca un número con decimales: 3.79\n"
          ]
        },
        {
          "output_type": "execute_result",
          "data": {
            "text/plain": [
              "3.79"
            ]
          },
          "metadata": {},
          "execution_count": 9
        }
      ],
      "source": [
        "num = float(input(\"Introduzca un número con decimales: \")) # float convierte el string a flotante\n",
        "num"
      ]
    },
    {
      "cell_type": "code",
      "execution_count": 10,
      "id": "f1d3ba3e",
      "metadata": {
        "id": "f1d3ba3e",
        "outputId": "c87c6e9a-0bd7-4cc9-b0f1-d4337149e3e8",
        "colab": {
          "base_uri": "https://localhost:8080/"
        }
      },
      "outputs": [
        {
          "output_type": "stream",
          "name": "stdout",
          "text": [
            "Introduzca el primer número: 12.5\n",
            "Introduzca el segundo número: 2\n",
            "El cociente de 12.5 entre 2.0 es igual a 6.25\n",
            "El cociente de 12.5 entre 2.0 es igual a 6.25\n"
          ]
        }
      ],
      "source": [
        "# Dividiendo dos flotantes\n",
        "num1 = float(input(\"Introduzca el primer número: \"))\n",
        "num2 = float(input(\"Introduzca el segundo número: \"))\n",
        "print(\"El cociente de \" + str(num1) + \" entre \" + str(num2) + \" es igual a \" + str(num1 / num2))\n",
        "print(f\"El cociente de {num1} entre {num2} es igual a {num1/num2}\")"
      ]
    },
    {
      "cell_type": "markdown",
      "id": "3a5bec00",
      "metadata": {
        "id": "3a5bec00"
      },
      "source": [
        "## Variable como argumento de la función input()"
      ]
    },
    {
      "cell_type": "code",
      "execution_count": 11,
      "id": "d39cda10",
      "metadata": {
        "id": "d39cda10",
        "outputId": "8250f2f8-8a1c-474f-d82b-607c42af926a",
        "colab": {
          "base_uri": "https://localhost:8080/"
        }
      },
      "outputs": [
        {
          "output_type": "stream",
          "name": "stdout",
          "text": [
            "Dígame su nombre: Ana\n",
            "Dígame su apellido, Ana: Ruiz\n",
            "Al final nos conocemos en persona, Ana Ruiz.\n"
          ]
        }
      ],
      "source": [
        "nombre = input(\"Dígame su nombre: \")\n",
        "apellido = input(f\"Dígame su apellido, {nombre}: \")\n",
        "print(f\"Al final nos conocemos en persona, {nombre} {apellido}.\")"
      ]
    },
    {
      "cell_type": "markdown",
      "id": "e19af35f",
      "metadata": {
        "id": "e19af35f"
      },
      "source": [
        "## Valor por defecto en un input()\n",
        "Si ponemos un ```or``` podemos incluir un valor por defecto.\n",
        "Si el usuario pulsa ENTER cuando se le pregunta, la repuesta será el valor por defecto."
      ]
    },
    {
      "cell_type": "code",
      "execution_count": 12,
      "id": "0477b04d",
      "metadata": {
        "id": "0477b04d",
        "outputId": "8a674a7c-ad79-44e8-81cf-45a3f8ef7e20",
        "colab": {
          "base_uri": "https://localhost:8080/"
        }
      },
      "outputs": [
        {
          "output_type": "stream",
          "name": "stdout",
          "text": [
            "Indique su Hoja de Calculo favorita: \n",
            "Excel\n"
          ]
        }
      ],
      "source": [
        "hojaCalculo = input(\"Indique su Hoja de Calculo favorita: \") or \"Excel\"\n",
        "print(hojaCalculo)"
      ]
    }
  ],
  "metadata": {
    "kernelspec": {
      "display_name": "Python 3 (ipykernel)",
      "language": "python",
      "name": "python3"
    },
    "language_info": {
      "codemirror_mode": {
        "name": "ipython",
        "version": 3
      },
      "file_extension": ".py",
      "mimetype": "text/x-python",
      "name": "python",
      "nbconvert_exporter": "python",
      "pygments_lexer": "ipython3",
      "version": "3.8.11"
    },
    "colab": {
      "name": "0110_input.ipynb",
      "provenance": [],
      "include_colab_link": true
    }
  },
  "nbformat": 4,
  "nbformat_minor": 5
}
