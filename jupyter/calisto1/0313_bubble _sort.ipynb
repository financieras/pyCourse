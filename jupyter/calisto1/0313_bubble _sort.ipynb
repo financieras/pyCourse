{
  "nbformat": 4,
  "nbformat_minor": 0,
  "metadata": {
    "colab": {
      "provenance": [],
      "authorship_tag": "ABX9TyOdgXc1uZbrdQ6808EdgYOZ",
      "include_colab_link": true
    },
    "kernelspec": {
      "name": "python3",
      "display_name": "Python 3"
    },
    "language_info": {
      "name": "python"
    }
  },
  "cells": [
    {
      "cell_type": "markdown",
      "metadata": {
        "id": "view-in-github",
        "colab_type": "text"
      },
      "source": [
        "<a href=\"https://colab.research.google.com/github/financieras/pyCourse/blob/main/jupyter/calisto1/0313_bubble%20_sort.ipynb\" target=\"_parent\"><img src=\"https://colab.research.google.com/assets/colab-badge.svg\" alt=\"Open In Colab\"/></a>"
      ]
    },
    {
      "cell_type": "markdown",
      "source": [
        "# Bubble Sort\n",
        "* Ordenar tres números\n",
        "* Sin usar `sort`ni `sorted`"
      ],
      "metadata": {
        "id": "Mg_EQk2xvf-B"
      }
    },
    {
      "cell_type": "markdown",
      "source": [
        "## Algoritmo de la burbuja\n",
        "* Este caso es solo para tres números\n",
        "* Existe un caso más general para n números donde necesitaremos ver previamente bucles"
      ],
      "metadata": {
        "id": "qvgUcSWQwvLx"
      }
    },
    {
      "cell_type": "code",
      "source": [
        "from random import randint\n",
        "\n",
        "a = randint(1,9)\n",
        "b = randint(1,9)\n",
        "c = randint(1,9)\n",
        "\n",
        "print(f\"a = {a}\")\n",
        "print(f\"b = {b}\")\n",
        "print(f\"c = {c}\")\n",
        "print()\n",
        "\n",
        "if a > b: a,b = b,a   # permutamos para conseguir que a<b\n",
        "if a > c: a,c = c,a   # permutamos para conseguir que a<c\n",
        "if b > c: b,c = c,b   # permutamos para conseguir que b<c\n",
        "\n",
        "print(f\"{a} ≤ {b} ≤ {c}\")"
      ],
      "metadata": {
        "colab": {
          "base_uri": "https://localhost:8080/"
        },
        "id": "NlFolwnsvo2Z",
        "outputId": "be25167e-942e-49d4-b463-afe88eb61a98"
      },
      "execution_count": 20,
      "outputs": [
        {
          "output_type": "stream",
          "name": "stdout",
          "text": [
            "a = 1\n",
            "b = 1\n",
            "c = 1\n",
            "\n",
            "1 ≤ 1 ≤ 1\n"
          ]
        }
      ]
    }
  ]
}