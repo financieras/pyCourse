{
  "nbformat": 4,
  "nbformat_minor": 0,
  "metadata": {
    "colab": {
      "provenance": [],
      "authorship_tag": "ABX9TyP6Rjoxy2Nk9s0lOK5ZhF0X",
      "include_colab_link": true
    },
    "kernelspec": {
      "name": "python3",
      "display_name": "Python 3"
    },
    "language_info": {
      "name": "python"
    }
  },
  "cells": [
    {
      "cell_type": "markdown",
      "metadata": {
        "id": "view-in-github",
        "colab_type": "text"
      },
      "source": [
        "<a href=\"https://colab.research.google.com/github/financieras/pyCourse/blob/main/jupyter/calisto1/0313_bubble%20_sort.ipynb\" target=\"_parent\"><img src=\"https://colab.research.google.com/assets/colab-badge.svg\" alt=\"Open In Colab\"/></a>"
      ]
    },
    {
      "cell_type": "markdown",
      "source": [
        "# Ordenar tres números\n",
        "Sin usar `sort`ni `sorted`."
      ],
      "metadata": {
        "id": "Mg_EQk2xvf-B"
      }
    },
    {
      "cell_type": "markdown",
      "source": [
        "## Algoritmo de la burbuja"
      ],
      "metadata": {
        "id": "qvgUcSWQwvLx"
      }
    },
    {
      "cell_type": "code",
      "source": [
        "from random import randint\n",
        "a = randint(1,9)\n",
        "b = randint(1,9)\n",
        "c = randint(1,9)\n",
        "print(f\"a = {a}\")\n",
        "print(f\"b = {b}\")\n",
        "print(f\"c = {c}\")\n",
        "print()\n",
        "\n",
        "if a > b: a,b = b,a   # permutamos para conseguir que a<b\n",
        "if a > c: a,c = c,a   # permutamos para conseguir que a<c\n",
        "if b > c: b,c = c,b   # permutamos para conseguir que b<c\n",
        "\n",
        "print(f\"{a} < {b} < {c}\")"
      ],
      "metadata": {
        "colab": {
          "base_uri": "https://localhost:8080/"
        },
        "id": "NlFolwnsvo2Z",
        "outputId": "94b7557a-51f4-408e-b644-4a46355d4275"
      },
      "execution_count": 1,
      "outputs": [
        {
          "output_type": "stream",
          "name": "stdout",
          "text": [
            "a = 8\n",
            "b = 9\n",
            "c = 5\n",
            "\n",
            "5 < 8 < 9\n"
          ]
        }
      ]
    }
  ]
}