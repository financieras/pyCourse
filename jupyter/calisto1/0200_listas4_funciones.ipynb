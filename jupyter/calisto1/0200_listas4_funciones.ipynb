{
  "cells": [
    {
      "cell_type": "markdown",
      "metadata": {
        "id": "view-in-github",
        "colab_type": "text"
      },
      "source": [
        "<a href=\"https://colab.research.google.com/github/financieras/pyCourse/blob/main/jupyter/calisto1/0200_listas4_funciones.ipynb\" target=\"_parent\"><img src=\"https://colab.research.google.com/assets/colab-badge.svg\" alt=\"Open In Colab\"/></a>"
      ]
    },
    {
      "cell_type": "markdown",
      "id": "cf60e6fc",
      "metadata": {
        "id": "cf60e6fc"
      },
      "source": [
        "# Listas [4] Funciones\n",
        "Operaciones y funciones"
      ]
    },
    {
      "cell_type": "markdown",
      "id": "dd15b7e4",
      "metadata": {
        "id": "dd15b7e4"
      },
      "source": [
        "## Operaciones con listas  \n",
        "Tamaño       →  len(lista)  \n",
        "Concatenar   →  [1,2]+[3,4]  \n",
        "Repetir      →  [\"hola\"]*3  \n",
        "Iterar       →  for i in lista  \n",
        "Es parte de  →  4 in lista          # operador de pertenencia: in  \n",
        "No es parte de →  5 not in lista    # operador de pertenencia: not in"
      ]
    },
    {
      "cell_type": "markdown",
      "id": "755a1a1e",
      "metadata": {
        "id": "755a1a1e"
      },
      "source": [
        "### Concatenar listas"
      ]
    },
    {
      "cell_type": "code",
      "execution_count": 1,
      "id": "45201dd0",
      "metadata": {
        "id": "45201dd0",
        "outputId": "febbfabf-acf0-4d0f-9216-edd76d9553d4",
        "colab": {
          "base_uri": "https://localhost:8080/"
        }
      },
      "outputs": [
        {
          "output_type": "stream",
          "name": "stdout",
          "text": [
            "[1, 2, 3, 4]\n"
          ]
        }
      ],
      "source": [
        "lista = [1, 2] + [3, 4]         # uniendo dos listas\n",
        "print(lista)                  # [1, 2, 3, 4]"
      ]
    },
    {
      "cell_type": "markdown",
      "id": "8ca260ec",
      "metadata": {
        "id": "8ca260ec"
      },
      "source": [
        "### len()"
      ]
    },
    {
      "cell_type": "code",
      "execution_count": 2,
      "id": "c36c5655",
      "metadata": {
        "id": "c36c5655",
        "outputId": "c50ab09c-23c5-4188-f112-cc5040917aa3",
        "colab": {
          "base_uri": "https://localhost:8080/"
        }
      },
      "outputs": [
        {
          "output_type": "stream",
          "name": "stdout",
          "text": [
            "4\n"
          ]
        }
      ],
      "source": [
        "print(len(lista))             # 4"
      ]
    },
    {
      "cell_type": "markdown",
      "id": "c8302f82",
      "metadata": {
        "id": "c8302f82"
      },
      "source": [
        "### Repetir"
      ]
    },
    {
      "cell_type": "code",
      "execution_count": 3,
      "id": "2f67923c",
      "metadata": {
        "id": "2f67923c",
        "outputId": "0b3d48a6-2064-4b3b-8198-d38e582c9e86",
        "colab": {
          "base_uri": "https://localhost:8080/"
        }
      },
      "outputs": [
        {
          "output_type": "stream",
          "name": "stdout",
          "text": [
            "['hola', 'hola', 'hola']\n"
          ]
        }
      ],
      "source": [
        "saluda = [\"hola\"]*3\n",
        "print(saluda)                 # ['hola', 'hola', 'hola']"
      ]
    },
    {
      "cell_type": "markdown",
      "id": "e594de99",
      "metadata": {
        "id": "e594de99"
      },
      "source": [
        "### Iterar"
      ]
    },
    {
      "cell_type": "code",
      "execution_count": 4,
      "id": "a462a75e",
      "metadata": {
        "id": "a462a75e",
        "outputId": "5265ddff-1a37-4ed2-a36b-5db5c5c0c078",
        "colab": {
          "base_uri": "https://localhost:8080/"
        }
      },
      "outputs": [
        {
          "output_type": "stream",
          "name": "stdout",
          "text": [
            "1\n",
            "2\n",
            "3\n",
            "4\n"
          ]
        }
      ],
      "source": [
        "for i in lista:\n",
        "    print(i)                  # 1 2 3 4 en columna"
      ]
    },
    {
      "cell_type": "markdown",
      "id": "51a87b78",
      "metadata": {
        "id": "51a87b78"
      },
      "source": [
        "### in"
      ]
    },
    {
      "cell_type": "code",
      "execution_count": 5,
      "id": "93fe0e28",
      "metadata": {
        "id": "93fe0e28",
        "outputId": "ecc74b14-adcb-47e7-c13a-9a43509df4c4",
        "colab": {
          "base_uri": "https://localhost:8080/"
        }
      },
      "outputs": [
        {
          "output_type": "stream",
          "name": "stdout",
          "text": [
            "False\n"
          ]
        }
      ],
      "source": [
        "print(\"bye\" in saluda)        # False"
      ]
    },
    {
      "cell_type": "code",
      "execution_count": 6,
      "id": "16697edc",
      "metadata": {
        "id": "16697edc",
        "outputId": "7de6e8aa-88bf-4a7b-bbd8-c4893aef5817",
        "colab": {
          "base_uri": "https://localhost:8080/"
        }
      },
      "outputs": [
        {
          "output_type": "stream",
          "name": "stdout",
          "text": [
            "True\n"
          ]
        }
      ],
      "source": [
        "print(\"hola\" in saluda)        # True"
      ]
    },
    {
      "cell_type": "markdown",
      "id": "48bd3236",
      "metadata": {
        "id": "48bd3236"
      },
      "source": [
        "### not in"
      ]
    },
    {
      "cell_type": "code",
      "execution_count": 7,
      "id": "dc0280e4",
      "metadata": {
        "id": "dc0280e4",
        "outputId": "af27c1b0-2bad-4b36-b177-111e9065a312",
        "colab": {
          "base_uri": "https://localhost:8080/"
        }
      },
      "outputs": [
        {
          "output_type": "stream",
          "name": "stdout",
          "text": [
            "True\n"
          ]
        }
      ],
      "source": [
        "print(\"hi\" not in saluda)      # True"
      ]
    },
    {
      "cell_type": "markdown",
      "id": "d1db79de",
      "metadata": {
        "id": "d1db79de"
      },
      "source": [
        "## Algunas funciones  \n",
        "append(elemento)  \n",
        "pop()  \n",
        "remove(elemento)\t                 # si elemento no está en la lista da  error  \n",
        "index(elemento)                      # devuelve el índice que ocupa el elemento  \n",
        "insert(indice,elemento)  \n",
        "clear()  "
      ]
    },
    {
      "cell_type": "markdown",
      "id": "3cddf00c",
      "metadata": {
        "id": "3cddf00c"
      },
      "source": [
        "### append()"
      ]
    },
    {
      "cell_type": "code",
      "execution_count": 8,
      "id": "6336047a",
      "metadata": {
        "id": "6336047a",
        "outputId": "a6fe30e8-dc66-49e3-eaff-377128a64fcf",
        "colab": {
          "base_uri": "https://localhost:8080/"
        }
      },
      "outputs": [
        {
          "output_type": "stream",
          "name": "stdout",
          "text": [
            "['hola', 'hola', 'hola', 'hi']\n"
          ]
        }
      ],
      "source": [
        "saluda.append(\"hi\")\n",
        "print(saluda)                 # ['hola', 'hola', 'hola', 'hi']"
      ]
    },
    {
      "cell_type": "markdown",
      "id": "91059c17",
      "metadata": {
        "id": "91059c17"
      },
      "source": [
        "### pop()"
      ]
    },
    {
      "cell_type": "code",
      "execution_count": 9,
      "id": "8f213dbf",
      "metadata": {
        "id": "8f213dbf",
        "outputId": "2b124079-5158-4c74-a35c-1e725a174091",
        "colab": {
          "base_uri": "https://localhost:8080/"
        }
      },
      "outputs": [
        {
          "output_type": "stream",
          "name": "stdout",
          "text": [
            "['hola', 'hola', 'hola']\n",
            "hi\n"
          ]
        }
      ],
      "source": [
        "eliminado = saluda.pop()\n",
        "print(saluda)                 # ['hola', 'hola', 'hola']\n",
        "print(eliminado)              # hi"
      ]
    },
    {
      "cell_type": "markdown",
      "id": "f56e5d28",
      "metadata": {
        "id": "f56e5d28"
      },
      "source": [
        "### clear()"
      ]
    },
    {
      "cell_type": "code",
      "execution_count": 10,
      "id": "8f3a3b5c",
      "metadata": {
        "id": "8f3a3b5c",
        "outputId": "0a811817-d6ca-4ecd-f73e-f9f7a5d575a3",
        "colab": {
          "base_uri": "https://localhost:8080/"
        }
      },
      "outputs": [
        {
          "output_type": "stream",
          "name": "stdout",
          "text": [
            "[]\n"
          ]
        }
      ],
      "source": [
        "saluda.clear()\n",
        "print(saluda)                 # []"
      ]
    },
    {
      "cell_type": "markdown",
      "id": "d81c87c2",
      "metadata": {
        "id": "d81c87c2"
      },
      "source": [
        "### remove()"
      ]
    },
    {
      "cell_type": "code",
      "execution_count": 11,
      "id": "73b74562",
      "metadata": {
        "id": "73b74562",
        "outputId": "59375d22-f7ed-4fbb-b9e6-3a4b853a1346",
        "colab": {
          "base_uri": "https://localhost:8080/"
        }
      },
      "outputs": [
        {
          "output_type": "stream",
          "name": "stdout",
          "text": [
            "[10, 20, 30, 40]\n",
            "[10, 30, 40]\n"
          ]
        }
      ],
      "source": [
        "l = [10, 20, 30, 40]          # nueva lista l\n",
        "print(l)                      # [10, 20, 30, 40]\n",
        "l.remove(20)\n",
        "print(l)                      # [10, 30, 40]"
      ]
    },
    {
      "cell_type": "markdown",
      "id": "03116007",
      "metadata": {
        "id": "03116007"
      },
      "source": [
        "### index()"
      ]
    },
    {
      "cell_type": "code",
      "execution_count": 12,
      "id": "b48bfa3a",
      "metadata": {
        "id": "b48bfa3a",
        "outputId": "a6b1d7a6-8275-42fb-ab82-cfb258e6e640",
        "colab": {
          "base_uri": "https://localhost:8080/"
        }
      },
      "outputs": [
        {
          "output_type": "stream",
          "name": "stdout",
          "text": [
            "2\n"
          ]
        }
      ],
      "source": [
        "print(l.index(40))            # 2    el valor 40 ocupa ahora el índice 2"
      ]
    },
    {
      "cell_type": "markdown",
      "id": "7fb92459",
      "metadata": {
        "id": "7fb92459"
      },
      "source": [
        "### insert()"
      ]
    },
    {
      "cell_type": "code",
      "execution_count": 13,
      "id": "afd01c86",
      "metadata": {
        "id": "afd01c86",
        "outputId": "a1c2411f-6994-4c86-e0f4-70c4b79ccb8e",
        "colab": {
          "base_uri": "https://localhost:8080/"
        }
      },
      "outputs": [
        {
          "output_type": "stream",
          "name": "stdout",
          "text": [
            "[10, '20', 30, 40]\n"
          ]
        }
      ],
      "source": [
        "l.insert(1, \"20\")             # insertamos un valor tipo string\n",
        "print(l)                      # [10, '20', 30, 40]"
      ]
    },
    {
      "cell_type": "markdown",
      "id": "7035ba7d",
      "metadata": {
        "id": "7035ba7d"
      },
      "source": [
        "### No es lo mismo 30 que [30]"
      ]
    },
    {
      "cell_type": "code",
      "execution_count": 14,
      "id": "7ce07de4",
      "metadata": {
        "id": "7ce07de4",
        "outputId": "114117cf-ac3d-46c0-977a-547580963b55",
        "colab": {
          "base_uri": "https://localhost:8080/"
        }
      },
      "outputs": [
        {
          "output_type": "stream",
          "name": "stdout",
          "text": [
            "30\n",
            "[30]\n",
            "False\n"
          ]
        }
      ],
      "source": [
        "print(l[2])                   # 30        valor 30\n",
        "print(l[2:3])                 # [30]      lista con un único valor\n",
        "print(l[2] == l[2:3])         # False     no es lo mismo un valor que una lista con un único valor"
      ]
    },
    {
      "cell_type": "markdown",
      "id": "f8cf534e",
      "metadata": {
        "id": "f8cf534e"
      },
      "source": [
        "### Iterar"
      ]
    },
    {
      "cell_type": "code",
      "execution_count": 15,
      "id": "da2d4f2c",
      "metadata": {
        "id": "da2d4f2c",
        "outputId": "30ab87e8-86a4-463c-edf1-afbbfd7f8f9d",
        "colab": {
          "base_uri": "https://localhost:8080/"
        }
      },
      "outputs": [
        {
          "output_type": "stream",
          "name": "stdout",
          "text": [
            "amarillo\n",
            "rojo\n",
            "verde\n",
            "azul\n",
            "naranja\n"
          ]
        }
      ],
      "source": [
        "colores = ['amarillo', 'rojo', 'verde', 'azul', 'naranja']\n",
        "for color in colores:\n",
        "    print(color)"
      ]
    },
    {
      "cell_type": "markdown",
      "id": "ebdbcc7a",
      "metadata": {
        "id": "ebdbcc7a"
      },
      "source": [
        "### append()"
      ]
    },
    {
      "cell_type": "code",
      "execution_count": 16,
      "id": "cbd0a26b",
      "metadata": {
        "id": "cbd0a26b",
        "outputId": "b0d1d3c6-ad16-4ae9-c4fe-300eebea2b26",
        "colab": {
          "base_uri": "https://localhost:8080/"
        }
      },
      "outputs": [
        {
          "output_type": "execute_result",
          "data": {
            "text/plain": [
              "['amarillo', 'rojo', 'verde', 'azul', 'naranja', 'magenta']"
            ]
          },
          "metadata": {},
          "execution_count": 16
        }
      ],
      "source": [
        "colores.append('magenta')\n",
        "colores"
      ]
    },
    {
      "cell_type": "markdown",
      "id": "c4a0967b",
      "metadata": {
        "id": "c4a0967b"
      },
      "source": [
        "### remove()"
      ]
    },
    {
      "cell_type": "code",
      "execution_count": 17,
      "id": "2ec68e73",
      "metadata": {
        "id": "2ec68e73",
        "outputId": "ab9ef4ae-db0e-4b88-ece9-1cbd0ebd0f06",
        "colab": {
          "base_uri": "https://localhost:8080/"
        }
      },
      "outputs": [
        {
          "output_type": "execute_result",
          "data": {
            "text/plain": [
              "['amarillo', 'rojo', 'verde', 'azul', 'magenta']"
            ]
          },
          "metadata": {},
          "execution_count": 17
        }
      ],
      "source": [
        "colores.remove('naranja')\n",
        "colores"
      ]
    },
    {
      "cell_type": "markdown",
      "id": "1e224026",
      "metadata": {
        "id": "1e224026"
      },
      "source": [
        "### index()"
      ]
    },
    {
      "cell_type": "code",
      "execution_count": 18,
      "id": "ab12fd6c",
      "metadata": {
        "id": "ab12fd6c",
        "outputId": "96ff6306-855b-4c4e-a52b-6502603e6d88",
        "colab": {
          "base_uri": "https://localhost:8080/"
        }
      },
      "outputs": [
        {
          "output_type": "execute_result",
          "data": {
            "text/plain": [
              "2"
            ]
          },
          "metadata": {},
          "execution_count": 18
        }
      ],
      "source": [
        "colores.index('verde')        # 2"
      ]
    },
    {
      "cell_type": "markdown",
      "id": "8d23db47",
      "metadata": {
        "id": "8d23db47"
      },
      "source": [
        "### pop()"
      ]
    },
    {
      "cell_type": "code",
      "execution_count": 19,
      "id": "1a99091c",
      "metadata": {
        "id": "1a99091c",
        "outputId": "55aae6d8-2a1e-42c0-e561-fa00ade97fd6",
        "colab": {
          "base_uri": "https://localhost:8080/"
        }
      },
      "outputs": [
        {
          "output_type": "execute_result",
          "data": {
            "text/plain": [
              "['amarillo', 'rojo', 'verde', 'azul']"
            ]
          },
          "metadata": {},
          "execution_count": 19
        }
      ],
      "source": [
        "colores.pop()                 # elimina el último elemento de la lista\n",
        "colores"
      ]
    },
    {
      "cell_type": "markdown",
      "id": "295bdb13",
      "metadata": {
        "id": "295bdb13"
      },
      "source": [
        "### pop(elemento)"
      ]
    },
    {
      "cell_type": "code",
      "execution_count": 20,
      "id": "151b5eef",
      "metadata": {
        "id": "151b5eef",
        "outputId": "c791ac26-86f0-45db-d800-9adf45cd98a6",
        "colab": {
          "base_uri": "https://localhost:8080/"
        }
      },
      "outputs": [
        {
          "output_type": "execute_result",
          "data": {
            "text/plain": [
              "['amarillo', 'verde', 'azul']"
            ]
          },
          "metadata": {},
          "execution_count": 20
        }
      ],
      "source": [
        "colores.pop(1)                # elimina el elemento que se indique\n",
        "colores"
      ]
    },
    {
      "cell_type": "markdown",
      "id": "cbbc8127",
      "metadata": {
        "id": "cbbc8127"
      },
      "source": [
        "### clear()"
      ]
    },
    {
      "cell_type": "code",
      "execution_count": 21,
      "id": "910b2a39",
      "metadata": {
        "scrolled": true,
        "id": "910b2a39",
        "outputId": "50b69235-e64a-4663-c054-1cf1320cd4fd",
        "colab": {
          "base_uri": "https://localhost:8080/"
        }
      },
      "outputs": [
        {
          "output_type": "execute_result",
          "data": {
            "text/plain": [
              "[]"
            ]
          },
          "metadata": {},
          "execution_count": 21
        }
      ],
      "source": [
        "colores.clear()\n",
        "colores"
      ]
    },
    {
      "cell_type": "markdown",
      "id": "eee2ffca",
      "metadata": {
        "id": "eee2ffca"
      },
      "source": [
        "## ```sort``` y ```sorted```"
      ]
    },
    {
      "cell_type": "code",
      "execution_count": 22,
      "id": "7224eb35",
      "metadata": {
        "id": "7224eb35",
        "outputId": "93e906c1-6687-452f-b57d-3f5ad7fb69ce",
        "colab": {
          "base_uri": "https://localhost:8080/"
        }
      },
      "outputs": [
        {
          "output_type": "stream",
          "name": "stdout",
          "text": [
            "lista inicial : [5, 2, 6, 1, 9, 0]\n",
            "lista con sort: [0, 1, 2, 5, 6, 9]\n"
          ]
        }
      ],
      "source": [
        "l = [5, 2, 6, 1, 9, 0]\n",
        "print(\"lista inicial :\", l)\n",
        "l.sort()                             # l.sort() realmente ordena la lista pero se ha de poner antes del print\n",
        "print(\"lista con sort:\", l)"
      ]
    },
    {
      "cell_type": "code",
      "execution_count": 23,
      "id": "32152eb8",
      "metadata": {
        "id": "32152eb8",
        "outputId": "4e20347f-6c4e-4c41-ccb5-ece0499defef",
        "colab": {
          "base_uri": "https://localhost:8080/"
        }
      },
      "outputs": [
        {
          "output_type": "stream",
          "name": "stdout",
          "text": [
            "lista inicial: [5, 2, 6, 1, 9, 0]\n",
            "lista sorted : [0, 1, 2, 5, 6, 9]\n",
            "lista final  : [5, 2, 6, 1, 9, 0]\n"
          ]
        }
      ],
      "source": [
        "l = [5, 2, 6, 1, 9, 0]\n",
        "print(\"lista inicial:\", l)\n",
        "print(\"lista sorted :\", sorted(l))   # sorted(l) realmente no orden la lista pero permite imprimirla ordenada\n",
        "print(\"lista final  :\", l)"
      ]
    }
  ],
  "metadata": {
    "kernelspec": {
      "display_name": "Python 3 (ipykernel)",
      "language": "python",
      "name": "python3"
    },
    "language_info": {
      "codemirror_mode": {
        "name": "ipython",
        "version": 3
      },
      "file_extension": ".py",
      "mimetype": "text/x-python",
      "name": "python",
      "nbconvert_exporter": "python",
      "pygments_lexer": "ipython3",
      "version": "3.8.11"
    },
    "colab": {
      "name": "calisto1_0200.ipynb",
      "provenance": [],
      "include_colab_link": true
    }
  },
  "nbformat": 4,
  "nbformat_minor": 5
}