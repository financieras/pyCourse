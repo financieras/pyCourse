{
  "cells": [
    {
      "cell_type": "markdown",
      "metadata": {
        "id": "view-in-github",
        "colab_type": "text"
      },
      "source": [
        "<a href=\"https://colab.research.google.com/github/financieras/pyCourse/blob/main/jupyter/calisto1_0070.ipynb\" target=\"_parent\"><img src=\"https://colab.research.google.com/assets/colab-badge.svg\" alt=\"Open In Colab\"/></a>"
      ]
    },
    {
      "cell_type": "markdown",
      "id": "38653a89",
      "metadata": {
        "id": "38653a89"
      },
      "source": [
        "# Nombres de variables"
      ]
    },
    {
      "cell_type": "markdown",
      "id": "c3f43f13",
      "metadata": {
        "id": "c3f43f13"
      },
      "source": [
        "Una variable es un espacio en memoria capaz de contener un dato.  \n",
        "Las variables en Python son **case-sensitive**, se diferencia entre mayúsculas y minúsculas.\n",
        "\n",
        "Dos estilos:\n",
        "- [camelCase](https://www.google.com/search?q=camelCase)\n",
        "- [snake_case](https://www.google.com/search?q=snake_case)"
      ]
    },
    {
      "cell_type": "code",
      "execution_count": null,
      "id": "3450565f",
      "metadata": {
        "id": "3450565f"
      },
      "outputs": [],
      "source": [
        "mi_nombre = \"Felipe\"  # se recomienda empezar con minúscula\n",
        "_ciudad = \"Buenos Aires\"\n",
        "edad4 = 23"
      ]
    },
    {
      "cell_type": "code",
      "execution_count": null,
      "id": "db39c43b",
      "metadata": {
        "id": "db39c43b"
      },
      "outputs": [],
      "source": [
        "#mi-nombre = \"Ana\"    # error, no acepta guion ni otros símbolos"
      ]
    },
    {
      "cell_type": "code",
      "execution_count": null,
      "id": "431ba35c",
      "metadata": {
        "id": "431ba35c"
      },
      "outputs": [],
      "source": [
        "#mi nombre = \"Ana\"    # error, no puede contener espacios"
      ]
    },
    {
      "cell_type": "code",
      "execution_count": null,
      "id": "1c0a6d5b",
      "metadata": {
        "id": "1c0a6d5b"
      },
      "outputs": [],
      "source": [
        "#4edad = 15           # error, no puede empezar por número"
      ]
    },
    {
      "cell_type": "code",
      "execution_count": null,
      "id": "b8231eab",
      "metadata": {
        "id": "b8231eab"
      },
      "outputs": [],
      "source": [
        "#$edad = 30           # error, no puede empezar por símbolo"
      ]
    },
    {
      "cell_type": "code",
      "execution_count": null,
      "id": "9e70faff",
      "metadata": {
        "id": "9e70faff"
      },
      "outputs": [],
      "source": [
        "nombreApellidos = \"Juan Ruiz\"    # lower camel style\n",
        "NombreApellidos = \"Pablo Díez\"   # upper camel style\n",
        "nombre_del_padre = \"Juan\"        # sanke case\n",
        "nombreApellidos"
      ]
    },
    {
      "cell_type": "code",
      "execution_count": null,
      "id": "560ce564",
      "metadata": {
        "id": "560ce564"
      },
      "outputs": [],
      "source": [
        "nombreApellidos == NombreApellidos   # False, case sensitive"
      ]
    },
    {
      "cell_type": "markdown",
      "id": "65a29922",
      "metadata": {
        "id": "65a29922"
      },
      "source": [
        "# Palabras reservadas  \n",
        "Existen ciertos nombres reservamos que no se pueden usar como nombres de variables."
      ]
    },
    {
      "cell_type": "markdown",
      "id": "7f2a5458",
      "metadata": {
        "id": "7f2a5458"
      },
      "source": [
        "- and\n",
        "- as\n",
        "- assert\n",
        "- break\n",
        "- class\n",
        "- continue\n",
        "- def\n",
        "- del\n",
        "- elif\n",
        "- else\n",
        "- except\n",
        "- exec\n",
        "- finally\n",
        "- for\n",
        "- from\n",
        "- global\n",
        "- if\n",
        "- import\n",
        "- in\n",
        "- is\n",
        "- lambda\n",
        "- not\n",
        "- or\n",
        "- pass\n",
        "- print\n",
        "- raise\n",
        "- return\n",
        "- try\n",
        "- while\n",
        "- with\n",
        "- yield"
      ]
    },
    {
      "cell_type": "code",
      "execution_count": null,
      "id": "4341e10b",
      "metadata": {
        "id": "4341e10b"
      },
      "outputs": [],
      "source": [
        "# Ejemplo que da error\n",
        "#import = 15"
      ]
    },
    {
      "cell_type": "code",
      "execution_count": null,
      "id": "9cfcb06b",
      "metadata": {
        "id": "9cfcb06b"
      },
      "outputs": [],
      "source": [
        "# import es una palabra reservada del lenguaje \n",
        "# (Python Keywords)\n",
        "# Mejor myimport\n",
        "myimport = 15\n",
        "myimport"
      ]
    }
  ],
  "metadata": {
    "kernelspec": {
      "display_name": "Python 3 (ipykernel)",
      "language": "python",
      "name": "python3"
    },
    "language_info": {
      "codemirror_mode": {
        "name": "ipython",
        "version": 3
      },
      "file_extension": ".py",
      "mimetype": "text/x-python",
      "name": "python",
      "nbconvert_exporter": "python",
      "pygments_lexer": "ipython3",
      "version": "3.8.11"
    },
    "colab": {
      "name": "0070_nombres_de_variables.ipynb",
      "provenance": [],
      "include_colab_link": true
    }
  },
  "nbformat": 4,
  "nbformat_minor": 5
}
