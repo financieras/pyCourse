{
  "cells": [
    {
      "cell_type": "markdown",
      "metadata": {
        "id": "view-in-github",
        "colab_type": "text"
      },
      "source": [
        "<a href=\"https://colab.research.google.com/github/financieras/pyCourse/blob/main/jupyter/calisto1/0400_listas_con_estructuras1.ipynb\" target=\"_parent\"><img src=\"https://colab.research.google.com/assets/colab-badge.svg\" alt=\"Open In Colab\"/></a>"
      ]
    },
    {
      "cell_type": "markdown",
      "id": "c429a7e2",
      "metadata": {
        "id": "c429a7e2"
      },
      "source": [
        "# Listas con estructuras [1]"
      ]
    },
    {
      "cell_type": "markdown",
      "id": "181831e0",
      "metadata": {
        "id": "181831e0"
      },
      "source": [
        "Partimos de una lista de elementos."
      ]
    },
    {
      "cell_type": "code",
      "execution_count": 1,
      "id": "e562cf0b",
      "metadata": {
        "id": "e562cf0b"
      },
      "outputs": [],
      "source": [
        "colores = ['verde', 'rojo', 'azul', 'rosa']"
      ]
    },
    {
      "cell_type": "markdown",
      "id": "7cdc974d",
      "metadata": {
        "id": "7cdc974d"
      },
      "source": [
        "## Deseamos recorrer la lista con un ```for```"
      ]
    },
    {
      "cell_type": "code",
      "execution_count": 2,
      "id": "705f6e5f",
      "metadata": {
        "id": "705f6e5f",
        "outputId": "9e9fee0f-8436-4947-cc37-152146890cb7",
        "colab": {
          "base_uri": "https://localhost:8080/"
        }
      },
      "outputs": [
        {
          "output_type": "stream",
          "name": "stdout",
          "text": [
            "verde\n",
            "rojo\n",
            "azul\n",
            "rosa\n"
          ]
        }
      ],
      "source": [
        "for color in colores:\n",
        "    print(color)"
      ]
    },
    {
      "cell_type": "markdown",
      "id": "6cfeb071",
      "metadata": {
        "id": "6cfeb071"
      },
      "source": [
        "### Recorriendo la lista de forma inversa\n",
        "Podemos dar la vuelta a una lista y luego recorrerla."
      ]
    },
    {
      "cell_type": "markdown",
      "id": "a7f279b8",
      "metadata": {
        "id": "a7f279b8"
      },
      "source": [
        "#### Método 1: con reversed()"
      ]
    },
    {
      "cell_type": "code",
      "execution_count": 3,
      "id": "23631146",
      "metadata": {
        "id": "23631146",
        "outputId": "c8a7f730-a066-4916-8551-ffa271cbc856",
        "colab": {
          "base_uri": "https://localhost:8080/"
        }
      },
      "outputs": [
        {
          "output_type": "stream",
          "name": "stdout",
          "text": [
            "rosa\n",
            "azul\n",
            "rojo\n",
            "verde\n"
          ]
        }
      ],
      "source": [
        "for color in reversed(colores):\n",
        "    print(color)"
      ]
    },
    {
      "cell_type": "markdown",
      "id": "44a6f4dd",
      "metadata": {
        "id": "44a6f4dd"
      },
      "source": [
        "#### Método 2: con lista[::-1]"
      ]
    },
    {
      "cell_type": "code",
      "execution_count": 4,
      "id": "97542d0d",
      "metadata": {
        "id": "97542d0d",
        "outputId": "3501ef24-3e06-4ad7-f631-b07f23a970f1",
        "colab": {
          "base_uri": "https://localhost:8080/"
        }
      },
      "outputs": [
        {
          "output_type": "stream",
          "name": "stdout",
          "text": [
            "rosa\n",
            "azul\n",
            "rojo\n",
            "verde\n"
          ]
        }
      ],
      "source": [
        "for color in colores[::-1]:\n",
        "    print(color)"
      ]
    },
    {
      "cell_type": "markdown",
      "id": "4171737f",
      "metadata": {
        "id": "4171737f"
      },
      "source": [
        "### Llamando a cada elemento de la lista por su índice"
      ]
    },
    {
      "cell_type": "code",
      "execution_count": 5,
      "id": "fe61a570",
      "metadata": {
        "id": "fe61a570",
        "outputId": "3f500850-2de4-4ee7-bb10-0900cf3f3c54",
        "colab": {
          "base_uri": "https://localhost:8080/"
        }
      },
      "outputs": [
        {
          "output_type": "stream",
          "name": "stdout",
          "text": [
            "0 verde\n",
            "1 rojo\n",
            "2 azul\n",
            "3 rosa\n"
          ]
        }
      ],
      "source": [
        "for i in range(len(colores)):\n",
        "    print(i, colores[i])"
      ]
    },
    {
      "cell_type": "markdown",
      "id": "18a7e01e",
      "metadata": {
        "id": "18a7e01e"
      },
      "source": [
        "### También se puede usar un ```while```"
      ]
    },
    {
      "cell_type": "code",
      "execution_count": 6,
      "id": "94ff0bb2",
      "metadata": {
        "id": "94ff0bb2",
        "outputId": "d561af29-1216-4fb1-9731-624d2ddc7cf9",
        "colab": {
          "base_uri": "https://localhost:8080/"
        }
      },
      "outputs": [
        {
          "output_type": "stream",
          "name": "stdout",
          "text": [
            "Pintar en: verde\n",
            "Pintar en: rojo\n",
            "Pintar en: azul\n",
            "Pintar en: rosa\n"
          ]
        }
      ],
      "source": [
        "i = 0\n",
        "while i < len(colores):\n",
        "    print('Pintar en:', colores[i])\n",
        "    i += 1"
      ]
    },
    {
      "cell_type": "markdown",
      "id": "c9756a1e",
      "metadata": {
        "id": "c9756a1e"
      },
      "source": [
        "## Alterar el valor de una lista\n",
        "No es posible alterar el valor de los elementos de una lista al vuelo."
      ]
    },
    {
      "cell_type": "code",
      "execution_count": 7,
      "id": "9d2cddbc",
      "metadata": {
        "id": "9d2cddbc",
        "outputId": "5a9b0f32-42b7-4f1a-d17c-11344f2dc5d6",
        "colab": {
          "base_uri": "https://localhost:8080/"
        }
      },
      "outputs": [
        {
          "output_type": "execute_result",
          "data": {
            "text/plain": [
              "[1, 2, 3, 4, 5, 6, 7, 8, 9, 10]"
            ]
          },
          "metadata": {},
          "execution_count": 7
        }
      ],
      "source": [
        "numeros = [1, 2, 3, 4, 5, 6, 7, 8, 9, 10]\n",
        "\n",
        "for numero in numeros:\n",
        "    numero *= 10\n",
        "\n",
        "numeros\n",
        "# no hemos conseguido alterar los valores de la lista números\n",
        "# ya que la variable número dentro del for es una variable local"
      ]
    },
    {
      "cell_type": "markdown",
      "id": "70a195b6",
      "metadata": {
        "id": "70a195b6"
      },
      "source": [
        "Ahora si vamos a conseguir alterar el valor de los elementos de la lista números llamándolos por su índice.  \n",
        "Para ello creamos un índice externo."
      ]
    },
    {
      "cell_type": "code",
      "execution_count": 8,
      "id": "50aa3eea",
      "metadata": {
        "id": "50aa3eea",
        "outputId": "4aa01de9-13e6-4ed3-951f-ca8a2fd4440f",
        "colab": {
          "base_uri": "https://localhost:8080/"
        }
      },
      "outputs": [
        {
          "output_type": "execute_result",
          "data": {
            "text/plain": [
              "[10, 20, 30, 40, 50, 60, 70, 80, 90, 100]"
            ]
          },
          "metadata": {},
          "execution_count": 8
        }
      ],
      "source": [
        "i = 0                                   # índice externo\n",
        "for numero in numeros:\n",
        "    numeros[i] *= 10\n",
        "    i += 1\n",
        "\n",
        "numeros                               # así conseguimos multiplicar por 10 todos los elementos de la lista números"
      ]
    },
    {
      "cell_type": "markdown",
      "id": "9c509aa4",
      "metadata": {
        "id": "9c509aa4"
      },
      "source": [
        "Python nos permite disponer del método ```enumerate``` que nos ayudará a conseguir esto sin necesidad de índice externo."
      ]
    },
    {
      "cell_type": "markdown",
      "id": "dbc185ca",
      "metadata": {
        "id": "dbc185ca"
      },
      "source": [
        "## El método ```enumerate```"
      ]
    },
    {
      "cell_type": "code",
      "execution_count": 9,
      "id": "507c42d6",
      "metadata": {
        "id": "507c42d6",
        "outputId": "54f74e93-ff71-436d-abfa-904bf02b84d2",
        "colab": {
          "base_uri": "https://localhost:8080/"
        }
      },
      "outputs": [
        {
          "output_type": "execute_result",
          "data": {
            "text/plain": [
              "[10, 20, 30, 40, 50, 60, 70, 80, 90, 100]"
            ]
          },
          "metadata": {},
          "execution_count": 9
        }
      ],
      "source": [
        "numeros = [1,2,3,4,5,6,7,8,9,10]\n",
        "\n",
        "for i, numero in enumerate(numeros):  # i es el índice\n",
        "    numeros[i] *= 10\n",
        "\n",
        "numeros                               # así conseguimos multiplicar por 10 todos los elementos de la lista números"
      ]
    },
    {
      "cell_type": "markdown",
      "id": "1c7e09bb",
      "metadata": {
        "id": "1c7e09bb"
      },
      "source": [
        "```enumerate()``` es un método que nos ayuda a llevar el recuento de los elementos de un iterable.  \n",
        "Agrega un contador a un iterable y lo devuelve en forma de objeto enumerado. Este objeto enumerado se puede usar directamente en bucles ```for``` o convertirse en una lista de tuplas usando el método ```list()```."
      ]
    },
    {
      "cell_type": "markdown",
      "id": "f140ff35",
      "metadata": {
        "id": "f140ff35"
      },
      "source": [
        "### El objeto enumerate"
      ]
    },
    {
      "cell_type": "markdown",
      "id": "80673400",
      "metadata": {
        "id": "80673400"
      },
      "source": [
        "```enumerate()``` es un objeto de tipo enumerate."
      ]
    },
    {
      "cell_type": "code",
      "execution_count": 10,
      "id": "6df25560",
      "metadata": {
        "id": "6df25560",
        "outputId": "4f1c3b4a-d90b-415d-f9d6-20a502243552",
        "colab": {
          "base_uri": "https://localhost:8080/"
        }
      },
      "outputs": [
        {
          "output_type": "execute_result",
          "data": {
            "text/plain": [
              "<enumerate at 0x7980b5a10380>"
            ]
          },
          "metadata": {},
          "execution_count": 10
        }
      ],
      "source": [
        "enumerate(range(5))"
      ]
    },
    {
      "cell_type": "code",
      "execution_count": 11,
      "id": "2adb167f",
      "metadata": {
        "id": "2adb167f",
        "outputId": "8b4d5539-24f1-43ff-dd58-ced871b858e5",
        "colab": {
          "base_uri": "https://localhost:8080/"
        }
      },
      "outputs": [
        {
          "output_type": "execute_result",
          "data": {
            "text/plain": [
              "enumerate"
            ]
          },
          "metadata": {},
          "execution_count": 11
        }
      ],
      "source": [
        "type(enumerate(range(5)))"
      ]
    },
    {
      "cell_type": "markdown",
      "id": "43cbbe46",
      "metadata": {
        "id": "43cbbe46"
      },
      "source": [
        "Podemos convertir el objeto enumerate en una lista de tuplas (índice, valor).  "
      ]
    },
    {
      "cell_type": "code",
      "execution_count": 12,
      "id": "ab0001e1",
      "metadata": {
        "id": "ab0001e1",
        "outputId": "e7007148-0c24-4a9e-c3c7-d75cfbaf94d6",
        "colab": {
          "base_uri": "https://localhost:8080/"
        }
      },
      "outputs": [
        {
          "output_type": "execute_result",
          "data": {
            "text/plain": [
              "[(0, 10), (1, 12), (2, 14), (3, 16), (4, 18)]"
            ]
          },
          "metadata": {},
          "execution_count": 12
        }
      ],
      "source": [
        "list(enumerate(range(10,20,2)))"
      ]
    },
    {
      "cell_type": "markdown",
      "id": "27d12388",
      "metadata": {
        "id": "27d12388"
      },
      "source": [
        "### ```enumerate``` con una lista"
      ]
    },
    {
      "cell_type": "code",
      "execution_count": 13,
      "id": "d35caf1c",
      "metadata": {
        "id": "d35caf1c",
        "outputId": "8d231f97-3d39-4ee6-c534-de33b731087a",
        "colab": {
          "base_uri": "https://localhost:8080/"
        }
      },
      "outputs": [
        {
          "output_type": "stream",
          "name": "stdout",
          "text": [
            "<class 'enumerate'>\n",
            "<enumerate object at 0x7980b5a133c0>\n",
            "[(0, 'Berlín'), (1, 'París'), (2, 'Roma'), (3, 'Londres')]\n"
          ]
        }
      ],
      "source": [
        "lista = ['Berlín', 'París', 'Roma', 'Londres']\n",
        "print(type(enumerate(lista)))\n",
        "print(enumerate(lista))\n",
        "print(list(enumerate(lista)))"
      ]
    },
    {
      "cell_type": "markdown",
      "id": "a5410d92",
      "metadata": {
        "id": "a5410d92"
      },
      "source": [
        "### ```enumerate``` con un string"
      ]
    },
    {
      "cell_type": "code",
      "execution_count": 14,
      "id": "fd6aeead",
      "metadata": {
        "id": "fd6aeead",
        "outputId": "e1e06c4e-cc05-462f-d9eb-37171a0026e7",
        "colab": {
          "base_uri": "https://localhost:8080/"
        }
      },
      "outputs": [
        {
          "output_type": "stream",
          "name": "stdout",
          "text": [
            "<class 'enumerate'>\n",
            "<enumerate object at 0x7980b5a29600>\n",
            "[(0, 'M'), (1, 'a'), (2, 'd'), (3, 'r'), (4, 'i'), (5, 'd')]\n"
          ]
        }
      ],
      "source": [
        "palabra = 'Madrid'\n",
        "print(type(enumerate(palabra)))\n",
        "print(enumerate(palabra))\n",
        "print(list(enumerate(palabra)))"
      ]
    },
    {
      "cell_type": "markdown",
      "id": "75e1902e",
      "metadata": {
        "id": "75e1902e"
      },
      "source": [
        "### ```enumerate``` iterado en un ```for```"
      ]
    },
    {
      "cell_type": "code",
      "execution_count": 15,
      "id": "69664471",
      "metadata": {
        "id": "69664471",
        "outputId": "2cf01b6a-a370-43d8-a2a3-7749929d1ab2",
        "colab": {
          "base_uri": "https://localhost:8080/"
        }
      },
      "outputs": [
        {
          "output_type": "stream",
          "name": "stdout",
          "text": [
            "Berlín\n",
            "París\n",
            "Roma\n",
            "Londres\n"
          ]
        }
      ],
      "source": [
        "lista = ['Berlín', 'París', 'Roma', 'Londres']\n",
        "for elemento in lista:\n",
        "    print(elemento)"
      ]
    },
    {
      "cell_type": "markdown",
      "id": "65de1dae",
      "metadata": {
        "id": "65de1dae"
      },
      "source": [
        "#### Imprimiendo por separado índice y valor  \n",
        "Con ```enumerate``` en un ```for``` podemos obtener en cada iteración el índice y el valor de cada elemento de la lista."
      ]
    },
    {
      "cell_type": "code",
      "execution_count": 16,
      "id": "81352b38",
      "metadata": {
        "id": "81352b38",
        "outputId": "29ba5ade-89ab-4abe-d67b-e02580d9293e",
        "colab": {
          "base_uri": "https://localhost:8080/"
        }
      },
      "outputs": [
        {
          "output_type": "stream",
          "name": "stdout",
          "text": [
            "0 Berlín\n",
            "1 París\n",
            "2 Roma\n",
            "3 Londres\n"
          ]
        }
      ],
      "source": [
        "for i,v in enumerate(lista):             # i: índice, v: valor\n",
        "    print (i,v)"
      ]
    },
    {
      "cell_type": "markdown",
      "id": "545ff558",
      "metadata": {
        "id": "545ff558"
      },
      "source": [
        "#### También podemos cambiar el contador"
      ]
    },
    {
      "cell_type": "code",
      "execution_count": 17,
      "id": "f6472af3",
      "metadata": {
        "id": "f6472af3",
        "outputId": "3bfedf38-c367-4153-f98d-f0082b62a801",
        "colab": {
          "base_uri": "https://localhost:8080/"
        }
      },
      "outputs": [
        {
          "output_type": "stream",
          "name": "stdout",
          "text": [
            "10 Berlín\n",
            "11 París\n",
            "12 Roma\n",
            "13 Londres\n"
          ]
        }
      ],
      "source": [
        "for contador,valor in enumerate(lista,10):\n",
        "    print (contador, valor)"
      ]
    },
    {
      "cell_type": "markdown",
      "id": "17450837",
      "metadata": {
        "id": "17450837"
      },
      "source": [
        "### Podemos meter en una lista las tuplas formadas por contador y valor"
      ]
    },
    {
      "cell_type": "code",
      "execution_count": 18,
      "id": "a4d3b9c2",
      "metadata": {
        "id": "a4d3b9c2",
        "outputId": "e1b095c2-cb63-42de-8056-10b8bd542749",
        "colab": {
          "base_uri": "https://localhost:8080/"
        }
      },
      "outputs": [
        {
          "output_type": "stream",
          "name": "stdout",
          "text": [
            "[(1, 'Berlín'), (2, 'París'), (3, 'Roma'), (4, 'Londres')]\n",
            "<class 'tuple'>\n"
          ]
        }
      ],
      "source": [
        "print(list(enumerate(lista,1)))\n",
        "print(type(list(enumerate(lista,1))[0]))    # El primer elemento de la list es una tupla"
      ]
    },
    {
      "cell_type": "markdown",
      "id": "a72df0dc",
      "metadata": {
        "id": "a72df0dc"
      },
      "source": [
        "## Las cadenas son inmutables\n",
        "No se pueden cambiar los valores de los caracteres de un string al vuelo.  \n",
        "El siguiente código da error.  \n",
        "Queremos cambiar las vocales por asteriscos en una frase."
      ]
    },
    {
      "cell_type": "code",
      "execution_count": 19,
      "id": "269eb57f",
      "metadata": {
        "id": "269eb57f",
        "outputId": "8fa87ece-a1e6-4fdb-8e78-8a061b81ee1b",
        "colab": {
          "base_uri": "https://localhost:8080/",
          "height": 35
        }
      },
      "outputs": [
        {
          "output_type": "execute_result",
          "data": {
            "text/plain": [
              "'Buenas tardes'"
            ],
            "application/vnd.google.colaboratory.intrinsic+json": {
              "type": "string"
            }
          },
          "metadata": {},
          "execution_count": 19
        }
      ],
      "source": [
        "saludo = 'Buenas tardes'\n",
        "\n",
        "'''                                         # comentamos el bucle para evitar el ERROR\n",
        "for i,c in enumerate(saludo):               # c recorre todos los caracteres de la frase\n",
        "    if c in ('a', 'e', 'i', 'o', 'u'):\n",
        "        saludo[i] = '*'\n",
        "'''\n",
        "\n",
        "saludo                                      # TypeError: 'str' object does not support item assignment\n",
        "                                            # Las cadenas son inmutables"
      ]
    },
    {
      "cell_type": "markdown",
      "id": "b430cf66",
      "metadata": {
        "id": "b430cf66"
      },
      "source": [
        "Podemos conseguir nuestro objetivo y cambiar las vocales por asteriscos en una frase, creando una nueva frase destino."
      ]
    },
    {
      "cell_type": "code",
      "execution_count": 20,
      "id": "34c08fba",
      "metadata": {
        "id": "34c08fba",
        "outputId": "f6500a8c-ccba-4bd2-e6ac-477409717299",
        "colab": {
          "base_uri": "https://localhost:8080/",
          "height": 35
        }
      },
      "outputs": [
        {
          "output_type": "execute_result",
          "data": {
            "text/plain": [
              "'B**n*s t*rd*s'"
            ],
            "application/vnd.google.colaboratory.intrinsic+json": {
              "type": "string"
            }
          },
          "metadata": {},
          "execution_count": 20
        }
      ],
      "source": [
        "saludo = 'Buenas tardes'\n",
        "saludo2 = ''\n",
        "for i,c in enumerate(saludo):               # c recorre todos los caracteres de la frase\n",
        "    if c in ('a', 'e', 'i', 'o', 'u'):\n",
        "        saludo2 += '*'\n",
        "    else:\n",
        "        saludo2 += saludo[i]\n",
        "\n",
        "saludo2"
      ]
    },
    {
      "cell_type": "markdown",
      "id": "f85befaf",
      "metadata": {
        "id": "f85befaf"
      },
      "source": [
        "Ahora queremos duplicar los caracteres de una frase."
      ]
    },
    {
      "cell_type": "code",
      "execution_count": 21,
      "id": "1a8d11b1",
      "metadata": {
        "id": "1a8d11b1",
        "outputId": "a1ae75e8-c0e5-4c51-af02-58d4f5c54f99",
        "colab": {
          "base_uri": "https://localhost:8080/",
          "height": 35
        }
      },
      "outputs": [
        {
          "output_type": "execute_result",
          "data": {
            "text/plain": [
              "'BBuueennaass  ttaarrddeess'"
            ],
            "application/vnd.google.colaboratory.intrinsic+json": {
              "type": "string"
            }
          },
          "metadata": {},
          "execution_count": 21
        }
      ],
      "source": [
        "saludo = 'Buenas tardes'\n",
        "saludo2 = ''\n",
        "for c in saludo:                            # c recorre todos los caracteres de la frase\n",
        "    saludo2 += c * 2\n",
        "\n",
        "saludo2"
      ]
    },
    {
      "cell_type": "markdown",
      "id": "0dc3a0cf",
      "metadata": {
        "id": "0dc3a0cf"
      },
      "source": [
        "### Ejemplo\n",
        "Pedir al usuario un número entero n, entre 1 y 9, ambos incluidos.  \n",
        "Listar los múltiplos de n hasta 100."
      ]
    },
    {
      "cell_type": "code",
      "execution_count": 22,
      "id": "13998bc6",
      "metadata": {
        "id": "13998bc6",
        "outputId": "dce181b5-7d07-4977-e86a-37ed5d748fd9",
        "colab": {
          "base_uri": "https://localhost:8080/"
        }
      },
      "outputs": [
        {
          "name": "stdout",
          "output_type": "stream",
          "text": [
            "Introduzca un número entero entre 1 y 9: 9\n",
            "Los múltiplos de 9 hasta 100 son:\n",
            "[9, 18, 27, 36, 45, 54, 63, 72, 81, 90, 99]\n",
            "Introduzca un número entero entre 1 y 9: 11\n"
          ]
        }
      ],
      "source": [
        "while True:\n",
        "    n = int(input('Introduzca un número entero entre 1 y 9: '))\n",
        "    if 0 < n <= 9:\n",
        "        print(f'Los múltiplos de {n} hasta 100 son:')\n",
        "        print(list(range(n, 101, n)))\n",
        "    else:\n",
        "        break"
      ]
    }
  ],
  "metadata": {
    "kernelspec": {
      "display_name": "Python 3 (ipykernel)",
      "language": "python",
      "name": "python3"
    },
    "language_info": {
      "codemirror_mode": {
        "name": "ipython",
        "version": 3
      },
      "file_extension": ".py",
      "mimetype": "text/x-python",
      "name": "python",
      "nbconvert_exporter": "python",
      "pygments_lexer": "ipython3",
      "version": "3.8.11"
    },
    "colab": {
      "name": "calisto1_0400.ipynb",
      "provenance": [],
      "include_colab_link": true
    }
  },
  "nbformat": 4,
  "nbformat_minor": 5
}