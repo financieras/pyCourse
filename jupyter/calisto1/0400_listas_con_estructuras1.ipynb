{
  "cells": [
    {
      "cell_type": "markdown",
      "metadata": {
        "id": "view-in-github",
        "colab_type": "text"
      },
      "source": [
        "<a href=\"https://colab.research.google.com/github/financieras/pyCourse/blob/main/jupyter/calisto1/0400_listas_con_estructuras1.ipynb\" target=\"_parent\"><img src=\"https://colab.research.google.com/assets/colab-badge.svg\" alt=\"Open In Colab\"/></a>"
      ]
    },
    {
      "cell_type": "markdown",
      "id": "c429a7e2",
      "metadata": {
        "id": "c429a7e2"
      },
      "source": [
        "# Listas con estructuras [1]"
      ]
    },
    {
      "cell_type": "markdown",
      "id": "181831e0",
      "metadata": {
        "id": "181831e0"
      },
      "source": [
        "Partimos de una lista de elementos."
      ]
    },
    {
      "cell_type": "code",
      "execution_count": 20,
      "id": "e562cf0b",
      "metadata": {
        "id": "e562cf0b"
      },
      "outputs": [],
      "source": [
        "colores = ['verde', 'rojo', 'azul', 'rosa']"
      ]
    },
    {
      "cell_type": "markdown",
      "id": "7cdc974d",
      "metadata": {
        "id": "7cdc974d"
      },
      "source": [
        "## Deseamos recorrer la lista con un ```for```"
      ]
    },
    {
      "cell_type": "code",
      "execution_count": 21,
      "id": "705f6e5f",
      "metadata": {
        "id": "705f6e5f",
        "outputId": "ce7c88bf-f0ba-432b-dda9-1f465986ceeb",
        "colab": {
          "base_uri": "https://localhost:8080/"
        }
      },
      "outputs": [
        {
          "output_type": "stream",
          "name": "stdout",
          "text": [
            "verde\n",
            "rojo\n",
            "azul\n",
            "rosa\n"
          ]
        }
      ],
      "source": [
        "for color in colores:\n",
        "    print(color)"
      ]
    },
    {
      "cell_type": "markdown",
      "id": "6cfeb071",
      "metadata": {
        "id": "6cfeb071"
      },
      "source": [
        "### Recorriendo la lista de forma inversa\n",
        "Podemos dar la vuelta a una lista y luego recorrerla."
      ]
    },
    {
      "cell_type": "markdown",
      "id": "a7f279b8",
      "metadata": {
        "id": "a7f279b8"
      },
      "source": [
        "#### Método 1: con reversed()"
      ]
    },
    {
      "cell_type": "code",
      "execution_count": 22,
      "id": "23631146",
      "metadata": {
        "id": "23631146",
        "outputId": "5e250d2c-d933-453c-f6ad-87fc562cbbe7",
        "colab": {
          "base_uri": "https://localhost:8080/"
        }
      },
      "outputs": [
        {
          "output_type": "stream",
          "name": "stdout",
          "text": [
            "rosa\n",
            "azul\n",
            "rojo\n",
            "verde\n"
          ]
        }
      ],
      "source": [
        "for color in reversed(colores):\n",
        "    print(color)"
      ]
    },
    {
      "cell_type": "markdown",
      "id": "44a6f4dd",
      "metadata": {
        "id": "44a6f4dd"
      },
      "source": [
        "#### Método 2: con lista[::-1]"
      ]
    },
    {
      "cell_type": "code",
      "execution_count": 23,
      "id": "97542d0d",
      "metadata": {
        "id": "97542d0d",
        "outputId": "c178b3c6-6345-4971-e6d9-a40bc8b77801",
        "colab": {
          "base_uri": "https://localhost:8080/"
        }
      },
      "outputs": [
        {
          "output_type": "stream",
          "name": "stdout",
          "text": [
            "rosa\n",
            "azul\n",
            "rojo\n",
            "verde\n"
          ]
        }
      ],
      "source": [
        "for color in colores[::-1]:\n",
        "    print(color)"
      ]
    },
    {
      "cell_type": "markdown",
      "id": "4171737f",
      "metadata": {
        "id": "4171737f"
      },
      "source": [
        "### Llamando a cada elemento de la lista por su índice"
      ]
    },
    {
      "cell_type": "code",
      "execution_count": 24,
      "id": "fe61a570",
      "metadata": {
        "id": "fe61a570",
        "outputId": "cb8c99c2-101f-4ee0-b6fe-038cd4dd7b2a",
        "colab": {
          "base_uri": "https://localhost:8080/"
        }
      },
      "outputs": [
        {
          "output_type": "stream",
          "name": "stdout",
          "text": [
            "0 verde\n",
            "1 rojo\n",
            "2 azul\n",
            "3 rosa\n"
          ]
        }
      ],
      "source": [
        "for i in range(len(colores)):\n",
        "    print(i, colores[i])"
      ]
    },
    {
      "cell_type": "markdown",
      "id": "18a7e01e",
      "metadata": {
        "id": "18a7e01e"
      },
      "source": [
        "### También se puede usar un ```while```"
      ]
    },
    {
      "cell_type": "code",
      "execution_count": 25,
      "id": "94ff0bb2",
      "metadata": {
        "id": "94ff0bb2",
        "outputId": "985ceecf-1fb0-4457-8941-ae049c75f1b2",
        "colab": {
          "base_uri": "https://localhost:8080/"
        }
      },
      "outputs": [
        {
          "output_type": "stream",
          "name": "stdout",
          "text": [
            "Pintar en: verde\n",
            "Pintar en: rojo\n",
            "Pintar en: azul\n",
            "Pintar en: rosa\n"
          ]
        }
      ],
      "source": [
        "i = 0\n",
        "while i < len(colores):\n",
        "    print('Pintar en:', colores[i])\n",
        "    i += 1"
      ]
    },
    {
      "cell_type": "markdown",
      "id": "c9756a1e",
      "metadata": {
        "id": "c9756a1e"
      },
      "source": [
        "## Alterar el valor de una lista\n",
        "No es posible alterar el valor de los elementos de una lista al vuelo."
      ]
    },
    {
      "cell_type": "code",
      "execution_count": 26,
      "id": "9d2cddbc",
      "metadata": {
        "id": "9d2cddbc",
        "outputId": "a133088d-e861-4406-882e-afc737112754",
        "colab": {
          "base_uri": "https://localhost:8080/"
        }
      },
      "outputs": [
        {
          "output_type": "execute_result",
          "data": {
            "text/plain": [
              "[1, 2, 3, 4, 5, 6, 7, 8, 9, 10]"
            ]
          },
          "metadata": {},
          "execution_count": 26
        }
      ],
      "source": [
        "numeros = [1, 2, 3, 4, 5, 6, 7, 8, 9, 10]\n",
        "\n",
        "for numero in numeros:\n",
        "    numero *= 10\n",
        "\n",
        "numeros\n",
        "# no hemos conseguido alterar los valores de la lista números\n",
        "# ya que la variable número dentro del for es una variable local"
      ]
    },
    {
      "cell_type": "markdown",
      "id": "70a195b6",
      "metadata": {
        "id": "70a195b6"
      },
      "source": [
        "Ahora si vamos a conseguir alterar el valor de los elementos de la lista números llamándolos por su índice.  \n",
        "Para ello creamos un índice externo."
      ]
    },
    {
      "cell_type": "code",
      "execution_count": 27,
      "id": "50aa3eea",
      "metadata": {
        "id": "50aa3eea",
        "outputId": "9cd116e7-16f0-4fa8-b5ad-c78520e9ea0b",
        "colab": {
          "base_uri": "https://localhost:8080/"
        }
      },
      "outputs": [
        {
          "output_type": "execute_result",
          "data": {
            "text/plain": [
              "[10, 20, 30, 40, 50, 60, 70, 80, 90, 100]"
            ]
          },
          "metadata": {},
          "execution_count": 27
        }
      ],
      "source": [
        "i = 0                                   # índice externo\n",
        "for numero in numeros:\n",
        "    numeros[i] *= 10\n",
        "    i += 1\n",
        "\n",
        "numeros                               # así conseguimos multiplicar por 10 todos los elementos de la lista números"
      ]
    },
    {
      "cell_type": "markdown",
      "id": "9c509aa4",
      "metadata": {
        "id": "9c509aa4"
      },
      "source": [
        "Python nos permite disponer del método ```enumerate``` que nos ayudará a conseguir esto sin necesidad de índice externo."
      ]
    },
    {
      "cell_type": "markdown",
      "id": "dbc185ca",
      "metadata": {
        "id": "dbc185ca"
      },
      "source": [
        "## El método ```enumerate```"
      ]
    },
    {
      "cell_type": "code",
      "execution_count": 28,
      "id": "507c42d6",
      "metadata": {
        "id": "507c42d6",
        "outputId": "33fc09f5-93fd-48ed-8f28-1cf02042d11d",
        "colab": {
          "base_uri": "https://localhost:8080/"
        }
      },
      "outputs": [
        {
          "output_type": "execute_result",
          "data": {
            "text/plain": [
              "[10, 20, 30, 40, 50, 60, 70, 80, 90, 100]"
            ]
          },
          "metadata": {},
          "execution_count": 28
        }
      ],
      "source": [
        "numeros = [1,2,3,4,5,6,7,8,9,10]\n",
        "\n",
        "for i, numero in enumerate(numeros):  # i es el índice\n",
        "    numeros[i] *= 10\n",
        "\n",
        "numeros                               # así conseguimos multiplicar por 10 todos los elementos de la lista números"
      ]
    },
    {
      "cell_type": "markdown",
      "id": "1c7e09bb",
      "metadata": {
        "id": "1c7e09bb"
      },
      "source": [
        "```enumerate()``` es un método que nos ayuda a llevar el recuento de los elementos de un iterable.  \n",
        "Agrega un contador a un iterable y lo devuelve en forma de objeto enumerado. Este objeto enumerado se puede usar directamente en bucles ```for``` o convertirse en una lista de tuplas usando el método ```list()```."
      ]
    },
    {
      "cell_type": "markdown",
      "id": "f140ff35",
      "metadata": {
        "id": "f140ff35"
      },
      "source": [
        "### El objeto enumerate"
      ]
    },
    {
      "cell_type": "markdown",
      "id": "80673400",
      "metadata": {
        "id": "80673400"
      },
      "source": [
        "```enumerate()``` es un objeto de tipo enumerate."
      ]
    },
    {
      "cell_type": "code",
      "execution_count": 29,
      "id": "6df25560",
      "metadata": {
        "id": "6df25560",
        "outputId": "a52002fe-e93a-4d24-b386-a124f31d5d5a",
        "colab": {
          "base_uri": "https://localhost:8080/"
        }
      },
      "outputs": [
        {
          "output_type": "execute_result",
          "data": {
            "text/plain": [
              "<enumerate at 0x7ec9e35daf40>"
            ]
          },
          "metadata": {},
          "execution_count": 29
        }
      ],
      "source": [
        "enumerate(range(5))"
      ]
    },
    {
      "cell_type": "code",
      "execution_count": 30,
      "id": "2adb167f",
      "metadata": {
        "id": "2adb167f",
        "outputId": "56a61508-e604-4d5e-c650-e883f847a101",
        "colab": {
          "base_uri": "https://localhost:8080/"
        }
      },
      "outputs": [
        {
          "output_type": "execute_result",
          "data": {
            "text/plain": [
              "enumerate"
            ]
          },
          "metadata": {},
          "execution_count": 30
        }
      ],
      "source": [
        "type(enumerate(range(5)))"
      ]
    },
    {
      "cell_type": "markdown",
      "id": "43cbbe46",
      "metadata": {
        "id": "43cbbe46"
      },
      "source": [
        "Podemos convertir el objeto enumerate en una lista de tuplas (índice, valor).  "
      ]
    },
    {
      "cell_type": "code",
      "execution_count": 31,
      "id": "ab0001e1",
      "metadata": {
        "id": "ab0001e1",
        "outputId": "20af54dc-a87d-4f39-803c-6ec45d3c9581",
        "colab": {
          "base_uri": "https://localhost:8080/"
        }
      },
      "outputs": [
        {
          "output_type": "execute_result",
          "data": {
            "text/plain": [
              "[(0, 10), (1, 12), (2, 14), (3, 16), (4, 18)]"
            ]
          },
          "metadata": {},
          "execution_count": 31
        }
      ],
      "source": [
        "list(enumerate(range(10,20,2)))"
      ]
    },
    {
      "cell_type": "markdown",
      "id": "27d12388",
      "metadata": {
        "id": "27d12388"
      },
      "source": [
        "### ```enumerate``` con una lista"
      ]
    },
    {
      "cell_type": "code",
      "execution_count": 32,
      "id": "d35caf1c",
      "metadata": {
        "id": "d35caf1c",
        "outputId": "137e51c4-5109-47e6-85bd-01302b3f223a",
        "colab": {
          "base_uri": "https://localhost:8080/"
        }
      },
      "outputs": [
        {
          "output_type": "stream",
          "name": "stdout",
          "text": [
            "<class 'enumerate'>\n",
            "<enumerate object at 0x7ec9e35db280>\n",
            "[(0, 'Berlín'), (1, 'París'), (2, 'Roma'), (3, 'Londres')]\n"
          ]
        }
      ],
      "source": [
        "lista = ['Berlín', 'París', 'Roma', 'Londres']\n",
        "print(type(enumerate(lista)))\n",
        "print(enumerate(lista))\n",
        "print(list(enumerate(lista)))"
      ]
    },
    {
      "cell_type": "markdown",
      "id": "a5410d92",
      "metadata": {
        "id": "a5410d92"
      },
      "source": [
        "### ```enumerate``` con un string"
      ]
    },
    {
      "cell_type": "code",
      "execution_count": 33,
      "id": "fd6aeead",
      "metadata": {
        "id": "fd6aeead",
        "outputId": "17bc149c-93a8-443a-dba9-4268cdeba91d",
        "colab": {
          "base_uri": "https://localhost:8080/"
        }
      },
      "outputs": [
        {
          "output_type": "stream",
          "name": "stdout",
          "text": [
            "<class 'enumerate'>\n",
            "<enumerate object at 0x7ec9e0138680>\n",
            "[(0, 'M'), (1, 'a'), (2, 'd'), (3, 'r'), (4, 'i'), (5, 'd')]\n"
          ]
        }
      ],
      "source": [
        "palabra = 'Madrid'\n",
        "print(type(enumerate(palabra)))\n",
        "print(enumerate(palabra))\n",
        "print(list(enumerate(palabra)))"
      ]
    },
    {
      "cell_type": "markdown",
      "id": "75e1902e",
      "metadata": {
        "id": "75e1902e"
      },
      "source": [
        "### ```enumerate``` iterado en un ```for```"
      ]
    },
    {
      "cell_type": "code",
      "execution_count": 34,
      "id": "69664471",
      "metadata": {
        "id": "69664471",
        "outputId": "36850356-d0c4-405e-a3eb-8c854687ee05",
        "colab": {
          "base_uri": "https://localhost:8080/"
        }
      },
      "outputs": [
        {
          "output_type": "stream",
          "name": "stdout",
          "text": [
            "Berlín\n",
            "París\n",
            "Roma\n",
            "Londres\n"
          ]
        }
      ],
      "source": [
        "lista = ['Berlín', 'París', 'Roma', 'Londres']\n",
        "for elemento in lista:\n",
        "    print(elemento)"
      ]
    },
    {
      "cell_type": "markdown",
      "id": "65de1dae",
      "metadata": {
        "id": "65de1dae"
      },
      "source": [
        "#### Imprimiendo por separado índice y valor  \n",
        "Con ```enumerate``` en un ```for``` podemos obtener en cada iteración el índice y el valor de cada elemento de la lista."
      ]
    },
    {
      "cell_type": "code",
      "execution_count": 35,
      "id": "81352b38",
      "metadata": {
        "id": "81352b38",
        "outputId": "4512ad49-d212-46f6-94d3-067b21fa4e98",
        "colab": {
          "base_uri": "https://localhost:8080/"
        }
      },
      "outputs": [
        {
          "output_type": "stream",
          "name": "stdout",
          "text": [
            "0 Berlín\n",
            "1 París\n",
            "2 Roma\n",
            "3 Londres\n"
          ]
        }
      ],
      "source": [
        "for i,v in enumerate(lista):             # i: índice, v: valor\n",
        "    print (i,v)"
      ]
    },
    {
      "cell_type": "markdown",
      "id": "545ff558",
      "metadata": {
        "id": "545ff558"
      },
      "source": [
        "#### También podemos cambiar el contador"
      ]
    },
    {
      "cell_type": "code",
      "execution_count": 36,
      "id": "f6472af3",
      "metadata": {
        "id": "f6472af3",
        "outputId": "abd68e49-fd0b-4639-c4c7-8d2d46c30402",
        "colab": {
          "base_uri": "https://localhost:8080/"
        }
      },
      "outputs": [
        {
          "output_type": "stream",
          "name": "stdout",
          "text": [
            "10 Berlín\n",
            "11 París\n",
            "12 Roma\n",
            "13 Londres\n"
          ]
        }
      ],
      "source": [
        "for contador,valor in enumerate(lista,10):\n",
        "    print (contador, valor)"
      ]
    },
    {
      "cell_type": "markdown",
      "id": "17450837",
      "metadata": {
        "id": "17450837"
      },
      "source": [
        "### Podemos meter en una lista las tuplas formadas por contador y valor"
      ]
    },
    {
      "cell_type": "code",
      "execution_count": 37,
      "id": "a4d3b9c2",
      "metadata": {
        "id": "a4d3b9c2",
        "outputId": "2554e766-7abf-4aa8-cd4a-348ffb5fb257",
        "colab": {
          "base_uri": "https://localhost:8080/"
        }
      },
      "outputs": [
        {
          "output_type": "stream",
          "name": "stdout",
          "text": [
            "[(1, 'Berlín'), (2, 'París'), (3, 'Roma'), (4, 'Londres')]\n",
            "<class 'tuple'>\n"
          ]
        }
      ],
      "source": [
        "print(list(enumerate(lista,1)))\n",
        "print(type(list(enumerate(lista,1))[0]))    # El primer elemento de la list es una tupla"
      ]
    },
    {
      "cell_type": "markdown",
      "id": "a72df0dc",
      "metadata": {
        "id": "a72df0dc"
      },
      "source": [
        "## Las cadenas son inmutables\n",
        "No se pueden cambiar los valores de los caracteres de un string al vuelo.  \n",
        "El siguiente código da error.  \n",
        "Queremos cambiar las vocales por asteriscos en una frase."
      ]
    },
    {
      "cell_type": "code",
      "execution_count": 38,
      "id": "269eb57f",
      "metadata": {
        "id": "269eb57f",
        "outputId": "be482e5e-c86c-4552-a449-f15f847a520d",
        "colab": {
          "base_uri": "https://localhost:8080/",
          "height": 70
        }
      },
      "outputs": [
        {
          "output_type": "execute_result",
          "data": {
            "text/plain": [
              "\"\\nsaludo = 'Buenas tardes'\\nfor i,c in enumerate(saludo):               # c recorre todos los caracteres de la frase\\n    if c in ('a', 'e', 'i', 'o', 'u'):\\n        saludo[i] = '*'\\n\\nsaludo                                      # TypeError: 'str' object does not support item assignment\\n                                            # Las cadenas son inmutables\\n\""
            ],
            "application/vnd.google.colaboratory.intrinsic+json": {
              "type": "string"
            }
          },
          "metadata": {},
          "execution_count": 38
        }
      ],
      "source": [
        "# ESTE CÓDIGO DA ERROR\n",
        "'''\n",
        "saludo = 'Buenas tardes'\n",
        "for i,c in enumerate(saludo):               # c recorre todos los caracteres de la frase\n",
        "    if c in ('a', 'e', 'i', 'o', 'u'):\n",
        "        saludo[i] = '*'\n",
        "\n",
        "saludo                                      # TypeError: 'str' object does not support item assignment\n",
        "                                            # Las cadenas son inmutables\n",
        "'''"
      ]
    },
    {
      "cell_type": "markdown",
      "id": "b430cf66",
      "metadata": {
        "id": "b430cf66"
      },
      "source": [
        "Podemos conseguir nuestro objetivo y cambiar las vocales por asteriscos en una frase, creando una nueva frase destino."
      ]
    },
    {
      "cell_type": "code",
      "execution_count": 39,
      "id": "34c08fba",
      "metadata": {
        "id": "34c08fba",
        "outputId": "c8908cff-1f13-4572-9a96-583cf6771fad",
        "colab": {
          "base_uri": "https://localhost:8080/",
          "height": 35
        }
      },
      "outputs": [
        {
          "output_type": "execute_result",
          "data": {
            "text/plain": [
              "'B**n*s t*rd*s'"
            ],
            "application/vnd.google.colaboratory.intrinsic+json": {
              "type": "string"
            }
          },
          "metadata": {},
          "execution_count": 39
        }
      ],
      "source": [
        "saludo = 'Buenas tardes'\n",
        "saludo2 = ''\n",
        "for i,c in enumerate(saludo):               # c recorre todos los caracteres de la frase\n",
        "    if c in ('a', 'e', 'i', 'o', 'u'):\n",
        "        saludo2 += '*'\n",
        "    else:\n",
        "        saludo2 += saludo[i]\n",
        "\n",
        "saludo2"
      ]
    },
    {
      "cell_type": "markdown",
      "id": "f85befaf",
      "metadata": {
        "id": "f85befaf"
      },
      "source": [
        "Ahora queremos duplicar los caracteres de una frase."
      ]
    },
    {
      "cell_type": "code",
      "execution_count": 40,
      "id": "1a8d11b1",
      "metadata": {
        "id": "1a8d11b1",
        "outputId": "a68bb965-d6ac-4a79-974a-62d271cda255",
        "colab": {
          "base_uri": "https://localhost:8080/",
          "height": 35
        }
      },
      "outputs": [
        {
          "output_type": "execute_result",
          "data": {
            "text/plain": [
              "'BBuueennaass  ttaarrddeess'"
            ],
            "application/vnd.google.colaboratory.intrinsic+json": {
              "type": "string"
            }
          },
          "metadata": {},
          "execution_count": 40
        }
      ],
      "source": [
        "saludo = 'Buenas tardes'\n",
        "saludo2 = ''\n",
        "for c in saludo:                            # c recorre todos los caracteres de la frase\n",
        "    saludo2 += c * 2\n",
        "\n",
        "saludo2"
      ]
    },
    {
      "cell_type": "markdown",
      "id": "0dc3a0cf",
      "metadata": {
        "id": "0dc3a0cf"
      },
      "source": [
        "### Ejemplo\n",
        "Pedir al usuario un número entero n, entre 1 y 9, ambos incluidos.  \n",
        "Listar los múltiplos de n hasta 100."
      ]
    },
    {
      "cell_type": "code",
      "execution_count": 42,
      "id": "13998bc6",
      "metadata": {
        "id": "13998bc6",
        "outputId": "2267c6b3-8021-4cd6-ddd8-74060c492f34",
        "colab": {
          "base_uri": "https://localhost:8080/"
        }
      },
      "outputs": [
        {
          "name": "stdout",
          "output_type": "stream",
          "text": [
            "Introduzca un número entero entre 1 y 9: 9\n",
            "Los múltiplos de 9 hasta 100 son:\n",
            "[9, 18, 27, 36, 45, 54, 63, 72, 81, 90, 99]\n",
            "Introduzca un número entero entre 1 y 9: 0\n"
          ]
        }
      ],
      "source": [
        "while True:\n",
        "    n = int(input('Introduzca un número entero entre 1 y 9: '))\n",
        "    if 0 < n <= 9:\n",
        "        print(f'Los múltiplos de {n} hasta 100 son:')\n",
        "        print(list(range(n, 101, n)))\n",
        "    else:\n",
        "        break"
      ]
    }
  ],
  "metadata": {
    "kernelspec": {
      "display_name": "Python 3 (ipykernel)",
      "language": "python",
      "name": "python3"
    },
    "language_info": {
      "codemirror_mode": {
        "name": "ipython",
        "version": 3
      },
      "file_extension": ".py",
      "mimetype": "text/x-python",
      "name": "python",
      "nbconvert_exporter": "python",
      "pygments_lexer": "ipython3",
      "version": "3.8.11"
    },
    "colab": {
      "name": "0400_listas_con_estructuras1.ipynb",
      "provenance": [],
      "include_colab_link": true
    }
  },
  "nbformat": 4,
  "nbformat_minor": 5
}