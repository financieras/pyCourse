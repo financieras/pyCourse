{
  "cells": [
    {
      "cell_type": "markdown",
      "metadata": {
        "id": "view-in-github",
        "colab_type": "text"
      },
      "source": [
        "<a href=\"https://colab.research.google.com/github/financieras/pyCourse/blob/main/jupyter/calisto1_0400.ipynb\" target=\"_parent\"><img src=\"https://colab.research.google.com/assets/colab-badge.svg\" alt=\"Open In Colab\"/></a>"
      ]
    },
    {
      "cell_type": "markdown",
      "id": "c429a7e2",
      "metadata": {
        "id": "c429a7e2"
      },
      "source": [
        "# Listas con estructuras [1]"
      ]
    },
    {
      "cell_type": "markdown",
      "id": "181831e0",
      "metadata": {
        "id": "181831e0"
      },
      "source": [
        "Partimos de una lista de elementos."
      ]
    },
    {
      "cell_type": "code",
      "execution_count": null,
      "id": "e562cf0b",
      "metadata": {
        "id": "e562cf0b"
      },
      "outputs": [],
      "source": [
        "colores = ['verde', 'rojo', 'azul', 'rosa']"
      ]
    },
    {
      "cell_type": "markdown",
      "id": "7cdc974d",
      "metadata": {
        "id": "7cdc974d"
      },
      "source": [
        "## Deseamos recorrer la lista con un ```for```"
      ]
    },
    {
      "cell_type": "code",
      "execution_count": null,
      "id": "705f6e5f",
      "metadata": {
        "id": "705f6e5f"
      },
      "outputs": [],
      "source": [
        "for color in colores:\n",
        "    print(color)"
      ]
    },
    {
      "cell_type": "markdown",
      "id": "6cfeb071",
      "metadata": {
        "id": "6cfeb071"
      },
      "source": [
        "### Recorriendo la lista de forma inversa\n",
        "Podemos dar la vuelta a una lista y luego recorrerla."
      ]
    },
    {
      "cell_type": "markdown",
      "id": "a7f279b8",
      "metadata": {
        "id": "a7f279b8"
      },
      "source": [
        "#### Método 1: con reversed()"
      ]
    },
    {
      "cell_type": "code",
      "execution_count": null,
      "id": "23631146",
      "metadata": {
        "id": "23631146"
      },
      "outputs": [],
      "source": [
        "for color in reversed(colores):\n",
        "    print(color)"
      ]
    },
    {
      "cell_type": "markdown",
      "id": "44a6f4dd",
      "metadata": {
        "id": "44a6f4dd"
      },
      "source": [
        "#### Método 2: con lista[::-1]"
      ]
    },
    {
      "cell_type": "code",
      "execution_count": null,
      "id": "97542d0d",
      "metadata": {
        "id": "97542d0d"
      },
      "outputs": [],
      "source": [
        "for color in colores[::-1]:\n",
        "    print(color)"
      ]
    },
    {
      "cell_type": "markdown",
      "id": "4171737f",
      "metadata": {
        "id": "4171737f"
      },
      "source": [
        "### Llamando a cada elemento de la lista por su índice"
      ]
    },
    {
      "cell_type": "code",
      "execution_count": null,
      "id": "fe61a570",
      "metadata": {
        "id": "fe61a570"
      },
      "outputs": [],
      "source": [
        "for i in range(len(colores)):\n",
        "    print(i, colores[i])"
      ]
    },
    {
      "cell_type": "markdown",
      "id": "18a7e01e",
      "metadata": {
        "id": "18a7e01e"
      },
      "source": [
        "### También se puede usar un ```while```"
      ]
    },
    {
      "cell_type": "code",
      "execution_count": null,
      "id": "94ff0bb2",
      "metadata": {
        "id": "94ff0bb2"
      },
      "outputs": [],
      "source": [
        "i = 0\n",
        "while i < len(colores):\n",
        "    print('Pintar en:', colores[i])\n",
        "    i += 1"
      ]
    },
    {
      "cell_type": "markdown",
      "id": "c9756a1e",
      "metadata": {
        "id": "c9756a1e"
      },
      "source": [
        "## Alterar el valor de una lista\n",
        "No es posible alterar el valor de los elementos de una lista al vuelo."
      ]
    },
    {
      "cell_type": "code",
      "execution_count": null,
      "id": "9d2cddbc",
      "metadata": {
        "id": "9d2cddbc"
      },
      "outputs": [],
      "source": [
        "numeros = [1, 2, 3, 4, 5, 6, 7, 8, 9, 10]\n",
        "\n",
        "for numero in numeros:\n",
        "    numero *= 10\n",
        "\n",
        "numeros\n",
        "# no hemos conseguido alterar los valores de la lista números\n",
        "# ya que la variable número dentro del for es una variable local"
      ]
    },
    {
      "cell_type": "markdown",
      "id": "70a195b6",
      "metadata": {
        "id": "70a195b6"
      },
      "source": [
        "Ahora si vamos a conseguir alterar el valor de los elementos de la lista números llamándolos por su índice.  \n",
        "Para ello creamos un índice externo."
      ]
    },
    {
      "cell_type": "code",
      "execution_count": null,
      "id": "50aa3eea",
      "metadata": {
        "id": "50aa3eea"
      },
      "outputs": [],
      "source": [
        "i = 0                                   # índice externo\n",
        "for numero in numeros:\n",
        "    numeros[i] *= 10\n",
        "    i += 1\n",
        "    \n",
        "numeros                               # así conseguimos multiplicar por 10 todos los elementos de la lista números"
      ]
    },
    {
      "cell_type": "markdown",
      "id": "9c509aa4",
      "metadata": {
        "id": "9c509aa4"
      },
      "source": [
        "Python nos permite disponer del método ```enumerate``` que nos ayudará a conseguir esto sin necesidad de índice externo."
      ]
    },
    {
      "cell_type": "markdown",
      "id": "dbc185ca",
      "metadata": {
        "id": "dbc185ca"
      },
      "source": [
        "## El método ```enumerate```"
      ]
    },
    {
      "cell_type": "code",
      "execution_count": null,
      "id": "507c42d6",
      "metadata": {
        "id": "507c42d6"
      },
      "outputs": [],
      "source": [
        "numeros = [1,2,3,4,5,6,7,8,9,10]\n",
        "\n",
        "for i, numero in enumerate(numeros):  # i es el índice\n",
        "    numeros[i] *= 10\n",
        "    \n",
        "numeros                               # así conseguimos multiplicar por 10 todos los elementos de la lista números"
      ]
    },
    {
      "cell_type": "markdown",
      "id": "1c7e09bb",
      "metadata": {
        "id": "1c7e09bb"
      },
      "source": [
        "```enumerate()``` es un método que nos ayuda a llevar el recuento de los elementos de un iterable.  \n",
        "Agrega un contador a un iterable y lo devuelve en forma de objeto enumerado. Este objeto enumerado se puede usar directamente en bucles ```for``` o convertirse en una lista de tuplas usando el método ```list()```."
      ]
    },
    {
      "cell_type": "markdown",
      "id": "f140ff35",
      "metadata": {
        "id": "f140ff35"
      },
      "source": [
        "### El objeto enumerate"
      ]
    },
    {
      "cell_type": "markdown",
      "id": "80673400",
      "metadata": {
        "id": "80673400"
      },
      "source": [
        "```enumerate()``` es un objeto de tipo enumerate."
      ]
    },
    {
      "cell_type": "code",
      "execution_count": null,
      "id": "6df25560",
      "metadata": {
        "id": "6df25560"
      },
      "outputs": [],
      "source": [
        "enumerate(range(5))"
      ]
    },
    {
      "cell_type": "code",
      "execution_count": null,
      "id": "2adb167f",
      "metadata": {
        "id": "2adb167f"
      },
      "outputs": [],
      "source": [
        "type(enumerate(range(5)))"
      ]
    },
    {
      "cell_type": "markdown",
      "id": "43cbbe46",
      "metadata": {
        "id": "43cbbe46"
      },
      "source": [
        "Podemos convertir el objeto enumerate en una lista de tuplas (índice, valor).  "
      ]
    },
    {
      "cell_type": "code",
      "execution_count": null,
      "id": "ab0001e1",
      "metadata": {
        "id": "ab0001e1"
      },
      "outputs": [],
      "source": [
        "list(enumerate(range(10,20,2)))"
      ]
    },
    {
      "cell_type": "markdown",
      "id": "27d12388",
      "metadata": {
        "id": "27d12388"
      },
      "source": [
        "### ```enumerate``` con una lista"
      ]
    },
    {
      "cell_type": "code",
      "execution_count": null,
      "id": "d35caf1c",
      "metadata": {
        "id": "d35caf1c"
      },
      "outputs": [],
      "source": [
        "lista = ['Berlín', 'París', 'Roma', 'Londres']\n",
        "print(type(enumerate(lista)))\n",
        "print(enumerate(lista))\n",
        "print(list(enumerate(lista)))"
      ]
    },
    {
      "cell_type": "markdown",
      "id": "a5410d92",
      "metadata": {
        "id": "a5410d92"
      },
      "source": [
        "### ```enumerate``` con un string"
      ]
    },
    {
      "cell_type": "code",
      "execution_count": null,
      "id": "fd6aeead",
      "metadata": {
        "id": "fd6aeead"
      },
      "outputs": [],
      "source": [
        "palabra = 'Madrid'\n",
        "print(type(enumerate(palabra)))\n",
        "print(enumerate(palabra))\n",
        "print(list(enumerate(palabra)))"
      ]
    },
    {
      "cell_type": "markdown",
      "id": "75e1902e",
      "metadata": {
        "id": "75e1902e"
      },
      "source": [
        "### ```enumerate``` iterado en un ```for```"
      ]
    },
    {
      "cell_type": "code",
      "execution_count": null,
      "id": "69664471",
      "metadata": {
        "id": "69664471"
      },
      "outputs": [],
      "source": [
        "lista = ['Berlín', 'París', 'Roma', 'Londres']\n",
        "for elemento in lista:\n",
        "    print(elemento)"
      ]
    },
    {
      "cell_type": "markdown",
      "id": "65de1dae",
      "metadata": {
        "id": "65de1dae"
      },
      "source": [
        "#### Imprimiendo por separado índice y valor  \n",
        "Con ```enumerate``` en un ```for``` podemos obtener en cada iteración el índice y el valor de cada elemento de la lista."
      ]
    },
    {
      "cell_type": "code",
      "execution_count": null,
      "id": "81352b38",
      "metadata": {
        "id": "81352b38"
      },
      "outputs": [],
      "source": [
        "for i,v in enumerate(lista):             # i: índice, v: valor\n",
        "    print (i,v)"
      ]
    },
    {
      "cell_type": "markdown",
      "id": "545ff558",
      "metadata": {
        "id": "545ff558"
      },
      "source": [
        "#### También podemos cambiar el contador"
      ]
    },
    {
      "cell_type": "code",
      "execution_count": null,
      "id": "f6472af3",
      "metadata": {
        "id": "f6472af3"
      },
      "outputs": [],
      "source": [
        "for contador,valor in enumerate(lista,10):\n",
        "    print (contador, valor)"
      ]
    },
    {
      "cell_type": "markdown",
      "id": "17450837",
      "metadata": {
        "id": "17450837"
      },
      "source": [
        "### Podemos meter en una lista las tuplas formadas por contador y valor"
      ]
    },
    {
      "cell_type": "code",
      "execution_count": null,
      "id": "a4d3b9c2",
      "metadata": {
        "id": "a4d3b9c2"
      },
      "outputs": [],
      "source": [
        "print(list(enumerate(lista,1)))\n",
        "print(type(list(enumerate(lista,1))[0]))    # El primer elemento de la list es una tupla"
      ]
    },
    {
      "cell_type": "markdown",
      "id": "a72df0dc",
      "metadata": {
        "id": "a72df0dc"
      },
      "source": [
        "## Las cadenas son inmutables\n",
        "No se pueden cambiar los valores de los caracteres de un string al vuelo.  \n",
        "El siguiente código da error.  \n",
        "Queremos cambiar las vocales por asteriscos en una frase."
      ]
    },
    {
      "cell_type": "code",
      "execution_count": null,
      "id": "269eb57f",
      "metadata": {
        "id": "269eb57f"
      },
      "outputs": [],
      "source": [
        "saludo = 'Buenas tardes'\n",
        "for i,c in enumerate(saludo):               # c recorre todos los caracteres de la frase\n",
        "    if c in ('a', 'e', 'i', 'o', 'u'):\n",
        "        saludo[i] = '*'\n",
        "\n",
        "saludo                                      # TypeError: 'str' object does not support item assignment\n",
        "                                            # Las cadenas son inmutables"
      ]
    },
    {
      "cell_type": "markdown",
      "id": "b430cf66",
      "metadata": {
        "id": "b430cf66"
      },
      "source": [
        "Podemos conseguir nuestro objetivo y cambiar las vocales por asteriscos en una frase, creando una nueva frase destino."
      ]
    },
    {
      "cell_type": "code",
      "execution_count": null,
      "id": "34c08fba",
      "metadata": {
        "id": "34c08fba"
      },
      "outputs": [],
      "source": [
        "saludo = 'Buenas tardes'\n",
        "saludo2 = ''\n",
        "for i,c in enumerate(saludo):               # c recorre todos los caracteres de la frase\n",
        "    if c in ('a', 'e', 'i', 'o', 'u'):\n",
        "        saludo2 += '*'\n",
        "    else:\n",
        "        saludo2 += saludo[i]\n",
        "\n",
        "saludo2 "
      ]
    },
    {
      "cell_type": "markdown",
      "id": "f85befaf",
      "metadata": {
        "id": "f85befaf"
      },
      "source": [
        "Ahora queremos duplicar los caracteres de una frase."
      ]
    },
    {
      "cell_type": "code",
      "execution_count": null,
      "id": "1a8d11b1",
      "metadata": {
        "id": "1a8d11b1"
      },
      "outputs": [],
      "source": [
        "saludo = 'Buenas tardes'\n",
        "saludo2 = ''\n",
        "for c in saludo:                            # c recorre todos los caracteres de la frase\n",
        "    saludo2 += c * 2\n",
        "\n",
        "saludo2 "
      ]
    },
    {
      "cell_type": "markdown",
      "id": "0dc3a0cf",
      "metadata": {
        "id": "0dc3a0cf"
      },
      "source": [
        "### Ejemplo\n",
        "Pedir al usuario un número entero n, entre 1 y 9, ambos incluidos.  \n",
        "Listar los múltiplos de n hasta 100."
      ]
    },
    {
      "cell_type": "code",
      "execution_count": null,
      "id": "13998bc6",
      "metadata": {
        "id": "13998bc6"
      },
      "outputs": [],
      "source": [
        "while True:\n",
        "    n = int(input('Introduzca un número entero entre 1 y 9: '))\n",
        "    if 0 < n <= 9:\n",
        "        print(f'Los múltiplos de {n} hasta 100 son:')\n",
        "        print(list(range(n, 101, n)))\n",
        "    else:\n",
        "        break"
      ]
    }
  ],
  "metadata": {
    "kernelspec": {
      "display_name": "Python 3 (ipykernel)",
      "language": "python",
      "name": "python3"
    },
    "language_info": {
      "codemirror_mode": {
        "name": "ipython",
        "version": 3
      },
      "file_extension": ".py",
      "mimetype": "text/x-python",
      "name": "python",
      "nbconvert_exporter": "python",
      "pygments_lexer": "ipython3",
      "version": "3.8.11"
    },
    "colab": {
      "name": "0400_listas_con_estructuras1.ipynb",
      "provenance": [],
      "include_colab_link": true
    }
  },
  "nbformat": 4,
  "nbformat_minor": 5
}
