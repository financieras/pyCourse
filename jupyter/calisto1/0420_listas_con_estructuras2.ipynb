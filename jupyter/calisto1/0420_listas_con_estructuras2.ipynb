{
  "cells": [
    {
      "cell_type": "markdown",
      "metadata": {
        "id": "view-in-github",
        "colab_type": "text"
      },
      "source": [
        "<a href=\"https://colab.research.google.com/github/financieras/pyCourse/blob/main/jupyter/calisto1_0420.ipynb\" target=\"_parent\"><img src=\"https://colab.research.google.com/assets/colab-badge.svg\" alt=\"Open In Colab\"/></a>"
      ]
    },
    {
      "cell_type": "markdown",
      "id": "e593de37",
      "metadata": {
        "id": "e593de37"
      },
      "source": [
        "# Listas con estructuras [2]  \n",
        "## Generar números impares entre 100 y 120, por varios métodos."
      ]
    },
    {
      "cell_type": "code",
      "execution_count": null,
      "id": "4f2f3df2",
      "metadata": {
        "id": "4f2f3df2"
      },
      "outputs": [],
      "source": [
        "lista=[]                                            #Método 1\n",
        "for i in range(101,120,2):\n",
        "    lista.append(i)\n",
        "print(lista)"
      ]
    },
    {
      "cell_type": "code",
      "execution_count": null,
      "id": "5dd8d083",
      "metadata": {
        "id": "5dd8d083"
      },
      "outputs": [],
      "source": [
        "lista=[]\n",
        "i = 101                                             #Método 2\n",
        "while i < 120:\n",
        "    lista.append(i)\n",
        "    i += 2                                          #  i = i + 2\n",
        "print(lista)"
      ]
    },
    {
      "cell_type": "code",
      "execution_count": null,
      "id": "583274d6",
      "metadata": {
        "id": "583274d6"
      },
      "outputs": [],
      "source": [
        "lista = []                                          #Método 3\n",
        "for i in range(100,120):\n",
        "    if i % 2 != 0:\n",
        "        lista.append(i)\n",
        "print(lista)"
      ]
    },
    {
      "cell_type": "code",
      "execution_count": null,
      "id": "604bb7da",
      "metadata": {
        "id": "604bb7da"
      },
      "outputs": [],
      "source": [
        "[i for i in range(101,120,2)]                       #Método 4 el método más breve, ¿o no?"
      ]
    },
    {
      "cell_type": "code",
      "execution_count": null,
      "id": "58d97586",
      "metadata": {
        "id": "58d97586"
      },
      "outputs": [],
      "source": [
        "list(range(101,120,2))                              #Método 5 sin usar for ni while"
      ]
    },
    {
      "cell_type": "code",
      "execution_count": null,
      "id": "e4798785",
      "metadata": {
        "id": "e4798785"
      },
      "outputs": [],
      "source": [
        "[print(i) for i in range(101,120) if i % 2 != 0]    #Método 6 sin el print obtenemos la lista"
      ]
    },
    {
      "cell_type": "code",
      "execution_count": null,
      "id": "40585777",
      "metadata": {
        "id": "40585777"
      },
      "outputs": [],
      "source": [
        "[i for i in range(100,120) if i % 2]                #Método 7 la condición del if es 1 (True) si es impar"
      ]
    },
    {
      "cell_type": "code",
      "execution_count": null,
      "id": "f97ffb7d",
      "metadata": {
        "id": "f97ffb7d"
      },
      "outputs": [],
      "source": [
        "numeros = [None]*10                                 #Método 8 inicializamos una lista vacía de 10 elementos\n",
        "for i in range(len(numeros)):\n",
        "    numeros[i] = (i+50)*2+1\n",
        "print(numeros)"
      ]
    },
    {
      "cell_type": "markdown",
      "id": "b9160073",
      "metadata": {
        "id": "b9160073"
      },
      "source": [
        "## Obtener la diferencia entre dos listas\n",
        "Se obtiene una tercera lista con los elementos de la primera que no están en la segunda."
      ]
    },
    {
      "cell_type": "code",
      "execution_count": null,
      "id": "c3c8297f",
      "metadata": {
        "id": "c3c8297f"
      },
      "outputs": [],
      "source": [
        "lista_1 = ['a', 'b', 'c', 'd', 'e']\n",
        "lista_2 = ['a', 'b', 'c']\n",
        "set_1 = set(lista_1)                                   # convertimos la lista en un conjunto\n",
        "set_2 = set(lista_2)                                   # los conjuntos no tienen valores repetidos\n",
        "lista_3 = list(set_1.symmetric_difference(set_2))      # función de conjuntos que nos da la diferencia, y se pasa a lista \n",
        "print(lista_3)                                         # ['e', 'd']"
      ]
    }
  ],
  "metadata": {
    "kernelspec": {
      "display_name": "Python 3 (ipykernel)",
      "language": "python",
      "name": "python3"
    },
    "language_info": {
      "codemirror_mode": {
        "name": "ipython",
        "version": 3
      },
      "file_extension": ".py",
      "mimetype": "text/x-python",
      "name": "python",
      "nbconvert_exporter": "python",
      "pygments_lexer": "ipython3",
      "version": "3.8.11"
    },
    "colab": {
      "name": "0420_listas_con_estructuras2.ipynb",
      "provenance": [],
      "include_colab_link": true
    }
  },
  "nbformat": 4,
  "nbformat_minor": 5
}
