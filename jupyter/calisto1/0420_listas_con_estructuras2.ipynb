{
  "cells": [
    {
      "cell_type": "markdown",
      "metadata": {
        "id": "view-in-github",
        "colab_type": "text"
      },
      "source": [
        "<a href=\"https://colab.research.google.com/github/financieras/pyCourse/blob/main/jupyter/calisto1/0420_listas_con_estructuras2.ipynb\" target=\"_parent\"><img src=\"https://colab.research.google.com/assets/colab-badge.svg\" alt=\"Open In Colab\"/></a>"
      ]
    },
    {
      "cell_type": "markdown",
      "id": "e593de37",
      "metadata": {
        "id": "e593de37"
      },
      "source": [
        "# Listas con estructuras [2]  \n",
        "## Generar números impares entre 100 y 120, por varios métodos."
      ]
    },
    {
      "cell_type": "code",
      "execution_count": 1,
      "id": "4f2f3df2",
      "metadata": {
        "id": "4f2f3df2",
        "outputId": "8b408e99-7132-43ba-8576-a46daf9728f7",
        "colab": {
          "base_uri": "https://localhost:8080/"
        }
      },
      "outputs": [
        {
          "output_type": "stream",
          "name": "stdout",
          "text": [
            "[101, 103, 105, 107, 109, 111, 113, 115, 117, 119]\n"
          ]
        }
      ],
      "source": [
        "lista=[]                                            #Método 1\n",
        "\n",
        "for i in range(101,120,2):\n",
        "    lista.append(i)\n",
        "\n",
        "print(lista)"
      ]
    },
    {
      "cell_type": "code",
      "execution_count": 2,
      "id": "5dd8d083",
      "metadata": {
        "id": "5dd8d083",
        "outputId": "0a7eaba7-8184-496f-c37d-dd95bca97f66",
        "colab": {
          "base_uri": "https://localhost:8080/"
        }
      },
      "outputs": [
        {
          "output_type": "stream",
          "name": "stdout",
          "text": [
            "[101, 103, 105, 107, 109, 111, 113, 115, 117, 119]\n"
          ]
        }
      ],
      "source": [
        "lista=[]\n",
        "i = 101                                             #Método 2\n",
        "\n",
        "while i < 120:\n",
        "    lista.append(i)\n",
        "    i += 2                                          #  i = i + 2\n",
        "\n",
        "print(lista)"
      ]
    },
    {
      "cell_type": "code",
      "execution_count": 3,
      "id": "583274d6",
      "metadata": {
        "id": "583274d6",
        "outputId": "4d2de2de-6c74-4d30-fc12-4ebab9c825b6",
        "colab": {
          "base_uri": "https://localhost:8080/"
        }
      },
      "outputs": [
        {
          "output_type": "stream",
          "name": "stdout",
          "text": [
            "[101, 103, 105, 107, 109, 111, 113, 115, 117, 119]\n"
          ]
        }
      ],
      "source": [
        "lista = []                                          #Método 3\n",
        "\n",
        "for i in range(100,120):\n",
        "    if i % 2 != 0:\n",
        "        lista.append(i)\n",
        "\n",
        "print(lista)"
      ]
    },
    {
      "cell_type": "code",
      "execution_count": 4,
      "id": "604bb7da",
      "metadata": {
        "id": "604bb7da",
        "outputId": "64462d3a-38b4-4e13-d6e0-c3359d5725f8",
        "colab": {
          "base_uri": "https://localhost:8080/"
        }
      },
      "outputs": [
        {
          "output_type": "execute_result",
          "data": {
            "text/plain": [
              "[101, 103, 105, 107, 109, 111, 113, 115, 117, 119]"
            ]
          },
          "metadata": {},
          "execution_count": 4
        }
      ],
      "source": [
        "[i for i in range(101,120,2)]                       #Método 4 el método más breve, ¿o no?"
      ]
    },
    {
      "cell_type": "code",
      "execution_count": 5,
      "id": "58d97586",
      "metadata": {
        "id": "58d97586",
        "outputId": "cb45224f-663b-4b64-f697-e8d39d4b88cb",
        "colab": {
          "base_uri": "https://localhost:8080/"
        }
      },
      "outputs": [
        {
          "output_type": "execute_result",
          "data": {
            "text/plain": [
              "[101, 103, 105, 107, 109, 111, 113, 115, 117, 119]"
            ]
          },
          "metadata": {},
          "execution_count": 5
        }
      ],
      "source": [
        "list(range(101,120,2))                              #Método 5 sin usar for ni while"
      ]
    },
    {
      "cell_type": "code",
      "execution_count": 10,
      "id": "e4798785",
      "metadata": {
        "id": "e4798785",
        "outputId": "2e7bf496-3f10-4cc1-f48a-6ba8e5150435",
        "colab": {
          "base_uri": "https://localhost:8080/"
        }
      },
      "outputs": [
        {
          "output_type": "execute_result",
          "data": {
            "text/plain": [
              "[101, 103, 105, 107, 109, 111, 113, 115, 117, 119]"
            ]
          },
          "metadata": {},
          "execution_count": 10
        }
      ],
      "source": [
        "[i for i in range(101,120) if i % 2 != 0]    #Método 6 sin el print obtenemos la lista"
      ]
    },
    {
      "cell_type": "code",
      "execution_count": 7,
      "id": "40585777",
      "metadata": {
        "id": "40585777",
        "outputId": "f9237763-58eb-44ea-dac7-8421ceab016d",
        "colab": {
          "base_uri": "https://localhost:8080/"
        }
      },
      "outputs": [
        {
          "output_type": "execute_result",
          "data": {
            "text/plain": [
              "[101, 103, 105, 107, 109, 111, 113, 115, 117, 119]"
            ]
          },
          "metadata": {},
          "execution_count": 7
        }
      ],
      "source": [
        "[i for i in range(100,120) if i % 2]                #Método 7 la condición del if es 1 (True) si es impar"
      ]
    },
    {
      "cell_type": "code",
      "execution_count": 8,
      "id": "f97ffb7d",
      "metadata": {
        "id": "f97ffb7d",
        "outputId": "93059a96-37dc-4c2b-8db0-70c0e611f65a",
        "colab": {
          "base_uri": "https://localhost:8080/"
        }
      },
      "outputs": [
        {
          "output_type": "stream",
          "name": "stdout",
          "text": [
            "[101, 103, 105, 107, 109, 111, 113, 115, 117, 119]\n"
          ]
        }
      ],
      "source": [
        "numeros = [None]*10                                 #Método 8 inicializamos una lista vacía de 10 elementos\n",
        "\n",
        "for i in range(len(numeros)):\n",
        "    numeros[i] = (i+50)*2+1\n",
        "\n",
        "print(numeros)"
      ]
    },
    {
      "cell_type": "markdown",
      "id": "b9160073",
      "metadata": {
        "id": "b9160073"
      },
      "source": [
        "## Obtener la diferencia entre dos listas\n",
        "Se obtiene una tercera lista con los elementos de la primera que no están en la segunda."
      ]
    },
    {
      "cell_type": "code",
      "execution_count": 9,
      "id": "c3c8297f",
      "metadata": {
        "id": "c3c8297f",
        "outputId": "5d56a5a4-8d5e-40b7-f473-00f45a8d3e86",
        "colab": {
          "base_uri": "https://localhost:8080/"
        }
      },
      "outputs": [
        {
          "output_type": "stream",
          "name": "stdout",
          "text": [
            "['e', 'd']\n"
          ]
        }
      ],
      "source": [
        "lista_1 = ['a', 'b', 'c', 'd', 'e']\n",
        "lista_2 = ['a', 'b', 'c']\n",
        "\n",
        "set_1 = set(lista_1)                                   # convertimos la lista en un conjunto\n",
        "set_2 = set(lista_2)                                   # los conjuntos no tienen valores repetidos\n",
        "\n",
        "lista_3 = list(set_1.symmetric_difference(set_2))      # función de conjuntos que nos da la diferencia, y se pasa a lista\n",
        "\n",
        "print(lista_3)                                         # ['e', 'd']"
      ]
    }
  ],
  "metadata": {
    "kernelspec": {
      "display_name": "Python 3 (ipykernel)",
      "language": "python",
      "name": "python3"
    },
    "language_info": {
      "codemirror_mode": {
        "name": "ipython",
        "version": 3
      },
      "file_extension": ".py",
      "mimetype": "text/x-python",
      "name": "python",
      "nbconvert_exporter": "python",
      "pygments_lexer": "ipython3",
      "version": "3.8.11"
    },
    "colab": {
      "name": "calisto1_0420.ipynb",
      "provenance": [],
      "include_colab_link": true
    }
  },
  "nbformat": 4,
  "nbformat_minor": 5
}