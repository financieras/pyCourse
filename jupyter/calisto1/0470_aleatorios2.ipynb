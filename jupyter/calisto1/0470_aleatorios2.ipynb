{
  "cells": [
    {
      "cell_type": "markdown",
      "metadata": {
        "id": "view-in-github",
        "colab_type": "text"
      },
      "source": [
        "<a href=\"https://colab.research.google.com/github/financieras/pyCourse/blob/main/jupyter/calisto1/0470_aleatorios2.ipynb\" target=\"_parent\"><img src=\"https://colab.research.google.com/assets/colab-badge.svg\" alt=\"Open In Colab\"/></a>"
      ]
    },
    {
      "cell_type": "markdown",
      "id": "0c5f0e88",
      "metadata": {
        "id": "0c5f0e88"
      },
      "source": [
        "# Generación de aleatorios [2]"
      ]
    },
    {
      "cell_type": "markdown",
      "id": "a589d394",
      "metadata": {
        "id": "a589d394"
      },
      "source": [
        "## Inicializar la semilla\n",
        "Los números aleatorios en programación son en realidad pseudoaleatorios.  \n",
        "```seed()``` inicializa la semilla"
      ]
    },
    {
      "cell_type": "code",
      "execution_count": 1,
      "id": "bf8629a1",
      "metadata": {
        "id": "bf8629a1"
      },
      "outputs": [],
      "source": [
        "import random"
      ]
    },
    {
      "cell_type": "code",
      "execution_count": 2,
      "id": "163948f4",
      "metadata": {
        "id": "163948f4",
        "outputId": "f7ee3df0-8a39-45ae-a636-2787b277d9b3",
        "colab": {
          "base_uri": "https://localhost:8080/"
        }
      },
      "outputs": [
        {
          "output_type": "execute_result",
          "data": {
            "text/plain": [
              "0.23796462709189137"
            ]
          },
          "metadata": {},
          "execution_count": 2
        }
      ],
      "source": [
        "random.seed(3)\n",
        "random.random()      # siempre da 0.23796462709189137"
      ]
    },
    {
      "cell_type": "code",
      "execution_count": 3,
      "id": "72f70cec",
      "metadata": {
        "id": "72f70cec",
        "outputId": "c8bec23d-2e24-4583-d4f7-6abdb47a3754",
        "colab": {
          "base_uri": "https://localhost:8080/"
        }
      },
      "outputs": [
        {
          "output_type": "stream",
          "name": "stdout",
          "text": [
            "0 0.8444218515250481\n",
            "1 0.13436424411240122\n",
            "2 0.9560342718892494\n",
            "3 0.23796462709189137\n",
            "4 0.23604808973743452\n"
          ]
        }
      ],
      "source": [
        "for i in range(5):\n",
        "    random.seed(i)\n",
        "    print(i,random.random())"
      ]
    },
    {
      "cell_type": "code",
      "execution_count": 4,
      "id": "4bfe5073",
      "metadata": {
        "id": "4bfe5073",
        "outputId": "439815ba-6837-4714-af05-28e906b1471e",
        "colab": {
          "base_uri": "https://localhost:8080/"
        }
      },
      "outputs": [
        {
          "output_type": "stream",
          "name": "stdout",
          "text": [
            "0 0.8444218515250481\n",
            "1 0.13436424411240122\n",
            "2 0.9560342718892494\n",
            "3 0.23796462709189137\n",
            "4 0.23604808973743452\n"
          ]
        }
      ],
      "source": [
        "for i in range(5):\n",
        "    random.seed(i)\n",
        "    print(i,random.random())  # ¿es casualidad que sean los mismos números que antes?"
      ]
    },
    {
      "cell_type": "markdown",
      "id": "6fadb9d0",
      "metadata": {
        "id": "6fadb9d0"
      },
      "source": [
        "### Valor por defecto\n",
        "Normalmente dentro de los paréntesis no se pone nada. En ese caso se inicializa la semilla con la hora actual del sistema."
      ]
    },
    {
      "cell_type": "code",
      "execution_count": 5,
      "id": "9408c40f",
      "metadata": {
        "id": "9408c40f"
      },
      "outputs": [],
      "source": [
        "random.seed()       #Inicializa el generador de números aleatorios con la hora actual del sistema"
      ]
    },
    {
      "cell_type": "markdown",
      "id": "fd0bd9c0",
      "metadata": {
        "id": "fd0bd9c0"
      },
      "source": [
        "## Elegir de una lista elementos según ciertos pesos\n",
        "Disponemos de una lista y una sería de pesos para cada uno de los elementos. Si no se indican los pesos la elección será uniforme, asignando la misma probabilidad a cada elemento."
      ]
    },
    {
      "cell_type": "code",
      "execution_count": 6,
      "id": "250a979c",
      "metadata": {
        "id": "250a979c",
        "outputId": "bb228747-0813-4a7a-917d-b0ec74576925",
        "colab": {
          "base_uri": "https://localhost:8080/"
        }
      },
      "outputs": [
        {
          "output_type": "stream",
          "name": "stdout",
          "text": [
            "[1, 6, 4, 1, 1, 5, 1, 3, 2, 6, 5, 3, 6, 6, 5, 5, 2, 3, 1, 5]\n",
            "[5, 5, 5, 5, 3, 1, 5, 5, 5, 5, 5, 1, 5, 5, 4, 5, 5, 5, 5, 5, 5, 1, 4, 2, 5, 5, 5, 5, 3, 3]\n",
            "[1, 1, 1, 1, 1, 0, 0, 1, 1, 1, 1, 0, 1, 1, 1, 1, 1, 1, 1, 1, 1, 1, 1, 1, 1, 1, 1, 1, 1, 0, 1, 1, 1, 1, 1, 1, 1, 1, 1, 1]\n"
          ]
        }
      ],
      "source": [
        "import random\n",
        "random.seed\n",
        "\n",
        "print(random.choices([1,2,3,4,5,6], k=20))                # 20 tiradas de un Dado\n",
        "print(random.choices([1,2,3,4,5,6],[1,1,1,1,7,1], k=30))  # 30 tiradas de un dado cargado en el 5\n",
        "print(random.choices([0,1],[0.1,0.9], k=40))              # Prob(0)=0.1 Prob(1)=0.9. No es necesario que los pesos sumen 1"
      ]
    },
    {
      "cell_type": "markdown",
      "id": "32776202",
      "metadata": {
        "id": "32776202"
      },
      "source": [
        "### Generar una matriz de ceros y unos\n",
        "Generar una matriz cuadrada de ceros y unos, distribuidos aleatoriamente, de orden 5x5, donde la probabilidad de ser cero sea del 10%."
      ]
    },
    {
      "cell_type": "code",
      "execution_count": 7,
      "id": "bdba60d6",
      "metadata": {
        "id": "bdba60d6",
        "outputId": "b59941b4-5d64-46e4-c561-d8c644ea655c",
        "colab": {
          "base_uri": "https://localhost:8080/"
        }
      },
      "outputs": [
        {
          "output_type": "execute_result",
          "data": {
            "text/plain": [
              "[[1, 0, 1, 1, 1],\n",
              " [1, 1, 1, 1, 0],\n",
              " [1, 1, 1, 1, 1],\n",
              " [1, 1, 1, 0, 1],\n",
              " [1, 1, 1, 0, 1]]"
            ]
          },
          "metadata": {},
          "execution_count": 7
        }
      ],
      "source": [
        "def genera_matriz():\n",
        "    mi = [random.choices([0,1],[0.1,1-0.1],k=5) for _ in range(5)]\n",
        "    return mi\n",
        "\n",
        "genera_matriz()"
      ]
    },
    {
      "cell_type": "markdown",
      "id": "187213e3",
      "metadata": {
        "id": "187213e3"
      },
      "source": [
        "### Función que cuenta los ceros de una matriz\n",
        "* Crear otra función que reciba como parámetro una matriz y cuente los ceros que contiene.\n",
        "* Resuelva esta parte como un ejercicio propuesto."
      ]
    }
  ],
  "metadata": {
    "kernelspec": {
      "display_name": "Python 3 (ipykernel)",
      "language": "python",
      "name": "python3"
    },
    "language_info": {
      "codemirror_mode": {
        "name": "ipython",
        "version": 3
      },
      "file_extension": ".py",
      "mimetype": "text/x-python",
      "name": "python",
      "nbconvert_exporter": "python",
      "pygments_lexer": "ipython3",
      "version": "3.8.11"
    },
    "colab": {
      "name": "calisto1_0470.ipynb",
      "provenance": [],
      "include_colab_link": true
    }
  },
  "nbformat": 4,
  "nbformat_minor": 5
}