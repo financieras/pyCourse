{
  "cells": [
    {
      "cell_type": "markdown",
      "metadata": {
        "id": "view-in-github",
        "colab_type": "text"
      },
      "source": [
        "<a href=\"https://colab.research.google.com/github/financieras/pyCourse/blob/main/jupyter/calisto1/0180_listas2_slicing.ipynb\" target=\"_parent\"><img src=\"https://colab.research.google.com/assets/colab-badge.svg\" alt=\"Open In Colab\"/></a>"
      ]
    },
    {
      "cell_type": "markdown",
      "id": "87ac7381",
      "metadata": {
        "id": "87ac7381"
      },
      "source": [
        "# Listas [2]  Slicing Lists"
      ]
    },
    {
      "cell_type": "markdown",
      "id": "48319d7f",
      "metadata": {
        "id": "48319d7f"
      },
      "source": [
        "## Índices en una lista (**Index**)"
      ]
    },
    {
      "cell_type": "code",
      "execution_count": 1,
      "id": "82846a9f",
      "metadata": {
        "id": "82846a9f",
        "outputId": "eef2504b-de68-448b-a2af-e734f8cb9589",
        "colab": {
          "base_uri": "https://localhost:8080/"
        }
      },
      "outputs": [
        {
          "output_type": "stream",
          "name": "stdout",
          "text": [
            "lun\n",
            "mar\n",
            "mie\n",
            "jue\n",
            "vie\n",
            "sab\n",
            "dom\n"
          ]
        }
      ],
      "source": [
        "dias = ['lun', 'mar', 'mie', 'jue', 'vie', 'sab', 'dom']\n",
        "print(dias[0])\n",
        "print(dias[1])\n",
        "print(dias[2])\n",
        "print(dias[3])\n",
        "print(dias[4])\n",
        "print(dias[5])\n",
        "print(dias[6])"
      ]
    },
    {
      "cell_type": "markdown",
      "id": "5e89bef4",
      "metadata": {
        "id": "5e89bef4"
      },
      "source": [
        "### Índices negativos"
      ]
    },
    {
      "cell_type": "code",
      "execution_count": 2,
      "id": "c8f62709",
      "metadata": {
        "id": "c8f62709",
        "outputId": "98a1f23e-4347-40d0-9f25-0d68de301d06",
        "colab": {
          "base_uri": "https://localhost:8080/"
        }
      },
      "outputs": [
        {
          "output_type": "stream",
          "name": "stdout",
          "text": [
            "dom\n",
            "sab\n",
            "vie\n",
            "jue\n",
            "mie\n",
            "mar\n",
            "lun\n"
          ]
        }
      ],
      "source": [
        "print(dias[-1])\n",
        "print(dias[-2])\n",
        "print(dias[-3])\n",
        "print(dias[-4])\n",
        "print(dias[-5])\n",
        "print(dias[-6])\n",
        "print(dias[-7])"
      ]
    },
    {
      "cell_type": "markdown",
      "id": "8a4c1c70",
      "metadata": {
        "id": "8a4c1c70"
      },
      "source": [
        "## Slice notation  \n",
        "- lista[start:stop]  # items desde start hasta stop-1\n",
        "- lista[start:]      # items desde start hasta el final\n",
        "- lista[:stop]       # items desde el inicio hasta stop-1\n",
        "- lista[:]           # crea una copia del array completo"
      ]
    },
    {
      "cell_type": "code",
      "execution_count": 3,
      "id": "5f1ec7f0",
      "metadata": {
        "id": "5f1ec7f0",
        "outputId": "a356dac9-a74d-47bf-bcb1-502152ae0d6f",
        "colab": {
          "base_uri": "https://localhost:8080/"
        }
      },
      "outputs": [
        {
          "output_type": "stream",
          "name": "stdout",
          "text": [
            "['mie', 'jue', 'vie']\n",
            "['mie', 'jue', 'vie', 'sab', 'dom']\n",
            "['lun', 'mar', 'mie', 'jue', 'vie']\n",
            "['lun', 'mar', 'mie', 'jue', 'vie', 'sab', 'dom']\n"
          ]
        }
      ],
      "source": [
        "print(dias[2:5])\n",
        "print(dias[2:])\n",
        "print(dias[:5])\n",
        "una_copia = dias[:]\n",
        "print(una_copia)"
      ]
    },
    {
      "cell_type": "markdown",
      "id": "a1dda2d6",
      "metadata": {
        "id": "a1dda2d6"
      },
      "source": [
        "### Valores negativos"
      ]
    },
    {
      "cell_type": "code",
      "execution_count": 4,
      "id": "cd187119",
      "metadata": {
        "id": "cd187119",
        "outputId": "7dddb229-d5b2-468f-9d8a-7d7ee072ff08",
        "colab": {
          "base_uri": "https://localhost:8080/"
        }
      },
      "outputs": [
        {
          "output_type": "stream",
          "name": "stdout",
          "text": [
            "dom\n",
            "['sab', 'dom']\n",
            "['lun', 'mar', 'mie', 'jue', 'vie']\n"
          ]
        }
      ],
      "source": [
        "print(dias[-1])         # el último elemento del array\n",
        "print(dias[-2:])        # los dos últimos elementos del array\n",
        "print(dias[:-2])        # todos los elementos desde el inicio hasta el -2 excluido"
      ]
    },
    {
      "cell_type": "markdown",
      "id": "c6c7d69f",
      "metadata": {
        "id": "c6c7d69f"
      },
      "source": [
        "### lista[Star:Stop:Step]"
      ]
    },
    {
      "cell_type": "code",
      "execution_count": 5,
      "id": "0b9d9f41",
      "metadata": {
        "id": "0b9d9f41",
        "outputId": "c7fc5fa2-8703-4679-99a1-f068c0f3c2cd",
        "colab": {
          "base_uri": "https://localhost:8080/"
        }
      },
      "outputs": [
        {
          "output_type": "stream",
          "name": "stdout",
          "text": [
            "['dom', 'sab', 'vie', 'jue', 'mie', 'mar', 'lun']\n",
            "['mar', 'lun']\n",
            "['dom', 'sab']\n",
            "['vie', 'jue', 'mie', 'mar', 'lun']\n"
          ]
        }
      ],
      "source": [
        "print(dias[::-1])       # todos los elementos de la matriz invertidos  (reverse)\n",
        "print(dias[1::-1])      # los dos primeros elementos invertidos\n",
        "print(dias[:-3:-1])     # los dos últimos elementos invertidos\n",
        "print(dias[-3::-1])     # todo excepto los dos últimos elementos e invertidos"
      ]
    },
    {
      "cell_type": "markdown",
      "id": "ba87801a",
      "metadata": {
        "id": "ba87801a"
      },
      "source": [
        "## lista[slice(Star,Stop,Step)]  equivale a  lista[Star:Stop:Step]"
      ]
    },
    {
      "cell_type": "code",
      "execution_count": 6,
      "id": "3bbc6214",
      "metadata": {
        "id": "3bbc6214",
        "outputId": "367c137a-5f7a-471c-ddbe-13a9fbc9e4c6",
        "colab": {
          "base_uri": "https://localhost:8080/"
        }
      },
      "outputs": [
        {
          "output_type": "execute_result",
          "data": {
            "text/plain": [
              "['dom', 'sab', 'vie', 'jue', 'mie', 'mar', 'lun']"
            ]
          },
          "metadata": {},
          "execution_count": 6
        }
      ],
      "source": [
        "dias[slice(None, None, -1)]"
      ]
    },
    {
      "cell_type": "code",
      "execution_count": 7,
      "id": "70dd5b1d",
      "metadata": {
        "id": "70dd5b1d",
        "outputId": "640a7824-3588-429d-a54c-9d3e1537aecd",
        "colab": {
          "base_uri": "https://localhost:8080/"
        }
      },
      "outputs": [
        {
          "output_type": "execute_result",
          "data": {
            "text/plain": [
              "['mar', 'jue', 'sab']"
            ]
          },
          "metadata": {},
          "execution_count": 7
        }
      ],
      "source": [
        "dias[slice(1, None, 2)]"
      ]
    },
    {
      "cell_type": "markdown",
      "id": "f8b792a1",
      "metadata": {
        "id": "f8b792a1"
      },
      "source": [
        "## Separar listas"
      ]
    },
    {
      "cell_type": "code",
      "execution_count": 8,
      "id": "712116a4",
      "metadata": {
        "id": "712116a4",
        "outputId": "e5ad3528-e5a6-463a-fb65-f8ee020ce71d",
        "colab": {
          "base_uri": "https://localhost:8080/"
        }
      },
      "outputs": [
        {
          "output_type": "stream",
          "name": "stdout",
          "text": [
            "['a', 'b', 'c', 'd', 'e']\n",
            "[1, 2, 3, 4]\n"
          ]
        }
      ],
      "source": [
        "lista_completa = ['a', 'b', 'c', 'd', 'e', 1, 2, 3, 4]\n",
        "lista_letras = lista_completa[0:5]             # ['a', 'b', 'c', 'd', 'e'] El índice 5 no se incluye\n",
        "lista_numeros = lista_completa[5:9]            # [1, 2, 3, 4] El índice 9 no se incluye\n",
        "print(lista_letras)\n",
        "print(lista_numeros)"
      ]
    },
    {
      "cell_type": "code",
      "execution_count": 9,
      "id": "a76f832e",
      "metadata": {
        "id": "a76f832e",
        "outputId": "06941aab-7196-4c16-aa36-b0bfe3f98072",
        "colab": {
          "base_uri": "https://localhost:8080/"
        }
      },
      "outputs": [
        {
          "output_type": "stream",
          "name": "stdout",
          "text": [
            "['a', 'b', 'c', 'd', 'e']\n",
            "[1, 2, 3, 4]\n"
          ]
        }
      ],
      "source": [
        "print(lista_completa[:5])                      # ['a', 'b', 'c', 'd', 'e']\n",
        "print(lista_completa[5:])                      # [1, 2, 3, 4]"
      ]
    },
    {
      "cell_type": "code",
      "execution_count": 10,
      "id": "f276d882",
      "metadata": {
        "id": "f276d882",
        "outputId": "7dd8a84b-e72f-4919-c190-010f550472c2",
        "colab": {
          "base_uri": "https://localhost:8080/"
        }
      },
      "outputs": [
        {
          "output_type": "stream",
          "name": "stdout",
          "text": [
            "[1, 2, 3, 4]\n",
            "['b', 'd', 1, 3]\n"
          ]
        }
      ],
      "source": [
        "print(lista_completa[-4:])                     # [1, 2, 3, 4]\n",
        "print(lista_completa[1::2])                    # ['b', 'd', 1, 3]"
      ]
    },
    {
      "cell_type": "code",
      "execution_count": 11,
      "id": "ad52146b",
      "metadata": {
        "id": "ad52146b",
        "outputId": "b58a8d1c-c5b0-4700-85b8-5cd6834831c4",
        "colab": {
          "base_uri": "https://localhost:8080/"
        }
      },
      "outputs": [
        {
          "output_type": "stream",
          "name": "stdout",
          "text": [
            "2\n",
            "[2]\n"
          ]
        },
        {
          "output_type": "execute_result",
          "data": {
            "text/plain": [
              "True"
            ]
          },
          "metadata": {},
          "execution_count": 11
        }
      ],
      "source": [
        "print(lista_completa[6])                       # 2\n",
        "print(lista_completa[6:7])                     # [2]\n",
        "lista_completa[6] != lista_completa[6:7]       # 2!=[2] El valor 2 es distinto de la sublista [2]"
      ]
    },
    {
      "cell_type": "markdown",
      "id": "fe1e905e",
      "metadata": {
        "id": "fe1e905e"
      },
      "source": [
        "## ```list(range(10))```"
      ]
    },
    {
      "cell_type": "code",
      "execution_count": 12,
      "id": "46a37c35",
      "metadata": {
        "id": "46a37c35",
        "outputId": "d257b48f-ecec-4ece-f280-dc18a41f1f76",
        "colab": {
          "base_uri": "https://localhost:8080/"
        }
      },
      "outputs": [
        {
          "output_type": "stream",
          "name": "stdout",
          "text": [
            "range(0, 10)\n",
            "<class 'range'>\n"
          ]
        },
        {
          "output_type": "execute_result",
          "data": {
            "text/plain": [
              "[0, 1, 2, 3, 4, 5, 6, 7, 8, 9]"
            ]
          },
          "metadata": {},
          "execution_count": 12
        }
      ],
      "source": [
        "mi_rango=range(10)\n",
        "print(mi_rango)               # range(0, 10)\n",
        "print(type(mi_rango))         # <class 'range'>\n",
        "list(mi_rango)                # se puede convertir en una lista"
      ]
    },
    {
      "cell_type": "code",
      "execution_count": 13,
      "id": "74e14846",
      "metadata": {
        "id": "74e14846",
        "outputId": "6a6248bc-100b-438d-aa0c-25bc5aa75387",
        "colab": {
          "base_uri": "https://localhost:8080/"
        }
      },
      "outputs": [
        {
          "output_type": "stream",
          "name": "stdout",
          "text": [
            "[0, 1, 2, 3, 4, 5, 6, 7, 8, 9]\n"
          ]
        }
      ],
      "source": [
        "numeros=list(range(10))\n",
        "print(numeros)                # [0, 1, 2, 3, 4, 5, 6, 7, 8, 9]"
      ]
    },
    {
      "cell_type": "markdown",
      "id": "4f01a8e9",
      "metadata": {
        "id": "4f01a8e9"
      },
      "source": [
        "## Inicializar una lista con ceros"
      ]
    },
    {
      "cell_type": "code",
      "execution_count": 14,
      "id": "27ca2c43",
      "metadata": {
        "id": "27ca2c43",
        "outputId": "92f81d07-f250-4863-9c33-42616f89f14b",
        "colab": {
          "base_uri": "https://localhost:8080/"
        }
      },
      "outputs": [
        {
          "output_type": "stream",
          "name": "stdout",
          "text": [
            "[0, 0, 0, 0, 0, 0, 0, 0, 0, 0]\n",
            "10\n"
          ]
        }
      ],
      "source": [
        "ceros = [0]*10\n",
        "print(ceros)                  # [0, 0, 0, 0, 0, 0, 0, 0, 0, 0]\n",
        "print(len(ceros))             # 10"
      ]
    },
    {
      "cell_type": "code",
      "execution_count": 15,
      "id": "95d39fef",
      "metadata": {
        "id": "95d39fef",
        "outputId": "94665807-8c19-4aea-bfc2-dccc586ecddf",
        "colab": {
          "base_uri": "https://localhost:8080/"
        }
      },
      "outputs": [
        {
          "output_type": "stream",
          "name": "stdout",
          "text": [
            "[0, 0]\n"
          ]
        }
      ],
      "source": [
        "del ceros[2:]                 # eliminamos desde el elemento de índice 2 incluido hasta el final\n",
        "print(ceros)                  # [0, 0]"
      ]
    },
    {
      "cell_type": "markdown",
      "id": "48afea55",
      "metadata": {
        "id": "48afea55"
      },
      "source": [
        "## Añadir al inicio"
      ]
    },
    {
      "cell_type": "code",
      "execution_count": 16,
      "id": "95095980",
      "metadata": {
        "id": "95095980",
        "outputId": "8fd02f5d-ed3b-467a-cc60-ea9d192840b2",
        "colab": {
          "base_uri": "https://localhost:8080/"
        }
      },
      "outputs": [
        {
          "output_type": "execute_result",
          "data": {
            "text/plain": [
              "['Ana', 'Bea', 'Carmen']"
            ]
          },
          "metadata": {},
          "execution_count": 16
        }
      ],
      "source": [
        "ls = [\"Bea\", \"Carmen\"]\n",
        "ls.insert(0, \"Ana\")\n",
        "ls"
      ]
    }
  ],
  "metadata": {
    "kernelspec": {
      "display_name": "Python 3 (ipykernel)",
      "language": "python",
      "name": "python3"
    },
    "language_info": {
      "codemirror_mode": {
        "name": "ipython",
        "version": 3
      },
      "file_extension": ".py",
      "mimetype": "text/x-python",
      "name": "python",
      "nbconvert_exporter": "python",
      "pygments_lexer": "ipython3",
      "version": "3.8.11"
    },
    "colab": {
      "name": "calisto1_0180.ipynb",
      "provenance": [],
      "include_colab_link": true
    }
  },
  "nbformat": 4,
  "nbformat_minor": 5
}