{
  "cells": [
    {
      "cell_type": "markdown",
      "metadata": {
        "id": "view-in-github",
        "colab_type": "text"
      },
      "source": [
        "<a href=\"https://colab.research.google.com/github/financieras/pyCourse/blob/main/jupyter/calisto1/0180_listas2_slicing.ipynb\" target=\"_parent\"><img src=\"https://colab.research.google.com/assets/colab-badge.svg\" alt=\"Open In Colab\"/></a>"
      ]
    },
    {
      "cell_type": "markdown",
      "id": "87ac7381",
      "metadata": {
        "id": "87ac7381"
      },
      "source": [
        "# Listas [2]  Slicing Lists"
      ]
    },
    {
      "cell_type": "markdown",
      "id": "48319d7f",
      "metadata": {
        "id": "48319d7f"
      },
      "source": [
        "## Índices en una lista (**Index**)"
      ]
    },
    {
      "cell_type": "code",
      "execution_count": null,
      "id": "82846a9f",
      "metadata": {
        "id": "82846a9f"
      },
      "outputs": [],
      "source": [
        "dias = ['lun', 'mar', 'mie', 'jue', 'vie', 'sab', 'dom']\n",
        "print(dias[0])\n",
        "print(dias[1])\n",
        "print(dias[2])\n",
        "print(dias[3])\n",
        "print(dias[4])\n",
        "print(dias[5])\n",
        "print(dias[6])"
      ]
    },
    {
      "cell_type": "markdown",
      "id": "5e89bef4",
      "metadata": {
        "id": "5e89bef4"
      },
      "source": [
        "### Índices negativos"
      ]
    },
    {
      "cell_type": "code",
      "execution_count": null,
      "id": "c8f62709",
      "metadata": {
        "id": "c8f62709"
      },
      "outputs": [],
      "source": [
        "print(dias[-1])\n",
        "print(dias[-2])\n",
        "print(dias[-3])\n",
        "print(dias[-4])\n",
        "print(dias[-5])\n",
        "print(dias[-6])\n",
        "print(dias[-7])"
      ]
    },
    {
      "cell_type": "markdown",
      "id": "8a4c1c70",
      "metadata": {
        "id": "8a4c1c70"
      },
      "source": [
        "## Slice notation  \n",
        "- lista[start:stop]  # items desde start hasta stop-1\n",
        "- lista[start:]      # items desde start hasta el final\n",
        "- lista[:stop]       # items desde el inicio hasta stop-1\n",
        "- lista[:]           # crea una copia del array completo"
      ]
    },
    {
      "cell_type": "code",
      "execution_count": null,
      "id": "5f1ec7f0",
      "metadata": {
        "id": "5f1ec7f0"
      },
      "outputs": [],
      "source": [
        "print(dias[2:5])\n",
        "print(dias[2:])\n",
        "print(dias[:5])\n",
        "una_copia = dias[:]\n",
        "print(una_copia)"
      ]
    },
    {
      "cell_type": "markdown",
      "id": "a1dda2d6",
      "metadata": {
        "id": "a1dda2d6"
      },
      "source": [
        "### Valores negativos"
      ]
    },
    {
      "cell_type": "code",
      "execution_count": null,
      "id": "cd187119",
      "metadata": {
        "id": "cd187119"
      },
      "outputs": [],
      "source": [
        "print(dias[-1])         # el último elemento del array\n",
        "print(dias[-2:])        # los dos últimos elementos del array\n",
        "print(dias[:-2])        # todos los elementos desde el inicio hasta el -2 excluido"
      ]
    },
    {
      "cell_type": "markdown",
      "id": "c6c7d69f",
      "metadata": {
        "id": "c6c7d69f"
      },
      "source": [
        "### lista[Star:Stop:Step]"
      ]
    },
    {
      "cell_type": "code",
      "execution_count": null,
      "id": "0b9d9f41",
      "metadata": {
        "id": "0b9d9f41"
      },
      "outputs": [],
      "source": [
        "print(dias[::-1])       # todos los elementos de la matriz invertidos  (reverse)\n",
        "print(dias[1::-1])      # los dos primeros elementos invertidos\n",
        "print(dias[:-3:-1])     # los dos últimos elementos invertidos\n",
        "print(dias[-3::-1])     # todo excepto los dos últimos elementos e invertidos"
      ]
    },
    {
      "cell_type": "markdown",
      "id": "ba87801a",
      "metadata": {
        "id": "ba87801a"
      },
      "source": [
        "## lista[slice(Star,Stop,Step)]  equivale a  lista[Star:Stop:Step]"
      ]
    },
    {
      "cell_type": "code",
      "execution_count": null,
      "id": "3bbc6214",
      "metadata": {
        "id": "3bbc6214"
      },
      "outputs": [],
      "source": [
        "dias[slice(None, None, -1)]"
      ]
    },
    {
      "cell_type": "code",
      "execution_count": null,
      "id": "70dd5b1d",
      "metadata": {
        "id": "70dd5b1d"
      },
      "outputs": [],
      "source": [
        "dias[slice(1, None, 2)]"
      ]
    },
    {
      "cell_type": "markdown",
      "id": "f8b792a1",
      "metadata": {
        "id": "f8b792a1"
      },
      "source": [
        "## Separar listas"
      ]
    },
    {
      "cell_type": "code",
      "execution_count": null,
      "id": "712116a4",
      "metadata": {
        "id": "712116a4"
      },
      "outputs": [],
      "source": [
        "lista_completa = ['a', 'b', 'c', 'd', 'e', 1, 2, 3, 4]\n",
        "lista_letras = lista_completa[0:5]             # ['a', 'b', 'c', 'd', 'e'] El índice 5 no se incluye\n",
        "lista_numeros = lista_completa[5:9]            # [1, 2, 3, 4] El índice 9 no se incluye\n",
        "print(lista_letras)\n",
        "print(lista_numeros)"
      ]
    },
    {
      "cell_type": "code",
      "execution_count": null,
      "id": "a76f832e",
      "metadata": {
        "id": "a76f832e"
      },
      "outputs": [],
      "source": [
        "print(lista_completa[:5])                      # ['a', 'b', 'c', 'd', 'e']\n",
        "print(lista_completa[5:])                      # [1, 2, 3, 4]"
      ]
    },
    {
      "cell_type": "code",
      "execution_count": null,
      "id": "f276d882",
      "metadata": {
        "id": "f276d882"
      },
      "outputs": [],
      "source": [
        "print(lista_completa[-4:])                     # [1, 2, 3, 4]\n",
        "print(lista_completa[1::2])                    # ['b', 'd', 1, 3]"
      ]
    },
    {
      "cell_type": "code",
      "execution_count": null,
      "id": "ad52146b",
      "metadata": {
        "id": "ad52146b"
      },
      "outputs": [],
      "source": [
        "print(lista_completa[6])                       # 2\n",
        "print(lista_completa[6:7])                     # [2]\n",
        "lista_completa[6] != lista_completa[6:7]       # 2!=[2] El valor 2 es distinto de la sublista [2]"
      ]
    },
    {
      "cell_type": "markdown",
      "id": "fe1e905e",
      "metadata": {
        "id": "fe1e905e"
      },
      "source": [
        "## ```list(range(10))```"
      ]
    },
    {
      "cell_type": "code",
      "execution_count": null,
      "id": "46a37c35",
      "metadata": {
        "id": "46a37c35"
      },
      "outputs": [],
      "source": [
        "mi_rango=range(10)\n",
        "print(mi_rango)               # range(0, 10)\n",
        "print(type(mi_rango))         # <class 'range'>\n",
        "list(mi_rango)                # se puede convertir en una lista"
      ]
    },
    {
      "cell_type": "code",
      "execution_count": null,
      "id": "74e14846",
      "metadata": {
        "id": "74e14846"
      },
      "outputs": [],
      "source": [
        "numeros=list(range(10))\n",
        "print(numeros)                # [0, 1, 2, 3, 4, 5, 6, 7, 8, 9]"
      ]
    },
    {
      "cell_type": "markdown",
      "id": "4f01a8e9",
      "metadata": {
        "id": "4f01a8e9"
      },
      "source": [
        "## Inicializar una lista con ceros"
      ]
    },
    {
      "cell_type": "code",
      "execution_count": null,
      "id": "27ca2c43",
      "metadata": {
        "id": "27ca2c43"
      },
      "outputs": [],
      "source": [
        "ceros = [0]*10\n",
        "print(ceros)                  # [0, 0, 0, 0, 0, 0, 0, 0, 0, 0]\n",
        "print(len(ceros))             # 10"
      ]
    },
    {
      "cell_type": "code",
      "execution_count": null,
      "id": "95d39fef",
      "metadata": {
        "id": "95d39fef"
      },
      "outputs": [],
      "source": [
        "del ceros[2:]                 # eliminamos desde el elemento de índice 2 incluido hasta el final\n",
        "print(ceros)                  # [0, 0]"
      ]
    },
    {
      "cell_type": "markdown",
      "id": "48afea55",
      "metadata": {
        "id": "48afea55"
      },
      "source": [
        "## Añadir al inicio"
      ]
    },
    {
      "cell_type": "code",
      "execution_count": null,
      "id": "95095980",
      "metadata": {
        "id": "95095980"
      },
      "outputs": [],
      "source": [
        "ls = [\"Bea\", \"Carmen\"]\n",
        "ls.insert(0, \"Ana\")\n",
        "ls"
      ]
    }
  ],
  "metadata": {
    "kernelspec": {
      "display_name": "Python 3 (ipykernel)",
      "language": "python",
      "name": "python3"
    },
    "language_info": {
      "codemirror_mode": {
        "name": "ipython",
        "version": 3
      },
      "file_extension": ".py",
      "mimetype": "text/x-python",
      "name": "python",
      "nbconvert_exporter": "python",
      "pygments_lexer": "ipython3",
      "version": "3.8.11"
    },
    "colab": {
      "name": "calisto1_0180.ipynb",
      "provenance": [],
      "include_colab_link": true
    }
  },
  "nbformat": 4,
  "nbformat_minor": 5
}