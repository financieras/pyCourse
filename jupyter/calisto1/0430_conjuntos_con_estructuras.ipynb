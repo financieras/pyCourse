{
  "cells": [
    {
      "cell_type": "markdown",
      "metadata": {
        "id": "view-in-github",
        "colab_type": "text"
      },
      "source": [
        "<a href=\"https://colab.research.google.com/github/financieras/pyCourse/blob/main/jupyter/calisto1/0430_conjuntos_con_estructuras.ipynb\" target=\"_parent\"><img src=\"https://colab.research.google.com/assets/colab-badge.svg\" alt=\"Open In Colab\"/></a>"
      ]
    },
    {
      "cell_type": "markdown",
      "metadata": {
        "id": "IvWewTdu_-XU"
      },
      "source": [
        "# Conjuntos con estructuras\n",
        "Uso de bucles en conjuntos (```set```)"
      ],
      "id": "IvWewTdu_-XU"
    },
    {
      "cell_type": "markdown",
      "metadata": {
        "id": "wyJ8T_Dx_-XU"
      },
      "source": [
        "Disponemos del conjunto frutas y del conjunto cítricos.  \n",
        "Deseamos un listado de todas las frutas, realizado con un *for*, indicando si pertenecen al conjunto cítricos."
      ],
      "id": "wyJ8T_Dx_-XU"
    },
    {
      "cell_type": "code",
      "execution_count": 1,
      "metadata": {
        "id": "zE5KYnJ7_-XV"
      },
      "outputs": [],
      "source": [
        "frutas = {'Uva', 'Naranja', 'Melón', 'Pomelo', 'Manzana', 'Pera', 'Limón' }\n",
        "\n",
        "citricos =set(('Pomelo', 'Naranja', 'Limón'))"
      ],
      "id": "zE5KYnJ7_-XV"
    },
    {
      "cell_type": "code",
      "execution_count": 2,
      "metadata": {
        "id": "-XY9jt5z_-XV",
        "outputId": "81030816-d6bf-45a1-c70e-eabf545c70d4",
        "colab": {
          "base_uri": "https://localhost:8080/"
        }
      },
      "outputs": [
        {
          "output_type": "execute_result",
          "data": {
            "text/plain": [
              "{'Limón', 'Manzana', 'Melón', 'Naranja', 'Pera', 'Pomelo', 'Uva'}"
            ]
          },
          "metadata": {},
          "execution_count": 2
        }
      ],
      "source": [
        "frutas"
      ],
      "id": "-XY9jt5z_-XV"
    },
    {
      "cell_type": "code",
      "execution_count": 3,
      "metadata": {
        "id": "9VJZHsZM_-XW",
        "outputId": "305c705e-9ccd-4f13-a4c2-28650f5f713d",
        "colab": {
          "base_uri": "https://localhost:8080/"
        }
      },
      "outputs": [
        {
          "output_type": "execute_result",
          "data": {
            "text/plain": [
              "{'Limón', 'Naranja', 'Pomelo'}"
            ]
          },
          "metadata": {},
          "execution_count": 3
        }
      ],
      "source": [
        "citricos"
      ],
      "id": "9VJZHsZM_-XW"
    },
    {
      "cell_type": "code",
      "execution_count": 4,
      "metadata": {
        "id": "t_JfK-yw_-XW",
        "outputId": "e2e23dd8-267f-4c1a-8ba8-fad30d617759",
        "colab": {
          "base_uri": "https://localhost:8080/"
        }
      },
      "outputs": [
        {
          "output_type": "stream",
          "name": "stdout",
          "text": [
            "Manzana\n",
            "Limón → es un cítrico\n",
            "Uva\n",
            "Naranja → es un cítrico\n",
            "Melón\n",
            "Pera\n",
            "Pomelo → es un cítrico\n"
          ]
        }
      ],
      "source": [
        "for fruta in frutas:\n",
        "    if fruta in citricos:\n",
        "        print(f\"{fruta} → es un cítrico\")\n",
        "    else:\n",
        "        print(fruta)"
      ],
      "id": "t_JfK-yw_-XW"
    },
    {
      "cell_type": "markdown",
      "metadata": {
        "id": "fTu8Wj9c_-XW"
      },
      "source": [
        "## set comprehension"
      ],
      "id": "fTu8Wj9c_-XW"
    },
    {
      "cell_type": "code",
      "execution_count": 5,
      "metadata": {
        "id": "UDw7lHcF_-XW",
        "outputId": "0676875e-d796-416e-8557-1c9366b9eb47",
        "colab": {
          "base_uri": "https://localhost:8080/"
        }
      },
      "outputs": [
        {
          "output_type": "execute_result",
          "data": {
            "text/plain": [
              "{1, 4, 9, 16, 25}"
            ]
          },
          "metadata": {},
          "execution_count": 5
        }
      ],
      "source": [
        "{i**2 for i in [1, 2, 3, 4, 5]}"
      ],
      "id": "UDw7lHcF_-XW"
    },
    {
      "cell_type": "code",
      "execution_count": 6,
      "metadata": {
        "id": "r9iqGOr6_-XX",
        "outputId": "8bc795ff-c52c-4ac6-9028-51e9486717a9",
        "colab": {
          "base_uri": "https://localhost:8080/"
        }
      },
      "outputs": [
        {
          "output_type": "execute_result",
          "data": {
            "text/plain": [
              "{1, 3, 5, 7, 9}"
            ]
          },
          "metadata": {},
          "execution_count": 6
        }
      ],
      "source": [
        "{i for i in range(10) if i % 2}               # conjunto de impares"
      ],
      "id": "r9iqGOr6_-XX"
    },
    {
      "cell_type": "markdown",
      "metadata": {
        "id": "0c68OXmh_-XX"
      },
      "source": [
        "{(m, n) for n in range(2) for m in range(3, 5)}"
      ],
      "id": "0c68OXmh_-XX"
    },
    {
      "cell_type": "code",
      "execution_count": 7,
      "metadata": {
        "id": "8yUSwiG5_-XX",
        "outputId": "853fc7d5-fd48-41ca-c947-c19728b2705a",
        "colab": {
          "base_uri": "https://localhost:8080/"
        }
      },
      "outputs": [
        {
          "output_type": "execute_result",
          "data": {
            "text/plain": [
              "{(0, 10), (0, 11), (0, 12), (0, 13), (1, 10), (1, 11), (1, 12), (1, 13)}"
            ]
          },
          "metadata": {},
          "execution_count": 7
        }
      ],
      "source": [
        "from random import randint\n",
        "\n",
        "{(i,j) for i in range(2) for j in range(10,14)}"
      ],
      "id": "8yUSwiG5_-XX"
    },
    {
      "cell_type": "code",
      "execution_count": 8,
      "metadata": {
        "id": "vhWChQRF_-XX",
        "outputId": "04186ee3-a750-428d-968c-00373b32d818",
        "colab": {
          "base_uri": "https://localhost:8080/"
        }
      },
      "outputs": [
        {
          "output_type": "execute_result",
          "data": {
            "text/plain": [
              "{' ', 'n', 's', 't'}"
            ]
          },
          "metadata": {},
          "execution_count": 8
        }
      ],
      "source": [
        "{c for c in 'amigo es algo cierto o solo un rumor ' if c not in 'murcielago'}"
      ],
      "id": "vhWChQRF_-XX"
    },
    {
      "cell_type": "markdown",
      "metadata": {
        "id": "kohbbHTZ_-XX"
      },
      "source": [
        "## if all, if not all"
      ],
      "id": "kohbbHTZ_-XX"
    },
    {
      "cell_type": "code",
      "execution_count": 9,
      "metadata": {
        "id": "iKf2JLWY_-XY",
        "outputId": "beb32aef-0d1c-4324-ffbc-855fd3cddbab",
        "colab": {
          "base_uri": "https://localhost:8080/"
        }
      },
      "outputs": [
        {
          "output_type": "execute_result",
          "data": {
            "text/plain": [
              "True"
            ]
          },
          "metadata": {},
          "execution_count": 9
        }
      ],
      "source": [
        "all({i in \"amor\" for i in \"roma\"})   # para detectar anagramas, armonización – romanización"
      ],
      "id": "iKf2JLWY_-XY"
    }
  ],
  "metadata": {
    "kernelspec": {
      "display_name": "Python 3",
      "language": "python",
      "name": "python3"
    },
    "language_info": {
      "codemirror_mode": {
        "name": "ipython",
        "version": 3
      },
      "file_extension": ".py",
      "mimetype": "text/x-python",
      "name": "python",
      "nbconvert_exporter": "python",
      "pygments_lexer": "ipython3",
      "version": "3.8.5"
    },
    "colab": {
      "name": "calisto1_0430.ipynb",
      "provenance": [],
      "include_colab_link": true
    }
  },
  "nbformat": 4,
  "nbformat_minor": 5
}