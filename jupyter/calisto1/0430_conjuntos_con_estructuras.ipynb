{
  "cells": [
    {
      "cell_type": "markdown",
      "metadata": {
        "id": "view-in-github",
        "colab_type": "text"
      },
      "source": [
        "<a href=\"https://colab.research.google.com/github/financieras/pyCourse/blob/main/jupyter/calisto1_0430.ipynb\" target=\"_parent\"><img src=\"https://colab.research.google.com/assets/colab-badge.svg\" alt=\"Open In Colab\"/></a>"
      ]
    },
    {
      "cell_type": "markdown",
      "metadata": {
        "id": "IvWewTdu_-XU"
      },
      "source": [
        "# Conjuntos con estructuras\n",
        "Uso de bucles en conjuntos (```set```)"
      ],
      "id": "IvWewTdu_-XU"
    },
    {
      "cell_type": "markdown",
      "metadata": {
        "id": "wyJ8T_Dx_-XU"
      },
      "source": [
        "Disponemos del conjunto frutas y del conjunto cítricos.  \n",
        "Deseamos un listado de todas las frutas, realizado con un *for*, indicando si pertenecen al conjunto cítricos."
      ],
      "id": "wyJ8T_Dx_-XU"
    },
    {
      "cell_type": "code",
      "execution_count": null,
      "metadata": {
        "id": "zE5KYnJ7_-XV"
      },
      "outputs": [],
      "source": [
        "frutas = {'Uva', 'Naranja', 'Melón', 'Pomelo', 'Manzana', 'Pera', 'Limón' }\n",
        "citricos =set(('Pomelo', 'Naranja', 'Limón'))"
      ],
      "id": "zE5KYnJ7_-XV"
    },
    {
      "cell_type": "code",
      "execution_count": null,
      "metadata": {
        "id": "-XY9jt5z_-XV"
      },
      "outputs": [],
      "source": [
        "frutas"
      ],
      "id": "-XY9jt5z_-XV"
    },
    {
      "cell_type": "code",
      "execution_count": null,
      "metadata": {
        "id": "9VJZHsZM_-XW"
      },
      "outputs": [],
      "source": [
        "citricos"
      ],
      "id": "9VJZHsZM_-XW"
    },
    {
      "cell_type": "code",
      "execution_count": null,
      "metadata": {
        "id": "t_JfK-yw_-XW"
      },
      "outputs": [],
      "source": [
        "for fruta in frutas:\n",
        "    if fruta in citricos:\n",
        "        print(f\"{fruta} → es un cítrico\")\n",
        "    else:\n",
        "        print(fruta)"
      ],
      "id": "t_JfK-yw_-XW"
    },
    {
      "cell_type": "markdown",
      "metadata": {
        "id": "fTu8Wj9c_-XW"
      },
      "source": [
        "## set comprehension"
      ],
      "id": "fTu8Wj9c_-XW"
    },
    {
      "cell_type": "code",
      "execution_count": null,
      "metadata": {
        "id": "UDw7lHcF_-XW"
      },
      "outputs": [],
      "source": [
        "{i**2 for i in [1, 2, 3, 4, 5]}"
      ],
      "id": "UDw7lHcF_-XW"
    },
    {
      "cell_type": "code",
      "execution_count": null,
      "metadata": {
        "id": "r9iqGOr6_-XX"
      },
      "outputs": [],
      "source": [
        "{i for i in range(10) if i % 2}               # conjunto de impares"
      ],
      "id": "r9iqGOr6_-XX"
    },
    {
      "cell_type": "markdown",
      "metadata": {
        "id": "0c68OXmh_-XX"
      },
      "source": [
        "{(m, n) for n in range(2) for m in range(3, 5)}"
      ],
      "id": "0c68OXmh_-XX"
    },
    {
      "cell_type": "code",
      "execution_count": null,
      "metadata": {
        "id": "8yUSwiG5_-XX"
      },
      "outputs": [],
      "source": [
        "from random import randint\n",
        "{(i,j) for i in range(2) for j in range(10,14)}"
      ],
      "id": "8yUSwiG5_-XX"
    },
    {
      "cell_type": "code",
      "execution_count": null,
      "metadata": {
        "id": "vhWChQRF_-XX"
      },
      "outputs": [],
      "source": [
        "{c for c in 'amigo es algo cierto o solo un rumor ' if c not in 'murcielago'}"
      ],
      "id": "vhWChQRF_-XX"
    },
    {
      "cell_type": "markdown",
      "metadata": {
        "id": "kohbbHTZ_-XX"
      },
      "source": [
        "## if all, if not all"
      ],
      "id": "kohbbHTZ_-XX"
    },
    {
      "cell_type": "code",
      "execution_count": null,
      "metadata": {
        "id": "iKf2JLWY_-XY"
      },
      "outputs": [],
      "source": [
        "all({i in \"amor\" for i in \"roma\"})   # para detectar anagramas, armonización – romanización"
      ],
      "id": "iKf2JLWY_-XY"
    }
  ],
  "metadata": {
    "kernelspec": {
      "display_name": "Python 3",
      "language": "python",
      "name": "python3"
    },
    "language_info": {
      "codemirror_mode": {
        "name": "ipython",
        "version": 3
      },
      "file_extension": ".py",
      "mimetype": "text/x-python",
      "name": "python",
      "nbconvert_exporter": "python",
      "pygments_lexer": "ipython3",
      "version": "3.8.5"
    },
    "colab": {
      "name": "0430_conjuntos_con_estructuras.ipynb",
      "provenance": [],
      "include_colab_link": true
    }
  },
  "nbformat": 4,
  "nbformat_minor": 5
}
