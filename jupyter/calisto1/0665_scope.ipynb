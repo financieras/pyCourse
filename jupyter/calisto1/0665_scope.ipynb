{
  "nbformat": 4,
  "nbformat_minor": 0,
  "metadata": {
    "colab": {
      "provenance": [],
      "authorship_tag": "ABX9TyOsWU6gm6xMLifq5/TrEor1",
      "include_colab_link": true
    },
    "kernelspec": {
      "name": "python3",
      "display_name": "Python 3"
    },
    "language_info": {
      "name": "python"
    }
  },
  "cells": [
    {
      "cell_type": "markdown",
      "metadata": {
        "id": "view-in-github",
        "colab_type": "text"
      },
      "source": [
        "<a href=\"https://colab.research.google.com/github/financieras/pyCourse/blob/main/jupyter/calisto1/0665_scope.ipynb\" target=\"_parent\"><img src=\"https://colab.research.google.com/assets/colab-badge.svg\" alt=\"Open In Colab\"/></a>"
      ]
    },
    {
      "cell_type": "markdown",
      "source": [
        "# *Scope* o alcance de las variables\n",
        "Scope of Variables dentro y fuera de las funciones"
      ],
      "metadata": {
        "id": "UCl7AIFsREfG"
      }
    },
    {
      "cell_type": "markdown",
      "source": [
        "## Para una variable `int`\n",
        "* Esta función recibe un parámetro `num` que es un número entero.\n",
        "* Si es impar lo convierte en cero\n",
        "* Si es par no hace nada, lo deja como está\n",
        "* Es una función sin `return`\n",
        "* Si como argumento usamos el número 3, que es impar, vemos que al imprimir `num` se imprime un 3 y no un cero.\n",
        "* Esto es así, ya que la variable `num` que hay dentro de la función es una variable distinta a la variable global `num` que hay declarada fuera de la función.\n",
        "* El alcance de las variables dentro de una función es local y se restringe al ámbito de esta función."
      ],
      "metadata": {
        "id": "WXFrvRhlROnR"
      }
    },
    {
      "cell_type": "code",
      "source": [
        "def impares_a_cero(num):\n",
        "    if num % 2:\n",
        "        num = 0\n",
        "\n",
        "num = 3\n",
        "impares_a_cero(num)\n",
        "print(num)"
      ],
      "metadata": {
        "id": "K_KxMBzQQYDq",
        "outputId": "4e4385d6-76f9-4af8-ceac-2b4bf63c024b",
        "colab": {
          "base_uri": "https://localhost:8080/"
        }
      },
      "execution_count": 1,
      "outputs": [
        {
          "output_type": "stream",
          "name": "stdout",
          "text": [
            "3\n"
          ]
        }
      ]
    },
    {
      "cell_type": "markdown",
      "source": [
        "### Solución Método 1\n",
        "Para lograr que se imprima el valor cero podemos utilizar la intrucción `global` para indicar que la variable interior en la función es la misma variable que hemos declarado fuera de la función."
      ],
      "metadata": {
        "id": "3u4hipb7rFnY"
      }
    },
    {
      "cell_type": "code",
      "source": [
        "def impares_a_cero():\n",
        "    global num\n",
        "    if num % 2:\n",
        "        num = 0\n",
        "\n",
        "num = 3\n",
        "impares_a_cero()\n",
        "print(num)"
      ],
      "metadata": {
        "id": "_4o7aN0Wrbkg",
        "outputId": "b27a8051-9f08-4a88-d16f-88c36f73aba7",
        "colab": {
          "base_uri": "https://localhost:8080/"
        }
      },
      "execution_count": 2,
      "outputs": [
        {
          "output_type": "stream",
          "name": "stdout",
          "text": [
            "0\n"
          ]
        }
      ]
    },
    {
      "cell_type": "markdown",
      "source": [
        "### Solución Método 2\n",
        "Usando un `return` y alterando el valor de la variable."
      ],
      "metadata": {
        "id": "RrK9g0SMrltz"
      }
    },
    {
      "cell_type": "code",
      "source": [
        "def impares_a_cero(num):\n",
        "    if num % 2:\n",
        "        num = 0\n",
        "    return num\n",
        "\n",
        "num = 3\n",
        "num = impares_a_cero(num)\n",
        "print(num)"
      ],
      "metadata": {
        "id": "MH00u4WLrwiw",
        "outputId": "3f7aac29-e4b0-4170-d170-aedac92726e0",
        "colab": {
          "base_uri": "https://localhost:8080/"
        }
      },
      "execution_count": 3,
      "outputs": [
        {
          "output_type": "stream",
          "name": "stdout",
          "text": [
            "0\n"
          ]
        }
      ]
    },
    {
      "cell_type": "markdown",
      "source": [
        "## Para un array de números `int`\n",
        "* El resultado que arroja este código es una consecuencia del funcionamiento de los objetos mutables (como listas) en Python.\n",
        "* Esto se puede explicar por cómo se manejan las referencias a objetos mutables y los objetos inmutables en Python.\n",
        "* En Python, cuando pasas una lista (que es un objeto mutable) a una función, en realidad estás pasando una referencia a esa lista, no una copia.\n",
        "* Por lo tanto, cualquier modificación realizada en la lista dentro de la función se reflejará fuera de la función, ya que ambas variables (la original y la recibida por la función) apuntan a la misma lista en memoria.\n",
        "* La función `impares_a_cero` recibe la referencia a la lista `nums`.\n",
        "* Luego, dentro de la función, se modifica la lista directamente utilizando esa referencia.\n",
        "* Como resultado, los elementos impares en la lista se cambian a cero, y esos cambios son visibles cuando imprimes la lista después de llamar a la función.\n",
        "* La diferencia clave entre este caso y el caso anterior con variables simples es que, en el caso de las listas, estás trabajando con **objetos mutables** y pasando referencias, lo que permite que las modificaciones dentro de la función afecten al objeto original.\n",
        "* En el caso de las variables simples, como enteros, estás trabajando con **objetos inmutables** y, por lo tanto, cualquier modificación dentro de la función crea una nueva variable local y no afecta a la variable original fuera de la función.\n",
        "* Este comportamiento puede parecer curioso al principio, pero es una característica importante y poderosa de Python que permite trabajar con datos de manera eficiente y flexible."
      ],
      "metadata": {
        "id": "GSVKYHa7RURu"
      }
    },
    {
      "cell_type": "code",
      "source": [
        "def impares_a_cero(nums):\n",
        "    for r in range(len(nums)):\n",
        "        if nums[r] % 2:\n",
        "            nums[r] = 0\n",
        "\n",
        "nums = [1,2,3,4,5,6,7,8,9,10]\n",
        "impares_a_cero(nums)\n",
        "print(nums)"
      ],
      "metadata": {
        "id": "vP0DQokvPeH7",
        "outputId": "28dcb78f-c47e-43c0-e7cf-3295b5011c28",
        "colab": {
          "base_uri": "https://localhost:8080/"
        }
      },
      "execution_count": 4,
      "outputs": [
        {
          "output_type": "stream",
          "name": "stdout",
          "text": [
            "[0, 2, 0, 4, 0, 6, 0, 8, 0, 10]\n"
          ]
        }
      ]
    }
  ]
}