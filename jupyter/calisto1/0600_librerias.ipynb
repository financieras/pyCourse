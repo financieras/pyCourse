{
  "cells": [
    {
      "cell_type": "markdown",
      "metadata": {
        "id": "view-in-github",
        "colab_type": "text"
      },
      "source": [
        "<a href=\"https://colab.research.google.com/github/financieras/pyCourse/blob/main/jupyter/calisto1_0600.ipynb\" target=\"_parent\"><img src=\"https://colab.research.google.com/assets/colab-badge.svg\" alt=\"Open In Colab\"/></a>"
      ]
    },
    {
      "cell_type": "markdown",
      "metadata": {
        "id": "q0B-U4LyXhgo"
      },
      "source": [
        "# Importación de librerías"
      ],
      "id": "q0B-U4LyXhgo"
    },
    {
      "cell_type": "code",
      "execution_count": null,
      "metadata": {
        "id": "xe4DKR6nXhgq"
      },
      "outputs": [],
      "source": [
        "import os\n",
        "#os.system('cls')              # funciona en el cmd de Windows\n",
        "os.system('clear')             # para Linux/OS X\n"
      ],
      "id": "xe4DKR6nXhgq"
    },
    {
      "cell_type": "code",
      "execution_count": null,
      "metadata": {
        "id": "40cpWkTRXhgr"
      },
      "outputs": [],
      "source": [
        "import random\n",
        "print(random.randint(1, 6))"
      ],
      "id": "40cpWkTRXhgr"
    },
    {
      "cell_type": "code",
      "execution_count": null,
      "metadata": {
        "id": "hc1IoJ05Xhgt"
      },
      "outputs": [],
      "source": [
        "from random import randint\n",
        "print(randint(1, 6))"
      ],
      "id": "hc1IoJ05Xhgt"
    },
    {
      "cell_type": "code",
      "execution_count": null,
      "metadata": {
        "id": "lD_3-wK2Xhgt"
      },
      "outputs": [],
      "source": [
        "import random\n",
        "for i in range(5):              # genera 5 números aleatorios con posible repetición\n",
        "    print(random.randint(1,10)) # los números aleatorios van entre 1 y 10 ambos incluidos"
      ],
      "id": "lD_3-wK2Xhgt"
    },
    {
      "cell_type": "code",
      "execution_count": null,
      "metadata": {
        "id": "r301chg1Xhgv"
      },
      "outputs": [],
      "source": [
        "from random import shuffle\n",
        "x = [i for i in range(10)]\n",
        "shuffle(x)                      # desordena aleatoriamente una lista\n",
        "print(x)"
      ],
      "id": "r301chg1Xhgv"
    },
    {
      "cell_type": "code",
      "execution_count": null,
      "metadata": {
        "id": "ahqlqu1NXhgv"
      },
      "outputs": [],
      "source": [
        "from math import exp, sqrt      #sin esta línea dará error porque no conoce exp ni sqrt\n",
        "print(\"La exponencial de {} es {}\".format(1,exp(1)))\n",
        "print(\"La raiz cuadrada de {} es {}\".format(2,sqrt(2)))"
      ],
      "id": "ahqlqu1NXhgv"
    },
    {
      "cell_type": "code",
      "execution_count": null,
      "metadata": {
        "id": "wbcEgYEDXhgw"
      },
      "outputs": [],
      "source": [
        "def dado(n=6):                             # valor por defecto para el tamaño del dado\n",
        "    return randint(1, n)\n",
        "\n",
        "print(\"Tirando el dado sale:\", dado(100))  # si no ponemos argumento se toma el valor por defecto"
      ],
      "id": "wbcEgYEDXhgw"
    }
  ],
  "metadata": {
    "kernelspec": {
      "display_name": "Python 3",
      "language": "python",
      "name": "python3"
    },
    "language_info": {
      "codemirror_mode": {
        "name": "ipython",
        "version": 3
      },
      "file_extension": ".py",
      "mimetype": "text/x-python",
      "name": "python",
      "nbconvert_exporter": "python",
      "pygments_lexer": "ipython3",
      "version": "3.8.5"
    },
    "colab": {
      "name": "0600_librerias.ipynb",
      "provenance": [],
      "include_colab_link": true
    }
  },
  "nbformat": 4,
  "nbformat_minor": 5
}
