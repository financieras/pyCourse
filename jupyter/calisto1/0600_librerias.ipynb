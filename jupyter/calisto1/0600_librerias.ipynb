{
  "cells": [
    {
      "cell_type": "markdown",
      "metadata": {
        "id": "view-in-github",
        "colab_type": "text"
      },
      "source": [
        "<a href=\"https://colab.research.google.com/github/financieras/pyCourse/blob/main/jupyter/calisto1/0600_librerias.ipynb\" target=\"_parent\"><img src=\"https://colab.research.google.com/assets/colab-badge.svg\" alt=\"Open In Colab\"/></a>"
      ]
    },
    {
      "cell_type": "markdown",
      "metadata": {
        "id": "q0B-U4LyXhgo"
      },
      "source": [
        "# Importación de librerías"
      ],
      "id": "q0B-U4LyXhgo"
    },
    {
      "cell_type": "code",
      "execution_count": 1,
      "metadata": {
        "id": "xe4DKR6nXhgq",
        "outputId": "8993d82d-661a-4f12-edf6-286ec2d12c41",
        "colab": {
          "base_uri": "https://localhost:8080/"
        }
      },
      "outputs": [
        {
          "output_type": "execute_result",
          "data": {
            "text/plain": [
              "0"
            ]
          },
          "metadata": {},
          "execution_count": 1
        }
      ],
      "source": [
        "import os\n",
        "\n",
        "#os.system('cls')              # funciona en el cmd de Windows\n",
        "os.system('clear')             # para Linux/OS X\n"
      ],
      "id": "xe4DKR6nXhgq"
    },
    {
      "cell_type": "code",
      "execution_count": 2,
      "metadata": {
        "id": "40cpWkTRXhgr",
        "outputId": "ea688b42-8f2c-4c7f-90e0-14f71597d2af",
        "colab": {
          "base_uri": "https://localhost:8080/"
        }
      },
      "outputs": [
        {
          "output_type": "stream",
          "name": "stdout",
          "text": [
            "4\n"
          ]
        }
      ],
      "source": [
        "import random\n",
        "\n",
        "print(random.randint(1, 6))"
      ],
      "id": "40cpWkTRXhgr"
    },
    {
      "cell_type": "code",
      "execution_count": 3,
      "metadata": {
        "id": "hc1IoJ05Xhgt",
        "outputId": "89ef1126-6908-489b-c9e2-7389bcac8d24",
        "colab": {
          "base_uri": "https://localhost:8080/"
        }
      },
      "outputs": [
        {
          "output_type": "stream",
          "name": "stdout",
          "text": [
            "4\n"
          ]
        }
      ],
      "source": [
        "from random import randint\n",
        "\n",
        "print(randint(1, 6))"
      ],
      "id": "hc1IoJ05Xhgt"
    },
    {
      "cell_type": "code",
      "execution_count": 4,
      "metadata": {
        "id": "lD_3-wK2Xhgt",
        "outputId": "52f65a59-a668-443e-cd7a-ac03744bdfcb",
        "colab": {
          "base_uri": "https://localhost:8080/"
        }
      },
      "outputs": [
        {
          "output_type": "stream",
          "name": "stdout",
          "text": [
            "2\n",
            "7\n",
            "8\n",
            "7\n",
            "2\n"
          ]
        }
      ],
      "source": [
        "import random\n",
        "\n",
        "for i in range(5):              # genera 5 números aleatorios con posible repetición\n",
        "    print(random.randint(1,10)) # los números aleatorios van entre 1 y 10 ambos incluidos"
      ],
      "id": "lD_3-wK2Xhgt"
    },
    {
      "cell_type": "code",
      "execution_count": 5,
      "metadata": {
        "id": "r301chg1Xhgv",
        "outputId": "6cbaf022-1e87-4e6c-81ce-3fe19494487e",
        "colab": {
          "base_uri": "https://localhost:8080/"
        }
      },
      "outputs": [
        {
          "output_type": "stream",
          "name": "stdout",
          "text": [
            "[2, 5, 9, 8, 4, 6, 1, 7, 0, 3]\n"
          ]
        }
      ],
      "source": [
        "from random import shuffle\n",
        "\n",
        "x = [i for i in range(10)]\n",
        "shuffle(x)                      # desordena aleatoriamente una lista\n",
        "print(x)"
      ],
      "id": "r301chg1Xhgv"
    },
    {
      "cell_type": "code",
      "execution_count": 6,
      "metadata": {
        "id": "ahqlqu1NXhgv",
        "outputId": "f917ccf2-a512-4fb0-feda-c062cd045232",
        "colab": {
          "base_uri": "https://localhost:8080/"
        }
      },
      "outputs": [
        {
          "output_type": "stream",
          "name": "stdout",
          "text": [
            "La exponencial de 1 es 2.718281828459045\n",
            "La raiz cuadrada de 2 es 1.4142135623730951\n"
          ]
        }
      ],
      "source": [
        "from math import exp, sqrt      #sin esta línea dará error porque no conoce exp ni sqrt\n",
        "\n",
        "print(\"La exponencial de {} es {}\".format(1,exp(1)))\n",
        "print(\"La raiz cuadrada de {} es {}\".format(2,sqrt(2)))"
      ],
      "id": "ahqlqu1NXhgv"
    },
    {
      "cell_type": "code",
      "execution_count": 7,
      "metadata": {
        "id": "wbcEgYEDXhgw",
        "outputId": "28d21ccd-2767-402b-b2bf-f4887689bcf0",
        "colab": {
          "base_uri": "https://localhost:8080/"
        }
      },
      "outputs": [
        {
          "output_type": "stream",
          "name": "stdout",
          "text": [
            "Tirando el dado sale: 92\n"
          ]
        }
      ],
      "source": [
        "def dado(n=6):                             # valor por defecto para el tamaño del dado\n",
        "    return randint(1, n)\n",
        "\n",
        "print(\"Tirando el dado sale:\", dado(100))  # si no ponemos argumento se toma el valor por defecto"
      ],
      "id": "wbcEgYEDXhgw"
    }
  ],
  "metadata": {
    "kernelspec": {
      "display_name": "Python 3",
      "language": "python",
      "name": "python3"
    },
    "language_info": {
      "codemirror_mode": {
        "name": "ipython",
        "version": 3
      },
      "file_extension": ".py",
      "mimetype": "text/x-python",
      "name": "python",
      "nbconvert_exporter": "python",
      "pygments_lexer": "ipython3",
      "version": "3.8.5"
    },
    "colab": {
      "name": "calisto1_0600.ipynb",
      "provenance": [],
      "include_colab_link": true
    }
  },
  "nbformat": 4,
  "nbformat_minor": 5
}