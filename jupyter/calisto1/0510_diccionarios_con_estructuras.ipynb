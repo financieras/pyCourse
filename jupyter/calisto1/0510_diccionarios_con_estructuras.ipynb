{
  "cells": [
    {
      "cell_type": "markdown",
      "metadata": {
        "id": "view-in-github",
        "colab_type": "text"
      },
      "source": [
        "<a href=\"https://colab.research.google.com/github/financieras/pyCourse/blob/main/jupyter/calisto1/0510_diccionarios_con_estructuras.ipynb\" target=\"_parent\"><img src=\"https://colab.research.google.com/assets/colab-badge.svg\" alt=\"Open In Colab\"/></a>"
      ]
    },
    {
      "cell_type": "markdown",
      "metadata": {
        "id": "xYJOLic4Hj5R"
      },
      "source": [
        "# Diccionarios con estructuras"
      ],
      "id": "xYJOLic4Hj5R"
    },
    {
      "cell_type": "code",
      "execution_count": 1,
      "metadata": {
        "id": "PTZucGDOHj5T",
        "outputId": "a602d763-6b9b-43a1-ea2e-ccde18a2f7e4",
        "colab": {
          "base_uri": "https://localhost:8080/"
        }
      },
      "outputs": [
        {
          "output_type": "stream",
          "name": "stdout",
          "text": [
            "Ana\n",
            "Jose\n",
            "Luis\n",
            "Marta\n"
          ]
        }
      ],
      "source": [
        "edades = {'Ana':20,'Jose':23,'Luis':28,'Marta':17}\n",
        "\n",
        "for key in edades.keys():       #keys() Da una lista con las claves del diccionario\n",
        "    print(key)"
      ],
      "id": "PTZucGDOHj5T"
    },
    {
      "cell_type": "code",
      "execution_count": 2,
      "metadata": {
        "id": "4YlwK7xAHj5V",
        "outputId": "5df0fbb2-4146-49d1-de36-37e0b9064a55",
        "colab": {
          "base_uri": "https://localhost:8080/"
        }
      },
      "outputs": [
        {
          "output_type": "stream",
          "name": "stdout",
          "text": [
            "20\n",
            "23\n",
            "28\n",
            "17\n"
          ]
        }
      ],
      "source": [
        "for value in edades.values():   #values() Da una lista con los valores del diccionario\n",
        "    print(value)"
      ],
      "id": "4YlwK7xAHj5V"
    },
    {
      "cell_type": "code",
      "execution_count": 3,
      "metadata": {
        "id": "uRah2hk2Hj5X",
        "outputId": "39f1d67d-730c-4b40-ce05-a56f695d6cdd",
        "colab": {
          "base_uri": "https://localhost:8080/"
        }
      },
      "outputs": [
        {
          "output_type": "stream",
          "name": "stdout",
          "text": [
            "('Ana', 20)\n",
            "('Jose', 23)\n",
            "('Luis', 28)\n",
            "('Marta', 17)\n"
          ]
        }
      ],
      "source": [
        "for item in edades.items():      #items() Da una lista con tupla para cada par clave-valor\n",
        "    print(item)"
      ],
      "id": "uRah2hk2Hj5X"
    },
    {
      "cell_type": "code",
      "execution_count": 4,
      "metadata": {
        "id": "-5T4BCxoHj5Y",
        "outputId": "1ce5552a-6e5e-40c0-a590-9e85ace6cf4f",
        "colab": {
          "base_uri": "https://localhost:8080/"
        }
      },
      "outputs": [
        {
          "output_type": "stream",
          "name": "stdout",
          "text": [
            "Ana tiene 20 años.\n",
            "Jose tiene 23 años.\n",
            "Luis tiene 28 años.\n",
            "Marta tiene 17 años.\n"
          ]
        }
      ],
      "source": [
        "for k,v in edades.items():\n",
        "    print(\"{} tiene {} años.\".format(k,v))"
      ],
      "id": "-5T4BCxoHj5Y"
    },
    {
      "cell_type": "markdown",
      "metadata": {
        "id": "DtDUX7nnHj5Z"
      },
      "source": [
        "## Lista de diccionarios"
      ],
      "id": "DtDUX7nnHj5Z"
    },
    {
      "cell_type": "code",
      "execution_count": 5,
      "metadata": {
        "id": "VXzSmr8jHj5a",
        "outputId": "1dfab406-b6b8-4c57-ded1-1aa89c093699",
        "colab": {
          "base_uri": "https://localhost:8080/"
        }
      },
      "outputs": [
        {
          "output_type": "execute_result",
          "data": {
            "text/plain": [
              "[{'nombre': 'Mercadona',\n",
              "  'facturación': 23344,\n",
              "  'sector': 'comercio',\n",
              "  'sede': 'Valencia'},\n",
              " {'nombre': 'Repsol',\n",
              "  'facturación': 21271,\n",
              "  'sector': 'refino',\n",
              "  'sede': 'Madrid'},\n",
              " {'nombre': 'CEPSA',\n",
              "  'facturación': 18307,\n",
              "  'sector': 'refino',\n",
              "  'sede': 'Madrid'},\n",
              " {'nombre': 'Inditex',\n",
              "  'facturación': 18261,\n",
              "  'sector': 'textil',\n",
              "  'sede': 'Coruña'}]"
            ]
          },
          "metadata": {},
          "execution_count": 5
        }
      ],
      "source": [
        "m = {\"nombre\":\"Mercadona\", \"facturación\":23344, \"sector\":\"comercio\", \"sede\":\"Valencia\"}\n",
        "r = {\"nombre\":\"Repsol\", \"facturación\":21271, \"sector\":\"refino\", \"sede\":\"Madrid\"}\n",
        "c = {\"nombre\":\"CEPSA\", \"facturación\":18307, \"sector\":\"refino\", \"sede\":\"Madrid\"}\n",
        "i = {\"nombre\":\"Inditex\", \"facturación\":18261, \"sector\":\"textil\", \"sede\":\"Coruña\"}\n",
        "\n",
        "empresas = [m,r,c,i]\n",
        "empresas"
      ],
      "id": "VXzSmr8jHj5a"
    },
    {
      "cell_type": "markdown",
      "metadata": {
        "id": "1kSArH6RHj5a"
      },
      "source": [
        "La salida anterior tiene formato de fichero JSON. Podemos visualizarlo un poco mejor en páginas como:  \n",
        "[http://jsonviewer.stack.hu](http://jsonviewer.stack.hu)  \n",
        "Podemos validar el formato JSON en la siguiente página:  \n",
        "[https://jsonformatter.curiousconcept.com](https://jsonformatter.curiousconcept.com)"
      ],
      "id": "1kSArH6RHj5a"
    },
    {
      "cell_type": "code",
      "execution_count": 6,
      "metadata": {
        "id": "tjMgtGOfHj5b",
        "outputId": "2d38d64b-0669-4807-dfc5-681f40df31c1",
        "colab": {
          "base_uri": "https://localhost:8080/"
        }
      },
      "outputs": [
        {
          "output_type": "stream",
          "name": "stdout",
          "text": [
            "Mercadona comercio Valencia\n",
            "Repsol refino Madrid\n",
            "CEPSA refino Madrid\n",
            "Inditex textil Coruña\n"
          ]
        }
      ],
      "source": [
        "for empresa in empresas:                                         # con un for imprimimos los valores\n",
        "    print(empresa['nombre'],empresa['sector'],empresa['sede'])"
      ],
      "id": "tjMgtGOfHj5b"
    },
    {
      "cell_type": "markdown",
      "metadata": {
        "id": "w_W6gm2NHj5c"
      },
      "source": [
        "### Mostrando valores con tabulate\n",
        "Existe una librería que nos permite imprimir dando un formato de tabla.  \n",
        "Posiblemente tengamos que instalar la librería con el gestor de paquetes **pip**."
      ],
      "id": "w_W6gm2NHj5c"
    },
    {
      "cell_type": "code",
      "execution_count": 7,
      "metadata": {
        "id": "_SHDBkHuHj5d",
        "outputId": "9a811259-e98b-4979-b289-7fd89725eddc",
        "colab": {
          "base_uri": "https://localhost:8080/"
        }
      },
      "outputs": [
        {
          "output_type": "stream",
          "name": "stdout",
          "text": [
            "Requirement already satisfied: tabulate in /usr/local/lib/python3.10/dist-packages (0.9.0)\n"
          ]
        }
      ],
      "source": [
        "# instalando la librería tabulate con pip\n",
        "!pip install tabulate   # o bien con:  !apt install pip   # para un sistema Linux tipo Debian\n",
        "# instalando la librería tabulate con conda, si estamos trabajando con Anaconda\n",
        "#conda install tabulate"
      ],
      "id": "_SHDBkHuHj5d"
    },
    {
      "cell_type": "code",
      "execution_count": 8,
      "metadata": {
        "id": "Rlf5iCjtHj5e",
        "outputId": "49c25a83-d1aa-46c9-d16f-5503d03d6630",
        "colab": {
          "base_uri": "https://localhost:8080/"
        }
      },
      "outputs": [
        {
          "output_type": "stream",
          "name": "stdout",
          "text": [
            "---------  -----  --------  --------\n",
            "Mercadona  23344  comercio  Valencia\n",
            "Repsol     21271  refino    Madrid\n",
            "CEPSA      18307  refino    Madrid\n",
            "Inditex    18261  textil    Coruña\n",
            "---------  -----  --------  --------\n"
          ]
        }
      ],
      "source": [
        "from tabulate import tabulate\n",
        "\n",
        "print(tabulate(empresas))"
      ],
      "id": "Rlf5iCjtHj5e"
    },
    {
      "cell_type": "markdown",
      "metadata": {
        "id": "dNaRhCq5Hj5f"
      },
      "source": [
        "#### Mostrando la cabecera"
      ],
      "id": "dNaRhCq5Hj5f"
    },
    {
      "cell_type": "code",
      "execution_count": 9,
      "metadata": {
        "id": "w6pt8nvLHj5f",
        "outputId": "f5bb554a-3167-40bc-ac16-686562570dfa",
        "colab": {
          "base_uri": "https://localhost:8080/"
        }
      },
      "outputs": [
        {
          "output_type": "stream",
          "name": "stdout",
          "text": [
            "nombre       facturación  sector    sede\n",
            "---------  -------------  --------  --------\n",
            "Mercadona          23344  comercio  Valencia\n",
            "Repsol             21271  refino    Madrid\n",
            "CEPSA              18307  refino    Madrid\n",
            "Inditex            18261  textil    Coruña\n"
          ]
        }
      ],
      "source": [
        "header = empresas[0].keys()\n",
        "rows =  [x.values() for x in empresas]\n",
        "print(tabulate(rows, header))"
      ],
      "id": "w6pt8nvLHj5f"
    },
    {
      "cell_type": "markdown",
      "metadata": {
        "id": "29-w3MsSHj5g"
      },
      "source": [
        "### Usando Pandas\n",
        "Pandas es una potente librería muy utilizada para el manejo de dataset.  \n",
        "En esta ocasión vamos a mostrar los datos en forma de DataFrame."
      ],
      "id": "29-w3MsSHj5g"
    },
    {
      "cell_type": "code",
      "execution_count": 10,
      "metadata": {
        "id": "Av1yhXhsHj5h",
        "outputId": "1ef13c10-8102-45ba-b725-69cf9214deca",
        "colab": {
          "base_uri": "https://localhost:8080/",
          "height": 175
        }
      },
      "outputs": [
        {
          "output_type": "execute_result",
          "data": {
            "text/plain": [
              "      nombre  facturación    sector      sede\n",
              "0  Mercadona        23344  comercio  Valencia\n",
              "1     Repsol        21271    refino    Madrid\n",
              "2      CEPSA        18307    refino    Madrid\n",
              "3    Inditex        18261    textil    Coruña"
            ],
            "text/html": [
              "\n",
              "  <div id=\"df-65056982-effa-40a1-be61-f860300a0a3a\" class=\"colab-df-container\">\n",
              "    <div>\n",
              "<style scoped>\n",
              "    .dataframe tbody tr th:only-of-type {\n",
              "        vertical-align: middle;\n",
              "    }\n",
              "\n",
              "    .dataframe tbody tr th {\n",
              "        vertical-align: top;\n",
              "    }\n",
              "\n",
              "    .dataframe thead th {\n",
              "        text-align: right;\n",
              "    }\n",
              "</style>\n",
              "<table border=\"1\" class=\"dataframe\">\n",
              "  <thead>\n",
              "    <tr style=\"text-align: right;\">\n",
              "      <th></th>\n",
              "      <th>nombre</th>\n",
              "      <th>facturación</th>\n",
              "      <th>sector</th>\n",
              "      <th>sede</th>\n",
              "    </tr>\n",
              "  </thead>\n",
              "  <tbody>\n",
              "    <tr>\n",
              "      <th>0</th>\n",
              "      <td>Mercadona</td>\n",
              "      <td>23344</td>\n",
              "      <td>comercio</td>\n",
              "      <td>Valencia</td>\n",
              "    </tr>\n",
              "    <tr>\n",
              "      <th>1</th>\n",
              "      <td>Repsol</td>\n",
              "      <td>21271</td>\n",
              "      <td>refino</td>\n",
              "      <td>Madrid</td>\n",
              "    </tr>\n",
              "    <tr>\n",
              "      <th>2</th>\n",
              "      <td>CEPSA</td>\n",
              "      <td>18307</td>\n",
              "      <td>refino</td>\n",
              "      <td>Madrid</td>\n",
              "    </tr>\n",
              "    <tr>\n",
              "      <th>3</th>\n",
              "      <td>Inditex</td>\n",
              "      <td>18261</td>\n",
              "      <td>textil</td>\n",
              "      <td>Coruña</td>\n",
              "    </tr>\n",
              "  </tbody>\n",
              "</table>\n",
              "</div>\n",
              "    <div class=\"colab-df-buttons\">\n",
              "\n",
              "  <div class=\"colab-df-container\">\n",
              "    <button class=\"colab-df-convert\" onclick=\"convertToInteractive('df-65056982-effa-40a1-be61-f860300a0a3a')\"\n",
              "            title=\"Convert this dataframe to an interactive table.\"\n",
              "            style=\"display:none;\">\n",
              "\n",
              "  <svg xmlns=\"http://www.w3.org/2000/svg\" height=\"24px\" viewBox=\"0 -960 960 960\">\n",
              "    <path d=\"M120-120v-720h720v720H120Zm60-500h600v-160H180v160Zm220 220h160v-160H400v160Zm0 220h160v-160H400v160ZM180-400h160v-160H180v160Zm440 0h160v-160H620v160ZM180-180h160v-160H180v160Zm440 0h160v-160H620v160Z\"/>\n",
              "  </svg>\n",
              "    </button>\n",
              "\n",
              "  <style>\n",
              "    .colab-df-container {\n",
              "      display:flex;\n",
              "      gap: 12px;\n",
              "    }\n",
              "\n",
              "    .colab-df-convert {\n",
              "      background-color: #E8F0FE;\n",
              "      border: none;\n",
              "      border-radius: 50%;\n",
              "      cursor: pointer;\n",
              "      display: none;\n",
              "      fill: #1967D2;\n",
              "      height: 32px;\n",
              "      padding: 0 0 0 0;\n",
              "      width: 32px;\n",
              "    }\n",
              "\n",
              "    .colab-df-convert:hover {\n",
              "      background-color: #E2EBFA;\n",
              "      box-shadow: 0px 1px 2px rgba(60, 64, 67, 0.3), 0px 1px 3px 1px rgba(60, 64, 67, 0.15);\n",
              "      fill: #174EA6;\n",
              "    }\n",
              "\n",
              "    .colab-df-buttons div {\n",
              "      margin-bottom: 4px;\n",
              "    }\n",
              "\n",
              "    [theme=dark] .colab-df-convert {\n",
              "      background-color: #3B4455;\n",
              "      fill: #D2E3FC;\n",
              "    }\n",
              "\n",
              "    [theme=dark] .colab-df-convert:hover {\n",
              "      background-color: #434B5C;\n",
              "      box-shadow: 0px 1px 3px 1px rgba(0, 0, 0, 0.15);\n",
              "      filter: drop-shadow(0px 1px 2px rgba(0, 0, 0, 0.3));\n",
              "      fill: #FFFFFF;\n",
              "    }\n",
              "  </style>\n",
              "\n",
              "    <script>\n",
              "      const buttonEl =\n",
              "        document.querySelector('#df-65056982-effa-40a1-be61-f860300a0a3a button.colab-df-convert');\n",
              "      buttonEl.style.display =\n",
              "        google.colab.kernel.accessAllowed ? 'block' : 'none';\n",
              "\n",
              "      async function convertToInteractive(key) {\n",
              "        const element = document.querySelector('#df-65056982-effa-40a1-be61-f860300a0a3a');\n",
              "        const dataTable =\n",
              "          await google.colab.kernel.invokeFunction('convertToInteractive',\n",
              "                                                    [key], {});\n",
              "        if (!dataTable) return;\n",
              "\n",
              "        const docLinkHtml = 'Like what you see? Visit the ' +\n",
              "          '<a target=\"_blank\" href=https://colab.research.google.com/notebooks/data_table.ipynb>data table notebook</a>'\n",
              "          + ' to learn more about interactive tables.';\n",
              "        element.innerHTML = '';\n",
              "        dataTable['output_type'] = 'display_data';\n",
              "        await google.colab.output.renderOutput(dataTable, element);\n",
              "        const docLink = document.createElement('div');\n",
              "        docLink.innerHTML = docLinkHtml;\n",
              "        element.appendChild(docLink);\n",
              "      }\n",
              "    </script>\n",
              "  </div>\n",
              "\n",
              "\n",
              "<div id=\"df-a22becbe-6980-468b-a433-914226e6b2c4\">\n",
              "  <button class=\"colab-df-quickchart\" onclick=\"quickchart('df-a22becbe-6980-468b-a433-914226e6b2c4')\"\n",
              "            title=\"Suggest charts.\"\n",
              "            style=\"display:none;\">\n",
              "\n",
              "<svg xmlns=\"http://www.w3.org/2000/svg\" height=\"24px\"viewBox=\"0 0 24 24\"\n",
              "     width=\"24px\">\n",
              "    <g>\n",
              "        <path d=\"M19 3H5c-1.1 0-2 .9-2 2v14c0 1.1.9 2 2 2h14c1.1 0 2-.9 2-2V5c0-1.1-.9-2-2-2zM9 17H7v-7h2v7zm4 0h-2V7h2v10zm4 0h-2v-4h2v4z\"/>\n",
              "    </g>\n",
              "</svg>\n",
              "  </button>\n",
              "\n",
              "<style>\n",
              "  .colab-df-quickchart {\n",
              "      --bg-color: #E8F0FE;\n",
              "      --fill-color: #1967D2;\n",
              "      --hover-bg-color: #E2EBFA;\n",
              "      --hover-fill-color: #174EA6;\n",
              "      --disabled-fill-color: #AAA;\n",
              "      --disabled-bg-color: #DDD;\n",
              "  }\n",
              "\n",
              "  [theme=dark] .colab-df-quickchart {\n",
              "      --bg-color: #3B4455;\n",
              "      --fill-color: #D2E3FC;\n",
              "      --hover-bg-color: #434B5C;\n",
              "      --hover-fill-color: #FFFFFF;\n",
              "      --disabled-bg-color: #3B4455;\n",
              "      --disabled-fill-color: #666;\n",
              "  }\n",
              "\n",
              "  .colab-df-quickchart {\n",
              "    background-color: var(--bg-color);\n",
              "    border: none;\n",
              "    border-radius: 50%;\n",
              "    cursor: pointer;\n",
              "    display: none;\n",
              "    fill: var(--fill-color);\n",
              "    height: 32px;\n",
              "    padding: 0;\n",
              "    width: 32px;\n",
              "  }\n",
              "\n",
              "  .colab-df-quickchart:hover {\n",
              "    background-color: var(--hover-bg-color);\n",
              "    box-shadow: 0 1px 2px rgba(60, 64, 67, 0.3), 0 1px 3px 1px rgba(60, 64, 67, 0.15);\n",
              "    fill: var(--button-hover-fill-color);\n",
              "  }\n",
              "\n",
              "  .colab-df-quickchart-complete:disabled,\n",
              "  .colab-df-quickchart-complete:disabled:hover {\n",
              "    background-color: var(--disabled-bg-color);\n",
              "    fill: var(--disabled-fill-color);\n",
              "    box-shadow: none;\n",
              "  }\n",
              "\n",
              "  .colab-df-spinner {\n",
              "    border: 2px solid var(--fill-color);\n",
              "    border-color: transparent;\n",
              "    border-bottom-color: var(--fill-color);\n",
              "    animation:\n",
              "      spin 1s steps(1) infinite;\n",
              "  }\n",
              "\n",
              "  @keyframes spin {\n",
              "    0% {\n",
              "      border-color: transparent;\n",
              "      border-bottom-color: var(--fill-color);\n",
              "      border-left-color: var(--fill-color);\n",
              "    }\n",
              "    20% {\n",
              "      border-color: transparent;\n",
              "      border-left-color: var(--fill-color);\n",
              "      border-top-color: var(--fill-color);\n",
              "    }\n",
              "    30% {\n",
              "      border-color: transparent;\n",
              "      border-left-color: var(--fill-color);\n",
              "      border-top-color: var(--fill-color);\n",
              "      border-right-color: var(--fill-color);\n",
              "    }\n",
              "    40% {\n",
              "      border-color: transparent;\n",
              "      border-right-color: var(--fill-color);\n",
              "      border-top-color: var(--fill-color);\n",
              "    }\n",
              "    60% {\n",
              "      border-color: transparent;\n",
              "      border-right-color: var(--fill-color);\n",
              "    }\n",
              "    80% {\n",
              "      border-color: transparent;\n",
              "      border-right-color: var(--fill-color);\n",
              "      border-bottom-color: var(--fill-color);\n",
              "    }\n",
              "    90% {\n",
              "      border-color: transparent;\n",
              "      border-bottom-color: var(--fill-color);\n",
              "    }\n",
              "  }\n",
              "</style>\n",
              "\n",
              "  <script>\n",
              "    async function quickchart(key) {\n",
              "      const quickchartButtonEl =\n",
              "        document.querySelector('#' + key + ' button');\n",
              "      quickchartButtonEl.disabled = true;  // To prevent multiple clicks.\n",
              "      quickchartButtonEl.classList.add('colab-df-spinner');\n",
              "      try {\n",
              "        const charts = await google.colab.kernel.invokeFunction(\n",
              "            'suggestCharts', [key], {});\n",
              "      } catch (error) {\n",
              "        console.error('Error during call to suggestCharts:', error);\n",
              "      }\n",
              "      quickchartButtonEl.classList.remove('colab-df-spinner');\n",
              "      quickchartButtonEl.classList.add('colab-df-quickchart-complete');\n",
              "    }\n",
              "    (() => {\n",
              "      let quickchartButtonEl =\n",
              "        document.querySelector('#df-a22becbe-6980-468b-a433-914226e6b2c4 button');\n",
              "      quickchartButtonEl.style.display =\n",
              "        google.colab.kernel.accessAllowed ? 'block' : 'none';\n",
              "    })();\n",
              "  </script>\n",
              "</div>\n",
              "    </div>\n",
              "  </div>\n"
            ]
          },
          "metadata": {},
          "execution_count": 10
        }
      ],
      "source": [
        "import pandas as pd\n",
        "\n",
        "pd.DataFrame(empresas)                # empresas es el dataset"
      ],
      "id": "Av1yhXhsHj5h"
    },
    {
      "cell_type": "markdown",
      "metadata": {
        "id": "AktXVB4qHj5h"
      },
      "source": [
        "### Ejercicio\n",
        "Investigar la importancia de los formatos **JSON** en:\n",
        "- el tratamiento de datos\n",
        "- la compartición de información entre aplicaciones\n",
        "- las bases de datos no relacionales (noSQL), ejemplo MongoDB, que usa BSON, similar a JSON pero admite binarios  \n",
        "¿Se podría convertir una tabla disponible en Excel en un fichero JSON?"
      ],
      "id": "AktXVB4qHj5h"
    }
  ],
  "metadata": {
    "kernelspec": {
      "display_name": "Python 3",
      "language": "python",
      "name": "python3"
    },
    "language_info": {
      "codemirror_mode": {
        "name": "ipython",
        "version": 3
      },
      "file_extension": ".py",
      "mimetype": "text/x-python",
      "name": "python",
      "nbconvert_exporter": "python",
      "pygments_lexer": "ipython3",
      "version": "3.8.5"
    },
    "colab": {
      "name": "calisto1_0510.ipynb",
      "provenance": [],
      "include_colab_link": true
    }
  },
  "nbformat": 4,
  "nbformat_minor": 5
}