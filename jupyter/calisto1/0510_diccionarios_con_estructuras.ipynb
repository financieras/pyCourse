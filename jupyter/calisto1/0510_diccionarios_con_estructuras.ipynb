{
  "cells": [
    {
      "cell_type": "markdown",
      "metadata": {
        "id": "view-in-github",
        "colab_type": "text"
      },
      "source": [
        "<a href=\"https://colab.research.google.com/github/financieras/pyCourse/blob/main/jupyter/calisto1_0510.ipynb\" target=\"_parent\"><img src=\"https://colab.research.google.com/assets/colab-badge.svg\" alt=\"Open In Colab\"/></a>"
      ]
    },
    {
      "cell_type": "markdown",
      "metadata": {
        "id": "xYJOLic4Hj5R"
      },
      "source": [
        "# Diccionarios con estructuras"
      ],
      "id": "xYJOLic4Hj5R"
    },
    {
      "cell_type": "code",
      "execution_count": null,
      "metadata": {
        "id": "PTZucGDOHj5T",
        "outputId": "df36fbb2-0f7a-4029-9760-c64da3548d7e",
        "colab": {
          "base_uri": "https://localhost:8080/"
        }
      },
      "outputs": [
        {
          "output_type": "stream",
          "name": "stdout",
          "text": [
            "Ana\n",
            "Jose\n",
            "Luis\n",
            "Marta\n"
          ]
        }
      ],
      "source": [
        "edades = {'Ana':20,'Jose':23,'Luis':28,'Marta':17}\n",
        "for key in edades.keys():       #keys() Da una lista con las claves del diccionario\n",
        "    print(key)"
      ],
      "id": "PTZucGDOHj5T"
    },
    {
      "cell_type": "code",
      "execution_count": null,
      "metadata": {
        "id": "4YlwK7xAHj5V",
        "outputId": "a05b58d4-b388-4bab-8c11-b7438d4f02cd",
        "colab": {
          "base_uri": "https://localhost:8080/"
        }
      },
      "outputs": [
        {
          "output_type": "stream",
          "name": "stdout",
          "text": [
            "20\n",
            "23\n",
            "28\n",
            "17\n"
          ]
        }
      ],
      "source": [
        "for value in edades.values():   #values() Da una lista con los valores del diccionario\n",
        "    print(value)"
      ],
      "id": "4YlwK7xAHj5V"
    },
    {
      "cell_type": "code",
      "execution_count": null,
      "metadata": {
        "id": "uRah2hk2Hj5X",
        "outputId": "24843c64-179e-4315-9250-a5bcc80424a1",
        "colab": {
          "base_uri": "https://localhost:8080/"
        }
      },
      "outputs": [
        {
          "output_type": "stream",
          "name": "stdout",
          "text": [
            "('Ana', 20)\n",
            "('Jose', 23)\n",
            "('Luis', 28)\n",
            "('Marta', 17)\n"
          ]
        }
      ],
      "source": [
        "for item in edades.items():      #items() Da una lista con tupla para cada par clave-valor\n",
        "    print(item)"
      ],
      "id": "uRah2hk2Hj5X"
    },
    {
      "cell_type": "code",
      "execution_count": null,
      "metadata": {
        "id": "-5T4BCxoHj5Y",
        "outputId": "b8c2d93b-a98c-4e61-ddaf-df34233cf386",
        "colab": {
          "base_uri": "https://localhost:8080/"
        }
      },
      "outputs": [
        {
          "output_type": "stream",
          "name": "stdout",
          "text": [
            "Ana tiene 20 años.\n",
            "Jose tiene 23 años.\n",
            "Luis tiene 28 años.\n",
            "Marta tiene 17 años.\n"
          ]
        }
      ],
      "source": [
        "for k,v in edades.items():\n",
        "    print(\"{} tiene {} años.\".format(k,v))"
      ],
      "id": "-5T4BCxoHj5Y"
    },
    {
      "cell_type": "markdown",
      "metadata": {
        "id": "DtDUX7nnHj5Z"
      },
      "source": [
        "## Lista de diccionarios"
      ],
      "id": "DtDUX7nnHj5Z"
    },
    {
      "cell_type": "code",
      "execution_count": 1,
      "metadata": {
        "id": "VXzSmr8jHj5a",
        "outputId": "790fc713-e296-4c21-816b-6250ee3acf13",
        "colab": {
          "base_uri": "https://localhost:8080/"
        }
      },
      "outputs": [
        {
          "output_type": "execute_result",
          "data": {
            "text/plain": [
              "[{'facturación': 23344,\n",
              "  'nombre': 'Mercadona',\n",
              "  'sector': 'comercio',\n",
              "  'sede': 'Valencia'},\n",
              " {'facturación': 21271,\n",
              "  'nombre': 'Repsol',\n",
              "  'sector': 'refino',\n",
              "  'sede': 'Madrid'},\n",
              " {'facturación': 18307,\n",
              "  'nombre': 'CEPSA',\n",
              "  'sector': 'refino',\n",
              "  'sede': 'Madrid'},\n",
              " {'facturación': 18261,\n",
              "  'nombre': 'Inditex',\n",
              "  'sector': 'textil',\n",
              "  'sede': 'Coruña'}]"
            ]
          },
          "metadata": {},
          "execution_count": 1
        }
      ],
      "source": [
        "m = {\"nombre\":\"Mercadona\", \"facturación\":23344, \"sector\":\"comercio\", \"sede\":\"Valencia\"}\n",
        "r = {\"nombre\":\"Repsol\", \"facturación\":21271, \"sector\":\"refino\", \"sede\":\"Madrid\"}\n",
        "c = {\"nombre\":\"CEPSA\", \"facturación\":18307, \"sector\":\"refino\", \"sede\":\"Madrid\"}\n",
        "i = {\"nombre\":\"Inditex\", \"facturación\":18261, \"sector\":\"textil\", \"sede\":\"Coruña\"}\n",
        "empresas = [m,r,c,i]\n",
        "empresas"
      ],
      "id": "VXzSmr8jHj5a"
    },
    {
      "cell_type": "markdown",
      "metadata": {
        "id": "1kSArH6RHj5a"
      },
      "source": [
        "La salida anterior tiene formato de fichero JSON. Podemos visualizarlo un poco mejor en páginas como:  \n",
        "[http://jsonviewer.stack.hu](http://jsonviewer.stack.hu)  \n",
        "Podemos validar el formato JSON en la siguiente página:  \n",
        "[https://jsonformatter.curiousconcept.com](https://jsonformatter.curiousconcept.com)"
      ],
      "id": "1kSArH6RHj5a"
    },
    {
      "cell_type": "code",
      "execution_count": 2,
      "metadata": {
        "id": "tjMgtGOfHj5b",
        "outputId": "eead9d4c-1575-48c6-9bd8-0fdb28517f85",
        "colab": {
          "base_uri": "https://localhost:8080/"
        }
      },
      "outputs": [
        {
          "output_type": "stream",
          "name": "stdout",
          "text": [
            "Mercadona comercio Valencia\n",
            "Repsol refino Madrid\n",
            "CEPSA refino Madrid\n",
            "Inditex textil Coruña\n"
          ]
        }
      ],
      "source": [
        "for empresa in empresas:                                         # con un for imprimimos los valores\n",
        "    print(empresa['nombre'],empresa['sector'],empresa['sede'])"
      ],
      "id": "tjMgtGOfHj5b"
    },
    {
      "cell_type": "markdown",
      "metadata": {
        "id": "w_W6gm2NHj5c"
      },
      "source": [
        "### Mostrando valores con tabulate\n",
        "Existe una librería que nos permite imprimir dando un formato de tabla.  \n",
        "Posiblemente tengamos que instalar la librería con el gestor de paquetes **pip**."
      ],
      "id": "w_W6gm2NHj5c"
    },
    {
      "cell_type": "code",
      "execution_count": 3,
      "metadata": {
        "id": "_SHDBkHuHj5d",
        "outputId": "4cd8d84c-e798-464f-fa00-560192b496a0",
        "colab": {
          "base_uri": "https://localhost:8080/"
        }
      },
      "outputs": [
        {
          "output_type": "stream",
          "name": "stdout",
          "text": [
            "Requirement already satisfied: tabulate in /usr/local/lib/python3.7/dist-packages (0.8.9)\n"
          ]
        }
      ],
      "source": [
        "# instalando la librería tabulate con pip\n",
        "!pip install tabulate   # o bien con:  !apt install pip   # para un sistema Linux tipo Debian\n",
        "# instalando la librería tabulate con conda, si estamos trabajando con Anaconda\n",
        "#conda install tabulate"
      ],
      "id": "_SHDBkHuHj5d"
    },
    {
      "cell_type": "code",
      "execution_count": 4,
      "metadata": {
        "id": "Rlf5iCjtHj5e",
        "outputId": "8e257553-ef45-4a77-c8d8-1bc25dde1f11",
        "colab": {
          "base_uri": "https://localhost:8080/"
        }
      },
      "outputs": [
        {
          "output_type": "stream",
          "name": "stdout",
          "text": [
            "---------  -----  --------  --------\n",
            "Mercadona  23344  comercio  Valencia\n",
            "Repsol     21271  refino    Madrid\n",
            "CEPSA      18307  refino    Madrid\n",
            "Inditex    18261  textil    Coruña\n",
            "---------  -----  --------  --------\n"
          ]
        }
      ],
      "source": [
        "from tabulate import tabulate\n",
        "print(tabulate(empresas))"
      ],
      "id": "Rlf5iCjtHj5e"
    },
    {
      "cell_type": "markdown",
      "metadata": {
        "id": "dNaRhCq5Hj5f"
      },
      "source": [
        "#### Mostrando la cabecera"
      ],
      "id": "dNaRhCq5Hj5f"
    },
    {
      "cell_type": "code",
      "execution_count": 5,
      "metadata": {
        "id": "w6pt8nvLHj5f",
        "outputId": "a0cf4e6a-2e5d-4c98-a706-a920b1d5e5b4",
        "colab": {
          "base_uri": "https://localhost:8080/"
        }
      },
      "outputs": [
        {
          "output_type": "stream",
          "name": "stdout",
          "text": [
            "nombre       facturación  sector    sede\n",
            "---------  -------------  --------  --------\n",
            "Mercadona          23344  comercio  Valencia\n",
            "Repsol             21271  refino    Madrid\n",
            "CEPSA              18307  refino    Madrid\n",
            "Inditex            18261  textil    Coruña\n"
          ]
        }
      ],
      "source": [
        "header = empresas[0].keys()\n",
        "rows =  [x.values() for x in empresas]\n",
        "print(tabulate(rows, header))"
      ],
      "id": "w6pt8nvLHj5f"
    },
    {
      "cell_type": "markdown",
      "metadata": {
        "id": "29-w3MsSHj5g"
      },
      "source": [
        "### Usando Pandas\n",
        "Pandas es una potente librería muy utilizada para el manejo de dataset.  \n",
        "En esta ocasión vamos a mostrar los datos en forma de DataFrame."
      ],
      "id": "29-w3MsSHj5g"
    },
    {
      "cell_type": "code",
      "execution_count": 7,
      "metadata": {
        "id": "Av1yhXhsHj5h",
        "outputId": "0cfa60ae-bcc7-41bb-ae3e-fc4c4bde385c",
        "colab": {
          "base_uri": "https://localhost:8080/",
          "height": 175
        }
      },
      "outputs": [
        {
          "output_type": "execute_result",
          "data": {
            "text/plain": [
              "      nombre  facturación    sector      sede\n",
              "0  Mercadona        23344  comercio  Valencia\n",
              "1     Repsol        21271    refino    Madrid\n",
              "2      CEPSA        18307    refino    Madrid\n",
              "3    Inditex        18261    textil    Coruña"
            ],
            "text/html": [
              "\n",
              "  <div id=\"df-c3836d7b-d47e-4920-b2ca-5d61532f68fc\">\n",
              "    <div class=\"colab-df-container\">\n",
              "      <div>\n",
              "<style scoped>\n",
              "    .dataframe tbody tr th:only-of-type {\n",
              "        vertical-align: middle;\n",
              "    }\n",
              "\n",
              "    .dataframe tbody tr th {\n",
              "        vertical-align: top;\n",
              "    }\n",
              "\n",
              "    .dataframe thead th {\n",
              "        text-align: right;\n",
              "    }\n",
              "</style>\n",
              "<table border=\"1\" class=\"dataframe\">\n",
              "  <thead>\n",
              "    <tr style=\"text-align: right;\">\n",
              "      <th></th>\n",
              "      <th>nombre</th>\n",
              "      <th>facturación</th>\n",
              "      <th>sector</th>\n",
              "      <th>sede</th>\n",
              "    </tr>\n",
              "  </thead>\n",
              "  <tbody>\n",
              "    <tr>\n",
              "      <th>0</th>\n",
              "      <td>Mercadona</td>\n",
              "      <td>23344</td>\n",
              "      <td>comercio</td>\n",
              "      <td>Valencia</td>\n",
              "    </tr>\n",
              "    <tr>\n",
              "      <th>1</th>\n",
              "      <td>Repsol</td>\n",
              "      <td>21271</td>\n",
              "      <td>refino</td>\n",
              "      <td>Madrid</td>\n",
              "    </tr>\n",
              "    <tr>\n",
              "      <th>2</th>\n",
              "      <td>CEPSA</td>\n",
              "      <td>18307</td>\n",
              "      <td>refino</td>\n",
              "      <td>Madrid</td>\n",
              "    </tr>\n",
              "    <tr>\n",
              "      <th>3</th>\n",
              "      <td>Inditex</td>\n",
              "      <td>18261</td>\n",
              "      <td>textil</td>\n",
              "      <td>Coruña</td>\n",
              "    </tr>\n",
              "  </tbody>\n",
              "</table>\n",
              "</div>\n",
              "      <button class=\"colab-df-convert\" onclick=\"convertToInteractive('df-c3836d7b-d47e-4920-b2ca-5d61532f68fc')\"\n",
              "              title=\"Convert this dataframe to an interactive table.\"\n",
              "              style=\"display:none;\">\n",
              "        \n",
              "  <svg xmlns=\"http://www.w3.org/2000/svg\" height=\"24px\"viewBox=\"0 0 24 24\"\n",
              "       width=\"24px\">\n",
              "    <path d=\"M0 0h24v24H0V0z\" fill=\"none\"/>\n",
              "    <path d=\"M18.56 5.44l.94 2.06.94-2.06 2.06-.94-2.06-.94-.94-2.06-.94 2.06-2.06.94zm-11 1L8.5 8.5l.94-2.06 2.06-.94-2.06-.94L8.5 2.5l-.94 2.06-2.06.94zm10 10l.94 2.06.94-2.06 2.06-.94-2.06-.94-.94-2.06-.94 2.06-2.06.94z\"/><path d=\"M17.41 7.96l-1.37-1.37c-.4-.4-.92-.59-1.43-.59-.52 0-1.04.2-1.43.59L10.3 9.45l-7.72 7.72c-.78.78-.78 2.05 0 2.83L4 21.41c.39.39.9.59 1.41.59.51 0 1.02-.2 1.41-.59l7.78-7.78 2.81-2.81c.8-.78.8-2.07 0-2.86zM5.41 20L4 18.59l7.72-7.72 1.47 1.35L5.41 20z\"/>\n",
              "  </svg>\n",
              "      </button>\n",
              "      \n",
              "  <style>\n",
              "    .colab-df-container {\n",
              "      display:flex;\n",
              "      flex-wrap:wrap;\n",
              "      gap: 12px;\n",
              "    }\n",
              "\n",
              "    .colab-df-convert {\n",
              "      background-color: #E8F0FE;\n",
              "      border: none;\n",
              "      border-radius: 50%;\n",
              "      cursor: pointer;\n",
              "      display: none;\n",
              "      fill: #1967D2;\n",
              "      height: 32px;\n",
              "      padding: 0 0 0 0;\n",
              "      width: 32px;\n",
              "    }\n",
              "\n",
              "    .colab-df-convert:hover {\n",
              "      background-color: #E2EBFA;\n",
              "      box-shadow: 0px 1px 2px rgba(60, 64, 67, 0.3), 0px 1px 3px 1px rgba(60, 64, 67, 0.15);\n",
              "      fill: #174EA6;\n",
              "    }\n",
              "\n",
              "    [theme=dark] .colab-df-convert {\n",
              "      background-color: #3B4455;\n",
              "      fill: #D2E3FC;\n",
              "    }\n",
              "\n",
              "    [theme=dark] .colab-df-convert:hover {\n",
              "      background-color: #434B5C;\n",
              "      box-shadow: 0px 1px 3px 1px rgba(0, 0, 0, 0.15);\n",
              "      filter: drop-shadow(0px 1px 2px rgba(0, 0, 0, 0.3));\n",
              "      fill: #FFFFFF;\n",
              "    }\n",
              "  </style>\n",
              "\n",
              "      <script>\n",
              "        const buttonEl =\n",
              "          document.querySelector('#df-c3836d7b-d47e-4920-b2ca-5d61532f68fc button.colab-df-convert');\n",
              "        buttonEl.style.display =\n",
              "          google.colab.kernel.accessAllowed ? 'block' : 'none';\n",
              "\n",
              "        async function convertToInteractive(key) {\n",
              "          const element = document.querySelector('#df-c3836d7b-d47e-4920-b2ca-5d61532f68fc');\n",
              "          const dataTable =\n",
              "            await google.colab.kernel.invokeFunction('convertToInteractive',\n",
              "                                                     [key], {});\n",
              "          if (!dataTable) return;\n",
              "\n",
              "          const docLinkHtml = 'Like what you see? Visit the ' +\n",
              "            '<a target=\"_blank\" href=https://colab.research.google.com/notebooks/data_table.ipynb>data table notebook</a>'\n",
              "            + ' to learn more about interactive tables.';\n",
              "          element.innerHTML = '';\n",
              "          dataTable['output_type'] = 'display_data';\n",
              "          await google.colab.output.renderOutput(dataTable, element);\n",
              "          const docLink = document.createElement('div');\n",
              "          docLink.innerHTML = docLinkHtml;\n",
              "          element.appendChild(docLink);\n",
              "        }\n",
              "      </script>\n",
              "    </div>\n",
              "  </div>\n",
              "  "
            ]
          },
          "metadata": {},
          "execution_count": 7
        }
      ],
      "source": [
        "import pandas as pd\n",
        "pd.DataFrame(empresas)                # empresas es el dataset"
      ],
      "id": "Av1yhXhsHj5h"
    },
    {
      "cell_type": "markdown",
      "metadata": {
        "id": "AktXVB4qHj5h"
      },
      "source": [
        "### Ejercicio\n",
        "Investigar la importancia de los formatos **JSON** en:\n",
        "- el tratamiento de datos\n",
        "- la compartición de información entre aplicaciones\n",
        "- las bases de datos no relacionales (noSQL), ejemplo MongoDB, que usa BSON, similar a JSON pero admite binarios  \n",
        "¿Se podría convertir una tabla disponible en Excel en un fichero JSON?"
      ],
      "id": "AktXVB4qHj5h"
    }
  ],
  "metadata": {
    "kernelspec": {
      "display_name": "Python 3",
      "language": "python",
      "name": "python3"
    },
    "language_info": {
      "codemirror_mode": {
        "name": "ipython",
        "version": 3
      },
      "file_extension": ".py",
      "mimetype": "text/x-python",
      "name": "python",
      "nbconvert_exporter": "python",
      "pygments_lexer": "ipython3",
      "version": "3.8.5"
    },
    "colab": {
      "name": "0510_diccionarios_con_estructuras.ipynb",
      "provenance": [],
      "include_colab_link": true
    }
  },
  "nbformat": 4,
  "nbformat_minor": 5
}
