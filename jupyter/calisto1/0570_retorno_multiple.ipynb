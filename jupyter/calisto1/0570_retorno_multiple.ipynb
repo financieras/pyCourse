{
  "cells": [
    {
      "cell_type": "markdown",
      "metadata": {
        "id": "view-in-github",
        "colab_type": "text"
      },
      "source": [
        "<a href=\"https://colab.research.google.com/github/financieras/pyCourse/blob/main/jupyter/calisto1_0570.ipynb\" target=\"_parent\"><img src=\"https://colab.research.google.com/assets/colab-badge.svg\" alt=\"Open In Colab\"/></a>"
      ]
    },
    {
      "cell_type": "markdown",
      "metadata": {
        "id": "4xa6YPRFGVQB"
      },
      "source": [
        "# Funciones con retorno múltiple"
      ],
      "id": "4xa6YPRFGVQB"
    },
    {
      "cell_type": "markdown",
      "metadata": {
        "id": "1Kw2h8tBGVQE"
      },
      "source": [
        "Se devuelve una tupla."
      ],
      "id": "1Kw2h8tBGVQE"
    },
    {
      "cell_type": "code",
      "execution_count": null,
      "metadata": {
        "id": "vE0thz2eGVQE",
        "outputId": "bd2e2eda-517f-4b70-a761-c58df0523ad4"
      },
      "outputs": [
        {
          "name": "stdout",
          "output_type": "stream",
          "text": [
            "(10, 15)\n"
          ]
        }
      ],
      "source": [
        "def multi(x):\n",
        "    doble = 2 * x\n",
        "    triple = 3 * x\n",
        "    return (doble, triple)\n",
        "print(multi(5))           # (10, 15)    retorna una tupla"
      ],
      "id": "vE0thz2eGVQE"
    },
    {
      "cell_type": "markdown",
      "metadata": {
        "id": "ldxbylc7GVQF"
      },
      "source": [
        "Podemos asignar la tupla retornada a otra o a variables independientes."
      ],
      "id": "ldxbylc7GVQF"
    },
    {
      "cell_type": "code",
      "execution_count": null,
      "metadata": {
        "id": "3kw8GOkjGVQG",
        "outputId": "b2575975-b939-402e-f077-134f7a06ef34"
      },
      "outputs": [
        {
          "name": "stdout",
          "output_type": "stream",
          "text": [
            "(8, 12)\n",
            "12\n"
          ]
        }
      ],
      "source": [
        "(a,b) = multi(4)          # podemos asignar la tupla retornada a una con variables independientes\n",
        "#a,b = multi(4)           # sin los paréntesis también funciona\n",
        "print((a, b))             # (8, 12)\n",
        "print(b)                  # las variables asignadas son independientes"
      ],
      "id": "3kw8GOkjGVQG"
    },
    {
      "cell_type": "code",
      "execution_count": null,
      "metadata": {
        "id": "F49kS1n4GVQG",
        "outputId": "56febe52-bdb1-44b9-a01f-f8d5e6707b86"
      },
      "outputs": [
        {
          "name": "stdout",
          "output_type": "stream",
          "text": [
            "a = 8\n",
            "b = 12\n"
          ]
        }
      ],
      "source": [
        "print(\"a =\", a)\n",
        "print(\"b =\", b)"
      ],
      "id": "F49kS1n4GVQG"
    },
    {
      "cell_type": "code",
      "execution_count": null,
      "metadata": {
        "id": "BMeIgQNnGVQH",
        "outputId": "e15dcd9b-24e7-4690-9e7e-7e98daf330cc"
      },
      "outputs": [
        {
          "name": "stdout",
          "output_type": "stream",
          "text": [
            "<class 'tuple'>\n"
          ]
        }
      ],
      "source": [
        "print(type((a, b)))        # (a, b) es una tupla"
      ],
      "id": "BMeIgQNnGVQH"
    },
    {
      "cell_type": "markdown",
      "metadata": {
        "id": "6bJJS4EWGVQH"
      },
      "source": [
        "## Convertir segundos en horas, minutos, segundos\n",
        "Queremos saber cuántas horas, minutos y segundo hay en un número determinado de segundos, por ejemplo, en 100.000 segundos."
      ],
      "id": "6bJJS4EWGVQH"
    },
    {
      "cell_type": "code",
      "execution_count": null,
      "metadata": {
        "id": "6DE4k3VzGVQH",
        "outputId": "0909af80-a998-4316-f02e-2c0d33c14f15"
      },
      "outputs": [
        {
          "name": "stdout",
          "output_type": "stream",
          "text": [
            "(27, 46, 40)\n"
          ]
        }
      ],
      "source": [
        "def tiempo(seg):\n",
        "    h = int(seg / 3600)\n",
        "    m = int((seg % 3600) / 60)\n",
        "    s = (seg % 3600 ) % 60\n",
        "    return (h, m, s)\n",
        "print(tiempo(100000))        #(27, 46, 40)"
      ],
      "id": "6DE4k3VzGVQH"
    },
    {
      "cell_type": "markdown",
      "metadata": {
        "id": "605tTya7GVQI"
      },
      "source": [
        "**Ejercicio**  \n",
        "Incluya los días."
      ],
      "id": "605tTya7GVQI"
    }
  ],
  "metadata": {
    "kernelspec": {
      "display_name": "Python 3",
      "language": "python",
      "name": "python3"
    },
    "language_info": {
      "codemirror_mode": {
        "name": "ipython",
        "version": 3
      },
      "file_extension": ".py",
      "mimetype": "text/x-python",
      "name": "python",
      "nbconvert_exporter": "python",
      "pygments_lexer": "ipython3",
      "version": "3.8.5"
    },
    "colab": {
      "name": "0570_retorno_multiple.ipynb",
      "provenance": [],
      "include_colab_link": true
    }
  },
  "nbformat": 4,
  "nbformat_minor": 5
}
