{
  "nbformat": 4,
  "nbformat_minor": 0,
  "metadata": {
    "colab": {
      "provenance": [],
      "authorship_tag": "ABX9TyO+rRc8C6q4OL2DBC4jrStX",
      "include_colab_link": true
    },
    "kernelspec": {
      "name": "python3",
      "display_name": "Python 3"
    },
    "language_info": {
      "name": "python"
    }
  },
  "cells": [
    {
      "cell_type": "markdown",
      "metadata": {
        "id": "view-in-github",
        "colab_type": "text"
      },
      "source": [
        "<a href=\"https://colab.research.google.com/github/financieras/pyCourse/blob/main/jupyter/calisto1/calisto1_0780.ipynb\" target=\"_parent\"><img src=\"https://colab.research.google.com/assets/colab-badge.svg\" alt=\"Open In Colab\"/></a>"
      ]
    },
    {
      "cell_type": "markdown",
      "source": [
        "# Anotaciones de tipo\n",
        "Las anotaciones de tipo pueden ser usadas a partir de la versión 3.6 de Python."
      ],
      "metadata": {
        "id": "SIykusfdSU4u"
      }
    },
    {
      "cell_type": "markdown",
      "source": [
        "* Es una buena práctica en Python especificar el tipo de variable que se está utilizando en una función.\n",
        "* Esto se conoce como **anotación de tipo** y se utiliza para mejorar la legibilidad del código y para ayudar a detectar errores."
      ],
      "metadata": {
        "id": "5t3aiDGZR5Rn"
      }
    },
    {
      "cell_type": "markdown",
      "source": [
        "## Declarar e inicializar variables"
      ],
      "metadata": {
        "id": "v7N5AXDTWRbN"
      }
    },
    {
      "cell_type": "code",
      "source": [
        "a : int = 2\n",
        "b : float = 4.3\n",
        "c : bool = True\n",
        "d : str = 'Python'\n",
        "\n",
        "# Variable sin inicializar\n",
        "x : int"
      ],
      "metadata": {
        "id": "zpKK65pKT103"
      },
      "execution_count": null,
      "outputs": []
    },
    {
      "cell_type": "markdown",
      "source": [
        "## Función de un parámetro\n",
        "* Las anotaciones de tipo se realizan mediante la adición de dos puntos (:) después del nombre del parámetro y el tipo de variable que se está utilizando."
      ],
      "metadata": {
        "id": "5fuF0DXZWFkk"
      }
    },
    {
      "cell_type": "markdown",
      "source": [
        "En el caso de una función también se puede indicar el tipo de variable que se retorna."
      ],
      "metadata": {
        "id": "Ea7zSFTtVIml"
      }
    },
    {
      "cell_type": "code",
      "source": [
        "def saludar(nombre: str) -> str:\n",
        "    return \"¡Hola, \" + nombre + \"!\"\n",
        "\n",
        "print(saludar(\"Juan\"))"
      ],
      "metadata": {
        "id": "jTk980QnV8_H"
      },
      "execution_count": null,
      "outputs": []
    },
    {
      "cell_type": "markdown",
      "source": [
        "## Función de dos parámetros"
      ],
      "metadata": {
        "id": "bGOlBbklV-b5"
      }
    },
    {
      "cell_type": "code",
      "execution_count": null,
      "metadata": {
        "id": "RVxNx3m4pcGI"
      },
      "outputs": [],
      "source": [
        "def es_mayor_de_edad(nombre: str, edad: int) -> bool:\n",
        "    if edad >= 18:\n",
        "        return True\n",
        "    else:\n",
        "        return False\n",
        "\n",
        "print(es_mayor_de_edad(\"Juan\", 20))"
      ]
    },
    {
      "cell_type": "markdown",
      "source": [
        "## Números primos\n",
        "* Las anotaciones de tipo en Python son una forma de especificar el tipo de datos que se espera que tenga una variable.\n",
        "* En el ejemplo, la línea de código `primes: List[int] = []` indica que la variable `primes` es una lista de enteros.\n",
        "* La sintaxis `List[int]` se refiere a la clase `List` del módulo `typing`, que es una forma de especificar el tipo de datos que se espera que tenga la lista.\n",
        "* El tipo de datos entre corchetes `int` indica el tipo de dato que se espera que tenga cada elemento de la lista.\n",
        "* La función `List` de la librería `typing` en Python se utiliza para especificar el tipo de datos que una lista contendrá.\n",
        "* Por ejemplo, si se desea crear una lista que contenga solo números enteros, se puede utilizar la sintaxis `List[int]`.\n",
        "* En este ejemplo, la función `get_primes` recibe un número entero `n` y devuelve una lista con todos los números primos menores o iguales a `n`.\n",
        "* La variable `primes` es una lista vacía al principio y se van agregando los números primos a medida que se encuentran."
      ],
      "metadata": {
        "id": "oCKYc3MiMMm9"
      }
    },
    {
      "cell_type": "code",
      "source": [
        "from typing import List\n",
        "\n",
        "def get_primes(n: int) -> List[int]:\n",
        "    primes: List[int] = [2]\n",
        "    for i in range(3, n+1, 2):\n",
        "        is_prime = True\n",
        "        for j in range(3, int(i**.5)+1, 2):\n",
        "            if i % j == 0:\n",
        "                is_prime = False\n",
        "                break\n",
        "        if is_prime:\n",
        "            primes.append(i)\n",
        "    return primes\n",
        "\n",
        "print(get_primes(1_000))"
      ],
      "metadata": {
        "id": "bYYNHq9LMSJO",
        "outputId": "75b22e26-8b44-4297-dea0-55d4b0327223",
        "colab": {
          "base_uri": "https://localhost:8080/"
        }
      },
      "execution_count": 16,
      "outputs": [
        {
          "output_type": "stream",
          "name": "stdout",
          "text": [
            "[2, 3, 5, 7, 11, 13, 17, 19, 23, 29, 31, 37, 41, 43, 47, 53, 59, 61, 67, 71, 73, 79, 83, 89, 97, 101, 103, 107, 109, 113, 127, 131, 137, 139, 149, 151, 157, 163, 167, 173, 179, 181, 191, 193, 197, 199, 211, 223, 227, 229, 233, 239, 241, 251, 257, 263, 269, 271, 277, 281, 283, 293, 307, 311, 313, 317, 331, 337, 347, 349, 353, 359, 367, 373, 379, 383, 389, 397, 401, 409, 419, 421, 431, 433, 439, 443, 449, 457, 461, 463, 467, 479, 487, 491, 499, 503, 509, 521, 523, 541, 547, 557, 563, 569, 571, 577, 587, 593, 599, 601, 607, 613, 617, 619, 631, 641, 643, 647, 653, 659, 661, 673, 677, 683, 691, 701, 709, 719, 727, 733, 739, 743, 751, 757, 761, 769, 773, 787, 797, 809, 811, 821, 823, 827, 829, 839, 853, 857, 859, 863, 877, 881, 883, 887, 907, 911, 919, 929, 937, 941, 947, 953, 967, 971, 977, 983, 991, 997]\n"
          ]
        }
      ]
    },
    {
      "cell_type": "markdown",
      "source": [
        "## Sucesión de Fibonacci\n",
        "* Usando recursividad y memoización.\n",
        "* La función `fibonacci()` retorna una lista con todos los números de la sucesión de Fibonacci hasta el n indicado, donde el primer valor es 0 y el segundo es 1.\n",
        "* La condición base de la recursión es que si `n` es igual a 1, entonces la función devuelve una lista con el número 0.\n",
        "* Si `n` es igual a 2, entonces la función devuelve una lista con los números 0 y 1.\n",
        "* De lo contrario, la función se llama a sí misma con el argumento `n-1`, y agrega el siguiente número de Fibonacci a la lista.\n",
        "* La función `fibonacci()` ahora utiliza decoradores para memoización y recursividad.\n",
        "* El decorador `@lru_cache` permite que los resultados de la función se almacenen en caché, lo que reduce el tiempo de ejecución de la función."
      ],
      "metadata": {
        "id": "cUPQ-6FBVZZ1"
      }
    },
    {
      "cell_type": "code",
      "source": [
        "from functools import lru_cache\n",
        "\n",
        "@lru_cache(maxsize=None)\n",
        "def fibonacci(n:int) -> list[int]:\n",
        "    if n == 1:\n",
        "        return [0]\n",
        "    elif n == 2:\n",
        "        return [0, 1]\n",
        "    else:\n",
        "        fib = fibonacci(n-1)\n",
        "        fib.append(fib[-1] + fib[-2])\n",
        "        return fib\n",
        "\n",
        "fibonacci(19)"
      ],
      "metadata": {
        "id": "opmXdbb5VkVM",
        "outputId": "16294b26-f373-496b-bf91-47d311ad99bf",
        "colab": {
          "base_uri": "https://localhost:8080/"
        }
      },
      "execution_count": 23,
      "outputs": [
        {
          "output_type": "execute_result",
          "data": {
            "text/plain": [
              "[0, 1, 1, 2, 3, 5, 8, 13, 21, 34, 55, 89, 144, 233, 377, 610, 987, 1597, 2584]"
            ]
          },
          "metadata": {},
          "execution_count": 23
        }
      ]
    },
    {
      "cell_type": "markdown",
      "source": [
        "## Usar `List``\n",
        "* La diferencia entre usar las anotaciones de tipo en Python con y sin poner from `typing import List` es que si no se importa `List` desde el módulo `typing`, entonces no se puede usar la sintaxis `List[T]` para especificar una lista de elementos de tipo T. En su lugar, se debe usar la sintaxis `List` directamente. \n",
        "* En este ejemplo, la función `suma_pares()` recibe una lista de números enteros y devuelve la suma de los números pares. La anotación de tipo `List[int]` se usa para especificar que el argumento numeros es una lista de números enteros. La anotación de tipo `int` se usa para especificar que el valor de retorno es un número entero."
      ],
      "metadata": {
        "id": "n0rgtlwhYHEp"
      }
    },
    {
      "cell_type": "markdown",
      "source": [
        "### Usando librería"
      ],
      "metadata": {
        "id": "vY2SkGldaBFH"
      }
    },
    {
      "cell_type": "code",
      "source": [
        "from typing import List\n",
        "\n",
        "def suma_pares(numeros: List[int]) -> int:\n",
        "    \"\"\"\n",
        "    Esta función recibe una lista de números enteros y devuelve la suma de los números pares.\n",
        "    \"\"\"\n",
        "    return sum([n for n in numeros if n % 2 == 0])\n",
        "\n",
        "suma_pares([1,2,3,4,5,6])"
      ],
      "metadata": {
        "id": "uVjFWw7ZYnqM",
        "outputId": "4c3b512e-c8cc-4381-9ee0-9717816b1903",
        "colab": {
          "base_uri": "https://localhost:8080/"
        }
      },
      "execution_count": 27,
      "outputs": [
        {
          "output_type": "execute_result",
          "data": {
            "text/plain": [
              "12"
            ]
          },
          "metadata": {},
          "execution_count": 27
        }
      ]
    },
    {
      "cell_type": "markdown",
      "source": [
        "### Sin usar librería\n",
        "* En este ejemplo, la anotación de tipo `list[int]` se usa para especificar que el argumento numeros es una lista de números enteros.\n",
        "* La anotación de tipo `int` se usa para especificar que el valor de retorno es un número entero."
      ],
      "metadata": {
        "id": "fFE4OoyvZ9zr"
      }
    },
    {
      "cell_type": "code",
      "source": [
        "def suma_pares(numeros: list[int]) -> int:\n",
        "    \"\"\"\n",
        "    Esta función recibe una lista de números enteros y devuelve la suma de los números pares.\n",
        "    \"\"\"\n",
        "    return sum([n for n in numeros if n % 2 == 0])\n",
        "\n",
        "suma_pares([1,2,3,4,5,6])"
      ],
      "metadata": {
        "id": "u72ekVQqZ0Vy",
        "outputId": "b2f0679a-2ea4-4066-cc10-49e1f09005ee",
        "colab": {
          "base_uri": "https://localhost:8080/"
        }
      },
      "execution_count": 28,
      "outputs": [
        {
          "output_type": "execute_result",
          "data": {
            "text/plain": [
              "12"
            ]
          },
          "metadata": {},
          "execution_count": 28
        }
      ]
    }
  ]
}