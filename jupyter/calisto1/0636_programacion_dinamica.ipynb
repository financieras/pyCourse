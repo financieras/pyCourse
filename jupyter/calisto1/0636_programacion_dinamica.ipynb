{
  "nbformat": 4,
  "nbformat_minor": 0,
  "metadata": {
    "colab": {
      "provenance": [],
      "authorship_tag": "ABX9TyO11hGU4eF78IYxqFCvWazD",
      "include_colab_link": true
    },
    "kernelspec": {
      "name": "python3",
      "display_name": "Python 3"
    },
    "language_info": {
      "name": "python"
    }
  },
  "cells": [
    {
      "cell_type": "markdown",
      "metadata": {
        "id": "view-in-github",
        "colab_type": "text"
      },
      "source": [
        "<a href=\"https://colab.research.google.com/github/financieras/pyCourse/blob/main/jupyter/calisto1/0636_programacion_dinamica.ipynb\" target=\"_parent\"><img src=\"https://colab.research.google.com/assets/colab-badge.svg\" alt=\"Open In Colab\"/></a>"
      ]
    },
    {
      "cell_type": "markdown",
      "source": [
        "# Programación dinámica\n",
        "La recursividad nos proporciona código elegante pero tiene dos inconvenientes:\n",
        "\n",
        "\n",
        "1.   La pila (stack) es limitada y llegado cierto punto se produce desbordamiento (stack overflow)\n",
        "2.   Habitualmente el código con recursividad repite llamadas a la función que ya se han realizado previamente, alargando los tiempos de ejecución inecesariametne.\n",
        "\n",
        "En ocasiones los procedimientos resueltos con recursividad son lentos por esa repetición de procesos y tiene un límite de pila.\n",
        "\n"
      ],
      "metadata": {
        "id": "imcStN3R4TYT"
      }
    },
    {
      "cell_type": "markdown",
      "source": [
        "## Factorial\n",
        "Veamos el caso del Factorial resuelto con recursividad y con programación dinámica."
      ],
      "metadata": {
        "id": "e936ZuJz5hvk"
      }
    },
    {
      "cell_type": "markdown",
      "source": [
        "### Factorial con recursividad"
      ],
      "metadata": {
        "id": "TljrW95X5ktP"
      }
    },
    {
      "cell_type": "code",
      "execution_count": 4,
      "metadata": {
        "id": "wD8_P0vq4PaP",
        "outputId": "1e5f324b-6503-4619-8373-f27c7757091d",
        "colab": {
          "base_uri": "https://localhost:8080/"
        }
      },
      "outputs": [
        {
          "output_type": "execute_result",
          "data": {
            "text/plain": [
              "963506170965083130752749020132679046843254405809438907781336703820394438604127249454109623889701106950379117503604474886157397916518990877555319520509209121458749968664439703801179380200891994781974594848464842120162691929194155219411690443497622808832224065074343657574742171109968309745891530122298521077456001852818541396538927035116654446437768269601711683438092698006116097838183844080184051899808835253707212762418877084709092558381454051293237657195015723272332788169418090603642843458715462942384291389887746069212650686145847361000757816260570324238415687242504201830656733002192809197351535615773025123920029644336075605216301185188529589726197044210424193794427914327269606126426253959019559278654312350578256542533918344828659368032459857747885757358803195190478933533720491143016398832205487951426258598476178060838549453135920358916002805158662189662206358396888501996830781292868044495825726803558164111654162823368603032864306908312077038246460400395339746890403923096116866791566513826318681668124888581328069967832692444117638658825398455875847130526421545261500075514910480924570663436596186353500172921151605797504570529159690443867760825864155108874087103521863252367289726009155036795892702445989802704316519329897128358282555192678128275816550944215957639958742205637716519906701357277278105424216667643989428440752488282204776606244853276650325094204470435372119524848250206349779056675273220215021231851255038960148989739946666877223398705050646965788795982924946695469052583129725629872149430818561099597297388140290627406805387588456449417655907400213236418616711691343828496810024682826781561821399869648185314314081920173557289620960460374589138029815784721662164757652876662401203796373083875171378720532968709694326440135226598929839359130810346860677756196192852582906041989830857152996711642152583572966411519751748129665030278747952625834384532265199894486855578644770932934721935013469505499951629467604127830436187618357280416146273262864638018543673792422585158018124274579108792130358748274247185330833071142528025006089234690481362572483207225917336528590351424426534029614145665086538119695230240536274084041727075561705990262712729114804979863573765432196647092224000000000000000000000000000000000000000000000000000000000000000000000000000000000000000000000000000000000000000000000000000000000000000000000000000000000000000000000000000000000000000000000000000000000000000000000000000000000000000000000"
            ]
          },
          "metadata": {},
          "execution_count": 4
        }
      ],
      "source": [
        "def fact(n):\n",
        "    if n==0:\n",
        "        return 1\n",
        "    else:\n",
        "        return n * fact(n-1)\n",
        "\n",
        "fact(958)"
      ]
    },
    {
      "cell_type": "markdown",
      "source": [
        "### Factorial con programación dinámica\n",
        "Existen dos métodos:\n",
        "1. Partiendo de la recursividad: tenemos al memoización\n",
        "2. Partiendo de la recurrencia: tenemos la tabulación"
      ],
      "metadata": {
        "id": "IuRuLXGm5nZz"
      }
    },
    {
      "cell_type": "markdown",
      "source": [
        "#### Memoización"
      ],
      "metadata": {
        "id": "JFVZMbr-H3_y"
      }
    },
    {
      "cell_type": "code",
      "source": [
        "def fact(n):\n",
        "    memo = {}\n",
        "    if n in memo:\n",
        "        return memo[n]\n",
        "    elif n == 0 or n == 1:\n",
        "        return 1\n",
        "        arr[n] = 1\n",
        "    else:\n",
        "        factorial = n * fact(n - 1)   # recursividad\n",
        "        memo[n] = factorial\n",
        "    return factorial\n",
        "\n",
        "fact(958)"
      ],
      "metadata": {
        "id": "QpqdteFpFDl0",
        "outputId": "3c4a03b2-ff05-4840-8041-8a53c3301c2e",
        "colab": {
          "base_uri": "https://localhost:8080/"
        }
      },
      "execution_count": 6,
      "outputs": [
        {
          "output_type": "execute_result",
          "data": {
            "text/plain": [
              "963506170965083130752749020132679046843254405809438907781336703820394438604127249454109623889701106950379117503604474886157397916518990877555319520509209121458749968664439703801179380200891994781974594848464842120162691929194155219411690443497622808832224065074343657574742171109968309745891530122298521077456001852818541396538927035116654446437768269601711683438092698006116097838183844080184051899808835253707212762418877084709092558381454051293237657195015723272332788169418090603642843458715462942384291389887746069212650686145847361000757816260570324238415687242504201830656733002192809197351535615773025123920029644336075605216301185188529589726197044210424193794427914327269606126426253959019559278654312350578256542533918344828659368032459857747885757358803195190478933533720491143016398832205487951426258598476178060838549453135920358916002805158662189662206358396888501996830781292868044495825726803558164111654162823368603032864306908312077038246460400395339746890403923096116866791566513826318681668124888581328069967832692444117638658825398455875847130526421545261500075514910480924570663436596186353500172921151605797504570529159690443867760825864155108874087103521863252367289726009155036795892702445989802704316519329897128358282555192678128275816550944215957639958742205637716519906701357277278105424216667643989428440752488282204776606244853276650325094204470435372119524848250206349779056675273220215021231851255038960148989739946666877223398705050646965788795982924946695469052583129725629872149430818561099597297388140290627406805387588456449417655907400213236418616711691343828496810024682826781561821399869648185314314081920173557289620960460374589138029815784721662164757652876662401203796373083875171378720532968709694326440135226598929839359130810346860677756196192852582906041989830857152996711642152583572966411519751748129665030278747952625834384532265199894486855578644770932934721935013469505499951629467604127830436187618357280416146273262864638018543673792422585158018124274579108792130358748274247185330833071142528025006089234690481362572483207225917336528590351424426534029614145665086538119695230240536274084041727075561705990262712729114804979863573765432196647092224000000000000000000000000000000000000000000000000000000000000000000000000000000000000000000000000000000000000000000000000000000000000000000000000000000000000000000000000000000000000000000000000000000000000000000000000000000000000000000000"
            ]
          },
          "metadata": {},
          "execution_count": 6
        }
      ]
    },
    {
      "cell_type": "code",
      "source": [
        "def factorial(n):\n",
        "    if n in factorial.__dict__:\n",
        "        return factorial.__dict__[n]\n",
        "\n",
        "    if n > 1:\n",
        "        fac = n * factorial(n-1)\n",
        "    else:\n",
        "        fac = 1\n",
        "\n",
        "    factorial.__dict__[n] = fac\n",
        "    return fac\n",
        "\n",
        "factorial(961)"
      ],
      "metadata": {
        "id": "rhME0AExH7JR"
      },
      "execution_count": null,
      "outputs": []
    },
    {
      "cell_type": "code",
      "source": [
        "def factorial(n):\n",
        "    arr = [1] * (n+1)\n",
        "    for i in range(1, n+1):\n",
        "        arr[i] = i * arr[i-1]\n",
        "    return arr[n]\n",
        "\n",
        "factorial(958)"
      ],
      "metadata": {
        "id": "_pNBC8etGuyW",
        "outputId": "8217080c-f862-45ff-9637-8cc64c45c767",
        "colab": {
          "base_uri": "https://localhost:8080/"
        }
      },
      "execution_count": 7,
      "outputs": [
        {
          "output_type": "execute_result",
          "data": {
            "text/plain": [
              "963506170965083130752749020132679046843254405809438907781336703820394438604127249454109623889701106950379117503604474886157397916518990877555319520509209121458749968664439703801179380200891994781974594848464842120162691929194155219411690443497622808832224065074343657574742171109968309745891530122298521077456001852818541396538927035116654446437768269601711683438092698006116097838183844080184051899808835253707212762418877084709092558381454051293237657195015723272332788169418090603642843458715462942384291389887746069212650686145847361000757816260570324238415687242504201830656733002192809197351535615773025123920029644336075605216301185188529589726197044210424193794427914327269606126426253959019559278654312350578256542533918344828659368032459857747885757358803195190478933533720491143016398832205487951426258598476178060838549453135920358916002805158662189662206358396888501996830781292868044495825726803558164111654162823368603032864306908312077038246460400395339746890403923096116866791566513826318681668124888581328069967832692444117638658825398455875847130526421545261500075514910480924570663436596186353500172921151605797504570529159690443867760825864155108874087103521863252367289726009155036795892702445989802704316519329897128358282555192678128275816550944215957639958742205637716519906701357277278105424216667643989428440752488282204776606244853276650325094204470435372119524848250206349779056675273220215021231851255038960148989739946666877223398705050646965788795982924946695469052583129725629872149430818561099597297388140290627406805387588456449417655907400213236418616711691343828496810024682826781561821399869648185314314081920173557289620960460374589138029815784721662164757652876662401203796373083875171378720532968709694326440135226598929839359130810346860677756196192852582906041989830857152996711642152583572966411519751748129665030278747952625834384532265199894486855578644770932934721935013469505499951629467604127830436187618357280416146273262864638018543673792422585158018124274579108792130358748274247185330833071142528025006089234690481362572483207225917336528590351424426534029614145665086538119695230240536274084041727075561705990262712729114804979863573765432196647092224000000000000000000000000000000000000000000000000000000000000000000000000000000000000000000000000000000000000000000000000000000000000000000000000000000000000000000000000000000000000000000000000000000000000000000000000000000000000000000000"
            ]
          },
          "metadata": {},
          "execution_count": 7
        }
      ]
    },
    {
      "cell_type": "markdown",
      "source": [
        "## Fibonacci\n",
        "Veamos el caso de una sucesión de Fibonacci resuelto con recursividad y con programación dinámica."
      ],
      "metadata": {
        "id": "p0kxMO53E-Bu"
      }
    },
    {
      "cell_type": "markdown",
      "source": [
        "### Fibonacci con recursividad"
      ],
      "metadata": {
        "id": "hJCIrZidFNBt"
      }
    },
    {
      "cell_type": "markdown",
      "source": [
        "#### Método 1"
      ],
      "metadata": {
        "id": "ip4v7fQfYRRb"
      }
    },
    {
      "cell_type": "code",
      "source": [
        "def fibo(n):\n",
        "    if n == 0:\n",
        "        return 0\n",
        "    elif n == 1:\n",
        "        return 1\n",
        "    else:\n",
        "        return fibo(n-1) + fibo(n-2)   # recursividad\n",
        "\n",
        "fibo(40)  # tardó 42 segundos"
      ],
      "metadata": {
        "id": "BmIf-EeVFQL1",
        "outputId": "3bdf0f88-a47a-44e3-b05c-a741c6266ca1",
        "colab": {
          "base_uri": "https://localhost:8080/"
        }
      },
      "execution_count": 8,
      "outputs": [
        {
          "output_type": "execute_result",
          "data": {
            "text/plain": [
              "102334155"
            ]
          },
          "metadata": {},
          "execution_count": 8
        }
      ]
    },
    {
      "cell_type": "markdown",
      "source": [
        "#### Método 2"
      ],
      "metadata": {
        "id": "hBsIqWhbYWMa"
      }
    },
    {
      "cell_type": "code",
      "source": [
        "def fibo(n):\n",
        "    if n < 2:   # si n=1 retorna 1, si n=0 retorna 0\n",
        "        return n\n",
        "    return fibo(n-1) + fibo(n-2)\n",
        "\n",
        "fibo(40)"
      ],
      "metadata": {
        "colab": {
          "base_uri": "https://localhost:8080/"
        },
        "id": "0nntV7ErYbLX",
        "outputId": "88cfc044-ee75-4575-b964-2c2419391d8f"
      },
      "execution_count": 9,
      "outputs": [
        {
          "output_type": "execute_result",
          "data": {
            "text/plain": [
              "102334155"
            ]
          },
          "metadata": {},
          "execution_count": 9
        }
      ]
    },
    {
      "cell_type": "markdown",
      "source": [
        "### Memoización y recursividad con un lista"
      ],
      "metadata": {
        "id": "dSOWMLneHU8u"
      }
    },
    {
      "cell_type": "markdown",
      "source": [
        "#### Método 1"
      ],
      "metadata": {
        "id": "7XjUMtKoZZ62"
      }
    },
    {
      "cell_type": "code",
      "source": [
        "def fibo(n):\n",
        "    f = [0, 1]\n",
        "    for i in range(2, n+1):\n",
        "        f.append(f[i-1] + f[i-2])\n",
        "    return f[n]\n",
        "\n",
        "fibo(963)   # El máximo que aguanta Colab es 963"
      ],
      "metadata": {
        "colab": {
          "base_uri": "https://localhost:8080/"
        },
        "id": "iaqoweH8Zd7G",
        "outputId": "e1c61d9c-ee90-4aa1-b289-9a38aa33b555"
      },
      "execution_count": 11,
      "outputs": [
        {
          "output_type": "execute_result",
          "data": {
            "text/plain": [
              "804660269890348192607522023089803718623744663554333827348566450717698691837013275169848087213765208489846913363667231522429508515354857443705716811606284275603514186261573277563557017756457031808637442"
            ]
          },
          "metadata": {},
          "execution_count": 11
        }
      ]
    },
    {
      "cell_type": "markdown",
      "source": [
        "#### Método 2"
      ],
      "metadata": {
        "id": "M5yPspWXaRYu"
      }
    },
    {
      "cell_type": "code",
      "source": [
        "def fibo(n, memo = [0,1]):\n",
        "    try:\n",
        "        return memo[n]\n",
        "    except IndexError:\n",
        "        suma = fibo(n-1) + fibo(n-2)   # recursividad\n",
        "        memo.append(suma)\n",
        "        return suma\n",
        "\n",
        "fibo(958)  # tardó 0 segundos"
      ],
      "metadata": {
        "id": "_eWRpBTN6sZ8",
        "outputId": "552d0907-6928-4e19-af1a-04c26a5d636a",
        "colab": {
          "base_uri": "https://localhost:8080/"
        }
      },
      "execution_count": 13,
      "outputs": [
        {
          "output_type": "execute_result",
          "data": {
            "text/plain": [
              "72556171273449457834951363966480123579074308201883345226595523694539010959098708804494565364650643087041102422529107753210418996008519495018074582571758187359415023021847203279568114554460593757918079"
            ]
          },
          "metadata": {},
          "execution_count": 13
        }
      ]
    },
    {
      "cell_type": "markdown",
      "source": [
        "Y si queremos la serie de Fibonacci completa podemos aprovechar que el array ya la contiene y lo único que se ha de hacer es imprimir esa lista."
      ],
      "metadata": {
        "id": "SsEy_BIeaVup"
      }
    },
    {
      "cell_type": "code",
      "source": [
        "# el array memo contiene todos los números de la serie, aprovechemos esa lista para imprimirla\n",
        "\n",
        "def fibo(n, memo = [0,1]):\n",
        "    if len(memo)==20: print(memo)\n",
        "    try:\n",
        "        return memo[n]\n",
        "    except IndexError:\n",
        "        suma = fibo(n-1) + fibo(n-2)   # recursividad\n",
        "        memo.append(suma)\n",
        "        return suma\n",
        "\n",
        "n = 20\n",
        "fibo(n+1)  # tardó 0 segundos\n",
        "print(f\"Lista con los {n} primeros números de la serie de Fibonacci\")"
      ],
      "metadata": {
        "id": "tMGXCQb2EBaA",
        "outputId": "ac4f66d5-df1a-4150-eaa8-27a73d9e481b",
        "colab": {
          "base_uri": "https://localhost:8080/"
        }
      },
      "execution_count": 14,
      "outputs": [
        {
          "output_type": "stream",
          "name": "stdout",
          "text": [
            "[0, 1, 1, 2, 3, 5, 8, 13, 21, 34, 55, 89, 144, 233, 377, 610, 987, 1597, 2584, 4181]\n",
            "Lista con los 20 primeros números de la serie de Fibonacci\n"
          ]
        }
      ]
    },
    {
      "cell_type": "markdown",
      "source": [
        "#### Con un diccionario"
      ],
      "metadata": {
        "id": "u7Nq07ocH-yg"
      }
    },
    {
      "cell_type": "code",
      "source": [
        "def fibo(n):\n",
        "    d = {0:0, 1:1}\n",
        "    for i in range(2, n+1):\n",
        "        d[i] = d[i-1] + d[i-2]\n",
        "    return d[n]\n",
        "\n",
        "fibo(10)"
      ],
      "metadata": {
        "colab": {
          "base_uri": "https://localhost:8080/"
        },
        "id": "931spHvt4udp",
        "outputId": "0e7eb905-4c04-4062-b7bd-072b882b39d2"
      },
      "execution_count": 15,
      "outputs": [
        {
          "output_type": "execute_result",
          "data": {
            "text/plain": [
              "55"
            ]
          },
          "metadata": {},
          "execution_count": 15
        }
      ]
    },
    {
      "cell_type": "markdown",
      "source": [
        "### Fibonacci con memoización y un diccionario"
      ],
      "metadata": {
        "id": "BSwxRXpq7ewx"
      }
    },
    {
      "cell_type": "code",
      "source": [
        "def fibo(n):\n",
        "    d = {0:0, 1:1}   # caso base. Esta linea de códgio podría ir fuera de la función, arriba\n",
        "    if n in d:                     # si existe el valor en el diccionario\n",
        "        return d[n]                # lo retornamos\n",
        "    d[n] = fibo(n-1) + fibo(n-2)   # si no existe lo calculamos por recursividad\n",
        "    return d[n]                    # y lo retornamos\n",
        "\n",
        "fibo(10)"
      ],
      "metadata": {
        "colab": {
          "base_uri": "https://localhost:8080/"
        },
        "id": "PV7BGEPm7hGJ",
        "outputId": "99dc9c19-b29b-4f1e-9010-d02a194368d3"
      },
      "execution_count": 16,
      "outputs": [
        {
          "output_type": "execute_result",
          "data": {
            "text/plain": [
              "55"
            ]
          },
          "metadata": {},
          "execution_count": 16
        }
      ]
    },
    {
      "cell_type": "markdown",
      "source": [
        "## Fibonacci por recurrencia"
      ],
      "metadata": {
        "id": "sDj0xlRLcQE7"
      }
    },
    {
      "cell_type": "code",
      "source": [
        "def fibo(n):\n",
        "    a = 0\n",
        "    b = 1\n",
        "    if n < 0: return \"n debe ser un entero no negativo\"\n",
        "    elif n==0: return a\n",
        "    elif n==1: return b\n",
        "    else:\n",
        "        for i in range(2, n+1):\n",
        "            c = a + b\n",
        "            a = b\n",
        "            b = c\n",
        "        return c\n",
        "\n",
        "fibo(963)"
      ],
      "metadata": {
        "colab": {
          "base_uri": "https://localhost:8080/"
        },
        "id": "vQNWI7B4cVVo",
        "outputId": "493e92ef-d060-4215-cfda-cbfe00ac2709"
      },
      "execution_count": 17,
      "outputs": [
        {
          "output_type": "execute_result",
          "data": {
            "text/plain": [
              "804660269890348192607522023089803718623744663554333827348566450717698691837013275169848087213765208489846913363667231522429508515354857443705716811606284275603514186261573277563557017756457031808637442"
            ]
          },
          "metadata": {},
          "execution_count": 17
        }
      ]
    },
    {
      "cell_type": "markdown",
      "source": [
        "## Fibonacci por recursividad y con optimización\n",
        "Creamos una array que guarda todos los valores de la serie desde Abajo hasta Arriba"
      ],
      "metadata": {
        "id": "uOOPosUEezhF"
      }
    },
    {
      "cell_type": "code",
      "source": [
        "def fibo(n):\n",
        "    f = []\n",
        "    f.append(0)\n",
        "    f.append(1)\n",
        "    for i in range(2, n+1):\n",
        "        f.append(f[i-1] + f[i-2])\n",
        "    return f[n]   # retornando solo f se obtiene toda la serie\n",
        "\n",
        "fibo(963)"
      ],
      "metadata": {
        "colab": {
          "base_uri": "https://localhost:8080/"
        },
        "id": "HBXQbiPHfDjS",
        "outputId": "ae3175ce-7045-45ad-d72c-60e1322eb29a"
      },
      "execution_count": 18,
      "outputs": [
        {
          "output_type": "execute_result",
          "data": {
            "text/plain": [
              "804660269890348192607522023089803718623744663554333827348566450717698691837013275169848087213765208489846913363667231522429508515354857443705716811606284275603514186261573277563557017756457031808637442"
            ]
          },
          "metadata": {},
          "execution_count": 18
        }
      ]
    }
  ]
}