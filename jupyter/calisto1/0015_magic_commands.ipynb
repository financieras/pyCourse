{
  "cells": [
    {
      "cell_type": "markdown",
      "metadata": {
        "id": "view-in-github",
        "colab_type": "text"
      },
      "source": [
        "<a href=\"https://colab.research.google.com/github/financieras/pyCourse/blob/main/jupyter/calisto1/calisto1_0015.ipynb\" target=\"_parent\"><img src=\"https://colab.research.google.com/assets/colab-badge.svg\" alt=\"Open In Colab\"/></a>"
      ]
    },
    {
      "cell_type": "markdown",
      "id": "c559b018",
      "metadata": {
        "id": "c559b018"
      },
      "source": [
        "# Magic commands\n",
        "Permiten acceder a muchos comandos de la terminal desde las celdas de Jupyter notebook."
      ]
    },
    {
      "cell_type": "code",
      "execution_count": null,
      "id": "4ed92df9",
      "metadata": {
        "id": "4ed92df9"
      },
      "outputs": [],
      "source": [
        "# Mostrar el directorio de trabajo actual\n",
        "%pwd"
      ]
    },
    {
      "cell_type": "code",
      "execution_count": null,
      "id": "5e63308b",
      "metadata": {
        "id": "5e63308b"
      },
      "outputs": [],
      "source": [
        "# Listar el contenido del directorio de trabajo actual\n",
        "%ls"
      ]
    },
    {
      "cell_type": "code",
      "execution_count": null,
      "id": "8518d2a4",
      "metadata": {
        "id": "8518d2a4"
      },
      "outputs": [],
      "source": [
        "# Cambiar el directorio de trabajo actual\n",
        "%cd excel"
      ]
    },
    {
      "cell_type": "code",
      "execution_count": null,
      "id": "9d691467",
      "metadata": {
        "id": "9d691467"
      },
      "outputs": [],
      "source": [
        "# volver al directorio previo\n",
        "%cd .."
      ]
    },
    {
      "cell_type": "code",
      "execution_count": null,
      "id": "754b02bb",
      "metadata": {
        "id": "754b02bb"
      },
      "outputs": [],
      "source": [
        "# Listar las variables existentes en el espacio de trabajo actual\n",
        "%who"
      ]
    },
    {
      "cell_type": "code",
      "execution_count": null,
      "id": "a64ec8ae",
      "metadata": {
        "id": "a64ec8ae"
      },
      "outputs": [],
      "source": [
        "x = 5"
      ]
    },
    {
      "cell_type": "code",
      "execution_count": null,
      "id": "73a5834b",
      "metadata": {
        "id": "73a5834b"
      },
      "outputs": [],
      "source": [
        "# ahora ya tenemos la variable x y podemos verla en el listado\n",
        "%who"
      ]
    },
    {
      "cell_type": "code",
      "execution_count": null,
      "id": "684c4564",
      "metadata": {
        "id": "684c4564"
      },
      "outputs": [],
      "source": [
        "# Listar todos los comandos disponibles\n",
        "%lsmagic"
      ]
    },
    {
      "cell_type": "markdown",
      "id": "d9cc8423",
      "metadata": {
        "id": "d9cc8423"
      },
      "source": [
        "## Obtención de ayuda\n",
        "Ponemos un signo de interrogación y luego la palabra que buscamos."
      ]
    },
    {
      "cell_type": "code",
      "execution_count": null,
      "id": "a69eb5f2",
      "metadata": {
        "id": "a69eb5f2"
      },
      "outputs": [],
      "source": [
        "?list"
      ]
    },
    {
      "cell_type": "markdown",
      "source": [
        "## Comandos de terminal\n",
        "Anteponemos un símbolo de admiración."
      ],
      "metadata": {
        "id": "DyZcbZsE7BuK"
      },
      "id": "DyZcbZsE7BuK"
    },
    {
      "cell_type": "code",
      "source": [
        "!echo \"Hello World\""
      ],
      "metadata": {
        "id": "m_0gsOOl7J-M",
        "outputId": "62328761-9ac3-4f96-a514-f9d991544cbd",
        "colab": {
          "base_uri": "https://localhost:8080/"
        }
      },
      "id": "m_0gsOOl7J-M",
      "execution_count": 9,
      "outputs": [
        {
          "output_type": "stream",
          "name": "stdout",
          "text": [
            "Hello World\n"
          ]
        }
      ]
    }
  ],
  "metadata": {
    "kernelspec": {
      "display_name": "Python 3",
      "language": "python",
      "name": "python3"
    },
    "language_info": {
      "codemirror_mode": {
        "name": "ipython",
        "version": 3
      },
      "file_extension": ".py",
      "mimetype": "text/x-python",
      "name": "python",
      "nbconvert_exporter": "python",
      "pygments_lexer": "ipython3",
      "version": "3.8.8"
    },
    "colab": {
      "name": "0015_magic_commands.ipynb",
      "provenance": [],
      "include_colab_link": true
    }
  },
  "nbformat": 4,
  "nbformat_minor": 5
}
