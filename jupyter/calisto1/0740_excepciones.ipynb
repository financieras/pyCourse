{
  "cells": [
    {
      "cell_type": "markdown",
      "metadata": {
        "id": "view-in-github",
        "colab_type": "text"
      },
      "source": [
        "<a href=\"https://colab.research.google.com/github/financieras/pyCourse/blob/main/jupyter/calisto1_0740.ipynb\" target=\"_parent\"><img src=\"https://colab.research.google.com/assets/colab-badge.svg\" alt=\"Open In Colab\"/></a>"
      ]
    },
    {
      "cell_type": "markdown",
      "metadata": {
        "id": "k4TQUL2Uejxi"
      },
      "source": [
        "# Excepciones"
      ]
    },
    {
      "cell_type": "markdown",
      "metadata": {
        "id": "ejQjND_dejxk"
      },
      "source": [
        "## Identificando el tipo de error\n",
        "Existen diferentes tipos de errores que podemos identificar para luego tratar de forma individualizada."
      ]
    },
    {
      "cell_type": "code",
      "execution_count": null,
      "metadata": {
        "id": "sfcQpItbejxl"
      },
      "outputs": [],
      "source": [
        "# si introducimos un texto nos da un TypeError\n",
        "2/'aaa'"
      ]
    },
    {
      "cell_type": "markdown",
      "metadata": {
        "id": "ASoMgyYQejxn"
      },
      "source": [
        "## Tratamiento de las Excepciones (```Exception```)"
      ]
    },
    {
      "cell_type": "markdown",
      "metadata": {
        "id": "pV-8RtTeejxo"
      },
      "source": [
        "El siguiente código informa del error, pero no es muy explicativo, no sabemos qué tipo de error se ha producido."
      ]
    },
    {
      "cell_type": "code",
      "execution_count": null,
      "metadata": {
        "id": "BBWTwG0sejxp"
      },
      "outputs": [],
      "source": [
        "try:\n",
        "    a = 2\n",
        "    b = input(\"Introduzca un número: \")               # falta el float\n",
        "    a/b\n",
        "except:\n",
        "    print(\"Error\")"
      ]
    },
    {
      "cell_type": "markdown",
      "metadata": {
        "id": "8rwElkJ2ejxq"
      },
      "source": [
        "Veamos el tipo de error que se produce, sin que de error y se detenga la ejecución del código."
      ]
    },
    {
      "cell_type": "code",
      "execution_count": null,
      "metadata": {
        "id": "eGoCQGBxejxr"
      },
      "outputs": [],
      "source": [
        "try:\n",
        "    a = 2\n",
        "    b = input(\"Introduzca un número: \")               # falta el float\n",
        "    a/b\n",
        "except Exception as e:\n",
        "    print(type(e).__name__)"
      ]
    },
    {
      "cell_type": "markdown",
      "metadata": {
        "id": "PD5nbDhNejxs"
      },
      "source": [
        "## Encadenando varias excepciones\n",
        "Ahora añadimos el float, con ello evitamos ese error, pero aún, el usuario, puede introducir una cadena.  \n",
        "Si se introduce una cadena se obtendrá un error del tipo: ValueError."
      ]
    },
    {
      "cell_type": "code",
      "execution_count": null,
      "metadata": {
        "id": "UjRvodnUejxt"
      },
      "outputs": [],
      "source": [
        "try:\n",
        "    a = 2\n",
        "    b = float(input(\"Introduzca un número: \"))\n",
        "    a/b\n",
        "except TypeError:\n",
        "    print(\"No se puede dividir el número entre un string.\")\n",
        "except Exception as e:\n",
        "    print(type(e).__name__)"
      ]
    },
    {
      "cell_type": "markdown",
      "metadata": {
        "id": "5A7jqloNejxu"
      },
      "source": [
        "Añadimos el error ValueError a las excepciones."
      ]
    },
    {
      "cell_type": "code",
      "execution_count": null,
      "metadata": {
        "id": "yUw9rglzejxw"
      },
      "outputs": [],
      "source": [
        "try:\n",
        "    a = 2\n",
        "    b = float(input(\"Introduzca un número: \"))\n",
        "    a/b\n",
        "except TypeError:\n",
        "    print(\"No se puede dividir el número entre un string.\")\n",
        "except ValueError:\n",
        "    print(\"Se debe introducir un número y no un texto.\")\n",
        "except Exception as e:\n",
        "    print(type(e).__name__)"
      ]
    },
    {
      "cell_type": "markdown",
      "metadata": {
        "id": "eUxXAYdaejxx"
      },
      "source": [
        "Ahora añadiremos la excepción ZeroDivisionError para evitar se se intente dividir entre cero."
      ]
    },
    {
      "cell_type": "code",
      "execution_count": null,
      "metadata": {
        "id": "M1ncmz3Dejxx"
      },
      "outputs": [],
      "source": [
        "try:\n",
        "    a = 2\n",
        "    b = float(input(\"Introduzca un número: \"))\n",
        "    a/b\n",
        "except TypeError:\n",
        "    print(\"No se puede dividir el número entre un string.\")\n",
        "except ValueError:\n",
        "    print(\"Se debe introducir un número y no un texto.\")\n",
        "except ZeroDivisionError:\n",
        "    print(\"No se puede dividir entre cero.\")\n",
        "except Exception as e:                                     # esta excepción se coloca al final\n",
        "    print(type(e).__name__)"
      ]
    }
  ],
  "metadata": {
    "kernelspec": {
      "display_name": "Python 3",
      "language": "python",
      "name": "python3"
    },
    "language_info": {
      "codemirror_mode": {
        "name": "ipython",
        "version": 3
      },
      "file_extension": ".py",
      "mimetype": "text/x-python",
      "name": "python",
      "nbconvert_exporter": "python",
      "pygments_lexer": "ipython3",
      "version": "3.8.5"
    },
    "colab": {
      "name": "0740_excepciones.ipynb",
      "provenance": [],
      "include_colab_link": true
    }
  },
  "nbformat": 4,
  "nbformat_minor": 0
}
