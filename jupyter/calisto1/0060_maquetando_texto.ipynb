{
  "cells": [
    {
      "cell_type": "markdown",
      "metadata": {
        "id": "view-in-github",
        "colab_type": "text"
      },
      "source": [
        "<a href=\"https://colab.research.google.com/github/financieras/pyCourse/blob/main/jupyter/calisto1/0060_maquetando_texto.ipynb\" target=\"_parent\"><img src=\"https://colab.research.google.com/assets/colab-badge.svg\" alt=\"Open In Colab\"/></a>"
      ]
    },
    {
      "cell_type": "markdown",
      "id": "a25c8599",
      "metadata": {
        "id": "a25c8599"
      },
      "source": [
        "# Maquetando texto\n",
        "## Alineación"
      ]
    },
    {
      "cell_type": "code",
      "execution_count": 1,
      "id": "96601276",
      "metadata": {
        "id": "96601276",
        "outputId": "ef67a432-838e-48f2-9aab-5887710e0072",
        "colab": {
          "base_uri": "https://localhost:8080/"
        }
      },
      "outputs": [
        {
          "output_type": "stream",
          "name": "stdout",
          "text": [
            "                        Python\n"
          ]
        }
      ],
      "source": [
        "print(\"{:>30}\".format(\"Python\")) # alineación a la derecha de 30 caracteres"
      ]
    },
    {
      "cell_type": "code",
      "execution_count": 2,
      "id": "2b732c96",
      "metadata": {
        "id": "2b732c96",
        "outputId": "eb15ee1d-ccb7-42b3-ee81-cec0583fcee5",
        "colab": {
          "base_uri": "https://localhost:8080/"
        }
      },
      "outputs": [
        {
          "output_type": "stream",
          "name": "stdout",
          "text": [
            "Python                        \n"
          ]
        }
      ],
      "source": [
        "print(\"{:30}\".format(\"Python\")) # alineación a la izquierda de 30 caracteres"
      ]
    },
    {
      "cell_type": "code",
      "execution_count": 3,
      "id": "7f92cd80",
      "metadata": {
        "id": "7f92cd80",
        "outputId": "f8d91cd7-953a-4a0a-97a8-866a2b447f10",
        "colab": {
          "base_uri": "https://localhost:8080/"
        }
      },
      "outputs": [
        {
          "output_type": "stream",
          "name": "stdout",
          "text": [
            "            Python            \n"
          ]
        }
      ],
      "source": [
        "print(\"{:^30}\".format(\"Python\")) # alineación al centro de 30 caracteres, doce espacios a cada lado"
      ]
    },
    {
      "cell_type": "code",
      "execution_count": 4,
      "id": "8b9c59d6",
      "metadata": {
        "id": "8b9c59d6",
        "outputId": "c67cdea1-b837-4acc-8bf7-c2f9a0f6af89",
        "colab": {
          "base_uri": "https://localhost:8080/"
        }
      },
      "outputs": [
        {
          "output_type": "stream",
          "name": "stdout",
          "text": [
            "Pyt\n"
          ]
        }
      ],
      "source": [
        "print(\"{:.3}\".format(\"Python\")) # truncamiento a 3 caracteres"
      ]
    },
    {
      "cell_type": "code",
      "execution_count": 5,
      "id": "e674b06d",
      "metadata": {
        "id": "e674b06d",
        "outputId": "81eaedeb-c862-48ba-87e4-9e8fbfc2d50e",
        "colab": {
          "base_uri": "https://localhost:8080/"
        }
      },
      "outputs": [
        {
          "output_type": "stream",
          "name": "stdout",
          "text": [
            "Me gusta JavaScript y también Py\n"
          ]
        }
      ],
      "source": [
        "print(\"Me gusta {a} y también {b:.2}\".format(a=\"JavaScript\",b=\"Python\")) # dos palabras"
      ]
    },
    {
      "cell_type": "code",
      "execution_count": 6,
      "id": "48a6a21b",
      "metadata": {
        "id": "48a6a21b",
        "outputId": "0dfd513a-a053-4e30-ecd2-2dc8df6e4cc2",
        "colab": {
          "base_uri": "https://localhost:8080/"
        }
      },
      "outputs": [
        {
          "output_type": "stream",
          "name": "stdout",
          "text": [
            "Me gusta         Java         y también Python\n"
          ]
        }
      ],
      "source": [
        "print(\"Me gusta {a:^20.4} y también {b}\".format(a=\"JavaScript\",b=\"Python\")) # podemos mezclar: centrado y truncado"
      ]
    },
    {
      "cell_type": "markdown",
      "id": "4953012d",
      "metadata": {
        "id": "4953012d"
      },
      "source": [
        "## Formateo de números enteros"
      ]
    },
    {
      "cell_type": "code",
      "execution_count": 7,
      "id": "9ec2bb7d",
      "metadata": {
        "id": "9ec2bb7d",
        "outputId": "1dd3a538-e9d6-45d3-8881-761e50b067b6",
        "colab": {
          "base_uri": "https://localhost:8080/"
        }
      },
      "outputs": [
        {
          "output_type": "stream",
          "name": "stdout",
          "text": [
            "10\n",
            "100\n",
            "1000\n"
          ]
        }
      ],
      "source": [
        "print(\"{}\".format(10))       # nos gustaría alinearlos\n",
        "print(\"{}\".format(100))\n",
        "print(\"{}\".format(1000))"
      ]
    },
    {
      "cell_type": "code",
      "execution_count": 8,
      "id": "0b295c8a",
      "metadata": {
        "id": "0b295c8a",
        "outputId": "a3598474-a633-4b60-e0b1-67050e785d7e",
        "colab": {
          "base_uri": "https://localhost:8080/"
        }
      },
      "outputs": [
        {
          "output_type": "stream",
          "name": "stdout",
          "text": [
            "  10\n",
            " 100\n",
            "1000\n"
          ]
        }
      ],
      "source": [
        "print(\"{:4d}\".format(10))     # alineado a 4 dígitos\n",
        "print(\"{:4d}\".format(100))\n",
        "print(\"{:4d}\".format(1000))"
      ]
    },
    {
      "cell_type": "markdown",
      "id": "a413dc88",
      "metadata": {
        "id": "a413dc88"
      },
      "source": [
        "## Formateo de números flotantes\n",
        "### Rellenados con espacios"
      ]
    },
    {
      "cell_type": "code",
      "execution_count": 9,
      "id": "7a6a1a79",
      "metadata": {
        "id": "7a6a1a79",
        "outputId": "62ca15a8-77eb-497d-edf7-9b0e0dd44e6c",
        "colab": {
          "base_uri": "https://localhost:8080/"
        }
      },
      "outputs": [
        {
          "output_type": "execute_result",
          "data": {
            "text/plain": [
              "2.718281828459045"
            ]
          },
          "metadata": {},
          "execution_count": 9
        }
      ],
      "source": [
        "import math\n",
        "e = math.exp(1)\n",
        "e"
      ]
    },
    {
      "cell_type": "code",
      "execution_count": 10,
      "id": "b752aafa",
      "metadata": {
        "id": "b752aafa",
        "outputId": "92618d3a-af5c-4d43-9197-2fbaff4f9b5c",
        "colab": {
          "base_uri": "https://localhost:8080/"
        }
      },
      "outputs": [
        {
          "output_type": "stream",
          "name": "stdout",
          "text": [
            "Número e = 2.7183\n"
          ]
        }
      ],
      "source": [
        "print(\"Número e = {:.4f}\".format(e)) # formato redondeado a 4 decimales"
      ]
    },
    {
      "cell_type": "markdown",
      "id": "df2acb0a",
      "metadata": {
        "id": "df2acb0a"
      },
      "source": [
        "#### ```f``` significa format\n",
        "Permite imprimir con formato."
      ]
    },
    {
      "cell_type": "code",
      "execution_count": 11,
      "id": "064208c8",
      "metadata": {
        "id": "064208c8",
        "outputId": "2c33f1cf-ba16-49c3-d287-b65b6dd85a8e",
        "colab": {
          "base_uri": "https://localhost:8080/"
        }
      },
      "outputs": [
        {
          "output_type": "stream",
          "name": "stdout",
          "text": [
            "Número e = 2.72\n"
          ]
        }
      ],
      "source": [
        "print(f\"Número e = {e:.2f}\")         # con el otro sistema de formato"
      ]
    },
    {
      "cell_type": "code",
      "execution_count": 12,
      "id": "92ecf1e6",
      "metadata": {
        "id": "92ecf1e6",
        "outputId": "fa8ffb1d-5492-46b4-d6cd-378f054b98b9",
        "colab": {
          "base_uri": "https://localhost:8080/"
        }
      },
      "outputs": [
        {
          "output_type": "stream",
          "name": "stdout",
          "text": [
            "Número e = 2.718\n",
            "Número G = 667.42\n"
          ]
        }
      ],
      "source": [
        "G = 667.42\n",
        "print(f\"Número e = {e:.3f}\")\n",
        "print(f\"Número G = {G:.2f}\")         # nos gustaría alinear los dos valores float al punto decimal"
      ]
    },
    {
      "cell_type": "markdown",
      "id": "a40bdf56",
      "metadata": {
        "id": "a40bdf56"
      },
      "source": [
        "Alineando al punto decimal.  \n",
        "Vemos que en total son 7 caracteres (3 enteros, el punto, 3 decimales)."
      ]
    },
    {
      "cell_type": "code",
      "execution_count": 13,
      "id": "98c9149b",
      "metadata": {
        "id": "98c9149b",
        "outputId": "a0b684d8-7b66-4f2b-cfef-e020a9faf31a",
        "colab": {
          "base_uri": "https://localhost:8080/"
        }
      },
      "outputs": [
        {
          "output_type": "stream",
          "name": "stdout",
          "text": [
            "Número e =   2.718\n",
            "Número G = 667.420\n"
          ]
        }
      ],
      "source": [
        "print(f\"Número e = {e:7.3f}\")\n",
        "print(f\"Número G = {G:7.3f}\")"
      ]
    },
    {
      "cell_type": "markdown",
      "id": "845a0ef2",
      "metadata": {
        "id": "845a0ef2"
      },
      "source": [
        "### Rellenar con ceros"
      ]
    },
    {
      "cell_type": "code",
      "execution_count": 14,
      "id": "767532fb",
      "metadata": {
        "id": "767532fb",
        "outputId": "1fb7932c-ea3d-4cfd-b55e-52782ffeaccf",
        "colab": {
          "base_uri": "https://localhost:8080/"
        }
      },
      "outputs": [
        {
          "output_type": "stream",
          "name": "stdout",
          "text": [
            "Número e = 002.718\n",
            "Número G = 667.420\n"
          ]
        }
      ],
      "source": [
        "print(f\"Número e = {e:07.3f}\")\n",
        "print(f\"Número G = {G:07.3f}\")"
      ]
    }
  ],
  "metadata": {
    "kernelspec": {
      "display_name": "Python 3",
      "language": "python",
      "name": "python3"
    },
    "language_info": {
      "codemirror_mode": {
        "name": "ipython",
        "version": 3
      },
      "file_extension": ".py",
      "mimetype": "text/x-python",
      "name": "python",
      "nbconvert_exporter": "python",
      "pygments_lexer": "ipython3",
      "version": "3.8.8"
    },
    "colab": {
      "name": "0060_maquetando_texto.ipynb",
      "provenance": [],
      "include_colab_link": true
    }
  },
  "nbformat": 4,
  "nbformat_minor": 5
}