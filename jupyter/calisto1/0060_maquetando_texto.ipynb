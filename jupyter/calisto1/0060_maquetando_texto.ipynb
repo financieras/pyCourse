{
  "cells": [
    {
      "cell_type": "markdown",
      "metadata": {
        "id": "view-in-github",
        "colab_type": "text"
      },
      "source": [
        "<a href=\"https://colab.research.google.com/github/financieras/pyCourse/blob/main/jupyter/calisto1/0060_maquetando_texto.ipynb\" target=\"_parent\"><img src=\"https://colab.research.google.com/assets/colab-badge.svg\" alt=\"Open In Colab\"/></a>"
      ]
    },
    {
      "cell_type": "markdown",
      "id": "a25c8599",
      "metadata": {
        "id": "a25c8599"
      },
      "source": [
        "# Maquetando texto\n",
        "## Alineación"
      ]
    },
    {
      "cell_type": "code",
      "execution_count": 1,
      "id": "96601276",
      "metadata": {
        "id": "96601276",
        "outputId": "d8510a68-b7ee-494f-ce91-875653b902f1",
        "colab": {
          "base_uri": "https://localhost:8080/"
        }
      },
      "outputs": [
        {
          "output_type": "stream",
          "name": "stdout",
          "text": [
            "                        Python\n"
          ]
        }
      ],
      "source": [
        "print(\"{:>30}\".format(\"Python\")) # alineación a la derecha de 30 caracteres"
      ]
    },
    {
      "cell_type": "code",
      "execution_count": 2,
      "id": "2b732c96",
      "metadata": {
        "id": "2b732c96",
        "outputId": "3dbbf4c2-aa6c-404d-8feb-666ba4b01c0d",
        "colab": {
          "base_uri": "https://localhost:8080/"
        }
      },
      "outputs": [
        {
          "output_type": "stream",
          "name": "stdout",
          "text": [
            "Python                        \n"
          ]
        }
      ],
      "source": [
        "print(\"{:30}\".format(\"Python\")) # alineación a la izquierda de 30 caracteres"
      ]
    },
    {
      "cell_type": "code",
      "execution_count": 3,
      "id": "7f92cd80",
      "metadata": {
        "id": "7f92cd80",
        "outputId": "b19ea824-1f7c-4c25-816c-65df763f9332",
        "colab": {
          "base_uri": "https://localhost:8080/"
        }
      },
      "outputs": [
        {
          "output_type": "stream",
          "name": "stdout",
          "text": [
            "            Python            \n"
          ]
        }
      ],
      "source": [
        "print(\"{:^30}\".format(\"Python\")) # alineación al centro de 30 caracteres, doce espacios a cada lado"
      ]
    },
    {
      "cell_type": "code",
      "execution_count": 4,
      "id": "8b9c59d6",
      "metadata": {
        "id": "8b9c59d6",
        "outputId": "54baf9f6-3d3f-47db-91e4-42771a7388a1",
        "colab": {
          "base_uri": "https://localhost:8080/"
        }
      },
      "outputs": [
        {
          "output_type": "stream",
          "name": "stdout",
          "text": [
            "Pyt\n"
          ]
        }
      ],
      "source": [
        "print(\"{:.3}\".format(\"Python\")) # truncamiento a 3 caracteres"
      ]
    },
    {
      "cell_type": "code",
      "execution_count": 5,
      "id": "e674b06d",
      "metadata": {
        "id": "e674b06d",
        "outputId": "f1f05e99-b1a1-4460-8c12-11bebb2eacb2",
        "colab": {
          "base_uri": "https://localhost:8080/"
        }
      },
      "outputs": [
        {
          "output_type": "stream",
          "name": "stdout",
          "text": [
            "Me gusta JavaScript y también Py\n"
          ]
        }
      ],
      "source": [
        "print(\"Me gusta {a} y también {b:.2}\".format(a=\"JavaScript\",b=\"Python\")) # dos palabras"
      ]
    },
    {
      "cell_type": "code",
      "execution_count": 6,
      "id": "48a6a21b",
      "metadata": {
        "id": "48a6a21b",
        "outputId": "48ab448e-3d8f-4ccc-9e78-209db55189d9",
        "colab": {
          "base_uri": "https://localhost:8080/"
        }
      },
      "outputs": [
        {
          "output_type": "stream",
          "name": "stdout",
          "text": [
            "Me gusta         Java         y también Python\n"
          ]
        }
      ],
      "source": [
        "print(\"Me gusta {a:^20.4} y también {b}\".format(a=\"JavaScript\",b=\"Python\")) # podemos mezclar: centrado y truncado"
      ]
    },
    {
      "cell_type": "markdown",
      "id": "4953012d",
      "metadata": {
        "id": "4953012d"
      },
      "source": [
        "## Formateo de números enteros"
      ]
    },
    {
      "cell_type": "code",
      "execution_count": 7,
      "id": "9ec2bb7d",
      "metadata": {
        "id": "9ec2bb7d",
        "outputId": "d482df4d-650e-41af-d739-05e13d340b5a",
        "colab": {
          "base_uri": "https://localhost:8080/"
        }
      },
      "outputs": [
        {
          "output_type": "stream",
          "name": "stdout",
          "text": [
            "10\n",
            "100\n",
            "1000\n"
          ]
        }
      ],
      "source": [
        "print(\"{}\".format(10))       # nos gustaría alinearlos\n",
        "print(\"{}\".format(100))\n",
        "print(\"{}\".format(1000))"
      ]
    },
    {
      "cell_type": "code",
      "execution_count": 8,
      "id": "0b295c8a",
      "metadata": {
        "id": "0b295c8a",
        "outputId": "30e0bc07-aba2-4af3-b1cf-74fb032b8cc2",
        "colab": {
          "base_uri": "https://localhost:8080/"
        }
      },
      "outputs": [
        {
          "output_type": "stream",
          "name": "stdout",
          "text": [
            "  10\n",
            " 100\n",
            "1000\n"
          ]
        }
      ],
      "source": [
        "print(\"{:4d}\".format(10))     # alineado a 4 dígitos\n",
        "print(\"{:4d}\".format(100))\n",
        "print(\"{:4d}\".format(1000))"
      ]
    },
    {
      "cell_type": "markdown",
      "id": "a413dc88",
      "metadata": {
        "id": "a413dc88"
      },
      "source": [
        "## Formateo de números flotantes\n",
        "### Rellenados con espacios"
      ]
    },
    {
      "cell_type": "code",
      "execution_count": 9,
      "id": "7a6a1a79",
      "metadata": {
        "id": "7a6a1a79",
        "outputId": "561e0042-1c6f-4dc2-a944-66b0601064a2",
        "colab": {
          "base_uri": "https://localhost:8080/"
        }
      },
      "outputs": [
        {
          "output_type": "execute_result",
          "data": {
            "text/plain": [
              "2.718281828459045"
            ]
          },
          "metadata": {},
          "execution_count": 9
        }
      ],
      "source": [
        "import math\n",
        "e = math.exp(1)\n",
        "e"
      ]
    },
    {
      "cell_type": "code",
      "execution_count": 10,
      "id": "b752aafa",
      "metadata": {
        "id": "b752aafa",
        "outputId": "2d875818-f867-442a-8bd6-53e7020c5e67",
        "colab": {
          "base_uri": "https://localhost:8080/"
        }
      },
      "outputs": [
        {
          "output_type": "stream",
          "name": "stdout",
          "text": [
            "Número e = 2.7183\n"
          ]
        }
      ],
      "source": [
        "print(\"Número e = {:.4f}\".format(e)) # formato redondeado a 4 decimales"
      ]
    },
    {
      "cell_type": "markdown",
      "id": "df2acb0a",
      "metadata": {
        "id": "df2acb0a"
      },
      "source": [
        "#### ```f``` significa format\n",
        "Permite imprimir con formato."
      ]
    },
    {
      "cell_type": "code",
      "execution_count": 11,
      "id": "064208c8",
      "metadata": {
        "id": "064208c8",
        "outputId": "1935fb5d-4121-4f45-b9a1-423bdde5d60d",
        "colab": {
          "base_uri": "https://localhost:8080/"
        }
      },
      "outputs": [
        {
          "output_type": "stream",
          "name": "stdout",
          "text": [
            "Número e = 2.72\n"
          ]
        }
      ],
      "source": [
        "print(f\"Número e = {e:.2f}\")         # con el otro sistema de formato"
      ]
    },
    {
      "cell_type": "code",
      "execution_count": 12,
      "id": "92ecf1e6",
      "metadata": {
        "id": "92ecf1e6",
        "outputId": "6eb00aae-03b5-4dc0-b8b4-53951823aa6e",
        "colab": {
          "base_uri": "https://localhost:8080/"
        }
      },
      "outputs": [
        {
          "output_type": "stream",
          "name": "stdout",
          "text": [
            "Número e = 2.718\n",
            "Número G = 667.42\n"
          ]
        }
      ],
      "source": [
        "G = 667.42\n",
        "print(f\"Número e = {e:.3f}\")\n",
        "print(f\"Número G = {G:.2f}\")         # nos gustaría alinear los dos valores float al punto decimal"
      ]
    },
    {
      "cell_type": "markdown",
      "id": "a40bdf56",
      "metadata": {
        "id": "a40bdf56"
      },
      "source": [
        "Alineando al punto decimal.  \n",
        "Vemos que en total son 7 caracteres (3 enteros, el punto, 3 decimales)."
      ]
    },
    {
      "cell_type": "code",
      "execution_count": 13,
      "id": "98c9149b",
      "metadata": {
        "id": "98c9149b",
        "outputId": "f874d383-c497-41c9-aa3e-48d5212dba34",
        "colab": {
          "base_uri": "https://localhost:8080/"
        }
      },
      "outputs": [
        {
          "output_type": "stream",
          "name": "stdout",
          "text": [
            "Número e =   2.718\n",
            "Número G = 667.420\n"
          ]
        }
      ],
      "source": [
        "print(f\"Número e = {e:7.3f}\")\n",
        "print(f\"Número G = {G:7.3f}\")"
      ]
    },
    {
      "cell_type": "markdown",
      "id": "845a0ef2",
      "metadata": {
        "id": "845a0ef2"
      },
      "source": [
        "### Rellenar con ceros"
      ]
    },
    {
      "cell_type": "code",
      "execution_count": 14,
      "id": "767532fb",
      "metadata": {
        "id": "767532fb",
        "outputId": "0f3fd9a1-2e20-49be-efd0-c217298c8418",
        "colab": {
          "base_uri": "https://localhost:8080/"
        }
      },
      "outputs": [
        {
          "output_type": "stream",
          "name": "stdout",
          "text": [
            "Número e = 002.718\n",
            "Número G = 667.420\n"
          ]
        }
      ],
      "source": [
        "print(f\"Número e = {e:07.3f}\")\n",
        "print(f\"Número G = {G:07.3f}\")"
      ]
    }
  ],
  "metadata": {
    "kernelspec": {
      "display_name": "Python 3",
      "language": "python",
      "name": "python3"
    },
    "language_info": {
      "codemirror_mode": {
        "name": "ipython",
        "version": 3
      },
      "file_extension": ".py",
      "mimetype": "text/x-python",
      "name": "python",
      "nbconvert_exporter": "python",
      "pygments_lexer": "ipython3",
      "version": "3.8.8"
    },
    "colab": {
      "name": "calisto1_0060.ipynb",
      "provenance": [],
      "include_colab_link": true
    }
  },
  "nbformat": 4,
  "nbformat_minor": 5
}