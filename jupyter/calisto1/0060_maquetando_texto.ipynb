{
  "cells": [
    {
      "cell_type": "markdown",
      "metadata": {
        "id": "view-in-github",
        "colab_type": "text"
      },
      "source": [
        "<a href=\"https://colab.research.google.com/github/financieras/pyCourse/blob/main/jupyter/calisto1_0060.ipynb\" target=\"_parent\"><img src=\"https://colab.research.google.com/assets/colab-badge.svg\" alt=\"Open In Colab\"/></a>"
      ]
    },
    {
      "cell_type": "markdown",
      "id": "a25c8599",
      "metadata": {
        "id": "a25c8599"
      },
      "source": [
        "# Maquetando texto\n",
        "## Alineación"
      ]
    },
    {
      "cell_type": "code",
      "execution_count": null,
      "id": "96601276",
      "metadata": {
        "id": "96601276",
        "outputId": "6b39caee-b39d-49a8-84b1-2abebc32589e"
      },
      "outputs": [
        {
          "name": "stdout",
          "output_type": "stream",
          "text": [
            "                        Python\n"
          ]
        }
      ],
      "source": [
        "print(\"{:>30}\".format(\"Python\")) # alineación a la derecha de 30 caracteres"
      ]
    },
    {
      "cell_type": "code",
      "execution_count": null,
      "id": "2b732c96",
      "metadata": {
        "id": "2b732c96",
        "outputId": "01c6f3d3-dc18-4350-e952-4f2a5263ecca"
      },
      "outputs": [
        {
          "name": "stdout",
          "output_type": "stream",
          "text": [
            "Python                        \n"
          ]
        }
      ],
      "source": [
        "print(\"{:30}\".format(\"Python\")) # alineación a la izquierda de 30 caracteres"
      ]
    },
    {
      "cell_type": "code",
      "execution_count": null,
      "id": "7f92cd80",
      "metadata": {
        "id": "7f92cd80",
        "outputId": "72d7bc02-4cd0-4d9a-a4c8-47057292237c"
      },
      "outputs": [
        {
          "name": "stdout",
          "output_type": "stream",
          "text": [
            "            Python            \n"
          ]
        }
      ],
      "source": [
        "print(\"{:^30}\".format(\"Python\")) # alineación al centro de 30 caracteres, doce espacios a cada lado"
      ]
    },
    {
      "cell_type": "code",
      "execution_count": null,
      "id": "8b9c59d6",
      "metadata": {
        "id": "8b9c59d6",
        "outputId": "7bbb1df3-a4af-432a-cf6e-853b8dc075c8"
      },
      "outputs": [
        {
          "name": "stdout",
          "output_type": "stream",
          "text": [
            "Pyt\n"
          ]
        }
      ],
      "source": [
        "print(\"{:.3}\".format(\"Python\")) # truncamiento a 3 caracteres"
      ]
    },
    {
      "cell_type": "code",
      "execution_count": null,
      "id": "e674b06d",
      "metadata": {
        "id": "e674b06d",
        "outputId": "eec54f24-dbae-468b-d24c-85a0f77a2d5d"
      },
      "outputs": [
        {
          "name": "stdout",
          "output_type": "stream",
          "text": [
            "Me gusta JavaScript y también Py\n"
          ]
        }
      ],
      "source": [
        "print(\"Me gusta {a} y también {b:.2}\".format(a=\"JavaScript\",b=\"Python\")) # dos palabras"
      ]
    },
    {
      "cell_type": "code",
      "execution_count": null,
      "id": "48a6a21b",
      "metadata": {
        "id": "48a6a21b",
        "outputId": "5421f8eb-fedd-4a6b-c7fb-4c806ada5602"
      },
      "outputs": [
        {
          "name": "stdout",
          "output_type": "stream",
          "text": [
            "Me gusta         Java         y también Python\n"
          ]
        }
      ],
      "source": [
        "print(\"Me gusta {a:^20.4} y también {b}\".format(a=\"JavaScript\",b=\"Python\")) # podemos mezclar: centrado y truncado"
      ]
    },
    {
      "cell_type": "markdown",
      "id": "4953012d",
      "metadata": {
        "id": "4953012d"
      },
      "source": [
        "## Formateo de números enteros"
      ]
    },
    {
      "cell_type": "code",
      "execution_count": null,
      "id": "9ec2bb7d",
      "metadata": {
        "id": "9ec2bb7d",
        "outputId": "67d94abf-b6c2-41c2-d374-a7494918ecd0"
      },
      "outputs": [
        {
          "name": "stdout",
          "output_type": "stream",
          "text": [
            "10\n",
            "100\n",
            "1000\n"
          ]
        }
      ],
      "source": [
        "print(\"{}\".format(10))       # nos gustaría alinearlos\n",
        "print(\"{}\".format(100))\n",
        "print(\"{}\".format(1000))"
      ]
    },
    {
      "cell_type": "code",
      "execution_count": null,
      "id": "0b295c8a",
      "metadata": {
        "id": "0b295c8a",
        "outputId": "7beb4fa8-6cb0-43f1-b312-a7bbeb950521"
      },
      "outputs": [
        {
          "name": "stdout",
          "output_type": "stream",
          "text": [
            "  10\n",
            " 100\n",
            "1000\n"
          ]
        }
      ],
      "source": [
        "print(\"{:4d}\".format(10))     # alineado a 4 dígitos\n",
        "print(\"{:4d}\".format(100))\n",
        "print(\"{:4d}\".format(1000))"
      ]
    },
    {
      "cell_type": "markdown",
      "id": "a413dc88",
      "metadata": {
        "id": "a413dc88"
      },
      "source": [
        "## Formateo de números flotantes\n",
        "### Rellenados con espacios"
      ]
    },
    {
      "cell_type": "code",
      "execution_count": null,
      "id": "7a6a1a79",
      "metadata": {
        "id": "7a6a1a79",
        "outputId": "d58de6ca-1a32-441b-de16-a5606b4b796c"
      },
      "outputs": [
        {
          "data": {
            "text/plain": [
              "2.718281828459045"
            ]
          },
          "execution_count": 9,
          "metadata": {},
          "output_type": "execute_result"
        }
      ],
      "source": [
        "import math\n",
        "e = math.exp(1)\n",
        "e"
      ]
    },
    {
      "cell_type": "code",
      "execution_count": null,
      "id": "b752aafa",
      "metadata": {
        "id": "b752aafa",
        "outputId": "f8afc4a6-bc35-4d01-bfb4-f49464e0bc3e"
      },
      "outputs": [
        {
          "name": "stdout",
          "output_type": "stream",
          "text": [
            "Número e = 2.7183\n"
          ]
        }
      ],
      "source": [
        "print(\"Número e = {:.4f}\".format(e)) # formato redondeado a 4 decimales"
      ]
    },
    {
      "cell_type": "markdown",
      "id": "df2acb0a",
      "metadata": {
        "id": "df2acb0a"
      },
      "source": [
        "#### ```f``` significa format\n",
        "Permite imprimir con formato."
      ]
    },
    {
      "cell_type": "code",
      "execution_count": null,
      "id": "064208c8",
      "metadata": {
        "id": "064208c8",
        "outputId": "80e6e3df-4026-43f9-c9e1-91f06b3f97fc"
      },
      "outputs": [
        {
          "name": "stdout",
          "output_type": "stream",
          "text": [
            "Número e = 2.72\n"
          ]
        }
      ],
      "source": [
        "print(f\"Número e = {e:.2f}\")         # con el otro sistema de formato"
      ]
    },
    {
      "cell_type": "code",
      "execution_count": null,
      "id": "92ecf1e6",
      "metadata": {
        "id": "92ecf1e6",
        "outputId": "6c88c090-3134-42bf-94b6-9ba25ab8c72a"
      },
      "outputs": [
        {
          "name": "stdout",
          "output_type": "stream",
          "text": [
            "Número e = 2.718\n",
            "Número G = 667.42\n"
          ]
        }
      ],
      "source": [
        "G = 667.42\n",
        "print(f\"Número e = {e:.3f}\")\n",
        "print(f\"Número G = {G:.2f}\")         # nos gustaría alinear los dos valores float al punto decimal"
      ]
    },
    {
      "cell_type": "markdown",
      "id": "a40bdf56",
      "metadata": {
        "id": "a40bdf56"
      },
      "source": [
        "Alineando al punto decimal.  \n",
        "Vemos que en total son 7 caracteres (3 enteros, el punto, 3 decimales)."
      ]
    },
    {
      "cell_type": "code",
      "execution_count": null,
      "id": "98c9149b",
      "metadata": {
        "id": "98c9149b",
        "outputId": "bb6f7061-cb52-48a8-8360-d0f646cdab79"
      },
      "outputs": [
        {
          "name": "stdout",
          "output_type": "stream",
          "text": [
            "Número e =   2.718\n",
            "Número G = 667.420\n"
          ]
        }
      ],
      "source": [
        "print(f\"Número e = {e:7.3f}\")\n",
        "print(f\"Número G = {G:7.3f}\")"
      ]
    },
    {
      "cell_type": "markdown",
      "id": "845a0ef2",
      "metadata": {
        "id": "845a0ef2"
      },
      "source": [
        "### Rellenar con ceros"
      ]
    },
    {
      "cell_type": "code",
      "execution_count": null,
      "id": "767532fb",
      "metadata": {
        "id": "767532fb",
        "outputId": "312ec0e0-272c-47d2-f477-f0c3500dead0"
      },
      "outputs": [
        {
          "name": "stdout",
          "output_type": "stream",
          "text": [
            "Número e = 002.718\n",
            "Número G = 667.420\n"
          ]
        }
      ],
      "source": [
        "print(f\"Número e = {e:07.3f}\")\n",
        "print(f\"Número G = {G:07.3f}\")"
      ]
    }
  ],
  "metadata": {
    "kernelspec": {
      "display_name": "Python 3",
      "language": "python",
      "name": "python3"
    },
    "language_info": {
      "codemirror_mode": {
        "name": "ipython",
        "version": 3
      },
      "file_extension": ".py",
      "mimetype": "text/x-python",
      "name": "python",
      "nbconvert_exporter": "python",
      "pygments_lexer": "ipython3",
      "version": "3.8.8"
    },
    "colab": {
      "name": "0060_maquetando_texto.ipynb",
      "provenance": [],
      "include_colab_link": true
    }
  },
  "nbformat": 4,
  "nbformat_minor": 5
}
