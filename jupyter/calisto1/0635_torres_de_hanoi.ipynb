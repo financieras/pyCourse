{
  "nbformat": 4,
  "nbformat_minor": 0,
  "metadata": {
    "colab": {
      "name": "0635_torres_de_hanoi.ipynb",
      "provenance": [],
      "authorship_tag": "ABX9TyOXFeDQKG1mnMypx5i8oza/",
      "include_colab_link": true
    },
    "kernelspec": {
      "name": "python3",
      "display_name": "Python 3"
    },
    "language_info": {
      "name": "python"
    }
  },
  "cells": [
    {
      "cell_type": "markdown",
      "metadata": {
        "id": "view-in-github",
        "colab_type": "text"
      },
      "source": [
        "<a href=\"https://colab.research.google.com/github/financieras/pyCourse/blob/main/jupyter/calisto1/calisto1_0635.ipynb\" target=\"_parent\"><img src=\"https://colab.research.google.com/assets/colab-badge.svg\" alt=\"Open In Colab\"/></a>"
      ]
    },
    {
      "cell_type": "markdown",
      "source": [
        "# Las Torres de Hanoi\n",
        "\n",
        "Un juego resuelto con recursividad.\n",
        "\n",
        "* [juego online](https://www.mathsisfun.com/games/towerofhanoi.html)\n",
        "* [vídeo](https://youtu.be/TzbJIDZeXBg)\n",
        "\n",
        "![matriz.png](https://drive.google.com/uc?id=14t18C42BsryjNJuMXJhTXOvas_Gd95H-)\n",
        "\n",
        "\n",
        "Mover los discos de la torre de origen (A), hasta la torre de destino (C), pudiendo apoyarnos en la torre auxiliar (B).\n",
        "\n",
        "Reglas:\n",
        "* Solo se puede mover un disco cada vez\n",
        "* Un disco grande no pueden estar encima de otro más pequeño\n",
        "\n",
        "\n",
        "Si llamamos $n$ al número de discos, entonces el número de movimientos mínimos necesarios serán:  $2^n-1$\n",
        "\n",
        "- n = 1 movimientos = 1\n",
        "- n = 2 movimientos = 3\n",
        "- n = 3 movimientos = 7\n",
        "- ... ... ...\n",
        "- n = 9 movimientos = 511\n",
        "- ... ... ...\n",
        "- n = 64 movimientos = 18.446.744.073.709.551.615"
      ],
      "metadata": {
        "id": "Jid1z48FpgXd"
      }
    },
    {
      "cell_type": "code",
      "execution_count": null,
      "metadata": {
        "colab": {
          "base_uri": "https://localhost:8080/"
        },
        "id": "Uiv5L2gPpfxi",
        "outputId": "6119ac45-2edc-417b-eb74-cfa64dfb70fb"
      },
      "outputs": [
        {
          "output_type": "stream",
          "name": "stdout",
          "text": [
            "Mover el disco 1 desde el origen A, hasta el destino C\n",
            "Mover el disco 2 desde el origen A, hasta el destino B\n",
            "Mover el disco 1 desde el origen C, hasta el destino B\n",
            "Mover el disco 3 desde el origen A, hasta el destino C\n",
            "Mover el disco 1 desde el origen B, hasta el destino A\n",
            "Mover el disco 2 desde el origen B, hasta el destino C\n",
            "Mover el disco 1 desde el origen A, hasta el destino C\n"
          ]
        }
      ],
      "source": [
        "# Recursididad para resolver el problema de las Torres de Hanoi\n",
        "\n",
        "def hanoi(n , origen, destino, auxiliar):\n",
        "    if n==1:\n",
        "        print (f\"Mover el disco 1 desde el origen {origen}, hasta el destino {destino}\")\n",
        "    else:\n",
        "        hanoi(n-1, origen, auxiliar, destino)\n",
        "        print (f\"Mover el disco {n} desde el origen {origen}, hasta el destino {destino}\")\n",
        "        hanoi(n-1, auxiliar, destino, origen)\n",
        "\n",
        "n = 3   # número de discos\n",
        "\n",
        "hanoi(n,'A','C','B')   # origen:A, destino:C, auxiliar:B\n",
        "# A, C, B son los nombres de los palos o estacas o torres o varillas donde vamos a jugar"
      ]
    },
    {
      "cell_type": "markdown",
      "source": [
        "## Usando listas\n",
        "\n",
        "Vamos a representar en tres listas anidadas las tres Torres de Hanoi:\n",
        "\n",
        " * varilla A: origen\n",
        " * varilla B: auxiliar\n",
        " * varilla C: destino\n",
        "\n",
        "Se forma la matriz `m = [a, b, c]`"
      ],
      "metadata": {
        "id": "kIzmIypVoxOA"
      }
    },
    {
      "cell_type": "code",
      "source": [
        "def wmatrix(x, origen, destino):   # reescribe la matriz m\n",
        "    if origen==\"A\": o=a\n",
        "    if origen==\"B\": o=b\n",
        "    if origen==\"C\": o=c\n",
        "    if destino==\"A\": d=a\n",
        "    if destino==\"B\": d=b\n",
        "    if destino==\"C\": d=c    \n",
        "    for i in range(len(o)):\n",
        "        if o[i]==x:\n",
        "            o[i]=0\n",
        "            # buscando el primer cero por la derecha del destino\n",
        "            for j in range(len(d)-1,-1,-1):\n",
        "                if d[j]==0:\n",
        "                    k = j\n",
        "                    break\n",
        "            d[k] = x\n",
        "            break\n",
        "\n",
        "def hanoi(n, origen, destino, auxiliar):\n",
        "    if n==1:\n",
        "        print(f\"Mover el disco 1 desde el origen {origen}, hasta el destino {destino}  \", end=\"\")\n",
        "        wmatrix(n, origen, destino)\n",
        "        print(*m)   # el * evita corchetes y comas de la lista externa de la matriz m\n",
        "    else:\n",
        "        hanoi(n-1, origen, auxiliar, destino)\n",
        "        print(f\"Mover el disco {n} desde el origen {origen}, hasta el destino {destino}  \", end=\"\")\n",
        "        wmatrix(n, origen, destino)\n",
        "        print(*m)\n",
        "        hanoi(n-1, auxiliar, destino, origen)\n",
        "\n",
        "if __name__ == \"__main__\":\n",
        "    n = 4                     # número de discos\n",
        "    a = list(range(1, n+1))   # varilla A inicial\n",
        "    b = [0]*n                 # varilla B inicial\n",
        "    c = [0]*n                 # varilla C inicial\n",
        "    m = [a, b, c]             # creamos una matriz con las tres listas\n",
        "    print(\" \"*55, *m)         # situación de partida\n",
        "    hanoi(n, 'A', 'C', 'B')   # origen:A, destino:C, auxiliar:B"
      ],
      "metadata": {
        "colab": {
          "base_uri": "https://localhost:8080/"
        },
        "id": "lAWg7MgtpAwj",
        "outputId": "ed60333a-cf60-4b52-ffe4-963e3eeabdba"
      },
      "execution_count": 1,
      "outputs": [
        {
          "output_type": "stream",
          "name": "stdout",
          "text": [
            "                                                        [1, 2, 3, 4] [0, 0, 0, 0] [0, 0, 0, 0]\n",
            "Mover el disco 1 desde el origen A, hasta el destino B  [0, 2, 3, 4] [0, 0, 0, 1] [0, 0, 0, 0]\n",
            "Mover el disco 2 desde el origen A, hasta el destino C  [0, 0, 3, 4] [0, 0, 0, 1] [0, 0, 0, 2]\n",
            "Mover el disco 1 desde el origen B, hasta el destino C  [0, 0, 3, 4] [0, 0, 0, 0] [0, 0, 1, 2]\n",
            "Mover el disco 3 desde el origen A, hasta el destino B  [0, 0, 0, 4] [0, 0, 0, 3] [0, 0, 1, 2]\n",
            "Mover el disco 1 desde el origen C, hasta el destino A  [0, 0, 1, 4] [0, 0, 0, 3] [0, 0, 0, 2]\n",
            "Mover el disco 2 desde el origen C, hasta el destino B  [0, 0, 1, 4] [0, 0, 2, 3] [0, 0, 0, 0]\n",
            "Mover el disco 1 desde el origen A, hasta el destino B  [0, 0, 0, 4] [0, 1, 2, 3] [0, 0, 0, 0]\n",
            "Mover el disco 4 desde el origen A, hasta el destino C  [0, 0, 0, 0] [0, 1, 2, 3] [0, 0, 0, 4]\n",
            "Mover el disco 1 desde el origen B, hasta el destino C  [0, 0, 0, 0] [0, 0, 2, 3] [0, 0, 1, 4]\n",
            "Mover el disco 2 desde el origen B, hasta el destino A  [0, 0, 0, 2] [0, 0, 0, 3] [0, 0, 1, 4]\n",
            "Mover el disco 1 desde el origen C, hasta el destino A  [0, 0, 1, 2] [0, 0, 0, 3] [0, 0, 0, 4]\n",
            "Mover el disco 3 desde el origen B, hasta el destino C  [0, 0, 1, 2] [0, 0, 0, 0] [0, 0, 3, 4]\n",
            "Mover el disco 1 desde el origen A, hasta el destino B  [0, 0, 0, 2] [0, 0, 0, 1] [0, 0, 3, 4]\n",
            "Mover el disco 2 desde el origen A, hasta el destino C  [0, 0, 0, 0] [0, 0, 0, 1] [0, 2, 3, 4]\n",
            "Mover el disco 1 desde el origen B, hasta el destino C  [0, 0, 0, 0] [0, 0, 0, 0] [1, 2, 3, 4]\n"
          ]
        }
      ]
    }
  ]
}
