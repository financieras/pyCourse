{
  "cells": [
    {
      "cell_type": "markdown",
      "metadata": {
        "id": "view-in-github",
        "colab_type": "text"
      },
      "source": [
        "<a href=\"https://colab.research.google.com/github/financieras/pyCourse/blob/main/jupyter/calisto1_0160.ipynb\" target=\"_parent\"><img src=\"https://colab.research.google.com/assets/colab-badge.svg\" alt=\"Open In Colab\"/></a>"
      ]
    },
    {
      "cell_type": "markdown",
      "id": "6e2a5da3",
      "metadata": {
        "id": "6e2a5da3"
      },
      "source": [
        "# Reto: Hora a la que poner la alarma"
      ]
    },
    {
      "cell_type": "markdown",
      "id": "b0f11234",
      "metadata": {
        "id": "b0f11234"
      },
      "source": [
        "Crear un programa que haga al usuario dos preguntas:  \n",
        "- La hora actual en formato hh:mm (ejemplo 22:45, son las once menos cuarto de la noche)\n",
        "- Las horas y minutos que queremos esperar hasta que suene la alarma, por ejemplo 2:30 indicaría que han de pasar dos horas y media hasta que suene la alarma.  \n",
        "\n",
        "El programa nos dará como resultado la hora a la que tenemos que programar nuestra alarma para que suene.  \n",
        "\n",
        "Con los datos aportado en el ejemplo, la alarma se ha de programar para que suene a la 1:15 lo que supone programar la alarma a la una y cuarto de la madrugada. Haciendo esto habremos logrado el objetivo de que pasen dos horas y media hasta que suene la alarma.  \n",
        "![img/horas.jpg](https://github.com/financieras/pyCourse/blob/main/jupyter/img/horas.jpg?raw=1)\n"
      ]
    },
    {
      "cell_type": "markdown",
      "id": "7db7c3c6",
      "metadata": {
        "id": "7db7c3c6"
      },
      "source": [
        "Resolvamos el reto sin usar librerías externas."
      ]
    },
    {
      "cell_type": "code",
      "execution_count": null,
      "id": "36e436b0",
      "metadata": {
        "id": "36e436b0"
      },
      "outputs": [],
      "source": [
        "print('Programación de la alarma.')\n",
        "inicio = input(\"Indique la hora actual, por ejemplo 22:45: \") or \"22:45\"\n",
        "print(\"Hora de inicio =\", inicio)\n",
        "inicio_h = int(inicio[:inicio.index(':')])      # horas\n",
        "print(\"Hora de inicio:\", inicio_h)\n",
        "inicio_m = int(inicio[inicio.index(':')+1:])    # minutos\n",
        "print(\"Minutos de inicio:\", inicio_m)\n",
        "lapso = input(\"Indique el lapso de tiempo hasta que suene la alarma, por ejemplo 2:30\") or \"2:30\"\n",
        "print(\"El lapso de tiempo a esperar es =\", lapso)\n",
        "lapso_h = int(lapso[:lapso.index(':')])         # horas\n",
        "print(\"Hora del lapso:\", lapso_h)\n",
        "lapso_m = int(lapso[lapso.index(':')+1:])       # minutos\n",
        "print(\"Minutos del lapso:\", lapso_m)\n",
        "alarma_m = (inicio_m + lapso_m) % 60\n",
        "alarma_h = (inicio_h + lapso_h + (inicio_m+lapso_m)//60) % 24\n",
        "print(f\"La alarma sonará a las {alarma_h:02}:{alarma_m:02} horas.\")"
      ]
    },
    {
      "cell_type": "markdown",
      "id": "bfed9da1",
      "metadata": {
        "id": "bfed9da1"
      },
      "source": [
        "* 22:45 + 02:30 =  1:15 horas\n",
        "* 22:45 + 27:20 = 02:05 horas\n",
        "* 6:02 + 35:03 = 17:05 horas"
      ]
    }
  ],
  "metadata": {
    "kernelspec": {
      "display_name": "Python 3 (ipykernel)",
      "language": "python",
      "name": "python3"
    },
    "language_info": {
      "codemirror_mode": {
        "name": "ipython",
        "version": 3
      },
      "file_extension": ".py",
      "mimetype": "text/x-python",
      "name": "python",
      "nbconvert_exporter": "python",
      "pygments_lexer": "ipython3",
      "version": "3.8.11"
    },
    "colab": {
      "name": "0160_hora_de_la_alarma.ipynb",
      "provenance": [],
      "include_colab_link": true
    }
  },
  "nbformat": 4,
  "nbformat_minor": 5
}
