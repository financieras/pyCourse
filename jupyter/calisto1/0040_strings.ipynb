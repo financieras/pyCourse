{
  "cells": [
    {
      "cell_type": "markdown",
      "metadata": {
        "id": "view-in-github",
        "colab_type": "text"
      },
      "source": [
        "<a href=\"https://colab.research.google.com/github/financieras/pyCourse/blob/main/jupyter/calisto1_0040.ipynb\" target=\"_parent\"><img src=\"https://colab.research.google.com/assets/colab-badge.svg\" alt=\"Open In Colab\"/></a>"
      ]
    },
    {
      "cell_type": "markdown",
      "id": "e98a92a5",
      "metadata": {
        "id": "e98a92a5"
      },
      "source": [
        "# Cadenas (Strings)"
      ]
    },
    {
      "cell_type": "code",
      "execution_count": null,
      "id": "4ee2203b",
      "metadata": {
        "id": "4ee2203b"
      },
      "outputs": [],
      "source": [
        "\"hola\"            # directamente en el intérprete de Python"
      ]
    },
    {
      "cell_type": "code",
      "execution_count": null,
      "id": "e23a6dd7",
      "metadata": {
        "id": "e23a6dd7"
      },
      "outputs": [],
      "source": [
        "print(\"Hola\")     # usando la función print"
      ]
    },
    {
      "cell_type": "markdown",
      "id": "6081021a",
      "metadata": {
        "id": "6081021a"
      },
      "source": [
        "## Repetir expresiones"
      ]
    },
    {
      "cell_type": "code",
      "execution_count": null,
      "id": "31f0bcb0",
      "metadata": {
        "id": "31f0bcb0"
      },
      "outputs": [],
      "source": [
        "\"hi\" * 3          # repetir expresiones"
      ]
    },
    {
      "cell_type": "code",
      "execution_count": null,
      "id": "3e6f7b72",
      "metadata": {
        "id": "3e6f7b72"
      },
      "outputs": [],
      "source": [
        "print(\"Bienvenidos\")\n",
        "print(\"=\"*30)\n",
        "print(\"Fin del progama\")"
      ]
    },
    {
      "cell_type": "markdown",
      "id": "58c650b0",
      "metadata": {
        "id": "58c650b0"
      },
      "source": [
        "## Concatenar expresiones"
      ]
    },
    {
      "cell_type": "code",
      "execution_count": null,
      "id": "e379b647",
      "metadata": {
        "id": "e379b647"
      },
      "outputs": [],
      "source": [
        "\"hola\" + \"mundo\"  # concatenar"
      ]
    },
    {
      "cell_type": "code",
      "execution_count": null,
      "id": "1eb00665",
      "metadata": {
        "id": "1eb00665"
      },
      "outputs": [],
      "source": [
        "print(\"hola\" + \" \" + \"mundo\")"
      ]
    },
    {
      "cell_type": "markdown",
      "id": "5f9bfa3b",
      "metadata": {
        "id": "5f9bfa3b"
      },
      "source": [
        "## Asignando variables"
      ]
    },
    {
      "cell_type": "code",
      "execution_count": null,
      "id": "81059451",
      "metadata": {
        "id": "81059451"
      },
      "outputs": [],
      "source": [
        "string1 = \"hola\"\n",
        "string2 =  \"mundo\"\n",
        "string3 = string1 + string2  # concatenando\n",
        "print(string3)               # si olvidamos cerrar el paréntesis se producirá un Error de sintaxis"
      ]
    },
    {
      "cell_type": "markdown",
      "id": "01950c38",
      "metadata": {
        "id": "01950c38"
      },
      "source": [
        "Un enlace a un post que muestra múltiples formas de decir 'Hola mundo' en Python.\n",
        "\n",
        "[Hola mundo en Python](https://altocodigo.blogspot.com/2018/06/1-hola-mundo-en-python.html)"
      ]
    },
    {
      "cell_type": "markdown",
      "id": "11020dc7",
      "metadata": {
        "id": "11020dc7"
      },
      "source": [
        "## Error al concatenar con un número"
      ]
    },
    {
      "cell_type": "code",
      "execution_count": null,
      "id": "5f4a6df6",
      "metadata": {
        "id": "5f4a6df6"
      },
      "outputs": [],
      "source": [
        "#\"Vuelo \" + 505               # TypeError: can only concatenate str (not \"int\") to str"
      ]
    },
    {
      "cell_type": "code",
      "execution_count": null,
      "id": "86e3504e",
      "metadata": {
        "id": "86e3504e"
      },
      "outputs": [],
      "source": [
        "\"Vuelo \" + str(505)           # la función str() convierte un número en cadena"
      ]
    },
    {
      "cell_type": "markdown",
      "source": [
        "### Mi nombre y mi edad\n",
        "A la edad la tenemos que añadir la función `str()` que convierte un número en cadena (string)."
      ],
      "metadata": {
        "id": "A4n4DBvZK02x"
      },
      "id": "A4n4DBvZK02x"
    },
    {
      "cell_type": "code",
      "source": [
        "nombre = \"Alex\"\n",
        "edad = 30\n",
        "print(\"Me llamo \" + nombre + \" y tengo \" + str(edad) + \" años.\")"
      ],
      "metadata": {
        "id": "MfL3KJ6mLOjz"
      },
      "id": "MfL3KJ6mLOjz",
      "execution_count": null,
      "outputs": []
    },
    {
      "cell_type": "markdown",
      "source": [
        "#### Otra forma de escribirlo más moderna, con formato"
      ],
      "metadata": {
        "id": "OTx36JOWLlrt"
      },
      "id": "OTx36JOWLlrt"
    },
    {
      "cell_type": "code",
      "source": [
        "print(f\"Me llamo {nombre} y tengo {edad} años.\")"
      ],
      "metadata": {
        "id": "djkwBfKBLr0F"
      },
      "id": "djkwBfKBLr0F",
      "execution_count": null,
      "outputs": []
    },
    {
      "cell_type": "markdown",
      "id": "d2d77353",
      "metadata": {
        "id": "d2d77353"
      },
      "source": [
        "## Comparando\n",
        "* = &nbsp;&nbsp;&nbsp;&nbsp;se usa para asignar un valor a una variable\n",
        "* == &nbsp;&nbsp;se usa para comparar dos valores o variables, formándose una expresión lógica"
      ]
    },
    {
      "cell_type": "code",
      "execution_count": null,
      "id": "1d3a196b",
      "metadata": {
        "id": "1d3a196b"
      },
      "outputs": [],
      "source": [
        "2 + 8 == 10          #True"
      ]
    },
    {
      "cell_type": "code",
      "execution_count": null,
      "id": "1b908195",
      "metadata": {
        "id": "1b908195"
      },
      "outputs": [],
      "source": [
        "123 == '123'         #False"
      ]
    },
    {
      "cell_type": "code",
      "execution_count": null,
      "id": "bce9b6a9",
      "metadata": {
        "id": "bce9b6a9"
      },
      "outputs": [],
      "source": [
        "'Hola' == \"Hola\"     #True"
      ]
    },
    {
      "cell_type": "code",
      "execution_count": null,
      "id": "e25dd0e9",
      "metadata": {
        "id": "e25dd0e9"
      },
      "outputs": [],
      "source": [
        "\"A\" + \"B\" == \"AB\"    #True"
      ]
    }
  ],
  "metadata": {
    "kernelspec": {
      "display_name": "Python 3 (ipykernel)",
      "language": "python",
      "name": "python3"
    },
    "language_info": {
      "codemirror_mode": {
        "name": "ipython",
        "version": 3
      },
      "file_extension": ".py",
      "mimetype": "text/x-python",
      "name": "python",
      "nbconvert_exporter": "python",
      "pygments_lexer": "ipython3",
      "version": "3.8.11"
    },
    "colab": {
      "name": "0040_strings.ipynb",
      "provenance": [],
      "include_colab_link": true
    }
  },
  "nbformat": 4,
  "nbformat_minor": 5
}
