{
  "cells": [
    {
      "cell_type": "markdown",
      "metadata": {
        "id": "view-in-github",
        "colab_type": "text"
      },
      "source": [
        "<a href=\"https://colab.research.google.com/github/financieras/pyCourse/blob/main/jupyter/calisto1/0040_strings.ipynb\" target=\"_parent\"><img src=\"https://colab.research.google.com/assets/colab-badge.svg\" alt=\"Open In Colab\"/></a>"
      ]
    },
    {
      "cell_type": "markdown",
      "id": "e98a92a5",
      "metadata": {
        "id": "e98a92a5"
      },
      "source": [
        "# Strings\n",
        "Los strings son cadenas alfanuméricas."
      ]
    },
    {
      "cell_type": "code",
      "execution_count": 1,
      "id": "4ee2203b",
      "metadata": {
        "id": "4ee2203b",
        "outputId": "545b7387-8592-45d1-f6c4-d73e127759e2",
        "colab": {
          "base_uri": "https://localhost:8080/",
          "height": 35
        }
      },
      "outputs": [
        {
          "output_type": "execute_result",
          "data": {
            "text/plain": [
              "'hola'"
            ],
            "application/vnd.google.colaboratory.intrinsic+json": {
              "type": "string"
            }
          },
          "metadata": {},
          "execution_count": 1
        }
      ],
      "source": [
        "\"hola\"            # directamente en el intérprete de Python"
      ]
    },
    {
      "cell_type": "code",
      "execution_count": 2,
      "id": "e23a6dd7",
      "metadata": {
        "id": "e23a6dd7",
        "outputId": "91b2111e-06dc-451b-ad47-40545c21a18a",
        "colab": {
          "base_uri": "https://localhost:8080/"
        }
      },
      "outputs": [
        {
          "output_type": "stream",
          "name": "stdout",
          "text": [
            "Hola\n"
          ]
        }
      ],
      "source": [
        "print(\"Hola\")     # usando la función print"
      ]
    },
    {
      "cell_type": "markdown",
      "id": "6081021a",
      "metadata": {
        "id": "6081021a"
      },
      "source": [
        "## Repetir expresiones"
      ]
    },
    {
      "cell_type": "code",
      "execution_count": 3,
      "id": "31f0bcb0",
      "metadata": {
        "id": "31f0bcb0",
        "outputId": "79f2d58e-715d-4a7f-d850-9ed0d07dc28d",
        "colab": {
          "base_uri": "https://localhost:8080/",
          "height": 35
        }
      },
      "outputs": [
        {
          "output_type": "execute_result",
          "data": {
            "text/plain": [
              "'hihihi'"
            ],
            "application/vnd.google.colaboratory.intrinsic+json": {
              "type": "string"
            }
          },
          "metadata": {},
          "execution_count": 3
        }
      ],
      "source": [
        "\"hi\" * 3          # repetir expresiones"
      ]
    },
    {
      "cell_type": "code",
      "execution_count": 4,
      "id": "3e6f7b72",
      "metadata": {
        "id": "3e6f7b72",
        "outputId": "c0d03699-9309-46da-9b72-0aba0ae1b327",
        "colab": {
          "base_uri": "https://localhost:8080/"
        }
      },
      "outputs": [
        {
          "output_type": "stream",
          "name": "stdout",
          "text": [
            "Bienvenidos\n",
            "==============================\n",
            "Fin del progama\n"
          ]
        }
      ],
      "source": [
        "print(\"Bienvenidos\")\n",
        "print(\"=\"*30)\n",
        "print(\"Fin del progama\")"
      ]
    },
    {
      "cell_type": "markdown",
      "id": "58c650b0",
      "metadata": {
        "id": "58c650b0"
      },
      "source": [
        "## Concatenar expresiones"
      ]
    },
    {
      "cell_type": "code",
      "execution_count": 5,
      "id": "e379b647",
      "metadata": {
        "id": "e379b647",
        "outputId": "132d85d8-a0ca-4199-e567-dfb1852f3a06",
        "colab": {
          "base_uri": "https://localhost:8080/",
          "height": 35
        }
      },
      "outputs": [
        {
          "output_type": "execute_result",
          "data": {
            "text/plain": [
              "'holamundo'"
            ],
            "application/vnd.google.colaboratory.intrinsic+json": {
              "type": "string"
            }
          },
          "metadata": {},
          "execution_count": 5
        }
      ],
      "source": [
        "\"hola\" + \"mundo\"  # concatenar"
      ]
    },
    {
      "cell_type": "code",
      "execution_count": 6,
      "id": "1eb00665",
      "metadata": {
        "id": "1eb00665",
        "outputId": "2beee09b-ddc3-4795-c16c-d40d020a7c0b",
        "colab": {
          "base_uri": "https://localhost:8080/"
        }
      },
      "outputs": [
        {
          "output_type": "stream",
          "name": "stdout",
          "text": [
            "hola mundo\n"
          ]
        }
      ],
      "source": [
        "print(\"hola\" + \" \" + \"mundo\")"
      ]
    },
    {
      "cell_type": "markdown",
      "id": "5f9bfa3b",
      "metadata": {
        "id": "5f9bfa3b"
      },
      "source": [
        "## Asignando variables"
      ]
    },
    {
      "cell_type": "code",
      "execution_count": 7,
      "id": "81059451",
      "metadata": {
        "id": "81059451",
        "outputId": "11f58618-774b-475d-d1e0-898d0643a56f",
        "colab": {
          "base_uri": "https://localhost:8080/"
        }
      },
      "outputs": [
        {
          "output_type": "stream",
          "name": "stdout",
          "text": [
            "holamundo\n"
          ]
        }
      ],
      "source": [
        "string1 = \"hola\"\n",
        "string2 =  \"mundo\"\n",
        "string3 = string1 + string2  # concatenando\n",
        "print(string3)               # si olvidamos cerrar el paréntesis se producirá un Error de sintaxis"
      ]
    },
    {
      "cell_type": "markdown",
      "id": "01950c38",
      "metadata": {
        "id": "01950c38"
      },
      "source": [
        "Un enlace a un post que muestra múltiples formas de decir 'Hola mundo' en Python.\n",
        "\n",
        "[Hola mundo en Python](https://altocodigo.blogspot.com/2018/06/1-hola-mundo-en-python.html)"
      ]
    },
    {
      "cell_type": "markdown",
      "id": "11020dc7",
      "metadata": {
        "id": "11020dc7"
      },
      "source": [
        "## Error al concatenar con un número"
      ]
    },
    {
      "cell_type": "code",
      "execution_count": 8,
      "id": "5f4a6df6",
      "metadata": {
        "id": "5f4a6df6"
      },
      "outputs": [],
      "source": [
        "#\"Vuelo \" + 505               # TypeError: can only concatenate str (not \"int\") to str"
      ]
    },
    {
      "cell_type": "code",
      "execution_count": 9,
      "id": "86e3504e",
      "metadata": {
        "id": "86e3504e",
        "outputId": "2dd6a8c7-2122-4747-f074-40e11f55f694",
        "colab": {
          "base_uri": "https://localhost:8080/",
          "height": 35
        }
      },
      "outputs": [
        {
          "output_type": "execute_result",
          "data": {
            "text/plain": [
              "'Vuelo 505'"
            ],
            "application/vnd.google.colaboratory.intrinsic+json": {
              "type": "string"
            }
          },
          "metadata": {},
          "execution_count": 9
        }
      ],
      "source": [
        "\"Vuelo \" + str(505)           # la función str() convierte un número en cadena"
      ]
    },
    {
      "cell_type": "markdown",
      "source": [
        "### Mi nombre y mi edad\n",
        "A la edad la tenemos que añadir la función `str()` que convierte un número en cadena (string)."
      ],
      "metadata": {
        "id": "A4n4DBvZK02x"
      },
      "id": "A4n4DBvZK02x"
    },
    {
      "cell_type": "code",
      "source": [
        "nombre = \"Alex\"\n",
        "edad = 30\n",
        "print(\"Me llamo \" + nombre + \" y tengo \" + str(edad) + \" años.\")"
      ],
      "metadata": {
        "id": "MfL3KJ6mLOjz",
        "outputId": "d2f78b1a-f2be-4447-bd5d-eb680b9eb386",
        "colab": {
          "base_uri": "https://localhost:8080/"
        }
      },
      "id": "MfL3KJ6mLOjz",
      "execution_count": 10,
      "outputs": [
        {
          "output_type": "stream",
          "name": "stdout",
          "text": [
            "Me llamo Alex y tengo 30 años.\n"
          ]
        }
      ]
    },
    {
      "cell_type": "markdown",
      "source": [
        "#### Otra forma de escribirlo más moderna, con formato"
      ],
      "metadata": {
        "id": "OTx36JOWLlrt"
      },
      "id": "OTx36JOWLlrt"
    },
    {
      "cell_type": "code",
      "source": [
        "print(f\"Me llamo {nombre} y tengo {edad} años.\")"
      ],
      "metadata": {
        "id": "djkwBfKBLr0F",
        "outputId": "a5d4cdda-5780-4a54-b43d-249e74650229",
        "colab": {
          "base_uri": "https://localhost:8080/"
        }
      },
      "id": "djkwBfKBLr0F",
      "execution_count": 11,
      "outputs": [
        {
          "output_type": "stream",
          "name": "stdout",
          "text": [
            "Me llamo Alex y tengo 30 años.\n"
          ]
        }
      ]
    },
    {
      "cell_type": "markdown",
      "id": "d2d77353",
      "metadata": {
        "id": "d2d77353"
      },
      "source": [
        "## Comparando\n",
        "* = &nbsp;&nbsp;&nbsp;&nbsp;se usa para asignar un valor a una variable\n",
        "* == &nbsp;&nbsp;se usa para comparar dos valores o variables, formándose una expresión lógica"
      ]
    },
    {
      "cell_type": "code",
      "execution_count": 12,
      "id": "1d3a196b",
      "metadata": {
        "id": "1d3a196b",
        "outputId": "f75a9987-5ade-4ae8-feb4-af0b34f8656b",
        "colab": {
          "base_uri": "https://localhost:8080/"
        }
      },
      "outputs": [
        {
          "output_type": "execute_result",
          "data": {
            "text/plain": [
              "True"
            ]
          },
          "metadata": {},
          "execution_count": 12
        }
      ],
      "source": [
        "2 + 8 == 10          #True"
      ]
    },
    {
      "cell_type": "code",
      "execution_count": 13,
      "id": "1b908195",
      "metadata": {
        "id": "1b908195",
        "outputId": "6f80555a-5abb-445c-bc12-566bd53e82f6",
        "colab": {
          "base_uri": "https://localhost:8080/"
        }
      },
      "outputs": [
        {
          "output_type": "execute_result",
          "data": {
            "text/plain": [
              "False"
            ]
          },
          "metadata": {},
          "execution_count": 13
        }
      ],
      "source": [
        "123 == '123'         #False"
      ]
    },
    {
      "cell_type": "code",
      "execution_count": 14,
      "id": "bce9b6a9",
      "metadata": {
        "id": "bce9b6a9",
        "outputId": "0db22a00-9f32-4119-8917-a712ebcd7155",
        "colab": {
          "base_uri": "https://localhost:8080/"
        }
      },
      "outputs": [
        {
          "output_type": "execute_result",
          "data": {
            "text/plain": [
              "True"
            ]
          },
          "metadata": {},
          "execution_count": 14
        }
      ],
      "source": [
        "'Hola' == \"Hola\"     #True"
      ]
    },
    {
      "cell_type": "code",
      "execution_count": 15,
      "id": "e25dd0e9",
      "metadata": {
        "id": "e25dd0e9",
        "outputId": "d2974898-e0ae-4391-858e-107418cf46c4",
        "colab": {
          "base_uri": "https://localhost:8080/"
        }
      },
      "outputs": [
        {
          "output_type": "execute_result",
          "data": {
            "text/plain": [
              "True"
            ]
          },
          "metadata": {},
          "execution_count": 15
        }
      ],
      "source": [
        "\"A\" + \"B\" == \"AB\"    #True"
      ]
    }
  ],
  "metadata": {
    "kernelspec": {
      "display_name": "Python 3 (ipykernel)",
      "language": "python",
      "name": "python3"
    },
    "language_info": {
      "codemirror_mode": {
        "name": "ipython",
        "version": 3
      },
      "file_extension": ".py",
      "mimetype": "text/x-python",
      "name": "python",
      "nbconvert_exporter": "python",
      "pygments_lexer": "ipython3",
      "version": "3.8.11"
    },
    "colab": {
      "name": "calisto1_0040.ipynb",
      "provenance": [],
      "include_colab_link": true
    }
  },
  "nbformat": 4,
  "nbformat_minor": 5
}