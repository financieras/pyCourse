{
  "cells": [
    {
      "cell_type": "markdown",
      "metadata": {
        "id": "view-in-github",
        "colab_type": "text"
      },
      "source": [
        "<a href=\"https://colab.research.google.com/github/financieras/pyCourse/blob/main/jupyter/calisto1_0360.ipynb\" target=\"_parent\"><img src=\"https://colab.research.google.com/assets/colab-badge.svg\" alt=\"Open In Colab\"/></a>"
      ]
    },
    {
      "cell_type": "markdown",
      "id": "c733515f",
      "metadata": {
        "id": "c733515f"
      },
      "source": [
        "# Bucles ```for``` anidados"
      ]
    },
    {
      "cell_type": "markdown",
      "id": "3b50923b",
      "metadata": {
        "id": "3b50923b"
      },
      "source": [
        "Un bucle anidado es un bucle dentro de un bucle.  \n",
        "El \"bucle interno\" se ejecutará una vez por cada iteración del \"bucle externo\"."
      ]
    },
    {
      "cell_type": "code",
      "execution_count": null,
      "id": "476a1e71",
      "metadata": {
        "id": "476a1e71"
      },
      "outputs": [],
      "source": [
        "for i in range(1,11):\n",
        "    for j in range(1,4):\n",
        "        print(f\"El producto de {i} por {j} es {i*j}.\")\n",
        "    print(\"=\"*30)"
      ]
    },
    {
      "cell_type": "code",
      "execution_count": null,
      "id": "5df0658f",
      "metadata": {
        "id": "5df0658f"
      },
      "outputs": [],
      "source": [
        "for i in ['España', 'Francia', 'Italia']:\n",
        "    for j in ['playa', 'montaña', 'rural', 'ciudades']:\n",
        "        print(f\"Vacaciones en {i} de tipo {j}\")"
      ]
    },
    {
      "cell_type": "code",
      "execution_count": null,
      "id": "dce0980f",
      "metadata": {
        "id": "dce0980f"
      },
      "outputs": [],
      "source": [
        "for i in range(1,4):\n",
        "    print(i)\n",
        "    for j in ['a', 'b', 'c']:\n",
        "        print(j)\n",
        "        #print(\"\\t\"+str(j))   #con esta alternativa introducimos tabuladores"
      ]
    },
    {
      "cell_type": "markdown",
      "id": "dcddc858",
      "metadata": {
        "id": "dcddc858"
      },
      "source": [
        "## Acceder a los elementos de una matriz"
      ]
    },
    {
      "cell_type": "code",
      "execution_count": null,
      "id": "b9df266f",
      "metadata": {
        "id": "b9df266f"
      },
      "outputs": [],
      "source": [
        "A =[\n",
        "    ['a','b','c'],\n",
        "    ['i','j','k'],\n",
        "    ['l','m','n'],\n",
        "    ['r','p','q'],\n",
        "    ['x','y','z']\n",
        "]\n",
        "\n",
        "filas = len(A)\n",
        "columnas = len(A[0])\n",
        "print(\"filas:\", filas)\n",
        "print(\"columnas:\", columnas)\n",
        "print(\"~\"*20)\n",
        "\n",
        "for i in range(filas):\n",
        "    for j in range(columnas):\n",
        "        print(f\"a{i+1}{j+1} = A[{i}][{j}] = {A[i][j]}\")\n",
        "    print(\"~\"*20)"
      ]
    },
    {
      "cell_type": "markdown",
      "id": "1288f067",
      "metadata": {
        "id": "1288f067"
      },
      "source": [
        "## Generación de números primos"
      ]
    },
    {
      "cell_type": "markdown",
      "id": "267ce227",
      "metadata": {
        "id": "267ce227"
      },
      "source": [
        "Puede ver la generación de números primos en Python en las siguientes entradas del blog.\n",
        "- [Generación de números primos en Python](https://altocodigo.blogspot.com/2017/09/numeros-primos-en-python.html)\n",
        "- [Números primos en Python](https://altocodigo.blogspot.com/2021/01/numeros-primos-en-python.html)"
      ]
    },
    {
      "cell_type": "code",
      "execution_count": null,
      "id": "f510de38",
      "metadata": {
        "scrolled": true,
        "id": "f510de38"
      },
      "outputs": [],
      "source": [
        "print(2, end = ',')\n",
        "for i in range(3,150,2):\n",
        "    for j in range(3,int(i**.5)+1,2):\n",
        "        if i%j==0: break\n",
        "    else: print(i, end = ',')"
      ]
    }
  ],
  "metadata": {
    "kernelspec": {
      "display_name": "Python 3 (ipykernel)",
      "language": "python",
      "name": "python3"
    },
    "language_info": {
      "codemirror_mode": {
        "name": "ipython",
        "version": 3
      },
      "file_extension": ".py",
      "mimetype": "text/x-python",
      "name": "python",
      "nbconvert_exporter": "python",
      "pygments_lexer": "ipython3",
      "version": "3.8.11"
    },
    "colab": {
      "name": "0360_bucles_for_anidados.ipynb",
      "provenance": [],
      "include_colab_link": true
    }
  },
  "nbformat": 4,
  "nbformat_minor": 5
}
