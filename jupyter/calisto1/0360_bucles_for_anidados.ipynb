{
  "cells": [
    {
      "cell_type": "markdown",
      "metadata": {
        "id": "view-in-github",
        "colab_type": "text"
      },
      "source": [
        "<a href=\"https://colab.research.google.com/github/financieras/pyCourse/blob/main/jupyter/calisto1/0360_bucles_for_anidados.ipynb\" target=\"_parent\"><img src=\"https://colab.research.google.com/assets/colab-badge.svg\" alt=\"Open In Colab\"/></a>"
      ]
    },
    {
      "cell_type": "markdown",
      "id": "c733515f",
      "metadata": {
        "id": "c733515f"
      },
      "source": [
        "# Bucles ```for``` anidados"
      ]
    },
    {
      "cell_type": "markdown",
      "id": "3b50923b",
      "metadata": {
        "id": "3b50923b"
      },
      "source": [
        "Un bucle anidado es un bucle dentro de un bucle.  \n",
        "El \"bucle interno\" se ejecutará una vez por cada iteración del \"bucle externo\"."
      ]
    },
    {
      "cell_type": "code",
      "execution_count": 6,
      "id": "476a1e71",
      "metadata": {
        "id": "476a1e71",
        "outputId": "791b382f-e7b1-489a-ddc6-548380bc5178",
        "colab": {
          "base_uri": "https://localhost:8080/"
        }
      },
      "outputs": [
        {
          "output_type": "stream",
          "name": "stdout",
          "text": [
            "El producto de 1 por 1 es 1.\n",
            "El producto de 1 por 2 es 2.\n",
            "El producto de 1 por 3 es 3.\n",
            "==============================\n",
            "El producto de 6 por 1 es 6.\n",
            "El producto de 6 por 2 es 12.\n",
            "El producto de 6 por 3 es 18.\n",
            "==============================\n"
          ]
        }
      ],
      "source": [
        "for i in range(1,11,5):\n",
        "    for j in range(1,4):\n",
        "        print(f\"El producto de {i} por {j} es {i*j}.\")\n",
        "    print(\"=\"*30)"
      ]
    },
    {
      "cell_type": "code",
      "execution_count": 7,
      "id": "5df0658f",
      "metadata": {
        "id": "5df0658f",
        "outputId": "f4610eb8-4916-40a8-fc4f-973dd3ee449a",
        "colab": {
          "base_uri": "https://localhost:8080/"
        }
      },
      "outputs": [
        {
          "output_type": "stream",
          "name": "stdout",
          "text": [
            "Vacaciones en España de tipo playa\n",
            "Vacaciones en España de tipo montaña\n",
            "Vacaciones en España de tipo rural\n",
            "Vacaciones en España de tipo ciudades\n",
            "========================================\n",
            "Vacaciones en Francia de tipo playa\n",
            "Vacaciones en Francia de tipo montaña\n",
            "Vacaciones en Francia de tipo rural\n",
            "Vacaciones en Francia de tipo ciudades\n",
            "========================================\n",
            "Vacaciones en Italia de tipo playa\n",
            "Vacaciones en Italia de tipo montaña\n",
            "Vacaciones en Italia de tipo rural\n",
            "Vacaciones en Italia de tipo ciudades\n",
            "========================================\n"
          ]
        }
      ],
      "source": [
        "for i in ['España', 'Francia', 'Italia']:\n",
        "    for j in ['playa', 'montaña', 'rural', 'ciudades']:\n",
        "        print(f\"Vacaciones en {i} de tipo {j}\")\n",
        "    print(\"=\"*40)"
      ]
    },
    {
      "cell_type": "code",
      "execution_count": 3,
      "id": "dce0980f",
      "metadata": {
        "id": "dce0980f",
        "outputId": "a957eeca-d683-451f-f507-9be642a168c8",
        "colab": {
          "base_uri": "https://localhost:8080/"
        }
      },
      "outputs": [
        {
          "output_type": "stream",
          "name": "stdout",
          "text": [
            "1\n",
            "a\n",
            "b\n",
            "c\n",
            "2\n",
            "a\n",
            "b\n",
            "c\n",
            "3\n",
            "a\n",
            "b\n",
            "c\n"
          ]
        }
      ],
      "source": [
        "for i in range(1,4):\n",
        "    print(i)\n",
        "    for j in ['a', 'b', 'c']:\n",
        "        print(j)\n",
        "        #print(\"\\t\"+str(j))   #con esta alternativa introducimos tabuladores"
      ]
    },
    {
      "cell_type": "markdown",
      "id": "dcddc858",
      "metadata": {
        "id": "dcddc858"
      },
      "source": [
        "## Acceder a los elementos de una matriz"
      ]
    },
    {
      "cell_type": "code",
      "execution_count": 4,
      "id": "b9df266f",
      "metadata": {
        "id": "b9df266f",
        "outputId": "522c12b6-51c1-4e8c-d34b-20835cdd32e3",
        "colab": {
          "base_uri": "https://localhost:8080/"
        }
      },
      "outputs": [
        {
          "output_type": "stream",
          "name": "stdout",
          "text": [
            "filas: 5\n",
            "columnas: 3\n",
            "~~~~~~~~~~~~~~~~~~~~\n",
            "a11 = A[0][0] = a\n",
            "a12 = A[0][1] = b\n",
            "a13 = A[0][2] = c\n",
            "~~~~~~~~~~~~~~~~~~~~\n",
            "a21 = A[1][0] = i\n",
            "a22 = A[1][1] = j\n",
            "a23 = A[1][2] = k\n",
            "~~~~~~~~~~~~~~~~~~~~\n",
            "a31 = A[2][0] = l\n",
            "a32 = A[2][1] = m\n",
            "a33 = A[2][2] = n\n",
            "~~~~~~~~~~~~~~~~~~~~\n",
            "a41 = A[3][0] = r\n",
            "a42 = A[3][1] = p\n",
            "a43 = A[3][2] = q\n",
            "~~~~~~~~~~~~~~~~~~~~\n",
            "a51 = A[4][0] = x\n",
            "a52 = A[4][1] = y\n",
            "a53 = A[4][2] = z\n",
            "~~~~~~~~~~~~~~~~~~~~\n"
          ]
        }
      ],
      "source": [
        "A =[\n",
        "    ['a','b','c'],\n",
        "    ['i','j','k'],\n",
        "    ['l','m','n'],\n",
        "    ['r','p','q'],\n",
        "    ['x','y','z']\n",
        "]\n",
        "\n",
        "filas = len(A)\n",
        "columnas = len(A[0])\n",
        "print(\"filas:\", filas)\n",
        "print(\"columnas:\", columnas)\n",
        "print(\"~\"*20)\n",
        "\n",
        "for i in range(filas):\n",
        "    for j in range(columnas):\n",
        "        print(f\"a{i+1}{j+1} = A[{i}][{j}] = {A[i][j]}\")\n",
        "    print(\"~\"*20)"
      ]
    },
    {
      "cell_type": "markdown",
      "id": "1288f067",
      "metadata": {
        "id": "1288f067"
      },
      "source": [
        "## Generación de números primos"
      ]
    },
    {
      "cell_type": "markdown",
      "id": "267ce227",
      "metadata": {
        "id": "267ce227"
      },
      "source": [
        "Puede ver la generación de números primos en Python en las siguientes entradas del blog.\n",
        "- [Generación de números primos en Python](https://altocodigo.blogspot.com/2017/09/numeros-primos-en-python.html)\n",
        "- [Números primos en Python](https://altocodigo.blogspot.com/2021/01/numeros-primos-en-python.html)"
      ]
    },
    {
      "cell_type": "code",
      "execution_count": 5,
      "id": "f510de38",
      "metadata": {
        "scrolled": true,
        "id": "f510de38",
        "outputId": "fc6075c5-8c3f-4fb6-80e0-a0785a88f898",
        "colab": {
          "base_uri": "https://localhost:8080/"
        }
      },
      "outputs": [
        {
          "output_type": "stream",
          "name": "stdout",
          "text": [
            "2,3,5,7,11,13,17,19,23,29,31,37,41,43,47,53,59,61,67,71,73,79,83,89,97,101,103,107,109,113,127,131,137,139,149,"
          ]
        }
      ],
      "source": [
        "print(2, end = ',')\n",
        "for i in range(3,150,2):\n",
        "    for j in range(3,int(i**.5)+1,2):\n",
        "        if i%j==0: break\n",
        "    else: print(i, end = ',')"
      ]
    }
  ],
  "metadata": {
    "kernelspec": {
      "display_name": "Python 3 (ipykernel)",
      "language": "python",
      "name": "python3"
    },
    "language_info": {
      "codemirror_mode": {
        "name": "ipython",
        "version": 3
      },
      "file_extension": ".py",
      "mimetype": "text/x-python",
      "name": "python",
      "nbconvert_exporter": "python",
      "pygments_lexer": "ipython3",
      "version": "3.8.11"
    },
    "colab": {
      "name": "calisto1_0360.ipynb",
      "provenance": [],
      "include_colab_link": true
    }
  },
  "nbformat": 4,
  "nbformat_minor": 5
}