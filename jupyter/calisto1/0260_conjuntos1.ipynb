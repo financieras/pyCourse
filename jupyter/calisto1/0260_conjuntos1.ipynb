{
  "cells": [
    {
      "cell_type": "markdown",
      "metadata": {
        "id": "view-in-github",
        "colab_type": "text"
      },
      "source": [
        "<a href=\"https://colab.research.google.com/github/financieras/pyCourse/blob/main/jupyter/calisto1_0260.ipynb\" target=\"_parent\"><img src=\"https://colab.research.google.com/assets/colab-badge.svg\" alt=\"Open In Colab\"/></a>"
      ]
    },
    {
      "cell_type": "markdown",
      "id": "adbc3cfe",
      "metadata": {
        "id": "adbc3cfe"
      },
      "source": [
        "# Conjuntos [1]  \n",
        "Un SET es un conjunto no ordenado de elementos."
      ]
    },
    {
      "cell_type": "code",
      "execution_count": null,
      "id": "205a5f99",
      "metadata": {
        "id": "205a5f99"
      },
      "outputs": [],
      "source": [
        "conjunto = set()                                 # creación de un conjunto vacío\n",
        "conjunto"
      ]
    },
    {
      "cell_type": "code",
      "execution_count": null,
      "id": "2605b16d",
      "metadata": {
        "id": "2605b16d"
      },
      "outputs": [],
      "source": [
        "palos = {\"oros\", \"copas\", \"bastos\", \"espadas\"}   # un SET es un conjunto no ordenado de elementos\n",
        "print(palos)"
      ]
    },
    {
      "cell_type": "code",
      "execution_count": null,
      "id": "9c6b4455",
      "metadata": {
        "id": "9c6b4455"
      },
      "outputs": [],
      "source": [
        "type(palos)"
      ]
    },
    {
      "cell_type": "code",
      "execution_count": null,
      "id": "598a0409",
      "metadata": {
        "id": "598a0409"
      },
      "outputs": [],
      "source": [
        "print(\"copas\" in palos)   # True"
      ]
    },
    {
      "cell_type": "code",
      "execution_count": null,
      "id": "77a23e68",
      "metadata": {
        "id": "77a23e68"
      },
      "outputs": [],
      "source": [
        "palos.add(\"picas\")        # para añadir un elemento\n",
        "palos"
      ]
    },
    {
      "cell_type": "code",
      "execution_count": null,
      "id": "a6868afe",
      "metadata": {
        "id": "a6868afe"
      },
      "outputs": [],
      "source": [
        "palos.update([\"corazones\", \"tréboles\", \"rombos\"])  # para añadir varios elementos\n",
        "palos"
      ]
    },
    {
      "cell_type": "code",
      "execution_count": null,
      "id": "0b3a4b83",
      "metadata": {
        "id": "0b3a4b83"
      },
      "outputs": [],
      "source": [
        "print(len(palos))         # longitud del conjunto"
      ]
    },
    {
      "cell_type": "code",
      "execution_count": null,
      "id": "114bb5fc",
      "metadata": {
        "id": "114bb5fc"
      },
      "outputs": [],
      "source": [
        "palos.remove(\"picas\")     # elimina un elemento, si no existe da error\n",
        "palos"
      ]
    },
    {
      "cell_type": "code",
      "execution_count": null,
      "id": "a61c7785",
      "metadata": {
        "id": "a61c7785"
      },
      "outputs": [],
      "source": [
        "palos.discard(\"rombos\")   # elimina un elemento, si no existe no da error\n",
        "palos"
      ]
    },
    {
      "cell_type": "code",
      "execution_count": null,
      "id": "2e2b9473",
      "metadata": {
        "id": "2e2b9473"
      },
      "outputs": [],
      "source": [
        "carta = palos.pop()       # elimina un elemento, no se sabe cuál y va cambiando\n",
        "print(palos)\n",
        "print(carta)              # la variable asignada recoge el elemento eliminado"
      ]
    },
    {
      "cell_type": "code",
      "execution_count": null,
      "id": "262e2e02",
      "metadata": {
        "id": "262e2e02"
      },
      "outputs": [],
      "source": [
        "del(palos)                # elimina el conjunto\n",
        "#print(palos)             # da error ya que hemos eliminado el conjunto"
      ]
    }
  ],
  "metadata": {
    "kernelspec": {
      "display_name": "Python 3",
      "language": "python",
      "name": "python3"
    },
    "language_info": {
      "codemirror_mode": {
        "name": "ipython",
        "version": 3
      },
      "file_extension": ".py",
      "mimetype": "text/x-python",
      "name": "python",
      "nbconvert_exporter": "python",
      "pygments_lexer": "ipython3",
      "version": "3.8.8"
    },
    "colab": {
      "name": "0260_conjuntos1.ipynb",
      "provenance": [],
      "include_colab_link": true
    }
  },
  "nbformat": 4,
  "nbformat_minor": 5
}
