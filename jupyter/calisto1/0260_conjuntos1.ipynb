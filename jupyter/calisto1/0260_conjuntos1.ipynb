{
  "cells": [
    {
      "cell_type": "markdown",
      "metadata": {
        "id": "view-in-github",
        "colab_type": "text"
      },
      "source": [
        "<a href=\"https://colab.research.google.com/github/financieras/pyCourse/blob/main/jupyter/calisto1/0260_conjuntos1.ipynb\" target=\"_parent\"><img src=\"https://colab.research.google.com/assets/colab-badge.svg\" alt=\"Open In Colab\"/></a>"
      ]
    },
    {
      "cell_type": "markdown",
      "id": "adbc3cfe",
      "metadata": {
        "id": "adbc3cfe"
      },
      "source": [
        "# Conjuntos [1]  \n",
        "Un SET es un conjunto no ordenado de elementos."
      ]
    },
    {
      "cell_type": "code",
      "execution_count": 1,
      "id": "205a5f99",
      "metadata": {
        "id": "205a5f99",
        "outputId": "4da89232-46fa-4a19-8b93-2f29b7df4a87",
        "colab": {
          "base_uri": "https://localhost:8080/"
        }
      },
      "outputs": [
        {
          "output_type": "execute_result",
          "data": {
            "text/plain": [
              "set()"
            ]
          },
          "metadata": {},
          "execution_count": 1
        }
      ],
      "source": [
        "conjunto = set()                                 # creación de un conjunto vacío\n",
        "conjunto"
      ]
    },
    {
      "cell_type": "code",
      "execution_count": 2,
      "id": "2605b16d",
      "metadata": {
        "id": "2605b16d",
        "outputId": "6feedfb4-57fe-4921-f1c1-64fc326ae14e",
        "colab": {
          "base_uri": "https://localhost:8080/"
        }
      },
      "outputs": [
        {
          "output_type": "stream",
          "name": "stdout",
          "text": [
            "{'copas', 'espadas', 'bastos', 'oros'}\n"
          ]
        }
      ],
      "source": [
        "palos = {\"oros\", \"copas\", \"bastos\", \"espadas\"}   # un SET es un conjunto no ordenado de elementos\n",
        "print(palos)"
      ]
    },
    {
      "cell_type": "code",
      "execution_count": 3,
      "id": "9c6b4455",
      "metadata": {
        "id": "9c6b4455",
        "outputId": "f2fa19eb-6aa4-486a-8a27-15b967ee1763",
        "colab": {
          "base_uri": "https://localhost:8080/"
        }
      },
      "outputs": [
        {
          "output_type": "execute_result",
          "data": {
            "text/plain": [
              "set"
            ]
          },
          "metadata": {},
          "execution_count": 3
        }
      ],
      "source": [
        "type(palos)"
      ]
    },
    {
      "cell_type": "code",
      "execution_count": 4,
      "id": "598a0409",
      "metadata": {
        "id": "598a0409",
        "outputId": "e35bd2bd-f0ff-4980-bd5e-ad09aa340b8d",
        "colab": {
          "base_uri": "https://localhost:8080/"
        }
      },
      "outputs": [
        {
          "output_type": "stream",
          "name": "stdout",
          "text": [
            "True\n"
          ]
        }
      ],
      "source": [
        "print(\"copas\" in palos)   # True"
      ]
    },
    {
      "cell_type": "code",
      "execution_count": 5,
      "id": "77a23e68",
      "metadata": {
        "id": "77a23e68",
        "outputId": "3296224a-f7d1-4e96-c867-728036abfd09",
        "colab": {
          "base_uri": "https://localhost:8080/"
        }
      },
      "outputs": [
        {
          "output_type": "execute_result",
          "data": {
            "text/plain": [
              "{'bastos', 'copas', 'espadas', 'oros', 'picas'}"
            ]
          },
          "metadata": {},
          "execution_count": 5
        }
      ],
      "source": [
        "palos.add(\"picas\")        # para añadir un elemento\n",
        "palos"
      ]
    },
    {
      "cell_type": "code",
      "execution_count": 6,
      "id": "a6868afe",
      "metadata": {
        "id": "a6868afe",
        "outputId": "d882048e-dd42-4f3e-ac39-f3a022b5d68c",
        "colab": {
          "base_uri": "https://localhost:8080/"
        }
      },
      "outputs": [
        {
          "output_type": "execute_result",
          "data": {
            "text/plain": [
              "{'bastos',\n",
              " 'copas',\n",
              " 'corazones',\n",
              " 'espadas',\n",
              " 'oros',\n",
              " 'picas',\n",
              " 'rombos',\n",
              " 'tréboles'}"
            ]
          },
          "metadata": {},
          "execution_count": 6
        }
      ],
      "source": [
        "palos.update([\"corazones\", \"tréboles\", \"rombos\"])  # para añadir varios elementos\n",
        "palos"
      ]
    },
    {
      "cell_type": "code",
      "execution_count": 7,
      "id": "0b3a4b83",
      "metadata": {
        "id": "0b3a4b83",
        "outputId": "9f94af60-a6bd-41be-ed35-3b530404f6ab",
        "colab": {
          "base_uri": "https://localhost:8080/"
        }
      },
      "outputs": [
        {
          "output_type": "stream",
          "name": "stdout",
          "text": [
            "8\n"
          ]
        }
      ],
      "source": [
        "print(len(palos))         # longitud del conjunto"
      ]
    },
    {
      "cell_type": "code",
      "execution_count": 8,
      "id": "114bb5fc",
      "metadata": {
        "id": "114bb5fc",
        "outputId": "d43c6535-2b66-4ddd-a8cb-837fef02ea94",
        "colab": {
          "base_uri": "https://localhost:8080/"
        }
      },
      "outputs": [
        {
          "output_type": "execute_result",
          "data": {
            "text/plain": [
              "{'bastos', 'copas', 'corazones', 'espadas', 'oros', 'rombos', 'tréboles'}"
            ]
          },
          "metadata": {},
          "execution_count": 8
        }
      ],
      "source": [
        "palos.remove(\"picas\")     # elimina un elemento, si no existe da error\n",
        "palos"
      ]
    },
    {
      "cell_type": "code",
      "execution_count": 9,
      "id": "a61c7785",
      "metadata": {
        "id": "a61c7785",
        "outputId": "dcaa5e1c-b131-4330-860f-dca31600cb68",
        "colab": {
          "base_uri": "https://localhost:8080/"
        }
      },
      "outputs": [
        {
          "output_type": "execute_result",
          "data": {
            "text/plain": [
              "{'bastos', 'copas', 'corazones', 'espadas', 'oros', 'tréboles'}"
            ]
          },
          "metadata": {},
          "execution_count": 9
        }
      ],
      "source": [
        "palos.discard(\"rombos\")   # elimina un elemento, si no existe no da error\n",
        "palos"
      ]
    },
    {
      "cell_type": "code",
      "execution_count": 10,
      "id": "2e2b9473",
      "metadata": {
        "id": "2e2b9473",
        "outputId": "ccc944af-8b01-4144-a916-10c8f774441b",
        "colab": {
          "base_uri": "https://localhost:8080/"
        }
      },
      "outputs": [
        {
          "output_type": "stream",
          "name": "stdout",
          "text": [
            "{'espadas', 'bastos', 'copas', 'tréboles', 'oros'}\n",
            "corazones\n"
          ]
        }
      ],
      "source": [
        "carta = palos.pop()       # elimina un elemento, no se sabe cuál y va cambiando\n",
        "print(palos)\n",
        "print(carta)              # la variable asignada recoge el elemento eliminado"
      ]
    },
    {
      "cell_type": "code",
      "execution_count": 11,
      "id": "262e2e02",
      "metadata": {
        "id": "262e2e02"
      },
      "outputs": [],
      "source": [
        "del(palos)                # elimina el conjunto\n",
        "#print(palos)             # da error ya que hemos eliminado el conjunto"
      ]
    }
  ],
  "metadata": {
    "kernelspec": {
      "display_name": "Python 3",
      "language": "python",
      "name": "python3"
    },
    "language_info": {
      "codemirror_mode": {
        "name": "ipython",
        "version": 3
      },
      "file_extension": ".py",
      "mimetype": "text/x-python",
      "name": "python",
      "nbconvert_exporter": "python",
      "pygments_lexer": "ipython3",
      "version": "3.8.8"
    },
    "colab": {
      "name": "calisto1_0260.ipynb",
      "provenance": [],
      "include_colab_link": true
    }
  },
  "nbformat": 4,
  "nbformat_minor": 5
}