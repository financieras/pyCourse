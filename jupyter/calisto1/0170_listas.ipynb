{
  "cells": [
    {
      "cell_type": "markdown",
      "metadata": {
        "id": "view-in-github",
        "colab_type": "text"
      },
      "source": [
        "<a href=\"https://colab.research.google.com/github/financieras/pyCourse/blob/main/jupyter/calisto1/0170_listas.ipynb\" target=\"_parent\"><img src=\"https://colab.research.google.com/assets/colab-badge.svg\" alt=\"Open In Colab\"/></a>"
      ]
    },
    {
      "cell_type": "markdown",
      "id": "96279767",
      "metadata": {
        "id": "96279767"
      },
      "source": [
        "# Listas [1]  \n",
        "Arrays   (arreglos)  \n",
        "Una lista es un conjunto iterable de datos ordenados que van entre corchetes ```[]```"
      ]
    },
    {
      "cell_type": "code",
      "execution_count": 1,
      "id": "d771fdc2",
      "metadata": {
        "id": "d771fdc2",
        "outputId": "3d1d2caf-ba0c-4d7a-d090-925f8759bf46",
        "colab": {
          "base_uri": "https://localhost:8080/"
        }
      },
      "outputs": [
        {
          "output_type": "execute_result",
          "data": {
            "text/plain": [
              "[]"
            ]
          },
          "metadata": {},
          "execution_count": 1
        }
      ],
      "source": [
        "[]                             # lista vacía"
      ]
    },
    {
      "cell_type": "code",
      "execution_count": 2,
      "id": "a2e97e31",
      "metadata": {
        "id": "a2e97e31",
        "outputId": "338bce2a-e540-442d-8fad-564ccd8fb568",
        "colab": {
          "base_uri": "https://localhost:8080/"
        }
      },
      "outputs": [
        {
          "output_type": "execute_result",
          "data": {
            "text/plain": [
              "[10, 15, 12]"
            ]
          },
          "metadata": {},
          "execution_count": 2
        }
      ],
      "source": [
        "[10, 15, 12]                   # una lista de tres elementos con números enteros"
      ]
    },
    {
      "cell_type": "markdown",
      "id": "25037e95",
      "metadata": {
        "id": "25037e95"
      },
      "source": [
        "Una lista es una estructura de datos formada por una secuencia **ordenada** de objetos.  \n",
        "En una lista el orden importa."
      ]
    },
    {
      "cell_type": "code",
      "execution_count": 3,
      "id": "538f8c17",
      "metadata": {
        "id": "538f8c17",
        "outputId": "732373ea-2bb8-4421-ce98-1e5d5dcc639e",
        "colab": {
          "base_uri": "https://localhost:8080/"
        }
      },
      "outputs": [
        {
          "output_type": "execute_result",
          "data": {
            "text/plain": [
              "['azul', 'rojo', 'verde', 'rosa']"
            ]
          },
          "metadata": {},
          "execution_count": 3
        }
      ],
      "source": [
        "['azul', 'rojo', 'verde', 'rosa']        # una lista con strings"
      ]
    },
    {
      "cell_type": "code",
      "execution_count": 4,
      "id": "b9b7b4f2",
      "metadata": {
        "id": "b9b7b4f2",
        "outputId": "092245fc-dfff-4a26-bc56-85e0e28084ca",
        "colab": {
          "base_uri": "https://localhost:8080/"
        }
      },
      "outputs": [
        {
          "output_type": "execute_result",
          "data": {
            "text/plain": [
              "[4, 'lunes', 3.14, True, None]"
            ]
          },
          "metadata": {},
          "execution_count": 4
        }
      ],
      "source": [
        "[4, 'lunes', 3.14, True, None]           # admite cualquier valor"
      ]
    },
    {
      "cell_type": "code",
      "execution_count": 5,
      "id": "476ee3a8",
      "metadata": {
        "id": "476ee3a8",
        "outputId": "2412cecb-5067-45e6-daba-7a2a14334554",
        "colab": {
          "base_uri": "https://localhost:8080/"
        }
      },
      "outputs": [
        {
          "output_type": "stream",
          "name": "stdout",
          "text": [
            "['spagueti', 'pollo', 'tarta']\n"
          ]
        }
      ],
      "source": [
        "comida = ['spagueti', 'pollo', 'tarta']  # asignación a una variable\n",
        "print(comida)                            # ['spagueti', 'pollo', 'tarta']"
      ]
    },
    {
      "cell_type": "markdown",
      "id": "3bb6a430",
      "metadata": {
        "id": "3bb6a430"
      },
      "source": [
        "## Podemos trabajar con índices"
      ]
    },
    {
      "cell_type": "code",
      "execution_count": 6,
      "id": "10f93f6a",
      "metadata": {
        "id": "10f93f6a",
        "outputId": "5a9702ed-dea9-46ea-b3b7-0da1e4412318",
        "colab": {
          "base_uri": "https://localhost:8080/",
          "height": 35
        }
      },
      "outputs": [
        {
          "output_type": "execute_result",
          "data": {
            "text/plain": [
              "'tarta'"
            ],
            "application/vnd.google.colaboratory.intrinsic+json": {
              "type": "string"
            }
          },
          "metadata": {},
          "execution_count": 6
        }
      ],
      "source": [
        "comida[0]                      # 'spagueti'   se comienza por el índice 0\n",
        "comida[1]                      # 'pollo'\n",
        "comida[2]                      # 'tarta'      ¿por qué solo se imprime 'tarta'?"
      ]
    },
    {
      "cell_type": "markdown",
      "id": "d9516f90",
      "metadata": {
        "id": "d9516f90"
      },
      "source": [
        "## Longitud de una lista"
      ]
    },
    {
      "cell_type": "code",
      "execution_count": 7,
      "id": "0c339d1c",
      "metadata": {
        "id": "0c339d1c",
        "outputId": "da72b1aa-95b8-478b-80f6-cbbde7a93381",
        "colab": {
          "base_uri": "https://localhost:8080/"
        }
      },
      "outputs": [
        {
          "output_type": "execute_result",
          "data": {
            "text/plain": [
              "True"
            ]
          },
          "metadata": {},
          "execution_count": 7
        }
      ],
      "source": [
        "p = [1, 2, 3, 4]\n",
        "q = [4, 5, 6, 7]\n",
        "len(p) == len(q)               # True"
      ]
    },
    {
      "cell_type": "markdown",
      "id": "3b590cf9",
      "metadata": {
        "id": "3b590cf9"
      },
      "source": [
        "## Las cadenas admiten slicing"
      ]
    },
    {
      "cell_type": "code",
      "execution_count": 8,
      "id": "927e7ca2",
      "metadata": {
        "id": "927e7ca2",
        "outputId": "2d5661ec-2c31-45a5-f00a-dde949ccfbb8",
        "colab": {
          "base_uri": "https://localhost:8080/"
        }
      },
      "outputs": [
        {
          "output_type": "execute_result",
          "data": {
            "text/plain": [
              "['spagueti', 'pollo']"
            ]
          },
          "metadata": {},
          "execution_count": 8
        }
      ],
      "source": [
        "comida[:2]                     # ['spagueti', 'pollo']"
      ]
    },
    {
      "cell_type": "code",
      "execution_count": 9,
      "id": "e3b0bffa",
      "metadata": {
        "id": "e3b0bffa",
        "outputId": "045623d6-a32e-4735-b755-2967116534c2",
        "colab": {
          "base_uri": "https://localhost:8080/"
        }
      },
      "outputs": [
        {
          "output_type": "execute_result",
          "data": {
            "text/plain": [
              "True"
            ]
          },
          "metadata": {},
          "execution_count": 9
        }
      ],
      "source": [
        "p[-1] == q[0]                  # True"
      ]
    },
    {
      "cell_type": "markdown",
      "id": "31687a19",
      "metadata": {
        "id": "31687a19"
      },
      "source": [
        "## Las listas no son inmutables\n",
        "Las listas pueden cambiar. Podemos reemplazar sus elementos.  \n",
        "Vamos a reemplazar el elemento de índice 0 que es spaguetis por otra palabra espaguetis (con e al inicio)."
      ]
    },
    {
      "cell_type": "code",
      "execution_count": 10,
      "id": "f33df9e0",
      "metadata": {
        "id": "f33df9e0",
        "outputId": "80f57204-4b58-4684-c272-dd17e70988c7",
        "colab": {
          "base_uri": "https://localhost:8080/"
        }
      },
      "outputs": [
        {
          "output_type": "stream",
          "name": "stdout",
          "text": [
            "['espagueti', 'pollo', 'tarta']\n"
          ]
        }
      ],
      "source": [
        "comida[0] = 'espagueti'        # reemplazando un elemento, escribimos espagueti con e\n",
        "print(comida)                  # ['espagueti', 'pollo', 'tarta']"
      ]
    },
    {
      "cell_type": "markdown",
      "id": "6346f6bb",
      "metadata": {
        "id": "6346f6bb"
      },
      "source": [
        "## Tipo lista"
      ]
    },
    {
      "cell_type": "code",
      "execution_count": 11,
      "id": "8c7bd577",
      "metadata": {
        "id": "8c7bd577",
        "outputId": "a5e6ae1b-9381-4114-9faa-ee86c9aed463",
        "colab": {
          "base_uri": "https://localhost:8080/"
        }
      },
      "outputs": [
        {
          "output_type": "stream",
          "name": "stdout",
          "text": [
            "<class 'list'>\n"
          ]
        }
      ],
      "source": [
        "print(type(comida))             # <class 'list'>"
      ]
    },
    {
      "cell_type": "markdown",
      "id": "de79bb98",
      "metadata": {
        "id": "de79bb98"
      },
      "source": [
        "## Listas dentro de listas"
      ]
    },
    {
      "cell_type": "code",
      "execution_count": 12,
      "id": "a0c0ed7a",
      "metadata": {
        "id": "a0c0ed7a",
        "outputId": "93cf8711-b7ea-465e-d816-8834ade36cc0",
        "colab": {
          "base_uri": "https://localhost:8080/"
        }
      },
      "outputs": [
        {
          "output_type": "stream",
          "name": "stdout",
          "text": [
            "[['espagueti', 'pollo', 'tarta'], 23, True, 15.6]\n"
          ]
        }
      ],
      "source": [
        "lista = [comida, 23, True, 15.60]  # una lista dentro de una lista\n",
        "print(lista)"
      ]
    },
    {
      "cell_type": "markdown",
      "id": "e35e5bcf",
      "metadata": {
        "id": "e35e5bcf"
      },
      "source": [
        "### Matriz:  Array 2D\n",
        "Matriz de dos dimensiones."
      ]
    },
    {
      "cell_type": "code",
      "execution_count": 13,
      "id": "a95b3d70",
      "metadata": {
        "id": "a95b3d70",
        "outputId": "bb40b216-6f13-4684-d858-cbd92b9043bd",
        "colab": {
          "base_uri": "https://localhost:8080/"
        }
      },
      "outputs": [
        {
          "output_type": "execute_result",
          "data": {
            "text/plain": [
              "[[11, 12, 13, 14], [21, 22, 23, 24], [31, 32, 33, 34]]"
            ]
          },
          "metadata": {},
          "execution_count": 13
        }
      ],
      "source": [
        "matriz = [[11,12,13,14],\n",
        "          [21,22,23,24],\n",
        "          [31,32,33,34]]\n",
        "matriz                          # tres filas, cuatro columnas, 3×4"
      ]
    },
    {
      "cell_type": "code",
      "source": [
        "print(*matriz[0])\n",
        "print(*matriz[1])\n",
        "print(*matriz[2])"
      ],
      "metadata": {
        "id": "_XKoHbUHmnW3",
        "outputId": "f6e49139-eff6-4994-996d-26417a64e8f7",
        "colab": {
          "base_uri": "https://localhost:8080/"
        }
      },
      "id": "_XKoHbUHmnW3",
      "execution_count": 14,
      "outputs": [
        {
          "output_type": "stream",
          "name": "stdout",
          "text": [
            "11 12 13 14\n",
            "21 22 23 24\n",
            "31 32 33 34\n"
          ]
        }
      ]
    },
    {
      "cell_type": "markdown",
      "id": "a4386929",
      "metadata": {
        "id": "a4386929"
      },
      "source": [
        "#### Listas anidadas"
      ]
    },
    {
      "cell_type": "code",
      "execution_count": 15,
      "id": "df6abc0f",
      "metadata": {
        "id": "df6abc0f",
        "outputId": "add33845-0fc6-490f-ab00-233f3d541aba",
        "colab": {
          "base_uri": "https://localhost:8080/"
        }
      },
      "outputs": [
        {
          "output_type": "execute_result",
          "data": {
            "text/plain": [
              "[[1, 2, 3], [4, 5, 6], [7, 8, 9]]"
            ]
          },
          "metadata": {},
          "execution_count": 15
        }
      ],
      "source": [
        "a = [1, 2, 3]\n",
        "b = [4, 5, 6]\n",
        "c = [7, 8, 9]\n",
        "m = [a, b, c]\n",
        "m                               # matriz de dos dimensiones"
      ]
    },
    {
      "cell_type": "markdown",
      "id": "63f5ff88",
      "metadata": {
        "id": "63f5ff88"
      },
      "source": [
        "#### Accediendo a una lista dentro de otra lista"
      ]
    },
    {
      "cell_type": "code",
      "execution_count": 16,
      "id": "2fca709b",
      "metadata": {
        "id": "2fca709b",
        "outputId": "77dc63e9-a10e-403c-b8ab-69c8e9abb0e0",
        "colab": {
          "base_uri": "https://localhost:8080/"
        }
      },
      "outputs": [
        {
          "output_type": "execute_result",
          "data": {
            "text/plain": [
              "[1, 2, 3]"
            ]
          },
          "metadata": {},
          "execution_count": 16
        }
      ],
      "source": [
        "m[0]"
      ]
    },
    {
      "cell_type": "markdown",
      "id": "6a0d1c5c",
      "metadata": {
        "id": "6a0d1c5c"
      },
      "source": [
        "#### Accediendo a un elemento en una matriz"
      ]
    },
    {
      "cell_type": "code",
      "execution_count": 17,
      "id": "c0e360d9",
      "metadata": {
        "id": "c0e360d9",
        "outputId": "8e80f6cd-e3c9-4e59-c381-7e3e523e7a91",
        "colab": {
          "base_uri": "https://localhost:8080/"
        }
      },
      "outputs": [
        {
          "output_type": "execute_result",
          "data": {
            "text/plain": [
              "1"
            ]
          },
          "metadata": {},
          "execution_count": 17
        }
      ],
      "source": [
        "m[0][0]"
      ]
    },
    {
      "cell_type": "code",
      "execution_count": 18,
      "id": "e42ed77f",
      "metadata": {
        "id": "e42ed77f",
        "outputId": "3b85edc0-e963-45c1-b52f-1479f080f36a",
        "colab": {
          "base_uri": "https://localhost:8080/"
        }
      },
      "outputs": [
        {
          "output_type": "execute_result",
          "data": {
            "text/plain": [
              "True"
            ]
          },
          "metadata": {},
          "execution_count": 18
        }
      ],
      "source": [
        "m[2][2] == m[-1][-1]            # ¿9 es igual a 9?"
      ]
    },
    {
      "cell_type": "markdown",
      "id": "64c2b0a7",
      "metadata": {
        "id": "64c2b0a7"
      },
      "source": [
        "### Una listas que incluye dos listas"
      ]
    },
    {
      "cell_type": "code",
      "execution_count": 19,
      "id": "28f54caa",
      "metadata": {
        "id": "28f54caa",
        "outputId": "754cfc2c-b927-46c5-ca3c-d26b7a38c84c",
        "colab": {
          "base_uri": "https://localhost:8080/"
        }
      },
      "outputs": [
        {
          "output_type": "stream",
          "name": "stdout",
          "text": [
            "[['espagueti', 'pollo', 'tarta'], ['agua', 'vino', 'cerveza']]\n",
            "cerveza\n",
            "True\n"
          ]
        }
      ],
      "source": [
        "bebida = ['agua', 'vino', 'cerveza']\n",
        "menu = [comida, bebida]                       # una lista que incluye dos listas\n",
        "print(menu)\n",
        "print(menu[1][2])                             #cerveza\n",
        "print(comida[len(comida)-1] == comida[-1])    #True"
      ]
    },
    {
      "cell_type": "markdown",
      "id": "21616ea1",
      "metadata": {
        "id": "21616ea1"
      },
      "source": [
        "## Sumar dos listas es unir dos listas en una"
      ]
    },
    {
      "cell_type": "code",
      "execution_count": 20,
      "id": "47b77aad",
      "metadata": {
        "id": "47b77aad",
        "outputId": "7020b752-82b4-41d4-c655-66aa6050a624",
        "colab": {
          "base_uri": "https://localhost:8080/"
        }
      },
      "outputs": [
        {
          "output_type": "stream",
          "name": "stdout",
          "text": [
            "['espagueti', 'pollo', 'tarta', 'agua', 'vino', 'cerveza']\n"
          ]
        }
      ],
      "source": [
        "carta = comida + bebida         # la carta del restaurante es la unión de comida y bebida\n",
        "print(carta)"
      ]
    },
    {
      "cell_type": "markdown",
      "id": "c98a4733",
      "metadata": {
        "id": "c98a4733"
      },
      "source": [
        "## Borrar un elemento de la lista"
      ]
    },
    {
      "cell_type": "code",
      "execution_count": 21,
      "id": "fc800354",
      "metadata": {
        "id": "fc800354",
        "outputId": "f7f4ab1b-8712-4913-87bb-e6c6279028fb",
        "colab": {
          "base_uri": "https://localhost:8080/"
        }
      },
      "outputs": [
        {
          "output_type": "stream",
          "name": "stdout",
          "text": [
            "['espagueti', 'pollo', 'tarta', 'agua', 'cerveza']\n"
          ]
        }
      ],
      "source": [
        "del carta[-2]                   # eliminamos el vino\n",
        "print(carta)                    # ['espagueti', 'pollo', 'tarta', 'agua', 'cerveza']"
      ]
    },
    {
      "cell_type": "markdown",
      "id": "1732deb8",
      "metadata": {
        "id": "1732deb8"
      },
      "source": [
        "## Anexar un elemento a una lista\n",
        "Añadir el elemento en la última posición."
      ]
    },
    {
      "cell_type": "code",
      "execution_count": 22,
      "id": "3caeb79d",
      "metadata": {
        "id": "3caeb79d",
        "outputId": "8cff99a0-04f3-48b3-ee89-75735f1cb3a6",
        "colab": {
          "base_uri": "https://localhost:8080/"
        }
      },
      "outputs": [
        {
          "output_type": "stream",
          "name": "stdout",
          "text": [
            "['espagueti', 'pollo', 'tarta', 'agua', 'cerveza', 'limonada']\n"
          ]
        }
      ],
      "source": [
        "carta.append('limonada')        # añadimos al final un elemento\n",
        "print(carta)                    # ['espagueti', 'pollo', 'tarta', 'agua', 'cerveza', 'limonada']"
      ]
    },
    {
      "cell_type": "markdown",
      "id": "5623bf81",
      "metadata": {
        "id": "5623bf81"
      },
      "source": [
        "## Comprobar si un elemento está en la lista"
      ]
    },
    {
      "cell_type": "code",
      "execution_count": 23,
      "id": "f908ce76",
      "metadata": {
        "id": "f908ce76",
        "outputId": "78730433-ae7c-47bf-9152-791c643f2371",
        "colab": {
          "base_uri": "https://localhost:8080/"
        }
      },
      "outputs": [
        {
          "output_type": "stream",
          "name": "stdout",
          "text": [
            "True\n",
            "False\n"
          ]
        }
      ],
      "source": [
        "print('tarta' in carta)         # True    Operador de pertenencia: in\n",
        "print('fruta' in carta)         # False"
      ]
    },
    {
      "cell_type": "markdown",
      "id": "8d4b62b9",
      "metadata": {
        "id": "8d4b62b9"
      },
      "source": [
        "## Índice de un elemento en la lista\n",
        "Ver que número de índice ocupa un elemento en la lista"
      ]
    },
    {
      "cell_type": "code",
      "execution_count": 24,
      "id": "9aa114a3",
      "metadata": {
        "id": "9aa114a3",
        "outputId": "fa5539a2-fbe8-44bd-f381-3770d3b6cec2",
        "colab": {
          "base_uri": "https://localhost:8080/"
        }
      },
      "outputs": [
        {
          "output_type": "stream",
          "name": "stdout",
          "text": [
            "2\n"
          ]
        }
      ],
      "source": [
        "oferta = ['espagueti', 'pollo', 'tarta', 'agua', 'cerveza']\n",
        "print(oferta.index('tarta'))    # 2"
      ]
    },
    {
      "cell_type": "markdown",
      "id": "f5366bb5",
      "metadata": {
        "id": "f5366bb5"
      },
      "source": [
        "### Añadimos café"
      ]
    },
    {
      "cell_type": "code",
      "execution_count": 25,
      "id": "d46d0c7a",
      "metadata": {
        "id": "d46d0c7a",
        "outputId": "68772390-a500-4dd5-953a-d37eeb390677",
        "colab": {
          "base_uri": "https://localhost:8080/"
        }
      },
      "outputs": [
        {
          "output_type": "stream",
          "name": "stdout",
          "text": [
            "['espagueti', 'pollo', 'tarta', 'agua', 'cerveza', 'café']\n"
          ]
        }
      ],
      "source": [
        "oferta.append('café')           # ['espagueti', 'pollo', 'tarta', 'agua', 'cerveza', 'café']\n",
        "print(oferta)"
      ]
    },
    {
      "cell_type": "markdown",
      "id": "7ad67f1b",
      "metadata": {
        "id": "7ad67f1b"
      },
      "source": [
        "### Removemos el agua"
      ]
    },
    {
      "cell_type": "code",
      "execution_count": 26,
      "id": "b27e3199",
      "metadata": {
        "id": "b27e3199",
        "outputId": "052a5a6b-7e67-46c1-d54e-dc280e34652f",
        "colab": {
          "base_uri": "https://localhost:8080/"
        }
      },
      "outputs": [
        {
          "output_type": "stream",
          "name": "stdout",
          "text": [
            "['espagueti', 'pollo', 'tarta', 'cerveza', 'café']\n"
          ]
        }
      ],
      "source": [
        "oferta.remove('agua')           # ['espagueti', 'pollo', 'tarta', 'cerveza', 'café']\n",
        "print(oferta)"
      ]
    },
    {
      "cell_type": "markdown",
      "id": "4e4429bd",
      "metadata": {
        "id": "4e4429bd"
      },
      "source": [
        "### Eliminamos el úlimo elemento con pop"
      ]
    },
    {
      "cell_type": "code",
      "execution_count": 27,
      "id": "b475c773",
      "metadata": {
        "id": "b475c773",
        "outputId": "ee60557f-47a9-439b-e3a9-343619ae6711",
        "colab": {
          "base_uri": "https://localhost:8080/"
        }
      },
      "outputs": [
        {
          "output_type": "stream",
          "name": "stdout",
          "text": [
            "['espagueti', 'pollo', 'tarta', 'cerveza']\n"
          ]
        }
      ],
      "source": [
        "oferta.pop()                    # ['espagueti', 'pollo', 'tarta', 'cerveza']\n",
        "print(oferta)"
      ]
    },
    {
      "cell_type": "markdown",
      "id": "fc534d6e",
      "metadata": {
        "id": "fc534d6e"
      },
      "source": [
        "### Insertamos un elemento en una posición concreta"
      ]
    },
    {
      "cell_type": "code",
      "execution_count": 28,
      "id": "ccae05d3",
      "metadata": {
        "id": "ccae05d3",
        "outputId": "6ced6976-3aa1-4c23-dc9b-e0caba7f6e42",
        "colab": {
          "base_uri": "https://localhost:8080/"
        }
      },
      "outputs": [
        {
          "output_type": "stream",
          "name": "stdout",
          "text": [
            "['espagueti', 'pollo', 'fruta', 'tarta', 'cerveza']\n"
          ]
        }
      ],
      "source": [
        "oferta.insert(2, 'fruta')       # ['espagueti', 'pollo', 'fruta', 'tarta', 'cerveza']\n",
        "print(oferta)"
      ]
    },
    {
      "cell_type": "code",
      "execution_count": 29,
      "id": "2680056f",
      "metadata": {
        "id": "2680056f",
        "outputId": "ed7f66d2-4b74-43d2-df2d-454f53464923",
        "colab": {
          "base_uri": "https://localhost:8080/"
        }
      },
      "outputs": [
        {
          "output_type": "stream",
          "name": "stdout",
          "text": [
            "['pan', 'espagueti', 'pollo', 'fruta', 'tarta', 'cerveza']\n"
          ]
        }
      ],
      "source": [
        "oferta.insert(0, 'pan')         # ['pan', 'espagueti', 'pollo', 'fruta', 'tarta', 'cerveza']\n",
        "print(oferta)"
      ]
    },
    {
      "cell_type": "markdown",
      "id": "9eebdbf7",
      "metadata": {
        "id": "9eebdbf7"
      },
      "source": [
        "### Eliminar parte de una lista"
      ]
    },
    {
      "cell_type": "code",
      "execution_count": 30,
      "id": "f8531cac",
      "metadata": {
        "id": "f8531cac",
        "outputId": "ca5c580b-972a-4192-fdeb-3b01a08f02bb",
        "colab": {
          "base_uri": "https://localhost:8080/"
        }
      },
      "outputs": [
        {
          "output_type": "execute_result",
          "data": {
            "text/plain": [
              "['pollo', 'fruta', 'tarta', 'cerveza']"
            ]
          },
          "metadata": {},
          "execution_count": 30
        }
      ],
      "source": [
        "oferta[:2] = []                 # usando slicing e igualando a una lista vacía\n",
        "oferta"
      ]
    },
    {
      "cell_type": "markdown",
      "id": "44f148c0",
      "metadata": {
        "id": "44f148c0"
      },
      "source": [
        "### Eliminando completamente el contenido de la lista"
      ]
    },
    {
      "cell_type": "code",
      "execution_count": 31,
      "id": "b9352a34",
      "metadata": {
        "id": "b9352a34",
        "outputId": "648fef80-9d9e-4c30-9437-1e924ee7f5ef",
        "colab": {
          "base_uri": "https://localhost:8080/"
        }
      },
      "outputs": [
        {
          "output_type": "execute_result",
          "data": {
            "text/plain": [
              "[]"
            ]
          },
          "metadata": {},
          "execution_count": 31
        }
      ],
      "source": [
        "oferta = []                     # asignando la lista a una lista vacía\n",
        "oferta"
      ]
    },
    {
      "cell_type": "markdown",
      "id": "4ac672f3",
      "metadata": {
        "id": "4ac672f3"
      },
      "source": [
        "#### Método 1 ```list=[]```"
      ]
    },
    {
      "cell_type": "code",
      "execution_count": 32,
      "id": "12717abe",
      "metadata": {
        "id": "12717abe",
        "outputId": "ff803bcd-3d7d-4adb-b0aa-e3cf39d34d68",
        "colab": {
          "base_uri": "https://localhost:8080/"
        }
      },
      "outputs": [
        {
          "output_type": "stream",
          "name": "stdout",
          "text": [
            "list1 []\n",
            "list2 [1, 2, 3]\n"
          ]
        }
      ],
      "source": [
        "list1 = [1, 2, 3]\n",
        "list2 = list1\n",
        "list1 = []\n",
        "print(\"list1\", list1)\n",
        "print(\"list2\", list2)"
      ]
    },
    {
      "cell_type": "markdown",
      "id": "a774bc45",
      "metadata": {
        "id": "a774bc45"
      },
      "source": [
        "#### Método 2 ```list.clear()```"
      ]
    },
    {
      "cell_type": "code",
      "execution_count": 33,
      "id": "41e747e3",
      "metadata": {
        "id": "41e747e3",
        "outputId": "922cdb3c-771f-40d8-852a-562db35ab00a",
        "colab": {
          "base_uri": "https://localhost:8080/"
        }
      },
      "outputs": [
        {
          "output_type": "stream",
          "name": "stdout",
          "text": [
            "list1 []\n",
            "list2 []\n"
          ]
        }
      ],
      "source": [
        "list1 = [1, 2, 3]\n",
        "list2 = list1\n",
        "list1.clear()\n",
        "print(\"list1\", list1)\n",
        "print(\"list2\", list2)"
      ]
    },
    {
      "cell_type": "markdown",
      "id": "d0cf4bd5",
      "metadata": {
        "id": "d0cf4bd5"
      },
      "source": [
        "#### Método 3 ```del list[:]```"
      ]
    },
    {
      "cell_type": "code",
      "execution_count": 34,
      "id": "e3a3c2b8",
      "metadata": {
        "id": "e3a3c2b8",
        "outputId": "f5c7e2ae-5cc8-439b-83a3-aeabcaf6dd2c",
        "colab": {
          "base_uri": "https://localhost:8080/"
        }
      },
      "outputs": [
        {
          "output_type": "stream",
          "name": "stdout",
          "text": [
            "list1 []\n",
            "list2 []\n"
          ]
        }
      ],
      "source": [
        "list1 = [1, 2, 3]\n",
        "list2 = list1\n",
        "del list1[:]\n",
        "print(\"list1\", list1)\n",
        "print(\"list2\", list2)"
      ]
    },
    {
      "cell_type": "markdown",
      "id": "0f679934",
      "metadata": {
        "id": "0f679934"
      },
      "source": [
        "#### Método 4 ```list *= 0```"
      ]
    },
    {
      "cell_type": "code",
      "execution_count": 35,
      "id": "460bd704",
      "metadata": {
        "id": "460bd704",
        "outputId": "67589f02-6a39-4198-cbae-d240cb70316a",
        "colab": {
          "base_uri": "https://localhost:8080/"
        }
      },
      "outputs": [
        {
          "output_type": "stream",
          "name": "stdout",
          "text": [
            "list1 []\n",
            "list2 []\n"
          ]
        }
      ],
      "source": [
        "list1 = [1, 2, 3]\n",
        "list2 = list1\n",
        "list1 *= 0\n",
        "print(\"list1\", list1)\n",
        "print(\"list2\", list2)"
      ]
    }
  ],
  "metadata": {
    "kernelspec": {
      "display_name": "Python 3 (ipykernel)",
      "language": "python",
      "name": "python3"
    },
    "language_info": {
      "codemirror_mode": {
        "name": "ipython",
        "version": 3
      },
      "file_extension": ".py",
      "mimetype": "text/x-python",
      "name": "python",
      "nbconvert_exporter": "python",
      "pygments_lexer": "ipython3",
      "version": "3.8.11"
    },
    "colab": {
      "name": "0170_listas.ipynb",
      "provenance": [],
      "include_colab_link": true
    }
  },
  "nbformat": 4,
  "nbformat_minor": 5
}