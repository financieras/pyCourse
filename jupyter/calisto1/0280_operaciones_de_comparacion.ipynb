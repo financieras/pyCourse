{
  "cells": [
    {
      "cell_type": "markdown",
      "metadata": {
        "id": "view-in-github",
        "colab_type": "text"
      },
      "source": [
        "<a href=\"https://colab.research.google.com/github/financieras/pyCourse/blob/main/jupyter/calisto1/0280_operaciones_de_comparacion.ipynb\" target=\"_parent\"><img src=\"https://colab.research.google.com/assets/colab-badge.svg\" alt=\"Open In Colab\"/></a>"
      ]
    },
    {
      "cell_type": "markdown",
      "id": "40428e89",
      "metadata": {
        "id": "40428e89"
      },
      "source": [
        "# Operadores de comparación"
      ]
    },
    {
      "cell_type": "markdown",
      "id": "5d0cfcb3",
      "metadata": {
        "id": "5d0cfcb3"
      },
      "source": [
        "- \\>\n",
        "- \\<\n",
        "- \\>=\n",
        "- \\<=\n",
        "- \\== &nbsp;&nbsp;&nbsp; igual\n",
        "- \\!= &nbsp;&nbsp;&nbsp;&nbsp; distinto\n"
      ]
    },
    {
      "cell_type": "code",
      "execution_count": 1,
      "id": "83d7bca8",
      "metadata": {
        "id": "83d7bca8",
        "outputId": "afbe68ff-7fdf-4eb0-cd58-c54102d934be",
        "colab": {
          "base_uri": "https://localhost:8080/"
        }
      },
      "outputs": [
        {
          "output_type": "execute_result",
          "data": {
            "text/plain": [
              "True"
            ]
          },
          "metadata": {},
          "execution_count": 1
        }
      ],
      "source": [
        "2 < 5"
      ]
    },
    {
      "cell_type": "code",
      "execution_count": 2,
      "id": "a0d95a1d",
      "metadata": {
        "id": "a0d95a1d",
        "outputId": "239c78ad-57f8-40b2-f125-dbb59b08aea4",
        "colab": {
          "base_uri": "https://localhost:8080/"
        }
      },
      "outputs": [
        {
          "output_type": "execute_result",
          "data": {
            "text/plain": [
              "False"
            ]
          },
          "metadata": {},
          "execution_count": 2
        }
      ],
      "source": [
        "\"Ana\" > \"Jose\""
      ]
    },
    {
      "cell_type": "code",
      "execution_count": 3,
      "id": "e35a23eb",
      "metadata": {
        "id": "e35a23eb",
        "outputId": "ffe6a67d-ec55-48f7-9bd3-fa8ba63724db",
        "colab": {
          "base_uri": "https://localhost:8080/"
        }
      },
      "outputs": [
        {
          "output_type": "execute_result",
          "data": {
            "text/plain": [
              "True"
            ]
          },
          "metadata": {},
          "execution_count": 3
        }
      ],
      "source": [
        "x = 3\n",
        "y = 4\n",
        "x**2 + y**2 >= 0"
      ]
    },
    {
      "cell_type": "code",
      "execution_count": 4,
      "id": "9baaf80c",
      "metadata": {
        "id": "9baaf80c",
        "outputId": "0aca929a-c7ee-4da0-822f-6a2ebe9e3598",
        "colab": {
          "base_uri": "https://localhost:8080/"
        }
      },
      "outputs": [
        {
          "output_type": "execute_result",
          "data": {
            "text/plain": [
              "True"
            ]
          },
          "metadata": {},
          "execution_count": 4
        }
      ],
      "source": [
        "2 == 8/4"
      ]
    },
    {
      "cell_type": "code",
      "execution_count": 5,
      "id": "1dde0224",
      "metadata": {
        "id": "1dde0224",
        "outputId": "0d47ce30-684e-4e69-da06-efa0d468bc3f",
        "colab": {
          "base_uri": "https://localhost:8080/"
        }
      },
      "outputs": [
        {
          "output_type": "execute_result",
          "data": {
            "text/plain": [
              "True"
            ]
          },
          "metadata": {},
          "execution_count": 5
        }
      ],
      "source": [
        "\"Alex\" != \"alex\""
      ]
    },
    {
      "cell_type": "markdown",
      "id": "c27dc84e",
      "metadata": {
        "id": "c27dc84e"
      },
      "source": [
        "## Comparando por rangos\n",
        "Las dos siguientes formas de comparar son completamente equivalentes."
      ]
    },
    {
      "cell_type": "code",
      "execution_count": 6,
      "id": "bf630708",
      "metadata": {
        "id": "bf630708",
        "outputId": "602064f2-97df-437c-a8df-899a34af4a64",
        "colab": {
          "base_uri": "https://localhost:8080/"
        }
      },
      "outputs": [
        {
          "output_type": "execute_result",
          "data": {
            "text/plain": [
              "True"
            ]
          },
          "metadata": {},
          "execution_count": 6
        }
      ],
      "source": [
        "x = 5\n",
        "0 < x and x < 10    # True"
      ]
    },
    {
      "cell_type": "code",
      "execution_count": 7,
      "id": "547ffbe3",
      "metadata": {
        "id": "547ffbe3",
        "outputId": "b100f676-c943-448e-875d-69ec44d3f26e",
        "colab": {
          "base_uri": "https://localhost:8080/"
        }
      },
      "outputs": [
        {
          "output_type": "execute_result",
          "data": {
            "text/plain": [
              "True"
            ]
          },
          "metadata": {},
          "execution_count": 7
        }
      ],
      "source": [
        "0 < x < 10          # True"
      ]
    },
    {
      "cell_type": "markdown",
      "id": "3e98265b",
      "metadata": {
        "id": "3e98265b"
      },
      "source": [
        "## Condición lógica en un condicional"
      ]
    },
    {
      "cell_type": "code",
      "execution_count": 8,
      "id": "e3b3f368",
      "metadata": {
        "id": "e3b3f368",
        "outputId": "f542f482-c0a3-4a0f-bcbc-29d8a8f57d8b",
        "colab": {
          "base_uri": "https://localhost:8080/"
        }
      },
      "outputs": [
        {
          "output_type": "stream",
          "name": "stdout",
          "text": [
            "No son iguales\n"
          ]
        }
      ],
      "source": [
        "a = 7\n",
        "b = 9\n",
        "\n",
        "if a == b:\n",
        "    print(\"Si son iguales\")\n",
        "\n",
        "if a != b:\n",
        "    print(\"No son iguales\")"
      ]
    }
  ],
  "metadata": {
    "kernelspec": {
      "display_name": "Python 3",
      "language": "python",
      "name": "python3"
    },
    "language_info": {
      "codemirror_mode": {
        "name": "ipython",
        "version": 3
      },
      "file_extension": ".py",
      "mimetype": "text/x-python",
      "name": "python",
      "nbconvert_exporter": "python",
      "pygments_lexer": "ipython3",
      "version": "3.8.8"
    },
    "colab": {
      "name": "calisto1_0280.ipynb",
      "provenance": [],
      "include_colab_link": true
    }
  },
  "nbformat": 4,
  "nbformat_minor": 5
}