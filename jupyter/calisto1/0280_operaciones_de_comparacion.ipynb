{
  "cells": [
    {
      "cell_type": "markdown",
      "metadata": {
        "id": "view-in-github",
        "colab_type": "text"
      },
      "source": [
        "<a href=\"https://colab.research.google.com/github/financieras/pyCourse/blob/main/jupyter/calisto1_0280.ipynb\" target=\"_parent\"><img src=\"https://colab.research.google.com/assets/colab-badge.svg\" alt=\"Open In Colab\"/></a>"
      ]
    },
    {
      "cell_type": "markdown",
      "id": "40428e89",
      "metadata": {
        "id": "40428e89"
      },
      "source": [
        "# Operadores de comparación"
      ]
    },
    {
      "cell_type": "markdown",
      "id": "5d0cfcb3",
      "metadata": {
        "id": "5d0cfcb3"
      },
      "source": [
        "- \\>\n",
        "- \\<\n",
        "- \\>=\n",
        "- \\<=\n",
        "- \\== &nbsp;&nbsp;&nbsp; igual\n",
        "- \\!= &nbsp;&nbsp;&nbsp;&nbsp; distinto\n"
      ]
    },
    {
      "cell_type": "code",
      "execution_count": null,
      "id": "83d7bca8",
      "metadata": {
        "id": "83d7bca8"
      },
      "outputs": [],
      "source": [
        "2 < 5"
      ]
    },
    {
      "cell_type": "code",
      "execution_count": null,
      "id": "a0d95a1d",
      "metadata": {
        "id": "a0d95a1d"
      },
      "outputs": [],
      "source": [
        "\"Ana\" > \"Jose\""
      ]
    },
    {
      "cell_type": "code",
      "execution_count": null,
      "id": "e35a23eb",
      "metadata": {
        "id": "e35a23eb"
      },
      "outputs": [],
      "source": [
        "x = 3\n",
        "y = 4\n",
        "x**2 + y**2 >= 0"
      ]
    },
    {
      "cell_type": "code",
      "execution_count": null,
      "id": "9baaf80c",
      "metadata": {
        "id": "9baaf80c"
      },
      "outputs": [],
      "source": [
        "2 == 8/4"
      ]
    },
    {
      "cell_type": "code",
      "execution_count": null,
      "id": "1dde0224",
      "metadata": {
        "id": "1dde0224"
      },
      "outputs": [],
      "source": [
        "\"Alex\" != \"alex\""
      ]
    },
    {
      "cell_type": "markdown",
      "id": "c27dc84e",
      "metadata": {
        "id": "c27dc84e"
      },
      "source": [
        "## Comparando por rangos\n",
        "Las dos siguientes formas de comparar son completamente equivalentes."
      ]
    },
    {
      "cell_type": "code",
      "execution_count": null,
      "id": "bf630708",
      "metadata": {
        "id": "bf630708"
      },
      "outputs": [],
      "source": [
        "x = 5\n",
        "0 < x and x < 10    # True"
      ]
    },
    {
      "cell_type": "code",
      "execution_count": null,
      "id": "547ffbe3",
      "metadata": {
        "id": "547ffbe3"
      },
      "outputs": [],
      "source": [
        "0 < x < 10          # True"
      ]
    },
    {
      "cell_type": "markdown",
      "id": "3e98265b",
      "metadata": {
        "id": "3e98265b"
      },
      "source": [
        "## Condición lógica en un condicional"
      ]
    },
    {
      "cell_type": "code",
      "execution_count": null,
      "id": "e3b3f368",
      "metadata": {
        "id": "e3b3f368"
      },
      "outputs": [],
      "source": [
        "a = 7\n",
        "b = 9\n",
        "\n",
        "if a == b:\n",
        "    print(\"Si son iguales\")\n",
        "\n",
        "if a != b:\n",
        "    print(\"No son iguales\")"
      ]
    }
  ],
  "metadata": {
    "kernelspec": {
      "display_name": "Python 3",
      "language": "python",
      "name": "python3"
    },
    "language_info": {
      "codemirror_mode": {
        "name": "ipython",
        "version": 3
      },
      "file_extension": ".py",
      "mimetype": "text/x-python",
      "name": "python",
      "nbconvert_exporter": "python",
      "pygments_lexer": "ipython3",
      "version": "3.8.8"
    },
    "colab": {
      "name": "0280_operaciones_de_comparacion.ipynb",
      "provenance": [],
      "include_colab_link": true
    }
  },
  "nbformat": 4,
  "nbformat_minor": 5
}
