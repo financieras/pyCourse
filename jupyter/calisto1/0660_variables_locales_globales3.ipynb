{
  "cells": [
    {
      "cell_type": "markdown",
      "metadata": {
        "id": "view-in-github",
        "colab_type": "text"
      },
      "source": [
        "<a href=\"https://colab.research.google.com/github/financieras/pyCourse/blob/main/jupyter/calisto1/0660_variables_locales_globales3.ipynb\" target=\"_parent\"><img src=\"https://colab.research.google.com/assets/colab-badge.svg\" alt=\"Open In Colab\"/></a>"
      ]
    },
    {
      "cell_type": "markdown",
      "metadata": {
        "id": "MeYnM0Nz8h0F"
      },
      "source": [
        "# Funciones. Variables globales y variables locales [3]\n",
        "## ```nonlocal```\n",
        "* Creamos una función dentro de una función y deseamos que una variable interna de la segunda función no sea local\n",
        "* La palabra clave ```nonlocal``` se usa para trabajar con variables dentro de funciones anidadas, donde la variable no debe pertenecer a la función interna.\n",
        "* Utilizamos la palabra clave ```nonlocal``` para declarar que la variable no es local.\n"
      ],
      "id": "MeYnM0Nz8h0F"
    },
    {
      "cell_type": "code",
      "execution_count": 1,
      "metadata": {
        "id": "7alAhldc8h0H",
        "outputId": "3f0b93f2-27ab-484b-f243-89cf48538d72",
        "colab": {
          "base_uri": "https://localhost:8080/"
        }
      },
      "outputs": [
        {
          "output_type": "stream",
          "name": "stdout",
          "text": [
            "manzano\n"
          ]
        }
      ],
      "source": [
        "def lugar():\n",
        "    x = \"París\"\n",
        "    def planta():\n",
        "        nonlocal x                          # convertimos x en una variable que excede su ámbito local\n",
        "        x = \"manzano\"\n",
        "    planta()\n",
        "    return x\n",
        "\n",
        "print(lugar())   # manzano"
      ],
      "id": "7alAhldc8h0H"
    },
    {
      "cell_type": "code",
      "execution_count": 2,
      "metadata": {
        "id": "3ntWFiNT8h0K",
        "outputId": "70c967b4-394d-46b1-b407-8bb409aaf783",
        "colab": {
          "base_uri": "https://localhost:8080/"
        }
      },
      "outputs": [
        {
          "output_type": "stream",
          "name": "stdout",
          "text": [
            "París\n"
          ]
        }
      ],
      "source": [
        "def lugar():\n",
        "    x = \"París\"\n",
        "    def planta():\n",
        "        #nonlocal x                          # sin poner la expresión: nonlocal x\n",
        "        x = \"manzano\"\n",
        "    planta()\n",
        "    return x\n",
        "\n",
        "print(lugar())   # París                     # prevalece la variable de la función exterior"
      ],
      "id": "3ntWFiNT8h0K"
    }
  ],
  "metadata": {
    "kernelspec": {
      "display_name": "Python 3",
      "language": "python",
      "name": "python3"
    },
    "language_info": {
      "codemirror_mode": {
        "name": "ipython",
        "version": 3
      },
      "file_extension": ".py",
      "mimetype": "text/x-python",
      "name": "python",
      "nbconvert_exporter": "python",
      "pygments_lexer": "ipython3",
      "version": "3.8.5"
    },
    "colab": {
      "name": "0660_variables_locales_globales3.ipynb",
      "provenance": [],
      "include_colab_link": true
    }
  },
  "nbformat": 4,
  "nbformat_minor": 5
}