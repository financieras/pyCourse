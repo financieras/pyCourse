{
  "cells": [
    {
      "cell_type": "markdown",
      "metadata": {
        "id": "view-in-github",
        "colab_type": "text"
      },
      "source": [
        "<a href=\"https://colab.research.google.com/github/financieras/pyCourse/blob/main/jupyter/calisto1/calisto1_0170.ipynb\" target=\"_parent\"><img src=\"https://colab.research.google.com/assets/colab-badge.svg\" alt=\"Open In Colab\"/></a>"
      ]
    },
    {
      "cell_type": "markdown",
      "id": "96279767",
      "metadata": {
        "id": "96279767"
      },
      "source": [
        "# Listas [1]  \n",
        "Arrays   (arreglos)  \n",
        "Una lista es un conjunto iterable de datos ordenados que van entre corchetes ```[]```"
      ]
    },
    {
      "cell_type": "code",
      "execution_count": null,
      "id": "d771fdc2",
      "metadata": {
        "id": "d771fdc2"
      },
      "outputs": [],
      "source": [
        "[]                             # lista vacía"
      ]
    },
    {
      "cell_type": "code",
      "execution_count": null,
      "id": "a2e97e31",
      "metadata": {
        "id": "a2e97e31"
      },
      "outputs": [],
      "source": [
        "[10, 15, 12]                   # una lista de tres elementos con números enteros"
      ]
    },
    {
      "cell_type": "markdown",
      "id": "25037e95",
      "metadata": {
        "id": "25037e95"
      },
      "source": [
        "Una lista es una estructura de datos formada por una secuencia **ordenada** de objetos.  \n",
        "En una lista el orden importa."
      ]
    },
    {
      "cell_type": "code",
      "execution_count": null,
      "id": "538f8c17",
      "metadata": {
        "id": "538f8c17"
      },
      "outputs": [],
      "source": [
        "['azul', 'rojo', 'verde', 'rosa']        # una lista con strings"
      ]
    },
    {
      "cell_type": "code",
      "execution_count": null,
      "id": "b9b7b4f2",
      "metadata": {
        "id": "b9b7b4f2"
      },
      "outputs": [],
      "source": [
        "[4, 'lunes', 3.14, True, None]           # admite cualquier valor"
      ]
    },
    {
      "cell_type": "code",
      "execution_count": null,
      "id": "476ee3a8",
      "metadata": {
        "id": "476ee3a8"
      },
      "outputs": [],
      "source": [
        "comida = ['spagueti', 'pollo', 'tarta']  # asignación a una variable\n",
        "print(comida)                            # ['spagueti', 'pollo', 'tarta']"
      ]
    },
    {
      "cell_type": "markdown",
      "id": "3bb6a430",
      "metadata": {
        "id": "3bb6a430"
      },
      "source": [
        "## Podemos trabajar con índices"
      ]
    },
    {
      "cell_type": "code",
      "execution_count": null,
      "id": "10f93f6a",
      "metadata": {
        "id": "10f93f6a"
      },
      "outputs": [],
      "source": [
        "comida[0]                      # 'spagueti'   se comienza por el índice 0 \n",
        "comida[1]                      # 'pollo'\n",
        "comida[2]                      # 'tarta'      ¿por qué solo se imprime 'tarta'?"
      ]
    },
    {
      "cell_type": "markdown",
      "id": "d9516f90",
      "metadata": {
        "id": "d9516f90"
      },
      "source": [
        "## Longitud de una lista"
      ]
    },
    {
      "cell_type": "code",
      "execution_count": null,
      "id": "0c339d1c",
      "metadata": {
        "id": "0c339d1c"
      },
      "outputs": [],
      "source": [
        "p = [1, 2, 3, 4]\n",
        "q = [4, 5, 6, 7]\n",
        "len(p) == len(q)               # True"
      ]
    },
    {
      "cell_type": "markdown",
      "id": "3b590cf9",
      "metadata": {
        "id": "3b590cf9"
      },
      "source": [
        "## Las cadenas admiten slicing"
      ]
    },
    {
      "cell_type": "code",
      "execution_count": null,
      "id": "927e7ca2",
      "metadata": {
        "id": "927e7ca2"
      },
      "outputs": [],
      "source": [
        "comida[:2]                     # ['spagueti', 'pollo']"
      ]
    },
    {
      "cell_type": "code",
      "execution_count": null,
      "id": "e3b0bffa",
      "metadata": {
        "id": "e3b0bffa"
      },
      "outputs": [],
      "source": [
        "p[-1] == q[0]                  # True"
      ]
    },
    {
      "cell_type": "markdown",
      "id": "31687a19",
      "metadata": {
        "id": "31687a19"
      },
      "source": [
        "## Las listas no son inmutables\n",
        "Las listas pueden cambiar. Podemos reemplazar sus elementos.  \n",
        "Vamos a reemplazar el elemento de índice 0 que es spaguetis por otra palabra espaguetis (con e al inicio)."
      ]
    },
    {
      "cell_type": "code",
      "execution_count": null,
      "id": "f33df9e0",
      "metadata": {
        "id": "f33df9e0"
      },
      "outputs": [],
      "source": [
        "comida[0] = 'espagueti'        # reemplazando un elemento, escribimos espagueti con e\n",
        "print(comida)                  # ['espagueti', 'pollo', 'tarta']"
      ]
    },
    {
      "cell_type": "markdown",
      "id": "6346f6bb",
      "metadata": {
        "id": "6346f6bb"
      },
      "source": [
        "## Tipo lista"
      ]
    },
    {
      "cell_type": "code",
      "execution_count": null,
      "id": "8c7bd577",
      "metadata": {
        "id": "8c7bd577"
      },
      "outputs": [],
      "source": [
        "print(type(comida))             # <class 'list'>"
      ]
    },
    {
      "cell_type": "markdown",
      "id": "de79bb98",
      "metadata": {
        "id": "de79bb98"
      },
      "source": [
        "## Listas dentro de listas"
      ]
    },
    {
      "cell_type": "code",
      "execution_count": null,
      "id": "a0c0ed7a",
      "metadata": {
        "id": "a0c0ed7a"
      },
      "outputs": [],
      "source": [
        "lista = [comida, 23, True, 15.60]  # una lista dentro de una lista\n",
        "print(lista)"
      ]
    },
    {
      "cell_type": "markdown",
      "id": "e35e5bcf",
      "metadata": {
        "id": "e35e5bcf"
      },
      "source": [
        "### Matriz:  Array 2D\n",
        "Matriz de dos dimensiones."
      ]
    },
    {
      "cell_type": "code",
      "execution_count": null,
      "id": "a95b3d70",
      "metadata": {
        "id": "a95b3d70"
      },
      "outputs": [],
      "source": [
        "matriz = [[11,12,13,14],\n",
        "          [21,22,23,24],\n",
        "          [31,32,33,34]]\n",
        "matriz                          # tres filas, cuatro columnas, 3×4"
      ]
    },
    {
      "cell_type": "code",
      "source": [
        "print(*matriz[0])\n",
        "print(*matriz[1])\n",
        "print(*matriz[2])"
      ],
      "metadata": {
        "id": "_XKoHbUHmnW3"
      },
      "id": "_XKoHbUHmnW3",
      "execution_count": null,
      "outputs": []
    },
    {
      "cell_type": "markdown",
      "id": "a4386929",
      "metadata": {
        "id": "a4386929"
      },
      "source": [
        "#### Listas anidadas"
      ]
    },
    {
      "cell_type": "code",
      "execution_count": null,
      "id": "df6abc0f",
      "metadata": {
        "id": "df6abc0f"
      },
      "outputs": [],
      "source": [
        "a = [1, 2, 3]\n",
        "b = [4, 5, 6]\n",
        "c = [7, 8, 9]\n",
        "m = [a, b, c]\n",
        "m                               # matriz de dos dimensiones"
      ]
    },
    {
      "cell_type": "markdown",
      "id": "63f5ff88",
      "metadata": {
        "id": "63f5ff88"
      },
      "source": [
        "#### Accediendo a una lista dentro de otra lista"
      ]
    },
    {
      "cell_type": "code",
      "execution_count": null,
      "id": "2fca709b",
      "metadata": {
        "id": "2fca709b"
      },
      "outputs": [],
      "source": [
        "m[0]"
      ]
    },
    {
      "cell_type": "markdown",
      "id": "6a0d1c5c",
      "metadata": {
        "id": "6a0d1c5c"
      },
      "source": [
        "#### Accediendo a un elemento en una matriz"
      ]
    },
    {
      "cell_type": "code",
      "execution_count": null,
      "id": "c0e360d9",
      "metadata": {
        "id": "c0e360d9"
      },
      "outputs": [],
      "source": [
        "m[0][0]"
      ]
    },
    {
      "cell_type": "code",
      "execution_count": null,
      "id": "e42ed77f",
      "metadata": {
        "id": "e42ed77f"
      },
      "outputs": [],
      "source": [
        "m[2][2] == m[-1][-1]            # ¿9 es igual a 9?"
      ]
    },
    {
      "cell_type": "markdown",
      "id": "64c2b0a7",
      "metadata": {
        "id": "64c2b0a7"
      },
      "source": [
        "### Una listas que incluye dos listas"
      ]
    },
    {
      "cell_type": "code",
      "execution_count": null,
      "id": "28f54caa",
      "metadata": {
        "id": "28f54caa"
      },
      "outputs": [],
      "source": [
        "bebida = ['agua', 'vino', 'cerveza']\n",
        "menu = [comida, bebida]                       # una lista que incluye dos listas\n",
        "print(menu)\n",
        "print(menu[1][2])                             #cerveza\n",
        "print(comida[len(comida)-1] == comida[-1])    #True"
      ]
    },
    {
      "cell_type": "markdown",
      "id": "21616ea1",
      "metadata": {
        "id": "21616ea1"
      },
      "source": [
        "## Sumar dos listas es unir dos listas en una"
      ]
    },
    {
      "cell_type": "code",
      "execution_count": null,
      "id": "47b77aad",
      "metadata": {
        "id": "47b77aad"
      },
      "outputs": [],
      "source": [
        "carta = comida + bebida         # la carta del restaurante es la unión de comida y bebida\n",
        "print(carta)"
      ]
    },
    {
      "cell_type": "markdown",
      "id": "c98a4733",
      "metadata": {
        "id": "c98a4733"
      },
      "source": [
        "## Borrar un elemento de la lista"
      ]
    },
    {
      "cell_type": "code",
      "execution_count": null,
      "id": "fc800354",
      "metadata": {
        "id": "fc800354"
      },
      "outputs": [],
      "source": [
        "del carta[-2]                   # eliminamos el vino\n",
        "print(carta)                    # ['espagueti', 'pollo', 'tarta', 'agua', 'cerveza']"
      ]
    },
    {
      "cell_type": "markdown",
      "id": "1732deb8",
      "metadata": {
        "id": "1732deb8"
      },
      "source": [
        "## Anexar un elemento a una lista\n",
        "Añadir el elemento en la última posición."
      ]
    },
    {
      "cell_type": "code",
      "execution_count": null,
      "id": "3caeb79d",
      "metadata": {
        "id": "3caeb79d"
      },
      "outputs": [],
      "source": [
        "carta.append('limonada')        # añadimos al final un elemento\n",
        "print(carta)                    # ['espagueti', 'pollo', 'tarta', 'agua', 'cerveza', 'limonada']"
      ]
    },
    {
      "cell_type": "markdown",
      "id": "5623bf81",
      "metadata": {
        "id": "5623bf81"
      },
      "source": [
        "## Comprobar si un elemento está en la lista"
      ]
    },
    {
      "cell_type": "code",
      "execution_count": null,
      "id": "f908ce76",
      "metadata": {
        "id": "f908ce76"
      },
      "outputs": [],
      "source": [
        "print('tarta' in carta)         # True    Operador de pertenencia: in\n",
        "print('fruta' in carta)         # False"
      ]
    },
    {
      "cell_type": "markdown",
      "id": "8d4b62b9",
      "metadata": {
        "id": "8d4b62b9"
      },
      "source": [
        "## Índice de un elemento en la lista\n",
        "Ver que número de índice ocupa un elemento en la lista"
      ]
    },
    {
      "cell_type": "code",
      "execution_count": null,
      "id": "9aa114a3",
      "metadata": {
        "id": "9aa114a3"
      },
      "outputs": [],
      "source": [
        "oferta = ['espagueti', 'pollo', 'tarta', 'agua', 'cerveza']\n",
        "print(oferta.index('tarta'))    # 2"
      ]
    },
    {
      "cell_type": "markdown",
      "id": "f5366bb5",
      "metadata": {
        "id": "f5366bb5"
      },
      "source": [
        "### Añadimos café"
      ]
    },
    {
      "cell_type": "code",
      "execution_count": null,
      "id": "d46d0c7a",
      "metadata": {
        "id": "d46d0c7a"
      },
      "outputs": [],
      "source": [
        "oferta.append('café')           # ['espagueti', 'pollo', 'tarta', 'agua', 'cerveza', 'café']\n",
        "print(oferta)"
      ]
    },
    {
      "cell_type": "markdown",
      "id": "7ad67f1b",
      "metadata": {
        "id": "7ad67f1b"
      },
      "source": [
        "### Removemos el agua"
      ]
    },
    {
      "cell_type": "code",
      "execution_count": null,
      "id": "b27e3199",
      "metadata": {
        "id": "b27e3199"
      },
      "outputs": [],
      "source": [
        "oferta.remove('agua')           # ['espagueti', 'pollo', 'tarta', 'cerveza', 'café']\n",
        "print(oferta)"
      ]
    },
    {
      "cell_type": "markdown",
      "id": "4e4429bd",
      "metadata": {
        "id": "4e4429bd"
      },
      "source": [
        "### Eliminamos el úlimo elemento con pop"
      ]
    },
    {
      "cell_type": "code",
      "execution_count": null,
      "id": "b475c773",
      "metadata": {
        "id": "b475c773"
      },
      "outputs": [],
      "source": [
        "oferta.pop()                    # ['espagueti', 'pollo', 'tarta', 'cerveza']\n",
        "print(oferta)"
      ]
    },
    {
      "cell_type": "markdown",
      "id": "fc534d6e",
      "metadata": {
        "id": "fc534d6e"
      },
      "source": [
        "### Insertamos un elemento en una posición concreta"
      ]
    },
    {
      "cell_type": "code",
      "execution_count": null,
      "id": "ccae05d3",
      "metadata": {
        "id": "ccae05d3"
      },
      "outputs": [],
      "source": [
        "oferta.insert(2, 'fruta')       # ['espagueti', 'pollo', 'fruta', 'tarta', 'cerveza']\n",
        "print(oferta)"
      ]
    },
    {
      "cell_type": "code",
      "execution_count": null,
      "id": "2680056f",
      "metadata": {
        "id": "2680056f"
      },
      "outputs": [],
      "source": [
        "oferta.insert(0, 'pan')         # ['pan', 'espagueti', 'pollo', 'fruta', 'tarta', 'cerveza']\n",
        "print(oferta)"
      ]
    },
    {
      "cell_type": "markdown",
      "id": "9eebdbf7",
      "metadata": {
        "id": "9eebdbf7"
      },
      "source": [
        "### Eliminar parte de una lista"
      ]
    },
    {
      "cell_type": "code",
      "execution_count": null,
      "id": "f8531cac",
      "metadata": {
        "id": "f8531cac"
      },
      "outputs": [],
      "source": [
        "oferta[:2] = []                 # usando slicing e igualando a una lista vacía\n",
        "oferta"
      ]
    },
    {
      "cell_type": "markdown",
      "id": "44f148c0",
      "metadata": {
        "id": "44f148c0"
      },
      "source": [
        "### Eliminando completamente el contenido de la lista"
      ]
    },
    {
      "cell_type": "code",
      "execution_count": null,
      "id": "b9352a34",
      "metadata": {
        "id": "b9352a34"
      },
      "outputs": [],
      "source": [
        "oferta = []                     # asignando la lista a una lista vacía\n",
        "oferta"
      ]
    },
    {
      "cell_type": "markdown",
      "id": "4ac672f3",
      "metadata": {
        "id": "4ac672f3"
      },
      "source": [
        "#### Método 1 ```list=[]```"
      ]
    },
    {
      "cell_type": "code",
      "execution_count": null,
      "id": "12717abe",
      "metadata": {
        "id": "12717abe"
      },
      "outputs": [],
      "source": [
        "list1 = [1, 2, 3]\n",
        "list2 = list1\n",
        "list1 = []\n",
        "print(\"list1\", list1)\n",
        "print(\"list2\", list2)"
      ]
    },
    {
      "cell_type": "markdown",
      "id": "a774bc45",
      "metadata": {
        "id": "a774bc45"
      },
      "source": [
        "#### Método 2 ```list.clear()```"
      ]
    },
    {
      "cell_type": "code",
      "execution_count": null,
      "id": "41e747e3",
      "metadata": {
        "id": "41e747e3"
      },
      "outputs": [],
      "source": [
        "list1 = [1, 2, 3]\n",
        "list2 = list1\n",
        "list1.clear()\n",
        "print(\"list1\", list1)\n",
        "print(\"list2\", list2)"
      ]
    },
    {
      "cell_type": "markdown",
      "id": "d0cf4bd5",
      "metadata": {
        "id": "d0cf4bd5"
      },
      "source": [
        "#### Método 3 ```del list[:]```"
      ]
    },
    {
      "cell_type": "code",
      "execution_count": null,
      "id": "e3a3c2b8",
      "metadata": {
        "id": "e3a3c2b8"
      },
      "outputs": [],
      "source": [
        "list1 = [1, 2, 3]\n",
        "list2 = list1\n",
        "del list1[:]\n",
        "print(\"list1\", list1)\n",
        "print(\"list2\", list2)"
      ]
    },
    {
      "cell_type": "markdown",
      "id": "0f679934",
      "metadata": {
        "id": "0f679934"
      },
      "source": [
        "#### Método 4 ```list *= 0```"
      ]
    },
    {
      "cell_type": "code",
      "execution_count": null,
      "id": "460bd704",
      "metadata": {
        "id": "460bd704"
      },
      "outputs": [],
      "source": [
        "list1 = [1, 2, 3]\n",
        "list2 = list1\n",
        "list1 *= 0\n",
        "print(\"list1\", list1)\n",
        "print(\"list2\", list2)"
      ]
    }
  ],
  "metadata": {
    "kernelspec": {
      "display_name": "Python 3 (ipykernel)",
      "language": "python",
      "name": "python3"
    },
    "language_info": {
      "codemirror_mode": {
        "name": "ipython",
        "version": 3
      },
      "file_extension": ".py",
      "mimetype": "text/x-python",
      "name": "python",
      "nbconvert_exporter": "python",
      "pygments_lexer": "ipython3",
      "version": "3.8.11"
    },
    "colab": {
      "name": "calisto1_0170.ipynb",
      "provenance": [],
      "include_colab_link": true
    }
  },
  "nbformat": 4,
  "nbformat_minor": 5
}