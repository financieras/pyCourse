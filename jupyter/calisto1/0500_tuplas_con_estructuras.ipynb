{
  "cells": [
    {
      "cell_type": "markdown",
      "metadata": {
        "id": "view-in-github",
        "colab_type": "text"
      },
      "source": [
        "<a href=\"https://colab.research.google.com/github/financieras/pyCourse/blob/main/jupyter/calisto1_0500.ipynb\" target=\"_parent\"><img src=\"https://colab.research.google.com/assets/colab-badge.svg\" alt=\"Open In Colab\"/></a>"
      ]
    },
    {
      "cell_type": "markdown",
      "metadata": {
        "id": "n-hsY960jqjX"
      },
      "source": [
        "# Tuplas con estructuras"
      ],
      "id": "n-hsY960jqjX"
    },
    {
      "cell_type": "code",
      "execution_count": null,
      "metadata": {
        "id": "-z7R1PXJjqjY",
        "outputId": "e52b9083-6eb5-4e7c-940f-bc400149879f"
      },
      "outputs": [
        {
          "name": "stdout",
          "output_type": "stream",
          "text": [
            "Primavera\n",
            "Verano\n",
            "Otoño\n",
            "Invierno\n"
          ]
        }
      ],
      "source": [
        "estaciones = ('Primavera','Verano','Otoño','Invierno')\n",
        "for i in estaciones:\n",
        "    print(i)"
      ],
      "id": "-z7R1PXJjqjY"
    },
    {
      "cell_type": "code",
      "execution_count": null,
      "metadata": {
        "id": "m3HkORR1jqjZ",
        "outputId": "48790931-8b0f-4759-d48f-3de0df5c6df9"
      },
      "outputs": [
        {
          "name": "stdout",
          "output_type": "stream",
          "text": [
            "Primavera, Verano, Otoño, Invierno, \n"
          ]
        }
      ],
      "source": [
        "for estacion in estaciones:\n",
        "    print(estacion, end=', ')  # queda la última coma\n",
        "print()"
      ],
      "id": "m3HkORR1jqjZ"
    },
    {
      "cell_type": "code",
      "execution_count": null,
      "metadata": {
        "id": "oLeDou_Njqja",
        "outputId": "5e5fb44f-e50b-46be-a826-779adfed4c68"
      },
      "outputs": [
        {
          "name": "stdout",
          "output_type": "stream",
          "text": [
            "Primavera,Verano,Otoño,Invierno\n"
          ]
        }
      ],
      "source": [
        "texto = ''\n",
        "for estacion in estaciones:\n",
        "    texto += estacion+','\n",
        "print(texto[:-1])             # así no se muestra la última coma"
      ],
      "id": "oLeDou_Njqja"
    },
    {
      "cell_type": "markdown",
      "metadata": {
        "id": "MMJ_p_mEjqja"
      },
      "source": [
        "## El operador ```*```"
      ],
      "id": "MMJ_p_mEjqja"
    },
    {
      "cell_type": "code",
      "execution_count": null,
      "metadata": {
        "id": "R_iFo4Tljqjb",
        "outputId": "6c65ceef-b053-45ed-f575-a8a4c3b715ef"
      },
      "outputs": [
        {
          "name": "stdout",
          "output_type": "stream",
          "text": [
            "Primavera, Verano, Otoño, Invierno\n"
          ]
        }
      ],
      "source": [
        "print(*estaciones, sep=', ')"
      ],
      "id": "R_iFo4Tljqjb"
    },
    {
      "cell_type": "code",
      "execution_count": null,
      "metadata": {
        "id": "E-pUrEEgjqjb",
        "outputId": "f343a9a5-7e8a-426c-cd15-a4df63af607c"
      },
      "outputs": [
        {
          "name": "stdout",
          "output_type": "stream",
          "text": [
            "Verano, Otoño\n"
          ]
        }
      ],
      "source": [
        "print(*(i for i in estaciones if len(i)<7), sep=', ')        #Verano, Otoño"
      ],
      "id": "E-pUrEEgjqjb"
    }
  ],
  "metadata": {
    "kernelspec": {
      "display_name": "Python 3",
      "language": "python",
      "name": "python3"
    },
    "language_info": {
      "codemirror_mode": {
        "name": "ipython",
        "version": 3
      },
      "file_extension": ".py",
      "mimetype": "text/x-python",
      "name": "python",
      "nbconvert_exporter": "python",
      "pygments_lexer": "ipython3",
      "version": "3.8.5"
    },
    "colab": {
      "name": "0500_tuplas_con_estructuras.ipynb",
      "provenance": [],
      "include_colab_link": true
    }
  },
  "nbformat": 4,
  "nbformat_minor": 5
}
