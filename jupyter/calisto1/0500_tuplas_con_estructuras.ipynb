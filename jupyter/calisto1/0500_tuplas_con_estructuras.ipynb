{
  "cells": [
    {
      "cell_type": "markdown",
      "metadata": {
        "id": "view-in-github",
        "colab_type": "text"
      },
      "source": [
        "<a href=\"https://colab.research.google.com/github/financieras/pyCourse/blob/main/jupyter/calisto1/0500_tuplas_con_estructuras.ipynb\" target=\"_parent\"><img src=\"https://colab.research.google.com/assets/colab-badge.svg\" alt=\"Open In Colab\"/></a>"
      ]
    },
    {
      "cell_type": "markdown",
      "metadata": {
        "id": "n-hsY960jqjX"
      },
      "source": [
        "# Tuplas con estructuras"
      ],
      "id": "n-hsY960jqjX"
    },
    {
      "cell_type": "code",
      "execution_count": 1,
      "metadata": {
        "id": "-z7R1PXJjqjY",
        "outputId": "bc42af8e-7d20-4760-c5f8-1c168b5d52f6",
        "colab": {
          "base_uri": "https://localhost:8080/"
        }
      },
      "outputs": [
        {
          "output_type": "stream",
          "name": "stdout",
          "text": [
            "Primavera\n",
            "Verano\n",
            "Otoño\n",
            "Invierno\n"
          ]
        }
      ],
      "source": [
        "estaciones = ('Primavera','Verano','Otoño','Invierno')\n",
        "\n",
        "for i in estaciones:\n",
        "    print(i)"
      ],
      "id": "-z7R1PXJjqjY"
    },
    {
      "cell_type": "code",
      "execution_count": 2,
      "metadata": {
        "id": "m3HkORR1jqjZ",
        "outputId": "cea51bba-077d-4f47-9cb6-aaef6b0a29bb",
        "colab": {
          "base_uri": "https://localhost:8080/"
        }
      },
      "outputs": [
        {
          "output_type": "stream",
          "name": "stdout",
          "text": [
            "Primavera, Verano, Otoño, Invierno, \n"
          ]
        }
      ],
      "source": [
        "for estacion in estaciones:\n",
        "    print(estacion, end=', ')  # queda la última coma\n",
        "\n",
        "print()"
      ],
      "id": "m3HkORR1jqjZ"
    },
    {
      "cell_type": "code",
      "execution_count": 3,
      "metadata": {
        "id": "oLeDou_Njqja",
        "outputId": "03c18e76-855a-40e6-a0ce-3082ce5a4e2e",
        "colab": {
          "base_uri": "https://localhost:8080/"
        }
      },
      "outputs": [
        {
          "output_type": "stream",
          "name": "stdout",
          "text": [
            "Primavera,Verano,Otoño,Invierno\n"
          ]
        }
      ],
      "source": [
        "texto = ''\n",
        "\n",
        "for estacion in estaciones:\n",
        "    texto += estacion+','\n",
        "\n",
        "print(texto[:-1])             # así no se muestra la última coma"
      ],
      "id": "oLeDou_Njqja"
    },
    {
      "cell_type": "markdown",
      "metadata": {
        "id": "MMJ_p_mEjqja"
      },
      "source": [
        "## El operador ```*```"
      ],
      "id": "MMJ_p_mEjqja"
    },
    {
      "cell_type": "code",
      "execution_count": 4,
      "metadata": {
        "id": "R_iFo4Tljqjb",
        "outputId": "ed6f07f0-eaed-4bbd-e186-35ba59d3f437",
        "colab": {
          "base_uri": "https://localhost:8080/"
        }
      },
      "outputs": [
        {
          "output_type": "stream",
          "name": "stdout",
          "text": [
            "Primavera, Verano, Otoño, Invierno\n"
          ]
        }
      ],
      "source": [
        "print(*estaciones, sep=', ')"
      ],
      "id": "R_iFo4Tljqjb"
    },
    {
      "cell_type": "code",
      "execution_count": 5,
      "metadata": {
        "id": "E-pUrEEgjqjb",
        "outputId": "229f5d91-9882-4a7d-fb3e-5f9cc675c203",
        "colab": {
          "base_uri": "https://localhost:8080/"
        }
      },
      "outputs": [
        {
          "output_type": "stream",
          "name": "stdout",
          "text": [
            "Verano, Otoño\n"
          ]
        }
      ],
      "source": [
        "print(*(i for i in estaciones if len(i)<7), sep=', ')        #Verano, Otoño"
      ],
      "id": "E-pUrEEgjqjb"
    }
  ],
  "metadata": {
    "kernelspec": {
      "display_name": "Python 3",
      "language": "python",
      "name": "python3"
    },
    "language_info": {
      "codemirror_mode": {
        "name": "ipython",
        "version": 3
      },
      "file_extension": ".py",
      "mimetype": "text/x-python",
      "name": "python",
      "nbconvert_exporter": "python",
      "pygments_lexer": "ipython3",
      "version": "3.8.5"
    },
    "colab": {
      "name": "0500_tuplas_con_estructuras.ipynb",
      "provenance": [],
      "include_colab_link": true
    }
  },
  "nbformat": 4,
  "nbformat_minor": 5
}