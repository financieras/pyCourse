{
  "cells": [
    {
      "cell_type": "markdown",
      "metadata": {
        "id": "view-in-github",
        "colab_type": "text"
      },
      "source": [
        "<a href=\"https://colab.research.google.com/github/financieras/pyCourse/blob/main/jupyter/calisto1/0560_funciones_sencillas.ipynb\" target=\"_parent\"><img src=\"https://colab.research.google.com/assets/colab-badge.svg\" alt=\"Open In Colab\"/></a>"
      ]
    },
    {
      "cell_type": "markdown",
      "metadata": {
        "id": "71IjHfP2Uot2"
      },
      "source": [
        "# Funciones sencillas"
      ]
    },
    {
      "cell_type": "markdown",
      "metadata": {
        "id": "ZRKkLaonUot3"
      },
      "source": [
        "## Ejemplo 1. Tabla de multiplicar\n",
        "Pasamos un número como argumento y la función nos muestra la tabla de multiplicar de ese número."
      ]
    },
    {
      "cell_type": "code",
      "execution_count": 1,
      "metadata": {
        "id": "ttJsNS_7Uot4",
        "outputId": "4a2f331a-e634-4e73-a89b-e315bb574cf8",
        "colab": {
          "base_uri": "https://localhost:8080/"
        }
      },
      "outputs": [
        {
          "output_type": "stream",
          "name": "stdout",
          "text": [
            "5 ×  0 =  0\n",
            "5 ×  1 =  5\n",
            "5 ×  2 = 10\n",
            "5 ×  3 = 15\n",
            "5 ×  4 = 20\n",
            "5 ×  5 = 25\n",
            "5 ×  6 = 30\n",
            "5 ×  7 = 35\n",
            "5 ×  8 = 40\n",
            "5 ×  9 = 45\n",
            "5 × 10 = 50\n"
          ]
        }
      ],
      "source": [
        "def multiplica(n):                          # función sin return\n",
        "    for i in range(11):\n",
        "        print(f\"{n} × {i:2} = {n*i:2}\")\n",
        "\n",
        "multiplica(5)"
      ]
    },
    {
      "cell_type": "markdown",
      "metadata": {
        "id": "HtGT78OeUot5"
      },
      "source": [
        "## Ejemplo 2. Área de un rectángulo\n",
        "Calcular el área de un rectángulo dada la base y la altura."
      ]
    },
    {
      "cell_type": "code",
      "execution_count": 2,
      "metadata": {
        "id": "E7AhXYOEUot6",
        "outputId": "23f5acb5-38dd-4b16-eabf-f068224ec0b6",
        "colab": {
          "base_uri": "https://localhost:8080/"
        }
      },
      "outputs": [
        {
          "output_type": "stream",
          "name": "stdout",
          "text": [
            "El área de un rectángulo de base 10 y de altura 5 es 50.\n"
          ]
        },
        {
          "output_type": "execute_result",
          "data": {
            "text/plain": [
              "12"
            ]
          },
          "metadata": {},
          "execution_count": 2
        }
      ],
      "source": [
        "def area(a, b):\n",
        "    return a * b\n",
        "\n",
        "base = 10\n",
        "altura = 5\n",
        "print(f\"El área de un rectángulo de base {base} y de altura {altura} es {area(base,altura)}.\")\n",
        "\n",
        "area(3, 4)    # para calcular rápidamente el resultado de una función pasándole los argumentos"
      ]
    },
    {
      "cell_type": "markdown",
      "metadata": {
        "id": "7KkGRu8_Uot6"
      },
      "source": [
        "## Ejemplo 3. Área de un cilindro\n",
        "Es igual al área del círculo multiplicado por la altura.  \n",
        "El área del círculo es pi por el radio al cuadrado."
      ]
    },
    {
      "cell_type": "code",
      "execution_count": 3,
      "metadata": {
        "id": "kOuedK5aUot7",
        "outputId": "b99eddbc-8e61-4915-cdac-bde2ba0d0c61",
        "colab": {
          "base_uri": "https://localhost:8080/"
        }
      },
      "outputs": [
        {
          "output_type": "execute_result",
          "data": {
            "text/plain": [
              "125.66370614359172"
            ]
          },
          "metadata": {},
          "execution_count": 3
        }
      ],
      "source": [
        "import math\n",
        "def area_cilindro(radio, altura):\n",
        "    return (math.pi) * (radio**2) * altura     # sobran estos paréntesis\n",
        "\n",
        "area_cilindro(radio=2, altura=10)"
      ]
    },
    {
      "cell_type": "markdown",
      "metadata": {
        "id": "snqFsUJ8Uot7"
      },
      "source": [
        "## Ejemplo 4. Límites de un intervalo\n",
        "Como datos se proporcionan los siguientes:\n",
        "- un número\n",
        "- el límite inferior (min) y\n",
        "- el límite superior del intervalo (max).  \n",
        "\n",
        "Se pueden dar tres casos:\n",
        "- Si el número es menor que el mínimo dará el mínimo\n",
        "- Si el número está entre el mínimo y el máximo dará el número\n",
        "- Si el número es mayor que el máximo dará el máximo  \n",
        "De esta forma conseguiremos que cualquier número quede en el intervalo entre el mínimo y el máximo  \n",
        "[min, max]\n"
      ]
    },
    {
      "cell_type": "code",
      "execution_count": 4,
      "metadata": {
        "id": "9rHf-uQcUot8",
        "outputId": "2a50a81c-59b5-4570-9e23-54d102579dce",
        "colab": {
          "base_uri": "https://localhost:8080/"
        }
      },
      "outputs": [
        {
          "output_type": "execute_result",
          "data": {
            "text/plain": [
              "20"
            ]
          },
          "metadata": {},
          "execution_count": 4
        }
      ],
      "source": [
        "def intervalo(n,min,max):\n",
        "    if n < min: return min\n",
        "    elif n > max: return max\n",
        "    else: return n                      # si no ponemos el else también funciona bien\n",
        "\n",
        "numero = 24\n",
        "min = 10\n",
        "max = 20\n",
        "intervalo(numero,min,max)"
      ]
    },
    {
      "cell_type": "markdown",
      "metadata": {
        "id": "JcpGe-Q-Uot9"
      },
      "source": [
        "## Ejemplo 5. Piedra, papel, tijeras\n",
        "Programar la lógica del juego solo para una tirada de los jugadores A y B.  \n",
        "El jugador A elige la opción a, el jugador B elige la opción b."
      ]
    },
    {
      "cell_type": "code",
      "execution_count": 5,
      "metadata": {
        "id": "67gj2ZR3Uot9",
        "outputId": "0cd00619-e2fd-4d5b-d26b-c45246918dac",
        "colab": {
          "base_uri": "https://localhost:8080/",
          "height": 35
        }
      },
      "outputs": [
        {
          "output_type": "execute_result",
          "data": {
            "text/plain": [
              "'gana B'"
            ],
            "application/vnd.google.colaboratory.intrinsic+json": {
              "type": "string"
            }
          },
          "metadata": {},
          "execution_count": 5
        }
      ],
      "source": [
        "def juega(a, b):\n",
        "    a = a.lower()\n",
        "    b = b.lower()\n",
        "    opciones = ['piedra', 'papel', 'tijeras']\n",
        "    if a not in opciones or b not in opciones: return f\"Las opciones permitidas son {opciones}\"\n",
        "    if a==b: return 'Empate'\n",
        "    elif (a=='papel' and b=='piedra') or \\\n",
        "         (a=='piedra' and b=='tijeras') or \\\n",
        "         (a=='tijeras' and b=='papel'): return \"gana A\"\n",
        "    else: return \"gana B\"\n",
        "\n",
        "a = \"Piedra\"\n",
        "b = \"Papel\"\n",
        "juega(a, b)"
      ]
    },
    {
      "cell_type": "markdown",
      "metadata": {
        "id": "-k0EW-hpUot-"
      },
      "source": [
        "## Ejemplo 6. Media aritmética\n",
        "Dada una lista de precios calcular la media."
      ]
    },
    {
      "cell_type": "code",
      "execution_count": 6,
      "metadata": {
        "id": "1pFFB7opUot-",
        "outputId": "fb8a397f-2aba-4691-e02c-c019018a0d69",
        "colab": {
          "base_uri": "https://localhost:8080/"
        }
      },
      "outputs": [
        {
          "output_type": "execute_result",
          "data": {
            "text/plain": [
              "96.88"
            ]
          },
          "metadata": {},
          "execution_count": 6
        }
      ],
      "source": [
        "def media(precios):\n",
        "    suma = 0\n",
        "    for precio in precios:\n",
        "        suma += precio\n",
        "    return round(suma/len(precios), 2)    # redondeo a dos decimales\n",
        "\n",
        "precios=[89, 92, 96, 98, 101, 95, 102, 102]\n",
        "media(precios)"
      ]
    },
    {
      "cell_type": "code",
      "execution_count": 7,
      "metadata": {
        "id": "vb2AagXOUot-",
        "outputId": "77413bf2-6972-460b-b5f7-37186104ea28",
        "colab": {
          "base_uri": "https://localhost:8080/"
        }
      },
      "outputs": [
        {
          "output_type": "execute_result",
          "data": {
            "text/plain": [
              "96.875"
            ]
          },
          "metadata": {},
          "execution_count": 7
        }
      ],
      "source": [
        "from statistics import mean              # comprobación usando mean\n",
        "mean(precios)"
      ]
    },
    {
      "cell_type": "code",
      "execution_count": 8,
      "metadata": {
        "id": "lDoYeKWvUot_",
        "outputId": "9df410a2-a8d2-49ac-fdd5-dbd3d642bcd7",
        "colab": {
          "base_uri": "https://localhost:8080/"
        }
      },
      "outputs": [
        {
          "output_type": "execute_result",
          "data": {
            "text/plain": [
              "96.875"
            ]
          },
          "metadata": {},
          "execution_count": 8
        }
      ],
      "source": [
        "sum(precios)/len(precios)                # comprobación sumando la lista y dividiendo entre su longitud"
      ]
    },
    {
      "cell_type": "markdown",
      "metadata": {
        "id": "GGsq26NTUot_"
      },
      "source": [
        "## Ejemplo 7. Divisores de un número\n",
        "Dado un número sus divisores son todos aquellos números enteros menores que él que cumplan que la división es exacta.  \n",
        "El 1 es divisor de todos los números, por eso no le incluimos en la lista."
      ]
    },
    {
      "cell_type": "code",
      "execution_count": 9,
      "metadata": {
        "id": "OB73g5l7Uot_",
        "outputId": "a382d976-6665-48c0-d39b-d086dd9586ad",
        "colab": {
          "base_uri": "https://localhost:8080/"
        }
      },
      "outputs": [
        {
          "output_type": "execute_result",
          "data": {
            "text/plain": [
              "[2, 3, 4, 5, 6, 8, 10, 12, 15, 20, 24, 30, 40, 60]"
            ]
          },
          "metadata": {},
          "execution_count": 9
        }
      ],
      "source": [
        "def divisores(n):\n",
        "    lista=[]\n",
        "    for i in range(2,n):\n",
        "        if n%i==0:\n",
        "            lista.append(i)\n",
        "    if len(lista)==0: return \"Es primo\"\n",
        "    else: return lista\n",
        "\n",
        "numero = 120\n",
        "divisores(numero)"
      ]
    },
    {
      "cell_type": "markdown",
      "metadata": {
        "id": "4zXDska8UouA"
      },
      "source": [
        "## Ejemplo 8. Pares e impares\n",
        "Generar una lista con 12 números aleatorios entre 10 y 30, ambos incluidos, sin repetición y separarla en una lista de pares y otra de impares, ordenados."
      ]
    },
    {
      "cell_type": "code",
      "execution_count": 10,
      "metadata": {
        "id": "Voxb3DKYUouA",
        "outputId": "4302bdf0-105e-4b6b-8ec1-082c790e96a0",
        "colab": {
          "base_uri": "https://localhost:8080/"
        }
      },
      "outputs": [
        {
          "output_type": "stream",
          "name": "stdout",
          "text": [
            "[26, 24, 11, 23, 14, 29, 22, 12, 21, 25, 16, 28]\n",
            "[12, 14, 16, 22, 24, 26, 28]\n",
            "[11, 21, 23, 25, 29]\n"
          ]
        }
      ],
      "source": [
        "from random import sample\n",
        "l = sample(range(10,31), 12)\n",
        "print(l)\n",
        "\n",
        "def separa(l):\n",
        "    l.sort()\n",
        "    pares = []\n",
        "    impares = []\n",
        "    for n in l:\n",
        "        if n%2: impares.append(n)         # la condición no es una igualdad ya que si da 1 se entiende que es True\n",
        "        else: pares.append(n)\n",
        "    return pares,impares\n",
        "\n",
        "pares, impares = separa(l)                 # recogemos la tupla de listas que devuelve el return\n",
        "print(pares)\n",
        "print(impares)"
      ]
    },
    {
      "cell_type": "markdown",
      "source": [
        "## Ejemplo 9\n",
        "Crear una función que diga si un número es par.  \n",
        "En el propio ```return``` se puede meter una condición y nos ahorramos poner un ```if```."
      ],
      "metadata": {
        "id": "81-V_GDeUz5f"
      }
    },
    {
      "cell_type": "code",
      "source": [
        "def es_par(n):\n",
        "    return n%2==0\n",
        "\n",
        "es_par(4)"
      ],
      "metadata": {
        "id": "09UGr1h9VIvG",
        "outputId": "d786acb0-eccf-41ae-92ef-4638e283e099",
        "colab": {
          "base_uri": "https://localhost:8080/"
        }
      },
      "execution_count": 11,
      "outputs": [
        {
          "output_type": "execute_result",
          "data": {
            "text/plain": [
              "True"
            ]
          },
          "metadata": {},
          "execution_count": 11
        }
      ]
    }
  ],
  "metadata": {
    "kernelspec": {
      "display_name": "Python 3",
      "language": "python",
      "name": "python3"
    },
    "language_info": {
      "codemirror_mode": {
        "name": "ipython",
        "version": 3
      },
      "file_extension": ".py",
      "mimetype": "text/x-python",
      "name": "python",
      "nbconvert_exporter": "python",
      "pygments_lexer": "ipython3",
      "version": "3.8.5"
    },
    "colab": {
      "name": "0560_funciones_sencillas.ipynb",
      "provenance": [],
      "include_colab_link": true
    }
  },
  "nbformat": 4,
  "nbformat_minor": 0
}