{
  "nbformat": 4,
  "nbformat_minor": 0,
  "metadata": {
    "colab": {
      "name": "calisto1_0365.ipynb",
      "provenance": [],
      "authorship_tag": "ABX9TyMEoUy3oVJBCDoXyW3pYY6V",
      "include_colab_link": true
    },
    "kernelspec": {
      "name": "python3",
      "display_name": "Python 3"
    },
    "language_info": {
      "name": "python"
    }
  },
  "cells": [
    {
      "cell_type": "markdown",
      "metadata": {
        "id": "view-in-github",
        "colab_type": "text"
      },
      "source": [
        "<a href=\"https://colab.research.google.com/github/financieras/pyCourse/blob/main/jupyter/calisto1/0365_casos_con_bucles_for.ipynb\" target=\"_parent\"><img src=\"https://colab.research.google.com/assets/colab-badge.svg\" alt=\"Open In Colab\"/></a>"
      ]
    },
    {
      "cell_type": "markdown",
      "source": [
        "# Casos con Bucles `For`"
      ],
      "metadata": {
        "id": "-vvX3Li25J60"
      }
    },
    {
      "cell_type": "markdown",
      "source": [
        "## Múltiplos"
      ],
      "metadata": {
        "id": "DFsARXLc7t1e"
      }
    },
    {
      "cell_type": "markdown",
      "source": [
        "Lista los números del 1 al 100, los dos incluidos, separados por salto de linea.\n",
        "* En caso de que el numero sea divisor de 4 escribir en su lugar \"Buzz\".\n",
        "* En caso de que el numero sea divisor de 7 escribir en su lugar \"Fizz\".\n",
        "* Si el numero es divisor de tanto 7 como 4, escribir en su lugar \"FizzBuzz\"."
      ],
      "metadata": {
        "id": "TDqNP_7w1IMK"
      }
    },
    {
      "cell_type": "markdown",
      "source": [
        "### Método 1"
      ],
      "metadata": {
        "id": "JgyLnYww4uT_"
      }
    },
    {
      "cell_type": "code",
      "source": [
        "for i in range(1,101):\n",
        "    if i%4==0 and i%7==0:\n",
        "        print(\"FizzBuzz\")\n",
        "    elif i%4==0:\n",
        "        print(\"Buzz\")\n",
        "    elif i%7==0:\n",
        "        print(\"Fizz\")\n",
        "    else:\n",
        "        print(i)"
      ],
      "metadata": {
        "id": "bjsvQIRT2kN7"
      },
      "execution_count": null,
      "outputs": []
    },
    {
      "cell_type": "markdown",
      "source": [
        "### Método 2"
      ],
      "metadata": {
        "id": "INtaCtW44zCr"
      }
    },
    {
      "cell_type": "code",
      "source": [
        "for i in range(1,101):\n",
        "    if not i%28:            # múltiplos de 4*7=28\n",
        "        print(\"FizzBuzz\")\n",
        "    elif not i%4:\n",
        "        print(\"Buzz\")\n",
        "    elif not i%7:\n",
        "        print(\"Fizz\")\n",
        "    else:\n",
        "        print(i)"
      ],
      "metadata": {
        "id": "hpMF4sAJ1Oc4"
      },
      "execution_count": null,
      "outputs": []
    },
    {
      "cell_type": "markdown",
      "source": [
        "## Sucesión de Fibonacci\n",
        "Es una sucesión de infinitos números donde los dos primeros números son 0 y 1 y el resto se contruye sumando los dos anteriores."
      ],
      "metadata": {
        "id": "_PzkkZn87xiJ"
      }
    },
    {
      "cell_type": "code",
      "source": [
        "def fibo(n):   # para n>=3\n",
        "    a, b = 0, 1\n",
        "    for i in range(3, n+1):\n",
        "        c = a + b\n",
        "        a = b\n",
        "        b = c\n",
        "    return(c)\n",
        "\n",
        "[0,1]+[fibo(i) for i in range(3,20)]"
      ],
      "metadata": {
        "colab": {
          "base_uri": "https://localhost:8080/"
        },
        "id": "B081GOaC72_A",
        "outputId": "fddbc688-d5c9-402a-86f4-58f73d02bde4"
      },
      "execution_count": null,
      "outputs": [
        {
          "output_type": "execute_result",
          "data": {
            "text/plain": [
              "[0, 1, 1, 2, 3, 5, 8, 13, 21, 34, 55, 89, 144, 233, 377, 610, 987, 1597, 2584]"
            ]
          },
          "metadata": {},
          "execution_count": 32
        }
      ]
    }
  ]
}