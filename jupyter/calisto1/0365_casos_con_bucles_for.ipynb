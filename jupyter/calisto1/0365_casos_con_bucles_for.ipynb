{
  "nbformat": 4,
  "nbformat_minor": 0,
  "metadata": {
    "colab": {
      "name": "0365_casos_con_bucles_for.ipynb",
      "provenance": [],
      "authorship_tag": "ABX9TyMEoUy3oVJBCDoXyW3pYY6V",
      "include_colab_link": true
    },
    "kernelspec": {
      "name": "python3",
      "display_name": "Python 3"
    },
    "language_info": {
      "name": "python"
    }
  },
  "cells": [
    {
      "cell_type": "markdown",
      "metadata": {
        "id": "view-in-github",
        "colab_type": "text"
      },
      "source": [
        "<a href=\"https://colab.research.google.com/github/financieras/pyCourse/blob/main/jupyter/calisto1/0365_casos_con_bucles_for.ipynb\" target=\"_parent\"><img src=\"https://colab.research.google.com/assets/colab-badge.svg\" alt=\"Open In Colab\"/></a>"
      ]
    },
    {
      "cell_type": "markdown",
      "source": [
        "# Casos con Bucles `For`"
      ],
      "metadata": {
        "id": "-vvX3Li25J60"
      }
    },
    {
      "cell_type": "markdown",
      "source": [
        "## Múltiplos"
      ],
      "metadata": {
        "id": "DFsARXLc7t1e"
      }
    },
    {
      "cell_type": "markdown",
      "source": [
        "Lista los números del 1 al 100, los dos incluidos, separados por salto de linea.\n",
        "* En caso de que el numero sea divisor de 4 escribir en su lugar \"Buzz\".\n",
        "* En caso de que el numero sea divisor de 7 escribir en su lugar \"Fizz\".\n",
        "* Si el numero es divisor de tanto 7 como 4, escribir en su lugar \"FizzBuzz\"."
      ],
      "metadata": {
        "id": "TDqNP_7w1IMK"
      }
    },
    {
      "cell_type": "markdown",
      "source": [
        "### Método 1"
      ],
      "metadata": {
        "id": "JgyLnYww4uT_"
      }
    },
    {
      "cell_type": "code",
      "source": [
        "for i in range(1,101):\n",
        "    if i%4==0 and i%7==0:\n",
        "        print(\"FizzBuzz\")\n",
        "    elif i%4==0:\n",
        "        print(\"Buzz\")\n",
        "    elif i%7==0:\n",
        "        print(\"Fizz\")\n",
        "    else:\n",
        "        print(i)"
      ],
      "metadata": {
        "id": "bjsvQIRT2kN7",
        "outputId": "8a525607-86e7-45a0-832e-ab3d73f39a60",
        "colab": {
          "base_uri": "https://localhost:8080/"
        }
      },
      "execution_count": 1,
      "outputs": [
        {
          "output_type": "stream",
          "name": "stdout",
          "text": [
            "1\n",
            "2\n",
            "3\n",
            "Buzz\n",
            "5\n",
            "6\n",
            "Fizz\n",
            "Buzz\n",
            "9\n",
            "10\n",
            "11\n",
            "Buzz\n",
            "13\n",
            "Fizz\n",
            "15\n",
            "Buzz\n",
            "17\n",
            "18\n",
            "19\n",
            "Buzz\n",
            "Fizz\n",
            "22\n",
            "23\n",
            "Buzz\n",
            "25\n",
            "26\n",
            "27\n",
            "FizzBuzz\n",
            "29\n",
            "30\n",
            "31\n",
            "Buzz\n",
            "33\n",
            "34\n",
            "Fizz\n",
            "Buzz\n",
            "37\n",
            "38\n",
            "39\n",
            "Buzz\n",
            "41\n",
            "Fizz\n",
            "43\n",
            "Buzz\n",
            "45\n",
            "46\n",
            "47\n",
            "Buzz\n",
            "Fizz\n",
            "50\n",
            "51\n",
            "Buzz\n",
            "53\n",
            "54\n",
            "55\n",
            "FizzBuzz\n",
            "57\n",
            "58\n",
            "59\n",
            "Buzz\n",
            "61\n",
            "62\n",
            "Fizz\n",
            "Buzz\n",
            "65\n",
            "66\n",
            "67\n",
            "Buzz\n",
            "69\n",
            "Fizz\n",
            "71\n",
            "Buzz\n",
            "73\n",
            "74\n",
            "75\n",
            "Buzz\n",
            "Fizz\n",
            "78\n",
            "79\n",
            "Buzz\n",
            "81\n",
            "82\n",
            "83\n",
            "FizzBuzz\n",
            "85\n",
            "86\n",
            "87\n",
            "Buzz\n",
            "89\n",
            "90\n",
            "Fizz\n",
            "Buzz\n",
            "93\n",
            "94\n",
            "95\n",
            "Buzz\n",
            "97\n",
            "Fizz\n",
            "99\n",
            "Buzz\n"
          ]
        }
      ]
    },
    {
      "cell_type": "markdown",
      "source": [
        "### Método 2"
      ],
      "metadata": {
        "id": "INtaCtW44zCr"
      }
    },
    {
      "cell_type": "code",
      "source": [
        "for i in range(1,101):\n",
        "    if not i%28:            # múltiplos de 4*7=28\n",
        "        print(\"FizzBuzz\")\n",
        "    elif not i%4:\n",
        "        print(\"Buzz\")\n",
        "    elif not i%7:\n",
        "        print(\"Fizz\")\n",
        "    else:\n",
        "        print(i)"
      ],
      "metadata": {
        "id": "hpMF4sAJ1Oc4",
        "outputId": "43c32f7b-57a2-4f17-c294-fa868ae6ceb3",
        "colab": {
          "base_uri": "https://localhost:8080/"
        }
      },
      "execution_count": 2,
      "outputs": [
        {
          "output_type": "stream",
          "name": "stdout",
          "text": [
            "1\n",
            "2\n",
            "3\n",
            "Buzz\n",
            "5\n",
            "6\n",
            "Fizz\n",
            "Buzz\n",
            "9\n",
            "10\n",
            "11\n",
            "Buzz\n",
            "13\n",
            "Fizz\n",
            "15\n",
            "Buzz\n",
            "17\n",
            "18\n",
            "19\n",
            "Buzz\n",
            "Fizz\n",
            "22\n",
            "23\n",
            "Buzz\n",
            "25\n",
            "26\n",
            "27\n",
            "FizzBuzz\n",
            "29\n",
            "30\n",
            "31\n",
            "Buzz\n",
            "33\n",
            "34\n",
            "Fizz\n",
            "Buzz\n",
            "37\n",
            "38\n",
            "39\n",
            "Buzz\n",
            "41\n",
            "Fizz\n",
            "43\n",
            "Buzz\n",
            "45\n",
            "46\n",
            "47\n",
            "Buzz\n",
            "Fizz\n",
            "50\n",
            "51\n",
            "Buzz\n",
            "53\n",
            "54\n",
            "55\n",
            "FizzBuzz\n",
            "57\n",
            "58\n",
            "59\n",
            "Buzz\n",
            "61\n",
            "62\n",
            "Fizz\n",
            "Buzz\n",
            "65\n",
            "66\n",
            "67\n",
            "Buzz\n",
            "69\n",
            "Fizz\n",
            "71\n",
            "Buzz\n",
            "73\n",
            "74\n",
            "75\n",
            "Buzz\n",
            "Fizz\n",
            "78\n",
            "79\n",
            "Buzz\n",
            "81\n",
            "82\n",
            "83\n",
            "FizzBuzz\n",
            "85\n",
            "86\n",
            "87\n",
            "Buzz\n",
            "89\n",
            "90\n",
            "Fizz\n",
            "Buzz\n",
            "93\n",
            "94\n",
            "95\n",
            "Buzz\n",
            "97\n",
            "Fizz\n",
            "99\n",
            "Buzz\n"
          ]
        }
      ]
    },
    {
      "cell_type": "markdown",
      "source": [
        "## Sucesión de Fibonacci\n",
        "Es una sucesión de infinitos números donde los dos primeros números son 0 y 1 y el resto se contruye sumando los dos anteriores."
      ],
      "metadata": {
        "id": "_PzkkZn87xiJ"
      }
    },
    {
      "cell_type": "code",
      "source": [
        "def fibo(n):   # para n>=3\n",
        "    a, b = 0, 1\n",
        "    for i in range(3, n+1):\n",
        "        c = a + b\n",
        "        a = b\n",
        "        b = c\n",
        "    return(c)\n",
        "\n",
        "[0,1]+[fibo(i) for i in range(3,20)]"
      ],
      "metadata": {
        "colab": {
          "base_uri": "https://localhost:8080/"
        },
        "id": "B081GOaC72_A",
        "outputId": "69d49019-c6f0-49ee-cb8a-c312a113199d"
      },
      "execution_count": 3,
      "outputs": [
        {
          "output_type": "execute_result",
          "data": {
            "text/plain": [
              "[0, 1, 1, 2, 3, 5, 8, 13, 21, 34, 55, 89, 144, 233, 377, 610, 987, 1597, 2584]"
            ]
          },
          "metadata": {},
          "execution_count": 3
        }
      ]
    }
  ]
}