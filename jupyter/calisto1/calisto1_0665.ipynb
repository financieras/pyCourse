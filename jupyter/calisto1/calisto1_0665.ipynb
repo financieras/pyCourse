{
  "nbformat": 4,
  "nbformat_minor": 0,
  "metadata": {
    "colab": {
      "provenance": [],
      "authorship_tag": "ABX9TyO2+vljXLe4H+Y3aLE2PXs1",
      "include_colab_link": true
    },
    "kernelspec": {
      "name": "python3",
      "display_name": "Python 3"
    },
    "language_info": {
      "name": "python"
    }
  },
  "cells": [
    {
      "cell_type": "markdown",
      "metadata": {
        "id": "view-in-github",
        "colab_type": "text"
      },
      "source": [
        "<a href=\"https://colab.research.google.com/github/financieras/pyCourse/blob/main/jupyter/calisto1/calisto1_0665.ipynb\" target=\"_parent\"><img src=\"https://colab.research.google.com/assets/colab-badge.svg\" alt=\"Open In Colab\"/></a>"
      ]
    },
    {
      "cell_type": "markdown",
      "source": [
        "# Alcance de las variables\n",
        "Scope of Variables dentro y fuera de las funciones"
      ],
      "metadata": {
        "id": "UCl7AIFsREfG"
      }
    },
    {
      "cell_type": "markdown",
      "source": [
        "## Para una variable `int`"
      ],
      "metadata": {
        "id": "WXFrvRhlROnR"
      }
    },
    {
      "cell_type": "code",
      "source": [
        "def impares_a_cero(num):\n",
        "    if num % 2:\n",
        "        num = 0\n",
        "\n",
        "num = 3\n",
        "impares_a_cero(num)\n",
        "print(num)"
      ],
      "metadata": {
        "id": "K_KxMBzQQYDq"
      },
      "execution_count": null,
      "outputs": []
    },
    {
      "cell_type": "markdown",
      "source": [
        "## Para un array de números `int`"
      ],
      "metadata": {
        "id": "GSVKYHa7RURu"
      }
    },
    {
      "cell_type": "code",
      "source": [
        "def impares_a_cero(nums):\n",
        "    for r in range(len(nums)):\n",
        "        if nums[r] % 2:\n",
        "            nums[r] = 0\n",
        "\n",
        "nums = [1,2,3,4,5,6,7,8,9,10]\n",
        "impares_a_cero(nums)\n",
        "print(nums)"
      ],
      "metadata": {
        "id": "vP0DQokvPeH7"
      },
      "execution_count": null,
      "outputs": []
    }
  ]
}