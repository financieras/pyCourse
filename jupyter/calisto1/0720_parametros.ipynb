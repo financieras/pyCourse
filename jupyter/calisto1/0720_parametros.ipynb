{
  "cells": [
    {
      "cell_type": "markdown",
      "metadata": {
        "id": "view-in-github",
        "colab_type": "text"
      },
      "source": [
        "<a href=\"https://colab.research.google.com/github/financieras/pyCourse/blob/main/jupyter/calisto1/0720_parametros.ipynb\" target=\"_parent\"><img src=\"https://colab.research.google.com/assets/colab-badge.svg\" alt=\"Open In Colab\"/></a>"
      ]
    },
    {
      "cell_type": "markdown",
      "metadata": {
        "id": "YP9W52sXP6Gq"
      },
      "source": [
        "# Funciones: Parámetros"
      ],
      "id": "YP9W52sXP6Gq"
    },
    {
      "cell_type": "markdown",
      "metadata": {
        "id": "6aWSNsWmP6Gt"
      },
      "source": [
        "## Parámetros por defecto\n",
        "### Ejemplo 1"
      ],
      "id": "6aWSNsWmP6Gt"
    },
    {
      "cell_type": "code",
      "execution_count": 1,
      "metadata": {
        "colab": {
          "base_uri": "https://localhost:8080/"
        },
        "id": "pdJkZHS9P6Gu",
        "outputId": "47a49b30-faa4-4bbf-e3f3-3b4aa555f680"
      },
      "outputs": [
        {
          "output_type": "stream",
          "name": "stdout",
          "text": [
            "Hola Jose\n"
          ]
        }
      ],
      "source": [
        "def saludar(nombre, mensaje = 'Hola'):\n",
        "    print(mensaje, nombre)\n",
        "\n",
        "saludar('Jose')                       # Hola Jose"
      ],
      "id": "pdJkZHS9P6Gu"
    },
    {
      "cell_type": "markdown",
      "source": [
        "### Ejemplo 2"
      ],
      "metadata": {
        "id": "oCHVnzLaTBH7"
      },
      "id": "oCHVnzLaTBH7"
    },
    {
      "cell_type": "code",
      "source": [
        "def saludame(nombre, mensaje=\"buenos días\"):\n",
        "    print(f\"Hola {nombre}, {mensaje}\")\n",
        "\n",
        "saludame(\"Pedro\")                  # cuando solo pasamos un argumento se aplica el mensaje por defecto\n",
        "saludame(\"Ana\", \"¿qué tal estás?\") # ahora pasamos dos argumentos y el mensaje por defecto no se aplica"
      ],
      "metadata": {
        "colab": {
          "base_uri": "https://localhost:8080/"
        },
        "id": "WB5EUR_PR9-j",
        "outputId": "1bd2cf05-124c-43ae-9061-27a7bf749e5f"
      },
      "id": "WB5EUR_PR9-j",
      "execution_count": 2,
      "outputs": [
        {
          "output_type": "stream",
          "name": "stdout",
          "text": [
            "Hola Pedro, buenos días\n",
            "Hola Ana, ¿qué tal estás?\n"
          ]
        }
      ]
    },
    {
      "cell_type": "markdown",
      "metadata": {
        "id": "xH4Lk6UiP6Gw"
      },
      "source": [
        "## Pasar parámetros como palabras clave\n",
        "* Si se indican las palabras clave, pueden ir desordenadas.\n",
        "* Si no se indican las palabras clave, irán en orden."
      ],
      "id": "xH4Lk6UiP6Gw"
    },
    {
      "cell_type": "code",
      "execution_count": 3,
      "metadata": {
        "colab": {
          "base_uri": "https://localhost:8080/"
        },
        "id": "Er-7ZsLvP6Gy",
        "outputId": "b36b00b1-854d-4263-e483-1e7ef02e7f56"
      },
      "outputs": [
        {
          "output_type": "stream",
          "name": "stdout",
          "text": [
            "Buenos días Laura\n"
          ]
        }
      ],
      "source": [
        "def saludar(nombre, mensaje):\n",
        "    print(mensaje, nombre)\n",
        "\n",
        "saludar(mensaje = \"Buenos días\", nombre = 'Laura')"
      ],
      "id": "Er-7ZsLvP6Gy"
    },
    {
      "cell_type": "markdown",
      "source": [
        "## Un número indeterminado de argumentos **\\*args**\n",
        "* Podemos pasar una serie de argumentos cuando no sabemos cuántos serán\n",
        "* Usamos la sintaxis del asterisco **```*```**\n",
        "* La serie de argumentos forman una tupla"
      ],
      "metadata": {
        "id": "geZ3TOH2TXJl"
      },
      "id": "geZ3TOH2TXJl"
    },
    {
      "cell_type": "code",
      "source": [
        "def saluda_amigos(*nombres):\n",
        "    for nombre in nombres:\n",
        "        print(\"Hola\", nombre)\n",
        "\n",
        "saluda_amigos(\"Luis\", \"Isa\", \"Alex\", \"Eva\")"
      ],
      "metadata": {
        "colab": {
          "base_uri": "https://localhost:8080/"
        },
        "id": "BX2eliZrTq73",
        "outputId": "c0a35395-4464-4608-e610-e40f82b0beb5"
      },
      "id": "BX2eliZrTq73",
      "execution_count": 4,
      "outputs": [
        {
          "output_type": "stream",
          "name": "stdout",
          "text": [
            "Hola Luis\n",
            "Hola Isa\n",
            "Hola Alex\n",
            "Hola Eva\n"
          ]
        }
      ]
    }
  ],
  "metadata": {
    "kernelspec": {
      "display_name": "Python 3",
      "language": "python",
      "name": "python3"
    },
    "language_info": {
      "codemirror_mode": {
        "name": "ipython",
        "version": 3
      },
      "file_extension": ".py",
      "mimetype": "text/x-python",
      "name": "python",
      "nbconvert_exporter": "python",
      "pygments_lexer": "ipython3",
      "version": "3.8.5"
    },
    "colab": {
      "name": "calisto1_0720.ipynb",
      "provenance": [],
      "include_colab_link": true
    }
  },
  "nbformat": 4,
  "nbformat_minor": 5
}