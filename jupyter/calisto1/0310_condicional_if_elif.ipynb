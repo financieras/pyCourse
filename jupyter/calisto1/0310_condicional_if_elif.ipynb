{
  "cells": [
    {
      "cell_type": "markdown",
      "metadata": {
        "id": "view-in-github",
        "colab_type": "text"
      },
      "source": [
        "<a href=\"https://colab.research.google.com/github/financieras/pyCourse/blob/main/jupyter/calisto1/0310_condicional_if_elif.ipynb\" target=\"_parent\"><img src=\"https://colab.research.google.com/assets/colab-badge.svg\" alt=\"Open In Colab\"/></a>"
      ]
    },
    {
      "cell_type": "markdown",
      "id": "01dbef72",
      "metadata": {
        "id": "01dbef72"
      },
      "source": [
        "# Estructura condicional: ```if``` ... ```elif```"
      ]
    },
    {
      "cell_type": "code",
      "execution_count": 1,
      "id": "4e5ca237",
      "metadata": {
        "id": "4e5ca237",
        "outputId": "d666b0c3-6887-4b59-f3f6-a522b43bee9a",
        "colab": {
          "base_uri": "https://localhost:8080/"
        }
      },
      "outputs": [
        {
          "output_type": "stream",
          "name": "stdout",
          "text": [
            "a es menor que b\n"
          ]
        }
      ],
      "source": [
        "a = 10\n",
        "b = 20                                   # tres condicionales if independientes\n",
        "if a == b:\n",
        "    print(\"a es igual a b\")\n",
        "if a < b:\n",
        "    print(\"a es menor que b\")\n",
        "if a > b:\n",
        "    print(\"a es mayor que b\")"
      ]
    },
    {
      "cell_type": "code",
      "execution_count": 2,
      "id": "f8e8b438",
      "metadata": {
        "id": "f8e8b438",
        "outputId": "5aa9ef41-f6e4-4600-f547-b8f96097ead1",
        "colab": {
          "base_uri": "https://localhost:8080/"
        }
      },
      "outputs": [
        {
          "output_type": "stream",
          "name": "stdout",
          "text": [
            "a es menor que b\n"
          ]
        }
      ],
      "source": [
        "a = 10\n",
        "b = 20                                  #una única estructura if con varios casos\n",
        "if a == b:\n",
        "    print(\"a es igual a b\")\n",
        "elif a < b:\n",
        "    print(\"a es menor que b\")\n",
        "elif a > b:\n",
        "    print(\"a es mayor que b\")\n"
      ]
    },
    {
      "cell_type": "markdown",
      "id": "459aadfb",
      "metadata": {
        "id": "459aadfb"
      },
      "source": [
        "## Varios ```elif``` y finalmente un ```else```\n",
        "El usuario puede dar órdenes de compra, venta o consulta de acciones."
      ]
    },
    {
      "cell_type": "code",
      "execution_count": 3,
      "id": "05d1b248",
      "metadata": {
        "id": "05d1b248",
        "outputId": "105884c1-6641-41a8-f868-2e46117a05a8",
        "colab": {
          "base_uri": "https://localhost:8080/"
        }
      },
      "outputs": [
        {
          "output_type": "stream",
          "name": "stdout",
          "text": [
            "Vendiendo acciones\n"
          ]
        }
      ],
      "source": [
        "orden = \"VENDER\"\n",
        "if orden == \"COMPRAR\":\n",
        "    print(\"Comprando acciones\")\n",
        "elif orden == \"VENDER\":\n",
        "    print(\"Vendiendo acciones\")\n",
        "elif orden == \"CONSULTAR\":\n",
        "    print(\"Consultando el precio de las acciones\")\n",
        "elif orden == \"SALIR\":\n",
        "    print(\"Saliendo del sistema...\")\n",
        "else:\n",
        "    print(\"Orden no reconocida\")"
      ]
    },
    {
      "cell_type": "markdown",
      "id": "5b3eadf0",
      "metadata": {
        "id": "5b3eadf0"
      },
      "source": [
        "## Intervalos  \n",
        "Asignar valores según el intervalo en el que se encuentre.  \n",
        "![tabla_con_los_intervalos](https://github.com/financieras/pyCourse/blob/main/jupyter/img/tablanotas.png?raw=1)"
      ]
    },
    {
      "cell_type": "markdown",
      "id": "8f011757",
      "metadata": {
        "id": "8f011757"
      },
      "source": [
        "### Ejemplo: calificación de un examen"
      ]
    },
    {
      "cell_type": "markdown",
      "id": "ed9565ae",
      "metadata": {
        "id": "ed9565ae"
      },
      "source": [
        "#### Código incorrecto con varios ```if``` independientes"
      ]
    },
    {
      "cell_type": "code",
      "execution_count": 4,
      "id": "e2d38129",
      "metadata": {
        "id": "e2d38129",
        "outputId": "4439759b-9a58-415c-b17a-d2ad5cd0a035",
        "colab": {
          "base_uri": "https://localhost:8080/"
        }
      },
      "outputs": [
        {
          "output_type": "stream",
          "name": "stdout",
          "text": [
            "Notable\n",
            "Aprobado\n"
          ]
        }
      ],
      "source": [
        "# Este código no es adecuado para el caso de las notas ya que se analiza cada if de forma independiente\n",
        "# se puede dar el caso donde con un 8 se cumplan dos condicionales.\n",
        "# Pruebe con nota = 9\n",
        "nota = 8                     #calificación de un examen\n",
        "if nota >= 9:\n",
        "    print(\"Sobresaliente\")\n",
        "if nota >= 7:\n",
        "    print(\"Notable\")\n",
        "if nota >= 5:\n",
        "    print(\"Aprobado\")\n",
        "if nota < 5:\n",
        "    print(\"Suspenso\")"
      ]
    },
    {
      "cell_type": "markdown",
      "id": "cb7d8410",
      "metadata": {
        "id": "cb7d8410"
      },
      "source": [
        "#### Código correcto usando ```and```"
      ]
    },
    {
      "cell_type": "code",
      "execution_count": 5,
      "id": "33760222",
      "metadata": {
        "id": "33760222",
        "outputId": "0033bfb9-3f0d-4cef-f0b5-8404635b11a5",
        "colab": {
          "base_uri": "https://localhost:8080/"
        }
      },
      "outputs": [
        {
          "output_type": "stream",
          "name": "stdout",
          "text": [
            "Notable\n"
          ]
        }
      ],
      "source": [
        "nota = 8\n",
        "if nota >= 9:\n",
        "    print(\"Sobresaliente\")\n",
        "if nota >= 7 and nota < 9:\n",
        "    print(\"Notable\")\n",
        "if nota >= 5 and nota <7:\n",
        "    print(\"Aprobado\")\n",
        "if nota < 5:\n",
        "    print(\"Suspenso\")"
      ]
    },
    {
      "cell_type": "markdown",
      "id": "31ea35ff",
      "metadata": {
        "id": "31ea35ff"
      },
      "source": [
        "#### Código correcto usando ```elif```\n",
        "Cuando se cumple una condición el flujo del programa se sale del condicional if y no sigue probando las otras condiciones."
      ]
    },
    {
      "cell_type": "code",
      "execution_count": 6,
      "id": "2d809db6",
      "metadata": {
        "id": "2d809db6",
        "outputId": "a2a128b8-cf3b-4f0c-f2e7-080d55183444",
        "colab": {
          "base_uri": "https://localhost:8080/"
        }
      },
      "outputs": [
        {
          "output_type": "stream",
          "name": "stdout",
          "text": [
            "Introduzca la nota: 8\n",
            "Notable\n"
          ]
        }
      ],
      "source": [
        "nota = float(input(\"Introduzca la nota: \"))\n",
        "if nota >= 9:\n",
        "    print(\"Sobresaliente\")\n",
        "elif nota >= 7:\n",
        "    print(\"Notable\")\n",
        "elif nota >= 5:\n",
        "    print(\"Aprobado\")\n",
        "else:\n",
        "    print(\"Suspenso\")"
      ]
    },
    {
      "cell_type": "markdown",
      "id": "440947f4",
      "metadata": {
        "id": "440947f4"
      },
      "source": [
        "#### Ejercicio  \n",
        "Pruebe a informar en caso de notas negativas o notas que superen el 10.  \n",
        "Modifique el código para que el 10 sea \"Matrícula de Honor\"."
      ]
    },
    {
      "cell_type": "markdown",
      "id": "26b02548",
      "metadata": {
        "id": "26b02548"
      },
      "source": [
        "## ```If``` ... ```pass```"
      ]
    },
    {
      "cell_type": "code",
      "execution_count": 7,
      "id": "6d25be2c",
      "metadata": {
        "id": "6d25be2c"
      },
      "outputs": [],
      "source": [
        "if True:\n",
        "    pass"
      ]
    }
  ],
  "metadata": {
    "kernelspec": {
      "display_name": "Python 3",
      "language": "python",
      "name": "python3"
    },
    "language_info": {
      "codemirror_mode": {
        "name": "ipython",
        "version": 3
      },
      "file_extension": ".py",
      "mimetype": "text/x-python",
      "name": "python",
      "nbconvert_exporter": "python",
      "pygments_lexer": "ipython3",
      "version": "3.8.8"
    },
    "colab": {
      "name": "0310_condicional_if_elif.ipynb",
      "provenance": [],
      "include_colab_link": true
    }
  },
  "nbformat": 4,
  "nbformat_minor": 5
}