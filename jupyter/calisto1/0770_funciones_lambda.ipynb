{
  "nbformat": 4,
  "nbformat_minor": 0,
  "metadata": {
    "colab": {
      "name": "calisto1_0770.ipynb",
      "provenance": [],
      "authorship_tag": "ABX9TyPZdMXoy5kFfzJS2EsHc7eK",
      "include_colab_link": true
    },
    "kernelspec": {
      "name": "python3",
      "display_name": "Python 3"
    },
    "language_info": {
      "name": "python"
    }
  },
  "cells": [
    {
      "cell_type": "markdown",
      "metadata": {
        "id": "view-in-github",
        "colab_type": "text"
      },
      "source": [
        "<a href=\"https://colab.research.google.com/github/financieras/pyCourse/blob/main/jupyter/calisto1/0770_funciones_lambda.ipynb\" target=\"_parent\"><img src=\"https://colab.research.google.com/assets/colab-badge.svg\" alt=\"Open In Colab\"/></a>"
      ]
    },
    {
      "cell_type": "markdown",
      "source": [
        "# Funciones ```lambda```\n",
        "* También conocidas como **funciones anónimas** porque se definen sin un nombre\n",
        "* No se usa ```def``` se usa ```lambda```\n",
        "* Sintaxis ```lambda parámetros: expresión```\n",
        "* Parámetros: se admiten múltiples parámetros\n",
        "* Expresión:\n",
        " - se admite una única expresión\n",
        " - la expresión es evaluada y devuelta\n",
        "* Se suelen usar en combinación con otras funciones, como argumento de otra función"
      ],
      "metadata": {
        "id": "r03bg4PEpq-v"
      }
    },
    {
      "cell_type": "markdown",
      "source": [
        "## Función para elevar al cuadrado\n",
        "### Función con ```def```"
      ],
      "metadata": {
        "id": "2xX4vFbBtJYb"
      }
    },
    {
      "cell_type": "code",
      "source": [
        "def cuadrado(x):\n",
        "    return x**2\n",
        "\n",
        "print(cuadrado(5))"
      ],
      "metadata": {
        "colab": {
          "base_uri": "https://localhost:8080/"
        },
        "id": "m_81GeqYs86D",
        "outputId": "ae062e69-8beb-44c5-a015-8b32795e34d1"
      },
      "execution_count": null,
      "outputs": [
        {
          "output_type": "stream",
          "name": "stdout",
          "text": [
            "25\n"
          ]
        }
      ]
    },
    {
      "cell_type": "markdown",
      "source": [
        "### Función ```lambda```"
      ],
      "metadata": {
        "id": "W_EAKz6qtWvJ"
      }
    },
    {
      "cell_type": "code",
      "source": [
        "cuadrado = lambda x: x**2\n",
        "print(cuadrado(5))"
      ],
      "metadata": {
        "colab": {
          "base_uri": "https://localhost:8080/"
        },
        "id": "AYOSTtGJrJGo",
        "outputId": "4e48c454-1afc-4a09-b43f-4aef472a278e"
      },
      "execution_count": null,
      "outputs": [
        {
          "output_type": "stream",
          "name": "stdout",
          "text": [
            "25\n"
          ]
        }
      ]
    },
    {
      "cell_type": "markdown",
      "source": [
        "## Función ```lambda``` para sumar dos números"
      ],
      "metadata": {
        "id": "oyHiQeYE_cjj"
      }
    },
    {
      "cell_type": "code",
      "source": [
        "sumar = lambda a,b: a+b\n",
        "\n",
        "sumar(7,3)"
      ],
      "metadata": {
        "colab": {
          "base_uri": "https://localhost:8080/"
        },
        "id": "MkN6JVGw_i56",
        "outputId": "ad37d0a9-e63c-4e71-c4c7-960c95469477"
      },
      "execution_count": null,
      "outputs": [
        {
          "output_type": "execute_result",
          "data": {
            "text/plain": [
              "10"
            ]
          },
          "metadata": {},
          "execution_count": 2
        }
      ]
    },
    {
      "cell_type": "markdown",
      "source": [
        "## Función ```lambda``` para revertir una cadena"
      ],
      "metadata": {
        "id": "CAgImjsZHJGg"
      }
    },
    {
      "cell_type": "code",
      "source": [
        "revertir = lambda cadena: cadena[::-1]\n",
        "\n",
        "revertir(\"sogima\")"
      ],
      "metadata": {
        "id": "hA73XClsHSG6",
        "outputId": "86f2f004-ae2d-4f5e-9524-ed6434d0d73a",
        "colab": {
          "base_uri": "https://localhost:8080/",
          "height": 36
        }
      },
      "execution_count": null,
      "outputs": [
        {
          "output_type": "execute_result",
          "data": {
            "text/plain": [
              "'amigos'"
            ],
            "application/vnd.google.colaboratory.intrinsic+json": {
              "type": "string"
            }
          },
          "metadata": {},
          "execution_count": 7
        }
      ]
    },
    {
      "cell_type": "markdown",
      "source": [
        "## Funciones ```lambda``` que detectan si un número es par o impar"
      ],
      "metadata": {
        "id": "-meMREwPAkOo"
      }
    },
    {
      "cell_type": "code",
      "source": [
        "par = lambda n: n%2==0\n",
        "impar = lambda n: bool(n%2)\n",
        "\n",
        "print(par(4))\n",
        "print(par(5))\n",
        "print(impar(4))\n",
        "print(impar(5))"
      ],
      "metadata": {
        "colab": {
          "base_uri": "https://localhost:8080/"
        },
        "id": "NskKh7z5AvNv",
        "outputId": "76e40bd8-6012-4050-af31-56f8e1180fa4"
      },
      "execution_count": null,
      "outputs": [
        {
          "output_type": "stream",
          "name": "stdout",
          "text": [
            "True\n",
            "False\n",
            "False\n",
            "True\n"
          ]
        }
      ]
    },
    {
      "cell_type": "markdown",
      "source": [
        "## Función que calcula el área de un triángulo\n",
        "### Función ```lambda```\n",
        "* Podemos convertir funciones `def` sencillas en funciones `lambda`.\n",
        "* Si la función `def` fuera muy compleja no se podría.\n",
        "* Calcular el área de un triángulo requiere una función sencilla."
      ],
      "metadata": {
        "id": "UDLOZCx0Tkhu"
      }
    },
    {
      "cell_type": "code",
      "source": [
        "area_triangulo = lambda base,altura: base*altura/2\n",
        "print(area_triangulo(20,5))"
      ],
      "metadata": {
        "id": "f5UYVtF5Su-w",
        "outputId": "3eaba886-a9e4-4999-a952-434e395e61a7",
        "colab": {
          "base_uri": "https://localhost:8080/"
        }
      },
      "execution_count": null,
      "outputs": [
        {
          "output_type": "stream",
          "name": "stdout",
          "text": [
            "50.0\n"
          ]
        }
      ]
    },
    {
      "cell_type": "markdown",
      "source": [
        "## Funciones ```lambda``` usadas junto a otras funciones\n",
        "### Uso de ```lambda``` con ```map()```\n",
        "* La función ```map()``` aplica una función a cada uno de los elementos de una lista.\n",
        "* Sintaxis:  map(función, lista)\n",
        "* Ejemplo: dada una lista de números obtener otra lista con sus cuadrados"
      ],
      "metadata": {
        "id": "j619PIEutkat"
      }
    },
    {
      "cell_type": "markdown",
      "source": [
        "#### Método largo sin `map()`"
      ],
      "metadata": {
        "id": "xP02g5SUvIBW"
      }
    },
    {
      "cell_type": "code",
      "source": [
        "l = list(range(1,10))               # lista con los números del 1 al 9\n",
        "c = []                              # lista con los cuadrados\n",
        "\n",
        "for i in l:\n",
        "    c.append(i**2)\n",
        "\n",
        "print(c)"
      ],
      "metadata": {
        "colab": {
          "base_uri": "https://localhost:8080/"
        },
        "id": "kYh29ULvulC3",
        "outputId": "911b0bbf-c599-42e5-8747-64a98c274a0a"
      },
      "execution_count": null,
      "outputs": [
        {
          "output_type": "stream",
          "name": "stdout",
          "text": [
            "[1, 4, 9, 16, 25, 36, 49, 64, 81]\n"
          ]
        }
      ]
    },
    {
      "cell_type": "markdown",
      "source": [
        "#### Método largo con `map()`\n",
        "* La sintaxis de `map`es:\n",
        "  - `map(función, iter)`\n",
        "  - Lo que hace `map` es pasar por la función cada uno de los elementos de ìter` que es un iterable, por ejemplo una lista, tupla, diccionario, range.\n",
        "  - Los objetos iterables son aquellos que podemos recorrer usando un ciclo, entre ellos, las cadenas de texto o estructuras de datos como las listas, las tuplas o los diccionarios\n",
        "* Para imprimir el objeto `map` es necesario anteponer `print`."
      ],
      "metadata": {
        "id": "M0szncem5-5b"
      }
    },
    {
      "cell_type": "code",
      "source": [
        "def cuadrado(n):\n",
        "    return n**2\n",
        "\n",
        "list(map(cuadrado, range(1,10)))"
      ],
      "metadata": {
        "id": "zq9wTYeF4yCx",
        "outputId": "6af72a3b-56d8-4060-fa2d-6f4b01f2e639",
        "colab": {
          "base_uri": "https://localhost:8080/"
        }
      },
      "execution_count": null,
      "outputs": [
        {
          "output_type": "execute_result",
          "data": {
            "text/plain": [
              "[1, 4, 9, 16, 25, 36, 49, 64, 81]"
            ]
          },
          "metadata": {},
          "execution_count": 5
        }
      ]
    },
    {
      "cell_type": "markdown",
      "source": [
        "#### Método con función ```lambda```"
      ],
      "metadata": {
        "id": "IatYgmE8vMmc"
      }
    },
    {
      "cell_type": "code",
      "source": [
        "l = list(range(1,10))               # lista con los números del 1 al 9\n",
        "\n",
        "c = list(map(lambda x : x**2, l))   # lista con los cuadrados\n",
        "\n",
        "print(c)"
      ],
      "metadata": {
        "colab": {
          "base_uri": "https://localhost:8080/"
        },
        "id": "UhKG1RtsvQQ0",
        "outputId": "42b2ef72-5ca9-483a-86ad-90eb94e50d67"
      },
      "execution_count": null,
      "outputs": [
        {
          "output_type": "stream",
          "name": "stdout",
          "text": [
            "[1, 4, 9, 16, 25, 36, 49, 64, 81]\n"
          ]
        }
      ]
    },
    {
      "cell_type": "markdown",
      "source": [
        "### Uso de ```lambda``` con ```filter```\n",
        "* La función `filter()` filtra una lista de elementos para los que una función devuelve `True`\n",
        "* Sintaxis:  `filter(función, lista)`\n",
        "* Ejemplo: dada una lista de números filtrarla para obtener una lista con los pares"
      ],
      "metadata": {
        "id": "c_9EfoTitzk2"
      }
    },
    {
      "cell_type": "markdown",
      "source": [
        "#### Método largo"
      ],
      "metadata": {
        "id": "0fwg8o36xESY"
      }
    },
    {
      "cell_type": "code",
      "source": [
        "valores = [1, 2, 3, 4, 5, 6, 7, 8, 9]\n",
        "pares = []\n",
        "\n",
        "for valor in valores:\n",
        "    if valor%2 == 0:\n",
        "        pares.append(valor)\n",
        "\n",
        "print(pares)"
      ],
      "metadata": {
        "colab": {
          "base_uri": "https://localhost:8080/"
        },
        "id": "lcYH_z6CxFhu",
        "outputId": "b897b836-1e9a-4c35-cc02-5d0c8fcb193d"
      },
      "execution_count": null,
      "outputs": [
        {
          "output_type": "stream",
          "name": "stdout",
          "text": [
            "[2, 4, 6, 8]\n"
          ]
        }
      ]
    },
    {
      "cell_type": "markdown",
      "source": [
        "#### Método con función ```lambda```"
      ],
      "metadata": {
        "id": "7XxwOCouxT-a"
      }
    },
    {
      "cell_type": "code",
      "source": [
        "valores = [1, 2, 3, 4, 5, 6, 7, 8, 9]\n",
        "\n",
        "pares = list(filter(lambda x : x%2==0, valores))\n",
        "\n",
        "print(pares)"
      ],
      "metadata": {
        "colab": {
          "base_uri": "https://localhost:8080/"
        },
        "id": "Hd2R5aADxZ6X",
        "outputId": "b60fe3b0-7e04-4c3d-df7f-ce826174467c"
      },
      "execution_count": null,
      "outputs": [
        {
          "output_type": "stream",
          "name": "stdout",
          "text": [
            "[2, 4, 6, 8]\n"
          ]
        }
      ]
    },
    {
      "cell_type": "markdown",
      "source": [
        "### Uso de ```lambda``` con ```reduce```\n",
        "* Permite un cálculo acumulado de una lista de valores\n",
        "* Ejemplo: sumar los números del 1 al 100"
      ],
      "metadata": {
        "id": "T1FbfZQzt8Y1"
      }
    },
    {
      "cell_type": "markdown",
      "source": [
        "#### Método largo"
      ],
      "metadata": {
        "id": "yfT_-IFYym0l"
      }
    },
    {
      "cell_type": "code",
      "source": [
        "numeros = list(range(1,101))\n",
        "suma = 0\n",
        "\n",
        "for i in numeros:\n",
        "    suma += i\n",
        "\n",
        "print(suma)"
      ],
      "metadata": {
        "colab": {
          "base_uri": "https://localhost:8080/"
        },
        "id": "guopjobuyn-2",
        "outputId": "79bd765a-b9fa-425d-c566-9c6d5118fa70"
      },
      "execution_count": null,
      "outputs": [
        {
          "output_type": "stream",
          "name": "stdout",
          "text": [
            "5050\n"
          ]
        }
      ]
    },
    {
      "cell_type": "markdown",
      "source": [
        "#### Método con función ```lambda```\n",
        "<img src=\"https://github.com/financieras/pyCourse/blob/main/jupyter/img/reduce.png?raw=1\" alt=\"Cómo funciona la función reduce\" width=\"400\">\n",
        "\n",
        "* Se va realizado la suma acumulativa\n",
        "* (((((1 + 2) + 3) + 4) + 5) + 6) + 7 = 28"
      ],
      "metadata": {
        "id": "HoRZ0ejny9qz"
      }
    },
    {
      "cell_type": "code",
      "source": [
        "from functools import reduce          # la función reduce pertenece a la librería functools\n",
        "numeros = list(range(1,101))\n",
        "\n",
        "suma = reduce(lambda x, y:x+y, numeros)\n",
        "\n",
        "print(suma)"
      ],
      "metadata": {
        "colab": {
          "base_uri": "https://localhost:8080/"
        },
        "id": "rEUrwu2ozBMZ",
        "outputId": "cea12950-cf05-453d-c7b3-7904206ffba1"
      },
      "execution_count": null,
      "outputs": [
        {
          "output_type": "stream",
          "name": "stdout",
          "text": [
            "5050\n"
          ]
        }
      ]
    }
  ]
}