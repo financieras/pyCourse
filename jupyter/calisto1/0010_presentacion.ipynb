{
  "cells": [
    {
      "cell_type": "markdown",
      "metadata": {
        "id": "view-in-github",
        "colab_type": "text"
      },
      "source": [
        "<a href=\"https://colab.research.google.com/github/financieras/pyCourse/blob/main/jupyter/calisto1/0010_presentacion.ipynb\" target=\"_parent\"><img src=\"https://colab.research.google.com/assets/colab-badge.svg\" alt=\"Open In Colab\"/></a>"
      ]
    },
    {
      "cell_type": "markdown",
      "id": "d2eb5126",
      "metadata": {
        "id": "d2eb5126"
      },
      "source": [
        "# Presentación"
      ]
    },
    {
      "cell_type": "markdown",
      "id": "29ebdc60",
      "metadata": {
        "id": "29ebdc60"
      },
      "source": [
        "## Bienvenida"
      ]
    },
    {
      "cell_type": "markdown",
      "id": "21a42d40",
      "metadata": {
        "id": "21a42d40"
      },
      "source": [
        "Bienvenidos a este curso de **Python 3** que está dividido en tres partes:\n",
        "1. Fundamentos\n",
        "    - Operadores, variables\n",
        "    - Strings, listas, tuplas, diccionarios\n",
        "    - Condiconales\n",
        "    - Bucles\n",
        "    - Funciones\n",
        "    - Excepciones\n",
        "2. Programación Orientada a Objetos\n",
        "    - Clases, objetos\n",
        "    - Atributos, métodos\n",
        "    - El constructor\n",
        "    - Privacidad, decoradores\n",
        "    - Herencia\n",
        "    - Herencia múltiple\n",
        "    - Polimorfismo\n",
        "3. Aplicaciones\n",
        "    - NumPy\n",
        "    - Pandas\n",
        "    - Matplotlib\n",
        "    - Excel, csv\n",
        "    - Paquetes\n",
        "    - Librería actuarial pyliferisk"
      ]
    },
    {
      "cell_type": "markdown",
      "id": "59cce8ae",
      "metadata": {
        "id": "59cce8ae"
      },
      "source": [
        "## Instalaciones"
      ]
    },
    {
      "cell_type": "markdown",
      "id": "9206abcc",
      "metadata": {
        "id": "9206abcc"
      },
      "source": [
        "Disponemos del archivo ***instalaciones.txt*** donde se recogen los procedimientos de instalación y las recomendaciones para:\n",
        "* [Python 3](https://www.python.org)\n",
        "* [Anaconca](https://docs.anaconda.com/anaconda/install)\n",
        "* Jupyter Notebook\n",
        " - Google Colaboratory ([Colab](https://colab.research.google.com/?hl=es))\n",
        "* [Visual Studio Code](https://code.visualstudio.com)\n",
        "* [git](https://git-scm.com): control de versiones\n",
        "* [GitHub](https://github.com)\n",
        "* sugerencias para trabajar con:\n",
        " - Windows ([WLS2](https://docs.microsoft.com/es-es/windows/wsl/install), [Windows Terminal](https://docs.microsoft.com/es-es/windows/terminal))\n",
        " - Linux ([Ubuntu](https://ubuntu.com/download),...)\n",
        " - Mac\n",
        "* [Markdown](https://es.wikipedia.org/wiki/Markdown): lenguaje de marcado"
      ]
    },
    {
      "cell_type": "markdown",
      "id": "cf86d7a0",
      "metadata": {
        "id": "cf86d7a0"
      },
      "source": [
        "## Ver la versión de Python que tenemos en Jupyter"
      ]
    },
    {
      "cell_type": "code",
      "execution_count": null,
      "id": "2e90b5f1",
      "metadata": {
        "id": "2e90b5f1",
        "outputId": "ba0853a7-9db3-4b7c-e3a9-4f09220a08f2",
        "colab": {
          "base_uri": "https://localhost:8080/"
        }
      },
      "outputs": [
        {
          "output_type": "stream",
          "name": "stdout",
          "text": [
            "3.10.12\n"
          ]
        }
      ],
      "source": [
        "from platform import python_version\n",
        "print(python_version())"
      ]
    },
    {
      "cell_type": "markdown",
      "id": "c538bf37",
      "metadata": {
        "id": "c538bf37"
      },
      "source": [
        "## Recursos\n",
        "\n",
        "* [Google Slides](https://docs.google.com/presentation/d/1LDBYzfU9JSLFigOpwPz4iwSErm1aRzXshSdtUhtJKo0/edit?usp=sharing): algunas páginas del curso en formato Google Slides\n",
        "* [altocodigo.blogspot.com](https://altocodigo.blogspot.com)\n",
        "* [Nuestro curso en GitHub](https://github.com/financieras/pyCourse)\n",
        "* [Curso de Python Financiero](https://pythonisa.netlify.app/)"
      ]
    }
  ],
  "metadata": {
    "kernelspec": {
      "display_name": "Python 3",
      "language": "python",
      "name": "python3"
    },
    "language_info": {
      "codemirror_mode": {
        "name": "ipython",
        "version": 3
      },
      "file_extension": ".py",
      "mimetype": "text/x-python",
      "name": "python",
      "nbconvert_exporter": "python",
      "pygments_lexer": "ipython3",
      "version": "3.8.8"
    },
    "colab": {
      "name": "calisto1_0010.ipynb",
      "provenance": [],
      "include_colab_link": true
    }
  },
  "nbformat": 4,
  "nbformat_minor": 5
}