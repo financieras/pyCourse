{
  "cells": [
    {
      "cell_type": "markdown",
      "metadata": {
        "id": "view-in-github",
        "colab_type": "text"
      },
      "source": [
        "<a href=\"https://colab.research.google.com/github/financieras/pyCourse/blob/main/jupyter/calisto1/0120_booleanos.ipynb\" target=\"_parent\"><img src=\"https://colab.research.google.com/assets/colab-badge.svg\" alt=\"Open In Colab\"/></a>"
      ]
    },
    {
      "cell_type": "markdown",
      "id": "b7786f7a",
      "metadata": {
        "id": "b7786f7a"
      },
      "source": [
        "# Booleanos\n",
        "`True`, `False`\n"
      ]
    },
    {
      "cell_type": "code",
      "execution_count": 1,
      "id": "df8694c5",
      "metadata": {
        "id": "df8694c5",
        "outputId": "2d071b4c-2329-4456-a4ca-e46314aa6e4d",
        "colab": {
          "base_uri": "https://localhost:8080/"
        }
      },
      "outputs": [
        {
          "output_type": "execute_result",
          "data": {
            "text/plain": [
              "True"
            ]
          },
          "metadata": {},
          "execution_count": 1
        }
      ],
      "source": [
        "5 == 5                 # True       Operador de comparación: 'Igual a'"
      ]
    },
    {
      "cell_type": "code",
      "execution_count": 2,
      "id": "2528485c",
      "metadata": {
        "id": "2528485c",
        "outputId": "6267341a-5bd2-40f0-c54a-be0f7a217e2a",
        "colab": {
          "base_uri": "https://localhost:8080/"
        }
      },
      "outputs": [
        {
          "output_type": "execute_result",
          "data": {
            "text/plain": [
              "False"
            ]
          },
          "metadata": {},
          "execution_count": 2
        }
      ],
      "source": [
        "5 >= 7                 # False      Mayor o igual que"
      ]
    },
    {
      "cell_type": "code",
      "execution_count": 3,
      "id": "57fc1da5",
      "metadata": {
        "id": "57fc1da5",
        "outputId": "39cd1998-cf25-4a56-b9d7-d5dbef5a2d5c",
        "colab": {
          "base_uri": "https://localhost:8080/"
        }
      },
      "outputs": [
        {
          "output_type": "execute_result",
          "data": {
            "text/plain": [
              "False"
            ]
          },
          "metadata": {},
          "execution_count": 3
        }
      ],
      "source": [
        "9 == '9'               # False"
      ]
    },
    {
      "cell_type": "code",
      "execution_count": 4,
      "id": "db50c39e",
      "metadata": {
        "id": "db50c39e",
        "outputId": "cb31c1ce-6fe8-4a20-f55b-0e6ca3d0cb21",
        "colab": {
          "base_uri": "https://localhost:8080/"
        }
      },
      "outputs": [
        {
          "output_type": "execute_result",
          "data": {
            "text/plain": [
              "True"
            ]
          },
          "metadata": {},
          "execution_count": 4
        }
      ],
      "source": [
        "'Roma' > 'Bogotá'    # True"
      ]
    },
    {
      "cell_type": "code",
      "execution_count": 5,
      "id": "232a68ba",
      "metadata": {
        "id": "232a68ba",
        "outputId": "ceab575d-89cd-451c-c936-c8b3a5b2f780",
        "colab": {
          "base_uri": "https://localhost:8080/"
        }
      },
      "outputs": [
        {
          "output_type": "execute_result",
          "data": {
            "text/plain": [
              "False"
            ]
          },
          "metadata": {},
          "execution_count": 5
        }
      ],
      "source": [
        "4 != 4                 # False    Operador de comparación: Distinto o 'no es igual a'"
      ]
    },
    {
      "cell_type": "markdown",
      "id": "64cab790",
      "metadata": {
        "id": "64cab790"
      },
      "source": [
        "## Comparación de Booleanos"
      ]
    },
    {
      "cell_type": "code",
      "execution_count": 6,
      "id": "f68c8a65",
      "metadata": {
        "id": "f68c8a65",
        "outputId": "ada12d3a-cb54-4a14-c11c-a7d13addf762",
        "colab": {
          "base_uri": "https://localhost:8080/"
        }
      },
      "outputs": [
        {
          "output_type": "execute_result",
          "data": {
            "text/plain": [
              "True"
            ]
          },
          "metadata": {},
          "execution_count": 6
        }
      ],
      "source": [
        "True == True           # True"
      ]
    },
    {
      "cell_type": "code",
      "execution_count": 7,
      "id": "05a3defa",
      "metadata": {
        "id": "05a3defa",
        "outputId": "bdf269e9-9f60-4ced-c919-df652959fcac",
        "colab": {
          "base_uri": "https://localhost:8080/"
        }
      },
      "outputs": [
        {
          "output_type": "execute_result",
          "data": {
            "text/plain": [
              "False"
            ]
          },
          "metadata": {},
          "execution_count": 7
        }
      ],
      "source": [
        "True == False          # False"
      ]
    },
    {
      "cell_type": "code",
      "execution_count": 8,
      "id": "399a072f",
      "metadata": {
        "id": "399a072f",
        "outputId": "8ae70cae-c5f2-471b-eae6-c04b00fbbe55",
        "colab": {
          "base_uri": "https://localhost:8080/"
        }
      },
      "outputs": [
        {
          "output_type": "execute_result",
          "data": {
            "text/plain": [
              "True"
            ]
          },
          "metadata": {},
          "execution_count": 8
        }
      ],
      "source": [
        "True != False          # True"
      ]
    },
    {
      "cell_type": "markdown",
      "id": "f53d11a1",
      "metadata": {
        "id": "f53d11a1"
      },
      "source": [
        "### Verdadero es 1 y Falso es 0"
      ]
    },
    {
      "cell_type": "code",
      "execution_count": 9,
      "id": "c971002f",
      "metadata": {
        "id": "c971002f",
        "outputId": "4f38a165-c770-4349-d490-024f28472c62",
        "colab": {
          "base_uri": "https://localhost:8080/"
        }
      },
      "outputs": [
        {
          "output_type": "execute_result",
          "data": {
            "text/plain": [
              "True"
            ]
          },
          "metadata": {},
          "execution_count": 9
        }
      ],
      "source": [
        "True == 1              # True"
      ]
    },
    {
      "cell_type": "code",
      "execution_count": 10,
      "id": "1b8e0cdc",
      "metadata": {
        "id": "1b8e0cdc",
        "outputId": "afd30493-178d-48dc-d03c-8eeaf999e365",
        "colab": {
          "base_uri": "https://localhost:8080/"
        }
      },
      "outputs": [
        {
          "output_type": "execute_result",
          "data": {
            "text/plain": [
              "True"
            ]
          },
          "metadata": {},
          "execution_count": 10
        }
      ],
      "source": [
        "False == 0             # True"
      ]
    },
    {
      "cell_type": "code",
      "execution_count": 11,
      "id": "afb4fe60",
      "metadata": {
        "id": "afb4fe60",
        "outputId": "4c75e554-c4fc-4595-eea3-2f12446cf5de",
        "colab": {
          "base_uri": "https://localhost:8080/"
        }
      },
      "outputs": [
        {
          "output_type": "execute_result",
          "data": {
            "text/plain": [
              "3"
            ]
          },
          "metadata": {},
          "execution_count": 11
        }
      ],
      "source": [
        "True *3                # 3"
      ]
    },
    {
      "cell_type": "code",
      "execution_count": 12,
      "id": "bd7872b7",
      "metadata": {
        "id": "bd7872b7",
        "outputId": "d30f650a-efe3-49a0-e390-44cc340e59f4",
        "colab": {
          "base_uri": "https://localhost:8080/"
        }
      },
      "outputs": [
        {
          "output_type": "execute_result",
          "data": {
            "text/plain": [
              "-1"
            ]
          },
          "metadata": {},
          "execution_count": 12
        }
      ],
      "source": [
        "2*(-True)+False+True   # -1"
      ]
    },
    {
      "cell_type": "code",
      "execution_count": 13,
      "id": "e44b9664",
      "metadata": {
        "id": "e44b9664",
        "outputId": "baf40d5e-9f65-4b63-ca54-a1ad4cbf0af9",
        "colab": {
          "base_uri": "https://localhost:8080/"
        }
      },
      "outputs": [
        {
          "output_type": "execute_result",
          "data": {
            "text/plain": [
              "True"
            ]
          },
          "metadata": {},
          "execution_count": 13
        }
      ],
      "source": [
        "True > False           # True"
      ]
    },
    {
      "cell_type": "code",
      "execution_count": 14,
      "id": "62e8618c",
      "metadata": {
        "id": "62e8618c",
        "outputId": "4cf79538-4400-4236-b64d-8a8dee227f51",
        "colab": {
          "base_uri": "https://localhost:8080/"
        }
      },
      "outputs": [
        {
          "output_type": "execute_result",
          "data": {
            "text/plain": [
              "False"
            ]
          },
          "metadata": {},
          "execution_count": 14
        }
      ],
      "source": [
        "False > True           # False"
      ]
    },
    {
      "cell_type": "code",
      "execution_count": 15,
      "id": "ef4904f4",
      "metadata": {
        "id": "ef4904f4",
        "outputId": "1d6be7ee-a8c9-48e5-d3d8-98cca72166c8",
        "colab": {
          "base_uri": "https://localhost:8080/"
        }
      },
      "outputs": [
        {
          "output_type": "execute_result",
          "data": {
            "text/plain": [
              "0"
            ]
          },
          "metadata": {},
          "execution_count": 15
        }
      ],
      "source": [
        "True * False           # 0"
      ]
    },
    {
      "cell_type": "markdown",
      "id": "3a67c098",
      "metadata": {
        "id": "3a67c098"
      },
      "source": [
        "## Comparando varios simultáneamente"
      ]
    },
    {
      "cell_type": "code",
      "execution_count": 16,
      "id": "95560b07",
      "metadata": {
        "id": "95560b07",
        "outputId": "e7df8b8d-e124-4bb4-c535-c784ce5cfc83",
        "colab": {
          "base_uri": "https://localhost:8080/"
        }
      },
      "outputs": [
        {
          "output_type": "execute_result",
          "data": {
            "text/plain": [
              "True"
            ]
          },
          "metadata": {},
          "execution_count": 16
        }
      ],
      "source": [
        "1 < 2 < 3              # True"
      ]
    },
    {
      "cell_type": "markdown",
      "id": "2312cf05",
      "metadata": {
        "id": "2312cf05"
      },
      "source": [
        "## Operando con variables"
      ]
    },
    {
      "cell_type": "code",
      "execution_count": 17,
      "id": "a3520208",
      "metadata": {
        "id": "a3520208",
        "outputId": "4eb2ec4d-3d6d-44b9-fd19-36084ca227fb",
        "colab": {
          "base_uri": "https://localhost:8080/"
        }
      },
      "outputs": [
        {
          "output_type": "execute_result",
          "data": {
            "text/plain": [
              "True"
            ]
          },
          "metadata": {},
          "execution_count": 17
        }
      ],
      "source": [
        "a = 5\n",
        "b = 10\n",
        "b == 2*a               # True   No confundir == (comparación) con = (asignación)"
      ]
    },
    {
      "cell_type": "markdown",
      "id": "dcb0f085",
      "metadata": {
        "id": "dcb0f085"
      },
      "source": [
        "### Trabajando con strings"
      ]
    },
    {
      "cell_type": "code",
      "execution_count": 18,
      "id": "6e7c3801",
      "metadata": {
        "id": "6e7c3801",
        "outputId": "12e673e3-0d3c-4584-aa82-9b60709718e8",
        "colab": {
          "base_uri": "https://localhost:8080/"
        }
      },
      "outputs": [
        {
          "output_type": "execute_result",
          "data": {
            "text/plain": [
              "True"
            ]
          },
          "metadata": {},
          "execution_count": 18
        }
      ],
      "source": [
        "x = \"Python\"\n",
        "x[-1] == 'n'           # True"
      ]
    },
    {
      "cell_type": "markdown",
      "id": "380c7963",
      "metadata": {
        "id": "380c7963"
      },
      "source": [
        "## type()"
      ]
    },
    {
      "cell_type": "code",
      "execution_count": 19,
      "id": "e7f6ece4",
      "metadata": {
        "id": "e7f6ece4",
        "outputId": "df1af911-ad16-4597-b4b8-bd78e6ce29a2",
        "colab": {
          "base_uri": "https://localhost:8080/"
        }
      },
      "outputs": [
        {
          "output_type": "execute_result",
          "data": {
            "text/plain": [
              "bool"
            ]
          },
          "metadata": {},
          "execution_count": 19
        }
      ],
      "source": [
        "type(False)"
      ]
    },
    {
      "cell_type": "code",
      "execution_count": 20,
      "id": "49d448d5",
      "metadata": {
        "id": "49d448d5",
        "outputId": "1abbdba7-c998-4511-8efa-5dbdd88ff824",
        "colab": {
          "base_uri": "https://localhost:8080/"
        }
      },
      "outputs": [
        {
          "output_type": "execute_result",
          "data": {
            "text/plain": [
              "int"
            ]
          },
          "metadata": {},
          "execution_count": 20
        }
      ],
      "source": [
        "type(5)"
      ]
    },
    {
      "cell_type": "code",
      "execution_count": 21,
      "id": "78106204",
      "metadata": {
        "id": "78106204",
        "outputId": "592d6102-089f-46d7-dbd4-3f37c501eb88",
        "colab": {
          "base_uri": "https://localhost:8080/"
        }
      },
      "outputs": [
        {
          "output_type": "execute_result",
          "data": {
            "text/plain": [
              "str"
            ]
          },
          "metadata": {},
          "execution_count": 21
        }
      ],
      "source": [
        "type(\"Hola\")"
      ]
    },
    {
      "cell_type": "markdown",
      "id": "18bd64db",
      "metadata": {
        "id": "18bd64db"
      },
      "source": [
        "## not"
      ]
    },
    {
      "cell_type": "code",
      "execution_count": 22,
      "id": "82da5b0c",
      "metadata": {
        "id": "82da5b0c",
        "outputId": "91b89621-30f5-4a83-fed3-53e8b472d21d",
        "colab": {
          "base_uri": "https://localhost:8080/"
        }
      },
      "outputs": [
        {
          "output_type": "execute_result",
          "data": {
            "text/plain": [
              "False"
            ]
          },
          "metadata": {},
          "execution_count": 22
        }
      ],
      "source": [
        "not True               # False"
      ]
    },
    {
      "cell_type": "code",
      "execution_count": 23,
      "id": "c88d5fe1",
      "metadata": {
        "id": "c88d5fe1",
        "outputId": "51e905b6-2993-4e90-8ffb-38283382f10b",
        "colab": {
          "base_uri": "https://localhost:8080/"
        }
      },
      "outputs": [
        {
          "output_type": "execute_result",
          "data": {
            "text/plain": [
              "True"
            ]
          },
          "metadata": {},
          "execution_count": 23
        }
      ],
      "source": [
        "not False              # True"
      ]
    },
    {
      "cell_type": "markdown",
      "id": "b16df3de",
      "metadata": {
        "id": "b16df3de"
      },
      "source": [
        "## Distinto ```!=```"
      ]
    },
    {
      "cell_type": "code",
      "execution_count": 24,
      "id": "6e1042bc",
      "metadata": {
        "id": "6e1042bc",
        "outputId": "706db02b-2a8f-40ee-f87b-478de764a9fb",
        "colab": {
          "base_uri": "https://localhost:8080/"
        }
      },
      "outputs": [
        {
          "output_type": "execute_result",
          "data": {
            "text/plain": [
              "False"
            ]
          },
          "metadata": {},
          "execution_count": 24
        }
      ],
      "source": [
        "4 != 4                 # False"
      ]
    },
    {
      "cell_type": "code",
      "execution_count": 25,
      "id": "f43b201e",
      "metadata": {
        "id": "f43b201e",
        "outputId": "0bcb2081-0774-4ee8-a678-199620a39a67",
        "colab": {
          "base_uri": "https://localhost:8080/"
        }
      },
      "outputs": [
        {
          "output_type": "execute_result",
          "data": {
            "text/plain": [
              "True"
            ]
          },
          "metadata": {},
          "execution_count": 25
        }
      ],
      "source": [
        "4 != 5                 # True"
      ]
    },
    {
      "cell_type": "markdown",
      "id": "bbdaaf93",
      "metadata": {
        "id": "bbdaaf93"
      },
      "source": [
        "## Operador ```is``` y operador ```is not```\n",
        "Permiten comparar **objetos idénticos**."
      ]
    },
    {
      "cell_type": "code",
      "execution_count": 26,
      "id": "ef86a604",
      "metadata": {
        "id": "ef86a604",
        "outputId": "78d014b7-b20c-40f7-e0ad-6f7d7366399a",
        "colab": {
          "base_uri": "https://localhost:8080/"
        }
      },
      "outputs": [
        {
          "output_type": "execute_result",
          "data": {
            "text/plain": [
              "True"
            ]
          },
          "metadata": {},
          "execution_count": 26
        }
      ],
      "source": [
        "x = 5\n",
        "y = 5\n",
        "x is y                 # True"
      ]
    },
    {
      "cell_type": "markdown",
      "id": "cf79c500",
      "metadata": {
        "id": "cf79c500"
      },
      "source": [
        "Dos listas son idénticas cuando se trata del mismo objeto, cuando ocupan el mismo lugar en memoria."
      ]
    },
    {
      "cell_type": "code",
      "execution_count": 27,
      "id": "e820b6c0",
      "metadata": {
        "id": "e820b6c0",
        "outputId": "f41ff819-332e-4014-f544-4d7dd31d0110",
        "colab": {
          "base_uri": "https://localhost:8080/"
        }
      },
      "outputs": [
        {
          "output_type": "execute_result",
          "data": {
            "text/plain": [
              "False"
            ]
          },
          "metadata": {},
          "execution_count": 27
        }
      ],
      "source": [
        "p = [1, 2, 3]\n",
        "q = [1, 2, 3]\n",
        "p is q                 # False  ¡Sorpresa!"
      ]
    },
    {
      "cell_type": "code",
      "execution_count": 28,
      "id": "d6c03c21",
      "metadata": {
        "id": "d6c03c21",
        "outputId": "66a4b425-fdd9-4ab3-dbd2-dce83bd029f0",
        "colab": {
          "base_uri": "https://localhost:8080/"
        }
      },
      "outputs": [
        {
          "output_type": "execute_result",
          "data": {
            "text/plain": [
              "True"
            ]
          },
          "metadata": {},
          "execution_count": 28
        }
      ],
      "source": [
        "p is not q             # True"
      ]
    },
    {
      "cell_type": "code",
      "execution_count": 29,
      "id": "a207ec59",
      "metadata": {
        "id": "a207ec59",
        "outputId": "77d794c0-f8f8-4969-c50a-66c776891505",
        "colab": {
          "base_uri": "https://localhost:8080/"
        }
      },
      "outputs": [
        {
          "output_type": "execute_result",
          "data": {
            "text/plain": [
              "True"
            ]
          },
          "metadata": {},
          "execution_count": 29
        }
      ],
      "source": [
        "p == q                 # True"
      ]
    },
    {
      "cell_type": "markdown",
      "id": "5a745ab4",
      "metadata": {
        "id": "5a745ab4"
      },
      "source": [
        "### Comprobación con el método ```id()```\n",
        "El método id() devuelve un identificador del **objeto**.  \n",
        "Veamos que ambos identificadores difieren."
      ]
    },
    {
      "cell_type": "code",
      "execution_count": 30,
      "id": "59833715",
      "metadata": {
        "id": "59833715",
        "outputId": "610812e7-aae7-4704-b191-c359463aff87",
        "colab": {
          "base_uri": "https://localhost:8080/"
        }
      },
      "outputs": [
        {
          "output_type": "execute_result",
          "data": {
            "text/plain": [
              "133696964238336"
            ]
          },
          "metadata": {},
          "execution_count": 30
        }
      ],
      "source": [
        "id(p)                  # identificador del objeto"
      ]
    },
    {
      "cell_type": "code",
      "execution_count": 31,
      "id": "f61f6ed2",
      "metadata": {
        "id": "f61f6ed2",
        "outputId": "4d2b5baf-297f-44ff-9424-1436367b4904",
        "colab": {
          "base_uri": "https://localhost:8080/"
        }
      },
      "outputs": [
        {
          "output_type": "execute_result",
          "data": {
            "text/plain": [
              "133697120147072"
            ]
          },
          "metadata": {},
          "execution_count": 31
        }
      ],
      "source": [
        "id(q)                  # un identificador distinto"
      ]
    },
    {
      "cell_type": "markdown",
      "id": "233a517f",
      "metadata": {
        "id": "233a517f"
      },
      "source": [
        "### Idéntica lista"
      ]
    },
    {
      "cell_type": "code",
      "execution_count": 32,
      "id": "8b34e1bf",
      "metadata": {
        "id": "8b34e1bf",
        "outputId": "5f14ba12-716c-4b7b-e482-7cb21ed419e5",
        "colab": {
          "base_uri": "https://localhost:8080/"
        }
      },
      "outputs": [
        {
          "output_type": "execute_result",
          "data": {
            "text/plain": [
              "[1, 2, 3]"
            ]
          },
          "metadata": {},
          "execution_count": 32
        }
      ],
      "source": [
        "p = [1, 2, 3]\n",
        "q = p                  # q es una lista idéntica a p\n",
        "q"
      ]
    },
    {
      "cell_type": "code",
      "execution_count": 33,
      "id": "48f91131",
      "metadata": {
        "id": "48f91131",
        "outputId": "0ad187ed-72bd-402b-a4c7-cefc2ac57b22",
        "colab": {
          "base_uri": "https://localhost:8080/"
        }
      },
      "outputs": [
        {
          "output_type": "execute_result",
          "data": {
            "text/plain": [
              "True"
            ]
          },
          "metadata": {},
          "execution_count": 33
        }
      ],
      "source": [
        "q is p                 # ambas listas ocupan el mismo lugar de memoria"
      ]
    },
    {
      "cell_type": "code",
      "execution_count": 34,
      "id": "bcd834b9",
      "metadata": {
        "id": "bcd834b9",
        "outputId": "45f79812-5ec8-4edc-8f82-7dbe1c648c3e",
        "colab": {
          "base_uri": "https://localhost:8080/"
        }
      },
      "outputs": [
        {
          "output_type": "execute_result",
          "data": {
            "text/plain": [
              "133696964240000"
            ]
          },
          "metadata": {},
          "execution_count": 34
        }
      ],
      "source": [
        "id(p)                  # el identificador de la lista p"
      ]
    },
    {
      "cell_type": "code",
      "execution_count": 35,
      "id": "68b2bfae",
      "metadata": {
        "id": "68b2bfae",
        "outputId": "d3401f6a-9d76-4ea8-eb38-ab03c6a3984a",
        "colab": {
          "base_uri": "https://localhost:8080/"
        }
      },
      "outputs": [
        {
          "output_type": "execute_result",
          "data": {
            "text/plain": [
              "133696964240000"
            ]
          },
          "metadata": {},
          "execution_count": 35
        }
      ],
      "source": [
        "id(q)                  # es el mismo que el identificado de la lista q"
      ]
    }
  ],
  "metadata": {
    "kernelspec": {
      "display_name": "Python 3",
      "language": "python",
      "name": "python3"
    },
    "language_info": {
      "codemirror_mode": {
        "name": "ipython",
        "version": 3
      },
      "file_extension": ".py",
      "mimetype": "text/x-python",
      "name": "python",
      "nbconvert_exporter": "python",
      "pygments_lexer": "ipython3",
      "version": "3.8.8"
    },
    "colab": {
      "name": "calisto1_0120.ipynb",
      "provenance": [],
      "include_colab_link": true
    }
  },
  "nbformat": 4,
  "nbformat_minor": 5
}