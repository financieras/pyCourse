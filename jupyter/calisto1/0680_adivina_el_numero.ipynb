{
  "cells": [
    {
      "cell_type": "markdown",
      "metadata": {
        "id": "view-in-github",
        "colab_type": "text"
      },
      "source": [
        "<a href=\"https://colab.research.google.com/github/financieras/pyCourse/blob/main/jupyter/calisto1/0680_adivina_el_numero.ipynb\" target=\"_parent\"><img src=\"https://colab.research.google.com/assets/colab-badge.svg\" alt=\"Open In Colab\"/></a>"
      ]
    },
    {
      "cell_type": "markdown",
      "metadata": {
        "id": "2_2lcj5VBroB"
      },
      "source": [
        "# Funciones. Adivina el número"
      ],
      "id": "2_2lcj5VBroB"
    },
    {
      "cell_type": "code",
      "execution_count": null,
      "metadata": {
        "id": "EmzYD0a_BroG",
        "outputId": "7efefc9b-7bb9-408c-e9ed-25caefb34721",
        "colab": {
          "base_uri": "https://localhost:8080/"
        }
      },
      "outputs": [
        {
          "output_type": "stream",
          "name": "stdout",
          "text": [
            "Di un número entre 1 y 100: 50\n",
            "El nº secreto es menor\n",
            "Di un número entre 1 y 100: 25\n",
            "El nº secreto es menor\n",
            "Di un número entre 1 y 100: 12\n",
            "El nº secreto es mayor\n",
            "Di un número entre 1 y 100: 18\n",
            "El nº secreto es menor\n",
            "Di un número entre 1 y 100: 15\n",
            "Has ganado, el nº secreto es 15.\n"
          ]
        }
      ],
      "source": [
        "import random\n",
        "\n",
        "numero_secreto=random.randint(1,100)\n",
        "\n",
        "while True:\n",
        "    numero_elegido = int(input(\"Di un número entre 1 y 100: \"))\n",
        "    if numero_secreto < numero_elegido:\n",
        "        print(\"El nº secreto es menor\")\n",
        "    elif numero_secreto > numero_elegido:\n",
        "        print(\"El nº secreto es mayor\")\n",
        "    else:\n",
        "        print(\"Has ganado, el nº secreto es {}.\".format(numero_secreto))\n",
        "        break"
      ],
      "id": "EmzYD0a_BroG"
    },
    {
      "cell_type": "markdown",
      "metadata": {
        "id": "2pO2VOcpBroL"
      },
      "source": [
        "#### Ejercicio  \n",
        "* Mejore el código añadiendo información sobre el número de tiradas necesarias para ganar  \n",
        "* Cree otra versión del código usando un par de funciones\n",
        " - ¿usa alguna variable global?"
      ],
      "id": "2pO2VOcpBroL"
    }
  ],
  "metadata": {
    "kernelspec": {
      "display_name": "Python 3",
      "language": "python",
      "name": "python3"
    },
    "language_info": {
      "codemirror_mode": {
        "name": "ipython",
        "version": 3
      },
      "file_extension": ".py",
      "mimetype": "text/x-python",
      "name": "python",
      "nbconvert_exporter": "python",
      "pygments_lexer": "ipython3",
      "version": "3.8.5"
    },
    "colab": {
      "name": "0680_adivina_el_numero.ipynb",
      "provenance": [],
      "include_colab_link": true
    }
  },
  "nbformat": 4,
  "nbformat_minor": 5
}