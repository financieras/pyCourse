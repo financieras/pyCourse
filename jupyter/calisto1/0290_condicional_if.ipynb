{
  "cells": [
    {
      "cell_type": "markdown",
      "metadata": {
        "id": "view-in-github",
        "colab_type": "text"
      },
      "source": [
        "<a href=\"https://colab.research.google.com/github/financieras/pyCourse/blob/main/jupyter/calisto1/calisto1_0290.ipynb\" target=\"_parent\"><img src=\"https://colab.research.google.com/assets/colab-badge.svg\" alt=\"Open In Colab\"/></a>"
      ]
    },
    {
      "cell_type": "markdown",
      "id": "6aba1b14",
      "metadata": {
        "id": "6aba1b14"
      },
      "source": [
        "# Estructura condicional: ```if```"
      ]
    },
    {
      "cell_type": "markdown",
      "id": "17914d6e",
      "metadata": {
        "id": "17914d6e"
      },
      "source": [
        "<img src=\"https://github.com/financieras/pyCourse/blob/main/jupyter/img/if.png?raw=1\" alt=\"ordinograma\" width=\"400\"/>"
      ]
    },
    {
      "cell_type": "code",
      "execution_count": null,
      "id": "a7095f77",
      "metadata": {
        "id": "a7095f77",
        "outputId": "d5246e2e-70ff-4c7c-bf48-08488a4d5479"
      },
      "outputs": [
        {
          "name": "stdout",
          "output_type": "stream",
          "text": [
            "Los dos valores son iguales\n"
          ]
        }
      ],
      "source": [
        "a = 5\n",
        "b = 5\n",
        "if a == b:\n",
        "    print(\"Los dos valores son iguales\")"
      ]
    },
    {
      "cell_type": "code",
      "execution_count": null,
      "id": "b7795ae6",
      "metadata": {
        "id": "b7795ae6",
        "outputId": "1e28e02b-3b08-49c4-e577-f1e575d7c9f3"
      },
      "outputs": [
        {
          "name": "stdout",
          "output_type": "stream",
          "text": [
            "El valor de c es 25\n"
          ]
        }
      ],
      "source": [
        "a = 5\n",
        "b = 5\n",
        "c = 0\n",
        "if a == b:\n",
        "    c = a * b\n",
        "print(\"El valor de c es\", c)     # c es 25"
      ]
    },
    {
      "cell_type": "code",
      "execution_count": null,
      "id": "9493e674",
      "metadata": {
        "id": "9493e674",
        "outputId": "ee32c226-7ba2-4f43-bffc-0fd04b22707a"
      },
      "outputs": [
        {
          "name": "stdout",
          "output_type": "stream",
          "text": [
            "El valor de c es 0\n"
          ]
        }
      ],
      "source": [
        "a = 5\n",
        "b = 5\n",
        "c = 0\n",
        "if a != b:                       # La condición se evalúa como False\n",
        "    c = a * b                    # Si la condición es falsa no se ejecuta el código del cuerpo\n",
        "print(\"El valor de c es\", c)     # c es 0"
      ]
    }
  ],
  "metadata": {
    "kernelspec": {
      "display_name": "Python 3",
      "language": "python",
      "name": "python3"
    },
    "language_info": {
      "codemirror_mode": {
        "name": "ipython",
        "version": 3
      },
      "file_extension": ".py",
      "mimetype": "text/x-python",
      "name": "python",
      "nbconvert_exporter": "python",
      "pygments_lexer": "ipython3",
      "version": "3.8.8"
    },
    "colab": {
      "name": "0290_condicional_if.ipynb",
      "provenance": [],
      "include_colab_link": true
    }
  },
  "nbformat": 4,
  "nbformat_minor": 5
}
