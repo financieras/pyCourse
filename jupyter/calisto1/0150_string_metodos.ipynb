{
  "cells": [
    {
      "cell_type": "markdown",
      "metadata": {
        "id": "view-in-github",
        "colab_type": "text"
      },
      "source": [
        "<a href=\"https://colab.research.google.com/github/financieras/pyCourse/blob/main/jupyter/calisto1/0150_string_metodos.ipynb\" target=\"_parent\"><img src=\"https://colab.research.google.com/assets/colab-badge.svg\" alt=\"Open In Colab\"/></a>"
      ]
    },
    {
      "cell_type": "markdown",
      "id": "3753eeb6",
      "metadata": {
        "id": "3753eeb6"
      },
      "source": [
        "# String: métodos\n",
        "[Métodos de las cadenas](http://pyspanishdoc.sourceforge.net/lib/string-methods.html)"
      ]
    },
    {
      "cell_type": "code",
      "execution_count": 1,
      "id": "67e107f2",
      "metadata": {
        "id": "67e107f2",
        "outputId": "bd7d11d3-6a11-4ebc-8324-8de09ada8b3d",
        "colab": {
          "base_uri": "https://localhost:8080/"
        }
      },
      "outputs": [
        {
          "output_type": "stream",
          "name": "stdout",
          "text": [
            "True\n",
            "True\n"
          ]
        }
      ],
      "source": [
        "frase = 'Seguir sin detenerse, ese es el secreto del éxito'\n",
        "palabra = 'secreto'\n",
        "print(palabra in frase)                       # True                  Operador de pertenencia: in\n",
        "print('Secreto' not in frase)                 # True (case sensitive) Operador de pertenencia: not in"
      ]
    },
    {
      "cell_type": "code",
      "execution_count": 2,
      "id": "bfbde5da",
      "metadata": {
        "id": "bfbde5da",
        "outputId": "4678ffcd-d80f-4007-9d78-b711ebff2fc8",
        "colab": {
          "base_uri": "https://localhost:8080/"
        }
      },
      "outputs": [
        {
          "output_type": "stream",
          "name": "stdout",
          "text": [
            "SECRETO Londres new york\n"
          ]
        }
      ],
      "source": [
        "ciudad='londres'\n",
        "print(palabra.upper(),ciudad.capitalize(),'New York'.lower())"
      ]
    },
    {
      "cell_type": "code",
      "execution_count": 3,
      "id": "646dc226",
      "metadata": {
        "id": "646dc226",
        "outputId": "0cc4ab5f-692b-40ae-d4b8-cd52c4e6bab3",
        "colab": {
          "base_uri": "https://localhost:8080/"
        }
      },
      "outputs": [
        {
          "output_type": "stream",
          "name": "stdout",
          "text": [
            "Los Ángeles\n"
          ]
        }
      ],
      "source": [
        "print(\"los ángeles\".title())                  # Los Ángeles"
      ]
    },
    {
      "cell_type": "code",
      "execution_count": 4,
      "id": "23aa0538",
      "metadata": {
        "id": "23aa0538",
        "outputId": "41b8f901-b75c-4d67-c7c0-13031210de6c",
        "colab": {
          "base_uri": "https://localhost:8080/"
        }
      },
      "outputs": [
        {
          "output_type": "stream",
          "name": "stdout",
          "text": [
            "True\n",
            "False\n"
          ]
        }
      ],
      "source": [
        "print(ciudad.islower())                       # True\n",
        "print(ciudad.isupper())                       # False"
      ]
    },
    {
      "cell_type": "code",
      "execution_count": 5,
      "id": "fd3feedc",
      "metadata": {
        "id": "fd3feedc",
        "outputId": "d50b4a10-709e-4aaa-909d-e153c9f8cd4d",
        "colab": {
          "base_uri": "https://localhost:8080/"
        }
      },
      "outputs": [
        {
          "output_type": "stream",
          "name": "stdout",
          "text": [
            "True\n",
            "True\n"
          ]
        }
      ],
      "source": [
        "print(\"100\".isdigit())                        # True\n",
        "print(\"Hola Mundo\".istitle())                 # True"
      ]
    },
    {
      "cell_type": "code",
      "execution_count": 6,
      "id": "c71f0f17",
      "metadata": {
        "id": "c71f0f17",
        "outputId": "17a2d691-b4d7-47d5-aa52-2f4e6117b28d",
        "colab": {
          "base_uri": "https://localhost:8080/"
        }
      },
      "outputs": [
        {
          "output_type": "stream",
          "name": "stdout",
          "text": [
            "['Hola', 'mundo', 'futuro']\n"
          ]
        }
      ],
      "source": [
        "print(\"Hola mundo futuro\".split())            # separa por palabras"
      ]
    },
    {
      "cell_type": "code",
      "execution_count": 7,
      "id": "1dcce1f9",
      "metadata": {
        "id": "1dcce1f9",
        "outputId": "988aca4c-4213-48af-b00a-c41e8579a90a",
        "colab": {
          "base_uri": "https://localhost:8080/"
        }
      },
      "outputs": [
        {
          "output_type": "stream",
          "name": "stdout",
          "text": [
            "Hola\n"
          ]
        }
      ],
      "source": [
        "print(\"Hola mundo futuro\".split()[0])         # Hola"
      ]
    },
    {
      "cell_type": "code",
      "execution_count": 8,
      "id": "a42d2edd",
      "metadata": {
        "id": "a42d2edd",
        "outputId": "de69ccca-3722-4c6f-8980-aed962986d52",
        "colab": {
          "base_uri": "https://localhost:8080/"
        }
      },
      "outputs": [
        {
          "output_type": "stream",
          "name": "stdout",
          "text": [
            "['3840', '2160']\n"
          ]
        }
      ],
      "source": [
        "elementos = '3840x2160'                       # pixeles 4k UHD 16:9\n",
        "print(elementos.split('x'))                   # separando por el carácter x"
      ]
    },
    {
      "cell_type": "code",
      "execution_count": 9,
      "id": "d125d86d",
      "metadata": {
        "id": "d125d86d",
        "outputId": "057b197a-2e38-4a4c-80d8-557da5e9e50a",
        "colab": {
          "base_uri": "https://localhost:8080/"
        }
      },
      "outputs": [
        {
          "output_type": "stream",
          "name": "stdout",
          "text": [
            "Buenos días\n"
          ]
        }
      ],
      "source": [
        "print(\"   Buenos días     \".strip())          # borra los espacios sobrantes al inicio y al final"
      ]
    },
    {
      "cell_type": "code",
      "execution_count": 10,
      "id": "94532c85",
      "metadata": {
        "id": "94532c85",
        "outputId": "95da0a26-cf5a-4188-d882-0910f0e13be9",
        "colab": {
          "base_uri": "https://localhost:8080/"
        }
      },
      "outputs": [
        {
          "output_type": "stream",
          "name": "stdout",
          "text": [
            "H0la mund0\n"
          ]
        }
      ],
      "source": [
        "print(\"Hola mundo\".replace('o','0'))          # H0la mund0. Cambia una palabra o una letra por otra"
      ]
    },
    {
      "cell_type": "code",
      "execution_count": 11,
      "id": "c2d87da7",
      "metadata": {
        "id": "c2d87da7",
        "outputId": "c6913aa5-e828-4ebe-c594-3d415546ec48",
        "colab": {
          "base_uri": "https://localhost:8080/"
        }
      },
      "outputs": [
        {
          "output_type": "stream",
          "name": "stdout",
          "text": [
            "2\n"
          ]
        }
      ],
      "source": [
        "print(\"si eres madre, serás madre para siempre\".count(\"madre\"))  # 2"
      ]
    },
    {
      "cell_type": "code",
      "execution_count": 12,
      "id": "74fd80b0",
      "metadata": {
        "id": "74fd80b0",
        "outputId": "bc00d648-4301-46b6-e97d-aa6c74a0c2c2",
        "colab": {
          "base_uri": "https://localhost:8080/"
        }
      },
      "outputs": [
        {
          "output_type": "stream",
          "name": "stdout",
          "text": [
            "3\n"
          ]
        }
      ],
      "source": [
        "print(\"de Madrid al cielo\".find(\"Madrid\"))    # 3"
      ]
    },
    {
      "cell_type": "code",
      "execution_count": 13,
      "id": "072bc290",
      "metadata": {
        "id": "072bc290",
        "outputId": "a94b7f24-6cea-4c71-b649-1b811b0ad372",
        "colab": {
          "base_uri": "https://localhost:8080/"
        }
      },
      "outputs": [
        {
          "output_type": "stream",
          "name": "stdout",
          "text": [
            "3\n"
          ]
        }
      ],
      "source": [
        "print(\"en Roma encontré a Romeo\".find(\"R\"))   # si hay dos R da el índice de la primera"
      ]
    },
    {
      "cell_type": "code",
      "execution_count": 14,
      "id": "5353794b",
      "metadata": {
        "id": "5353794b",
        "outputId": "183966f6-ca2b-49d0-855b-88392c5f2da8",
        "colab": {
          "base_uri": "https://localhost:8080/"
        }
      },
      "outputs": [
        {
          "output_type": "stream",
          "name": "stdout",
          "text": [
            "19\n"
          ]
        }
      ],
      "source": [
        "print(\"en Roma encontré a Romeo\".rfind(\"R\"))  # si hay varias R da el índice de la ultima"
      ]
    },
    {
      "cell_type": "markdown",
      "id": "2b7e7cf3",
      "metadata": {
        "id": "2b7e7cf3"
      },
      "source": [
        "El método isalnum() devuelve True si todos los caracteres son alfanuméricos, es decir, letras del alfabeto (a-z) y números (0-9).  \n",
        "Ejemplo de caracteres que no son alfanuméricos: (espacio)! #% &? etc."
      ]
    },
    {
      "cell_type": "code",
      "execution_count": 15,
      "id": "2bce62cf",
      "metadata": {
        "id": "2bce62cf",
        "outputId": "aa43b193-98d6-4524-817f-264c064b785c",
        "colab": {
          "base_uri": "https://localhost:8080/"
        }
      },
      "outputs": [
        {
          "output_type": "execute_result",
          "data": {
            "text/plain": [
              "True"
            ]
          },
          "metadata": {},
          "execution_count": 15
        }
      ],
      "source": [
        "\"París2024\".isalnum()"
      ]
    },
    {
      "cell_type": "markdown",
      "id": "940b2ba7",
      "metadata": {
        "id": "940b2ba7"
      },
      "source": [
        "El método isalpha() devuelve True si todos los caracteres son letras del alfabeto (a-z).  \n",
        "Ejemplo de caracteres que no son letras del alfabeto: (espacio)! #% &? 0123456789 etc."
      ]
    },
    {
      "cell_type": "code",
      "execution_count": 16,
      "id": "bc1e6cc8",
      "metadata": {
        "id": "bc1e6cc8",
        "outputId": "7dc7b375-6b88-457b-9b5a-09adb12d6040",
        "colab": {
          "base_uri": "https://localhost:8080/"
        }
      },
      "outputs": [
        {
          "output_type": "execute_result",
          "data": {
            "text/plain": [
              "True"
            ]
          },
          "metadata": {},
          "execution_count": 16
        }
      ],
      "source": [
        "\"señoríaAlfonsoX\".isalpha()                   # True  contiene ñ y tilde pero no tiene espacio"
      ]
    }
  ],
  "metadata": {
    "kernelspec": {
      "display_name": "Python 3 (ipykernel)",
      "language": "python",
      "name": "python3"
    },
    "language_info": {
      "codemirror_mode": {
        "name": "ipython",
        "version": 3
      },
      "file_extension": ".py",
      "mimetype": "text/x-python",
      "name": "python",
      "nbconvert_exporter": "python",
      "pygments_lexer": "ipython3",
      "version": "3.8.11"
    },
    "colab": {
      "name": "0150_string_metodos.ipynb",
      "provenance": [],
      "include_colab_link": true
    }
  },
  "nbformat": 4,
  "nbformat_minor": 5
}