{
  "cells": [
    {
      "cell_type": "markdown",
      "metadata": {
        "id": "view-in-github",
        "colab_type": "text"
      },
      "source": [
        "<a href=\"https://colab.research.google.com/github/financieras/pyCourse/blob/main/jupyter/calisto1_0150.ipynb\" target=\"_parent\"><img src=\"https://colab.research.google.com/assets/colab-badge.svg\" alt=\"Open In Colab\"/></a>"
      ]
    },
    {
      "cell_type": "markdown",
      "id": "3753eeb6",
      "metadata": {
        "id": "3753eeb6"
      },
      "source": [
        "# String: métodos\n",
        "[Métodos de las cadenas](http://pyspanishdoc.sourceforge.net/lib/string-methods.html)"
      ]
    },
    {
      "cell_type": "code",
      "execution_count": null,
      "id": "67e107f2",
      "metadata": {
        "id": "67e107f2"
      },
      "outputs": [],
      "source": [
        "frase = 'Seguir sin detenerse, ese es el secreto del éxito'\n",
        "palabra = 'secreto'\n",
        "print(palabra in frase)                       # True                  Operador de pertenencia: in\n",
        "print('Secreto' not in frase)                 # True (case sensitive) Operador de pertenencia: not in"
      ]
    },
    {
      "cell_type": "code",
      "execution_count": null,
      "id": "bfbde5da",
      "metadata": {
        "id": "bfbde5da"
      },
      "outputs": [],
      "source": [
        "ciudad='londres'\n",
        "print(palabra.upper(),ciudad.capitalize(),'New York'.lower())"
      ]
    },
    {
      "cell_type": "code",
      "execution_count": null,
      "id": "646dc226",
      "metadata": {
        "id": "646dc226"
      },
      "outputs": [],
      "source": [
        "print(\"los ángeles\".title())                  # Los Ángeles"
      ]
    },
    {
      "cell_type": "code",
      "execution_count": null,
      "id": "23aa0538",
      "metadata": {
        "id": "23aa0538"
      },
      "outputs": [],
      "source": [
        "print(ciudad.islower())                       # True\n",
        "print(ciudad.isupper())                       # False"
      ]
    },
    {
      "cell_type": "code",
      "execution_count": null,
      "id": "fd3feedc",
      "metadata": {
        "id": "fd3feedc"
      },
      "outputs": [],
      "source": [
        "print(\"100\".isdigit())                        # True\n",
        "print(\"Hola Mundo\".istitle())                 # True"
      ]
    },
    {
      "cell_type": "code",
      "execution_count": null,
      "id": "c71f0f17",
      "metadata": {
        "id": "c71f0f17"
      },
      "outputs": [],
      "source": [
        "print(\"Hola mundo futuro\".split())            # separa por palabras"
      ]
    },
    {
      "cell_type": "code",
      "execution_count": null,
      "id": "1dcce1f9",
      "metadata": {
        "id": "1dcce1f9"
      },
      "outputs": [],
      "source": [
        "print(\"Hola mundo futuro\".split()[0])         # Hola"
      ]
    },
    {
      "cell_type": "code",
      "execution_count": null,
      "id": "a42d2edd",
      "metadata": {
        "id": "a42d2edd"
      },
      "outputs": [],
      "source": [
        "elementos = '3840x2160'                       # pixeles 4k UHD 16:9\n",
        "print(elementos.split('x'))                   # separando por el carácter x"
      ]
    },
    {
      "cell_type": "code",
      "execution_count": null,
      "id": "d125d86d",
      "metadata": {
        "id": "d125d86d"
      },
      "outputs": [],
      "source": [
        "print(\"   Buenos días     \".strip())          # borra los espacios sobrantes al inicio y al final"
      ]
    },
    {
      "cell_type": "code",
      "execution_count": null,
      "id": "94532c85",
      "metadata": {
        "id": "94532c85"
      },
      "outputs": [],
      "source": [
        "print(\"Hola mundo\".replace('o','0'))          # H0la mund0. Cambia una palabra o una letra por otra"
      ]
    },
    {
      "cell_type": "code",
      "execution_count": null,
      "id": "c2d87da7",
      "metadata": {
        "id": "c2d87da7"
      },
      "outputs": [],
      "source": [
        "print(\"si eres madre, serás madre para siempre\".count(\"madre\"))  # 2"
      ]
    },
    {
      "cell_type": "code",
      "execution_count": null,
      "id": "74fd80b0",
      "metadata": {
        "id": "74fd80b0"
      },
      "outputs": [],
      "source": [
        "print(\"de Madrid al cielo\".find(\"Madrid\"))    # 3"
      ]
    },
    {
      "cell_type": "code",
      "execution_count": null,
      "id": "072bc290",
      "metadata": {
        "id": "072bc290"
      },
      "outputs": [],
      "source": [
        "print(\"en Roma encontré a Romeo\".find(\"R\"))   # si hay dos R da el índice de la primera"
      ]
    },
    {
      "cell_type": "code",
      "execution_count": null,
      "id": "5353794b",
      "metadata": {
        "id": "5353794b"
      },
      "outputs": [],
      "source": [
        "print(\"en Roma encontré a Romeo\".rfind(\"R\"))  # si hay varias R da el índice de la ultima"
      ]
    },
    {
      "cell_type": "markdown",
      "id": "2b7e7cf3",
      "metadata": {
        "id": "2b7e7cf3"
      },
      "source": [
        "El método isalnum() devuelve True si todos los caracteres son alfanuméricos, es decir, letras del alfabeto (a-z) y números (0-9).  \n",
        "Ejemplo de caracteres que no son alfanuméricos: (espacio)! #% &? etc."
      ]
    },
    {
      "cell_type": "code",
      "execution_count": null,
      "id": "2bce62cf",
      "metadata": {
        "id": "2bce62cf"
      },
      "outputs": [],
      "source": [
        "\"París2024\".isalnum()"
      ]
    },
    {
      "cell_type": "markdown",
      "id": "940b2ba7",
      "metadata": {
        "id": "940b2ba7"
      },
      "source": [
        "El método isalpha() devuelve True si todos los caracteres son letras del alfabeto (a-z).  \n",
        "Ejemplo de caracteres que no son letras del alfabeto: (espacio)! #% &? 0123456789 etc."
      ]
    },
    {
      "cell_type": "code",
      "execution_count": null,
      "id": "bc1e6cc8",
      "metadata": {
        "id": "bc1e6cc8"
      },
      "outputs": [],
      "source": [
        "\"señoríaAlfonsoX\".isalpha()                   # True  contiene ñ y tilde pero no tiene espacio"
      ]
    }
  ],
  "metadata": {
    "kernelspec": {
      "display_name": "Python 3 (ipykernel)",
      "language": "python",
      "name": "python3"
    },
    "language_info": {
      "codemirror_mode": {
        "name": "ipython",
        "version": 3
      },
      "file_extension": ".py",
      "mimetype": "text/x-python",
      "name": "python",
      "nbconvert_exporter": "python",
      "pygments_lexer": "ipython3",
      "version": "3.8.11"
    },
    "colab": {
      "name": "0150_string_metodos.ipynb",
      "provenance": [],
      "include_colab_link": true
    }
  },
  "nbformat": 4,
  "nbformat_minor": 5
}
