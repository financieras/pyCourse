{
  "cells": [
    {
      "cell_type": "markdown",
      "metadata": {
        "id": "view-in-github",
        "colab_type": "text"
      },
      "source": [
        "<a href=\"https://colab.research.google.com/github/financieras/pyCourse/blob/main/jupyter/calisto1/0150_string_metodos.ipynb\" target=\"_parent\"><img src=\"https://colab.research.google.com/assets/colab-badge.svg\" alt=\"Open In Colab\"/></a>"
      ]
    },
    {
      "cell_type": "markdown",
      "id": "3753eeb6",
      "metadata": {
        "id": "3753eeb6"
      },
      "source": [
        "# String Métodos\n",
        "[Métodos de las cadenas](http://pyspanishdoc.sourceforge.net/lib/string-methods.html)"
      ]
    },
    {
      "cell_type": "code",
      "execution_count": 1,
      "id": "67e107f2",
      "metadata": {
        "id": "67e107f2",
        "outputId": "d4f91da7-83d0-496a-d477-fc8672aae6c2",
        "colab": {
          "base_uri": "https://localhost:8080/"
        }
      },
      "outputs": [
        {
          "output_type": "stream",
          "name": "stdout",
          "text": [
            "True\n",
            "True\n"
          ]
        }
      ],
      "source": [
        "frase = 'Seguir sin detenerse, ese es el secreto del éxito'\n",
        "palabra = 'secreto'\n",
        "print(palabra in frase)                       # True                  Operador de pertenencia: in\n",
        "print('Secreto' not in frase)                 # True (case sensitive) Operador de pertenencia: not in"
      ]
    },
    {
      "cell_type": "code",
      "execution_count": 2,
      "id": "bfbde5da",
      "metadata": {
        "id": "bfbde5da",
        "outputId": "926b6883-74db-4494-a89b-57bfc2dc2c99",
        "colab": {
          "base_uri": "https://localhost:8080/"
        }
      },
      "outputs": [
        {
          "output_type": "stream",
          "name": "stdout",
          "text": [
            "SECRETO Londres new york\n"
          ]
        }
      ],
      "source": [
        "ciudad='londres'\n",
        "print(palabra.upper(),ciudad.capitalize(),'New York'.lower())"
      ]
    },
    {
      "cell_type": "code",
      "execution_count": 3,
      "id": "646dc226",
      "metadata": {
        "id": "646dc226",
        "outputId": "9b7e022b-e19c-4871-fbec-f6413af5ea88",
        "colab": {
          "base_uri": "https://localhost:8080/"
        }
      },
      "outputs": [
        {
          "output_type": "stream",
          "name": "stdout",
          "text": [
            "Los Ángeles\n"
          ]
        }
      ],
      "source": [
        "print(\"los ángeles\".title())                  # Los Ángeles"
      ]
    },
    {
      "cell_type": "code",
      "execution_count": 4,
      "id": "23aa0538",
      "metadata": {
        "id": "23aa0538",
        "outputId": "3cbe7c75-c67d-4408-aa6f-799bc832097b",
        "colab": {
          "base_uri": "https://localhost:8080/"
        }
      },
      "outputs": [
        {
          "output_type": "stream",
          "name": "stdout",
          "text": [
            "True\n",
            "False\n"
          ]
        }
      ],
      "source": [
        "print(ciudad.islower())                       # True\n",
        "print(ciudad.isupper())                       # False"
      ]
    },
    {
      "cell_type": "code",
      "execution_count": 5,
      "id": "fd3feedc",
      "metadata": {
        "id": "fd3feedc",
        "outputId": "8cee5e46-fea6-457e-8943-b5dc0e198a6b",
        "colab": {
          "base_uri": "https://localhost:8080/"
        }
      },
      "outputs": [
        {
          "output_type": "stream",
          "name": "stdout",
          "text": [
            "True\n",
            "True\n"
          ]
        }
      ],
      "source": [
        "print(\"100\".isdigit())                        # True\n",
        "print(\"Hola Mundo\".istitle())                 # True"
      ]
    },
    {
      "cell_type": "code",
      "execution_count": 6,
      "id": "c71f0f17",
      "metadata": {
        "id": "c71f0f17",
        "outputId": "6e3c76ec-1881-4556-e9c6-53a4c20e783d",
        "colab": {
          "base_uri": "https://localhost:8080/"
        }
      },
      "outputs": [
        {
          "output_type": "stream",
          "name": "stdout",
          "text": [
            "['Hola', 'mundo', 'futuro']\n"
          ]
        }
      ],
      "source": [
        "print(\"Hola mundo futuro\".split())            # separa por palabras"
      ]
    },
    {
      "cell_type": "code",
      "execution_count": 7,
      "id": "1dcce1f9",
      "metadata": {
        "id": "1dcce1f9",
        "outputId": "dd91ff3e-3ac1-4578-8a84-91b3be1b7405",
        "colab": {
          "base_uri": "https://localhost:8080/"
        }
      },
      "outputs": [
        {
          "output_type": "stream",
          "name": "stdout",
          "text": [
            "Hola\n"
          ]
        }
      ],
      "source": [
        "print(\"Hola mundo futuro\".split()[0])         # Hola"
      ]
    },
    {
      "cell_type": "code",
      "execution_count": 8,
      "id": "a42d2edd",
      "metadata": {
        "id": "a42d2edd",
        "outputId": "013ad258-3d0d-429e-a07d-e064a1bc2f6f",
        "colab": {
          "base_uri": "https://localhost:8080/"
        }
      },
      "outputs": [
        {
          "output_type": "stream",
          "name": "stdout",
          "text": [
            "['3840', '2160']\n"
          ]
        }
      ],
      "source": [
        "elementos = '3840x2160'                       # pixeles 4k UHD 16:9\n",
        "print(elementos.split('x'))                   # separando por el carácter x"
      ]
    },
    {
      "cell_type": "code",
      "execution_count": 9,
      "id": "d125d86d",
      "metadata": {
        "id": "d125d86d",
        "outputId": "cb7c3479-1955-4b80-dafb-00b7f5a9eacf",
        "colab": {
          "base_uri": "https://localhost:8080/"
        }
      },
      "outputs": [
        {
          "output_type": "stream",
          "name": "stdout",
          "text": [
            "Buenos días\n"
          ]
        }
      ],
      "source": [
        "print(\"   Buenos días     \".strip())          # borra los espacios sobrantes al inicio y al final"
      ]
    },
    {
      "cell_type": "code",
      "execution_count": 10,
      "id": "94532c85",
      "metadata": {
        "id": "94532c85",
        "outputId": "80dce1a2-8ef3-42e3-bbc7-c10cfa246ebf",
        "colab": {
          "base_uri": "https://localhost:8080/"
        }
      },
      "outputs": [
        {
          "output_type": "stream",
          "name": "stdout",
          "text": [
            "H0la mund0\n"
          ]
        }
      ],
      "source": [
        "print(\"Hola mundo\".replace('o','0'))          # H0la mund0. Cambia una palabra o una letra por otra"
      ]
    },
    {
      "cell_type": "code",
      "execution_count": 11,
      "id": "c2d87da7",
      "metadata": {
        "id": "c2d87da7",
        "outputId": "1fe4df79-094e-43eb-bfaa-bbc0d94ed84f",
        "colab": {
          "base_uri": "https://localhost:8080/"
        }
      },
      "outputs": [
        {
          "output_type": "stream",
          "name": "stdout",
          "text": [
            "2\n"
          ]
        }
      ],
      "source": [
        "print(\"si eres madre, serás madre para siempre\".count(\"madre\"))  # 2"
      ]
    },
    {
      "cell_type": "code",
      "execution_count": 12,
      "id": "74fd80b0",
      "metadata": {
        "id": "74fd80b0",
        "outputId": "f07d9402-b0ee-4813-bb92-6e5fb1dc8959",
        "colab": {
          "base_uri": "https://localhost:8080/"
        }
      },
      "outputs": [
        {
          "output_type": "stream",
          "name": "stdout",
          "text": [
            "3\n"
          ]
        }
      ],
      "source": [
        "print(\"de Madrid al cielo\".find(\"Madrid\"))    # 3"
      ]
    },
    {
      "cell_type": "code",
      "execution_count": 13,
      "id": "072bc290",
      "metadata": {
        "id": "072bc290",
        "outputId": "3cc1a15f-ae1c-45b8-af6d-64738a7f19ee",
        "colab": {
          "base_uri": "https://localhost:8080/"
        }
      },
      "outputs": [
        {
          "output_type": "stream",
          "name": "stdout",
          "text": [
            "3\n"
          ]
        }
      ],
      "source": [
        "print(\"en Roma encontré a Romeo\".find(\"R\"))   # si hay dos R da el índice de la primera"
      ]
    },
    {
      "cell_type": "code",
      "execution_count": 14,
      "id": "5353794b",
      "metadata": {
        "id": "5353794b",
        "outputId": "a47dd082-e5a6-40c2-a360-3b93b9444454",
        "colab": {
          "base_uri": "https://localhost:8080/"
        }
      },
      "outputs": [
        {
          "output_type": "stream",
          "name": "stdout",
          "text": [
            "19\n"
          ]
        }
      ],
      "source": [
        "print(\"en Roma encontré a Romeo\".rfind(\"R\"))  # si hay varias R da el índice de la ultima"
      ]
    },
    {
      "cell_type": "markdown",
      "id": "2b7e7cf3",
      "metadata": {
        "id": "2b7e7cf3"
      },
      "source": [
        "El método isalnum() devuelve True si todos los caracteres son alfanuméricos, es decir, letras del alfabeto (a-z) y números (0-9).  \n",
        "Ejemplo de caracteres que no son alfanuméricos: (espacio)! #% &? etc."
      ]
    },
    {
      "cell_type": "code",
      "execution_count": 15,
      "id": "2bce62cf",
      "metadata": {
        "id": "2bce62cf",
        "outputId": "a24f5fd7-59ef-41c9-c55e-65201b3d0e71",
        "colab": {
          "base_uri": "https://localhost:8080/"
        }
      },
      "outputs": [
        {
          "output_type": "execute_result",
          "data": {
            "text/plain": [
              "True"
            ]
          },
          "metadata": {},
          "execution_count": 15
        }
      ],
      "source": [
        "\"París2024\".isalnum()"
      ]
    },
    {
      "cell_type": "markdown",
      "id": "940b2ba7",
      "metadata": {
        "id": "940b2ba7"
      },
      "source": [
        "El método isalpha() devuelve True si todos los caracteres son letras del alfabeto (a-z).  \n",
        "Ejemplo de caracteres que no son letras del alfabeto: (espacio)! #% &? 0123456789 etc."
      ]
    },
    {
      "cell_type": "code",
      "execution_count": 16,
      "id": "bc1e6cc8",
      "metadata": {
        "id": "bc1e6cc8",
        "outputId": "0a2e52b6-a779-4e81-ba38-cfe171d254ae",
        "colab": {
          "base_uri": "https://localhost:8080/"
        }
      },
      "outputs": [
        {
          "output_type": "execute_result",
          "data": {
            "text/plain": [
              "True"
            ]
          },
          "metadata": {},
          "execution_count": 16
        }
      ],
      "source": [
        "\"señoríaAlfonsoX\".isalpha()                   # True  contiene ñ y tilde pero no tiene espacio"
      ]
    }
  ],
  "metadata": {
    "kernelspec": {
      "display_name": "Python 3 (ipykernel)",
      "language": "python",
      "name": "python3"
    },
    "language_info": {
      "codemirror_mode": {
        "name": "ipython",
        "version": 3
      },
      "file_extension": ".py",
      "mimetype": "text/x-python",
      "name": "python",
      "nbconvert_exporter": "python",
      "pygments_lexer": "ipython3",
      "version": "3.8.11"
    },
    "colab": {
      "name": "calisto1_0150.ipynb",
      "provenance": [],
      "include_colab_link": true
    }
  },
  "nbformat": 4,
  "nbformat_minor": 5
}