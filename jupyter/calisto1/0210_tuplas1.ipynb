{
  "cells": [
    {
      "cell_type": "markdown",
      "metadata": {
        "id": "view-in-github",
        "colab_type": "text"
      },
      "source": [
        "<a href=\"https://colab.research.google.com/github/financieras/pyCourse/blob/main/jupyter/calisto1/0210_tuplas1.ipynb\" target=\"_parent\"><img src=\"https://colab.research.google.com/assets/colab-badge.svg\" alt=\"Open In Colab\"/></a>"
      ]
    },
    {
      "cell_type": "markdown",
      "id": "0383b0d8",
      "metadata": {
        "id": "0383b0d8"
      },
      "source": [
        "# Tuplas [1]\n",
        "Las tuplas son inmutables."
      ]
    },
    {
      "cell_type": "code",
      "execution_count": 1,
      "id": "c346e536",
      "metadata": {
        "id": "c346e536",
        "outputId": "cff303c4-6c1b-4f68-a7c9-8b096c01c0b9",
        "colab": {
          "base_uri": "https://localhost:8080/"
        }
      },
      "outputs": [
        {
          "output_type": "stream",
          "name": "stdout",
          "text": [
            "('Primavera', 'Verano', 'Otoño', 'Invierno')\n"
          ]
        },
        {
          "output_type": "execute_result",
          "data": {
            "text/plain": [
              "tuple"
            ]
          },
          "metadata": {},
          "execution_count": 1
        }
      ],
      "source": [
        "estaciones = ('Primavera', 'Verano', 'Otoño', 'Invierno')   # Para datos inmutables\n",
        "print(estaciones)\n",
        "type(estaciones)"
      ]
    },
    {
      "cell_type": "markdown",
      "id": "f21becab",
      "metadata": {
        "id": "f21becab"
      },
      "source": [
        "Los elementos de una lista son mutables, los elementos de una tupla son inmutables.  \n",
        "La iteración sobre los elementos de una tupla es más rápida que la iteración sobre una lista.\n"
      ]
    },
    {
      "cell_type": "code",
      "execution_count": 2,
      "id": "46ce60e3",
      "metadata": {
        "id": "46ce60e3",
        "outputId": "0400667a-5a35-434e-d9a9-74c8f0c544c7",
        "colab": {
          "base_uri": "https://localhost:8080/"
        }
      },
      "outputs": [
        {
          "output_type": "execute_result",
          "data": {
            "text/plain": [
              "(15, 'McKinsey', True, [5, 7, 9], ('a', 'b', 'c'), 12.35)"
            ]
          },
          "metadata": {},
          "execution_count": 2
        }
      ],
      "source": [
        "mi_tupla = (15, 'McKinsey', True, [5,7,9], ('a','b','c'), 12.35)\n",
        "mi_tupla"
      ]
    },
    {
      "cell_type": "code",
      "execution_count": 3,
      "id": "297a13b6",
      "metadata": {
        "id": "297a13b6",
        "outputId": "fe929601-cf02-4a97-defa-1f0ea87ceab4",
        "colab": {
          "base_uri": "https://localhost:8080/"
        }
      },
      "outputs": [
        {
          "output_type": "execute_result",
          "data": {
            "text/plain": [
              "(14,)"
            ]
          },
          "metadata": {},
          "execution_count": 3
        }
      ],
      "source": [
        "tupla_uno = (14,)        # tupla con un único elemento. type(tupla_uno) es de tipo tuple, no int\n",
        "tupla_uno"
      ]
    },
    {
      "cell_type": "markdown",
      "id": "ce1e9f24",
      "metadata": {
        "id": "ce1e9f24"
      },
      "source": [
        "## Convertir una lista en una tupla"
      ]
    },
    {
      "cell_type": "code",
      "execution_count": 4,
      "id": "1a50952e",
      "metadata": {
        "id": "1a50952e",
        "outputId": "9da95ebe-cc24-41ed-86a2-78f4c78d7a33",
        "colab": {
          "base_uri": "https://localhost:8080/"
        }
      },
      "outputs": [
        {
          "output_type": "stream",
          "name": "stdout",
          "text": [
            "(3, 5, 7, 9)\n"
          ]
        }
      ],
      "source": [
        "a = [3, 5, 7, 9]         # una lista\n",
        "b = tuple(a)             # se convierte en tupla\n",
        "print(b)                 # (3, 5, 7, 9)"
      ]
    },
    {
      "cell_type": "markdown",
      "id": "cc6e901f",
      "metadata": {
        "id": "cc6e901f"
      },
      "source": [
        "## Las tuplas admiten referirnos a ellas por el índice"
      ]
    },
    {
      "cell_type": "code",
      "execution_count": 5,
      "id": "5a8e35e3",
      "metadata": {
        "id": "5a8e35e3",
        "outputId": "671a3e16-7d87-41ab-deaa-892481d894d5",
        "colab": {
          "base_uri": "https://localhost:8080/"
        }
      },
      "outputs": [
        {
          "output_type": "stream",
          "name": "stdout",
          "text": [
            "Primavera\n",
            "12.35\n",
            "K\n",
            "7\n",
            "[5, 8, 9]\n"
          ]
        }
      ],
      "source": [
        "print(estaciones[0])   # 'Primavera'\n",
        "print(mi_tupla[-1])    # 12.35\n",
        "print(mi_tupla[1][2])  # K\n",
        "print(mi_tupla[3][1])  # 7\n",
        "mi_tupla[3][1] = 8     # Podemos cambiar los elementos de una lista dentro de una tupla\n",
        "print(mi_tupla[3])     # [5, 8, 9]   la lista si es mutable aunque esté dentro de una tupla"
      ]
    },
    {
      "cell_type": "markdown",
      "id": "2799f212",
      "metadata": {
        "id": "2799f212"
      },
      "source": [
        "## Métodos"
      ]
    },
    {
      "cell_type": "code",
      "execution_count": 6,
      "id": "9947c058",
      "metadata": {
        "id": "9947c058",
        "outputId": "3e7768ad-a38f-418c-c9a6-d781d5123504",
        "colab": {
          "base_uri": "https://localhost:8080/"
        }
      },
      "outputs": [
        {
          "output_type": "execute_result",
          "data": {
            "text/plain": [
              "6"
            ]
          },
          "metadata": {},
          "execution_count": 6
        }
      ],
      "source": [
        "len(mi_tupla)          # longitud de una tupla"
      ]
    },
    {
      "cell_type": "code",
      "execution_count": 7,
      "id": "c585a984",
      "metadata": {
        "id": "c585a984",
        "outputId": "c525f117-b2f7-429f-d436-8c6c3a660143",
        "colab": {
          "base_uri": "https://localhost:8080/"
        }
      },
      "outputs": [
        {
          "output_type": "execute_result",
          "data": {
            "text/plain": [
              "3"
            ]
          },
          "metadata": {},
          "execution_count": 7
        }
      ],
      "source": [
        "len(mi_tupla[3])       # longitud de una lista dentro de una tupla"
      ]
    },
    {
      "cell_type": "code",
      "execution_count": 8,
      "id": "6f365f1b",
      "metadata": {
        "id": "6f365f1b"
      },
      "outputs": [],
      "source": [
        "del(estaciones)        # podemos borrar una tupla entera pero no sus elementos"
      ]
    },
    {
      "cell_type": "code",
      "execution_count": 9,
      "id": "de1b9824",
      "metadata": {
        "id": "de1b9824",
        "outputId": "68b62860-f9c1-4de7-e72c-ba4091038a75",
        "colab": {
          "base_uri": "https://localhost:8080/"
        }
      },
      "outputs": [
        {
          "output_type": "execute_result",
          "data": {
            "text/plain": [
              "4"
            ]
          },
          "metadata": {},
          "execution_count": 9
        }
      ],
      "source": [
        "t=(0, 2, 0, 0, 2, 0, 5)\n",
        "t.count(0)             # contamos el número de ceros que contiene una tupla"
      ]
    },
    {
      "cell_type": "code",
      "execution_count": 10,
      "id": "3dcc2d16",
      "metadata": {
        "id": "3dcc2d16",
        "outputId": "506e4eaf-05e6-4b11-daa0-23470f30d94d",
        "colab": {
          "base_uri": "https://localhost:8080/"
        }
      },
      "outputs": [
        {
          "output_type": "execute_result",
          "data": {
            "text/plain": [
              "1"
            ]
          },
          "metadata": {},
          "execution_count": 10
        }
      ],
      "source": [
        "t.index(2)             # indica el índice donde se encuentra el primer 2"
      ]
    },
    {
      "cell_type": "code",
      "execution_count": 11,
      "id": "d04bb4ea",
      "metadata": {
        "id": "d04bb4ea",
        "outputId": "0a96cd26-dd38-4b7d-88ac-abe3f18b6575",
        "colab": {
          "base_uri": "https://localhost:8080/"
        }
      },
      "outputs": [
        {
          "output_type": "execute_result",
          "data": {
            "text/plain": [
              "4"
            ]
          },
          "metadata": {},
          "execution_count": 11
        }
      ],
      "source": [
        "t.index(2, 3)           # indica el índice donde se encuentra el 2 comenzando a contar desde el índice 3"
      ]
    }
  ],
  "metadata": {
    "kernelspec": {
      "display_name": "Python 3",
      "language": "python",
      "name": "python3"
    },
    "language_info": {
      "codemirror_mode": {
        "name": "ipython",
        "version": 3
      },
      "file_extension": ".py",
      "mimetype": "text/x-python",
      "name": "python",
      "nbconvert_exporter": "python",
      "pygments_lexer": "ipython3",
      "version": "3.8.8"
    },
    "colab": {
      "name": "0210_tuplas1.ipynb",
      "provenance": [],
      "include_colab_link": true
    }
  },
  "nbformat": 4,
  "nbformat_minor": 5
}