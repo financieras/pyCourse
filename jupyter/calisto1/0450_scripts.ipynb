{
  "cells": [
    {
      "cell_type": "markdown",
      "metadata": {
        "id": "view-in-github",
        "colab_type": "text"
      },
      "source": [
        "<a href=\"https://colab.research.google.com/github/financieras/pyCourse/blob/main/jupyter/calisto1_0450.ipynb\" target=\"_parent\"><img src=\"https://colab.research.google.com/assets/colab-badge.svg\" alt=\"Open In Colab\"/></a>"
      ]
    },
    {
      "cell_type": "markdown",
      "metadata": {
        "id": "u6qcVg47DeFZ"
      },
      "source": [
        "# Ejecución de Scripts\n",
        "En Jupyter la ejecución de scripts de Python no es lo más adecuado.  \n",
        "Lo mejor es utilizar un editor de código para crear los scripts, recomendamos [Visual Studio Code](https://code.visualstudio.com) con el que podemos tener una terminal integrada en la que poder ejecutar los scripts.  \n",
        "Veamos que se puede conseguir acceder a la terminal, pero es preferible trabajar con VSCode."
      ],
      "id": "u6qcVg47DeFZ"
    },
    {
      "cell_type": "code",
      "execution_count": null,
      "metadata": {
        "id": "8G0lxP7EDeFc"
      },
      "outputs": [],
      "source": [
        "%run -i ../ejemplos/ejemplo1_0010.py  #la opción -i indica ejecución interactiva"
      ],
      "id": "8G0lxP7EDeFc"
    },
    {
      "cell_type": "code",
      "execution_count": null,
      "metadata": {
        "id": "35FGbThsDeFd",
        "outputId": "a9787a08-4c9e-4f5a-9be2-3e59ec2d3608"
      },
      "outputs": [
        {
          "name": "stdout",
          "output_type": "stream",
          "text": [
            "\u001b[0m\u001b[01;35mBuenos_Aires.png\u001b[0m  \u001b[01;35mif.png\u001b[0m                     \u001b[01;35mqueue.png\u001b[0m         \u001b[01;35mtablanotas.png\u001b[0m\r\n",
            "\u001b[01;35mcola.jpg\u001b[0m          \u001b[01;35moperadores_asignacion.png\u001b[0m  \u001b[01;35mrecursividad.png\u001b[0m  \u001b[01;35mtablaverdad.png\u001b[0m\r\n",
            "\u001b[01;35mhoras.jpg\u001b[0m         \u001b[01;35mpila.jpg\u001b[0m                   \u001b[01;35mstack.png\u001b[0m         \u001b[01;35mwhile.png\u001b[0m\r\n"
          ]
        }
      ],
      "source": [
        "%ls ./img #listando ficheros en la terminal de Linux"
      ],
      "id": "35FGbThsDeFd"
    },
    {
      "cell_type": "markdown",
      "metadata": {
        "id": "tn0Lvof8DeFe"
      },
      "source": [
        "Desde la terminal podemos ejecutar los scripts, cuya extensión es .py  \n",
        "Para ello tecleamos:  \n",
        "\n",
        "```python fichero.py```  \n",
        "cambiar la palabra fichero por el que queramos ejecutar.  \n",
        "\n",
        "En Windows es posible que tengamos que teclear:  \n",
        "```python3 fichero.py```\n"
      ],
      "id": "tn0Lvof8DeFe"
    },
    {
      "cell_type": "markdown",
      "metadata": {
        "id": "5bESpiqzDeFe"
      },
      "source": [
        "## Visual Studio Code\n",
        "Este editor creado por Microsoft es gratuito y de código abierto (open souce). Es multiplataforma y va ganando cuota de mercado por ser  muy configurable con gran cantidad de plugins."
      ],
      "id": "5bESpiqzDeFe"
    },
    {
      "cell_type": "markdown",
      "metadata": {
        "id": "w-42EDL0DeFe"
      },
      "source": [
        "## Entradas de datos\n",
        "Ejecución de scripts de Python con parámetros."
      ],
      "id": "w-42EDL0DeFe"
    },
    {
      "cell_type": "markdown",
      "metadata": {
        "id": "z98ipVusDeFf"
      },
      "source": [
        "Voy a pasar dos argumentos a un script de Python que no los necesita. No dará error, pero esa información no se aprovechará.  \n",
        "Los parámetros numéricos se pasan sin comillas, y los strings se pasan entre comillados."
      ],
      "id": "z98ipVusDeFf"
    },
    {
      "cell_type": "code",
      "execution_count": null,
      "metadata": {
        "id": "a9gti6nHDeFf",
        "outputId": "670831b4-2fc3-44d8-aa62-7aef36b4c542"
      },
      "outputs": [
        {
          "name": "stdout",
          "output_type": "stream",
          "text": [
            "10\n",
            "10\n",
            "18\n",
            "La raiz cuadrada de 16 es 4.0\n",
            "La raiz cuadrada de 16 es 4.0\n"
          ]
        }
      ],
      "source": [
        "%run -i ../ejemplos/ejemplo1_0010.py \"Alex Ruiz\" 7"
      ],
      "id": "a9gti6nHDeFf"
    },
    {
      "cell_type": "markdown",
      "metadata": {
        "id": "BJOmt-uEDeFg"
      },
      "source": [
        "Vamos a pasar ahora los parámetros a otro archivo que si los utilizará.\n",
        "\n",
        "Archivo **ejemplo1_0020.py**\n",
        "\n",
        "import sys      # importamos la librería que nos permite interaccionar con el sistema  \n",
        "print(sys.argv) # propiedad del sistema"
      ],
      "id": "BJOmt-uEDeFg"
    },
    {
      "cell_type": "code",
      "execution_count": null,
      "metadata": {
        "id": "yxt9EFx-DeFg",
        "outputId": "f9af838a-f7ee-405a-c4c2-3975e5136b92"
      },
      "outputs": [
        {
          "name": "stdout",
          "output_type": "stream",
          "text": [
            "['../ejemplos/ejemplo1_0020.py', 'Alex Ruiz', '7']\n"
          ]
        }
      ],
      "source": [
        "%run -i ../ejemplos/ejemplo1_0020.py \"Alex Ruiz\" 7"
      ],
      "id": "yxt9EFx-DeFg"
    },
    {
      "cell_type": "markdown",
      "metadata": {
        "id": "otqZtpE_DeFh"
      },
      "source": [
        "Vemos que devuelve una matriz con tres elementos.\n",
        "- índice 0: nombre del archivo\n",
        "- índice 1: primer argumento pasado que es un string\n",
        "- índice 2: segundo argumento pasado que es un numero también como string  \n",
        "Todos los números pasados se recogen como string.\n",
        "\n",
        "Gracias a ```sys.argv``` podemos obtener todos los argumentos que pasemos al script."
      ],
      "id": "otqZtpE_DeFh"
    },
    {
      "cell_type": "code",
      "execution_count": null,
      "metadata": {
        "id": "IwYwvQFqDeFh",
        "outputId": "fe71376b-1f02-4e2f-fb3a-d8179840d899"
      },
      "outputs": [
        {
          "name": "stdout",
          "output_type": "stream",
          "text": [
            "Hola Alex me alegro de que te guste el número 7.\n",
            "Seguro que te agrada ver una lista con tu número favorito \n",
            "[7, 7, 7, 7, 7, 7, 7]\n"
          ]
        }
      ],
      "source": [
        "%run -i ../ejemplos/ejemplo1_0030.py \"Alex\" 7"
      ],
      "id": "IwYwvQFqDeFh"
    },
    {
      "cell_type": "markdown",
      "metadata": {
        "id": "9hIDJ4hJDeFh"
      },
      "source": [
        "Si el programa espera dos argumentos y no se pasan exactamente dos, nos dará error, por lo que puede ser necesario adelantarnos y comprobar la longitud de los argumentos que nos han pasado.  \n",
        "Creamos la siguente versión que es el fichero ejemplo1_0040.py\n",
        "\n",
        "Primero vamos a ejecutarlo con un argumento menos y luego ya lo ejecutaremos correctamente."
      ],
      "id": "9hIDJ4hJDeFh"
    },
    {
      "cell_type": "code",
      "execution_count": null,
      "metadata": {
        "id": "C4F4gV96DeFi",
        "outputId": "f8b4dab4-b1e7-41ce-e54a-b04d56f43b56"
      },
      "outputs": [
        {
          "name": "stdout",
          "output_type": "stream",
          "text": [
            "ERROR: se necesitan dos argumentos, 1º su nombre y 2º su número favorito.\n",
            "Ejemplo: pyhton ejemplo1_0040.py \"Ana Vega\" 4\n"
          ]
        }
      ],
      "source": [
        "%run -i ../ejemplos/ejemplo1_0040.py \"Ana Vega\""
      ],
      "id": "C4F4gV96DeFi"
    },
    {
      "cell_type": "code",
      "execution_count": null,
      "metadata": {
        "id": "iyJyWTFxDeFi",
        "outputId": "be4cd786-2bc7-4ad7-f7cd-da38ea3c9884"
      },
      "outputs": [
        {
          "name": "stdout",
          "output_type": "stream",
          "text": [
            "Hola Ana Vega me alegro de que te guste el número 4.\n",
            "Seguro que te agrada ver una lista con tu número favorito \n",
            "[4, 4, 4, 4]\n"
          ]
        }
      ],
      "source": [
        "%run -i ../ejemplos/ejemplo1_0040.py \"Ana Vega\" 4"
      ],
      "id": "iyJyWTFxDeFi"
    }
  ],
  "metadata": {
    "kernelspec": {
      "display_name": "Python 3",
      "language": "python",
      "name": "python3"
    },
    "language_info": {
      "codemirror_mode": {
        "name": "ipython",
        "version": 3
      },
      "file_extension": ".py",
      "mimetype": "text/x-python",
      "name": "python",
      "nbconvert_exporter": "python",
      "pygments_lexer": "ipython3",
      "version": "3.8.5"
    },
    "colab": {
      "name": "0450_scripts.ipynb",
      "provenance": [],
      "include_colab_link": true
    }
  },
  "nbformat": 4,
  "nbformat_minor": 5
}
