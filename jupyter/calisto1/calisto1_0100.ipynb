{
  "cells": [
    {
      "cell_type": "markdown",
      "metadata": {
        "id": "view-in-github",
        "colab_type": "text"
      },
      "source": [
        "<a href=\"https://colab.research.google.com/github/financieras/pyCourse/blob/main/jupyter/calisto1/calisto1_0100.ipynb\" target=\"_parent\"><img src=\"https://colab.research.google.com/assets/colab-badge.svg\" alt=\"Open In Colab\"/></a>"
      ]
    },
    {
      "cell_type": "markdown",
      "id": "4489f00b",
      "metadata": {
        "id": "4489f00b"
      },
      "source": [
        "# Strings"
      ]
    },
    {
      "cell_type": "markdown",
      "id": "e89aa34d",
      "metadata": {
        "id": "e89aa34d"
      },
      "source": [
        "## Comparar strings"
      ]
    },
    {
      "cell_type": "code",
      "execution_count": 1,
      "id": "48b0180b",
      "metadata": {
        "id": "48b0180b",
        "outputId": "e325d6ff-f144-4844-8f9d-3cbdcd72d861",
        "colab": {
          "base_uri": "https://localhost:8080/"
        }
      },
      "outputs": [
        {
          "output_type": "execute_result",
          "data": {
            "text/plain": [
              "True"
            ]
          },
          "metadata": {},
          "execution_count": 1
        }
      ],
      "source": [
        "cadena1 = \"Hola\"                                          # con \"\"\n",
        "cadena2 = 'Hola'                                          # con ''\n",
        "cadena1 == cadena2                                        # True"
      ]
    },
    {
      "cell_type": "markdown",
      "id": "ffef0f9c",
      "metadata": {
        "id": "ffef0f9c"
      },
      "source": [
        "## Comillas dentro de comillas"
      ]
    },
    {
      "cell_type": "code",
      "execution_count": 2,
      "id": "7199de29",
      "metadata": {
        "id": "7199de29"
      },
      "outputs": [],
      "source": [
        "#cadena3 = 'En los años 90's actuaban grandes bandas'     # error"
      ]
    },
    {
      "cell_type": "code",
      "execution_count": 3,
      "id": "d0b07aaa",
      "metadata": {
        "id": "d0b07aaa",
        "outputId": "9b594289-81f4-47a6-cbd0-340b3a68b955",
        "colab": {
          "base_uri": "https://localhost:8080/"
        }
      },
      "outputs": [
        {
          "output_type": "stream",
          "name": "stdout",
          "text": [
            "En los años 90's actuaban grandes bandas\n"
          ]
        }
      ],
      "source": [
        "cadena3 = \"En los años 90's actuaban grandes bandas\"     # ahora funciona bien usando comillas dobles\n",
        "print(cadena3)"
      ]
    },
    {
      "cell_type": "code",
      "execution_count": 4,
      "id": "a1768d79",
      "metadata": {
        "id": "a1768d79",
        "outputId": "d25c15ac-0ad5-4b07-eeb2-9a5091db40fe",
        "colab": {
          "base_uri": "https://localhost:8080/"
        }
      },
      "outputs": [
        {
          "output_type": "stream",
          "name": "stdout",
          "text": [
            "En los años 90's actuaban grandes bandas\n"
          ]
        }
      ],
      "source": [
        "print('En los años 90\\'s actuaban grandes bandas')       # también funciona bien usando un carácter de escape"
      ]
    },
    {
      "cell_type": "markdown",
      "id": "08b7ca74",
      "metadata": {
        "id": "08b7ca74"
      },
      "source": [
        "## Caracteres de escape"
      ]
    },
    {
      "cell_type": "code",
      "execution_count": 5,
      "id": "c9f63a92",
      "metadata": {
        "id": "c9f63a92",
        "outputId": "e1221f7e-e4d5-414e-ac6b-8dfe554620d2",
        "colab": {
          "base_uri": "https://localhost:8080/"
        }
      },
      "outputs": [
        {
          "output_type": "stream",
          "name": "stdout",
          "text": [
            "Secuencias de escape: \\  '  \"   \n"
          ]
        }
      ],
      "source": [
        "print('Secuencias de escape: \\\\  \\'  \\\"   ')"
      ]
    },
    {
      "cell_type": "markdown",
      "id": "18dd8b12",
      "metadata": {
        "id": "18dd8b12"
      },
      "source": [
        "## Tabuladores"
      ]
    },
    {
      "cell_type": "code",
      "execution_count": 6,
      "id": "ce53d6c3",
      "metadata": {
        "id": "ce53d6c3",
        "outputId": "80c42712-f758-4bad-da89-bd58a11ee530",
        "colab": {
          "base_uri": "https://localhost:8080/"
        }
      },
      "outputs": [
        {
          "output_type": "stream",
          "name": "stdout",
          "text": [
            "Mis amigos: \n",
            "Ana \tMadrid \n",
            "Luis \tSevilla \n",
            "Isabel \tSantander\n"
          ]
        }
      ],
      "source": [
        "print('Mis amigos: \\nAna \\tMadrid \\nLuis \\tSevilla \\nIsabel \\tSantander')"
      ]
    },
    {
      "cell_type": "code",
      "execution_count": 7,
      "id": "7fe9ea09",
      "metadata": {
        "id": "7fe9ea09",
        "outputId": "7468af63-31f9-44a7-a019-ce1e931b727f",
        "colab": {
          "base_uri": "https://localhost:8080/"
        }
      },
      "outputs": [
        {
          "output_type": "stream",
          "name": "stdout",
          "text": [
            "Tareas pendientes:\n",
            "\tBuscar destino para las próximas vacaciones\n",
            "\tBuscar una bici eléctrica\n"
          ]
        }
      ],
      "source": [
        "# En un párrafo usando comillas triples\n",
        "\n",
        "print('''Tareas pendientes:\n",
        "\\tBuscar destino para las próximas vacaciones\n",
        "\\tBuscar una bici eléctrica''')"
      ]
    },
    {
      "cell_type": "markdown",
      "id": "9608df85",
      "metadata": {
        "id": "9608df85"
      },
      "source": [
        "## Imprimir una variable"
      ]
    },
    {
      "cell_type": "code",
      "execution_count": 8,
      "id": "598ef39f",
      "metadata": {
        "id": "598ef39f",
        "colab": {
          "base_uri": "https://localhost:8080/"
        },
        "outputId": "9a7b4723-aa66-45da-f3b2-96cf2deef2c3"
      },
      "outputs": [
        {
          "output_type": "stream",
          "name": "stdout",
          "text": [
            "Hola\n"
          ]
        }
      ],
      "source": [
        "a = \"Hola\"\n",
        "print(a)"
      ]
    },
    {
      "cell_type": "markdown",
      "id": "d2f245f7",
      "metadata": {
        "id": "d2f245f7"
      },
      "source": [
        "## Comillas triples\n",
        "Las triples comillas permiten imprimir varias líneas."
      ]
    },
    {
      "cell_type": "code",
      "execution_count": 9,
      "id": "7d2e4516",
      "metadata": {
        "id": "7d2e4516",
        "colab": {
          "base_uri": "https://localhost:8080/"
        },
        "outputId": "2dd5d9d2-8e91-44a8-cad8-ba907928274c"
      },
      "outputs": [
        {
          "output_type": "stream",
          "name": "stdout",
          "text": [
            "Esta es una frase que \n",
            "ocupa varias líneas y que va \n",
            "entre triples comillas que\n",
            "pueden ser simples o dobles.\n"
          ]
        }
      ],
      "source": [
        "b = '''Esta es una frase que\n",
        "ocupa varias líneas y que va\n",
        "entre triples comillas que\n",
        "pueden ser simples o dobles.'''\n",
        "print(b)"
      ]
    },
    {
      "cell_type": "markdown",
      "id": "e3357909",
      "metadata": {
        "id": "e3357909"
      },
      "source": [
        "## len()\n",
        "Proporciona la longitud de la cadena."
      ]
    },
    {
      "cell_type": "code",
      "execution_count": 10,
      "id": "3e3c9ba9",
      "metadata": {
        "id": "3e3c9ba9",
        "outputId": "a87270e2-c39c-4213-c47e-43af6459fef3",
        "colab": {
          "base_uri": "https://localhost:8080/"
        }
      },
      "outputs": [
        {
          "output_type": "execute_result",
          "data": {
            "text/plain": [
              "13"
            ]
          },
          "metadata": {},
          "execution_count": 10
        }
      ],
      "source": [
        "c = \"¡Hola, mundo!\"\n",
        "len(c)"
      ]
    },
    {
      "cell_type": "markdown",
      "id": "6fa1b9d6",
      "metadata": {
        "id": "6fa1b9d6"
      },
      "source": [
        "## in\n",
        "Permite detectar si una palabra está dentro de una frase."
      ]
    },
    {
      "cell_type": "code",
      "execution_count": 11,
      "id": "93ce0cc7",
      "metadata": {
        "id": "93ce0cc7",
        "outputId": "198397b2-51f6-4d2d-b790-8dd7b6aac7b5",
        "colab": {
          "base_uri": "https://localhost:8080/"
        }
      },
      "outputs": [
        {
          "output_type": "execute_result",
          "data": {
            "text/plain": [
              "True"
            ]
          },
          "metadata": {},
          "execution_count": 11
        }
      ],
      "source": [
        "frase = \"La libertad, Sancho, es uno de los más preciosos dones que a los hombres dieron los cielos\"\n",
        "\"libertad\" in frase        # True"
      ]
    },
    {
      "cell_type": "markdown",
      "id": "df420b3b",
      "metadata": {
        "id": "df420b3b"
      },
      "source": [
        "## not in"
      ]
    },
    {
      "cell_type": "code",
      "execution_count": 12,
      "id": "db0bfdf1",
      "metadata": {
        "id": "db0bfdf1",
        "outputId": "3e3237d0-89ac-4d56-e90d-28416d159af1",
        "colab": {
          "base_uri": "https://localhost:8080/"
        }
      },
      "outputs": [
        {
          "output_type": "execute_result",
          "data": {
            "text/plain": [
              "True"
            ]
          },
          "metadata": {},
          "execution_count": 12
        }
      ],
      "source": [
        "frase = \"Todos los seres humanos nacen libres e iguales en dignidad y derechos\"\n",
        "\"Sancho\" not in frase      # True"
      ]
    },
    {
      "cell_type": "markdown",
      "id": "04cc683b",
      "metadata": {
        "id": "04cc683b"
      },
      "source": [
        "## Orden alfabético"
      ]
    },
    {
      "cell_type": "code",
      "execution_count": 13,
      "id": "4a486dc4",
      "metadata": {
        "id": "4a486dc4",
        "outputId": "e2ae1fcf-9b5b-4797-84c8-edb4210e2214",
        "colab": {
          "base_uri": "https://localhost:8080/"
        }
      },
      "outputs": [
        {
          "output_type": "execute_result",
          "data": {
            "text/plain": [
              "True"
            ]
          },
          "metadata": {},
          "execution_count": 13
        }
      ],
      "source": [
        "\"b\" > \"a\"                  # True"
      ]
    },
    {
      "cell_type": "code",
      "execution_count": 14,
      "id": "745dba35",
      "metadata": {
        "id": "745dba35",
        "outputId": "71b1ae24-06f3-4058-e5ce-525bb84a3d18",
        "colab": {
          "base_uri": "https://localhost:8080/"
        }
      },
      "outputs": [
        {
          "output_type": "execute_result",
          "data": {
            "text/plain": [
              "False"
            ]
          },
          "metadata": {},
          "execution_count": 14
        }
      ],
      "source": [
        "\"naciente\" > \"yaciente\"    # False"
      ]
    },
    {
      "cell_type": "markdown",
      "id": "17e073bf",
      "metadata": {
        "id": "17e073bf"
      },
      "source": [
        "## Concatenar"
      ]
    },
    {
      "cell_type": "code",
      "execution_count": 15,
      "id": "629e9e70",
      "metadata": {
        "id": "629e9e70",
        "colab": {
          "base_uri": "https://localhost:8080/",
          "height": 35
        },
        "outputId": "eb4f2760-ca9f-4cab-a766-e436fe2f7a71"
      },
      "outputs": [
        {
          "output_type": "execute_result",
          "data": {
            "text/plain": [
              "'buenaaventura'"
            ],
            "application/vnd.google.colaboratory.intrinsic+json": {
              "type": "string"
            }
          },
          "metadata": {},
          "execution_count": 15
        }
      ],
      "source": [
        "\"buena\" + \"aventura\""
      ]
    },
    {
      "cell_type": "code",
      "execution_count": 16,
      "id": "aa3862cb",
      "metadata": {
        "id": "aa3862cb",
        "colab": {
          "base_uri": "https://localhost:8080/",
          "height": 35
        },
        "outputId": "ac09f0c7-3458-4c00-f21e-3ad7ea03e33a"
      },
      "outputs": [
        {
          "output_type": "execute_result",
          "data": {
            "text/plain": [
              "'enhorabuena'"
            ],
            "application/vnd.google.colaboratory.intrinsic+json": {
              "type": "string"
            }
          },
          "metadata": {},
          "execution_count": 16
        }
      ],
      "source": [
        "'en' 'hora' 'buena'    # también podemos separar los strings con un espacio"
      ]
    },
    {
      "cell_type": "markdown",
      "id": "e7830ad5",
      "metadata": {
        "id": "e7830ad5"
      },
      "source": [
        "## replace()"
      ]
    },
    {
      "cell_type": "code",
      "execution_count": 17,
      "id": "9b8aaa27",
      "metadata": {
        "id": "9b8aaa27",
        "colab": {
          "base_uri": "https://localhost:8080/",
          "height": 35
        },
        "outputId": "c58be00e-78dd-42ac-80fc-74e7a7d171ac"
      },
      "outputs": [
        {
          "output_type": "execute_result",
          "data": {
            "text/plain": [
              "'mola'"
            ],
            "application/vnd.google.colaboratory.intrinsic+json": {
              "type": "string"
            }
          },
          "metadata": {},
          "execution_count": 17
        }
      ],
      "source": [
        "\"hola\".replace('h','m')"
      ]
    },
    {
      "cell_type": "code",
      "execution_count": 18,
      "id": "d2fe0f10",
      "metadata": {
        "id": "d2fe0f10",
        "colab": {
          "base_uri": "https://localhost:8080/",
          "height": 35
        },
        "outputId": "751645cb-4c15-4de5-f141-b78fb2f0dd57"
      },
      "outputs": [
        {
          "output_type": "execute_result",
          "data": {
            "text/plain": [
              "'Voy a Niza'"
            ],
            "application/vnd.google.colaboratory.intrinsic+json": {
              "type": "string"
            }
          },
          "metadata": {},
          "execution_count": 18
        }
      ],
      "source": [
        "\"Voy a Roma\".replace(\"Roma\",\"Niza\")"
      ]
    }
  ],
  "metadata": {
    "kernelspec": {
      "display_name": "Python 3 (ipykernel)",
      "language": "python",
      "name": "python3"
    },
    "language_info": {
      "codemirror_mode": {
        "name": "ipython",
        "version": 3
      },
      "file_extension": ".py",
      "mimetype": "text/x-python",
      "name": "python",
      "nbconvert_exporter": "python",
      "pygments_lexer": "ipython3",
      "version": "3.8.11"
    },
    "colab": {
      "name": "calisto1_0100.ipynb",
      "provenance": [],
      "include_colab_link": true
    }
  },
  "nbformat": 4,
  "nbformat_minor": 5
}