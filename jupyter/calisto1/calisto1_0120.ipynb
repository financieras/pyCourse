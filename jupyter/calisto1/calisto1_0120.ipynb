{
  "cells": [
    {
      "cell_type": "markdown",
      "metadata": {
        "id": "view-in-github",
        "colab_type": "text"
      },
      "source": [
        "<a href=\"https://colab.research.google.com/github/financieras/pyCourse/blob/main/jupyter/calisto1/calisto1_0120.ipynb\" target=\"_parent\"><img src=\"https://colab.research.google.com/assets/colab-badge.svg\" alt=\"Open In Colab\"/></a>"
      ]
    },
    {
      "cell_type": "markdown",
      "id": "b7786f7a",
      "metadata": {
        "id": "b7786f7a"
      },
      "source": [
        "# Booleanos: True, False\n"
      ]
    },
    {
      "cell_type": "code",
      "execution_count": null,
      "id": "df8694c5",
      "metadata": {
        "id": "df8694c5"
      },
      "outputs": [],
      "source": [
        "5 == 5                 # True       Operador de comparación: 'Igual a'"
      ]
    },
    {
      "cell_type": "code",
      "execution_count": null,
      "id": "2528485c",
      "metadata": {
        "id": "2528485c"
      },
      "outputs": [],
      "source": [
        "5 >= 7                 # False      Mayor o igual que"
      ]
    },
    {
      "cell_type": "code",
      "execution_count": null,
      "id": "57fc1da5",
      "metadata": {
        "id": "57fc1da5"
      },
      "outputs": [],
      "source": [
        "9 == '9'               # False"
      ]
    },
    {
      "cell_type": "code",
      "execution_count": null,
      "id": "db50c39e",
      "metadata": {
        "id": "db50c39e"
      },
      "outputs": [],
      "source": [
        "'Roma' > 'Bogotá'    # True"
      ]
    },
    {
      "cell_type": "code",
      "execution_count": null,
      "id": "232a68ba",
      "metadata": {
        "id": "232a68ba"
      },
      "outputs": [],
      "source": [
        "4 != 4                 # False    Operador de comparación: Distinto o 'no es igual a'"
      ]
    },
    {
      "cell_type": "markdown",
      "id": "64cab790",
      "metadata": {
        "id": "64cab790"
      },
      "source": [
        "## Comparación de Booleanos"
      ]
    },
    {
      "cell_type": "code",
      "execution_count": null,
      "id": "f68c8a65",
      "metadata": {
        "id": "f68c8a65"
      },
      "outputs": [],
      "source": [
        "True == True           # True"
      ]
    },
    {
      "cell_type": "code",
      "execution_count": null,
      "id": "05a3defa",
      "metadata": {
        "id": "05a3defa"
      },
      "outputs": [],
      "source": [
        "True == False          # False"
      ]
    },
    {
      "cell_type": "code",
      "execution_count": null,
      "id": "399a072f",
      "metadata": {
        "id": "399a072f"
      },
      "outputs": [],
      "source": [
        "True != False          # True"
      ]
    },
    {
      "cell_type": "markdown",
      "id": "f53d11a1",
      "metadata": {
        "id": "f53d11a1"
      },
      "source": [
        "### Verdadero es 1 y Falso es 0"
      ]
    },
    {
      "cell_type": "code",
      "execution_count": null,
      "id": "c971002f",
      "metadata": {
        "id": "c971002f"
      },
      "outputs": [],
      "source": [
        "True == 1              # True"
      ]
    },
    {
      "cell_type": "code",
      "execution_count": null,
      "id": "1b8e0cdc",
      "metadata": {
        "id": "1b8e0cdc"
      },
      "outputs": [],
      "source": [
        "False == 0             # True"
      ]
    },
    {
      "cell_type": "code",
      "execution_count": null,
      "id": "afb4fe60",
      "metadata": {
        "id": "afb4fe60"
      },
      "outputs": [],
      "source": [
        "True *3                # 3"
      ]
    },
    {
      "cell_type": "code",
      "execution_count": null,
      "id": "bd7872b7",
      "metadata": {
        "id": "bd7872b7"
      },
      "outputs": [],
      "source": [
        "2*(-True)+False+True   # -1"
      ]
    },
    {
      "cell_type": "code",
      "execution_count": null,
      "id": "e44b9664",
      "metadata": {
        "id": "e44b9664"
      },
      "outputs": [],
      "source": [
        "True > False           # True"
      ]
    },
    {
      "cell_type": "code",
      "execution_count": null,
      "id": "62e8618c",
      "metadata": {
        "id": "62e8618c"
      },
      "outputs": [],
      "source": [
        "False > True           # False"
      ]
    },
    {
      "cell_type": "code",
      "execution_count": null,
      "id": "ef4904f4",
      "metadata": {
        "id": "ef4904f4"
      },
      "outputs": [],
      "source": [
        "True * False           # 0"
      ]
    },
    {
      "cell_type": "markdown",
      "id": "3a67c098",
      "metadata": {
        "id": "3a67c098"
      },
      "source": [
        "## Comparando varios simultáneamente"
      ]
    },
    {
      "cell_type": "code",
      "execution_count": null,
      "id": "95560b07",
      "metadata": {
        "id": "95560b07"
      },
      "outputs": [],
      "source": [
        "1 < 2 < 3              # True"
      ]
    },
    {
      "cell_type": "markdown",
      "id": "2312cf05",
      "metadata": {
        "id": "2312cf05"
      },
      "source": [
        "## Operando con variables"
      ]
    },
    {
      "cell_type": "code",
      "execution_count": null,
      "id": "a3520208",
      "metadata": {
        "id": "a3520208"
      },
      "outputs": [],
      "source": [
        "a = 5\n",
        "b = 10\n",
        "b == 2*a               # True   No confundir == (comparación) con = (asignación)"
      ]
    },
    {
      "cell_type": "markdown",
      "id": "dcb0f085",
      "metadata": {
        "id": "dcb0f085"
      },
      "source": [
        "### Trabajando con strings"
      ]
    },
    {
      "cell_type": "code",
      "execution_count": null,
      "id": "6e7c3801",
      "metadata": {
        "id": "6e7c3801"
      },
      "outputs": [],
      "source": [
        "x = \"Python\"\n",
        "x[-1] == 'n'           # True"
      ]
    },
    {
      "cell_type": "markdown",
      "id": "380c7963",
      "metadata": {
        "id": "380c7963"
      },
      "source": [
        "## type()"
      ]
    },
    {
      "cell_type": "code",
      "execution_count": null,
      "id": "e7f6ece4",
      "metadata": {
        "id": "e7f6ece4"
      },
      "outputs": [],
      "source": [
        "type(False)"
      ]
    },
    {
      "cell_type": "code",
      "execution_count": null,
      "id": "49d448d5",
      "metadata": {
        "id": "49d448d5"
      },
      "outputs": [],
      "source": [
        "type(5)"
      ]
    },
    {
      "cell_type": "code",
      "execution_count": null,
      "id": "78106204",
      "metadata": {
        "id": "78106204"
      },
      "outputs": [],
      "source": [
        "type(\"Hola\")"
      ]
    },
    {
      "cell_type": "markdown",
      "id": "18bd64db",
      "metadata": {
        "id": "18bd64db"
      },
      "source": [
        "## not"
      ]
    },
    {
      "cell_type": "code",
      "execution_count": null,
      "id": "82da5b0c",
      "metadata": {
        "id": "82da5b0c"
      },
      "outputs": [],
      "source": [
        "not True               # False"
      ]
    },
    {
      "cell_type": "code",
      "execution_count": null,
      "id": "c88d5fe1",
      "metadata": {
        "id": "c88d5fe1"
      },
      "outputs": [],
      "source": [
        "not False              # True"
      ]
    },
    {
      "cell_type": "markdown",
      "id": "b16df3de",
      "metadata": {
        "id": "b16df3de"
      },
      "source": [
        "## Distinto ```!=```"
      ]
    },
    {
      "cell_type": "code",
      "execution_count": null,
      "id": "6e1042bc",
      "metadata": {
        "id": "6e1042bc"
      },
      "outputs": [],
      "source": [
        "4 != 4                 # False"
      ]
    },
    {
      "cell_type": "code",
      "execution_count": null,
      "id": "f43b201e",
      "metadata": {
        "id": "f43b201e"
      },
      "outputs": [],
      "source": [
        "4 != 5                 # True"
      ]
    },
    {
      "cell_type": "markdown",
      "id": "bbdaaf93",
      "metadata": {
        "id": "bbdaaf93"
      },
      "source": [
        "## Operador ```is``` y operador ```is not```\n",
        "Permiten comparar **objetos idénticos**."
      ]
    },
    {
      "cell_type": "code",
      "execution_count": null,
      "id": "ef86a604",
      "metadata": {
        "id": "ef86a604"
      },
      "outputs": [],
      "source": [
        "x = 5\n",
        "y = 5\n",
        "x is y                 # True"
      ]
    },
    {
      "cell_type": "markdown",
      "id": "cf79c500",
      "metadata": {
        "id": "cf79c500"
      },
      "source": [
        "Dos listas son idénticas cuando se trata del mismo objeto, cuando ocupan el mismo lugar en memoria."
      ]
    },
    {
      "cell_type": "code",
      "execution_count": null,
      "id": "e820b6c0",
      "metadata": {
        "id": "e820b6c0"
      },
      "outputs": [],
      "source": [
        "p = [1, 2, 3]\n",
        "q = [1, 2, 3]\n",
        "p is q                 # False  ¡Sorpresa!"
      ]
    },
    {
      "cell_type": "code",
      "execution_count": null,
      "id": "d6c03c21",
      "metadata": {
        "id": "d6c03c21"
      },
      "outputs": [],
      "source": [
        "p is not q             # True"
      ]
    },
    {
      "cell_type": "code",
      "execution_count": null,
      "id": "a207ec59",
      "metadata": {
        "id": "a207ec59"
      },
      "outputs": [],
      "source": [
        "p == q                 # True"
      ]
    },
    {
      "cell_type": "markdown",
      "id": "5a745ab4",
      "metadata": {
        "id": "5a745ab4"
      },
      "source": [
        "### Comprobación con el método ```id()```\n",
        "El método id() devuelve un identificador del **objeto**.  \n",
        "Veamos que ambos identificadores difieren."
      ]
    },
    {
      "cell_type": "code",
      "execution_count": null,
      "id": "59833715",
      "metadata": {
        "id": "59833715"
      },
      "outputs": [],
      "source": [
        "id(p)                  # identificador del objeto"
      ]
    },
    {
      "cell_type": "code",
      "execution_count": null,
      "id": "f61f6ed2",
      "metadata": {
        "id": "f61f6ed2"
      },
      "outputs": [],
      "source": [
        "id(q)                  # un identificador distinto"
      ]
    },
    {
      "cell_type": "markdown",
      "id": "233a517f",
      "metadata": {
        "id": "233a517f"
      },
      "source": [
        "### Idéntica lista"
      ]
    },
    {
      "cell_type": "code",
      "execution_count": null,
      "id": "8b34e1bf",
      "metadata": {
        "id": "8b34e1bf"
      },
      "outputs": [],
      "source": [
        "p = [1, 2, 3]\n",
        "q = p                  # q es una lista idéntica a p\n",
        "q"
      ]
    },
    {
      "cell_type": "code",
      "execution_count": null,
      "id": "48f91131",
      "metadata": {
        "id": "48f91131"
      },
      "outputs": [],
      "source": [
        "q is p                 # ambas listas ocupan el mismo lugar de memoria"
      ]
    },
    {
      "cell_type": "code",
      "execution_count": null,
      "id": "bcd834b9",
      "metadata": {
        "id": "bcd834b9"
      },
      "outputs": [],
      "source": [
        "id(p)                  # el identificador de la lista p"
      ]
    },
    {
      "cell_type": "code",
      "execution_count": null,
      "id": "68b2bfae",
      "metadata": {
        "id": "68b2bfae"
      },
      "outputs": [],
      "source": [
        "id(q)                  # es el mismo que el identificado de la lista q"
      ]
    }
  ],
  "metadata": {
    "kernelspec": {
      "display_name": "Python 3",
      "language": "python",
      "name": "python3"
    },
    "language_info": {
      "codemirror_mode": {
        "name": "ipython",
        "version": 3
      },
      "file_extension": ".py",
      "mimetype": "text/x-python",
      "name": "python",
      "nbconvert_exporter": "python",
      "pygments_lexer": "ipython3",
      "version": "3.8.8"
    },
    "colab": {
      "name": "calisto1_0120.ipynb",
      "provenance": [],
      "include_colab_link": true
    }
  },
  "nbformat": 4,
  "nbformat_minor": 5
}