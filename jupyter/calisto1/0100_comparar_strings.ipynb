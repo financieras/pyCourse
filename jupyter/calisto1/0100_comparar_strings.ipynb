{
  "cells": [
    {
      "cell_type": "markdown",
      "metadata": {
        "id": "view-in-github",
        "colab_type": "text"
      },
      "source": [
        "<a href=\"https://colab.research.google.com/github/financieras/pyCourse/blob/main/jupyter/calisto1/0100_comparar_strings.ipynb\" target=\"_parent\"><img src=\"https://colab.research.google.com/assets/colab-badge.svg\" alt=\"Open In Colab\"/></a>"
      ]
    },
    {
      "cell_type": "markdown",
      "id": "e89aa34d",
      "metadata": {
        "id": "e89aa34d"
      },
      "source": [
        "# Comparar strings"
      ]
    },
    {
      "cell_type": "code",
      "execution_count": null,
      "id": "48b0180b",
      "metadata": {
        "id": "48b0180b",
        "outputId": "5697e70d-1a4c-425c-ba6d-4ec735f84ad7",
        "colab": {
          "base_uri": "https://localhost:8080/"
        }
      },
      "outputs": [
        {
          "output_type": "execute_result",
          "data": {
            "text/plain": [
              "True"
            ]
          },
          "metadata": {},
          "execution_count": 1
        }
      ],
      "source": [
        "cadena1 = \"Hola\"                                          # con \"\"\n",
        "cadena2 = 'Hola'                                          # con ''\n",
        "cadena1 == cadena2                                        # True"
      ]
    },
    {
      "cell_type": "markdown",
      "id": "ffef0f9c",
      "metadata": {
        "id": "ffef0f9c"
      },
      "source": [
        "## Comillas dentro de comillas"
      ]
    },
    {
      "cell_type": "code",
      "execution_count": null,
      "id": "7199de29",
      "metadata": {
        "id": "7199de29"
      },
      "outputs": [],
      "source": [
        "#cadena3 = 'En los años 90's actuaban grandes bandas'     # error"
      ]
    },
    {
      "cell_type": "code",
      "execution_count": null,
      "id": "d0b07aaa",
      "metadata": {
        "id": "d0b07aaa",
        "outputId": "b57e6290-b5a8-4468-db89-df25c62a8df4",
        "colab": {
          "base_uri": "https://localhost:8080/"
        }
      },
      "outputs": [
        {
          "output_type": "stream",
          "name": "stdout",
          "text": [
            "En los años 90's actuaban grandes bandas\n"
          ]
        }
      ],
      "source": [
        "cadena3 = \"En los años 90's actuaban grandes bandas\"     # ahora funciona bien usando comillas dobles\n",
        "print(cadena3)"
      ]
    },
    {
      "cell_type": "code",
      "execution_count": null,
      "id": "a1768d79",
      "metadata": {
        "id": "a1768d79",
        "outputId": "142ee466-6217-4c8e-92c9-bb3f9ecada38",
        "colab": {
          "base_uri": "https://localhost:8080/"
        }
      },
      "outputs": [
        {
          "output_type": "stream",
          "name": "stdout",
          "text": [
            "En los años 90's actuaban grandes bandas\n"
          ]
        }
      ],
      "source": [
        "print('En los años 90\\'s actuaban grandes bandas')       # también funciona bien usando un carácter de escape"
      ]
    },
    {
      "cell_type": "markdown",
      "id": "08b7ca74",
      "metadata": {
        "id": "08b7ca74"
      },
      "source": [
        "## Caracteres de escape"
      ]
    },
    {
      "cell_type": "code",
      "execution_count": null,
      "id": "c9f63a92",
      "metadata": {
        "id": "c9f63a92",
        "outputId": "0f50842e-65cb-494d-fa71-be1baf094de3",
        "colab": {
          "base_uri": "https://localhost:8080/"
        }
      },
      "outputs": [
        {
          "output_type": "stream",
          "name": "stdout",
          "text": [
            "Secuencias de escape: \\  '  \"   \n"
          ]
        }
      ],
      "source": [
        "print('Secuencias de escape: \\\\  \\'  \\\"   ')"
      ]
    },
    {
      "cell_type": "markdown",
      "id": "18dd8b12",
      "metadata": {
        "id": "18dd8b12"
      },
      "source": [
        "## Tabuladores"
      ]
    },
    {
      "cell_type": "code",
      "execution_count": null,
      "id": "ce53d6c3",
      "metadata": {
        "id": "ce53d6c3",
        "outputId": "66910ce1-de1f-4bba-c54d-f963263120a2",
        "colab": {
          "base_uri": "https://localhost:8080/"
        }
      },
      "outputs": [
        {
          "output_type": "stream",
          "name": "stdout",
          "text": [
            "Mis amigos: \n",
            "Ana \tMadrid \n",
            "Luis \tSevilla \n",
            "Isabel \tSantander\n"
          ]
        }
      ],
      "source": [
        "print('Mis amigos: \\nAna \\tMadrid \\nLuis \\tSevilla \\nIsabel \\tSantander')"
      ]
    },
    {
      "cell_type": "code",
      "execution_count": null,
      "id": "7fe9ea09",
      "metadata": {
        "id": "7fe9ea09",
        "outputId": "34536d18-9270-4179-bd16-0f5d40f47ddc",
        "colab": {
          "base_uri": "https://localhost:8080/"
        }
      },
      "outputs": [
        {
          "output_type": "stream",
          "name": "stdout",
          "text": [
            "Tareas pendientes:\n",
            "\tBuscar destino para las próximas vacaciones\n",
            "\tBuscar una bici eléctrica\n"
          ]
        }
      ],
      "source": [
        "# En un párrafo usando comillas triples\n",
        "\n",
        "print('''Tareas pendientes:\n",
        "\\tBuscar destino para las próximas vacaciones\n",
        "\\tBuscar una bici eléctrica''')"
      ]
    },
    {
      "cell_type": "markdown",
      "id": "9608df85",
      "metadata": {
        "id": "9608df85"
      },
      "source": [
        "## Imprimir una variable"
      ]
    },
    {
      "cell_type": "code",
      "execution_count": null,
      "id": "598ef39f",
      "metadata": {
        "id": "598ef39f",
        "colab": {
          "base_uri": "https://localhost:8080/"
        },
        "outputId": "6b741c7c-bb9a-4597-a64d-ad75b8e7be23"
      },
      "outputs": [
        {
          "output_type": "stream",
          "name": "stdout",
          "text": [
            "Hola\n"
          ]
        }
      ],
      "source": [
        "a = \"Hola\"\n",
        "print(a)"
      ]
    },
    {
      "cell_type": "markdown",
      "id": "d2f245f7",
      "metadata": {
        "id": "d2f245f7"
      },
      "source": [
        "## Comillas triples\n",
        "Las triples comillas permiten imprimir varias líneas."
      ]
    },
    {
      "cell_type": "code",
      "execution_count": null,
      "id": "7d2e4516",
      "metadata": {
        "id": "7d2e4516",
        "colab": {
          "base_uri": "https://localhost:8080/"
        },
        "outputId": "13996bb0-4153-4c27-f41b-d55677d3578d"
      },
      "outputs": [
        {
          "output_type": "stream",
          "name": "stdout",
          "text": [
            "Esta es una frase que\n",
            "ocupa varias líneas y que va\n",
            "entre triples comillas que\n",
            "pueden ser simples o dobles.\n"
          ]
        }
      ],
      "source": [
        "b = '''Esta es una frase que\n",
        "ocupa varias líneas y que va\n",
        "entre triples comillas que\n",
        "pueden ser simples o dobles.'''\n",
        "print(b)"
      ]
    },
    {
      "cell_type": "markdown",
      "id": "e3357909",
      "metadata": {
        "id": "e3357909"
      },
      "source": [
        "## len()\n",
        "Proporciona la longitud de la cadena."
      ]
    },
    {
      "cell_type": "code",
      "execution_count": null,
      "id": "3e3c9ba9",
      "metadata": {
        "id": "3e3c9ba9",
        "outputId": "993df03d-52e2-4bf9-f91e-92426a35fccd",
        "colab": {
          "base_uri": "https://localhost:8080/"
        }
      },
      "outputs": [
        {
          "output_type": "execute_result",
          "data": {
            "text/plain": [
              "13"
            ]
          },
          "metadata": {},
          "execution_count": 10
        }
      ],
      "source": [
        "c = \"¡Hola, mundo!\"\n",
        "len(c)"
      ]
    },
    {
      "cell_type": "markdown",
      "id": "6fa1b9d6",
      "metadata": {
        "id": "6fa1b9d6"
      },
      "source": [
        "## in\n",
        "Permite detectar si una palabra está dentro de una frase."
      ]
    },
    {
      "cell_type": "code",
      "execution_count": null,
      "id": "93ce0cc7",
      "metadata": {
        "id": "93ce0cc7",
        "outputId": "da5f524d-da26-421b-9643-76fbed3ad63b",
        "colab": {
          "base_uri": "https://localhost:8080/"
        }
      },
      "outputs": [
        {
          "output_type": "execute_result",
          "data": {
            "text/plain": [
              "True"
            ]
          },
          "metadata": {},
          "execution_count": 11
        }
      ],
      "source": [
        "frase = \"La libertad, Sancho, es uno de los más preciosos dones que a los hombres dieron los cielos\"\n",
        "\"libertad\" in frase        # True"
      ]
    },
    {
      "cell_type": "markdown",
      "id": "df420b3b",
      "metadata": {
        "id": "df420b3b"
      },
      "source": [
        "## not in"
      ]
    },
    {
      "cell_type": "code",
      "execution_count": null,
      "id": "db0bfdf1",
      "metadata": {
        "id": "db0bfdf1",
        "outputId": "80d4d2c0-6776-443b-d3a6-8ae13edfba1e",
        "colab": {
          "base_uri": "https://localhost:8080/"
        }
      },
      "outputs": [
        {
          "output_type": "execute_result",
          "data": {
            "text/plain": [
              "True"
            ]
          },
          "metadata": {},
          "execution_count": 12
        }
      ],
      "source": [
        "frase = \"Todos los seres humanos nacen libres e iguales en dignidad y derechos\"\n",
        "\"Sancho\" not in frase      # True"
      ]
    },
    {
      "cell_type": "markdown",
      "id": "04cc683b",
      "metadata": {
        "id": "04cc683b"
      },
      "source": [
        "## Orden alfabético"
      ]
    },
    {
      "cell_type": "code",
      "execution_count": null,
      "id": "4a486dc4",
      "metadata": {
        "id": "4a486dc4",
        "outputId": "aa880e12-03c8-4c32-d8f4-193584923c7f",
        "colab": {
          "base_uri": "https://localhost:8080/"
        }
      },
      "outputs": [
        {
          "output_type": "execute_result",
          "data": {
            "text/plain": [
              "True"
            ]
          },
          "metadata": {},
          "execution_count": 13
        }
      ],
      "source": [
        "\"b\" > \"a\"                  # True"
      ]
    },
    {
      "cell_type": "code",
      "execution_count": null,
      "id": "745dba35",
      "metadata": {
        "id": "745dba35",
        "outputId": "6239559f-ace7-4cd9-8ff5-1c08397a2266",
        "colab": {
          "base_uri": "https://localhost:8080/"
        }
      },
      "outputs": [
        {
          "output_type": "execute_result",
          "data": {
            "text/plain": [
              "False"
            ]
          },
          "metadata": {},
          "execution_count": 14
        }
      ],
      "source": [
        "\"naciente\" > \"yaciente\"    # False"
      ]
    },
    {
      "cell_type": "markdown",
      "id": "17e073bf",
      "metadata": {
        "id": "17e073bf"
      },
      "source": [
        "## Concatenar"
      ]
    },
    {
      "cell_type": "code",
      "execution_count": null,
      "id": "629e9e70",
      "metadata": {
        "id": "629e9e70",
        "colab": {
          "base_uri": "https://localhost:8080/",
          "height": 35
        },
        "outputId": "646eeea0-1247-4e38-ab3e-1564e18ad910"
      },
      "outputs": [
        {
          "output_type": "execute_result",
          "data": {
            "text/plain": [
              "'buenaaventura'"
            ],
            "application/vnd.google.colaboratory.intrinsic+json": {
              "type": "string"
            }
          },
          "metadata": {},
          "execution_count": 15
        }
      ],
      "source": [
        "\"buena\" + \"aventura\""
      ]
    },
    {
      "cell_type": "code",
      "execution_count": null,
      "id": "aa3862cb",
      "metadata": {
        "id": "aa3862cb",
        "colab": {
          "base_uri": "https://localhost:8080/",
          "height": 35
        },
        "outputId": "08a7bf63-3452-40d5-be7c-2b341f6bc2af"
      },
      "outputs": [
        {
          "output_type": "execute_result",
          "data": {
            "text/plain": [
              "'enhorabuena'"
            ],
            "application/vnd.google.colaboratory.intrinsic+json": {
              "type": "string"
            }
          },
          "metadata": {},
          "execution_count": 16
        }
      ],
      "source": [
        "'en' 'hora' 'buena'    # también podemos separar los strings con un espacio"
      ]
    },
    {
      "cell_type": "markdown",
      "id": "e7830ad5",
      "metadata": {
        "id": "e7830ad5"
      },
      "source": [
        "## replace()"
      ]
    },
    {
      "cell_type": "code",
      "execution_count": null,
      "id": "9b8aaa27",
      "metadata": {
        "id": "9b8aaa27",
        "colab": {
          "base_uri": "https://localhost:8080/",
          "height": 35
        },
        "outputId": "4ed5c15d-fd9d-4cdd-c23f-12a7db045573"
      },
      "outputs": [
        {
          "output_type": "execute_result",
          "data": {
            "text/plain": [
              "'mola'"
            ],
            "application/vnd.google.colaboratory.intrinsic+json": {
              "type": "string"
            }
          },
          "metadata": {},
          "execution_count": 17
        }
      ],
      "source": [
        "\"hola\".replace('h','m')"
      ]
    },
    {
      "cell_type": "code",
      "execution_count": null,
      "id": "d2fe0f10",
      "metadata": {
        "id": "d2fe0f10",
        "colab": {
          "base_uri": "https://localhost:8080/",
          "height": 35
        },
        "outputId": "8822bb33-4152-478c-9950-012dcb4dc864"
      },
      "outputs": [
        {
          "output_type": "execute_result",
          "data": {
            "text/plain": [
              "'Voy a Niza'"
            ],
            "application/vnd.google.colaboratory.intrinsic+json": {
              "type": "string"
            }
          },
          "metadata": {},
          "execution_count": 18
        }
      ],
      "source": [
        "\"Voy a Roma\".replace(\"Roma\",\"Niza\")"
      ]
    }
  ],
  "metadata": {
    "kernelspec": {
      "display_name": "Python 3 (ipykernel)",
      "language": "python",
      "name": "python3"
    },
    "language_info": {
      "codemirror_mode": {
        "name": "ipython",
        "version": 3
      },
      "file_extension": ".py",
      "mimetype": "text/x-python",
      "name": "python",
      "nbconvert_exporter": "python",
      "pygments_lexer": "ipython3",
      "version": "3.8.11"
    },
    "colab": {
      "name": "calisto1_0100.ipynb",
      "provenance": [],
      "include_colab_link": true
    }
  },
  "nbformat": 4,
  "nbformat_minor": 5
}