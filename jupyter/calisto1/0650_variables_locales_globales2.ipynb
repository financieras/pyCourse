{
  "cells": [
    {
      "cell_type": "markdown",
      "metadata": {
        "id": "view-in-github",
        "colab_type": "text"
      },
      "source": [
        "<a href=\"https://colab.research.google.com/github/financieras/pyCourse/blob/main/jupyter/calisto1/0650_variables_locales_globales2.ipynb\" target=\"_parent\"><img src=\"https://colab.research.google.com/assets/colab-badge.svg\" alt=\"Open In Colab\"/></a>"
      ]
    },
    {
      "cell_type": "markdown",
      "metadata": {
        "id": "6okvJMhzoQPB"
      },
      "source": [
        "# Funciones. Variables globales y variables locales [2]"
      ],
      "id": "6okvJMhzoQPB"
    },
    {
      "cell_type": "code",
      "execution_count": null,
      "metadata": {
        "id": "-CUhhUhToQPJ",
        "outputId": "f8479c8d-a643-4cc2-c3c9-09003ca98feb",
        "colab": {
          "base_uri": "https://localhost:8080/"
        }
      },
      "outputs": [
        {
          "output_type": "stream",
          "name": "stdout",
          "text": [
            "10\n"
          ]
        }
      ],
      "source": [
        "n = 10\n",
        "\n",
        "def incrementa_uno(n):\n",
        "    n += 1\n",
        "    return n\n",
        "\n",
        "incrementa_uno(n)\n",
        "print(n)                   # 10  El valor de la variable n sigue siendo 10"
      ],
      "id": "-CUhhUhToQPJ"
    },
    {
      "cell_type": "code",
      "execution_count": null,
      "metadata": {
        "id": "ybNdHve9oQPM",
        "outputId": "9bb06b1c-b632-42d2-ddc8-cd40b048cbbd",
        "colab": {
          "base_uri": "https://localhost:8080/"
        }
      },
      "outputs": [
        {
          "output_type": "stream",
          "name": "stdout",
          "text": [
            "11\n",
            "10\n"
          ]
        }
      ],
      "source": [
        "n = 10\n",
        "\n",
        "def incrementa_uno(n):\n",
        "    n += 1\n",
        "    return n\n",
        "\n",
        "print(incrementa_uno(n))   # 11  La función retorna 11\n",
        "print(n)                   # 10  El valor de la variable n sigue siendo 10\n"
      ],
      "id": "ybNdHve9oQPM"
    },
    {
      "cell_type": "code",
      "execution_count": null,
      "metadata": {
        "id": "BP6VTLwXoQPO",
        "outputId": "46ca12ed-43c6-46c0-f850-c3d2f094fdbb",
        "colab": {
          "base_uri": "https://localhost:8080/"
        }
      },
      "outputs": [
        {
          "output_type": "stream",
          "name": "stdout",
          "text": [
            "11\n"
          ]
        }
      ],
      "source": [
        "n = 10\n",
        "\n",
        "def incrementa_uno(n):\n",
        "    n+=1\n",
        "    return n\n",
        "\n",
        "n = incrementa_uno(n)      # la variable n toma el valor retornado por la función\n",
        "print(n)                   # 11  Ahora estamos imprimiendo n que es el valor retornado"
      ],
      "id": "BP6VTLwXoQPO"
    }
  ],
  "metadata": {
    "kernelspec": {
      "display_name": "Python 3",
      "language": "python",
      "name": "python3"
    },
    "language_info": {
      "codemirror_mode": {
        "name": "ipython",
        "version": 3
      },
      "file_extension": ".py",
      "mimetype": "text/x-python",
      "name": "python",
      "nbconvert_exporter": "python",
      "pygments_lexer": "ipython3",
      "version": "3.8.5"
    },
    "colab": {
      "name": "0650_variables_locales_globales2.ipynb",
      "provenance": [],
      "include_colab_link": true
    }
  },
  "nbformat": 4,
  "nbformat_minor": 5
}