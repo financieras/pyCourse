{
  "cells": [
    {
      "cell_type": "markdown",
      "metadata": {
        "id": "view-in-github",
        "colab_type": "text"
      },
      "source": [
        "<a href=\"https://colab.research.google.com/github/financieras/pyCourse/blob/main/jupyter/calisto1/0340_operadores_de_identidad.ipynb\" target=\"_parent\"><img src=\"https://colab.research.google.com/assets/colab-badge.svg\" alt=\"Open In Colab\"/></a>"
      ]
    },
    {
      "cell_type": "markdown",
      "id": "4e371eff",
      "metadata": {
        "id": "4e371eff"
      },
      "source": [
        "# Operadores de identidad: ```is```, ```is not```"
      ]
    },
    {
      "cell_type": "markdown",
      "id": "f818fd34",
      "metadata": {
        "id": "f818fd34"
      },
      "source": [
        "Vemos que a y b son números enteros del mismo valor, por lo que son tanto iguales como idénticos."
      ]
    },
    {
      "cell_type": "code",
      "execution_count": 1,
      "id": "4356c4f7",
      "metadata": {
        "id": "4356c4f7",
        "outputId": "aabaabcf-8e3b-4e47-b09d-921468f7f2da",
        "colab": {
          "base_uri": "https://localhost:8080/"
        }
      },
      "outputs": [
        {
          "output_type": "execute_result",
          "data": {
            "text/plain": [
              "True"
            ]
          },
          "metadata": {},
          "execution_count": 1
        }
      ],
      "source": [
        "a = 5                  # con números\n",
        "b = 5\n",
        "a is b                 # a y b son idénticos = iguales y además del mismo tipo"
      ]
    },
    {
      "cell_type": "code",
      "execution_count": 2,
      "id": "d8ede79b",
      "metadata": {
        "id": "d8ede79b",
        "outputId": "9241c12c-6c2a-4bf5-f22b-07096fa35263",
        "colab": {
          "base_uri": "https://localhost:8080/"
        }
      },
      "outputs": [
        {
          "output_type": "execute_result",
          "data": {
            "text/plain": [
              "False"
            ]
          },
          "metadata": {},
          "execution_count": 2
        }
      ],
      "source": [
        "a = 5.0\n",
        "b = 5\n",
        "a is b                 # a y b ahora ya no son idénticos, ya que son iguales pero no del mismo tipo"
      ]
    },
    {
      "cell_type": "code",
      "execution_count": 3,
      "id": "d348b407",
      "metadata": {
        "id": "d348b407",
        "outputId": "9a230c71-a80d-4621-92e0-f0937d4241a0",
        "colab": {
          "base_uri": "https://localhost:8080/"
        }
      },
      "outputs": [
        {
          "output_type": "execute_result",
          "data": {
            "text/plain": [
              "True"
            ]
          },
          "metadata": {},
          "execution_count": 3
        }
      ],
      "source": [
        "a == b"
      ]
    },
    {
      "cell_type": "markdown",
      "id": "627fc265",
      "metadata": {
        "id": "627fc265"
      },
      "source": [
        "Vemos que c y d son strings iguales y por lo tanto idénticos."
      ]
    },
    {
      "cell_type": "code",
      "execution_count": 4,
      "id": "3dc804d0",
      "metadata": {
        "id": "3dc804d0",
        "outputId": "ba3b5ec4-78be-4849-f72d-1fea2c157d04",
        "colab": {
          "base_uri": "https://localhost:8080/"
        }
      },
      "outputs": [
        {
          "output_type": "execute_result",
          "data": {
            "text/plain": [
              "True"
            ]
          },
          "metadata": {},
          "execution_count": 4
        }
      ],
      "source": [
        "c = \"azul\"             # con strings\n",
        "d = \"azul\"\n",
        "c is d"
      ]
    },
    {
      "cell_type": "code",
      "execution_count": 5,
      "id": "1aabba23",
      "metadata": {
        "id": "1aabba23",
        "outputId": "21d29299-261e-4904-df6d-81ba7d82893c",
        "colab": {
          "base_uri": "https://localhost:8080/"
        }
      },
      "outputs": [
        {
          "output_type": "execute_result",
          "data": {
            "text/plain": [
              "True"
            ]
          },
          "metadata": {},
          "execution_count": 5
        }
      ],
      "source": [
        "c == d"
      ]
    },
    {
      "cell_type": "code",
      "execution_count": 6,
      "id": "44c93cc7",
      "metadata": {
        "id": "44c93cc7",
        "outputId": "444adafb-f854-4e22-85ff-34f47bb01cd2",
        "colab": {
          "base_uri": "https://localhost:8080/"
        }
      },
      "outputs": [
        {
          "output_type": "execute_result",
          "data": {
            "text/plain": [
              "True"
            ]
          },
          "metadata": {},
          "execution_count": 6
        }
      ],
      "source": [
        "x = \"Madrid\"\n",
        "y = \"madrid\"\n",
        "x is not y"
      ]
    },
    {
      "cell_type": "code",
      "execution_count": 7,
      "id": "98fca1a2",
      "metadata": {
        "id": "98fca1a2",
        "outputId": "1dcedbf6-cae9-422c-eb06-27ace0253c40",
        "colab": {
          "base_uri": "https://localhost:8080/"
        }
      },
      "outputs": [
        {
          "output_type": "execute_result",
          "data": {
            "text/plain": [
              "True"
            ]
          },
          "metadata": {},
          "execution_count": 7
        }
      ],
      "source": [
        "x != y"
      ]
    },
    {
      "cell_type": "markdown",
      "id": "cd864918",
      "metadata": {
        "id": "cd864918"
      },
      "source": [
        "Con listas hemos de tener cuidado ya que iguales no significa idénticos ya que dos listas ocupan distinto lugar en la memoria del ordenador."
      ]
    },
    {
      "cell_type": "code",
      "execution_count": 8,
      "id": "387c6005",
      "metadata": {
        "id": "387c6005",
        "outputId": "78de78ab-5477-4d67-89d0-4b206d2bcb47",
        "colab": {
          "base_uri": "https://localhost:8080/"
        }
      },
      "outputs": [
        {
          "output_type": "execute_result",
          "data": {
            "text/plain": [
              "True"
            ]
          },
          "metadata": {},
          "execution_count": 8
        }
      ],
      "source": [
        "list1 = [1,2,3]        # con listas\n",
        "list2 = [1,2,3]\n",
        "list1 == list2"
      ]
    },
    {
      "cell_type": "markdown",
      "id": "bd849797",
      "metadata": {
        "id": "bd849797"
      },
      "source": [
        "Con listas el intérprete las ubica por separado en la memoria, aunque son iguales."
      ]
    },
    {
      "cell_type": "code",
      "execution_count": 9,
      "id": "cbb2e51d",
      "metadata": {
        "id": "cbb2e51d",
        "outputId": "8fa20e36-003c-41f7-88a0-5074d999b9c7",
        "colab": {
          "base_uri": "https://localhost:8080/"
        }
      },
      "outputs": [
        {
          "output_type": "execute_result",
          "data": {
            "text/plain": [
              "False"
            ]
          },
          "metadata": {},
          "execution_count": 9
        }
      ],
      "source": [
        "list1 is list2         # Las listas 1 y 2 no son idénticas ya que ocupan distinto lugar en la memoria RAM"
      ]
    },
    {
      "cell_type": "code",
      "execution_count": 10,
      "id": "8e0e080f",
      "metadata": {
        "id": "8e0e080f",
        "outputId": "75eef85c-9b8d-4e12-dc4e-de0c1cc3c4a0",
        "colab": {
          "base_uri": "https://localhost:8080/"
        }
      },
      "outputs": [
        {
          "output_type": "execute_result",
          "data": {
            "text/plain": [
              "['ene', 'feb', 'mar']"
            ]
          },
          "metadata": {},
          "execution_count": 10
        }
      ],
      "source": [
        "meses1 = ['ene', 'feb', 'mar' ]\n",
        "meses2 = meses1              #al hacer meses2=meses1 se hace una copia idéntica que ocupa el mismo lugar de memoria\n",
        "meses2"
      ]
    },
    {
      "cell_type": "code",
      "execution_count": 11,
      "id": "d59982f6",
      "metadata": {
        "id": "d59982f6",
        "outputId": "9a4d3580-b038-4262-f562-7c076cb8dd4e",
        "colab": {
          "base_uri": "https://localhost:8080/"
        }
      },
      "outputs": [
        {
          "output_type": "execute_result",
          "data": {
            "text/plain": [
              "['ene', 'feb', 'mar', 'abr']"
            ]
          },
          "metadata": {},
          "execution_count": 11
        }
      ],
      "source": [
        "meses1.append('abr')\n",
        "meses1"
      ]
    },
    {
      "cell_type": "code",
      "execution_count": 12,
      "id": "0575479c",
      "metadata": {
        "id": "0575479c",
        "outputId": "665de270-800a-433f-af9a-18626274b4bb",
        "colab": {
          "base_uri": "https://localhost:8080/"
        }
      },
      "outputs": [
        {
          "output_type": "execute_result",
          "data": {
            "text/plain": [
              "True"
            ]
          },
          "metadata": {},
          "execution_count": 12
        }
      ],
      "source": [
        "meses2 is meses1            # SORPRESA ahora ambas listas son idénticas"
      ]
    },
    {
      "cell_type": "markdown",
      "id": "422b82d9",
      "metadata": {
        "id": "422b82d9"
      },
      "source": [
        "Veamos como copiar una lista sin que la copia se idéntica."
      ]
    },
    {
      "cell_type": "code",
      "execution_count": 13,
      "id": "42424ad9",
      "metadata": {
        "id": "42424ad9",
        "outputId": "36f36898-0df9-4b90-eca0-4ccd21af2fed",
        "colab": {
          "base_uri": "https://localhost:8080/"
        }
      },
      "outputs": [
        {
          "output_type": "execute_result",
          "data": {
            "text/plain": [
              "['lun', 'mar', 'mie']"
            ]
          },
          "metadata": {},
          "execution_count": 13
        }
      ],
      "source": [
        "dias1 = ['lun', 'mar', 'mie']\n",
        "dias2 = dias1[:]             # ahora dias2 es una lista igual que dias1 pero independiente, distinta memoria\n",
        "dias2"
      ]
    },
    {
      "cell_type": "code",
      "execution_count": 14,
      "id": "1e74fbfb",
      "metadata": {
        "id": "1e74fbfb",
        "outputId": "f6110724-f9fb-4449-a06a-ed15994fff66",
        "colab": {
          "base_uri": "https://localhost:8080/"
        }
      },
      "outputs": [
        {
          "output_type": "execute_result",
          "data": {
            "text/plain": [
              "False"
            ]
          },
          "metadata": {},
          "execution_count": 14
        }
      ],
      "source": [
        "dias2 is dias1"
      ]
    },
    {
      "cell_type": "code",
      "execution_count": 15,
      "id": "9e53cb54",
      "metadata": {
        "id": "9e53cb54",
        "outputId": "bd88b2f3-60e1-4867-f0bf-3ccbfc803c09",
        "colab": {
          "base_uri": "https://localhost:8080/"
        }
      },
      "outputs": [
        {
          "output_type": "execute_result",
          "data": {
            "text/plain": [
              "['lun', 'mar', 'mie', 'jue']"
            ]
          },
          "metadata": {},
          "execution_count": 15
        }
      ],
      "source": [
        "dias1.append('jue')          # añadimos un elemento más a la lista dias1\n",
        "dias1"
      ]
    },
    {
      "cell_type": "code",
      "execution_count": 16,
      "id": "1b79eff2",
      "metadata": {
        "id": "1b79eff2",
        "outputId": "a1b5e211-1469-44ef-fc00-c67e65bd3e3a",
        "colab": {
          "base_uri": "https://localhost:8080/"
        }
      },
      "outputs": [
        {
          "output_type": "execute_result",
          "data": {
            "text/plain": [
              "['lun', 'mar', 'mie']"
            ]
          },
          "metadata": {},
          "execution_count": 16
        }
      ],
      "source": [
        "dias2                        # podemos comprobar que la lista dias2 es independiente, no se añade el jueves"
      ]
    },
    {
      "cell_type": "markdown",
      "id": "4a5c301a",
      "metadata": {
        "id": "4a5c301a"
      },
      "source": [
        "# all, not all, any"
      ]
    },
    {
      "cell_type": "code",
      "execution_count": 17,
      "id": "46b7f8af",
      "metadata": {
        "id": "46b7f8af",
        "outputId": "06aad2e5-4236-4731-8c91-3b061200f6c4",
        "colab": {
          "base_uri": "https://localhost:8080/"
        }
      },
      "outputs": [
        {
          "output_type": "execute_result",
          "data": {
            "text/plain": [
              "True"
            ]
          },
          "metadata": {},
          "execution_count": 17
        }
      ],
      "source": [
        "all([True, True, True])        # si todos son verdad da verdadero"
      ]
    },
    {
      "cell_type": "code",
      "execution_count": 18,
      "id": "d1ed4c3a",
      "metadata": {
        "id": "d1ed4c3a",
        "outputId": "bc34f46a-f1ef-4361-862b-ee3414d78b23",
        "colab": {
          "base_uri": "https://localhost:8080/"
        }
      },
      "outputs": [
        {
          "output_type": "execute_result",
          "data": {
            "text/plain": [
              "True"
            ]
          },
          "metadata": {},
          "execution_count": 18
        }
      ],
      "source": [
        "all({True, True, True})        # también funciona con conjuntos (set)"
      ]
    },
    {
      "cell_type": "code",
      "execution_count": 19,
      "id": "4c85d774",
      "metadata": {
        "id": "4c85d774",
        "outputId": "ffdd965d-a6f2-411a-8763-95884357be03",
        "colab": {
          "base_uri": "https://localhost:8080/"
        }
      },
      "outputs": [
        {
          "output_type": "execute_result",
          "data": {
            "text/plain": [
              "True"
            ]
          },
          "metadata": {},
          "execution_count": 19
        }
      ],
      "source": [
        "all((True, True, True))        # también funciona con tuplas"
      ]
    },
    {
      "cell_type": "code",
      "execution_count": 20,
      "id": "30710db7",
      "metadata": {
        "id": "30710db7",
        "outputId": "4eb0ad17-d510-4448-8fcc-2ed76e12aad2",
        "colab": {
          "base_uri": "https://localhost:8080/"
        }
      },
      "outputs": [
        {
          "output_type": "execute_result",
          "data": {
            "text/plain": [
              "False"
            ]
          },
          "metadata": {},
          "execution_count": 20
        }
      ],
      "source": [
        "not all([True, True, True])    # False"
      ]
    },
    {
      "cell_type": "code",
      "execution_count": 21,
      "id": "75c58636",
      "metadata": {
        "id": "75c58636",
        "outputId": "af7baa49-5b57-40b4-9061-409890a20c4b",
        "colab": {
          "base_uri": "https://localhost:8080/"
        }
      },
      "outputs": [
        {
          "output_type": "execute_result",
          "data": {
            "text/plain": [
              "True"
            ]
          },
          "metadata": {},
          "execution_count": 21
        }
      ],
      "source": [
        "not all([True, True, False])   # True"
      ]
    },
    {
      "cell_type": "code",
      "execution_count": 22,
      "id": "a0b8b01a",
      "metadata": {
        "id": "a0b8b01a",
        "outputId": "4098c1c7-c45a-4c94-d4ec-f0bdff017b09",
        "colab": {
          "base_uri": "https://localhost:8080/"
        }
      },
      "outputs": [
        {
          "output_type": "execute_result",
          "data": {
            "text/plain": [
              "True"
            ]
          },
          "metadata": {},
          "execution_count": 22
        }
      ],
      "source": [
        "any([False, True, False])      # si alguno es verdadero da verdadero"
      ]
    },
    {
      "cell_type": "code",
      "execution_count": 23,
      "id": "e95a78e9",
      "metadata": {
        "id": "e95a78e9",
        "outputId": "28656e0e-11fc-4b66-bee7-e5f98fcec57d",
        "colab": {
          "base_uri": "https://localhost:8080/"
        }
      },
      "outputs": [
        {
          "output_type": "execute_result",
          "data": {
            "text/plain": [
              "False"
            ]
          },
          "metadata": {},
          "execution_count": 23
        }
      ],
      "source": [
        "any([False, False, False])     # solo da False si todos lo son"
      ]
    },
    {
      "cell_type": "markdown",
      "id": "9c86d0c4",
      "metadata": {
        "id": "9c86d0c4"
      },
      "source": [
        "### Ejemplo\n",
        "Generar una lista de 5 x 2 (filas x columnas) donde sus elementos contienen números aleatorios entre 1 y 9.  "
      ]
    },
    {
      "cell_type": "code",
      "execution_count": 24,
      "id": "6ae9de8a",
      "metadata": {
        "id": "6ae9de8a",
        "outputId": "45907e06-03d6-49b0-b779-6a01c07f2f69",
        "colab": {
          "base_uri": "https://localhost:8080/"
        }
      },
      "outputs": [
        {
          "output_type": "execute_result",
          "data": {
            "text/plain": [
              "[[3, 5], [9, 2], [7, 4], [1, 9], [5, 4]]"
            ]
          },
          "metadata": {},
          "execution_count": 24
        }
      ],
      "source": [
        "from random import randint as rnd\n",
        "\n",
        "l = [[rnd(1,10), rnd(1,10)] for i in range(5)]\n",
        "l"
      ]
    },
    {
      "cell_type": "markdown",
      "id": "79f626d1",
      "metadata": {
        "id": "79f626d1"
      },
      "source": [
        "Crear una tercera columna que indique si el primero es mayor (flag==1), o bien menor o igual (flag==0) que el segundo."
      ]
    },
    {
      "cell_type": "code",
      "execution_count": 25,
      "id": "451652a4",
      "metadata": {
        "id": "451652a4",
        "outputId": "4c7cbfa6-6d3a-4c02-a484-5e0ae06c5988",
        "colab": {
          "base_uri": "https://localhost:8080/"
        }
      },
      "outputs": [
        {
          "output_type": "execute_result",
          "data": {
            "text/plain": [
              "[[3, 5, 0], [9, 2, 1], [7, 4, 1], [1, 9, 0], [5, 4, 1]]"
            ]
          },
          "metadata": {},
          "execution_count": 25
        }
      ],
      "source": [
        "for i in range(len(l)):\n",
        "    if l[i][0] > l[i][1]: l[i] = l[i] + [1]\n",
        "    else: l[i] = l[i] + [0]\n",
        "l"
      ]
    },
    {
      "cell_type": "markdown",
      "id": "09f56b7b",
      "metadata": {
        "id": "09f56b7b"
      },
      "source": [
        "Si todas las banderas (flag) son 1 (True) imprimir \"El Objetivo si se ha conseguido\""
      ]
    },
    {
      "cell_type": "code",
      "execution_count": 26,
      "id": "061268f7",
      "metadata": {
        "id": "061268f7",
        "outputId": "becbfa6d-4e60-410d-edc3-958b9d4d3e12",
        "colab": {
          "base_uri": "https://localhost:8080/"
        }
      },
      "outputs": [
        {
          "output_type": "execute_result",
          "data": {
            "text/plain": [
              "False"
            ]
          },
          "metadata": {},
          "execution_count": 26
        }
      ],
      "source": [
        "all(flag == 1 for (_, _, flag) in l)    # así detectamos que todas las banderas son 1"
      ]
    },
    {
      "cell_type": "code",
      "execution_count": 27,
      "id": "a96d961e",
      "metadata": {
        "id": "a96d961e",
        "outputId": "eb48bd47-c91c-40ac-f44f-e28bd366add4",
        "colab": {
          "base_uri": "https://localhost:8080/"
        }
      },
      "outputs": [
        {
          "output_type": "execute_result",
          "data": {
            "text/plain": [
              "False"
            ]
          },
          "metadata": {},
          "execution_count": 27
        }
      ],
      "source": [
        "all([x[2] == 1 for x in l])             # otra forma de detectarlo"
      ]
    }
  ],
  "metadata": {
    "kernelspec": {
      "display_name": "Python 3",
      "language": "python",
      "name": "python3"
    },
    "language_info": {
      "codemirror_mode": {
        "name": "ipython",
        "version": 3
      },
      "file_extension": ".py",
      "mimetype": "text/x-python",
      "name": "python",
      "nbconvert_exporter": "python",
      "pygments_lexer": "ipython3",
      "version": "3.8.8"
    },
    "colab": {
      "name": "0340_operadores_de_identidad.ipynb",
      "provenance": [],
      "include_colab_link": true
    }
  },
  "nbformat": 4,
  "nbformat_minor": 5
}