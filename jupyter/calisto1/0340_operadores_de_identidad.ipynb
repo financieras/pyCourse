{
  "cells": [
    {
      "cell_type": "markdown",
      "metadata": {
        "id": "view-in-github",
        "colab_type": "text"
      },
      "source": [
        "<a href=\"https://colab.research.google.com/github/financieras/pyCourse/blob/main/jupyter/calisto1/0340_operadores_de_identidad.ipynb\" target=\"_parent\"><img src=\"https://colab.research.google.com/assets/colab-badge.svg\" alt=\"Open In Colab\"/></a>"
      ]
    },
    {
      "cell_type": "markdown",
      "id": "4e371eff",
      "metadata": {
        "id": "4e371eff"
      },
      "source": [
        "# Operadores de identidad: ```is```, ```is not```"
      ]
    },
    {
      "cell_type": "markdown",
      "id": "f818fd34",
      "metadata": {
        "id": "f818fd34"
      },
      "source": [
        "Vemos que a y b son números enteros del mismo valor, por lo que son tanto iguales como idénticos."
      ]
    },
    {
      "cell_type": "code",
      "execution_count": 1,
      "id": "4356c4f7",
      "metadata": {
        "id": "4356c4f7",
        "outputId": "b0d8db87-8905-42dd-9a11-2c14fff9dca9",
        "colab": {
          "base_uri": "https://localhost:8080/"
        }
      },
      "outputs": [
        {
          "output_type": "execute_result",
          "data": {
            "text/plain": [
              "True"
            ]
          },
          "metadata": {},
          "execution_count": 1
        }
      ],
      "source": [
        "a = 5                  # con números\n",
        "b = 5\n",
        "a is b                 # a y b son idénticos = iguales y además del mismo tipo"
      ]
    },
    {
      "cell_type": "code",
      "execution_count": 2,
      "id": "d8ede79b",
      "metadata": {
        "id": "d8ede79b",
        "outputId": "48e75c38-eddf-48b8-9b5e-c982dd542151",
        "colab": {
          "base_uri": "https://localhost:8080/"
        }
      },
      "outputs": [
        {
          "output_type": "execute_result",
          "data": {
            "text/plain": [
              "False"
            ]
          },
          "metadata": {},
          "execution_count": 2
        }
      ],
      "source": [
        "a = 5.0\n",
        "b = 5\n",
        "a is b                 # a y b ahora ya no son idénticos, ya que son iguales pero no del mismo tipo"
      ]
    },
    {
      "cell_type": "code",
      "execution_count": 3,
      "id": "d348b407",
      "metadata": {
        "id": "d348b407",
        "outputId": "e3e902c4-14cb-425d-adf9-dc4e79c9d7f5",
        "colab": {
          "base_uri": "https://localhost:8080/"
        }
      },
      "outputs": [
        {
          "output_type": "execute_result",
          "data": {
            "text/plain": [
              "True"
            ]
          },
          "metadata": {},
          "execution_count": 3
        }
      ],
      "source": [
        "a == b"
      ]
    },
    {
      "cell_type": "markdown",
      "id": "627fc265",
      "metadata": {
        "id": "627fc265"
      },
      "source": [
        "Vemos que c y d son strings iguales y por lo tanto idénticos."
      ]
    },
    {
      "cell_type": "code",
      "execution_count": 4,
      "id": "3dc804d0",
      "metadata": {
        "id": "3dc804d0",
        "outputId": "dd389582-0360-4423-89af-65325d94db32",
        "colab": {
          "base_uri": "https://localhost:8080/"
        }
      },
      "outputs": [
        {
          "output_type": "execute_result",
          "data": {
            "text/plain": [
              "True"
            ]
          },
          "metadata": {},
          "execution_count": 4
        }
      ],
      "source": [
        "c = \"azul\"             # con strings\n",
        "d = \"azul\"\n",
        "c is d"
      ]
    },
    {
      "cell_type": "code",
      "execution_count": 5,
      "id": "1aabba23",
      "metadata": {
        "id": "1aabba23",
        "outputId": "02e0ae83-b651-402f-f865-d2176f2035c0",
        "colab": {
          "base_uri": "https://localhost:8080/"
        }
      },
      "outputs": [
        {
          "output_type": "execute_result",
          "data": {
            "text/plain": [
              "True"
            ]
          },
          "metadata": {},
          "execution_count": 5
        }
      ],
      "source": [
        "c == d"
      ]
    },
    {
      "cell_type": "code",
      "execution_count": 6,
      "id": "44c93cc7",
      "metadata": {
        "id": "44c93cc7",
        "outputId": "1d538d27-c1be-48df-a59e-019df76ccd7a",
        "colab": {
          "base_uri": "https://localhost:8080/"
        }
      },
      "outputs": [
        {
          "output_type": "execute_result",
          "data": {
            "text/plain": [
              "True"
            ]
          },
          "metadata": {},
          "execution_count": 6
        }
      ],
      "source": [
        "x = \"Madrid\"\n",
        "y = \"madrid\"\n",
        "x is not y"
      ]
    },
    {
      "cell_type": "code",
      "execution_count": 7,
      "id": "98fca1a2",
      "metadata": {
        "id": "98fca1a2",
        "outputId": "6a370416-9e9c-451b-8386-c3ba7a4e356e",
        "colab": {
          "base_uri": "https://localhost:8080/"
        }
      },
      "outputs": [
        {
          "output_type": "execute_result",
          "data": {
            "text/plain": [
              "True"
            ]
          },
          "metadata": {},
          "execution_count": 7
        }
      ],
      "source": [
        "x != y"
      ]
    },
    {
      "cell_type": "markdown",
      "id": "cd864918",
      "metadata": {
        "id": "cd864918"
      },
      "source": [
        "Con listas hemos de tener cuidado ya que iguales no significa idénticos ya que dos listas ocupan distinto lugar en la memoria del ordenador."
      ]
    },
    {
      "cell_type": "code",
      "execution_count": 8,
      "id": "387c6005",
      "metadata": {
        "id": "387c6005",
        "outputId": "7eed4a66-9ddc-4e57-f4c6-fa0952cf0d83",
        "colab": {
          "base_uri": "https://localhost:8080/"
        }
      },
      "outputs": [
        {
          "output_type": "execute_result",
          "data": {
            "text/plain": [
              "True"
            ]
          },
          "metadata": {},
          "execution_count": 8
        }
      ],
      "source": [
        "list1 = [1,2,3]        # con listas\n",
        "list2 = [1,2,3]\n",
        "list1 == list2"
      ]
    },
    {
      "cell_type": "markdown",
      "id": "bd849797",
      "metadata": {
        "id": "bd849797"
      },
      "source": [
        "Con listas el intérprete las ubica por separado en la memoria, aunque son iguales."
      ]
    },
    {
      "cell_type": "code",
      "execution_count": 9,
      "id": "cbb2e51d",
      "metadata": {
        "id": "cbb2e51d",
        "outputId": "8796e142-099e-44f1-942a-1ff00c6435da",
        "colab": {
          "base_uri": "https://localhost:8080/"
        }
      },
      "outputs": [
        {
          "output_type": "execute_result",
          "data": {
            "text/plain": [
              "False"
            ]
          },
          "metadata": {},
          "execution_count": 9
        }
      ],
      "source": [
        "list1 is list2         # Las listas 1 y 2 no son idénticas ya que ocupan distinto lugar en la memoria RAM"
      ]
    },
    {
      "cell_type": "code",
      "execution_count": 10,
      "id": "8e0e080f",
      "metadata": {
        "id": "8e0e080f",
        "outputId": "492115dc-c484-4f2b-fe9d-fa88b4f5f2df",
        "colab": {
          "base_uri": "https://localhost:8080/"
        }
      },
      "outputs": [
        {
          "output_type": "execute_result",
          "data": {
            "text/plain": [
              "['ene', 'feb', 'mar']"
            ]
          },
          "metadata": {},
          "execution_count": 10
        }
      ],
      "source": [
        "meses1 = ['ene', 'feb', 'mar' ]\n",
        "meses2 = meses1              #al hacer meses2=meses1 se hace una copia idéntica que ocupa el mismo lugar de memoria\n",
        "meses2"
      ]
    },
    {
      "cell_type": "code",
      "execution_count": 11,
      "id": "d59982f6",
      "metadata": {
        "id": "d59982f6",
        "outputId": "bda56792-b85a-4266-faff-4d5085c32b7d",
        "colab": {
          "base_uri": "https://localhost:8080/"
        }
      },
      "outputs": [
        {
          "output_type": "execute_result",
          "data": {
            "text/plain": [
              "['ene', 'feb', 'mar', 'abr']"
            ]
          },
          "metadata": {},
          "execution_count": 11
        }
      ],
      "source": [
        "meses1.append('abr')\n",
        "meses1"
      ]
    },
    {
      "cell_type": "code",
      "execution_count": 12,
      "id": "0575479c",
      "metadata": {
        "id": "0575479c",
        "outputId": "f7b6e4d9-71fd-40e3-bf4d-c79ef409ca5d",
        "colab": {
          "base_uri": "https://localhost:8080/"
        }
      },
      "outputs": [
        {
          "output_type": "execute_result",
          "data": {
            "text/plain": [
              "True"
            ]
          },
          "metadata": {},
          "execution_count": 12
        }
      ],
      "source": [
        "meses2 is meses1            # SORPRESA ahora ambas listas son idénticas"
      ]
    },
    {
      "cell_type": "markdown",
      "id": "422b82d9",
      "metadata": {
        "id": "422b82d9"
      },
      "source": [
        "Veamos como copiar una lista sin que la copia se idéntica."
      ]
    },
    {
      "cell_type": "code",
      "execution_count": 13,
      "id": "42424ad9",
      "metadata": {
        "id": "42424ad9",
        "outputId": "673790ec-9052-4d33-ddb8-718940ec0086",
        "colab": {
          "base_uri": "https://localhost:8080/"
        }
      },
      "outputs": [
        {
          "output_type": "execute_result",
          "data": {
            "text/plain": [
              "['lun', 'mar', 'mie']"
            ]
          },
          "metadata": {},
          "execution_count": 13
        }
      ],
      "source": [
        "dias1 = ['lun', 'mar', 'mie']\n",
        "dias2 = dias1[:]             # ahora dias2 es una lista igual que dias1 pero independiente, distinta memoria\n",
        "dias2"
      ]
    },
    {
      "cell_type": "code",
      "execution_count": 14,
      "id": "1e74fbfb",
      "metadata": {
        "id": "1e74fbfb",
        "outputId": "024290a0-7dc4-4d23-f1ff-36a49d46c3c1",
        "colab": {
          "base_uri": "https://localhost:8080/"
        }
      },
      "outputs": [
        {
          "output_type": "execute_result",
          "data": {
            "text/plain": [
              "False"
            ]
          },
          "metadata": {},
          "execution_count": 14
        }
      ],
      "source": [
        "dias2 is dias1"
      ]
    },
    {
      "cell_type": "code",
      "execution_count": 15,
      "id": "9e53cb54",
      "metadata": {
        "id": "9e53cb54",
        "outputId": "97499e16-d004-4758-d71b-3b6f2259f260",
        "colab": {
          "base_uri": "https://localhost:8080/"
        }
      },
      "outputs": [
        {
          "output_type": "execute_result",
          "data": {
            "text/plain": [
              "['lun', 'mar', 'mie', 'jue']"
            ]
          },
          "metadata": {},
          "execution_count": 15
        }
      ],
      "source": [
        "dias1.append('jue')          # añadimos un elemento más a la lista dias1\n",
        "dias1"
      ]
    },
    {
      "cell_type": "code",
      "execution_count": 16,
      "id": "1b79eff2",
      "metadata": {
        "id": "1b79eff2",
        "outputId": "00a8f2c9-d4c0-4c26-bdc0-60083ab99c05",
        "colab": {
          "base_uri": "https://localhost:8080/"
        }
      },
      "outputs": [
        {
          "output_type": "execute_result",
          "data": {
            "text/plain": [
              "['lun', 'mar', 'mie']"
            ]
          },
          "metadata": {},
          "execution_count": 16
        }
      ],
      "source": [
        "dias2                        # podemos comprobar que la lista dias2 es independiente, no se añade el jueves"
      ]
    },
    {
      "cell_type": "markdown",
      "id": "4a5c301a",
      "metadata": {
        "id": "4a5c301a"
      },
      "source": [
        "# all, not all, any"
      ]
    },
    {
      "cell_type": "code",
      "execution_count": 17,
      "id": "46b7f8af",
      "metadata": {
        "id": "46b7f8af",
        "outputId": "64b92500-f0da-4fbf-d6a0-d731d7fa79bc",
        "colab": {
          "base_uri": "https://localhost:8080/"
        }
      },
      "outputs": [
        {
          "output_type": "execute_result",
          "data": {
            "text/plain": [
              "True"
            ]
          },
          "metadata": {},
          "execution_count": 17
        }
      ],
      "source": [
        "all([True, True, True])        # si todos son verdad da verdadero"
      ]
    },
    {
      "cell_type": "code",
      "execution_count": 18,
      "id": "d1ed4c3a",
      "metadata": {
        "id": "d1ed4c3a",
        "outputId": "cbc952c2-fe71-482e-d08c-7c7eee1693f7",
        "colab": {
          "base_uri": "https://localhost:8080/"
        }
      },
      "outputs": [
        {
          "output_type": "execute_result",
          "data": {
            "text/plain": [
              "True"
            ]
          },
          "metadata": {},
          "execution_count": 18
        }
      ],
      "source": [
        "all({True, True, True})        # también funciona con conjuntos (set)"
      ]
    },
    {
      "cell_type": "code",
      "execution_count": 19,
      "id": "4c85d774",
      "metadata": {
        "id": "4c85d774",
        "outputId": "6b2502d9-509f-41f7-87b6-eb7db6191499",
        "colab": {
          "base_uri": "https://localhost:8080/"
        }
      },
      "outputs": [
        {
          "output_type": "execute_result",
          "data": {
            "text/plain": [
              "True"
            ]
          },
          "metadata": {},
          "execution_count": 19
        }
      ],
      "source": [
        "all((True, True, True))        # también funciona con tuplas"
      ]
    },
    {
      "cell_type": "code",
      "execution_count": 20,
      "id": "30710db7",
      "metadata": {
        "id": "30710db7",
        "outputId": "4701cd3c-e295-4a9b-bd83-d73c5795f8fe",
        "colab": {
          "base_uri": "https://localhost:8080/"
        }
      },
      "outputs": [
        {
          "output_type": "execute_result",
          "data": {
            "text/plain": [
              "False"
            ]
          },
          "metadata": {},
          "execution_count": 20
        }
      ],
      "source": [
        "not all([True, True, True])    # False"
      ]
    },
    {
      "cell_type": "code",
      "execution_count": 21,
      "id": "75c58636",
      "metadata": {
        "id": "75c58636",
        "outputId": "890db418-c8aa-4c3b-d840-94a8e0376386",
        "colab": {
          "base_uri": "https://localhost:8080/"
        }
      },
      "outputs": [
        {
          "output_type": "execute_result",
          "data": {
            "text/plain": [
              "True"
            ]
          },
          "metadata": {},
          "execution_count": 21
        }
      ],
      "source": [
        "not all([True, True, False])   # True"
      ]
    },
    {
      "cell_type": "code",
      "execution_count": 22,
      "id": "a0b8b01a",
      "metadata": {
        "id": "a0b8b01a",
        "outputId": "7dedf0f5-bbb9-4b7c-d410-192dc127e548",
        "colab": {
          "base_uri": "https://localhost:8080/"
        }
      },
      "outputs": [
        {
          "output_type": "execute_result",
          "data": {
            "text/plain": [
              "True"
            ]
          },
          "metadata": {},
          "execution_count": 22
        }
      ],
      "source": [
        "any([False, True, False])      # si alguno es verdadero da verdadero"
      ]
    },
    {
      "cell_type": "code",
      "execution_count": 23,
      "id": "e95a78e9",
      "metadata": {
        "id": "e95a78e9",
        "outputId": "883338f0-c5ec-4a09-b543-fdf5392cc7fa",
        "colab": {
          "base_uri": "https://localhost:8080/"
        }
      },
      "outputs": [
        {
          "output_type": "execute_result",
          "data": {
            "text/plain": [
              "False"
            ]
          },
          "metadata": {},
          "execution_count": 23
        }
      ],
      "source": [
        "any([False, False, False])     # solo da False si todos lo son"
      ]
    },
    {
      "cell_type": "markdown",
      "id": "9c86d0c4",
      "metadata": {
        "id": "9c86d0c4"
      },
      "source": [
        "### Ejemplo\n",
        "Generar una lista de 5 x 2 (filas x columnas) donde sus elementos contienen números aleatorios entre 1 y 9.  "
      ]
    },
    {
      "cell_type": "code",
      "execution_count": 24,
      "id": "6ae9de8a",
      "metadata": {
        "id": "6ae9de8a",
        "outputId": "e76e0cd3-31e2-46f6-fac5-313742bb62eb",
        "colab": {
          "base_uri": "https://localhost:8080/"
        }
      },
      "outputs": [
        {
          "output_type": "execute_result",
          "data": {
            "text/plain": [
              "[[10, 8], [1, 7], [2, 6], [9, 2], [9, 10]]"
            ]
          },
          "metadata": {},
          "execution_count": 24
        }
      ],
      "source": [
        "from random import randint as rnd\n",
        "\n",
        "l = [[rnd(1,10), rnd(1,10)] for i in range(5)]\n",
        "l"
      ]
    },
    {
      "cell_type": "markdown",
      "id": "79f626d1",
      "metadata": {
        "id": "79f626d1"
      },
      "source": [
        "Crear una tercera columna que indique si el primero es mayor (flag==1), o bien menor o igual (flag==0) que el segundo."
      ]
    },
    {
      "cell_type": "code",
      "execution_count": 25,
      "id": "451652a4",
      "metadata": {
        "id": "451652a4",
        "outputId": "d5b473c2-8816-4bac-a48b-4aea11499818",
        "colab": {
          "base_uri": "https://localhost:8080/"
        }
      },
      "outputs": [
        {
          "output_type": "execute_result",
          "data": {
            "text/plain": [
              "[[10, 8, 1], [1, 7, 0], [2, 6, 0], [9, 2, 1], [9, 10, 0]]"
            ]
          },
          "metadata": {},
          "execution_count": 25
        }
      ],
      "source": [
        "for i in range(len(l)):\n",
        "    if l[i][0] > l[i][1]: l[i] = l[i] + [1]\n",
        "    else: l[i] = l[i] + [0]\n",
        "l"
      ]
    },
    {
      "cell_type": "markdown",
      "id": "09f56b7b",
      "metadata": {
        "id": "09f56b7b"
      },
      "source": [
        "Si todas las banderas (flag) son 1 (True) imprimir \"El Objetivo si se ha conseguido\""
      ]
    },
    {
      "cell_type": "code",
      "execution_count": 26,
      "id": "061268f7",
      "metadata": {
        "id": "061268f7",
        "outputId": "e06625f9-427e-488f-c425-75642db549cd",
        "colab": {
          "base_uri": "https://localhost:8080/"
        }
      },
      "outputs": [
        {
          "output_type": "execute_result",
          "data": {
            "text/plain": [
              "False"
            ]
          },
          "metadata": {},
          "execution_count": 26
        }
      ],
      "source": [
        "all(flag == 1 for (_, _, flag) in l)    # así detectamos que todas las banderas son 1"
      ]
    },
    {
      "cell_type": "code",
      "execution_count": 27,
      "id": "a96d961e",
      "metadata": {
        "id": "a96d961e",
        "outputId": "a62f5dee-fba2-4147-b712-c10e70df9fe4",
        "colab": {
          "base_uri": "https://localhost:8080/"
        }
      },
      "outputs": [
        {
          "output_type": "execute_result",
          "data": {
            "text/plain": [
              "False"
            ]
          },
          "metadata": {},
          "execution_count": 27
        }
      ],
      "source": [
        "all([x[2] == 1 for x in l])             # otra forma de detectarlo"
      ]
    }
  ],
  "metadata": {
    "kernelspec": {
      "display_name": "Python 3",
      "language": "python",
      "name": "python3"
    },
    "language_info": {
      "codemirror_mode": {
        "name": "ipython",
        "version": 3
      },
      "file_extension": ".py",
      "mimetype": "text/x-python",
      "name": "python",
      "nbconvert_exporter": "python",
      "pygments_lexer": "ipython3",
      "version": "3.8.8"
    },
    "colab": {
      "name": "calisto1_0340.ipynb",
      "provenance": [],
      "include_colab_link": true
    }
  },
  "nbformat": 4,
  "nbformat_minor": 5
}