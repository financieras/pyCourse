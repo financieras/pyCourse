{
  "cells": [
    {
      "cell_type": "markdown",
      "metadata": {
        "id": "view-in-github",
        "colab_type": "text"
      },
      "source": [
        "<a href=\"https://colab.research.google.com/github/financieras/pyCourse/blob/main/jupyter/calisto1_0620.ipynb\" target=\"_parent\"><img src=\"https://colab.research.google.com/assets/colab-badge.svg\" alt=\"Open In Colab\"/></a>"
      ]
    },
    {
      "cell_type": "markdown",
      "metadata": {
        "id": "pwoqJ7HIZN9w"
      },
      "source": [
        "# Funciones. Ejemplos"
      ],
      "id": "pwoqJ7HIZN9w"
    },
    {
      "cell_type": "code",
      "execution_count": null,
      "metadata": {
        "id": "n3sp3k9DZN9y"
      },
      "outputs": [],
      "source": [
        "def par_impar(numero):\n",
        "    if numero%2 == 0:\n",
        "        resultado = 'par'\n",
        "    else:\n",
        "        resultado = 'impar'\n",
        "    print(\"El número {} es {}.\".format(numero, resultado))\n",
        "par_impar(21)"
      ],
      "id": "n3sp3k9DZN9y"
    },
    {
      "cell_type": "code",
      "execution_count": null,
      "metadata": {
        "id": "KsNtiSqyZN91"
      },
      "outputs": [],
      "source": [
        "def reverso(cadena):\n",
        "    return cadena[::-1]\n",
        "texto = input(\"Introduce un texto para invertir: \")\n",
        "print('El reverso es: ', reverso(texto))"
      ],
      "id": "KsNtiSqyZN91"
    },
    {
      "cell_type": "code",
      "execution_count": null,
      "metadata": {
        "id": "aB0LUGR7ZN91"
      },
      "outputs": [],
      "source": [
        "def area_tri(base, altura):\n",
        "    return base*altura/2\n",
        "print(\"El área de un triángulo de base {} y altura {} es {}.\".format(10, 4, area_tri(10, 4)))"
      ],
      "id": "aB0LUGR7ZN91"
    },
    {
      "cell_type": "code",
      "execution_count": null,
      "metadata": {
        "id": "qCH4s3wkZN93"
      },
      "outputs": [],
      "source": [
        "import math \n",
        "def area_circulo(radio):\n",
        "    radio = float(radio)\n",
        "    return math.pi*radio**2\n",
        "while True:\n",
        "    r = input(\"Indique el radio del círculo o pulsa Enter: \")\n",
        "    if r == \"\":\n",
        "        break\n",
        "    print(\"El área de un círculo de radio {} es {}.\".format(r, round(area_circulo(r), 1)))"
      ],
      "id": "qCH4s3wkZN93"
    },
    {
      "cell_type": "markdown",
      "metadata": {
        "id": "XG_PihHSZN94"
      },
      "source": [
        "## El número e  \n",
        "[Exponential function](https://en.wikipedia.org/wiki/Exponential_function)  \n",
        "$$\n",
        "e = \\lim_{n\\to\\infty} \\biggl( 1 + \\frac{1}{n} \\biggr)^n\n",
        "$$\n",
        "\n",
        "Otra forma de trabajar con la exponencial.  \n",
        "\n",
        "$$\n",
        "e^x = \\sum_{n = 0}^\\infty \\frac{x^n}{n!}\n",
        "$$  \n",
        "Vamos a crear una función que calcula esta última expresión y la compara con la función ```math.exp(1)```."
      ],
      "id": "XG_PihHSZN94"
    },
    {
      "cell_type": "code",
      "execution_count": null,
      "metadata": {
        "id": "EwPY9xsbZN95"
      },
      "outputs": [],
      "source": [
        "import math\n",
        "#from math import factorial, exp\n",
        "\n",
        "def exponencial(x):\n",
        "    total = 0\n",
        "    for n in range(0, 1000):\n",
        "        total += x**n/math.factorial(n)\n",
        "    return total\n",
        "\n",
        "x = 1\n",
        "print(exponencial(x))\n",
        "print(math.exp(x))"
      ],
      "id": "EwPY9xsbZN95"
    },
    {
      "cell_type": "markdown",
      "metadata": {
        "id": "86qqQ-aCZN95"
      },
      "source": [
        "## Calculadora"
      ],
      "id": "86qqQ-aCZN95"
    },
    {
      "cell_type": "code",
      "execution_count": null,
      "metadata": {
        "id": "tSSFbH9FZN96"
      },
      "outputs": [],
      "source": [
        "def sumar(num1, num2): return num1 + num2\n",
        "def restar(num1, num2): return num1 - num2\n",
        "def multiplicar(num1, num2): return num1 * num2\n",
        "def dividir(num1, num2): return num1 / num2\n",
        "\n",
        "while True:\n",
        "    opcion = input(''' Menú: \\n1. Sumar\\n2. Restar\\n3. Multiplicar\\n4. Dividir\\n0. Finalizar\\n''')\n",
        "    if opcion in ('1', '2', '3', '4'):\n",
        "        num1 = float(input(\"Introduzca el primer número: \"))\n",
        "        num2 = float(input(\"Introduzca el segundo número: \"))\n",
        "        if opcion == '1': print(num1, '+', num2, '=', sumar(num1, num2))\n",
        "        elif opcion == '2': print(num1, '-', num2, '=', restar(num1, num2))\n",
        "        elif opcion == '3': print(num1, '*', num2, '=', multiplicar(num1, num2))\n",
        "        elif opcion == '4': print(num1, '/', num2, '=', dividir(num1, num2))\n",
        "    else: print(\"Programa finalizado\"); break"
      ],
      "id": "tSSFbH9FZN96"
    }
  ],
  "metadata": {
    "kernelspec": {
      "display_name": "Python 3",
      "language": "python",
      "name": "python3"
    },
    "language_info": {
      "codemirror_mode": {
        "name": "ipython",
        "version": 3
      },
      "file_extension": ".py",
      "mimetype": "text/x-python",
      "name": "python",
      "nbconvert_exporter": "python",
      "pygments_lexer": "ipython3",
      "version": "3.8.5"
    },
    "colab": {
      "name": "0620_funciones_ejemplos.ipynb",
      "provenance": [],
      "include_colab_link": true
    }
  },
  "nbformat": 4,
  "nbformat_minor": 5
}
