{
  "cells": [
    {
      "cell_type": "markdown",
      "metadata": {
        "id": "view-in-github",
        "colab_type": "text"
      },
      "source": [
        "<a href=\"https://colab.research.google.com/github/financieras/pyCourse/blob/main/jupyter/calisto3/0150_exportar_dataframe.ipynb\" target=\"_parent\"><img src=\"https://colab.research.google.com/assets/colab-badge.svg\" alt=\"Open In Colab\"/></a>"
      ]
    },
    {
      "cell_type": "markdown",
      "id": "1e095521",
      "metadata": {
        "id": "1e095521"
      },
      "source": [
        "# Exportar los DataFrame de Pandas  \n",
        "Veamos cómo exportar los Panda DataFrame."
      ]
    },
    {
      "cell_type": "markdown",
      "id": "962388c9",
      "metadata": {
        "id": "962388c9"
      },
      "source": [
        "## Exportar a Excel"
      ]
    },
    {
      "cell_type": "code",
      "execution_count": 1,
      "id": "74107392",
      "metadata": {
        "id": "74107392"
      },
      "outputs": [],
      "source": [
        "import pandas as pd           # importamos la librería Pandas"
      ]
    },
    {
      "cell_type": "code",
      "execution_count": 2,
      "id": "6c2bbd75",
      "metadata": {
        "id": "6c2bbd75",
        "outputId": "50c68f5c-8cbe-41a0-e1e7-ab98020a5ab2",
        "colab": {
          "base_uri": "https://localhost:8080/"
        }
      },
      "outputs": [
        {
          "output_type": "execute_result",
          "data": {
            "text/plain": [
              "[['MADRID', 'MAD', 61734944, 560039136, False, 1931],\n",
              " ['BARCELONA', 'BCN', 52688455, 176797909, False, 1927],\n",
              " ['PALMA DE MALLORCA', 'PMI', 29721142, 9021606, True, 1960],\n",
              " ['MALAGA', 'AGP', 19858656, 3080119, False, 1946],\n",
              " ['ALICANTE', 'ALC', 15048240, 4032300, False, 1951],\n",
              " ['GRAN CANARIA', 'LPA', 13261228, 19727786, True, 1933],\n",
              " ['TENERIFE SUR', 'TFS', 11168707, 2193378, True, 1978],\n",
              " ['VALENCIA', 'VLC', 8539579, 14515842, False, 1930],\n",
              " ['IBIZA', 'IBZ', 8155626, 1434695, True, 1949],\n",
              " ['SEVILLA', 'SVQ', 7544357, 9891790, False, 1946]]"
            ]
          },
          "metadata": {},
          "execution_count": 2
        }
      ],
      "source": [
        "# Datos de aeropuertos\n",
        "mad = ['MADRID', 'MAD', 61734944, 560039136, False, 1931]\n",
        "bcn = ['BARCELONA', 'BCN', 52688455, 176797909, False, 1927]\n",
        "pmi = ['PALMA DE MALLORCA', 'PMI', 29721142, 9021606, True, 1960]\n",
        "agp = ['MALAGA', 'AGP', 19858656, 3080119, False, 1946]\n",
        "alc = ['ALICANTE', 'ALC', 15048240, 4032300, False, 1951]\n",
        "lpa = ['GRAN CANARIA', 'LPA', 13261228, 19727786, True, 1933]\n",
        "tfs = ['TENERIFE SUR', 'TFS', 11168707, 2193378, True, 1978]\n",
        "vlc = ['VALENCIA', 'VLC', 8539579, 14515842, False, 1930]\n",
        "ibz = ['IBIZA', 'IBZ', 8155626, 1434695, True, 1949]\n",
        "svq = ['SEVILLA', 'SVQ', 7544357, 9891790, False, 1946]\n",
        "\n",
        "list_airport = [mad, bcn, pmi, agp, alc, lpa, tfs, vlc, ibz, svq]\n",
        "list_airport"
      ]
    },
    {
      "cell_type": "code",
      "execution_count": 3,
      "id": "afa299d5",
      "metadata": {
        "id": "afa299d5",
        "outputId": "b25d4268-cb65-4a9f-fd62-936d646e0dcf",
        "colab": {
          "base_uri": "https://localhost:8080/",
          "height": 363
        }
      },
      "outputs": [
        {
          "output_type": "execute_result",
          "data": {
            "text/plain": [
              "          Aeropuerto CodigoIATA  Pasajeros  Mercancía  Insular   Año\n",
              "0             MADRID        MAD   61734944  560039136    False  1931\n",
              "1          BARCELONA        BCN   52688455  176797909    False  1927\n",
              "2  PALMA DE MALLORCA        PMI   29721142    9021606     True  1960\n",
              "3             MALAGA        AGP   19858656    3080119    False  1946\n",
              "4           ALICANTE        ALC   15048240    4032300    False  1951\n",
              "5       GRAN CANARIA        LPA   13261228   19727786     True  1933\n",
              "6       TENERIFE SUR        TFS   11168707    2193378     True  1978\n",
              "7           VALENCIA        VLC    8539579   14515842    False  1930\n",
              "8              IBIZA        IBZ    8155626    1434695     True  1949\n",
              "9            SEVILLA        SVQ    7544357    9891790    False  1946"
            ],
            "text/html": [
              "\n",
              "  <div id=\"df-12e21b0f-3bbf-4cab-9bf0-aa347069eaa1\" class=\"colab-df-container\">\n",
              "    <div>\n",
              "<style scoped>\n",
              "    .dataframe tbody tr th:only-of-type {\n",
              "        vertical-align: middle;\n",
              "    }\n",
              "\n",
              "    .dataframe tbody tr th {\n",
              "        vertical-align: top;\n",
              "    }\n",
              "\n",
              "    .dataframe thead th {\n",
              "        text-align: right;\n",
              "    }\n",
              "</style>\n",
              "<table border=\"1\" class=\"dataframe\">\n",
              "  <thead>\n",
              "    <tr style=\"text-align: right;\">\n",
              "      <th></th>\n",
              "      <th>Aeropuerto</th>\n",
              "      <th>CodigoIATA</th>\n",
              "      <th>Pasajeros</th>\n",
              "      <th>Mercancía</th>\n",
              "      <th>Insular</th>\n",
              "      <th>Año</th>\n",
              "    </tr>\n",
              "  </thead>\n",
              "  <tbody>\n",
              "    <tr>\n",
              "      <th>0</th>\n",
              "      <td>MADRID</td>\n",
              "      <td>MAD</td>\n",
              "      <td>61734944</td>\n",
              "      <td>560039136</td>\n",
              "      <td>False</td>\n",
              "      <td>1931</td>\n",
              "    </tr>\n",
              "    <tr>\n",
              "      <th>1</th>\n",
              "      <td>BARCELONA</td>\n",
              "      <td>BCN</td>\n",
              "      <td>52688455</td>\n",
              "      <td>176797909</td>\n",
              "      <td>False</td>\n",
              "      <td>1927</td>\n",
              "    </tr>\n",
              "    <tr>\n",
              "      <th>2</th>\n",
              "      <td>PALMA DE MALLORCA</td>\n",
              "      <td>PMI</td>\n",
              "      <td>29721142</td>\n",
              "      <td>9021606</td>\n",
              "      <td>True</td>\n",
              "      <td>1960</td>\n",
              "    </tr>\n",
              "    <tr>\n",
              "      <th>3</th>\n",
              "      <td>MALAGA</td>\n",
              "      <td>AGP</td>\n",
              "      <td>19858656</td>\n",
              "      <td>3080119</td>\n",
              "      <td>False</td>\n",
              "      <td>1946</td>\n",
              "    </tr>\n",
              "    <tr>\n",
              "      <th>4</th>\n",
              "      <td>ALICANTE</td>\n",
              "      <td>ALC</td>\n",
              "      <td>15048240</td>\n",
              "      <td>4032300</td>\n",
              "      <td>False</td>\n",
              "      <td>1951</td>\n",
              "    </tr>\n",
              "    <tr>\n",
              "      <th>5</th>\n",
              "      <td>GRAN CANARIA</td>\n",
              "      <td>LPA</td>\n",
              "      <td>13261228</td>\n",
              "      <td>19727786</td>\n",
              "      <td>True</td>\n",
              "      <td>1933</td>\n",
              "    </tr>\n",
              "    <tr>\n",
              "      <th>6</th>\n",
              "      <td>TENERIFE SUR</td>\n",
              "      <td>TFS</td>\n",
              "      <td>11168707</td>\n",
              "      <td>2193378</td>\n",
              "      <td>True</td>\n",
              "      <td>1978</td>\n",
              "    </tr>\n",
              "    <tr>\n",
              "      <th>7</th>\n",
              "      <td>VALENCIA</td>\n",
              "      <td>VLC</td>\n",
              "      <td>8539579</td>\n",
              "      <td>14515842</td>\n",
              "      <td>False</td>\n",
              "      <td>1930</td>\n",
              "    </tr>\n",
              "    <tr>\n",
              "      <th>8</th>\n",
              "      <td>IBIZA</td>\n",
              "      <td>IBZ</td>\n",
              "      <td>8155626</td>\n",
              "      <td>1434695</td>\n",
              "      <td>True</td>\n",
              "      <td>1949</td>\n",
              "    </tr>\n",
              "    <tr>\n",
              "      <th>9</th>\n",
              "      <td>SEVILLA</td>\n",
              "      <td>SVQ</td>\n",
              "      <td>7544357</td>\n",
              "      <td>9891790</td>\n",
              "      <td>False</td>\n",
              "      <td>1946</td>\n",
              "    </tr>\n",
              "  </tbody>\n",
              "</table>\n",
              "</div>\n",
              "    <div class=\"colab-df-buttons\">\n",
              "\n",
              "  <div class=\"colab-df-container\">\n",
              "    <button class=\"colab-df-convert\" onclick=\"convertToInteractive('df-12e21b0f-3bbf-4cab-9bf0-aa347069eaa1')\"\n",
              "            title=\"Convert this dataframe to an interactive table.\"\n",
              "            style=\"display:none;\">\n",
              "\n",
              "  <svg xmlns=\"http://www.w3.org/2000/svg\" height=\"24px\" viewBox=\"0 -960 960 960\">\n",
              "    <path d=\"M120-120v-720h720v720H120Zm60-500h600v-160H180v160Zm220 220h160v-160H400v160Zm0 220h160v-160H400v160ZM180-400h160v-160H180v160Zm440 0h160v-160H620v160ZM180-180h160v-160H180v160Zm440 0h160v-160H620v160Z\"/>\n",
              "  </svg>\n",
              "    </button>\n",
              "\n",
              "  <style>\n",
              "    .colab-df-container {\n",
              "      display:flex;\n",
              "      gap: 12px;\n",
              "    }\n",
              "\n",
              "    .colab-df-convert {\n",
              "      background-color: #E8F0FE;\n",
              "      border: none;\n",
              "      border-radius: 50%;\n",
              "      cursor: pointer;\n",
              "      display: none;\n",
              "      fill: #1967D2;\n",
              "      height: 32px;\n",
              "      padding: 0 0 0 0;\n",
              "      width: 32px;\n",
              "    }\n",
              "\n",
              "    .colab-df-convert:hover {\n",
              "      background-color: #E2EBFA;\n",
              "      box-shadow: 0px 1px 2px rgba(60, 64, 67, 0.3), 0px 1px 3px 1px rgba(60, 64, 67, 0.15);\n",
              "      fill: #174EA6;\n",
              "    }\n",
              "\n",
              "    .colab-df-buttons div {\n",
              "      margin-bottom: 4px;\n",
              "    }\n",
              "\n",
              "    [theme=dark] .colab-df-convert {\n",
              "      background-color: #3B4455;\n",
              "      fill: #D2E3FC;\n",
              "    }\n",
              "\n",
              "    [theme=dark] .colab-df-convert:hover {\n",
              "      background-color: #434B5C;\n",
              "      box-shadow: 0px 1px 3px 1px rgba(0, 0, 0, 0.15);\n",
              "      filter: drop-shadow(0px 1px 2px rgba(0, 0, 0, 0.3));\n",
              "      fill: #FFFFFF;\n",
              "    }\n",
              "  </style>\n",
              "\n",
              "    <script>\n",
              "      const buttonEl =\n",
              "        document.querySelector('#df-12e21b0f-3bbf-4cab-9bf0-aa347069eaa1 button.colab-df-convert');\n",
              "      buttonEl.style.display =\n",
              "        google.colab.kernel.accessAllowed ? 'block' : 'none';\n",
              "\n",
              "      async function convertToInteractive(key) {\n",
              "        const element = document.querySelector('#df-12e21b0f-3bbf-4cab-9bf0-aa347069eaa1');\n",
              "        const dataTable =\n",
              "          await google.colab.kernel.invokeFunction('convertToInteractive',\n",
              "                                                    [key], {});\n",
              "        if (!dataTable) return;\n",
              "\n",
              "        const docLinkHtml = 'Like what you see? Visit the ' +\n",
              "          '<a target=\"_blank\" href=https://colab.research.google.com/notebooks/data_table.ipynb>data table notebook</a>'\n",
              "          + ' to learn more about interactive tables.';\n",
              "        element.innerHTML = '';\n",
              "        dataTable['output_type'] = 'display_data';\n",
              "        await google.colab.output.renderOutput(dataTable, element);\n",
              "        const docLink = document.createElement('div');\n",
              "        docLink.innerHTML = docLinkHtml;\n",
              "        element.appendChild(docLink);\n",
              "      }\n",
              "    </script>\n",
              "  </div>\n",
              "\n",
              "\n",
              "<div id=\"df-f517dd3e-7490-483d-a777-9f0541cc30a7\">\n",
              "  <button class=\"colab-df-quickchart\" onclick=\"quickchart('df-f517dd3e-7490-483d-a777-9f0541cc30a7')\"\n",
              "            title=\"Suggest charts.\"\n",
              "            style=\"display:none;\">\n",
              "\n",
              "<svg xmlns=\"http://www.w3.org/2000/svg\" height=\"24px\"viewBox=\"0 0 24 24\"\n",
              "     width=\"24px\">\n",
              "    <g>\n",
              "        <path d=\"M19 3H5c-1.1 0-2 .9-2 2v14c0 1.1.9 2 2 2h14c1.1 0 2-.9 2-2V5c0-1.1-.9-2-2-2zM9 17H7v-7h2v7zm4 0h-2V7h2v10zm4 0h-2v-4h2v4z\"/>\n",
              "    </g>\n",
              "</svg>\n",
              "  </button>\n",
              "\n",
              "<style>\n",
              "  .colab-df-quickchart {\n",
              "      --bg-color: #E8F0FE;\n",
              "      --fill-color: #1967D2;\n",
              "      --hover-bg-color: #E2EBFA;\n",
              "      --hover-fill-color: #174EA6;\n",
              "      --disabled-fill-color: #AAA;\n",
              "      --disabled-bg-color: #DDD;\n",
              "  }\n",
              "\n",
              "  [theme=dark] .colab-df-quickchart {\n",
              "      --bg-color: #3B4455;\n",
              "      --fill-color: #D2E3FC;\n",
              "      --hover-bg-color: #434B5C;\n",
              "      --hover-fill-color: #FFFFFF;\n",
              "      --disabled-bg-color: #3B4455;\n",
              "      --disabled-fill-color: #666;\n",
              "  }\n",
              "\n",
              "  .colab-df-quickchart {\n",
              "    background-color: var(--bg-color);\n",
              "    border: none;\n",
              "    border-radius: 50%;\n",
              "    cursor: pointer;\n",
              "    display: none;\n",
              "    fill: var(--fill-color);\n",
              "    height: 32px;\n",
              "    padding: 0;\n",
              "    width: 32px;\n",
              "  }\n",
              "\n",
              "  .colab-df-quickchart:hover {\n",
              "    background-color: var(--hover-bg-color);\n",
              "    box-shadow: 0 1px 2px rgba(60, 64, 67, 0.3), 0 1px 3px 1px rgba(60, 64, 67, 0.15);\n",
              "    fill: var(--button-hover-fill-color);\n",
              "  }\n",
              "\n",
              "  .colab-df-quickchart-complete:disabled,\n",
              "  .colab-df-quickchart-complete:disabled:hover {\n",
              "    background-color: var(--disabled-bg-color);\n",
              "    fill: var(--disabled-fill-color);\n",
              "    box-shadow: none;\n",
              "  }\n",
              "\n",
              "  .colab-df-spinner {\n",
              "    border: 2px solid var(--fill-color);\n",
              "    border-color: transparent;\n",
              "    border-bottom-color: var(--fill-color);\n",
              "    animation:\n",
              "      spin 1s steps(1) infinite;\n",
              "  }\n",
              "\n",
              "  @keyframes spin {\n",
              "    0% {\n",
              "      border-color: transparent;\n",
              "      border-bottom-color: var(--fill-color);\n",
              "      border-left-color: var(--fill-color);\n",
              "    }\n",
              "    20% {\n",
              "      border-color: transparent;\n",
              "      border-left-color: var(--fill-color);\n",
              "      border-top-color: var(--fill-color);\n",
              "    }\n",
              "    30% {\n",
              "      border-color: transparent;\n",
              "      border-left-color: var(--fill-color);\n",
              "      border-top-color: var(--fill-color);\n",
              "      border-right-color: var(--fill-color);\n",
              "    }\n",
              "    40% {\n",
              "      border-color: transparent;\n",
              "      border-right-color: var(--fill-color);\n",
              "      border-top-color: var(--fill-color);\n",
              "    }\n",
              "    60% {\n",
              "      border-color: transparent;\n",
              "      border-right-color: var(--fill-color);\n",
              "    }\n",
              "    80% {\n",
              "      border-color: transparent;\n",
              "      border-right-color: var(--fill-color);\n",
              "      border-bottom-color: var(--fill-color);\n",
              "    }\n",
              "    90% {\n",
              "      border-color: transparent;\n",
              "      border-bottom-color: var(--fill-color);\n",
              "    }\n",
              "  }\n",
              "</style>\n",
              "\n",
              "  <script>\n",
              "    async function quickchart(key) {\n",
              "      const quickchartButtonEl =\n",
              "        document.querySelector('#' + key + ' button');\n",
              "      quickchartButtonEl.disabled = true;  // To prevent multiple clicks.\n",
              "      quickchartButtonEl.classList.add('colab-df-spinner');\n",
              "      try {\n",
              "        const charts = await google.colab.kernel.invokeFunction(\n",
              "            'suggestCharts', [key], {});\n",
              "      } catch (error) {\n",
              "        console.error('Error during call to suggestCharts:', error);\n",
              "      }\n",
              "      quickchartButtonEl.classList.remove('colab-df-spinner');\n",
              "      quickchartButtonEl.classList.add('colab-df-quickchart-complete');\n",
              "    }\n",
              "    (() => {\n",
              "      let quickchartButtonEl =\n",
              "        document.querySelector('#df-f517dd3e-7490-483d-a777-9f0541cc30a7 button');\n",
              "      quickchartButtonEl.style.display =\n",
              "        google.colab.kernel.accessAllowed ? 'block' : 'none';\n",
              "    })();\n",
              "  </script>\n",
              "</div>\n",
              "    </div>\n",
              "  </div>\n"
            ]
          },
          "metadata": {},
          "execution_count": 3
        }
      ],
      "source": [
        "# crear el DataFrame a partir de listas\n",
        "df_airport = pd.DataFrame(list_airport,\n",
        "                    columns = ['Aeropuerto', 'CodigoIATA', 'Pasajeros', 'Mercancía', 'Insular', 'Año'])\n",
        "\n",
        "df_airport"
      ]
    },
    {
      "cell_type": "markdown",
      "source": [
        "Primero clonamos el repositorio."
      ],
      "metadata": {
        "id": "G-YZ_oW8Fqad"
      },
      "id": "G-YZ_oW8Fqad"
    },
    {
      "cell_type": "code",
      "source": [
        "!git clone https://github.com/financieras/pyCourse.git"
      ],
      "metadata": {
        "id": "msvQTm3mFyZg",
        "outputId": "d67f92c4-f5c8-41ac-fd2e-ccdc8600f3e3",
        "colab": {
          "base_uri": "https://localhost:8080/"
        }
      },
      "id": "msvQTm3mFyZg",
      "execution_count": 6,
      "outputs": [
        {
          "output_type": "stream",
          "name": "stdout",
          "text": [
            "Cloning into 'pyCourse'...\n",
            "remote: Enumerating objects: 6492, done.\u001b[K\n",
            "remote: Counting objects: 100% (1086/1086), done.\u001b[K\n",
            "remote: Compressing objects: 100% (335/335), done.\u001b[K\n",
            "remote: Total 6492 (delta 826), reused 964 (delta 751), pack-reused 5406\u001b[K\n",
            "Receiving objects: 100% (6492/6492), 5.82 MiB | 11.02 MiB/s, done.\n",
            "Resolving deltas: 100% (4848/4848), done.\n"
          ]
        }
      ]
    },
    {
      "cell_type": "markdown",
      "source": [
        "Vemos en que directorio estamos."
      ],
      "metadata": {
        "id": "MS7hExxLFz5j"
      },
      "id": "MS7hExxLFz5j"
    },
    {
      "cell_type": "code",
      "source": [
        "%pwd"
      ],
      "metadata": {
        "id": "rXlB8BfZF2rB",
        "outputId": "1d9afca2-2a2a-43ca-8380-f636178af31c",
        "colab": {
          "base_uri": "https://localhost:8080/",
          "height": 35
        }
      },
      "id": "rXlB8BfZF2rB",
      "execution_count": 7,
      "outputs": [
        {
          "output_type": "execute_result",
          "data": {
            "text/plain": [
              "'/content'"
            ],
            "application/vnd.google.colaboratory.intrinsic+json": {
              "type": "string"
            }
          },
          "metadata": {},
          "execution_count": 7
        }
      ]
    },
    {
      "cell_type": "code",
      "execution_count": 8,
      "id": "4950491a",
      "metadata": {
        "id": "4950491a"
      },
      "outputs": [],
      "source": [
        "# Exportar DataFrame a Excel\n",
        "df_airport.to_excel('pyCourse/jupyter/excel/data_airport.xlsx')"
      ]
    },
    {
      "cell_type": "code",
      "execution_count": 10,
      "id": "3bbe0d14",
      "metadata": {
        "id": "3bbe0d14"
      },
      "outputs": [],
      "source": [
        "# Exportar sin la columna de índices\n",
        "df_airport.to_excel('pyCourse/jupyter/excel/data_airport_noindex.xlsx',\n",
        "                   index = False)"
      ]
    },
    {
      "cell_type": "markdown",
      "id": "034c3546",
      "metadata": {
        "id": "034c3546"
      },
      "source": [
        "## Exportar a csv"
      ]
    },
    {
      "cell_type": "code",
      "execution_count": 11,
      "id": "41bbb89e",
      "metadata": {
        "id": "41bbb89e"
      },
      "outputs": [],
      "source": [
        "import pandas as pd           # importamos la librería Pandas\n",
        "\n",
        "# Exportar un df a csv\n",
        "df_airport.to_csv('pyCourse/jupyter/excel/data_airport.csv')"
      ]
    },
    {
      "cell_type": "code",
      "execution_count": 13,
      "id": "7ecda6f1",
      "metadata": {
        "id": "7ecda6f1"
      },
      "outputs": [],
      "source": [
        "# Exportar sin la columna de índices\n",
        "df_airport.to_csv('pyCourse/jupyter/excel/data_airport_noindex.csv',\n",
        "                   index = False)"
      ]
    },
    {
      "cell_type": "code",
      "execution_count": 14,
      "id": "546080d1",
      "metadata": {
        "id": "546080d1"
      },
      "outputs": [],
      "source": [
        "# Exportar df a csv sin indice y con punto y coma\n",
        "df_airport.to_csv('pyCourse/jupyter/excel/data_airport_noindex_pc.csv',\n",
        "                  index = False,\n",
        "                  sep = ';')"
      ]
    },
    {
      "cell_type": "code",
      "execution_count": 15,
      "id": "ce24e022",
      "metadata": {
        "id": "ce24e022"
      },
      "outputs": [],
      "source": [
        "# Recomendación: forzar la exportación en UTF-8\n",
        "df_airport.to_csv('pyCourse/jupyter/excel/data_airport_utf8.csv',\n",
        "                 encoding = 'utf-8')"
      ]
    }
  ],
  "metadata": {
    "kernelspec": {
      "display_name": "Python 3 (ipykernel)",
      "language": "python",
      "name": "python3"
    },
    "language_info": {
      "codemirror_mode": {
        "name": "ipython",
        "version": 3
      },
      "file_extension": ".py",
      "mimetype": "text/x-python",
      "name": "python",
      "nbconvert_exporter": "python",
      "pygments_lexer": "ipython3",
      "version": "3.8.11"
    },
    "colab": {
      "name": "0150_exportar_dataframe.ipynb",
      "provenance": [],
      "include_colab_link": true
    }
  },
  "nbformat": 4,
  "nbformat_minor": 5
}