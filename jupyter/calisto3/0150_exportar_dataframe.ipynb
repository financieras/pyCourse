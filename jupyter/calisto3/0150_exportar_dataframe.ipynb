{
  "cells": [
    {
      "cell_type": "markdown",
      "metadata": {
        "id": "view-in-github",
        "colab_type": "text"
      },
      "source": [
        "<a href=\"https://colab.research.google.com/github/financieras/pyCourse/blob/main/jupyter/calisto3/calisto3_0150.ipynb\" target=\"_parent\"><img src=\"https://colab.research.google.com/assets/colab-badge.svg\" alt=\"Open In Colab\"/></a>"
      ]
    },
    {
      "cell_type": "markdown",
      "id": "1e095521",
      "metadata": {
        "id": "1e095521"
      },
      "source": [
        "# Exportar los DataFrame de Pandas  \n",
        "Veamos cómo exportar los Panda DataFrame."
      ]
    },
    {
      "cell_type": "markdown",
      "id": "962388c9",
      "metadata": {
        "id": "962388c9"
      },
      "source": [
        "## Exportar a Excel"
      ]
    },
    {
      "cell_type": "code",
      "execution_count": null,
      "id": "74107392",
      "metadata": {
        "id": "74107392"
      },
      "outputs": [],
      "source": [
        "import pandas as pd           # importamos la librería Pandas"
      ]
    },
    {
      "cell_type": "code",
      "execution_count": null,
      "id": "6c2bbd75",
      "metadata": {
        "id": "6c2bbd75",
        "outputId": "646827db-a7af-4692-8900-c4361305be65"
      },
      "outputs": [
        {
          "data": {
            "text/plain": [
              "[['MADRID', 'MAD', 61734944, 560039136, False, 1931],\n",
              " ['BARCELONA', 'BCN', 52688455, 176797909, False, 1927],\n",
              " ['PALMA DE MALLORCA', 'PMI', 29721142, 9021606, True, 1960],\n",
              " ['MALAGA', 'AGP', 19858656, 3080119, False, 1946],\n",
              " ['ALICANTE', 'ALC', 15048240, 4032300, False, 1951],\n",
              " ['GRAN CANARIA', 'LPA', 13261228, 19727786, True, 1933],\n",
              " ['TENERIFE SUR', 'TFS', 11168707, 2193378, True, 1978],\n",
              " ['VALENCIA', 'VLC', 8539579, 14515842, False, 1930],\n",
              " ['IBIZA', 'IBZ', 8155626, 1434695, True, 1949],\n",
              " ['SEVILLA', 'SVQ', 7544357, 9891790, False, 1946]]"
            ]
          },
          "execution_count": 11,
          "metadata": {},
          "output_type": "execute_result"
        }
      ],
      "source": [
        "# Datos de aeropuertos\n",
        "mad = ['MADRID', 'MAD', 61734944, 560039136, False, 1931]\n",
        "bcn = ['BARCELONA', 'BCN', 52688455, 176797909, False, 1927]\n",
        "pmi = ['PALMA DE MALLORCA', 'PMI', 29721142, 9021606, True, 1960]\n",
        "agp = ['MALAGA', 'AGP', 19858656, 3080119, False, 1946]\n",
        "alc = ['ALICANTE', 'ALC', 15048240, 4032300, False, 1951]\n",
        "lpa = ['GRAN CANARIA', 'LPA', 13261228, 19727786, True, 1933]\n",
        "tfs = ['TENERIFE SUR', 'TFS', 11168707, 2193378, True, 1978]\n",
        "vlc = ['VALENCIA', 'VLC', 8539579, 14515842, False, 1930]\n",
        "ibz = ['IBIZA', 'IBZ', 8155626, 1434695, True, 1949]\n",
        "svq = ['SEVILLA', 'SVQ', 7544357, 9891790, False, 1946]\n",
        "\n",
        "list_airport = [mad, bcn, pmi, agp, alc, lpa, tfs, vlc, ibz, svq]\n",
        "list_airport"
      ]
    },
    {
      "cell_type": "code",
      "execution_count": null,
      "id": "afa299d5",
      "metadata": {
        "id": "afa299d5",
        "outputId": "6a6c1ebd-4d3e-48e8-fda7-06d0e4f638e6"
      },
      "outputs": [
        {
          "data": {
            "text/html": [
              "<div>\n",
              "<style scoped>\n",
              "    .dataframe tbody tr th:only-of-type {\n",
              "        vertical-align: middle;\n",
              "    }\n",
              "\n",
              "    .dataframe tbody tr th {\n",
              "        vertical-align: top;\n",
              "    }\n",
              "\n",
              "    .dataframe thead th {\n",
              "        text-align: right;\n",
              "    }\n",
              "</style>\n",
              "<table border=\"1\" class=\"dataframe\">\n",
              "  <thead>\n",
              "    <tr style=\"text-align: right;\">\n",
              "      <th></th>\n",
              "      <th>Aeropuerto</th>\n",
              "      <th>CodigoIATA</th>\n",
              "      <th>Pasajeros</th>\n",
              "      <th>Mercancía</th>\n",
              "      <th>Insular</th>\n",
              "      <th>Año</th>\n",
              "    </tr>\n",
              "  </thead>\n",
              "  <tbody>\n",
              "    <tr>\n",
              "      <th>0</th>\n",
              "      <td>MADRID</td>\n",
              "      <td>MAD</td>\n",
              "      <td>61734944</td>\n",
              "      <td>560039136</td>\n",
              "      <td>False</td>\n",
              "      <td>1931</td>\n",
              "    </tr>\n",
              "    <tr>\n",
              "      <th>1</th>\n",
              "      <td>BARCELONA</td>\n",
              "      <td>BCN</td>\n",
              "      <td>52688455</td>\n",
              "      <td>176797909</td>\n",
              "      <td>False</td>\n",
              "      <td>1927</td>\n",
              "    </tr>\n",
              "    <tr>\n",
              "      <th>2</th>\n",
              "      <td>PALMA DE MALLORCA</td>\n",
              "      <td>PMI</td>\n",
              "      <td>29721142</td>\n",
              "      <td>9021606</td>\n",
              "      <td>True</td>\n",
              "      <td>1960</td>\n",
              "    </tr>\n",
              "    <tr>\n",
              "      <th>3</th>\n",
              "      <td>MALAGA</td>\n",
              "      <td>AGP</td>\n",
              "      <td>19858656</td>\n",
              "      <td>3080119</td>\n",
              "      <td>False</td>\n",
              "      <td>1946</td>\n",
              "    </tr>\n",
              "    <tr>\n",
              "      <th>4</th>\n",
              "      <td>ALICANTE</td>\n",
              "      <td>ALC</td>\n",
              "      <td>15048240</td>\n",
              "      <td>4032300</td>\n",
              "      <td>False</td>\n",
              "      <td>1951</td>\n",
              "    </tr>\n",
              "    <tr>\n",
              "      <th>5</th>\n",
              "      <td>GRAN CANARIA</td>\n",
              "      <td>LPA</td>\n",
              "      <td>13261228</td>\n",
              "      <td>19727786</td>\n",
              "      <td>True</td>\n",
              "      <td>1933</td>\n",
              "    </tr>\n",
              "    <tr>\n",
              "      <th>6</th>\n",
              "      <td>TENERIFE SUR</td>\n",
              "      <td>TFS</td>\n",
              "      <td>11168707</td>\n",
              "      <td>2193378</td>\n",
              "      <td>True</td>\n",
              "      <td>1978</td>\n",
              "    </tr>\n",
              "    <tr>\n",
              "      <th>7</th>\n",
              "      <td>VALENCIA</td>\n",
              "      <td>VLC</td>\n",
              "      <td>8539579</td>\n",
              "      <td>14515842</td>\n",
              "      <td>False</td>\n",
              "      <td>1930</td>\n",
              "    </tr>\n",
              "    <tr>\n",
              "      <th>8</th>\n",
              "      <td>IBIZA</td>\n",
              "      <td>IBZ</td>\n",
              "      <td>8155626</td>\n",
              "      <td>1434695</td>\n",
              "      <td>True</td>\n",
              "      <td>1949</td>\n",
              "    </tr>\n",
              "    <tr>\n",
              "      <th>9</th>\n",
              "      <td>SEVILLA</td>\n",
              "      <td>SVQ</td>\n",
              "      <td>7544357</td>\n",
              "      <td>9891790</td>\n",
              "      <td>False</td>\n",
              "      <td>1946</td>\n",
              "    </tr>\n",
              "  </tbody>\n",
              "</table>\n",
              "</div>"
            ],
            "text/plain": [
              "          Aeropuerto CodigoIATA  Pasajeros  Mercancía  Insular   Año\n",
              "0             MADRID        MAD   61734944  560039136    False  1931\n",
              "1          BARCELONA        BCN   52688455  176797909    False  1927\n",
              "2  PALMA DE MALLORCA        PMI   29721142    9021606     True  1960\n",
              "3             MALAGA        AGP   19858656    3080119    False  1946\n",
              "4           ALICANTE        ALC   15048240    4032300    False  1951\n",
              "5       GRAN CANARIA        LPA   13261228   19727786     True  1933\n",
              "6       TENERIFE SUR        TFS   11168707    2193378     True  1978\n",
              "7           VALENCIA        VLC    8539579   14515842    False  1930\n",
              "8              IBIZA        IBZ    8155626    1434695     True  1949\n",
              "9            SEVILLA        SVQ    7544357    9891790    False  1946"
            ]
          },
          "execution_count": 23,
          "metadata": {},
          "output_type": "execute_result"
        }
      ],
      "source": [
        "# crear el DataFrame a partir de listas\n",
        "df_airport = pd.DataFrame(list_airport,\n",
        "                    columns = ['Aeropuerto', 'CodigoIATA', 'Pasajeros', 'Mercancía', 'Insular', 'Año'])\n",
        "df_airport"
      ]
    },
    {
      "cell_type": "code",
      "execution_count": null,
      "id": "4950491a",
      "metadata": {
        "id": "4950491a"
      },
      "outputs": [],
      "source": [
        "# Exportar DataFrame a Excel\n",
        "df_airport.to_excel('excel/data_airport.xlsx')"
      ]
    },
    {
      "cell_type": "code",
      "execution_count": null,
      "id": "3bbe0d14",
      "metadata": {
        "id": "3bbe0d14"
      },
      "outputs": [],
      "source": [
        "# Exportar sin la columna de índices\n",
        "df_airport.to_excel('excel/data_airport_noindex.xlsx',\n",
        "                   index = False)"
      ]
    },
    {
      "cell_type": "markdown",
      "id": "034c3546",
      "metadata": {
        "id": "034c3546"
      },
      "source": [
        "## Exportar a csv"
      ]
    },
    {
      "cell_type": "code",
      "execution_count": null,
      "id": "41bbb89e",
      "metadata": {
        "id": "41bbb89e"
      },
      "outputs": [],
      "source": [
        "import pandas as pd           # importamos la librería Pandas\n",
        "# Exportar un df a csv\n",
        "df_airport.to_csv('excel/data_airport.csv')"
      ]
    },
    {
      "cell_type": "code",
      "execution_count": null,
      "id": "7ecda6f1",
      "metadata": {
        "id": "7ecda6f1"
      },
      "outputs": [],
      "source": [
        "# Exportar sin la columna de índices\n",
        "df_airport.to_csv('excel/data_airport_noindex.csv',\n",
        "                   index = False)"
      ]
    },
    {
      "cell_type": "code",
      "execution_count": null,
      "id": "546080d1",
      "metadata": {
        "id": "546080d1"
      },
      "outputs": [],
      "source": [
        "# Exportar df a csv sin indice y con punto y coma\n",
        "df_airport.to_csv('excel/data_airport_noindex_pc.csv',\n",
        "                  index = False,\n",
        "                  sep = ';')"
      ]
    },
    {
      "cell_type": "code",
      "execution_count": null,
      "id": "ce24e022",
      "metadata": {
        "id": "ce24e022"
      },
      "outputs": [],
      "source": [
        "# Recomendación: forzar la exportación en UTF-8\n",
        "df_airport.to_csv('excel/data_airport_utf8.csv',\n",
        "                 encoding = 'utf-8')"
      ]
    }
  ],
  "metadata": {
    "kernelspec": {
      "display_name": "Python 3 (ipykernel)",
      "language": "python",
      "name": "python3"
    },
    "language_info": {
      "codemirror_mode": {
        "name": "ipython",
        "version": 3
      },
      "file_extension": ".py",
      "mimetype": "text/x-python",
      "name": "python",
      "nbconvert_exporter": "python",
      "pygments_lexer": "ipython3",
      "version": "3.8.11"
    },
    "colab": {
      "name": "0150_exportar_dataframe.ipynb",
      "provenance": [],
      "include_colab_link": true
    }
  },
  "nbformat": 4,
  "nbformat_minor": 5
}
