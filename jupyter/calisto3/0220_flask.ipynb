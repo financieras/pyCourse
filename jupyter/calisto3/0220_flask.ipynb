{
  "cells": [
    {
      "cell_type": "markdown",
      "metadata": {
        "id": "view-in-github",
        "colab_type": "text"
      },
      "source": [
        "<a href=\"https://colab.research.google.com/github/financieras/pyCourse/blob/main/jupyter/calisto3/0220_flask.ipynb\" target=\"_parent\"><img src=\"https://colab.research.google.com/assets/colab-badge.svg\" alt=\"Open In Colab\"/></a>"
      ]
    },
    {
      "cell_type": "markdown",
      "id": "f63d9472",
      "metadata": {
        "id": "f63d9472"
      },
      "source": [
        "# Flask\n",
        "Flask es un microframework web que permite publicar páginas web programando un Python."
      ]
    },
    {
      "cell_type": "markdown",
      "id": "9ef8560b",
      "metadata": {
        "id": "9ef8560b"
      },
      "source": [
        "## Entrando en el mundo Flask\n",
        "\n",
        "* [¿Qué es Flask?](https://altocodigo.blogspot.com/2020/07/que-es-flask.html)\n",
        "* [Instalación de Flask en Linux](https://altocodigo.blogspot.com/2020/07/instalacion-de-flask-en-linux.html)\n",
        "* [Hola Mundo en PythonAnywhere con Flask](https://altocodigo.blogspot.com/2021/05/flask-en-pythonanywhere.html)\n",
        "* [PythonAnywhere subiendo una aplicación Flask desde GitHub](https://altocodigo.blogspot.com/2021/06/pythonanywhere-subiendo-una-aplicacion.html)\n",
        "* [Flask en PythonAnywhere con despliegue continuo usando GitHub](https://altocodigo.blogspot.com/2021/06/flask-en-pythonanywhere-con-despliegue.html)\n",
        "* [Flask en Heroku usando GitHub](https://altocodigo.blogspot.com/2021/04/curso-de-flask.html)\n",
        "* [Generar numeros impares entre 100 y 120 con Flask](https://altocodigo.blogspot.com/2020/08/generar-numeros-impares-entre-100-y-120.html)\n",
        "* [Números primos en Flask](https://altocodigo.blogspot.com/2021/06/numeros-primos-en-flask.html)"
      ]
    },
    {
      "cell_type": "markdown",
      "id": "01a44eab",
      "metadata": {
        "id": "01a44eab"
      },
      "source": [
        "La creación de un entorno virtual es optativo, pero se recomienda para que los proyectos tengan cada uno sus propias versiones de Python y de las librerías que se utilicen."
      ]
    },
    {
      "cell_type": "code",
      "execution_count": null,
      "id": "3e5f71c6",
      "metadata": {
        "id": "3e5f71c6"
      },
      "outputs": [],
      "source": [
        "from flask import Flask\n",
        "\n",
        "app = Flask(__name__)\n",
        "\n",
        "@app.route('/')\n",
        "def hello_world():\n",
        "    return 'Hello, World!'\n",
        "\n",
        "if __name__ == '__main__':\n",
        "    app.run()"
      ]
    }
  ],
  "metadata": {
    "kernelspec": {
      "display_name": "Python 3 (ipykernel)",
      "language": "python",
      "name": "python3"
    },
    "language_info": {
      "codemirror_mode": {
        "name": "ipython",
        "version": 3
      },
      "file_extension": ".py",
      "mimetype": "text/x-python",
      "name": "python",
      "nbconvert_exporter": "python",
      "pygments_lexer": "ipython3",
      "version": "3.8.11"
    },
    "colab": {
      "name": "0220_flask.ipynb",
      "provenance": [],
      "include_colab_link": true
    }
  },
  "nbformat": 4,
  "nbformat_minor": 5
}