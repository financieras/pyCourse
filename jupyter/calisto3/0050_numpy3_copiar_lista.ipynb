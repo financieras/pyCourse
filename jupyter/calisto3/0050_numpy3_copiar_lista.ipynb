{
  "cells": [
    {
      "cell_type": "markdown",
      "metadata": {
        "id": "view-in-github",
        "colab_type": "text"
      },
      "source": [
        "<a href=\"https://colab.research.google.com/github/financieras/pyCourse/blob/main/jupyter/calisto3/0050_numpy3_copiar_lista.ipynb\" target=\"_parent\"><img src=\"https://colab.research.google.com/assets/colab-badge.svg\" alt=\"Open In Colab\"/></a>"
      ]
    },
    {
      "cell_type": "markdown",
      "metadata": {
        "id": "1XnmHyc1Nqwh"
      },
      "source": [
        "# NumPy [3] Copia de una lista en Numpy"
      ]
    },
    {
      "cell_type": "markdown",
      "metadata": {
        "id": "lhMtFIlvNqwn"
      },
      "source": [
        "## Copia de una lista normal  \n",
        "Las listas x e y ocupan el mismo espacio en memoria, en realidad son la misma lista  \n",
        "Si añadimos un elemento con append a la lista x, quedará también añadido a la lista y"
      ]
    },
    {
      "cell_type": "code",
      "execution_count": 1,
      "metadata": {
        "id": "T5KM7K9nNqw1",
        "outputId": "3c2af52b-c284-4804-f2a4-99eeafabc1ce",
        "colab": {
          "base_uri": "https://localhost:8080/"
        }
      },
      "outputs": [
        {
          "output_type": "execute_result",
          "data": {
            "text/plain": [
              "[1, 2, 3, 4, 5]"
            ]
          },
          "metadata": {},
          "execution_count": 1
        }
      ],
      "source": [
        "x = [1, 2, 3, 4]\n",
        "y = x\n",
        "x.append(5)\n",
        "y"
      ]
    },
    {
      "cell_type": "markdown",
      "metadata": {
        "id": "MBw7tySONqw6"
      },
      "source": [
        "## Copiando valores en una lista normal  \n",
        "Si queremos que el efecto anterior no se produzca y que la copia de las listas sea una copia de valores  \n",
        "dando lugar a listas independientes, debemos usar el siguiente método."
      ]
    },
    {
      "cell_type": "code",
      "execution_count": 2,
      "metadata": {
        "id": "RcarIrh-NqxI",
        "outputId": "99545b9a-d3e3-4d67-fea4-faca06726993",
        "colab": {
          "base_uri": "https://localhost:8080/"
        }
      },
      "outputs": [
        {
          "output_type": "execute_result",
          "data": {
            "text/plain": [
              "[1, 2, 3, 4]"
            ]
          },
          "metadata": {},
          "execution_count": 2
        }
      ],
      "source": [
        "p = [1, 2, 3, 4]\n",
        "q = p[:]\n",
        "p.append(5)\n",
        "q"
      ]
    },
    {
      "cell_type": "markdown",
      "metadata": {
        "id": "Z3oOvOJ0NqxK"
      },
      "source": [
        "## Copiando una lista de tipo Numpy  \n",
        "Si la lista es un **ndarray** la copia será independiente sin necesidad de emplear ningún truco."
      ]
    },
    {
      "cell_type": "code",
      "execution_count": 3,
      "metadata": {
        "id": "XLBcN0g9NqxL",
        "outputId": "36e54da0-92c9-4ba5-9c69-8b2a2120cc57",
        "colab": {
          "base_uri": "https://localhost:8080/"
        }
      },
      "outputs": [
        {
          "output_type": "execute_result",
          "data": {
            "text/plain": [
              "array([1, 2, 3, 4])"
            ]
          },
          "metadata": {},
          "execution_count": 3
        }
      ],
      "source": [
        "import numpy as np\n",
        "a = np.array([1, 2, 3, 4])\n",
        "b = a\n",
        "np.append(a, 5)\n",
        "b"
      ]
    },
    {
      "cell_type": "markdown",
      "metadata": {
        "id": "7a98TMWSNqxO"
      },
      "source": [
        "## Seleccionar elementos de una matriz  \n",
        "### Seleccionar un único elemento"
      ]
    },
    {
      "cell_type": "code",
      "execution_count": 4,
      "metadata": {
        "id": "0ESrRkidNqxU",
        "outputId": "48b663af-054f-4e59-a190-dd192b923583",
        "colab": {
          "base_uri": "https://localhost:8080/"
        }
      },
      "outputs": [
        {
          "output_type": "execute_result",
          "data": {
            "text/plain": [
              "array([[10, 11, 12, 13],\n",
              "       [14, 15, 16, 17],\n",
              "       [18, 19, 20, 21]])"
            ]
          },
          "metadata": {},
          "execution_count": 4
        }
      ],
      "source": [
        "M = np.arange(10, 22).reshape(3, 4)\n",
        "M"
      ]
    },
    {
      "cell_type": "code",
      "execution_count": 5,
      "metadata": {
        "id": "IeIAEaqONqxW",
        "outputId": "39dcc109-8ab4-4830-98ee-ec8cfc78cd9b",
        "colab": {
          "base_uri": "https://localhost:8080/"
        }
      },
      "outputs": [
        {
          "output_type": "execute_result",
          "data": {
            "text/plain": [
              "(3, 4)"
            ]
          },
          "metadata": {},
          "execution_count": 5
        }
      ],
      "source": [
        "np.shape(M)  # proporciona la dimensión de la matriz: filas × columnas"
      ]
    },
    {
      "cell_type": "markdown",
      "metadata": {
        "id": "tOQHrk8YNqxe"
      },
      "source": [
        "#### Seleccionar el primer elemento"
      ]
    },
    {
      "cell_type": "code",
      "execution_count": 6,
      "metadata": {
        "id": "CaiS-rvFNqxg",
        "outputId": "399c6181-7bfc-4de5-a12a-91604a85927e",
        "colab": {
          "base_uri": "https://localhost:8080/"
        }
      },
      "outputs": [
        {
          "output_type": "execute_result",
          "data": {
            "text/plain": [
              "10"
            ]
          },
          "metadata": {},
          "execution_count": 6
        }
      ],
      "source": [
        "M[0, 0]    # Método 1"
      ]
    },
    {
      "cell_type": "code",
      "execution_count": 7,
      "metadata": {
        "id": "IRpJ7afgNqxj",
        "outputId": "ee1c4805-8cda-4f04-8b2b-6bdde3431bbb",
        "colab": {
          "base_uri": "https://localhost:8080/"
        }
      },
      "outputs": [
        {
          "output_type": "execute_result",
          "data": {
            "text/plain": [
              "10"
            ]
          },
          "metadata": {},
          "execution_count": 7
        }
      ],
      "source": [
        "M[0][0]    # Método 2      ¿Qué método prefieres?"
      ]
    },
    {
      "cell_type": "markdown",
      "metadata": {
        "id": "Yxc9tv2XNqxs"
      },
      "source": [
        "**Ejercicio**  \n",
        "Selecciona un elemento para que dé como resultado 21"
      ]
    },
    {
      "cell_type": "markdown",
      "metadata": {
        "id": "Lr0rHiL-Nqx2"
      },
      "source": [
        "### Seleccionar varios elementos"
      ]
    },
    {
      "cell_type": "markdown",
      "metadata": {
        "id": "gn-mPNkaNqx3"
      },
      "source": [
        "#### Seleccionar la fila 1"
      ]
    },
    {
      "cell_type": "code",
      "execution_count": 8,
      "metadata": {
        "id": "sQ-RkN8NNqx6",
        "outputId": "015b3f68-b37e-43de-8058-c39624d10b87",
        "colab": {
          "base_uri": "https://localhost:8080/"
        }
      },
      "outputs": [
        {
          "output_type": "execute_result",
          "data": {
            "text/plain": [
              "array([14, 15, 16, 17])"
            ]
          },
          "metadata": {},
          "execution_count": 8
        }
      ],
      "source": [
        "M[1,:]"
      ]
    },
    {
      "cell_type": "markdown",
      "metadata": {
        "id": "jvQI6nO5Nqx8"
      },
      "source": [
        "#### Seleccionar la columna 0"
      ]
    },
    {
      "cell_type": "code",
      "execution_count": 9,
      "metadata": {
        "id": "O6BdW1jCNqx9",
        "outputId": "6d24b31b-ccae-47d5-a62b-a472f671b41f",
        "colab": {
          "base_uri": "https://localhost:8080/"
        }
      },
      "outputs": [
        {
          "output_type": "execute_result",
          "data": {
            "text/plain": [
              "array([10, 14, 18])"
            ]
          },
          "metadata": {},
          "execution_count": 9
        }
      ],
      "source": [
        "M[:,0]"
      ]
    },
    {
      "cell_type": "markdown",
      "metadata": {
        "id": "fEdCv9YmNqyD"
      },
      "source": [
        "#### Seleccionar submatrices"
      ]
    },
    {
      "cell_type": "code",
      "execution_count": 10,
      "metadata": {
        "id": "V9H4LBLvNqyF",
        "outputId": "4eabab2c-d8de-4259-a435-6ea40c5aa1ea",
        "colab": {
          "base_uri": "https://localhost:8080/"
        }
      },
      "outputs": [
        {
          "output_type": "execute_result",
          "data": {
            "text/plain": [
              "array([[10],\n",
              "       [14],\n",
              "       [18]])"
            ]
          },
          "metadata": {},
          "execution_count": 10
        }
      ],
      "source": [
        "M[:,[0]]"
      ]
    },
    {
      "cell_type": "code",
      "execution_count": 11,
      "metadata": {
        "id": "PQvfQM35NqyG",
        "outputId": "e31ba7d2-184d-47d6-8fa8-b7cefeaa41f9",
        "colab": {
          "base_uri": "https://localhost:8080/"
        }
      },
      "outputs": [
        {
          "output_type": "execute_result",
          "data": {
            "text/plain": [
              "(3, 1)"
            ]
          },
          "metadata": {},
          "execution_count": 11
        }
      ],
      "source": [
        "M[:,[0]].shape    # obtenemos un matriz de orden 3×1"
      ]
    },
    {
      "cell_type": "code",
      "execution_count": 12,
      "metadata": {
        "id": "K3ohrINQNqyI",
        "outputId": "0d867985-08d6-4fd7-b95a-377631ab9cd0",
        "colab": {
          "base_uri": "https://localhost:8080/"
        }
      },
      "outputs": [
        {
          "output_type": "execute_result",
          "data": {
            "text/plain": [
              "array([[10, 11],\n",
              "       [14, 15],\n",
              "       [18, 19]])"
            ]
          },
          "metadata": {},
          "execution_count": 12
        }
      ],
      "source": [
        "M[:,[0,1]]"
      ]
    },
    {
      "cell_type": "code",
      "execution_count": 13,
      "metadata": {
        "id": "kGrVPRs3NqyJ",
        "outputId": "4901bf9b-c586-4526-8785-2ce494b87d06",
        "colab": {
          "base_uri": "https://localhost:8080/"
        }
      },
      "outputs": [
        {
          "output_type": "execute_result",
          "data": {
            "text/plain": [
              "(3, 2)"
            ]
          },
          "metadata": {},
          "execution_count": 13
        }
      ],
      "source": [
        "M[:,[0,1]].shape    # obtenemos un matriz de orden 3×2"
      ]
    },
    {
      "cell_type": "markdown",
      "metadata": {
        "id": "oeSIZFlLNqyK"
      },
      "source": [
        "### Seleccionando elementos con un filtro de selección"
      ]
    },
    {
      "cell_type": "markdown",
      "metadata": {
        "id": "mpiPjkVnNqyL"
      },
      "source": [
        "#### Generando el filtro"
      ]
    },
    {
      "cell_type": "markdown",
      "metadata": {
        "id": "EBgjtUPsNqyM"
      },
      "source": [
        "Generamos un array de números aleatorios, los redondeamos a dos decimales  \n",
        "y vemos los que son menores que 0.5"
      ]
    },
    {
      "cell_type": "code",
      "execution_count": 14,
      "metadata": {
        "id": "miHzhisPNqyM",
        "outputId": "a1bc4de8-222d-421a-dd2b-8c79d7dbc709",
        "colab": {
          "base_uri": "https://localhost:8080/"
        }
      },
      "outputs": [
        {
          "output_type": "execute_result",
          "data": {
            "text/plain": [
              "array([ True,  True, False, False, False, False, False,  True,  True])"
            ]
          },
          "metadata": {},
          "execution_count": 14
        }
      ],
      "source": [
        "np.random.rand(9).round(2) < .5"
      ]
    },
    {
      "cell_type": "markdown",
      "metadata": {
        "id": "F1FGqoeANqyP"
      },
      "source": [
        "#### Mostrando los elementos seleccionados"
      ]
    },
    {
      "cell_type": "code",
      "execution_count": 15,
      "metadata": {
        "id": "Hqxvods2Nqyj",
        "outputId": "36c80773-07b5-43cc-ae95-09d6af5e91d0",
        "colab": {
          "base_uri": "https://localhost:8080/"
        }
      },
      "outputs": [
        {
          "output_type": "execute_result",
          "data": {
            "text/plain": [
              "array([11, 12,  9, 21, 74, 35, 25, 94, 96, 35,  5, 93, 69, 72, 30, 90, 23])"
            ]
          },
          "metadata": {},
          "execution_count": 15
        }
      ],
      "source": [
        "edad = np.random.randint(3, 100, size=17)   # edad de 17 personas elegidas al azar entre 3 y 99 años\n",
        "edad"
      ]
    },
    {
      "cell_type": "code",
      "execution_count": 16,
      "metadata": {
        "id": "EUo6jhwLNqyl",
        "outputId": "a3782e82-e316-4657-c15e-0f334947ce98",
        "colab": {
          "base_uri": "https://localhost:8080/"
        }
      },
      "outputs": [
        {
          "output_type": "execute_result",
          "data": {
            "text/plain": [
              "array([11, 12,  9,  5])"
            ]
          },
          "metadata": {},
          "execution_count": 16
        }
      ],
      "source": [
        "menores=edad[edad<18]\n",
        "menores"
      ]
    },
    {
      "cell_type": "markdown",
      "metadata": {
        "id": "AM5eDe7qNqyn"
      },
      "source": [
        "# Algebra lineal (numpy.linalg)  \n",
        "[Linear algebra (numpy.linalg)](https://numpy.org/doc/stable/reference/routines.linalg.html)"
      ]
    },
    {
      "cell_type": "markdown",
      "metadata": {
        "id": "jGURqdymNqyn"
      },
      "source": [
        "## Matriz identidad"
      ]
    },
    {
      "cell_type": "code",
      "execution_count": 17,
      "metadata": {
        "id": "CsXKVJCQNqyp",
        "outputId": "8f719c50-e3cd-44b7-e867-474d47831257",
        "colab": {
          "base_uri": "https://localhost:8080/"
        }
      },
      "outputs": [
        {
          "output_type": "execute_result",
          "data": {
            "text/plain": [
              "array([[1., 0., 0.],\n",
              "       [0., 1., 0.],\n",
              "       [0., 0., 1.]])"
            ]
          },
          "metadata": {},
          "execution_count": 17
        }
      ],
      "source": [
        "np.eye(3)"
      ]
    },
    {
      "cell_type": "markdown",
      "metadata": {
        "id": "O3ZujB1tNqyq"
      },
      "source": [
        "## Producto de matrices"
      ]
    },
    {
      "cell_type": "code",
      "execution_count": 18,
      "metadata": {
        "id": "eMVO78gpNqyq",
        "outputId": "90e18661-aa77-457d-e433-8521eb0f3525",
        "colab": {
          "base_uri": "https://localhost:8080/"
        }
      },
      "outputs": [
        {
          "output_type": "execute_result",
          "data": {
            "text/plain": [
              "array([[10., 11., 12., 13.],\n",
              "       [14., 15., 16., 17.],\n",
              "       [18., 19., 20., 21.]])"
            ]
          },
          "metadata": {},
          "execution_count": 18
        }
      ],
      "source": [
        "M.dot(np.eye(4))    # M por la Identidad es igual a M. Para que se puedan multiplicar deben ser congruentes"
      ]
    },
    {
      "cell_type": "markdown",
      "metadata": {
        "id": "H2oIbG75Nqyr"
      },
      "source": [
        "## Resolución de sistemas lineales"
      ]
    },
    {
      "cell_type": "code",
      "execution_count": 19,
      "metadata": {
        "id": "x6mZcGS2Nqys"
      },
      "outputs": [],
      "source": [
        "a = np.array([[1,1,1], [0,2,5], [2,5,-1]])\n",
        "b = np.array([[6], [-4], [27]])\n",
        "ainv = np.linalg.inv(a)"
      ]
    },
    {
      "cell_type": "markdown",
      "metadata": {
        "id": "HiOdwcrhNqyt"
      },
      "source": [
        "### Método 1 multiplicando por la inversa"
      ]
    },
    {
      "cell_type": "code",
      "execution_count": 20,
      "metadata": {
        "id": "Etgtcs7qNqyt",
        "outputId": "347a93d7-6510-4a7c-f9c9-d0b449559cce",
        "colab": {
          "base_uri": "https://localhost:8080/"
        }
      },
      "outputs": [
        {
          "output_type": "execute_result",
          "data": {
            "text/plain": [
              "array([[ 5.],\n",
              "       [ 3.],\n",
              "       [-2.]])"
            ]
          },
          "metadata": {},
          "execution_count": 20
        }
      ],
      "source": [
        "x = np.dot(ainv,b)        #Producto de dos matrices\n",
        "x"
      ]
    },
    {
      "cell_type": "markdown",
      "metadata": {
        "id": "YSf7qnLkNqyu"
      },
      "source": [
        "### Método 2 con solve"
      ]
    },
    {
      "cell_type": "code",
      "execution_count": 21,
      "metadata": {
        "id": "f5WgOLB9NqzH",
        "outputId": "f3743501-43f9-4dd0-b776-779da1c6be1e",
        "colab": {
          "base_uri": "https://localhost:8080/"
        }
      },
      "outputs": [
        {
          "output_type": "execute_result",
          "data": {
            "text/plain": [
              "array([[ 5.],\n",
              "       [ 3.],\n",
              "       [-2.]])"
            ]
          },
          "metadata": {},
          "execution_count": 21
        }
      ],
      "source": [
        "x = np.linalg.solve(a,b)  #Resuelve un sistema de ecuaciones lineales\n",
        "x"
      ]
    }
  ],
  "metadata": {
    "kernelspec": {
      "display_name": "Python 3 (ipykernel)",
      "language": "python",
      "name": "python3"
    },
    "language_info": {
      "codemirror_mode": {
        "name": "ipython",
        "version": 3
      },
      "file_extension": ".py",
      "mimetype": "text/x-python",
      "name": "python",
      "nbconvert_exporter": "python",
      "pygments_lexer": "ipython3",
      "version": "3.8.11"
    },
    "colab": {
      "name": "0050_numpy3_copiar_lista.ipynb",
      "provenance": [],
      "include_colab_link": true
    }
  },
  "nbformat": 4,
  "nbformat_minor": 0
}