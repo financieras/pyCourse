{
  "cells": [
    {
      "cell_type": "markdown",
      "metadata": {
        "id": "view-in-github",
        "colab_type": "text"
      },
      "source": [
        "<a href=\"https://colab.research.google.com/github/financieras/pyCourse/blob/main/jupyter/calisto3/calisto3_0050.ipynb\" target=\"_parent\"><img src=\"https://colab.research.google.com/assets/colab-badge.svg\" alt=\"Open In Colab\"/></a>"
      ]
    },
    {
      "cell_type": "markdown",
      "metadata": {
        "id": "1XnmHyc1Nqwh"
      },
      "source": [
        "# NumPy [3] Copia de una lista en Numpy"
      ]
    },
    {
      "cell_type": "markdown",
      "metadata": {
        "id": "lhMtFIlvNqwn"
      },
      "source": [
        "## Copia de una lista normal  \n",
        "Las listas x e y ocupan el mismo espacio en memoria, en realidad son la misma lista  \n",
        "Si añadimos un elemento con append a la lista x, quedará también añadido a la lista y"
      ]
    },
    {
      "cell_type": "code",
      "execution_count": null,
      "metadata": {
        "id": "T5KM7K9nNqw1"
      },
      "outputs": [],
      "source": [
        "x = [1, 2, 3, 4]\n",
        "y = x\n",
        "x.append(5)\n",
        "y"
      ]
    },
    {
      "cell_type": "markdown",
      "metadata": {
        "id": "MBw7tySONqw6"
      },
      "source": [
        "## Copiando valores en una lista normal  \n",
        "Si queremos que el efecto anterior no se produzca y que la copia de las listas sea una copia de valores  \n",
        "dando lugar a listas independientes, debemos usar el siguiente método."
      ]
    },
    {
      "cell_type": "code",
      "execution_count": null,
      "metadata": {
        "id": "RcarIrh-NqxI"
      },
      "outputs": [],
      "source": [
        "p = [1, 2, 3, 4]\n",
        "q = p[:]\n",
        "p.append(5)\n",
        "q"
      ]
    },
    {
      "cell_type": "markdown",
      "metadata": {
        "id": "Z3oOvOJ0NqxK"
      },
      "source": [
        "## Copiando una lista de tipo Numpy  \n",
        "Si la lista es un **ndarray** la copia será independiente sin necesidad de emplear ningún truco."
      ]
    },
    {
      "cell_type": "code",
      "execution_count": null,
      "metadata": {
        "id": "XLBcN0g9NqxL"
      },
      "outputs": [],
      "source": [
        "import numpy as np\n",
        "a = np.array([1, 2, 3, 4])\n",
        "b = a\n",
        "np.append(a, 5)\n",
        "b"
      ]
    },
    {
      "cell_type": "markdown",
      "metadata": {
        "id": "7a98TMWSNqxO"
      },
      "source": [
        "## Seleccionar elementos de una matriz  \n",
        "### Seleccionar un único elemento"
      ]
    },
    {
      "cell_type": "code",
      "execution_count": null,
      "metadata": {
        "id": "0ESrRkidNqxU"
      },
      "outputs": [],
      "source": [
        "M = np.arange(10, 22).reshape(3, 4)\n",
        "M"
      ]
    },
    {
      "cell_type": "code",
      "execution_count": null,
      "metadata": {
        "id": "IeIAEaqONqxW"
      },
      "outputs": [],
      "source": [
        "np.shape(M)  # proporciona la dimensión de la matriz: filas × columnas"
      ]
    },
    {
      "cell_type": "markdown",
      "metadata": {
        "id": "tOQHrk8YNqxe"
      },
      "source": [
        "#### Seleccionar el primer elemento"
      ]
    },
    {
      "cell_type": "code",
      "execution_count": null,
      "metadata": {
        "id": "CaiS-rvFNqxg"
      },
      "outputs": [],
      "source": [
        "M[0, 0]    # Método 1"
      ]
    },
    {
      "cell_type": "code",
      "execution_count": null,
      "metadata": {
        "id": "IRpJ7afgNqxj"
      },
      "outputs": [],
      "source": [
        "M[0][0]    # Método 2      ¿Qué método prefieres?"
      ]
    },
    {
      "cell_type": "markdown",
      "metadata": {
        "id": "Yxc9tv2XNqxs"
      },
      "source": [
        "**Ejercicio**  \n",
        "Selecciona un elemento para que dé como resultado 21"
      ]
    },
    {
      "cell_type": "markdown",
      "metadata": {
        "id": "Lr0rHiL-Nqx2"
      },
      "source": [
        "### Seleccionar varios elementos"
      ]
    },
    {
      "cell_type": "markdown",
      "metadata": {
        "id": "gn-mPNkaNqx3"
      },
      "source": [
        "#### Seleccionar la fila 1"
      ]
    },
    {
      "cell_type": "code",
      "execution_count": null,
      "metadata": {
        "id": "sQ-RkN8NNqx6"
      },
      "outputs": [],
      "source": [
        "M[1,:]"
      ]
    },
    {
      "cell_type": "markdown",
      "metadata": {
        "id": "jvQI6nO5Nqx8"
      },
      "source": [
        "#### Seleccionar la columna 0"
      ]
    },
    {
      "cell_type": "code",
      "execution_count": null,
      "metadata": {
        "id": "O6BdW1jCNqx9"
      },
      "outputs": [],
      "source": [
        "M[:,0]"
      ]
    },
    {
      "cell_type": "markdown",
      "metadata": {
        "id": "fEdCv9YmNqyD"
      },
      "source": [
        "#### Seleccionar submatrices"
      ]
    },
    {
      "cell_type": "code",
      "execution_count": null,
      "metadata": {
        "id": "V9H4LBLvNqyF"
      },
      "outputs": [],
      "source": [
        "M[:,[0]]"
      ]
    },
    {
      "cell_type": "code",
      "execution_count": null,
      "metadata": {
        "id": "PQvfQM35NqyG"
      },
      "outputs": [],
      "source": [
        "M[:,[0]].shape    # obtenemos un matriz de orden 3×1"
      ]
    },
    {
      "cell_type": "code",
      "execution_count": null,
      "metadata": {
        "id": "K3ohrINQNqyI"
      },
      "outputs": [],
      "source": [
        "M[:,[0,1]]"
      ]
    },
    {
      "cell_type": "code",
      "execution_count": null,
      "metadata": {
        "id": "kGrVPRs3NqyJ"
      },
      "outputs": [],
      "source": [
        "M[:,[0,1]].shape    # obtenemos un matriz de orden 3×2"
      ]
    },
    {
      "cell_type": "markdown",
      "metadata": {
        "id": "oeSIZFlLNqyK"
      },
      "source": [
        "### Seleccionando elementos con un filtro de selección"
      ]
    },
    {
      "cell_type": "markdown",
      "metadata": {
        "id": "mpiPjkVnNqyL"
      },
      "source": [
        "#### Generando el filtro"
      ]
    },
    {
      "cell_type": "markdown",
      "metadata": {
        "id": "EBgjtUPsNqyM"
      },
      "source": [
        "Generamos un array de números aleatorios, los redondeamos a dos decimales  \n",
        "y vemos los que son menores que 0.5"
      ]
    },
    {
      "cell_type": "code",
      "execution_count": null,
      "metadata": {
        "id": "miHzhisPNqyM"
      },
      "outputs": [],
      "source": [
        "np.random.rand(9).round(2) < .5"
      ]
    },
    {
      "cell_type": "markdown",
      "metadata": {
        "id": "F1FGqoeANqyP"
      },
      "source": [
        "#### Mostrando los elementos seleccionados"
      ]
    },
    {
      "cell_type": "code",
      "execution_count": null,
      "metadata": {
        "id": "Hqxvods2Nqyj"
      },
      "outputs": [],
      "source": [
        "edad = np.random.randint(3, 100, size=17)   # edad de 17 personas elegidas al azar entre 3 y 99 años\n",
        "edad"
      ]
    },
    {
      "cell_type": "code",
      "execution_count": null,
      "metadata": {
        "id": "EUo6jhwLNqyl"
      },
      "outputs": [],
      "source": [
        "menores=edad[edad<18]\n",
        "menores"
      ]
    },
    {
      "cell_type": "markdown",
      "metadata": {
        "id": "AM5eDe7qNqyn"
      },
      "source": [
        "# Algebra lineal (numpy.linalg)  \n",
        "[Linear algebra (numpy.linalg)](https://numpy.org/doc/stable/reference/routines.linalg.html)"
      ]
    },
    {
      "cell_type": "markdown",
      "metadata": {
        "id": "jGURqdymNqyn"
      },
      "source": [
        "## Matriz identidad"
      ]
    },
    {
      "cell_type": "code",
      "execution_count": null,
      "metadata": {
        "id": "CsXKVJCQNqyp"
      },
      "outputs": [],
      "source": [
        "np.eye(3)"
      ]
    },
    {
      "cell_type": "markdown",
      "metadata": {
        "id": "O3ZujB1tNqyq"
      },
      "source": [
        "## Producto de matrices"
      ]
    },
    {
      "cell_type": "code",
      "execution_count": null,
      "metadata": {
        "id": "eMVO78gpNqyq"
      },
      "outputs": [],
      "source": [
        "M.dot(np.eye(4))    # M por la Identidad es igual a M. Para que se puedan multiplicar deben ser congruentes"
      ]
    },
    {
      "cell_type": "markdown",
      "metadata": {
        "id": "H2oIbG75Nqyr"
      },
      "source": [
        "## Resolución de sistemas lineales"
      ]
    },
    {
      "cell_type": "code",
      "execution_count": null,
      "metadata": {
        "id": "x6mZcGS2Nqys"
      },
      "outputs": [],
      "source": [
        "a = np.array([[1,1,1], [0,2,5], [2,5,-1]])\n",
        "b = np.array([[6], [-4], [27]])\n",
        "ainv = np.linalg.inv(a)"
      ]
    },
    {
      "cell_type": "markdown",
      "metadata": {
        "id": "HiOdwcrhNqyt"
      },
      "source": [
        "### Método 1 multiplicando por la inversa"
      ]
    },
    {
      "cell_type": "code",
      "execution_count": null,
      "metadata": {
        "id": "Etgtcs7qNqyt"
      },
      "outputs": [],
      "source": [
        "x = np.dot(ainv,b)        #Producto de dos matrices\n",
        "x"
      ]
    },
    {
      "cell_type": "markdown",
      "metadata": {
        "id": "YSf7qnLkNqyu"
      },
      "source": [
        "### Método 2 con solve"
      ]
    },
    {
      "cell_type": "code",
      "execution_count": null,
      "metadata": {
        "id": "f5WgOLB9NqzH"
      },
      "outputs": [],
      "source": [
        "x = np.linalg.solve(a,b)  #Resuelve un sistema de ecuaciones lineales\n",
        "x"
      ]
    }
  ],
  "metadata": {
    "kernelspec": {
      "display_name": "Python 3 (ipykernel)",
      "language": "python",
      "name": "python3"
    },
    "language_info": {
      "codemirror_mode": {
        "name": "ipython",
        "version": 3
      },
      "file_extension": ".py",
      "mimetype": "text/x-python",
      "name": "python",
      "nbconvert_exporter": "python",
      "pygments_lexer": "ipython3",
      "version": "3.8.11"
    },
    "colab": {
      "name": "0050_numpy3_copiar_lista.ipynb",
      "provenance": [],
      "include_colab_link": true
    }
  },
  "nbformat": 4,
  "nbformat_minor": 0
}
