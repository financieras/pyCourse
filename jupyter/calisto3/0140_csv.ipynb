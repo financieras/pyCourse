{
  "cells": [
    {
      "cell_type": "markdown",
      "metadata": {
        "id": "view-in-github",
        "colab_type": "text"
      },
      "source": [
        "<a href=\"https://colab.research.google.com/github/financieras/pyCourse/blob/main/jupyter/calisto3/calisto3_0140.ipynb\" target=\"_parent\"><img src=\"https://colab.research.google.com/assets/colab-badge.svg\" alt=\"Open In Colab\"/></a>"
      ]
    },
    {
      "cell_type": "markdown",
      "metadata": {
        "id": "JUlmFrUN645V"
      },
      "source": [
        "# Importar csv a Python  \n",
        "Leer archivos csv como pandas DataFrame.  "
      ]
    },
    {
      "cell_type": "markdown",
      "metadata": {
        "id": "6Apr8Bd7645f"
      },
      "source": [
        "## Caso1: separado por comas y con cabecera"
      ]
    },
    {
      "cell_type": "code",
      "execution_count": null,
      "metadata": {
        "scrolled": true,
        "id": "C0EdpL3D645i"
      },
      "outputs": [],
      "source": [
        "import pandas as pd             # importamos pandas\n",
        "path = 'excel/aeropuertos.csv' # establecemos la ruta del archivo\n",
        "pd.read_csv(path)"
      ]
    },
    {
      "cell_type": "markdown",
      "metadata": {
        "id": "TdyKFV_k645n"
      },
      "source": [
        "## Caso2: separado por punto y coma"
      ]
    },
    {
      "cell_type": "code",
      "execution_count": null,
      "metadata": {
        "scrolled": true,
        "id": "xIf7zBQF645o"
      },
      "outputs": [],
      "source": [
        "path = 'excel/multiriesgo.csv' # establecemos la ruta del archivo\n",
        "pd.read_csv(path,\n",
        "            sep = ';')"
      ]
    },
    {
      "cell_type": "markdown",
      "metadata": {
        "id": "yRXNdCE2645q"
      },
      "source": [
        "## Caso3: sin nombre de columna"
      ]
    },
    {
      "cell_type": "code",
      "execution_count": null,
      "metadata": {
        "id": "yA8HKOBS645v"
      },
      "outputs": [],
      "source": [
        "path = 'excel/resultados.csv' # establecemos la ruta del archivo\n",
        "resultados2020 = pd.read_csv(path,\n",
        "                             header = None,\n",
        "                             names = ['Resultado','marzo2020', 'marzo2021'])\n",
        "resultados2020  # esta es la variable a la que hemos asociado el DataFrame para luego tratarla"
      ]
    },
    {
      "cell_type": "markdown",
      "metadata": {
        "id": "OHyyP9gl645y"
      },
      "source": [
        "![](https://github.com/financieras/pyCourse/blob/main/jupyter/PushPyll2.png?raw=1)"
      ]
    }
  ],
  "metadata": {
    "kernelspec": {
      "display_name": "Python 3 (ipykernel)",
      "language": "python",
      "name": "python3"
    },
    "language_info": {
      "codemirror_mode": {
        "name": "ipython",
        "version": 3
      },
      "file_extension": ".py",
      "mimetype": "text/x-python",
      "name": "python",
      "nbconvert_exporter": "python",
      "pygments_lexer": "ipython3",
      "version": "3.8.11"
    },
    "colab": {
      "name": "0140_csv.ipynb",
      "provenance": [],
      "include_colab_link": true
    }
  },
  "nbformat": 4,
  "nbformat_minor": 0
}
