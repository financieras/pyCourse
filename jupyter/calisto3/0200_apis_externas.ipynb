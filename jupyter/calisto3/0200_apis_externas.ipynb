{
  "cells": [
    {
      "cell_type": "markdown",
      "metadata": {
        "id": "view-in-github",
        "colab_type": "text"
      },
      "source": [
        "<a href=\"https://colab.research.google.com/github/financieras/pyCourse/blob/main/jupyter/calisto3/calisto3_0200.ipynb\" target=\"_parent\"><img src=\"https://colab.research.google.com/assets/colab-badge.svg\" alt=\"Open In Colab\"/></a>"
      ]
    },
    {
      "cell_type": "markdown",
      "id": "b68758e3",
      "metadata": {
        "id": "b68758e3"
      },
      "source": [
        "# APIs externas\n",
        "Buscaremos:\n",
        "* Data Set\n",
        "* JSON\n",
        "* xml\n",
        "* csv\n",
        "\n",
        "preferiblemente abiertos (open data) y actualizados en tiempo real.\n",
        "\n",
        "Algunos datos, especialmente los privativos, requieren un **Token**.\n",
        "\n",
        "Algunos recursos:\n",
        "* [reqres.in](https://reqres.in) Ejemplos de peticiones (Requests) tipo JSON\n",
        "* [APIs de la NASA](https://api.nasa.gov)"
      ]
    },
    {
      "cell_type": "markdown",
      "id": "30341a18",
      "metadata": {
        "id": "30341a18"
      },
      "source": [
        "## Localización de las gasolineras con precio más económico\n",
        " * Datos del gobierno de España: https://opendata.esri.es/\n",
        "  - https://datos.gob.es/en/catalogo/e05024301-precio-de-carburantes-en-las-gasolineras-espanolas\n",
        "  - https://sedeaplicaciones.minetur.gob.es/ServiciosRESTCarburantes/PreciosCarburantes/help\n",
        " * Datos abiertos de la Comunidad de Madrid: https://datos.comunidad.madrid/catalogo/dataset"
      ]
    },
    {
      "cell_type": "code",
      "execution_count": null,
      "id": "a7e41af9",
      "metadata": {
        "id": "a7e41af9",
        "outputId": "0093d612-906d-47c6-f902-afb0a47aec29"
      },
      "outputs": [
        {
          "name": "stdout",
          "output_type": "stream",
          "text": [
            "Información en tiempo real, última actualización 01/09/2021 20:40:29\n",
            "Nº estaciones de servicio en España 11176\n",
            "Estación de servicio más económica de Madrid para Precio Gasoleo A\n",
            "BALLENOIL\n",
            "CALLE SAGITARIO, 2 28023 MADRID MADRID\n",
            "1,099 €/l\n"
          ]
        }
      ],
      "source": [
        "import requests\n",
        "import json\n",
        "\n",
        "peticion=requests.get(\"https://sedeaplicaciones.minetur.gob.es/ServiciosRESTCarburantes/PreciosCarburantes/EstacionesTerrestres\")\n",
        "contenido = json.loads(peticion.content)\n",
        "#print(contenido)  # imprime un fichero JSON enorme\n",
        "print(\"Información en tiempo real, última actualización\", contenido[\"Fecha\"])\n",
        "listaEstaciones = contenido[\"ListaEESSPrecio\"]\n",
        "print(\"Nº estaciones de servicio en España\", len(listaEstaciones))\n",
        "\n",
        "provincia = \"Madrid\"                # si ponemos España busca en toda España\n",
        "producto = \"Precio Gasoleo A\"                       #producto = \"Precio Biodiesel\"   #producto = \"Precio Gasolina 98 E5\"\n",
        "estacionBarata = {}                                 # inicializamos un diccionario. Buscamos la estación de precio menor\n",
        "for estacion in listaEstaciones:\n",
        "    if provincia == \"España\":                       # Se escribe en capitalize\n",
        "        if estacion[producto] != \"\":                # no todas las gasolineras tienen Biodiesel, por ejemplo, asi las quitamos\n",
        "            if estacionBarata == {}:\n",
        "                estacionBarata = estacion\n",
        "            else:\n",
        "                if estacion[producto] < estacionBarata[producto]:\n",
        "                    estacionBarata = estacion\n",
        "    elif provincia.upper() == estacion[\"Provincia\"]:      # filtramos por provincia\n",
        "        if estacion[producto] != \"\":\n",
        "            if estacionBarata == {}:\n",
        "                estacionBarata = estacion\n",
        "            else:\n",
        "                if estacion[producto] < estacionBarata[producto]:\n",
        "                    estacionBarata = estacion\n",
        "\n",
        "print(\"Estación de servicio más económica de\", provincia,\"para\",producto)                    \n",
        "print(estacionBarata[\"Rótulo\"])                          # mostramos el rótulo de la gasolinera\n",
        "print(estacionBarata[\"Dirección\"], estacionBarata[\"C.P.\"], estacionBarata[\"Localidad\"], estacionBarata[\"Provincia\"])\n",
        "print(estacionBarata[producto], \"€/l\")"
      ]
    },
    {
      "cell_type": "markdown",
      "id": "5d608bfa",
      "metadata": {
        "id": "5d608bfa"
      },
      "source": [
        "## Desfibriladores de la Comunidad de Madrid\n",
        "\n",
        "https://datos.comunidad.madrid/catalogo/dataset/desfibriladores_externos_fuera_ambito_sanitario\n",
        "\n",
        "Coordenadas geodésicas de Calle Cenicero, 11, cerca de la plaza de Atocha (Madrid), coordenadas geodésicas:  \n",
        "40.41031389475527, -3.693225664534518\n",
        "\n",
        "Convertimos las coordenadas geodésicas en coordenadas UTM con la página del Instituto Geográfico Nacional.\n",
        "https://www.ign.es/web/ign/portal/calculadora-geodesica\n",
        "\n",
        "Coordenadas UTM:  \n",
        "DATOS ETRS89\n",
        "\n",
        "* X UTM: 441181.932\n",
        "* Y UTM: 4473530.336"
      ]
    },
    {
      "cell_type": "code",
      "execution_count": null,
      "id": "de73efe8",
      "metadata": {
        "id": "de73efe8",
        "outputId": "2a27255e-aa46-49f9-ecb6-9d4024b260bb"
      },
      "outputs": [
        {
          "name": "stdout",
          "output_type": "stream",
          "text": [
            "\n",
            "Te voy a pedir tus coordenadas X Y para determinar donde se localiz el desfibrilador mas cercano a tí.\n",
            "Dime tu coordenada X: \n",
            "Dime tu coordenada Y: \n",
            "\n",
            "El desfibrilador más cercano a tí se encuentra en CALLE del Cenicero en Madrid\n",
            "MEDIALAB PRADO. ENTRADA PRINCIPAL MADRID DESTINO CULTURA, TURISMO Y NEGOCIO SA\n"
          ]
        }
      ],
      "source": [
        "import requests\n",
        "import json\n",
        "\n",
        "# Preguntar datos al usuario\n",
        "print(\"\\nTe voy a pedir tus coordenadas X Y para determinar donde se localizar el desfibrilador más cercano a ti.\")\n",
        "Ux = float(input(\"Dime tu coordenada X: \") or 441181.932)\n",
        "Uy = float(input(\"Dime tu coordenada Y: \") or 4473530.336)\n",
        "\n",
        "# Se recogen datos de la API de la comunidad de Madrid: https://datos.comunidad.madrid/catalogo/dataset/desfibriladores_externos_fuera_ambito_sanitario/resource/c38446ec-ace1-4d22-942f-5cc4979d19ed\n",
        "peticion = requests.get(\n",
        "    \"https://datos.comunidad.madrid/catalogo/dataset/35609dd5-9430-4d2e-8198-3eeb277e5282/resource/c38446ec-ace1-4d22-942f-5cc4979d19ed/download/desfibriladores_externos_fuera_ambito_sanitario.json\")\n",
        "contenido = json.loads(peticion.content)\n",
        "datos = contenido[\"data\"]\n",
        "\n",
        "# recorremos todos los elementos de datos y calculamos la distancia de cada desfibrilador a nosotros\n",
        "result = []\n",
        "for i in range(len(datos)):\n",
        "    x = Ux-float(datos[i][\"direccion_coordenada_x\"])\n",
        "    y = Uy-float(datos[i][\"direccion_coordenada_y\"])\n",
        "    result.append((x**2+y**2)**.5)\n",
        "\n",
        "# Recogemos la posición del punto más cercano\n",
        "for j in range(len(result)):\n",
        "    if (result[j] == min(result, key=abs)):\n",
        "        posicion = j\n",
        "\n",
        "# Se imprime el resultado\n",
        "print(\"\\nEl desfibrilador más cercano a ti se encuentra en\",\n",
        "      datos[posicion][\"direccion_via_codigo\"], datos[posicion][\"direccion_via_nombre\"], \"en\", datos[posicion][\"municipio_nombre\"])\n",
        "print(datos[posicion][\"direccion_ubicacion\"])"
      ]
    }
  ],
  "metadata": {
    "kernelspec": {
      "display_name": "Python 3 (ipykernel)",
      "language": "python",
      "name": "python3"
    },
    "language_info": {
      "codemirror_mode": {
        "name": "ipython",
        "version": 3
      },
      "file_extension": ".py",
      "mimetype": "text/x-python",
      "name": "python",
      "nbconvert_exporter": "python",
      "pygments_lexer": "ipython3",
      "version": "3.8.11"
    },
    "colab": {
      "name": "0200_apis_externas.ipynb",
      "provenance": [],
      "include_colab_link": true
    }
  },
  "nbformat": 4,
  "nbformat_minor": 5
}
