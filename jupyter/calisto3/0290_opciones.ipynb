{
  "nbformat": 4,
  "nbformat_minor": 0,
  "metadata": {
    "colab": {
      "name": "0290_opciones.ipynb",
      "provenance": [],
      "authorship_tag": "ABX9TyPJdioqG03G8WodboEXryDk",
      "include_colab_link": true
    },
    "kernelspec": {
      "name": "python3",
      "display_name": "Python 3"
    },
    "language_info": {
      "name": "python"
    }
  },
  "cells": [
    {
      "cell_type": "markdown",
      "metadata": {
        "id": "view-in-github",
        "colab_type": "text"
      },
      "source": [
        "<a href=\"https://colab.research.google.com/github/financieras/pyCourse/blob/main/jupyter/calisto3/calisto3_0290.ipynb\" target=\"_parent\"><img src=\"https://colab.research.google.com/assets/colab-badge.svg\" alt=\"Open In Colab\"/></a>"
      ]
    },
    {
      "cell_type": "markdown",
      "source": [
        "# Valoración de opciones"
      ],
      "metadata": {
        "id": "LkYFGZ63GaU8"
      }
    },
    {
      "cell_type": "markdown",
      "source": [
        "## Modelo de valoración de opciones europeas mediante arbol binomial"
      ],
      "metadata": {
        "id": "nhZ2k9hJwBTW"
      }
    },
    {
      "cell_type": "code",
      "execution_count": null,
      "metadata": {
        "colab": {
          "base_uri": "https://localhost:8080/"
        },
        "id": "NoPOfBckwAQw",
        "outputId": "b70f07a8-2ff2-470d-86ff-2e03b4c80dcc"
      },
      "outputs": [
        {
          "output_type": "stream",
          "name": "stdout",
          "text": [
            "Tipo de opción: 1 Call, 2 Put. Indique 1 o 2. \n",
            "Tipo de la opción: CALL\n",
            "Precio Spot del activo subyacente: \n",
            "Precio spot= 100.0\n",
            "Precio de ejercicio: Strik: \n",
            "strik= 110.0\n",
            "Duración en años: \n",
            "años= 2.0\n",
            "Volatilidad anual, por ejemplo 0.2: \n",
            "Volatilidad= 20.0 %\n",
            "Número de pasos del arbol binomial, por ejemplo 4: \n",
            "Número de pasos del arbol binomial= 4\n",
            "Rentabilidad libre de riesgo. Por ejemplo para un 7% poner 0.07: \n",
            "Tipo de interés= 7.000000000000001 %\n",
            "Tanto instantáneo= 6.765864847381486 %\n",
            "u= 1.151909910168909 p= 0.5859497140447129 deltaT= 0.5\n",
            "Prima estimada= 13.40537517647125\n"
          ]
        }
      ],
      "source": [
        "# Estimación del precio de una opción por árboles binomiales\n",
        "import numpy as np\n",
        "from scipy.stats import binom\n",
        "\n",
        "#Datos de entrada\n",
        "tipo = input('Tipo de opción: 1 Call, 2 Put. Indique 1 o 2. ') or '1'\n",
        "if tipo == '1':\n",
        "    print('Tipo de la opción: CALL')\n",
        "if tipo == '2':\n",
        "    print('Tipo de la opción: PUT')\n",
        "\n",
        "spot = float(input('Precio Spot del activo subyacente: ') or 100)\n",
        "print('Precio spot=', spot)\n",
        "\n",
        "strik = float(input('Precio de ejercicio: Strik: ') or 110)\n",
        "print('strik=', strik)\n",
        "\n",
        "anyos = float(input('Duración en años: ') or 2)\n",
        "print('años=', anyos)\n",
        "\n",
        "volatilidad = float(input('Volatilidad anual, por ejemplo 0.2: ') or 0.2)\n",
        "print('Volatilidad=', volatilidad*100, '%')\n",
        "\n",
        "n = int(input('Número de pasos del arbol binomial, por ejemplo 4: ') or 4)\n",
        "print('Número de pasos del arbol binomial=', n)\n",
        "\n",
        "tInt = float(input('Rentabilidad libre de riesgo. Por ejemplo para un 7% poner 0.07: ') or 0.07)\n",
        "print('Tipo de interés=', tInt*100, '%')\n",
        "r = np.log(1+tInt)   # r es el tanto instantáneo\n",
        "print('Tanto instantáneo=', r*100, '%')\n",
        "# log es el neperiano. Ejemplo np.log(np.e) es igua a 1\n",
        "\n",
        "# Calculo de deltaT, u, d, p\n",
        "deltaT = anyos / n\n",
        "u = np.exp(volatilidad * np.sqrt(deltaT))\n",
        "d = 1/u\n",
        "p = (np.exp(r*deltaT)-d) / (u-d)\n",
        "print('u=', u, 'p=', p, 'deltaT=', deltaT)\n",
        "\n",
        "# Generación de los precios esperados del activo subyacente a fecha de vencimiento\n",
        "Sn = [0]*(n+1)   # Sn es la lista de precios del activo subyacene a fecha de vto.\n",
        "for i in range(n+1):\n",
        "    Sn[i] = spot * u**(n-i) * d**i\n",
        "    #print('Sn(',i,')=', Sn[i])\n",
        "\n",
        "# calculamos el payoff según sea un Call o un Put\n",
        "payoff = [0]*(n+1)   # inicilizamos a cero la lista del payoff\n",
        "for i in range(n+1):\n",
        "    if tipo == '1':\n",
        "        payoff[i] = max(0, Sn[i] - strik)\n",
        "    if tipo == '2':\n",
        "        payoff[i] = max(0, strik - Sn[i])\n",
        "    #print('payoff(',i,')=',payoff[i])\n",
        "    #print('binomial(',i,')=',binom.pmf(n-i, n, p))\n",
        "\n",
        "# cálculo de la prima estimada\n",
        "prima = 0\n",
        "for i in range(n+1):\n",
        "    prima += payoff[i] * binom.pmf(n-i, n, p)\n",
        "prima *= np.exp(-r * anyos)   # descontamos a valor actual, hasta t=0\n",
        "print('Prima estimada=', prima)"
      ]
    },
    {
      "cell_type": "markdown",
      "source": [
        "# Modelo binomial usando una función"
      ],
      "metadata": {
        "id": "bcUosV4VwzIl"
      }
    },
    {
      "cell_type": "code",
      "source": [
        "import numpy as np\n",
        "from scipy.stats import binom\n",
        "\n",
        "def prima(tipo,spot,strik,anyos,volatilidad,n,tInt):\n",
        "    r = np.log(1 + tInt)   # r es el tanto instantáneo\n",
        "    deltaT = anyos / n\n",
        "    u = np.exp(volatilidad * np.sqrt(deltaT))\n",
        "    d = 1/u\n",
        "    p = (np.exp(r*deltaT)-d) / (u-d)\n",
        "    Sn = [0]*(n+1)   # Sn es la lista de precios del activo subyacene a fecha de vto.\n",
        "    payoff = [0]*(n+1)   # inicilizamos a cero la lista del payoff\n",
        "    prima = 0\n",
        "    for i in range(n+1):\n",
        "        Sn[i] = spot * u**(n-i) * d**i\n",
        "        if tipo.lower() == 'call':\n",
        "            payoff[i] = max(0, Sn[i] - strik)\n",
        "        if tipo.lower() == 'put':\n",
        "            payoff[i] = max(0, strik - Sn[i])\n",
        "        prima += payoff[i] * binom.pmf(n-i, n, p)\n",
        "    prima *= np.exp(-r * anyos)   # descontamos a valor actual, hasta t=0\n",
        "    return prima\n",
        "\n",
        "m = 50   # Calcularemos el arbol desde 1 hasta m pasos\n",
        "evolucion = [0]*m\n",
        "for j in range(m): #se pone j+1 pq las listas empiezan en cero\n",
        "    evolucion[j] = prima('call', 100, 110, 2, 0.2, j+1, 0.07)\n",
        "    print('prima(', j+1, ')=', evolucion[j])\n",
        "\n",
        "print(prima('Put', 100, 105, 7/12, 0.4, 5, np.exp(0.08)-1))"
      ],
      "metadata": {
        "colab": {
          "base_uri": "https://localhost:8080/"
        },
        "id": "vadOGoZow2sl",
        "outputId": "1ef92d78-7340-4da0-f9c6-45cf1130943b"
      },
      "execution_count": null,
      "outputs": [
        {
          "output_type": "stream",
          "name": "stdout",
          "text": [
            "prima( 1 )= 13.526244372788291\n",
            "prima( 2 )= 13.326007505361297\n",
            "prima( 3 )= 12.955004108763408\n",
            "prima( 4 )= 13.40537517647125\n",
            "prima( 5 )= 12.786892725616063\n",
            "prima( 6 )= 13.360760111814583\n",
            "prima( 7 )= 12.711196366441039\n",
            "prima( 8 )= 13.308719736990822\n",
            "prima( 9 )= 12.694142728070299\n",
            "prima( 10 )= 13.262106777562408\n",
            "prima( 11 )= 12.867200775539498\n",
            "prima( 12 )= 13.221912122698035\n",
            "prima( 13 )= 12.971001805772785\n",
            "prima( 14 )= 13.18728832056384\n",
            "prima( 15 )= 13.036320087551884\n",
            "prima( 16 )= 13.157233420313245\n",
            "prima( 17 )= 13.078599277371477\n",
            "prima( 18 )= 13.130895229889273\n",
            "prima( 19 )= 13.10631236165244\n",
            "prima( 20 )= 13.107597578910786\n",
            "prima( 21 )= 13.12442858650907\n",
            "prima( 22 )= 13.086811822664245\n",
            "prima( 23 )= 13.136017205486207\n",
            "prima( 24 )= 13.068123634429478\n",
            "prima( 25 )= 13.143053892795372\n",
            "prima( 26 )= 13.051205492900383\n",
            "prima( 27 )= 13.14685389723049\n",
            "prima( 28 )= 13.035795740872294\n",
            "prima( 29 )= 13.148317519585047\n",
            "prima( 30 )= 13.021683036545353\n",
            "prima( 31 )= 13.148075554812564\n",
            "prima( 32 )= 13.00869485179341\n",
            "prima( 33 )= 13.146578756116638\n",
            "prima( 34 )= 12.996688922132064\n",
            "prima( 35 )= 13.144154657345544\n",
            "prima( 36 )= 12.99861941157519\n",
            "prima( 37 )= 13.141044676484228\n",
            "prima( 38 )= 13.018929493010559\n",
            "prima( 39 )= 13.137428935671068\n",
            "prima( 40 )= 13.036011287189423\n",
            "prima( 41 )= 13.133443220942612\n",
            "prima( 42 )= 13.050410409827851\n",
            "prima( 43 )= 13.12919079123746\n",
            "prima( 44 )= 13.062564165880335\n",
            "prima( 45 )= 13.12475074008116\n",
            "prima( 46 )= 13.072826370989507\n",
            "prima( 47 )= 13.120184005982425\n",
            "prima( 48 )= 13.081485753546241\n",
            "prima( 49 )= 13.115537751548164\n",
            "prima( 50 )= 13.088779775717725\n",
            "12.679144560999395\n"
          ]
        }
      ]
    },
    {
      "cell_type": "markdown",
      "source": [
        "## Arbol binomial gráfico"
      ],
      "metadata": {
        "id": "fmrft5KhyLyO"
      }
    },
    {
      "cell_type": "code",
      "source": [
        "import numpy as np\n",
        "from scipy.stats import binom\n",
        "import matplotlib as mpl\n",
        "import matplotlib.pyplot as plt\n",
        "\n",
        "def prima(tipo, spot, strik, anyos, volatilidad, n, tInt):\n",
        "    r = np.log(1+tInt)   # r es el tanto instantáneo\n",
        "    deltaT = anyos / n\n",
        "    u = np.exp(volatilidad * np.sqrt(deltaT))\n",
        "    d = 1/u\n",
        "    p = (np.exp(r*deltaT)-d) / (u-d)\n",
        "    Sn = [0]*(n+1)   # Sn es la lista de precios del activo subyacene a fecha de vto.\n",
        "    payoff = [0]*(n+1)   # inicilizamos a cero la lista del payoff\n",
        "    prima = 0\n",
        "    for i in range(n+1):\n",
        "        Sn[i] = spot * u**(n-i) * d**i\n",
        "        if tipo.lower() == 'call':\n",
        "            payoff[i] = max(0, Sn[i] - strik)\n",
        "        if tipo.lower() == 'put':\n",
        "            payoff[i] = max(0, strik - Sn[i])\n",
        "        prima += payoff[i] * binom.pmf(n-i, n, p)\n",
        "    prima *= np.exp(-r * anyos)   # descontamos a valor actual, hasta t=0\n",
        "    return prima\n",
        "\n",
        "m = 200   # Calcularemos el arbol desde 1 hasta m pasos\n",
        "evolucion = [0]*(m)\n",
        "for j in range(m):\n",
        "    evolucion[j] = prima('call', 100, 110, 1, 0.2, j+1, 0.09)\n",
        "\n",
        "fig = plt.figure(figsize=(10, 8))\n",
        "ax = fig.add_subplot(111)\n",
        "last = 1\n",
        "bound = m\n",
        "ax.plot(evolucion)\n",
        "fig.savefig('graph.png')\n",
        "print('Prima(1)=', evolucion[0])\n",
        "print('Prima(2)=', evolucion[1])\n",
        "print('Prima('+str(m)+')=', evolucion[m-1])"
      ],
      "metadata": {
        "colab": {
          "base_uri": "https://localhost:8080/",
          "height": 535
        },
        "id": "Q2i_WlpFyQT0",
        "outputId": "e6d01ffd-3a85-4d7f-9e7f-192681b80d0b"
      },
      "execution_count": null,
      "outputs": [
        {
          "output_type": "stream",
          "name": "stdout",
          "text": [
            "Prima(1)= 7.503280463730395\n",
            "Prima(2)= 7.998067941750737\n",
            "Prima(200)= 7.556306805087295\n"
          ]
        },
        {
          "output_type": "display_data",
          "data": {
            "text/plain": [
              "<Figure size 720x576 with 1 Axes>"
            ],
            "image/png": "[encoded data removed]"
          },
          "metadata": {
            "needs_background": "light"
          }
        }
      ]
    }
  ]
}
