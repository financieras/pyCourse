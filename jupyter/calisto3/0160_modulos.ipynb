{
  "cells": [
    {
      "cell_type": "markdown",
      "metadata": {
        "id": "view-in-github",
        "colab_type": "text"
      },
      "source": [
        "<a href=\"https://colab.research.google.com/github/financieras/pyCourse/blob/main/jupyter/calisto3/0160_modulos.ipynb\" target=\"_parent\"><img src=\"https://colab.research.google.com/assets/colab-badge.svg\" alt=\"Open In Colab\"/></a>"
      ]
    },
    {
      "cell_type": "markdown",
      "id": "1fe2360c",
      "metadata": {
        "id": "1fe2360c"
      },
      "source": [
        "# Módulos\n",
        "Son archivos con extensión:\n",
        "- .py los habituales archivos de Python\n",
        "- .pyc archivos de Python compilado\n",
        "- archivos escritos en C para CPython\n",
        "\n",
        "\n",
        "Utilidad:\n",
        "* Organizar código (modularización)\n",
        "    - Es preferible manejar módulos pequeños que un programa gigante\n",
        "    - Si el programa es muy complejo lo mejor es dividirlo en módulos con diferentes funcionalidades y que se comuniquen entre si\n",
        "* Reutilizar código (reutilización)\n",
        "\n",
        "Los módulos se crean al crear un archivo -py"
      ]
    },
    {
      "cell_type": "markdown",
      "id": "0da886b6",
      "metadata": {
        "id": "0da886b6"
      },
      "source": [
        "Para guardar los archivos de los módulos usaremos la carpeta mypy.  \n",
        "Vamos a crear el archivo funciones_matematicas.py donde crearemos funciones sencillas de suma, resta, multiplicación que luego importaremos y podremos utilizar.\n",
        "\n",
        "El archivo funciones_matematicas.py contendrá el siguiente código."
      ]
    },
    {
      "cell_type": "code",
      "execution_count": 1,
      "id": "b0ef3490",
      "metadata": {
        "id": "b0ef3490"
      },
      "outputs": [],
      "source": [
        "def sumar(n1, n2):\n",
        "    print(f\"El resultado de la suma es {n1+n2}\")\n",
        "def restar(n1, n2):\n",
        "    print(f\"El resultado de la resta es {n1-n2}\")\n",
        "def multiplicar(n1, n2):\n",
        "    print(f\"El resultado del producto es {n1*n2}\")\n",
        "def _dividir(n1, n2):                 # esta función lleva prefijo de _ que indica al programador que es privada\n",
        "    print(f\"El resultado de la división es {n1/n2}\")"
      ]
    },
    {
      "cell_type": "markdown",
      "id": "ac448d68",
      "metadata": {
        "id": "ac448d68"
      },
      "source": [
        "El archivo funciones_matematicas.py lo hemos creado con Visual Studio Code, o con tu editor de código favorito, en la carpeta mypy que está en la ruta:  \n",
        "* pyCourse/jupyter/mypy/funciones_matematicas.py\n",
        "\n",
        "Veamos varios métodos de importación para trabajar con esas funciones matemáticas desde otro fichero .py o desde el block de notas de Jupyter Notebook."
      ]
    },
    {
      "cell_type": "markdown",
      "source": [
        "Primero clonamos el repositorio."
      ],
      "metadata": {
        "id": "-uDj575THEJl"
      },
      "id": "-uDj575THEJl"
    },
    {
      "cell_type": "code",
      "source": [
        "!git clone https://github.com/financieras/pyCourse.git"
      ],
      "metadata": {
        "id": "H-25n9RNHHyA",
        "outputId": "33ca2958-f9b7-495b-c968-e124e7e5df63",
        "colab": {
          "base_uri": "https://localhost:8080/"
        }
      },
      "id": "H-25n9RNHHyA",
      "execution_count": 3,
      "outputs": [
        {
          "output_type": "stream",
          "name": "stdout",
          "text": [
            "Cloning into 'pyCourse'...\n",
            "remote: Enumerating objects: 6502, done.\u001b[K\n",
            "remote: Counting objects: 100% (1096/1096), done.\u001b[K\n",
            "remote: Compressing objects: 100% (345/345), done.\u001b[K\n",
            "remote: Total 6502 (delta 833), reused 964 (delta 751), pack-reused 5406\u001b[K\n",
            "Receiving objects: 100% (6502/6502), 5.83 MiB | 22.52 MiB/s, done.\n",
            "Resolving deltas: 100% (4855/4855), done.\n"
          ]
        }
      ]
    },
    {
      "cell_type": "markdown",
      "source": [
        "Vemos en que directorio estamos."
      ],
      "metadata": {
        "id": "Vvk7viHSHR-P"
      },
      "id": "Vvk7viHSHR-P"
    },
    {
      "cell_type": "code",
      "source": [
        "%pwd"
      ],
      "metadata": {
        "id": "8TfhWhk6HUeC",
        "outputId": "9ec62d72-e7e0-4723-ce3a-1e8a018cdfb3",
        "colab": {
          "base_uri": "https://localhost:8080/",
          "height": 35
        }
      },
      "id": "8TfhWhk6HUeC",
      "execution_count": 4,
      "outputs": [
        {
          "output_type": "execute_result",
          "data": {
            "text/plain": [
              "'/content'"
            ],
            "application/vnd.google.colaboratory.intrinsic+json": {
              "type": "string"
            }
          },
          "metadata": {},
          "execution_count": 4
        }
      ]
    },
    {
      "cell_type": "markdown",
      "id": "8b4bd2e8",
      "metadata": {
        "id": "8b4bd2e8"
      },
      "source": [
        "### Método 1"
      ]
    },
    {
      "cell_type": "code",
      "execution_count": 7,
      "id": "11321f57",
      "metadata": {
        "id": "11321f57",
        "outputId": "5d235185-3efa-42b7-8315-c4ae149daf58",
        "colab": {
          "base_uri": "https://localhost:8080/"
        }
      },
      "outputs": [
        {
          "output_type": "stream",
          "name": "stdout",
          "text": [
            "El resultado de la suma es 12\n",
            "El resultado de la división es 1.4\n"
          ]
        }
      ],
      "source": [
        "import pyCourse.jupyter.mypy.funciones_matematicas\n",
        "\n",
        "pyCourse.jupyter.mypy.funciones_matematicas.sumar(7, 5)\n",
        "pyCourse.jupyter.mypy.funciones_matematicas._dividir(7, 5)   # la barra baja _ no impide su ejecución"
      ]
    },
    {
      "cell_type": "markdown",
      "id": "12f6c547",
      "metadata": {
        "id": "12f6c547"
      },
      "source": [
        "### Método 2"
      ]
    },
    {
      "cell_type": "code",
      "execution_count": 8,
      "id": "732b4a03",
      "metadata": {
        "id": "732b4a03",
        "outputId": "fa0a59eb-e00b-4ec9-95c7-be56d53be956",
        "colab": {
          "base_uri": "https://localhost:8080/"
        }
      },
      "outputs": [
        {
          "output_type": "stream",
          "name": "stdout",
          "text": [
            "El resultado de la suma es 12\n",
            "El resultado de la división es 1.4\n"
          ]
        }
      ],
      "source": [
        "import pyCourse.jupyter.mypy.funciones_matematicas as mat\n",
        "\n",
        "mat.sumar(7, 5)\n",
        "mat._dividir(7, 5)                    # la barra baja _ no impide su ejecución"
      ]
    },
    {
      "cell_type": "markdown",
      "id": "045715da",
      "metadata": {
        "id": "045715da"
      },
      "source": [
        "### Método 3"
      ]
    },
    {
      "cell_type": "code",
      "execution_count": 9,
      "id": "caa4dc05",
      "metadata": {
        "id": "caa4dc05",
        "outputId": "b18c7917-d513-4797-bf70-420ca29a0acc",
        "colab": {
          "base_uri": "https://localhost:8080/"
        }
      },
      "outputs": [
        {
          "output_type": "stream",
          "name": "stdout",
          "text": [
            "El resultado del producto es 35\n"
          ]
        }
      ],
      "source": [
        "from pyCourse.jupyter.mypy.funciones_matematicas import *\n",
        "\n",
        "multiplicar(7, 5)\n",
        "#_dividir(7, 5)                       # provoca un error ya que considera que por llevar prefijo de barra baja es inaccesible"
      ]
    },
    {
      "cell_type": "markdown",
      "id": "bf0c5467",
      "metadata": {
        "id": "bf0c5467"
      },
      "source": [
        "### Método 4\n",
        "Usa menos memoria puesto que importa solo la función que se necesita."
      ]
    },
    {
      "cell_type": "code",
      "execution_count": 10,
      "id": "b7f4aac2",
      "metadata": {
        "id": "b7f4aac2",
        "outputId": "afb85d2b-9e1d-4865-ad8b-efb6043a81bc",
        "colab": {
          "base_uri": "https://localhost:8080/"
        }
      },
      "outputs": [
        {
          "output_type": "stream",
          "name": "stdout",
          "text": [
            "El resultado de la resta es 2\n",
            "El resultado de la división es 1.4\n"
          ]
        }
      ],
      "source": [
        "from pyCourse.jupyter.mypy.funciones_matematicas import restar,_dividir\n",
        "\n",
        "restar(7, 5)\n",
        "_dividir(7, 5)                        # la barra baja _ no impide su ejecución"
      ]
    },
    {
      "cell_type": "markdown",
      "id": "afaf3329",
      "metadata": {
        "id": "afaf3329"
      },
      "source": [
        "## Módulos que reutilizan clases y objetos\n",
        "Vamos a crear el archivo modulo_vehiculos.py que está en la carpeta mypy con el siguiente código.  \n",
        "Se trata de reutilizar las clases que tengamos sobre el uso de vehículos."
      ]
    },
    {
      "cell_type": "code",
      "execution_count": 11,
      "id": "eef02c7c",
      "metadata": {
        "id": "eef02c7c",
        "outputId": "c496d49f-72f6-40aa-d62d-e09dd758e977",
        "colab": {
          "base_uri": "https://localhost:8080/"
        }
      },
      "outputs": [
        {
          "output_type": "stream",
          "name": "stdout",
          "text": [
            "Marca: Ford \n",
            "Modelo: Focus               \n",
            "En marcha: True \n",
            "Acelerando: False \n",
            "Frenando: False\n"
          ]
        }
      ],
      "source": [
        "from pyCourse.jupyter.mypy.modulo_vehiculos import *   # importamos todas las clases con sus propiedades y métodos\n",
        "\n",
        "miCoche=Vehiculo(\"Ford\", \"Focus\")     # creamos una instancia de vehículo con su marca y modelo\n",
        "miCoche.arrancar()                    # arrancamos el coche, llamamos al método arrancar\n",
        "miCoche.estado()                      # preguntamos por su estado, llamamos al método estado que nos informa"
      ]
    }
  ],
  "metadata": {
    "kernelspec": {
      "display_name": "Python 3 (ipykernel)",
      "language": "python",
      "name": "python3"
    },
    "language_info": {
      "codemirror_mode": {
        "name": "ipython",
        "version": 3
      },
      "file_extension": ".py",
      "mimetype": "text/x-python",
      "name": "python",
      "nbconvert_exporter": "python",
      "pygments_lexer": "ipython3",
      "version": "3.8.11"
    },
    "colab": {
      "name": "0160_modulos.ipynb",
      "provenance": [],
      "include_colab_link": true
    }
  },
  "nbformat": 4,
  "nbformat_minor": 5
}