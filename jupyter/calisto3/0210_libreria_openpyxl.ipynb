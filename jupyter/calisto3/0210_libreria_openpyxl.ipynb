{
  "cells": [
    {
      "cell_type": "markdown",
      "metadata": {
        "id": "view-in-github",
        "colab_type": "text"
      },
      "source": [
        "<a href=\"https://colab.research.google.com/github/financieras/pyCourse/blob/main/jupyter/calisto3/calisto3_0210.ipynb\" target=\"_parent\"><img src=\"https://colab.research.google.com/assets/colab-badge.svg\" alt=\"Open In Colab\"/></a>"
      ]
    },
    {
      "cell_type": "markdown",
      "id": "ab08c939",
      "metadata": {
        "id": "ab08c939"
      },
      "source": [
        "# Librería openpyxl\n",
        "[A Python library to read/write Excel 2010 xlsx/xlsm files](https://openpyxl.readthedocs.io/en/stable)\n",
        "\n",
        "Podemos actualizar la librería openpyxl reinstalando con el siguiente comando.  \n",
        "Ver [página de Anaconda](https://anaconda.org/anaconda/openpyxl)"
      ]
    },
    {
      "cell_type": "code",
      "execution_count": null,
      "id": "0e2944ad",
      "metadata": {
        "id": "0e2944ad"
      },
      "outputs": [],
      "source": [
        "conda install -c anaconda openpyxl"
      ]
    },
    {
      "cell_type": "markdown",
      "id": "6527938a",
      "metadata": {
        "id": "6527938a"
      },
      "source": [
        "## Leer el fichero aeropuestos.xlsx\n",
        "![aeropuertos.png](https://github.com/financieras/pyCourse/blob/main/jupyter/img/aeropuertos.png?raw=1)"
      ]
    },
    {
      "cell_type": "code",
      "execution_count": null,
      "id": "95e9b51d",
      "metadata": {
        "id": "95e9b51d",
        "outputId": "fdd91e73-413b-4a37-be74-4f4a0f513c5f"
      },
      "outputs": [
        {
          "name": "stdout",
          "output_type": "stream",
          "text": [
            "Aeropuerto\n",
            "MADRID\n",
            "BARCELONA\n",
            "PALMA DE MALLORCA\n",
            "MALAGA\n",
            "ALICANTE\n",
            "GRAN CANARIA\n",
            "TENERIFE SUR\n",
            "VALENCIA\n",
            "IBIZA\n",
            "SEVILLA\n"
          ]
        }
      ],
      "source": [
        "from openpyxl import load_workbook\n",
        "\n",
        "FILE_PATH = 'excel/aeropuertos.xlsx'    # Constante\n",
        "SHEET = 'Hoja1'                         # Constante\n",
        "\n",
        "workbook = load_workbook(FILE_PATH, read_only=True)\n",
        "sheet = workbook[SHEET]\n",
        "\n",
        "# recorremos todos las filas de la tabla mostrando los valores de la primera columna\n",
        "# con sheet.iter_rows() desempaquetamos\n",
        "for row in sheet.iter_rows():\n",
        "    print(row[0].value)"
      ]
    },
    {
      "cell_type": "code",
      "execution_count": null,
      "id": "f13cc6a0",
      "metadata": {
        "id": "f13cc6a0",
        "outputId": "532a0864-b2a1-4a31-8958-9285efe93d5e"
      },
      "outputs": [
        {
          "name": "stdout",
          "output_type": "stream",
          "text": [
            "MADRID\n",
            "MAD\n",
            "61734944\n",
            "560039136\n",
            "=FALSE()\n",
            "1931\n",
            "==============================\n",
            "BARCELONA\n",
            "BCN\n",
            "52688455\n",
            "176797909\n",
            "=FALSE()\n",
            "1927\n",
            "==============================\n",
            "PALMA DE MALLORCA\n",
            "PMI\n",
            "29721142\n",
            "9021606\n",
            "=TRUE()\n",
            "1960\n",
            "==============================\n",
            "MALAGA\n",
            "AGP\n",
            "19858656\n",
            "3080119\n",
            "=FALSE()\n",
            "1946\n",
            "==============================\n",
            "ALICANTE\n",
            "ALC\n",
            "15048240\n",
            "4032300\n",
            "=FALSE()\n",
            "1951\n",
            "==============================\n",
            "GRAN CANARIA\n",
            "LPA\n",
            "13261228\n",
            "19727786\n",
            "=TRUE()\n",
            "1933\n",
            "==============================\n",
            "TENERIFE SUR\n",
            "TFS\n",
            "11168707\n",
            "2193378\n",
            "=TRUE()\n",
            "1978\n",
            "==============================\n",
            "VALENCIA\n",
            "VLC\n",
            "8539579\n",
            "14515842\n",
            "=FALSE()\n",
            "1930\n",
            "==============================\n",
            "IBIZA\n",
            "IBZ\n",
            "8155626\n",
            "1434695\n",
            "=TRUE()\n",
            "1949\n",
            "==============================\n",
            "SEVILLA\n",
            "SVQ\n",
            "7544357\n",
            "9891790\n",
            "=FALSE()\n",
            "1946\n",
            "==============================\n"
          ]
        }
      ],
      "source": [
        "from openpyxl import load_workbook\n",
        "\n",
        "FILE_PATH = 'excel/aeropuertos.xlsx'    # Constante\n",
        "SHEET = 'Hoja1'                         # Constante\n",
        "\n",
        "workbook = load_workbook(FILE_PATH, read_only=True)\n",
        "sheet = workbook[SHEET]\n",
        "\n",
        "# recorremos todos los valores de la tabla\n",
        "# sheet.iter_rows() si no lleva argumento se muestra todo, si ponemos min_row=2 empieza en la fila 2\n",
        "for aeropuerto, codigoIATA, pasajeros, mercancia, insular, year in sheet.iter_rows(min_row=2):\n",
        "    print(aeropuerto.value)\n",
        "    print(codigoIATA.value)\n",
        "    print(pasajeros.value)\n",
        "    print(mercancia.value)\n",
        "    print(insular.value)\n",
        "    print(year.value)\n",
        "    print('='*30)"
      ]
    },
    {
      "cell_type": "markdown",
      "id": "bcbaaa4e",
      "metadata": {
        "id": "bcbaaa4e"
      },
      "source": [
        "## Creando un workbook\n",
        "[Create a workbook](https://openpyxl.readthedocs.io/en/stable/tutorial.html)"
      ]
    }
  ],
  "metadata": {
    "kernelspec": {
      "display_name": "Python 3 (ipykernel)",
      "language": "python",
      "name": "python3"
    },
    "language_info": {
      "codemirror_mode": {
        "name": "ipython",
        "version": 3
      },
      "file_extension": ".py",
      "mimetype": "text/x-python",
      "name": "python",
      "nbconvert_exporter": "python",
      "pygments_lexer": "ipython3",
      "version": "3.8.11"
    },
    "colab": {
      "name": "0210_libreria_openpyxl.ipynb",
      "provenance": [],
      "include_colab_link": true
    }
  },
  "nbformat": 4,
  "nbformat_minor": 5
}
