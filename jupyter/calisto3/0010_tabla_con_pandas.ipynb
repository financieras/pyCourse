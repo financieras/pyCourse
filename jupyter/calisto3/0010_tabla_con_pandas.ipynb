{
  "cells": [
    {
      "cell_type": "markdown",
      "metadata": {
        "id": "view-in-github",
        "colab_type": "text"
      },
      "source": [
        "<a href=\"https://colab.research.google.com/github/financieras/pyCourse/blob/main/jupyter/calisto3/0010_tabla_con_pandas.ipynb\" target=\"_parent\"><img src=\"https://colab.research.google.com/assets/colab-badge.svg\" alt=\"Open In Colab\"/></a>"
      ]
    },
    {
      "cell_type": "markdown",
      "id": "0c0315b9",
      "metadata": {
        "id": "0c0315b9"
      },
      "source": [
        "# Creación de una Tabla con Pandas"
      ]
    },
    {
      "cell_type": "markdown",
      "id": "a5a90f7c",
      "metadata": {
        "id": "a5a90f7c"
      },
      "source": [
        "Si no está instalado pandas se puede instalar con:  \n",
        "```pip install pandas```  \n",
        "\n",
        "Si no está instalado matplotlib se puede instalar con:  \n",
        "```pip install matplotlib```"
      ]
    },
    {
      "cell_type": "code",
      "execution_count": null,
      "id": "bdc7a934",
      "metadata": {
        "id": "bdc7a934",
        "outputId": "8bf86ec9-a201-4e71-eab3-7fef12e219bd"
      },
      "outputs": [
        {
          "data": {
            "text/html": [
              "<div>\n",
              "<style scoped>\n",
              "    .dataframe tbody tr th:only-of-type {\n",
              "        vertical-align: middle;\n",
              "    }\n",
              "\n",
              "    .dataframe tbody tr th {\n",
              "        vertical-align: top;\n",
              "    }\n",
              "\n",
              "    .dataframe thead th {\n",
              "        text-align: right;\n",
              "    }\n",
              "</style>\n",
              "<table border=\"1\" class=\"dataframe\">\n",
              "  <thead>\n",
              "    <tr style=\"text-align: right;\">\n",
              "      <th></th>\n",
              "      <th>valor</th>\n",
              "      <th>cuadrado</th>\n",
              "    </tr>\n",
              "  </thead>\n",
              "  <tbody>\n",
              "    <tr>\n",
              "      <th>0</th>\n",
              "      <td>1</td>\n",
              "      <td>1</td>\n",
              "    </tr>\n",
              "    <tr>\n",
              "      <th>1</th>\n",
              "      <td>2</td>\n",
              "      <td>4</td>\n",
              "    </tr>\n",
              "    <tr>\n",
              "      <th>2</th>\n",
              "      <td>3</td>\n",
              "      <td>9</td>\n",
              "    </tr>\n",
              "  </tbody>\n",
              "</table>\n",
              "</div>"
            ],
            "text/plain": [
              "   valor  cuadrado\n",
              "0      1         1\n",
              "1      2         4\n",
              "2      3         9"
            ]
          },
          "execution_count": 5,
          "metadata": {},
          "output_type": "execute_result"
        }
      ],
      "source": [
        "import pandas as pd\n",
        "tabla = pd.DataFrame(data = [[1,1], [2,4], [3,9]],\n",
        "                     columns = ['valor', 'cuadrado'])\n",
        "\n",
        "tabla"
      ]
    },
    {
      "cell_type": "markdown",
      "id": "d91e17ee",
      "metadata": {
        "id": "d91e17ee"
      },
      "source": [
        "## Gráfico"
      ]
    },
    {
      "cell_type": "code",
      "execution_count": null,
      "id": "1a60c3bb",
      "metadata": {
        "id": "1a60c3bb",
        "outputId": "8a9b3e67-8b80-44d9-db92-17249dfc4631"
      },
      "outputs": [
        {
          "data": {
            "image/png": "[encoded data removed]",
            "text/plain": [
              "<Figure size 432x288 with 1 Axes>"
            ]
          },
          "metadata": {
            "needs_background": "light"
          },
          "output_type": "display_data"
        }
      ],
      "source": [
        "import matplotlib.pyplot as plt\n",
        "x = [1, 2, 3, 4, 5]\n",
        "y = [1, 4, 9, 16, 25]\n",
        "plt.plot(x,y)\n",
        "plt.show()"
      ]
    },
    {
      "cell_type": "markdown",
      "id": "217cb671",
      "metadata": {
        "id": "217cb671"
      },
      "source": [
        "# Creación de un DataFrame de redes sociales  \n",
        "## Creamos las listas  \n",
        "Por cada red social creamos una lista con los siguientes datos: nombre, millones de usuarios, si es o no del grupo Facebook, Año de creación"
      ]
    },
    {
      "cell_type": "code",
      "execution_count": null,
      "id": "6452a9bd",
      "metadata": {
        "id": "6452a9bd"
      },
      "outputs": [],
      "source": [
        "fbk = ['Facebook', 2740, True, 2006]\n",
        "twt = ['Twitter',339, False, 2006]\n",
        "ig = ['Instagram', 1221, True, 2010]\n",
        "yt = ['YouTube', 2291, False, 2005]\n",
        "lkn = ['LinkedIn', 727, False, 2003]\n",
        "wsp = ['WhatsApp', 2000, True, 2009]\n",
        "tik = ['TikTok', 689, False, 2016]\n",
        "tel = ['Telegram', 500, False, 2013]"
      ]
    },
    {
      "cell_type": "markdown",
      "id": "2e28e17b",
      "metadata": {
        "id": "2e28e17b"
      },
      "source": [
        "## Creamos la lista de listas  \n",
        "Creamos una matriz, un array 2D, formado como lista de listas."
      ]
    },
    {
      "cell_type": "code",
      "execution_count": null,
      "id": "d335de19",
      "metadata": {
        "id": "d335de19",
        "outputId": "bb58c3c9-f91d-43ff-e66e-54427d933670",
        "colab": {
          "base_uri": "https://localhost:8080/"
        }
      },
      "outputs": [
        {
          "output_type": "execute_result",
          "data": {
            "text/plain": [
              "[['Facebook', 2740, True, 2006],\n",
              " ['Twitter', 339, False, 2006],\n",
              " ['Instagram', 1221, True, 2010],\n",
              " ['YouTube', 2291, False, 2005],\n",
              " ['LinkedIn', 727, False, 2003],\n",
              " ['WhatsApp', 2000, True, 2009],\n",
              " ['TikTok', 689, False, 2016],\n",
              " ['Telegram', 500, False, 2013]]"
            ]
          },
          "metadata": {},
          "execution_count": 3
        }
      ],
      "source": [
        "rrss = [fbk, twt, ig, yt, lkn, wsp, tik, tel]    # redes sociales 2021\n",
        "rrss"
      ]
    },
    {
      "cell_type": "code",
      "execution_count": null,
      "id": "40a3ebeb",
      "metadata": {
        "id": "40a3ebeb",
        "outputId": "62e089f3-cacb-4d80-cc5b-2150853dd94a",
        "colab": {
          "base_uri": "https://localhost:8080/",
          "height": 300
        }
      },
      "outputs": [
        {
          "output_type": "execute_result",
          "data": {
            "text/plain": [
              "      Nombre  Usuarios  es_FBK   Año\n",
              "0   Facebook      2740    True  2006\n",
              "1    Twitter       339   False  2006\n",
              "2  Instagram      1221    True  2010\n",
              "3    YouTube      2291   False  2005\n",
              "4   LinkedIn       727   False  2003\n",
              "5   WhatsApp      2000    True  2009\n",
              "6     TikTok       689   False  2016\n",
              "7   Telegram       500   False  2013"
            ],
            "text/html": [
              "\n",
              "  <div id=\"df-ccaa238a-c84e-4801-ad31-b5ca7e852047\">\n",
              "    <div class=\"colab-df-container\">\n",
              "      <div>\n",
              "<style scoped>\n",
              "    .dataframe tbody tr th:only-of-type {\n",
              "        vertical-align: middle;\n",
              "    }\n",
              "\n",
              "    .dataframe tbody tr th {\n",
              "        vertical-align: top;\n",
              "    }\n",
              "\n",
              "    .dataframe thead th {\n",
              "        text-align: right;\n",
              "    }\n",
              "</style>\n",
              "<table border=\"1\" class=\"dataframe\">\n",
              "  <thead>\n",
              "    <tr style=\"text-align: right;\">\n",
              "      <th></th>\n",
              "      <th>Nombre</th>\n",
              "      <th>Usuarios</th>\n",
              "      <th>es_FBK</th>\n",
              "      <th>Año</th>\n",
              "    </tr>\n",
              "  </thead>\n",
              "  <tbody>\n",
              "    <tr>\n",
              "      <th>0</th>\n",
              "      <td>Facebook</td>\n",
              "      <td>2740</td>\n",
              "      <td>True</td>\n",
              "      <td>2006</td>\n",
              "    </tr>\n",
              "    <tr>\n",
              "      <th>1</th>\n",
              "      <td>Twitter</td>\n",
              "      <td>339</td>\n",
              "      <td>False</td>\n",
              "      <td>2006</td>\n",
              "    </tr>\n",
              "    <tr>\n",
              "      <th>2</th>\n",
              "      <td>Instagram</td>\n",
              "      <td>1221</td>\n",
              "      <td>True</td>\n",
              "      <td>2010</td>\n",
              "    </tr>\n",
              "    <tr>\n",
              "      <th>3</th>\n",
              "      <td>YouTube</td>\n",
              "      <td>2291</td>\n",
              "      <td>False</td>\n",
              "      <td>2005</td>\n",
              "    </tr>\n",
              "    <tr>\n",
              "      <th>4</th>\n",
              "      <td>LinkedIn</td>\n",
              "      <td>727</td>\n",
              "      <td>False</td>\n",
              "      <td>2003</td>\n",
              "    </tr>\n",
              "    <tr>\n",
              "      <th>5</th>\n",
              "      <td>WhatsApp</td>\n",
              "      <td>2000</td>\n",
              "      <td>True</td>\n",
              "      <td>2009</td>\n",
              "    </tr>\n",
              "    <tr>\n",
              "      <th>6</th>\n",
              "      <td>TikTok</td>\n",
              "      <td>689</td>\n",
              "      <td>False</td>\n",
              "      <td>2016</td>\n",
              "    </tr>\n",
              "    <tr>\n",
              "      <th>7</th>\n",
              "      <td>Telegram</td>\n",
              "      <td>500</td>\n",
              "      <td>False</td>\n",
              "      <td>2013</td>\n",
              "    </tr>\n",
              "  </tbody>\n",
              "</table>\n",
              "</div>\n",
              "      <button class=\"colab-df-convert\" onclick=\"convertToInteractive('df-ccaa238a-c84e-4801-ad31-b5ca7e852047')\"\n",
              "              title=\"Convert this dataframe to an interactive table.\"\n",
              "              style=\"display:none;\">\n",
              "        \n",
              "  <svg xmlns=\"http://www.w3.org/2000/svg\" height=\"24px\"viewBox=\"0 0 24 24\"\n",
              "       width=\"24px\">\n",
              "    <path d=\"M0 0h24v24H0V0z\" fill=\"none\"/>\n",
              "    <path d=\"M18.56 5.44l.94 2.06.94-2.06 2.06-.94-2.06-.94-.94-2.06-.94 2.06-2.06.94zm-11 1L8.5 8.5l.94-2.06 2.06-.94-2.06-.94L8.5 2.5l-.94 2.06-2.06.94zm10 10l.94 2.06.94-2.06 2.06-.94-2.06-.94-.94-2.06-.94 2.06-2.06.94z\"/><path d=\"M17.41 7.96l-1.37-1.37c-.4-.4-.92-.59-1.43-.59-.52 0-1.04.2-1.43.59L10.3 9.45l-7.72 7.72c-.78.78-.78 2.05 0 2.83L4 21.41c.39.39.9.59 1.41.59.51 0 1.02-.2 1.41-.59l7.78-7.78 2.81-2.81c.8-.78.8-2.07 0-2.86zM5.41 20L4 18.59l7.72-7.72 1.47 1.35L5.41 20z\"/>\n",
              "  </svg>\n",
              "      </button>\n",
              "      \n",
              "  <style>\n",
              "    .colab-df-container {\n",
              "      display:flex;\n",
              "      flex-wrap:wrap;\n",
              "      gap: 12px;\n",
              "    }\n",
              "\n",
              "    .colab-df-convert {\n",
              "      background-color: #E8F0FE;\n",
              "      border: none;\n",
              "      border-radius: 50%;\n",
              "      cursor: pointer;\n",
              "      display: none;\n",
              "      fill: #1967D2;\n",
              "      height: 32px;\n",
              "      padding: 0 0 0 0;\n",
              "      width: 32px;\n",
              "    }\n",
              "\n",
              "    .colab-df-convert:hover {\n",
              "      background-color: #E2EBFA;\n",
              "      box-shadow: 0px 1px 2px rgba(60, 64, 67, 0.3), 0px 1px 3px 1px rgba(60, 64, 67, 0.15);\n",
              "      fill: #174EA6;\n",
              "    }\n",
              "\n",
              "    [theme=dark] .colab-df-convert {\n",
              "      background-color: #3B4455;\n",
              "      fill: #D2E3FC;\n",
              "    }\n",
              "\n",
              "    [theme=dark] .colab-df-convert:hover {\n",
              "      background-color: #434B5C;\n",
              "      box-shadow: 0px 1px 3px 1px rgba(0, 0, 0, 0.15);\n",
              "      filter: drop-shadow(0px 1px 2px rgba(0, 0, 0, 0.3));\n",
              "      fill: #FFFFFF;\n",
              "    }\n",
              "  </style>\n",
              "\n",
              "      <script>\n",
              "        const buttonEl =\n",
              "          document.querySelector('#df-ccaa238a-c84e-4801-ad31-b5ca7e852047 button.colab-df-convert');\n",
              "        buttonEl.style.display =\n",
              "          google.colab.kernel.accessAllowed ? 'block' : 'none';\n",
              "\n",
              "        async function convertToInteractive(key) {\n",
              "          const element = document.querySelector('#df-ccaa238a-c84e-4801-ad31-b5ca7e852047');\n",
              "          const dataTable =\n",
              "            await google.colab.kernel.invokeFunction('convertToInteractive',\n",
              "                                                     [key], {});\n",
              "          if (!dataTable) return;\n",
              "\n",
              "          const docLinkHtml = 'Like what you see? Visit the ' +\n",
              "            '<a target=\"_blank\" href=https://colab.research.google.com/notebooks/data_table.ipynb>data table notebook</a>'\n",
              "            + ' to learn more about interactive tables.';\n",
              "          element.innerHTML = '';\n",
              "          dataTable['output_type'] = 'display_data';\n",
              "          await google.colab.output.renderOutput(dataTable, element);\n",
              "          const docLink = document.createElement('div');\n",
              "          docLink.innerHTML = docLinkHtml;\n",
              "          element.appendChild(docLink);\n",
              "        }\n",
              "      </script>\n",
              "    </div>\n",
              "  </div>\n",
              "  "
            ]
          },
          "metadata": {},
          "execution_count": 4
        }
      ],
      "source": [
        "import pandas as pd\n",
        "pd.DataFrame(rrss, columns = ['Nombre', 'Usuarios', 'es_FBK', 'Año'])\n",
        "# es_FBK es una bandera ('Flag'), esto es una marca"
      ]
    },
    {
      "cell_type": "markdown",
      "id": "b5dd5aa6",
      "metadata": {
        "id": "b5dd5aa6"
      },
      "source": [
        "Ya está creado el **DataFrame** que se puede visualizar bien y luego podemos tratar con herramientas de análisis."
      ]
    }
  ],
  "metadata": {
    "kernelspec": {
      "display_name": "Python 3 (ipykernel)",
      "language": "python",
      "name": "python3"
    },
    "language_info": {
      "codemirror_mode": {
        "name": "ipython",
        "version": 3
      },
      "file_extension": ".py",
      "mimetype": "text/x-python",
      "name": "python",
      "nbconvert_exporter": "python",
      "pygments_lexer": "ipython3",
      "version": "3.8.11"
    },
    "colab": {
      "name": "0010_tabla_con_pandas.ipynb",
      "provenance": [],
      "include_colab_link": true
    }
  },
  "nbformat": 4,
  "nbformat_minor": 5
}