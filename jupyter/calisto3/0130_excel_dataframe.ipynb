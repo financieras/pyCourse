{
  "cells": [
    {
      "cell_type": "markdown",
      "metadata": {
        "id": "view-in-github",
        "colab_type": "text"
      },
      "source": [
        "<a href=\"https://colab.research.google.com/github/financieras/pyCourse/blob/main/jupyter/calisto3/0130_excel_dataframe.ipynb\" target=\"_parent\"><img src=\"https://colab.research.google.com/assets/colab-badge.svg\" alt=\"Open In Colab\"/></a>"
      ]
    },
    {
      "cell_type": "markdown",
      "metadata": {
        "id": "P4curz8-5A_Y"
      },
      "source": [
        "# De Excel a Python como Pandas DataFrame\n",
        "Pasar datos de Excel a Python como Pandas DataFrame"
      ]
    },
    {
      "cell_type": "markdown",
      "metadata": {
        "id": "bCrLGp5J5A_d"
      },
      "source": [
        "## Importar datos de archivos de  Excel a Python  \n",
        "Leer un archivo, sinónimos:\n",
        "- Leer\n",
        "- Cargar\n",
        "- Importar\n",
        "- Subir  \n",
        "\n",
        "Significa pasar los archivos de un formato a otro formato que Python puede entender usando Panda DataFrame."
      ]
    },
    {
      "cell_type": "markdown",
      "metadata": {
        "id": "pQ189nC95A_g"
      },
      "source": [
        "### Caso 1 Datos en Hoja1 con nombre de columna"
      ]
    },
    {
      "cell_type": "markdown",
      "metadata": {
        "id": "WgYWg7eF5A_h"
      },
      "source": [
        "Importar un archivo con formato Excel a un archivo que Python pueda leer. Esto lo hacemos con la librería Pandas.  \n",
        "Función: pd.read_excel(ruta)  \n",
        "La ruta es el path donde está ubicado el archivo Excel."
      ]
    },
    {
      "cell_type": "code",
      "execution_count": null,
      "metadata": {
        "id": "WczAVBh65A_j",
        "outputId": "5642c64c-d497-4584-dc47-78df70d901f1"
      },
      "outputs": [
        {
          "data": {
            "text/html": [
              "<div>\n",
              "<style scoped>\n",
              "    .dataframe tbody tr th:only-of-type {\n",
              "        vertical-align: middle;\n",
              "    }\n",
              "\n",
              "    .dataframe tbody tr th {\n",
              "        vertical-align: top;\n",
              "    }\n",
              "\n",
              "    .dataframe thead th {\n",
              "        text-align: right;\n",
              "    }\n",
              "</style>\n",
              "<table border=\"1\" class=\"dataframe\">\n",
              "  <thead>\n",
              "    <tr style=\"text-align: right;\">\n",
              "      <th></th>\n",
              "      <th>Aeropuerto</th>\n",
              "      <th>CodigoIATA</th>\n",
              "      <th>Pasajeros</th>\n",
              "      <th>Mercancía</th>\n",
              "      <th>Insular</th>\n",
              "      <th>Año</th>\n",
              "    </tr>\n",
              "  </thead>\n",
              "  <tbody>\n",
              "    <tr>\n",
              "      <th>0</th>\n",
              "      <td>MADRID</td>\n",
              "      <td>MAD</td>\n",
              "      <td>61734944</td>\n",
              "      <td>560039136</td>\n",
              "      <td>False</td>\n",
              "      <td>1931</td>\n",
              "    </tr>\n",
              "    <tr>\n",
              "      <th>1</th>\n",
              "      <td>BARCELONA</td>\n",
              "      <td>BCN</td>\n",
              "      <td>52688455</td>\n",
              "      <td>176797909</td>\n",
              "      <td>False</td>\n",
              "      <td>1927</td>\n",
              "    </tr>\n",
              "    <tr>\n",
              "      <th>2</th>\n",
              "      <td>PALMA DE MALLORCA</td>\n",
              "      <td>PMI</td>\n",
              "      <td>29721142</td>\n",
              "      <td>9021606</td>\n",
              "      <td>True</td>\n",
              "      <td>1960</td>\n",
              "    </tr>\n",
              "    <tr>\n",
              "      <th>3</th>\n",
              "      <td>MALAGA</td>\n",
              "      <td>AGP</td>\n",
              "      <td>19858656</td>\n",
              "      <td>3080119</td>\n",
              "      <td>False</td>\n",
              "      <td>1946</td>\n",
              "    </tr>\n",
              "    <tr>\n",
              "      <th>4</th>\n",
              "      <td>ALICANTE</td>\n",
              "      <td>ALC</td>\n",
              "      <td>15048240</td>\n",
              "      <td>4032300</td>\n",
              "      <td>False</td>\n",
              "      <td>1951</td>\n",
              "    </tr>\n",
              "    <tr>\n",
              "      <th>5</th>\n",
              "      <td>GRAN CANARIA</td>\n",
              "      <td>LPA</td>\n",
              "      <td>13261228</td>\n",
              "      <td>19727786</td>\n",
              "      <td>True</td>\n",
              "      <td>1933</td>\n",
              "    </tr>\n",
              "    <tr>\n",
              "      <th>6</th>\n",
              "      <td>TENERIFE SUR</td>\n",
              "      <td>TFS</td>\n",
              "      <td>11168707</td>\n",
              "      <td>2193378</td>\n",
              "      <td>True</td>\n",
              "      <td>1978</td>\n",
              "    </tr>\n",
              "    <tr>\n",
              "      <th>7</th>\n",
              "      <td>VALENCIA</td>\n",
              "      <td>VLC</td>\n",
              "      <td>8539579</td>\n",
              "      <td>14515842</td>\n",
              "      <td>False</td>\n",
              "      <td>1930</td>\n",
              "    </tr>\n",
              "    <tr>\n",
              "      <th>8</th>\n",
              "      <td>IBIZA</td>\n",
              "      <td>IBZ</td>\n",
              "      <td>8155626</td>\n",
              "      <td>1434695</td>\n",
              "      <td>True</td>\n",
              "      <td>1949</td>\n",
              "    </tr>\n",
              "    <tr>\n",
              "      <th>9</th>\n",
              "      <td>SEVILLA</td>\n",
              "      <td>SVQ</td>\n",
              "      <td>7544357</td>\n",
              "      <td>9891790</td>\n",
              "      <td>False</td>\n",
              "      <td>1946</td>\n",
              "    </tr>\n",
              "  </tbody>\n",
              "</table>\n",
              "</div>"
            ],
            "text/plain": [
              "          Aeropuerto CodigoIATA  Pasajeros  Mercancía  Insular   Año\n",
              "0             MADRID        MAD   61734944  560039136    False  1931\n",
              "1          BARCELONA        BCN   52688455  176797909    False  1927\n",
              "2  PALMA DE MALLORCA        PMI   29721142    9021606     True  1960\n",
              "3             MALAGA        AGP   19858656    3080119    False  1946\n",
              "4           ALICANTE        ALC   15048240    4032300    False  1951\n",
              "5       GRAN CANARIA        LPA   13261228   19727786     True  1933\n",
              "6       TENERIFE SUR        TFS   11168707    2193378     True  1978\n",
              "7           VALENCIA        VLC    8539579   14515842    False  1930\n",
              "8              IBIZA        IBZ    8155626    1434695     True  1949\n",
              "9            SEVILLA        SVQ    7544357    9891790    False  1946"
            ]
          },
          "execution_count": 7,
          "metadata": {},
          "output_type": "execute_result"
        }
      ],
      "source": [
        "import pandas as pd             # importamos pandas\n",
        "\n",
        "path = 'excel/aeropuertos.xlsx' # establecemos la ruta del archivo\n",
        "pd.read_excel(path)"
      ]
    },
    {
      "cell_type": "markdown",
      "source": [
        "*En Google Colab*\n",
        "\n",
        "* La ruta anterior está pensada para el caso en el que tenemos el proyecto corriendo en local y estamos trabajando directamente en Jupyter Notebook o usando Anaconda.\n",
        "* En caso de usar Google Colab, necesitamos tener el archivo *xlsx* en la carpeta *content* y para ello la forma más sencilla puede ser clonar el proyecto desde GitHub, así:\n",
        "```\n",
        "!git clone https://github.com/financieras/pyCourse.git\n",
        "```"
      ],
      "metadata": {
        "id": "KAUNB3qvDys6"
      }
    },
    {
      "cell_type": "markdown",
      "metadata": {
        "id": "MTy5U9Am5A_m"
      },
      "source": [
        "### Caso 2 Datos en otra Hoja"
      ]
    },
    {
      "cell_type": "code",
      "execution_count": null,
      "metadata": {
        "id": "eHaVtYjE5A_p",
        "outputId": "7a489f6d-aa34-4ee7-aa37-ca68898e0853"
      },
      "outputs": [
        {
          "data": {
            "text/html": [
              "<div>\n",
              "<style scoped>\n",
              "    .dataframe tbody tr th:only-of-type {\n",
              "        vertical-align: middle;\n",
              "    }\n",
              "\n",
              "    .dataframe tbody tr th {\n",
              "        vertical-align: top;\n",
              "    }\n",
              "\n",
              "    .dataframe thead th {\n",
              "        text-align: right;\n",
              "    }\n",
              "</style>\n",
              "<table border=\"1\" class=\"dataframe\">\n",
              "  <thead>\n",
              "    <tr style=\"text-align: right;\">\n",
              "      <th></th>\n",
              "      <th>Multirriesgo</th>\n",
              "      <th>Seguro_Directo</th>\n",
              "      <th>Cartera</th>\n",
              "    </tr>\n",
              "  </thead>\n",
              "  <tbody>\n",
              "    <tr>\n",
              "      <th>0</th>\n",
              "      <td>Hogar</td>\n",
              "      <td>0.038112</td>\n",
              "      <td>0.018106</td>\n",
              "    </tr>\n",
              "    <tr>\n",
              "      <th>1</th>\n",
              "      <td>Comercio</td>\n",
              "      <td>-0.025291</td>\n",
              "      <td>0.000172</td>\n",
              "    </tr>\n",
              "    <tr>\n",
              "      <th>2</th>\n",
              "      <td>Comunidades</td>\n",
              "      <td>0.029530</td>\n",
              "      <td>0.014900</td>\n",
              "    </tr>\n",
              "    <tr>\n",
              "      <th>3</th>\n",
              "      <td>Industrial</td>\n",
              "      <td>0.068692</td>\n",
              "      <td>-0.000488</td>\n",
              "    </tr>\n",
              "    <tr>\n",
              "      <th>4</th>\n",
              "      <td>Otros Multirriesgos</td>\n",
              "      <td>0.072676</td>\n",
              "      <td>0.000367</td>\n",
              "    </tr>\n",
              "  </tbody>\n",
              "</table>\n",
              "</div>"
            ],
            "text/plain": [
              "          Multirriesgo  Seguro_Directo   Cartera\n",
              "0                Hogar        0.038112  0.018106\n",
              "1             Comercio       -0.025291  0.000172\n",
              "2          Comunidades        0.029530  0.014900\n",
              "3           Industrial        0.068692 -0.000488\n",
              "4  Otros Multirriesgos        0.072676  0.000367"
            ]
          },
          "execution_count": 8,
          "metadata": {},
          "output_type": "execute_result"
        }
      ],
      "source": [
        "pd.read_excel(path,\n",
        "             sheet_name='Hoja2')"
      ]
    },
    {
      "cell_type": "markdown",
      "metadata": {
        "id": "ykKFlauk5A_r"
      },
      "source": [
        "### Caso 3 Sin nombres de columnas"
      ]
    },
    {
      "cell_type": "code",
      "execution_count": null,
      "metadata": {
        "id": "0SNZSXry5A_s",
        "outputId": "390c5104-302c-4c2e-cd9c-2c97c77ad5e0"
      },
      "outputs": [
        {
          "data": {
            "text/html": [
              "<div>\n",
              "<style scoped>\n",
              "    .dataframe tbody tr th:only-of-type {\n",
              "        vertical-align: middle;\n",
              "    }\n",
              "\n",
              "    .dataframe tbody tr th {\n",
              "        vertical-align: top;\n",
              "    }\n",
              "\n",
              "    .dataframe thead th {\n",
              "        text-align: right;\n",
              "    }\n",
              "</style>\n",
              "<table border=\"1\" class=\"dataframe\">\n",
              "  <thead>\n",
              "    <tr style=\"text-align: right;\">\n",
              "      <th></th>\n",
              "      <th>Resultado</th>\n",
              "      <th>marzo2020</th>\n",
              "      <th>marzo2021</th>\n",
              "    </tr>\n",
              "  </thead>\n",
              "  <tbody>\n",
              "    <tr>\n",
              "      <th>0</th>\n",
              "      <td>Vida</td>\n",
              "      <td>548.341259</td>\n",
              "      <td>649.276349</td>\n",
              "    </tr>\n",
              "    <tr>\n",
              "      <th>1</th>\n",
              "      <td>Automóviles</td>\n",
              "      <td>294.331122</td>\n",
              "      <td>370.994886</td>\n",
              "    </tr>\n",
              "    <tr>\n",
              "      <th>2</th>\n",
              "      <td>Multirriesgos</td>\n",
              "      <td>60.247159</td>\n",
              "      <td>-25.244685</td>\n",
              "    </tr>\n",
              "    <tr>\n",
              "      <th>3</th>\n",
              "      <td>Salud</td>\n",
              "      <td>125.130473</td>\n",
              "      <td>138.934177</td>\n",
              "    </tr>\n",
              "    <tr>\n",
              "      <th>4</th>\n",
              "      <td>Resto No Vida</td>\n",
              "      <td>252.955463</td>\n",
              "      <td>356.637499</td>\n",
              "    </tr>\n",
              "    <tr>\n",
              "      <th>5</th>\n",
              "      <td>Total No Vida</td>\n",
              "      <td>732.664217</td>\n",
              "      <td>841.321877</td>\n",
              "    </tr>\n",
              "    <tr>\n",
              "      <th>6</th>\n",
              "      <td>Total Vida y No Vida</td>\n",
              "      <td>1281.005476</td>\n",
              "      <td>1490.598226</td>\n",
              "    </tr>\n",
              "  </tbody>\n",
              "</table>\n",
              "</div>"
            ],
            "text/plain": [
              "              Resultado    marzo2020    marzo2021\n",
              "0                  Vida   548.341259   649.276349\n",
              "1           Automóviles   294.331122   370.994886\n",
              "2         Multirriesgos    60.247159   -25.244685\n",
              "3                 Salud   125.130473   138.934177\n",
              "4         Resto No Vida   252.955463   356.637499\n",
              "5         Total No Vida   732.664217   841.321877\n",
              "6  Total Vida y No Vida  1281.005476  1490.598226"
            ]
          },
          "execution_count": 11,
          "metadata": {},
          "output_type": "execute_result"
        }
      ],
      "source": [
        "pd.read_excel(path,\n",
        "             sheet_name = 'Hoja3',\n",
        "             header = None,\n",
        "             names = ['Resultado','marzo2020','marzo2021'])"
      ]
    },
    {
      "cell_type": "markdown",
      "metadata": {
        "id": "fBUTqUTq5A_v"
      },
      "source": [
        "Conviene guardar los DataFrame en una variable para futuros análisis."
      ]
    }
  ],
  "metadata": {
    "kernelspec": {
      "display_name": "Python 3 (ipykernel)",
      "language": "python",
      "name": "python3"
    },
    "language_info": {
      "codemirror_mode": {
        "name": "ipython",
        "version": 3
      },
      "file_extension": ".py",
      "mimetype": "text/x-python",
      "name": "python",
      "nbconvert_exporter": "python",
      "pygments_lexer": "ipython3",
      "version": "3.8.11"
    },
    "colab": {
      "name": "0130_excel_dataframe.ipynb",
      "provenance": [],
      "include_colab_link": true
    }
  },
  "nbformat": 4,
  "nbformat_minor": 0
}