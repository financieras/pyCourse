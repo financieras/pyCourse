{
  "nbformat": 4,
  "nbformat_minor": 0,
  "metadata": {
    "colab": {
      "provenance": [],
      "authorship_tag": "ABX9TyO5MnmBUZFx4vNSnxE/h6eM",
      "include_colab_link": true
    },
    "kernelspec": {
      "name": "python3",
      "display_name": "Python 3"
    },
    "language_info": {
      "name": "python"
    }
  },
  "cells": [
    {
      "cell_type": "markdown",
      "metadata": {
        "id": "view-in-github",
        "colab_type": "text"
      },
      "source": [
        "<a href=\"https://colab.research.google.com/github/financieras/pyCourse/blob/main/jupyter/calisto3/0400_polars.ipynb\" target=\"_parent\"><img src=\"https://colab.research.google.com/assets/colab-badge.svg\" alt=\"Open In Colab\"/></a>"
      ]
    },
    {
      "cell_type": "markdown",
      "source": [
        "# Comenzando con Polars\n",
        "- [Getting started](https://docs.pola.rs/user-guide/getting-started/)\n",
        "- Es una librería competidora de Pandas.\n",
        "- Resulta ser más rápida con grandes volúmenes de datos.\n",
        "\n",
        "<img src=\"https://github.com/financieras/pyCourse/blob/main/jupyter/img/polars.jpg?raw=1\" alt=\"logo polars\" width=\"320\">\n",
        "\n",
        "[Polars Benchmark](https://duckdb.org/2023/04/14/h2oai.html#results)\n",
        "\n",
        "<img src=\"https://github.com/financieras/pyCourse/blob/main/jupyter/img/polars_benchmark.png?raw=1\" alt=\"polars benchmark\" width=\"480\">\n"
      ],
      "metadata": {
        "id": "Owz-LdXs_cbO"
      }
    },
    {
      "cell_type": "markdown",
      "source": [
        "## Instalación de Polars"
      ],
      "metadata": {
        "id": "GWihDCLJ-r7M"
      }
    },
    {
      "cell_type": "code",
      "execution_count": null,
      "metadata": {
        "colab": {
          "base_uri": "https://localhost:8080/"
        },
        "id": "qX_F-9vr9fh9",
        "outputId": "abde6c56-2b67-4f7d-b9c7-d5dd878838dc"
      },
      "outputs": [
        {
          "output_type": "stream",
          "name": "stdout",
          "text": [
            "Requirement already satisfied: polars in /usr/local/lib/python3.10/dist-packages (1.9.0)\n"
          ]
        }
      ],
      "source": [
        "pip install polars"
      ]
    },
    {
      "cell_type": "markdown",
      "source": [
        "## Lectura y escritura\n",
        "*Polars* admite la lectura y escritura de formatos de archivos comunes (p. ej., csv, json, parquet), almacenamiento en la nube (S3, Azure Blob, BigQuery) y bases de datos (p. ej., postgres, mysql). A continuación, creamos un pequeño marco de datos y mostramos cómo escribirlo en el disco y volver a leerlo."
      ],
      "metadata": {
        "id": "1dJePX44-2pb"
      }
    },
    {
      "cell_type": "code",
      "source": [
        "import polars as pl\n",
        "import datetime as dt\n",
        "\n",
        "df = pl.DataFrame(\n",
        "    {\n",
        "        \"name\": [\"Alice Archer\", \"Ben Brown\", \"Chloe Cooper\", \"Daniel Donovan\"],\n",
        "        \"birthdate\": [\n",
        "            dt.date(1997, 1, 10),\n",
        "            dt.date(1985, 2, 15),\n",
        "            dt.date(1983, 3, 22),\n",
        "            dt.date(1981, 4, 30),\n",
        "        ],\n",
        "        \"weight\": [57.9, 72.5, 53.6, 83.1],  # (kg)\n",
        "        \"height\": [1.56, 1.77, 1.65, 1.75],  # (m)\n",
        "    }\n",
        ")\n",
        "\n",
        "print(df)"
      ],
      "metadata": {
        "colab": {
          "base_uri": "https://localhost:8080/"
        },
        "id": "rgPziE5995Rw",
        "outputId": "5605207a-1f31-4fb6-cc0b-59bbb54fa933"
      },
      "execution_count": null,
      "outputs": [
        {
          "output_type": "stream",
          "name": "stdout",
          "text": [
            "shape: (4, 4)\n",
            "┌────────────────┬────────────┬────────┬────────┐\n",
            "│ name           ┆ birthdate  ┆ weight ┆ height │\n",
            "│ ---            ┆ ---        ┆ ---    ┆ ---    │\n",
            "│ str            ┆ date       ┆ f64    ┆ f64    │\n",
            "╞════════════════╪════════════╪════════╪════════╡\n",
            "│ Alice Archer   ┆ 1997-01-10 ┆ 57.9   ┆ 1.56   │\n",
            "│ Ben Brown      ┆ 1985-02-15 ┆ 72.5   ┆ 1.77   │\n",
            "│ Chloe Cooper   ┆ 1983-03-22 ┆ 53.6   ┆ 1.65   │\n",
            "│ Daniel Donovan ┆ 1981-04-30 ┆ 83.1   ┆ 1.75   │\n",
            "└────────────────┴────────────┴────────┴────────┘\n"
          ]
        }
      ]
    },
    {
      "cell_type": "markdown",
      "source": [],
      "metadata": {
        "id": "MYC4StIl-O6U"
      }
    },
    {
      "cell_type": "code",
      "source": [
        "df.write_csv(\"output.csv\")\n",
        "df_csv = pl.read_csv(\"output.csv\", try_parse_dates=True)\n",
        "print(df_csv)"
      ],
      "metadata": {
        "colab": {
          "base_uri": "https://localhost:8080/"
        },
        "id": "kLiqxWHa-PdN",
        "outputId": "d79fbb2f-13f3-453a-d09b-41cf1d7d6fd4"
      },
      "execution_count": null,
      "outputs": [
        {
          "output_type": "stream",
          "name": "stdout",
          "text": [
            "shape: (4, 4)\n",
            "┌────────────────┬────────────┬────────┬────────┐\n",
            "│ name           ┆ birthdate  ┆ weight ┆ height │\n",
            "│ ---            ┆ ---        ┆ ---    ┆ ---    │\n",
            "│ str            ┆ date       ┆ f64    ┆ f64    │\n",
            "╞════════════════╪════════════╪════════╪════════╡\n",
            "│ Alice Archer   ┆ 1997-01-10 ┆ 57.9   ┆ 1.56   │\n",
            "│ Ben Brown      ┆ 1985-02-15 ┆ 72.5   ┆ 1.77   │\n",
            "│ Chloe Cooper   ┆ 1983-03-22 ┆ 53.6   ┆ 1.65   │\n",
            "│ Daniel Donovan ┆ 1981-04-30 ┆ 83.1   ┆ 1.75   │\n",
            "└────────────────┴────────────┴────────┴────────┘\n"
          ]
        }
      ]
    }
  ]
}