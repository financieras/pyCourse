{
  "nbformat": 4,
  "nbformat_minor": 0,
  "metadata": {
    "colab": {
      "provenance": [],
      "authorship_tag": "ABX9TyNA0EprXfWKjNDXhfHHunvB",
      "include_colab_link": true
    },
    "kernelspec": {
      "name": "python3",
      "display_name": "Python 3"
    },
    "language_info": {
      "name": "python"
    }
  },
  "cells": [
    {
      "cell_type": "markdown",
      "metadata": {
        "id": "view-in-github",
        "colab_type": "text"
      },
      "source": [
        "<a href=\"https://colab.research.google.com/github/financieras/pyCourse/blob/main/jupyter/calisto3/0061_sumar_elementos_matriz.ipynb\" target=\"_parent\"><img src=\"https://colab.research.google.com/assets/colab-badge.svg\" alt=\"Open In Colab\"/></a>"
      ]
    },
    {
      "cell_type": "markdown",
      "source": [
        "# Sumar los elementos de una matriz"
      ],
      "metadata": {
        "id": "I9UDP1VX4Xig"
      }
    },
    {
      "cell_type": "markdown",
      "source": [
        "## Método 1\n",
        "Con doble bucle: dos ```for``` anidados."
      ],
      "metadata": {
        "id": "w5wtLDF84iSC"
      }
    },
    {
      "cell_type": "code",
      "source": [
        "m = [\n",
        "   [0,1,0,0,1,0],\n",
        "   [1,0,1,0,0,0],\n",
        "   [0,1,0,1,0,0],\n",
        "   [0,0,1,0,1,1],\n",
        "   [1,0,0,1,0,0],\n",
        "   [0,0,0,1,0,0],\n",
        "]\n",
        "\n",
        "total = 0\n",
        "for fila in m:\n",
        "    for elemento in fila:\n",
        "        total += elemento\n",
        "\n",
        "total"
      ],
      "metadata": {
        "colab": {
          "base_uri": "https://localhost:8080/"
        },
        "id": "meEaEewj3LId",
        "outputId": "4d451422-34d6-4568-b123-0b1471f38011"
      },
      "execution_count": 1,
      "outputs": [
        {
          "output_type": "execute_result",
          "data": {
            "text/plain": [
              "12"
            ]
          },
          "metadata": {},
          "execution_count": 1
        }
      ]
    },
    {
      "cell_type": "markdown",
      "source": [
        "## Método 2\n",
        "* La función `sum()` se utiliza para sumar los elementos de una lista.\n",
        "* En este caso, se utiliza dos veces:\n",
        " 1. una vez para sumar los elementos de cada sublista de la matriz y\n",
        " 2. otra vez para sumar los resultados de las sumas parciales\n",
        "* La expresión `sum(m, [])` se encarga de sumar los elementos de cada sublista de la matriz.\n",
        " - El segundo argumento, `[]`, se utiliza para especificar una lista vacía como valor inicial para la suma.\n",
        " - Esto es necesario porque `sum()` espera una secuencia numérica como primer argumento, y al proporcionar una lista vacía, se asegura de que los elementos de las sublistas se sumen correctamente.\n",
        "* Luego, se utiliza `sum()` nuevamente para sumar los resultados de las sumas parciales.\n",
        "* La expresión `sum(sum(m, []))` suma todos los elementos de la matriz `m`."
      ],
      "metadata": {
        "id": "pT-BCQLelHt0"
      }
    },
    {
      "cell_type": "code",
      "source": [
        "m = [\n",
        "   [0,1,0,0,1,0],\n",
        "   [1,0,1,0,0,0],\n",
        "   [0,1,0,1,0,0],\n",
        "   [0,0,1,0,1,1],\n",
        "   [1,0,0,1,0,0],\n",
        "   [0,0,0,1,0,0],\n",
        "]\n",
        "\n",
        "print(sum(sum(m,[])))"
      ],
      "metadata": {
        "colab": {
          "base_uri": "https://localhost:8080/"
        },
        "id": "EbqdDNt5fN2z",
        "outputId": "3aee8d9e-93ed-4442-f727-7d5d9c72a1dd"
      },
      "execution_count": 2,
      "outputs": [
        {
          "output_type": "stream",
          "name": "stdout",
          "text": [
            "12\n"
          ]
        }
      ]
    },
    {
      "cell_type": "markdown",
      "source": [
        "## Método 3\n",
        "La función map() se utiliza para aplicar una función a cada elemento de una secuencia. En este caso, se aplica la función sum() a cada sublista de la matriz m.\n",
        "La expresión map(sum, m) aplica la función sum() a cada sublista de la matriz m. Esto devuelve un objeto de tipo map que contiene los resultados de las sumas parciales.\n",
        "Luego, se utiliza la función sum() nuevamente para sumar los resultados de las sumas parciales. La expresión sum(map(sum, m)) suma todos los elementos de la matriz m.\n"
      ],
      "metadata": {
        "id": "QoiquD80nkhD"
      }
    },
    {
      "cell_type": "code",
      "source": [
        "m = [\n",
        "   [0,1,0,0,1,0],\n",
        "   [1,0,1,0,0,0],\n",
        "   [0,1,0,1,0,0],\n",
        "   [0,0,1,0,1,1],\n",
        "   [1,0,0,1,0,0],\n",
        "   [0,0,0,1,0,0],\n",
        "]\n",
        "sum(map(sum, m))"
      ],
      "metadata": {
        "colab": {
          "base_uri": "https://localhost:8080/"
        },
        "id": "TolfTtr3mu3B",
        "outputId": "e6abf883-ed5c-4049-8f2c-bad81e77ccd2"
      },
      "execution_count": 3,
      "outputs": [
        {
          "output_type": "execute_result",
          "data": {
            "text/plain": [
              "12"
            ]
          },
          "metadata": {},
          "execution_count": 3
        }
      ]
    },
    {
      "cell_type": "markdown",
      "source": [
        "## Método 4\n",
        "* List comprehension.\n",
        "* La expresión `sum(matrix[fila]) for fila in range(len(matrix))` es una comprensión de lista que recorre cada fila de la matriz y calcula la suma de sus elementos.\n",
        " - La función `sum()` se utiliza para sumar los elementos en cada fila.\n",
        "* Luego, la función `sum()` se aplica nuevamente a los resultados de la comprensión de lista.\n",
        " - Esto suma todas las sumas parciales de las filas, lo que da como resultado la suma total de todos los elementos en la matriz.\n",
        "\n"
      ],
      "metadata": {
        "id": "6O_Ke-rW4ut0"
      }
    },
    {
      "cell_type": "code",
      "source": [
        "matrix = [\n",
        "   [0,1,0,0,1,0],\n",
        "   [1,0,1,0,0,0],\n",
        "   [0,1,0,1,0,0],\n",
        "   [0,0,1,0,1,1],\n",
        "   [1,0,0,1,0,0],\n",
        "   [0,0,0,1,0,0],\n",
        "]\n",
        "\n",
        "sum(sum(matrix[fila]) for fila in range(len(matrix)))"
      ],
      "metadata": {
        "colab": {
          "base_uri": "https://localhost:8080/"
        },
        "id": "b7W3q9AwzG36",
        "outputId": "8e3c0b91-40f5-40e8-b468-d11b3ce6c626"
      },
      "execution_count": 4,
      "outputs": [
        {
          "output_type": "execute_result",
          "data": {
            "text/plain": [
              "12"
            ]
          },
          "metadata": {},
          "execution_count": 4
        }
      ]
    },
    {
      "cell_type": "markdown",
      "source": [
        "## Método 5\n",
        "* List comprehension.\n",
        "* La expresión `[sum(fila) for fila in matrix]` es una comprensión de lista que recorre cada fila de la matriz y calcula la suma de sus elementos utilizando la función `sum()`.\n",
        "* Luego, la función 'sum()' se aplica a los resultados de la comprensión de lista.\n",
        "* Esto suma todas las sumas parciales de los elementos en cada fila, lo que da como resultado la suma total de todos los elementos en la matriz.\n",
        "* La principal diferencia entre este código y el código anterior es la forma en que se utiliza la comprensión de lista y cómo se calculan las sumas parciales.\n",
        "* En este caso, la comprensión de lista se aplica directamente a las filas de la matriz, mientras que en el primer código se utiliza una comprensión de lista anidada para obtener las sumas parciales antes de aplicar la suma total."
      ],
      "metadata": {
        "id": "1xW_ByoJqh55"
      }
    },
    {
      "cell_type": "code",
      "source": [
        "matrix = [\n",
        "   [0,1,0,0,1,0],\n",
        "   [1,0,1,0,0,0],\n",
        "   [0,1,0,1,0,0],\n",
        "   [0,0,1,0,1,1],\n",
        "   [1,0,0,1,0,0],\n",
        "   [0,0,0,1,0,0],\n",
        "]\n",
        "\n",
        "sum([sum(fila) for fila in matrix])"
      ],
      "metadata": {
        "colab": {
          "base_uri": "https://localhost:8080/"
        },
        "id": "MKFuUXEqqm1g",
        "outputId": "256f9bb5-3437-4548-eab8-2c1fbe888dca"
      },
      "execution_count": 5,
      "outputs": [
        {
          "output_type": "execute_result",
          "data": {
            "text/plain": [
              "12"
            ]
          },
          "metadata": {},
          "execution_count": 5
        }
      ]
    },
    {
      "cell_type": "markdown",
      "source": [
        "## Método 6\n",
        "* List comprehension con dos bucles for.\n",
        "* El primer bucle `for fila in matrix` itera sobre cada fila en la matriz.\n",
        "* El segundo bucle `for elemento in fila` itera sobre cada elemento en la fila actual.\n",
        "* La expresión `elemento for fila in matrix for elemento in fila` toma cada elemento individual en la matriz y lo pasa a la función `sum()` para calcular la suma total."
      ],
      "metadata": {
        "id": "Ezf-3Xwdv9cm"
      }
    },
    {
      "cell_type": "code",
      "source": [
        "matrix = [\n",
        "   [0,1,0,0,1,0],\n",
        "   [1,0,1,0,0,0],\n",
        "   [0,1,0,1,0,0],\n",
        "   [0,0,1,0,1,1],\n",
        "   [1,0,0,1,0,0],\n",
        "   [0,0,0,1,0,0],\n",
        "]\n",
        "\n",
        "sum(elemento for fila in matrix for elemento in fila)"
      ],
      "metadata": {
        "colab": {
          "base_uri": "https://localhost:8080/"
        },
        "id": "VlhWADabutdT",
        "outputId": "9871414c-cd03-4fd8-cd0d-dfbf75da0413"
      },
      "execution_count": 6,
      "outputs": [
        {
          "output_type": "execute_result",
          "data": {
            "text/plain": [
              "12"
            ]
          },
          "metadata": {},
          "execution_count": 6
        }
      ]
    },
    {
      "cell_type": "markdown",
      "source": [
        "## Método 7\n",
        "* Con la librería ```numpy```\n",
        "* En ciencia de datos se trabaja mucho con la librería NumPy que es ideal para trabajar con temas de álgebra: vectores, matrices, ..."
      ],
      "metadata": {
        "id": "QpmsxlRp5QfT"
      }
    },
    {
      "cell_type": "code",
      "execution_count": 7,
      "metadata": {
        "colab": {
          "base_uri": "https://localhost:8080/"
        },
        "id": "J1Pt21Pgxidl",
        "outputId": "697f92b6-2968-4dff-89fb-b4fc85555d8f"
      },
      "outputs": [
        {
          "output_type": "execute_result",
          "data": {
            "text/plain": [
              "12"
            ]
          },
          "metadata": {},
          "execution_count": 7
        }
      ],
      "source": [
        "import numpy as np\n",
        "matriz = np.array([\n",
        "   [0,1,0,0,1,0],\n",
        "   [1,0,1,0,0,0],\n",
        "   [0,1,0,1,0,0],\n",
        "   [0,0,1,0,1,1],\n",
        "   [1,0,0,1,0,0],\n",
        "   [0,0,0,1,0,0],\n",
        "])\n",
        "np.sum(matriz)"
      ]
    }
  ]
}
