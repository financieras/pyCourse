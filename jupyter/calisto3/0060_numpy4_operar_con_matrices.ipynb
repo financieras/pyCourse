{
  "cells": [
    {
      "cell_type": "markdown",
      "metadata": {
        "id": "view-in-github",
        "colab_type": "text"
      },
      "source": [
        "<a href=\"https://colab.research.google.com/github/financieras/pyCourse/blob/main/jupyter/calisto3/0060_numpy4_operar_con_matrices.ipynb\" target=\"_parent\"><img src=\"https://colab.research.google.com/assets/colab-badge.svg\" alt=\"Open In Colab\"/></a>"
      ]
    },
    {
      "cell_type": "markdown",
      "id": "191f7d54",
      "metadata": {
        "id": "191f7d54"
      },
      "source": [
        "# NumPy [4] Operar con matrices"
      ]
    },
    {
      "cell_type": "markdown",
      "id": "3c095637",
      "metadata": {
        "id": "3c095637"
      },
      "source": [
        "### Acceder a un elemento por su índice"
      ]
    },
    {
      "cell_type": "code",
      "execution_count": 1,
      "id": "13ec58ce",
      "metadata": {
        "id": "13ec58ce",
        "outputId": "c6467ec0-8fc6-4767-a7f7-a4fb8f47f114",
        "colab": {
          "base_uri": "https://localhost:8080/"
        }
      },
      "outputs": [
        {
          "output_type": "stream",
          "name": "stdout",
          "text": [
            "El elemento de índices (1,2): 8\n",
            "[[ 0  1  2  3  4  5]\n",
            " [ 6  7  8  9 10 11]\n",
            " [12 13 14 15 16 17]\n",
            " [18 19 20 21 22 23]]\n"
          ]
        }
      ],
      "source": [
        "import numpy as np\n",
        "\n",
        "m = np.arange(24).reshape(4,6)\n",
        "print(\"El elemento de índices (1,2):\", m[1,2])\n",
        "print(m)"
      ]
    },
    {
      "cell_type": "markdown",
      "id": "155e9a21",
      "metadata": {
        "id": "155e9a21"
      },
      "source": [
        "### sort()\n",
        "Permite ordenar un array."
      ]
    },
    {
      "cell_type": "code",
      "execution_count": 2,
      "id": "a358737e",
      "metadata": {
        "id": "a358737e",
        "outputId": "fd17c6a1-9a7f-4bc1-d48b-8abfdf70cd08",
        "colab": {
          "base_uri": "https://localhost:8080/"
        }
      },
      "outputs": [
        {
          "output_type": "execute_result",
          "data": {
            "text/plain": [
              "array([ 2,  3,  5,  7, 11, 17, 19])"
            ]
          },
          "metadata": {},
          "execution_count": 2
        }
      ],
      "source": [
        "m = np.array([17, 2, 11, 5, 7, 19, 3])\n",
        "np.sort(m)"
      ]
    },
    {
      "cell_type": "markdown",
      "id": "bbd83831",
      "metadata": {
        "id": "bbd83831"
      },
      "source": [
        "### power()"
      ]
    },
    {
      "cell_type": "code",
      "execution_count": 3,
      "id": "125ac937",
      "metadata": {
        "id": "125ac937",
        "outputId": "1ca7b3b5-6704-4b2d-8cfc-58da63978c6a",
        "colab": {
          "base_uri": "https://localhost:8080/"
        }
      },
      "outputs": [
        {
          "output_type": "stream",
          "name": "stdout",
          "text": [
            "[ 4  9 16 25]\n",
            "[ 4  9 16 25]\n",
            "[  8  27  64 125]\n"
          ]
        }
      ],
      "source": [
        "m = np.array([2, 3, 4, 5])\n",
        "\n",
        "print(np.array(m**2))          # cuadrados\n",
        "print(np.power(m, 2))          # cuadrados usando power\n",
        "print(np.power(m, 3))          # cubos"
      ]
    },
    {
      "cell_type": "markdown",
      "id": "d084bfba",
      "metadata": {
        "id": "d084bfba"
      },
      "source": [
        "### Condición lógica"
      ]
    },
    {
      "cell_type": "code",
      "execution_count": 4,
      "id": "6aa30222",
      "metadata": {
        "id": "6aa30222",
        "outputId": "575edbc5-29c2-45fe-98c4-e4f3b13da2d6",
        "colab": {
          "base_uri": "https://localhost:8080/"
        }
      },
      "outputs": [
        {
          "output_type": "stream",
          "name": "stdout",
          "text": [
            "[False False  True  True]\n"
          ]
        }
      ],
      "source": [
        "m = np.array([2, 3, 4, 5])\n",
        "\n",
        "print(np.array(m > 3))"
      ]
    },
    {
      "cell_type": "markdown",
      "id": "f4ca76fc",
      "metadata": {
        "id": "f4ca76fc"
      },
      "source": [
        "### Máximo y mínimo"
      ]
    },
    {
      "cell_type": "code",
      "execution_count": 5,
      "id": "0586d725",
      "metadata": {
        "id": "0586d725",
        "outputId": "e00c27d8-976b-4ebd-ed25-10f82485e833",
        "colab": {
          "base_uri": "https://localhost:8080/"
        }
      },
      "outputs": [
        {
          "output_type": "stream",
          "name": "stdout",
          "text": [
            "2\n",
            "5\n"
          ]
        }
      ],
      "source": [
        "m = np.array([2, 3, 4, 5])\n",
        "\n",
        "print(np.array(m.min()))          # mínimo\n",
        "print(np.array(m.max()))          # máximo\n"
      ]
    },
    {
      "cell_type": "markdown",
      "id": "e702f65c",
      "metadata": {
        "id": "e702f65c"
      },
      "source": [
        "### Concatenar arrays"
      ]
    },
    {
      "cell_type": "code",
      "execution_count": 6,
      "id": "8adde0a7",
      "metadata": {
        "id": "8adde0a7",
        "outputId": "2e872356-f05a-4b70-e032-7ad4d32c4151",
        "colab": {
          "base_uri": "https://localhost:8080/"
        }
      },
      "outputs": [
        {
          "output_type": "stream",
          "name": "stdout",
          "text": [
            "[ 2  3  4  5 20 30 40 50]\n"
          ]
        }
      ],
      "source": [
        "m1 = np.array([2, 3, 4, 5])\n",
        "m2 = np.array([20, 30, 40, 50])\n",
        "\n",
        "print(np.concatenate((m1, m2)))"
      ]
    },
    {
      "cell_type": "markdown",
      "id": "edae34f1",
      "metadata": {
        "id": "edae34f1"
      },
      "source": [
        "### Matriz más escalar"
      ]
    },
    {
      "cell_type": "code",
      "execution_count": 7,
      "id": "808de7e5",
      "metadata": {
        "id": "808de7e5",
        "outputId": "179d0947-1de5-4064-fb02-8c4e8cf7655c",
        "colab": {
          "base_uri": "https://localhost:8080/"
        }
      },
      "outputs": [
        {
          "output_type": "stream",
          "name": "stdout",
          "text": [
            "[12 13 14 15]\n"
          ]
        }
      ],
      "source": [
        "print(m1 + 10)"
      ]
    },
    {
      "cell_type": "markdown",
      "id": "1d94b327",
      "metadata": {
        "id": "1d94b327"
      },
      "source": [
        "### Suma de matrices"
      ]
    },
    {
      "cell_type": "code",
      "execution_count": 8,
      "id": "0fde0435",
      "metadata": {
        "id": "0fde0435",
        "outputId": "487bea5b-d8e4-4358-ea01-828d660365b3",
        "colab": {
          "base_uri": "https://localhost:8080/"
        }
      },
      "outputs": [
        {
          "output_type": "stream",
          "name": "stdout",
          "text": [
            "[[ 6  8]\n",
            " [10 12]]\n"
          ]
        }
      ],
      "source": [
        "m1 = np.array([[1,2], [3,4]])\n",
        "m2 = np.array([[5,6], [7,8]])\n",
        "\n",
        "print(m1 + m2)"
      ]
    },
    {
      "cell_type": "code",
      "execution_count": 9,
      "id": "8ff74240",
      "metadata": {
        "id": "8ff74240",
        "outputId": "99d23d5d-601a-497e-bfeb-54c6ae4ea7aa",
        "colab": {
          "base_uri": "https://localhost:8080/"
        }
      },
      "outputs": [
        {
          "output_type": "stream",
          "name": "stdout",
          "text": [
            "[[ 6  8]\n",
            " [10 12]]\n"
          ]
        }
      ],
      "source": [
        "print(np.add(m1, m2))   # con la función add"
      ]
    },
    {
      "cell_type": "markdown",
      "id": "cb73c926",
      "metadata": {
        "id": "cb73c926"
      },
      "source": [
        "### Resta de matrices"
      ]
    },
    {
      "cell_type": "code",
      "execution_count": 10,
      "id": "506945bc",
      "metadata": {
        "id": "506945bc",
        "outputId": "cc46f3a0-c6ca-4266-cdc6-4ef28bb12704",
        "colab": {
          "base_uri": "https://localhost:8080/"
        }
      },
      "outputs": [
        {
          "output_type": "stream",
          "name": "stdout",
          "text": [
            "[[-4 -4]\n",
            " [-4 -4]]\n"
          ]
        }
      ],
      "source": [
        "print(np.subtract(m1, m2))   # con la función subtract"
      ]
    },
    {
      "cell_type": "markdown",
      "id": "42bbaf63",
      "metadata": {
        "id": "42bbaf63"
      },
      "source": [
        "### Multiplicar elementos de matrices\n",
        "Esto no es el producto matricial."
      ]
    },
    {
      "cell_type": "code",
      "execution_count": 11,
      "id": "d55ecf16",
      "metadata": {
        "id": "d55ecf16",
        "outputId": "a64baed4-5d64-46fd-9cc0-d09f02224acb",
        "colab": {
          "base_uri": "https://localhost:8080/"
        }
      },
      "outputs": [
        {
          "output_type": "stream",
          "name": "stdout",
          "text": [
            "[[ 5 12]\n",
            " [21 32]]\n"
          ]
        }
      ],
      "source": [
        "print(np.multiply(m1, m2))   # con la función multiply"
      ]
    },
    {
      "cell_type": "markdown",
      "id": "eff82393",
      "metadata": {
        "id": "eff82393"
      },
      "source": [
        "### Dividir elementos de matrices"
      ]
    },
    {
      "cell_type": "code",
      "execution_count": 12,
      "id": "674023e5",
      "metadata": {
        "id": "674023e5",
        "outputId": "b15b8e47-7340-4b67-f0cb-3f3362cb58a1",
        "colab": {
          "base_uri": "https://localhost:8080/"
        }
      },
      "outputs": [
        {
          "output_type": "stream",
          "name": "stdout",
          "text": [
            "[[0.2        0.33333333]\n",
            " [0.42857143 0.5       ]]\n"
          ]
        }
      ],
      "source": [
        "print(np.divide(m1, m2))   # con la función divide"
      ]
    },
    {
      "cell_type": "markdown",
      "id": "fdb012a7",
      "metadata": {
        "id": "fdb012a7"
      },
      "source": [
        "### Producto matricial"
      ]
    },
    {
      "cell_type": "code",
      "execution_count": 13,
      "id": "a2901ac1",
      "metadata": {
        "id": "a2901ac1",
        "outputId": "9b6ebcf8-ef07-489a-84f6-f5a13995db1b",
        "colab": {
          "base_uri": "https://localhost:8080/"
        }
      },
      "outputs": [
        {
          "output_type": "stream",
          "name": "stdout",
          "text": [
            "[[19 22]\n",
            " [43 50]]\n"
          ]
        }
      ],
      "source": [
        "print(m1.dot(m2))          # producto matricial con dot"
      ]
    }
  ],
  "metadata": {
    "kernelspec": {
      "display_name": "Python 3 (ipykernel)",
      "language": "python",
      "name": "python3"
    },
    "language_info": {
      "codemirror_mode": {
        "name": "ipython",
        "version": 3
      },
      "file_extension": ".py",
      "mimetype": "text/x-python",
      "name": "python",
      "nbconvert_exporter": "python",
      "pygments_lexer": "ipython3",
      "version": "3.8.11"
    },
    "colab": {
      "name": "0060_numpy4_operar_con_matrices.ipynb",
      "provenance": [],
      "include_colab_link": true
    }
  },
  "nbformat": 4,
  "nbformat_minor": 5
}