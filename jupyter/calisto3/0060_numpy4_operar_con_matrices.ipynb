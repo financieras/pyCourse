{
  "cells": [
    {
      "cell_type": "markdown",
      "metadata": {
        "id": "view-in-github",
        "colab_type": "text"
      },
      "source": [
        "<a href=\"https://colab.research.google.com/github/financieras/pyCourse/blob/main/jupyter/calisto3/calisto3_0060.ipynb\" target=\"_parent\"><img src=\"https://colab.research.google.com/assets/colab-badge.svg\" alt=\"Open In Colab\"/></a>"
      ]
    },
    {
      "cell_type": "markdown",
      "id": "191f7d54",
      "metadata": {
        "id": "191f7d54"
      },
      "source": [
        "# NumPy [4] Operar con matrices"
      ]
    },
    {
      "cell_type": "markdown",
      "id": "3c095637",
      "metadata": {
        "id": "3c095637"
      },
      "source": [
        "### Acceder a un elemento por su índice"
      ]
    },
    {
      "cell_type": "code",
      "execution_count": null,
      "id": "13ec58ce",
      "metadata": {
        "id": "13ec58ce",
        "outputId": "8443a234-c632-4c46-f5e3-66ee4ce58e39"
      },
      "outputs": [
        {
          "name": "stdout",
          "output_type": "stream",
          "text": [
            "El elemento de índices (1,2): 8\n",
            "[[ 0  1  2  3  4  5]\n",
            " [ 6  7  8  9 10 11]\n",
            " [12 13 14 15 16 17]\n",
            " [18 19 20 21 22 23]]\n"
          ]
        }
      ],
      "source": [
        "import numpy as np\n",
        "m = np.arange(24).reshape(4,6)\n",
        "print(\"El elemento de índices (1,2):\", m[1,2])\n",
        "print(m)"
      ]
    },
    {
      "cell_type": "markdown",
      "id": "155e9a21",
      "metadata": {
        "id": "155e9a21"
      },
      "source": [
        "### sort()\n",
        "Permite ordenar un array."
      ]
    },
    {
      "cell_type": "code",
      "execution_count": null,
      "id": "a358737e",
      "metadata": {
        "id": "a358737e",
        "outputId": "b0e20cd2-9f3e-416e-b7e1-e971eb9665f7"
      },
      "outputs": [
        {
          "data": {
            "text/plain": [
              "array([ 2,  3,  5,  7, 11, 17, 19])"
            ]
          },
          "execution_count": 4,
          "metadata": {},
          "output_type": "execute_result"
        }
      ],
      "source": [
        "m = np.array([17, 2, 11, 5, 7, 19, 3])\n",
        "np.sort(m)"
      ]
    },
    {
      "cell_type": "markdown",
      "id": "bbd83831",
      "metadata": {
        "id": "bbd83831"
      },
      "source": [
        "### power()"
      ]
    },
    {
      "cell_type": "code",
      "execution_count": null,
      "id": "125ac937",
      "metadata": {
        "id": "125ac937",
        "outputId": "810e727a-223e-4144-bdea-46304b2c0e97"
      },
      "outputs": [
        {
          "name": "stdout",
          "output_type": "stream",
          "text": [
            "[ 4  9 16 25]\n",
            "[ 4  9 16 25]\n",
            "[  8  27  64 125]\n"
          ]
        }
      ],
      "source": [
        "m = np.array([2, 3, 4, 5])\n",
        "print(np.array(m**2))          # cuadrados\n",
        "print(np.power(m, 2))          # cuadrados usando power\n",
        "print(np.power(m, 3))          # cubos"
      ]
    },
    {
      "cell_type": "markdown",
      "id": "d084bfba",
      "metadata": {
        "id": "d084bfba"
      },
      "source": [
        "### Condición lógica"
      ]
    },
    {
      "cell_type": "code",
      "execution_count": null,
      "id": "6aa30222",
      "metadata": {
        "id": "6aa30222",
        "outputId": "71252273-5f93-4d54-ff0e-786dfd48d6b6"
      },
      "outputs": [
        {
          "name": "stdout",
          "output_type": "stream",
          "text": [
            "[False False  True  True]\n"
          ]
        }
      ],
      "source": [
        "m = np.array([2, 3, 4, 5])\n",
        "print(np.array(m > 3))  "
      ]
    },
    {
      "cell_type": "markdown",
      "id": "f4ca76fc",
      "metadata": {
        "id": "f4ca76fc"
      },
      "source": [
        "### Máximo y mínimo"
      ]
    },
    {
      "cell_type": "code",
      "execution_count": null,
      "id": "0586d725",
      "metadata": {
        "id": "0586d725",
        "outputId": "d805088a-8a34-43d7-d35d-5f190b116479"
      },
      "outputs": [
        {
          "name": "stdout",
          "output_type": "stream",
          "text": [
            "5\n",
            "2\n"
          ]
        }
      ],
      "source": [
        "m = np.array([2, 3, 4, 5])\n",
        "print(np.array(m.min()))          # mínimo\n",
        "print(np.array(m.max()))          # máximo\n"
      ]
    },
    {
      "cell_type": "markdown",
      "id": "e702f65c",
      "metadata": {
        "id": "e702f65c"
      },
      "source": [
        "### Concatenar arrays"
      ]
    },
    {
      "cell_type": "code",
      "execution_count": null,
      "id": "8adde0a7",
      "metadata": {
        "id": "8adde0a7",
        "outputId": "3e493781-679c-4f1d-fdec-12b8ec7d3cf5"
      },
      "outputs": [
        {
          "name": "stdout",
          "output_type": "stream",
          "text": [
            "[ 2  3  4  5 20 30 40 50]\n"
          ]
        }
      ],
      "source": [
        "m1 = np.array([2, 3, 4, 5])\n",
        "m2 = np.array([20, 30, 40, 50])\n",
        "print(np.concatenate((m1, m2)))"
      ]
    },
    {
      "cell_type": "markdown",
      "id": "edae34f1",
      "metadata": {
        "id": "edae34f1"
      },
      "source": [
        "### Matriz más escalar"
      ]
    },
    {
      "cell_type": "code",
      "execution_count": null,
      "id": "808de7e5",
      "metadata": {
        "id": "808de7e5",
        "outputId": "7aac0102-1cb3-44d2-e2c5-1b8489c90112"
      },
      "outputs": [
        {
          "name": "stdout",
          "output_type": "stream",
          "text": [
            "[[11 12]\n",
            " [13 14]]\n"
          ]
        }
      ],
      "source": [
        "print(m1 + 10)"
      ]
    },
    {
      "cell_type": "markdown",
      "id": "1d94b327",
      "metadata": {
        "id": "1d94b327"
      },
      "source": [
        "### Suma de matrices"
      ]
    },
    {
      "cell_type": "code",
      "execution_count": null,
      "id": "0fde0435",
      "metadata": {
        "id": "0fde0435",
        "outputId": "515b11aa-019f-4a0b-e241-dc38e0aeea5b"
      },
      "outputs": [
        {
          "name": "stdout",
          "output_type": "stream",
          "text": [
            "[[ 6  8]\n",
            " [10 12]]\n"
          ]
        }
      ],
      "source": [
        "m1 = np.array([[1,2], [3,4]])\n",
        "m2 = np.array([[5,6], [7,8]])\n",
        "print(m1 + m2)"
      ]
    },
    {
      "cell_type": "code",
      "execution_count": null,
      "id": "8ff74240",
      "metadata": {
        "id": "8ff74240",
        "outputId": "580a6c41-8437-433a-d1f8-f4f947000077"
      },
      "outputs": [
        {
          "name": "stdout",
          "output_type": "stream",
          "text": [
            "[[ 6  8]\n",
            " [10 12]]\n"
          ]
        }
      ],
      "source": [
        "print(np.add(m1, m2))   # con la función add"
      ]
    },
    {
      "cell_type": "markdown",
      "id": "cb73c926",
      "metadata": {
        "id": "cb73c926"
      },
      "source": [
        "### Resta de matrices"
      ]
    },
    {
      "cell_type": "code",
      "execution_count": null,
      "id": "506945bc",
      "metadata": {
        "id": "506945bc",
        "outputId": "f51bf571-06fd-4406-92df-cd7cfb76eeb4"
      },
      "outputs": [
        {
          "name": "stdout",
          "output_type": "stream",
          "text": [
            "[[-4 -4]\n",
            " [-4 -4]]\n"
          ]
        }
      ],
      "source": [
        "print(np.subtract(m1, m2))   # con la función subtract"
      ]
    },
    {
      "cell_type": "markdown",
      "id": "42bbaf63",
      "metadata": {
        "id": "42bbaf63"
      },
      "source": [
        "### Multiplicar elementos de matrices\n",
        "Esto no es el producto matricial."
      ]
    },
    {
      "cell_type": "code",
      "execution_count": null,
      "id": "d55ecf16",
      "metadata": {
        "id": "d55ecf16",
        "outputId": "5ce3e6a1-b278-4d7d-ef65-85f18b81dd9f"
      },
      "outputs": [
        {
          "name": "stdout",
          "output_type": "stream",
          "text": [
            "[[ 5 12]\n",
            " [21 32]]\n"
          ]
        }
      ],
      "source": [
        "print(np.multiply(m1, m2))   # con la función multiply"
      ]
    },
    {
      "cell_type": "markdown",
      "id": "eff82393",
      "metadata": {
        "id": "eff82393"
      },
      "source": [
        "### Dividir elementos de matrices"
      ]
    },
    {
      "cell_type": "code",
      "execution_count": null,
      "id": "674023e5",
      "metadata": {
        "id": "674023e5",
        "outputId": "6df4a3f3-e9ee-4433-b8dc-cb6fdfebe779"
      },
      "outputs": [
        {
          "name": "stdout",
          "output_type": "stream",
          "text": [
            "[[0.2        0.33333333]\n",
            " [0.42857143 0.5       ]]\n"
          ]
        }
      ],
      "source": [
        "print(np.divide(m1, m2))   # con la función divide"
      ]
    },
    {
      "cell_type": "markdown",
      "id": "fdb012a7",
      "metadata": {
        "id": "fdb012a7"
      },
      "source": [
        "### Producto matricial"
      ]
    },
    {
      "cell_type": "code",
      "execution_count": null,
      "id": "a2901ac1",
      "metadata": {
        "id": "a2901ac1",
        "outputId": "cc3f13e5-e5cb-4bb8-d8ee-b56794ac7c06"
      },
      "outputs": [
        {
          "name": "stdout",
          "output_type": "stream",
          "text": [
            "[[19 22]\n",
            " [43 50]]\n"
          ]
        }
      ],
      "source": [
        "print(m1.dot(m2))          # producto matricial con dot"
      ]
    }
  ],
  "metadata": {
    "kernelspec": {
      "display_name": "Python 3 (ipykernel)",
      "language": "python",
      "name": "python3"
    },
    "language_info": {
      "codemirror_mode": {
        "name": "ipython",
        "version": 3
      },
      "file_extension": ".py",
      "mimetype": "text/x-python",
      "name": "python",
      "nbconvert_exporter": "python",
      "pygments_lexer": "ipython3",
      "version": "3.8.11"
    },
    "colab": {
      "name": "0060_numpy4_operar_con_matrices.ipynb",
      "provenance": [],
      "include_colab_link": true
    }
  },
  "nbformat": 4,
  "nbformat_minor": 5
}
