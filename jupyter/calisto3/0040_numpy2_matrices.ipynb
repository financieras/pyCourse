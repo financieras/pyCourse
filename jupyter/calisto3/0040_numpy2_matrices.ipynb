{
  "cells": [
    {
      "cell_type": "markdown",
      "metadata": {
        "id": "view-in-github",
        "colab_type": "text"
      },
      "source": [
        "<a href=\"https://colab.research.google.com/github/financieras/pyCourse/blob/main/jupyter/calisto3/calisto3_0040.ipynb\" target=\"_parent\"><img src=\"https://colab.research.google.com/assets/colab-badge.svg\" alt=\"Open In Colab\"/></a>"
      ]
    },
    {
      "cell_type": "markdown",
      "metadata": {
        "id": "uYJgXVaXMXjG"
      },
      "source": [
        "# NumPy [2] Funciones sobre matrices"
      ]
    },
    {
      "cell_type": "code",
      "execution_count": null,
      "metadata": {
        "id": "91raueFPMXjL"
      },
      "outputs": [],
      "source": [
        "import numpy as np                # importamos la librería NumPy como np\n",
        "m = np.arange(15).reshape(3, 5)   # creamos una matriz 2D\n",
        "m"
      ]
    },
    {
      "cell_type": "markdown",
      "metadata": {
        "id": "t9fN-hMTMXjR"
      },
      "source": [
        "### shape\n",
        "Proporciona el número de filas × columnas."
      ]
    },
    {
      "cell_type": "code",
      "execution_count": null,
      "metadata": {
        "id": "GGCKB4EmMXjU"
      },
      "outputs": [],
      "source": [
        "m.shape"
      ]
    },
    {
      "cell_type": "markdown",
      "metadata": {
        "id": "UzdUmnb-MXjW"
      },
      "source": [
        "### ndim\n",
        "Proporciona la dimensión de la matriz (número de ejes)."
      ]
    },
    {
      "cell_type": "code",
      "execution_count": null,
      "metadata": {
        "id": "2YOjl3MlMXjX"
      },
      "outputs": [],
      "source": [
        "m.ndim"
      ]
    },
    {
      "cell_type": "markdown",
      "metadata": {
        "id": "DstX0v37MXjZ"
      },
      "source": [
        "### size\n",
        "Número de elementos que incluye una matriz."
      ]
    },
    {
      "cell_type": "code",
      "execution_count": null,
      "metadata": {
        "id": "AThoab-pMXja"
      },
      "outputs": [],
      "source": [
        "m.size"
      ]
    },
    {
      "cell_type": "markdown",
      "metadata": {
        "id": "GoXZxHkYMXjd"
      },
      "source": [
        "### zeros\n",
        "Crea una matriz de ceros."
      ]
    },
    {
      "cell_type": "code",
      "execution_count": null,
      "metadata": {
        "id": "Vqr9T1C3MXjg"
      },
      "outputs": [],
      "source": [
        "matriz = np.zeros((3, 5))\n",
        "matriz"
      ]
    },
    {
      "cell_type": "markdown",
      "metadata": {
        "id": "Ytvg_RsTMXjj"
      },
      "source": [
        "### linspace\n",
        "Genera una matriz con números secuenciales entre uno inicial y uno final, indicando la cantidad de números deseada.  \n",
        "* Inicio en 10\n",
        "* Final en 14\n",
        "* Número de elementos 5"
      ]
    },
    {
      "cell_type": "code",
      "execution_count": null,
      "metadata": {
        "id": "WVqipr2BMXjl"
      },
      "outputs": [],
      "source": [
        "m=np.linspace(10, 14, 5)\n",
        "m"
      ]
    },
    {
      "cell_type": "markdown",
      "metadata": {
        "id": "ygnZKWj8MXjm"
      },
      "source": [
        "* Inicio en 90\n",
        "* Final en 20\n",
        "* Número de elementos 5"
      ]
    },
    {
      "cell_type": "code",
      "execution_count": null,
      "metadata": {
        "id": "KslWN_IPMXjn"
      },
      "outputs": [],
      "source": [
        "m=np.linspace(90, 20, 5)\n",
        "m"
      ]
    },
    {
      "cell_type": "markdown",
      "metadata": {
        "id": "URmJLVanMXjp"
      },
      "source": [
        "## Matriz 3D\n",
        "Una matriz de tres dimensiones requiere: hojas × filas × columnas.  A la tercera dimensión se la llama habitualmente hojas o páginas."
      ]
    },
    {
      "cell_type": "code",
      "execution_count": null,
      "metadata": {
        "id": "RoQUpbNSMXjq"
      },
      "outputs": [],
      "source": [
        "m3d = np.arange(24).reshape(2, 3, 4)\n",
        "m3d"
      ]
    },
    {
      "cell_type": "markdown",
      "metadata": {
        "id": "edxry61UMXjq"
      },
      "source": [
        "## Operar con arrays"
      ]
    },
    {
      "cell_type": "code",
      "execution_count": null,
      "metadata": {
        "id": "Wf0KPjVRMXjt"
      },
      "outputs": [],
      "source": [
        "array_pares=np.arange(0, 20, 2)\n",
        "array_pares"
      ]
    },
    {
      "cell_type": "markdown",
      "metadata": {
        "id": "NQcYfetkMXju"
      },
      "source": [
        "### Operaciones aritméticas"
      ]
    },
    {
      "cell_type": "code",
      "execution_count": null,
      "metadata": {
        "id": "Hq4c7H6CMXjv"
      },
      "outputs": [],
      "source": [
        "array_impares=array_pares + 1  # suma 1 a todos los elementos y lo convierte en un array de impares\n",
        "array_impares"
      ]
    },
    {
      "cell_type": "code",
      "execution_count": null,
      "metadata": {
        "id": "TB17uB6LMXjw"
      },
      "outputs": [],
      "source": [
        "array_impares * 10  # multiplicar"
      ]
    },
    {
      "cell_type": "code",
      "execution_count": null,
      "metadata": {
        "id": "0DylGrKkMXjw"
      },
      "outputs": [],
      "source": [
        "array_impares - array_pares  # restar arrays"
      ]
    },
    {
      "cell_type": "code",
      "execution_count": null,
      "metadata": {
        "id": "OW2Sd5W6MXjx"
      },
      "outputs": [],
      "source": [
        "#array_impares / array_pares # dividir arrays    da error ya que dividen entre cero"
      ]
    },
    {
      "cell_type": "markdown",
      "metadata": {
        "id": "1swsX1AWMXjy"
      },
      "source": [
        "### Estadística"
      ]
    },
    {
      "cell_type": "code",
      "execution_count": null,
      "metadata": {
        "id": "NzpnUr9EMXj0"
      },
      "outputs": [],
      "source": [
        "numeros_primos = [2, 3, 5, 7, 11, 13, 17, 19, 23, 29]\n",
        "array_primos = np.array(numeros_primos)\n",
        "array_primos "
      ]
    },
    {
      "cell_type": "code",
      "execution_count": null,
      "metadata": {
        "id": "lZUKOgxiMXj0"
      },
      "outputs": [],
      "source": [
        "array_primos.sum()        # suma"
      ]
    },
    {
      "cell_type": "code",
      "execution_count": null,
      "metadata": {
        "id": "mdasxcrSMXj1"
      },
      "outputs": [],
      "source": [
        "array_primos.mean()        # media"
      ]
    },
    {
      "cell_type": "code",
      "execution_count": null,
      "metadata": {
        "id": "Xwm6QLz5MXj2"
      },
      "outputs": [],
      "source": [
        "array_primos.var()        # varianza"
      ]
    },
    {
      "cell_type": "markdown",
      "metadata": {
        "id": "1UfzQQGBMXj2"
      },
      "source": [
        "### Ordenación de arrays"
      ]
    },
    {
      "cell_type": "code",
      "execution_count": null,
      "metadata": {
        "id": "HqxmmUFtMXj3"
      },
      "outputs": [],
      "source": [
        "# Creamos la serie de Fibonacci\n",
        "fibo = [0, 1]\n",
        "for i in range (11):\n",
        "    fibo.append(fibo[-1] + fibo[-2])\n",
        "print(fibo)"
      ]
    },
    {
      "cell_type": "code",
      "execution_count": null,
      "metadata": {
        "id": "UJmbzjHpMXj4"
      },
      "outputs": [],
      "source": [
        "# Convertimos la lista en un ndarray\n",
        "fibonacci = np.array(fibo)\n",
        "fibonacci"
      ]
    },
    {
      "cell_type": "markdown",
      "metadata": {
        "id": "2BAFlAKYMXj4"
      },
      "source": [
        "#### Desordenamos"
      ]
    },
    {
      "cell_type": "code",
      "execution_count": null,
      "metadata": {
        "id": "wTgJfzxeMXj5"
      },
      "outputs": [],
      "source": [
        "# desordenamos el array\n",
        "np.random.shuffle(fibonacci)   # permite desordenar un array\n",
        "fibonacci"
      ]
    },
    {
      "cell_type": "markdown",
      "metadata": {
        "id": "3ZMDUS4PMXj6"
      },
      "source": [
        "#### Ordenamos"
      ]
    },
    {
      "cell_type": "code",
      "execution_count": null,
      "metadata": {
        "id": "2OCcn3A8MXj7"
      },
      "outputs": [],
      "source": [
        "# ordenar un array\n",
        "np.sort(fibonacci)          # ordena el vector, pero no queda asignado al array fibonacci"
      ]
    },
    {
      "cell_type": "code",
      "execution_count": null,
      "metadata": {
        "id": "0H9naCVPMXj8"
      },
      "outputs": [],
      "source": [
        "fibonacci # comprobamos que no queda asignado el vector ordenado a la variable fibonacci"
      ]
    },
    {
      "cell_type": "code",
      "execution_count": null,
      "metadata": {
        "id": "SWLXyGMOMXj9"
      },
      "outputs": [],
      "source": [
        "ordenado = np.sort(fibonacci)   # asignamos el array a la variable ordenado\n",
        "ordenado"
      ]
    },
    {
      "cell_type": "markdown",
      "metadata": {
        "id": "qB3eot_DMXj-"
      },
      "source": [
        "#### Reverso"
      ]
    },
    {
      "cell_type": "code",
      "execution_count": null,
      "metadata": {
        "id": "uzDSwSrAMXj_"
      },
      "outputs": [],
      "source": [
        "inverso=ordenado[::-1]\n",
        "inverso"
      ]
    },
    {
      "cell_type": "code",
      "execution_count": null,
      "metadata": {
        "id": "wg1DOpeIMXkA"
      },
      "outputs": [],
      "source": [
        "inverso.sort() # si ordenamos el array inverso quedará ordenado de menor a mayor\n",
        "inverso"
      ]
    },
    {
      "cell_type": "code",
      "execution_count": null,
      "metadata": {
        "id": "XcSma2oCMXkA"
      },
      "outputs": [],
      "source": [
        "inverso == np.array(fibo)     # una comprobación"
      ]
    }
  ],
  "metadata": {
    "kernelspec": {
      "display_name": "Python 3 (ipykernel)",
      "language": "python",
      "name": "python3"
    },
    "language_info": {
      "codemirror_mode": {
        "name": "ipython",
        "version": 3
      },
      "file_extension": ".py",
      "mimetype": "text/x-python",
      "name": "python",
      "nbconvert_exporter": "python",
      "pygments_lexer": "ipython3",
      "version": "3.8.11"
    },
    "colab": {
      "name": "0040_numpy2_matrices.ipynb",
      "provenance": [],
      "include_colab_link": true
    }
  },
  "nbformat": 4,
  "nbformat_minor": 0
}
