{
  "nbformat": 4,
  "nbformat_minor": 0,
  "metadata": {
    "colab": {
      "name": "0300_combinatoria.ipynb",
      "provenance": [],
      "authorship_tag": "ABX9TyPZvhuSzGJFzzjnBC6XGZ0a",
      "include_colab_link": true
    },
    "kernelspec": {
      "name": "python3",
      "display_name": "Python 3"
    },
    "language_info": {
      "name": "python"
    }
  },
  "cells": [
    {
      "cell_type": "markdown",
      "metadata": {
        "id": "view-in-github",
        "colab_type": "text"
      },
      "source": [
        "<a href=\"https://colab.research.google.com/github/financieras/pyCourse/blob/main/jupyter/calisto3/calisto3_0300.ipynb\" target=\"_parent\"><img src=\"https://colab.research.google.com/assets/colab-badge.svg\" alt=\"Open In Colab\"/></a>"
      ]
    },
    {
      "cell_type": "markdown",
      "source": [
        "# Combinatoria\n",
        "\n"
      ],
      "metadata": {
        "id": "Vuobr8Jkn4Wx"
      }
    },
    {
      "cell_type": "code",
      "execution_count": 13,
      "metadata": {
        "id": "aV3o0cCBn3JH",
        "outputId": "98eecf42-5db1-4e04-e0de-000a68e79768",
        "colab": {
          "base_uri": "https://localhost:8080/"
        }
      },
      "outputs": [
        {
          "output_type": "stream",
          "name": "stdout",
          "text": [
            "\n",
            "    1  AB\n",
            "    2  AC\n",
            "    3  AD\n",
            "    4  AE\n",
            "    5  AF\n",
            "\n",
            "    6  BC\n",
            "    7  BD\n",
            "    8  BE\n",
            "    9  BF\n",
            "\n",
            "   10  CD\n",
            "   11  CE\n",
            "   12  CF\n",
            "\n",
            "   13  DE\n",
            "   14  DF\n",
            "\n",
            "   15  EF\n",
            "\n",
            "C(6, 2) = 15.0\n"
          ]
        }
      ],
      "source": [
        "# Realizar todas las combinacion de 6 elementos ABCDEF tomados de 2 en 2, sin repetición\n",
        "from math import factorial\n",
        "letras = \"ABCDEF\"\n",
        "c = 0   # contador\n",
        "for i in range(len(letras)):\n",
        "    print()\n",
        "    for j in range(i+1, len(letras)):\n",
        "        if i != j:\n",
        "            c += 1\n",
        "            print(f\"{c:5d}  {letras[i] + letras[j]}\")\n",
        "\n",
        "print(f\"C(6, 2) = {factorial(6)/(factorial(6-2)*factorial(2))}\")"
      ]
    },
    {
      "cell_type": "code",
      "source": [
        "# Realizar todas las combinacion de 7 elementos ABCDEFG tomados de 4 en 4, sin repetición\n",
        "from math import factorial\n",
        "letras = \"ABCDEFG\"\n",
        "c = 0   # contador\n",
        "for i in range(len(letras)):\n",
        "    print()\n",
        "    for j in range(i+1, len(letras)):\n",
        "        for k in range(j+1, len(letras)):\n",
        "            for l in range(k+1, len(letras)):\n",
        "                if i != j != k != l:\n",
        "                    c += 1\n",
        "                    print(f\"{c:5d}  {letras[i] + letras[j] + letras[k] + letras[l]}\")\n",
        "\n",
        "print(f\"C(7, 4) = {factorial(7)/(factorial(7-4)*factorial(4))}\")"
      ],
      "metadata": {
        "id": "skdWS02DD4cw",
        "outputId": "a70b9a51-4b98-4673-d3f9-8877eb22f379",
        "colab": {
          "base_uri": "https://localhost:8080/"
        }
      },
      "execution_count": 14,
      "outputs": [
        {
          "output_type": "stream",
          "name": "stdout",
          "text": [
            "\n",
            "    1  ABCD\n",
            "    2  ABCE\n",
            "    3  ABCF\n",
            "    4  ABCG\n",
            "    5  ABDE\n",
            "    6  ABDF\n",
            "    7  ABDG\n",
            "    8  ABEF\n",
            "    9  ABEG\n",
            "   10  ABFG\n",
            "   11  ACDE\n",
            "   12  ACDF\n",
            "   13  ACDG\n",
            "   14  ACEF\n",
            "   15  ACEG\n",
            "   16  ACFG\n",
            "   17  ADEF\n",
            "   18  ADEG\n",
            "   19  ADFG\n",
            "   20  AEFG\n",
            "\n",
            "   21  BCDE\n",
            "   22  BCDF\n",
            "   23  BCDG\n",
            "   24  BCEF\n",
            "   25  BCEG\n",
            "   26  BCFG\n",
            "   27  BDEF\n",
            "   28  BDEG\n",
            "   29  BDFG\n",
            "   30  BEFG\n",
            "\n",
            "   31  CDEF\n",
            "   32  CDEG\n",
            "   33  CDFG\n",
            "   34  CEFG\n",
            "\n",
            "   35  DEFG\n",
            "\n",
            "\n",
            "\n",
            "C(7, 4) = 35.0\n"
          ]
        }
      ]
    }
  ]
}
