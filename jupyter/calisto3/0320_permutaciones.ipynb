{
  "nbformat": 4,
  "nbformat_minor": 0,
  "metadata": {
    "colab": {
      "name": "0320_permutaciones.ipynb",
      "provenance": [],
      "authorship_tag": "ABX9TyMKXvKai89HQXOUzvsA27l1",
      "include_colab_link": true
    },
    "kernelspec": {
      "name": "python3",
      "display_name": "Python 3"
    },
    "language_info": {
      "name": "python"
    }
  },
  "cells": [
    {
      "cell_type": "markdown",
      "metadata": {
        "id": "view-in-github",
        "colab_type": "text"
      },
      "source": [
        "<a href=\"https://colab.research.google.com/github/financieras/pyCourse/blob/main/jupyter/calisto3/calisto3_0320.ipynb\" target=\"_parent\"><img src=\"https://colab.research.google.com/assets/colab-badge.svg\" alt=\"Open In Colab\"/></a>"
      ]
    },
    {
      "cell_type": "markdown",
      "source": [
        "# Permutaciones\n",
        "Permite saber de cuantas formas distintas es posible reordenar n elementos.\n",
        "\n",
        "Ejemplos:\n",
        "* Disponemos de 5 letras: \"ABCDE\".\n",
        " - Existen 120 formas de reordenar las 4 letras.\n",
        " - $5! = 5 * 4 * 3 * 2 * 1 = 120$\n",
        "* Disponemos de 4 libros en una estantería, cada libro tiene la tapa de un color: \"Rojo, Verde, Azul, Naranja\" = \"RVAN\"\n",
        " - Existen 24 formas de reordenar los 4 libros en la estantería.\n",
        " - $4! = 4 * 3 * 2 * 1 = 24$"
      ],
      "metadata": {
        "id": "Vuobr8Jkn4Wx"
      }
    },
    {
      "cell_type": "code",
      "execution_count": null,
      "metadata": {
        "id": "aV3o0cCBn3JH"
      },
      "outputs": [],
      "source": [
        "# permutar 5 letras ABCDE\n",
        "letras = \"ABCDE\"\n",
        "for letra in range(len(letras)):\n"
      ]
    }
  ]
}
