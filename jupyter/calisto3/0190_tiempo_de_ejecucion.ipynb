{
  "cells": [
    {
      "cell_type": "markdown",
      "metadata": {
        "id": "view-in-github",
        "colab_type": "text"
      },
      "source": [
        "<a href=\"https://colab.research.google.com/github/financieras/pyCourse/blob/main/jupyter/calisto3/0190_tiempo_de_ejecucion.ipynb\" target=\"_parent\"><img src=\"https://colab.research.google.com/assets/colab-badge.svg\" alt=\"Open In Colab\"/></a>"
      ]
    },
    {
      "cell_type": "markdown",
      "id": "5c3ebbab",
      "metadata": {
        "id": "5c3ebbab"
      },
      "source": [
        "# Tiempo de ejecución\n",
        "Tiempo de ejecución en segundos de un script."
      ]
    },
    {
      "cell_type": "code",
      "execution_count": 2,
      "id": "92afde68",
      "metadata": {
        "id": "92afde68",
        "outputId": "53ac7161-7b33-4cc8-b7b2-dfff7be9b17c",
        "colab": {
          "base_uri": "https://localhost:8080/"
        }
      },
      "outputs": [
        {
          "output_type": "stream",
          "name": "stdout",
          "text": [
            "El tiempo de ejecución es 1.2786214351654053\n"
          ]
        }
      ],
      "source": [
        "import time\n",
        "\n",
        "inicio = time.time()\n",
        "\n",
        "# Código que deseamos medir, por ejemplo:\n",
        "x = 0\n",
        "\n",
        "for i in range(10_000_000):\n",
        "    x += i\n",
        "\n",
        "fin = time.time()\n",
        "tiempo_total = fin - inicio\n",
        "\n",
        "print(f'El tiempo de ejecución es {tiempo_total}')"
      ]
    }
  ],
  "metadata": {
    "kernelspec": {
      "display_name": "Python 3 (ipykernel)",
      "language": "python",
      "name": "python3"
    },
    "language_info": {
      "codemirror_mode": {
        "name": "ipython",
        "version": 3
      },
      "file_extension": ".py",
      "mimetype": "text/x-python",
      "name": "python",
      "nbconvert_exporter": "python",
      "pygments_lexer": "ipython3",
      "version": "3.8.11"
    },
    "colab": {
      "name": "0190_tiempo_de_ejecucion.ipynb",
      "provenance": [],
      "include_colab_link": true
    }
  },
  "nbformat": 4,
  "nbformat_minor": 5
}