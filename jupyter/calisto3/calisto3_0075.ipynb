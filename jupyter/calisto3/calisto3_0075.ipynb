{
  "nbformat": 4,
  "nbformat_minor": 0,
  "metadata": {
    "colab": {
      "provenance": [],
      "authorship_tag": "ABX9TyMD7Y35VBRPiDpPz2v4dNDg",
      "include_colab_link": true
    },
    "kernelspec": {
      "name": "python3",
      "display_name": "Python 3"
    },
    "language_info": {
      "name": "python"
    }
  },
  "cells": [
    {
      "cell_type": "markdown",
      "metadata": {
        "id": "view-in-github",
        "colab_type": "text"
      },
      "source": [
        "<a href=\"https://colab.research.google.com/github/financieras/pyCourse/blob/main/jupyter/calisto3/calisto3_0075.ipynb\" target=\"_parent\"><img src=\"https://colab.research.google.com/assets/colab-badge.svg\" alt=\"Open In Colab\"/></a>"
      ]
    },
    {
      "cell_type": "markdown",
      "source": [
        "# Ordenar un ndarray"
      ],
      "metadata": {
        "id": "bkz9FKEKZsR5"
      }
    },
    {
      "cell_type": "code",
      "execution_count": 25,
      "metadata": {
        "colab": {
          "base_uri": "https://localhost:8080/"
        },
        "id": "exy4AMm_R29i",
        "outputId": "1842f8ab-f2cf-4b48-a1dc-e57d7b513fea"
      },
      "outputs": [
        {
          "output_type": "stream",
          "name": "stdout",
          "text": [
            "[4, 3, 7, 2, 1, 10, 5, 6, 9, 8] lista de Python\n",
            "[ 4  3  7  2  1 10  5  6  9  8] ndarray creado con numpy\n",
            "[ 1  2  3  4  5  6  7  8  9 10] ndarray ordenado\n",
            "[10  9  8  7  6  5  4  3  2  1] ndarray en orden inverso\n"
          ]
        }
      ],
      "source": [
        "import random\n",
        "import numpy as np\n",
        "\n",
        "# creamos una lista con 10 números aleatorios entre 1 y 10\n",
        "lista = random.sample(list(range(1,11)), 10)\n",
        "print(lista, \"lista de Python\")     # números del 1 al 10 desordenados\n",
        "\n",
        "vector = np.array(lista)    # ndarray\n",
        "print(vector, \"ndarray creado con numpy\")\n",
        "\n",
        "print(np.sort(vector), \"ndarray ordenado\")\n",
        "\n",
        "# truco para imprimir el ndarray ordenado en sentido inverso\n",
        "print(-np.sort(-vector), \"ndarray en orden inverso\")"
      ]
    }
  ]
}