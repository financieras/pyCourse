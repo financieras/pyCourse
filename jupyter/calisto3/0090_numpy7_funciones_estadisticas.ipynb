{
  "cells": [
    {
      "cell_type": "markdown",
      "metadata": {
        "id": "view-in-github",
        "colab_type": "text"
      },
      "source": [
        "<a href=\"https://colab.research.google.com/github/financieras/pyCourse/blob/main/jupyter/calisto3/0090_numpy7_funciones_estadisticas.ipynb\" target=\"_parent\"><img src=\"https://colab.research.google.com/assets/colab-badge.svg\" alt=\"Open In Colab\"/></a>"
      ]
    },
    {
      "cell_type": "markdown",
      "id": "e8fea40d",
      "metadata": {
        "id": "e8fea40d"
      },
      "source": [
        "# NumPy [7] Funciones estadísticas"
      ]
    },
    {
      "cell_type": "code",
      "execution_count": null,
      "id": "59b97501",
      "metadata": {
        "id": "59b97501",
        "outputId": "5664f3fe-32a9-4daa-a20f-6da007ab88ab"
      },
      "outputs": [
        {
          "name": "stdout",
          "output_type": "stream",
          "text": [
            "[[1 2 3]\n",
            " [4 5 6]\n",
            " [7 8 9]]\n"
          ]
        }
      ],
      "source": [
        "import numpy as np\n",
        "\n",
        "m = np.array([[1,2,3], [4,5,6], [7,8,9]])\n",
        "print(m)"
      ]
    },
    {
      "cell_type": "markdown",
      "id": "af00e7ac",
      "metadata": {
        "id": "af00e7ac"
      },
      "source": [
        "## Máximo y mínimo por ejes"
      ]
    },
    {
      "cell_type": "code",
      "execution_count": null,
      "id": "31d06cba",
      "metadata": {
        "id": "31d06cba",
        "outputId": "d6aabbd2-2dc1-42c0-f3de-ea616b35414b"
      },
      "outputs": [
        {
          "name": "stdout",
          "output_type": "stream",
          "text": [
            "9\n"
          ]
        }
      ],
      "source": [
        "print(np.amax(m))            # función amax, la primera a hace referencia a axis"
      ]
    },
    {
      "cell_type": "code",
      "execution_count": null,
      "id": "b884475c",
      "metadata": {
        "id": "b884475c",
        "outputId": "f95f695d-837e-4532-d217-bf1b8dc29281"
      },
      "outputs": [
        {
          "name": "stdout",
          "output_type": "stream",
          "text": [
            "1\n"
          ]
        }
      ],
      "source": [
        "print(np.amin(m))            # para el mínimo de la matriz completa"
      ]
    },
    {
      "cell_type": "code",
      "execution_count": null,
      "id": "e4f57379",
      "metadata": {
        "id": "e4f57379",
        "outputId": "5603c50e-5f29-4291-d43d-e41527a780f4"
      },
      "outputs": [
        {
          "name": "stdout",
          "output_type": "stream",
          "text": [
            "[3 6 9]\n"
          ]
        }
      ],
      "source": [
        "print(np.amax(m, 1))            # máximo por filas"
      ]
    },
    {
      "cell_type": "code",
      "execution_count": null,
      "id": "b9af1442",
      "metadata": {
        "id": "b9af1442",
        "outputId": "2aeb6f41-c90e-419e-898b-45e10888327f"
      },
      "outputs": [
        {
          "name": "stdout",
          "output_type": "stream",
          "text": [
            "[7 8 9]\n"
          ]
        }
      ],
      "source": [
        "print(np.amax(m, 0))            # máximo por columnas"
      ]
    },
    {
      "cell_type": "markdown",
      "id": "d68cc0e3",
      "metadata": {
        "id": "d68cc0e3"
      },
      "source": [
        "## Rango de valores\n",
        "Máximo- Mínimo según cierto eje.\n",
        "\n",
        "La función es ptp acrónimo de  ‘peak to peak’ (cima a cima, o pico a pico, o extremo a extremo)"
      ]
    },
    {
      "cell_type": "code",
      "execution_count": null,
      "id": "9afe6947",
      "metadata": {
        "id": "9afe6947",
        "outputId": "00e6ae9c-f2e5-4578-9d5d-745fb69e0128"
      },
      "outputs": [
        {
          "data": {
            "text/plain": [
              "8"
            ]
          },
          "execution_count": 6,
          "metadata": {},
          "output_type": "execute_result"
        }
      ],
      "source": [
        "np.ptp(m)"
      ]
    },
    {
      "cell_type": "code",
      "execution_count": null,
      "id": "a3ef75ef",
      "metadata": {
        "id": "a3ef75ef",
        "outputId": "ad427e1f-bbd2-4e07-9d36-50ff6c268e23"
      },
      "outputs": [
        {
          "data": {
            "text/plain": [
              "array([2, 2, 2])"
            ]
          },
          "execution_count": 7,
          "metadata": {},
          "output_type": "execute_result"
        }
      ],
      "source": [
        "np.ptp(m, axis=1)             # para las filas"
      ]
    },
    {
      "cell_type": "code",
      "execution_count": null,
      "id": "7caa454f",
      "metadata": {
        "id": "7caa454f",
        "outputId": "a0f3533c-3c1c-4023-f595-f2e7e9745140"
      },
      "outputs": [
        {
          "data": {
            "text/plain": [
              "array([6, 6, 6])"
            ]
          },
          "execution_count": 8,
          "metadata": {},
          "output_type": "execute_result"
        }
      ],
      "source": [
        "np.ptp(m, axis=0)             # para las columnas"
      ]
    },
    {
      "cell_type": "markdown",
      "id": "99669649",
      "metadata": {
        "id": "99669649"
      },
      "source": [
        "## Percentiles\n",
        "Para un array de datos ordenados.  \n",
        "* percentil = p*(N+1)/100   si n es impar\n",
        "* percentil = p\\*N/100   si N es par\n",
        "\n",
        "donde  \n",
        "* p → percentil a calcular (0-100)\n",
        "* N → número total de datos\n"
      ]
    },
    {
      "cell_type": "code",
      "execution_count": null,
      "id": "11e78d00",
      "metadata": {
        "id": "11e78d00",
        "outputId": "bf3e79ee-a98f-4e86-ed5a-28f5af3ea4d9"
      },
      "outputs": [
        {
          "data": {
            "text/plain": [
              "array([[1, 2, 3],\n",
              "       [4, 5, 6],\n",
              "       [7, 8, 9]])"
            ]
          },
          "execution_count": 9,
          "metadata": {},
          "output_type": "execute_result"
        }
      ],
      "source": [
        "m                        # matriz con un número impar de datos"
      ]
    },
    {
      "cell_type": "code",
      "execution_count": null,
      "id": "57ea8189",
      "metadata": {
        "id": "57ea8189",
        "outputId": "03126a62-bfc7-46a5-b1f6-fe098881ae27"
      },
      "outputs": [
        {
          "data": {
            "text/plain": [
              "5.0"
            ]
          },
          "execution_count": 10,
          "metadata": {},
          "output_type": "execute_result"
        }
      ],
      "source": [
        "np.percentile(m, 50)     # percentil 50 = mediana"
      ]
    },
    {
      "cell_type": "code",
      "execution_count": null,
      "id": "21125fb0",
      "metadata": {
        "id": "21125fb0",
        "outputId": "ea96dcf0-eb7b-466f-ae12-072e9bda6fa2"
      },
      "outputs": [
        {
          "data": {
            "text/plain": [
              "array([2., 5., 8.])"
            ]
          },
          "execution_count": 11,
          "metadata": {},
          "output_type": "execute_result"
        }
      ],
      "source": [
        "np.percentile(m, 50, axis=1)   # para las filas"
      ]
    },
    {
      "cell_type": "code",
      "execution_count": null,
      "id": "eb6b8b24",
      "metadata": {
        "id": "eb6b8b24",
        "outputId": "e846a90f-5461-4e3f-e46f-8c61c938eac4"
      },
      "outputs": [
        {
          "data": {
            "text/plain": [
              "array([4., 5., 6.])"
            ]
          },
          "execution_count": 12,
          "metadata": {},
          "output_type": "execute_result"
        }
      ],
      "source": [
        "np.percentile(m, 50, axis=0)   # para las columnas"
      ]
    },
    {
      "cell_type": "markdown",
      "id": "13415ca5",
      "metadata": {
        "id": "13415ca5"
      },
      "source": [
        "## Mediana\n",
        "La mediana es aquel valor de la variable estadística que deja el 50% de observaciones inferiores a él.  \n",
        "La mediana divide en dos partes iguales a la distribución estadística.\n",
        "\n",
        "* Si N es impar, la mediana es el valor de la variable central.\n",
        "* Si N es par, se ha de hacer la media entre los dos valores centrales."
      ]
    },
    {
      "cell_type": "code",
      "execution_count": null,
      "id": "c325865a",
      "metadata": {
        "id": "c325865a",
        "outputId": "6e7f749d-b04f-4c15-ad81-34a157158f3c"
      },
      "outputs": [
        {
          "data": {
            "text/plain": [
              "array([[1, 2, 3],\n",
              "       [4, 5, 6],\n",
              "       [7, 8, 9]])"
            ]
          },
          "execution_count": 13,
          "metadata": {},
          "output_type": "execute_result"
        }
      ],
      "source": [
        "m"
      ]
    },
    {
      "cell_type": "code",
      "execution_count": null,
      "id": "74ab41ea",
      "metadata": {
        "id": "74ab41ea",
        "outputId": "0a1ee896-87c7-4d40-c8f7-95253602a5d2"
      },
      "outputs": [
        {
          "data": {
            "text/plain": [
              "5.0"
            ]
          },
          "execution_count": 14,
          "metadata": {},
          "output_type": "execute_result"
        }
      ],
      "source": [
        "np.median(m)             # Coincide con el percentil 50"
      ]
    },
    {
      "cell_type": "code",
      "execution_count": null,
      "id": "a872b2c7",
      "metadata": {
        "id": "a872b2c7",
        "outputId": "596b960f-0426-45d9-d082-14e90c9472d2"
      },
      "outputs": [
        {
          "data": {
            "text/plain": [
              "array([2., 5., 8.])"
            ]
          },
          "execution_count": 15,
          "metadata": {},
          "output_type": "execute_result"
        }
      ],
      "source": [
        "np.median(m, axis=1)     # para las filas"
      ]
    },
    {
      "cell_type": "code",
      "execution_count": null,
      "id": "64c82f44",
      "metadata": {
        "id": "64c82f44",
        "outputId": "350706dd-2372-4eec-c4df-13af3e193fc4"
      },
      "outputs": [
        {
          "data": {
            "text/plain": [
              "array([4., 5., 6.])"
            ]
          },
          "execution_count": 16,
          "metadata": {},
          "output_type": "execute_result"
        }
      ],
      "source": [
        "np.median(m, axis=0)     # para las columnas"
      ]
    },
    {
      "cell_type": "markdown",
      "id": "276fa34a",
      "metadata": {
        "id": "276fa34a"
      },
      "source": [
        "## Media aritmética"
      ]
    },
    {
      "cell_type": "code",
      "execution_count": null,
      "id": "9b1def2a",
      "metadata": {
        "id": "9b1def2a",
        "outputId": "92f4b871-04c0-4023-cdb4-e1d31332afb0"
      },
      "outputs": [
        {
          "data": {
            "text/plain": [
              "5.0"
            ]
          },
          "execution_count": 17,
          "metadata": {},
          "output_type": "execute_result"
        }
      ],
      "source": [
        "np.mean(m)               # aplicado a toda la matriz"
      ]
    },
    {
      "cell_type": "code",
      "execution_count": null,
      "id": "e4d6213d",
      "metadata": {
        "id": "e4d6213d",
        "outputId": "299138e3-0371-4dee-a025-846ae889a2de"
      },
      "outputs": [
        {
          "data": {
            "text/plain": [
              "array([2., 5., 8.])"
            ]
          },
          "execution_count": 18,
          "metadata": {},
          "output_type": "execute_result"
        }
      ],
      "source": [
        "np.mean(m, axis=1)       # para las filas"
      ]
    },
    {
      "cell_type": "code",
      "execution_count": null,
      "id": "4c4e6474",
      "metadata": {
        "id": "4c4e6474",
        "outputId": "005680d5-716f-4d7e-ab93-787ab8d15085"
      },
      "outputs": [
        {
          "data": {
            "text/plain": [
              "array([4., 5., 6.])"
            ]
          },
          "execution_count": 19,
          "metadata": {},
          "output_type": "execute_result"
        }
      ],
      "source": [
        "np.mean(m, axis=0)       # para las columnas"
      ]
    },
    {
      "cell_type": "markdown",
      "id": "8170d9b8",
      "metadata": {
        "id": "8170d9b8"
      },
      "source": [
        "## Media ponderada\n",
        "Cuando no se proporciona un vector de pesos se considera que todos los valores del vector de datos tienen el mismo peso."
      ]
    },
    {
      "cell_type": "code",
      "execution_count": null,
      "id": "5440425d",
      "metadata": {
        "id": "5440425d",
        "outputId": "b11000ea-21fd-403c-bcef-7838386424cd"
      },
      "outputs": [
        {
          "name": "stdout",
          "output_type": "stream",
          "text": [
            "[10  8  6  4]\n"
          ]
        }
      ],
      "source": [
        "datos = np.arange(10, 2, -2)         # vector de datos, equivale a np.array([10,8,6,4])\n",
        "print(datos)"
      ]
    },
    {
      "cell_type": "code",
      "execution_count": null,
      "id": "e8fd4cab",
      "metadata": {
        "id": "e8fd4cab",
        "outputId": "fdb189f6-bc42-4420-caca-9b194fb3fde1"
      },
      "outputs": [
        {
          "data": {
            "text/plain": [
              "7.0"
            ]
          },
          "execution_count": 21,
          "metadata": {},
          "output_type": "execute_result"
        }
      ],
      "source": [
        "np.average(datos)                # media ponderada de los datos de un array todos con igual peso"
      ]
    },
    {
      "cell_type": "code",
      "execution_count": null,
      "id": "26f9f3e1",
      "metadata": {
        "id": "26f9f3e1",
        "outputId": "7ad2f803-e43f-4974-fe33-8a6facbb2787"
      },
      "outputs": [
        {
          "data": {
            "text/plain": [
              "array([20, 16, 12,  8])"
            ]
          },
          "execution_count": 22,
          "metadata": {},
          "output_type": "execute_result"
        }
      ],
      "source": [
        "peso = np.arange(20, 6, -4)\n",
        "peso"
      ]
    },
    {
      "cell_type": "code",
      "execution_count": null,
      "id": "ae991560",
      "metadata": {
        "id": "ae991560",
        "outputId": "0cf6702f-dfa9-4f47-ac12-632dc019f5de"
      },
      "outputs": [
        {
          "data": {
            "text/plain": [
              "56"
            ]
          },
          "execution_count": 23,
          "metadata": {},
          "output_type": "execute_result"
        }
      ],
      "source": [
        "sum(peso)"
      ]
    },
    {
      "cell_type": "code",
      "execution_count": null,
      "id": "7b2a4390",
      "metadata": {
        "id": "7b2a4390",
        "outputId": "1844077a-6958-4965-9646-2ed2e505008c"
      },
      "outputs": [
        {
          "data": {
            "text/plain": [
              "7.714285714285714"
            ]
          },
          "execution_count": 24,
          "metadata": {},
          "output_type": "execute_result"
        }
      ],
      "source": [
        "np.average(datos, weights=peso)"
      ]
    },
    {
      "cell_type": "markdown",
      "id": "29f822db",
      "metadata": {
        "id": "29f822db"
      },
      "source": [
        "## Desviación estandar"
      ]
    },
    {
      "cell_type": "code",
      "execution_count": null,
      "id": "c50501c2",
      "metadata": {
        "id": "c50501c2",
        "outputId": "11247853-ec2f-4acf-a8fa-c681ce8f7771"
      },
      "outputs": [
        {
          "name": "stdout",
          "output_type": "stream",
          "text": [
            "[1 2 3 4 5 6]\n"
          ]
        }
      ],
      "source": [
        "m = np.array([1, 2, 3, 4, 5, 6])\n",
        "print(m)"
      ]
    },
    {
      "cell_type": "code",
      "execution_count": null,
      "id": "75c75fb8",
      "metadata": {
        "id": "75c75fb8",
        "outputId": "d05f4e51-fe67-4574-ccde-c662d6910a6a"
      },
      "outputs": [
        {
          "data": {
            "text/plain": [
              "1.707825127659933"
            ]
          },
          "execution_count": 27,
          "metadata": {},
          "output_type": "execute_result"
        }
      ],
      "source": [
        "np.std(m)               # desviación estándar poblacional"
      ]
    },
    {
      "cell_type": "markdown",
      "id": "ff1bbc17",
      "metadata": {
        "id": "ff1bbc17"
      },
      "source": [
        "#### Comprobación\n",
        "$$\\sigma = \\sqrt{\\frac{1}{N} \\sum_{i=1}^N (x_i - \\mu)^2}$$\n",
        "\n",
        "donde $$\\mu = \\frac{1}{N} \\sum_{i=1}^N x_i.$$\n",
        "\n",
        "para la población total."
      ]
    },
    {
      "cell_type": "code",
      "execution_count": null,
      "id": "8e652a60",
      "metadata": {
        "id": "8e652a60",
        "outputId": "89f982a4-c794-42d3-ea65-b9a0daaa0086"
      },
      "outputs": [
        {
          "data": {
            "text/plain": [
              "1.707825127659933"
            ]
          },
          "execution_count": 41,
          "metadata": {},
          "output_type": "execute_result"
        }
      ],
      "source": [
        "import math\n",
        "math.sqrt(np.mean((m - np.mean(m))**2))"
      ]
    }
  ],
  "metadata": {
    "kernelspec": {
      "display_name": "Python 3 (ipykernel)",
      "language": "python",
      "name": "python3"
    },
    "language_info": {
      "codemirror_mode": {
        "name": "ipython",
        "version": 3
      },
      "file_extension": ".py",
      "mimetype": "text/x-python",
      "name": "python",
      "nbconvert_exporter": "python",
      "pygments_lexer": "ipython3",
      "version": "3.8.11"
    },
    "colab": {
      "name": "0090_numpy7_funciones_estadisticas.ipynb",
      "provenance": [],
      "include_colab_link": true
    }
  },
  "nbformat": 4,
  "nbformat_minor": 5
}