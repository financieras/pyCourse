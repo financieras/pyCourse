{
  "cells": [
    {
      "cell_type": "markdown",
      "metadata": {
        "id": "view-in-github",
        "colab_type": "text"
      },
      "source": [
        "<a href=\"https://colab.research.google.com/github/financieras/pyCourse/blob/main/jupyter/calisto3/calisto3_0030.ipynb\" target=\"_parent\"><img src=\"https://colab.research.google.com/assets/colab-badge.svg\" alt=\"Open In Colab\"/></a>"
      ]
    },
    {
      "cell_type": "markdown",
      "metadata": {
        "id": "Rril9_EqJydN"
      },
      "source": [
        "# NumPy [1] Diferencia entre lista y dnarray\n",
        "Paquete para cómputo científico: NumPy o Numeric Python.\n",
        "Permite:\n",
        "- trabajar con vectores o matrices denominadas **ndarray** (similar a una lista, pero mejor) ndarray significa n-dimensional array\n",
        "- hacer cálculos matemáticos y estadísticos\n",
        "\n",
        "NumPy ya está instalado en Anaconda, pero si trabaja fuera de este entorno es posible que necesite instalarlo así:  \n",
        "pip3 install numpy    # pip3 es la versión del instalador pip para Python 3"
      ]
    },
    {
      "cell_type": "markdown",
      "metadata": {
        "id": "bi1u29NKJydY"
      },
      "source": [
        "## Diferencia entre lista y dnarray \n",
        "* Las listas pueden estar compuestas de datos de tipos diferentes, por el contrario, los ndarrays deben ser de uniformes \n",
        "* Los ndarrays son más adecuados para trabajar en álgebra, son más flexibles"
      ]
    },
    {
      "cell_type": "code",
      "execution_count": null,
      "metadata": {
        "id": "i54CApOhJydc"
      },
      "outputs": [],
      "source": [
        "import numpy as np             # importamos la librería NumPy como np\n",
        "vector = np.array([2, 4, 6])   # ndarray\n",
        "lista = [1, 3, 5]              # lista\n",
        "print(vector)                  # pares\n",
        "print(lista)                   # impares"
      ]
    },
    {
      "cell_type": "code",
      "execution_count": null,
      "metadata": {
        "id": "zyaHiBJKJydo"
      },
      "outputs": [],
      "source": [
        "                               # añadiendo un valor a una lista con append\n",
        "lista.append(7)\n",
        "print(lista)\n",
        "                               # añadiendo un nuevo elemento a un array --> ¡Sorpresa!\n",
        "print(vector + np.array(8))    # no añade 8 al array de los pares, lo que hace es sumarlo a todos\n",
        "vector+np.array(8)             # si no ponemos print aparece como: array([10, 12, 14])"
      ]
    },
    {
      "cell_type": "code",
      "execution_count": null,
      "metadata": {
        "id": "QDpR5wrUJydx"
      },
      "outputs": [],
      "source": [
        "np.append(vector, 8)           # para hacer un append con un ndarray"
      ]
    },
    {
      "cell_type": "code",
      "execution_count": null,
      "metadata": {
        "id": "CBHEYJr-Jydz"
      },
      "outputs": [],
      "source": [
        "                               # sumando listas\n",
        "a = [1, 2, 3]\n",
        "b = [4, 5, 6]\n",
        "print(a + b)                   # la suma de listas es una concatenación\n",
        "\n",
        "                               # sumando arrays\n",
        "x = np.array(a)\n",
        "y = np.array(b)\n",
        "print(x + y)                   # la suma de arrays si suma los valores como en álgebra"
      ]
    },
    {
      "cell_type": "markdown",
      "metadata": {
        "id": "8rHnMWjGJyd7"
      },
      "source": [
        "## ¿Por qué un ndarray es más flexible que una lista?\n",
        "Supongamos que tenemos dos listas una con la altura de 11 personas y otra con su peso.  \n",
        "Deseamos poder calcular el IMC (Índice de Masa Corporal) ratio que es peso / altura\\*\\*2."
      ]
    },
    {
      "cell_type": "code",
      "execution_count": null,
      "metadata": {
        "id": "cx82lFLsJyeC",
        "outputId": "78ed4c5b-e3fb-46c2-c86e-84c1fb80237e"
      },
      "outputs": [
        {
          "data": {
            "text/plain": [
              "list"
            ]
          },
          "execution_count": 4,
          "metadata": {},
          "output_type": "execute_result"
        }
      ],
      "source": [
        "altura=[1.6, 1.71, 1.82, 1.52, 1.59, 1.95, 1.71, 1.75, 1.66, 1.56, 1.99]\n",
        "peso=[48.8, 57.4, 87.2, 39.5, 51.5, 97.4, 55.2, 52.2, 52.7, 50.6, 76.1]\n",
        "type(peso)"
      ]
    },
    {
      "cell_type": "markdown",
      "metadata": {
        "id": "FkNcQKbXJyeE"
      },
      "source": [
        "Veamos que al calcular el IMC con listas obtenemos un error."
      ]
    },
    {
      "cell_type": "code",
      "execution_count": null,
      "metadata": {
        "id": "e9DoKsD8JyeM"
      },
      "outputs": [],
      "source": [
        "#IMC = peso / altura**2        # TypeError: unsupported operand type(s) for ** or pow(): 'list' and 'int'"
      ]
    },
    {
      "cell_type": "markdown",
      "metadata": {
        "id": "Vdbr8WC-JyeZ"
      },
      "source": [
        "Vamos ahora a ver que los ndarray son mucho más flexibles.\n",
        "\n",
        "Primero los creamos."
      ]
    },
    {
      "cell_type": "code",
      "execution_count": null,
      "metadata": {
        "id": "WKxTHOLiJyeh",
        "outputId": "59d51690-8235-4ebc-8dee-0802db1fdaaa"
      },
      "outputs": [
        {
          "name": "stdout",
          "output_type": "stream",
          "text": [
            "<class 'numpy.ndarray'>\n"
          ]
        },
        {
          "data": {
            "text/plain": [
              "array([1.6 , 1.71, 1.82, 1.52, 1.59, 1.95, 1.71, 1.75, 1.66, 1.56, 1.99])"
            ]
          },
          "execution_count": 6,
          "metadata": {},
          "output_type": "execute_result"
        }
      ],
      "source": [
        "import numpy as np               # Importamos la librería NumPy\n",
        "np_peso = np.array(peso)         # creamos el array para el peso\n",
        "np_altura = np.array(altura)     # creamos el array para la altura\n",
        "print(type(np_peso))             # veamos el tipo de un ndarray\n",
        "np_altura                        # mostramos el array para la altura, así se ve un ndarray"
      ]
    },
    {
      "cell_type": "markdown",
      "metadata": {
        "id": "ZQG606Q1Jyek"
      },
      "source": [
        "Finalmente calculamos el IMC de forma sencilla y elegante."
      ]
    },
    {
      "cell_type": "code",
      "execution_count": null,
      "metadata": {
        "id": "061rsUedJyen",
        "outputId": "b2db1557-b957-4adb-e2bf-0a7d9a53b911"
      },
      "outputs": [
        {
          "data": {
            "text/plain": [
              "array([19.0625    , 19.62997162, 26.32532303, 17.09660665, 20.37102963,\n",
              "       25.61472715, 18.87760337, 17.04489796, 19.12469154, 20.79224195,\n",
              "       19.21668645])"
            ]
          },
          "execution_count": 7,
          "metadata": {},
          "output_type": "execute_result"
        }
      ],
      "source": [
        "IMC = np_peso / np_altura**2\n",
        "IMC"
      ]
    },
    {
      "cell_type": "code",
      "execution_count": null,
      "metadata": {
        "id": "-vjvQmpqJyev"
      },
      "outputs": [],
      "source": [
        "# Funciona el referirnos a los elementos del vector por el índice\n",
        "IMC[2]                   # muestra el tercer elemento del array"
      ]
    },
    {
      "cell_type": "code",
      "execution_count": null,
      "metadata": {
        "id": "sQeEs3wqJyez"
      },
      "outputs": [],
      "source": [
        "IMC > 23                 # obtenemos un vector con verdaderos y falsos"
      ]
    },
    {
      "cell_type": "code",
      "execution_count": null,
      "metadata": {
        "id": "PxpwVUNYJye2"
      },
      "outputs": [],
      "source": [
        "# muestra los elementos con sobrepeso\n",
        "IMC[IMC > 23]            # muestra solo los valores de IMC que son True en el vector"
      ]
    },
    {
      "cell_type": "markdown",
      "metadata": {
        "id": "W864FJQhJye5"
      },
      "source": [
        "Vamos a realizar un gráfico con la nube de puntos entre peso (x) y altura (y).  \n",
        "También necesitamos importar la librería matplotlib para la representación gráfica."
      ]
    },
    {
      "cell_type": "code",
      "execution_count": null,
      "metadata": {
        "id": "YOSIF64wJye8"
      },
      "outputs": [],
      "source": [
        "import matplotlib.pyplot as plt\n",
        "x = np_peso\n",
        "y = np_altura\n",
        "plt.scatter(x, y)               # scatter para nube de puntos y plot para líneas\n",
        "plt.xlabel(\"Peso (Kg)\")\n",
        "plt.ylabel(\"Altura (m)\")\n",
        "#plt.show()                     # muestra el gráfico\n",
        "plt.grid()                      # muestra el gráfico con rejilla"
      ]
    },
    {
      "cell_type": "markdown",
      "metadata": {
        "id": "kJHAFR7nJyfF"
      },
      "source": [
        "## Creamos un ndarray"
      ]
    },
    {
      "cell_type": "code",
      "execution_count": null,
      "metadata": {
        "id": "3glMXkO5JyfG"
      },
      "outputs": [],
      "source": [
        "import numpy as np\n",
        "numeros_primos=[2, 3, 5, 7, 11, 13, 17, 19, 23, 29]  # esto es una lista normal\n",
        "numeros_primos"
      ]
    },
    {
      "cell_type": "markdown",
      "metadata": {
        "id": "my8GIisEJyfJ"
      },
      "source": [
        "### Caso 1  \n",
        "Creando un array en numpy a partir de una lista."
      ]
    },
    {
      "cell_type": "code",
      "execution_count": null,
      "metadata": {
        "id": "xNcxMBPyJyfK"
      },
      "outputs": [],
      "source": [
        "array_primos = np.array(numeros_primos)\n",
        "array_primos                               # se parece a una lista normal, pero es un objeto llamado ndarray"
      ]
    },
    {
      "cell_type": "markdown",
      "metadata": {
        "id": "t-0x_g2_JyfN"
      },
      "source": [
        "### Caso 2  \n",
        "Inicializando un array con ceros en numpy."
      ]
    },
    {
      "cell_type": "code",
      "execution_count": null,
      "metadata": {
        "id": "tC__fsSqJyfV"
      },
      "outputs": [],
      "source": [
        "array_zeros=np.zeros(10)\n",
        "array_zeros"
      ]
    },
    {
      "cell_type": "markdown",
      "metadata": {
        "id": "aktOvK1nJyfV"
      },
      "source": [
        "### Caso 3  \n",
        "Crear arrays con números."
      ]
    },
    {
      "cell_type": "code",
      "execution_count": null,
      "metadata": {
        "id": "jCciPRRHJyfY"
      },
      "outputs": [],
      "source": [
        "array_numeros = np.arange(10)\n",
        "array_numeros"
      ]
    },
    {
      "cell_type": "markdown",
      "metadata": {
        "id": "_i4rvpVnJyfZ"
      },
      "source": [
        "### Caso 4  \n",
        "Creando arrays de series de números con un cierto paso."
      ]
    },
    {
      "cell_type": "code",
      "execution_count": null,
      "metadata": {
        "id": "54FKii4oJyfb"
      },
      "outputs": [],
      "source": [
        "array_pares = np.arange(0, 20, 2)\n",
        "array_pares"
      ]
    },
    {
      "cell_type": "markdown",
      "metadata": {
        "id": "8CTKpamxJyfd"
      },
      "source": [
        "### Caso 5  \n",
        "Haciendo un reshape para dos dimensiones"
      ]
    },
    {
      "cell_type": "code",
      "execution_count": null,
      "metadata": {
        "id": "Pz3yy1jjJyfe"
      },
      "outputs": [],
      "source": [
        "array_pares.reshape(2, 5)      # obtenemos una matriz de 2 filas y 5 columnas"
      ]
    },
    {
      "cell_type": "markdown",
      "metadata": {
        "id": "D1WkA22bJyfn"
      },
      "source": [
        "### Caso 6  \n",
        "La forma habitual de obtener una matriz de dos dimensiones.  \n",
        "Partimos de una lista de listas que vamos a llamar lista2d.  \n",
        "Tiene 3 filas y 4 columnas. Es de dimensión 3×4."
      ]
    },
    {
      "cell_type": "code",
      "execution_count": null,
      "metadata": {
        "id": "ANXWmGqFJyfp"
      },
      "outputs": [],
      "source": [
        "lista2d = [[11,12,13,14], [21,22,23,24], [31,32,33,34]]\n",
        "lista2d"
      ]
    },
    {
      "cell_type": "markdown",
      "metadata": {
        "id": "9rseKxwrJyfs"
      },
      "source": [
        "Convertimos la lista de listas en un ndarray."
      ]
    },
    {
      "cell_type": "code",
      "execution_count": null,
      "metadata": {
        "id": "tixkT2kDJyfu"
      },
      "outputs": [],
      "source": [
        "matriz2d = np.array(lista2d) # al ndarray le llamamos matriz2d\n",
        "matriz2d"
      ]
    },
    {
      "cell_type": "markdown",
      "metadata": {
        "id": "HMe-TBUCJyfx"
      },
      "source": [
        "### Caso 7  \n",
        "Veamos otro caso con reshape de dimensión 3×5.  \n",
        "Observe que 3×5=15."
      ]
    },
    {
      "cell_type": "code",
      "execution_count": null,
      "metadata": {
        "id": "oUZOkpQHJyf7"
      },
      "outputs": [],
      "source": [
        "m = np.arange(15).reshape(3, 5)\n",
        "m"
      ]
    },
    {
      "cell_type": "markdown",
      "metadata": {
        "id": "rw5jo9b5Jyf8"
      },
      "source": [
        "#### Ejercicio\n",
        "Cree una matriz de 20 elementos de números aleatorios entre 10 y 99, con 4 filas."
      ]
    },
    {
      "cell_type": "code",
      "execution_count": null,
      "metadata": {
        "id": "Qon4Y8uBJyf9"
      },
      "outputs": [],
      "source": [
        "from random import sample\n",
        "lista = sample(range(10, 100), 20)\n",
        "array=np.array(lista)\n",
        "m = array.reshape(4, 5)\n",
        "m"
      ]
    }
  ],
  "metadata": {
    "kernelspec": {
      "display_name": "Python 3 (ipykernel)",
      "language": "python",
      "name": "python3"
    },
    "language_info": {
      "codemirror_mode": {
        "name": "ipython",
        "version": 3
      },
      "file_extension": ".py",
      "mimetype": "text/x-python",
      "name": "python",
      "nbconvert_exporter": "python",
      "pygments_lexer": "ipython3",
      "version": "3.8.11"
    },
    "colab": {
      "name": "0030_numpy1_dnarray.ipynb",
      "provenance": [],
      "include_colab_link": true
    }
  },
  "nbformat": 4,
  "nbformat_minor": 0
}
