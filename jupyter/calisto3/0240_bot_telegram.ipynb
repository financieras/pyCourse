{
  "cells": [
    {
      "cell_type": "markdown",
      "metadata": {
        "id": "view-in-github",
        "colab_type": "text"
      },
      "source": [
        "<a href=\"https://colab.research.google.com/github/financieras/pyCourse/blob/main/jupyter/calisto3/0240_bot_telegram.ipynb\" target=\"_parent\"><img src=\"https://colab.research.google.com/assets/colab-badge.svg\" alt=\"Open In Colab\"/></a>"
      ]
    },
    {
      "cell_type": "markdown",
      "id": "a3242bc2",
      "metadata": {
        "id": "a3242bc2"
      },
      "source": [
        "# Bot de Telegram para cotizaciones en tiempo real"
      ]
    },
    {
      "cell_type": "markdown",
      "id": "f7c11379",
      "metadata": {
        "id": "f7c11379"
      },
      "source": [
        "1. [Bot de Telegram para consultar cotizaciones de Bitcoin, Ethereum, Tesla y otros valores](https://altocodigo.blogspot.com/2021/09/bot-de-telegram-para-consultar.html)\n",
        "2. [How to make a Telegram bot using Python](https://youtu.be/h1QGky22b-k)\n",
        "3. [repositorio](https://github.com/financieras/TelegramCryptoBot.git)\n"
      ]
    }
  ],
  "metadata": {
    "kernelspec": {
      "display_name": "Python 3 (ipykernel)",
      "language": "python",
      "name": "python3"
    },
    "language_info": {
      "codemirror_mode": {
        "name": "ipython",
        "version": 3
      },
      "file_extension": ".py",
      "mimetype": "text/x-python",
      "name": "python",
      "nbconvert_exporter": "python",
      "pygments_lexer": "ipython3",
      "version": "3.8.11"
    },
    "colab": {
      "name": "0240_bot_telegram.ipynb",
      "provenance": [],
      "include_colab_link": true
    }
  },
  "nbformat": 4,
  "nbformat_minor": 5
}