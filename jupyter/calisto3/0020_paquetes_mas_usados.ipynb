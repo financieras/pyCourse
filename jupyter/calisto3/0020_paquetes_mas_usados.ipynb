{
  "cells": [
    {
      "cell_type": "markdown",
      "metadata": {
        "id": "view-in-github",
        "colab_type": "text"
      },
      "source": [
        "<a href=\"https://colab.research.google.com/github/financieras/pyCourse/blob/main/jupyter/calisto3/calisto3_0020.ipynb\" target=\"_parent\"><img src=\"https://colab.research.google.com/assets/colab-badge.svg\" alt=\"Open In Colab\"/></a>"
      ]
    },
    {
      "cell_type": "markdown",
      "metadata": {
        "id": "bKpEYp95Hf2b"
      },
      "source": [
        "# Paquetes más usados"
      ]
    },
    {
      "cell_type": "markdown",
      "metadata": {
        "id": "66IWets-Hf2n"
      },
      "source": [
        "Contienen código que amplían las funcionalidades de Python.  \n",
        "Los paquetes están contenidos en una carpeta con código .py  \n",
        "Tienen una estructura diseñada para poder usar funciones y clases  \n",
        "\\_\\_init\\_\\_.py"
      ]
    },
    {
      "cell_type": "markdown",
      "metadata": {
        "id": "7M-OChpoHf2r"
      },
      "source": [
        "## En Anaconda  \n",
        "* Si estamos usando Anaconda, habitualmente no necesitamos instalar paquetes ya  que la mayoría los trae incluidos.\n",
        "* En caso contrario, es posible que tengas que instalarlo con el instalador de paquetes que para Anaconda es **conda**.\n",
        "\n",
        "## En Google Colab\n",
        "* También trae incluidas una gran cantidad de librerías.\n",
        "* Pero alguna no las incluye y es necesario que se tengan que instalar con el instalador de paquetes de Python **pip**.\n",
        "* Si estás usando **pip** desde Google Colab, en ocasiones es necesario poner una admiración delante.\n",
        " - Ejemplo\n",
        "\n",
        " ```bash\n",
        " !pip install <paquete>\n",
        " ```"
      ]
    },
    {
      "cell_type": "markdown",
      "metadata": {
        "id": "mpUXE4xOHf2u"
      },
      "source": [
        "## Cómo importar un paquete  \n",
        "NumPy: Acrónimo de  Numerical Python\n",
        "\n",
        "Simplemente tecleando lo siguiente estaríamos importando el paquete numpy con todas sus funciones."
      ]
    },
    {
      "cell_type": "code",
      "execution_count": null,
      "metadata": {
        "id": "sXT-24hNHf2w"
      },
      "outputs": [],
      "source": [
        "import numpy"
      ]
    },
    {
      "cell_type": "code",
      "execution_count": null,
      "metadata": {
        "id": "rLYQXLeGHf22",
        "outputId": "974b539e-7756-4fb8-e83b-75a34e3fcb1c",
        "colab": {
          "base_uri": "https://localhost:8080/"
        }
      },
      "outputs": [
        {
          "output_type": "execute_result",
          "data": {
            "text/plain": [
              "array([0, 1, 2, 3, 4, 5, 6, 7, 8, 9])"
            ]
          },
          "metadata": {},
          "execution_count": 2
        }
      ],
      "source": [
        "# ejemplo, usando la función arange del paquete\n",
        "numpy.arange(10)"
      ]
    },
    {
      "cell_type": "markdown",
      "metadata": {
        "id": "a83U7nq9Hf24"
      },
      "source": [
        "### Cómo importar un paquete con alias"
      ]
    },
    {
      "cell_type": "code",
      "execution_count": null,
      "metadata": {
        "id": "C7Y6AR4kHf25",
        "outputId": "e5bfc5d8-11f4-432d-c9fc-0649214c2549",
        "colab": {
          "base_uri": "https://localhost:8080/"
        }
      },
      "outputs": [
        {
          "output_type": "execute_result",
          "data": {
            "text/plain": [
              "array([0, 1, 2, 3, 4, 5, 6, 7, 8, 9])"
            ]
          },
          "metadata": {},
          "execution_count": 3
        }
      ],
      "source": [
        "import numpy as np         # es el método recomendado\n",
        "np.arange(10)              # ya que al ver np.arange ya sabemos que se trata de la función arange del paquete numpy"
      ]
    },
    {
      "cell_type": "markdown",
      "metadata": {
        "id": "_ssj3ZB3Hf28"
      },
      "source": [
        "### Cómo importar una función concreta del paquete"
      ]
    },
    {
      "cell_type": "code",
      "execution_count": null,
      "metadata": {
        "id": "jmeGxSTyHf2-",
        "outputId": "87d36144-f30b-49b1-8753-50f629841fdc",
        "colab": {
          "base_uri": "https://localhost:8080/"
        }
      },
      "outputs": [
        {
          "output_type": "execute_result",
          "data": {
            "text/plain": [
              "array([0, 1, 2, 3, 4, 5, 6, 7, 8, 9])"
            ]
          },
          "metadata": {},
          "execution_count": 4
        }
      ],
      "source": [
        "from numpy import arange\n",
        "arange(10)"
      ]
    },
    {
      "cell_type": "markdown",
      "metadata": {
        "id": "F4A2SxwdHf2_"
      },
      "source": [
        "**Ejemplo**  "
      ]
    },
    {
      "cell_type": "code",
      "execution_count": null,
      "metadata": {
        "id": "wCpVuH1qHf3B",
        "outputId": "e25f3c26-3532-4e93-8086-d375ebd4d8d7",
        "colab": {
          "base_uri": "https://localhost:8080/"
        }
      },
      "outputs": [
        {
          "output_type": "stream",
          "name": "stdout",
          "text": [
            "x = [1 2 3]\n",
            "e^x = [ 2.71828183  7.3890561  20.08553692]\n",
            "Type de x: <class 'numpy.ndarray'>\n"
          ]
        }
      ],
      "source": [
        "import numpy as np\n",
        "x = np.arange(1,4)\n",
        "print('x =', x)\n",
        "print('e^x =', np.exp(x))\n",
        "print(\"Type de x:\", type(x))"
      ]
    },
    {
      "cell_type": "markdown",
      "metadata": {
        "id": "ChnsGkBaHf3D"
      },
      "source": [
        "# Diferencia entre funciones y métodos"
      ]
    },
    {
      "cell_type": "markdown",
      "metadata": {
        "id": "hiyNLmUJHf3F"
      },
      "source": [
        "- Función: conjunto de instrucciones que proporcionan un return\n",
        "- Método: conjunto de instrucciones que van a trabajar sobre un objeto"
      ]
    },
    {
      "cell_type": "code",
      "execution_count": null,
      "metadata": {
        "id": "5-HwdnPLHf3H",
        "outputId": "ea43ae6b-80d8-4ea5-f89e-8530a2b29e25",
        "colab": {
          "base_uri": "https://localhost:8080/"
        }
      },
      "outputs": [
        {
          "output_type": "stream",
          "name": "stdout",
          "text": [
            "2.0\n",
            "2.0\n"
          ]
        }
      ],
      "source": [
        "# Calculemos la media de x\n",
        "print(np.mean(x))        # usando una función   a la función mean le pasamos el argumento x\n",
        "print(x.mean())          # usando un método     x es un objeto al que se aplica el método mean()"
      ]
    },
    {
      "cell_type": "code",
      "execution_count": null,
      "metadata": {
        "id": "XSuWpMlLHf3J",
        "outputId": "758927fd-41ca-462a-de85-795a43551b54",
        "colab": {
          "base_uri": "https://localhost:8080/"
        }
      },
      "outputs": [
        {
          "output_type": "stream",
          "name": "stdout",
          "text": [
            "[10 20 30 40 50 60 70 80 90]\n"
          ]
        }
      ],
      "source": [
        "# Vamos a transformar las dimensiones de un array\n",
        "import numpy as np\n",
        "y = np.arange(10, 100, 10)\n",
        "print(y)"
      ]
    },
    {
      "cell_type": "code",
      "execution_count": null,
      "metadata": {
        "id": "1WtQ8g_MHf3K",
        "outputId": "c0802fc8-bf56-48b5-a1b9-2a5ae4aadc35",
        "colab": {
          "base_uri": "https://localhost:8080/"
        }
      },
      "outputs": [
        {
          "output_type": "execute_result",
          "data": {
            "text/plain": [
              "array([[10, 20, 30],\n",
              "       [40, 50, 60],\n",
              "       [70, 80, 90]])"
            ]
          },
          "metadata": {},
          "execution_count": 8
        }
      ],
      "source": [
        "np.reshape(y, (3, 3))  # usando una función, primero escribimos la función y luego le pasamos los parámetros"
      ]
    },
    {
      "cell_type": "code",
      "execution_count": null,
      "metadata": {
        "id": "fDfzaIe0Hf3M",
        "outputId": "50c06dbd-95bd-480d-bbf4-7c0930026581",
        "colab": {
          "base_uri": "https://localhost:8080/"
        }
      },
      "outputs": [
        {
          "output_type": "execute_result",
          "data": {
            "text/plain": [
              "array([[10, 20, 30],\n",
              "       [40, 50, 60],\n",
              "       [70, 80, 90]])"
            ]
          },
          "metadata": {},
          "execution_count": 9
        }
      ],
      "source": [
        "y.reshape(3, 3)  # usando un método, el método reshape se aplica sobre el objeto, solo le pasamos las coordenadas"
      ]
    },
    {
      "cell_type": "markdown",
      "metadata": {
        "id": "1WcZxRoRHf3N"
      },
      "source": [
        "## Encadenamiento de métodos (method chaining)  \n",
        "También se puede usar el encadenamiento de métodos.  \n",
        "objeto.método1().método2().método3()"
      ]
    },
    {
      "cell_type": "code",
      "execution_count": null,
      "metadata": {
        "id": "S7xlY2jqHf3N",
        "outputId": "24c0285c-0934-453c-96ba-0d8c4196be8d",
        "colab": {
          "base_uri": "https://localhost:8080/"
        }
      },
      "outputs": [
        {
          "output_type": "stream",
          "name": "stdout",
          "text": [
            "x = [1 2 3 4]\n",
            "y = [ 2.71828183  7.3890561  20.08553692 54.59815003]\n",
            "[ 2.72  7.39 20.09 54.6 ]\n",
            "[ 2.72  7.39 20.09 54.6 ]\n",
            "matriz = [array([1, 2, 3, 4]), array([ 2.71828183,  7.3890561 , 20.08553692, 54.59815003])]\n"
          ]
        }
      ],
      "source": [
        "import numpy as np\n",
        "x = np.arange(1, 5)\n",
        "print('x =', x)\n",
        "y = np.exp(x)\n",
        "print('y =',y)\n",
        "print(np.round(y, 2))\n",
        "print(y.round(2))\n",
        "matriz = [x, y]\n",
        "print(\"matriz =\", matriz)"
      ]
    },
    {
      "cell_type": "code",
      "execution_count": null,
      "metadata": {
        "id": "7N9rrbYyHf3O",
        "outputId": "9a7e0c9c-76fe-469b-9658-be138367d2ea",
        "colab": {
          "base_uri": "https://localhost:8080/"
        }
      },
      "outputs": [
        {
          "output_type": "stream",
          "name": "stdout",
          "text": [
            "[5 2 3 9 8 6 4 3 9 1 5 4 8 0 0 7 5 8 3 8]\n",
            "[9 9 1 9 5 9 9 1 4 3 1 1 3 6 1 8 7 5 4 1]\n"
          ]
        }
      ],
      "source": [
        "from numpy.random import randint\n",
        "values1 = randint(0, 10, 20)\n",
        "values2 = randint(0, 10, 20)\n",
        "print(values1)\n",
        "print(values2)"
      ]
    },
    {
      "cell_type": "markdown",
      "metadata": {
        "id": "DTsgXYsuHf3Q"
      },
      "source": [
        "## Redondear con ```round```"
      ]
    },
    {
      "cell_type": "code",
      "execution_count": null,
      "metadata": {
        "id": "1u8Ze-i-Hf3Q",
        "outputId": "032cebbf-f167-4aea-fcbd-45f575f11535",
        "colab": {
          "base_uri": "https://localhost:8080/"
        }
      },
      "outputs": [
        {
          "output_type": "stream",
          "name": "stdout",
          "text": [
            "[-1.44880966  0.10668615  2.02415308  0.65956746  1.31120024  0.58762406]\n"
          ]
        }
      ],
      "source": [
        "import numpy as np\n",
        "valores = np.random.standard_normal(6)  # array de 6 números aleatorios Normal standard\n",
        "print(valores)"
      ]
    },
    {
      "cell_type": "code",
      "execution_count": null,
      "metadata": {
        "id": "oO0SASD_Hf3R",
        "outputId": "0ead0759-d959-4205-d724-761cb6480350",
        "colab": {
          "base_uri": "https://localhost:8080/"
        }
      },
      "outputs": [
        {
          "output_type": "stream",
          "name": "stdout",
          "text": [
            "Array redondeado a 0 decimales :  [-1.  0.  2.  1.  1.  1.]\n",
            "Array redondeado a 2 decimales :  [-1.45  0.11  2.02  0.66  1.31  0.59]\n"
          ]
        }
      ],
      "source": [
        "redondeado1 = np.round(valores)                                            # usando round como función\n",
        "redondeado2 = np.round(valores,2)\n",
        "print (\"Array redondeado a 0 decimales : \", redondeado1)\n",
        "print (\"Array redondeado a 2 decimales : \", redondeado2)"
      ]
    },
    {
      "cell_type": "code",
      "execution_count": null,
      "metadata": {
        "id": "xTlioeFIHf3S",
        "outputId": "5cb061bb-c872-4383-856e-21d724d9c653",
        "colab": {
          "base_uri": "https://localhost:8080/"
        }
      },
      "outputs": [
        {
          "output_type": "stream",
          "name": "stdout",
          "text": [
            "Array redondeado a 3 decimales :  [-1.449  0.107  2.024  0.66   1.311  0.588]\n"
          ]
        }
      ],
      "source": [
        "print (\"Array redondeado a 3 decimales : \", valores.round(3))              # usando round como método"
      ]
    },
    {
      "cell_type": "code",
      "execution_count": null,
      "metadata": {
        "id": "WP-ilWN9Hf3T",
        "outputId": "a5f61e68-b46c-44dc-c1c9-9326ae266636",
        "colab": {
          "base_uri": "https://localhost:8080/"
        }
      },
      "outputs": [
        {
          "output_type": "execute_result",
          "data": {
            "text/plain": [
              "array([-1.4488,  0.1067,  2.0242,  0.6596,  1.3112,  0.5876])"
            ]
          },
          "metadata": {},
          "execution_count": 15
        }
      ],
      "source": [
        "# usando el argumento optativo out en numpy.round(a, decimals=0, out=None)\n",
        "x = np.arange(6, dtype=np.float64)  # inicializamos x como un ndarray de 6 posiciones para datos float\n",
        "valores.round(4, x)                  # x es un argumento optativo: out"
      ]
    },
    {
      "cell_type": "markdown",
      "metadata": {
        "id": "OUyR0j9dHf3W"
      },
      "source": [
        "## Permutamos x e y con swapaxes(axis1, axis2)"
      ]
    },
    {
      "cell_type": "code",
      "execution_count": null,
      "metadata": {
        "id": "ji9bE0wCHf3X",
        "outputId": "60a5c827-f2ac-42f9-8882-6edce6d7bf95",
        "colab": {
          "base_uri": "https://localhost:8080/"
        }
      },
      "outputs": [
        {
          "output_type": "stream",
          "name": "stdout",
          "text": [
            "La matriz original: \n",
            "[[0 1]\n",
            " [2 3]\n",
            " [4 5]\n",
            " [6 7]\n",
            " [8 9]]\n",
            "\n",
            "La matriz con los ejes permutados usando swapaxes como función:\n",
            "[[0 2 4 6 8]\n",
            " [1 3 5 7 9]]\n",
            "\n",
            "Partimos nuevamente de la matriz original:\n",
            "[[0 1]\n",
            " [2 3]\n",
            " [4 5]\n",
            " [6 7]\n",
            " [8 9]]\n",
            "\n",
            "La matriz con los ejes permutados usando swapaxes como método:\n",
            "[[0 2 4 6 8]\n",
            " [1 3 5 7 9]]\n"
          ]
        }
      ],
      "source": [
        "from numpy import swapaxes,arange,reshape \n",
        "a = arange(10).reshape(5, 2)  # creamos un ndarray de 5 fila y 2 columnas\n",
        "\n",
        "print(f'La matriz original: \\n{a}') \n",
        "print()\n",
        "\n",
        "# permutamos los valores entre el eje 0 y el eje 1 \n",
        "print('La matriz con los ejes permutados usando swapaxes como función:') \n",
        "print(swapaxes(a, 1, 0))     # primero ponemos el eje 1 y luego el eje 0, swapaxes actúa como función\n",
        "print()\n",
        "\n",
        "print('Partimos nuevamente de la matriz original:')\n",
        "print(a)\n",
        "print()\n",
        "\n",
        "print('La matriz con los ejes permutados usando swapaxes como método:')\n",
        "print(a.swapaxes(1, 0))                                                 # swapaxes actúa como método"
      ]
    },
    {
      "cell_type": "markdown",
      "metadata": {
        "id": "5BRDD3WXHf3a"
      },
      "source": [
        "# Los paquetes más usados  \n",
        "## Procesamiento de datos  \n",
        "- **Numpy**\n",
        "- SciPy\n",
        "- **Pandas**\n",
        "- PySpark\n",
        "## Visualización  \n",
        "- **Matplotlib**\n",
        "- Plotly\n",
        "- Bokeh\n",
        "- Seaborn (gráficos)\n",
        "## Modelos ML-AI  \n",
        "- TensorFlow\n",
        "- Keras (deep learning)\n",
        "- PYTORCH\n",
        "- scikit learn\n",
        "## Minería de datos y de textos  \n",
        "- Flask (servidor Web)\n",
        "- Scrapy\n",
        "- BeatifulSoup (Web Scraping)\n"
      ]
    }
  ],
  "metadata": {
    "kernelspec": {
      "display_name": "Python 3 (ipykernel)",
      "language": "python",
      "name": "python3"
    },
    "language_info": {
      "codemirror_mode": {
        "name": "ipython",
        "version": 3
      },
      "file_extension": ".py",
      "mimetype": "text/x-python",
      "name": "python",
      "nbconvert_exporter": "python",
      "pygments_lexer": "ipython3",
      "version": "3.8.11"
    },
    "colab": {
      "name": "0020_paquetes_mas_usados.ipynb",
      "provenance": [],
      "include_colab_link": true
    }
  },
  "nbformat": 4,
  "nbformat_minor": 0
}
