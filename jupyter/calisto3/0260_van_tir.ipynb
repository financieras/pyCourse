{
  "nbformat": 4,
  "nbformat_minor": 0,
  "metadata": {
    "colab": {
      "name": "0260_van_tir.ipynb",
      "provenance": [],
      "authorship_tag": "ABX9TyOGOAfkuhUtJm6/zKTwXPOW",
      "include_colab_link": true
    },
    "kernelspec": {
      "name": "python3",
      "display_name": "Python 3"
    },
    "language_info": {
      "name": "python"
    }
  },
  "cells": [
    {
      "cell_type": "markdown",
      "metadata": {
        "id": "view-in-github",
        "colab_type": "text"
      },
      "source": [
        "<a href=\"https://colab.research.google.com/github/financieras/pyCourse/blob/main/jupyter/calisto3/0260_van_tir.ipynb\" target=\"_parent\"><img src=\"https://colab.research.google.com/assets/colab-badge.svg\" alt=\"Open In Colab\"/></a>"
      ]
    },
    {
      "cell_type": "markdown",
      "source": [
        "# VAN y TIR\n",
        "* VAN = NPV\n",
        "* TIR = IRR"
      ],
      "metadata": {
        "id": "2XO4D6iv7eB7"
      }
    },
    {
      "cell_type": "code",
      "source": [
        "!pip install numpy-financial   # instalamos la librería financiera\n",
        "!pip install tabulate          # instalamos la librería que permite hacer tablas"
      ],
      "metadata": {
        "colab": {
          "base_uri": "https://localhost:8080/"
        },
        "id": "AQENw64P9oV5",
        "outputId": "5a14588f-2a09-4228-a543-a5499d639cc0"
      },
      "execution_count": 1,
      "outputs": [
        {
          "output_type": "stream",
          "name": "stdout",
          "text": [
            "Collecting numpy-financial\n",
            "  Downloading numpy_financial-1.0.0-py3-none-any.whl (14 kB)\n",
            "Requirement already satisfied: numpy>=1.15 in /usr/local/lib/python3.10/dist-packages (from numpy-financial) (1.23.5)\n",
            "Installing collected packages: numpy-financial\n",
            "Successfully installed numpy-financial-1.0.0\n",
            "Requirement already satisfied: tabulate in /usr/local/lib/python3.10/dist-packages (0.9.0)\n"
          ]
        }
      ]
    },
    {
      "cell_type": "code",
      "source": [
        "import numpy_financial as npf   # importamos la librería financiera\n",
        "\n",
        "cash_flows = [-600_000, 100_000, 150_000, 200_000, 250_000, 300_000]\n",
        "discount_rate = 0.1\n",
        "\n",
        "van = npf.npv(discount_rate, cash_flows)\n",
        "print(f\"Net Present Value ({discount_rate:.2%}) = {van:,.2f} €\")"
      ],
      "metadata": {
        "colab": {
          "base_uri": "https://localhost:8080/"
        },
        "id": "7Z0MGAhe_npY",
        "outputId": "bbfc07d9-d8a7-4577-b20e-ea399a97f52e"
      },
      "execution_count": 2,
      "outputs": [
        {
          "output_type": "stream",
          "name": "stdout",
          "text": [
            "Net Present Value (10.00%) = 122,168.75 €\n"
          ]
        }
      ]
    },
    {
      "cell_type": "code",
      "source": [
        "tir = npf.irr(cash_flows)\n",
        "print(f\"Internal rate of return: {tir:.2%}\")"
      ],
      "metadata": {
        "colab": {
          "base_uri": "https://localhost:8080/"
        },
        "id": "J3Q-2rYw9c7i",
        "outputId": "6607b937-6c0e-47cc-bf3b-44f0cf6f58ce"
      },
      "execution_count": 3,
      "outputs": [
        {
          "output_type": "stream",
          "name": "stdout",
          "text": [
            "Internal rate of return: 16.40%\n"
          ]
        }
      ]
    },
    {
      "cell_type": "code",
      "source": [
        "initialInvestment = cash_flows[0]       # guardamos en una variable el desembolso inicial\n",
        "cash_flows[0] = 0                       # en la lista de cash flows hacemos cero el desembolso inicial\n",
        "van = initialInvestment + npf.npv(discount_rate, cash_flows)\n",
        "print(van)                              # obtenemos el van esperado, ahora sin formato"
      ],
      "metadata": {
        "colab": {
          "base_uri": "https://localhost:8080/"
        },
        "id": "3TUW8OI9MxDp",
        "outputId": "ce3f4b0a-edc4-4626-f4dd-6db31a47f327"
      },
      "execution_count": 4,
      "outputs": [
        {
          "output_type": "stream",
          "name": "stdout",
          "text": [
            "122168.75399718084\n"
          ]
        }
      ]
    },
    {
      "cell_type": "markdown",
      "source": [
        "## Programando el VAN\n",
        "* Valor Actual Neto\n",
        "* $A$ = Desembolso inicial\n",
        "* $Q_t$ = Flujos de caja desde $t=1$ hasta $t=n$\n",
        "* $k$ = tasa de descuento\n",
        "\n",
        "$$ \\mathrm{VAN} = -A + \\sum_{t=1}^n{\\frac{Q_t}{(1+k)^t}} $$"
      ],
      "metadata": {
        "id": "iQujYc0kWK9I"
      }
    },
    {
      "cell_type": "code",
      "source": [
        "def van(tasa, flujos):\n",
        "    total = 0\n",
        "    for i, flujo in enumerate(flujos):\n",
        "        total += flujo / (1 + tasa)**(i)\n",
        "    return total\n",
        "\n",
        "tasa = 0.1\n",
        "flujos = [-600_000, 100_000, 150_000, 200_000, 250_000, 300_000]\n",
        "print(f\"VAN = {van(tasa, flujos):,.2f} €\")"
      ],
      "metadata": {
        "colab": {
          "base_uri": "https://localhost:8080/"
        },
        "id": "97qYQEUjPInj",
        "outputId": "b01f1aca-b023-4d1a-83c9-7b9043492b77"
      },
      "execution_count": 5,
      "outputs": [
        {
          "output_type": "stream",
          "name": "stdout",
          "text": [
            "VAN = 122,168.75 €\n"
          ]
        }
      ]
    }
  ]
}