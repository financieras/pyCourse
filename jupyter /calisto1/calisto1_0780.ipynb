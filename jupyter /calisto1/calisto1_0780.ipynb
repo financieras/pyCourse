{
  "nbformat": 4,
  "nbformat_minor": 0,
  "metadata": {
    "colab": {
      "provenance": [],
      "authorship_tag": "ABX9TyPwavWBmcCOeFr/sA1JSspU",
      "include_colab_link": true
    },
    "kernelspec": {
      "name": "python3",
      "display_name": "Python 3"
    },
    "language_info": {
      "name": "python"
    }
  },
  "cells": [
    {
      "cell_type": "markdown",
      "metadata": {
        "id": "view-in-github",
        "colab_type": "text"
      },
      "source": [
        "<a href=\"https://colab.research.google.com/github/financieras/pyCourse/blob/main/jupyter%20/calisto1/calisto1_0780.ipynb\" target=\"_parent\"><img src=\"https://colab.research.google.com/assets/colab-badge.svg\" alt=\"Open In Colab\"/></a>"
      ]
    },
    {
      "cell_type": "markdown",
      "source": [
        "# Anotaciones de tipo\n",
        "Las anotaciones de tipo pueden ser usadas a partir de la versión 3.6 de Python."
      ],
      "metadata": {
        "id": "SIykusfdSU4u"
      }
    },
    {
      "cell_type": "markdown",
      "source": [
        "* Es una buena práctica en Python especificar el tipo de variable que se está utilizando en una función.\n",
        "* Esto se conoce como **anotación de tipo** y se utiliza para mejorar la legibilidad del código y para ayudar a detectar errores."
      ],
      "metadata": {
        "id": "5t3aiDGZR5Rn"
      }
    },
    {
      "cell_type": "markdown",
      "source": [
        "## Declarar e inicializar variables"
      ],
      "metadata": {
        "id": "v7N5AXDTWRbN"
      }
    },
    {
      "cell_type": "code",
      "source": [
        "a : int = 2\n",
        "b : float = 4.3\n",
        "c : bool = True\n",
        "d : str = 'Python'\n",
        "\n",
        "# Variable sin inicializar\n",
        "x : int"
      ],
      "metadata": {
        "id": "zpKK65pKT103"
      },
      "execution_count": null,
      "outputs": []
    },
    {
      "cell_type": "markdown",
      "source": [
        "## Función de un parámetro\n",
        "* Las anotaciones de tipo se realizan mediante la adición de dos puntos (:) después del nombre del parámetro y el tipo de variable que se está utilizando."
      ],
      "metadata": {
        "id": "5fuF0DXZWFkk"
      }
    },
    {
      "cell_type": "markdown",
      "source": [
        "En el caso de una función también se puede indicar el tipo de variable que se retorna."
      ],
      "metadata": {
        "id": "Ea7zSFTtVIml"
      }
    },
    {
      "cell_type": "code",
      "source": [
        "def saludar(nombre: str) -> str:\n",
        "    return \"¡Hola, \" + nombre + \"!\"\n",
        "\n",
        "print(saludar(\"Juan\"))"
      ],
      "metadata": {
        "id": "jTk980QnV8_H"
      },
      "execution_count": null,
      "outputs": []
    },
    {
      "cell_type": "markdown",
      "source": [
        "## Función de dos parámetros"
      ],
      "metadata": {
        "id": "bGOlBbklV-b5"
      }
    },
    {
      "cell_type": "code",
      "execution_count": null,
      "metadata": {
        "id": "RVxNx3m4pcGI"
      },
      "outputs": [],
      "source": [
        "def es_mayor_de_edad(nombre: str, edad: int) -> bool:\n",
        "    if edad >= 18:\n",
        "        return True\n",
        "    else:\n",
        "        return False\n",
        "\n",
        "print(es_mayor_de_edad(\"Juan\", 20))"
      ]
    }
  ]
}