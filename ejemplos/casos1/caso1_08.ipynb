{
  "cells": [
    {
      "cell_type": "markdown",
      "metadata": {
        "id": "view-in-github",
        "colab_type": "text"
      },
      "source": [
        "<a href=\"https://colab.research.google.com/github/financieras/pyCourse/blob/main/ejemplos/casos1/caso1_08.ipynb\" target=\"_parent\"><img src=\"https://colab.research.google.com/assets/colab-badge.svg\" alt=\"Open In Colab\"/></a>"
      ]
    },
    {
      "cell_type": "markdown",
      "id": "680a34ef",
      "metadata": {
        "id": "680a34ef"
      },
      "source": [
        "# Reto 1\n",
        "* Muestre las tablas de multiplicar los números entre 5 y 8, solo para valores impares del segundo multiplicando.\n",
        "* Usando bucles for anidados ([Python Nested Loops](https://www.w3schools.com/python/gloss_python_for_nested.asp))"
      ]
    },
    {
      "cell_type": "markdown",
      "source": [
        "## Solución método 1"
      ],
      "metadata": {
        "id": "-C8Ux9V3TOYt"
      },
      "id": "-C8Ux9V3TOYt"
    },
    {
      "cell_type": "code",
      "execution_count": null,
      "id": "6d713a1b",
      "metadata": {
        "id": "6d713a1b",
        "outputId": "e612b6e9-b52d-4e32-8962-2378d0f50de3",
        "colab": {
          "base_uri": "https://localhost:8080/"
        }
      },
      "outputs": [
        {
          "output_type": "stream",
          "name": "stdout",
          "text": [
            "5 x 1 = 5\n",
            "5 x 3 = 15\n",
            "5 x 5 = 25\n",
            "5 x 7 = 35\n",
            "5 x 9 = 45\n",
            "==========\n",
            "6 x 1 = 6\n",
            "6 x 3 = 18\n",
            "6 x 5 = 30\n",
            "6 x 7 = 42\n",
            "6 x 9 = 54\n",
            "==========\n",
            "7 x 1 = 7\n",
            "7 x 3 = 21\n",
            "7 x 5 = 35\n",
            "7 x 7 = 49\n",
            "7 x 9 = 63\n",
            "==========\n",
            "8 x 1 = 8\n",
            "8 x 3 = 24\n",
            "8 x 5 = 40\n",
            "8 x 7 = 56\n",
            "8 x 9 = 72\n",
            "==========\n"
          ]
        }
      ],
      "source": [
        "for i in range(5,9):\n",
        "    for j in range(1,11,2):\n",
        "        print(f\"{i} x {j} = {i*j}\")\n",
        "    print(\"=\"*10)"
      ]
    },
    {
      "cell_type": "markdown",
      "source": [
        "## Solución método 2"
      ],
      "metadata": {
        "id": "T7LvSqlgTfF1"
      },
      "id": "T7LvSqlgTfF1"
    },
    {
      "cell_type": "code",
      "source": [
        "for i in range(5, 9):\n",
        "    for j in range(1, 10, 2):\n",
        "        print(i, \"x\", j, \"=\", i*j)"
      ],
      "metadata": {
        "id": "RPLUMUgWQz26",
        "outputId": "fcd219fd-8873-4951-a794-ef5e917fe4bf",
        "colab": {
          "base_uri": "https://localhost:8080/"
        }
      },
      "id": "RPLUMUgWQz26",
      "execution_count": null,
      "outputs": [
        {
          "output_type": "stream",
          "name": "stdout",
          "text": [
            "5 x 1 = 5\n",
            "5 x 3 = 15\n",
            "5 x 5 = 25\n",
            "5 x 7 = 35\n",
            "5 x 9 = 45\n",
            "6 x 1 = 6\n",
            "6 x 3 = 18\n",
            "6 x 5 = 30\n",
            "6 x 7 = 42\n",
            "6 x 9 = 54\n",
            "7 x 1 = 7\n",
            "7 x 3 = 21\n",
            "7 x 5 = 35\n",
            "7 x 7 = 49\n",
            "7 x 9 = 63\n",
            "8 x 1 = 8\n",
            "8 x 3 = 24\n",
            "8 x 5 = 40\n",
            "8 x 7 = 56\n",
            "8 x 9 = 72\n"
          ]
        }
      ]
    },
    {
      "cell_type": "markdown",
      "source": [
        "## Solución método 3\n",
        "* Usando **List Comprehension**\n",
        "* Se crea una lista de cadenas que contienen las tablas de sumar y luego se imprime por consola.\n",
        "* La lista se crea usando una lista de comprensión que recorre los números del 5 al 8 y los números impares del 1 al 9.\n",
        "* La función `join()` se usa para unir las cadenas de la lista con un salto de línea."
      ],
      "metadata": {
        "id": "xLUeE3SZTg6d"
      },
      "id": "xLUeE3SZTg6d"
    },
    {
      "cell_type": "code",
      "source": [
        "tabla = [f\"{i} x {j} = {i*j}\" for i in range(5, 9) for j in range(1, 10, 2)]\n",
        "print(\"\\n\".join(tabla))"
      ],
      "metadata": {
        "id": "HLhxIPoRRaw7",
        "outputId": "6e277aea-e4a3-4a5b-b763-96a4299ca2e3",
        "colab": {
          "base_uri": "https://localhost:8080/"
        }
      },
      "id": "HLhxIPoRRaw7",
      "execution_count": null,
      "outputs": [
        {
          "output_type": "stream",
          "name": "stdout",
          "text": [
            "5 x 1 = 5\n",
            "5 x 3 = 15\n",
            "5 x 5 = 25\n",
            "5 x 7 = 35\n",
            "5 x 9 = 45\n",
            "6 x 1 = 6\n",
            "6 x 3 = 18\n",
            "6 x 5 = 30\n",
            "6 x 7 = 42\n",
            "6 x 9 = 54\n",
            "7 x 1 = 7\n",
            "7 x 3 = 21\n",
            "7 x 5 = 35\n",
            "7 x 7 = 49\n",
            "7 x 9 = 63\n",
            "8 x 1 = 8\n",
            "8 x 3 = 24\n",
            "8 x 5 = 40\n",
            "8 x 7 = 56\n",
            "8 x 9 = 72\n"
          ]
        }
      ]
    },
    {
      "cell_type": "markdown",
      "source": [
        "# Reto 2\n",
        "* Crear una matriz rectangular de ceros\n",
        "* La matriz tendrá n filas y 3n columnas\n",
        "* n = 5"
      ],
      "metadata": {
        "id": "mW2zlwIYVo01"
      },
      "id": "mW2zlwIYVo01"
    },
    {
      "cell_type": "markdown",
      "source": [
        "## Solución INCORRECTA\n",
        "* Este método aparentemente logra el objetivo, pero no es recomendable ya que tiene un gran inconveniente.\n",
        "* Cuando se modifica un elemento de una fila (o columna) se modifica en todas las demás"
      ],
      "metadata": {
        "id": "wVpJWNxGtPxn"
      },
      "id": "wVpJWNxGtPxn"
    },
    {
      "cell_type": "code",
      "source": [
        "n = 5       # filas\n",
        "m = 3 * n   # columnas\n",
        "matriz = [[0] * m] * n\n",
        "matriz"
      ],
      "metadata": {
        "id": "RuNYRDy0WC9v",
        "outputId": "c0e853e8-fc3a-4478-e0b1-458cf1f31794",
        "colab": {
          "base_uri": "https://localhost:8080/"
        }
      },
      "id": "RuNYRDy0WC9v",
      "execution_count": null,
      "outputs": [
        {
          "output_type": "execute_result",
          "data": {
            "text/plain": [
              "[[0, 0, 0, 0, 0, 0, 0, 0, 0, 0, 0, 0, 0, 0, 0],\n",
              " [0, 0, 0, 0, 0, 0, 0, 0, 0, 0, 0, 0, 0, 0, 0],\n",
              " [0, 0, 0, 0, 0, 0, 0, 0, 0, 0, 0, 0, 0, 0, 0],\n",
              " [0, 0, 0, 0, 0, 0, 0, 0, 0, 0, 0, 0, 0, 0, 0],\n",
              " [0, 0, 0, 0, 0, 0, 0, 0, 0, 0, 0, 0, 0, 0, 0]]"
            ]
          },
          "metadata": {},
          "execution_count": 14
        }
      ]
    },
    {
      "cell_type": "code",
      "source": [
        "# veamos el inconveniente\n",
        "# modificaremos el cuarto cero de la primera fila\n",
        "matriz[0][3] = 7  # en lugar de un 0 ponemos un 7\n",
        "matriz            # el resultado no es el deseado\n",
        "# en todas las filas aparece un 7 ya que son copias unas de otras"
      ],
      "metadata": {
        "id": "aPpBIsO2tn5q",
        "outputId": "3da093d5-89e0-48b6-abba-1a822a114c88",
        "colab": {
          "base_uri": "https://localhost:8080/"
        }
      },
      "id": "aPpBIsO2tn5q",
      "execution_count": null,
      "outputs": [
        {
          "output_type": "execute_result",
          "data": {
            "text/plain": [
              "[[0, 0, 0, 7, 0, 0, 0, 0, 0, 0, 0, 0, 0, 0, 0],\n",
              " [0, 0, 0, 7, 0, 0, 0, 0, 0, 0, 0, 0, 0, 0, 0],\n",
              " [0, 0, 0, 7, 0, 0, 0, 0, 0, 0, 0, 0, 0, 0, 0],\n",
              " [0, 0, 0, 7, 0, 0, 0, 0, 0, 0, 0, 0, 0, 0, 0],\n",
              " [0, 0, 0, 7, 0, 0, 0, 0, 0, 0, 0, 0, 0, 0, 0]]"
            ]
          },
          "metadata": {},
          "execution_count": 15
        }
      ]
    },
    {
      "cell_type": "markdown",
      "source": [
        "## Solución método 1\n",
        "Creando bucles `for` anidados."
      ],
      "metadata": {
        "id": "n-9_KU2yuTk-"
      },
      "id": "n-9_KU2yuTk-"
    },
    {
      "cell_type": "code",
      "source": [
        "n = 5\n",
        "matriz = []\n",
        "for i in range(n):\n",
        "    matriz.append([])\n",
        "    for j in range(3*n):\n",
        "        matriz[i].append(0)\n",
        "matriz"
      ],
      "metadata": {
        "id": "ndcLC4rfudSQ",
        "outputId": "9a4a689c-51f1-4be7-9eec-84f673fe7057",
        "colab": {
          "base_uri": "https://localhost:8080/"
        }
      },
      "id": "ndcLC4rfudSQ",
      "execution_count": null,
      "outputs": [
        {
          "output_type": "execute_result",
          "data": {
            "text/plain": [
              "[[0, 0, 0, 0, 0, 0, 0, 0, 0, 0, 0, 0, 0, 0, 0],\n",
              " [0, 0, 0, 0, 0, 0, 0, 0, 0, 0, 0, 0, 0, 0, 0],\n",
              " [0, 0, 0, 0, 0, 0, 0, 0, 0, 0, 0, 0, 0, 0, 0],\n",
              " [0, 0, 0, 0, 0, 0, 0, 0, 0, 0, 0, 0, 0, 0, 0],\n",
              " [0, 0, 0, 0, 0, 0, 0, 0, 0, 0, 0, 0, 0, 0, 0]]"
            ]
          },
          "metadata": {},
          "execution_count": 17
        }
      ]
    },
    {
      "cell_type": "code",
      "source": [
        "# veamos que ahora no se produce el inconveniente\n",
        "# modificaremos el cuarto cero de la primera fila\n",
        "matriz[0][3] = 7\n",
        "matriz            # el resultado es el deseado\n",
        "# únicamente aparece un 7 en la primera fila"
      ],
      "metadata": {
        "id": "XH_zzqJAwaXg",
        "outputId": "222ebb51-6202-43a7-c98d-95c772f63c66",
        "colab": {
          "base_uri": "https://localhost:8080/"
        }
      },
      "id": "XH_zzqJAwaXg",
      "execution_count": null,
      "outputs": [
        {
          "output_type": "execute_result",
          "data": {
            "text/plain": [
              "[[0, 0, 0, 7, 0, 0, 0, 0, 0, 0, 0, 0, 0, 0, 0],\n",
              " [0, 0, 0, 0, 0, 0, 0, 0, 0, 0, 0, 0, 0, 0, 0],\n",
              " [0, 0, 0, 0, 0, 0, 0, 0, 0, 0, 0, 0, 0, 0, 0],\n",
              " [0, 0, 0, 0, 0, 0, 0, 0, 0, 0, 0, 0, 0, 0, 0],\n",
              " [0, 0, 0, 0, 0, 0, 0, 0, 0, 0, 0, 0, 0, 0, 0]]"
            ]
          },
          "metadata": {},
          "execution_count": 18
        }
      ]
    },
    {
      "cell_type": "markdown",
      "source": [
        "## Solución método 3\n",
        "* [List comprehension](https://www.w3schools.com/python/python_lists_comprehension.asp)\n",
        "* Podemos comprimir en una sola línea de código los dos bucles `for` anidados anteriores."
      ],
      "metadata": {
        "id": "pJASSb8dx1sz"
      },
      "id": "pJASSb8dx1sz"
    },
    {
      "cell_type": "code",
      "source": [
        "n = 5\n",
        "matriz = [[0 for j in range(3*n)] for i in range(n)]\n",
        "matriz"
      ],
      "metadata": {
        "id": "Ma9nHoORyiAj",
        "outputId": "493aa9b5-03c3-40ab-99ca-72833a556faa",
        "colab": {
          "base_uri": "https://localhost:8080/"
        }
      },
      "id": "Ma9nHoORyiAj",
      "execution_count": null,
      "outputs": [
        {
          "output_type": "execute_result",
          "data": {
            "text/plain": [
              "[[0, 0, 0, 0, 0, 0, 0, 0, 0, 0, 0, 0, 0, 0, 0],\n",
              " [0, 0, 0, 0, 0, 0, 0, 0, 0, 0, 0, 0, 0, 0, 0],\n",
              " [0, 0, 0, 0, 0, 0, 0, 0, 0, 0, 0, 0, 0, 0, 0],\n",
              " [0, 0, 0, 0, 0, 0, 0, 0, 0, 0, 0, 0, 0, 0, 0],\n",
              " [0, 0, 0, 0, 0, 0, 0, 0, 0, 0, 0, 0, 0, 0, 0]]"
            ]
          },
          "metadata": {},
          "execution_count": 20
        }
      ]
    },
    {
      "cell_type": "markdown",
      "source": [
        "## Solución método 4"
      ],
      "metadata": {
        "id": "i48KBBqTYK01"
      },
      "id": "i48KBBqTYK01"
    },
    {
      "cell_type": "code",
      "source": [
        "[[0] * (3*n) for i in range(5)]"
      ],
      "metadata": {
        "id": "LtGX9XY5X37a",
        "outputId": "ab119aff-75b5-40f1-fc3b-25b821542831",
        "colab": {
          "base_uri": "https://localhost:8080/"
        }
      },
      "id": "LtGX9XY5X37a",
      "execution_count": null,
      "outputs": [
        {
          "output_type": "execute_result",
          "data": {
            "text/plain": [
              "[[0, 0, 0, 0, 0, 0, 0, 0, 0, 0, 0, 0, 0, 0, 0],\n",
              " [0, 0, 0, 0, 0, 0, 0, 0, 0, 0, 0, 0, 0, 0, 0],\n",
              " [0, 0, 0, 0, 0, 0, 0, 0, 0, 0, 0, 0, 0, 0, 0],\n",
              " [0, 0, 0, 0, 0, 0, 0, 0, 0, 0, 0, 0, 0, 0, 0],\n",
              " [0, 0, 0, 0, 0, 0, 0, 0, 0, 0, 0, 0, 0, 0, 0]]"
            ]
          },
          "metadata": {},
          "execution_count": 24
        }
      ]
    },
    {
      "cell_type": "markdown",
      "source": [
        "## Solución método 5\n",
        "Utilizando la función `zeros` de la librería `numpy`."
      ],
      "metadata": {
        "id": "5qaKpd1WXJGw"
      },
      "id": "5qaKpd1WXJGw"
    },
    {
      "cell_type": "code",
      "source": [
        "import numpy as np\n",
        "\n",
        "n = 5\n",
        "matriz = np.zeros((n, 3*n))\n",
        "matriz"
      ],
      "metadata": {
        "id": "B_6zE4apXCO8",
        "outputId": "5a6bc39b-d342-42cf-9367-2c9b80f241f8",
        "colab": {
          "base_uri": "https://localhost:8080/"
        }
      },
      "id": "B_6zE4apXCO8",
      "execution_count": null,
      "outputs": [
        {
          "output_type": "execute_result",
          "data": {
            "text/plain": [
              "array([[0., 0., 0., 0., 0., 0., 0., 0., 0., 0., 0., 0., 0., 0., 0.],\n",
              "       [0., 0., 0., 0., 0., 0., 0., 0., 0., 0., 0., 0., 0., 0., 0.],\n",
              "       [0., 0., 0., 0., 0., 0., 0., 0., 0., 0., 0., 0., 0., 0., 0.],\n",
              "       [0., 0., 0., 0., 0., 0., 0., 0., 0., 0., 0., 0., 0., 0., 0.],\n",
              "       [0., 0., 0., 0., 0., 0., 0., 0., 0., 0., 0., 0., 0., 0., 0.]])"
            ]
          },
          "metadata": {},
          "execution_count": 22
        }
      ]
    },
    {
      "cell_type": "markdown",
      "source": [
        "* Las matrices que se crean con la librería `numpy` se llaman `ndarray`.  \n",
        "* Los `ndarray` tienen propiedades matemáticas más interesantes que las simples matrices creadas como listas de listas.\n"
      ],
      "metadata": {
        "id": "Gg3VwvCVYrho"
      },
      "id": "Gg3VwvCVYrho"
    },
    {
      "cell_type": "code",
      "source": [
        "type(matriz)        # las matrices creadas con numpy son del tipo ndarray"
      ],
      "metadata": {
        "id": "bEICPXETY_kT",
        "outputId": "a98e8f4d-9e86-4808-d311-40bd77bcabf4",
        "colab": {
          "base_uri": "https://localhost:8080/"
        }
      },
      "id": "bEICPXETY_kT",
      "execution_count": null,
      "outputs": [
        {
          "output_type": "execute_result",
          "data": {
            "text/plain": [
              "numpy.ndarray"
            ]
          },
          "metadata": {},
          "execution_count": 25
        }
      ]
    },
    {
      "cell_type": "markdown",
      "source": [
        "# Reto 3\n",
        "Mostrar una matriz sin comas y sin corchetes."
      ],
      "metadata": {
        "id": "H4ARgNcuzSG2"
      },
      "id": "H4ARgNcuzSG2"
    },
    {
      "cell_type": "markdown",
      "source": [
        "## Solución método 1\n",
        "* Utilizando el operador asterisco `*`.\n",
        "* La varaible `i` va recorriendo las filas desde 0 hasta el último index."
      ],
      "metadata": {
        "id": "yFXTpovLQmoG"
      },
      "id": "yFXTpovLQmoG"
    },
    {
      "cell_type": "code",
      "source": [
        "matriz = [[1, 2, 3], [4, 5, 6], [7, 8, 9]]\n",
        "\n",
        "for i in range(len(matriz)):\n",
        "    print(*matriz[i])   # el asterisco despliega la lista sin corchetes ni comas"
      ],
      "metadata": {
        "id": "Arrc_T2TQ3E8",
        "outputId": "11b53f29-8699-4063-ac01-b33ba9afed6e",
        "colab": {
          "base_uri": "https://localhost:8080/"
        }
      },
      "id": "Arrc_T2TQ3E8",
      "execution_count": null,
      "outputs": [
        {
          "output_type": "stream",
          "name": "stdout",
          "text": [
            "1 2 3\n",
            "4 5 6\n",
            "7 8 9\n"
          ]
        }
      ]
    },
    {
      "cell_type": "markdown",
      "source": [
        "## Solución método 2\n",
        "* Utilizando el operador asterisco `*`.\n",
        "* Aquí no utilizamos la variable `i` sino que recorremos cada `fila`."
      ],
      "metadata": {
        "id": "0LQOdJDKb7nU"
      },
      "id": "0LQOdJDKb7nU"
    },
    {
      "cell_type": "code",
      "source": [
        "matriz = [[1, 2, 3], [4, 5, 6], [7, 8, 9]]\n",
        "\n",
        "for fila in matriz:\n",
        "    print(*fila)"
      ],
      "metadata": {
        "id": "GhI2zaYzaOCZ",
        "outputId": "3191d2c7-9757-42e0-9b92-ebbcc8955442",
        "colab": {
          "base_uri": "https://localhost:8080/"
        }
      },
      "id": "GhI2zaYzaOCZ",
      "execution_count": null,
      "outputs": [
        {
          "output_type": "stream",
          "name": "stdout",
          "text": [
            "1 2 3\n",
            "4 5 6\n",
            "7 8 9\n"
          ]
        }
      ]
    },
    {
      "cell_type": "markdown",
      "source": [
        "## Solución método 3\n",
        "* El bucle `for` recorre cada fila de la matriz\n",
        "* Cada fila se imprime en una línea diferente\n",
        "* La función `join()` es un método de cadena que se utiliza para concatenar una lista de cadenas en una sola cadena.\n",
        "* En este caso, se utiliza para concatenar los elementos de cada fila de la matriz en una sola cadena separada por un espacio en blanco.\n",
        "* Finalmente, la cadena resultante se imprime con `print`."
      ],
      "metadata": {
        "id": "6z21b-WPck5d"
      },
      "id": "6z21b-WPck5d"
    },
    {
      "cell_type": "code",
      "source": [
        "matriz = [[1, 2, 3], [4, 5, 6], [7, 8, 9]]\n",
        "\n",
        "for fila in matriz:\n",
        "    print(\" \".join(str(celda) for celda in fila))"
      ],
      "metadata": {
        "id": "WsVXrs0TbaOG",
        "outputId": "32b941eb-1eab-4fd7-a9b7-ca92d8459257",
        "colab": {
          "base_uri": "https://localhost:8080/"
        }
      },
      "id": "WsVXrs0TbaOG",
      "execution_count": null,
      "outputs": [
        {
          "output_type": "stream",
          "name": "stdout",
          "text": [
            "1 2 3\n",
            "4 5 6\n",
            "7 8 9\n"
          ]
        }
      ]
    },
    {
      "cell_type": "markdown",
      "source": [
        "## Solución método 4\n",
        "* Usando la librería `numpy` y crea un `ndarray`\n",
        "* Utilizamos `replace` para eliminar los corchetes y las comas de la matriz"
      ],
      "metadata": {
        "id": "T2KR2z15QvLh"
      },
      "id": "T2KR2z15QvLh"
    },
    {
      "cell_type": "code",
      "source": [
        "import numpy as np\n",
        "\n",
        "matriz = [[1, 2, 3], [4, 5, 6], [7, 8, 9]]\n",
        "matrix = np.array(matriz)     # convertimos la matriz en un ndarray con la librería numpy\n",
        "\n",
        "print(str(matrix).replace(' [', '').replace('[', '').replace(']', ''))"
      ],
      "metadata": {
        "id": "FQ9zz7KhzaVw",
        "outputId": "2d64db1c-01b2-4f4e-d07e-3e78f89d0ced",
        "colab": {
          "base_uri": "https://localhost:8080/"
        }
      },
      "id": "FQ9zz7KhzaVw",
      "execution_count": null,
      "outputs": [
        {
          "output_type": "stream",
          "name": "stdout",
          "text": [
            "1 2 3\n",
            "4 5 6\n",
            "7 8 9\n"
          ]
        }
      ]
    },
    {
      "cell_type": "markdown",
      "source": [
        "# Reto 4\n",
        "Crear una matriz rectangular de n filas y 3n columnas\n"
      ],
      "metadata": {
        "id": "9coKCPepR25T"
      },
      "id": "9coKCPepR25T"
    },
    {
      "cell_type": "markdown",
      "source": [
        "## Solución método 1\n",
        "Si usar list comprehension."
      ],
      "metadata": {
        "id": "Y72E4t-mWMzW"
      },
      "id": "Y72E4t-mWMzW"
    },
    {
      "cell_type": "code",
      "source": [
        "def rectangulo(n):\n",
        "    matriz = []\n",
        "    for i in range(n):\n",
        "        matriz.append([])\n",
        "        for j in range(3*n):\n",
        "            matriz[i].append('*')\n",
        "    return matriz\n",
        "\n",
        "n = 4\n",
        "matrix = rectangulo(n)\n",
        "\n",
        "for i in range(n):\n",
        "    for j in range(3*n):\n",
        "        print(matrix[i][j], end=\" \")\n",
        "    print()"
      ],
      "metadata": {
        "id": "IVpPFw6tSG54",
        "outputId": "bd4b41d1-387d-4c67-f710-ae68dc9df982",
        "colab": {
          "base_uri": "https://localhost:8080/"
        }
      },
      "id": "IVpPFw6tSG54",
      "execution_count": null,
      "outputs": [
        {
          "output_type": "stream",
          "name": "stdout",
          "text": [
            "* * * * * * * * * * * * \n",
            "* * * * * * * * * * * * \n",
            "* * * * * * * * * * * * \n",
            "* * * * * * * * * * * * \n"
          ]
        }
      ]
    },
    {
      "cell_type": "markdown",
      "source": [
        "## Solución método 2\n",
        "Usando list comprehension."
      ],
      "metadata": {
        "id": "F2NGL2WiWYmp"
      },
      "id": "F2NGL2WiWYmp"
    },
    {
      "cell_type": "code",
      "source": [
        "def rectangulo(n):\n",
        "    return [['*']*(3*n) for i in range(n)]\n",
        "\n",
        "n = 4\n",
        "matrix = rectangulo(n)\n",
        "\n",
        "for i in range(n):\n",
        "    print(*matrix[i])"
      ],
      "metadata": {
        "id": "E0Y1HtrzVfrN",
        "outputId": "5de0075e-0c03-4d07-d83e-c2cd57493fbe",
        "colab": {
          "base_uri": "https://localhost:8080/"
        }
      },
      "execution_count": null,
      "outputs": [
        {
          "output_type": "stream",
          "name": "stdout",
          "text": [
            "* * * * * * * * * * * *\n",
            "* * * * * * * * * * * *\n",
            "* * * * * * * * * * * *\n",
            "* * * * * * * * * * * *\n"
          ]
        }
      ],
      "id": "E0Y1HtrzVfrN"
    },
    {
      "cell_type": "markdown",
      "source": [
        "## Solución método 3\n",
        "Usando `numpy` se crea una matriz que es un `ndarray`."
      ],
      "metadata": {
        "id": "bqott1kAgpNK"
      },
      "id": "bqott1kAgpNK"
    },
    {
      "cell_type": "code",
      "source": [
        "import numpy as np\n",
        "\n",
        "n = 4\n",
        "\n",
        "matriz = np.full((n, 3*n), \"*\")\n",
        "\n",
        "for fila in matriz:\n",
        "    print(\" \".join(str(celda) for celda in fila))"
      ],
      "metadata": {
        "id": "zE4KdWDgfu_S",
        "outputId": "fc4c7a48-9186-46bb-e6f7-8d53ff6c4bcf",
        "colab": {
          "base_uri": "https://localhost:8080/"
        }
      },
      "id": "zE4KdWDgfu_S",
      "execution_count": null,
      "outputs": [
        {
          "output_type": "stream",
          "name": "stdout",
          "text": [
            "* * * * * * * * * * * *\n",
            "* * * * * * * * * * * *\n",
            "* * * * * * * * * * * *\n",
            "* * * * * * * * * * * *\n"
          ]
        }
      ]
    },
    {
      "cell_type": "markdown",
      "source": [
        "# Reto 5\n",
        "* Cree una matriz con estructura.\n",
        "\n",
        "* Para n=4 la matriz tiene la siguiene forma.\n",
        "\n",
        "$$\\begin{equation}\n",
        "\\begin{matrix}\n",
        "1 & 2 & 3 & 4 \\\\\n",
        "2 & 3 & 4 & 1 \\\\\n",
        "3 & 4 & 1 & 2 \\\\\n",
        "4 & 1 & 2 & 3\n",
        "\\end{matrix}\n",
        "\\end{equation}$$\n",
        "\n",
        "* Para $n=5$ la matriz tiene la siguiene forma.\n",
        "\n",
        "$$\\begin{equation}\n",
        "\\begin{matrix}\n",
        "1 & 2 & 3 & 4 & 5 \\\\\n",
        "2 & 3 & 4 & 5 & 1 \\\\\n",
        "3 & 4 & 5 & 1 & 2 \\\\\n",
        "4 & 5 & 1 & 2 & 3 \\\\\n",
        "5 & 1 & 2 & 3 & 4\n",
        "\\end{matrix}\n",
        "\\end{equation}$$\n",
        "\n",
        "* Crear una función a la que pasemos como agumento el n y nos devuelva la matriz con esa estructura.\n",
        "* $1 \\leq n \\leq 9$"
      ],
      "metadata": {
        "id": "OJSFee4JGCTn"
      },
      "id": "OJSFee4JGCTn"
    },
    {
      "cell_type": "markdown",
      "source": [
        "## Solución método 1"
      ],
      "metadata": {
        "id": "1nXhg0rllpMg"
      },
      "id": "1nXhg0rllpMg"
    },
    {
      "cell_type": "code",
      "source": [
        "matriz = []\n",
        "\n",
        "for i in range(n):\n",
        "    fila = []\n",
        "    for j in range(n):\n",
        "        fila.append((i+j) % n + 1)\n",
        "    matriz.append(fila)\n",
        "\n",
        "for i in range(n):\n",
        "    print(*matriz[i])   # el asterisco despliega la lista sin corchetes ni comas"
      ],
      "metadata": {
        "id": "Qs4ZnM_Gk5Uw",
        "outputId": "1f2bb8e4-c8fd-4297-bbe0-6c058aa6d360",
        "colab": {
          "base_uri": "https://localhost:8080/"
        }
      },
      "id": "Qs4ZnM_Gk5Uw",
      "execution_count": null,
      "outputs": [
        {
          "output_type": "stream",
          "name": "stdout",
          "text": [
            "1 2 3 4 5 6 7 8 9\n",
            "2 3 4 5 6 7 8 9 1\n",
            "3 4 5 6 7 8 9 1 2\n",
            "4 5 6 7 8 9 1 2 3\n",
            "5 6 7 8 9 1 2 3 4\n",
            "6 7 8 9 1 2 3 4 5\n",
            "7 8 9 1 2 3 4 5 6\n",
            "8 9 1 2 3 4 5 6 7\n",
            "9 1 2 3 4 5 6 7 8\n"
          ]
        }
      ]
    },
    {
      "cell_type": "markdown",
      "source": [
        "## Solución método 2"
      ],
      "metadata": {
        "id": "EpnOxD0xltXF"
      },
      "id": "EpnOxD0xltXF"
    },
    {
      "cell_type": "code",
      "source": [
        "def generate_matrix(n):\n",
        "    matrix = [[0 for i in range(n)] for j in range(n)]\n",
        "    for i in range(n):\n",
        "        for j in range(n):\n",
        "            matrix[i][j] = (i + j) % n + 1\n",
        "    return matrix\n",
        "\n",
        "n = int(input(\"Introduce la dimensión de la matriz cuadrada: \"))\n",
        "print()\n",
        "\n",
        "matriz = generate_matrix(n)\n",
        "\n",
        "for fila in matriz:\n",
        "    print(*fila)"
      ],
      "metadata": {
        "id": "KbywdRAiDs0n",
        "outputId": "290857d5-acfc-4f65-bced-225198720dc9",
        "colab": {
          "base_uri": "https://localhost:8080/"
        }
      },
      "id": "KbywdRAiDs0n",
      "execution_count": 7,
      "outputs": [
        {
          "output_type": "stream",
          "name": "stdout",
          "text": [
            "Introduce la dimensión de la matriz cuadrada: 9\n",
            "1 2 3 4 5 6 7 8 9\n",
            "2 3 4 5 6 7 8 9 1\n",
            "3 4 5 6 7 8 9 1 2\n",
            "4 5 6 7 8 9 1 2 3\n",
            "5 6 7 8 9 1 2 3 4\n",
            "6 7 8 9 1 2 3 4 5\n",
            "7 8 9 1 2 3 4 5 6\n",
            "8 9 1 2 3 4 5 6 7\n",
            "9 1 2 3 4 5 6 7 8\n"
          ]
        }
      ]
    },
    {
      "cell_type": "markdown",
      "source": [
        "## Solución método 3"
      ],
      "metadata": {
        "id": "rYjS_XlVEiqv"
      },
      "id": "rYjS_XlVEiqv"
    },
    {
      "cell_type": "code",
      "source": [
        "def figura(n):\n",
        "    m = [[(i+j) % n + 1 for i in range(n)] for j in range(n)]\n",
        "    return m\n",
        "\n",
        "n = 9\n",
        "\n",
        "for fila in matriz:\n",
        "    print(*fila)"
      ],
      "metadata": {
        "colab": {
          "base_uri": "https://localhost:8080/"
        },
        "id": "IRPilgnuGNre",
        "outputId": "8d23d7c8-174c-4117-e203-1ccf68353067"
      },
      "id": "IRPilgnuGNre",
      "execution_count": 5,
      "outputs": [
        {
          "output_type": "stream",
          "name": "stdout",
          "text": [
            "1 2 3 4 5 6 7 8 9\n",
            "2 3 4 5 6 7 8 9 1\n",
            "3 4 5 6 7 8 9 1 2\n",
            "4 5 6 7 8 9 1 2 3\n",
            "5 6 7 8 9 1 2 3 4\n",
            "6 7 8 9 1 2 3 4 5\n",
            "7 8 9 1 2 3 4 5 6\n",
            "8 9 1 2 3 4 5 6 7\n",
            "9 1 2 3 4 5 6 7 8\n"
          ]
        }
      ]
    },
    {
      "cell_type": "code",
      "source": [
        "class Matrix:\n",
        "    def __init__(self, n):\n",
        "        self.n = n\n",
        "        self.matrix = [[0 for i in range(n)] for j in range(n)]\n",
        "        for i in range(n):\n",
        "            for j in range(n):\n",
        "                self.matrix[i][j] = (i + j) % n + 1\n",
        "\n",
        "    def __str__(self):\n",
        "        return str(self.matrix)\n",
        "\n",
        "n = 9\n",
        "matriz = Matrix(n)\n",
        "print(matriz)"
      ],
      "metadata": {
        "id": "RDg-FHKyE2DI",
        "outputId": "50699011-7d42-4bd4-973a-0cc9c55edcfa",
        "colab": {
          "base_uri": "https://localhost:8080/"
        }
      },
      "id": "RDg-FHKyE2DI",
      "execution_count": 8,
      "outputs": [
        {
          "output_type": "stream",
          "name": "stdout",
          "text": [
            "[[1, 2, 3, 4, 5, 6, 7, 8, 9], [2, 3, 4, 5, 6, 7, 8, 9, 1], [3, 4, 5, 6, 7, 8, 9, 1, 2], [4, 5, 6, 7, 8, 9, 1, 2, 3], [5, 6, 7, 8, 9, 1, 2, 3, 4], [6, 7, 8, 9, 1, 2, 3, 4, 5], [7, 8, 9, 1, 2, 3, 4, 5, 6], [8, 9, 1, 2, 3, 4, 5, 6, 7], [9, 1, 2, 3, 4, 5, 6, 7, 8]]\n"
          ]
        }
      ]
    }
  ],
  "metadata": {
    "kernelspec": {
      "display_name": "Python 3",
      "language": "python",
      "name": "python3"
    },
    "language_info": {
      "codemirror_mode": {
        "name": "ipython",
        "version": 3
      },
      "file_extension": ".py",
      "mimetype": "text/x-python",
      "name": "python",
      "nbconvert_exporter": "python",
      "pygments_lexer": "ipython3",
      "version": "3.8.8"
    },
    "colab": {
      "name": "caso1.08.ipynb",
      "provenance": [],
      "include_colab_link": true
    }
  },
  "nbformat": 4,
  "nbformat_minor": 5
}