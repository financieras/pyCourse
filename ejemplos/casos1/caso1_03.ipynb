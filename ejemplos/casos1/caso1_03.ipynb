{
  "nbformat": 4,
  "nbformat_minor": 0,
  "metadata": {
    "colab": {
      "name": "caso1.03.ipynb",
      "provenance": [],
      "authorship_tag": "ABX9TyMsLvc/VdC1GcsKVngNaKTc",
      "include_colab_link": true
    },
    "kernelspec": {
      "name": "python3",
      "display_name": "Python 3"
    },
    "language_info": {
      "name": "python"
    }
  },
  "cells": [
    {
      "cell_type": "markdown",
      "metadata": {
        "id": "view-in-github",
        "colab_type": "text"
      },
      "source": [
        "<a href=\"https://colab.research.google.com/github/financieras/pyCourse/blob/main/ejemplos/casos1/caso1_03.ipynb\" target=\"_parent\"><img src=\"https://colab.research.google.com/assets/colab-badge.svg\" alt=\"Open In Colab\"/></a>"
      ]
    },
    {
      "cell_type": "markdown",
      "source": [
        "# Reto 1\n",
        "\n",
        "Pedir al usuario dos números y decir cuál es el mayor, el menor o si son iguales.\n"
      ],
      "metadata": {
        "id": "wRAQYCocP6gN"
      }
    },
    {
      "cell_type": "markdown",
      "source": [
        "## Solución método 1"
      ],
      "metadata": {
        "id": "EnznafdPreEv"
      }
    },
    {
      "cell_type": "code",
      "source": [
        "a = float(input(\"Indique el primer número: \"))\n",
        "b = float(input(\"Indique el segundo número: \"))\n",
        "if a > b:\n",
        "    print(f\"El mayor es {a} y el menor es {b}.\")\n",
        "elif b > a:\n",
        "    print(f\"El mayor es {b} y el menor es {a}.\")\n",
        "else:\n",
        "    print(\"Son iguales.\")"
      ],
      "metadata": {
        "id": "qRvTnxTKP6GL"
      },
      "execution_count": null,
      "outputs": []
    },
    {
      "cell_type": "markdown",
      "source": [
        "## Solución método 2\n",
        "Utilizando una función que toma dos argumentos y los compara."
      ],
      "metadata": {
        "id": "wuC-pSKhrjTW"
      }
    },
    {
      "cell_type": "code",
      "source": [
        "def comparar_numeros(num1, num2):\n",
        "    if num1 > num2:\n",
        "        print(f\"{num1} es mayor que {num2}\")\n",
        "    elif num1 < num2:\n",
        "        print(f\"{num1} es menor que {num2}\")\n",
        "    else:\n",
        "        print(f\"{num1} y {num2} son iguales\")\n",
        "\n",
        "comparar_numeros(5, 3)"
      ],
      "metadata": {
        "id": "K95J9Y29ry7R"
      },
      "execution_count": null,
      "outputs": []
    },
    {
      "cell_type": "markdown",
      "source": [
        "# Reto 2\n",
        "\n",
        "Pedir un número e imprimir su doble. Seguir pidiendo números hasta que se introduzca un cero.\n"
      ],
      "metadata": {
        "id": "UYavo0-nQHTe"
      }
    },
    {
      "cell_type": "markdown",
      "source": [
        "## Solución método 1\n",
        "Este código pide al usuario que introduzca un número y lo almacena en la variable `num`. Luego, verifica si el número es cero. Si es así, sale del bucle. Si no, imprime el doble del número introducido."
      ],
      "metadata": {
        "id": "UImbTw9gsNJ2"
      }
    },
    {
      "cell_type": "code",
      "source": [
        "while True:\n",
        "    n = float(input(\"Indique el número que desea doblar: \"))\n",
        "    if n == 0:\n",
        "        print(\"Fin del programa.\")\n",
        "        break\n",
        "    print(f\"El doble de {n} es {2*n}.\")"
      ],
      "metadata": {
        "id": "ULsYLlYKQN53",
        "outputId": "f7fd0592-c181-4882-bfd5-8ea0da951875",
        "colab": {
          "base_uri": "https://localhost:8080/"
        }
      },
      "execution_count": 2,
      "outputs": [
        {
          "output_type": "stream",
          "name": "stdout",
          "text": [
            "Indique el número que desea doblar: -5.5\n",
            "El doble de -5.5 es -11.0.\n",
            "Indique el número que desea doblar: 0\n",
            "Fin del programa.\n"
          ]
        }
      ]
    },
    {
      "cell_type": "markdown",
      "source": [
        "## Solución método 2"
      ],
      "metadata": {
        "id": "01EVvalpsRnA"
      }
    },
    {
      "cell_type": "code",
      "source": [
        "def double_until_zero():\n",
        "    num = float(input(\"Introduce un número: \"))\n",
        "    while num != 0:\n",
        "        print(\"El doble de\", num, \"es\", num * 2)\n",
        "        num = float(input(\"Introduce otro número: \"))\n",
        "    print(\"Fin del programa.\")\n",
        "\n",
        "double_until_zero()"
      ],
      "metadata": {
        "id": "HAVFHdd2s-8n",
        "outputId": "a270fa17-1679-4d29-f87c-a83cd3e5faf9",
        "colab": {
          "base_uri": "https://localhost:8080/"
        }
      },
      "execution_count": 5,
      "outputs": [
        {
          "output_type": "stream",
          "name": "stdout",
          "text": [
            "Introduce un número: 4\n",
            "El doble de 4.0 es 8.0\n",
            "Introduce otro número: 0\n",
            "Fin del programa.\n"
          ]
        }
      ]
    },
    {
      "cell_type": "markdown",
      "source": [
        "# Reto 3\n",
        "\n",
        "Pedir un número e imprimir su doble. Seguir pidiendo números hasta que se introduzca un cero o no sea numérico.\n"
      ],
      "metadata": {
        "id": "ocLUD_3LQS95"
      }
    },
    {
      "cell_type": "markdown",
      "source": [
        "## Solución método 1\n",
        "* El programa solicita al usuario que introduzca un número y luego comprueba si el número es cero.\n",
        "  - Si es cero, el programa finaliza.\n",
        "  - Si no es cero, el programa imprime el doble del número introducido.\n",
        "* Si se introduce un carácter no válido salta una excepción y el programa también finaliza."
      ],
      "metadata": {
        "id": "myapUYQOvd9B"
      }
    },
    {
      "cell_type": "code",
      "source": [
        "while True:\n",
        "    str = input(\"Indique el número que desea doblar: \")\n",
        "    try:\n",
        "        n = float(str)\n",
        "        if n == 0:\n",
        "            print(\"Se ha introducido un cero.\\nFin del programa.\")\n",
        "            break\n",
        "        else:\n",
        "            print(f\"El doble de {n} es {2*n}.\")\n",
        "    except:\n",
        "        print(\"Se ha introducido un carácter no válido. \\nFin del programa.\")\n",
        "        break"
      ],
      "metadata": {
        "id": "F3jmD1buQYDR",
        "outputId": "d9665ebd-9575-4368-c1dd-8e54cacce18d",
        "colab": {
          "base_uri": "https://localhost:8080/"
        }
      },
      "execution_count": 7,
      "outputs": [
        {
          "output_type": "stream",
          "name": "stdout",
          "text": [
            "Indique el número que desea doblar: 3\n",
            "El doble de 3.0 es 6.0.\n",
            "Indique el número que desea doblar: 0\n",
            "Se ha introducido un cero.\n",
            "Fin del programa.\n"
          ]
        }
      ]
    },
    {
      "cell_type": "markdown",
      "source": [
        "## Solución método 2\n",
        "* En este caso el código que contiene `try`es más corto.\n",
        "* Si se produce una excepción dentro del bloque `try`, el programa salta al bloque `except` y ejecuta el código dentro de él."
      ],
      "metadata": {
        "id": "5xey_TTBvgd6"
      }
    },
    {
      "cell_type": "code",
      "source": [
        "while True:\n",
        "    try:\n",
        "        num = float(input(\"Introduce un número: \"))\n",
        "    except ValueError:\n",
        "        print(\"No es un número válido.\\nFin del programa.\")\n",
        "        break\n",
        "        \n",
        "    if num == 0:\n",
        "        print(\"El programa ha finalizado correctamente.\")\n",
        "        break\n",
        "    else:\n",
        "        print(f\"El doble de {num} es {num*2}\")"
      ],
      "metadata": {
        "id": "rvQONWmKudV4",
        "outputId": "82850bea-64e8-4aa2-fbb5-7a55e6250aa3",
        "colab": {
          "base_uri": "https://localhost:8080/"
        }
      },
      "execution_count": 12,
      "outputs": [
        {
          "output_type": "stream",
          "name": "stdout",
          "text": [
            "Introduce un número: 9\n",
            "El doble de 9.0 es 18.0\n",
            "Introduce un número: 0,0\n",
            "No es un número válido.\n",
            "Fin del programa.\n"
          ]
        }
      ]
    }
  ]
}