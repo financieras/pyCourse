{
  "cells": [
    {
      "cell_type": "markdown",
      "metadata": {
        "id": "view-in-github",
        "colab_type": "text"
      },
      "source": [
        "<a href=\"https://colab.research.google.com/github/financieras/pyCourse/blob/main/ejemplos/casos1/caso1_06.ipynb\" target=\"_parent\"><img src=\"https://colab.research.google.com/assets/colab-badge.svg\" alt=\"Open In Colab\"/></a>"
      ]
    },
    {
      "cell_type": "markdown",
      "id": "e5f8a443",
      "metadata": {
        "id": "e5f8a443"
      },
      "source": [
        "# Reto 1\n",
        "Generar un número aleatorio entero entre 1 y 10."
      ]
    },
    {
      "cell_type": "markdown",
      "id": "1cd0dc3a",
      "metadata": {
        "id": "1cd0dc3a"
      },
      "source": [
        "## Solución método 1"
      ]
    },
    {
      "cell_type": "code",
      "execution_count": null,
      "id": "f779e989",
      "metadata": {
        "id": "f779e989"
      },
      "outputs": [],
      "source": [
        "import random                  # así importamos toda la librería random\n",
        "print(random.randint(1, 10))"
      ]
    },
    {
      "cell_type": "markdown",
      "id": "4c476af1",
      "metadata": {
        "id": "4c476af1"
      },
      "source": [
        "## Solución método 2"
      ]
    },
    {
      "cell_type": "code",
      "execution_count": null,
      "id": "39586b94",
      "metadata": {
        "id": "39586b94"
      },
      "outputs": [],
      "source": [
        "from random import randint    # así importamos solo la función randint de la librería random\n",
        "print(randint(1, 10))"
      ]
    },
    {
      "cell_type": "markdown",
      "source": [
        "## Solución método 3"
      ],
      "metadata": {
        "id": "Ov4TfDtZLh6N"
      },
      "id": "Ov4TfDtZLh6N"
    },
    {
      "cell_type": "code",
      "source": [
        "import random\n",
        "\n",
        "random.seed()\n",
        "random.randrange(1, 11)"
      ],
      "metadata": {
        "id": "6GyCv4k4I21X",
        "outputId": "0321fdb1-1179-4643-8981-f8b7e106da95",
        "colab": {
          "base_uri": "https://localhost:8080/"
        }
      },
      "id": "6GyCv4k4I21X",
      "execution_count": 3,
      "outputs": [
        {
          "output_type": "execute_result",
          "data": {
            "text/plain": [
              "3"
            ]
          },
          "metadata": {},
          "execution_count": 3
        }
      ]
    },
    {
      "cell_type": "markdown",
      "source": [
        "## Solución método 4"
      ],
      "metadata": {
        "id": "ogDe8Lg1LjGf"
      },
      "id": "ogDe8Lg1LjGf"
    },
    {
      "cell_type": "code",
      "source": [
        "import random\n",
        "random.choice(range(10, 11))"
      ],
      "metadata": {
        "id": "9RxO_zQdJcJN",
        "outputId": "f7c4002e-a9ee-417f-f273-ffe20f258bfc",
        "colab": {
          "base_uri": "https://localhost:8080/"
        }
      },
      "id": "9RxO_zQdJcJN",
      "execution_count": 4,
      "outputs": [
        {
          "output_type": "execute_result",
          "data": {
            "text/plain": [
              "10"
            ]
          },
          "metadata": {},
          "execution_count": 4
        }
      ]
    },
    {
      "cell_type": "markdown",
      "source": [
        "## Solución método 5\n",
        "Usando la librería `NumPy`"
      ],
      "metadata": {
        "id": "l3KP3XxXLWQh"
      },
      "id": "l3KP3XxXLWQh"
    },
    {
      "cell_type": "code",
      "source": [
        "import numpy as np\n",
        "print(np.random.randint(1, 11, size=5))    # array de 5 elementos con repetición\n",
        "np.random.randint(1, 11)"
      ],
      "metadata": {
        "id": "i-5sKWmFKadD",
        "outputId": "c9865090-8ff6-4139-eb84-507c53d6ce06",
        "colab": {
          "base_uri": "https://localhost:8080/"
        }
      },
      "id": "i-5sKWmFKadD",
      "execution_count": 15,
      "outputs": [
        {
          "output_type": "stream",
          "name": "stdout",
          "text": [
            "[8 2 8 7 5]\n"
          ]
        },
        {
          "output_type": "execute_result",
          "data": {
            "text/plain": [
              "int"
            ]
          },
          "metadata": {},
          "execution_count": 15
        }
      ]
    },
    {
      "cell_type": "markdown",
      "source": [
        "## Solución método 6\n",
        "Utilizando una función."
      ],
      "metadata": {
        "id": "7SJ6lWM4HxHB"
      },
      "id": "7SJ6lWM4HxHB"
    },
    {
      "cell_type": "code",
      "source": [
        "import random\n",
        "\n",
        "def generar_numero_aleatorio():\n",
        "    return random.randint(1, 10)\n",
        "\n",
        "numero = generar_numero_aleatorio()\n",
        "print(numero)"
      ],
      "metadata": {
        "id": "q_GceHZBH1oS",
        "outputId": "09a62054-9ccc-471b-b3d5-7616aff82a81",
        "colab": {
          "base_uri": "https://localhost:8080/"
        }
      },
      "id": "q_GceHZBH1oS",
      "execution_count": 1,
      "outputs": [
        {
          "output_type": "stream",
          "name": "stdout",
          "text": [
            "5\n"
          ]
        }
      ]
    },
    {
      "cell_type": "markdown",
      "source": [
        "## Solución método 7\n",
        "Utilizando POO."
      ],
      "metadata": {
        "id": "AioIOzf5IK32"
      },
      "id": "AioIOzf5IK32"
    },
    {
      "cell_type": "code",
      "source": [
        "import random\n",
        "\n",
        "class GeneradorNumeroAleatorio:\n",
        "    def __init__(self):\n",
        "        self.numero_aleatorio = random.randint(1, 10)\n",
        "\n",
        "    def obtener_numero_aleatorio(self):\n",
        "        return self.numero_aleatorio\n",
        "\n",
        "generador = GeneradorNumeroAleatorio()\n",
        "numero = generador.obtener_numero_aleatorio()\n",
        "print(numero)"
      ],
      "metadata": {
        "id": "di3c-FpRIP6K",
        "outputId": "acf7da96-faf8-488e-f3d6-a22d0f6ee568",
        "colab": {
          "base_uri": "https://localhost:8080/"
        }
      },
      "id": "di3c-FpRIP6K",
      "execution_count": 2,
      "outputs": [
        {
          "output_type": "stream",
          "name": "stdout",
          "text": [
            "6\n"
          ]
        }
      ]
    },
    {
      "cell_type": "markdown",
      "id": "f8f846d0",
      "metadata": {
        "id": "f8f846d0"
      },
      "source": [
        "# Reto 2\n",
        "Calcular los divisores de un número."
      ]
    },
    {
      "cell_type": "markdown",
      "source": [
        "## Solución método 1"
      ],
      "metadata": {
        "id": "AgTy5Rw-MsYO"
      },
      "id": "AgTy5Rw-MsYO"
    },
    {
      "cell_type": "code",
      "execution_count": 21,
      "id": "58675eaf",
      "metadata": {
        "id": "58675eaf",
        "outputId": "68bf73f3-54ce-4644-f8c0-13848c0108fd",
        "colab": {
          "base_uri": "https://localhost:8080/"
        }
      },
      "outputs": [
        {
          "output_type": "stream",
          "name": "stdout",
          "text": [
            "1, 2, 5, 10, "
          ]
        }
      ],
      "source": [
        "def frac(a,b):                  # función que calcula la parte fraccionaria\n",
        "  return (a/b) - int(a/b)  \n",
        "\n",
        "def main():\n",
        "    n = 10                      # vamos a calcular los divisores de n\n",
        "    for i in range(1, n+1):\n",
        "        if frac(n, i) < 1e-9:    #ponemos <1e-9 y no ==0 para evitar posibles errores de redondeo al dividir\n",
        "            print(i, end=\", \")\n",
        "\n",
        "main()"
      ]
    },
    {
      "cell_type": "markdown",
      "source": [
        "## Solución método 2\n",
        "Cuando el módulo de dividir dos números es cero quiere decir que la división es exacta."
      ],
      "metadata": {
        "id": "RJ5rUo-qMwBS"
      },
      "id": "RJ5rUo-qMwBS"
    },
    {
      "cell_type": "code",
      "source": [
        "def divisores(n):\n",
        "    for i in range(1, n + 1):\n",
        "        if n % i == 0:\n",
        "            print(i)\n",
        "\n",
        "divisores(10)"
      ],
      "metadata": {
        "id": "5UpJrOyVM0oW",
        "outputId": "76590db7-a70c-4fed-ea48-e3dd8342d809",
        "colab": {
          "base_uri": "https://localhost:8080/"
        }
      },
      "id": "5UpJrOyVM0oW",
      "execution_count": 16,
      "outputs": [
        {
          "output_type": "stream",
          "name": "stdout",
          "text": [
            "1\n",
            "2\n",
            "5\n",
            "10\n"
          ]
        }
      ]
    },
    {
      "cell_type": "markdown",
      "source": [
        "## Solución método 3\n",
        "Utilizando POO."
      ],
      "metadata": {
        "id": "u-dcBWZpNpMf"
      },
      "id": "u-dcBWZpNpMf"
    },
    {
      "cell_type": "code",
      "source": [
        "class Divisores:\n",
        "    def __init__(self, n):\n",
        "        self.n = n\n",
        "\n",
        "    def calcular_divisores(self):\n",
        "        divisores = []\n",
        "        for i in range(1,self.n+1):\n",
        "            if self.n % i == 0:\n",
        "                divisores.append(i)\n",
        "        return divisores\n",
        "\n",
        "d = Divisores(10)\n",
        "print(d.calcular_divisores())"
      ],
      "metadata": {
        "id": "InhEEPN0NtpR",
        "outputId": "86352af6-4beb-4b11-bd61-6027eeffe21b",
        "colab": {
          "base_uri": "https://localhost:8080/"
        }
      },
      "id": "InhEEPN0NtpR",
      "execution_count": 20,
      "outputs": [
        {
          "output_type": "stream",
          "name": "stdout",
          "text": [
            "[1, 2, 5, 10]\n"
          ]
        }
      ]
    }
  ],
  "metadata": {
    "kernelspec": {
      "display_name": "Python 3",
      "language": "python",
      "name": "python3"
    },
    "language_info": {
      "codemirror_mode": {
        "name": "ipython",
        "version": 3
      },
      "file_extension": ".py",
      "mimetype": "text/x-python",
      "name": "python",
      "nbconvert_exporter": "python",
      "pygments_lexer": "ipython3",
      "version": "3.8.8"
    },
    "colab": {
      "name": "caso1.06.ipynb",
      "provenance": [],
      "include_colab_link": true
    }
  },
  "nbformat": 4,
  "nbformat_minor": 5
}