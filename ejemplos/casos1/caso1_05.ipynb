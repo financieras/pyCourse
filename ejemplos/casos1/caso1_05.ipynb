{
  "cells": [
    {
      "cell_type": "markdown",
      "metadata": {
        "id": "view-in-github",
        "colab_type": "text"
      },
      "source": [
        "<a href=\"https://colab.research.google.com/github/financieras/pyCourse/blob/main/ejemplos/casos1/caso1_05.ipynb\" target=\"_parent\"><img src=\"https://colab.research.google.com/assets/colab-badge.svg\" alt=\"Open In Colab\"/></a>"
      ]
    },
    {
      "cell_type": "markdown",
      "id": "6f307ab2",
      "metadata": {
        "id": "6f307ab2"
      },
      "source": [
        "# Reto 1\n",
        "* Pedir al usuario un número entero\n",
        "* Si no es entero seguir pidiendo valores."
      ]
    },
    {
      "cell_type": "markdown",
      "source": [
        "## Solución método 1"
      ],
      "metadata": {
        "id": "NMJ_PY2t708a"
      },
      "id": "NMJ_PY2t708a"
    },
    {
      "cell_type": "code",
      "execution_count": null,
      "id": "63036147",
      "metadata": {
        "id": "63036147"
      },
      "outputs": [],
      "source": [
        "while True:\n",
        "    valor = input(\"Ingrese un número entero: \")\n",
        "    try:\n",
        "        valor = int(valor)\n",
        "        print(valor)\n",
        "        break\n",
        "    except ValueError:\n",
        "        print(\"Debe ingresar un número entero.\\nPruebe otra vez.\")"
      ]
    },
    {
      "cell_type": "markdown",
      "source": [
        "## Solución método 2"
      ],
      "metadata": {
        "id": "t9nntlbX74o8"
      },
      "id": "t9nntlbX74o8"
    },
    {
      "cell_type": "code",
      "source": [
        "while True:\n",
        "    try:\n",
        "        n = int(input(\"Introduce un número entero: \"))\n",
        "        break\n",
        "    except ValueError:\n",
        "        print(\"El valor introducido no es un número entero. Inténtalo de nuevo.\")"
      ],
      "metadata": {
        "id": "G0jEn6Is7xeU"
      },
      "id": "G0jEn6Is7xeU",
      "execution_count": null,
      "outputs": []
    },
    {
      "cell_type": "markdown",
      "id": "86965716",
      "metadata": {
        "id": "86965716"
      },
      "source": [
        "# Reto 2\n",
        "* Dividir dos números.\n",
        "* Si el denominador es cero avisar y pedir otro."
      ]
    },
    {
      "cell_type": "markdown",
      "id": "41917afa",
      "metadata": {
        "id": "41917afa"
      },
      "source": [
        "## Solución método 1"
      ]
    },
    {
      "cell_type": "code",
      "execution_count": null,
      "id": "f84654ae",
      "metadata": {
        "id": "f84654ae"
      },
      "outputs": [],
      "source": [
        "while True:\n",
        "    a = 12        # numerador\n",
        "    try:\n",
        "        b = float(input(\"Ingrese el denominador:\"))\n",
        "        print(a/b)\n",
        "        break\n",
        "    except ZeroDivisionError:\n",
        "        print(\"El denominador no puede ser cero. Pruebe otra vez.\")"
      ]
    },
    {
      "cell_type": "markdown",
      "id": "947cc177",
      "metadata": {
        "id": "947cc177"
      },
      "source": [
        "## Solución método 2"
      ]
    },
    {
      "cell_type": "code",
      "execution_count": null,
      "id": "2851b871",
      "metadata": {
        "id": "2851b871"
      },
      "outputs": [],
      "source": [
        "valido = False           # inicializamos el booleano 'valido' para que sea False y la primera vez se entre al bucle\n",
        "\n",
        "while not valido:        # la primera vez es seguro que entramos al bucle\n",
        "    a = 12\n",
        "    try:\n",
        "        b = float(input(\"Ingrese el denominador:\"))\n",
        "        print(a/b)\n",
        "        valido = True    # cambiamos el valor del booleano para evitar entrar nuevamente al bucle. Con esto salimos\n",
        "    except ZeroDivisionError:\n",
        "        print(\"El denominador no puede ser cero. Pruebe otra vez.\")\n",
        "    except ValueError:   # así evitamos que el denominador sea un str\n",
        "        print(\"El denominador debe ser un número valido. Pruebe otra vez.\")"
      ]
    },
    {
      "cell_type": "markdown",
      "source": [
        "## Solución método 3"
      ],
      "metadata": {
        "id": "RbAz-Lp58gM5"
      },
      "id": "RbAz-Lp58gM5"
    },
    {
      "cell_type": "code",
      "source": [
        "while True:\n",
        "    try:\n",
        "        numerador = int(input(\"Introduce el numerador: \"))\n",
        "        denominador = int(input(\"Introduce el denominador: \"))\n",
        "        resultado = numerador / denominador\n",
        "        break\n",
        "    except ZeroDivisionError:\n",
        "        print(\"El denominador no puede ser cero. Inténtalo de nuevo.\")\n",
        "\n",
        "print(f\"{numerador} / {denominador} = {resultado}\")"
      ],
      "metadata": {
        "id": "9aAHZ_aB8WIy",
        "outputId": "a41ed5b5-52e9-4c3b-e502-36deac40161f",
        "colab": {
          "base_uri": "https://localhost:8080/"
        }
      },
      "id": "9aAHZ_aB8WIy",
      "execution_count": 20,
      "outputs": [
        {
          "output_type": "stream",
          "name": "stdout",
          "text": [
            "Introduce el numerador: 4\n",
            "Introduce el denominador: 0\n",
            "El denominador no puede ser cero. Inténtalo de nuevo.\n",
            "Introduce el numerador: 8\n",
            "Introduce el denominador: 0\n",
            "El denominador no puede ser cero. Inténtalo de nuevo.\n",
            "Introduce el numerador: 13\n",
            "Introduce el denominador: 7\n",
            "13 / 7 = 1.8571428571428572\n"
          ]
        }
      ]
    },
    {
      "cell_type": "markdown",
      "source": [
        "## Solución método 4"
      ],
      "metadata": {
        "id": "J6kmCmKjCTbK"
      },
      "id": "J6kmCmKjCTbK"
    },
    {
      "cell_type": "code",
      "source": [
        "while True:\n",
        "    try:\n",
        "        numerador = int(input(\"Introduce el numerador: \"))\n",
        "        denominador = int(input(\"Introduce el denominador: \"))\n",
        "        if denominador == 0:\n",
        "            raise ValueError(\"El denominador no puede ser cero.\")\n",
        "        resultado = numerador / denominador\n",
        "        break\n",
        "    except ValueError as e:\n",
        "        print(e)\n",
        "        print(\"Inténtalo de nuevo.\")\n",
        "\n",
        "print(f\"{numerador} / {denominador} = {resultado}\")"
      ],
      "metadata": {
        "id": "MT5_ZvdBBtcn",
        "outputId": "1c0d9999-0b7b-4fdf-c45b-ed41e201adda",
        "colab": {
          "base_uri": "https://localhost:8080/"
        }
      },
      "id": "MT5_ZvdBBtcn",
      "execution_count": 21,
      "outputs": [
        {
          "output_type": "stream",
          "name": "stdout",
          "text": [
            "Introduce el numerador: tttt\n",
            "invalid literal for int() with base 10: 'tttt'\n",
            "Inténtalo de nuevo.\n",
            "Introduce el numerador: 8\n",
            "Introduce el denominador: yyyy\n",
            "invalid literal for int() with base 10: 'yyyy'\n",
            "Inténtalo de nuevo.\n",
            "Introduce el numerador: 9\n",
            "Introduce el denominador: 0\n",
            "El denominador no puede ser cero.\n",
            "Inténtalo de nuevo.\n",
            "Introduce el numerador: 17\n",
            "Introduce el denominador: 3\n",
            "17 / 3 = 5.666666666666667\n"
          ]
        }
      ]
    },
    {
      "cell_type": "markdown",
      "metadata": {
        "id": "a419beff"
      },
      "source": [
        "# Reto 3\n",
        "Crear un menú."
      ],
      "id": "a419beff"
    },
    {
      "cell_type": "markdown",
      "metadata": {
        "id": "56aa7793"
      },
      "source": [
        "## Solución método 1\n",
        "Solo un intento, sin ```while```."
      ],
      "id": "56aa7793"
    },
    {
      "cell_type": "code",
      "execution_count": null,
      "metadata": {
        "id": "9167ebe6"
      },
      "outputs": [],
      "source": [
        "menu = '''\n",
        "Calculadora\n",
        "\\t 1. Suma\n",
        "\\t 2. Resta\n",
        "\\t 3. Multiplica\n",
        "\\t 0. Fin\n",
        "'''\n",
        "print(menu)\n",
        "n = input(\"Elija la opción deseada.\")\n",
        "if n == '1':\n",
        "    print(\"Ha elegido Sumar.\")\n",
        "elif n == '2':\n",
        "    print(\"Ha elegido Restar.\")\n",
        "elif n == '3':\n",
        "    print(\"Ha elegido Multiplicar.\")\n",
        "elif n == '0':\n",
        "    print(\"Fin del programa\")\n",
        "else:\n",
        "    print(\"Opción no válida.\")"
      ],
      "id": "9167ebe6"
    },
    {
      "cell_type": "markdown",
      "source": [
        "## Solución método 2\n",
        "Con 'while'."
      ],
      "metadata": {
        "id": "WvH3Pi50DjZ2"
      },
      "id": "WvH3Pi50DjZ2"
    },
    {
      "cell_type": "code",
      "source": [
        "def menu():\n",
        "    print(\"Selecciona una opción:\")\n",
        "    print(\"1 - Opción 1\")\n",
        "    print(\"2 - Opción 2\")\n",
        "    print(\"3 - Opción 3\")\n",
        "    print(\"4 - Salir\")\n",
        "    \n",
        "while True:\n",
        "    menu()\n",
        "    opcion = input(\"Ingresa una opción: \")\n",
        "    \n",
        "    if opcion == \"1\":\n",
        "        print(\"Has seleccionado la opción 1.\")\n",
        "    elif opcion == \"2\":\n",
        "        print(\"Has seleccionado la opción 2.\")\n",
        "    elif opcion == \"3\":\n",
        "        print(\"Has seleccionado la opción 3.\")\n",
        "    elif opcion == \"4\":\n",
        "        break\n",
        "    else:\n",
        "        print(\"Opción inválida. Intenta de nuevo.\")"
      ],
      "metadata": {
        "id": "jZRGuXMKDp7Z"
      },
      "id": "jZRGuXMKDp7Z",
      "execution_count": null,
      "outputs": []
    },
    {
      "cell_type": "markdown",
      "metadata": {
        "id": "6a6ccefb"
      },
      "source": [
        "## Método 2\n",
        "Hasta que se consiga una opción válida, usando ```while```."
      ],
      "id": "6a6ccefb"
    },
    {
      "cell_type": "code",
      "execution_count": null,
      "metadata": {
        "id": "2a7c7d2d"
      },
      "outputs": [],
      "source": [
        "while True:\n",
        "  n = int(input('''Elija el método deseado:\n",
        "     1 → Método 01\n",
        "     2 → Método 02\n",
        "     3 → Método 03\n",
        "     4 → Método 04\n",
        "     5 → Método 05\n",
        "     6 → Método 06\n",
        "     7 → Método 07\n",
        "     8 → Método 08\n",
        "     9 → Método 09\n",
        "    10 → Método 10\n",
        "    11 → Método 11\n",
        "    12 → Método 12\n",
        "    13 → Método 13\n",
        "    14 → Método 14\n",
        "     0 → Fin\n",
        "  '''))\n",
        "\n",
        "  if n==0:\n",
        "    print(\"FIN del programa.\")\n",
        "    break\n",
        "  elif 1 <= n <= 14:\n",
        "    print(f'El método {n} está ejecutándose ... ... ...')\n",
        "    print(f\"Se ha ejecutado el Método {n}\")\n",
        "    print(\"Puede pedir ahora la ejecución de otro método.\\n\")\n",
        "  else:\n",
        "    print('Este número no está admitido entre los disponibles.')\n",
        "    print('Elija un número para seleccionar el método deseado.')"
      ],
      "id": "2a7c7d2d"
    },
    {
      "cell_type": "markdown",
      "metadata": {
        "id": "d3fcb00c"
      },
      "source": [
        "## Método 3\n",
        "Similar al método anterior pero ahora no da error si se introduce un string."
      ],
      "id": "d3fcb00c"
    },
    {
      "cell_type": "code",
      "execution_count": null,
      "metadata": {
        "id": "165b9518"
      },
      "outputs": [],
      "source": [
        "while True:\n",
        "    n_str = input('''Elija el método deseado:\n",
        "     1 → Método 01\n",
        "     2 → Método 02\n",
        "     3 → Método 03\n",
        "     4 → Método 04\n",
        "     5 → Método 05\n",
        "     6 → Método 06\n",
        "     7 → Método 07\n",
        "     8 → Método 08\n",
        "     9 → Método 09\n",
        "    10 → Método 10\n",
        "    11 → Método 11\n",
        "    12 → Método 12\n",
        "    13 → Método 13\n",
        "    14 → Método 14\n",
        "     0 → Fin\n",
        "  ''')\n",
        "    try:\n",
        "        n = int(n_str)\n",
        "        if n == 0:\n",
        "            print(\"FIN del programa.\")\n",
        "            break\n",
        "        elif 1 <= n <= 14:\n",
        "            print(f'El método {n} está ejecutándose ... ... ...')\n",
        "            print(f\"Se ha ejecutado el Método {n}\")\n",
        "            print(\"Puede pedir ahora la ejecución de otro método.\\n\")\n",
        "        else:\n",
        "            print('Este número no está admitido entre los disponibles.')\n",
        "            print('Elija un número para seleccionar el método deseado.')\n",
        "    except:\n",
        "        print(\"Valor no válido. Debe introducir un número entre 0 y 14.\")\n",
        "        print(\"Por favor, inténtelo nuevamente.\")"
      ],
      "id": "165b9518"
    },
    {
      "cell_type": "markdown",
      "metadata": {
        "id": "278acdde"
      },
      "source": [
        "## Método 4\n",
        "Similar al método anterior pero ahora los métodos se ejecutan llamando a una función."
      ],
      "id": "278acdde"
    },
    {
      "cell_type": "code",
      "execution_count": null,
      "metadata": {
        "id": "d0744519"
      },
      "outputs": [],
      "source": [
        "def metodo(num):\n",
        "    return '''Se está ejecutando el método {0}.\n",
        "    ... ... ... ...\n",
        "    Ha finalizado la ejecución del método {0}.\\n\n",
        "    Por favor, elija otra opción para ejecutar el siguiente método.\n",
        "    '''.format(num)\n",
        "\n",
        "while True:\n",
        "    n_str = input('''Elija el método deseado:\n",
        "     1 → Método 01\n",
        "     2 → Método 02\n",
        "     3 → Método 03\n",
        "     4 → Método 04\n",
        "     5 → Método 05\n",
        "     6 → Método 06\n",
        "     7 → Método 07\n",
        "     8 → Método 08\n",
        "     9 → Método 09\n",
        "    10 → Método 10\n",
        "    11 → Método 11\n",
        "    12 → Método 12\n",
        "    13 → Método 13\n",
        "    14 → Método 14\n",
        "     0 → Fin\n",
        "  ''')\n",
        "    try:\n",
        "        n = int(n_str)\n",
        "        if n == 0:\n",
        "            print(\"FIN del programa.\")\n",
        "            break\n",
        "        elif 1 <= n <= 14:\n",
        "            print(metodo(n))\n",
        "        else:\n",
        "            print('Este número no está admitido entre los disponibles.')\n",
        "            print('Elija un número para seleccionar el método deseado.')\n",
        "    except:\n",
        "        print(\"Valor no válido. Debe introducir un número entre 0 y 14.\")\n",
        "        print(\"Por favor, inténtelo nuevamente.\")"
      ],
      "id": "d0744519"
    }
  ],
  "metadata": {
    "kernelspec": {
      "display_name": "Python 3",
      "language": "python",
      "name": "python3"
    },
    "language_info": {
      "codemirror_mode": {
        "name": "ipython",
        "version": 3
      },
      "file_extension": ".py",
      "mimetype": "text/x-python",
      "name": "python",
      "nbconvert_exporter": "python",
      "pygments_lexer": "ipython3",
      "version": "3.8.8"
    },
    "colab": {
      "name": "caso1.05.ipynb",
      "provenance": [],
      "include_colab_link": true
    }
  },
  "nbformat": 4,
  "nbformat_minor": 5
}