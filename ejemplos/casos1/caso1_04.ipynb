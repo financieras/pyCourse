{
  "cells": [
    {
      "cell_type": "markdown",
      "metadata": {
        "id": "view-in-github",
        "colab_type": "text"
      },
      "source": [
        "<a href=\"https://colab.research.google.com/github/financieras/pyCourse/blob/main/ejemplos/casos1/caso1_04.ipynb\" target=\"_parent\"><img src=\"https://colab.research.google.com/assets/colab-badge.svg\" alt=\"Open In Colab\"/></a>"
      ]
    },
    {
      "cell_type": "markdown",
      "id": "9bed1a24",
      "metadata": {
        "id": "9bed1a24"
      },
      "source": [
        "# Reto 1\n",
        "Acumular.\n",
        "\n",
        "Generar una lista con los números del 10 al 20 y sumar los múltiplos de 3."
      ]
    },
    {
      "cell_type": "markdown",
      "source": [
        "## Solución método 1"
      ],
      "metadata": {
        "id": "Bo8FQ4jS5inn"
      },
      "id": "Bo8FQ4jS5inn"
    },
    {
      "cell_type": "code",
      "execution_count": 1,
      "id": "4076e537",
      "metadata": {
        "id": "4076e537",
        "outputId": "efa95f00-0e92-4395-fbf0-17135c783d19",
        "colab": {
          "base_uri": "https://localhost:8080/"
        }
      },
      "outputs": [
        {
          "output_type": "stream",
          "name": "stdout",
          "text": [
            "range(10, 21)\n",
            "<class 'range'>\n",
            "[10, 11, 12, 13, 14, 15, 16, 17, 18, 19, 20]\n",
            "<class 'list'>\n",
            "La suma de los múltiplos de 3 es: 45\n"
          ]
        }
      ],
      "source": [
        "total = 0                         # inicializamos la variable que servirá de acumulador\n",
        "mirango = range(10,21)\n",
        "print(mirango)\n",
        "print(type(mirango))\n",
        "print(list(mirango))\n",
        "print(type(list(mirango)))\n",
        "\n",
        "for i in mirango:\n",
        "    if i%3 == 0:\n",
        "        total += i                # acumulamos los valores que cumplen el criterio\n",
        "                                  # equivale a:   total = total + i\n",
        "        \n",
        "print(\"La suma de los múltiplos de 3 es:\", total)"
      ]
    },
    {
      "cell_type": "markdown",
      "source": [
        "## Solución método 2\n",
        "Empleando una función."
      ],
      "metadata": {
        "id": "1hHwXbgO5oTH"
      },
      "id": "1hHwXbgO5oTH"
    },
    {
      "cell_type": "code",
      "source": [
        "def sumar_multiplos_de_tres(lista):\n",
        "    suma = 0\n",
        "\n",
        "    for num in lista:\n",
        "        if num % 3 == 0:\n",
        "            suma += num\n",
        "\n",
        "    return suma\n",
        "\n",
        "lista = list(range(10, 21))\n",
        "resultado = sumar_multiplos_de_tres(lista)\n",
        "\n",
        "print(resultado)"
      ],
      "metadata": {
        "id": "v1gE36Bk5b5A",
        "outputId": "0a7bd790-cf1a-47e1-c338-dfddb6edf016",
        "colab": {
          "base_uri": "https://localhost:8080/"
        }
      },
      "id": "v1gE36Bk5b5A",
      "execution_count": 2,
      "outputs": [
        {
          "output_type": "stream",
          "name": "stdout",
          "text": [
            "45\n"
          ]
        }
      ]
    },
    {
      "cell_type": "markdown",
      "id": "57a87490",
      "metadata": {
        "id": "57a87490"
      },
      "source": [
        "# Reto 2\n",
        "Media.\n",
        "\n",
        "Generar una lista con los números del 10 al 20 y calcular la media de los múltiplos de 3."
      ]
    },
    {
      "cell_type": "markdown",
      "id": "28d638df",
      "metadata": {
        "id": "28d638df"
      },
      "source": [
        "## Solución método 1"
      ]
    },
    {
      "cell_type": "code",
      "execution_count": 13,
      "id": "5363354a",
      "metadata": {
        "id": "5363354a",
        "outputId": "6ce13fba-0c6b-4999-b4fd-b80c19b30d5c",
        "colab": {
          "base_uri": "https://localhost:8080/"
        }
      },
      "outputs": [
        {
          "output_type": "stream",
          "name": "stdout",
          "text": [
            "La media de los múltiplos de 3 es: 15.0\n"
          ]
        }
      ],
      "source": [
        "contador = 0                # inicializamos el contador\n",
        "total = 0                   # inicializamos el acumulador\n",
        "\n",
        "for i in range(10, 21):\n",
        "    if i % 3 == 0:\n",
        "        contador += 1       # esto es un contador que se incrementa de 1 en 1\n",
        "        total += i          # acumulamos los valores que cumplen el criterio\n",
        "        \n",
        "print(\"La media de los múltiplos de 3 es:\", total/contador)"
      ]
    },
    {
      "cell_type": "markdown",
      "id": "4f92907d",
      "metadata": {
        "id": "4f92907d"
      },
      "source": [
        "## Solución método 2"
      ]
    },
    {
      "cell_type": "code",
      "execution_count": 12,
      "id": "b11afb55",
      "metadata": {
        "id": "b11afb55",
        "outputId": "c944d989-fd35-447e-fec2-f0ac7ab5b364",
        "colab": {
          "base_uri": "https://localhost:8080/"
        }
      },
      "outputs": [
        {
          "output_type": "stream",
          "name": "stdout",
          "text": [
            "La media de los múltiplos de 3 es: 15.0\n"
          ]
        }
      ],
      "source": [
        "total = 0                   # inicializamos el acumulador\n",
        "for i in range(12, 21, 3):\n",
        "    total += i\n",
        "        \n",
        "print(\"La media de los múltiplos de 3 es:\", total/len(range(12, 21, 3)))"
      ]
    },
    {
      "cell_type": "markdown",
      "source": [
        "## Solución método 3\n",
        "Utilizando la función `mean` de la librería `statistics`."
      ],
      "metadata": {
        "id": "nBzVuLzm7twe"
      },
      "id": "nBzVuLzm7twe"
    },
    {
      "cell_type": "code",
      "source": [
        "import statistics\n",
        "\n",
        "lista = list(range(10, 21))\n",
        "multiplos_de_tres = []\n",
        "\n",
        "for num in lista:\n",
        "    if num % 3 == 0:\n",
        "        multiplos_de_tres.append(num)\n",
        "\n",
        "media = statistics.mean(multiplos_de_tres)\n",
        "\n",
        "print(media)"
      ],
      "metadata": {
        "id": "ti3dJvig7IPR",
        "outputId": "7a096b05-200e-4775-f115-0e890d6f5ee5",
        "colab": {
          "base_uri": "https://localhost:8080/"
        }
      },
      "id": "ti3dJvig7IPR",
      "execution_count": 11,
      "outputs": [
        {
          "output_type": "stream",
          "name": "stdout",
          "text": [
            "15\n"
          ]
        }
      ]
    },
    {
      "cell_type": "markdown",
      "source": [
        "## Solución método 4\n",
        "Usando una 'List Comprehension'."
      ],
      "metadata": {
        "id": "JAk9PT2P8Rsm"
      },
      "id": "JAk9PT2P8Rsm"
    },
    {
      "cell_type": "code",
      "source": [
        "lista = list(range(10, 21))\n",
        "multiplos_de_tres = [num for num in lista if num % 3 == 0]\n",
        "\n",
        "media = sum(multiplos_de_tres) / len(multiplos_de_tres)\n",
        "\n",
        "print(media)"
      ],
      "metadata": {
        "id": "xA4HP8gb8Y28",
        "outputId": "2b6dc636-50eb-46bf-f302-6265f05624a5",
        "colab": {
          "base_uri": "https://localhost:8080/"
        }
      },
      "id": "xA4HP8gb8Y28",
      "execution_count": 14,
      "outputs": [
        {
          "output_type": "stream",
          "name": "stdout",
          "text": [
            "15.0\n"
          ]
        }
      ]
    },
    {
      "cell_type": "markdown",
      "id": "d51b2d01",
      "metadata": {
        "id": "d51b2d01"
      },
      "source": [
        "# Reto 3\n",
        "¿Cuántos superan cierto umbral?\n",
        "\n",
        "Generar 10 números aleatorios entre 1 y 10 y decir cuantos son mayores o iguales a 6."
      ]
    },
    {
      "cell_type": "markdown",
      "source": [
        "## Solución método 1"
      ],
      "metadata": {
        "id": "wvsfF36j90I2"
      },
      "id": "wvsfF36j90I2"
    },
    {
      "cell_type": "code",
      "execution_count": 17,
      "id": "88ace71a",
      "metadata": {
        "id": "88ace71a",
        "outputId": "0c256aaf-3434-49c9-e51e-c6cfc1821f95",
        "colab": {
          "base_uri": "https://localhost:8080/"
        }
      },
      "outputs": [
        {
          "output_type": "stream",
          "name": "stdout",
          "text": [
            "2\n",
            "3\n",
            "7\n",
            "10\n",
            "4\n",
            "2\n",
            "3\n",
            "9\n",
            "4\n",
            "7\n",
            "Los mayores o iguales a seis son 4.\n"
          ]
        }
      ],
      "source": [
        "from random import randint      # de la librería random importamos la función randint\n",
        "\n",
        "contador = 0\n",
        "for i in range(10):\n",
        "    n = randint(1,10)\n",
        "    print(n)\n",
        "    if n >= 6:\n",
        "        contador += 1\n",
        "        \n",
        "print(f\"Los mayores o iguales a seis son {contador}.\")"
      ]
    },
    {
      "cell_type": "markdown",
      "source": [
        "## Solución método 2"
      ],
      "metadata": {
        "id": "yuKbEK9m92Vs"
      },
      "id": "yuKbEK9m92Vs"
    },
    {
      "cell_type": "code",
      "source": [
        "import random\n",
        "\n",
        "numeros = [random.randint(1, 10) for _ in range(10)]\n",
        "mayores_o_iguales_a_seis = [num for num in numeros if num >= 6]\n",
        "\n",
        "print(numeros)\n",
        "print(mayores_o_iguales_a_seis)\n",
        "print(\"Son\", len(mayores_o_iguales_a_seis))"
      ],
      "metadata": {
        "id": "pR5CnUDK97Gd",
        "outputId": "ae32d36e-2e37-4d5a-d7e1-93c9837be976",
        "colab": {
          "base_uri": "https://localhost:8080/"
        }
      },
      "id": "pR5CnUDK97Gd",
      "execution_count": 22,
      "outputs": [
        {
          "output_type": "stream",
          "name": "stdout",
          "text": [
            "[4, 2, 4, 10, 6, 6, 2, 5, 10, 3]\n",
            "[10, 6, 6, 10]\n",
            "Son 4\n"
          ]
        }
      ]
    },
    {
      "cell_type": "markdown",
      "source": [
        "## Solución método 3\n",
        "Sumando 1 por cada caso que cumple la condición."
      ],
      "metadata": {
        "id": "vFtrAjGV-2sC"
      },
      "id": "vFtrAjGV-2sC"
    },
    {
      "cell_type": "code",
      "source": [
        "import random\n",
        "\n",
        "numeros = [random.randint(1, 10) for _ in range(10)]\n",
        "mayores = sum(1 for num in numeros if num >= 6)\n",
        "\n",
        "print(numeros)\n",
        "print(\"Son\", mayores)"
      ],
      "metadata": {
        "id": "JUKxR1ad_BAq",
        "outputId": "11f51ae0-12bc-4161-f10f-8f15089f0c31",
        "colab": {
          "base_uri": "https://localhost:8080/"
        }
      },
      "id": "JUKxR1ad_BAq",
      "execution_count": 24,
      "outputs": [
        {
          "output_type": "stream",
          "name": "stdout",
          "text": [
            "[1, 10, 4, 8, 2, 4, 3, 9, 4, 6]\n",
            "Son 4\n"
          ]
        }
      ]
    },
    {
      "cell_type": "markdown",
      "source": [
        "# Reto 4\n",
        "* Pedir al usuario números enteros y seguir pidiendo hasta que introduzca un cero.\n",
        "* Ir imprimiendo los dobles de los numeros introducidos."
      ],
      "metadata": {
        "id": "a8OaFeB4V9-x"
      },
      "id": "a8OaFeB4V9-x"
    },
    {
      "cell_type": "markdown",
      "source": [
        "## Solución método 1\n",
        "Duplicando el `input`."
      ],
      "metadata": {
        "id": "XmE2HBTTXgOI"
      },
      "id": "XmE2HBTTXgOI"
    },
    {
      "cell_type": "code",
      "source": [
        "n = int(input(\"Indique un número entero (0 para salir): \"))\n",
        "\n",
        "while n != 0:\n",
        "    print(f\"El doble de {n} es {2*n}.\")\n",
        "    n = int(input(\"Indique un número entero (0 para salir): \"))\n",
        "\n",
        "print(\"Fin del programa, ya que se introdujo un cero.\")"
      ],
      "metadata": {
        "id": "sinRbcIMWOIi",
        "outputId": "f73496c7-bf06-425e-9693-7f16986839c8",
        "colab": {
          "base_uri": "https://localhost:8080/"
        }
      },
      "id": "sinRbcIMWOIi",
      "execution_count": 29,
      "outputs": [
        {
          "output_type": "stream",
          "name": "stdout",
          "text": [
            "Indique un número entero (0 para salir): -6\n",
            "El doble de -6 es -12.\n",
            "Indique un número entero (0 para salir): 0\n",
            "Fin del programa, ya que se introdujo un cero.\n"
          ]
        }
      ]
    },
    {
      "cell_type": "markdown",
      "source": [
        "## Solución método 2"
      ],
      "metadata": {
        "id": "9J8WtUFHXw2y"
      },
      "id": "9J8WtUFHXw2y"
    },
    {
      "cell_type": "code",
      "source": [
        "while True:\n",
        "    n = int(input(\"Indique un número entero (0 para salir): \"))\n",
        "    if n == 0:\n",
        "        break\n",
        "    else:\n",
        "        print(f\"El doble de {n} es {2*n}.\")\n",
        "    \n",
        "print(\"Fin del programa, ya que se introdujo un cero.\")"
      ],
      "metadata": {
        "id": "QGAc0JVfY0t9",
        "outputId": "61116f22-91fd-4cb6-e865-3a3098606701",
        "colab": {
          "base_uri": "https://localhost:8080/"
        }
      },
      "id": "QGAc0JVfY0t9",
      "execution_count": 30,
      "outputs": [
        {
          "output_type": "stream",
          "name": "stdout",
          "text": [
            "Indique un número entero (0 para salir): -7\n",
            "El doble de -7 es -14.\n",
            "Indique un número entero (0 para salir): 0\n",
            "Fin del programa, ya que se introdujo un cero.\n"
          ]
        }
      ]
    },
    {
      "cell_type": "markdown",
      "source": [
        "## Solución método 3\n",
        "Si usar `else`."
      ],
      "metadata": {
        "id": "fuhrS4pzZiaS"
      },
      "id": "fuhrS4pzZiaS"
    },
    {
      "cell_type": "code",
      "source": [
        "while True:\n",
        "    n = int(input(\"Indique un número entero (0 para salir): \"))\n",
        "    if n == 0:\n",
        "        break\n",
        "    print(f\"El doble de {n} es {2*n}.\")\n",
        "    \n",
        "print(\"Fin del programa, ya que se introdujo un cero.\")"
      ],
      "metadata": {
        "id": "xwca07L1Zpxl",
        "outputId": "6b211d3f-0c84-4306-f061-f8761a9ca334",
        "colab": {
          "base_uri": "https://localhost:8080/"
        }
      },
      "id": "xwca07L1Zpxl",
      "execution_count": 31,
      "outputs": [
        {
          "output_type": "stream",
          "name": "stdout",
          "text": [
            "Indique un número entero (0 para salir): -8\n",
            "El doble de -8 es -16.\n",
            "Indique un número entero (0 para salir): 0\n",
            "Fin del programa, ya que se introdujo un cero.\n"
          ]
        }
      ]
    }
  ],
  "metadata": {
    "kernelspec": {
      "display_name": "Python 3",
      "language": "python",
      "name": "python3"
    },
    "language_info": {
      "codemirror_mode": {
        "name": "ipython",
        "version": 3
      },
      "file_extension": ".py",
      "mimetype": "text/x-python",
      "name": "python",
      "nbconvert_exporter": "python",
      "pygments_lexer": "ipython3",
      "version": "3.8.8"
    },
    "colab": {
      "name": "caso1.04.ipynb",
      "provenance": [],
      "include_colab_link": true
    }
  },
  "nbformat": 4,
  "nbformat_minor": 5
}