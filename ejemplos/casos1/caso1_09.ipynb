{
  "cells": [
    {
      "cell_type": "markdown",
      "metadata": {
        "id": "view-in-github",
        "colab_type": "text"
      },
      "source": [
        "<a href=\"https://colab.research.google.com/github/financieras/pyCourse/blob/main/ejemplos/casos1/caso1_09.ipynb\" target=\"_parent\"><img src=\"https://colab.research.google.com/assets/colab-badge.svg\" alt=\"Open In Colab\"/></a>"
      ]
    },
    {
      "cell_type": "markdown",
      "id": "680a34ef",
      "metadata": {
        "id": "680a34ef"
      },
      "source": [
        "# Reto 1\n",
        "Crear una lista con todos los caracteres que contiene una frase dada."
      ]
    },
    {
      "cell_type": "markdown",
      "source": [
        "## Solución método 1\n",
        "* Filtrando los caracteres para evitar repeticiones.\n",
        "* Con `sorted(lista)` se puede imprimir la lista ordenada pero la lista internamente no cambia"
      ],
      "metadata": {
        "id": "sYrhM_rR47Oz"
      },
      "id": "sYrhM_rR47Oz"
    },
    {
      "cell_type": "code",
      "execution_count": 8,
      "id": "6d713a1b",
      "metadata": {
        "id": "6d713a1b",
        "outputId": "2612f16d-7764-409e-fc76-90a3df9cfe76",
        "colab": {
          "base_uri": "https://localhost:8080/"
        }
      },
      "outputs": [
        {
          "output_type": "stream",
          "name": "stdout",
          "text": [
            "['H', 'o', 'l', 'a', ' ', 'm', 'u', 'n', 'd']\n",
            "[' ', 'H', 'a', 'd', 'l', 'm', 'n', 'o', 'u']\n"
          ]
        },
        {
          "output_type": "execute_result",
          "data": {
            "text/plain": [
              "['H', 'o', 'l', 'a', ' ', 'm', 'u', 'n', 'd']"
            ]
          },
          "metadata": {},
          "execution_count": 8
        }
      ],
      "source": [
        "frase = \"Hola mundo\"\n",
        "\n",
        "lista = []                      # inicializamos una lista vacía\n",
        "for caracter in frase:          # recorremos todos los caracteres de la frase\n",
        "    if caracter not in lista:   # si el carácter no está en la lista\n",
        "        lista.append(caracter)  # añadimos el carácter a la lista\n",
        "\n",
        "print(lista)\n",
        "print(sorted(lista))            # imprimimos la lista ordenada\n",
        "lista                           # la lista no se ha ordenado"
      ]
    },
    {
      "cell_type": "markdown",
      "source": [
        "## Solución método 2\n",
        "Con caracteres repetidos."
      ],
      "metadata": {
        "id": "doSQ7yiU5Anj"
      },
      "id": "doSQ7yiU5Anj"
    },
    {
      "cell_type": "code",
      "source": [
        "frase = \"Hola mundo\"\n",
        "lista_caracteres = list(frase)\n",
        "print(lista_caracteres)"
      ],
      "metadata": {
        "id": "ZJ3ABAS74fYc",
        "outputId": "9f2586d0-f631-46a6-ab98-53a5fef5a7ab",
        "colab": {
          "base_uri": "https://localhost:8080/"
        }
      },
      "id": "ZJ3ABAS74fYc",
      "execution_count": 6,
      "outputs": [
        {
          "output_type": "stream",
          "name": "stdout",
          "text": [
            "['H', 'o', 'l', 'a', ' ', 'm', 'u', 'n', 'd', 'o']\n"
          ]
        }
      ]
    },
    {
      "cell_type": "markdown",
      "source": [
        "## Solución método 3\n",
        "* Sin caracteres repetidos.\n",
        "* `Set` convierte los caracteres en un conjunto\n",
        "* Los conjuntos se caracterizan por no contener repetidos y no respetar el orden\n",
        "* Con `list` convertimos el conjunto en una lista"
      ],
      "metadata": {
        "id": "PBITKvNQ5LRf"
      },
      "id": "PBITKvNQ5LRf"
    },
    {
      "cell_type": "code",
      "source": [
        "frase = \"Hola mundo\"\n",
        "lista_caracteres_unicos = list(set(frase))\n",
        "print(lista_caracteres_unicos)"
      ],
      "metadata": {
        "id": "I2udlUvC5PXj",
        "outputId": "c6de8d94-9eef-4f0f-8411-2f6ea59a8204",
        "colab": {
          "base_uri": "https://localhost:8080/"
        }
      },
      "id": "I2udlUvC5PXj",
      "execution_count": 7,
      "outputs": [
        {
          "output_type": "stream",
          "name": "stdout",
          "text": [
            "['H', 'l', 'd', 'u', 'o', 'm', 'a', 'n', ' ']\n"
          ]
        }
      ]
    },
    {
      "cell_type": "markdown",
      "id": "57ef77b0",
      "metadata": {
        "id": "57ef77b0"
      },
      "source": [
        "# Reto 2\n",
        "Dado un número entero largo contar cuantas veces aparece cada dígito."
      ]
    },
    {
      "cell_type": "markdown",
      "source": [
        "## Solución método 1"
      ],
      "metadata": {
        "id": "nvSUiTPJ7faj"
      },
      "id": "nvSUiTPJ7faj"
    },
    {
      "cell_type": "code",
      "execution_count": null,
      "id": "abff7dfa",
      "metadata": {
        "id": "abff7dfa",
        "outputId": "0a2c999f-6df5-4f5b-8609-2a6981d42fb8",
        "colab": {
          "base_uri": "https://localhost:8080/"
        }
      },
      "outputs": [
        {
          "output_type": "stream",
          "name": "stdout",
          "text": [
            "0 → 8\n",
            "1 → 8\n",
            "2 → 12\n",
            "3 → 11\n",
            "4 → 10\n",
            "5 → 8\n",
            "6 → 9\n",
            "7 → 8\n",
            "8 → 12\n",
            "9 → 14\n"
          ]
        }
      ],
      "source": [
        "# Los primeros 100 decimales de pi\n",
        "numero = \"1415926535897932384626433832795028841971693993751058209749445923078164062862089986280348253421170679\"\n",
        "\n",
        "for i in range(10):\n",
        "    print(i, '→', numero.count(str(i)))\n",
        "\n"
      ]
    },
    {
      "cell_type": "markdown",
      "source": [
        "## Solución método 2"
      ],
      "metadata": {
        "id": "WrjRG31w7iEL"
      },
      "id": "WrjRG31w7iEL"
    },
    {
      "cell_type": "code",
      "source": [
        "numero = \"1415926535897932384626433832795028841971693993751058209749445923078164062862089986280348253421170679\"\n",
        "\n",
        "for digito in range(10):\n",
        "    cantidad = numero.count(str(digito))\n",
        "    print(f\"{digito} → {cantidad}\")"
      ],
      "metadata": {
        "id": "AFzkjMZM7jye"
      },
      "id": "AFzkjMZM7jye",
      "execution_count": null,
      "outputs": []
    },
    {
      "cell_type": "markdown",
      "source": [
        "## Solución método 3\n",
        "* Sin usar `count`\n",
        "* La función `get()` se utiliza para obtener el valor de una clave en un diccionario.\n",
        "* dict.get(key, default=None)\n",
        "    - clave: recorre el diccionario para encontrar la clave.\n",
        "    - por defecto: si no existe la clave especificada, devolver el valor predeterminado.\n",
        "* En este caso, estamos utilizando `get()` para obtener la cantidad de veces que aparece cada dígito en el diccionario frecuencias.\n",
        "* Si la clave (es decir, el dígito) no está en el diccionario, `get()` devuelve 0."
      ],
      "metadata": {
        "id": "VXAJfDz97xNJ"
      },
      "id": "VXAJfDz97xNJ"
    },
    {
      "cell_type": "code",
      "source": [
        "numero = \"1415926535897932384626433832795028841971693993751058209749445923078164062862089986280348253421170679\"\n",
        "\n",
        "frecuencias = {}                    # creamos un diccionario vacío\n",
        "\n",
        "for digito in numero:\n",
        "    if digito in frecuencias:\n",
        "        frecuencias[digito] += 1    # si el dígio ya existía se incrementa su frecuencia\n",
        "    else:\n",
        "        frecuencias[digito] = 1     # si el dígito es nuevo se crea con frecuencia 1\n",
        "\n",
        "for digito in range(10):            # sabemos que los dígitos van del 0 al 9\n",
        "    cantidad = frecuencias.get(str(digito), 0)\n",
        "    print(f\"{digito} → {cantidad}\")"
      ],
      "metadata": {
        "id": "TYRB5hKc72bd",
        "outputId": "7e88378b-21c8-4b3a-a5f8-f201bd8e4593",
        "colab": {
          "base_uri": "https://localhost:8080/"
        }
      },
      "id": "TYRB5hKc72bd",
      "execution_count": 9,
      "outputs": [
        {
          "output_type": "stream",
          "name": "stdout",
          "text": [
            "0 → 8\n",
            "1 → 8\n",
            "2 → 12\n",
            "3 → 11\n",
            "4 → 10\n",
            "5 → 8\n",
            "6 → 9\n",
            "7 → 8\n",
            "8 → 12\n",
            "9 → 14\n"
          ]
        }
      ]
    },
    {
      "cell_type": "markdown",
      "source": [
        "# Reto 3\n",
        "Contar cuántas veces aparece la palabra *father* en la novela Frankenstein.\n",
        "\n",
        "* El libro pertenece al proyecto [Gutenberg](https://www.gutenberg.org)\n",
        "* Está en:\n",
        " - https://github.com/financieras/pyCourse/blob/main/ejemplos/frankenstein.txt"
      ],
      "metadata": {
        "id": "QGhVZ1K0eW7n"
      },
      "id": "QGhVZ1K0eW7n"
    },
    {
      "cell_type": "markdown",
      "source": [
        "## Solución método 1\n",
        "1. Para disponer del archivo frankenstein.txt clonamos el proyecto de GitHub donde se encuentra este curso\n",
        "2. Nos vamos hasta el directorio ejemplos que es donde se encuentra el archivo frankenstein.txt \n",
        "3. Abrimos el archivo en modo lectura\n",
        "4. Contamos el número de veces que aparece la palabra 'father'\n",
        "5. Cerramos el archivo con `close`\n",
        "6. Imprimimos la frecuencia indicando el número de veces que aparece la palabra en el \n",
        "\n",
        "**¿Por qué debemos cerrar con `close` los archivos?**  \n",
        "1. Es importante cerrar los archivos en Python porque los archivos son recursos limitados administrados por el sistema operativo.\n",
        "2. Asegurarse de que los archivos se cierren después de su uso protegerá contra problemas difíciles de depurar como quedarse sin manejadores de archivos o experimentar datos corruptos.\n",
        "3. Aunque Python cierra automáticamente un archivo si el objeto de referencia del archivo se asigna a otro archivo, es una práctica estándar cerrar un archivo abierto ya que un archivo cerrado reduce el riesgo de ser modificado o leído sin autorización."
      ],
      "metadata": {
        "id": "xwtmUatDGBDz"
      },
      "id": "xwtmUatDGBDz"
    },
    {
      "cell_type": "code",
      "source": [
        "# así efectuamos el clonado de nuestro repositorio que está en GitHub\n",
        "!git clone https://github.com/financieras/pyCourse.git"
      ],
      "metadata": {
        "id": "G8IEIsSOhFpE",
        "outputId": "825ff766-a76d-40ae-9dd9-195eebeccbde",
        "colab": {
          "base_uri": "https://localhost:8080/"
        }
      },
      "id": "G8IEIsSOhFpE",
      "execution_count": 14,
      "outputs": [
        {
          "output_type": "stream",
          "name": "stdout",
          "text": [
            "Cloning into 'pyCourse'...\n",
            "remote: Enumerating objects: 3903, done.\u001b[K\n",
            "remote: Counting objects: 100% (628/628), done.\u001b[K\n",
            "remote: Compressing objects: 100% (249/249), done.\u001b[K\n",
            "remote: Total 3903 (delta 453), reused 521 (delta 379), pack-reused 3275\u001b[K\n",
            "Receiving objects: 100% (3903/3903), 4.73 MiB | 13.92 MiB/s, done.\n",
            "Resolving deltas: 100% (2814/2814), done.\n"
          ]
        }
      ]
    },
    {
      "cell_type": "code",
      "source": [
        "# nos vamos hasta el directorio ejemplos\n",
        "%cd pyCourse/ejemplos"
      ],
      "metadata": {
        "id": "pI_AvBQehKDL",
        "outputId": "d457cd54-28a8-4263-a1e3-c33484766534",
        "colab": {
          "base_uri": "https://localhost:8080/"
        }
      },
      "id": "pI_AvBQehKDL",
      "execution_count": 15,
      "outputs": [
        {
          "output_type": "stream",
          "name": "stdout",
          "text": [
            "/content/pyCourse/ejemplos\n"
          ]
        }
      ]
    },
    {
      "cell_type": "code",
      "source": [
        "palabra = 'father'\n",
        "f = open(\"frankenstein.txt\")  # abrimos el archivo y lo asignamos a la variable f (file)\n",
        "libro = f.read()              # leemos el fichero\n",
        "n = libro.count(palabra)      # contamos la palabra, es case sensitive\n",
        "f.close()                     # cerramos el fichero\n",
        "print(f\"En la novela la palabra {palabra} aparece {n} veces.\")"
      ],
      "metadata": {
        "id": "cTVyQ_Iufnxk",
        "outputId": "c778744e-a73e-4bde-d02f-0d9507073583",
        "colab": {
          "base_uri": "https://localhost:8080/"
        }
      },
      "id": "cTVyQ_Iufnxk",
      "execution_count": 16,
      "outputs": [
        {
          "output_type": "stream",
          "name": "stdout",
          "text": [
            "En la novela la palabra father aparece 134 veces.\n"
          ]
        }
      ]
    },
    {
      "cell_type": "markdown",
      "source": [
        "## Solución método 2\n",
        "1. Abrimos el archivo de texto de Frankenstein\n",
        "2. Leemos su contenido en una cadena. \n",
        "3. Conmtamos la cantidad de veces que aparece la palabra “father” en la cadena\n",
        "4. Finalmente se imprime\n",
        "\n",
        "\n",
        "* Veamos con detalle la primera línea de código:\n",
        "     - Esta línea abre el archivo de texto de Frankenstein en modo de lectura y lo asigna a la variable file.\n",
        "     - La cláusula `with` se utiliza para garantizar que el archivo se cierre correctamente después de que se complete la lectura.\n",
        "     - Esto es importante para evitar problemas con el manejo de archivos y para liberar recursos del sistema.\n",
        "    - La letra `r` en la segunda parte de la línea indica que el archivo se abrirá en modo de lectura.\n",
        "    - Si se quisiera escribir en modo escritura se usaría `w`"
      ],
      "metadata": {
        "id": "cXKHUG1RF-0N"
      },
      "id": "cXKHUG1RF-0N"
    },
    {
      "cell_type": "code",
      "source": [
        "with open('frankenstein.txt', 'r') as file:\n",
        "    text = file.read()\n",
        "    count = text.count('father')\n",
        "    print(count)"
      ],
      "metadata": {
        "id": "96rWjFFNF2jB",
        "outputId": "93a9be5b-bcfe-42d9-b254-767ca74c09dd",
        "colab": {
          "base_uri": "https://localhost:8080/"
        }
      },
      "id": "96rWjFFNF2jB",
      "execution_count": 18,
      "outputs": [
        {
          "output_type": "stream",
          "name": "stdout",
          "text": [
            "134\n"
          ]
        }
      ]
    },
    {
      "cell_type": "markdown",
      "source": [
        "## Solución método 3\n",
        "Este código lee el archivo frankenstein.txt desde una dirección URL y cuenta cuántas veces aparece la palabra “father” en el archivo.\n",
        "1. Importa la biblioteca `urllib.request`\n",
        "2. Define la variable `url` como la dirección URL del archivo frankenstein.txt.\n",
        "3. Abre la URL utilizando la función `urllib.request.urlopen()` y almacena el resultado en la variable `response`.\n",
        "4. Lee los datos de la respuesta utilizando la función `response.read()` y almacena el resultado en la variable data.\n",
        "5. Decodifica los datos utilizando el formato UTF-8 utilizando la función `data.decode('utf-8')` y almacena el resultado en la variable `text`.\n",
        "6. Cuenta el número de veces que aparece la palabra “father” en el archivo utilizando la función `text.count('father')` y almacena el resultado en la variable `count`.\n",
        "7. Imprime el valor de `count`."
      ],
      "metadata": {
        "id": "2g2DhEIrKO7j"
      },
      "id": "2g2DhEIrKO7j"
    },
    {
      "cell_type": "code",
      "source": [
        "import urllib.request\n",
        "\n",
        "url = 'https://github.com/financieras/pyCourse/blob/main/ejemplos/frankenstein.txt'\n",
        "response = urllib.request.urlopen(url)\n",
        "data = response.read()\n",
        "text = data.decode('utf-8')\n",
        "count = text.count('father')\n",
        "print(count)"
      ],
      "metadata": {
        "id": "oDAjLAYtJ6ph",
        "outputId": "c310e838-910f-4e3b-ed6b-541655b63ab0",
        "colab": {
          "base_uri": "https://localhost:8080/"
        }
      },
      "id": "oDAjLAYtJ6ph",
      "execution_count": 1,
      "outputs": [
        {
          "output_type": "stream",
          "name": "stdout",
          "text": [
            "134\n"
          ]
        }
      ]
    }
  ],
  "metadata": {
    "kernelspec": {
      "display_name": "Python 3",
      "language": "python",
      "name": "python3"
    },
    "language_info": {
      "codemirror_mode": {
        "name": "ipython",
        "version": 3
      },
      "file_extension": ".py",
      "mimetype": "text/x-python",
      "name": "python",
      "nbconvert_exporter": "python",
      "pygments_lexer": "ipython3",
      "version": "3.8.8"
    },
    "colab": {
      "name": "caso1.09.ipynb",
      "provenance": [],
      "include_colab_link": true
    }
  },
  "nbformat": 4,
  "nbformat_minor": 5
}