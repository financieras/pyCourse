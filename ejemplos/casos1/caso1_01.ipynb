{
  "nbformat": 4,
  "nbformat_minor": 0,
  "metadata": {
    "colab": {
      "name": "caso1.01.ipynb",
      "provenance": [],
      "include_colab_link": true
    },
    "kernelspec": {
      "name": "python3",
      "display_name": "Python 3"
    },
    "language_info": {
      "name": "python"
    }
  },
  "cells": [
    {
      "cell_type": "markdown",
      "metadata": {
        "id": "view-in-github",
        "colab_type": "text"
      },
      "source": [
        "<a href=\"https://colab.research.google.com/github/financieras/pyCourse/blob/main/ejemplos/casos1/caso1_01.ipynb\" target=\"_parent\"><img src=\"https://colab.research.google.com/assets/colab-badge.svg\" alt=\"Open In Colab\"/></a>"
      ]
    },
    {
      "cell_type": "markdown",
      "metadata": {
        "id": "da1a5cab"
      },
      "source": [
        "# Reto 1\n",
        "Imprimir los números entre -5 y 5."
      ]
    },
    {
      "cell_type": "markdown",
      "source": [
        "## Solución\n",
        "* Creamos un bucle `for` que recorre los números entre -5 y +5.  \n",
        "* En cada iteración se va imprimiendo el valor de la variable auxiliar ```i```"
      ],
      "metadata": {
        "id": "PIblwDO4yzrK"
      }
    },
    {
      "cell_type": "code",
      "execution_count": null,
      "metadata": {
        "id": "5eadc27f"
      },
      "outputs": [],
      "source": [
        "for i in range(-5,6):\n",
        "    print(i)"
      ]
    },
    {
      "cell_type": "markdown",
      "metadata": {
        "id": "db647a0b"
      },
      "source": [
        "# Reto 2\n",
        "Elevar 5 al cubo."
      ]
    },
    {
      "cell_type": "markdown",
      "metadata": {
        "id": "c37ba486"
      },
      "source": [
        "## Solución Método 1\n",
        "Usando el operador ```**``` de potencias."
      ]
    },
    {
      "cell_type": "code",
      "execution_count": null,
      "metadata": {
        "id": "1b7c4c0a"
      },
      "outputs": [],
      "source": [
        "print(5**3)"
      ]
    },
    {
      "cell_type": "markdown",
      "metadata": {
        "id": "9d22b0ca"
      },
      "source": [
        "## Solución Método 2\n",
        "* Otra forma de usar potencias\n",
        "* Usando la librería `math` y la función `pow`"
      ]
    },
    {
      "cell_type": "code",
      "execution_count": null,
      "metadata": {
        "id": "46de504e"
      },
      "outputs": [],
      "source": [
        "from math import pow\n",
        "print(pow(5,3))"
      ]
    },
    {
      "cell_type": "markdown",
      "metadata": {
        "id": "72f4beff"
      },
      "source": [
        "# Reto 3\n",
        "Usando funciones, generar los dobles de los números entre 5 y 10."
      ]
    },
    {
      "cell_type": "markdown",
      "source": [
        "## Solución\n",
        "Podemos definir la función `doble` que toma un número como argumento y devuelve su doble.  \n",
        "Luego, podemos usar un bucle `for` que recorre los números del 5 al 10 e imprime el doble de cada número en cada iteración."
      ],
      "metadata": {
        "id": "XVemNbp9xZUD"
      }
    },
    {
      "cell_type": "code",
      "execution_count": null,
      "metadata": {
        "id": "1a74e3fd"
      },
      "outputs": [],
      "source": [
        "def doble(n):\n",
        "    return 2*n\n",
        "\n",
        "for i in range(5, 11):\n",
        "    print(doble(i))        # invocamos la función con el argumento que toca"
      ]
    },
    {
      "cell_type": "markdown",
      "source": [
        "# Reto 4\n",
        "* Listar dos columnas de números enteros alinedos a la derecha\n",
        "* La primera con los números del 0 al 100 en saltos de 5 en 5\n",
        "* La segunda columna contiene números aleatorios enteros entre 1 y un millón\n",
        "* En ambas columnas hay el mismo número de filas"
      ],
      "metadata": {
        "id": "v120EdNBQUtA"
      }
    },
    {
      "cell_type": "markdown",
      "source": [
        "## Solución\n",
        "- La expresión `{i:3d}` especifica que el número `i` debe imprimirse con una anchura de campo de 3 caracteres y alineado a la derecha.  \n",
        "- La expresión '{random.randint(1,1000000):6d}' especifica que el número aleatorio generado debe imprimirse con una anchura de campo de 6 caracteres y alineado a la derecha."
      ],
      "metadata": {
        "id": "Gs1DIiWwyWAZ"
      }
    },
    {
      "cell_type": "code",
      "source": [
        "import random\n",
        "for i in range(0,101,5):\n",
        "    print(f\"{i:3d}  →  {random.randint(1,1000000):6d}\")\n",
        "    # alineación a la derecha de números enteros"
      ],
      "metadata": {
        "id": "OyyhcLW-RlrJ"
      },
      "execution_count": null,
      "outputs": []
    }
  ]
}