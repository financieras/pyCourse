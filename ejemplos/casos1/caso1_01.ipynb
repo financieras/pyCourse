{
  "nbformat": 4,
  "nbformat_minor": 0,
  "metadata": {
    "colab": {
      "name": "caso1.01.ipynb",
      "provenance": [],
      "include_colab_link": true
    },
    "kernelspec": {
      "name": "python3",
      "display_name": "Python 3"
    },
    "language_info": {
      "name": "python"
    }
  },
  "cells": [
    {
      "cell_type": "markdown",
      "metadata": {
        "id": "view-in-github",
        "colab_type": "text"
      },
      "source": [
        "<a href=\"https://colab.research.google.com/github/financieras/pyCourse/blob/main/ejemplos/casos1/caso1_01.ipynb\" target=\"_parent\"><img src=\"https://colab.research.google.com/assets/colab-badge.svg\" alt=\"Open In Colab\"/></a>"
      ]
    },
    {
      "cell_type": "markdown",
      "metadata": {
        "id": "da1a5cab"
      },
      "source": [
        "# Reto 1\n",
        "Imprimir los números entre -5 y 5."
      ]
    },
    {
      "cell_type": "markdown",
      "source": [
        "## Solución método 1\n",
        "* Creamos un bucle `for` que recorre los números entre -5 y +5.  \n",
        "* En cada iteración se va imprimiendo el valor de la variable auxiliar ```i```"
      ],
      "metadata": {
        "id": "PIblwDO4yzrK"
      }
    },
    {
      "cell_type": "code",
      "execution_count": null,
      "metadata": {
        "id": "5eadc27f",
        "outputId": "f42a3cd0-1382-40bd-f2e9-b40b1250db93",
        "colab": {
          "base_uri": "https://localhost:8080/"
        }
      },
      "outputs": [
        {
          "output_type": "stream",
          "name": "stdout",
          "text": [
            "-5\n",
            "-4\n",
            "-3\n",
            "-2\n",
            "-1\n",
            "0\n",
            "1\n",
            "2\n",
            "3\n",
            "4\n",
            "5\n"
          ]
        }
      ],
      "source": [
        "for i in range(-5,6):\n",
        "    print(i)"
      ]
    },
    {
      "cell_type": "markdown",
      "source": [
        "## Solución método 2\n",
        "Podemos usar un bucle `while` en lugar de un bucle `for`"
      ],
      "metadata": {
        "id": "tW4udShH-0iv"
      }
    },
    {
      "cell_type": "code",
      "source": [
        "i = -5\n",
        "while i <= 5:\n",
        "    print(i)\n",
        "    i += 1"
      ],
      "metadata": {
        "id": "fVAIEBi8-8rq",
        "outputId": "be0e9579-5d7b-4488-e761-8e65826eafaf",
        "colab": {
          "base_uri": "https://localhost:8080/"
        }
      },
      "execution_count": null,
      "outputs": [
        {
          "output_type": "stream",
          "name": "stdout",
          "text": [
            "-5\n",
            "-4\n",
            "-3\n",
            "-2\n",
            "-1\n",
            "0\n",
            "1\n",
            "2\n",
            "3\n",
            "4\n",
            "5\n"
          ]
        }
      ]
    },
    {
      "cell_type": "markdown",
      "source": [
        "## Solución método 3\n",
        "Haciendo una función."
      ],
      "metadata": {
        "id": "m66sstf-Jjzd"
      }
    },
    {
      "cell_type": "code",
      "source": [
        "def imprimir_numeros():\n",
        "    for i in range(-5, 6):\n",
        "        print(i)\n",
        "\n",
        "imprimir_numeros()"
      ],
      "metadata": {
        "colab": {
          "base_uri": "https://localhost:8080/"
        },
        "id": "ctRc9p1TJp7C",
        "outputId": "2e35e821-c9da-4e65-f477-50f34c909560"
      },
      "execution_count": 39,
      "outputs": [
        {
          "output_type": "stream",
          "name": "stdout",
          "text": [
            "-5\n",
            "-4\n",
            "-3\n",
            "-2\n",
            "-1\n",
            "0\n",
            "1\n",
            "2\n",
            "3\n",
            "4\n",
            "5\n"
          ]
        }
      ]
    },
    {
      "cell_type": "markdown",
      "source": [
        "## Solución método 4\n",
        "* Este método define una función que toma dos argumentos: `inicio` y `fin`.\n",
        "* La función utiliza un bucle `for` para imprimir los números entre el `inicio` y el `fin`.\n",
        "* En este caso, se llama a la función con los argumentos -5 y 5."
      ],
      "metadata": {
        "id": "dJgwjKBDdKZ0"
      }
    },
    {
      "cell_type": "code",
      "source": [
        "def imprimir_numeros(inicio, fin):\n",
        "    for i in range(inicio, fin + 1):\n",
        "        print(i)\n",
        "\n",
        "imprimir_numeros(-5, 5)"
      ],
      "metadata": {
        "id": "tdvjF8RtdzAi",
        "outputId": "8252cbdc-8018-4290-b3c7-6ba79811cb81",
        "colab": {
          "base_uri": "https://localhost:8080/"
        }
      },
      "execution_count": 40,
      "outputs": [
        {
          "output_type": "stream",
          "name": "stdout",
          "text": [
            "-5\n",
            "-4\n",
            "-3\n",
            "-2\n",
            "-1\n",
            "0\n",
            "1\n",
            "2\n",
            "3\n",
            "4\n",
            "5\n"
          ]
        }
      ]
    },
    {
      "cell_type": "markdown",
      "source": [
        "## Solución método 5\n",
        "Utilizando Programación Orientada a Objetos (POO), en inglés Object-Oriented Programming (OOP)."
      ],
      "metadata": {
        "id": "E3me3mvPJqTk"
      }
    },
    {
      "cell_type": "code",
      "source": [
        "class Numeros:\n",
        "    def __init__(self):\n",
        "        self.numeros = range(-5, 6)\n",
        "\n",
        "    def imprimir_numeros(self):\n",
        "        for numero in self.numeros:\n",
        "            print(numero)\n",
        "\n",
        "num = Numeros()\n",
        "num.imprimir_numeros()"
      ],
      "metadata": {
        "colab": {
          "base_uri": "https://localhost:8080/"
        },
        "id": "O0TlSOBpJ_6A",
        "outputId": "3e3c9726-a72d-4b4e-8585-da82da78fdb3"
      },
      "execution_count": 5,
      "outputs": [
        {
          "output_type": "stream",
          "name": "stdout",
          "text": [
            "-5\n",
            "-4\n",
            "-3\n",
            "-2\n",
            "-1\n",
            "0\n",
            "1\n",
            "2\n",
            "3\n",
            "4\n",
            "5\n"
          ]
        }
      ]
    },
    {
      "cell_type": "markdown",
      "source": [
        "## Solución método 6\n",
        "* Desempaquetando el objeto `range` con el operador asterisco `*`\n",
        "* El objeto `range` es iterable."
      ],
      "metadata": {
        "id": "eUgNRoPsLuKp"
      }
    },
    {
      "cell_type": "code",
      "source": [
        "class Numeros:\n",
        "    def __init__(self):\n",
        "        self.numeros = range(-5, 6)\n",
        "\n",
        "    def imprimir_numeros(self):\n",
        "        print(*self.numeros, sep = '\\n')\n",
        "\n",
        "num = Numeros()\n",
        "num.imprimir_numeros()"
      ],
      "metadata": {
        "colab": {
          "base_uri": "https://localhost:8080/"
        },
        "id": "yeaKrvKFL59n",
        "outputId": "1a84a8c0-6d7c-44e1-a140-0237beab099b"
      },
      "execution_count": 8,
      "outputs": [
        {
          "output_type": "stream",
          "name": "stdout",
          "text": [
            "-5\n",
            "-4\n",
            "-3\n",
            "-2\n",
            "-1\n",
            "0\n",
            "1\n",
            "2\n",
            "3\n",
            "4\n",
            "5\n"
          ]
        }
      ]
    },
    {
      "cell_type": "markdown",
      "metadata": {
        "id": "db647a0b"
      },
      "source": [
        "# Reto 2\n",
        "Elevar 5 al cubo."
      ]
    },
    {
      "cell_type": "markdown",
      "metadata": {
        "id": "c37ba486"
      },
      "source": [
        "## Solución método 1\n",
        "Usando el operador ```**``` de potencias."
      ]
    },
    {
      "cell_type": "code",
      "execution_count": null,
      "metadata": {
        "id": "1b7c4c0a",
        "outputId": "876c1752-d811-49e2-d27e-551ed3f16288",
        "colab": {
          "base_uri": "https://localhost:8080/"
        }
      },
      "outputs": [
        {
          "output_type": "stream",
          "name": "stdout",
          "text": [
            "125\n"
          ]
        }
      ],
      "source": [
        "print(5**3)"
      ]
    },
    {
      "cell_type": "markdown",
      "metadata": {
        "id": "9d22b0ca"
      },
      "source": [
        "## Solución método 2\n",
        "* Otra forma de usar potencias\n",
        "* Usando la librería `math` y la función `pow`"
      ]
    },
    {
      "cell_type": "code",
      "execution_count": null,
      "metadata": {
        "id": "46de504e",
        "outputId": "e7893111-57a0-4824-d38b-b5491d32250d",
        "colab": {
          "base_uri": "https://localhost:8080/"
        }
      },
      "outputs": [
        {
          "output_type": "stream",
          "name": "stdout",
          "text": [
            "125.0\n"
          ]
        }
      ],
      "source": [
        "from math import pow\n",
        "print(pow(5,3))"
      ]
    },
    {
      "cell_type": "markdown",
      "source": [
        "## Solución método 3\n",
        "Utilizando una función."
      ],
      "metadata": {
        "id": "9mjQ85u2O-dm"
      }
    },
    {
      "cell_type": "code",
      "source": [
        "def elevar_al_cubo(numero):\n",
        "    return numero ** 3\n",
        "\n",
        "resultado = elevar_al_cubo(5)\n",
        "print(resultado)"
      ],
      "metadata": {
        "colab": {
          "base_uri": "https://localhost:8080/"
        },
        "id": "FPtf2Gp2PDFX",
        "outputId": "316819c2-92be-413f-e99b-9f3f14660674"
      },
      "execution_count": 9,
      "outputs": [
        {
          "output_type": "stream",
          "name": "stdout",
          "text": [
            "125\n"
          ]
        }
      ]
    },
    {
      "cell_type": "markdown",
      "source": [
        "## Solución método 4\n",
        "* Utilizando programación orientada a objetos (POO).  \n",
        "* Si no hubiéramos creado un método constructor (```__init__```) también funcionaría el ejemplo perfectamente, simplemente no se imprimiría la frase \"Calculadora creada\".  \n",
        "* Un método constructor se ejecuta automáticamente al crear un objeto de esa clase."
      ],
      "metadata": {
        "id": "mx1PUpXRPHYz"
      }
    },
    {
      "cell_type": "code",
      "source": [
        "class Calculadora:\n",
        "    def __init__(self):\n",
        "        print(\"Calculadora creada\")\n",
        "\n",
        "    def elevar_al_cubo(self, numero):\n",
        "        return numero ** 3\n",
        "\n",
        "calculadora = Calculadora()\n",
        "resultado = calculadora.elevar_al_cubo(5)\n",
        "print(resultado)"
      ],
      "metadata": {
        "colab": {
          "base_uri": "https://localhost:8080/"
        },
        "id": "xXSwWIu-PRzg",
        "outputId": "3a25630a-8ef4-4abd-e87a-eedae4dd1ba2"
      },
      "execution_count": 10,
      "outputs": [
        {
          "output_type": "stream",
          "name": "stdout",
          "text": [
            "Calculadora creada\n",
            "125\n"
          ]
        }
      ]
    },
    {
      "cell_type": "markdown",
      "metadata": {
        "id": "72f4beff"
      },
      "source": [
        "# Reto 3\n",
        "Generar los dobles de los números entre 5 y 10."
      ]
    },
    {
      "cell_type": "markdown",
      "source": [
        "## Solución método 1\n",
        "Podemos definir la función `doble` que toma un número como argumento y devuelve su doble.  \n",
        "Luego, podemos usar un bucle `for` que recorre los números del 5 al 10 e imprime el doble de cada número en cada iteración."
      ],
      "metadata": {
        "id": "XVemNbp9xZUD"
      }
    },
    {
      "cell_type": "code",
      "execution_count": null,
      "metadata": {
        "id": "1a74e3fd",
        "outputId": "c8e3bb60-98b9-4fe6-ee38-94d354b7aa6d",
        "colab": {
          "base_uri": "https://localhost:8080/"
        }
      },
      "outputs": [
        {
          "output_type": "stream",
          "name": "stdout",
          "text": [
            "10\n",
            "12\n",
            "14\n",
            "16\n",
            "18\n",
            "20\n"
          ]
        }
      ],
      "source": [
        "def doble(n):\n",
        "    return 2*n\n",
        "\n",
        "for i in range(5, 11):\n",
        "    print(doble(i))        # invocamos la función con el argumento que toca"
      ]
    },
    {
      "cell_type": "markdown",
      "source": [
        "## Solución método 2"
      ],
      "metadata": {
        "id": "IvLWbZVIQdGc"
      }
    },
    {
      "cell_type": "code",
      "source": [
        "def doble(x):\n",
        "    return x * 2\n",
        "\n",
        "rango = range(5, 11)\n",
        "resultado = list(map(doble, rango))\n",
        "print(resultado)"
      ],
      "metadata": {
        "colab": {
          "base_uri": "https://localhost:8080/"
        },
        "id": "kgeMvLzpQjKp",
        "outputId": "6d78cec7-cb58-453d-c5d0-6e1f38fbe843"
      },
      "execution_count": 11,
      "outputs": [
        {
          "output_type": "stream",
          "name": "stdout",
          "text": [
            "[10, 12, 14, 16, 18, 20]\n"
          ]
        }
      ]
    },
    {
      "cell_type": "markdown",
      "source": [
        "## Solución método 3\n",
        "Utilizamos una lista de comprensión ([List Comprehension](https://www.w3schools.com/python/python_lists_comprehension.asp)) para generar los dobles de los números del 5 al 10 (inclusive) y los almacena en la variable doubles.  \n",
        "Luego imprimimos la lista con los dobles."
      ],
      "metadata": {
        "id": "XzPP1DDT9fvO"
      }
    },
    {
      "cell_type": "code",
      "source": [
        "numeros = [2*x for x in range(5, 11) ]\n",
        "print(numeros)"
      ],
      "metadata": {
        "id": "6OCwGIrq9z66",
        "outputId": "9b142aa4-e225-40ee-fbbd-7c6ca3c1b3f5",
        "colab": {
          "base_uri": "https://localhost:8080/"
        }
      },
      "execution_count": null,
      "outputs": [
        {
          "output_type": "stream",
          "name": "stdout",
          "text": [
            "[10, 12, 14, 16, 18, 20]\n"
          ]
        }
      ]
    },
    {
      "cell_type": "markdown",
      "source": [
        "## Solución método 4\n",
        "* Utilizando una función y\n",
        "* usando también List Comprehension\n",
        "* Al usuar el operador asterisco `*`conseguimos desempaquetar los iterables y nos ahorramos usar `map`."
      ],
      "metadata": {
        "id": "8IgjwW3STOhQ"
      }
    },
    {
      "cell_type": "code",
      "source": [
        "def doble(*numeros):                    # asterisco para recibir los números de uno en uno\n",
        "    return [2*x for x in numeros]\n",
        "\n",
        "doble_numeros = doble(*range(5, 11))    # asterisco para enviar los valores del rango desmpaquetados\n",
        "\n",
        "print(doble_numeros)"
      ],
      "metadata": {
        "colab": {
          "base_uri": "https://localhost:8080/"
        },
        "id": "GveyQ0EdQsmg",
        "outputId": "57795ccb-d883-4f23-b25e-83be49ad4d88"
      },
      "execution_count": 22,
      "outputs": [
        {
          "output_type": "stream",
          "name": "stdout",
          "text": [
            "[10, 12, 14, 16, 18, 20]\n"
          ]
        }
      ]
    },
    {
      "cell_type": "markdown",
      "source": [
        "## Solución 5\n",
        "Usando POO."
      ],
      "metadata": {
        "id": "ykhpnw55URoD"
      }
    },
    {
      "cell_type": "code",
      "source": [
        "class Numeros:\n",
        "    def __init__(self):\n",
        "        self.numeros = range(5, 11)\n",
        "\n",
        "    def doble(self):\n",
        "        return [2*x for x in self.numeros]\n",
        "\n",
        "numeros = Numeros()\n",
        "doble_numeros = numeros.doble()\n",
        "\n",
        "print(doble_numeros)"
      ],
      "metadata": {
        "colab": {
          "base_uri": "https://localhost:8080/"
        },
        "id": "toE-zaZEUWmt",
        "outputId": "0e8e6718-3e8b-4a5f-8c61-456747ac62b3"
      },
      "execution_count": 23,
      "outputs": [
        {
          "output_type": "stream",
          "name": "stdout",
          "text": [
            "[10, 12, 14, 16, 18, 20]\n"
          ]
        }
      ]
    },
    {
      "cell_type": "markdown",
      "source": [
        "# Reto 4\n",
        "* Listar dos columnas de números enteros alinedos a la derecha\n",
        "* La primera con los números del 0 al 20 en saltos de 5 en 5\n",
        "* La segunda columna contiene números aleatorios enteros entre 1 y un millón\n",
        "* En ambas columnas hay el mismo número de filas"
      ],
      "metadata": {
        "id": "v120EdNBQUtA"
      }
    },
    {
      "cell_type": "markdown",
      "source": [
        "## Solución método 1\n",
        "- La expresión `{i:3d}` especifica que el número `i` debe imprimirse con una anchura de campo de 3 caracteres y alineado a la derecha.  \n",
        "- La expresión '{random.randint(1,1000000):6d}' especifica que el número aleatorio generado debe imprimirse con una anchura de campo de 6 caracteres y alineado a la derecha."
      ],
      "metadata": {
        "id": "Gs1DIiWwyWAZ"
      }
    },
    {
      "cell_type": "code",
      "source": [
        "import random\n",
        "for i in range(0,21,5):\n",
        "    print(f\"{i:3d}  →  {random.randint(1,1000000):6d}\")\n",
        "    # alineación a la derecha de números enteros"
      ],
      "metadata": {
        "id": "OyyhcLW-RlrJ",
        "outputId": "f0cfa761-f88a-47e8-c172-d7b1cfe12be9",
        "colab": {
          "base_uri": "https://localhost:8080/"
        }
      },
      "execution_count": null,
      "outputs": [
        {
          "output_type": "stream",
          "name": "stdout",
          "text": [
            "  0  →  736505\n",
            "  5  →  512423\n",
            " 10  →   81143\n",
            " 15  →  109348\n",
            " 20  →  849310\n"
          ]
        }
      ]
    },
    {
      "cell_type": "markdown",
      "source": [
        "## Solución método 2\n",
        "Podemos utilizar la función `format()` y la función `randint()` del módulo `random`"
      ],
      "metadata": {
        "id": "57FVUmEgANoD"
      }
    },
    {
      "cell_type": "code",
      "source": [
        "from random import randint\n",
        "\n",
        "for i in range(0, 21, 5):\n",
        "    print(\"{:>3} {:>10}\".format(i, randint(1, 1000000)))"
      ],
      "metadata": {
        "id": "0vGhlYDW_l7b",
        "outputId": "3be252e9-763c-413c-9c4f-d2982569e934",
        "colab": {
          "base_uri": "https://localhost:8080/"
        }
      },
      "execution_count": null,
      "outputs": [
        {
          "output_type": "stream",
          "name": "stdout",
          "text": [
            "  0     550813\n",
            "  5     353169\n",
            " 10     651195\n",
            " 15     763006\n",
            " 20     439168\n"
          ]
        }
      ]
    },
    {
      "cell_type": "markdown",
      "source": [
        "## Solución método 3\n",
        "* Utilizando POO.\n",
        "* La expresión `len(self.columna1)` se utiliza para obtener la longitud de la lista `columna1`.\n",
        "* La función `len()` devuelve el número de elementos en una lista.\n",
        "  - En este caso, se utiliza para asegurarse de que ambas columnas tengan el mismo número de filas.\n",
        "* La variable `i` se utiliza para iterar sobre los índices de las listas `columna1` y `columna2`.\n",
        "* `rjust()` es un método de cadena en Python que se utiliza para justificar una cadena a la derecha.\n",
        "  - Toma un ancho como argumento y rellena la cadena con espacios en blanco a la izquierda para que tenga la longitud especificada.\n",
        "  - Por ejemplo, `\"123\".rjust(5)` devolverá `\"  123\"`."
      ],
      "metadata": {
        "id": "VQWPr5y3YdDI"
      }
    },
    {
      "cell_type": "code",
      "source": [
        "import random\n",
        "\n",
        "class Columnas_a_la_derecha:\n",
        "    def __init__(self):\n",
        "        self.columna1 = [i for i in range(0, 21, 5)]\n",
        "        self.columna2 = [random.randint(1, 1000000) for i in range(len(self.columna1))]\n",
        "\n",
        "    def imprimir_columnas(self):\n",
        "        for i in range(len(self.columna1)):\n",
        "            # dos formas alternativas de imprimir las columnas alineadas a al derecha\n",
        "            #print(f\"{str(self.columna1[i]).rjust(2)} {str(self.columna2[i]).rjust(7)}\")\n",
        "            print(f\"{self.columna1[i]:>2} {self.columna2[i]:>7}\")\n",
        "\n",
        "columnas_alineadas = Columnas_a_la_derecha()\n",
        "columnas_alineadas.imprimir_columnas()"
      ],
      "metadata": {
        "colab": {
          "base_uri": "https://localhost:8080/"
        },
        "id": "xn5XC9YGV9BP",
        "outputId": "584ab00e-cb84-43be-98f7-92b94e571c02"
      },
      "execution_count": 38,
      "outputs": [
        {
          "output_type": "stream",
          "name": "stdout",
          "text": [
            " 0  324604\n",
            " 5  340294\n",
            "10  807926\n",
            "15  450463\n",
            "20  354359\n"
          ]
        }
      ]
    }
  ]
}