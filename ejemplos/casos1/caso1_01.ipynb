{
  "nbformat": 4,
  "nbformat_minor": 0,
  "metadata": {
    "colab": {
      "name": "caso1.01.ipynb",
      "provenance": [],
      "include_colab_link": true
    },
    "kernelspec": {
      "name": "python3",
      "display_name": "Python 3"
    },
    "language_info": {
      "name": "python"
    }
  },
  "cells": [
    {
      "cell_type": "markdown",
      "metadata": {
        "id": "view-in-github",
        "colab_type": "text"
      },
      "source": [
        "<a href=\"https://colab.research.google.com/github/financieras/pyCourse/blob/main/ejemplos/casos1/caso1_01.ipynb\" target=\"_parent\"><img src=\"https://colab.research.google.com/assets/colab-badge.svg\" alt=\"Open In Colab\"/></a>"
      ]
    },
    {
      "cell_type": "markdown",
      "metadata": {
        "id": "da1a5cab"
      },
      "source": [
        "# Reto 1\n",
        "Imprimir los números entre -5 y 5."
      ]
    },
    {
      "cell_type": "markdown",
      "source": [
        "## Solución método 1\n",
        "* Creamos un bucle `for` que recorre los números entre -5 y +5.  \n",
        "* En cada iteración se va imprimiendo el valor de la variable auxiliar ```i```"
      ],
      "metadata": {
        "id": "PIblwDO4yzrK"
      }
    },
    {
      "cell_type": "code",
      "execution_count": 3,
      "metadata": {
        "id": "5eadc27f",
        "outputId": "f42a3cd0-1382-40bd-f2e9-b40b1250db93",
        "colab": {
          "base_uri": "https://localhost:8080/"
        }
      },
      "outputs": [
        {
          "output_type": "stream",
          "name": "stdout",
          "text": [
            "-5\n",
            "-4\n",
            "-3\n",
            "-2\n",
            "-1\n",
            "0\n",
            "1\n",
            "2\n",
            "3\n",
            "4\n",
            "5\n"
          ]
        }
      ],
      "source": [
        "for i in range(-5,6):\n",
        "    print(i)"
      ]
    },
    {
      "cell_type": "markdown",
      "source": [
        "## Solución método 2\n",
        "Podemos usar un bucle `while` en lugar de un bucle `for`"
      ],
      "metadata": {
        "id": "tW4udShH-0iv"
      }
    },
    {
      "cell_type": "code",
      "source": [
        "i = -5\n",
        "while i <= 5:\n",
        "    print(i)\n",
        "    i += 1"
      ],
      "metadata": {
        "id": "fVAIEBi8-8rq",
        "outputId": "be0e9579-5d7b-4488-e761-8e65826eafaf",
        "colab": {
          "base_uri": "https://localhost:8080/"
        }
      },
      "execution_count": 4,
      "outputs": [
        {
          "output_type": "stream",
          "name": "stdout",
          "text": [
            "-5\n",
            "-4\n",
            "-3\n",
            "-2\n",
            "-1\n",
            "0\n",
            "1\n",
            "2\n",
            "3\n",
            "4\n",
            "5\n"
          ]
        }
      ]
    },
    {
      "cell_type": "markdown",
      "metadata": {
        "id": "db647a0b"
      },
      "source": [
        "# Reto 2\n",
        "Elevar 5 al cubo."
      ]
    },
    {
      "cell_type": "markdown",
      "metadata": {
        "id": "c37ba486"
      },
      "source": [
        "## Solución método 1\n",
        "Usando el operador ```**``` de potencias."
      ]
    },
    {
      "cell_type": "code",
      "execution_count": 5,
      "metadata": {
        "id": "1b7c4c0a",
        "outputId": "876c1752-d811-49e2-d27e-551ed3f16288",
        "colab": {
          "base_uri": "https://localhost:8080/"
        }
      },
      "outputs": [
        {
          "output_type": "stream",
          "name": "stdout",
          "text": [
            "125\n"
          ]
        }
      ],
      "source": [
        "print(5**3)"
      ]
    },
    {
      "cell_type": "markdown",
      "metadata": {
        "id": "9d22b0ca"
      },
      "source": [
        "## Solución método 2\n",
        "* Otra forma de usar potencias\n",
        "* Usando la librería `math` y la función `pow`"
      ]
    },
    {
      "cell_type": "code",
      "execution_count": 6,
      "metadata": {
        "id": "46de504e",
        "outputId": "e7893111-57a0-4824-d38b-b5491d32250d",
        "colab": {
          "base_uri": "https://localhost:8080/"
        }
      },
      "outputs": [
        {
          "output_type": "stream",
          "name": "stdout",
          "text": [
            "125.0\n"
          ]
        }
      ],
      "source": [
        "from math import pow\n",
        "print(pow(5,3))"
      ]
    },
    {
      "cell_type": "markdown",
      "metadata": {
        "id": "72f4beff"
      },
      "source": [
        "# Reto 3\n",
        "Generar los dobles de los números entre 5 y 10."
      ]
    },
    {
      "cell_type": "markdown",
      "source": [
        "## Solución método 1\n",
        "Podemos definir la función `doble` que toma un número como argumento y devuelve su doble.  \n",
        "Luego, podemos usar un bucle `for` que recorre los números del 5 al 10 e imprime el doble de cada número en cada iteración."
      ],
      "metadata": {
        "id": "XVemNbp9xZUD"
      }
    },
    {
      "cell_type": "code",
      "execution_count": 1,
      "metadata": {
        "id": "1a74e3fd",
        "outputId": "c8e3bb60-98b9-4fe6-ee38-94d354b7aa6d",
        "colab": {
          "base_uri": "https://localhost:8080/"
        }
      },
      "outputs": [
        {
          "output_type": "stream",
          "name": "stdout",
          "text": [
            "10\n",
            "12\n",
            "14\n",
            "16\n",
            "18\n",
            "20\n"
          ]
        }
      ],
      "source": [
        "def doble(n):\n",
        "    return 2*n\n",
        "\n",
        "for i in range(5, 11):\n",
        "    print(doble(i))        # invocamos la función con el argumento que toca"
      ]
    },
    {
      "cell_type": "markdown",
      "source": [
        "## Solución método 2\n",
        "Utilizamos una lista de comprensión ([List Comprehension](https://www.w3schools.com/python/python_lists_comprehension.asp)) para generar los dobles de los números del 5 al 10 (inclusive) y los almacena en la variable doubles.  \n",
        "Luego imprimimos la lista con los dobles."
      ],
      "metadata": {
        "id": "XzPP1DDT9fvO"
      }
    },
    {
      "cell_type": "code",
      "source": [
        "numeros = [2*x for x in range(5,11) ]\n",
        "print(numeros)"
      ],
      "metadata": {
        "id": "6OCwGIrq9z66",
        "outputId": "9b142aa4-e225-40ee-fbbd-7c6ca3c1b3f5",
        "colab": {
          "base_uri": "https://localhost:8080/"
        }
      },
      "execution_count": 2,
      "outputs": [
        {
          "output_type": "stream",
          "name": "stdout",
          "text": [
            "[10, 12, 14, 16, 18, 20]\n"
          ]
        }
      ]
    },
    {
      "cell_type": "markdown",
      "source": [
        "# Reto 4\n",
        "* Listar dos columnas de números enteros alinedos a la derecha\n",
        "* La primera con los números del 0 al 20 en saltos de 5 en 5\n",
        "* La segunda columna contiene números aleatorios enteros entre 1 y un millón\n",
        "* En ambas columnas hay el mismo número de filas"
      ],
      "metadata": {
        "id": "v120EdNBQUtA"
      }
    },
    {
      "cell_type": "markdown",
      "source": [
        "## Solución método 1\n",
        "- La expresión `{i:3d}` especifica que el número `i` debe imprimirse con una anchura de campo de 3 caracteres y alineado a la derecha.  \n",
        "- La expresión '{random.randint(1,1000000):6d}' especifica que el número aleatorio generado debe imprimirse con una anchura de campo de 6 caracteres y alineado a la derecha."
      ],
      "metadata": {
        "id": "Gs1DIiWwyWAZ"
      }
    },
    {
      "cell_type": "code",
      "source": [
        "import random\n",
        "for i in range(0,21,5):\n",
        "    print(f\"{i:3d}  →  {random.randint(1,1000000):6d}\")\n",
        "    # alineación a la derecha de números enteros"
      ],
      "metadata": {
        "id": "OyyhcLW-RlrJ",
        "outputId": "f0cfa761-f88a-47e8-c172-d7b1cfe12be9",
        "colab": {
          "base_uri": "https://localhost:8080/"
        }
      },
      "execution_count": 9,
      "outputs": [
        {
          "output_type": "stream",
          "name": "stdout",
          "text": [
            "  0  →  736505\n",
            "  5  →  512423\n",
            " 10  →   81143\n",
            " 15  →  109348\n",
            " 20  →  849310\n"
          ]
        }
      ]
    },
    {
      "cell_type": "markdown",
      "source": [
        "## Solución método 2\n",
        "Podemos utilizar la función `format()` y la función `randint()` del módulo `random`"
      ],
      "metadata": {
        "id": "57FVUmEgANoD"
      }
    },
    {
      "cell_type": "code",
      "source": [
        "from random import randint\n",
        "\n",
        "for i in range(0, 21, 5):\n",
        "    print(\"{:>3} {:>10}\".format(i, randint(1, 1000000)))"
      ],
      "metadata": {
        "id": "0vGhlYDW_l7b",
        "outputId": "3be252e9-763c-413c-9c4f-d2982569e934",
        "colab": {
          "base_uri": "https://localhost:8080/"
        }
      },
      "execution_count": 10,
      "outputs": [
        {
          "output_type": "stream",
          "name": "stdout",
          "text": [
            "  0     550813\n",
            "  5     353169\n",
            " 10     651195\n",
            " 15     763006\n",
            " 20     439168\n"
          ]
        }
      ]
    }
  ]
}