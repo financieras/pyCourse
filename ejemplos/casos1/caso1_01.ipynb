{
  "nbformat": 4,
  "nbformat_minor": 0,
  "metadata": {
    "colab": {
      "name": "caso1.01.ipynb",
      "provenance": [],
      "include_colab_link": true
    },
    "kernelspec": {
      "name": "python3",
      "display_name": "Python 3"
    },
    "language_info": {
      "name": "python"
    }
  },
  "cells": [
    {
      "cell_type": "markdown",
      "metadata": {
        "id": "view-in-github",
        "colab_type": "text"
      },
      "source": [
        "<a href=\"https://colab.research.google.com/github/financieras/pyCourse/blob/main/ejemplos/casos1/caso1_01.ipynb\" target=\"_parent\"><img src=\"https://colab.research.google.com/assets/colab-badge.svg\" alt=\"Open In Colab\"/></a>"
      ]
    },
    {
      "cell_type": "markdown",
      "metadata": {
        "id": "da1a5cab"
      },
      "source": [
        "# Reto 1\n",
        "Imprimir los números entre -5 y 5."
      ]
    },
    {
      "cell_type": "markdown",
      "source": [
        "## Solución método 1\n",
        "* Creamos un bucle `for` que recorre los números entre -5 y +5.  \n",
        "* En cada iteración se va imprimiendo el valor de la variable auxiliar ```i```"
      ],
      "metadata": {
        "id": "PIblwDO4yzrK"
      }
    },
    {
      "cell_type": "code",
      "execution_count": 10,
      "metadata": {
        "id": "5eadc27f",
        "outputId": "69524278-9491-48c4-fb41-243fac9bc1a8",
        "colab": {
          "base_uri": "https://localhost:8080/"
        }
      },
      "outputs": [
        {
          "output_type": "stream",
          "name": "stdout",
          "text": [
            "-5, -4, -3, -2, -1, 0, 1, 2, 3, 4, 5, "
          ]
        }
      ],
      "source": [
        "for i in range(-5,6):\n",
        "    print(i, end=\", \")"
      ]
    },
    {
      "cell_type": "markdown",
      "source": [
        "## Solución método 2\n",
        "Podemos usar un bucle `while` en lugar de un bucle `for`"
      ],
      "metadata": {
        "id": "tW4udShH-0iv"
      }
    },
    {
      "cell_type": "code",
      "source": [
        "i = -5          # inicializo la variable auxiliar\n",
        "while i <= 5:   # mientras i sea menor o igual a 5\n",
        "    print(i)    # imprimo la variable\n",
        "    i += 1      # i = i + 1"
      ],
      "metadata": {
        "id": "fVAIEBi8-8rq",
        "outputId": "7e094839-463f-4b59-dee0-157e1703973a",
        "colab": {
          "base_uri": "https://localhost:8080/"
        }
      },
      "execution_count": 11,
      "outputs": [
        {
          "output_type": "stream",
          "name": "stdout",
          "text": [
            "-5\n",
            "-4\n",
            "-3\n",
            "-2\n",
            "-1\n",
            "0\n",
            "1\n",
            "2\n",
            "3\n",
            "4\n",
            "5\n"
          ]
        }
      ]
    },
    {
      "cell_type": "markdown",
      "source": [
        "## Solución método 3\n",
        "Haciendo una función."
      ],
      "metadata": {
        "id": "m66sstf-Jjzd"
      }
    },
    {
      "cell_type": "code",
      "source": [
        "def imprimir_numeros():         # defino la función, en este caso no hay parámetros\n",
        "    for i in range(-5, 6):\n",
        "        print(i)\n",
        "\n",
        "imprimir_numeros()              # invoco la función"
      ],
      "metadata": {
        "colab": {
          "base_uri": "https://localhost:8080/"
        },
        "id": "ctRc9p1TJp7C",
        "outputId": "3eacdf57-4819-47cf-f920-8b821b326e76"
      },
      "execution_count": 12,
      "outputs": [
        {
          "output_type": "stream",
          "name": "stdout",
          "text": [
            "-5\n",
            "-4\n",
            "-3\n",
            "-2\n",
            "-1\n",
            "0\n",
            "1\n",
            "2\n",
            "3\n",
            "4\n",
            "5\n"
          ]
        }
      ]
    },
    {
      "cell_type": "markdown",
      "source": [
        "## Solución método 4\n",
        "* Este método define una función que toma dos argumentos: `inicio` y `fin`.\n",
        "* La función utiliza un bucle `for` para imprimir los números entre el `inicio` y el `fin`.\n",
        "* En este caso, se llama a la función con los argumentos -5 y 5."
      ],
      "metadata": {
        "id": "dJgwjKBDdKZ0"
      }
    },
    {
      "cell_type": "code",
      "source": [
        "def imprimir_numeros(inicio, fin):      # esta función si lleva parámetros\n",
        "    for i in range(inicio, fin + 1):\n",
        "        print(i)\n",
        "\n",
        "imprimir_numeros(-5, 5)                 # cuando invocamos la función se pasan los argumentos"
      ],
      "metadata": {
        "id": "tdvjF8RtdzAi",
        "outputId": "ca239b94-b6e7-415c-d587-f2e17d3d8779",
        "colab": {
          "base_uri": "https://localhost:8080/"
        }
      },
      "execution_count": 13,
      "outputs": [
        {
          "output_type": "stream",
          "name": "stdout",
          "text": [
            "-5\n",
            "-4\n",
            "-3\n",
            "-2\n",
            "-1\n",
            "0\n",
            "1\n",
            "2\n",
            "3\n",
            "4\n",
            "5\n"
          ]
        }
      ]
    },
    {
      "cell_type": "markdown",
      "source": [
        "## Solución método 5\n",
        "Utilizando Programación Orientada a Objetos (POO), en inglés Object-Oriented Programming (OOP)."
      ],
      "metadata": {
        "id": "E3me3mvPJqTk"
      }
    },
    {
      "cell_type": "code",
      "source": [
        "class Numero:                           # creamos la clase Numero\n",
        "    def __init__(self):                 # método constructor, se ejecuta automáticamente al crear el objeto\n",
        "        self.numeros = range(-5, 6)     # self hace referencia al objeto\n",
        "\n",
        "    def imprimir_numeros(self):         # método\n",
        "        for i in self.numeros:          # usamos el self para utilizar el objeto creado\n",
        "            print(i)\n",
        "\n",
        "num = Numero()                          # instanciamos el objeto, creamos el objeto\n",
        "num.imprimir_numeros()                  # nomenclatura del punto. Llamamos al método imprimir_numeros del objeto num"
      ],
      "metadata": {
        "colab": {
          "base_uri": "https://localhost:8080/"
        },
        "id": "O0TlSOBpJ_6A",
        "outputId": "367901f6-9918-406f-b65c-5c0bb6168050"
      },
      "execution_count": 14,
      "outputs": [
        {
          "output_type": "stream",
          "name": "stdout",
          "text": [
            "-5\n",
            "-4\n",
            "-3\n",
            "-2\n",
            "-1\n",
            "0\n",
            "1\n",
            "2\n",
            "3\n",
            "4\n",
            "5\n"
          ]
        }
      ]
    },
    {
      "cell_type": "markdown",
      "source": [
        "### Ejemplo del uso del asterisco `*` en Python\n",
        "Se usa para desempaquetar los elementos de un iterable."
      ],
      "metadata": {
        "id": "S7uJn2zX-Yt_"
      }
    },
    {
      "cell_type": "code",
      "source": [
        "r = range(-5, 6)\n",
        "print(r)\n",
        "print(type(r))\n",
        "print(*r)\n",
        "lista = list(r)\n",
        "print(lista)\n",
        "print(*lista)"
      ],
      "metadata": {
        "id": "tG128FMs-g9t",
        "outputId": "9096eac5-3121-4f6f-ef1f-ca45c2fa2a0b",
        "colab": {
          "base_uri": "https://localhost:8080/"
        }
      },
      "execution_count": 23,
      "outputs": [
        {
          "output_type": "stream",
          "name": "stdout",
          "text": [
            "range(-5, 6)\n",
            "<class 'range'>\n",
            "-5 -4 -3 -2 -1 0 1 2 3 4 5\n",
            "[-5, -4, -3, -2, -1, 0, 1, 2, 3, 4, 5]\n",
            "-5 -4 -3 -2 -1 0 1 2 3 4 5\n"
          ]
        }
      ]
    },
    {
      "cell_type": "markdown",
      "source": [
        "## Solución método 6\n",
        "* Desempaquetando el objeto `range` con el operador asterisco `*`\n",
        "* El objeto `range` es iterable."
      ],
      "metadata": {
        "id": "eUgNRoPsLuKp"
      }
    },
    {
      "cell_type": "code",
      "source": [
        "class Numero:\n",
        "    def __init__(self):\n",
        "        self.numeros = range(-5, 6)\n",
        "\n",
        "    def imprimir_numeros(self):\n",
        "        print(*self.numeros, sep = '\\n')\n",
        "\n",
        "num = Numero()\n",
        "num.imprimir_numeros()"
      ],
      "metadata": {
        "colab": {
          "base_uri": "https://localhost:8080/"
        },
        "id": "yeaKrvKFL59n",
        "outputId": "85af05d8-1918-44e6-9918-1b8b512cd3bb"
      },
      "execution_count": 29,
      "outputs": [
        {
          "output_type": "stream",
          "name": "stdout",
          "text": [
            "-5\n",
            "-4\n",
            "-3\n",
            "-2\n",
            "-1\n",
            "0\n",
            "1\n",
            "2\n",
            "3\n",
            "4\n",
            "5\n"
          ]
        }
      ]
    },
    {
      "cell_type": "markdown",
      "source": [
        "## Solución método 7\n",
        "List Comprehension"
      ],
      "metadata": {
        "id": "gaKtV9EsvRjI"
      }
    },
    {
      "cell_type": "code",
      "source": [
        "[i for i in range(-5, 6)]"
      ],
      "metadata": {
        "id": "1Mtp8fGMvfss",
        "outputId": "ecc627e3-a7a4-401c-a0d7-3e3c65e93aaf",
        "colab": {
          "base_uri": "https://localhost:8080/"
        }
      },
      "execution_count": 4,
      "outputs": [
        {
          "output_type": "execute_result",
          "data": {
            "text/plain": [
              "[-5, -4, -3, -2, -1, 0, 1, 2, 3, 4, 5]"
            ]
          },
          "metadata": {},
          "execution_count": 4
        }
      ]
    },
    {
      "cell_type": "markdown",
      "metadata": {
        "id": "db647a0b"
      },
      "source": [
        "# Reto 2\n",
        "Elevar 5 al cubo."
      ]
    },
    {
      "cell_type": "markdown",
      "metadata": {
        "id": "c37ba486"
      },
      "source": [
        "## Solución método 1\n",
        "Usando el operador ```**``` de potencias."
      ]
    },
    {
      "cell_type": "code",
      "execution_count": null,
      "metadata": {
        "id": "1b7c4c0a"
      },
      "outputs": [],
      "source": [
        "print(5**3)"
      ]
    },
    {
      "cell_type": "markdown",
      "metadata": {
        "id": "9d22b0ca"
      },
      "source": [
        "## Solución método 2\n",
        "* Otra forma de usar potencias\n",
        "* Usando la librería `math` y la función `pow`"
      ]
    },
    {
      "cell_type": "code",
      "execution_count": null,
      "metadata": {
        "id": "46de504e"
      },
      "outputs": [],
      "source": [
        "from math import pow\n",
        "print(pow(5,3))"
      ]
    },
    {
      "cell_type": "markdown",
      "source": [
        "## Solución método 3\n",
        "Utilizando una función."
      ],
      "metadata": {
        "id": "9mjQ85u2O-dm"
      }
    },
    {
      "cell_type": "code",
      "source": [
        "def elevar_al_cubo(numero):\n",
        "    return numero ** 3\n",
        "\n",
        "resultado = elevar_al_cubo(5)\n",
        "print(resultado)"
      ],
      "metadata": {
        "id": "FPtf2Gp2PDFX"
      },
      "execution_count": null,
      "outputs": []
    },
    {
      "cell_type": "markdown",
      "source": [
        "## Solución método 4\n",
        "* Utilizando programación orientada a objetos (POO).  \n",
        "* Si no hubiéramos creado un método constructor (```__init__```) también funcionaría el ejemplo perfectamente, simplemente no se imprimiría la frase \"Calculadora creada\".  \n",
        "* Un método constructor se ejecuta automáticamente al crear un objeto de esa clase."
      ],
      "metadata": {
        "id": "mx1PUpXRPHYz"
      }
    },
    {
      "cell_type": "code",
      "source": [
        "class Calculadora:\n",
        "    def __init__(self):\n",
        "        print(\"Calculadora creada\")\n",
        "\n",
        "    def elevar_al_cubo(self, numero):\n",
        "        return numero ** 3\n",
        "\n",
        "calculadora = Calculadora()\n",
        "resultado = calculadora.elevar_al_cubo(5)\n",
        "print(resultado)"
      ],
      "metadata": {
        "id": "xXSwWIu-PRzg"
      },
      "execution_count": null,
      "outputs": []
    },
    {
      "cell_type": "markdown",
      "metadata": {
        "id": "72f4beff"
      },
      "source": [
        "# Reto 3\n",
        "Generar los dobles de los números entre 5 y 10."
      ]
    },
    {
      "cell_type": "markdown",
      "source": [
        "## Solución método 1\n",
        "Podemos definir la función `doble` que toma un número como argumento y devuelve su doble.  \n",
        "Luego, podemos usar un bucle `for` que recorre los números del 5 al 10 e imprime el doble de cada número en cada iteración."
      ],
      "metadata": {
        "id": "XVemNbp9xZUD"
      }
    },
    {
      "cell_type": "code",
      "execution_count": null,
      "metadata": {
        "id": "1a74e3fd"
      },
      "outputs": [],
      "source": [
        "def doble(n):\n",
        "    return 2*n\n",
        "\n",
        "for i in range(5, 11):\n",
        "    print(doble(i))        # invocamos la función con el argumento que toca"
      ]
    },
    {
      "cell_type": "markdown",
      "source": [
        "## Solución método 2"
      ],
      "metadata": {
        "id": "IvLWbZVIQdGc"
      }
    },
    {
      "cell_type": "code",
      "source": [
        "def doble(x):\n",
        "    return x * 2\n",
        "\n",
        "rango = range(5, 11)\n",
        "resultado = list(map(doble, rango))\n",
        "print(resultado)"
      ],
      "metadata": {
        "id": "kgeMvLzpQjKp"
      },
      "execution_count": null,
      "outputs": []
    },
    {
      "cell_type": "markdown",
      "source": [
        "## Solución método 3\n",
        "Utilizamos una lista de comprensión ([List Comprehension](https://www.w3schools.com/python/python_lists_comprehension.asp)) para generar los dobles de los números del 5 al 10 (inclusive) y los almacena en la variable doubles.  \n",
        "Luego imprimimos la lista con los dobles."
      ],
      "metadata": {
        "id": "XzPP1DDT9fvO"
      }
    },
    {
      "cell_type": "code",
      "source": [
        "numeros = [2*x for x in range(5, 11) ]\n",
        "print(numeros)"
      ],
      "metadata": {
        "id": "6OCwGIrq9z66"
      },
      "execution_count": null,
      "outputs": []
    },
    {
      "cell_type": "markdown",
      "source": [
        "## Solución método 4\n",
        "* Utilizando una función y\n",
        "* usando también List Comprehension\n",
        "* Al usuar el operador asterisco `*`conseguimos desempaquetar los iterables y nos ahorramos usar `map`."
      ],
      "metadata": {
        "id": "8IgjwW3STOhQ"
      }
    },
    {
      "cell_type": "code",
      "source": [
        "def doble(*numeros):                    # asterisco para recibir los números de uno en uno\n",
        "    return [2*x for x in numeros]\n",
        "\n",
        "doble_numeros = doble(*range(5, 11))    # asterisco para enviar los valores del rango desmpaquetados\n",
        "\n",
        "print(doble_numeros)"
      ],
      "metadata": {
        "id": "GveyQ0EdQsmg"
      },
      "execution_count": null,
      "outputs": []
    },
    {
      "cell_type": "markdown",
      "source": [
        "## Solución 5\n",
        "Usando POO."
      ],
      "metadata": {
        "id": "ykhpnw55URoD"
      }
    },
    {
      "cell_type": "code",
      "source": [
        "class Numeros:\n",
        "    def __init__(self):\n",
        "        self.numeros = range(5, 11)\n",
        "\n",
        "    def doble(self):\n",
        "        return [2*x for x in self.numeros]\n",
        "\n",
        "numeros = Numeros()\n",
        "doble_numeros = numeros.doble()\n",
        "\n",
        "print(doble_numeros)"
      ],
      "metadata": {
        "id": "toE-zaZEUWmt"
      },
      "execution_count": null,
      "outputs": []
    },
    {
      "cell_type": "markdown",
      "source": [
        "# Reto 4\n",
        "* Listar dos columnas de números enteros alinedos a la derecha\n",
        "* La primera con los números del 0 al 20 en saltos de 5 en 5\n",
        "* La segunda columna contiene números aleatorios enteros entre 1 y un millón\n",
        "* En ambas columnas hay el mismo número de filas"
      ],
      "metadata": {
        "id": "v120EdNBQUtA"
      }
    },
    {
      "cell_type": "markdown",
      "source": [
        "## Solución método 1\n",
        "- La expresión `{i:3d}` especifica que el número `i` debe imprimirse con una anchura de campo de 3 caracteres y alineado a la derecha.  \n",
        "- La expresión '{random.randint(1,1000000):6d}' especifica que el número aleatorio generado debe imprimirse con una anchura de campo de 6 caracteres y alineado a la derecha."
      ],
      "metadata": {
        "id": "Gs1DIiWwyWAZ"
      }
    },
    {
      "cell_type": "code",
      "source": [
        "import random\n",
        "for i in range(0,21,5):\n",
        "    print(f\"{i:3d}  →  {random.randint(1,1000000):6d}\")\n",
        "    # alineación a la derecha de números enteros"
      ],
      "metadata": {
        "id": "OyyhcLW-RlrJ"
      },
      "execution_count": null,
      "outputs": []
    },
    {
      "cell_type": "markdown",
      "source": [
        "## Solución método 2\n",
        "Podemos utilizar la función `format()` y la función `randint()` del módulo `random`"
      ],
      "metadata": {
        "id": "57FVUmEgANoD"
      }
    },
    {
      "cell_type": "code",
      "source": [
        "from random import randint\n",
        "\n",
        "for i in range(0, 21, 5):\n",
        "    print(\"{:>3} {:>10}\".format(i, randint(1, 1000000)))"
      ],
      "metadata": {
        "id": "0vGhlYDW_l7b"
      },
      "execution_count": null,
      "outputs": []
    },
    {
      "cell_type": "markdown",
      "source": [
        "## Solución método 3\n",
        "* Utilizando POO.\n",
        "* La expresión `len(self.columna1)` se utiliza para obtener la longitud de la lista `columna1`.\n",
        "* La función `len()` devuelve el número de elementos en una lista.\n",
        "  - En este caso, se utiliza para asegurarse de que ambas columnas tengan el mismo número de filas.\n",
        "* La variable `i` se utiliza para iterar sobre los índices de las listas `columna1` y `columna2`.\n",
        "* `rjust()` es un método de cadena en Python que se utiliza para justificar una cadena a la derecha.\n",
        "  - Toma un ancho como argumento y rellena la cadena con espacios en blanco a la izquierda para que tenga la longitud especificada.\n",
        "  - Por ejemplo, `\"123\".rjust(5)` devolverá `\"  123\"`."
      ],
      "metadata": {
        "id": "VQWPr5y3YdDI"
      }
    },
    {
      "cell_type": "code",
      "source": [
        "import random\n",
        "\n",
        "class Columnas_a_la_derecha:\n",
        "    def __init__(self):\n",
        "        self.columna1 = [i for i in range(0, 21, 5)]\n",
        "        self.columna2 = [random.randint(1, 1000000) for i in range(len(self.columna1))]\n",
        "\n",
        "    def imprimir_columnas(self):\n",
        "        for i in range(len(self.columna1)):\n",
        "            # dos formas alternativas de imprimir las columnas alineadas a al derecha\n",
        "            #print(f\"{str(self.columna1[i]).rjust(2)} {str(self.columna2[i]).rjust(7)}\")\n",
        "            print(f\"{self.columna1[i]:>2} {self.columna2[i]:>7}\")\n",
        "\n",
        "columnas_alineadas = Columnas_a_la_derecha()\n",
        "columnas_alineadas.imprimir_columnas()"
      ],
      "metadata": {
        "id": "xn5XC9YGV9BP"
      },
      "execution_count": null,
      "outputs": []
    }
  ]
}