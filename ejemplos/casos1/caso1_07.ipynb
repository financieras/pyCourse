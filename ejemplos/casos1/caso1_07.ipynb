{
  "cells": [
    {
      "cell_type": "markdown",
      "metadata": {
        "id": "view-in-github",
        "colab_type": "text"
      },
      "source": [
        "<a href=\"https://colab.research.google.com/github/financieras/pyCourse/blob/main/ejemplos/casos1/caso1_07.ipynb\" target=\"_parent\"><img src=\"https://colab.research.google.com/assets/colab-badge.svg\" alt=\"Open In Colab\"/></a>"
      ]
    },
    {
      "cell_type": "markdown",
      "id": "56e349bb",
      "metadata": {
        "id": "56e349bb"
      },
      "source": [
        "# Reto 1\n",
        "Generar 10 números aleatorios entre 1 y 20 y calcular su media."
      ]
    },
    {
      "cell_type": "markdown",
      "source": [
        "## Solución método 1\n",
        "Lista de aleatorios con posible repetición."
      ],
      "metadata": {
        "id": "A_-cHU4onVH3"
      },
      "id": "A_-cHU4onVH3"
    },
    {
      "cell_type": "code",
      "source": [
        "import random\n",
        "\n",
        "numeros = [random.randint(1, 20) for _ in range(10)]\n",
        "media = sum(numeros) / len(numeros)\n",
        "\n",
        "print(\"Números generados:\", numeros)\n",
        "print(\"Media:\", media)"
      ],
      "metadata": {
        "id": "mSUK3v9lIR7W",
        "outputId": "22d83e37-df6c-4c71-c0a4-fb242e7f9fe2",
        "colab": {
          "base_uri": "https://localhost:8080/"
        }
      },
      "id": "mSUK3v9lIR7W",
      "execution_count": 3,
      "outputs": [
        {
          "output_type": "stream",
          "name": "stdout",
          "text": [
            "Números generados: [7, 14, 14, 20, 10, 1, 15, 20, 6, 19]\n",
            "Media: 12.6\n"
          ]
        }
      ]
    },
    {
      "cell_type": "markdown",
      "source": [
        "## Solución método 2\n",
        "Utilizando una función."
      ],
      "metadata": {
        "id": "idu-xpleJItQ"
      },
      "id": "idu-xpleJItQ"
    },
    {
      "cell_type": "code",
      "source": [
        "import random\n",
        "\n",
        "def generar_numeros_aleatorios(n, minimo, maximo):\n",
        "    numeros = [random.randint(minimo, maximo) for _ in range(n)]\n",
        "    media = sum(numeros) / len(numeros)\n",
        "    return numeros, media\n",
        "\n",
        "numeros_generados, media = generar_numeros_aleatorios(10, 1, 20)\n",
        "\n",
        "print(\"Números generados:\", numeros_generados)\n",
        "print(\"Media:\", media)"
      ],
      "metadata": {
        "id": "py4ivRx_Juab",
        "outputId": "401c83e7-dcee-43e4-ac7d-42eeeff53dcc",
        "colab": {
          "base_uri": "https://localhost:8080/"
        }
      },
      "id": "py4ivRx_Juab",
      "execution_count": 8,
      "outputs": [
        {
          "output_type": "stream",
          "name": "stdout",
          "text": [
            "Números generados: [20, 16, 8, 16, 10, 13, 11, 2, 5, 2]\n",
            "Media: 10.3\n"
          ]
        }
      ]
    },
    {
      "cell_type": "markdown",
      "source": [
        "## Solución método 3\n",
        "Utilizando POO."
      ],
      "metadata": {
        "id": "cncJwSfNKLlp"
      },
      "id": "cncJwSfNKLlp"
    },
    {
      "cell_type": "code",
      "source": [
        "import random\n",
        "\n",
        "class GeneradorAleatorio:\n",
        "    def __init__(self, n, minimo, maximo):\n",
        "        self.n = n\n",
        "        self.minimo = minimo\n",
        "        self.maximo = maximo\n",
        "\n",
        "    def generar_numeros(self):\n",
        "        numeros = [random.randint(self.minimo, self.maximo) for _ in range(self.n)]\n",
        "        return numeros\n",
        "\n",
        "    def calcular_media(self):\n",
        "        numeros = self.generar_numeros()\n",
        "        media = sum(numeros) / len(numeros)\n",
        "        return media\n",
        "\n",
        "generador = GeneradorAleatorio(10, 1, 20)\n",
        "\n",
        "numeros_generados = generador.generar_numeros()\n",
        "media = generador.calcular_media()\n",
        "\n",
        "print(\"Números generados:\", numeros_generados)\n",
        "print(\"Media:\", media)"
      ],
      "metadata": {
        "id": "bRcUqYIjKQoe",
        "outputId": "a0ec1bf0-adb5-4f94-b556-afc42b21eacc",
        "colab": {
          "base_uri": "https://localhost:8080/"
        }
      },
      "id": "bRcUqYIjKQoe",
      "execution_count": 7,
      "outputs": [
        {
          "output_type": "stream",
          "name": "stdout",
          "text": [
            "Números generados: [17, 10, 5, 13, 4, 13, 15, 2, 13, 8]\n",
            "Media: 10.4\n"
          ]
        }
      ]
    },
    {
      "cell_type": "markdown",
      "source": [
        "## Solución método 4\n",
        "Utilizando la función `mean` de la librería `statistics`"
      ],
      "metadata": {
        "id": "q2ACo6D3KTRl"
      },
      "id": "q2ACo6D3KTRl"
    },
    {
      "cell_type": "code",
      "execution_count": 4,
      "id": "ccd39884",
      "metadata": {
        "id": "ccd39884",
        "outputId": "0e97fed3-f4f2-47c9-daa0-a1a67c30ecfe",
        "colab": {
          "base_uri": "https://localhost:8080/"
        }
      },
      "outputs": [
        {
          "output_type": "stream",
          "name": "stdout",
          "text": [
            "[19, 9, 2, 19, 8, 7, 17, 2, 13, 6]\n",
            "La media es 10.2\n"
          ]
        }
      ],
      "source": [
        "from random import randint\n",
        "from statistics import mean\n",
        "\n",
        "def generaLista():\n",
        "    lista = []\n",
        "    for i in range(10):\n",
        "        lista.append(randint(1, 20))\n",
        "    return lista\n",
        "\n",
        "lista = generaLista()\n",
        "print(lista)\n",
        "print(\"La media es\", mean(lista))"
      ]
    },
    {
      "cell_type": "markdown",
      "source": [
        "## Solución método 5\n",
        "Lista de aleatorios **sin repetición** utilizando `sample` de la librería `random`."
      ],
      "metadata": {
        "id": "7he_5sOQndSA"
      },
      "id": "7he_5sOQndSA"
    },
    {
      "cell_type": "code",
      "source": [
        "from random import sample\n",
        "\n",
        "l = sample(range(1, 21), 10)\n",
        "print(sorted(l))\n",
        "print(f\"Media: {sum(l)/len(l)}\")"
      ],
      "metadata": {
        "id": "IbtmffQchGhu",
        "outputId": "62ead2b1-23c9-4883-977c-b0e437a0d24d",
        "colab": {
          "base_uri": "https://localhost:8080/"
        }
      },
      "id": "IbtmffQchGhu",
      "execution_count": 5,
      "outputs": [
        {
          "output_type": "stream",
          "name": "stdout",
          "text": [
            "[2, 4, 5, 6, 7, 11, 14, 15, 19, 20]\n",
            "Media: 10.3\n"
          ]
        }
      ]
    },
    {
      "cell_type": "markdown",
      "source": [
        "## Solución método 6\n",
        "* Se crea una lista de números del 1 al 20 y se mezcla utilizando la función `shuffle` del módulo `random`.\n",
        "* Luego, se seleccionan los primeros 10 elementos de la lista mezclada para obtener una lista de 10 números aleatorios **sin repetición**.\n",
        "* Finalmente, se calcula la media de los números generados."
      ],
      "metadata": {
        "id": "KXQsIYnsL9lO"
      },
      "id": "KXQsIYnsL9lO"
    },
    {
      "cell_type": "code",
      "source": [
        "import random\n",
        "\n",
        "numeros = list(range(1, 21))\n",
        "random.shuffle(numeros)\n",
        "numeros_generados = numeros[:10]\n",
        "media = sum(numeros_generados) / len(numeros_generados)\n",
        "\n",
        "print(\"Números generados:\", numeros_generados)\n",
        "print(\"Media:\", media)"
      ],
      "metadata": {
        "id": "UJEvxdoGMPsT",
        "outputId": "63500fe0-f2f2-42ae-d9a7-cb4a157f8a58",
        "colab": {
          "base_uri": "https://localhost:8080/"
        }
      },
      "id": "UJEvxdoGMPsT",
      "execution_count": 9,
      "outputs": [
        {
          "output_type": "stream",
          "name": "stdout",
          "text": [
            "Números generados: [15, 13, 11, 12, 4, 9, 6, 1, 7, 2]\n",
            "Media: 8.0\n"
          ]
        }
      ]
    },
    {
      "cell_type": "markdown",
      "source": [
        "## Solución método 7\n",
        "* Se crea una clase `Generador` que acepta tres parámetros:\n",
        "  - la cantidad de números a generar\n",
        "  - el rango mínimo y\n",
        "  - el rango máximo\n",
        "* La clase tiene el método `generar_numeros_aleatorios` que utiliza un bucle `while` para generar números aleatorios **sin repetición**.\n",
        "* El bucle comprueba si el número aleatorio generado se encuentra ya en la lista y lo añade a la lista solo si no se está.\n",
        "* Luego, se calcula la media de los números generados."
      ],
      "metadata": {
        "id": "IgEWGYyGN9Gp"
      },
      "id": "IgEWGYyGN9Gp"
    },
    {
      "cell_type": "code",
      "source": [
        "import random\n",
        "\n",
        "class Generador:\n",
        "    def __init__(self, cantidad_numeros, rango_minimo, rango_maximo):\n",
        "        self.cantidad_numeros = cantidad_numeros\n",
        "        self.minimo = rango_minimo\n",
        "        self.maximo = rango_maximo\n",
        "\n",
        "    def generar_numeros_aleatorios(self):\n",
        "        numeros_generados = []\n",
        "        while len(numeros_generados) < self.cantidad_numeros:\n",
        "            numero_aleatorio = random.randint(self.minimo, self.maximo)\n",
        "            if numero_aleatorio not in numeros_generados:\n",
        "                numeros_generados.append(numero_aleatorio)\n",
        "        return numeros_generados\n",
        "\n",
        "generador = Generador(10, 1, 20)\n",
        "numeros_generados = generador.generar_numeros_aleatorios()\n",
        "media = sum(numeros_generados) / len(numeros_generados)\n",
        "\n",
        "print(\"Números generados:\", numeros_generados)\n",
        "print(\"Media:\", media)"
      ],
      "metadata": {
        "id": "vG7SlGWIOB9H",
        "outputId": "dd262470-3665-4933-9a0f-b52447f3e486",
        "colab": {
          "base_uri": "https://localhost:8080/"
        }
      },
      "id": "vG7SlGWIOB9H",
      "execution_count": 12,
      "outputs": [
        {
          "output_type": "stream",
          "name": "stdout",
          "text": [
            "Números generados: [2, 16, 12, 13, 6, 11, 9, 1, 19, 20]\n",
            "Media: 10.9\n"
          ]
        }
      ]
    }
  ],
  "metadata": {
    "kernelspec": {
      "display_name": "Python 3",
      "language": "python",
      "name": "python3"
    },
    "language_info": {
      "codemirror_mode": {
        "name": "ipython",
        "version": 3
      },
      "file_extension": ".py",
      "mimetype": "text/x-python",
      "name": "python",
      "nbconvert_exporter": "python",
      "pygments_lexer": "ipython3",
      "version": "3.8.8"
    },
    "colab": {
      "name": "caso1.07.ipynb",
      "provenance": [],
      "include_colab_link": true
    }
  },
  "nbformat": 4,
  "nbformat_minor": 5
}