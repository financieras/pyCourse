{
  "nbformat": 4,
  "nbformat_minor": 0,
  "metadata": {
    "colab": {
      "name": "caso1.02.ipynb",
      "provenance": [],
      "authorship_tag": "ABX9TyPmkMNO8UK0OkbH3L77CwCA",
      "include_colab_link": true
    },
    "kernelspec": {
      "name": "python3",
      "display_name": "Python 3"
    },
    "language_info": {
      "name": "python"
    }
  },
  "cells": [
    {
      "cell_type": "markdown",
      "metadata": {
        "id": "view-in-github",
        "colab_type": "text"
      },
      "source": [
        "<a href=\"https://colab.research.google.com/github/financieras/pyCourse/blob/main/ejemplos/casos1/caso1_02.ipynb\" target=\"_parent\"><img src=\"https://colab.research.google.com/assets/colab-badge.svg\" alt=\"Open In Colab\"/></a>"
      ]
    },
    {
      "cell_type": "markdown",
      "metadata": {
        "id": "9c29ab14"
      },
      "source": [
        "# Reto 1\n",
        "Decir si un número es par o impar.\n"
      ]
    },
    {
      "cell_type": "markdown",
      "metadata": {
        "id": "30d8ec86"
      },
      "source": [
        "## Solución método 1\n",
        "1. El cero se considera par\n",
        "2. Para determinar si un número es par o impar se puede utilizar el operador módulo `%`\n",
        "3. Si el módulo de dividir el número entre 2 es cero quiere decir que la división es exacta y por lo tanto el número es divisible entre 2, se trata de un número par.\n",
        "4. Si al hacer el módulo del número entre 2 el resultado es 1 quiere decir que la división no es exacta y por lo tanto el número es impar."
      ]
    },
    {
      "cell_type": "code",
      "execution_count": 1,
      "metadata": {
        "id": "4a8524fb",
        "outputId": "00964c5c-b488-40d7-b8c0-909d3ca0232d",
        "colab": {
          "base_uri": "https://localhost:8080/"
        }
      },
      "outputs": [
        {
          "output_type": "stream",
          "name": "stdout",
          "text": [
            "Introduce un número: -4\n",
            "-4 es un número par\n"
          ]
        }
      ],
      "source": [
        "numero = int(input(\"Introduce un número: \"))\n",
        "if numero % 2 == 0:\n",
        "    print(numero, \"es un número par\")\n",
        "else:\n",
        "    print(numero, \"es un número impar\")"
      ]
    },
    {
      "cell_type": "markdown",
      "metadata": {
        "id": "833cc369"
      },
      "source": [
        "## Solución método 2\n",
        "* Con este método no necesitamos igualar a nada la condición del `if`.\n",
        "* En informática:\n",
        " - Un `True` es un 1\n",
        " - Un `False` es un 0\n",
        "* El operador lógico `not` convierte un `True` en un `False` y viceversa."
      ]
    },
    {
      "cell_type": "code",
      "execution_count": null,
      "metadata": {
        "id": "8560e69b",
        "outputId": "bce48726-687c-49dd-92ee-14b8c96a65f5",
        "colab": {
          "base_uri": "https://localhost:8080/"
        }
      },
      "outputs": [
        {
          "output_type": "stream",
          "name": "stdout",
          "text": [
            "El número 4 es par.\n"
          ]
        }
      ],
      "source": [
        "n = 4\n",
        "if not(n % 2):                              # No se iguala a nada. False es cero y True es 1\n",
        "    print(f\"El número {n} es par.\")\n",
        "else:\n",
        "    print(f\"El número {n} es impar.\")"
      ]
    },
    {
      "cell_type": "markdown",
      "source": [
        "## Solución método 3\n",
        "* Similar al método anterior\n",
        "* Ahora detectamos si n es impar, ya que:\n",
        " - si n es impar, entonces `n%2` da 1, que equivale a un True\n",
        " - si n es par, sería el otro caso, cuando `n%2` da 0, que equivale a False"
      ],
      "metadata": {
        "id": "pMr3vj4YcOs_"
      }
    },
    {
      "cell_type": "code",
      "source": [
        "n = 7\n",
        "\n",
        "if n % 2:\n",
        "    print(f\"{n} es impar\")\n",
        "else:\n",
        "    print(f\"{n} es par\")"
      ],
      "metadata": {
        "id": "bwIN1WZ0cyf8",
        "outputId": "b3bdc387-a61f-4923-a0f2-f81e64582e07",
        "colab": {
          "base_uri": "https://localhost:8080/"
        }
      },
      "execution_count": null,
      "outputs": [
        {
          "output_type": "stream",
          "name": "stdout",
          "text": [
            "7 es impar\n"
          ]
        }
      ]
    },
    {
      "cell_type": "markdown",
      "source": [
        "## Solución método 4\n",
        "* Se puede hacer un condicional `if` en una sola línea, esto se denomina [operador ternario](https://www.w3schools.com/python/gloss_python_if_else_shorthand.asp)  \n",
        "* `resultado1 if condición else resultado2`"
      ],
      "metadata": {
        "id": "1EalWflyrzHZ"
      }
    },
    {
      "cell_type": "code",
      "source": [
        "n = 5\n",
        "\"impar\" if n%2 else \"par\""
      ],
      "metadata": {
        "id": "E000FN_Esvfp",
        "outputId": "798b0f72-4aeb-4cc7-abb0-2eb7182622d1",
        "colab": {
          "base_uri": "https://localhost:8080/",
          "height": 35
        }
      },
      "execution_count": 2,
      "outputs": [
        {
          "output_type": "execute_result",
          "data": {
            "text/plain": [
              "'impar'"
            ],
            "application/vnd.google.colaboratory.intrinsic+json": {
              "type": "string"
            }
          },
          "metadata": {},
          "execution_count": 2
        }
      ]
    },
    {
      "cell_type": "markdown",
      "metadata": {
        "id": "f1303621"
      },
      "source": [
        "# Reto 2\n",
        "Listar los números entre 9 y 129 en saltos de 15 en 15."
      ]
    },
    {
      "cell_type": "markdown",
      "source": [
        "## Solución Método 1\n",
        "* Con `range` generamos los valores con el salto que nos piden\n",
        "* Luego, convertimos el objeto iterable `range`en una lista utilizando `list`"
      ],
      "metadata": {
        "id": "uSd2S0Fj3wCi"
      }
    },
    {
      "cell_type": "code",
      "execution_count": null,
      "metadata": {
        "id": "d9f20534",
        "outputId": "5599d173-3f32-4a3a-95db-34cf387cf3ce",
        "colab": {
          "base_uri": "https://localhost:8080/"
        }
      },
      "outputs": [
        {
          "output_type": "stream",
          "name": "stdout",
          "text": [
            "range(9, 130, 15)\n"
          ]
        }
      ],
      "source": [
        "print(range(9, 130, 15))           # genera un objeto de tipo range, pero no vemos los números"
      ]
    },
    {
      "cell_type": "code",
      "execution_count": null,
      "metadata": {
        "id": "5aaf8ac6",
        "outputId": "101fac04-4ed5-47d7-d4b2-b9d24542a662",
        "colab": {
          "base_uri": "https://localhost:8080/"
        }
      },
      "outputs": [
        {
          "output_type": "stream",
          "name": "stdout",
          "text": [
            "[9, 24, 39, 54, 69, 84, 99, 114, 129]\n"
          ]
        }
      ],
      "source": [
        "print(list(range(9, 130, 15)))     # con list convertimos el objeto range en una lista"
      ]
    },
    {
      "cell_type": "markdown",
      "metadata": {
        "id": "aa9682e6"
      },
      "source": [
        "## Solución Método 2\n",
        "* Un bucle que recorre los valores que contien la lista generada con `range`y los va imprimiendo  \n",
        "* La variable auxiliar ```i``` recorre todos los elementos de la lista"
      ]
    },
    {
      "cell_type": "code",
      "execution_count": null,
      "metadata": {
        "id": "03399ac4",
        "outputId": "fd736ebd-ac78-4a2b-98f0-c79627f2e3ea",
        "colab": {
          "base_uri": "https://localhost:8080/"
        }
      },
      "outputs": [
        {
          "output_type": "stream",
          "name": "stdout",
          "text": [
            "9 24 39 54 69 84 99 114 129 "
          ]
        }
      ],
      "source": [
        "for i in list(range(9, 130, 15)):\n",
        "    print(i, end=' ')"
      ]
    },
    {
      "cell_type": "markdown",
      "metadata": {
        "id": "bf446f47"
      },
      "source": [
        "## Solución Método 3\n",
        "* Otra forma de listar los números usando `enumerate`.  \n",
        "* Las variables ```i``` y ```v``` representan:  \n",
        "  - ```i``` representa un contador que comienza en cero como los index\n",
        "  - ```v``` representa el valor que en este caso se toma de los valores que toma de `range`"
      ]
    },
    {
      "cell_type": "code",
      "execution_count": null,
      "metadata": {
        "id": "29372cdc",
        "outputId": "12821906-837a-41fd-d37d-21bf368b5c5f",
        "colab": {
          "base_uri": "https://localhost:8080/"
        }
      },
      "outputs": [
        {
          "output_type": "stream",
          "name": "stdout",
          "text": [
            "0 →   9\n",
            "1 →  24\n",
            "2 →  39\n",
            "3 →  54\n",
            "4 →  69\n",
            "5 →  84\n",
            "6 →  99\n",
            "7 → 114\n",
            "8 → 129\n"
          ]
        }
      ],
      "source": [
        "lista = list(range(9, 130, 15))\n",
        "for i, v in enumerate(lista):      # i es el index, v es el valor\n",
        "    print(f\"{i} → {v:3d}\")"
      ]
    },
    {
      "cell_type": "markdown",
      "source": [
        "# Reto 3\n",
        "* Pedir dos números `n1` y `n2`\n",
        "* El primer númeo ha de ser el menor o igual al segundo\n",
        "* Si no se cumple que el segundo número es mayor o igual al primero:\n",
        " - avisar al usuario\n",
        " - seguir pidiendo números hasta que se cumpla la condición n2 >= n1\n",
        "* Dar la diferencia entre ambos"
      ],
      "metadata": {
        "id": "2cUo_T2hdLxH"
      }
    },
    {
      "cell_type": "markdown",
      "source": [
        "## Solución método 1"
      ],
      "metadata": {
        "id": "fqTSx_1QwFaN"
      }
    },
    {
      "cell_type": "code",
      "source": [
        "while True:\n",
        "    print(\"Se pedirán dos números, el segundo debe ser mayor o igual al primero.\")\n",
        "    n1 = float(input(\"Indique el primer número: \"))   # float convierte un string en un número con decimales\n",
        "    n2 = float(input(\"Indique el segundo número: \"))\n",
        "    if n2 >= n1:\n",
        "        print(f\"La diferencia entre {n2} y {n1} es {n2-n1}\")\n",
        "        print(\"Fin del programa\")\n",
        "        break\n",
        "    else:\n",
        "        print(\"El segundo número ha de ser necesariamente mayor o igual al primero.\")\n",
        "        print(\"Por favor, vuelva a intentarlo.\")\n",
        "        print(\"=\"*70)"
      ],
      "metadata": {
        "id": "Tkz81XayduRk",
        "outputId": "f383e7ab-60c8-4abf-b3cd-9c377d18dc4a",
        "colab": {
          "base_uri": "https://localhost:8080/"
        }
      },
      "execution_count": 5,
      "outputs": [
        {
          "output_type": "stream",
          "name": "stdout",
          "text": [
            "Se pedirán dos números, el segundo debe ser mayor o igual al primero.\n",
            "Indique el primer número: 10\n",
            "Indique el segundo número: 7\n",
            "El segundo número ha de ser necesariamente mayor o igual al primero.\n",
            "Por favor, vuelva a intentarlo.\n",
            "======================================================================\n",
            "Se pedirán dos números, el segundo debe ser mayor o igual al primero.\n",
            "Indique el primer número: 7\n",
            "Indique el segundo número: 10\n",
            "La diferencia entre 10.0 y 7.0 es 3.0\n",
            "Fin del programa\n"
          ]
        }
      ]
    },
    {
      "cell_type": "markdown",
      "source": [
        "## Solución método 2"
      ],
      "metadata": {
        "id": "C86LuWkvwNRC"
      }
    },
    {
      "cell_type": "code",
      "source": [
        "while True:\n",
        "    n1 = int(input(\"Introduce el primer número: \"))\n",
        "    n2 = int(input(\"Introduce el segundo número: \"))\n",
        "    if n1 <= n2:\n",
        "        break\n",
        "    else:\n",
        "        print(\"El segundo número debe ser mayor o igual al primero. Inténtalo de nuevo.\")\n",
        "\n",
        "print(\"La diferencia entre\", n1, \"y\", n2, \"es\", n2 - n1)"
      ],
      "metadata": {
        "id": "imnKk5QBwPk7",
        "outputId": "f7170904-4bd5-467b-a0e0-cc14c8673c7d",
        "colab": {
          "base_uri": "https://localhost:8080/"
        }
      },
      "execution_count": 6,
      "outputs": [
        {
          "output_type": "stream",
          "name": "stdout",
          "text": [
            "Introduce el primer número: 10\n",
            "Introduce el segundo número: 7\n",
            "El segundo número debe ser mayor o igual al primero. Inténtalo de nuevo.\n",
            "Introduce el primer número: 7\n",
            "Introduce el segundo número: 10\n",
            "La diferencia entre 7 y 10 es 3\n"
          ]
        }
      ]
    },
    {
      "cell_type": "markdown",
      "source": [
        "## Solución método 3"
      ],
      "metadata": {
        "id": "Ev_XN2PXxkjr"
      }
    },
    {
      "cell_type": "code",
      "source": [
        "n1 = int(input(\"Introduce el primer número: \"))\n",
        "n2 = int(input(\"Introduce el segundo número: \"))\n",
        "\n",
        "while n1 > n2:\n",
        "    print(f\"{n2} no es mayor que {n1}. Introduce dos números diferentes.\")\n",
        "    n1 = int(input(\"Introduce el primer número: \"))\n",
        "    n2 = int(input(\"Introduce el segundo número: \"))\n",
        "\n",
        "print(\"Los números que has introducido son\", n1, \"y\", n2, \" y su diferencia es \", n2-n1)"
      ],
      "metadata": {
        "id": "v8sMJUryxocS",
        "outputId": "8280221f-8d4c-4b00-ade0-df806ca17a13",
        "colab": {
          "base_uri": "https://localhost:8080/"
        }
      },
      "execution_count": 11,
      "outputs": [
        {
          "output_type": "stream",
          "name": "stdout",
          "text": [
            "Introduce el primer número: 10\n",
            "Introduce el segundo número: 7\n",
            "7 no es mayor que 10. Introduce dos números diferentes.\n",
            "Introduce el primer número: 7\n",
            "Introduce el segundo número: 10\n",
            "Los números que has introducido son 7 y 10  y su diferencia es  3\n"
          ]
        }
      ]
    },
    {
      "cell_type": "markdown",
      "source": [
        "# Reto 4\n",
        "Pedir al usuario un número entero y mostrarlo en pantalla."
      ],
      "metadata": {
        "id": "PEI4A6o0aJ2m"
      }
    },
    {
      "cell_type": "code",
      "source": [
        "while True:\n",
        "    try:\n",
        "        n =int(input(\"Indique un número entero: \"))   # int convierte un string en un entero\n",
        "        print(f\"El número introducido ha sido: {n}.\")\n",
        "        print(\"Fin del programa.\")\n",
        "        break\n",
        "    except:\n",
        "        print(\"El valor introducido no es un número entero.\")\n",
        "        print(\"Por favor, vuelva a intentarlo.\")\n",
        "        print(\"=\"*50)\n"
      ],
      "metadata": {
        "id": "7YfCzTI-aZHo"
      },
      "execution_count": null,
      "outputs": []
    }
  ]
}